{
  "nbformat": 4,
  "nbformat_minor": 0,
  "metadata": {
    "colab": {
      "provenance": []
    },
    "kernelspec": {
      "name": "python3",
      "display_name": "Python 3"
    },
    "language_info": {
      "name": "python"
    }
  },
  "cells": [
    {
      "cell_type": "markdown",
      "source": [
        "# 0. Download Dataset"
      ],
      "metadata": {
        "id": "pz8w_CNEKOEv"
      }
    },
    {
      "cell_type": "code",
      "source": [
        "import pandas as pd"
      ],
      "metadata": {
        "id": "4qtkqt2UDEoi"
      },
      "execution_count": 1,
      "outputs": []
    },
    {
      "cell_type": "code",
      "source": [
        "from google.colab import files\n",
        "files.upload()"
      ],
      "metadata": {
        "colab": {
          "base_uri": "https://localhost:8080/",
          "height": 94
        },
        "id": "E3Dczds0XdTl",
        "outputId": "c2b658b1-f7a2-4d86-f1fa-fc730b2b79ca"
      },
      "execution_count": 2,
      "outputs": [
        {
          "output_type": "display_data",
          "data": {
            "text/plain": [
              "<IPython.core.display.HTML object>"
            ],
            "text/html": [
              "\n",
              "     <input type=\"file\" id=\"files-6ebb500c-90f2-47fe-bf24-c8e6fe51b879\" name=\"files[]\" multiple disabled\n",
              "        style=\"border:none\" />\n",
              "     <output id=\"result-6ebb500c-90f2-47fe-bf24-c8e6fe51b879\">\n",
              "      Upload widget is only available when the cell has been executed in the\n",
              "      current browser session. Please rerun this cell to enable.\n",
              "      </output>\n",
              "      <script>// Copyright 2017 Google LLC\n",
              "//\n",
              "// Licensed under the Apache License, Version 2.0 (the \"License\");\n",
              "// you may not use this file except in compliance with the License.\n",
              "// You may obtain a copy of the License at\n",
              "//\n",
              "//      http://www.apache.org/licenses/LICENSE-2.0\n",
              "//\n",
              "// Unless required by applicable law or agreed to in writing, software\n",
              "// distributed under the License is distributed on an \"AS IS\" BASIS,\n",
              "// WITHOUT WARRANTIES OR CONDITIONS OF ANY KIND, either express or implied.\n",
              "// See the License for the specific language governing permissions and\n",
              "// limitations under the License.\n",
              "\n",
              "/**\n",
              " * @fileoverview Helpers for google.colab Python module.\n",
              " */\n",
              "(function(scope) {\n",
              "function span(text, styleAttributes = {}) {\n",
              "  const element = document.createElement('span');\n",
              "  element.textContent = text;\n",
              "  for (const key of Object.keys(styleAttributes)) {\n",
              "    element.style[key] = styleAttributes[key];\n",
              "  }\n",
              "  return element;\n",
              "}\n",
              "\n",
              "// Max number of bytes which will be uploaded at a time.\n",
              "const MAX_PAYLOAD_SIZE = 100 * 1024;\n",
              "\n",
              "function _uploadFiles(inputId, outputId) {\n",
              "  const steps = uploadFilesStep(inputId, outputId);\n",
              "  const outputElement = document.getElementById(outputId);\n",
              "  // Cache steps on the outputElement to make it available for the next call\n",
              "  // to uploadFilesContinue from Python.\n",
              "  outputElement.steps = steps;\n",
              "\n",
              "  return _uploadFilesContinue(outputId);\n",
              "}\n",
              "\n",
              "// This is roughly an async generator (not supported in the browser yet),\n",
              "// where there are multiple asynchronous steps and the Python side is going\n",
              "// to poll for completion of each step.\n",
              "// This uses a Promise to block the python side on completion of each step,\n",
              "// then passes the result of the previous step as the input to the next step.\n",
              "function _uploadFilesContinue(outputId) {\n",
              "  const outputElement = document.getElementById(outputId);\n",
              "  const steps = outputElement.steps;\n",
              "\n",
              "  const next = steps.next(outputElement.lastPromiseValue);\n",
              "  return Promise.resolve(next.value.promise).then((value) => {\n",
              "    // Cache the last promise value to make it available to the next\n",
              "    // step of the generator.\n",
              "    outputElement.lastPromiseValue = value;\n",
              "    return next.value.response;\n",
              "  });\n",
              "}\n",
              "\n",
              "/**\n",
              " * Generator function which is called between each async step of the upload\n",
              " * process.\n",
              " * @param {string} inputId Element ID of the input file picker element.\n",
              " * @param {string} outputId Element ID of the output display.\n",
              " * @return {!Iterable<!Object>} Iterable of next steps.\n",
              " */\n",
              "function* uploadFilesStep(inputId, outputId) {\n",
              "  const inputElement = document.getElementById(inputId);\n",
              "  inputElement.disabled = false;\n",
              "\n",
              "  const outputElement = document.getElementById(outputId);\n",
              "  outputElement.innerHTML = '';\n",
              "\n",
              "  const pickedPromise = new Promise((resolve) => {\n",
              "    inputElement.addEventListener('change', (e) => {\n",
              "      resolve(e.target.files);\n",
              "    });\n",
              "  });\n",
              "\n",
              "  const cancel = document.createElement('button');\n",
              "  inputElement.parentElement.appendChild(cancel);\n",
              "  cancel.textContent = 'Cancel upload';\n",
              "  const cancelPromise = new Promise((resolve) => {\n",
              "    cancel.onclick = () => {\n",
              "      resolve(null);\n",
              "    };\n",
              "  });\n",
              "\n",
              "  // Wait for the user to pick the files.\n",
              "  const files = yield {\n",
              "    promise: Promise.race([pickedPromise, cancelPromise]),\n",
              "    response: {\n",
              "      action: 'starting',\n",
              "    }\n",
              "  };\n",
              "\n",
              "  cancel.remove();\n",
              "\n",
              "  // Disable the input element since further picks are not allowed.\n",
              "  inputElement.disabled = true;\n",
              "\n",
              "  if (!files) {\n",
              "    return {\n",
              "      response: {\n",
              "        action: 'complete',\n",
              "      }\n",
              "    };\n",
              "  }\n",
              "\n",
              "  for (const file of files) {\n",
              "    const li = document.createElement('li');\n",
              "    li.append(span(file.name, {fontWeight: 'bold'}));\n",
              "    li.append(span(\n",
              "        `(${file.type || 'n/a'}) - ${file.size} bytes, ` +\n",
              "        `last modified: ${\n",
              "            file.lastModifiedDate ? file.lastModifiedDate.toLocaleDateString() :\n",
              "                                    'n/a'} - `));\n",
              "    const percent = span('0% done');\n",
              "    li.appendChild(percent);\n",
              "\n",
              "    outputElement.appendChild(li);\n",
              "\n",
              "    const fileDataPromise = new Promise((resolve) => {\n",
              "      const reader = new FileReader();\n",
              "      reader.onload = (e) => {\n",
              "        resolve(e.target.result);\n",
              "      };\n",
              "      reader.readAsArrayBuffer(file);\n",
              "    });\n",
              "    // Wait for the data to be ready.\n",
              "    let fileData = yield {\n",
              "      promise: fileDataPromise,\n",
              "      response: {\n",
              "        action: 'continue',\n",
              "      }\n",
              "    };\n",
              "\n",
              "    // Use a chunked sending to avoid message size limits. See b/62115660.\n",
              "    let position = 0;\n",
              "    do {\n",
              "      const length = Math.min(fileData.byteLength - position, MAX_PAYLOAD_SIZE);\n",
              "      const chunk = new Uint8Array(fileData, position, length);\n",
              "      position += length;\n",
              "\n",
              "      const base64 = btoa(String.fromCharCode.apply(null, chunk));\n",
              "      yield {\n",
              "        response: {\n",
              "          action: 'append',\n",
              "          file: file.name,\n",
              "          data: base64,\n",
              "        },\n",
              "      };\n",
              "\n",
              "      let percentDone = fileData.byteLength === 0 ?\n",
              "          100 :\n",
              "          Math.round((position / fileData.byteLength) * 100);\n",
              "      percent.textContent = `${percentDone}% done`;\n",
              "\n",
              "    } while (position < fileData.byteLength);\n",
              "  }\n",
              "\n",
              "  // All done.\n",
              "  yield {\n",
              "    response: {\n",
              "      action: 'complete',\n",
              "    }\n",
              "  };\n",
              "}\n",
              "\n",
              "scope.google = scope.google || {};\n",
              "scope.google.colab = scope.google.colab || {};\n",
              "scope.google.colab._files = {\n",
              "  _uploadFiles,\n",
              "  _uploadFilesContinue,\n",
              "};\n",
              "})(self);\n",
              "</script> "
            ]
          },
          "metadata": {}
        },
        {
          "output_type": "stream",
          "name": "stdout",
          "text": [
            "Saving kaggle.json to kaggle.json\n"
          ]
        },
        {
          "output_type": "execute_result",
          "data": {
            "text/plain": [
              "{'kaggle.json': b'{\"username\":\"braveseokyung\",\"key\":\"ef9e9f7c74e2a8337292d50296609c45\"}'}"
            ]
          },
          "metadata": {},
          "execution_count": 2
        }
      ]
    },
    {
      "cell_type": "code",
      "source": [
        "!mkdir -p ~/.kaggle\n",
        "!cp kaggle.json ~/.kaggle\n",
        "\n",
        "#Warning: Your Kaggle API key is readable by other users on this system! To fix this, you can run 'chmod 600 /root/.kaggle/kaggle.json'\n",
        "!chmod 600 /root/.kaggle/kaggle.json"
      ],
      "metadata": {
        "id": "tk560A05YIct"
      },
      "execution_count": 3,
      "outputs": []
    },
    {
      "cell_type": "code",
      "source": [
        "!kaggle competitions download -c titanic"
      ],
      "metadata": {
        "colab": {
          "base_uri": "https://localhost:8080/"
        },
        "id": "D0JuN-_gYeQ8",
        "outputId": "5b5a7946-6eaa-4351-a0ad-f796afc3bf2f"
      },
      "execution_count": 4,
      "outputs": [
        {
          "output_type": "stream",
          "name": "stdout",
          "text": [
            "Downloading titanic.zip to /content\n",
            "\r  0% 0.00/34.1k [00:00<?, ?B/s]\n",
            "\r100% 34.1k/34.1k [00:00<00:00, 17.4MB/s]\n"
          ]
        }
      ]
    },
    {
      "cell_type": "code",
      "source": [
        "!unzip titanic.zip"
      ],
      "metadata": {
        "colab": {
          "base_uri": "https://localhost:8080/"
        },
        "id": "BBvhsgk0UPXx",
        "outputId": "fd94ac51-09b2-47dd-e146-96c58185faf1"
      },
      "execution_count": 5,
      "outputs": [
        {
          "output_type": "stream",
          "name": "stdout",
          "text": [
            "Archive:  titanic.zip\n",
            "  inflating: gender_submission.csv   \n",
            "  inflating: test.csv                \n",
            "  inflating: train.csv               \n"
          ]
        }
      ]
    },
    {
      "cell_type": "markdown",
      "source": [
        "# 1.EDA"
      ],
      "metadata": {
        "id": "zARyuVwOtY1J"
      }
    },
    {
      "cell_type": "markdown",
      "source": [
        "## 1.1. 변수\n",
        "\n",
        "* target variable (categorical)   \n",
        "```survival```\tSurvival\t0 = No, 1 = Yes\n",
        "\n",
        "* explanatory variables   \n",
        "```passengerId```   \n",
        "```pclass```\tTicket class\t1 = 1st, 2 = 2nd, 3 = 3rd   \n",
        "```sex```\tSex\t\n",
        "```Age```\tAge in years\t\n",
        "```sibsp```\t# of siblings / spouses aboard the Titanic\t\n",
        "```parch```\t# of parents / children aboard the Titanic\t\n",
        "```ticket```\tTicket number\t\n",
        "```fare```\tPassenger fare\t\n",
        "```cabin```\tCabin number\t\n",
        "```embarked```\tPort of Embarkation\tC = Cherbourg, Q = Queenstown, S = Southampton\n",
        "\n",
        "\n",
        "\n"
      ],
      "metadata": {
        "id": "-GllvuhNDgPG"
      }
    },
    {
      "cell_type": "code",
      "source": [
        "data_train=pd.read_csv('train.csv')\n",
        "data_test=pd.read_csv('test.csv')"
      ],
      "metadata": {
        "id": "l38LGclrC_-_"
      },
      "execution_count": 6,
      "outputs": []
    },
    {
      "cell_type": "code",
      "source": [
        "data_train"
      ],
      "metadata": {
        "colab": {
          "base_uri": "https://localhost:8080/",
          "height": 467
        },
        "id": "KNmivkaHDcro",
        "outputId": "4d3dd5c6-c25a-4719-d5be-d33f9dc9caac"
      },
      "execution_count": 7,
      "outputs": [
        {
          "output_type": "execute_result",
          "data": {
            "text/plain": [
              "     PassengerId  Survived  Pclass  \\\n",
              "0              1         0       3   \n",
              "1              2         1       1   \n",
              "2              3         1       3   \n",
              "3              4         1       1   \n",
              "4              5         0       3   \n",
              "..           ...       ...     ...   \n",
              "886          887         0       2   \n",
              "887          888         1       1   \n",
              "888          889         0       3   \n",
              "889          890         1       1   \n",
              "890          891         0       3   \n",
              "\n",
              "                                                  Name     Sex   Age  SibSp  \\\n",
              "0                              Braund, Mr. Owen Harris    male  22.0      1   \n",
              "1    Cumings, Mrs. John Bradley (Florence Briggs Th...  female  38.0      1   \n",
              "2                               Heikkinen, Miss. Laina  female  26.0      0   \n",
              "3         Futrelle, Mrs. Jacques Heath (Lily May Peel)  female  35.0      1   \n",
              "4                             Allen, Mr. William Henry    male  35.0      0   \n",
              "..                                                 ...     ...   ...    ...   \n",
              "886                              Montvila, Rev. Juozas    male  27.0      0   \n",
              "887                       Graham, Miss. Margaret Edith  female  19.0      0   \n",
              "888           Johnston, Miss. Catherine Helen \"Carrie\"  female   NaN      1   \n",
              "889                              Behr, Mr. Karl Howell    male  26.0      0   \n",
              "890                                Dooley, Mr. Patrick    male  32.0      0   \n",
              "\n",
              "     Parch            Ticket     Fare Cabin Embarked  \n",
              "0        0         A/5 21171   7.2500   NaN        S  \n",
              "1        0          PC 17599  71.2833   C85        C  \n",
              "2        0  STON/O2. 3101282   7.9250   NaN        S  \n",
              "3        0            113803  53.1000  C123        S  \n",
              "4        0            373450   8.0500   NaN        S  \n",
              "..     ...               ...      ...   ...      ...  \n",
              "886      0            211536  13.0000   NaN        S  \n",
              "887      0            112053  30.0000   B42        S  \n",
              "888      2        W./C. 6607  23.4500   NaN        S  \n",
              "889      0            111369  30.0000  C148        C  \n",
              "890      0            370376   7.7500   NaN        Q  \n",
              "\n",
              "[891 rows x 12 columns]"
            ],
            "text/html": [
              "\n",
              "  <div id=\"df-d3dee14c-d925-4ef7-a6f0-98d08b85601f\">\n",
              "    <div class=\"colab-df-container\">\n",
              "      <div>\n",
              "<style scoped>\n",
              "    .dataframe tbody tr th:only-of-type {\n",
              "        vertical-align: middle;\n",
              "    }\n",
              "\n",
              "    .dataframe tbody tr th {\n",
              "        vertical-align: top;\n",
              "    }\n",
              "\n",
              "    .dataframe thead th {\n",
              "        text-align: right;\n",
              "    }\n",
              "</style>\n",
              "<table border=\"1\" class=\"dataframe\">\n",
              "  <thead>\n",
              "    <tr style=\"text-align: right;\">\n",
              "      <th></th>\n",
              "      <th>PassengerId</th>\n",
              "      <th>Survived</th>\n",
              "      <th>Pclass</th>\n",
              "      <th>Name</th>\n",
              "      <th>Sex</th>\n",
              "      <th>Age</th>\n",
              "      <th>SibSp</th>\n",
              "      <th>Parch</th>\n",
              "      <th>Ticket</th>\n",
              "      <th>Fare</th>\n",
              "      <th>Cabin</th>\n",
              "      <th>Embarked</th>\n",
              "    </tr>\n",
              "  </thead>\n",
              "  <tbody>\n",
              "    <tr>\n",
              "      <th>0</th>\n",
              "      <td>1</td>\n",
              "      <td>0</td>\n",
              "      <td>3</td>\n",
              "      <td>Braund, Mr. Owen Harris</td>\n",
              "      <td>male</td>\n",
              "      <td>22.0</td>\n",
              "      <td>1</td>\n",
              "      <td>0</td>\n",
              "      <td>A/5 21171</td>\n",
              "      <td>7.2500</td>\n",
              "      <td>NaN</td>\n",
              "      <td>S</td>\n",
              "    </tr>\n",
              "    <tr>\n",
              "      <th>1</th>\n",
              "      <td>2</td>\n",
              "      <td>1</td>\n",
              "      <td>1</td>\n",
              "      <td>Cumings, Mrs. John Bradley (Florence Briggs Th...</td>\n",
              "      <td>female</td>\n",
              "      <td>38.0</td>\n",
              "      <td>1</td>\n",
              "      <td>0</td>\n",
              "      <td>PC 17599</td>\n",
              "      <td>71.2833</td>\n",
              "      <td>C85</td>\n",
              "      <td>C</td>\n",
              "    </tr>\n",
              "    <tr>\n",
              "      <th>2</th>\n",
              "      <td>3</td>\n",
              "      <td>1</td>\n",
              "      <td>3</td>\n",
              "      <td>Heikkinen, Miss. Laina</td>\n",
              "      <td>female</td>\n",
              "      <td>26.0</td>\n",
              "      <td>0</td>\n",
              "      <td>0</td>\n",
              "      <td>STON/O2. 3101282</td>\n",
              "      <td>7.9250</td>\n",
              "      <td>NaN</td>\n",
              "      <td>S</td>\n",
              "    </tr>\n",
              "    <tr>\n",
              "      <th>3</th>\n",
              "      <td>4</td>\n",
              "      <td>1</td>\n",
              "      <td>1</td>\n",
              "      <td>Futrelle, Mrs. Jacques Heath (Lily May Peel)</td>\n",
              "      <td>female</td>\n",
              "      <td>35.0</td>\n",
              "      <td>1</td>\n",
              "      <td>0</td>\n",
              "      <td>113803</td>\n",
              "      <td>53.1000</td>\n",
              "      <td>C123</td>\n",
              "      <td>S</td>\n",
              "    </tr>\n",
              "    <tr>\n",
              "      <th>4</th>\n",
              "      <td>5</td>\n",
              "      <td>0</td>\n",
              "      <td>3</td>\n",
              "      <td>Allen, Mr. William Henry</td>\n",
              "      <td>male</td>\n",
              "      <td>35.0</td>\n",
              "      <td>0</td>\n",
              "      <td>0</td>\n",
              "      <td>373450</td>\n",
              "      <td>8.0500</td>\n",
              "      <td>NaN</td>\n",
              "      <td>S</td>\n",
              "    </tr>\n",
              "    <tr>\n",
              "      <th>...</th>\n",
              "      <td>...</td>\n",
              "      <td>...</td>\n",
              "      <td>...</td>\n",
              "      <td>...</td>\n",
              "      <td>...</td>\n",
              "      <td>...</td>\n",
              "      <td>...</td>\n",
              "      <td>...</td>\n",
              "      <td>...</td>\n",
              "      <td>...</td>\n",
              "      <td>...</td>\n",
              "      <td>...</td>\n",
              "    </tr>\n",
              "    <tr>\n",
              "      <th>886</th>\n",
              "      <td>887</td>\n",
              "      <td>0</td>\n",
              "      <td>2</td>\n",
              "      <td>Montvila, Rev. Juozas</td>\n",
              "      <td>male</td>\n",
              "      <td>27.0</td>\n",
              "      <td>0</td>\n",
              "      <td>0</td>\n",
              "      <td>211536</td>\n",
              "      <td>13.0000</td>\n",
              "      <td>NaN</td>\n",
              "      <td>S</td>\n",
              "    </tr>\n",
              "    <tr>\n",
              "      <th>887</th>\n",
              "      <td>888</td>\n",
              "      <td>1</td>\n",
              "      <td>1</td>\n",
              "      <td>Graham, Miss. Margaret Edith</td>\n",
              "      <td>female</td>\n",
              "      <td>19.0</td>\n",
              "      <td>0</td>\n",
              "      <td>0</td>\n",
              "      <td>112053</td>\n",
              "      <td>30.0000</td>\n",
              "      <td>B42</td>\n",
              "      <td>S</td>\n",
              "    </tr>\n",
              "    <tr>\n",
              "      <th>888</th>\n",
              "      <td>889</td>\n",
              "      <td>0</td>\n",
              "      <td>3</td>\n",
              "      <td>Johnston, Miss. Catherine Helen \"Carrie\"</td>\n",
              "      <td>female</td>\n",
              "      <td>NaN</td>\n",
              "      <td>1</td>\n",
              "      <td>2</td>\n",
              "      <td>W./C. 6607</td>\n",
              "      <td>23.4500</td>\n",
              "      <td>NaN</td>\n",
              "      <td>S</td>\n",
              "    </tr>\n",
              "    <tr>\n",
              "      <th>889</th>\n",
              "      <td>890</td>\n",
              "      <td>1</td>\n",
              "      <td>1</td>\n",
              "      <td>Behr, Mr. Karl Howell</td>\n",
              "      <td>male</td>\n",
              "      <td>26.0</td>\n",
              "      <td>0</td>\n",
              "      <td>0</td>\n",
              "      <td>111369</td>\n",
              "      <td>30.0000</td>\n",
              "      <td>C148</td>\n",
              "      <td>C</td>\n",
              "    </tr>\n",
              "    <tr>\n",
              "      <th>890</th>\n",
              "      <td>891</td>\n",
              "      <td>0</td>\n",
              "      <td>3</td>\n",
              "      <td>Dooley, Mr. Patrick</td>\n",
              "      <td>male</td>\n",
              "      <td>32.0</td>\n",
              "      <td>0</td>\n",
              "      <td>0</td>\n",
              "      <td>370376</td>\n",
              "      <td>7.7500</td>\n",
              "      <td>NaN</td>\n",
              "      <td>Q</td>\n",
              "    </tr>\n",
              "  </tbody>\n",
              "</table>\n",
              "<p>891 rows × 12 columns</p>\n",
              "</div>\n",
              "      <button class=\"colab-df-convert\" onclick=\"convertToInteractive('df-d3dee14c-d925-4ef7-a6f0-98d08b85601f')\"\n",
              "              title=\"Convert this dataframe to an interactive table.\"\n",
              "              style=\"display:none;\">\n",
              "        \n",
              "  <svg xmlns=\"http://www.w3.org/2000/svg\" height=\"24px\"viewBox=\"0 0 24 24\"\n",
              "       width=\"24px\">\n",
              "    <path d=\"M0 0h24v24H0V0z\" fill=\"none\"/>\n",
              "    <path d=\"M18.56 5.44l.94 2.06.94-2.06 2.06-.94-2.06-.94-.94-2.06-.94 2.06-2.06.94zm-11 1L8.5 8.5l.94-2.06 2.06-.94-2.06-.94L8.5 2.5l-.94 2.06-2.06.94zm10 10l.94 2.06.94-2.06 2.06-.94-2.06-.94-.94-2.06-.94 2.06-2.06.94z\"/><path d=\"M17.41 7.96l-1.37-1.37c-.4-.4-.92-.59-1.43-.59-.52 0-1.04.2-1.43.59L10.3 9.45l-7.72 7.72c-.78.78-.78 2.05 0 2.83L4 21.41c.39.39.9.59 1.41.59.51 0 1.02-.2 1.41-.59l7.78-7.78 2.81-2.81c.8-.78.8-2.07 0-2.86zM5.41 20L4 18.59l7.72-7.72 1.47 1.35L5.41 20z\"/>\n",
              "  </svg>\n",
              "      </button>\n",
              "      \n",
              "  <style>\n",
              "    .colab-df-container {\n",
              "      display:flex;\n",
              "      flex-wrap:wrap;\n",
              "      gap: 12px;\n",
              "    }\n",
              "\n",
              "    .colab-df-convert {\n",
              "      background-color: #E8F0FE;\n",
              "      border: none;\n",
              "      border-radius: 50%;\n",
              "      cursor: pointer;\n",
              "      display: none;\n",
              "      fill: #1967D2;\n",
              "      height: 32px;\n",
              "      padding: 0 0 0 0;\n",
              "      width: 32px;\n",
              "    }\n",
              "\n",
              "    .colab-df-convert:hover {\n",
              "      background-color: #E2EBFA;\n",
              "      box-shadow: 0px 1px 2px rgba(60, 64, 67, 0.3), 0px 1px 3px 1px rgba(60, 64, 67, 0.15);\n",
              "      fill: #174EA6;\n",
              "    }\n",
              "\n",
              "    [theme=dark] .colab-df-convert {\n",
              "      background-color: #3B4455;\n",
              "      fill: #D2E3FC;\n",
              "    }\n",
              "\n",
              "    [theme=dark] .colab-df-convert:hover {\n",
              "      background-color: #434B5C;\n",
              "      box-shadow: 0px 1px 3px 1px rgba(0, 0, 0, 0.15);\n",
              "      filter: drop-shadow(0px 1px 2px rgba(0, 0, 0, 0.3));\n",
              "      fill: #FFFFFF;\n",
              "    }\n",
              "  </style>\n",
              "\n",
              "      <script>\n",
              "        const buttonEl =\n",
              "          document.querySelector('#df-d3dee14c-d925-4ef7-a6f0-98d08b85601f button.colab-df-convert');\n",
              "        buttonEl.style.display =\n",
              "          google.colab.kernel.accessAllowed ? 'block' : 'none';\n",
              "\n",
              "        async function convertToInteractive(key) {\n",
              "          const element = document.querySelector('#df-d3dee14c-d925-4ef7-a6f0-98d08b85601f');\n",
              "          const dataTable =\n",
              "            await google.colab.kernel.invokeFunction('convertToInteractive',\n",
              "                                                     [key], {});\n",
              "          if (!dataTable) return;\n",
              "\n",
              "          const docLinkHtml = 'Like what you see? Visit the ' +\n",
              "            '<a target=\"_blank\" href=https://colab.research.google.com/notebooks/data_table.ipynb>data table notebook</a>'\n",
              "            + ' to learn more about interactive tables.';\n",
              "          element.innerHTML = '';\n",
              "          dataTable['output_type'] = 'display_data';\n",
              "          await google.colab.output.renderOutput(dataTable, element);\n",
              "          const docLink = document.createElement('div');\n",
              "          docLink.innerHTML = docLinkHtml;\n",
              "          element.appendChild(docLink);\n",
              "        }\n",
              "      </script>\n",
              "    </div>\n",
              "  </div>\n",
              "  "
            ]
          },
          "metadata": {},
          "execution_count": 7
        }
      ]
    },
    {
      "cell_type": "code",
      "source": [
        "data_train.info() # 결측치 'Age', 'Cabin', 'Embarked'"
      ],
      "metadata": {
        "colab": {
          "base_uri": "https://localhost:8080/"
        },
        "id": "1N7A9_VKFfCQ",
        "outputId": "1541e6be-3ee4-4dc8-85f8-6c19cd8ec43b"
      },
      "execution_count": 8,
      "outputs": [
        {
          "output_type": "stream",
          "name": "stdout",
          "text": [
            "<class 'pandas.core.frame.DataFrame'>\n",
            "RangeIndex: 891 entries, 0 to 890\n",
            "Data columns (total 12 columns):\n",
            " #   Column       Non-Null Count  Dtype  \n",
            "---  ------       --------------  -----  \n",
            " 0   PassengerId  891 non-null    int64  \n",
            " 1   Survived     891 non-null    int64  \n",
            " 2   Pclass       891 non-null    int64  \n",
            " 3   Name         891 non-null    object \n",
            " 4   Sex          891 non-null    object \n",
            " 5   Age          714 non-null    float64\n",
            " 6   SibSp        891 non-null    int64  \n",
            " 7   Parch        891 non-null    int64  \n",
            " 8   Ticket       891 non-null    object \n",
            " 9   Fare         891 non-null    float64\n",
            " 10  Cabin        204 non-null    object \n",
            " 11  Embarked     889 non-null    object \n",
            "dtypes: float64(2), int64(5), object(5)\n",
            "memory usage: 83.7+ KB\n"
          ]
        }
      ]
    },
    {
      "cell_type": "code",
      "source": [
        "data_train.describe()"
      ],
      "metadata": {
        "colab": {
          "base_uri": "https://localhost:8080/",
          "height": 300
        },
        "id": "O7T1syOqFyv_",
        "outputId": "1f763b85-845a-4ff9-d7d8-799b2d5b9b56"
      },
      "execution_count": 9,
      "outputs": [
        {
          "output_type": "execute_result",
          "data": {
            "text/plain": [
              "       PassengerId    Survived      Pclass         Age       SibSp  \\\n",
              "count   891.000000  891.000000  891.000000  714.000000  891.000000   \n",
              "mean    446.000000    0.383838    2.308642   29.699118    0.523008   \n",
              "std     257.353842    0.486592    0.836071   14.526497    1.102743   \n",
              "min       1.000000    0.000000    1.000000    0.420000    0.000000   \n",
              "25%     223.500000    0.000000    2.000000   20.125000    0.000000   \n",
              "50%     446.000000    0.000000    3.000000   28.000000    0.000000   \n",
              "75%     668.500000    1.000000    3.000000   38.000000    1.000000   \n",
              "max     891.000000    1.000000    3.000000   80.000000    8.000000   \n",
              "\n",
              "            Parch        Fare  \n",
              "count  891.000000  891.000000  \n",
              "mean     0.381594   32.204208  \n",
              "std      0.806057   49.693429  \n",
              "min      0.000000    0.000000  \n",
              "25%      0.000000    7.910400  \n",
              "50%      0.000000   14.454200  \n",
              "75%      0.000000   31.000000  \n",
              "max      6.000000  512.329200  "
            ],
            "text/html": [
              "\n",
              "  <div id=\"df-3355212e-a456-49c4-9d40-718b3b56b28b\">\n",
              "    <div class=\"colab-df-container\">\n",
              "      <div>\n",
              "<style scoped>\n",
              "    .dataframe tbody tr th:only-of-type {\n",
              "        vertical-align: middle;\n",
              "    }\n",
              "\n",
              "    .dataframe tbody tr th {\n",
              "        vertical-align: top;\n",
              "    }\n",
              "\n",
              "    .dataframe thead th {\n",
              "        text-align: right;\n",
              "    }\n",
              "</style>\n",
              "<table border=\"1\" class=\"dataframe\">\n",
              "  <thead>\n",
              "    <tr style=\"text-align: right;\">\n",
              "      <th></th>\n",
              "      <th>PassengerId</th>\n",
              "      <th>Survived</th>\n",
              "      <th>Pclass</th>\n",
              "      <th>Age</th>\n",
              "      <th>SibSp</th>\n",
              "      <th>Parch</th>\n",
              "      <th>Fare</th>\n",
              "    </tr>\n",
              "  </thead>\n",
              "  <tbody>\n",
              "    <tr>\n",
              "      <th>count</th>\n",
              "      <td>891.000000</td>\n",
              "      <td>891.000000</td>\n",
              "      <td>891.000000</td>\n",
              "      <td>714.000000</td>\n",
              "      <td>891.000000</td>\n",
              "      <td>891.000000</td>\n",
              "      <td>891.000000</td>\n",
              "    </tr>\n",
              "    <tr>\n",
              "      <th>mean</th>\n",
              "      <td>446.000000</td>\n",
              "      <td>0.383838</td>\n",
              "      <td>2.308642</td>\n",
              "      <td>29.699118</td>\n",
              "      <td>0.523008</td>\n",
              "      <td>0.381594</td>\n",
              "      <td>32.204208</td>\n",
              "    </tr>\n",
              "    <tr>\n",
              "      <th>std</th>\n",
              "      <td>257.353842</td>\n",
              "      <td>0.486592</td>\n",
              "      <td>0.836071</td>\n",
              "      <td>14.526497</td>\n",
              "      <td>1.102743</td>\n",
              "      <td>0.806057</td>\n",
              "      <td>49.693429</td>\n",
              "    </tr>\n",
              "    <tr>\n",
              "      <th>min</th>\n",
              "      <td>1.000000</td>\n",
              "      <td>0.000000</td>\n",
              "      <td>1.000000</td>\n",
              "      <td>0.420000</td>\n",
              "      <td>0.000000</td>\n",
              "      <td>0.000000</td>\n",
              "      <td>0.000000</td>\n",
              "    </tr>\n",
              "    <tr>\n",
              "      <th>25%</th>\n",
              "      <td>223.500000</td>\n",
              "      <td>0.000000</td>\n",
              "      <td>2.000000</td>\n",
              "      <td>20.125000</td>\n",
              "      <td>0.000000</td>\n",
              "      <td>0.000000</td>\n",
              "      <td>7.910400</td>\n",
              "    </tr>\n",
              "    <tr>\n",
              "      <th>50%</th>\n",
              "      <td>446.000000</td>\n",
              "      <td>0.000000</td>\n",
              "      <td>3.000000</td>\n",
              "      <td>28.000000</td>\n",
              "      <td>0.000000</td>\n",
              "      <td>0.000000</td>\n",
              "      <td>14.454200</td>\n",
              "    </tr>\n",
              "    <tr>\n",
              "      <th>75%</th>\n",
              "      <td>668.500000</td>\n",
              "      <td>1.000000</td>\n",
              "      <td>3.000000</td>\n",
              "      <td>38.000000</td>\n",
              "      <td>1.000000</td>\n",
              "      <td>0.000000</td>\n",
              "      <td>31.000000</td>\n",
              "    </tr>\n",
              "    <tr>\n",
              "      <th>max</th>\n",
              "      <td>891.000000</td>\n",
              "      <td>1.000000</td>\n",
              "      <td>3.000000</td>\n",
              "      <td>80.000000</td>\n",
              "      <td>8.000000</td>\n",
              "      <td>6.000000</td>\n",
              "      <td>512.329200</td>\n",
              "    </tr>\n",
              "  </tbody>\n",
              "</table>\n",
              "</div>\n",
              "      <button class=\"colab-df-convert\" onclick=\"convertToInteractive('df-3355212e-a456-49c4-9d40-718b3b56b28b')\"\n",
              "              title=\"Convert this dataframe to an interactive table.\"\n",
              "              style=\"display:none;\">\n",
              "        \n",
              "  <svg xmlns=\"http://www.w3.org/2000/svg\" height=\"24px\"viewBox=\"0 0 24 24\"\n",
              "       width=\"24px\">\n",
              "    <path d=\"M0 0h24v24H0V0z\" fill=\"none\"/>\n",
              "    <path d=\"M18.56 5.44l.94 2.06.94-2.06 2.06-.94-2.06-.94-.94-2.06-.94 2.06-2.06.94zm-11 1L8.5 8.5l.94-2.06 2.06-.94-2.06-.94L8.5 2.5l-.94 2.06-2.06.94zm10 10l.94 2.06.94-2.06 2.06-.94-2.06-.94-.94-2.06-.94 2.06-2.06.94z\"/><path d=\"M17.41 7.96l-1.37-1.37c-.4-.4-.92-.59-1.43-.59-.52 0-1.04.2-1.43.59L10.3 9.45l-7.72 7.72c-.78.78-.78 2.05 0 2.83L4 21.41c.39.39.9.59 1.41.59.51 0 1.02-.2 1.41-.59l7.78-7.78 2.81-2.81c.8-.78.8-2.07 0-2.86zM5.41 20L4 18.59l7.72-7.72 1.47 1.35L5.41 20z\"/>\n",
              "  </svg>\n",
              "      </button>\n",
              "      \n",
              "  <style>\n",
              "    .colab-df-container {\n",
              "      display:flex;\n",
              "      flex-wrap:wrap;\n",
              "      gap: 12px;\n",
              "    }\n",
              "\n",
              "    .colab-df-convert {\n",
              "      background-color: #E8F0FE;\n",
              "      border: none;\n",
              "      border-radius: 50%;\n",
              "      cursor: pointer;\n",
              "      display: none;\n",
              "      fill: #1967D2;\n",
              "      height: 32px;\n",
              "      padding: 0 0 0 0;\n",
              "      width: 32px;\n",
              "    }\n",
              "\n",
              "    .colab-df-convert:hover {\n",
              "      background-color: #E2EBFA;\n",
              "      box-shadow: 0px 1px 2px rgba(60, 64, 67, 0.3), 0px 1px 3px 1px rgba(60, 64, 67, 0.15);\n",
              "      fill: #174EA6;\n",
              "    }\n",
              "\n",
              "    [theme=dark] .colab-df-convert {\n",
              "      background-color: #3B4455;\n",
              "      fill: #D2E3FC;\n",
              "    }\n",
              "\n",
              "    [theme=dark] .colab-df-convert:hover {\n",
              "      background-color: #434B5C;\n",
              "      box-shadow: 0px 1px 3px 1px rgba(0, 0, 0, 0.15);\n",
              "      filter: drop-shadow(0px 1px 2px rgba(0, 0, 0, 0.3));\n",
              "      fill: #FFFFFF;\n",
              "    }\n",
              "  </style>\n",
              "\n",
              "      <script>\n",
              "        const buttonEl =\n",
              "          document.querySelector('#df-3355212e-a456-49c4-9d40-718b3b56b28b button.colab-df-convert');\n",
              "        buttonEl.style.display =\n",
              "          google.colab.kernel.accessAllowed ? 'block' : 'none';\n",
              "\n",
              "        async function convertToInteractive(key) {\n",
              "          const element = document.querySelector('#df-3355212e-a456-49c4-9d40-718b3b56b28b');\n",
              "          const dataTable =\n",
              "            await google.colab.kernel.invokeFunction('convertToInteractive',\n",
              "                                                     [key], {});\n",
              "          if (!dataTable) return;\n",
              "\n",
              "          const docLinkHtml = 'Like what you see? Visit the ' +\n",
              "            '<a target=\"_blank\" href=https://colab.research.google.com/notebooks/data_table.ipynb>data table notebook</a>'\n",
              "            + ' to learn more about interactive tables.';\n",
              "          element.innerHTML = '';\n",
              "          dataTable['output_type'] = 'display_data';\n",
              "          await google.colab.output.renderOutput(dataTable, element);\n",
              "          const docLink = document.createElement('div');\n",
              "          docLink.innerHTML = docLinkHtml;\n",
              "          element.appendChild(docLink);\n",
              "        }\n",
              "      </script>\n",
              "    </div>\n",
              "  </div>\n",
              "  "
            ]
          },
          "metadata": {},
          "execution_count": 9
        }
      ]
    },
    {
      "cell_type": "code",
      "source": [
        "data_train[data_train.duplicated()]"
      ],
      "metadata": {
        "colab": {
          "base_uri": "https://localhost:8080/",
          "height": 49
        },
        "id": "YcTGtxrOHgfp",
        "outputId": "f5756c59-4088-4f6e-8695-2174ac6deabf"
      },
      "execution_count": 10,
      "outputs": [
        {
          "output_type": "execute_result",
          "data": {
            "text/plain": [
              "Empty DataFrame\n",
              "Columns: [PassengerId, Survived, Pclass, Name, Sex, Age, SibSp, Parch, Ticket, Fare, Cabin, Embarked]\n",
              "Index: []"
            ],
            "text/html": [
              "\n",
              "  <div id=\"df-666dae70-d3cb-4d9c-8f3e-80e81f91d17d\">\n",
              "    <div class=\"colab-df-container\">\n",
              "      <div>\n",
              "<style scoped>\n",
              "    .dataframe tbody tr th:only-of-type {\n",
              "        vertical-align: middle;\n",
              "    }\n",
              "\n",
              "    .dataframe tbody tr th {\n",
              "        vertical-align: top;\n",
              "    }\n",
              "\n",
              "    .dataframe thead th {\n",
              "        text-align: right;\n",
              "    }\n",
              "</style>\n",
              "<table border=\"1\" class=\"dataframe\">\n",
              "  <thead>\n",
              "    <tr style=\"text-align: right;\">\n",
              "      <th></th>\n",
              "      <th>PassengerId</th>\n",
              "      <th>Survived</th>\n",
              "      <th>Pclass</th>\n",
              "      <th>Name</th>\n",
              "      <th>Sex</th>\n",
              "      <th>Age</th>\n",
              "      <th>SibSp</th>\n",
              "      <th>Parch</th>\n",
              "      <th>Ticket</th>\n",
              "      <th>Fare</th>\n",
              "      <th>Cabin</th>\n",
              "      <th>Embarked</th>\n",
              "    </tr>\n",
              "  </thead>\n",
              "  <tbody>\n",
              "  </tbody>\n",
              "</table>\n",
              "</div>\n",
              "      <button class=\"colab-df-convert\" onclick=\"convertToInteractive('df-666dae70-d3cb-4d9c-8f3e-80e81f91d17d')\"\n",
              "              title=\"Convert this dataframe to an interactive table.\"\n",
              "              style=\"display:none;\">\n",
              "        \n",
              "  <svg xmlns=\"http://www.w3.org/2000/svg\" height=\"24px\"viewBox=\"0 0 24 24\"\n",
              "       width=\"24px\">\n",
              "    <path d=\"M0 0h24v24H0V0z\" fill=\"none\"/>\n",
              "    <path d=\"M18.56 5.44l.94 2.06.94-2.06 2.06-.94-2.06-.94-.94-2.06-.94 2.06-2.06.94zm-11 1L8.5 8.5l.94-2.06 2.06-.94-2.06-.94L8.5 2.5l-.94 2.06-2.06.94zm10 10l.94 2.06.94-2.06 2.06-.94-2.06-.94-.94-2.06-.94 2.06-2.06.94z\"/><path d=\"M17.41 7.96l-1.37-1.37c-.4-.4-.92-.59-1.43-.59-.52 0-1.04.2-1.43.59L10.3 9.45l-7.72 7.72c-.78.78-.78 2.05 0 2.83L4 21.41c.39.39.9.59 1.41.59.51 0 1.02-.2 1.41-.59l7.78-7.78 2.81-2.81c.8-.78.8-2.07 0-2.86zM5.41 20L4 18.59l7.72-7.72 1.47 1.35L5.41 20z\"/>\n",
              "  </svg>\n",
              "      </button>\n",
              "      \n",
              "  <style>\n",
              "    .colab-df-container {\n",
              "      display:flex;\n",
              "      flex-wrap:wrap;\n",
              "      gap: 12px;\n",
              "    }\n",
              "\n",
              "    .colab-df-convert {\n",
              "      background-color: #E8F0FE;\n",
              "      border: none;\n",
              "      border-radius: 50%;\n",
              "      cursor: pointer;\n",
              "      display: none;\n",
              "      fill: #1967D2;\n",
              "      height: 32px;\n",
              "      padding: 0 0 0 0;\n",
              "      width: 32px;\n",
              "    }\n",
              "\n",
              "    .colab-df-convert:hover {\n",
              "      background-color: #E2EBFA;\n",
              "      box-shadow: 0px 1px 2px rgba(60, 64, 67, 0.3), 0px 1px 3px 1px rgba(60, 64, 67, 0.15);\n",
              "      fill: #174EA6;\n",
              "    }\n",
              "\n",
              "    [theme=dark] .colab-df-convert {\n",
              "      background-color: #3B4455;\n",
              "      fill: #D2E3FC;\n",
              "    }\n",
              "\n",
              "    [theme=dark] .colab-df-convert:hover {\n",
              "      background-color: #434B5C;\n",
              "      box-shadow: 0px 1px 3px 1px rgba(0, 0, 0, 0.15);\n",
              "      filter: drop-shadow(0px 1px 2px rgba(0, 0, 0, 0.3));\n",
              "      fill: #FFFFFF;\n",
              "    }\n",
              "  </style>\n",
              "\n",
              "      <script>\n",
              "        const buttonEl =\n",
              "          document.querySelector('#df-666dae70-d3cb-4d9c-8f3e-80e81f91d17d button.colab-df-convert');\n",
              "        buttonEl.style.display =\n",
              "          google.colab.kernel.accessAllowed ? 'block' : 'none';\n",
              "\n",
              "        async function convertToInteractive(key) {\n",
              "          const element = document.querySelector('#df-666dae70-d3cb-4d9c-8f3e-80e81f91d17d');\n",
              "          const dataTable =\n",
              "            await google.colab.kernel.invokeFunction('convertToInteractive',\n",
              "                                                     [key], {});\n",
              "          if (!dataTable) return;\n",
              "\n",
              "          const docLinkHtml = 'Like what you see? Visit the ' +\n",
              "            '<a target=\"_blank\" href=https://colab.research.google.com/notebooks/data_table.ipynb>data table notebook</a>'\n",
              "            + ' to learn more about interactive tables.';\n",
              "          element.innerHTML = '';\n",
              "          dataTable['output_type'] = 'display_data';\n",
              "          await google.colab.output.renderOutput(dataTable, element);\n",
              "          const docLink = document.createElement('div');\n",
              "          docLink.innerHTML = docLinkHtml;\n",
              "          element.appendChild(docLink);\n",
              "        }\n",
              "      </script>\n",
              "    </div>\n",
              "  </div>\n",
              "  "
            ]
          },
          "metadata": {},
          "execution_count": 10
        }
      ]
    },
    {
      "cell_type": "code",
      "source": [
        "data_train[data_train.duplicated(['Name','Sex','Age'])] # 중복 데이터 없음"
      ],
      "metadata": {
        "colab": {
          "base_uri": "https://localhost:8080/",
          "height": 49
        },
        "id": "bBqwxEjDHmsz",
        "outputId": "f7de8c19-1b42-46e5-c3cf-dd548a92c4ee"
      },
      "execution_count": 11,
      "outputs": [
        {
          "output_type": "execute_result",
          "data": {
            "text/plain": [
              "Empty DataFrame\n",
              "Columns: [PassengerId, Survived, Pclass, Name, Sex, Age, SibSp, Parch, Ticket, Fare, Cabin, Embarked]\n",
              "Index: []"
            ],
            "text/html": [
              "\n",
              "  <div id=\"df-f5ea1201-ef7b-4c2e-8290-395ce8a7744d\">\n",
              "    <div class=\"colab-df-container\">\n",
              "      <div>\n",
              "<style scoped>\n",
              "    .dataframe tbody tr th:only-of-type {\n",
              "        vertical-align: middle;\n",
              "    }\n",
              "\n",
              "    .dataframe tbody tr th {\n",
              "        vertical-align: top;\n",
              "    }\n",
              "\n",
              "    .dataframe thead th {\n",
              "        text-align: right;\n",
              "    }\n",
              "</style>\n",
              "<table border=\"1\" class=\"dataframe\">\n",
              "  <thead>\n",
              "    <tr style=\"text-align: right;\">\n",
              "      <th></th>\n",
              "      <th>PassengerId</th>\n",
              "      <th>Survived</th>\n",
              "      <th>Pclass</th>\n",
              "      <th>Name</th>\n",
              "      <th>Sex</th>\n",
              "      <th>Age</th>\n",
              "      <th>SibSp</th>\n",
              "      <th>Parch</th>\n",
              "      <th>Ticket</th>\n",
              "      <th>Fare</th>\n",
              "      <th>Cabin</th>\n",
              "      <th>Embarked</th>\n",
              "    </tr>\n",
              "  </thead>\n",
              "  <tbody>\n",
              "  </tbody>\n",
              "</table>\n",
              "</div>\n",
              "      <button class=\"colab-df-convert\" onclick=\"convertToInteractive('df-f5ea1201-ef7b-4c2e-8290-395ce8a7744d')\"\n",
              "              title=\"Convert this dataframe to an interactive table.\"\n",
              "              style=\"display:none;\">\n",
              "        \n",
              "  <svg xmlns=\"http://www.w3.org/2000/svg\" height=\"24px\"viewBox=\"0 0 24 24\"\n",
              "       width=\"24px\">\n",
              "    <path d=\"M0 0h24v24H0V0z\" fill=\"none\"/>\n",
              "    <path d=\"M18.56 5.44l.94 2.06.94-2.06 2.06-.94-2.06-.94-.94-2.06-.94 2.06-2.06.94zm-11 1L8.5 8.5l.94-2.06 2.06-.94-2.06-.94L8.5 2.5l-.94 2.06-2.06.94zm10 10l.94 2.06.94-2.06 2.06-.94-2.06-.94-.94-2.06-.94 2.06-2.06.94z\"/><path d=\"M17.41 7.96l-1.37-1.37c-.4-.4-.92-.59-1.43-.59-.52 0-1.04.2-1.43.59L10.3 9.45l-7.72 7.72c-.78.78-.78 2.05 0 2.83L4 21.41c.39.39.9.59 1.41.59.51 0 1.02-.2 1.41-.59l7.78-7.78 2.81-2.81c.8-.78.8-2.07 0-2.86zM5.41 20L4 18.59l7.72-7.72 1.47 1.35L5.41 20z\"/>\n",
              "  </svg>\n",
              "      </button>\n",
              "      \n",
              "  <style>\n",
              "    .colab-df-container {\n",
              "      display:flex;\n",
              "      flex-wrap:wrap;\n",
              "      gap: 12px;\n",
              "    }\n",
              "\n",
              "    .colab-df-convert {\n",
              "      background-color: #E8F0FE;\n",
              "      border: none;\n",
              "      border-radius: 50%;\n",
              "      cursor: pointer;\n",
              "      display: none;\n",
              "      fill: #1967D2;\n",
              "      height: 32px;\n",
              "      padding: 0 0 0 0;\n",
              "      width: 32px;\n",
              "    }\n",
              "\n",
              "    .colab-df-convert:hover {\n",
              "      background-color: #E2EBFA;\n",
              "      box-shadow: 0px 1px 2px rgba(60, 64, 67, 0.3), 0px 1px 3px 1px rgba(60, 64, 67, 0.15);\n",
              "      fill: #174EA6;\n",
              "    }\n",
              "\n",
              "    [theme=dark] .colab-df-convert {\n",
              "      background-color: #3B4455;\n",
              "      fill: #D2E3FC;\n",
              "    }\n",
              "\n",
              "    [theme=dark] .colab-df-convert:hover {\n",
              "      background-color: #434B5C;\n",
              "      box-shadow: 0px 1px 3px 1px rgba(0, 0, 0, 0.15);\n",
              "      filter: drop-shadow(0px 1px 2px rgba(0, 0, 0, 0.3));\n",
              "      fill: #FFFFFF;\n",
              "    }\n",
              "  </style>\n",
              "\n",
              "      <script>\n",
              "        const buttonEl =\n",
              "          document.querySelector('#df-f5ea1201-ef7b-4c2e-8290-395ce8a7744d button.colab-df-convert');\n",
              "        buttonEl.style.display =\n",
              "          google.colab.kernel.accessAllowed ? 'block' : 'none';\n",
              "\n",
              "        async function convertToInteractive(key) {\n",
              "          const element = document.querySelector('#df-f5ea1201-ef7b-4c2e-8290-395ce8a7744d');\n",
              "          const dataTable =\n",
              "            await google.colab.kernel.invokeFunction('convertToInteractive',\n",
              "                                                     [key], {});\n",
              "          if (!dataTable) return;\n",
              "\n",
              "          const docLinkHtml = 'Like what you see? Visit the ' +\n",
              "            '<a target=\"_blank\" href=https://colab.research.google.com/notebooks/data_table.ipynb>data table notebook</a>'\n",
              "            + ' to learn more about interactive tables.';\n",
              "          element.innerHTML = '';\n",
              "          dataTable['output_type'] = 'display_data';\n",
              "          await google.colab.output.renderOutput(dataTable, element);\n",
              "          const docLink = document.createElement('div');\n",
              "          docLink.innerHTML = docLinkHtml;\n",
              "          element.appendChild(docLink);\n",
              "        }\n",
              "      </script>\n",
              "    </div>\n",
              "  </div>\n",
              "  "
            ]
          },
          "metadata": {},
          "execution_count": 11
        }
      ]
    },
    {
      "cell_type": "markdown",
      "source": [
        "## 1.2. 각 변수 EDA"
      ],
      "metadata": {
        "id": "jYRBB9FgMYQw"
      }
    },
    {
      "cell_type": "code",
      "source": [
        "import seaborn as sns #https://www.kaggle.com/code/fourbic/visualizing-the-titanic-data-with-seaborn\n",
        "import matplotlib.pyplot as plt\n",
        "\n",
        "sns.set_style('whitegrid')"
      ],
      "metadata": {
        "id": "aC37-KYANdY6"
      },
      "execution_count": 12,
      "outputs": []
    },
    {
      "cell_type": "code",
      "source": [
        "data_train.columns.unique() # 전체 column 이름 보기"
      ],
      "metadata": {
        "colab": {
          "base_uri": "https://localhost:8080/"
        },
        "id": "MWzMjwE4McF_",
        "outputId": "41c50abd-bf9f-402a-99b2-d9c0db38bd6c"
      },
      "execution_count": 13,
      "outputs": [
        {
          "output_type": "execute_result",
          "data": {
            "text/plain": [
              "Index(['PassengerId', 'Survived', 'Pclass', 'Name', 'Sex', 'Age', 'SibSp',\n",
              "       'Parch', 'Ticket', 'Fare', 'Cabin', 'Embarked'],\n",
              "      dtype='object')"
            ]
          },
          "metadata": {},
          "execution_count": 13
        }
      ]
    },
    {
      "cell_type": "code",
      "source": [
        "# 'Survived' : categorical\n",
        "print(data_train['Survived'].value_counts())\n",
        "data_train['Survived'].value_counts().plot.pie(explode=[0,0.1],autopct='%1.1f%%')\n",
        "plt.show()"
      ],
      "metadata": {
        "colab": {
          "base_uri": "https://localhost:8080/",
          "height": 303
        },
        "id": "30vpNXqcPquZ",
        "outputId": "0931c987-d598-4a35-e8fd-047d1d8ef964"
      },
      "execution_count": 14,
      "outputs": [
        {
          "output_type": "stream",
          "name": "stdout",
          "text": [
            "0    549\n",
            "1    342\n",
            "Name: Survived, dtype: int64\n"
          ]
        },
        {
          "output_type": "display_data",
          "data": {
            "text/plain": [
              "<Figure size 432x288 with 1 Axes>"
            ],
            "image/png": "[encoded data removed]"
          },
          "metadata": {}
        }
      ]
    },
    {
      "cell_type": "code",
      "source": [
        "# Pclass : categorical\n",
        "print(data_train['Pclass'].value_counts())\n",
        "data_train['Pclass'].value_counts().plot.pie(autopct='%.1f%%')\n",
        "plt.show()"
      ],
      "metadata": {
        "colab": {
          "base_uri": "https://localhost:8080/",
          "height": 321
        },
        "id": "KQI8DX-USYZ6",
        "outputId": "525686ab-4b52-4097-a809-ab97ba3cfcf9"
      },
      "execution_count": 15,
      "outputs": [
        {
          "output_type": "stream",
          "name": "stdout",
          "text": [
            "3    491\n",
            "1    216\n",
            "2    184\n",
            "Name: Pclass, dtype: int64\n"
          ]
        },
        {
          "output_type": "display_data",
          "data": {
            "text/plain": [
              "<Figure size 432x288 with 1 Axes>"
            ],
            "image/png": "[encoded data removed]"
          },
          "metadata": {}
        }
      ]
    },
    {
      "cell_type": "code",
      "source": [
        "# Sex : categorical\n",
        "print(data_train['Sex'].value_counts())\n",
        "data_train['Sex'].value_counts().plot.pie(autopct='%.1f%%')\n",
        "plt.show()"
      ],
      "metadata": {
        "colab": {
          "base_uri": "https://localhost:8080/",
          "height": 303
        },
        "id": "CMMBmqkcUQFf",
        "outputId": "0e7e9484-a251-41ac-ce2e-f55235b02343"
      },
      "execution_count": 16,
      "outputs": [
        {
          "output_type": "stream",
          "name": "stdout",
          "text": [
            "male      577\n",
            "female    314\n",
            "Name: Sex, dtype: int64\n"
          ]
        },
        {
          "output_type": "display_data",
          "data": {
            "text/plain": [
              "<Figure size 432x288 with 1 Axes>"
            ],
            "image/png": "[encoded data removed]"
          },
          "metadata": {}
        }
      ]
    },
    {
      "cell_type": "code",
      "source": [
        "# Age : numeric\n",
        "fig, ax= plt.subplots(ncols=2,figsize=(10,5))\n",
        "sns.boxplot(y='Age',data=data_train,ax=ax[0])\n",
        "sns.distplot(data_train['Age'],ax=ax[1],kde=False)\n",
        "fig.show()"
      ],
      "metadata": {
        "colab": {
          "base_uri": "https://localhost:8080/",
          "height": 390
        },
        "id": "xjT3P75DUeZC",
        "outputId": "6d887a8b-8708-4f92-8b2b-1fdc4453571f"
      },
      "execution_count": 17,
      "outputs": [
        {
          "output_type": "stream",
          "name": "stderr",
          "text": [
            "/usr/local/lib/python3.8/dist-packages/seaborn/distributions.py:2619: FutureWarning: `distplot` is a deprecated function and will be removed in a future version. Please adapt your code to use either `displot` (a figure-level function with similar flexibility) or `histplot` (an axes-level function for histograms).\n",
            "  warnings.warn(msg, FutureWarning)\n"
          ]
        },
        {
          "output_type": "display_data",
          "data": {
            "text/plain": [
              "<Figure size 720x360 with 2 Axes>"
            ],
            "image/png": "[encoded data removed]"
          },
          "metadata": {}
        }
      ]
    },
    {
      "cell_type": "code",
      "source": [
        "# 'Sibsp' : numeric\n",
        "fig,ax=plt.subplots(ncols=2,figsize=(10,5))\n",
        "sns.boxplot(y=data_train['SibSp'],ax=ax[0])\n",
        "sns.countplot(data_train['SibSp'],ax=ax[1]) # 변수가 항상 정수값이므로 distplot 말고 countplot\n",
        "plt.show()"
      ],
      "metadata": {
        "colab": {
          "base_uri": "https://localhost:8080/",
          "height": 390
        },
        "id": "VgKF9i-yYfej",
        "outputId": "8fdd082d-b3e4-4d20-e67f-887b0861049b"
      },
      "execution_count": 18,
      "outputs": [
        {
          "output_type": "stream",
          "name": "stderr",
          "text": [
            "/usr/local/lib/python3.8/dist-packages/seaborn/_decorators.py:36: FutureWarning: Pass the following variable as a keyword arg: x. From version 0.12, the only valid positional argument will be `data`, and passing other arguments without an explicit keyword will result in an error or misinterpretation.\n",
            "  warnings.warn(\n"
          ]
        },
        {
          "output_type": "display_data",
          "data": {
            "text/plain": [
              "<Figure size 720x360 with 2 Axes>"
            ],
            "image/png": "[encoded data removed]"
          },
          "metadata": {}
        }
      ]
    },
    {
      "cell_type": "code",
      "source": [
        "# 'Parch' : numeric\n",
        "fig,ax=plt.subplots(ncols=2,figsize=(10,5))\n",
        "sns.boxplot(y=data_train['Parch'],ax=ax[0])\n",
        "sns.countplot(data_train['Parch'],ax=ax[1])\n",
        "plt.show()"
      ],
      "metadata": {
        "colab": {
          "base_uri": "https://localhost:8080/",
          "height": 390
        },
        "id": "rc8ORfBSZPff",
        "outputId": "80499746-3d2f-4425-ef72-419c685efccd"
      },
      "execution_count": 19,
      "outputs": [
        {
          "output_type": "stream",
          "name": "stderr",
          "text": [
            "/usr/local/lib/python3.8/dist-packages/seaborn/_decorators.py:36: FutureWarning: Pass the following variable as a keyword arg: x. From version 0.12, the only valid positional argument will be `data`, and passing other arguments without an explicit keyword will result in an error or misinterpretation.\n",
            "  warnings.warn(\n"
          ]
        },
        {
          "output_type": "display_data",
          "data": {
            "text/plain": [
              "<Figure size 720x360 with 2 Axes>"
            ],
            "image/png": "[encoded data removed]"
          },
          "metadata": {}
        }
      ]
    },
    {
      "cell_type": "code",
      "source": [
        "# 'Ticket' : categorical\n",
        "data_train['Ticket'].nunique() # 사실상 고유값"
      ],
      "metadata": {
        "colab": {
          "base_uri": "https://localhost:8080/"
        },
        "id": "izve56UYZbRy",
        "outputId": "2ed188a3-9cde-44d5-befc-c85dff38edb6"
      },
      "execution_count": 20,
      "outputs": [
        {
          "output_type": "execute_result",
          "data": {
            "text/plain": [
              "681"
            ]
          },
          "metadata": {},
          "execution_count": 20
        }
      ]
    },
    {
      "cell_type": "code",
      "source": [
        "# 'Fare' : numeric\n",
        "fig,ax=plt.subplots(ncols=2,figsize=(10,5))\n",
        "sns.boxplot(y=data_train['Fare'],ax=ax[0])\n",
        "sns.distplot(data_train['Fare'],ax=ax[1]) # Skewed , 이상치\n",
        "plt.show()"
      ],
      "metadata": {
        "colab": {
          "base_uri": "https://localhost:8080/",
          "height": 390
        },
        "id": "rnQjgX5oZqy5",
        "outputId": "e005d00c-7111-4b65-af7d-f79b34f5c509"
      },
      "execution_count": 21,
      "outputs": [
        {
          "output_type": "stream",
          "name": "stderr",
          "text": [
            "/usr/local/lib/python3.8/dist-packages/seaborn/distributions.py:2619: FutureWarning: `distplot` is a deprecated function and will be removed in a future version. Please adapt your code to use either `displot` (a figure-level function with similar flexibility) or `histplot` (an axes-level function for histograms).\n",
            "  warnings.warn(msg, FutureWarning)\n"
          ]
        },
        {
          "output_type": "display_data",
          "data": {
            "text/plain": [
              "<Figure size 720x360 with 2 Axes>"
            ],
            "image/png": "[encoded data removed]"
          },
          "metadata": {}
        }
      ]
    },
    {
      "cell_type": "code",
      "source": [
        "# 'Embarked' : categorical\n",
        "print(data_train['Embarked'].value_counts())\n",
        "data_train['Embarked'].value_counts().plot.pie(autopct='%.1f%%')"
      ],
      "metadata": {
        "colab": {
          "base_uri": "https://localhost:8080/",
          "height": 339
        },
        "id": "PAVp-shtaZty",
        "outputId": "aec80d94-d294-49c9-a480-27d63b65f45e"
      },
      "execution_count": 22,
      "outputs": [
        {
          "output_type": "stream",
          "name": "stdout",
          "text": [
            "S    644\n",
            "C    168\n",
            "Q     77\n",
            "Name: Embarked, dtype: int64\n"
          ]
        },
        {
          "output_type": "execute_result",
          "data": {
            "text/plain": [
              "<matplotlib.axes._subplots.AxesSubplot at 0x7fc86231d3a0>"
            ]
          },
          "metadata": {},
          "execution_count": 22
        },
        {
          "output_type": "display_data",
          "data": {
            "text/plain": [
              "<Figure size 432x288 with 1 Axes>"
            ],
            "image/png": "[encoded data removed]"
          },
          "metadata": {}
        }
      ]
    },
    {
      "cell_type": "markdown",
      "source": [
        "## 1.3. 변수간 EDA\n",
        "* categorical : ['Survived' , 'Pclass' ,  'Sex' , 'Embarked'] - target variable 'Survived'를 이용해도 되나?\n",
        "* numberic : ['Age', 'SibSp', 'Parch' , 'Fare']"
      ],
      "metadata": {
        "id": "s6zWKb7lbAL8"
      }
    },
    {
      "cell_type": "code",
      "source": [
        "# heatmap\n",
        "sns.heatmap(data_train.corr(),annot=True) # 변수간 correlation 값이 낮음\n",
        "plt.title('heatmap')"
      ],
      "metadata": {
        "colab": {
          "base_uri": "https://localhost:8080/",
          "height": 350
        },
        "id": "_gNVbPWObCzx",
        "outputId": "db955dc9-5ad7-4700-fd40-796bbf4a8a6c"
      },
      "execution_count": 23,
      "outputs": [
        {
          "output_type": "execute_result",
          "data": {
            "text/plain": [
              "Text(0.5, 1.0, 'heatmap')"
            ]
          },
          "metadata": {},
          "execution_count": 23
        },
        {
          "output_type": "display_data",
          "data": {
            "text/plain": [
              "<Figure size 432x288 with 2 Axes>"
            ],
            "image/png": "[encoded data removed]"
          },
          "metadata": {}
        }
      ]
    },
    {
      "cell_type": "code",
      "source": [
        "# 'Age' 가 y축\n",
        "\n",
        "fig,ax=plt.subplots(nrows=3,figsize=(5,15))\n",
        "# 'Age' and 'Sex'\n",
        "sns.boxplot(x='Sex',y='Age',data=data_train,ax=ax[0])\n",
        "# 'Age' and 'Pclass'\n",
        "sns.boxplot(x='Pclass',y='Age',data=data_train,ax=ax[1]) # 좌석등급이 좋을수록 연령대가 올라가는 경향이 있음\n",
        "# 'Age' and 'Embarked'\n",
        "sns.boxplot(x='Embarked',y='Age',data=data_train,ax=ax[2])\n",
        "# 'Age' and 'Fare'\n",
        "sns.jointplot(x='Fare',y='Age',data=data_train)\n",
        "plt.show()"
      ],
      "metadata": {
        "colab": {
          "base_uri": "https://localhost:8080/",
          "height": 1000
        },
        "id": "n9sSmJW9cB68",
        "outputId": "270d2b19-c2dd-4c1e-aa1c-4d8bfb8cc1ab"
      },
      "execution_count": 24,
      "outputs": [
        {
          "output_type": "display_data",
          "data": {
            "text/plain": [
              "<Figure size 360x1080 with 3 Axes>"
            ],
            "image/png": "[encoded data removed]"
          },
          "metadata": {}
        },
        {
          "output_type": "display_data",
          "data": {
            "text/plain": [
              "<Figure size 432x432 with 3 Axes>"
            ],
            "image/png": "[encoded data removed]"
          },
          "metadata": {}
        }
      ]
    },
    {
      "cell_type": "code",
      "source": [
        "# 'sex' and 'Fare'\n",
        "fig_sex_fare=sns.FacetGrid(data=data_train,col='Sex')\n",
        "fig_sex_fare.map(sns.distplot,'Fare')\n",
        "# 'sex' and 'Survived'\n",
        "fig_sex_survived=sns.FacetGrid(data=data_train, col='Sex')\n",
        "fig_sex_survived.map(sns.countplot,'Survived')\n",
        "plt.show()"
      ],
      "metadata": {
        "colab": {
          "base_uri": "https://localhost:8080/",
          "height": 562
        },
        "id": "eMgortoBdhka",
        "outputId": "01896f99-f10e-4a78-a7c6-0c8302daeed1"
      },
      "execution_count": 25,
      "outputs": [
        {
          "output_type": "stream",
          "name": "stderr",
          "text": [
            "/usr/local/lib/python3.8/dist-packages/seaborn/distributions.py:2619: FutureWarning: `distplot` is a deprecated function and will be removed in a future version. Please adapt your code to use either `displot` (a figure-level function with similar flexibility) or `histplot` (an axes-level function for histograms).\n",
            "  warnings.warn(msg, FutureWarning)\n",
            "/usr/local/lib/python3.8/dist-packages/seaborn/distributions.py:2619: FutureWarning: `distplot` is a deprecated function and will be removed in a future version. Please adapt your code to use either `displot` (a figure-level function with similar flexibility) or `histplot` (an axes-level function for histograms).\n",
            "  warnings.warn(msg, FutureWarning)\n",
            "/usr/local/lib/python3.8/dist-packages/seaborn/axisgrid.py:670: UserWarning: Using the countplot function without specifying `order` is likely to produce an incorrect plot.\n",
            "  warnings.warn(warning)\n"
          ]
        },
        {
          "output_type": "display_data",
          "data": {
            "text/plain": [
              "<Figure size 432x216 with 2 Axes>"
            ],
            "image/png": "[encoded data removed]"
          },
          "metadata": {}
        },
        {
          "output_type": "display_data",
          "data": {
            "text/plain": [
              "<Figure size 432x216 with 2 Axes>"
            ],
            "image/png": "[encoded data removed]"
          },
          "metadata": {}
        }
      ]
    },
    {
      "cell_type": "markdown",
      "source": [
        "# 2. Data Preprocssing\n",
        "\n",
        "고려사항\n",
        "* 불필요한 columns : ['PassengerId' , 'Name' , 'Ticket' , 'Cabin']\n",
        "* 'Age' 결측치 처리\n",
        "* 'SibSp' , 'Parch' 처럼 정수 numeric인 경우, categorical로 처리해야 할까? \n",
        "* 'SibSp' , 'Parch'가 의미상 동일하다고 판단 -> 합쳐줌\n",
        "* categorical 변수 ['Pclass' , 'Sex' , 'Embarked'] 처리 \n",
        "* 'Fare' 가 한쪽으로 치우쳐 있음 -> 표준화\n",
        "* 모든 numeric 변수의 range를 맞춰줘야 할까?\n",
        "* 변수간 EDA의 의미를 correlation 빼고는 잘 모르겠음"
      ],
      "metadata": {
        "id": "HW3CLyxGLEUo"
      }
    },
    {
      "cell_type": "code",
      "source": [
        "# dataset copy\n",
        "train=data_train.copy()"
      ],
      "metadata": {
        "id": "jGX7lxTdLO8z"
      },
      "execution_count": 256,
      "outputs": []
    },
    {
      "cell_type": "markdown",
      "source": [
        "## 2.1. 불필요한 column 제거\n",
        "\n",
        "* 'PassengerId' : 단순 인덱스\n",
        "* 'Name' : 고유값\n",
        "* 'Ticket' : 고유값 (891개 중 681개가 unique)\n",
        "* 'Cabin' : 결측치가(전체 데이터의 약 80%) 너무 많아서 제거하는 게 낫다고 판단"
      ],
      "metadata": {
        "id": "GqBTg_c-uRck"
      }
    },
    {
      "cell_type": "code",
      "source": [
        "train=train.drop(columns=['PassengerId','Name','Ticket','Cabin'])"
      ],
      "metadata": {
        "id": "749-hpH9Laea"
      },
      "execution_count": 257,
      "outputs": []
    },
    {
      "cell_type": "code",
      "source": [
        "train_categorical=train[['Pclass' , 'Sex' , 'Embarked']].copy()\n",
        "train_numeric=train[['Age', 'SibSp', 'Parch', 'Fare']].copy()"
      ],
      "metadata": {
        "id": "mIrwDQnGurht"
      },
      "execution_count": 258,
      "outputs": []
    },
    {
      "cell_type": "markdown",
      "source": [
        "## 2.2. categorical 변수 ['Pclass' , 'Sex' , 'Embarked'] 처리"
      ],
      "metadata": {
        "id": "equfV4z-ukhS"
      }
    },
    {
      "cell_type": "code",
      "source": [
        "# 'Sex','Embarked' 처리:get_dummies\n",
        "train_categorical=pd.get_dummies(train_categorical) # 'Pclass' 는 dtype int 이므로 get_dummies로 처리되지 않음 "
      ],
      "metadata": {
        "id": "6qa8AT7pDYTs"
      },
      "execution_count": 259,
      "outputs": []
    },
    {
      "cell_type": "code",
      "source": [
        "# 'Pclass' 처리 :OneHotEncoding https://lucian-blog.tistory.com/49\n",
        "from sklearn.preprocessing import OneHotEncoder\n",
        "\n",
        "encoder=OneHotEncoder()\n",
        "\n",
        "Pclass_onehot=encoder.fit_transform(train_categorical[['Pclass']]) # 인지로 2차원 배열을 받음\n",
        "\n",
        "Pclass_onehot=pd.DataFrame(Pclass_onehot.toarray())\n",
        "Pclass_onehot.columns='Pclass_'+encoder.get_feature_names()"
      ],
      "metadata": {
        "colab": {
          "base_uri": "https://localhost:8080/"
        },
        "id": "xCd6YLTLFTlV",
        "outputId": "3febab7a-bdec-4ee0-e2f5-1f0a9f2d6f8b"
      },
      "execution_count": 260,
      "outputs": [
        {
          "output_type": "stream",
          "name": "stderr",
          "text": [
            "/usr/local/lib/python3.8/dist-packages/sklearn/utils/deprecation.py:87: FutureWarning: Function get_feature_names is deprecated; get_feature_names is deprecated in 1.0 and will be removed in 1.2. Please use get_feature_names_out instead.\n",
            "  warnings.warn(msg, category=FutureWarning)\n"
          ]
        }
      ]
    },
    {
      "cell_type": "code",
      "source": [
        "#데이터 병합\n",
        "train_categorical=pd.concat([train_categorical,Pclass_onehot],axis=1)\n",
        "train_categorical=train_categorical.drop(columns='Pclass')"
      ],
      "metadata": {
        "id": "jCuS71Wovdlo"
      },
      "execution_count": 261,
      "outputs": []
    },
    {
      "cell_type": "markdown",
      "source": [
        "## 2.3. 'SibSp'와 'Parch'를 합쳐서 하나의 변수 'Family'로 변환"
      ],
      "metadata": {
        "id": "ywK2F23twt8t"
      }
    },
    {
      "cell_type": "code",
      "source": [
        "train_numeric['Family']=train_numeric['SibSp']+train_numeric['Parch']\n",
        "train_numeric=train_numeric.drop(columns=['SibSp','Parch'])\n",
        "train_numeric['Family'].value_counts()"
      ],
      "metadata": {
        "id": "3ThG3zRVuWxg",
        "colab": {
          "base_uri": "https://localhost:8080/"
        },
        "outputId": "5682eb89-3f74-456d-89f1-ca0ee31695d9"
      },
      "execution_count": 262,
      "outputs": [
        {
          "output_type": "execute_result",
          "data": {
            "text/plain": [
              "0     537\n",
              "1     161\n",
              "2     102\n",
              "3      29\n",
              "5      22\n",
              "4      15\n",
              "6      12\n",
              "10      7\n",
              "7       6\n",
              "Name: Family, dtype: int64"
            ]
          },
          "metadata": {},
          "execution_count": 262
        }
      ]
    },
    {
      "cell_type": "code",
      "source": [
        "# categorical 로 변화하면 성능이 떨어짐\n",
        "\n",
        "# encoder_family=OneHotEncoder()\n",
        "# family_onehot=encoder_family.fit_transform(train_numeric[['Family']])\n",
        "\n",
        "# family_onehot=pd.DataFrame(family_onehot.toarray())\n",
        "# family_onehot.columns='Family_'+encoder_family.get_feature_names()\n",
        "\n",
        "# train_categorical=pd.concat([train_categorical,family_onehot],axis=1)\n",
        "# train_numeric=train_numeric.drop(columns='Family')"
      ],
      "metadata": {
        "colab": {
          "base_uri": "https://localhost:8080/"
        },
        "id": "vlV6P_TLGZOw",
        "outputId": "fa494955-81ee-4464-e716-7d34194685cd"
      },
      "execution_count": 249,
      "outputs": [
        {
          "output_type": "stream",
          "name": "stderr",
          "text": [
            "/usr/local/lib/python3.8/dist-packages/sklearn/utils/deprecation.py:87: FutureWarning: Function get_feature_names is deprecated; get_feature_names is deprecated in 1.0 and will be removed in 1.2. Please use get_feature_names_out instead.\n",
            "  warnings.warn(msg, category=FutureWarning)\n"
          ]
        }
      ]
    },
    {
      "cell_type": "markdown",
      "source": [
        "## 2.4. 'Fare' skewedness 해결 -> 불가\n",
        "로그 변환->infinity 문제가 생김  \n",
        "inf,-inf를 nan으로 replace-> test data는 nan으로 replace해서 drop할 수 없음"
      ],
      "metadata": {
        "id": "C2gdH6sc9ory"
      }
    },
    {
      "cell_type": "code",
      "source": [
        "# import numpy as np\n",
        "# train_numeric['Fare']=np.log(train_numeric['Fare'])\n",
        "# train_numeric['Fare'] = train_numeric['Fare'].replace([np.inf, -np.inf], np.nan)\n",
        "\n",
        "# #X_train['Fare']=X_train['Fare'].dropna()"
      ],
      "metadata": {
        "id": "kv5gU2Yy9taW"
      },
      "execution_count": 250,
      "outputs": []
    },
    {
      "cell_type": "markdown",
      "source": [
        "## 2.5. numeric 변수 정규화 -> 정규화 하지 않는 것이 성능이 더 좋음"
      ],
      "metadata": {
        "id": "ndWqINdrGKbg"
      }
    },
    {
      "cell_type": "code",
      "source": [
        "# from sklearn.preprocessing import StandardScaler\n",
        "# scaler=StandardScaler()\n",
        "# scaler.fit(train_numeric)\n",
        "# train_numeric_scaled=scaler.transform(train_numeric)\n",
        "# train_numeric=pd.DataFrame(data=train_numeric_scaled,columns=train_numeric.columns)\n",
        "\n",
        "# train_numeric"
      ],
      "metadata": {
        "id": "qcveatXXxjNq"
      },
      "execution_count": 251,
      "outputs": []
    },
    {
      "cell_type": "markdown",
      "source": [
        "## 2.6. 'Age' 결측치 채우기 :KNN"
      ],
      "metadata": {
        "id": "tXJbQq203C7Q"
      }
    },
    {
      "cell_type": "code",
      "source": [
        "# categorical, numeric 변수 병합\n",
        "X_train=pd.concat([train_categorical,train_numeric],axis=1)\n",
        "X_train"
      ],
      "metadata": {
        "colab": {
          "base_uri": "https://localhost:8080/",
          "height": 423
        },
        "id": "Cx2m1GFM33Qz",
        "outputId": "ad9f92c6-3d6b-44e9-ebda-e18576408dc2"
      },
      "execution_count": 263,
      "outputs": [
        {
          "output_type": "execute_result",
          "data": {
            "text/plain": [
              "     Sex_female  Sex_male  Embarked_C  Embarked_Q  Embarked_S  Pclass_x0_1  \\\n",
              "0             0         1           0           0           1          0.0   \n",
              "1             1         0           1           0           0          1.0   \n",
              "2             1         0           0           0           1          0.0   \n",
              "3             1         0           0           0           1          1.0   \n",
              "4             0         1           0           0           1          0.0   \n",
              "..          ...       ...         ...         ...         ...          ...   \n",
              "886           0         1           0           0           1          0.0   \n",
              "887           1         0           0           0           1          1.0   \n",
              "888           1         0           0           0           1          0.0   \n",
              "889           0         1           1           0           0          1.0   \n",
              "890           0         1           0           1           0          0.0   \n",
              "\n",
              "     Pclass_x0_2  Pclass_x0_3   Age     Fare  Family  \n",
              "0            0.0          1.0  22.0   7.2500       1  \n",
              "1            0.0          0.0  38.0  71.2833       1  \n",
              "2            0.0          1.0  26.0   7.9250       0  \n",
              "3            0.0          0.0  35.0  53.1000       1  \n",
              "4            0.0          1.0  35.0   8.0500       0  \n",
              "..           ...          ...   ...      ...     ...  \n",
              "886          1.0          0.0  27.0  13.0000       0  \n",
              "887          0.0          0.0  19.0  30.0000       0  \n",
              "888          0.0          1.0   NaN  23.4500       3  \n",
              "889          0.0          0.0  26.0  30.0000       0  \n",
              "890          0.0          1.0  32.0   7.7500       0  \n",
              "\n",
              "[891 rows x 11 columns]"
            ],
            "text/html": [
              "\n",
              "  <div id=\"df-c672c505-13c2-480b-91a3-6f9fb34198f5\">\n",
              "    <div class=\"colab-df-container\">\n",
              "      <div>\n",
              "<style scoped>\n",
              "    .dataframe tbody tr th:only-of-type {\n",
              "        vertical-align: middle;\n",
              "    }\n",
              "\n",
              "    .dataframe tbody tr th {\n",
              "        vertical-align: top;\n",
              "    }\n",
              "\n",
              "    .dataframe thead th {\n",
              "        text-align: right;\n",
              "    }\n",
              "</style>\n",
              "<table border=\"1\" class=\"dataframe\">\n",
              "  <thead>\n",
              "    <tr style=\"text-align: right;\">\n",
              "      <th></th>\n",
              "      <th>Sex_female</th>\n",
              "      <th>Sex_male</th>\n",
              "      <th>Embarked_C</th>\n",
              "      <th>Embarked_Q</th>\n",
              "      <th>Embarked_S</th>\n",
              "      <th>Pclass_x0_1</th>\n",
              "      <th>Pclass_x0_2</th>\n",
              "      <th>Pclass_x0_3</th>\n",
              "      <th>Age</th>\n",
              "      <th>Fare</th>\n",
              "      <th>Family</th>\n",
              "    </tr>\n",
              "  </thead>\n",
              "  <tbody>\n",
              "    <tr>\n",
              "      <th>0</th>\n",
              "      <td>0</td>\n",
              "      <td>1</td>\n",
              "      <td>0</td>\n",
              "      <td>0</td>\n",
              "      <td>1</td>\n",
              "      <td>0.0</td>\n",
              "      <td>0.0</td>\n",
              "      <td>1.0</td>\n",
              "      <td>22.0</td>\n",
              "      <td>7.2500</td>\n",
              "      <td>1</td>\n",
              "    </tr>\n",
              "    <tr>\n",
              "      <th>1</th>\n",
              "      <td>1</td>\n",
              "      <td>0</td>\n",
              "      <td>1</td>\n",
              "      <td>0</td>\n",
              "      <td>0</td>\n",
              "      <td>1.0</td>\n",
              "      <td>0.0</td>\n",
              "      <td>0.0</td>\n",
              "      <td>38.0</td>\n",
              "      <td>71.2833</td>\n",
              "      <td>1</td>\n",
              "    </tr>\n",
              "    <tr>\n",
              "      <th>2</th>\n",
              "      <td>1</td>\n",
              "      <td>0</td>\n",
              "      <td>0</td>\n",
              "      <td>0</td>\n",
              "      <td>1</td>\n",
              "      <td>0.0</td>\n",
              "      <td>0.0</td>\n",
              "      <td>1.0</td>\n",
              "      <td>26.0</td>\n",
              "      <td>7.9250</td>\n",
              "      <td>0</td>\n",
              "    </tr>\n",
              "    <tr>\n",
              "      <th>3</th>\n",
              "      <td>1</td>\n",
              "      <td>0</td>\n",
              "      <td>0</td>\n",
              "      <td>0</td>\n",
              "      <td>1</td>\n",
              "      <td>1.0</td>\n",
              "      <td>0.0</td>\n",
              "      <td>0.0</td>\n",
              "      <td>35.0</td>\n",
              "      <td>53.1000</td>\n",
              "      <td>1</td>\n",
              "    </tr>\n",
              "    <tr>\n",
              "      <th>4</th>\n",
              "      <td>0</td>\n",
              "      <td>1</td>\n",
              "      <td>0</td>\n",
              "      <td>0</td>\n",
              "      <td>1</td>\n",
              "      <td>0.0</td>\n",
              "      <td>0.0</td>\n",
              "      <td>1.0</td>\n",
              "      <td>35.0</td>\n",
              "      <td>8.0500</td>\n",
              "      <td>0</td>\n",
              "    </tr>\n",
              "    <tr>\n",
              "      <th>...</th>\n",
              "      <td>...</td>\n",
              "      <td>...</td>\n",
              "      <td>...</td>\n",
              "      <td>...</td>\n",
              "      <td>...</td>\n",
              "      <td>...</td>\n",
              "      <td>...</td>\n",
              "      <td>...</td>\n",
              "      <td>...</td>\n",
              "      <td>...</td>\n",
              "      <td>...</td>\n",
              "    </tr>\n",
              "    <tr>\n",
              "      <th>886</th>\n",
              "      <td>0</td>\n",
              "      <td>1</td>\n",
              "      <td>0</td>\n",
              "      <td>0</td>\n",
              "      <td>1</td>\n",
              "      <td>0.0</td>\n",
              "      <td>1.0</td>\n",
              "      <td>0.0</td>\n",
              "      <td>27.0</td>\n",
              "      <td>13.0000</td>\n",
              "      <td>0</td>\n",
              "    </tr>\n",
              "    <tr>\n",
              "      <th>887</th>\n",
              "      <td>1</td>\n",
              "      <td>0</td>\n",
              "      <td>0</td>\n",
              "      <td>0</td>\n",
              "      <td>1</td>\n",
              "      <td>1.0</td>\n",
              "      <td>0.0</td>\n",
              "      <td>0.0</td>\n",
              "      <td>19.0</td>\n",
              "      <td>30.0000</td>\n",
              "      <td>0</td>\n",
              "    </tr>\n",
              "    <tr>\n",
              "      <th>888</th>\n",
              "      <td>1</td>\n",
              "      <td>0</td>\n",
              "      <td>0</td>\n",
              "      <td>0</td>\n",
              "      <td>1</td>\n",
              "      <td>0.0</td>\n",
              "      <td>0.0</td>\n",
              "      <td>1.0</td>\n",
              "      <td>NaN</td>\n",
              "      <td>23.4500</td>\n",
              "      <td>3</td>\n",
              "    </tr>\n",
              "    <tr>\n",
              "      <th>889</th>\n",
              "      <td>0</td>\n",
              "      <td>1</td>\n",
              "      <td>1</td>\n",
              "      <td>0</td>\n",
              "      <td>0</td>\n",
              "      <td>1.0</td>\n",
              "      <td>0.0</td>\n",
              "      <td>0.0</td>\n",
              "      <td>26.0</td>\n",
              "      <td>30.0000</td>\n",
              "      <td>0</td>\n",
              "    </tr>\n",
              "    <tr>\n",
              "      <th>890</th>\n",
              "      <td>0</td>\n",
              "      <td>1</td>\n",
              "      <td>0</td>\n",
              "      <td>1</td>\n",
              "      <td>0</td>\n",
              "      <td>0.0</td>\n",
              "      <td>0.0</td>\n",
              "      <td>1.0</td>\n",
              "      <td>32.0</td>\n",
              "      <td>7.7500</td>\n",
              "      <td>0</td>\n",
              "    </tr>\n",
              "  </tbody>\n",
              "</table>\n",
              "<p>891 rows × 11 columns</p>\n",
              "</div>\n",
              "      <button class=\"colab-df-convert\" onclick=\"convertToInteractive('df-c672c505-13c2-480b-91a3-6f9fb34198f5')\"\n",
              "              title=\"Convert this dataframe to an interactive table.\"\n",
              "              style=\"display:none;\">\n",
              "        \n",
              "  <svg xmlns=\"http://www.w3.org/2000/svg\" height=\"24px\"viewBox=\"0 0 24 24\"\n",
              "       width=\"24px\">\n",
              "    <path d=\"M0 0h24v24H0V0z\" fill=\"none\"/>\n",
              "    <path d=\"M18.56 5.44l.94 2.06.94-2.06 2.06-.94-2.06-.94-.94-2.06-.94 2.06-2.06.94zm-11 1L8.5 8.5l.94-2.06 2.06-.94-2.06-.94L8.5 2.5l-.94 2.06-2.06.94zm10 10l.94 2.06.94-2.06 2.06-.94-2.06-.94-.94-2.06-.94 2.06-2.06.94z\"/><path d=\"M17.41 7.96l-1.37-1.37c-.4-.4-.92-.59-1.43-.59-.52 0-1.04.2-1.43.59L10.3 9.45l-7.72 7.72c-.78.78-.78 2.05 0 2.83L4 21.41c.39.39.9.59 1.41.59.51 0 1.02-.2 1.41-.59l7.78-7.78 2.81-2.81c.8-.78.8-2.07 0-2.86zM5.41 20L4 18.59l7.72-7.72 1.47 1.35L5.41 20z\"/>\n",
              "  </svg>\n",
              "      </button>\n",
              "      \n",
              "  <style>\n",
              "    .colab-df-container {\n",
              "      display:flex;\n",
              "      flex-wrap:wrap;\n",
              "      gap: 12px;\n",
              "    }\n",
              "\n",
              "    .colab-df-convert {\n",
              "      background-color: #E8F0FE;\n",
              "      border: none;\n",
              "      border-radius: 50%;\n",
              "      cursor: pointer;\n",
              "      display: none;\n",
              "      fill: #1967D2;\n",
              "      height: 32px;\n",
              "      padding: 0 0 0 0;\n",
              "      width: 32px;\n",
              "    }\n",
              "\n",
              "    .colab-df-convert:hover {\n",
              "      background-color: #E2EBFA;\n",
              "      box-shadow: 0px 1px 2px rgba(60, 64, 67, 0.3), 0px 1px 3px 1px rgba(60, 64, 67, 0.15);\n",
              "      fill: #174EA6;\n",
              "    }\n",
              "\n",
              "    [theme=dark] .colab-df-convert {\n",
              "      background-color: #3B4455;\n",
              "      fill: #D2E3FC;\n",
              "    }\n",
              "\n",
              "    [theme=dark] .colab-df-convert:hover {\n",
              "      background-color: #434B5C;\n",
              "      box-shadow: 0px 1px 3px 1px rgba(0, 0, 0, 0.15);\n",
              "      filter: drop-shadow(0px 1px 2px rgba(0, 0, 0, 0.3));\n",
              "      fill: #FFFFFF;\n",
              "    }\n",
              "  </style>\n",
              "\n",
              "      <script>\n",
              "        const buttonEl =\n",
              "          document.querySelector('#df-c672c505-13c2-480b-91a3-6f9fb34198f5 button.colab-df-convert');\n",
              "        buttonEl.style.display =\n",
              "          google.colab.kernel.accessAllowed ? 'block' : 'none';\n",
              "\n",
              "        async function convertToInteractive(key) {\n",
              "          const element = document.querySelector('#df-c672c505-13c2-480b-91a3-6f9fb34198f5');\n",
              "          const dataTable =\n",
              "            await google.colab.kernel.invokeFunction('convertToInteractive',\n",
              "                                                     [key], {});\n",
              "          if (!dataTable) return;\n",
              "\n",
              "          const docLinkHtml = 'Like what you see? Visit the ' +\n",
              "            '<a target=\"_blank\" href=https://colab.research.google.com/notebooks/data_table.ipynb>data table notebook</a>'\n",
              "            + ' to learn more about interactive tables.';\n",
              "          element.innerHTML = '';\n",
              "          dataTable['output_type'] = 'display_data';\n",
              "          await google.colab.output.renderOutput(dataTable, element);\n",
              "          const docLink = document.createElement('div');\n",
              "          docLink.innerHTML = docLinkHtml;\n",
              "          element.appendChild(docLink);\n",
              "        }\n",
              "      </script>\n",
              "    </div>\n",
              "  </div>\n",
              "  "
            ]
          },
          "metadata": {},
          "execution_count": 263
        }
      ]
    },
    {
      "cell_type": "markdown",
      "source": [],
      "metadata": {
        "id": "dpHqWSa0HYjN"
      }
    },
    {
      "cell_type": "code",
      "source": [
        "from sklearn.impute import KNNImputer\n",
        "\n",
        "imputer=KNNImputer(n_neighbors=5)\n",
        "\n",
        "filled_train=imputer.fit_transform(X_train)\n",
        "X_train=pd.DataFrame(filled_train,columns=X_train.columns)\n",
        "\n",
        "X_train.info()"
      ],
      "metadata": {
        "id": "Mc_HzKxyCqj9",
        "colab": {
          "base_uri": "https://localhost:8080/"
        },
        "outputId": "3db87eb4-0f1a-46b4-e0d2-3a1517fc8563"
      },
      "execution_count": 264,
      "outputs": [
        {
          "output_type": "stream",
          "name": "stdout",
          "text": [
            "<class 'pandas.core.frame.DataFrame'>\n",
            "RangeIndex: 891 entries, 0 to 890\n",
            "Data columns (total 11 columns):\n",
            " #   Column       Non-Null Count  Dtype  \n",
            "---  ------       --------------  -----  \n",
            " 0   Sex_female   891 non-null    float64\n",
            " 1   Sex_male     891 non-null    float64\n",
            " 2   Embarked_C   891 non-null    float64\n",
            " 3   Embarked_Q   891 non-null    float64\n",
            " 4   Embarked_S   891 non-null    float64\n",
            " 5   Pclass_x0_1  891 non-null    float64\n",
            " 6   Pclass_x0_2  891 non-null    float64\n",
            " 7   Pclass_x0_3  891 non-null    float64\n",
            " 8   Age          891 non-null    float64\n",
            " 9   Fare         891 non-null    float64\n",
            " 10  Family       891 non-null    float64\n",
            "dtypes: float64(11)\n",
            "memory usage: 76.7 KB\n"
          ]
        }
      ]
    },
    {
      "cell_type": "markdown",
      "source": [
        "# 3. Train and Test"
      ],
      "metadata": {
        "id": "1VF6tBSrOa9P"
      }
    },
    {
      "cell_type": "markdown",
      "source": [
        "## 3.1. Test 데이터도 똑같이 전처리"
      ],
      "metadata": {
        "id": "KgOQYur157ZD"
      }
    },
    {
      "cell_type": "code",
      "source": [
        "test=data_test.copy()\n",
        "test=test.drop(columns=['PassengerId','Name','Ticket','Cabin'])\n",
        "test_categorical=test[['Pclass' , 'Sex' , 'Embarked']].copy()\n",
        "test_numeric=test[['Age', 'SibSp', 'Parch', 'Fare']].copy()\n",
        "\n",
        "test_categorical=pd.get_dummies(test_categorical)\n",
        "\n",
        "encoder=OneHotEncoder()\n",
        "\n",
        "Pclass_onehot=encoder.fit_transform(test_categorical[['Pclass']]) # 인지로 2차원 배열을 받음\n",
        "\n",
        "Pclass_onehot=pd.DataFrame(Pclass_onehot.toarray())\n",
        "Pclass_onehot.columns='Pclass_'+encoder.get_feature_names()\n",
        "test_categorical=pd.concat([test_categorical,Pclass_onehot],axis=1)\n",
        "test_categorical=test_categorical.drop(columns='Pclass')\n",
        "\n",
        "\n",
        "test_numeric['Family']=test_numeric['SibSp']+test_numeric['Parch']\n",
        "test_numeric=test_numeric.drop(columns=['SibSp','Parch'])\n",
        "\n",
        "# encoder_family=OneHotEncoder()\n",
        "# family_onehot=encoder_family.fit_transform(test_numeric[['Family']])\n",
        "\n",
        "# family_onehot=pd.DataFrame(family_onehot.toarray())\n",
        "# family_onehot.columns='Family_'+encoder_family.get_feature_names()\n",
        "\n",
        "# test_categorical=pd.concat([test_categorical,family_onehot],axis=1)\n",
        "# test_numeric=test_numeric.drop(columns='Family')\n",
        "\n",
        "\n",
        "# scaler_test=StandardScaler()\n",
        "# scaler_test.fit(test_numeric)\n",
        "# test_numeric_scaled=scaler.transform(test_numeric)\n",
        "# test_numeric=pd.DataFrame(data=test_numeric_scaled,columns=test_numeric.columns)\n",
        "\n",
        "\n",
        "X_test=pd.concat([test_categorical,test_numeric],axis=1)\n",
        "\n",
        "imputer=KNNImputer(n_neighbors=5)\n",
        "\n",
        "filled_test=imputer.fit_transform(X_test)\n",
        "X_test=pd.DataFrame(filled_test,columns=X_test.columns)\n",
        "\n",
        "X_test.info()"
      ],
      "metadata": {
        "colab": {
          "base_uri": "https://localhost:8080/"
        },
        "id": "DeUb-1GgOeoq",
        "outputId": "f90f6f0b-2dfd-4834-d546-825dfd7b57ce"
      },
      "execution_count": 265,
      "outputs": [
        {
          "output_type": "stream",
          "name": "stdout",
          "text": [
            "<class 'pandas.core.frame.DataFrame'>\n",
            "RangeIndex: 418 entries, 0 to 417\n",
            "Data columns (total 11 columns):\n",
            " #   Column       Non-Null Count  Dtype  \n",
            "---  ------       --------------  -----  \n",
            " 0   Sex_female   418 non-null    float64\n",
            " 1   Sex_male     418 non-null    float64\n",
            " 2   Embarked_C   418 non-null    float64\n",
            " 3   Embarked_Q   418 non-null    float64\n",
            " 4   Embarked_S   418 non-null    float64\n",
            " 5   Pclass_x0_1  418 non-null    float64\n",
            " 6   Pclass_x0_2  418 non-null    float64\n",
            " 7   Pclass_x0_3  418 non-null    float64\n",
            " 8   Age          418 non-null    float64\n",
            " 9   Fare         418 non-null    float64\n",
            " 10  Family       418 non-null    float64\n",
            "dtypes: float64(11)\n",
            "memory usage: 36.0 KB\n"
          ]
        },
        {
          "output_type": "stream",
          "name": "stderr",
          "text": [
            "/usr/local/lib/python3.8/dist-packages/sklearn/utils/deprecation.py:87: FutureWarning: Function get_feature_names is deprecated; get_feature_names is deprecated in 1.0 and will be removed in 1.2. Please use get_feature_names_out instead.\n",
            "  warnings.warn(msg, category=FutureWarning)\n"
          ]
        }
      ]
    },
    {
      "cell_type": "markdown",
      "source": [
        "## 3.2. Train/Test\n",
        "![image.png](data:image/png;base64,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)\n",
        "\n"
      ],
      "metadata": {
        "id": "meNeOPaI6Dhr"
      }
    },
    {
      "cell_type": "code",
      "source": [
        "# Logistic Regression\n",
        "# best public score: 0.77272 ( 정규화 x )\n",
        "# worst public score: 0.7655 (정규화, family 변수 categorical로 변환)\n",
        "\n",
        "from sklearn.linear_model import LogisticRegression\n",
        "y_train=train['Survived']\n",
        "\n",
        "model_lr=LogisticRegression(max_iter=10000)\n",
        "model_lr.fit(X_train,y_train)\n",
        "\n",
        "y_pred=model_lr.predict(X_test)\n",
        "\n",
        "submission=pd.DataFrame({'PassengerId':data_test.PassengerId,'Survived':y_pred}).set_index('PassengerId')\n",
        "submission.to_csv('sub_lr_without_fam_trans.csv')\n",
        "submission['Survived'].value_counts()"
      ],
      "metadata": {
        "colab": {
          "base_uri": "https://localhost:8080/"
        },
        "id": "cJqJJXqpNePk",
        "outputId": "638cebef-b525-4d65-e565-a65c0184d34e"
      },
      "execution_count": 266,
      "outputs": [
        {
          "output_type": "execute_result",
          "data": {
            "text/plain": [
              "0    265\n",
              "1    153\n",
              "Name: Survived, dtype: int64"
            ]
          },
          "metadata": {},
          "execution_count": 266
        }
      ]
    },
    {
      "cell_type": "code",
      "source": [
        "#KNN 성능\n",
        "#best public score 0.74162 (정규화)\n",
        "#worst public score 0.64594 (정규화 x)\n",
        "\n",
        "# from sklearn.neighbors import KNeighborsClassifier\n",
        "\n",
        "# model_knn=KNeighborsClassifier(n_neighbors=5)\n",
        "# model_knn.fit(X_train,y_train)\n",
        "\n",
        "# y_pred_knn=model_knn.predict(X_test)\n",
        "\n",
        "# submission_knn=pd.DataFrame({'PassengerId':data_test.PassengerId,'Survived':y_pred_knn}).set_index('PassengerId')\n",
        "# submission_knn.to_csv('sub_knn_without_trans.csv')\n",
        "# submission_knn['Survived'].value_counts()"
      ],
      "metadata": {
        "colab": {
          "base_uri": "https://localhost:8080/"
        },
        "id": "0-xHrgRh7sT9",
        "outputId": "19c89ffb-2ad8-42d5-e85e-f1a972ccfffb"
      },
      "execution_count": 267,
      "outputs": [
        {
          "output_type": "execute_result",
          "data": {
            "text/plain": [
              "0    268\n",
              "1    150\n",
              "Name: Survived, dtype: int64"
            ]
          },
          "metadata": {},
          "execution_count": 267
        }
      ]
    }
  ]
}
