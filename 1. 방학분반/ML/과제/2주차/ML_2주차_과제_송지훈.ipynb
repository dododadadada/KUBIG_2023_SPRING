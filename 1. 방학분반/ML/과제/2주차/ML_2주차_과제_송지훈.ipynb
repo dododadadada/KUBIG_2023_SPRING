{
  "nbformat": 4,
  "nbformat_minor": 0,
  "metadata": {
    "kernelspec": {
      "display_name": "Python 3",
      "language": "python",
      "name": "python3"
    },
    "language_info": {
      "codemirror_mode": {
        "name": "ipython",
        "version": 3
      },
      "file_extension": ".py",
      "mimetype": "text/x-python",
      "name": "python",
      "nbconvert_exporter": "python",
      "pygments_lexer": "ipython3",
      "version": "3.7.7"
    },
    "colab": {
      "provenance": [],
      "collapsed_sections": [
        "b3V6KIJw0pUC",
        "IRssoNrgP7So"
      ],
      "toc_visible": true
    }
  },
  "cells": [
    {
      "cell_type": "markdown",
      "source": [
        "## step 0. 머신러닝 프로젝트의 큰 틀"
      ],
      "metadata": {
        "id": "4-eZYZcJPjUe"
      }
    },
    {
      "cell_type": "markdown",
      "source": [
        "< 머신러닝 프로젝트의 큰 틀 >\n",
        "1. 모델의 목적 살펴보기, 큰 그림 그리기\n",
        "\n",
        "2. 사용 데이터 구하기\n",
        "\n",
        "3. 데이터에 대해 살펴보기 (EDA)\n",
        "\n",
        "4. 데이터 전처리하기 (알고리즘을 위한 데이터 처리)\n",
        "\n",
        "5. 모델 선택 및 Train\n",
        "\n",
        "6. 초기 모델을 발전시키며 모델 수정\n",
        "\n",
        "7. 솔루션 제시 및 유지 보수"
      ],
      "metadata": {
        "id": "MtriMMmh0gXq"
      }
    },
    {
      "cell_type": "markdown",
      "source": [
        "##Step 1. 목적 살펴보기, 큰그림 그리기"
      ],
      "metadata": {
        "id": "b3V6KIJw0pUC"
      }
    },
    {
      "cell_type": "markdown",
      "metadata": {
        "id": "NqqLNJZjfi8U"
      },
      "source": [
        "주제 : 뉴욕에서 방이 둘 딸린 집을 에어비엔비에 내놓으려 한다.\n",
        " 이 때 적당한 숙박료를 구하시오.\n",
        "\n",
        "----------\n",
        "데이터 소개 : New York City Airbnb Open Data\n",
        "\n",
        "    - 각 파일의 컬럼은 아래와 같습니다.\n",
        "    id: 항목의 ID\n",
        "    name: 항목의 이름 (타이틀)\n",
        "    host_id: 호스트 ID\n",
        "    host_name: 호스트의 이름\n",
        "    neighbourhood_group: 방이 있는 구역 그룹\n",
        "    neighbourhood: 방이 있는 구역\n",
        "    latitude: 방이 위치한 위도\n",
        "    longitude: 방이 위치한 경도\n",
        "    room_type: 방의 종류\n",
        "    price: 가격 (미 달러)\n",
        "    minimum_nights: 최소 숙박 일수\n",
        "    number_of_reviews: 리뷰의 개수\n",
        "    last_review: 마지막 리뷰 일자\n",
        "    reviews_per_month: 월별 리뷰 개수\n",
        "    calculated_host_listings_count: 호스트가 올린 방 개수\n",
        "    availability_365: 365일 중 가능한 일수\n",
        "---"
      ]
    },
    {
      "cell_type": "markdown",
      "source": [
        "### 문제 0.Train data와 target data는 무엇이 되어야할지 스스로 정의내린 후에 step 2로 넘어가세요!"
      ],
      "metadata": {
        "id": "HEvmpF7DBJZC"
      }
    },
    {
      "cell_type": "markdown",
      "source": [
        "\n",
        "\n",
        "\n",
        "```\n",
        "target data : price \n",
        "train data : others \n",
        "```\n",
        "\n",
        "\n",
        "\n"
      ],
      "metadata": {
        "id": "oQQgMFIUdeLJ"
      }
    },
    {
      "cell_type": "markdown",
      "metadata": {
        "id": "IRssoNrgP7So"
      },
      "source": [
        "## Step 2. 데이터셋 준비하기"
      ]
    },
    {
      "cell_type": "code",
      "metadata": {
        "id": "g49RuFGrBvt7"
      },
      "source": [
        "#기본적인 Library 불러오기\n",
        "#아래 Library를 처음보신다면 각각 어떤 역할을 하는지 대략적으로 찾아보세요!\n",
        "\n",
        "import pandas as pd\n",
        "import numpy as np\n",
        "import matplotlib.pyplot as plt\n",
        "import seaborn as sns"
      ],
      "execution_count": 2,
      "outputs": []
    },
    {
      "cell_type": "code",
      "source": [
        "# 구글 드라이브를 연동시키는 작업입니다. 데이터를 구글 드라이브에 올려놓고 불러오는 분들만 사용하시면 됩니다!\n",
        "# 데이터를 불러오는 다른 방법을 사용하셔도 좋아요!\n",
        "\n",
        "from google.colab import drive\n",
        "drive.mount('/content/drive')"
      ],
      "metadata": {
        "colab": {
          "base_uri": "https://localhost:8080/"
        },
        "id": "jo2D9juaaewe",
        "outputId": "b6b39daf-176f-4359-b842-c5abc5b019a3"
      },
      "execution_count": 3,
      "outputs": [
        {
          "output_type": "stream",
          "name": "stdout",
          "text": [
            "Mounted at /content/drive\n"
          ]
        }
      ]
    },
    {
      "cell_type": "markdown",
      "metadata": {
        "id": "aJ34SovLtFI8"
      },
      "source": [
        "### 문제 1. Pandas 라이브러리로 csv파일 읽어들이기\n"
      ]
    },
    {
      "cell_type": "code",
      "metadata": {
        "id": "RnJv-4YwCMSx",
        "colab": {
          "base_uri": "https://localhost:8080/",
          "height": 589
        },
        "outputId": "cae9b369-fb3f-45c6-b08a-5a2bbcc04a07"
      },
      "source": [
        "PATH = \"/content/drive/MyDrive/KUBIG/ML 2주차 과제\"\n",
        "\n",
        "df = pd.read_csv(PATH+\"/AB_NYC_2019.csv\")\n",
        "\n",
        "df"
      ],
      "execution_count": 15,
      "outputs": [
        {
          "output_type": "execute_result",
          "data": {
            "text/plain": [
              "             id                                               name   host_id  \\\n",
              "0          2539                 Clean & quiet apt home by the park      2787   \n",
              "1          2595                              Skylit Midtown Castle      2845   \n",
              "2          3647                THE VILLAGE OF HARLEM....NEW YORK !      4632   \n",
              "3          3831                    Cozy Entire Floor of Brownstone      4869   \n",
              "4          5022   Entire Apt: Spacious Studio/Loft by central park      7192   \n",
              "...         ...                                                ...       ...   \n",
              "48890  36484665    Charming one bedroom - newly renovated rowhouse   8232441   \n",
              "48891  36485057      Affordable room in Bushwick/East Williamsburg   6570630   \n",
              "48892  36485431            Sunny Studio at Historical Neighborhood  23492952   \n",
              "48893  36485609               43rd St. Time Square-cozy single bed  30985759   \n",
              "48894  36487245  Trendy duplex in the very heart of Hell's Kitchen  68119814   \n",
              "\n",
              "           host_name neighbourhood_group       neighbourhood  latitude  \\\n",
              "0               John            Brooklyn          Kensington  40.64749   \n",
              "1           Jennifer           Manhattan             Midtown  40.75362   \n",
              "2          Elisabeth           Manhattan              Harlem  40.80902   \n",
              "3        LisaRoxanne            Brooklyn        Clinton Hill  40.68514   \n",
              "4              Laura           Manhattan         East Harlem  40.79851   \n",
              "...              ...                 ...                 ...       ...   \n",
              "48890        Sabrina            Brooklyn  Bedford-Stuyvesant  40.67853   \n",
              "48891        Marisol            Brooklyn            Bushwick  40.70184   \n",
              "48892  Ilgar & Aysel           Manhattan              Harlem  40.81475   \n",
              "48893            Taz           Manhattan      Hell's Kitchen  40.75751   \n",
              "48894     Christophe           Manhattan      Hell's Kitchen  40.76404   \n",
              "\n",
              "       longitude        room_type  price  minimum_nights  number_of_reviews  \\\n",
              "0      -73.97237     Private room    149               1                  9   \n",
              "1      -73.98377  Entire home/apt    225               1                 45   \n",
              "2      -73.94190     Private room    150               3                  0   \n",
              "3      -73.95976  Entire home/apt     89               1                270   \n",
              "4      -73.94399  Entire home/apt     80              10                  9   \n",
              "...          ...              ...    ...             ...                ...   \n",
              "48890  -73.94995     Private room     70               2                  0   \n",
              "48891  -73.93317     Private room     40               4                  0   \n",
              "48892  -73.94867  Entire home/apt    115              10                  0   \n",
              "48893  -73.99112      Shared room     55               1                  0   \n",
              "48894  -73.98933     Private room     90               7                  0   \n",
              "\n",
              "      last_review  reviews_per_month  calculated_host_listings_count  \\\n",
              "0      2018-10-19               0.21                               6   \n",
              "1      2019-05-21               0.38                               2   \n",
              "2             NaN                NaN                               1   \n",
              "3      2019-07-05               4.64                               1   \n",
              "4      2018-11-19               0.10                               1   \n",
              "...           ...                ...                             ...   \n",
              "48890         NaN                NaN                               2   \n",
              "48891         NaN                NaN                               2   \n",
              "48892         NaN                NaN                               1   \n",
              "48893         NaN                NaN                               6   \n",
              "48894         NaN                NaN                               1   \n",
              "\n",
              "       availability_365  \n",
              "0                   365  \n",
              "1                   355  \n",
              "2                   365  \n",
              "3                   194  \n",
              "4                     0  \n",
              "...                 ...  \n",
              "48890                 9  \n",
              "48891                36  \n",
              "48892                27  \n",
              "48893                 2  \n",
              "48894                23  \n",
              "\n",
              "[48895 rows x 16 columns]"
            ],
            "text/html": [
              "\n",
              "  <div id=\"df-bd6807df-971e-414e-84ef-b085d0928d79\">\n",
              "    <div class=\"colab-df-container\">\n",
              "      <div>\n",
              "<style scoped>\n",
              "    .dataframe tbody tr th:only-of-type {\n",
              "        vertical-align: middle;\n",
              "    }\n",
              "\n",
              "    .dataframe tbody tr th {\n",
              "        vertical-align: top;\n",
              "    }\n",
              "\n",
              "    .dataframe thead th {\n",
              "        text-align: right;\n",
              "    }\n",
              "</style>\n",
              "<table border=\"1\" class=\"dataframe\">\n",
              "  <thead>\n",
              "    <tr style=\"text-align: right;\">\n",
              "      <th></th>\n",
              "      <th>id</th>\n",
              "      <th>name</th>\n",
              "      <th>host_id</th>\n",
              "      <th>host_name</th>\n",
              "      <th>neighbourhood_group</th>\n",
              "      <th>neighbourhood</th>\n",
              "      <th>latitude</th>\n",
              "      <th>longitude</th>\n",
              "      <th>room_type</th>\n",
              "      <th>price</th>\n",
              "      <th>minimum_nights</th>\n",
              "      <th>number_of_reviews</th>\n",
              "      <th>last_review</th>\n",
              "      <th>reviews_per_month</th>\n",
              "      <th>calculated_host_listings_count</th>\n",
              "      <th>availability_365</th>\n",
              "    </tr>\n",
              "  </thead>\n",
              "  <tbody>\n",
              "    <tr>\n",
              "      <th>0</th>\n",
              "      <td>2539</td>\n",
              "      <td>Clean &amp; quiet apt home by the park</td>\n",
              "      <td>2787</td>\n",
              "      <td>John</td>\n",
              "      <td>Brooklyn</td>\n",
              "      <td>Kensington</td>\n",
              "      <td>40.64749</td>\n",
              "      <td>-73.97237</td>\n",
              "      <td>Private room</td>\n",
              "      <td>149</td>\n",
              "      <td>1</td>\n",
              "      <td>9</td>\n",
              "      <td>2018-10-19</td>\n",
              "      <td>0.21</td>\n",
              "      <td>6</td>\n",
              "      <td>365</td>\n",
              "    </tr>\n",
              "    <tr>\n",
              "      <th>1</th>\n",
              "      <td>2595</td>\n",
              "      <td>Skylit Midtown Castle</td>\n",
              "      <td>2845</td>\n",
              "      <td>Jennifer</td>\n",
              "      <td>Manhattan</td>\n",
              "      <td>Midtown</td>\n",
              "      <td>40.75362</td>\n",
              "      <td>-73.98377</td>\n",
              "      <td>Entire home/apt</td>\n",
              "      <td>225</td>\n",
              "      <td>1</td>\n",
              "      <td>45</td>\n",
              "      <td>2019-05-21</td>\n",
              "      <td>0.38</td>\n",
              "      <td>2</td>\n",
              "      <td>355</td>\n",
              "    </tr>\n",
              "    <tr>\n",
              "      <th>2</th>\n",
              "      <td>3647</td>\n",
              "      <td>THE VILLAGE OF HARLEM....NEW YORK !</td>\n",
              "      <td>4632</td>\n",
              "      <td>Elisabeth</td>\n",
              "      <td>Manhattan</td>\n",
              "      <td>Harlem</td>\n",
              "      <td>40.80902</td>\n",
              "      <td>-73.94190</td>\n",
              "      <td>Private room</td>\n",
              "      <td>150</td>\n",
              "      <td>3</td>\n",
              "      <td>0</td>\n",
              "      <td>NaN</td>\n",
              "      <td>NaN</td>\n",
              "      <td>1</td>\n",
              "      <td>365</td>\n",
              "    </tr>\n",
              "    <tr>\n",
              "      <th>3</th>\n",
              "      <td>3831</td>\n",
              "      <td>Cozy Entire Floor of Brownstone</td>\n",
              "      <td>4869</td>\n",
              "      <td>LisaRoxanne</td>\n",
              "      <td>Brooklyn</td>\n",
              "      <td>Clinton Hill</td>\n",
              "      <td>40.68514</td>\n",
              "      <td>-73.95976</td>\n",
              "      <td>Entire home/apt</td>\n",
              "      <td>89</td>\n",
              "      <td>1</td>\n",
              "      <td>270</td>\n",
              "      <td>2019-07-05</td>\n",
              "      <td>4.64</td>\n",
              "      <td>1</td>\n",
              "      <td>194</td>\n",
              "    </tr>\n",
              "    <tr>\n",
              "      <th>4</th>\n",
              "      <td>5022</td>\n",
              "      <td>Entire Apt: Spacious Studio/Loft by central park</td>\n",
              "      <td>7192</td>\n",
              "      <td>Laura</td>\n",
              "      <td>Manhattan</td>\n",
              "      <td>East Harlem</td>\n",
              "      <td>40.79851</td>\n",
              "      <td>-73.94399</td>\n",
              "      <td>Entire home/apt</td>\n",
              "      <td>80</td>\n",
              "      <td>10</td>\n",
              "      <td>9</td>\n",
              "      <td>2018-11-19</td>\n",
              "      <td>0.10</td>\n",
              "      <td>1</td>\n",
              "      <td>0</td>\n",
              "    </tr>\n",
              "    <tr>\n",
              "      <th>...</th>\n",
              "      <td>...</td>\n",
              "      <td>...</td>\n",
              "      <td>...</td>\n",
              "      <td>...</td>\n",
              "      <td>...</td>\n",
              "      <td>...</td>\n",
              "      <td>...</td>\n",
              "      <td>...</td>\n",
              "      <td>...</td>\n",
              "      <td>...</td>\n",
              "      <td>...</td>\n",
              "      <td>...</td>\n",
              "      <td>...</td>\n",
              "      <td>...</td>\n",
              "      <td>...</td>\n",
              "      <td>...</td>\n",
              "    </tr>\n",
              "    <tr>\n",
              "      <th>48890</th>\n",
              "      <td>36484665</td>\n",
              "      <td>Charming one bedroom - newly renovated rowhouse</td>\n",
              "      <td>8232441</td>\n",
              "      <td>Sabrina</td>\n",
              "      <td>Brooklyn</td>\n",
              "      <td>Bedford-Stuyvesant</td>\n",
              "      <td>40.67853</td>\n",
              "      <td>-73.94995</td>\n",
              "      <td>Private room</td>\n",
              "      <td>70</td>\n",
              "      <td>2</td>\n",
              "      <td>0</td>\n",
              "      <td>NaN</td>\n",
              "      <td>NaN</td>\n",
              "      <td>2</td>\n",
              "      <td>9</td>\n",
              "    </tr>\n",
              "    <tr>\n",
              "      <th>48891</th>\n",
              "      <td>36485057</td>\n",
              "      <td>Affordable room in Bushwick/East Williamsburg</td>\n",
              "      <td>6570630</td>\n",
              "      <td>Marisol</td>\n",
              "      <td>Brooklyn</td>\n",
              "      <td>Bushwick</td>\n",
              "      <td>40.70184</td>\n",
              "      <td>-73.93317</td>\n",
              "      <td>Private room</td>\n",
              "      <td>40</td>\n",
              "      <td>4</td>\n",
              "      <td>0</td>\n",
              "      <td>NaN</td>\n",
              "      <td>NaN</td>\n",
              "      <td>2</td>\n",
              "      <td>36</td>\n",
              "    </tr>\n",
              "    <tr>\n",
              "      <th>48892</th>\n",
              "      <td>36485431</td>\n",
              "      <td>Sunny Studio at Historical Neighborhood</td>\n",
              "      <td>23492952</td>\n",
              "      <td>Ilgar &amp; Aysel</td>\n",
              "      <td>Manhattan</td>\n",
              "      <td>Harlem</td>\n",
              "      <td>40.81475</td>\n",
              "      <td>-73.94867</td>\n",
              "      <td>Entire home/apt</td>\n",
              "      <td>115</td>\n",
              "      <td>10</td>\n",
              "      <td>0</td>\n",
              "      <td>NaN</td>\n",
              "      <td>NaN</td>\n",
              "      <td>1</td>\n",
              "      <td>27</td>\n",
              "    </tr>\n",
              "    <tr>\n",
              "      <th>48893</th>\n",
              "      <td>36485609</td>\n",
              "      <td>43rd St. Time Square-cozy single bed</td>\n",
              "      <td>30985759</td>\n",
              "      <td>Taz</td>\n",
              "      <td>Manhattan</td>\n",
              "      <td>Hell's Kitchen</td>\n",
              "      <td>40.75751</td>\n",
              "      <td>-73.99112</td>\n",
              "      <td>Shared room</td>\n",
              "      <td>55</td>\n",
              "      <td>1</td>\n",
              "      <td>0</td>\n",
              "      <td>NaN</td>\n",
              "      <td>NaN</td>\n",
              "      <td>6</td>\n",
              "      <td>2</td>\n",
              "    </tr>\n",
              "    <tr>\n",
              "      <th>48894</th>\n",
              "      <td>36487245</td>\n",
              "      <td>Trendy duplex in the very heart of Hell's Kitchen</td>\n",
              "      <td>68119814</td>\n",
              "      <td>Christophe</td>\n",
              "      <td>Manhattan</td>\n",
              "      <td>Hell's Kitchen</td>\n",
              "      <td>40.76404</td>\n",
              "      <td>-73.98933</td>\n",
              "      <td>Private room</td>\n",
              "      <td>90</td>\n",
              "      <td>7</td>\n",
              "      <td>0</td>\n",
              "      <td>NaN</td>\n",
              "      <td>NaN</td>\n",
              "      <td>1</td>\n",
              "      <td>23</td>\n",
              "    </tr>\n",
              "  </tbody>\n",
              "</table>\n",
              "<p>48895 rows × 16 columns</p>\n",
              "</div>\n",
              "      <button class=\"colab-df-convert\" onclick=\"convertToInteractive('df-bd6807df-971e-414e-84ef-b085d0928d79')\"\n",
              "              title=\"Convert this dataframe to an interactive table.\"\n",
              "              style=\"display:none;\">\n",
              "        \n",
              "  <svg xmlns=\"http://www.w3.org/2000/svg\" height=\"24px\"viewBox=\"0 0 24 24\"\n",
              "       width=\"24px\">\n",
              "    <path d=\"M0 0h24v24H0V0z\" fill=\"none\"/>\n",
              "    <path d=\"M18.56 5.44l.94 2.06.94-2.06 2.06-.94-2.06-.94-.94-2.06-.94 2.06-2.06.94zm-11 1L8.5 8.5l.94-2.06 2.06-.94-2.06-.94L8.5 2.5l-.94 2.06-2.06.94zm10 10l.94 2.06.94-2.06 2.06-.94-2.06-.94-.94-2.06-.94 2.06-2.06.94z\"/><path d=\"M17.41 7.96l-1.37-1.37c-.4-.4-.92-.59-1.43-.59-.52 0-1.04.2-1.43.59L10.3 9.45l-7.72 7.72c-.78.78-.78 2.05 0 2.83L4 21.41c.39.39.9.59 1.41.59.51 0 1.02-.2 1.41-.59l7.78-7.78 2.81-2.81c.8-.78.8-2.07 0-2.86zM5.41 20L4 18.59l7.72-7.72 1.47 1.35L5.41 20z\"/>\n",
              "  </svg>\n",
              "      </button>\n",
              "      \n",
              "  <style>\n",
              "    .colab-df-container {\n",
              "      display:flex;\n",
              "      flex-wrap:wrap;\n",
              "      gap: 12px;\n",
              "    }\n",
              "\n",
              "    .colab-df-convert {\n",
              "      background-color: #E8F0FE;\n",
              "      border: none;\n",
              "      border-radius: 50%;\n",
              "      cursor: pointer;\n",
              "      display: none;\n",
              "      fill: #1967D2;\n",
              "      height: 32px;\n",
              "      padding: 0 0 0 0;\n",
              "      width: 32px;\n",
              "    }\n",
              "\n",
              "    .colab-df-convert:hover {\n",
              "      background-color: #E2EBFA;\n",
              "      box-shadow: 0px 1px 2px rgba(60, 64, 67, 0.3), 0px 1px 3px 1px rgba(60, 64, 67, 0.15);\n",
              "      fill: #174EA6;\n",
              "    }\n",
              "\n",
              "    [theme=dark] .colab-df-convert {\n",
              "      background-color: #3B4455;\n",
              "      fill: #D2E3FC;\n",
              "    }\n",
              "\n",
              "    [theme=dark] .colab-df-convert:hover {\n",
              "      background-color: #434B5C;\n",
              "      box-shadow: 0px 1px 3px 1px rgba(0, 0, 0, 0.15);\n",
              "      filter: drop-shadow(0px 1px 2px rgba(0, 0, 0, 0.3));\n",
              "      fill: #FFFFFF;\n",
              "    }\n",
              "  </style>\n",
              "\n",
              "      <script>\n",
              "        const buttonEl =\n",
              "          document.querySelector('#df-bd6807df-971e-414e-84ef-b085d0928d79 button.colab-df-convert');\n",
              "        buttonEl.style.display =\n",
              "          google.colab.kernel.accessAllowed ? 'block' : 'none';\n",
              "\n",
              "        async function convertToInteractive(key) {\n",
              "          const element = document.querySelector('#df-bd6807df-971e-414e-84ef-b085d0928d79');\n",
              "          const dataTable =\n",
              "            await google.colab.kernel.invokeFunction('convertToInteractive',\n",
              "                                                     [key], {});\n",
              "          if (!dataTable) return;\n",
              "\n",
              "          const docLinkHtml = 'Like what you see? Visit the ' +\n",
              "            '<a target=\"_blank\" href=https://colab.research.google.com/notebooks/data_table.ipynb>data table notebook</a>'\n",
              "            + ' to learn more about interactive tables.';\n",
              "          element.innerHTML = '';\n",
              "          dataTable['output_type'] = 'display_data';\n",
              "          await google.colab.output.renderOutput(dataTable, element);\n",
              "          const docLink = document.createElement('div');\n",
              "          docLink.innerHTML = docLinkHtml;\n",
              "          element.appendChild(docLink);\n",
              "        }\n",
              "      </script>\n",
              "    </div>\n",
              "  </div>\n",
              "  "
            ]
          },
          "metadata": {},
          "execution_count": 15
        }
      ]
    },
    {
      "cell_type": "markdown",
      "metadata": {
        "id": "9L3BNVM7tHN5"
      },
      "source": [
        "## Step 3. 데이터에 대해 살펴보기 (EDA 및 데이터 기초 통계 분석)\n"
      ]
    },
    {
      "cell_type": "markdown",
      "source": [
        "### 문제 2-1. 데이터 구조 살펴보기"
      ],
      "metadata": {
        "id": "7M-V7qGY1xdi"
      }
    },
    {
      "cell_type": "code",
      "source": [
        "# DataFrame에서 제공하는 Method를 이용하여 각 데이터프레임의 구조 분석하기 (head(), info())\n",
        "\n",
        "print(df.info())\n",
        "df.head(5)##\n"
      ],
      "metadata": {
        "id": "ScSj4jpisu5k",
        "colab": {
          "base_uri": "https://localhost:8080/",
          "height": 647
        },
        "outputId": "c935b951-8382-4ab2-d4b5-9579262295d8"
      },
      "execution_count": 5,
      "outputs": [
        {
          "output_type": "stream",
          "name": "stdout",
          "text": [
            "<class 'pandas.core.frame.DataFrame'>\n",
            "RangeIndex: 48895 entries, 0 to 48894\n",
            "Data columns (total 16 columns):\n",
            " #   Column                          Non-Null Count  Dtype  \n",
            "---  ------                          --------------  -----  \n",
            " 0   id                              48895 non-null  int64  \n",
            " 1   name                            48879 non-null  object \n",
            " 2   host_id                         48895 non-null  int64  \n",
            " 3   host_name                       48874 non-null  object \n",
            " 4   neighbourhood_group             48895 non-null  object \n",
            " 5   neighbourhood                   48895 non-null  object \n",
            " 6   latitude                        48895 non-null  float64\n",
            " 7   longitude                       48895 non-null  float64\n",
            " 8   room_type                       48895 non-null  object \n",
            " 9   price                           48895 non-null  int64  \n",
            " 10  minimum_nights                  48895 non-null  int64  \n",
            " 11  number_of_reviews               48895 non-null  int64  \n",
            " 12  last_review                     38843 non-null  object \n",
            " 13  reviews_per_month               38843 non-null  float64\n",
            " 14  calculated_host_listings_count  48895 non-null  int64  \n",
            " 15  availability_365                48895 non-null  int64  \n",
            "dtypes: float64(3), int64(7), object(6)\n",
            "memory usage: 6.0+ MB\n",
            "None\n"
          ]
        },
        {
          "output_type": "execute_result",
          "data": {
            "text/plain": [
              "     id                                              name  host_id  \\\n",
              "0  2539                Clean & quiet apt home by the park     2787   \n",
              "1  2595                             Skylit Midtown Castle     2845   \n",
              "2  3647               THE VILLAGE OF HARLEM....NEW YORK !     4632   \n",
              "3  3831                   Cozy Entire Floor of Brownstone     4869   \n",
              "4  5022  Entire Apt: Spacious Studio/Loft by central park     7192   \n",
              "\n",
              "     host_name neighbourhood_group neighbourhood  latitude  longitude  \\\n",
              "0         John            Brooklyn    Kensington  40.64749  -73.97237   \n",
              "1     Jennifer           Manhattan       Midtown  40.75362  -73.98377   \n",
              "2    Elisabeth           Manhattan        Harlem  40.80902  -73.94190   \n",
              "3  LisaRoxanne            Brooklyn  Clinton Hill  40.68514  -73.95976   \n",
              "4        Laura           Manhattan   East Harlem  40.79851  -73.94399   \n",
              "\n",
              "         room_type  price  minimum_nights  number_of_reviews last_review  \\\n",
              "0     Private room    149               1                  9  2018-10-19   \n",
              "1  Entire home/apt    225               1                 45  2019-05-21   \n",
              "2     Private room    150               3                  0         NaN   \n",
              "3  Entire home/apt     89               1                270  2019-07-05   \n",
              "4  Entire home/apt     80              10                  9  2018-11-19   \n",
              "\n",
              "   reviews_per_month  calculated_host_listings_count  availability_365  \n",
              "0               0.21                               6               365  \n",
              "1               0.38                               2               355  \n",
              "2                NaN                               1               365  \n",
              "3               4.64                               1               194  \n",
              "4               0.10                               1                 0  "
            ],
            "text/html": [
              "\n",
              "  <div id=\"df-bff9771a-ea3f-46c5-9577-31d5df300f83\">\n",
              "    <div class=\"colab-df-container\">\n",
              "      <div>\n",
              "<style scoped>\n",
              "    .dataframe tbody tr th:only-of-type {\n",
              "        vertical-align: middle;\n",
              "    }\n",
              "\n",
              "    .dataframe tbody tr th {\n",
              "        vertical-align: top;\n",
              "    }\n",
              "\n",
              "    .dataframe thead th {\n",
              "        text-align: right;\n",
              "    }\n",
              "</style>\n",
              "<table border=\"1\" class=\"dataframe\">\n",
              "  <thead>\n",
              "    <tr style=\"text-align: right;\">\n",
              "      <th></th>\n",
              "      <th>id</th>\n",
              "      <th>name</th>\n",
              "      <th>host_id</th>\n",
              "      <th>host_name</th>\n",
              "      <th>neighbourhood_group</th>\n",
              "      <th>neighbourhood</th>\n",
              "      <th>latitude</th>\n",
              "      <th>longitude</th>\n",
              "      <th>room_type</th>\n",
              "      <th>price</th>\n",
              "      <th>minimum_nights</th>\n",
              "      <th>number_of_reviews</th>\n",
              "      <th>last_review</th>\n",
              "      <th>reviews_per_month</th>\n",
              "      <th>calculated_host_listings_count</th>\n",
              "      <th>availability_365</th>\n",
              "    </tr>\n",
              "  </thead>\n",
              "  <tbody>\n",
              "    <tr>\n",
              "      <th>0</th>\n",
              "      <td>2539</td>\n",
              "      <td>Clean &amp; quiet apt home by the park</td>\n",
              "      <td>2787</td>\n",
              "      <td>John</td>\n",
              "      <td>Brooklyn</td>\n",
              "      <td>Kensington</td>\n",
              "      <td>40.64749</td>\n",
              "      <td>-73.97237</td>\n",
              "      <td>Private room</td>\n",
              "      <td>149</td>\n",
              "      <td>1</td>\n",
              "      <td>9</td>\n",
              "      <td>2018-10-19</td>\n",
              "      <td>0.21</td>\n",
              "      <td>6</td>\n",
              "      <td>365</td>\n",
              "    </tr>\n",
              "    <tr>\n",
              "      <th>1</th>\n",
              "      <td>2595</td>\n",
              "      <td>Skylit Midtown Castle</td>\n",
              "      <td>2845</td>\n",
              "      <td>Jennifer</td>\n",
              "      <td>Manhattan</td>\n",
              "      <td>Midtown</td>\n",
              "      <td>40.75362</td>\n",
              "      <td>-73.98377</td>\n",
              "      <td>Entire home/apt</td>\n",
              "      <td>225</td>\n",
              "      <td>1</td>\n",
              "      <td>45</td>\n",
              "      <td>2019-05-21</td>\n",
              "      <td>0.38</td>\n",
              "      <td>2</td>\n",
              "      <td>355</td>\n",
              "    </tr>\n",
              "    <tr>\n",
              "      <th>2</th>\n",
              "      <td>3647</td>\n",
              "      <td>THE VILLAGE OF HARLEM....NEW YORK !</td>\n",
              "      <td>4632</td>\n",
              "      <td>Elisabeth</td>\n",
              "      <td>Manhattan</td>\n",
              "      <td>Harlem</td>\n",
              "      <td>40.80902</td>\n",
              "      <td>-73.94190</td>\n",
              "      <td>Private room</td>\n",
              "      <td>150</td>\n",
              "      <td>3</td>\n",
              "      <td>0</td>\n",
              "      <td>NaN</td>\n",
              "      <td>NaN</td>\n",
              "      <td>1</td>\n",
              "      <td>365</td>\n",
              "    </tr>\n",
              "    <tr>\n",
              "      <th>3</th>\n",
              "      <td>3831</td>\n",
              "      <td>Cozy Entire Floor of Brownstone</td>\n",
              "      <td>4869</td>\n",
              "      <td>LisaRoxanne</td>\n",
              "      <td>Brooklyn</td>\n",
              "      <td>Clinton Hill</td>\n",
              "      <td>40.68514</td>\n",
              "      <td>-73.95976</td>\n",
              "      <td>Entire home/apt</td>\n",
              "      <td>89</td>\n",
              "      <td>1</td>\n",
              "      <td>270</td>\n",
              "      <td>2019-07-05</td>\n",
              "      <td>4.64</td>\n",
              "      <td>1</td>\n",
              "      <td>194</td>\n",
              "    </tr>\n",
              "    <tr>\n",
              "      <th>4</th>\n",
              "      <td>5022</td>\n",
              "      <td>Entire Apt: Spacious Studio/Loft by central park</td>\n",
              "      <td>7192</td>\n",
              "      <td>Laura</td>\n",
              "      <td>Manhattan</td>\n",
              "      <td>East Harlem</td>\n",
              "      <td>40.79851</td>\n",
              "      <td>-73.94399</td>\n",
              "      <td>Entire home/apt</td>\n",
              "      <td>80</td>\n",
              "      <td>10</td>\n",
              "      <td>9</td>\n",
              "      <td>2018-11-19</td>\n",
              "      <td>0.10</td>\n",
              "      <td>1</td>\n",
              "      <td>0</td>\n",
              "    </tr>\n",
              "  </tbody>\n",
              "</table>\n",
              "</div>\n",
              "      <button class=\"colab-df-convert\" onclick=\"convertToInteractive('df-bff9771a-ea3f-46c5-9577-31d5df300f83')\"\n",
              "              title=\"Convert this dataframe to an interactive table.\"\n",
              "              style=\"display:none;\">\n",
              "        \n",
              "  <svg xmlns=\"http://www.w3.org/2000/svg\" height=\"24px\"viewBox=\"0 0 24 24\"\n",
              "       width=\"24px\">\n",
              "    <path d=\"M0 0h24v24H0V0z\" fill=\"none\"/>\n",
              "    <path d=\"M18.56 5.44l.94 2.06.94-2.06 2.06-.94-2.06-.94-.94-2.06-.94 2.06-2.06.94zm-11 1L8.5 8.5l.94-2.06 2.06-.94-2.06-.94L8.5 2.5l-.94 2.06-2.06.94zm10 10l.94 2.06.94-2.06 2.06-.94-2.06-.94-.94-2.06-.94 2.06-2.06.94z\"/><path d=\"M17.41 7.96l-1.37-1.37c-.4-.4-.92-.59-1.43-.59-.52 0-1.04.2-1.43.59L10.3 9.45l-7.72 7.72c-.78.78-.78 2.05 0 2.83L4 21.41c.39.39.9.59 1.41.59.51 0 1.02-.2 1.41-.59l7.78-7.78 2.81-2.81c.8-.78.8-2.07 0-2.86zM5.41 20L4 18.59l7.72-7.72 1.47 1.35L5.41 20z\"/>\n",
              "  </svg>\n",
              "      </button>\n",
              "      \n",
              "  <style>\n",
              "    .colab-df-container {\n",
              "      display:flex;\n",
              "      flex-wrap:wrap;\n",
              "      gap: 12px;\n",
              "    }\n",
              "\n",
              "    .colab-df-convert {\n",
              "      background-color: #E8F0FE;\n",
              "      border: none;\n",
              "      border-radius: 50%;\n",
              "      cursor: pointer;\n",
              "      display: none;\n",
              "      fill: #1967D2;\n",
              "      height: 32px;\n",
              "      padding: 0 0 0 0;\n",
              "      width: 32px;\n",
              "    }\n",
              "\n",
              "    .colab-df-convert:hover {\n",
              "      background-color: #E2EBFA;\n",
              "      box-shadow: 0px 1px 2px rgba(60, 64, 67, 0.3), 0px 1px 3px 1px rgba(60, 64, 67, 0.15);\n",
              "      fill: #174EA6;\n",
              "    }\n",
              "\n",
              "    [theme=dark] .colab-df-convert {\n",
              "      background-color: #3B4455;\n",
              "      fill: #D2E3FC;\n",
              "    }\n",
              "\n",
              "    [theme=dark] .colab-df-convert:hover {\n",
              "      background-color: #434B5C;\n",
              "      box-shadow: 0px 1px 3px 1px rgba(0, 0, 0, 0.15);\n",
              "      filter: drop-shadow(0px 1px 2px rgba(0, 0, 0, 0.3));\n",
              "      fill: #FFFFFF;\n",
              "    }\n",
              "  </style>\n",
              "\n",
              "      <script>\n",
              "        const buttonEl =\n",
              "          document.querySelector('#df-bff9771a-ea3f-46c5-9577-31d5df300f83 button.colab-df-convert');\n",
              "        buttonEl.style.display =\n",
              "          google.colab.kernel.accessAllowed ? 'block' : 'none';\n",
              "\n",
              "        async function convertToInteractive(key) {\n",
              "          const element = document.querySelector('#df-bff9771a-ea3f-46c5-9577-31d5df300f83');\n",
              "          const dataTable =\n",
              "            await google.colab.kernel.invokeFunction('convertToInteractive',\n",
              "                                                     [key], {});\n",
              "          if (!dataTable) return;\n",
              "\n",
              "          const docLinkHtml = 'Like what you see? Visit the ' +\n",
              "            '<a target=\"_blank\" href=https://colab.research.google.com/notebooks/data_table.ipynb>data table notebook</a>'\n",
              "            + ' to learn more about interactive tables.';\n",
              "          element.innerHTML = '';\n",
              "          dataTable['output_type'] = 'display_data';\n",
              "          await google.colab.output.renderOutput(dataTable, element);\n",
              "          const docLink = document.createElement('div');\n",
              "          docLink.innerHTML = docLinkHtml;\n",
              "          element.appendChild(docLink);\n",
              "        }\n",
              "      </script>\n",
              "    </div>\n",
              "  </div>\n",
              "  "
            ]
          },
          "metadata": {},
          "execution_count": 5
        }
      ]
    },
    {
      "cell_type": "markdown",
      "source": [
        "### 문제 2-2. 'room_type' 변수에 어떤 종류가 있는지 살펴보기"
      ],
      "metadata": {
        "id": "ej8UbHb77EfI"
      }
    },
    {
      "cell_type": "code",
      "source": [
        "# value_counts()\n",
        "\n",
        "df[\"room_type\"].value_counts()"
      ],
      "metadata": {
        "id": "2hd_NZaO7LHK",
        "colab": {
          "base_uri": "https://localhost:8080/"
        },
        "outputId": "67a60244-3067-4fb0-a70e-7f054ae317f4"
      },
      "execution_count": null,
      "outputs": [
        {
          "output_type": "execute_result",
          "data": {
            "text/plain": [
              "Entire home/apt    25409\n",
              "Private room       22326\n",
              "Shared room         1160\n",
              "Name: room_type, dtype: int64"
            ]
          },
          "metadata": {},
          "execution_count": 14
        }
      ]
    },
    {
      "cell_type": "code",
      "source": [
        "df[\"neighbourhood_group\"].value_counts()"
      ],
      "metadata": {
        "colab": {
          "base_uri": "https://localhost:8080/"
        },
        "id": "m9Ojapy8qnf_",
        "outputId": "11914235-f691-454a-9505-8bef94af5432"
      },
      "execution_count": null,
      "outputs": [
        {
          "output_type": "execute_result",
          "data": {
            "text/plain": [
              "Manhattan        21661\n",
              "Brooklyn         20104\n",
              "Queens            5666\n",
              "Bronx             1091\n",
              "Staten Island      373\n",
              "Name: neighbourhood_group, dtype: int64"
            ]
          },
          "metadata": {},
          "execution_count": 29
        }
      ]
    },
    {
      "cell_type": "markdown",
      "source": [
        "###문제 2-3. 기초 통계량 확인해보기"
      ],
      "metadata": {
        "id": "R1B6Vt307QYN"
      }
    },
    {
      "cell_type": "code",
      "source": [
        "# describe()"
      ],
      "metadata": {
        "id": "QPFdoeGq7XsX"
      },
      "execution_count": null,
      "outputs": []
    },
    {
      "cell_type": "code",
      "source": [
        "df.describe()\n",
        "# df.info()"
      ],
      "metadata": {
        "id": "gg1ln4MVEqwZ",
        "colab": {
          "base_uri": "https://localhost:8080/"
        },
        "outputId": "ab8cbb9e-a179-485e-9c6c-8f200c42d467"
      },
      "execution_count": null,
      "outputs": [
        {
          "output_type": "stream",
          "name": "stdout",
          "text": [
            "<class 'pandas.core.frame.DataFrame'>\n",
            "RangeIndex: 48895 entries, 0 to 48894\n",
            "Data columns (total 16 columns):\n",
            " #   Column                          Non-Null Count  Dtype  \n",
            "---  ------                          --------------  -----  \n",
            " 0   id                              48895 non-null  int64  \n",
            " 1   name                            48879 non-null  object \n",
            " 2   host_id                         48895 non-null  int64  \n",
            " 3   host_name                       48874 non-null  object \n",
            " 4   neighbourhood_group             48895 non-null  object \n",
            " 5   neighbourhood                   48895 non-null  object \n",
            " 6   latitude                        48895 non-null  float64\n",
            " 7   longitude                       48895 non-null  float64\n",
            " 8   room_type                       48895 non-null  object \n",
            " 9   price                           48895 non-null  int64  \n",
            " 10  minimum_nights                  48895 non-null  int64  \n",
            " 11  number_of_reviews               48895 non-null  int64  \n",
            " 12  last_review                     38843 non-null  object \n",
            " 13  reviews_per_month               38843 non-null  float64\n",
            " 14  calculated_host_listings_count  48895 non-null  int64  \n",
            " 15  availability_365                48895 non-null  int64  \n",
            "dtypes: float64(3), int64(7), object(6)\n",
            "memory usage: 6.0+ MB\n"
          ]
        }
      ]
    },
    {
      "cell_type": "markdown",
      "source": [
        "###문제 3. 각 feature 별로 시각화해서 살펴보기"
      ],
      "metadata": {
        "id": "wePFPGka7ijN"
      }
    },
    {
      "cell_type": "code",
      "source": [
        "# 기본적인 시각화의 방법은 다양합니다!\n",
        "# 각자 다양한 방식으로 전처리전 데이터에 대한 시각화를 진행해보세요!"
      ],
      "metadata": {
        "id": "QyN878FF7nU2"
      },
      "execution_count": null,
      "outputs": []
    },
    {
      "cell_type": "code",
      "source": [
        "df1 = df.neighbourhood_group.value_counts()\n",
        "df1.plot.pie(autopct = '%.2f%%')\n",
        "plt.title(\"Neighbourhood Groups\")"
      ],
      "metadata": {
        "id": "yI5wC2BVEp47",
        "colab": {
          "base_uri": "https://localhost:8080/",
          "height": 282
        },
        "outputId": "f714b605-4481-47a8-8d1f-c8ecd63e5e1a"
      },
      "execution_count": null,
      "outputs": [
        {
          "output_type": "execute_result",
          "data": {
            "text/plain": [
              "Text(0.5, 1.0, 'Neighbourhood Groups')"
            ]
          },
          "metadata": {},
          "execution_count": 40
        },
        {
          "output_type": "display_data",
          "data": {
            "text/plain": [
              "<Figure size 432x288 with 1 Axes>"
            ],
            "image/png": "[encoded data removed]"
          },
          "metadata": {}
        }
      ]
    },
    {
      "cell_type": "code",
      "source": [
        "bar1 = sns.countplot(x = \"room_type\", data = df)"
      ],
      "metadata": {
        "colab": {
          "base_uri": "https://localhost:8080/",
          "height": 280
        },
        "id": "0dywQcF7tP49",
        "outputId": "58df8a7b-ee68-46b8-fa3b-54b39a7945b0"
      },
      "execution_count": 8,
      "outputs": [
        {
          "output_type": "display_data",
          "data": {
            "text/plain": [
              "<Figure size 432x288 with 1 Axes>"
            ],
            "image/png": "[encoded data removed]"
          },
          "metadata": {
            "needs_background": "light"
          }
        }
      ]
    },
    {
      "cell_type": "code",
      "source": [
        "sns.boxplot(x = \"room_type\", y = \"price\", data = df)"
      ],
      "metadata": {
        "colab": {
          "base_uri": "https://localhost:8080/",
          "height": 298
        },
        "id": "Iyy99afvX48S",
        "outputId": "fdd3c64b-80ff-4a96-956a-183cb4612483"
      },
      "execution_count": 15,
      "outputs": [
        {
          "output_type": "execute_result",
          "data": {
            "text/plain": [
              "<matplotlib.axes._subplots.AxesSubplot at 0x7fc0bfd719d0>"
            ]
          },
          "metadata": {},
          "execution_count": 15
        },
        {
          "output_type": "display_data",
          "data": {
            "text/plain": [
              "<Figure size 432x288 with 1 Axes>"
            ],
            "image/png": "[encoded data removed]"
          },
          "metadata": {
            "needs_background": "light"
          }
        }
      ]
    },
    {
      "cell_type": "code",
      "source": [
        "sns.boxplot(x = \"neighbourhood_group\" , y = \"price\", data = df)"
      ],
      "metadata": {
        "colab": {
          "base_uri": "https://localhost:8080/",
          "height": 298
        },
        "id": "mqpFwGIAjlW7",
        "outputId": "5e891f1e-cfd4-42ed-a3b8-6078cdbca0fd"
      },
      "execution_count": 34,
      "outputs": [
        {
          "output_type": "execute_result",
          "data": {
            "text/plain": [
              "<matplotlib.axes._subplots.AxesSubplot at 0x7fc0bb600b50>"
            ]
          },
          "metadata": {},
          "execution_count": 34
        },
        {
          "output_type": "display_data",
          "data": {
            "text/plain": [
              "<Figure size 432x288 with 1 Axes>"
            ],
            "image/png": "[encoded data removed]"
          },
          "metadata": {
            "needs_background": "light"
          }
        }
      ]
    },
    {
      "cell_type": "code",
      "source": [
        "sns.distplot(df[\"price\"], color = \"green\")"
      ],
      "metadata": {
        "colab": {
          "base_uri": "https://localhost:8080/",
          "height": 354
        },
        "id": "cJUHp5hHUW83",
        "outputId": "99ccdca1-6327-4813-d490-2c0a391e52dc"
      },
      "execution_count": 11,
      "outputs": [
        {
          "output_type": "stream",
          "name": "stderr",
          "text": [
            "/usr/local/lib/python3.8/dist-packages/seaborn/distributions.py:2619: FutureWarning: `distplot` is a deprecated function and will be removed in a future version. Please adapt your code to use either `displot` (a figure-level function with similar flexibility) or `histplot` (an axes-level function for histograms).\n",
            "  warnings.warn(msg, FutureWarning)\n"
          ]
        },
        {
          "output_type": "execute_result",
          "data": {
            "text/plain": [
              "<matplotlib.axes._subplots.AxesSubplot at 0x7fc0bfced7f0>"
            ]
          },
          "metadata": {},
          "execution_count": 11
        },
        {
          "output_type": "display_data",
          "data": {
            "text/plain": [
              "<Figure size 432x288 with 1 Axes>"
            ],
            "image/png": "[encoded data removed]"
          },
          "metadata": {
            "needs_background": "light"
          }
        }
      ]
    },
    {
      "cell_type": "code",
      "source": [
        "sns.countplot(x = \"reviews_per_month\", data = df)"
      ],
      "metadata": {
        "colab": {
          "base_uri": "https://localhost:8080/",
          "height": 298
        },
        "id": "x-JVJ5TZmg5N",
        "outputId": "51fe6491-d1d5-4640-a39c-2ac84925d001"
      },
      "execution_count": 38,
      "outputs": [
        {
          "output_type": "execute_result",
          "data": {
            "text/plain": [
              "<matplotlib.axes._subplots.AxesSubplot at 0x7fc0bb3ad9a0>"
            ]
          },
          "metadata": {},
          "execution_count": 38
        },
        {
          "output_type": "display_data",
          "data": {
            "text/plain": [
              "<Figure size 432x288 with 1 Axes>"
            ],
            "image/png": "[encoded data removed]"
          },
          "metadata": {
            "needs_background": "light"
          }
        }
      ]
    },
    {
      "cell_type": "code",
      "source": [
        "df.boxplot(column = \"price\")"
      ],
      "metadata": {
        "colab": {
          "base_uri": "https://localhost:8080/",
          "height": 283
        },
        "id": "G9-Az9AApfay",
        "outputId": "5e430245-2d3b-4fb9-f036-b4f26754539b"
      },
      "execution_count": null,
      "outputs": [
        {
          "output_type": "execute_result",
          "data": {
            "text/plain": [
              "<matplotlib.axes._subplots.AxesSubplot at 0x7f27ad02c4f0>"
            ]
          },
          "metadata": {},
          "execution_count": 20
        },
        {
          "output_type": "display_data",
          "data": {
            "text/plain": [
              "<Figure size 432x288 with 1 Axes>"
            ],
            "image/png": "[encoded data removed]"
          },
          "metadata": {
            "needs_background": "light"
          }
        }
      ]
    },
    {
      "cell_type": "code",
      "source": [
        "df.boxplot(column = \"availability_365\")"
      ],
      "metadata": {
        "colab": {
          "base_uri": "https://localhost:8080/",
          "height": 284
        },
        "id": "t6ekVXEophvi",
        "outputId": "728d018b-2d38-4111-d9cc-d530eb93c980"
      },
      "execution_count": null,
      "outputs": [
        {
          "output_type": "execute_result",
          "data": {
            "text/plain": [
              "<matplotlib.axes._subplots.AxesSubplot at 0x7f27ab9e61c0>"
            ]
          },
          "metadata": {},
          "execution_count": 22
        },
        {
          "output_type": "display_data",
          "data": {
            "text/plain": [
              "<Figure size 432x288 with 1 Axes>"
            ],
            "image/png": "[encoded data removed]"
          },
          "metadata": {
            "needs_background": "light"
          }
        }
      ]
    },
    {
      "cell_type": "code",
      "source": [
        "df.plot.scatter(x = \"number_of_reviews\", y = \"price\")"
      ],
      "metadata": {
        "colab": {
          "base_uri": "https://localhost:8080/",
          "height": 298
        },
        "id": "6Tu5nu7yYn5q",
        "outputId": "2d43da07-7a06-4513-90c8-2beabef7cd4d"
      },
      "execution_count": 16,
      "outputs": [
        {
          "output_type": "execute_result",
          "data": {
            "text/plain": [
              "<matplotlib.axes._subplots.AxesSubplot at 0x7fc0bf4f33d0>"
            ]
          },
          "metadata": {},
          "execution_count": 16
        },
        {
          "output_type": "display_data",
          "data": {
            "text/plain": [
              "<Figure size 432x288 with 1 Axes>"
            ],
            "image/png": "[encoded data removed]"
          },
          "metadata": {
            "needs_background": "light"
          }
        }
      ]
    },
    {
      "cell_type": "markdown",
      "source": [
        "### 문제 4. 각 feature 별로 결측치가 있는지 살펴보기"
      ],
      "metadata": {
        "id": "N0fF1s1G16vk"
      }
    },
    {
      "cell_type": "code",
      "source": [
        "# 마찬가지로 결측치를 찾는 방법도 다양합니다. 가장 일반적으로 사용하는 method를 힌트로 첨부했습니다.\n",
        "# 추후 프로젝트를 진행하시면서 스스로 다양한 방식을 사용해보세요!\n",
        "# { isna().sum(), info() }"
      ],
      "metadata": {
        "id": "rbCuAO2N2Aqp"
      },
      "execution_count": null,
      "outputs": []
    },
    {
      "cell_type": "code",
      "source": [
        "sum(df[\"reviews_per_month\"].isna())\n",
        "df.isna().sum()"
      ],
      "metadata": {
        "id": "mC-9o9n-EqOB",
        "colab": {
          "base_uri": "https://localhost:8080/"
        },
        "outputId": "de382e4f-4cb3-4ee4-ef7e-5346f61c9aa4"
      },
      "execution_count": 7,
      "outputs": [
        {
          "output_type": "execute_result",
          "data": {
            "text/plain": [
              "id                                    0\n",
              "name                                 16\n",
              "host_id                               0\n",
              "host_name                            21\n",
              "neighbourhood_group                   0\n",
              "neighbourhood                         0\n",
              "latitude                              0\n",
              "longitude                             0\n",
              "room_type                             0\n",
              "price                                 0\n",
              "minimum_nights                        0\n",
              "number_of_reviews                     0\n",
              "last_review                       10052\n",
              "reviews_per_month                 10052\n",
              "calculated_host_listings_count        0\n",
              "availability_365                      0\n",
              "dtype: int64"
            ]
          },
          "metadata": {},
          "execution_count": 7
        }
      ]
    },
    {
      "cell_type": "markdown",
      "metadata": {
        "id": "HGHvPwkNtXgj"
      },
      "source": [
        "### 문제 5. reviews_per_month와 price의 scatter plot 그리기\n"
      ]
    },
    {
      "cell_type": "code",
      "metadata": {
        "id": "b_zcrUDF7khF",
        "colab": {
          "base_uri": "https://localhost:8080/",
          "height": 459
        },
        "outputId": "4d26e0d0-f08e-4c47-aedd-8b119796c7b4"
      },
      "source": [
        "# 어떤 방법을 쓰셔도 상관없습니다.\n",
        "# sns.jointplot()"
      ],
      "execution_count": null,
      "outputs": [
        {
          "output_type": "execute_result",
          "data": {
            "text/plain": [
              "<seaborn.axisgrid.JointGrid at 0x7f281521d490>"
            ]
          },
          "metadata": {},
          "execution_count": 6
        },
        {
          "output_type": "display_data",
          "data": {
            "image/png": "[encoded data removed]",
            "text/plain": [
              "<Figure size 432x432 with 3 Axes>"
            ]
          },
          "metadata": {
            "needs_background": "light"
          }
        }
      ]
    },
    {
      "cell_type": "code",
      "source": [
        "sns.jointplot(x = \"reviews_per_month\", y = \"price\", data = df)"
      ],
      "metadata": {
        "colab": {
          "base_uri": "https://localhost:8080/",
          "height": 459
        },
        "id": "lECJKB7LbQBL",
        "outputId": "00d54cff-ce45-4b52-f7ea-bda6fd7e4bf0"
      },
      "execution_count": 26,
      "outputs": [
        {
          "output_type": "execute_result",
          "data": {
            "text/plain": [
              "<seaborn.axisgrid.JointGrid at 0x7fc0cd3fd4f0>"
            ]
          },
          "metadata": {},
          "execution_count": 26
        },
        {
          "output_type": "display_data",
          "data": {
            "text/plain": [
              "<Figure size 432x432 with 3 Axes>"
            ],
            "image/png": "[encoded data removed]"
          },
          "metadata": {
            "needs_background": "light"
          }
        }
      ]
    },
    {
      "cell_type": "code",
      "source": [
        "df.plot.scatter(x = \"reviews_per_month\", y = \"price\", s=3)"
      ],
      "metadata": {
        "colab": {
          "base_uri": "https://localhost:8080/",
          "height": 298
        },
        "id": "PAqe584obIOx",
        "outputId": "463299d3-04e6-4eb1-919f-d6f80c4f3f44"
      },
      "execution_count": 25,
      "outputs": [
        {
          "output_type": "execute_result",
          "data": {
            "text/plain": [
              "<matplotlib.axes._subplots.AxesSubplot at 0x7fc0bf385070>"
            ]
          },
          "metadata": {},
          "execution_count": 25
        },
        {
          "output_type": "display_data",
          "data": {
            "text/plain": [
              "<Figure size 432x288 with 1 Axes>"
            ],
            "image/png": "[encoded data removed]"
          },
          "metadata": {
            "needs_background": "light"
          }
        }
      ]
    },
    {
      "cell_type": "markdown",
      "metadata": {
        "id": "amkU5Y6g7Dp4"
      },
      "source": [
        "### 문제 6. 수치형 데이터와 Price의 상관성 분석하기"
      ]
    },
    {
      "cell_type": "code",
      "metadata": {
        "id": "GZXSBFPyDh6R",
        "colab": {
          "base_uri": "https://localhost:8080/",
          "height": 429
        },
        "outputId": "612cdb44-44d5-4393-84ec-30f8b719746d"
      },
      "source": [
        "# sns.heatmap()"
      ],
      "execution_count": null,
      "outputs": [
        {
          "output_type": "execute_result",
          "data": {
            "text/plain": [
              "<matplotlib.axes._subplots.AxesSubplot at 0x7f2813156fd0>"
            ]
          },
          "metadata": {},
          "execution_count": 10
        },
        {
          "output_type": "display_data",
          "data": {
            "image/png": "[encoded data removed]",
            "text/plain": [
              "<Figure size 432x288 with 2 Axes>"
            ]
          },
          "metadata": {
            "needs_background": "light"
          }
        }
      ]
    },
    {
      "cell_type": "code",
      "source": [
        "sns.heatmap(df.corr(), annot = True, cmap = \"flare\")"
      ],
      "metadata": {
        "colab": {
          "base_uri": "https://localhost:8080/",
          "height": 429
        },
        "id": "7NmbGoASbb6b",
        "outputId": "f93db46b-76cb-4d8e-98e1-d70118178ae9"
      },
      "execution_count": 30,
      "outputs": [
        {
          "output_type": "execute_result",
          "data": {
            "text/plain": [
              "<matplotlib.axes._subplots.AxesSubplot at 0x7fc0be745c10>"
            ]
          },
          "metadata": {},
          "execution_count": 30
        },
        {
          "output_type": "display_data",
          "data": {
            "text/plain": [
              "<Figure size 432x288 with 2 Axes>"
            ],
            "image/png": "[encoded data removed]"
          },
          "metadata": {
            "needs_background": "light"
          }
        }
      ]
    },
    {
      "cell_type": "markdown",
      "metadata": {
        "id": "Ga7Lzcw8TH0G"
      },
      "source": [
        "### 문제 7. 범주형 데이터와 Price의 Boxplot 계열 및 Histogram 분석하기"
      ]
    },
    {
      "cell_type": "code",
      "metadata": {
        "id": "MPmzv61vTFiw",
        "colab": {
          "base_uri": "https://localhost:8080/"
        },
        "outputId": "9d0e8578-b92a-4be5-a845-62fdefc60a94"
      },
      "source": [
        "df.columns"
      ],
      "execution_count": 31,
      "outputs": [
        {
          "output_type": "execute_result",
          "data": {
            "text/plain": [
              "Index(['id', 'name', 'host_id', 'host_name', 'neighbourhood_group',\n",
              "       'neighbourhood', 'latitude', 'longitude', 'room_type', 'price',\n",
              "       'minimum_nights', 'number_of_reviews', 'last_review',\n",
              "       'reviews_per_month', 'calculated_host_listings_count',\n",
              "       'availability_365'],\n",
              "      dtype='object')"
            ]
          },
          "metadata": {},
          "execution_count": 31
        }
      ]
    },
    {
      "cell_type": "markdown",
      "source": [
        "####문제 7-1. neighbourhood_group 변수와 price 사이의 분포를 boxplot으로 그려보세요."
      ],
      "metadata": {
        "id": "oaqmYR2GGJkR"
      }
    },
    {
      "cell_type": "code",
      "source": [
        "sns.boxplot(x = \"neighbourhood_group\", y = 'price', data = df)"
      ],
      "metadata": {
        "id": "eCkDh0W5GWBw",
        "colab": {
          "base_uri": "https://localhost:8080/",
          "height": 298
        },
        "outputId": "5d5ed121-919d-4af0-fcfa-bb9c8000ecd3"
      },
      "execution_count": 32,
      "outputs": [
        {
          "output_type": "execute_result",
          "data": {
            "text/plain": [
              "<matplotlib.axes._subplots.AxesSubplot at 0x7fc0bb6d6610>"
            ]
          },
          "metadata": {},
          "execution_count": 32
        },
        {
          "output_type": "display_data",
          "data": {
            "text/plain": [
              "<Figure size 432x288 with 1 Axes>"
            ],
            "image/png": "[encoded data removed]"
          },
          "metadata": {
            "needs_background": "light"
          }
        }
      ]
    },
    {
      "cell_type": "markdown",
      "source": [
        "####문제 7-2. room_type 변수와 price 사이의 분포를 boxplot으로 그려보세요."
      ],
      "metadata": {
        "id": "jk5xb3OGGZ6Q"
      }
    },
    {
      "cell_type": "code",
      "source": [
        "sns.boxplot(x='room_type', y='price', data=df)"
      ],
      "metadata": {
        "id": "gIOls_w_D8yR",
        "colab": {
          "base_uri": "https://localhost:8080/",
          "height": 298
        },
        "outputId": "1658d1a1-cda8-4a5e-cc59-1ba4db3444ef"
      },
      "execution_count": 35,
      "outputs": [
        {
          "output_type": "execute_result",
          "data": {
            "text/plain": [
              "<matplotlib.axes._subplots.AxesSubplot at 0x7fc0bb66beb0>"
            ]
          },
          "metadata": {},
          "execution_count": 35
        },
        {
          "output_type": "display_data",
          "data": {
            "text/plain": [
              "<Figure size 432x288 with 1 Axes>"
            ],
            "image/png": "[encoded data removed]"
          },
          "metadata": {
            "needs_background": "light"
          }
        }
      ]
    },
    {
      "cell_type": "markdown",
      "metadata": {
        "id": "izztXKpllMss"
      },
      "source": [
        "## Step 4-1. 데이터 전처리하기"
      ]
    },
    {
      "cell_type": "markdown",
      "metadata": {
        "id": "KywGh9sjtYl9"
      },
      "source": [
        "### 문제 8-1. 결측치 처리하기"
      ]
    },
    {
      "cell_type": "code",
      "metadata": {
        "id": "TqXkwW8JDxhH"
      },
      "source": [
        "# 각 컬럼을 분석하여 미기입/오기입된 데이터 확인하기\n",
        "# Hint) 수치형 데이터는 통계를 이용해서, 범주형 데이터는 unique(), value_counts()등으로 확인\n",
        "# fill(), dropna() 등으로 미기입된 데이터를 처리하기\n",
        "# 결측치는 개인적 판단에 따라 drop하셔도 되고, 특정 값으로 채우셔도 됩니다!\n",
        "\n"
      ],
      "execution_count": null,
      "outputs": []
    },
    {
      "cell_type": "code",
      "source": [
        "df[\"reviews_per_month\"].fillna(0, inplace = True)\n",
        "df"
      ],
      "metadata": {
        "id": "9G5S1zFRGsvw",
        "colab": {
          "base_uri": "https://localhost:8080/",
          "height": 589
        },
        "outputId": "71abd081-44f6-45b7-f472-991ca60c893b"
      },
      "execution_count": 16,
      "outputs": [
        {
          "output_type": "execute_result",
          "data": {
            "text/plain": [
              "             id                                               name   host_id  \\\n",
              "0          2539                 Clean & quiet apt home by the park      2787   \n",
              "1          2595                              Skylit Midtown Castle      2845   \n",
              "2          3647                THE VILLAGE OF HARLEM....NEW YORK !      4632   \n",
              "3          3831                    Cozy Entire Floor of Brownstone      4869   \n",
              "4          5022   Entire Apt: Spacious Studio/Loft by central park      7192   \n",
              "...         ...                                                ...       ...   \n",
              "48890  36484665    Charming one bedroom - newly renovated rowhouse   8232441   \n",
              "48891  36485057      Affordable room in Bushwick/East Williamsburg   6570630   \n",
              "48892  36485431            Sunny Studio at Historical Neighborhood  23492952   \n",
              "48893  36485609               43rd St. Time Square-cozy single bed  30985759   \n",
              "48894  36487245  Trendy duplex in the very heart of Hell's Kitchen  68119814   \n",
              "\n",
              "           host_name neighbourhood_group       neighbourhood  latitude  \\\n",
              "0               John            Brooklyn          Kensington  40.64749   \n",
              "1           Jennifer           Manhattan             Midtown  40.75362   \n",
              "2          Elisabeth           Manhattan              Harlem  40.80902   \n",
              "3        LisaRoxanne            Brooklyn        Clinton Hill  40.68514   \n",
              "4              Laura           Manhattan         East Harlem  40.79851   \n",
              "...              ...                 ...                 ...       ...   \n",
              "48890        Sabrina            Brooklyn  Bedford-Stuyvesant  40.67853   \n",
              "48891        Marisol            Brooklyn            Bushwick  40.70184   \n",
              "48892  Ilgar & Aysel           Manhattan              Harlem  40.81475   \n",
              "48893            Taz           Manhattan      Hell's Kitchen  40.75751   \n",
              "48894     Christophe           Manhattan      Hell's Kitchen  40.76404   \n",
              "\n",
              "       longitude        room_type  price  minimum_nights  number_of_reviews  \\\n",
              "0      -73.97237     Private room    149               1                  9   \n",
              "1      -73.98377  Entire home/apt    225               1                 45   \n",
              "2      -73.94190     Private room    150               3                  0   \n",
              "3      -73.95976  Entire home/apt     89               1                270   \n",
              "4      -73.94399  Entire home/apt     80              10                  9   \n",
              "...          ...              ...    ...             ...                ...   \n",
              "48890  -73.94995     Private room     70               2                  0   \n",
              "48891  -73.93317     Private room     40               4                  0   \n",
              "48892  -73.94867  Entire home/apt    115              10                  0   \n",
              "48893  -73.99112      Shared room     55               1                  0   \n",
              "48894  -73.98933     Private room     90               7                  0   \n",
              "\n",
              "      last_review  reviews_per_month  calculated_host_listings_count  \\\n",
              "0      2018-10-19               0.21                               6   \n",
              "1      2019-05-21               0.38                               2   \n",
              "2             NaN               0.00                               1   \n",
              "3      2019-07-05               4.64                               1   \n",
              "4      2018-11-19               0.10                               1   \n",
              "...           ...                ...                             ...   \n",
              "48890         NaN               0.00                               2   \n",
              "48891         NaN               0.00                               2   \n",
              "48892         NaN               0.00                               1   \n",
              "48893         NaN               0.00                               6   \n",
              "48894         NaN               0.00                               1   \n",
              "\n",
              "       availability_365  \n",
              "0                   365  \n",
              "1                   355  \n",
              "2                   365  \n",
              "3                   194  \n",
              "4                     0  \n",
              "...                 ...  \n",
              "48890                 9  \n",
              "48891                36  \n",
              "48892                27  \n",
              "48893                 2  \n",
              "48894                23  \n",
              "\n",
              "[48895 rows x 16 columns]"
            ],
            "text/html": [
              "\n",
              "  <div id=\"df-b4328965-f96a-4577-8816-60da01e8cd8f\">\n",
              "    <div class=\"colab-df-container\">\n",
              "      <div>\n",
              "<style scoped>\n",
              "    .dataframe tbody tr th:only-of-type {\n",
              "        vertical-align: middle;\n",
              "    }\n",
              "\n",
              "    .dataframe tbody tr th {\n",
              "        vertical-align: top;\n",
              "    }\n",
              "\n",
              "    .dataframe thead th {\n",
              "        text-align: right;\n",
              "    }\n",
              "</style>\n",
              "<table border=\"1\" class=\"dataframe\">\n",
              "  <thead>\n",
              "    <tr style=\"text-align: right;\">\n",
              "      <th></th>\n",
              "      <th>id</th>\n",
              "      <th>name</th>\n",
              "      <th>host_id</th>\n",
              "      <th>host_name</th>\n",
              "      <th>neighbourhood_group</th>\n",
              "      <th>neighbourhood</th>\n",
              "      <th>latitude</th>\n",
              "      <th>longitude</th>\n",
              "      <th>room_type</th>\n",
              "      <th>price</th>\n",
              "      <th>minimum_nights</th>\n",
              "      <th>number_of_reviews</th>\n",
              "      <th>last_review</th>\n",
              "      <th>reviews_per_month</th>\n",
              "      <th>calculated_host_listings_count</th>\n",
              "      <th>availability_365</th>\n",
              "    </tr>\n",
              "  </thead>\n",
              "  <tbody>\n",
              "    <tr>\n",
              "      <th>0</th>\n",
              "      <td>2539</td>\n",
              "      <td>Clean &amp; quiet apt home by the park</td>\n",
              "      <td>2787</td>\n",
              "      <td>John</td>\n",
              "      <td>Brooklyn</td>\n",
              "      <td>Kensington</td>\n",
              "      <td>40.64749</td>\n",
              "      <td>-73.97237</td>\n",
              "      <td>Private room</td>\n",
              "      <td>149</td>\n",
              "      <td>1</td>\n",
              "      <td>9</td>\n",
              "      <td>2018-10-19</td>\n",
              "      <td>0.21</td>\n",
              "      <td>6</td>\n",
              "      <td>365</td>\n",
              "    </tr>\n",
              "    <tr>\n",
              "      <th>1</th>\n",
              "      <td>2595</td>\n",
              "      <td>Skylit Midtown Castle</td>\n",
              "      <td>2845</td>\n",
              "      <td>Jennifer</td>\n",
              "      <td>Manhattan</td>\n",
              "      <td>Midtown</td>\n",
              "      <td>40.75362</td>\n",
              "      <td>-73.98377</td>\n",
              "      <td>Entire home/apt</td>\n",
              "      <td>225</td>\n",
              "      <td>1</td>\n",
              "      <td>45</td>\n",
              "      <td>2019-05-21</td>\n",
              "      <td>0.38</td>\n",
              "      <td>2</td>\n",
              "      <td>355</td>\n",
              "    </tr>\n",
              "    <tr>\n",
              "      <th>2</th>\n",
              "      <td>3647</td>\n",
              "      <td>THE VILLAGE OF HARLEM....NEW YORK !</td>\n",
              "      <td>4632</td>\n",
              "      <td>Elisabeth</td>\n",
              "      <td>Manhattan</td>\n",
              "      <td>Harlem</td>\n",
              "      <td>40.80902</td>\n",
              "      <td>-73.94190</td>\n",
              "      <td>Private room</td>\n",
              "      <td>150</td>\n",
              "      <td>3</td>\n",
              "      <td>0</td>\n",
              "      <td>NaN</td>\n",
              "      <td>0.00</td>\n",
              "      <td>1</td>\n",
              "      <td>365</td>\n",
              "    </tr>\n",
              "    <tr>\n",
              "      <th>3</th>\n",
              "      <td>3831</td>\n",
              "      <td>Cozy Entire Floor of Brownstone</td>\n",
              "      <td>4869</td>\n",
              "      <td>LisaRoxanne</td>\n",
              "      <td>Brooklyn</td>\n",
              "      <td>Clinton Hill</td>\n",
              "      <td>40.68514</td>\n",
              "      <td>-73.95976</td>\n",
              "      <td>Entire home/apt</td>\n",
              "      <td>89</td>\n",
              "      <td>1</td>\n",
              "      <td>270</td>\n",
              "      <td>2019-07-05</td>\n",
              "      <td>4.64</td>\n",
              "      <td>1</td>\n",
              "      <td>194</td>\n",
              "    </tr>\n",
              "    <tr>\n",
              "      <th>4</th>\n",
              "      <td>5022</td>\n",
              "      <td>Entire Apt: Spacious Studio/Loft by central park</td>\n",
              "      <td>7192</td>\n",
              "      <td>Laura</td>\n",
              "      <td>Manhattan</td>\n",
              "      <td>East Harlem</td>\n",
              "      <td>40.79851</td>\n",
              "      <td>-73.94399</td>\n",
              "      <td>Entire home/apt</td>\n",
              "      <td>80</td>\n",
              "      <td>10</td>\n",
              "      <td>9</td>\n",
              "      <td>2018-11-19</td>\n",
              "      <td>0.10</td>\n",
              "      <td>1</td>\n",
              "      <td>0</td>\n",
              "    </tr>\n",
              "    <tr>\n",
              "      <th>...</th>\n",
              "      <td>...</td>\n",
              "      <td>...</td>\n",
              "      <td>...</td>\n",
              "      <td>...</td>\n",
              "      <td>...</td>\n",
              "      <td>...</td>\n",
              "      <td>...</td>\n",
              "      <td>...</td>\n",
              "      <td>...</td>\n",
              "      <td>...</td>\n",
              "      <td>...</td>\n",
              "      <td>...</td>\n",
              "      <td>...</td>\n",
              "      <td>...</td>\n",
              "      <td>...</td>\n",
              "      <td>...</td>\n",
              "    </tr>\n",
              "    <tr>\n",
              "      <th>48890</th>\n",
              "      <td>36484665</td>\n",
              "      <td>Charming one bedroom - newly renovated rowhouse</td>\n",
              "      <td>8232441</td>\n",
              "      <td>Sabrina</td>\n",
              "      <td>Brooklyn</td>\n",
              "      <td>Bedford-Stuyvesant</td>\n",
              "      <td>40.67853</td>\n",
              "      <td>-73.94995</td>\n",
              "      <td>Private room</td>\n",
              "      <td>70</td>\n",
              "      <td>2</td>\n",
              "      <td>0</td>\n",
              "      <td>NaN</td>\n",
              "      <td>0.00</td>\n",
              "      <td>2</td>\n",
              "      <td>9</td>\n",
              "    </tr>\n",
              "    <tr>\n",
              "      <th>48891</th>\n",
              "      <td>36485057</td>\n",
              "      <td>Affordable room in Bushwick/East Williamsburg</td>\n",
              "      <td>6570630</td>\n",
              "      <td>Marisol</td>\n",
              "      <td>Brooklyn</td>\n",
              "      <td>Bushwick</td>\n",
              "      <td>40.70184</td>\n",
              "      <td>-73.93317</td>\n",
              "      <td>Private room</td>\n",
              "      <td>40</td>\n",
              "      <td>4</td>\n",
              "      <td>0</td>\n",
              "      <td>NaN</td>\n",
              "      <td>0.00</td>\n",
              "      <td>2</td>\n",
              "      <td>36</td>\n",
              "    </tr>\n",
              "    <tr>\n",
              "      <th>48892</th>\n",
              "      <td>36485431</td>\n",
              "      <td>Sunny Studio at Historical Neighborhood</td>\n",
              "      <td>23492952</td>\n",
              "      <td>Ilgar &amp; Aysel</td>\n",
              "      <td>Manhattan</td>\n",
              "      <td>Harlem</td>\n",
              "      <td>40.81475</td>\n",
              "      <td>-73.94867</td>\n",
              "      <td>Entire home/apt</td>\n",
              "      <td>115</td>\n",
              "      <td>10</td>\n",
              "      <td>0</td>\n",
              "      <td>NaN</td>\n",
              "      <td>0.00</td>\n",
              "      <td>1</td>\n",
              "      <td>27</td>\n",
              "    </tr>\n",
              "    <tr>\n",
              "      <th>48893</th>\n",
              "      <td>36485609</td>\n",
              "      <td>43rd St. Time Square-cozy single bed</td>\n",
              "      <td>30985759</td>\n",
              "      <td>Taz</td>\n",
              "      <td>Manhattan</td>\n",
              "      <td>Hell's Kitchen</td>\n",
              "      <td>40.75751</td>\n",
              "      <td>-73.99112</td>\n",
              "      <td>Shared room</td>\n",
              "      <td>55</td>\n",
              "      <td>1</td>\n",
              "      <td>0</td>\n",
              "      <td>NaN</td>\n",
              "      <td>0.00</td>\n",
              "      <td>6</td>\n",
              "      <td>2</td>\n",
              "    </tr>\n",
              "    <tr>\n",
              "      <th>48894</th>\n",
              "      <td>36487245</td>\n",
              "      <td>Trendy duplex in the very heart of Hell's Kitchen</td>\n",
              "      <td>68119814</td>\n",
              "      <td>Christophe</td>\n",
              "      <td>Manhattan</td>\n",
              "      <td>Hell's Kitchen</td>\n",
              "      <td>40.76404</td>\n",
              "      <td>-73.98933</td>\n",
              "      <td>Private room</td>\n",
              "      <td>90</td>\n",
              "      <td>7</td>\n",
              "      <td>0</td>\n",
              "      <td>NaN</td>\n",
              "      <td>0.00</td>\n",
              "      <td>1</td>\n",
              "      <td>23</td>\n",
              "    </tr>\n",
              "  </tbody>\n",
              "</table>\n",
              "<p>48895 rows × 16 columns</p>\n",
              "</div>\n",
              "      <button class=\"colab-df-convert\" onclick=\"convertToInteractive('df-b4328965-f96a-4577-8816-60da01e8cd8f')\"\n",
              "              title=\"Convert this dataframe to an interactive table.\"\n",
              "              style=\"display:none;\">\n",
              "        \n",
              "  <svg xmlns=\"http://www.w3.org/2000/svg\" height=\"24px\"viewBox=\"0 0 24 24\"\n",
              "       width=\"24px\">\n",
              "    <path d=\"M0 0h24v24H0V0z\" fill=\"none\"/>\n",
              "    <path d=\"M18.56 5.44l.94 2.06.94-2.06 2.06-.94-2.06-.94-.94-2.06-.94 2.06-2.06.94zm-11 1L8.5 8.5l.94-2.06 2.06-.94-2.06-.94L8.5 2.5l-.94 2.06-2.06.94zm10 10l.94 2.06.94-2.06 2.06-.94-2.06-.94-.94-2.06-.94 2.06-2.06.94z\"/><path d=\"M17.41 7.96l-1.37-1.37c-.4-.4-.92-.59-1.43-.59-.52 0-1.04.2-1.43.59L10.3 9.45l-7.72 7.72c-.78.78-.78 2.05 0 2.83L4 21.41c.39.39.9.59 1.41.59.51 0 1.02-.2 1.41-.59l7.78-7.78 2.81-2.81c.8-.78.8-2.07 0-2.86zM5.41 20L4 18.59l7.72-7.72 1.47 1.35L5.41 20z\"/>\n",
              "  </svg>\n",
              "      </button>\n",
              "      \n",
              "  <style>\n",
              "    .colab-df-container {\n",
              "      display:flex;\n",
              "      flex-wrap:wrap;\n",
              "      gap: 12px;\n",
              "    }\n",
              "\n",
              "    .colab-df-convert {\n",
              "      background-color: #E8F0FE;\n",
              "      border: none;\n",
              "      border-radius: 50%;\n",
              "      cursor: pointer;\n",
              "      display: none;\n",
              "      fill: #1967D2;\n",
              "      height: 32px;\n",
              "      padding: 0 0 0 0;\n",
              "      width: 32px;\n",
              "    }\n",
              "\n",
              "    .colab-df-convert:hover {\n",
              "      background-color: #E2EBFA;\n",
              "      box-shadow: 0px 1px 2px rgba(60, 64, 67, 0.3), 0px 1px 3px 1px rgba(60, 64, 67, 0.15);\n",
              "      fill: #174EA6;\n",
              "    }\n",
              "\n",
              "    [theme=dark] .colab-df-convert {\n",
              "      background-color: #3B4455;\n",
              "      fill: #D2E3FC;\n",
              "    }\n",
              "\n",
              "    [theme=dark] .colab-df-convert:hover {\n",
              "      background-color: #434B5C;\n",
              "      box-shadow: 0px 1px 3px 1px rgba(0, 0, 0, 0.15);\n",
              "      filter: drop-shadow(0px 1px 2px rgba(0, 0, 0, 0.3));\n",
              "      fill: #FFFFFF;\n",
              "    }\n",
              "  </style>\n",
              "\n",
              "      <script>\n",
              "        const buttonEl =\n",
              "          document.querySelector('#df-b4328965-f96a-4577-8816-60da01e8cd8f button.colab-df-convert');\n",
              "        buttonEl.style.display =\n",
              "          google.colab.kernel.accessAllowed ? 'block' : 'none';\n",
              "\n",
              "        async function convertToInteractive(key) {\n",
              "          const element = document.querySelector('#df-b4328965-f96a-4577-8816-60da01e8cd8f');\n",
              "          const dataTable =\n",
              "            await google.colab.kernel.invokeFunction('convertToInteractive',\n",
              "                                                     [key], {});\n",
              "          if (!dataTable) return;\n",
              "\n",
              "          const docLinkHtml = 'Like what you see? Visit the ' +\n",
              "            '<a target=\"_blank\" href=https://colab.research.google.com/notebooks/data_table.ipynb>data table notebook</a>'\n",
              "            + ' to learn more about interactive tables.';\n",
              "          element.innerHTML = '';\n",
              "          dataTable['output_type'] = 'display_data';\n",
              "          await google.colab.output.renderOutput(dataTable, element);\n",
              "          const docLink = document.createElement('div');\n",
              "          docLink.innerHTML = docLinkHtml;\n",
              "          element.appendChild(docLink);\n",
              "        }\n",
              "      </script>\n",
              "    </div>\n",
              "  </div>\n",
              "  "
            ]
          },
          "metadata": {},
          "execution_count": 16
        }
      ]
    },
    {
      "cell_type": "code",
      "source": [
        "df.isna().sum()"
      ],
      "metadata": {
        "colab": {
          "base_uri": "https://localhost:8080/"
        },
        "id": "1IjylEjVncKJ",
        "outputId": "a7533332-2e7b-4ca8-813c-46e228866b67"
      },
      "execution_count": 10,
      "outputs": [
        {
          "output_type": "execute_result",
          "data": {
            "text/plain": [
              "id                                    0\n",
              "name                                 16\n",
              "host_id                               0\n",
              "host_name                            21\n",
              "neighbourhood_group                   0\n",
              "neighbourhood                         0\n",
              "latitude                              0\n",
              "longitude                             0\n",
              "room_type                             0\n",
              "price                                 0\n",
              "minimum_nights                        0\n",
              "number_of_reviews                     0\n",
              "last_review                       10052\n",
              "reviews_per_month                     0\n",
              "calculated_host_listings_count        0\n",
              "availability_365                      0\n",
              "dtype: int64"
            ]
          },
          "metadata": {},
          "execution_count": 10
        }
      ]
    },
    {
      "cell_type": "markdown",
      "source": [
        "### 문제 8-2. 학습에 필요없는 column이라고 판단된다면 제거하기"
      ],
      "metadata": {
        "id": "TJkIM29Y8F7d"
      }
    },
    {
      "cell_type": "code",
      "source": [
        "# 'id', 'name', 'host_name', 'latitude', 'longitude' feature를 제거해보세요!\n",
        "# 각자 판단하여 위 column을 살려서 활용하고, 다른 Column을 제거하셔도 됩니다!\n",
        "# drop()\n",
        "\n",
        "df.drop([\"id\", \"name\", \"host_name\", \"latitude\", \"longitude\", \"last_review\"], axis = 1, inplace = True) #last_review는 결측치 처리를 어떻게 해야 할지 몰라서 drop 했습니다. 어떻게 처리하는 게 좋을까요?"
      ],
      "metadata": {
        "id": "K5_pBtHq8K9-"
      },
      "execution_count": 17,
      "outputs": []
    },
    {
      "cell_type": "code",
      "source": [
        "df"
      ],
      "metadata": {
        "colab": {
          "base_uri": "https://localhost:8080/",
          "height": 424
        },
        "id": "RgG8jIH5svio",
        "outputId": "7ffefef8-d365-4334-e3e6-c80831ddef50"
      },
      "execution_count": 18,
      "outputs": [
        {
          "output_type": "execute_result",
          "data": {
            "text/plain": [
              "        host_id neighbourhood_group       neighbourhood        room_type  \\\n",
              "0          2787            Brooklyn          Kensington     Private room   \n",
              "1          2845           Manhattan             Midtown  Entire home/apt   \n",
              "2          4632           Manhattan              Harlem     Private room   \n",
              "3          4869            Brooklyn        Clinton Hill  Entire home/apt   \n",
              "4          7192           Manhattan         East Harlem  Entire home/apt   \n",
              "...         ...                 ...                 ...              ...   \n",
              "48890   8232441            Brooklyn  Bedford-Stuyvesant     Private room   \n",
              "48891   6570630            Brooklyn            Bushwick     Private room   \n",
              "48892  23492952           Manhattan              Harlem  Entire home/apt   \n",
              "48893  30985759           Manhattan      Hell's Kitchen      Shared room   \n",
              "48894  68119814           Manhattan      Hell's Kitchen     Private room   \n",
              "\n",
              "       price  minimum_nights  number_of_reviews  reviews_per_month  \\\n",
              "0        149               1                  9               0.21   \n",
              "1        225               1                 45               0.38   \n",
              "2        150               3                  0               0.00   \n",
              "3         89               1                270               4.64   \n",
              "4         80              10                  9               0.10   \n",
              "...      ...             ...                ...                ...   \n",
              "48890     70               2                  0               0.00   \n",
              "48891     40               4                  0               0.00   \n",
              "48892    115              10                  0               0.00   \n",
              "48893     55               1                  0               0.00   \n",
              "48894     90               7                  0               0.00   \n",
              "\n",
              "       calculated_host_listings_count  availability_365  \n",
              "0                                   6               365  \n",
              "1                                   2               355  \n",
              "2                                   1               365  \n",
              "3                                   1               194  \n",
              "4                                   1                 0  \n",
              "...                               ...               ...  \n",
              "48890                               2                 9  \n",
              "48891                               2                36  \n",
              "48892                               1                27  \n",
              "48893                               6                 2  \n",
              "48894                               1                23  \n",
              "\n",
              "[48895 rows x 10 columns]"
            ],
            "text/html": [
              "\n",
              "  <div id=\"df-206f1941-f6e2-4682-ab29-dd215432898a\">\n",
              "    <div class=\"colab-df-container\">\n",
              "      <div>\n",
              "<style scoped>\n",
              "    .dataframe tbody tr th:only-of-type {\n",
              "        vertical-align: middle;\n",
              "    }\n",
              "\n",
              "    .dataframe tbody tr th {\n",
              "        vertical-align: top;\n",
              "    }\n",
              "\n",
              "    .dataframe thead th {\n",
              "        text-align: right;\n",
              "    }\n",
              "</style>\n",
              "<table border=\"1\" class=\"dataframe\">\n",
              "  <thead>\n",
              "    <tr style=\"text-align: right;\">\n",
              "      <th></th>\n",
              "      <th>host_id</th>\n",
              "      <th>neighbourhood_group</th>\n",
              "      <th>neighbourhood</th>\n",
              "      <th>room_type</th>\n",
              "      <th>price</th>\n",
              "      <th>minimum_nights</th>\n",
              "      <th>number_of_reviews</th>\n",
              "      <th>reviews_per_month</th>\n",
              "      <th>calculated_host_listings_count</th>\n",
              "      <th>availability_365</th>\n",
              "    </tr>\n",
              "  </thead>\n",
              "  <tbody>\n",
              "    <tr>\n",
              "      <th>0</th>\n",
              "      <td>2787</td>\n",
              "      <td>Brooklyn</td>\n",
              "      <td>Kensington</td>\n",
              "      <td>Private room</td>\n",
              "      <td>149</td>\n",
              "      <td>1</td>\n",
              "      <td>9</td>\n",
              "      <td>0.21</td>\n",
              "      <td>6</td>\n",
              "      <td>365</td>\n",
              "    </tr>\n",
              "    <tr>\n",
              "      <th>1</th>\n",
              "      <td>2845</td>\n",
              "      <td>Manhattan</td>\n",
              "      <td>Midtown</td>\n",
              "      <td>Entire home/apt</td>\n",
              "      <td>225</td>\n",
              "      <td>1</td>\n",
              "      <td>45</td>\n",
              "      <td>0.38</td>\n",
              "      <td>2</td>\n",
              "      <td>355</td>\n",
              "    </tr>\n",
              "    <tr>\n",
              "      <th>2</th>\n",
              "      <td>4632</td>\n",
              "      <td>Manhattan</td>\n",
              "      <td>Harlem</td>\n",
              "      <td>Private room</td>\n",
              "      <td>150</td>\n",
              "      <td>3</td>\n",
              "      <td>0</td>\n",
              "      <td>0.00</td>\n",
              "      <td>1</td>\n",
              "      <td>365</td>\n",
              "    </tr>\n",
              "    <tr>\n",
              "      <th>3</th>\n",
              "      <td>4869</td>\n",
              "      <td>Brooklyn</td>\n",
              "      <td>Clinton Hill</td>\n",
              "      <td>Entire home/apt</td>\n",
              "      <td>89</td>\n",
              "      <td>1</td>\n",
              "      <td>270</td>\n",
              "      <td>4.64</td>\n",
              "      <td>1</td>\n",
              "      <td>194</td>\n",
              "    </tr>\n",
              "    <tr>\n",
              "      <th>4</th>\n",
              "      <td>7192</td>\n",
              "      <td>Manhattan</td>\n",
              "      <td>East Harlem</td>\n",
              "      <td>Entire home/apt</td>\n",
              "      <td>80</td>\n",
              "      <td>10</td>\n",
              "      <td>9</td>\n",
              "      <td>0.10</td>\n",
              "      <td>1</td>\n",
              "      <td>0</td>\n",
              "    </tr>\n",
              "    <tr>\n",
              "      <th>...</th>\n",
              "      <td>...</td>\n",
              "      <td>...</td>\n",
              "      <td>...</td>\n",
              "      <td>...</td>\n",
              "      <td>...</td>\n",
              "      <td>...</td>\n",
              "      <td>...</td>\n",
              "      <td>...</td>\n",
              "      <td>...</td>\n",
              "      <td>...</td>\n",
              "    </tr>\n",
              "    <tr>\n",
              "      <th>48890</th>\n",
              "      <td>8232441</td>\n",
              "      <td>Brooklyn</td>\n",
              "      <td>Bedford-Stuyvesant</td>\n",
              "      <td>Private room</td>\n",
              "      <td>70</td>\n",
              "      <td>2</td>\n",
              "      <td>0</td>\n",
              "      <td>0.00</td>\n",
              "      <td>2</td>\n",
              "      <td>9</td>\n",
              "    </tr>\n",
              "    <tr>\n",
              "      <th>48891</th>\n",
              "      <td>6570630</td>\n",
              "      <td>Brooklyn</td>\n",
              "      <td>Bushwick</td>\n",
              "      <td>Private room</td>\n",
              "      <td>40</td>\n",
              "      <td>4</td>\n",
              "      <td>0</td>\n",
              "      <td>0.00</td>\n",
              "      <td>2</td>\n",
              "      <td>36</td>\n",
              "    </tr>\n",
              "    <tr>\n",
              "      <th>48892</th>\n",
              "      <td>23492952</td>\n",
              "      <td>Manhattan</td>\n",
              "      <td>Harlem</td>\n",
              "      <td>Entire home/apt</td>\n",
              "      <td>115</td>\n",
              "      <td>10</td>\n",
              "      <td>0</td>\n",
              "      <td>0.00</td>\n",
              "      <td>1</td>\n",
              "      <td>27</td>\n",
              "    </tr>\n",
              "    <tr>\n",
              "      <th>48893</th>\n",
              "      <td>30985759</td>\n",
              "      <td>Manhattan</td>\n",
              "      <td>Hell's Kitchen</td>\n",
              "      <td>Shared room</td>\n",
              "      <td>55</td>\n",
              "      <td>1</td>\n",
              "      <td>0</td>\n",
              "      <td>0.00</td>\n",
              "      <td>6</td>\n",
              "      <td>2</td>\n",
              "    </tr>\n",
              "    <tr>\n",
              "      <th>48894</th>\n",
              "      <td>68119814</td>\n",
              "      <td>Manhattan</td>\n",
              "      <td>Hell's Kitchen</td>\n",
              "      <td>Private room</td>\n",
              "      <td>90</td>\n",
              "      <td>7</td>\n",
              "      <td>0</td>\n",
              "      <td>0.00</td>\n",
              "      <td>1</td>\n",
              "      <td>23</td>\n",
              "    </tr>\n",
              "  </tbody>\n",
              "</table>\n",
              "<p>48895 rows × 10 columns</p>\n",
              "</div>\n",
              "      <button class=\"colab-df-convert\" onclick=\"convertToInteractive('df-206f1941-f6e2-4682-ab29-dd215432898a')\"\n",
              "              title=\"Convert this dataframe to an interactive table.\"\n",
              "              style=\"display:none;\">\n",
              "        \n",
              "  <svg xmlns=\"http://www.w3.org/2000/svg\" height=\"24px\"viewBox=\"0 0 24 24\"\n",
              "       width=\"24px\">\n",
              "    <path d=\"M0 0h24v24H0V0z\" fill=\"none\"/>\n",
              "    <path d=\"M18.56 5.44l.94 2.06.94-2.06 2.06-.94-2.06-.94-.94-2.06-.94 2.06-2.06.94zm-11 1L8.5 8.5l.94-2.06 2.06-.94-2.06-.94L8.5 2.5l-.94 2.06-2.06.94zm10 10l.94 2.06.94-2.06 2.06-.94-2.06-.94-.94-2.06-.94 2.06-2.06.94z\"/><path d=\"M17.41 7.96l-1.37-1.37c-.4-.4-.92-.59-1.43-.59-.52 0-1.04.2-1.43.59L10.3 9.45l-7.72 7.72c-.78.78-.78 2.05 0 2.83L4 21.41c.39.39.9.59 1.41.59.51 0 1.02-.2 1.41-.59l7.78-7.78 2.81-2.81c.8-.78.8-2.07 0-2.86zM5.41 20L4 18.59l7.72-7.72 1.47 1.35L5.41 20z\"/>\n",
              "  </svg>\n",
              "      </button>\n",
              "      \n",
              "  <style>\n",
              "    .colab-df-container {\n",
              "      display:flex;\n",
              "      flex-wrap:wrap;\n",
              "      gap: 12px;\n",
              "    }\n",
              "\n",
              "    .colab-df-convert {\n",
              "      background-color: #E8F0FE;\n",
              "      border: none;\n",
              "      border-radius: 50%;\n",
              "      cursor: pointer;\n",
              "      display: none;\n",
              "      fill: #1967D2;\n",
              "      height: 32px;\n",
              "      padding: 0 0 0 0;\n",
              "      width: 32px;\n",
              "    }\n",
              "\n",
              "    .colab-df-convert:hover {\n",
              "      background-color: #E2EBFA;\n",
              "      box-shadow: 0px 1px 2px rgba(60, 64, 67, 0.3), 0px 1px 3px 1px rgba(60, 64, 67, 0.15);\n",
              "      fill: #174EA6;\n",
              "    }\n",
              "\n",
              "    [theme=dark] .colab-df-convert {\n",
              "      background-color: #3B4455;\n",
              "      fill: #D2E3FC;\n",
              "    }\n",
              "\n",
              "    [theme=dark] .colab-df-convert:hover {\n",
              "      background-color: #434B5C;\n",
              "      box-shadow: 0px 1px 3px 1px rgba(0, 0, 0, 0.15);\n",
              "      filter: drop-shadow(0px 1px 2px rgba(0, 0, 0, 0.3));\n",
              "      fill: #FFFFFF;\n",
              "    }\n",
              "  </style>\n",
              "\n",
              "      <script>\n",
              "        const buttonEl =\n",
              "          document.querySelector('#df-206f1941-f6e2-4682-ab29-dd215432898a button.colab-df-convert');\n",
              "        buttonEl.style.display =\n",
              "          google.colab.kernel.accessAllowed ? 'block' : 'none';\n",
              "\n",
              "        async function convertToInteractive(key) {\n",
              "          const element = document.querySelector('#df-206f1941-f6e2-4682-ab29-dd215432898a');\n",
              "          const dataTable =\n",
              "            await google.colab.kernel.invokeFunction('convertToInteractive',\n",
              "                                                     [key], {});\n",
              "          if (!dataTable) return;\n",
              "\n",
              "          const docLinkHtml = 'Like what you see? Visit the ' +\n",
              "            '<a target=\"_blank\" href=https://colab.research.google.com/notebooks/data_table.ipynb>data table notebook</a>'\n",
              "            + ' to learn more about interactive tables.';\n",
              "          element.innerHTML = '';\n",
              "          dataTable['output_type'] = 'display_data';\n",
              "          await google.colab.output.renderOutput(dataTable, element);\n",
              "          const docLink = document.createElement('div');\n",
              "          docLink.innerHTML = docLinkHtml;\n",
              "          element.appendChild(docLink);\n",
              "        }\n",
              "      </script>\n",
              "    </div>\n",
              "  </div>\n",
              "  "
            ]
          },
          "metadata": {},
          "execution_count": 18
        }
      ]
    },
    {
      "cell_type": "markdown",
      "metadata": {
        "id": "CXLd43EZ9EgS"
      },
      "source": [
        "### 문제 9. 아웃라이어를 제거하고 통계 재분석하기"
      ]
    },
    {
      "cell_type": "code",
      "metadata": {
        "id": "8HbUtvqs9C-C"
      },
      "source": [
        "# quantile(), drop() 등 메소드를 이용하여 outlier 제거하고 통계 재분석하기\n",
        "# 예시 코드를 제공하겠습니다!\n",
        "# 기본 코드니까 이게 반드시 정답인건 아니고, 이런식으로 파이썬으로 데이터 전처리를 한다 정도로만 보시면 될 것 같아요"
      ],
      "execution_count": null,
      "outputs": []
    },
    {
      "cell_type": "code",
      "source": [
        "p1 = df['price'].quantile(0.95)\n",
        "p2 = df['price'].quantile(0.005)\n",
        "print(p1, p2)"
      ],
      "metadata": {
        "id": "R9rQRvyYHVf5",
        "colab": {
          "base_uri": "https://localhost:8080/"
        },
        "outputId": "830faa9b-b26a-4f6c-c1ab-57d262c4dc38"
      },
      "execution_count": 19,
      "outputs": [
        {
          "output_type": "stream",
          "name": "stdout",
          "text": [
            "355.0 26.0\n"
          ]
        }
      ]
    },
    {
      "cell_type": "code",
      "source": [
        "upper_bound = df['price'].quantile(0.5) + ( 1.5 * df['price'].quantile(0.75) )\n",
        "lower_bound = df['price'].quantile(0.5) - ( 1.5 * df['price'].quantile(0.25) )\n",
        "print(upper_bound, lower_bound)"
      ],
      "metadata": {
        "colab": {
          "base_uri": "https://localhost:8080/"
        },
        "id": "zxqJAfT4tE3l",
        "outputId": "24ba0091-6f2c-4c12-92f8-c9775bba663f"
      },
      "execution_count": 20,
      "outputs": [
        {
          "output_type": "stream",
          "name": "stdout",
          "text": [
            "368.5 2.5\n"
          ]
        }
      ]
    },
    {
      "cell_type": "code",
      "source": [
        "df = df[(df['price'] < p1) & (df['price'] > p2)]"
      ],
      "metadata": {
        "id": "FVUyYblVHXNA"
      },
      "execution_count": null,
      "outputs": []
    },
    {
      "cell_type": "code",
      "source": [
        "df = df[(df['price'] < upper_bound) & (df['price'] > lower_bound)]"
      ],
      "metadata": {
        "id": "55dge_6IttVg"
      },
      "execution_count": 21,
      "outputs": []
    },
    {
      "cell_type": "code",
      "source": [
        "df.info()"
      ],
      "metadata": {
        "colab": {
          "base_uri": "https://localhost:8080/"
        },
        "id": "yqJ3FGDEt00b",
        "outputId": "f4836f08-1a42-4a14-e2fe-e6c27f11f187"
      },
      "execution_count": 22,
      "outputs": [
        {
          "output_type": "stream",
          "name": "stdout",
          "text": [
            "<class 'pandas.core.frame.DataFrame'>\n",
            "Int64Index: 46508 entries, 0 to 48894\n",
            "Data columns (total 10 columns):\n",
            " #   Column                          Non-Null Count  Dtype  \n",
            "---  ------                          --------------  -----  \n",
            " 0   host_id                         46508 non-null  int64  \n",
            " 1   neighbourhood_group             46508 non-null  object \n",
            " 2   neighbourhood                   46508 non-null  object \n",
            " 3   room_type                       46508 non-null  object \n",
            " 4   price                           46508 non-null  int64  \n",
            " 5   minimum_nights                  46508 non-null  int64  \n",
            " 6   number_of_reviews               46508 non-null  int64  \n",
            " 7   reviews_per_month               46508 non-null  float64\n",
            " 8   calculated_host_listings_count  46508 non-null  int64  \n",
            " 9   availability_365                46508 non-null  int64  \n",
            "dtypes: float64(1), int64(6), object(3)\n",
            "memory usage: 3.9+ MB\n"
          ]
        }
      ]
    },
    {
      "cell_type": "code",
      "source": [
        "df['price'].hist()"
      ],
      "metadata": {
        "id": "72_mK-XhHb24",
        "colab": {
          "base_uri": "https://localhost:8080/",
          "height": 283
        },
        "outputId": "35414f11-0420-49b3-d5c8-ad1a155bc9ac"
      },
      "execution_count": 23,
      "outputs": [
        {
          "output_type": "execute_result",
          "data": {
            "text/plain": [
              "<matplotlib.axes._subplots.AxesSubplot at 0x7fba53c14520>"
            ]
          },
          "metadata": {},
          "execution_count": 23
        },
        {
          "output_type": "display_data",
          "data": {
            "text/plain": [
              "<Figure size 432x288 with 1 Axes>"
            ],
            "image/png": "[encoded data removed]"
          },
          "metadata": {
            "needs_background": "light"
          }
        }
      ]
    },
    {
      "cell_type": "code",
      "source": [
        "sns.boxplot(x = \"room_type\", y = \"price\", data = df)"
      ],
      "metadata": {
        "colab": {
          "base_uri": "https://localhost:8080/",
          "height": 298
        },
        "id": "Y8adwXisFOK2",
        "outputId": "ff80baa1-af20-45ce-cb1e-d2bd47630385"
      },
      "execution_count": 85,
      "outputs": [
        {
          "output_type": "execute_result",
          "data": {
            "text/plain": [
              "<matplotlib.axes._subplots.AxesSubplot at 0x7fba521fdb80>"
            ]
          },
          "metadata": {},
          "execution_count": 85
        },
        {
          "output_type": "display_data",
          "data": {
            "text/plain": [
              "<Figure size 432x288 with 1 Axes>"
            ],
            "image/png": "[encoded data removed]"
          },
          "metadata": {
            "needs_background": "light"
          }
        }
      ]
    },
    {
      "cell_type": "markdown",
      "metadata": {
        "id": "FRfd7ABjepBS"
      },
      "source": [
        "## Step 4-2. 데이터 전처리하기 "
      ]
    },
    {
      "cell_type": "markdown",
      "metadata": {
        "id": "sWIF67-8lr4C"
      },
      "source": [
        "### 문제 10. get_dummies를 이용한 범주형 데이터 전처리"
      ]
    },
    {
      "cell_type": "code",
      "source": [
        "# 어떤 column이 범주형이고, 어떤 column이 수치형인지 스스로 판단해보세요\n",
        "df.columns\n",
        "df.info()\n",
        "\n",
        "#범주형: neighbourhood_group, neighbourhood, room_type\n",
        "#수치형: host_id (기계학습에 도움이 크게 될 것 같지 않은 변수라고 생각합니다), price, minimum_nights, rumber_of_reviews, reviews_per_month, calculated_host_listings_count, availability_365"
      ],
      "metadata": {
        "id": "3OrphRKkHv46",
        "colab": {
          "base_uri": "https://localhost:8080/"
        },
        "outputId": "b3a3c6cf-a137-4eab-9c1f-5b315783f61e"
      },
      "execution_count": 25,
      "outputs": [
        {
          "output_type": "stream",
          "name": "stdout",
          "text": [
            "<class 'pandas.core.frame.DataFrame'>\n",
            "Int64Index: 46508 entries, 0 to 48894\n",
            "Data columns (total 10 columns):\n",
            " #   Column                          Non-Null Count  Dtype  \n",
            "---  ------                          --------------  -----  \n",
            " 0   host_id                         46508 non-null  int64  \n",
            " 1   neighbourhood_group             46508 non-null  object \n",
            " 2   neighbourhood                   46508 non-null  object \n",
            " 3   room_type                       46508 non-null  object \n",
            " 4   price                           46508 non-null  int64  \n",
            " 5   minimum_nights                  46508 non-null  int64  \n",
            " 6   number_of_reviews               46508 non-null  int64  \n",
            " 7   reviews_per_month               46508 non-null  float64\n",
            " 8   calculated_host_listings_count  46508 non-null  int64  \n",
            " 9   availability_365                46508 non-null  int64  \n",
            "dtypes: float64(1), int64(6), object(3)\n",
            "memory usage: 3.9+ MB\n"
          ]
        }
      ]
    },
    {
      "cell_type": "code",
      "metadata": {
        "id": "wVmEa1ChlrTc",
        "colab": {
          "base_uri": "https://localhost:8080/",
          "height": 505
        },
        "outputId": "8515e8af-24ee-40a7-8e43-20ded9189732"
      },
      "source": [
        "# 예시 코드를 제공하겠습니다.\n",
        "# 코드 그 자체보다 왜 범주형 데이터를 따로 전처리해줘야하는지에 집중해서 공부하세요!\n",
        "\n",
        "X_cat = df[['neighbourhood_group', 'neighbourhood', 'room_type']]\n",
        "X_cat = pd.get_dummies(X_cat)\n",
        "\n",
        "X_cat\n",
        "\n",
        "#기계가 학습할 수 있도록 만들어주기 위해서 범주형 데이터를 수치형을 변환한다? \n",
        "# one hot encoding 한 게 맞나요?"
      ],
      "execution_count": 29,
      "outputs": [
        {
          "output_type": "execute_result",
          "data": {
            "text/plain": [
              "       neighbourhood_group_Bronx  neighbourhood_group_Brooklyn  \\\n",
              "0                              0                             1   \n",
              "1                              0                             0   \n",
              "2                              0                             0   \n",
              "3                              0                             1   \n",
              "4                              0                             0   \n",
              "...                          ...                           ...   \n",
              "48890                          0                             1   \n",
              "48891                          0                             1   \n",
              "48892                          0                             0   \n",
              "48893                          0                             0   \n",
              "48894                          0                             0   \n",
              "\n",
              "       neighbourhood_group_Manhattan  neighbourhood_group_Queens  \\\n",
              "0                                  0                           0   \n",
              "1                                  1                           0   \n",
              "2                                  1                           0   \n",
              "3                                  0                           0   \n",
              "4                                  1                           0   \n",
              "...                              ...                         ...   \n",
              "48890                              0                           0   \n",
              "48891                              0                           0   \n",
              "48892                              1                           0   \n",
              "48893                              1                           0   \n",
              "48894                              1                           0   \n",
              "\n",
              "       neighbourhood_group_Staten Island  neighbourhood_Allerton  \\\n",
              "0                                      0                       0   \n",
              "1                                      0                       0   \n",
              "2                                      0                       0   \n",
              "3                                      0                       0   \n",
              "4                                      0                       0   \n",
              "...                                  ...                     ...   \n",
              "48890                                  0                       0   \n",
              "48891                                  0                       0   \n",
              "48892                                  0                       0   \n",
              "48893                                  0                       0   \n",
              "48894                                  0                       0   \n",
              "\n",
              "       neighbourhood_Arden Heights  neighbourhood_Arrochar  \\\n",
              "0                                0                       0   \n",
              "1                                0                       0   \n",
              "2                                0                       0   \n",
              "3                                0                       0   \n",
              "4                                0                       0   \n",
              "...                            ...                     ...   \n",
              "48890                            0                       0   \n",
              "48891                            0                       0   \n",
              "48892                            0                       0   \n",
              "48893                            0                       0   \n",
              "48894                            0                       0   \n",
              "\n",
              "       neighbourhood_Arverne  neighbourhood_Astoria  ...  \\\n",
              "0                          0                      0  ...   \n",
              "1                          0                      0  ...   \n",
              "2                          0                      0  ...   \n",
              "3                          0                      0  ...   \n",
              "4                          0                      0  ...   \n",
              "...                      ...                    ...  ...   \n",
              "48890                      0                      0  ...   \n",
              "48891                      0                      0  ...   \n",
              "48892                      0                      0  ...   \n",
              "48893                      0                      0  ...   \n",
              "48894                      0                      0  ...   \n",
              "\n",
              "       neighbourhood_Williamsbridge  neighbourhood_Williamsburg  \\\n",
              "0                                 0                           0   \n",
              "1                                 0                           0   \n",
              "2                                 0                           0   \n",
              "3                                 0                           0   \n",
              "4                                 0                           0   \n",
              "...                             ...                         ...   \n",
              "48890                             0                           0   \n",
              "48891                             0                           0   \n",
              "48892                             0                           0   \n",
              "48893                             0                           0   \n",
              "48894                             0                           0   \n",
              "\n",
              "       neighbourhood_Willowbrook  neighbourhood_Windsor Terrace  \\\n",
              "0                              0                              0   \n",
              "1                              0                              0   \n",
              "2                              0                              0   \n",
              "3                              0                              0   \n",
              "4                              0                              0   \n",
              "...                          ...                            ...   \n",
              "48890                          0                              0   \n",
              "48891                          0                              0   \n",
              "48892                          0                              0   \n",
              "48893                          0                              0   \n",
              "48894                          0                              0   \n",
              "\n",
              "       neighbourhood_Woodhaven  neighbourhood_Woodlawn  \\\n",
              "0                            0                       0   \n",
              "1                            0                       0   \n",
              "2                            0                       0   \n",
              "3                            0                       0   \n",
              "4                            0                       0   \n",
              "...                        ...                     ...   \n",
              "48890                        0                       0   \n",
              "48891                        0                       0   \n",
              "48892                        0                       0   \n",
              "48893                        0                       0   \n",
              "48894                        0                       0   \n",
              "\n",
              "       neighbourhood_Woodside  room_type_Entire home/apt  \\\n",
              "0                           0                          0   \n",
              "1                           0                          1   \n",
              "2                           0                          0   \n",
              "3                           0                          1   \n",
              "4                           0                          1   \n",
              "...                       ...                        ...   \n",
              "48890                       0                          0   \n",
              "48891                       0                          0   \n",
              "48892                       0                          1   \n",
              "48893                       0                          0   \n",
              "48894                       0                          0   \n",
              "\n",
              "       room_type_Private room  room_type_Shared room  \n",
              "0                           1                      0  \n",
              "1                           0                      0  \n",
              "2                           1                      0  \n",
              "3                           0                      0  \n",
              "4                           0                      0  \n",
              "...                       ...                    ...  \n",
              "48890                       1                      0  \n",
              "48891                       1                      0  \n",
              "48892                       0                      0  \n",
              "48893                       0                      1  \n",
              "48894                       1                      0  \n",
              "\n",
              "[46508 rows x 227 columns]"
            ],
            "text/html": [
              "\n",
              "  <div id=\"df-34d4d634-8e68-4bd6-b9a6-fa22da8f8bad\">\n",
              "    <div class=\"colab-df-container\">\n",
              "      <div>\n",
              "<style scoped>\n",
              "    .dataframe tbody tr th:only-of-type {\n",
              "        vertical-align: middle;\n",
              "    }\n",
              "\n",
              "    .dataframe tbody tr th {\n",
              "        vertical-align: top;\n",
              "    }\n",
              "\n",
              "    .dataframe thead th {\n",
              "        text-align: right;\n",
              "    }\n",
              "</style>\n",
              "<table border=\"1\" class=\"dataframe\">\n",
              "  <thead>\n",
              "    <tr style=\"text-align: right;\">\n",
              "      <th></th>\n",
              "      <th>neighbourhood_group_Bronx</th>\n",
              "      <th>neighbourhood_group_Brooklyn</th>\n",
              "      <th>neighbourhood_group_Manhattan</th>\n",
              "      <th>neighbourhood_group_Queens</th>\n",
              "      <th>neighbourhood_group_Staten Island</th>\n",
              "      <th>neighbourhood_Allerton</th>\n",
              "      <th>neighbourhood_Arden Heights</th>\n",
              "      <th>neighbourhood_Arrochar</th>\n",
              "      <th>neighbourhood_Arverne</th>\n",
              "      <th>neighbourhood_Astoria</th>\n",
              "      <th>...</th>\n",
              "      <th>neighbourhood_Williamsbridge</th>\n",
              "      <th>neighbourhood_Williamsburg</th>\n",
              "      <th>neighbourhood_Willowbrook</th>\n",
              "      <th>neighbourhood_Windsor Terrace</th>\n",
              "      <th>neighbourhood_Woodhaven</th>\n",
              "      <th>neighbourhood_Woodlawn</th>\n",
              "      <th>neighbourhood_Woodside</th>\n",
              "      <th>room_type_Entire home/apt</th>\n",
              "      <th>room_type_Private room</th>\n",
              "      <th>room_type_Shared room</th>\n",
              "    </tr>\n",
              "  </thead>\n",
              "  <tbody>\n",
              "    <tr>\n",
              "      <th>0</th>\n",
              "      <td>0</td>\n",
              "      <td>1</td>\n",
              "      <td>0</td>\n",
              "      <td>0</td>\n",
              "      <td>0</td>\n",
              "      <td>0</td>\n",
              "      <td>0</td>\n",
              "      <td>0</td>\n",
              "      <td>0</td>\n",
              "      <td>0</td>\n",
              "      <td>...</td>\n",
              "      <td>0</td>\n",
              "      <td>0</td>\n",
              "      <td>0</td>\n",
              "      <td>0</td>\n",
              "      <td>0</td>\n",
              "      <td>0</td>\n",
              "      <td>0</td>\n",
              "      <td>0</td>\n",
              "      <td>1</td>\n",
              "      <td>0</td>\n",
              "    </tr>\n",
              "    <tr>\n",
              "      <th>1</th>\n",
              "      <td>0</td>\n",
              "      <td>0</td>\n",
              "      <td>1</td>\n",
              "      <td>0</td>\n",
              "      <td>0</td>\n",
              "      <td>0</td>\n",
              "      <td>0</td>\n",
              "      <td>0</td>\n",
              "      <td>0</td>\n",
              "      <td>0</td>\n",
              "      <td>...</td>\n",
              "      <td>0</td>\n",
              "      <td>0</td>\n",
              "      <td>0</td>\n",
              "      <td>0</td>\n",
              "      <td>0</td>\n",
              "      <td>0</td>\n",
              "      <td>0</td>\n",
              "      <td>1</td>\n",
              "      <td>0</td>\n",
              "      <td>0</td>\n",
              "    </tr>\n",
              "    <tr>\n",
              "      <th>2</th>\n",
              "      <td>0</td>\n",
              "      <td>0</td>\n",
              "      <td>1</td>\n",
              "      <td>0</td>\n",
              "      <td>0</td>\n",
              "      <td>0</td>\n",
              "      <td>0</td>\n",
              "      <td>0</td>\n",
              "      <td>0</td>\n",
              "      <td>0</td>\n",
              "      <td>...</td>\n",
              "      <td>0</td>\n",
              "      <td>0</td>\n",
              "      <td>0</td>\n",
              "      <td>0</td>\n",
              "      <td>0</td>\n",
              "      <td>0</td>\n",
              "      <td>0</td>\n",
              "      <td>0</td>\n",
              "      <td>1</td>\n",
              "      <td>0</td>\n",
              "    </tr>\n",
              "    <tr>\n",
              "      <th>3</th>\n",
              "      <td>0</td>\n",
              "      <td>1</td>\n",
              "      <td>0</td>\n",
              "      <td>0</td>\n",
              "      <td>0</td>\n",
              "      <td>0</td>\n",
              "      <td>0</td>\n",
              "      <td>0</td>\n",
              "      <td>0</td>\n",
              "      <td>0</td>\n",
              "      <td>...</td>\n",
              "      <td>0</td>\n",
              "      <td>0</td>\n",
              "      <td>0</td>\n",
              "      <td>0</td>\n",
              "      <td>0</td>\n",
              "      <td>0</td>\n",
              "      <td>0</td>\n",
              "      <td>1</td>\n",
              "      <td>0</td>\n",
              "      <td>0</td>\n",
              "    </tr>\n",
              "    <tr>\n",
              "      <th>4</th>\n",
              "      <td>0</td>\n",
              "      <td>0</td>\n",
              "      <td>1</td>\n",
              "      <td>0</td>\n",
              "      <td>0</td>\n",
              "      <td>0</td>\n",
              "      <td>0</td>\n",
              "      <td>0</td>\n",
              "      <td>0</td>\n",
              "      <td>0</td>\n",
              "      <td>...</td>\n",
              "      <td>0</td>\n",
              "      <td>0</td>\n",
              "      <td>0</td>\n",
              "      <td>0</td>\n",
              "      <td>0</td>\n",
              "      <td>0</td>\n",
              "      <td>0</td>\n",
              "      <td>1</td>\n",
              "      <td>0</td>\n",
              "      <td>0</td>\n",
              "    </tr>\n",
              "    <tr>\n",
              "      <th>...</th>\n",
              "      <td>...</td>\n",
              "      <td>...</td>\n",
              "      <td>...</td>\n",
              "      <td>...</td>\n",
              "      <td>...</td>\n",
              "      <td>...</td>\n",
              "      <td>...</td>\n",
              "      <td>...</td>\n",
              "      <td>...</td>\n",
              "      <td>...</td>\n",
              "      <td>...</td>\n",
              "      <td>...</td>\n",
              "      <td>...</td>\n",
              "      <td>...</td>\n",
              "      <td>...</td>\n",
              "      <td>...</td>\n",
              "      <td>...</td>\n",
              "      <td>...</td>\n",
              "      <td>...</td>\n",
              "      <td>...</td>\n",
              "      <td>...</td>\n",
              "    </tr>\n",
              "    <tr>\n",
              "      <th>48890</th>\n",
              "      <td>0</td>\n",
              "      <td>1</td>\n",
              "      <td>0</td>\n",
              "      <td>0</td>\n",
              "      <td>0</td>\n",
              "      <td>0</td>\n",
              "      <td>0</td>\n",
              "      <td>0</td>\n",
              "      <td>0</td>\n",
              "      <td>0</td>\n",
              "      <td>...</td>\n",
              "      <td>0</td>\n",
              "      <td>0</td>\n",
              "      <td>0</td>\n",
              "      <td>0</td>\n",
              "      <td>0</td>\n",
              "      <td>0</td>\n",
              "      <td>0</td>\n",
              "      <td>0</td>\n",
              "      <td>1</td>\n",
              "      <td>0</td>\n",
              "    </tr>\n",
              "    <tr>\n",
              "      <th>48891</th>\n",
              "      <td>0</td>\n",
              "      <td>1</td>\n",
              "      <td>0</td>\n",
              "      <td>0</td>\n",
              "      <td>0</td>\n",
              "      <td>0</td>\n",
              "      <td>0</td>\n",
              "      <td>0</td>\n",
              "      <td>0</td>\n",
              "      <td>0</td>\n",
              "      <td>...</td>\n",
              "      <td>0</td>\n",
              "      <td>0</td>\n",
              "      <td>0</td>\n",
              "      <td>0</td>\n",
              "      <td>0</td>\n",
              "      <td>0</td>\n",
              "      <td>0</td>\n",
              "      <td>0</td>\n",
              "      <td>1</td>\n",
              "      <td>0</td>\n",
              "    </tr>\n",
              "    <tr>\n",
              "      <th>48892</th>\n",
              "      <td>0</td>\n",
              "      <td>0</td>\n",
              "      <td>1</td>\n",
              "      <td>0</td>\n",
              "      <td>0</td>\n",
              "      <td>0</td>\n",
              "      <td>0</td>\n",
              "      <td>0</td>\n",
              "      <td>0</td>\n",
              "      <td>0</td>\n",
              "      <td>...</td>\n",
              "      <td>0</td>\n",
              "      <td>0</td>\n",
              "      <td>0</td>\n",
              "      <td>0</td>\n",
              "      <td>0</td>\n",
              "      <td>0</td>\n",
              "      <td>0</td>\n",
              "      <td>1</td>\n",
              "      <td>0</td>\n",
              "      <td>0</td>\n",
              "    </tr>\n",
              "    <tr>\n",
              "      <th>48893</th>\n",
              "      <td>0</td>\n",
              "      <td>0</td>\n",
              "      <td>1</td>\n",
              "      <td>0</td>\n",
              "      <td>0</td>\n",
              "      <td>0</td>\n",
              "      <td>0</td>\n",
              "      <td>0</td>\n",
              "      <td>0</td>\n",
              "      <td>0</td>\n",
              "      <td>...</td>\n",
              "      <td>0</td>\n",
              "      <td>0</td>\n",
              "      <td>0</td>\n",
              "      <td>0</td>\n",
              "      <td>0</td>\n",
              "      <td>0</td>\n",
              "      <td>0</td>\n",
              "      <td>0</td>\n",
              "      <td>0</td>\n",
              "      <td>1</td>\n",
              "    </tr>\n",
              "    <tr>\n",
              "      <th>48894</th>\n",
              "      <td>0</td>\n",
              "      <td>0</td>\n",
              "      <td>1</td>\n",
              "      <td>0</td>\n",
              "      <td>0</td>\n",
              "      <td>0</td>\n",
              "      <td>0</td>\n",
              "      <td>0</td>\n",
              "      <td>0</td>\n",
              "      <td>0</td>\n",
              "      <td>...</td>\n",
              "      <td>0</td>\n",
              "      <td>0</td>\n",
              "      <td>0</td>\n",
              "      <td>0</td>\n",
              "      <td>0</td>\n",
              "      <td>0</td>\n",
              "      <td>0</td>\n",
              "      <td>0</td>\n",
              "      <td>1</td>\n",
              "      <td>0</td>\n",
              "    </tr>\n",
              "  </tbody>\n",
              "</table>\n",
              "<p>46508 rows × 227 columns</p>\n",
              "</div>\n",
              "      <button class=\"colab-df-convert\" onclick=\"convertToInteractive('df-34d4d634-8e68-4bd6-b9a6-fa22da8f8bad')\"\n",
              "              title=\"Convert this dataframe to an interactive table.\"\n",
              "              style=\"display:none;\">\n",
              "        \n",
              "  <svg xmlns=\"http://www.w3.org/2000/svg\" height=\"24px\"viewBox=\"0 0 24 24\"\n",
              "       width=\"24px\">\n",
              "    <path d=\"M0 0h24v24H0V0z\" fill=\"none\"/>\n",
              "    <path d=\"M18.56 5.44l.94 2.06.94-2.06 2.06-.94-2.06-.94-.94-2.06-.94 2.06-2.06.94zm-11 1L8.5 8.5l.94-2.06 2.06-.94-2.06-.94L8.5 2.5l-.94 2.06-2.06.94zm10 10l.94 2.06.94-2.06 2.06-.94-2.06-.94-.94-2.06-.94 2.06-2.06.94z\"/><path d=\"M17.41 7.96l-1.37-1.37c-.4-.4-.92-.59-1.43-.59-.52 0-1.04.2-1.43.59L10.3 9.45l-7.72 7.72c-.78.78-.78 2.05 0 2.83L4 21.41c.39.39.9.59 1.41.59.51 0 1.02-.2 1.41-.59l7.78-7.78 2.81-2.81c.8-.78.8-2.07 0-2.86zM5.41 20L4 18.59l7.72-7.72 1.47 1.35L5.41 20z\"/>\n",
              "  </svg>\n",
              "      </button>\n",
              "      \n",
              "  <style>\n",
              "    .colab-df-container {\n",
              "      display:flex;\n",
              "      flex-wrap:wrap;\n",
              "      gap: 12px;\n",
              "    }\n",
              "\n",
              "    .colab-df-convert {\n",
              "      background-color: #E8F0FE;\n",
              "      border: none;\n",
              "      border-radius: 50%;\n",
              "      cursor: pointer;\n",
              "      display: none;\n",
              "      fill: #1967D2;\n",
              "      height: 32px;\n",
              "      padding: 0 0 0 0;\n",
              "      width: 32px;\n",
              "    }\n",
              "\n",
              "    .colab-df-convert:hover {\n",
              "      background-color: #E2EBFA;\n",
              "      box-shadow: 0px 1px 2px rgba(60, 64, 67, 0.3), 0px 1px 3px 1px rgba(60, 64, 67, 0.15);\n",
              "      fill: #174EA6;\n",
              "    }\n",
              "\n",
              "    [theme=dark] .colab-df-convert {\n",
              "      background-color: #3B4455;\n",
              "      fill: #D2E3FC;\n",
              "    }\n",
              "\n",
              "    [theme=dark] .colab-df-convert:hover {\n",
              "      background-color: #434B5C;\n",
              "      box-shadow: 0px 1px 3px 1px rgba(0, 0, 0, 0.15);\n",
              "      filter: drop-shadow(0px 1px 2px rgba(0, 0, 0, 0.3));\n",
              "      fill: #FFFFFF;\n",
              "    }\n",
              "  </style>\n",
              "\n",
              "      <script>\n",
              "        const buttonEl =\n",
              "          document.querySelector('#df-34d4d634-8e68-4bd6-b9a6-fa22da8f8bad button.colab-df-convert');\n",
              "        buttonEl.style.display =\n",
              "          google.colab.kernel.accessAllowed ? 'block' : 'none';\n",
              "\n",
              "        async function convertToInteractive(key) {\n",
              "          const element = document.querySelector('#df-34d4d634-8e68-4bd6-b9a6-fa22da8f8bad');\n",
              "          const dataTable =\n",
              "            await google.colab.kernel.invokeFunction('convertToInteractive',\n",
              "                                                     [key], {});\n",
              "          if (!dataTable) return;\n",
              "\n",
              "          const docLinkHtml = 'Like what you see? Visit the ' +\n",
              "            '<a target=\"_blank\" href=https://colab.research.google.com/notebooks/data_table.ipynb>data table notebook</a>'\n",
              "            + ' to learn more about interactive tables.';\n",
              "          element.innerHTML = '';\n",
              "          dataTable['output_type'] = 'display_data';\n",
              "          await google.colab.output.renderOutput(dataTable, element);\n",
              "          const docLink = document.createElement('div');\n",
              "          docLink.innerHTML = docLinkHtml;\n",
              "          element.appendChild(docLink);\n",
              "        }\n",
              "      </script>\n",
              "    </div>\n",
              "  </div>\n",
              "  "
            ]
          },
          "metadata": {},
          "execution_count": 29
        }
      ]
    },
    {
      "cell_type": "markdown",
      "metadata": {
        "id": "Dev2yLeMta85"
      },
      "source": [
        "### 문제 12. StandardScaler를 이용해 수치형 데이터 표준화하기\n"
      ]
    },
    {
      "cell_type": "code",
      "metadata": {
        "id": "_k_SDCh5xMgD"
      },
      "source": [
        "from sklearn.preprocessing import StandardScaler"
      ],
      "execution_count": 30,
      "outputs": []
    },
    {
      "cell_type": "code",
      "source": [
        "# 예시 코드를 제공하겠습니다.\n",
        "# 마찬가지로 왜 수치형 데이터를 전처리 해줬을지에 대해 생각해보세요!"
      ],
      "metadata": {
        "id": "i_8elw1NIMrA"
      },
      "execution_count": null,
      "outputs": []
    },
    {
      "cell_type": "code",
      "metadata": {
        "id": "W3EO22NCE3wG",
        "colab": {
          "base_uri": "https://localhost:8080/",
          "height": 400
        },
        "outputId": "b466df43-614f-4a27-a798-470cc589ed3c"
      },
      "source": [
        "# StandardScaler를 이용해 수치형 데이터를 표준화하기\n",
        "scaler = StandardScaler()\n",
        "X_num = df.drop(['neighbourhood_group', 'neighbourhood', 'room_type', 'price', \n",
        "                 'last_review'], axis=1)\n",
        "\n",
        "scaler.fit(X_num)\n",
        "X_scaled = scaler.transform(X_num)\n",
        "X_scaled = pd.DataFrame(X_scaled, index=X_num.index, columns=X_num.columns)\n"
      ],
      "execution_count": 31,
      "outputs": [
        {
          "output_type": "error",
          "ename": "KeyError",
          "evalue": "ignored",
          "traceback": [
            "\u001b[0;31m---------------------------------------------------------------------------\u001b[0m",
            "\u001b[0;31mKeyError\u001b[0m                                  Traceback (most recent call last)",
            "\u001b[0;32m<ipython-input-31-6953eab7e44b>\u001b[0m in \u001b[0;36m<module>\u001b[0;34m\u001b[0m\n\u001b[1;32m      1\u001b[0m \u001b[0;31m# StandardScaler를 이용해 수치형 데이터를 표준화하기\u001b[0m\u001b[0;34m\u001b[0m\u001b[0;34m\u001b[0m\u001b[0;34m\u001b[0m\u001b[0m\n\u001b[1;32m      2\u001b[0m \u001b[0mscaler\u001b[0m \u001b[0;34m=\u001b[0m \u001b[0mStandardScaler\u001b[0m\u001b[0;34m(\u001b[0m\u001b[0;34m)\u001b[0m\u001b[0;34m\u001b[0m\u001b[0;34m\u001b[0m\u001b[0m\n\u001b[0;32m----> 3\u001b[0;31m X_num = df.drop(['neighbourhood_group', 'neighbourhood', 'room_type', 'price', \n\u001b[0m\u001b[1;32m      4\u001b[0m                  'last_review'], axis=1)\n\u001b[1;32m      5\u001b[0m \u001b[0;34m\u001b[0m\u001b[0m\n",
            "\u001b[0;32m/usr/local/lib/python3.8/dist-packages/pandas/util/_decorators.py\u001b[0m in \u001b[0;36mwrapper\u001b[0;34m(*args, **kwargs)\u001b[0m\n\u001b[1;32m    309\u001b[0m                     \u001b[0mstacklevel\u001b[0m\u001b[0;34m=\u001b[0m\u001b[0mstacklevel\u001b[0m\u001b[0;34m,\u001b[0m\u001b[0;34m\u001b[0m\u001b[0;34m\u001b[0m\u001b[0m\n\u001b[1;32m    310\u001b[0m                 )\n\u001b[0;32m--> 311\u001b[0;31m             \u001b[0;32mreturn\u001b[0m \u001b[0mfunc\u001b[0m\u001b[0;34m(\u001b[0m\u001b[0;34m*\u001b[0m\u001b[0margs\u001b[0m\u001b[0;34m,\u001b[0m \u001b[0;34m**\u001b[0m\u001b[0mkwargs\u001b[0m\u001b[0;34m)\u001b[0m\u001b[0;34m\u001b[0m\u001b[0;34m\u001b[0m\u001b[0m\n\u001b[0m\u001b[1;32m    312\u001b[0m \u001b[0;34m\u001b[0m\u001b[0m\n\u001b[1;32m    313\u001b[0m         \u001b[0;32mreturn\u001b[0m \u001b[0mwrapper\u001b[0m\u001b[0;34m\u001b[0m\u001b[0;34m\u001b[0m\u001b[0m\n",
            "\u001b[0;32m/usr/local/lib/python3.8/dist-packages/pandas/core/frame.py\u001b[0m in \u001b[0;36mdrop\u001b[0;34m(self, labels, axis, index, columns, level, inplace, errors)\u001b[0m\n\u001b[1;32m   4904\u001b[0m                 \u001b[0mweight\u001b[0m  \u001b[0;36m1.0\u001b[0m     \u001b[0;36m0.8\u001b[0m\u001b[0;34m\u001b[0m\u001b[0;34m\u001b[0m\u001b[0m\n\u001b[1;32m   4905\u001b[0m         \"\"\"\n\u001b[0;32m-> 4906\u001b[0;31m         return super().drop(\n\u001b[0m\u001b[1;32m   4907\u001b[0m             \u001b[0mlabels\u001b[0m\u001b[0;34m=\u001b[0m\u001b[0mlabels\u001b[0m\u001b[0;34m,\u001b[0m\u001b[0;34m\u001b[0m\u001b[0;34m\u001b[0m\u001b[0m\n\u001b[1;32m   4908\u001b[0m             \u001b[0maxis\u001b[0m\u001b[0;34m=\u001b[0m\u001b[0maxis\u001b[0m\u001b[0;34m,\u001b[0m\u001b[0;34m\u001b[0m\u001b[0;34m\u001b[0m\u001b[0m\n",
            "\u001b[0;32m/usr/local/lib/python3.8/dist-packages/pandas/core/generic.py\u001b[0m in \u001b[0;36mdrop\u001b[0;34m(self, labels, axis, index, columns, level, inplace, errors)\u001b[0m\n\u001b[1;32m   4148\u001b[0m         \u001b[0;32mfor\u001b[0m \u001b[0maxis\u001b[0m\u001b[0;34m,\u001b[0m \u001b[0mlabels\u001b[0m \u001b[0;32min\u001b[0m \u001b[0maxes\u001b[0m\u001b[0;34m.\u001b[0m\u001b[0mitems\u001b[0m\u001b[0;34m(\u001b[0m\u001b[0;34m)\u001b[0m\u001b[0;34m:\u001b[0m\u001b[0;34m\u001b[0m\u001b[0;34m\u001b[0m\u001b[0m\n\u001b[1;32m   4149\u001b[0m             \u001b[0;32mif\u001b[0m \u001b[0mlabels\u001b[0m \u001b[0;32mis\u001b[0m \u001b[0;32mnot\u001b[0m \u001b[0;32mNone\u001b[0m\u001b[0;34m:\u001b[0m\u001b[0;34m\u001b[0m\u001b[0;34m\u001b[0m\u001b[0m\n\u001b[0;32m-> 4150\u001b[0;31m                 \u001b[0mobj\u001b[0m \u001b[0;34m=\u001b[0m \u001b[0mobj\u001b[0m\u001b[0;34m.\u001b[0m\u001b[0m_drop_axis\u001b[0m\u001b[0;34m(\u001b[0m\u001b[0mlabels\u001b[0m\u001b[0;34m,\u001b[0m \u001b[0maxis\u001b[0m\u001b[0;34m,\u001b[0m \u001b[0mlevel\u001b[0m\u001b[0;34m=\u001b[0m\u001b[0mlevel\u001b[0m\u001b[0;34m,\u001b[0m \u001b[0merrors\u001b[0m\u001b[0;34m=\u001b[0m\u001b[0merrors\u001b[0m\u001b[0;34m)\u001b[0m\u001b[0;34m\u001b[0m\u001b[0;34m\u001b[0m\u001b[0m\n\u001b[0m\u001b[1;32m   4151\u001b[0m \u001b[0;34m\u001b[0m\u001b[0m\n\u001b[1;32m   4152\u001b[0m         \u001b[0;32mif\u001b[0m \u001b[0minplace\u001b[0m\u001b[0;34m:\u001b[0m\u001b[0;34m\u001b[0m\u001b[0;34m\u001b[0m\u001b[0m\n",
            "\u001b[0;32m/usr/local/lib/python3.8/dist-packages/pandas/core/generic.py\u001b[0m in \u001b[0;36m_drop_axis\u001b[0;34m(self, labels, axis, level, errors)\u001b[0m\n\u001b[1;32m   4183\u001b[0m                 \u001b[0mnew_axis\u001b[0m \u001b[0;34m=\u001b[0m \u001b[0maxis\u001b[0m\u001b[0;34m.\u001b[0m\u001b[0mdrop\u001b[0m\u001b[0;34m(\u001b[0m\u001b[0mlabels\u001b[0m\u001b[0;34m,\u001b[0m \u001b[0mlevel\u001b[0m\u001b[0;34m=\u001b[0m\u001b[0mlevel\u001b[0m\u001b[0;34m,\u001b[0m \u001b[0merrors\u001b[0m\u001b[0;34m=\u001b[0m\u001b[0merrors\u001b[0m\u001b[0;34m)\u001b[0m\u001b[0;34m\u001b[0m\u001b[0;34m\u001b[0m\u001b[0m\n\u001b[1;32m   4184\u001b[0m             \u001b[0;32melse\u001b[0m\u001b[0;34m:\u001b[0m\u001b[0;34m\u001b[0m\u001b[0;34m\u001b[0m\u001b[0m\n\u001b[0;32m-> 4185\u001b[0;31m                 \u001b[0mnew_axis\u001b[0m \u001b[0;34m=\u001b[0m \u001b[0maxis\u001b[0m\u001b[0;34m.\u001b[0m\u001b[0mdrop\u001b[0m\u001b[0;34m(\u001b[0m\u001b[0mlabels\u001b[0m\u001b[0;34m,\u001b[0m \u001b[0merrors\u001b[0m\u001b[0;34m=\u001b[0m\u001b[0merrors\u001b[0m\u001b[0;34m)\u001b[0m\u001b[0;34m\u001b[0m\u001b[0;34m\u001b[0m\u001b[0m\n\u001b[0m\u001b[1;32m   4186\u001b[0m             \u001b[0mresult\u001b[0m \u001b[0;34m=\u001b[0m \u001b[0mself\u001b[0m\u001b[0;34m.\u001b[0m\u001b[0mreindex\u001b[0m\u001b[0;34m(\u001b[0m\u001b[0;34m**\u001b[0m\u001b[0;34m{\u001b[0m\u001b[0maxis_name\u001b[0m\u001b[0;34m:\u001b[0m \u001b[0mnew_axis\u001b[0m\u001b[0;34m}\u001b[0m\u001b[0;34m)\u001b[0m\u001b[0;34m\u001b[0m\u001b[0;34m\u001b[0m\u001b[0m\n\u001b[1;32m   4187\u001b[0m \u001b[0;34m\u001b[0m\u001b[0m\n",
            "\u001b[0;32m/usr/local/lib/python3.8/dist-packages/pandas/core/indexes/base.py\u001b[0m in \u001b[0;36mdrop\u001b[0;34m(self, labels, errors)\u001b[0m\n\u001b[1;32m   6015\u001b[0m         \u001b[0;32mif\u001b[0m \u001b[0mmask\u001b[0m\u001b[0;34m.\u001b[0m\u001b[0many\u001b[0m\u001b[0;34m(\u001b[0m\u001b[0;34m)\u001b[0m\u001b[0;34m:\u001b[0m\u001b[0;34m\u001b[0m\u001b[0;34m\u001b[0m\u001b[0m\n\u001b[1;32m   6016\u001b[0m             \u001b[0;32mif\u001b[0m \u001b[0merrors\u001b[0m \u001b[0;34m!=\u001b[0m \u001b[0;34m\"ignore\"\u001b[0m\u001b[0;34m:\u001b[0m\u001b[0;34m\u001b[0m\u001b[0;34m\u001b[0m\u001b[0m\n\u001b[0;32m-> 6017\u001b[0;31m                 \u001b[0;32mraise\u001b[0m \u001b[0mKeyError\u001b[0m\u001b[0;34m(\u001b[0m\u001b[0;34mf\"{labels[mask]} not found in axis\"\u001b[0m\u001b[0;34m)\u001b[0m\u001b[0;34m\u001b[0m\u001b[0;34m\u001b[0m\u001b[0m\n\u001b[0m\u001b[1;32m   6018\u001b[0m             \u001b[0mindexer\u001b[0m \u001b[0;34m=\u001b[0m \u001b[0mindexer\u001b[0m\u001b[0;34m[\u001b[0m\u001b[0;34m~\u001b[0m\u001b[0mmask\u001b[0m\u001b[0;34m]\u001b[0m\u001b[0;34m\u001b[0m\u001b[0;34m\u001b[0m\u001b[0m\n\u001b[1;32m   6019\u001b[0m         \u001b[0;32mreturn\u001b[0m \u001b[0mself\u001b[0m\u001b[0;34m.\u001b[0m\u001b[0mdelete\u001b[0m\u001b[0;34m(\u001b[0m\u001b[0mindexer\u001b[0m\u001b[0;34m)\u001b[0m\u001b[0;34m\u001b[0m\u001b[0;34m\u001b[0m\u001b[0m\n",
            "\u001b[0;31mKeyError\u001b[0m: \"['last_review'] not found in axis\""
          ]
        }
      ]
    },
    {
      "cell_type": "code",
      "source": [
        "scaler = StandardScaler()\n",
        "X_num = df.drop(['neighbourhood_group', 'neighbourhood', 'room_type', 'price' \n",
        "                 ], axis=1)\n",
        "\n",
        "scaler.fit(X_num)\n",
        "X_scaled = scaler.transform(X_num)\n",
        "X_scaled = pd.DataFrame(X_scaled, index=X_num.index, columns=X_num.columns)"
      ],
      "metadata": {
        "id": "f3OPgZpiwIds"
      },
      "execution_count": 36,
      "outputs": []
    },
    {
      "cell_type": "code",
      "source": [
        "# 범주형 데이터와 수치형 데이터를 단순히 합치는 작업\n",
        "X = pd.concat([X_scaled, X_cat], axis=1)\n",
        "\n",
        "# target 변수인 y를 지정해준 작업\n",
        "y = df['price']\n",
        "\n",
        "X"
      ],
      "metadata": {
        "id": "OXUn6n7uIalo",
        "colab": {
          "base_uri": "https://localhost:8080/",
          "height": 505
        },
        "outputId": "6fa59977-d234-4bbd-81fd-cbfd0a0e99d1"
      },
      "execution_count": 41,
      "outputs": [
        {
          "output_type": "execute_result",
          "data": {
            "text/plain": [
              "        host_id  minimum_nights  number_of_reviews  reviews_per_month  \\\n",
              "0     -0.855730       -0.299369          -0.327897          -0.555834   \n",
              "1     -0.855729       -0.299369           0.469198          -0.450241   \n",
              "2     -0.855706       -0.198696          -0.527171          -0.686274   \n",
              "3     -0.855703       -0.299369           5.451040           2.195815   \n",
              "4     -0.855673        0.153660          -0.327897          -0.624160   \n",
              "...         ...             ...                ...                ...   \n",
              "48890 -0.749817       -0.249032          -0.527171          -0.686274   \n",
              "48891 -0.771204       -0.148359          -0.527171          -0.686274   \n",
              "48892 -0.553418        0.153660          -0.527171          -0.686274   \n",
              "48893 -0.456988       -0.299369          -0.527171          -0.686274   \n",
              "48894  0.020917        0.002651          -0.527171          -0.686274   \n",
              "\n",
              "       calculated_host_listings_count  availability_365  \\\n",
              "0                           -0.023594          1.956577   \n",
              "1                           -0.151361          1.879911   \n",
              "2                           -0.183302          1.956577   \n",
              "3                           -0.183302          0.645585   \n",
              "4                           -0.183302         -0.841738   \n",
              "...                               ...               ...   \n",
              "48890                       -0.151361         -0.772739   \n",
              "48891                       -0.151361         -0.565740   \n",
              "48892                       -0.183302         -0.634740   \n",
              "48893                       -0.023594         -0.826405   \n",
              "48894                       -0.183302         -0.665406   \n",
              "\n",
              "       neighbourhood_group_Bronx  neighbourhood_group_Brooklyn  \\\n",
              "0                              0                             1   \n",
              "1                              0                             0   \n",
              "2                              0                             0   \n",
              "3                              0                             1   \n",
              "4                              0                             0   \n",
              "...                          ...                           ...   \n",
              "48890                          0                             1   \n",
              "48891                          0                             1   \n",
              "48892                          0                             0   \n",
              "48893                          0                             0   \n",
              "48894                          0                             0   \n",
              "\n",
              "       neighbourhood_group_Manhattan  neighbourhood_group_Queens  ...  \\\n",
              "0                                  0                           0  ...   \n",
              "1                                  1                           0  ...   \n",
              "2                                  1                           0  ...   \n",
              "3                                  0                           0  ...   \n",
              "4                                  1                           0  ...   \n",
              "...                              ...                         ...  ...   \n",
              "48890                              0                           0  ...   \n",
              "48891                              0                           0  ...   \n",
              "48892                              1                           0  ...   \n",
              "48893                              1                           0  ...   \n",
              "48894                              1                           0  ...   \n",
              "\n",
              "       neighbourhood_Williamsbridge  neighbourhood_Williamsburg  \\\n",
              "0                                 0                           0   \n",
              "1                                 0                           0   \n",
              "2                                 0                           0   \n",
              "3                                 0                           0   \n",
              "4                                 0                           0   \n",
              "...                             ...                         ...   \n",
              "48890                             0                           0   \n",
              "48891                             0                           0   \n",
              "48892                             0                           0   \n",
              "48893                             0                           0   \n",
              "48894                             0                           0   \n",
              "\n",
              "       neighbourhood_Willowbrook  neighbourhood_Windsor Terrace  \\\n",
              "0                              0                              0   \n",
              "1                              0                              0   \n",
              "2                              0                              0   \n",
              "3                              0                              0   \n",
              "4                              0                              0   \n",
              "...                          ...                            ...   \n",
              "48890                          0                              0   \n",
              "48891                          0                              0   \n",
              "48892                          0                              0   \n",
              "48893                          0                              0   \n",
              "48894                          0                              0   \n",
              "\n",
              "       neighbourhood_Woodhaven  neighbourhood_Woodlawn  \\\n",
              "0                            0                       0   \n",
              "1                            0                       0   \n",
              "2                            0                       0   \n",
              "3                            0                       0   \n",
              "4                            0                       0   \n",
              "...                        ...                     ...   \n",
              "48890                        0                       0   \n",
              "48891                        0                       0   \n",
              "48892                        0                       0   \n",
              "48893                        0                       0   \n",
              "48894                        0                       0   \n",
              "\n",
              "       neighbourhood_Woodside  room_type_Entire home/apt  \\\n",
              "0                           0                          0   \n",
              "1                           0                          1   \n",
              "2                           0                          0   \n",
              "3                           0                          1   \n",
              "4                           0                          1   \n",
              "...                       ...                        ...   \n",
              "48890                       0                          0   \n",
              "48891                       0                          0   \n",
              "48892                       0                          1   \n",
              "48893                       0                          0   \n",
              "48894                       0                          0   \n",
              "\n",
              "       room_type_Private room  room_type_Shared room  \n",
              "0                           1                      0  \n",
              "1                           0                      0  \n",
              "2                           1                      0  \n",
              "3                           0                      0  \n",
              "4                           0                      0  \n",
              "...                       ...                    ...  \n",
              "48890                       1                      0  \n",
              "48891                       1                      0  \n",
              "48892                       0                      0  \n",
              "48893                       0                      1  \n",
              "48894                       1                      0  \n",
              "\n",
              "[46508 rows x 233 columns]"
            ],
            "text/html": [
              "\n",
              "  <div id=\"df-085a9615-2929-4f04-9222-e6342a1c7b8b\">\n",
              "    <div class=\"colab-df-container\">\n",
              "      <div>\n",
              "<style scoped>\n",
              "    .dataframe tbody tr th:only-of-type {\n",
              "        vertical-align: middle;\n",
              "    }\n",
              "\n",
              "    .dataframe tbody tr th {\n",
              "        vertical-align: top;\n",
              "    }\n",
              "\n",
              "    .dataframe thead th {\n",
              "        text-align: right;\n",
              "    }\n",
              "</style>\n",
              "<table border=\"1\" class=\"dataframe\">\n",
              "  <thead>\n",
              "    <tr style=\"text-align: right;\">\n",
              "      <th></th>\n",
              "      <th>host_id</th>\n",
              "      <th>minimum_nights</th>\n",
              "      <th>number_of_reviews</th>\n",
              "      <th>reviews_per_month</th>\n",
              "      <th>calculated_host_listings_count</th>\n",
              "      <th>availability_365</th>\n",
              "      <th>neighbourhood_group_Bronx</th>\n",
              "      <th>neighbourhood_group_Brooklyn</th>\n",
              "      <th>neighbourhood_group_Manhattan</th>\n",
              "      <th>neighbourhood_group_Queens</th>\n",
              "      <th>...</th>\n",
              "      <th>neighbourhood_Williamsbridge</th>\n",
              "      <th>neighbourhood_Williamsburg</th>\n",
              "      <th>neighbourhood_Willowbrook</th>\n",
              "      <th>neighbourhood_Windsor Terrace</th>\n",
              "      <th>neighbourhood_Woodhaven</th>\n",
              "      <th>neighbourhood_Woodlawn</th>\n",
              "      <th>neighbourhood_Woodside</th>\n",
              "      <th>room_type_Entire home/apt</th>\n",
              "      <th>room_type_Private room</th>\n",
              "      <th>room_type_Shared room</th>\n",
              "    </tr>\n",
              "  </thead>\n",
              "  <tbody>\n",
              "    <tr>\n",
              "      <th>0</th>\n",
              "      <td>-0.855730</td>\n",
              "      <td>-0.299369</td>\n",
              "      <td>-0.327897</td>\n",
              "      <td>-0.555834</td>\n",
              "      <td>-0.023594</td>\n",
              "      <td>1.956577</td>\n",
              "      <td>0</td>\n",
              "      <td>1</td>\n",
              "      <td>0</td>\n",
              "      <td>0</td>\n",
              "      <td>...</td>\n",
              "      <td>0</td>\n",
              "      <td>0</td>\n",
              "      <td>0</td>\n",
              "      <td>0</td>\n",
              "      <td>0</td>\n",
              "      <td>0</td>\n",
              "      <td>0</td>\n",
              "      <td>0</td>\n",
              "      <td>1</td>\n",
              "      <td>0</td>\n",
              "    </tr>\n",
              "    <tr>\n",
              "      <th>1</th>\n",
              "      <td>-0.855729</td>\n",
              "      <td>-0.299369</td>\n",
              "      <td>0.469198</td>\n",
              "      <td>-0.450241</td>\n",
              "      <td>-0.151361</td>\n",
              "      <td>1.879911</td>\n",
              "      <td>0</td>\n",
              "      <td>0</td>\n",
              "      <td>1</td>\n",
              "      <td>0</td>\n",
              "      <td>...</td>\n",
              "      <td>0</td>\n",
              "      <td>0</td>\n",
              "      <td>0</td>\n",
              "      <td>0</td>\n",
              "      <td>0</td>\n",
              "      <td>0</td>\n",
              "      <td>0</td>\n",
              "      <td>1</td>\n",
              "      <td>0</td>\n",
              "      <td>0</td>\n",
              "    </tr>\n",
              "    <tr>\n",
              "      <th>2</th>\n",
              "      <td>-0.855706</td>\n",
              "      <td>-0.198696</td>\n",
              "      <td>-0.527171</td>\n",
              "      <td>-0.686274</td>\n",
              "      <td>-0.183302</td>\n",
              "      <td>1.956577</td>\n",
              "      <td>0</td>\n",
              "      <td>0</td>\n",
              "      <td>1</td>\n",
              "      <td>0</td>\n",
              "      <td>...</td>\n",
              "      <td>0</td>\n",
              "      <td>0</td>\n",
              "      <td>0</td>\n",
              "      <td>0</td>\n",
              "      <td>0</td>\n",
              "      <td>0</td>\n",
              "      <td>0</td>\n",
              "      <td>0</td>\n",
              "      <td>1</td>\n",
              "      <td>0</td>\n",
              "    </tr>\n",
              "    <tr>\n",
              "      <th>3</th>\n",
              "      <td>-0.855703</td>\n",
              "      <td>-0.299369</td>\n",
              "      <td>5.451040</td>\n",
              "      <td>2.195815</td>\n",
              "      <td>-0.183302</td>\n",
              "      <td>0.645585</td>\n",
              "      <td>0</td>\n",
              "      <td>1</td>\n",
              "      <td>0</td>\n",
              "      <td>0</td>\n",
              "      <td>...</td>\n",
              "      <td>0</td>\n",
              "      <td>0</td>\n",
              "      <td>0</td>\n",
              "      <td>0</td>\n",
              "      <td>0</td>\n",
              "      <td>0</td>\n",
              "      <td>0</td>\n",
              "      <td>1</td>\n",
              "      <td>0</td>\n",
              "      <td>0</td>\n",
              "    </tr>\n",
              "    <tr>\n",
              "      <th>4</th>\n",
              "      <td>-0.855673</td>\n",
              "      <td>0.153660</td>\n",
              "      <td>-0.327897</td>\n",
              "      <td>-0.624160</td>\n",
              "      <td>-0.183302</td>\n",
              "      <td>-0.841738</td>\n",
              "      <td>0</td>\n",
              "      <td>0</td>\n",
              "      <td>1</td>\n",
              "      <td>0</td>\n",
              "      <td>...</td>\n",
              "      <td>0</td>\n",
              "      <td>0</td>\n",
              "      <td>0</td>\n",
              "      <td>0</td>\n",
              "      <td>0</td>\n",
              "      <td>0</td>\n",
              "      <td>0</td>\n",
              "      <td>1</td>\n",
              "      <td>0</td>\n",
              "      <td>0</td>\n",
              "    </tr>\n",
              "    <tr>\n",
              "      <th>...</th>\n",
              "      <td>...</td>\n",
              "      <td>...</td>\n",
              "      <td>...</td>\n",
              "      <td>...</td>\n",
              "      <td>...</td>\n",
              "      <td>...</td>\n",
              "      <td>...</td>\n",
              "      <td>...</td>\n",
              "      <td>...</td>\n",
              "      <td>...</td>\n",
              "      <td>...</td>\n",
              "      <td>...</td>\n",
              "      <td>...</td>\n",
              "      <td>...</td>\n",
              "      <td>...</td>\n",
              "      <td>...</td>\n",
              "      <td>...</td>\n",
              "      <td>...</td>\n",
              "      <td>...</td>\n",
              "      <td>...</td>\n",
              "      <td>...</td>\n",
              "    </tr>\n",
              "    <tr>\n",
              "      <th>48890</th>\n",
              "      <td>-0.749817</td>\n",
              "      <td>-0.249032</td>\n",
              "      <td>-0.527171</td>\n",
              "      <td>-0.686274</td>\n",
              "      <td>-0.151361</td>\n",
              "      <td>-0.772739</td>\n",
              "      <td>0</td>\n",
              "      <td>1</td>\n",
              "      <td>0</td>\n",
              "      <td>0</td>\n",
              "      <td>...</td>\n",
              "      <td>0</td>\n",
              "      <td>0</td>\n",
              "      <td>0</td>\n",
              "      <td>0</td>\n",
              "      <td>0</td>\n",
              "      <td>0</td>\n",
              "      <td>0</td>\n",
              "      <td>0</td>\n",
              "      <td>1</td>\n",
              "      <td>0</td>\n",
              "    </tr>\n",
              "    <tr>\n",
              "      <th>48891</th>\n",
              "      <td>-0.771204</td>\n",
              "      <td>-0.148359</td>\n",
              "      <td>-0.527171</td>\n",
              "      <td>-0.686274</td>\n",
              "      <td>-0.151361</td>\n",
              "      <td>-0.565740</td>\n",
              "      <td>0</td>\n",
              "      <td>1</td>\n",
              "      <td>0</td>\n",
              "      <td>0</td>\n",
              "      <td>...</td>\n",
              "      <td>0</td>\n",
              "      <td>0</td>\n",
              "      <td>0</td>\n",
              "      <td>0</td>\n",
              "      <td>0</td>\n",
              "      <td>0</td>\n",
              "      <td>0</td>\n",
              "      <td>0</td>\n",
              "      <td>1</td>\n",
              "      <td>0</td>\n",
              "    </tr>\n",
              "    <tr>\n",
              "      <th>48892</th>\n",
              "      <td>-0.553418</td>\n",
              "      <td>0.153660</td>\n",
              "      <td>-0.527171</td>\n",
              "      <td>-0.686274</td>\n",
              "      <td>-0.183302</td>\n",
              "      <td>-0.634740</td>\n",
              "      <td>0</td>\n",
              "      <td>0</td>\n",
              "      <td>1</td>\n",
              "      <td>0</td>\n",
              "      <td>...</td>\n",
              "      <td>0</td>\n",
              "      <td>0</td>\n",
              "      <td>0</td>\n",
              "      <td>0</td>\n",
              "      <td>0</td>\n",
              "      <td>0</td>\n",
              "      <td>0</td>\n",
              "      <td>1</td>\n",
              "      <td>0</td>\n",
              "      <td>0</td>\n",
              "    </tr>\n",
              "    <tr>\n",
              "      <th>48893</th>\n",
              "      <td>-0.456988</td>\n",
              "      <td>-0.299369</td>\n",
              "      <td>-0.527171</td>\n",
              "      <td>-0.686274</td>\n",
              "      <td>-0.023594</td>\n",
              "      <td>-0.826405</td>\n",
              "      <td>0</td>\n",
              "      <td>0</td>\n",
              "      <td>1</td>\n",
              "      <td>0</td>\n",
              "      <td>...</td>\n",
              "      <td>0</td>\n",
              "      <td>0</td>\n",
              "      <td>0</td>\n",
              "      <td>0</td>\n",
              "      <td>0</td>\n",
              "      <td>0</td>\n",
              "      <td>0</td>\n",
              "      <td>0</td>\n",
              "      <td>0</td>\n",
              "      <td>1</td>\n",
              "    </tr>\n",
              "    <tr>\n",
              "      <th>48894</th>\n",
              "      <td>0.020917</td>\n",
              "      <td>0.002651</td>\n",
              "      <td>-0.527171</td>\n",
              "      <td>-0.686274</td>\n",
              "      <td>-0.183302</td>\n",
              "      <td>-0.665406</td>\n",
              "      <td>0</td>\n",
              "      <td>0</td>\n",
              "      <td>1</td>\n",
              "      <td>0</td>\n",
              "      <td>...</td>\n",
              "      <td>0</td>\n",
              "      <td>0</td>\n",
              "      <td>0</td>\n",
              "      <td>0</td>\n",
              "      <td>0</td>\n",
              "      <td>0</td>\n",
              "      <td>0</td>\n",
              "      <td>0</td>\n",
              "      <td>1</td>\n",
              "      <td>0</td>\n",
              "    </tr>\n",
              "  </tbody>\n",
              "</table>\n",
              "<p>46508 rows × 233 columns</p>\n",
              "</div>\n",
              "      <button class=\"colab-df-convert\" onclick=\"convertToInteractive('df-085a9615-2929-4f04-9222-e6342a1c7b8b')\"\n",
              "              title=\"Convert this dataframe to an interactive table.\"\n",
              "              style=\"display:none;\">\n",
              "        \n",
              "  <svg xmlns=\"http://www.w3.org/2000/svg\" height=\"24px\"viewBox=\"0 0 24 24\"\n",
              "       width=\"24px\">\n",
              "    <path d=\"M0 0h24v24H0V0z\" fill=\"none\"/>\n",
              "    <path d=\"M18.56 5.44l.94 2.06.94-2.06 2.06-.94-2.06-.94-.94-2.06-.94 2.06-2.06.94zm-11 1L8.5 8.5l.94-2.06 2.06-.94-2.06-.94L8.5 2.5l-.94 2.06-2.06.94zm10 10l.94 2.06.94-2.06 2.06-.94-2.06-.94-.94-2.06-.94 2.06-2.06.94z\"/><path d=\"M17.41 7.96l-1.37-1.37c-.4-.4-.92-.59-1.43-.59-.52 0-1.04.2-1.43.59L10.3 9.45l-7.72 7.72c-.78.78-.78 2.05 0 2.83L4 21.41c.39.39.9.59 1.41.59.51 0 1.02-.2 1.41-.59l7.78-7.78 2.81-2.81c.8-.78.8-2.07 0-2.86zM5.41 20L4 18.59l7.72-7.72 1.47 1.35L5.41 20z\"/>\n",
              "  </svg>\n",
              "      </button>\n",
              "      \n",
              "  <style>\n",
              "    .colab-df-container {\n",
              "      display:flex;\n",
              "      flex-wrap:wrap;\n",
              "      gap: 12px;\n",
              "    }\n",
              "\n",
              "    .colab-df-convert {\n",
              "      background-color: #E8F0FE;\n",
              "      border: none;\n",
              "      border-radius: 50%;\n",
              "      cursor: pointer;\n",
              "      display: none;\n",
              "      fill: #1967D2;\n",
              "      height: 32px;\n",
              "      padding: 0 0 0 0;\n",
              "      width: 32px;\n",
              "    }\n",
              "\n",
              "    .colab-df-convert:hover {\n",
              "      background-color: #E2EBFA;\n",
              "      box-shadow: 0px 1px 2px rgba(60, 64, 67, 0.3), 0px 1px 3px 1px rgba(60, 64, 67, 0.15);\n",
              "      fill: #174EA6;\n",
              "    }\n",
              "\n",
              "    [theme=dark] .colab-df-convert {\n",
              "      background-color: #3B4455;\n",
              "      fill: #D2E3FC;\n",
              "    }\n",
              "\n",
              "    [theme=dark] .colab-df-convert:hover {\n",
              "      background-color: #434B5C;\n",
              "      box-shadow: 0px 1px 3px 1px rgba(0, 0, 0, 0.15);\n",
              "      filter: drop-shadow(0px 1px 2px rgba(0, 0, 0, 0.3));\n",
              "      fill: #FFFFFF;\n",
              "    }\n",
              "  </style>\n",
              "\n",
              "      <script>\n",
              "        const buttonEl =\n",
              "          document.querySelector('#df-085a9615-2929-4f04-9222-e6342a1c7b8b button.colab-df-convert');\n",
              "        buttonEl.style.display =\n",
              "          google.colab.kernel.accessAllowed ? 'block' : 'none';\n",
              "\n",
              "        async function convertToInteractive(key) {\n",
              "          const element = document.querySelector('#df-085a9615-2929-4f04-9222-e6342a1c7b8b');\n",
              "          const dataTable =\n",
              "            await google.colab.kernel.invokeFunction('convertToInteractive',\n",
              "                                                     [key], {});\n",
              "          if (!dataTable) return;\n",
              "\n",
              "          const docLinkHtml = 'Like what you see? Visit the ' +\n",
              "            '<a target=\"_blank\" href=https://colab.research.google.com/notebooks/data_table.ipynb>data table notebook</a>'\n",
              "            + ' to learn more about interactive tables.';\n",
              "          element.innerHTML = '';\n",
              "          dataTable['output_type'] = 'display_data';\n",
              "          await google.colab.output.renderOutput(dataTable, element);\n",
              "          const docLink = document.createElement('div');\n",
              "          docLink.innerHTML = docLinkHtml;\n",
              "          element.appendChild(docLink);\n",
              "        }\n",
              "      </script>\n",
              "    </div>\n",
              "  </div>\n",
              "  "
            ]
          },
          "metadata": {},
          "execution_count": 41
        }
      ]
    },
    {
      "cell_type": "markdown",
      "metadata": {
        "id": "x93Tb6lptcA2"
      },
      "source": [
        "### 문제 13. 학습데이터와 테스트데이터 분리하기\n"
      ]
    },
    {
      "cell_type": "code",
      "metadata": {
        "id": "C9kMQI8SEche"
      },
      "source": [
        "from sklearn.model_selection import train_test_split"
      ],
      "execution_count": 42,
      "outputs": []
    },
    {
      "cell_type": "code",
      "metadata": {
        "id": "F07QjOFwFNEw"
      },
      "source": [
        "# train_test_split() 함수로 학습 데이터와 테스트 데이터 분리하기\n",
        "X_train, X_test, y_train, y_test = train_test_split(X,y,test_size = 0.3)"
      ],
      "execution_count": 46,
      "outputs": []
    },
    {
      "cell_type": "markdown",
      "metadata": {
        "id": "RrWrE8Z4exup"
      },
      "source": [
        "## Step 5. 모델 선택 및 Train"
      ]
    },
    {
      "cell_type": "markdown",
      "metadata": {
        "id": "NypEtNhdfCow"
      },
      "source": [
        "### 문제 14. Regression 모델 종류에 대해 검색해보고 하나 선택하기"
      ]
    },
    {
      "cell_type": "code",
      "source": [
        "# 아직 모델에 대해 배우지 않았기 때문에 크게 신경쓰지 않으셔도 됩니다!\n",
        "# 단지 '모델 선택 및 Train 단계가 있다.'라는걸 배우기 위한 과정입니다.\n",
        "# 기존에 알고 계시는 어떤 모델을 사용하셔도 상관없습니다.\n",
        "# 기존에 알고 계신 모델이 하나도 없다면 구글링 후 하나 선택하시면 됩니다."
      ],
      "metadata": {
        "id": "IT5ni-Fq3O4a"
      },
      "execution_count": null,
      "outputs": []
    },
    {
      "cell_type": "code",
      "metadata": {
        "id": "LSSNqFUrGM6R"
      },
      "source": [
        "from sklearn.ensemble import RandomForestRegressor\n",
        "model_reg = RandomForestRegressor()\n",
        "\n",
        "\n"
      ],
      "execution_count": 65,
      "outputs": []
    },
    {
      "cell_type": "code",
      "source": [
        "from sklearn.linear_model import LogisticRegression\n",
        "LR = LogisticRegression()\n",
        "\n",
        "from sklearn.ensemble import GradientBoostingRegressor\n",
        "GBR = GradientBoostingRegressor()"
      ],
      "metadata": {
        "id": "GRA5dx1W1EXS"
      },
      "execution_count": 70,
      "outputs": []
    },
    {
      "cell_type": "code",
      "source": [
        "y_train"
      ],
      "metadata": {
        "colab": {
          "base_uri": "https://localhost:8080/"
        },
        "id": "Us_lTV8t-OA6",
        "outputId": "29243a2d-a229-4945-86aa-9bb748bdf613"
      },
      "execution_count": 64,
      "outputs": [
        {
          "output_type": "execute_result",
          "data": {
            "text/plain": [
              "25055    120\n",
              "18059     38\n",
              "13372    170\n",
              "4276     100\n",
              "668      199\n",
              "        ... \n",
              "4354     200\n",
              "35118     45\n",
              "30254    175\n",
              "1653     110\n",
              "27696    150\n",
              "Name: price, Length: 32555, dtype: int64"
            ]
          },
          "metadata": {},
          "execution_count": 64
        }
      ]
    },
    {
      "cell_type": "markdown",
      "source": [
        "### 문제 15. 선택한 모델 구현 및 데이터 학습 시키기"
      ],
      "metadata": {
        "id": "S0LFy95b3TNh"
      }
    },
    {
      "cell_type": "code",
      "metadata": {
        "id": "ow28ZRL4F7D5",
        "colab": {
          "base_uri": "https://localhost:8080/"
        },
        "outputId": "21f465c4-d8ac-4bfa-84d2-6060c2f8078c"
      },
      "source": [
        "LReg = LR.fit(X_train,y_train)\n",
        "y_pred = LReg.predict(X_test)"
      ],
      "execution_count": 57,
      "outputs": [
        {
          "output_type": "stream",
          "name": "stderr",
          "text": [
            "/usr/local/lib/python3.8/dist-packages/sklearn/linear_model/_logistic.py:814: ConvergenceWarning: lbfgs failed to converge (status=1):\n",
            "STOP: TOTAL NO. of ITERATIONS REACHED LIMIT.\n",
            "\n",
            "Increase the number of iterations (max_iter) or scale the data as shown in:\n",
            "    https://scikit-learn.org/stable/modules/preprocessing.html\n",
            "Please also refer to the documentation for alternative solver options:\n",
            "    https://scikit-learn.org/stable/modules/linear_model.html#logistic-regression\n",
            "  n_iter_i = _check_optimize_result(\n"
          ]
        }
      ]
    },
    {
      "cell_type": "code",
      "source": [
        "Ranreg = model_reg.fit(X_train, y_train)\n",
        "y_pred1 = Ranreg.predict(X_test)"
      ],
      "metadata": {
        "id": "ELbsVcF1AJKC"
      },
      "execution_count": 68,
      "outputs": []
    },
    {
      "cell_type": "code",
      "source": [
        "GBReg = GBR.fit(X_train, y_train)\n",
        "y_pred2 = GBReg.predict(X_test)"
      ],
      "metadata": {
        "id": "30Dz6k2uBRuh"
      },
      "execution_count": 71,
      "outputs": []
    },
    {
      "cell_type": "markdown",
      "metadata": {
        "id": "gUo8NmHkfIpf"
      },
      "source": [
        "### 문제 16. 모델 학습 결과 평가하기"
      ]
    },
    {
      "cell_type": "code",
      "metadata": {
        "id": "rxvf1vgmfLs-"
      },
      "source": [
        "from sklearn.metrics import mean_absolute_error, mean_squared_error"
      ],
      "execution_count": 53,
      "outputs": []
    },
    {
      "cell_type": "code",
      "metadata": {
        "id": "KDVy7fFGfUP1",
        "colab": {
          "base_uri": "https://localhost:8080/"
        },
        "outputId": "f3e333b5-a8d3-4178-aaa2-f2b092fe15bb"
      },
      "source": [
        "# Predict를 수행하고 mean_absolute_error, mse 결과 출력하기\n",
        "\n",
        "#Linear Regression\n",
        "mae = mean_absolute_error(y_test,y_pred)\n",
        "mse = mean_squared_error(y_test, y_pred)\n",
        "mae1 = mean_absolute_error(y_test,y_pred1)\n",
        "mse1 = mean_squared_error(y_test, y_pred1)\n",
        "mae2 = mean_absolute_error(y_test,y_pred2)\n",
        "mse2 = mean_squared_error(y_test, y_pred2)\n",
        "\n",
        "print(\"Linear Regression: \", mae, mse)\n",
        "print(\"RandomForestRegressor: \", mae1, mse1)\n",
        "print(\"GBR: \", mae2, mse2)"
      ],
      "execution_count": 72,
      "outputs": [
        {
          "output_type": "stream",
          "name": "stdout",
          "text": [
            "Linear Regression:  38.24116677417043 3155.4450655772953\n",
            "RandomForestRegressor:  35.09219956629251 2507.073918485194\n",
            "GBR:  35.97689624164372 2521.7703483527157\n"
          ]
        }
      ]
    },
    {
      "cell_type": "markdown",
      "metadata": {
        "id": "DTqb-HqPtc4I"
      },
      "source": [
        "## Step 6. 초기 모델을 발전시키며 모델 수정\n"
      ]
    },
    {
      "cell_type": "markdown",
      "metadata": {
        "id": "xTRTOLTNto3h"
      },
      "source": [
        "### 문제 17. 실제 값과 추측 값의 Scatter plot 시각화하기\n"
      ]
    },
    {
      "cell_type": "code",
      "metadata": {
        "id": "kKEP06-OmrBs",
        "colab": {
          "base_uri": "https://localhost:8080/",
          "height": 283
        },
        "outputId": "b81e05bb-297c-43cd-b5ec-aadfdb7e9ace"
      },
      "source": [
        "# y_test vs. pred Scatter 플랏으로 시각적으로 분석하기\n",
        "# 예시 코드를 드리겠습니다.\n",
        "# 학습 이후 이런식으로 모델의 결과를 살펴보는구나... 정도의 큰 흐름을 중심으로 이해해주세요\n",
        "\n",
        "plt.scatter(x=y_test, y=y_pred, alpha=0.1)\n",
        "plt.plot([0,350], [0, 350], 'r-')"
      ],
      "execution_count": 73,
      "outputs": [
        {
          "output_type": "execute_result",
          "data": {
            "text/plain": [
              "[<matplotlib.lines.Line2D at 0x7fba5226d730>]"
            ]
          },
          "metadata": {},
          "execution_count": 73
        },
        {
          "output_type": "display_data",
          "data": {
            "text/plain": [
              "<Figure size 432x288 with 1 Axes>"
            ],
            "image/png": "[encoded data removed]"
          },
          "metadata": {
            "needs_background": "light"
          }
        }
      ]
    },
    {
      "cell_type": "code",
      "source": [
        "plt.scatter(x=y_test, y=y_pred1, alpha=0.1)\n",
        "plt.plot([0,350], [0, 350], 'r-')"
      ],
      "metadata": {
        "colab": {
          "base_uri": "https://localhost:8080/",
          "height": 283
        },
        "id": "Y_-p82DtCACt",
        "outputId": "93c7bab9-9051-44fa-f33f-0069d93d5b22"
      },
      "execution_count": 74,
      "outputs": [
        {
          "output_type": "execute_result",
          "data": {
            "text/plain": [
              "[<matplotlib.lines.Line2D at 0x7fba4e6c6c70>]"
            ]
          },
          "metadata": {},
          "execution_count": 74
        },
        {
          "output_type": "display_data",
          "data": {
            "text/plain": [
              "<Figure size 432x288 with 1 Axes>"
            ],
            "image/png": "[encoded data removed]"
          },
          "metadata": {
            "needs_background": "light"
          }
        }
      ]
    },
    {
      "cell_type": "code",
      "source": [
        "plt.scatter(x=y_test, y=y_pred2, alpha=0.1)\n",
        "plt.plot([0,350], [0, 350], 'r-')"
      ],
      "metadata": {
        "colab": {
          "base_uri": "https://localhost:8080/",
          "height": 283
        },
        "id": "PziaWG62CCOA",
        "outputId": "c8b51d17-2bf6-4121-9df5-4e90b6b80178"
      },
      "execution_count": 75,
      "outputs": [
        {
          "output_type": "execute_result",
          "data": {
            "text/plain": [
              "[<matplotlib.lines.Line2D at 0x7fba51bcdb80>]"
            ]
          },
          "metadata": {},
          "execution_count": 75
        },
        {
          "output_type": "display_data",
          "data": {
            "text/plain": [
              "<Figure size 432x288 with 1 Axes>"
            ],
            "image/png": "[encoded data removed]"
          },
          "metadata": {
            "needs_background": "light"
          }
        }
      ]
    },
    {
      "cell_type": "markdown",
      "metadata": {
        "id": "kAisZoSEtp35"
      },
      "source": [
        "### 문제 18. 에러 값의 히스토그램 확인하기\n"
      ]
    },
    {
      "cell_type": "code",
      "metadata": {
        "id": "WLnyYNJwGRgd"
      },
      "source": [
        "# 예시코드를 제공하겠습니다.\n",
        "# 위와 마찬가지로 큰흐름을 이해하는걸 목적으로 해주세요.\n",
        "# 지금 단계에서 세부 함수나 코드를 모른다고해서 스트레스 받으실 필요 전혀 없습니다."
      ],
      "execution_count": null,
      "outputs": []
    },
    {
      "cell_type": "code",
      "source": [
        "# err의 히스토그램으로 에러율 히스토그램 확인하기\n",
        "err = (y_pred - y_test) / y_test\n",
        "sns.histplot(err)\n",
        "plt.grid()\n",
        "\n"
      ],
      "metadata": {
        "id": "nsIsG4LPJyix",
        "colab": {
          "base_uri": "https://localhost:8080/",
          "height": 279
        },
        "outputId": "598dfcda-98a6-4494-cdc4-9efcfe8ec8da"
      },
      "execution_count": 77,
      "outputs": [
        {
          "output_type": "display_data",
          "data": {
            "text/plain": [
              "<Figure size 432x288 with 1 Axes>"
            ],
            "image/png": "[encoded data removed]"
          },
          "metadata": {
            "needs_background": "light"
          }
        }
      ]
    },
    {
      "cell_type": "code",
      "source": [
        "err = (y_pred1 - y_test) / y_test\n",
        "sns.histplot(err)\n",
        "plt.grid()"
      ],
      "metadata": {
        "colab": {
          "base_uri": "https://localhost:8080/",
          "height": 279
        },
        "id": "et6xdgh1CLBo",
        "outputId": "acbf9464-7b92-4101-945c-d82a6b57862a"
      },
      "execution_count": 78,
      "outputs": [
        {
          "output_type": "display_data",
          "data": {
            "text/plain": [
              "<Figure size 432x288 with 1 Axes>"
            ],
            "image/png": "[encoded data removed]"
          },
          "metadata": {
            "needs_background": "light"
          }
        }
      ]
    },
    {
      "cell_type": "code",
      "source": [
        "err = (y_pred2 - y_test) / y_test\n",
        "sns.histplot(err)\n",
        "plt.grid()"
      ],
      "metadata": {
        "colab": {
          "base_uri": "https://localhost:8080/",
          "height": 279
        },
        "id": "l5tvMMLCCMSc",
        "outputId": "b79f165e-ec03-449a-a032-63c8d2d0478a"
      },
      "execution_count": 79,
      "outputs": [
        {
          "output_type": "display_data",
          "data": {
            "text/plain": [
              "<Figure size 432x288 with 1 Axes>"
            ],
            "image/png": "[encoded data removed]"
          },
          "metadata": {
            "needs_background": "light"
          }
        }
      ]
    },
    {
      "cell_type": "code",
      "source": [
        "# err의 히스토그램으로 에러 히스토그램 확인하기\n",
        "err = y_pred - y_test\n",
        "sns.histplot(err)\n",
        "plt.grid()"
      ],
      "metadata": {
        "id": "NU-b4g3dJz1n",
        "colab": {
          "base_uri": "https://localhost:8080/",
          "height": 279
        },
        "outputId": "0519e15e-4bf2-42ae-af12-1c0dd7a4da78"
      },
      "execution_count": 80,
      "outputs": [
        {
          "output_type": "display_data",
          "data": {
            "text/plain": [
              "<Figure size 432x288 with 1 Axes>"
            ],
            "image/png": "[encoded data removed]"
          },
          "metadata": {
            "needs_background": "light"
          }
        }
      ]
    },
    {
      "cell_type": "code",
      "source": [
        "err = y_pred1 - y_test\n",
        "sns.histplot(err)\n",
        "plt.grid()"
      ],
      "metadata": {
        "colab": {
          "base_uri": "https://localhost:8080/",
          "height": 279
        },
        "id": "E986G9OYCXwb",
        "outputId": "e39e6236-3e4d-42e0-d162-f3b8c38657c2"
      },
      "execution_count": 81,
      "outputs": [
        {
          "output_type": "display_data",
          "data": {
            "text/plain": [
              "<Figure size 432x288 with 1 Axes>"
            ],
            "image/png": "[encoded data removed]"
          },
          "metadata": {
            "needs_background": "light"
          }
        }
      ]
    },
    {
      "cell_type": "code",
      "source": [
        "err = y_pred2 - y_test\n",
        "sns.histplot(err)\n",
        "plt.grid()"
      ],
      "metadata": {
        "colab": {
          "base_uri": "https://localhost:8080/",
          "height": 279
        },
        "id": "xlkTQIvXCY-I",
        "outputId": "889adfb3-6933-4cab-b3a6-55376be68d4a"
      },
      "execution_count": 82,
      "outputs": [
        {
          "output_type": "display_data",
          "data": {
            "text/plain": [
              "<Figure size 432x288 with 1 Axes>"
            ],
            "image/png": "[encoded data removed]"
          },
          "metadata": {
            "needs_background": "light"
          }
        }
      ]
    },
    {
      "cell_type": "markdown",
      "source": [
        "# 마무리"
      ],
      "metadata": {
        "id": "A6S0_wQ2KR3v"
      }
    },
    {
      "cell_type": "markdown",
      "source": [
        "## 과제 마무리"
      ],
      "metadata": {
        "id": "EiKz0X9NPSmN"
      }
    },
    {
      "cell_type": "markdown",
      "source": [
        "고생하셨습니다!\n",
        "\n",
        "여러번 강조했지만 오늘 과제는 세부적인 함수보다는 기계가 어떻게 학습하는지 그 과정과 흐름을 익히시는데 초점을 맞추시면 됩니다.\n",
        "\n",
        "흐름에 대해 이해한 후 코드와 문법에 대해서 스스로 공부하시면 됩니다.\n",
        "\n",
        "오늘 쓰인 라이브러리나 method, 함수들은 어차피 계속 만나게될거라 방학때 복습해놓는게 나중에도 편해요!\n",
        "\n",
        "-\n"
      ],
      "metadata": {
        "id": "Ht-A1aRfKWaO"
      }
    },
    {
      "cell_type": "markdown",
      "source": [
        "## 분반을 시작하면서"
      ],
      "metadata": {
        "id": "5iSDebtdPVht"
      }
    },
    {
      "cell_type": "markdown",
      "source": [
        "\n",
        "\n",
        "\n",
        "**머신러닝 분반을 준비하면서 알려드려야할게 많은데, 주어진 2달의 기간이 너무나도 짧습니다.**\n",
        "\n",
        "-\n",
        "\n",
        "\n",
        "\n",
        "수리적 이해가 무엇보다 중요해서 정규 세션에서는 수학을 위주로 전달되긴하지만,\n",
        "\n",
        "**초심자 입장에서 직관적인 이해, 실무적인 코딩이 더 도움된다는것도 겪어봐서 잘 알고있습니다**\n",
        "\n",
        "-\n",
        "\n",
        "\n",
        "\n",
        "그래서 마음같아서는 주 2~3회 세션을 잡아서 수리적 이해와 실무적 코딩, 직관적 이해를 모두 전달해드리고 싶지만, 여러분이 학회 활동만 하지 않는다는걸 알고있어요...\n",
        "\n",
        "-"
      ],
      "metadata": {
        "id": "WdG_4an8POu-"
      }
    },
    {
      "cell_type": "markdown",
      "source": [
        "방학이 지나고 학기가 시작되면 17기 여러분들도 학회내에서 프로젝트를 진행하게 됩니다. \n",
        "\n",
        "목요일 정규 세션에서 실무적인 코딩을 집중적으로 다루지않는만큼, 학기가 시작되었을때 헤매지않게 과제는 오늘처럼 코딩 위주로 내어드릴 생각입니다.\n",
        "\n",
        "-\n",
        "\n",
        "머신러닝을 처음 접하신분들은 처음보는 함수와 파이썬 문법 앞에서 헤매는게 지극히 정상적이고 당연한 현상입니다.\n",
        "\n",
        "궁금한게 생기시면 언제든 연락주세요!\n",
        "\n"
      ],
      "metadata": {
        "id": "RHEtFy6oMvIH"
      }
    }
  ]
}