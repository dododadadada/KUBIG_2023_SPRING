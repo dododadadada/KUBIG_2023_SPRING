{
  "nbformat": 4,
  "nbformat_minor": 0,
  "metadata": {
    "kernelspec": {
      "display_name": "Python 3",
      "language": "python",
      "name": "python3"
    },
    "language_info": {
      "codemirror_mode": {
        "name": "ipython",
        "version": 3
      },
      "file_extension": ".py",
      "mimetype": "text/x-python",
      "name": "python",
      "nbconvert_exporter": "python",
      "pygments_lexer": "ipython3",
      "version": "3.7.7"
    },
    "colab": {
      "provenance": [],
      "toc_visible": true
    }
  },
  "cells": [
    {
      "cell_type": "markdown",
      "source": [
        "## step 0. 머신러닝 프로젝트의 큰 틀"
      ],
      "metadata": {
        "id": "4-eZYZcJPjUe"
      }
    },
    {
      "cell_type": "markdown",
      "source": [
        "< 머신러닝 프로젝트의 큰 틀 >\n",
        "1. 모델의 목적 살펴보기, 큰 그림 그리기\n",
        "\n",
        "2. 사용 데이터 구하기\n",
        "\n",
        "3. 데이터에 대해 살펴보기 (EDA)\n",
        "\n",
        "4. 데이터 전처리하기 (알고리즘을 위한 데이터 처리)\n",
        "\n",
        "5. 모델 선택 및 Train\n",
        "\n",
        "6. 초기 모델을 발전시키며 모델 수정\n",
        "\n",
        "7. 솔루션 제시 및 유지 보수"
      ],
      "metadata": {
        "id": "MtriMMmh0gXq"
      }
    },
    {
      "cell_type": "markdown",
      "source": [
        "##Step 1. 목적 살펴보기, 큰그림 그리기"
      ],
      "metadata": {
        "id": "b3V6KIJw0pUC"
      }
    },
    {
      "cell_type": "markdown",
      "metadata": {
        "id": "NqqLNJZjfi8U"
      },
      "source": [
        "주제 : 뉴욕에서 방이 둘 딸린 집을 에어비엔비에 내놓으려 한다.\n",
        " 이 때 적당한 숙박료를 구하시오.\n",
        "\n",
        "----------\n",
        "데이터 소개 : New York City Airbnb Open Data\n",
        "\n",
        "    - 각 파일의 컬럼은 아래와 같습니다.\n",
        "    id: 항목의 ID\n",
        "    name: 항목의 이름 (타이틀)\n",
        "    host_id: 호스트 ID\n",
        "    host_name: 호스트의 이름\n",
        "    neighbourhood_group: 방이 있는 구역 그룹\n",
        "    neighbourhood: 방이 있는 구역\n",
        "    latitude: 방이 위치한 위도\n",
        "    longitude: 방이 위치한 경도\n",
        "    room_type: 방의 종류\n",
        "    price: 가격 (미 달러)\n",
        "    minimum_nights: 최소 숙박 일수\n",
        "    number_of_reviews: 리뷰의 개수\n",
        "    last_review: 마지막 리뷰 일자\n",
        "    reviews_per_month: 월별 리뷰 개수\n",
        "    calculated_host_listings_count: 호스트가 올린 방 개수\n",
        "    availability_365: 365일 중 가능한 일수\n",
        "---"
      ]
    },
    {
      "cell_type": "markdown",
      "source": [
        "### 문제 0.Train data와 target data는 무엇이 되어야할지 스스로 정의내린 후에 step 2로 넘어가세요!"
      ],
      "metadata": {
        "id": "HEvmpF7DBJZC"
      }
    },
    {
      "cell_type": "markdown",
      "source": [
        "\n",
        "\n",
        "\n",
        "```\n",
        "target data : price \n",
        "train data : others \n",
        "```\n",
        "\n",
        "\n",
        "\n"
      ],
      "metadata": {
        "id": "oQQgMFIUdeLJ"
      }
    },
    {
      "cell_type": "markdown",
      "metadata": {
        "id": "IRssoNrgP7So"
      },
      "source": [
        "## Step 2. 데이터셋 준비하기"
      ]
    },
    {
      "cell_type": "code",
      "metadata": {
        "id": "g49RuFGrBvt7"
      },
      "source": [
        "#기본적인 Library 불러오기\n",
        "#아래 Library를 처음보신다면 각각 어떤 역할을 하는지 대략적으로 찾아보세요!\n",
        "\n",
        "import pandas as pd\n",
        "import numpy as np\n",
        "import matplotlib.pyplot as plt\n",
        "import seaborn as sns"
      ],
      "execution_count": 3,
      "outputs": []
    },
    {
      "cell_type": "code",
      "source": [
        "# 구글 드라이브를 연동시키는 작업입니다. 데이터를 구글 드라이브에 올려놓고 불러오는 분들만 사용하시면 됩니다!\n",
        "# 데이터를 불러오는 다른 방법을 사용하셔도 좋아요!\n",
        "\n",
        "from google.colab import drive\n",
        "drive.mount('/content/drive')"
      ],
      "metadata": {
        "colab": {
          "base_uri": "https://localhost:8080/"
        },
        "id": "jo2D9juaaewe",
        "outputId": "3661eab8-92fd-48c6-80c1-0337c1f5cb66"
      },
      "execution_count": 4,
      "outputs": [
        {
          "output_type": "stream",
          "name": "stdout",
          "text": [
            "Drive already mounted at /content/drive; to attempt to forcibly remount, call drive.mount(\"/content/drive\", force_remount=True).\n"
          ]
        }
      ]
    },
    {
      "cell_type": "code",
      "source": [
        "from google.colab import drive\n",
        "drive.mount('/content/drive')"
      ],
      "metadata": {
        "id": "-9r7qcKgm1TI"
      },
      "execution_count": null,
      "outputs": []
    },
    {
      "cell_type": "markdown",
      "metadata": {
        "id": "aJ34SovLtFI8"
      },
      "source": [
        "### 문제 1. Pandas 라이브러리로 csv파일 읽어들이기\n"
      ]
    },
    {
      "cell_type": "code",
      "metadata": {
        "id": "RnJv-4YwCMSx"
      },
      "source": [
        "PATH = \"/content/drive/MyDrive/KUBIG\"\n",
        "\n",
        "df = pd.read_csv(PATH+\"/AB_NYC_2019.csv\")"
      ],
      "execution_count": 5,
      "outputs": []
    },
    {
      "cell_type": "markdown",
      "metadata": {
        "id": "9L3BNVM7tHN5"
      },
      "source": [
        "## Step 3. 데이터에 대해 살펴보기 (EDA 및 데이터 기초 통계 분석)\n"
      ]
    },
    {
      "cell_type": "markdown",
      "source": [
        "### 문제 2-1. 데이터 구조 살펴보기"
      ],
      "metadata": {
        "id": "7M-V7qGY1xdi"
      }
    },
    {
      "cell_type": "code",
      "source": [
        "# DataFrame에서 제공하는 Method를 이용하여 각 데이터프레임의 구조 분석하기 (head(), info())\n",
        "\n",
        "df.head(3) ##\n",
        "df.info()"
      ],
      "metadata": {
        "id": "ScSj4jpisu5k",
        "colab": {
          "base_uri": "https://localhost:8080/"
        },
        "outputId": "85260e52-dbd1-48ae-91a2-196b12458a75"
      },
      "execution_count": 10,
      "outputs": [
        {
          "output_type": "stream",
          "name": "stdout",
          "text": [
            "     id                                 name  host_id  host_name  \\\n",
            "0  2539   Clean & quiet apt home by the park     2787       John   \n",
            "1  2595                Skylit Midtown Castle     2845   Jennifer   \n",
            "2  3647  THE VILLAGE OF HARLEM....NEW YORK !     4632  Elisabeth   \n",
            "\n",
            "  neighbourhood_group neighbourhood  latitude  longitude        room_type  \\\n",
            "0            Brooklyn    Kensington  40.64749  -73.97237     Private room   \n",
            "1           Manhattan       Midtown  40.75362  -73.98377  Entire home/apt   \n",
            "2           Manhattan        Harlem  40.80902  -73.94190     Private room   \n",
            "\n",
            "   price  minimum_nights  number_of_reviews last_review  reviews_per_month  \\\n",
            "0    149               1                  9  2018-10-19               0.21   \n",
            "1    225               1                 45  2019-05-21               0.38   \n",
            "2    150               3                  0         NaN                NaN   \n",
            "\n",
            "   calculated_host_listings_count  availability_365  \n",
            "0                               6               365  \n",
            "1                               2               355  \n",
            "2                               1               365  \n",
            "<class 'pandas.core.frame.DataFrame'>\n",
            "RangeIndex: 48895 entries, 0 to 48894\n",
            "Data columns (total 16 columns):\n",
            " #   Column                          Non-Null Count  Dtype  \n",
            "---  ------                          --------------  -----  \n",
            " 0   id                              48895 non-null  int64  \n",
            " 1   name                            48879 non-null  object \n",
            " 2   host_id                         48895 non-null  int64  \n",
            " 3   host_name                       48874 non-null  object \n",
            " 4   neighbourhood_group             48895 non-null  object \n",
            " 5   neighbourhood                   48895 non-null  object \n",
            " 6   latitude                        48895 non-null  float64\n",
            " 7   longitude                       48895 non-null  float64\n",
            " 8   room_type                       48895 non-null  object \n",
            " 9   price                           48895 non-null  int64  \n",
            " 10  minimum_nights                  48895 non-null  int64  \n",
            " 11  number_of_reviews               48895 non-null  int64  \n",
            " 12  last_review                     38843 non-null  object \n",
            " 13  reviews_per_month               38843 non-null  float64\n",
            " 14  calculated_host_listings_count  48895 non-null  int64  \n",
            " 15  availability_365                48895 non-null  int64  \n",
            "dtypes: float64(3), int64(7), object(6)\n",
            "memory usage: 6.0+ MB\n",
            "None\n"
          ]
        }
      ]
    },
    {
      "cell_type": "markdown",
      "source": [
        "### 문제 2-2. 'room_type' 변수에 어떤 종류가 있는지 살펴보기"
      ],
      "metadata": {
        "id": "ej8UbHb77EfI"
      }
    },
    {
      "cell_type": "code",
      "source": [
        "# value_counts()\n",
        "\n",
        "df[\"room_type\"].value_counts()"
      ],
      "metadata": {
        "id": "2hd_NZaO7LHK",
        "colab": {
          "base_uri": "https://localhost:8080/"
        },
        "outputId": "86c5abda-c6dc-4024-9d79-0aab57ace215"
      },
      "execution_count": 13,
      "outputs": [
        {
          "output_type": "execute_result",
          "data": {
            "text/plain": [
              "Entire home/apt    25409\n",
              "Private room       22326\n",
              "Shared room         1160\n",
              "Name: room_type, dtype: int64"
            ]
          },
          "metadata": {},
          "execution_count": 13
        }
      ]
    },
    {
      "cell_type": "markdown",
      "source": [
        "###문제 2-3. 기초 통계량 확인해보기"
      ],
      "metadata": {
        "id": "R1B6Vt307QYN"
      }
    },
    {
      "cell_type": "code",
      "source": [
        "# describe()"
      ],
      "metadata": {
        "id": "QPFdoeGq7XsX"
      },
      "execution_count": null,
      "outputs": []
    },
    {
      "cell_type": "code",
      "source": [
        "df.describe()"
      ],
      "metadata": {
        "id": "gg1ln4MVEqwZ",
        "colab": {
          "base_uri": "https://localhost:8080/",
          "height": 300
        },
        "outputId": "daa03124-3410-4bf3-aa0d-2ec649f57043"
      },
      "execution_count": 14,
      "outputs": [
        {
          "output_type": "execute_result",
          "data": {
            "text/plain": [
              "                 id       host_id      latitude     longitude         price  \\\n",
              "count  4.889500e+04  4.889500e+04  48895.000000  48895.000000  48895.000000   \n",
              "mean   1.901714e+07  6.762001e+07     40.728949    -73.952170    152.720687   \n",
              "std    1.098311e+07  7.861097e+07      0.054530      0.046157    240.154170   \n",
              "min    2.539000e+03  2.438000e+03     40.499790    -74.244420      0.000000   \n",
              "25%    9.471945e+06  7.822033e+06     40.690100    -73.983070     69.000000   \n",
              "50%    1.967728e+07  3.079382e+07     40.723070    -73.955680    106.000000   \n",
              "75%    2.915218e+07  1.074344e+08     40.763115    -73.936275    175.000000   \n",
              "max    3.648724e+07  2.743213e+08     40.913060    -73.712990  10000.000000   \n",
              "\n",
              "       minimum_nights  number_of_reviews  reviews_per_month  \\\n",
              "count    48895.000000       48895.000000       38843.000000   \n",
              "mean         7.029962          23.274466           1.373221   \n",
              "std         20.510550          44.550582           1.680442   \n",
              "min          1.000000           0.000000           0.010000   \n",
              "25%          1.000000           1.000000           0.190000   \n",
              "50%          3.000000           5.000000           0.720000   \n",
              "75%          5.000000          24.000000           2.020000   \n",
              "max       1250.000000         629.000000          58.500000   \n",
              "\n",
              "       calculated_host_listings_count  availability_365  \n",
              "count                    48895.000000      48895.000000  \n",
              "mean                         7.143982        112.781327  \n",
              "std                         32.952519        131.622289  \n",
              "min                          1.000000          0.000000  \n",
              "25%                          1.000000          0.000000  \n",
              "50%                          1.000000         45.000000  \n",
              "75%                          2.000000        227.000000  \n",
              "max                        327.000000        365.000000  "
            ],
            "text/html": [
              "\n",
              "  <div id=\"df-27724516-a88e-4610-afa1-f038681a3965\">\n",
              "    <div class=\"colab-df-container\">\n",
              "      <div>\n",
              "<style scoped>\n",
              "    .dataframe tbody tr th:only-of-type {\n",
              "        vertical-align: middle;\n",
              "    }\n",
              "\n",
              "    .dataframe tbody tr th {\n",
              "        vertical-align: top;\n",
              "    }\n",
              "\n",
              "    .dataframe thead th {\n",
              "        text-align: right;\n",
              "    }\n",
              "</style>\n",
              "<table border=\"1\" class=\"dataframe\">\n",
              "  <thead>\n",
              "    <tr style=\"text-align: right;\">\n",
              "      <th></th>\n",
              "      <th>id</th>\n",
              "      <th>host_id</th>\n",
              "      <th>latitude</th>\n",
              "      <th>longitude</th>\n",
              "      <th>price</th>\n",
              "      <th>minimum_nights</th>\n",
              "      <th>number_of_reviews</th>\n",
              "      <th>reviews_per_month</th>\n",
              "      <th>calculated_host_listings_count</th>\n",
              "      <th>availability_365</th>\n",
              "    </tr>\n",
              "  </thead>\n",
              "  <tbody>\n",
              "    <tr>\n",
              "      <th>count</th>\n",
              "      <td>4.889500e+04</td>\n",
              "      <td>4.889500e+04</td>\n",
              "      <td>48895.000000</td>\n",
              "      <td>48895.000000</td>\n",
              "      <td>48895.000000</td>\n",
              "      <td>48895.000000</td>\n",
              "      <td>48895.000000</td>\n",
              "      <td>38843.000000</td>\n",
              "      <td>48895.000000</td>\n",
              "      <td>48895.000000</td>\n",
              "    </tr>\n",
              "    <tr>\n",
              "      <th>mean</th>\n",
              "      <td>1.901714e+07</td>\n",
              "      <td>6.762001e+07</td>\n",
              "      <td>40.728949</td>\n",
              "      <td>-73.952170</td>\n",
              "      <td>152.720687</td>\n",
              "      <td>7.029962</td>\n",
              "      <td>23.274466</td>\n",
              "      <td>1.373221</td>\n",
              "      <td>7.143982</td>\n",
              "      <td>112.781327</td>\n",
              "    </tr>\n",
              "    <tr>\n",
              "      <th>std</th>\n",
              "      <td>1.098311e+07</td>\n",
              "      <td>7.861097e+07</td>\n",
              "      <td>0.054530</td>\n",
              "      <td>0.046157</td>\n",
              "      <td>240.154170</td>\n",
              "      <td>20.510550</td>\n",
              "      <td>44.550582</td>\n",
              "      <td>1.680442</td>\n",
              "      <td>32.952519</td>\n",
              "      <td>131.622289</td>\n",
              "    </tr>\n",
              "    <tr>\n",
              "      <th>min</th>\n",
              "      <td>2.539000e+03</td>\n",
              "      <td>2.438000e+03</td>\n",
              "      <td>40.499790</td>\n",
              "      <td>-74.244420</td>\n",
              "      <td>0.000000</td>\n",
              "      <td>1.000000</td>\n",
              "      <td>0.000000</td>\n",
              "      <td>0.010000</td>\n",
              "      <td>1.000000</td>\n",
              "      <td>0.000000</td>\n",
              "    </tr>\n",
              "    <tr>\n",
              "      <th>25%</th>\n",
              "      <td>9.471945e+06</td>\n",
              "      <td>7.822033e+06</td>\n",
              "      <td>40.690100</td>\n",
              "      <td>-73.983070</td>\n",
              "      <td>69.000000</td>\n",
              "      <td>1.000000</td>\n",
              "      <td>1.000000</td>\n",
              "      <td>0.190000</td>\n",
              "      <td>1.000000</td>\n",
              "      <td>0.000000</td>\n",
              "    </tr>\n",
              "    <tr>\n",
              "      <th>50%</th>\n",
              "      <td>1.967728e+07</td>\n",
              "      <td>3.079382e+07</td>\n",
              "      <td>40.723070</td>\n",
              "      <td>-73.955680</td>\n",
              "      <td>106.000000</td>\n",
              "      <td>3.000000</td>\n",
              "      <td>5.000000</td>\n",
              "      <td>0.720000</td>\n",
              "      <td>1.000000</td>\n",
              "      <td>45.000000</td>\n",
              "    </tr>\n",
              "    <tr>\n",
              "      <th>75%</th>\n",
              "      <td>2.915218e+07</td>\n",
              "      <td>1.074344e+08</td>\n",
              "      <td>40.763115</td>\n",
              "      <td>-73.936275</td>\n",
              "      <td>175.000000</td>\n",
              "      <td>5.000000</td>\n",
              "      <td>24.000000</td>\n",
              "      <td>2.020000</td>\n",
              "      <td>2.000000</td>\n",
              "      <td>227.000000</td>\n",
              "    </tr>\n",
              "    <tr>\n",
              "      <th>max</th>\n",
              "      <td>3.648724e+07</td>\n",
              "      <td>2.743213e+08</td>\n",
              "      <td>40.913060</td>\n",
              "      <td>-73.712990</td>\n",
              "      <td>10000.000000</td>\n",
              "      <td>1250.000000</td>\n",
              "      <td>629.000000</td>\n",
              "      <td>58.500000</td>\n",
              "      <td>327.000000</td>\n",
              "      <td>365.000000</td>\n",
              "    </tr>\n",
              "  </tbody>\n",
              "</table>\n",
              "</div>\n",
              "      <button class=\"colab-df-convert\" onclick=\"convertToInteractive('df-27724516-a88e-4610-afa1-f038681a3965')\"\n",
              "              title=\"Convert this dataframe to an interactive table.\"\n",
              "              style=\"display:none;\">\n",
              "        \n",
              "  <svg xmlns=\"http://www.w3.org/2000/svg\" height=\"24px\"viewBox=\"0 0 24 24\"\n",
              "       width=\"24px\">\n",
              "    <path d=\"M0 0h24v24H0V0z\" fill=\"none\"/>\n",
              "    <path d=\"M18.56 5.44l.94 2.06.94-2.06 2.06-.94-2.06-.94-.94-2.06-.94 2.06-2.06.94zm-11 1L8.5 8.5l.94-2.06 2.06-.94-2.06-.94L8.5 2.5l-.94 2.06-2.06.94zm10 10l.94 2.06.94-2.06 2.06-.94-2.06-.94-.94-2.06-.94 2.06-2.06.94z\"/><path d=\"M17.41 7.96l-1.37-1.37c-.4-.4-.92-.59-1.43-.59-.52 0-1.04.2-1.43.59L10.3 9.45l-7.72 7.72c-.78.78-.78 2.05 0 2.83L4 21.41c.39.39.9.59 1.41.59.51 0 1.02-.2 1.41-.59l7.78-7.78 2.81-2.81c.8-.78.8-2.07 0-2.86zM5.41 20L4 18.59l7.72-7.72 1.47 1.35L5.41 20z\"/>\n",
              "  </svg>\n",
              "      </button>\n",
              "      \n",
              "  <style>\n",
              "    .colab-df-container {\n",
              "      display:flex;\n",
              "      flex-wrap:wrap;\n",
              "      gap: 12px;\n",
              "    }\n",
              "\n",
              "    .colab-df-convert {\n",
              "      background-color: #E8F0FE;\n",
              "      border: none;\n",
              "      border-radius: 50%;\n",
              "      cursor: pointer;\n",
              "      display: none;\n",
              "      fill: #1967D2;\n",
              "      height: 32px;\n",
              "      padding: 0 0 0 0;\n",
              "      width: 32px;\n",
              "    }\n",
              "\n",
              "    .colab-df-convert:hover {\n",
              "      background-color: #E2EBFA;\n",
              "      box-shadow: 0px 1px 2px rgba(60, 64, 67, 0.3), 0px 1px 3px 1px rgba(60, 64, 67, 0.15);\n",
              "      fill: #174EA6;\n",
              "    }\n",
              "\n",
              "    [theme=dark] .colab-df-convert {\n",
              "      background-color: #3B4455;\n",
              "      fill: #D2E3FC;\n",
              "    }\n",
              "\n",
              "    [theme=dark] .colab-df-convert:hover {\n",
              "      background-color: #434B5C;\n",
              "      box-shadow: 0px 1px 3px 1px rgba(0, 0, 0, 0.15);\n",
              "      filter: drop-shadow(0px 1px 2px rgba(0, 0, 0, 0.3));\n",
              "      fill: #FFFFFF;\n",
              "    }\n",
              "  </style>\n",
              "\n",
              "      <script>\n",
              "        const buttonEl =\n",
              "          document.querySelector('#df-27724516-a88e-4610-afa1-f038681a3965 button.colab-df-convert');\n",
              "        buttonEl.style.display =\n",
              "          google.colab.kernel.accessAllowed ? 'block' : 'none';\n",
              "\n",
              "        async function convertToInteractive(key) {\n",
              "          const element = document.querySelector('#df-27724516-a88e-4610-afa1-f038681a3965');\n",
              "          const dataTable =\n",
              "            await google.colab.kernel.invokeFunction('convertToInteractive',\n",
              "                                                     [key], {});\n",
              "          if (!dataTable) return;\n",
              "\n",
              "          const docLinkHtml = 'Like what you see? Visit the ' +\n",
              "            '<a target=\"_blank\" href=https://colab.research.google.com/notebooks/data_table.ipynb>data table notebook</a>'\n",
              "            + ' to learn more about interactive tables.';\n",
              "          element.innerHTML = '';\n",
              "          dataTable['output_type'] = 'display_data';\n",
              "          await google.colab.output.renderOutput(dataTable, element);\n",
              "          const docLink = document.createElement('div');\n",
              "          docLink.innerHTML = docLinkHtml;\n",
              "          element.appendChild(docLink);\n",
              "        }\n",
              "      </script>\n",
              "    </div>\n",
              "  </div>\n",
              "  "
            ]
          },
          "metadata": {},
          "execution_count": 14
        }
      ]
    },
    {
      "cell_type": "markdown",
      "source": [
        "###문제 3. 각 feature 별로 시각화해서 살펴보기"
      ],
      "metadata": {
        "id": "wePFPGka7ijN"
      }
    },
    {
      "cell_type": "code",
      "source": [
        "# 기본적인 시각화의 방법은 다양합니다!\n",
        "# 각자 다양한 방식으로 전처리전 데이터에 대한 시각화를 진행해보세요!"
      ],
      "metadata": {
        "id": "QyN878FF7nU2"
      },
      "execution_count": null,
      "outputs": []
    },
    {
      "cell_type": "code",
      "source": [
        "plt.hist(df[\"last_review\"])"
      ],
      "metadata": {
        "id": "yI5wC2BVEp47",
        "colab": {
          "base_uri": "https://localhost:8080/",
          "height": 357
        },
        "outputId": "658e86a1-7dfd-4a18-fa7e-006b71bb9fd0"
      },
      "execution_count": 40,
      "outputs": [
        {
          "output_type": "execute_result",
          "data": {
            "text/plain": [
              "(array([23607.,  3704.,  2353.,  1935.,  1756.,  1333.,  1163.,  1063.,\n",
              "         1093.,   836.]),\n",
              " array([   0. ,  176.3,  352.6,  528.9,  705.2,  881.5, 1057.8, 1234.1,\n",
              "        1410.4, 1586.7, 1763. ]),\n",
              " <a list of 10 Patch objects>)"
            ]
          },
          "metadata": {},
          "execution_count": 40
        },
        {
          "output_type": "display_data",
          "data": {
            "text/plain": [
              "<Figure size 432x288 with 1 Axes>"
            ],
            "image/png": "[encoded data removed]"
          },
          "metadata": {
            "needs_background": "light"
          }
        }
      ]
    },
    {
      "cell_type": "markdown",
      "source": [
        "### 문제 4. 각 feature 별로 결측치가 있는지 살펴보기"
      ],
      "metadata": {
        "id": "N0fF1s1G16vk"
      }
    },
    {
      "cell_type": "code",
      "source": [
        "# 마찬가지로 결측치를 찾는 방법도 다양합니다. 가장 일반적으로 사용하는 method를 힌트로 첨부했습니다.\n",
        "# 추후 프로젝트를 진행하시면서 스스로 다양한 방식을 사용해보세요!\n",
        "# { isna().sum(), info() }"
      ],
      "metadata": {
        "id": "rbCuAO2N2Aqp"
      },
      "execution_count": null,
      "outputs": []
    },
    {
      "cell_type": "code",
      "source": [
        "print(df.isna().sum())\n",
        "print(df.info())"
      ],
      "metadata": {
        "id": "mC-9o9n-EqOB",
        "colab": {
          "base_uri": "https://localhost:8080/"
        },
        "outputId": "c01c31a4-11f1-491d-962c-4b4f80921d89"
      },
      "execution_count": 22,
      "outputs": [
        {
          "output_type": "stream",
          "name": "stdout",
          "text": [
            "id                                    0\n",
            "name                                 16\n",
            "host_id                               0\n",
            "host_name                            21\n",
            "neighbourhood_group                   0\n",
            "neighbourhood                         0\n",
            "latitude                              0\n",
            "longitude                             0\n",
            "room_type                             0\n",
            "price                                 0\n",
            "minimum_nights                        0\n",
            "number_of_reviews                     0\n",
            "last_review                       10052\n",
            "reviews_per_month                 10052\n",
            "calculated_host_listings_count        0\n",
            "availability_365                      0\n",
            "dtype: int64\n",
            "<class 'pandas.core.frame.DataFrame'>\n",
            "RangeIndex: 48895 entries, 0 to 48894\n",
            "Data columns (total 16 columns):\n",
            " #   Column                          Non-Null Count  Dtype  \n",
            "---  ------                          --------------  -----  \n",
            " 0   id                              48895 non-null  int64  \n",
            " 1   name                            48879 non-null  object \n",
            " 2   host_id                         48895 non-null  int64  \n",
            " 3   host_name                       48874 non-null  object \n",
            " 4   neighbourhood_group             48895 non-null  object \n",
            " 5   neighbourhood                   48895 non-null  object \n",
            " 6   latitude                        48895 non-null  float64\n",
            " 7   longitude                       48895 non-null  float64\n",
            " 8   room_type                       48895 non-null  object \n",
            " 9   price                           48895 non-null  int64  \n",
            " 10  minimum_nights                  48895 non-null  int64  \n",
            " 11  number_of_reviews               48895 non-null  int64  \n",
            " 12  last_review                     38843 non-null  object \n",
            " 13  reviews_per_month               38843 non-null  float64\n",
            " 14  calculated_host_listings_count  48895 non-null  int64  \n",
            " 15  availability_365                48895 non-null  int64  \n",
            "dtypes: float64(3), int64(7), object(6)\n",
            "memory usage: 6.0+ MB\n",
            "None\n"
          ]
        }
      ]
    },
    {
      "cell_type": "markdown",
      "metadata": {
        "id": "HGHvPwkNtXgj"
      },
      "source": [
        "### 문제 5. reviews_per_month와 price의 scatter plot 그리기\n"
      ]
    },
    {
      "cell_type": "code",
      "metadata": {
        "id": "b_zcrUDF7khF",
        "colab": {
          "base_uri": "https://localhost:8080/",
          "height": 764
        },
        "outputId": "4729b845-7290-47b3-d270-bcde22d49e82"
      },
      "source": [
        "# 어떤 방법을 쓰셔도 상관없습니다.\n",
        "# sns.jointplot()\n",
        "\n",
        "plt.scatter(df[\"reviews_per_month\"], df[\"price\"])\n",
        "sns.jointplot(data=df, x=\"reviews_per_month\", y=\"price\")"
      ],
      "execution_count": 24,
      "outputs": [
        {
          "output_type": "stream",
          "name": "stderr",
          "text": [
            "/usr/local/lib/python3.8/dist-packages/seaborn/_decorators.py:36: FutureWarning: Pass the following variables as keyword args: x, y. From version 0.12, the only valid positional argument will be `data`, and passing other arguments without an explicit keyword will result in an error or misinterpretation.\n",
            "  warnings.warn(\n"
          ]
        },
        {
          "output_type": "execute_result",
          "data": {
            "text/plain": [
              "<seaborn.axisgrid.JointGrid at 0x7f20b917bbe0>"
            ]
          },
          "metadata": {},
          "execution_count": 24
        },
        {
          "output_type": "display_data",
          "data": {
            "text/plain": [
              "<Figure size 432x288 with 1 Axes>"
            ],
            "image/png": "[encoded data removed]"
          },
          "metadata": {
            "needs_background": "light"
          }
        },
        {
          "output_type": "display_data",
          "data": {
            "text/plain": [
              "<Figure size 432x432 with 3 Axes>"
            ],
            "image/png": "[encoded data removed]"
          },
          "metadata": {
            "needs_background": "light"
          }
        }
      ]
    },
    {
      "cell_type": "markdown",
      "source": [],
      "metadata": {
        "id": "mVlz5q8kF5do"
      }
    },
    {
      "cell_type": "markdown",
      "metadata": {
        "id": "amkU5Y6g7Dp4"
      },
      "source": [
        "### 문제 6. 수치형 데이터와 Price의 상관성 분석하기"
      ]
    },
    {
      "cell_type": "code",
      "metadata": {
        "id": "GZXSBFPyDh6R",
        "colab": {
          "base_uri": "https://localhost:8080/",
          "height": 429
        },
        "outputId": "6b930f83-da55-4432-a40b-893a78e4380a"
      },
      "source": [
        "# sns.heatmap()\n",
        "sns.heatmap(df.corr(), annot = True, cmap=\"Oranges\")"
      ],
      "execution_count": 28,
      "outputs": [
        {
          "output_type": "execute_result",
          "data": {
            "text/plain": [
              "<matplotlib.axes._subplots.AxesSubplot at 0x7f20b3676d30>"
            ]
          },
          "metadata": {},
          "execution_count": 28
        },
        {
          "output_type": "display_data",
          "data": {
            "text/plain": [
              "<Figure size 432x288 with 2 Axes>"
            ],
            "image/png": "[encoded data removed]"
          },
          "metadata": {
            "needs_background": "light"
          }
        }
      ]
    },
    {
      "cell_type": "markdown",
      "metadata": {
        "id": "Ga7Lzcw8TH0G"
      },
      "source": [
        "### 문제 7. 범주형 데이터와 Price의 Boxplot 계열 및 Histogram 분석하기"
      ]
    },
    {
      "cell_type": "code",
      "metadata": {
        "id": "MPmzv61vTFiw"
      },
      "source": [
        "df.columns"
      ],
      "execution_count": null,
      "outputs": []
    },
    {
      "cell_type": "markdown",
      "source": [
        "####문제 7-1. neighbourhood_group 변수와 price 사이의 분포를 boxplot으로 그려보세요."
      ],
      "metadata": {
        "id": "oaqmYR2GGJkR"
      }
    },
    {
      "cell_type": "code",
      "source": [
        "# sns.boxplot()\n",
        "sns.boxplot(x = \"neighbourhood_group\", y = \"price\", data = df)"
      ],
      "metadata": {
        "id": "eCkDh0W5GWBw",
        "colab": {
          "base_uri": "https://localhost:8080/",
          "height": 298
        },
        "outputId": "4e554681-5a1e-4b35-e4af-2113c05b0437"
      },
      "execution_count": 29,
      "outputs": [
        {
          "output_type": "execute_result",
          "data": {
            "text/plain": [
              "<matplotlib.axes._subplots.AxesSubplot at 0x7f20b35bc250>"
            ]
          },
          "metadata": {},
          "execution_count": 29
        },
        {
          "output_type": "display_data",
          "data": {
            "text/plain": [
              "<Figure size 432x288 with 1 Axes>"
            ],
            "image/png": "[encoded data removed]"
          },
          "metadata": {
            "needs_background": "light"
          }
        }
      ]
    },
    {
      "cell_type": "markdown",
      "source": [
        "####문제 7-2. room_type 변수와 price 사이의 분포를 boxplot으로 그려보세요."
      ],
      "metadata": {
        "id": "jk5xb3OGGZ6Q"
      }
    },
    {
      "cell_type": "code",
      "source": [
        "sns.boxplot(x='room_type', y='price', data=df)"
      ],
      "metadata": {
        "id": "gIOls_w_D8yR",
        "colab": {
          "base_uri": "https://localhost:8080/",
          "height": 298
        },
        "outputId": "923e6d48-7cd7-4503-f003-64b12983b784"
      },
      "execution_count": 30,
      "outputs": [
        {
          "output_type": "execute_result",
          "data": {
            "text/plain": [
              "<matplotlib.axes._subplots.AxesSubplot at 0x7f20b34fea00>"
            ]
          },
          "metadata": {},
          "execution_count": 30
        },
        {
          "output_type": "display_data",
          "data": {
            "text/plain": [
              "<Figure size 432x288 with 1 Axes>"
            ],
            "image/png": "[encoded data removed]"
          },
          "metadata": {
            "needs_background": "light"
          }
        }
      ]
    },
    {
      "cell_type": "markdown",
      "metadata": {
        "id": "izztXKpllMss"
      },
      "source": [
        "## Step 4-1. 데이터 전처리하기"
      ]
    },
    {
      "cell_type": "markdown",
      "metadata": {
        "id": "KywGh9sjtYl9"
      },
      "source": [
        "### 문제 8-1. 결측치 처리하기"
      ]
    },
    {
      "cell_type": "code",
      "metadata": {
        "id": "TqXkwW8JDxhH"
      },
      "source": [
        "# 각 컬럼을 분석하여 미기입/오기입된 데이터 확인하기\n",
        "# Hint) 수치형 데이터는 통계를 이용해서, 범주형 데이터는 unique(), value_counts()등으로 확인\n",
        "# fill(), dropna() 등으로 미기입된 데이터를 처리하기\n",
        "# 결측치는 개인적 판단에 따라 drop하셔도 되고, 특정 값으로 채우셔도 됩니다!\n",
        "\n"
      ],
      "execution_count": null,
      "outputs": []
    },
    {
      "cell_type": "code",
      "source": [
        "df.isna().sum()"
      ],
      "metadata": {
        "id": "9G5S1zFRGsvw",
        "colab": {
          "base_uri": "https://localhost:8080/"
        },
        "outputId": "71c3ab45-92c6-496b-e0e0-79b16dc419f4"
      },
      "execution_count": 31,
      "outputs": [
        {
          "output_type": "execute_result",
          "data": {
            "text/plain": [
              "id                                    0\n",
              "name                                 16\n",
              "host_id                               0\n",
              "host_name                            21\n",
              "neighbourhood_group                   0\n",
              "neighbourhood                         0\n",
              "latitude                              0\n",
              "longitude                             0\n",
              "room_type                             0\n",
              "price                                 0\n",
              "minimum_nights                        0\n",
              "number_of_reviews                     0\n",
              "last_review                       10052\n",
              "reviews_per_month                 10052\n",
              "calculated_host_listings_count        0\n",
              "availability_365                      0\n",
              "dtype: int64"
            ]
          },
          "metadata": {},
          "execution_count": 31
        }
      ]
    },
    {
      "cell_type": "code",
      "source": [
        "print(len(df))\n",
        "print(sum(df['last_review'].isna() == df['reviews_per_month'].isna()))"
      ],
      "metadata": {
        "colab": {
          "base_uri": "https://localhost:8080/"
        },
        "id": "lELWNwg920A6",
        "outputId": "f7c85469-8557-4647-ff61-1a813bb7d085"
      },
      "execution_count": 36,
      "outputs": [
        {
          "output_type": "stream",
          "name": "stdout",
          "text": [
            "48895\n",
            "48895\n"
          ]
        }
      ]
    },
    {
      "cell_type": "code",
      "source": [
        "df = df.dropna(subset = ['last_review'])\n",
        "print(df['last_review'].isna().sum())\n",
        "df.isna().sum()"
      ],
      "metadata": {
        "colab": {
          "base_uri": "https://localhost:8080/"
        },
        "id": "oSlX6-sf7fkv",
        "outputId": "d882dae7-1108-4766-8c6e-c78f467fa51d"
      },
      "execution_count": 39,
      "outputs": [
        {
          "output_type": "stream",
          "name": "stdout",
          "text": [
            "0\n"
          ]
        },
        {
          "output_type": "execute_result",
          "data": {
            "text/plain": [
              "id                                 0\n",
              "name                               6\n",
              "host_id                            0\n",
              "host_name                         16\n",
              "neighbourhood_group                0\n",
              "neighbourhood                      0\n",
              "latitude                           0\n",
              "longitude                          0\n",
              "room_type                          0\n",
              "price                              0\n",
              "minimum_nights                     0\n",
              "number_of_reviews                  0\n",
              "last_review                        0\n",
              "reviews_per_month                  0\n",
              "calculated_host_listings_count     0\n",
              "availability_365                   0\n",
              "dtype: int64"
            ]
          },
          "metadata": {},
          "execution_count": 39
        }
      ]
    },
    {
      "cell_type": "code",
      "source": [
        "df['reviews_per_month'].fillna(df.median)\n",
        "df['reviews_per_month'].isna().sum()"
      ],
      "metadata": {
        "colab": {
          "base_uri": "https://localhost:8080/"
        },
        "id": "ibg3FXGI9J4M",
        "outputId": "55af530e-fa82-4d9d-82f9-9777f9304399"
      },
      "execution_count": 42,
      "outputs": [
        {
          "output_type": "execute_result",
          "data": {
            "text/plain": [
              "0"
            ]
          },
          "metadata": {},
          "execution_count": 42
        }
      ]
    },
    {
      "cell_type": "markdown",
      "source": [
        "### 문제 8-2. 학습에 필요없는 column이라고 판단된다면 제거하기"
      ],
      "metadata": {
        "id": "TJkIM29Y8F7d"
      }
    },
    {
      "cell_type": "code",
      "source": [
        "# 'id', 'name', 'host_name', 'latitude', 'longitude' feature를 제거해보세요!\n",
        "# 각자 판단하여 위 column을 살려서 활용하고, 다른 Column을 제거하셔도 됩니다!\n",
        "# drop()\n",
        "\n",
        "df = df.drop(columns = ['id', 'name', 'host_name', 'latitude', 'longitude'])"
      ],
      "metadata": {
        "id": "K5_pBtHq8K9-"
      },
      "execution_count": 43,
      "outputs": []
    },
    {
      "cell_type": "markdown",
      "metadata": {
        "id": "CXLd43EZ9EgS"
      },
      "source": [
        "### 문제 9. 아웃라이어를 제거하고 통계 재분석하기"
      ]
    },
    {
      "cell_type": "code",
      "metadata": {
        "id": "8HbUtvqs9C-C"
      },
      "source": [
        "# quantile(), drop() 등 메소드를 이용하여 outlier 제거하고 통계 재분석하기\n",
        "# 예시 코드를 제공하겠습니다!\n",
        "# 기본 코드니까 이게 반드시 정답인건 아니고, 이런식으로 파이썬으로 데이터 전처리를 한다 정도로만 보시면 될 것 같아요"
      ],
      "execution_count": null,
      "outputs": []
    },
    {
      "cell_type": "code",
      "source": [
        "p1 = df['price'].quantile(0.95)\n",
        "p2 = df['price'].quantile(0.005)\n",
        "print(p1, p2)"
      ],
      "metadata": {
        "id": "R9rQRvyYHVf5",
        "colab": {
          "base_uri": "https://localhost:8080/"
        },
        "outputId": "04b7c2c8-70fa-4dbf-b7e7-25def6917621"
      },
      "execution_count": 44,
      "outputs": [
        {
          "output_type": "stream",
          "name": "stdout",
          "text": [
            "330.0 27.0\n"
          ]
        }
      ]
    },
    {
      "cell_type": "code",
      "source": [
        "df = df[(df['price'] < p1) & (df['price'] > p2)]"
      ],
      "metadata": {
        "id": "FVUyYblVHXNA"
      },
      "execution_count": 45,
      "outputs": []
    },
    {
      "cell_type": "code",
      "source": [
        "df['price'].hist()"
      ],
      "metadata": {
        "id": "72_mK-XhHb24",
        "colab": {
          "base_uri": "https://localhost:8080/",
          "height": 283
        },
        "outputId": "c3a58e9b-2270-429c-9d3f-5d405979bfc8"
      },
      "execution_count": 46,
      "outputs": [
        {
          "output_type": "execute_result",
          "data": {
            "text/plain": [
              "<matplotlib.axes._subplots.AxesSubplot at 0x7f20b2966730>"
            ]
          },
          "metadata": {},
          "execution_count": 46
        },
        {
          "output_type": "display_data",
          "data": {
            "text/plain": [
              "<Figure size 432x288 with 1 Axes>"
            ],
            "image/png": "[encoded data removed]"
          },
          "metadata": {
            "needs_background": "light"
          }
        }
      ]
    },
    {
      "cell_type": "markdown",
      "metadata": {
        "id": "FRfd7ABjepBS"
      },
      "source": [
        "## Step 4-2. 데이터 전처리하기 "
      ]
    },
    {
      "cell_type": "markdown",
      "metadata": {
        "id": "sWIF67-8lr4C"
      },
      "source": [
        "### 문제 10. get_dummies를 이용한 범주형 데이터 전처리"
      ]
    },
    {
      "cell_type": "code",
      "source": [
        "# 어떤 column이 범주형이고, 어떤 column이 수치형인지 스스로 판단해보세요\n",
        "print(df.info())"
      ],
      "metadata": {
        "id": "3OrphRKkHv46",
        "colab": {
          "base_uri": "https://localhost:8080/"
        },
        "outputId": "fae28b00-1204-4954-b262-b68e8bc8a29e"
      },
      "execution_count": 49,
      "outputs": [
        {
          "output_type": "stream",
          "name": "stdout",
          "text": [
            "<class 'pandas.core.frame.DataFrame'>\n",
            "Int64Index: 36669 entries, 0 to 48852\n",
            "Data columns (total 11 columns):\n",
            " #   Column                          Non-Null Count  Dtype  \n",
            "---  ------                          --------------  -----  \n",
            " 0   host_id                         36669 non-null  int64  \n",
            " 1   neighbourhood_group             36669 non-null  object \n",
            " 2   neighbourhood                   36669 non-null  object \n",
            " 3   room_type                       36669 non-null  object \n",
            " 4   price                           36669 non-null  int64  \n",
            " 5   minimum_nights                  36669 non-null  int64  \n",
            " 6   number_of_reviews               36669 non-null  int64  \n",
            " 7   last_review                     36669 non-null  object \n",
            " 8   reviews_per_month               36669 non-null  float64\n",
            " 9   calculated_host_listings_count  36669 non-null  int64  \n",
            " 10  availability_365                36669 non-null  int64  \n",
            "dtypes: float64(1), int64(6), object(4)\n",
            "memory usage: 3.4+ MB\n",
            "None\n"
          ]
        }
      ]
    },
    {
      "cell_type": "code",
      "metadata": {
        "id": "wVmEa1ChlrTc"
      },
      "source": [
        "# 예시 코드를 제공하겠습니다.\n",
        "# 코드 그 자체보다 왜 범주형 데이터를 따로 전처리해줘야하는지에 집중해서 공부하세요!\n",
        "\n",
        "X_cat = df[['neighbourhood_group', 'neighbourhood', 'room_type']]\n",
        "X_cat = pd.get_dummies(X_cat)"
      ],
      "execution_count": 55,
      "outputs": []
    },
    {
      "cell_type": "markdown",
      "metadata": {
        "id": "Dev2yLeMta85"
      },
      "source": [
        "### 문제 12. StandardScaler를 이용해 수치형 데이터 표준화하기\n"
      ]
    },
    {
      "cell_type": "code",
      "metadata": {
        "id": "_k_SDCh5xMgD"
      },
      "source": [
        "from sklearn.preprocessing import StandardScaler"
      ],
      "execution_count": 56,
      "outputs": []
    },
    {
      "cell_type": "code",
      "source": [
        "# 예시 코드를 제공하겠습니다.\n",
        "# 마찬가지로 왜 수치형 데이터를 전처리 해줬을지에 대해 생각해보세요!"
      ],
      "metadata": {
        "id": "i_8elw1NIMrA"
      },
      "execution_count": null,
      "outputs": []
    },
    {
      "cell_type": "code",
      "metadata": {
        "id": "W3EO22NCE3wG"
      },
      "source": [
        "# StandardScaler를 이용해 수치형 데이터를 표준화하기\n",
        "scaler = StandardScaler()\n",
        "X_num = df.drop(['neighbourhood_group', 'neighbourhood', 'room_type', 'price', \n",
        "                 'last_review'], axis=1)\n",
        "\n",
        "scaler.fit(X_num)\n",
        "X_scaled = scaler.transform(X_num)\n",
        "X_scaled = pd.DataFrame(X_scaled, index=X_num.index, columns=X_num.columns)\n"
      ],
      "execution_count": 57,
      "outputs": []
    },
    {
      "cell_type": "code",
      "source": [
        "# 범주형 데이터와 수치형 데이터를 단순히 합치는 작업\n",
        "X = pd.concat([X_scaled, X_cat], axis=1)\n",
        "\n",
        "# target 변수인 y를 지정해준 작업\n",
        "y = df['price']"
      ],
      "metadata": {
        "id": "OXUn6n7uIalo"
      },
      "execution_count": 58,
      "outputs": []
    },
    {
      "cell_type": "markdown",
      "metadata": {
        "id": "x93Tb6lptcA2"
      },
      "source": [
        "### 문제 13. 학습데이터와 테스트데이터 분리하기\n"
      ]
    },
    {
      "cell_type": "code",
      "metadata": {
        "id": "C9kMQI8SEche"
      },
      "source": [
        "from sklearn.model_selection import train_test_split"
      ],
      "execution_count": 59,
      "outputs": []
    },
    {
      "cell_type": "code",
      "metadata": {
        "id": "F07QjOFwFNEw"
      },
      "source": [
        "# train_test_split() 함수로 학습 데이터와 테스트 데이터 분리하기\n",
        "X_train, X_test, y_train, y_test = train_test_split(X, y, test_size = 0.3)"
      ],
      "execution_count": 60,
      "outputs": []
    },
    {
      "cell_type": "markdown",
      "metadata": {
        "id": "RrWrE8Z4exup"
      },
      "source": [
        "## Step 5. 모델 선택 및 Train"
      ]
    },
    {
      "cell_type": "markdown",
      "metadata": {
        "id": "NypEtNhdfCow"
      },
      "source": [
        "### 문제 14. Regression 모델 종류에 대해 검색해보고 하나 선택하기"
      ]
    },
    {
      "cell_type": "code",
      "source": [
        "# 아직 모델에 대해 배우지 않았기 때문에 크게 신경쓰지 않으셔도 됩니다!\n",
        "# 단지 '모델 선택 및 Train 단계가 있다.'라는걸 배우기 위한 과정입니다.\n",
        "# 기존에 알고 계시는 어떤 모델을 사용하셔도 상관없습니다.\n",
        "# 기존에 알고 계신 모델이 하나도 없다면 구글링 후 하나 선택하시면 됩니다."
      ],
      "metadata": {
        "id": "IT5ni-Fq3O4a"
      },
      "execution_count": null,
      "outputs": []
    },
    {
      "cell_type": "code",
      "metadata": {
        "id": "LSSNqFUrGM6R"
      },
      "source": [
        "from sklearn.ensemble import RandomForestRegressor\n",
        "model_reg = RandomForestRegressor()\n",
        "\n",
        "from sklearn.linear_model import LinearRegression\n",
        "model_lin = LinearRegression()\n"
      ],
      "execution_count": 61,
      "outputs": []
    },
    {
      "cell_type": "markdown",
      "source": [
        "### 문제 15. 선택한 모델 구현 및 데이터 학습 시키기"
      ],
      "metadata": {
        "id": "S0LFy95b3TNh"
      }
    },
    {
      "cell_type": "code",
      "metadata": {
        "id": "ow28ZRL4F7D5",
        "colab": {
          "base_uri": "https://localhost:8080/"
        },
        "outputId": "ef82df41-c39d-40dc-9101-0b9877f4f341"
      },
      "source": [
        "model_reg.fit(X_train,y_train)"
      ],
      "execution_count": 62,
      "outputs": [
        {
          "output_type": "execute_result",
          "data": {
            "text/plain": [
              "RandomForestRegressor()"
            ]
          },
          "metadata": {},
          "execution_count": 62
        }
      ]
    },
    {
      "cell_type": "code",
      "source": [
        "model_lin.fit(X_train, y_train)"
      ],
      "metadata": {
        "colab": {
          "base_uri": "https://localhost:8080/"
        },
        "id": "zTul-xR5_5iQ",
        "outputId": "a1c37392-43e6-419e-e57d-2cc8b1f64a44"
      },
      "execution_count": 63,
      "outputs": [
        {
          "output_type": "execute_result",
          "data": {
            "text/plain": [
              "LinearRegression()"
            ]
          },
          "metadata": {},
          "execution_count": 63
        }
      ]
    },
    {
      "cell_type": "markdown",
      "metadata": {
        "id": "gUo8NmHkfIpf"
      },
      "source": [
        "### 문제 16. 모델 학습 결과 평가하기"
      ]
    },
    {
      "cell_type": "code",
      "metadata": {
        "id": "rxvf1vgmfLs-"
      },
      "source": [
        "from sklearn.metrics import mean_absolute_error, mean_squared_error"
      ],
      "execution_count": 66,
      "outputs": []
    },
    {
      "cell_type": "code",
      "metadata": {
        "id": "KDVy7fFGfUP1"
      },
      "source": [
        "# Predict를 수행하고 mean_absolute_error, mse 결과 출력하기\n",
        "pred_reg = model_reg.predict(X_test)\n",
        "pred_lin = model_lin.predict(X_test)\n",
        "\n",
        "mae_reg = mean_absolute_error(y_test, pred_reg)\n",
        "mse_reg = mean_squared_error(y_test, pred_reg)\n",
        "mae_lin = mean_absolute_error(y_test, pred_lin)\n",
        "mse_lin = mean_squared_error(y_test, pred_lin)\n"
      ],
      "execution_count": 67,
      "outputs": []
    },
    {
      "cell_type": "code",
      "source": [
        "print(mae_reg, mae_lin)\n",
        "print(mse_reg, mse_lin)"
      ],
      "metadata": {
        "colab": {
          "base_uri": "https://localhost:8080/"
        },
        "id": "hACcSGwOA0RK",
        "outputId": "b2b093ce-85f2-401d-b679-ecefe35f9db2"
      },
      "execution_count": 69,
      "outputs": [
        {
          "output_type": "stream",
          "name": "stdout",
          "text": [
            "31.83354974872414 244352315.0812975\n",
            "1962.4374957887085 9.180329259989731e+19\n"
          ]
        }
      ]
    },
    {
      "cell_type": "markdown",
      "metadata": {
        "id": "DTqb-HqPtc4I"
      },
      "source": [
        "## Step 6. 초기 모델을 발전시키며 모델 수정\n"
      ]
    },
    {
      "cell_type": "markdown",
      "metadata": {
        "id": "xTRTOLTNto3h"
      },
      "source": [
        "### 문제 17. 실제 값과 추측 값의 Scatter plot 시각화하기\n"
      ]
    },
    {
      "cell_type": "code",
      "metadata": {
        "id": "kKEP06-OmrBs",
        "colab": {
          "base_uri": "https://localhost:8080/",
          "height": 283
        },
        "outputId": "e3e5d2ab-e1b0-48aa-f68c-53fa53be4ca4"
      },
      "source": [
        "# y_test vs. pred Scatter 플랏으로 시각적으로 분석하기\n",
        "# 예시 코드를 드리겠습니다.\n",
        "# 학습 이후 이런식으로 모델의 결과를 살펴보는구나... 정도의 큰 흐름을 중심으로 이해해주세요\n",
        "\n",
        "plt.scatter(x=y_test, y=pred_reg, alpha=0.1)\n",
        "plt.plot([0,350], [0, 350], 'r-')"
      ],
      "execution_count": 73,
      "outputs": [
        {
          "output_type": "execute_result",
          "data": {
            "text/plain": [
              "[<matplotlib.lines.Line2D at 0x7f20aea5a670>]"
            ]
          },
          "metadata": {},
          "execution_count": 73
        },
        {
          "output_type": "display_data",
          "data": {
            "text/plain": [
              "<Figure size 432x288 with 1 Axes>"
            ],
            "image/png": "[encoded data removed]"
          },
          "metadata": {
            "needs_background": "light"
          }
        }
      ]
    },
    {
      "cell_type": "markdown",
      "metadata": {
        "id": "kAisZoSEtp35"
      },
      "source": [
        "### 문제 18. 에러 값의 히스토그램 확인하기\n"
      ]
    },
    {
      "cell_type": "code",
      "metadata": {
        "id": "WLnyYNJwGRgd"
      },
      "source": [
        "# 예시코드를 제공하겠습니다.\n",
        "# 위와 마찬가지로 큰흐름을 이해하는걸 목적으로 해주세요.\n",
        "# 지금 단계에서 세부 함수나 코드를 모른다고해서 스트레스 받으실 필요 전혀 없습니다."
      ],
      "execution_count": null,
      "outputs": []
    },
    {
      "cell_type": "code",
      "source": [
        "# err의 히스토그램으로 에러율 히스토그램 확인하기\n",
        "err = (pred_reg - y_test) / y_test\n",
        "sns.histplot(err)\n",
        "plt.grid()"
      ],
      "metadata": {
        "id": "nsIsG4LPJyix",
        "colab": {
          "base_uri": "https://localhost:8080/",
          "height": 281
        },
        "outputId": "bc76a805-cd63-4225-ccc7-b3028b22fddf"
      },
      "execution_count": 74,
      "outputs": [
        {
          "output_type": "display_data",
          "data": {
            "text/plain": [
              "<Figure size 432x288 with 1 Axes>"
            ],
            "image/png": "[encoded data removed]"
          },
          "metadata": {
            "needs_background": "light"
          }
        }
      ]
    },
    {
      "cell_type": "code",
      "source": [
        "# err의 히스토그램으로 에러 히스토그램 확인하기\n",
        "err = pred_reg - y_test\n",
        "sns.histplot(err)\n",
        "plt.grid()"
      ],
      "metadata": {
        "id": "NU-b4g3dJz1n",
        "colab": {
          "base_uri": "https://localhost:8080/",
          "height": 279
        },
        "outputId": "fc0f7772-dd73-4f86-fd49-e765293c0851"
      },
      "execution_count": 75,
      "outputs": [
        {
          "output_type": "display_data",
          "data": {
            "text/plain": [
              "<Figure size 432x288 with 1 Axes>"
            ],
            "image/png": "[encoded data removed]"
          },
          "metadata": {
            "needs_background": "light"
          }
        }
      ]
    },
    {
      "cell_type": "markdown",
      "source": [
        "# 마무리"
      ],
      "metadata": {
        "id": "A6S0_wQ2KR3v"
      }
    },
    {
      "cell_type": "markdown",
      "source": [
        "## 과제 마무리"
      ],
      "metadata": {
        "id": "EiKz0X9NPSmN"
      }
    },
    {
      "cell_type": "markdown",
      "source": [
        "고생하셨습니다!\n",
        "\n",
        "여러번 강조했지만 오늘 과제는 세부적인 함수보다는 기계가 어떻게 학습하는지 그 과정과 흐름을 익히시는데 초점을 맞추시면 됩니다.\n",
        "\n",
        "흐름에 대해 이해한 후 코드와 문법에 대해서 스스로 공부하시면 됩니다.\n",
        "\n",
        "오늘 쓰인 라이브러리나 method, 함수들은 어차피 계속 만나게될거라 방학때 복습해놓는게 나중에도 편해요!\n",
        "\n",
        "-\n"
      ],
      "metadata": {
        "id": "Ht-A1aRfKWaO"
      }
    },
    {
      "cell_type": "markdown",
      "source": [
        "## 분반을 시작하면서"
      ],
      "metadata": {
        "id": "5iSDebtdPVht"
      }
    },
    {
      "cell_type": "markdown",
      "source": [
        "\n",
        "\n",
        "\n",
        "**머신러닝 분반을 준비하면서 알려드려야할게 많은데, 주어진 2달의 기간이 너무나도 짧습니다.**\n",
        "\n",
        "-\n",
        "\n",
        "\n",
        "\n",
        "수리적 이해가 무엇보다 중요해서 정규 세션에서는 수학을 위주로 전달되긴하지만,\n",
        "\n",
        "**초심자 입장에서 직관적인 이해, 실무적인 코딩이 더 도움된다는것도 겪어봐서 잘 알고있습니다**\n",
        "\n",
        "-\n",
        "\n",
        "\n",
        "\n",
        "그래서 마음같아서는 주 2~3회 세션을 잡아서 수리적 이해와 실무적 코딩, 직관적 이해를 모두 전달해드리고 싶지만, 여러분이 학회 활동만 하지 않는다는걸 알고있어요...\n",
        "\n",
        "-"
      ],
      "metadata": {
        "id": "WdG_4an8POu-"
      }
    },
    {
      "cell_type": "markdown",
      "source": [
        "방학이 지나고 학기가 시작되면 17기 여러분들도 학회내에서 프로젝트를 진행하게 됩니다. \n",
        "\n",
        "목요일 정규 세션에서 실무적인 코딩을 집중적으로 다루지않는만큼, 학기가 시작되었을때 헤매지않게 과제는 오늘처럼 코딩 위주로 내어드릴 생각입니다.\n",
        "\n",
        "-\n",
        "\n",
        "머신러닝을 처음 접하신분들은 처음보는 함수와 파이썬 문법 앞에서 헤매는게 지극히 정상적이고 당연한 현상입니다.\n",
        "\n",
        "궁금한게 생기시면 언제든 연락주세요!\n",
        "\n"
      ],
      "metadata": {
        "id": "RHEtFy6oMvIH"
      }
    }
  ]
}