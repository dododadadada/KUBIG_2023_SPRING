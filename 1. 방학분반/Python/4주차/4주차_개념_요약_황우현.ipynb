{
 "cells": [
  {
   "attachments": {},
   "cell_type": "markdown",
   "metadata": {},
   "source": [
    "# Week 4 : Python Data Science Toolbox (Part 2)"
   ]
  },
  {
   "attachments": {},
   "cell_type": "markdown",
   "metadata": {},
   "source": [
    "## Using iterators in PythonLand"
   ]
  },
  {
   "attachments": {},
   "cell_type": "markdown",
   "metadata": {},
   "source": [
    "### Introduction to Iterators\n",
    "- Iterate over a range object using `for` loop\n",
    "- Iterables : list, strings, dictionaries, file connections -> `iter()` method -> creates iterator\n",
    "- Iterator : an object that keeps state and produces the next value when you call `next()` on it\n",
    "    - produces next value using `next()` / `*` : iterating at once"
   ]
  },
  {
   "cell_type": "code",
   "execution_count": 2,
   "metadata": {},
   "outputs": [
    {
     "name": "stdout",
     "output_type": "stream",
     "text": [
      "jay garrick\n",
      "barry allen\n",
      "wally west\n",
      "bart allen\n"
     ]
    }
   ],
   "source": [
    "# Iterating over iterables (1)\n",
    "# Using for loop\n",
    "flash = ['jay garrick', 'barry allen', 'wally west', 'bart allen']\n",
    "\n",
    "for person in flash :\n",
    "    print(person)"
   ]
  },
  {
   "cell_type": "code",
   "execution_count": 3,
   "metadata": {},
   "outputs": [
    {
     "name": "stdout",
     "output_type": "stream",
     "text": [
      "jay garrick\n",
      "barry allen\n",
      "wally west\n",
      "bart allen\n"
     ]
    }
   ],
   "source": [
    "# Using iterator\n",
    "superhero = iter(flash)\n",
    "print(next(superhero))\n",
    "print(next(superhero))\n",
    "print(next(superhero))\n",
    "print(next(superhero))"
   ]
  },
  {
   "cell_type": "code",
   "execution_count": 4,
   "metadata": {},
   "outputs": [
    {
     "name": "stdout",
     "output_type": "stream",
     "text": [
      "0\n",
      "1\n",
      "2\n"
     ]
    }
   ],
   "source": [
    "# Iterating over iterables (2)\n",
    "# range() function\n",
    "small_value = iter(range(3))\n",
    "\n",
    "print(next(small_value))\n",
    "print(next(small_value))\n",
    "print(next(small_value))"
   ]
  },
  {
   "cell_type": "code",
   "execution_count": 5,
   "metadata": {},
   "outputs": [
    {
     "name": "stdout",
     "output_type": "stream",
     "text": [
      "0\n",
      "1\n",
      "2\n"
     ]
    }
   ],
   "source": [
    "for i in range(3):\n",
    "    print(i)"
   ]
  },
  {
   "cell_type": "code",
   "execution_count": 6,
   "metadata": {},
   "outputs": [
    {
     "name": "stdout",
     "output_type": "stream",
     "text": [
      "0\n",
      "1\n",
      "2\n",
      "3\n",
      "4\n"
     ]
    }
   ],
   "source": [
    "googol = iter(range(10**100))\n",
    "print(next(googol))\n",
    "print(next(googol))\n",
    "print(next(googol))\n",
    "print(next(googol))\n",
    "print(next(googol))"
   ]
  },
  {
   "cell_type": "code",
   "execution_count": 7,
   "metadata": {},
   "outputs": [
    {
     "name": "stdout",
     "output_type": "stream",
     "text": [
      "range(10, 21)\n",
      "[10, 11, 12, 13, 14, 15, 16, 17, 18, 19, 20]\n",
      "165\n"
     ]
    }
   ],
   "source": [
    "# Iterators as function arguments\n",
    "values = range(10,21)\n",
    "print(values)\n",
    "\n",
    "values_list = list(values)\n",
    "print(values_list)\n",
    "\n",
    "values_sum = sum(values)\n",
    "print(values_sum)"
   ]
  },
  {
   "attachments": {},
   "cell_type": "markdown",
   "metadata": {},
   "source": [
    "### Playing with iterators\n",
    "- `enumerate()` : pairs of iterable and index\n",
    "    - `for index, value in enumerate(list, start=n) : `\n",
    "- `zip()` : zip two lists"
   ]
  },
  {
   "cell_type": "code",
   "execution_count": 8,
   "metadata": {},
   "outputs": [
    {
     "name": "stdout",
     "output_type": "stream",
     "text": [
      "[(0, 'charles xavier'), (1, 'bobby drake'), (2, 'kurt wagner'), (3, 'max eisenhardt'), (4, 'kitty pryde')]\n"
     ]
    }
   ],
   "source": [
    "# Using enumerate\n",
    "mutants = ['charles xavier', \n",
    "            'bobby drake', \n",
    "            'kurt wagner', \n",
    "            'max eisenhardt', \n",
    "            'kitty pryde']\n",
    "mutant_list = list(enumerate(mutants))\n",
    "print(mutant_list)"
   ]
  },
  {
   "cell_type": "code",
   "execution_count": 9,
   "metadata": {},
   "outputs": [
    {
     "name": "stdout",
     "output_type": "stream",
     "text": [
      "0 charles xavier\n",
      "1 bobby drake\n",
      "2 kurt wagner\n",
      "3 max eisenhardt\n",
      "4 kitty pryde\n"
     ]
    }
   ],
   "source": [
    "for index1,value1 in enumerate(mutants):\n",
    "    print(index1, value1)"
   ]
  },
  {
   "cell_type": "code",
   "execution_count": 10,
   "metadata": {},
   "outputs": [
    {
     "name": "stdout",
     "output_type": "stream",
     "text": [
      "1 charles xavier\n",
      "2 bobby drake\n",
      "3 kurt wagner\n",
      "4 max eisenhardt\n",
      "5 kitty pryde\n"
     ]
    }
   ],
   "source": [
    "for index2,value2 in enumerate(mutants, start=1):\n",
    "    print(index2, value2)"
   ]
  },
  {
   "cell_type": "code",
   "execution_count": 11,
   "metadata": {},
   "outputs": [
    {
     "name": "stdout",
     "output_type": "stream",
     "text": [
      "[('charles xavier', 'prof x', 'telepathy'), ('bobby drake', 'iceman', 'thermokinesis'), ('kurt wagner', 'nightcrawler', 'teleportation'), ('max eisenhardt', 'magneto', 'magnetokinesis'), ('kitty pryde', 'shadowcat', 'intangibility')]\n"
     ]
    }
   ],
   "source": [
    "# Using zip\n",
    "aliases = ['prof x', 'iceman', 'nightcrawler', 'magneto', 'shadowcat']\n",
    "powers = ['telepathy', 'thermokinesis', 'teleportation', 'magnetokinesis', 'intangibility']\n",
    "\n",
    "mutant_data = list(zip(mutants, aliases, powers))\n",
    "print(mutant_data)"
   ]
  },
  {
   "cell_type": "code",
   "execution_count": 12,
   "metadata": {},
   "outputs": [
    {
     "name": "stdout",
     "output_type": "stream",
     "text": [
      "<zip object at 0x000001E5E800D4C0>\n"
     ]
    }
   ],
   "source": [
    "mutant_zip = zip(mutants, aliases, powers)\n",
    "print(mutant_zip)"
   ]
  },
  {
   "cell_type": "code",
   "execution_count": 13,
   "metadata": {},
   "outputs": [
    {
     "name": "stdout",
     "output_type": "stream",
     "text": [
      "charles xavier prof x telepathy\n",
      "bobby drake iceman thermokinesis\n",
      "kurt wagner nightcrawler teleportation\n",
      "max eisenhardt magneto magnetokinesis\n",
      "kitty pryde shadowcat intangibility\n"
     ]
    }
   ],
   "source": [
    "for value1, value2, value3 in mutant_zip:\n",
    "    print(value1, value2, value3)"
   ]
  },
  {
   "cell_type": "code",
   "execution_count": 17,
   "metadata": {},
   "outputs": [
    {
     "name": "stdout",
     "output_type": "stream",
     "text": [
      "('charles xavier', 'telepathy') ('bobby drake', 'thermokinesis') ('kurt wagner', 'teleportation') ('max eisenhardt', 'magnetokinesis') ('kitty pryde', 'intangibility')\n"
     ]
    }
   ],
   "source": [
    "# Using * and zip to 'unzip'\n",
    "z1 = zip(mutants, powers)\n",
    "print(*z1)"
   ]
  },
  {
   "cell_type": "code",
   "execution_count": 21,
   "metadata": {},
   "outputs": [
    {
     "name": "stdout",
     "output_type": "stream",
     "text": [
      "False\n",
      "False\n"
     ]
    }
   ],
   "source": [
    "z1 = zip(mutants, powers)\n",
    "\n",
    "result1, result2 = zip(*z1)\n",
    "\n",
    "print(result1 == mutants)\n",
    "print(result2 == powers)"
   ]
  },
  {
   "attachments": {},
   "cell_type": "markdown",
   "metadata": {},
   "source": [
    "### Using iterators to load large files into memory\n",
    "- Loading data in chunks -> too much data to hold in memory\n",
    "- `pandas` `read_csv` -> `chunksize`\n",
    "\n",
    "```\n",
    "import pandas as pd\n",
    "result = [] # empty list\n",
    "for chunk in pd.read_csv('data.csv', chunksize=1000) : \n",
    "    result.append(sum(chunk(['x']))\n",
    "total = sum(result)\n",
    "```\n",
    "\n",
    "- can assign total as 0, then use `total += sum(chunk(['x']))`"
   ]
  },
  {
   "cell_type": "code",
   "execution_count": 22,
   "metadata": {},
   "outputs": [],
   "source": [
    "import pandas as pd"
   ]
  },
  {
   "cell_type": "code",
   "execution_count": 23,
   "metadata": {},
   "outputs": [
    {
     "name": "stdout",
     "output_type": "stream",
     "text": [
      "{'en': 97, 'et': 1, 'und': 2}\n"
     ]
    }
   ],
   "source": [
    "# Processing large amounts of Twitter data\n",
    "counts_dict = {}\n",
    "\n",
    "for chunk in pd.read_csv('tweets.csv', chunksize=10) :\n",
    "    for entry in chunk['lang'] :\n",
    "        if entry in counts_dict.keys() :\n",
    "            counts_dict[entry] += 1\n",
    "        else :\n",
    "            counts_dict[entry] = 1\n",
    "\n",
    "print(counts_dict)"
   ]
  },
  {
   "cell_type": "code",
   "execution_count": 24,
   "metadata": {},
   "outputs": [
    {
     "name": "stdout",
     "output_type": "stream",
     "text": [
      "{'en': 97, 'et': 1, 'und': 2}\n"
     ]
    }
   ],
   "source": [
    "# Extracting information for large amounts of Twitter data\n",
    "def count_entries(csv_file,c_size,colname):\n",
    "    \"\"\"Return a dictionary with counts of\n",
    "    occurrences as value for each key.\"\"\"\n",
    "    counts_dict = {}\n",
    "\n",
    "    for chunk in pd.read_csv(csv_file,chunksize=c_size):\n",
    "        for entry in chunk[colname]:\n",
    "            if entry in counts_dict.keys():\n",
    "                counts_dict[entry] += 1\n",
    "            else:\n",
    "                counts_dict[entry] = 1\n",
    "    return counts_dict\n",
    "\n",
    "result_counts = count_entries('tweets.csv',10,'lang')\n",
    "print(result_counts)"
   ]
  },
  {
   "attachments": {},
   "cell_type": "markdown",
   "metadata": {},
   "source": [
    "## List comprehension and generators"
   ]
  },
  {
   "attachments": {},
   "cell_type": "markdown",
   "metadata": {},
   "source": [
    "### List comprehensions\n",
    "- for loops are inefficient\n",
    "- List comprehension : ex) `new_nums = [num + 1 for num in nums]`\n",
    "- Nested loops : ex) `[(num1, num2) for num1 range(0,2) for num2 in range(6,8)]`"
   ]
  },
  {
   "cell_type": "code",
   "execution_count": 25,
   "metadata": {},
   "outputs": [
    {
     "data": {
      "text/plain": [
       "['h', 'c', 'c', 't', 'w']"
      ]
     },
     "execution_count": 25,
     "metadata": {},
     "output_type": "execute_result"
    }
   ],
   "source": [
    "# Basic list comprehension\n",
    "doctor = ['house', 'cuddy', 'chase', 'thirteen', 'wilson']\n",
    "[doc[0] for doc in doctor]"
   ]
  },
  {
   "cell_type": "code",
   "execution_count": 27,
   "metadata": {},
   "outputs": [
    {
     "name": "stdout",
     "output_type": "stream",
     "text": [
      "[0, 1, 4, 9, 16, 25, 36, 49, 64, 81]\n"
     ]
    }
   ],
   "source": [
    "# Writing list comprehensions\n",
    "squares = [i**2 for i in range(0, 10)]\n",
    "print(squares)"
   ]
  },
  {
   "cell_type": "code",
   "execution_count": 28,
   "metadata": {},
   "outputs": [
    {
     "name": "stdout",
     "output_type": "stream",
     "text": [
      "[0, 1, 2, 3, 4]\n",
      "[0, 1, 2, 3, 4]\n",
      "[0, 1, 2, 3, 4]\n",
      "[0, 1, 2, 3, 4]\n",
      "[0, 1, 2, 3, 4]\n"
     ]
    }
   ],
   "source": [
    "# Nested list comprehensions\n",
    "matrix = [[col for col in range(0,5)] for row in range(0,5)]\n",
    "for row in matrix :\n",
    "    print(row)"
   ]
  },
  {
   "attachments": {},
   "cell_type": "markdown",
   "metadata": {},
   "source": [
    "### Advanced comprehensions\n",
    "- Conditionals on the iterable (`if, else`)\n",
    "- Dict comprehensions : create dictionaries, use `{}`"
   ]
  },
  {
   "cell_type": "code",
   "execution_count": 29,
   "metadata": {},
   "outputs": [
    {
     "name": "stdout",
     "output_type": "stream",
     "text": [
      "['samwise', 'aragorn', 'legolas', 'boromir']\n"
     ]
    }
   ],
   "source": [
    "# Using conditionals in comprehensions (1)\n",
    "fellowship = ['frodo', 'samwise', 'merry', 'aragorn', 'legolas', 'boromir', 'gimli']\n",
    "\n",
    "new_fellowship = [member for member in fellowship if len(member)>=7]\n",
    "print(new_fellowship)"
   ]
  },
  {
   "cell_type": "code",
   "execution_count": 31,
   "metadata": {},
   "outputs": [
    {
     "name": "stdout",
     "output_type": "stream",
     "text": [
      "['', 'samwise', '', 'aragorn', 'legolas', 'boromir', '']\n"
     ]
    }
   ],
   "source": [
    "# Using conditionals in comprehensions (2)\n",
    "new_fellowship = [member if len(member)>=7 else \"\" for member in fellowship]\n",
    "print(new_fellowship)"
   ]
  },
  {
   "cell_type": "code",
   "execution_count": 32,
   "metadata": {},
   "outputs": [
    {
     "name": "stdout",
     "output_type": "stream",
     "text": [
      "{'frodo': 5, 'samwise': 7, 'merry': 5, 'aragorn': 7, 'legolas': 7, 'boromir': 7, 'gimli': 5}\n"
     ]
    }
   ],
   "source": [
    "# Dict comprehension\n",
    "new_fellowship = {member : len(member) for member in fellowship}\n",
    "print(new_fellowship)"
   ]
  },
  {
   "attachments": {},
   "cell_type": "markdown",
   "metadata": {},
   "source": [
    "### Introduction to generator expressions\n",
    "- Generator : does not store the list in memory\n",
    "- `( )` / use `yield` in functions"
   ]
  },
  {
   "cell_type": "code",
   "execution_count": 34,
   "metadata": {},
   "outputs": [
    {
     "data": {
      "text/plain": [
       "generator"
      ]
     },
     "execution_count": 34,
     "metadata": {},
     "output_type": "execute_result"
    }
   ],
   "source": [
    "# Generator\n",
    "fellowship = ['frodo', 'samwise', 'merry', 'aragorn', 'legolas', 'boromir', 'gimli']\n",
    "fellow2 = (member for member in fellowship if len(member) >= 7)\n",
    "type(fellow2)"
   ]
  },
  {
   "cell_type": "code",
   "execution_count": 35,
   "metadata": {},
   "outputs": [
    {
     "name": "stdout",
     "output_type": "stream",
     "text": [
      "0\n",
      "1\n",
      "2\n",
      "3\n",
      "4\n",
      "5\n",
      "6\n",
      "7\n",
      "8\n",
      "9\n",
      "10\n",
      "11\n",
      "12\n",
      "13\n",
      "14\n",
      "15\n",
      "16\n",
      "17\n",
      "18\n",
      "19\n",
      "20\n",
      "21\n",
      "22\n",
      "23\n",
      "24\n",
      "25\n",
      "26\n",
      "27\n",
      "28\n",
      "29\n",
      "30\n"
     ]
    }
   ],
   "source": [
    "# Generator expressions\n",
    "result = (num for num in range(0,31))\n",
    "print(next(result))\n",
    "print(next(result))\n",
    "print(next(result))\n",
    "print(next(result))\n",
    "print(next(result))\n",
    "\n",
    "for value in result:\n",
    "    if value >4 :\n",
    "        print(value)"
   ]
  },
  {
   "cell_type": "code",
   "execution_count": 36,
   "metadata": {},
   "outputs": [
    {
     "name": "stdout",
     "output_type": "stream",
     "text": [
      "6\n",
      "5\n",
      "5\n",
      "6\n",
      "7\n"
     ]
    }
   ],
   "source": [
    "# Changing the output in generator expressions\n",
    "lannister = ['cersei', 'jaime', 'tywin', 'tyrion', 'joffrey']\n",
    "lengths = (len(person) for person in lannister)\n",
    "\n",
    "for value in lengths:\n",
    "    print(value)"
   ]
  },
  {
   "cell_type": "code",
   "execution_count": 37,
   "metadata": {},
   "outputs": [
    {
     "name": "stdout",
     "output_type": "stream",
     "text": [
      "6\n",
      "5\n",
      "5\n",
      "6\n",
      "7\n"
     ]
    }
   ],
   "source": [
    "# Build a generator\n",
    "def get_lengths(list) :\n",
    "    for person in list :\n",
    "        yield len(person)\n",
    "\n",
    "for value in get_lengths(lannister) :\n",
    "    print(value)"
   ]
  },
  {
   "attachments": {},
   "cell_type": "markdown",
   "metadata": {},
   "source": [
    "### Wrapping up comprehensions and generators\n",
    "- Time-stamped data"
   ]
  },
  {
   "cell_type": "code",
   "execution_count": 38,
   "metadata": {},
   "outputs": [],
   "source": [
    "import pandas as pd\n",
    "df = pd.read_csv('tweets.csv')"
   ]
  },
  {
   "cell_type": "code",
   "execution_count": 42,
   "metadata": {},
   "outputs": [
    {
     "data": {
      "text/plain": [
       "0     Tue Mar 29 23:40:17 +0000 2016\n",
       "1     Tue Mar 29 23:40:17 +0000 2016\n",
       "2     Tue Mar 29 23:40:17 +0000 2016\n",
       "3     Tue Mar 29 23:40:17 +0000 2016\n",
       "4     Tue Mar 29 23:40:17 +0000 2016\n",
       "                   ...              \n",
       "95    Tue Mar 29 23:40:19 +0000 2016\n",
       "96    Tue Mar 29 23:40:19 +0000 2016\n",
       "97    Tue Mar 29 23:40:19 +0000 2016\n",
       "98    Tue Mar 29 23:40:19 +0000 2016\n",
       "99    Tue Mar 29 23:40:19 +0000 2016\n",
       "Name: created_at, Length: 100, dtype: object"
      ]
     },
     "execution_count": 42,
     "metadata": {},
     "output_type": "execute_result"
    }
   ],
   "source": [
    "# List comprehension for time-stamped data\n",
    "tweet_time = df['created_at']\n",
    "tweet_time"
   ]
  },
  {
   "cell_type": "code",
   "execution_count": 43,
   "metadata": {},
   "outputs": [
    {
     "name": "stdout",
     "output_type": "stream",
     "text": [
      "['23:40:17', '23:40:17', '23:40:17', '23:40:17', '23:40:17', '23:40:17', '23:40:18', '23:40:17', '23:40:18', '23:40:18', '23:40:18', '23:40:17', '23:40:18', '23:40:18', '23:40:17', '23:40:18', '23:40:18', '23:40:17', '23:40:18', '23:40:17', '23:40:18', '23:40:18', '23:40:18', '23:40:18', '23:40:17', '23:40:18', '23:40:18', '23:40:17', '23:40:18', '23:40:18', '23:40:18', '23:40:18', '23:40:18', '23:40:18', '23:40:18', '23:40:18', '23:40:18', '23:40:18', '23:40:18', '23:40:18', '23:40:18', '23:40:18', '23:40:18', '23:40:18', '23:40:18', '23:40:18', '23:40:18', '23:40:18', '23:40:18', '23:40:18', '23:40:18', '23:40:18', '23:40:18', '23:40:18', '23:40:18', '23:40:18', '23:40:18', '23:40:18', '23:40:18', '23:40:18', '23:40:19', '23:40:18', '23:40:18', '23:40:18', '23:40:19', '23:40:19', '23:40:19', '23:40:18', '23:40:19', '23:40:19', '23:40:19', '23:40:18', '23:40:19', '23:40:19', '23:40:19', '23:40:18', '23:40:19', '23:40:19', '23:40:19', '23:40:19', '23:40:19', '23:40:19', '23:40:19', '23:40:19', '23:40:19', '23:40:19', '23:40:19', '23:40:19', '23:40:19', '23:40:19', '23:40:19', '23:40:19', '23:40:19', '23:40:19', '23:40:19', '23:40:19', '23:40:19', '23:40:19', '23:40:19', '23:40:19']\n"
     ]
    }
   ],
   "source": [
    "tweet_clock_time = [entry[11:19] for entry in tweet_time]\n",
    "print(tweet_clock_time)"
   ]
  },
  {
   "cell_type": "code",
   "execution_count": 72,
   "metadata": {},
   "outputs": [
    {
     "name": "stdout",
     "output_type": "stream",
     "text": [
      "['23:40:19', '23:40:19', '23:40:19', '23:40:19', '23:40:19', '23:40:19', '23:40:19', '23:40:19', '23:40:19', '23:40:19', '23:40:19', '23:40:19', '23:40:19', '23:40:19', '23:40:19', '23:40:19', '23:40:19', '23:40:19', '23:40:19', '23:40:19', '23:40:19', '23:40:19', '23:40:19', '23:40:19', '23:40:19', '23:40:19', '23:40:19', '23:40:19', '23:40:19', '23:40:19', '23:40:19', '23:40:19', '23:40:19', '23:40:19']\n"
     ]
    }
   ],
   "source": [
    "# Conditional list comprehension for time-stamped data\n",
    "tweet_clock_time = [entry[11:19] for entry in tweet_time if entry[17:19] == '19']\n",
    "print(tweet_clock_time)"
   ]
  },
  {
   "attachments": {},
   "cell_type": "markdown",
   "metadata": {},
   "source": [
    "## Bringing it all together : Case study - World Bank's World Development Indicators"
   ]
  },
  {
   "attachments": {},
   "cell_type": "markdown",
   "metadata": {},
   "source": [
    "### World Bank data\n",
    "- Data on world economies for over half a century\n",
    "- Indicators : Population, Electricity consumption, CO2 emissions, Literacy rates, Unemployment, Mortality rates\n",
    "- Lists are preprocessed from a larger dataset for usage in exercises"
   ]
  },
  {
   "cell_type": "code",
   "execution_count": 46,
   "metadata": {},
   "outputs": [],
   "source": [
    "feature_names =['CountryName',\n",
    " 'CountryCode',\n",
    " 'IndicatorName',\n",
    " 'IndicatorCode',\n",
    " 'Year',\n",
    " 'Value']\n",
    "\n",
    "row_vals = ['Arab World',\n",
    " 'ARB',\n",
    " 'Adolescent fertility rate (births per 1,000 women ages 15-19)',\n",
    " 'SP.ADO.TFRT',\n",
    " '1960',\n",
    " '133.56090740552298']"
   ]
  },
  {
   "cell_type": "code",
   "execution_count": 71,
   "metadata": {},
   "outputs": [
    {
     "data": {
      "text/plain": [
       "{'CountryName': 'Arab World',\n",
       " 'CountryCode': 'ARB',\n",
       " 'IndicatorName': 'Adolescent fertility rate (births per 1,000 women ages 15-19)',\n",
       " 'IndicatorCode': 'SP.ADO.TFRT',\n",
       " 'Year': '1960',\n",
       " 'Value': '133.56090740552298'}"
      ]
     },
     "execution_count": 71,
     "metadata": {},
     "output_type": "execute_result"
    }
   ],
   "source": [
    "# Dictionaries for data science\n",
    "zipped_lists = zip(feature_names, row_vals)\n",
    "rs_dict = dict(zipped_lists)\n",
    "rs_dict"
   ]
  },
  {
   "cell_type": "code",
   "execution_count": 70,
   "metadata": {},
   "outputs": [
    {
     "data": {
      "text/plain": [
       "{'CountryName': 'Arab World',\n",
       " 'CountryCode': 'ARB',\n",
       " 'IndicatorName': 'Adolescent fertility rate (births per 1,000 women ages 15-19)',\n",
       " 'IndicatorCode': 'SP.ADO.TFRT',\n",
       " 'Year': '1960',\n",
       " 'Value': '133.56090740552298'}"
      ]
     },
     "execution_count": 70,
     "metadata": {},
     "output_type": "execute_result"
    }
   ],
   "source": [
    "# Writing a function\n",
    "def list2dict(list1, list2) :\n",
    "    zipped_lists = zip(list1, list2)\n",
    "    rs_dict = dict(zipped_lists)\n",
    "    return(rs_dict)\n",
    "\n",
    "rs_fxn = list2dict(feature_names, row_vals)\n",
    "rs_fxn"
   ]
  },
  {
   "cell_type": "code",
   "execution_count": 50,
   "metadata": {},
   "outputs": [],
   "source": [
    "row_lists = [['Arab World',\n",
    "  'ARB',\n",
    "  'Adolescent fertility rate (births per 1,000 women ages 15-19)',\n",
    "  'SP.ADO.TFRT',\n",
    "  '1960',\n",
    "  '133.56090740552298'],\n",
    " ['Arab World',\n",
    "  'ARB',\n",
    "  'Age dependency ratio (% of working-age population)',\n",
    "  'SP.POP.DPND',\n",
    "  '1960',\n",
    "  '87.7976011532547'],\n",
    " ['Arab World',\n",
    "  'ARB',\n",
    "  'Age dependency ratio, old (% of working-age population)',\n",
    "  'SP.POP.DPND.OL',\n",
    "  '1960',\n",
    "  '6.634579191565161'],\n",
    " ['Arab World',\n",
    "  'ARB',\n",
    "  'Age dependency ratio, young (% of working-age population)',\n",
    "  'SP.POP.DPND.YG',\n",
    "  '1960',\n",
    "  '81.02332950839141'],\n",
    " ['Arab World',\n",
    "  'ARB',\n",
    "  'Arms exports (SIPRI trend indicator values)',\n",
    "  'MS.MIL.XPRT.KD',\n",
    "  '1960',\n",
    "  '3000000.0'],\n",
    " ['Arab World',\n",
    "  'ARB',\n",
    "  'Arms imports (SIPRI trend indicator values)',\n",
    "  'MS.MIL.MPRT.KD',\n",
    "  '1960',\n",
    "  '538000000.0'],\n",
    " ['Arab World',\n",
    "  'ARB',\n",
    "  'Birth rate, crude (per 1,000 people)',\n",
    "  'SP.DYN.CBRT.IN',\n",
    "  '1960',\n",
    "  '47.697888095096395'],\n",
    " ['Arab World',\n",
    "  'ARB',\n",
    "  'CO2 emissions (kt)',\n",
    "  'EN.ATM.CO2E.KT',\n",
    "  '1960',\n",
    "  '59563.9892169935'],\n",
    " ['Arab World',\n",
    "  'ARB',\n",
    "  'CO2 emissions (metric tons per capita)',\n",
    "  'EN.ATM.CO2E.PC',\n",
    "  '1960',\n",
    "  '0.6439635478877049'],\n",
    " ['Arab World',\n",
    "  'ARB',\n",
    "  'CO2 emissions from gaseous fuel consumption (% of total)',\n",
    "  'EN.ATM.CO2E.GF.ZS',\n",
    "  '1960',\n",
    "  '5.041291753975099'],\n",
    " ['Arab World',\n",
    "  'ARB',\n",
    "  'CO2 emissions from liquid fuel consumption (% of total)',\n",
    "  'EN.ATM.CO2E.LF.ZS',\n",
    "  '1960',\n",
    "  '84.8514729446567'],\n",
    " ['Arab World',\n",
    "  'ARB',\n",
    "  'CO2 emissions from liquid fuel consumption (kt)',\n",
    "  'EN.ATM.CO2E.LF.KT',\n",
    "  '1960',\n",
    "  '49541.707291032304'],\n",
    " ['Arab World',\n",
    "  'ARB',\n",
    "  'CO2 emissions from solid fuel consumption (% of total)',\n",
    "  'EN.ATM.CO2E.SF.ZS',\n",
    "  '1960',\n",
    "  '4.72698138789597'],\n",
    " ['Arab World',\n",
    "  'ARB',\n",
    "  'Death rate, crude (per 1,000 people)',\n",
    "  'SP.DYN.CDRT.IN',\n",
    "  '1960',\n",
    "  '19.7544519237187'],\n",
    " ['Arab World',\n",
    "  'ARB',\n",
    "  'Fertility rate, total (births per woman)',\n",
    "  'SP.DYN.TFRT.IN',\n",
    "  '1960',\n",
    "  '6.92402738655897'],\n",
    " ['Arab World',\n",
    "  'ARB',\n",
    "  'Fixed telephone subscriptions',\n",
    "  'IT.MLT.MAIN',\n",
    "  '1960',\n",
    "  '406833.0'],\n",
    " ['Arab World',\n",
    "  'ARB',\n",
    "  'Fixed telephone subscriptions (per 100 people)',\n",
    "  'IT.MLT.MAIN.P2',\n",
    "  '1960',\n",
    "  '0.6167005703199'],\n",
    " ['Arab World',\n",
    "  'ARB',\n",
    "  'Hospital beds (per 1,000 people)',\n",
    "  'SH.MED.BEDS.ZS',\n",
    "  '1960',\n",
    "  '1.9296220724398703'],\n",
    " ['Arab World',\n",
    "  'ARB',\n",
    "  'International migrant stock (% of population)',\n",
    "  'SM.POP.TOTL.ZS',\n",
    "  '1960',\n",
    "  '2.9906371279862403'],\n",
    " ['Arab World',\n",
    "  'ARB',\n",
    "  'International migrant stock, total',\n",
    "  'SM.POP.TOTL',\n",
    "  '1960',\n",
    "  '3324685.0']]"
   ]
  },
  {
   "cell_type": "code",
   "execution_count": 52,
   "metadata": {},
   "outputs": [
    {
     "name": "stdout",
     "output_type": "stream",
     "text": [
      "['Arab World', 'ARB', 'Adolescent fertility rate (births per 1,000 women ages 15-19)', 'SP.ADO.TFRT', '1960', '133.56090740552298']\n",
      "['Arab World', 'ARB', 'Age dependency ratio (% of working-age population)', 'SP.POP.DPND', '1960', '87.7976011532547']\n"
     ]
    }
   ],
   "source": [
    "# Using a list comprehension\n",
    "print(row_lists[0])\n",
    "print(row_lists[1])"
   ]
  },
  {
   "cell_type": "code",
   "execution_count": 53,
   "metadata": {},
   "outputs": [
    {
     "name": "stdout",
     "output_type": "stream",
     "text": [
      "{'CountryName': 'Arab World', 'CountryCode': 'ARB', 'IndicatorName': 'Adolescent fertility rate (births per 1,000 women ages 15-19)', 'IndicatorCode': 'SP.ADO.TFRT', 'Year': '1960', 'Value': '133.56090740552298'}\n",
      "{'CountryName': 'Arab World', 'CountryCode': 'ARB', 'IndicatorName': 'Age dependency ratio (% of working-age population)', 'IndicatorCode': 'SP.POP.DPND', 'Year': '1960', 'Value': '87.7976011532547'}\n"
     ]
    }
   ],
   "source": [
    "list_of_dicts = [list2dict(feature_names, sublist) for sublist in row_lists]\n",
    "\n",
    "print(list_of_dicts[0])\n",
    "print(list_of_dicts[1])"
   ]
  },
  {
   "cell_type": "code",
   "execution_count": 55,
   "metadata": {},
   "outputs": [
    {
     "data": {
      "text/html": [
       "<div>\n",
       "<style scoped>\n",
       "    .dataframe tbody tr th:only-of-type {\n",
       "        vertical-align: middle;\n",
       "    }\n",
       "\n",
       "    .dataframe tbody tr th {\n",
       "        vertical-align: top;\n",
       "    }\n",
       "\n",
       "    .dataframe thead th {\n",
       "        text-align: right;\n",
       "    }\n",
       "</style>\n",
       "<table border=\"1\" class=\"dataframe\">\n",
       "  <thead>\n",
       "    <tr style=\"text-align: right;\">\n",
       "      <th></th>\n",
       "      <th>CountryName</th>\n",
       "      <th>CountryCode</th>\n",
       "      <th>IndicatorName</th>\n",
       "      <th>IndicatorCode</th>\n",
       "      <th>Year</th>\n",
       "      <th>Value</th>\n",
       "    </tr>\n",
       "  </thead>\n",
       "  <tbody>\n",
       "    <tr>\n",
       "      <th>0</th>\n",
       "      <td>Arab World</td>\n",
       "      <td>ARB</td>\n",
       "      <td>Adolescent fertility rate (births per 1,000 wo...</td>\n",
       "      <td>SP.ADO.TFRT</td>\n",
       "      <td>1960</td>\n",
       "      <td>133.56090740552298</td>\n",
       "    </tr>\n",
       "    <tr>\n",
       "      <th>1</th>\n",
       "      <td>Arab World</td>\n",
       "      <td>ARB</td>\n",
       "      <td>Age dependency ratio (% of working-age populat...</td>\n",
       "      <td>SP.POP.DPND</td>\n",
       "      <td>1960</td>\n",
       "      <td>87.7976011532547</td>\n",
       "    </tr>\n",
       "    <tr>\n",
       "      <th>2</th>\n",
       "      <td>Arab World</td>\n",
       "      <td>ARB</td>\n",
       "      <td>Age dependency ratio, old (% of working-age po...</td>\n",
       "      <td>SP.POP.DPND.OL</td>\n",
       "      <td>1960</td>\n",
       "      <td>6.634579191565161</td>\n",
       "    </tr>\n",
       "    <tr>\n",
       "      <th>3</th>\n",
       "      <td>Arab World</td>\n",
       "      <td>ARB</td>\n",
       "      <td>Age dependency ratio, young (% of working-age ...</td>\n",
       "      <td>SP.POP.DPND.YG</td>\n",
       "      <td>1960</td>\n",
       "      <td>81.02332950839141</td>\n",
       "    </tr>\n",
       "    <tr>\n",
       "      <th>4</th>\n",
       "      <td>Arab World</td>\n",
       "      <td>ARB</td>\n",
       "      <td>Arms exports (SIPRI trend indicator values)</td>\n",
       "      <td>MS.MIL.XPRT.KD</td>\n",
       "      <td>1960</td>\n",
       "      <td>3000000.0</td>\n",
       "    </tr>\n",
       "  </tbody>\n",
       "</table>\n",
       "</div>"
      ],
      "text/plain": [
       "  CountryName CountryCode                                      IndicatorName  \\\n",
       "0  Arab World         ARB  Adolescent fertility rate (births per 1,000 wo...   \n",
       "1  Arab World         ARB  Age dependency ratio (% of working-age populat...   \n",
       "2  Arab World         ARB  Age dependency ratio, old (% of working-age po...   \n",
       "3  Arab World         ARB  Age dependency ratio, young (% of working-age ...   \n",
       "4  Arab World         ARB        Arms exports (SIPRI trend indicator values)   \n",
       "\n",
       "    IndicatorCode  Year               Value  \n",
       "0     SP.ADO.TFRT  1960  133.56090740552298  \n",
       "1     SP.POP.DPND  1960    87.7976011532547  \n",
       "2  SP.POP.DPND.OL  1960   6.634579191565161  \n",
       "3  SP.POP.DPND.YG  1960   81.02332950839141  \n",
       "4  MS.MIL.XPRT.KD  1960           3000000.0  "
      ]
     },
     "execution_count": 55,
     "metadata": {},
     "output_type": "execute_result"
    }
   ],
   "source": [
    "# Turning this all into a DataFrame\n",
    "df = pd.DataFrame(list_of_dicts)\n",
    "df.head()"
   ]
  },
  {
   "attachments": {},
   "cell_type": "markdown",
   "metadata": {},
   "source": [
    "### Using Python generators for streaming data\n",
    "- Generators for the large data limit -> streaming data until all lines are exhausted\n",
    "- `with open('file.csv') as file` : binds the csv file `'file.csv'` as `file` in the context manager"
   ]
  },
  {
   "cell_type": "code",
   "execution_count": 68,
   "metadata": {},
   "outputs": [
    {
     "data": {
      "text/plain": [
       "{'Arab World': 5,\n",
       " 'Caribbean small states': 5,\n",
       " 'Central Europe and the Baltics': 5,\n",
       " 'East Asia & Pacific (all income levels)': 5,\n",
       " 'East Asia & Pacific (developing only)': 5,\n",
       " 'Euro area': 5,\n",
       " 'Europe & Central Asia (all income levels)': 5,\n",
       " 'Europe & Central Asia (developing only)': 5,\n",
       " 'European Union': 5,\n",
       " 'Fragile and conflict affected situations': 5,\n",
       " 'Heavily indebted poor countries (HIPC)': 5,\n",
       " 'High income': 5,\n",
       " 'High income: nonOECD': 5,\n",
       " 'High income: OECD': 5,\n",
       " 'Latin America & Caribbean (all income levels)': 5,\n",
       " 'Latin America & Caribbean (developing only)': 5,\n",
       " 'Least developed countries: UN classification': 5,\n",
       " 'Low & middle income': 5,\n",
       " 'Low income': 5,\n",
       " 'Lower middle income': 5,\n",
       " 'Middle East & North Africa (all income levels)': 5,\n",
       " 'Middle East & North Africa (developing only)': 5,\n",
       " 'Middle income': 5,\n",
       " 'North America': 5,\n",
       " 'OECD members': 5,\n",
       " 'Other small states': 5,\n",
       " 'Pacific island small states': 5,\n",
       " 'Small states': 5,\n",
       " 'South Asia': 5,\n",
       " 'Sub-Saharan Africa (all income levels)': 5,\n",
       " 'Sub-Saharan Africa (developing only)': 5,\n",
       " 'Upper middle income': 5,\n",
       " 'World': 4,\n",
       " 'Afghanistan': 4,\n",
       " 'Albania': 4,\n",
       " 'Algeria': 4,\n",
       " 'American Samoa': 4,\n",
       " 'Andorra': 4,\n",
       " 'Angola': 4,\n",
       " 'Antigua and Barbuda': 4,\n",
       " 'Argentina': 4,\n",
       " 'Armenia': 4,\n",
       " 'Aruba': 4,\n",
       " 'Australia': 4,\n",
       " 'Austria': 4,\n",
       " 'Azerbaijan': 4,\n",
       " '\"Bahamas': 4,\n",
       " 'Bahrain': 4,\n",
       " 'Bangladesh': 4,\n",
       " 'Barbados': 4,\n",
       " 'Belarus': 4,\n",
       " 'Belgium': 4,\n",
       " 'Belize': 4,\n",
       " 'Benin': 4,\n",
       " 'Bermuda': 4,\n",
       " 'Bhutan': 4,\n",
       " 'Bolivia': 4,\n",
       " 'Bosnia and Herzegovina': 4,\n",
       " 'Botswana': 4,\n",
       " 'Brazil': 4,\n",
       " 'Brunei Darussalam': 4,\n",
       " 'Bulgaria': 4,\n",
       " 'Burkina Faso': 4,\n",
       " 'Burundi': 4,\n",
       " 'Cabo Verde': 4,\n",
       " 'Cambodia': 4,\n",
       " 'Cameroon': 4,\n",
       " 'Canada': 4,\n",
       " 'Cayman Islands': 4,\n",
       " 'Central African Republic': 4,\n",
       " 'Chad': 4,\n",
       " 'Channel Islands': 4,\n",
       " 'Chile': 4,\n",
       " 'China': 4,\n",
       " 'Colombia': 4,\n",
       " 'Comoros': 4,\n",
       " '\"Congo': 8,\n",
       " 'Costa Rica': 4,\n",
       " \"Cote d'Ivoire\": 4,\n",
       " 'Croatia': 4,\n",
       " 'Cuba': 4,\n",
       " 'Curacao': 4,\n",
       " 'Cyprus': 4,\n",
       " 'Czech Republic': 4,\n",
       " 'Denmark': 4,\n",
       " 'Djibouti': 4,\n",
       " 'Dominica': 4,\n",
       " 'Dominican Republic': 4,\n",
       " 'Ecuador': 4,\n",
       " '\"Egypt': 4,\n",
       " 'El Salvador': 4,\n",
       " 'Equatorial Guinea': 4,\n",
       " 'Eritrea': 4,\n",
       " 'Estonia': 4,\n",
       " 'Ethiopia': 4,\n",
       " 'Faeroe Islands': 4,\n",
       " 'Fiji': 4,\n",
       " 'Finland': 4,\n",
       " 'France': 4,\n",
       " 'French Polynesia': 4,\n",
       " 'Gabon': 4,\n",
       " '\"Gambia': 4,\n",
       " 'Georgia': 4,\n",
       " 'Germany': 4,\n",
       " 'Ghana': 4,\n",
       " 'Greece': 4,\n",
       " 'Greenland': 4,\n",
       " 'Grenada': 4,\n",
       " 'Guam': 4,\n",
       " 'Guatemala': 4,\n",
       " 'Guinea': 4,\n",
       " 'Guinea-Bissau': 4,\n",
       " 'Guyana': 4,\n",
       " 'Haiti': 4,\n",
       " 'Honduras': 4,\n",
       " '\"Hong Kong SAR': 4,\n",
       " 'Hungary': 4,\n",
       " 'Iceland': 4,\n",
       " 'India': 4,\n",
       " 'Indonesia': 4,\n",
       " '\"Iran': 4,\n",
       " 'Iraq': 4,\n",
       " 'Ireland': 4,\n",
       " 'Isle of Man': 4,\n",
       " 'Israel': 4,\n",
       " 'Italy': 4,\n",
       " 'Jamaica': 4,\n",
       " 'Japan': 4,\n",
       " 'Jordan': 4,\n",
       " 'Kazakhstan': 4,\n",
       " 'Kenya': 4,\n",
       " 'Kiribati': 4,\n",
       " '\"Korea': 8,\n",
       " 'Kuwait': 4,\n",
       " 'Kyrgyz Republic': 4,\n",
       " 'Lao PDR': 4,\n",
       " 'Latvia': 4,\n",
       " 'Lebanon': 4,\n",
       " 'Lesotho': 4,\n",
       " 'Liberia': 4,\n",
       " 'Libya': 4,\n",
       " 'Liechtenstein': 4,\n",
       " 'Lithuania': 4,\n",
       " 'Luxembourg': 4,\n",
       " '\"Macao SAR': 4,\n",
       " '\"Macedonia': 4,\n",
       " 'Madagascar': 4,\n",
       " 'Malawi': 4,\n",
       " 'Malaysia': 4,\n",
       " 'Maldives': 4,\n",
       " 'Mali': 4,\n",
       " 'Malta': 4,\n",
       " 'Marshall Islands': 4,\n",
       " 'Mauritania': 4,\n",
       " 'Mauritius': 4,\n",
       " 'Mexico': 4,\n",
       " '\"Micronesia': 4,\n",
       " 'Moldova': 4,\n",
       " 'Monaco': 4,\n",
       " 'Mongolia': 4,\n",
       " 'Montenegro': 4,\n",
       " 'Morocco': 4,\n",
       " 'Mozambique': 4,\n",
       " 'Myanmar': 4,\n",
       " 'Namibia': 4,\n",
       " 'Nepal': 4,\n",
       " 'Netherlands': 4,\n",
       " 'New Caledonia': 4,\n",
       " 'New Zealand': 4,\n",
       " 'Nicaragua': 4,\n",
       " 'Niger': 4,\n",
       " 'Nigeria': 4,\n",
       " 'Northern Mariana Islands': 4,\n",
       " 'Norway': 4,\n",
       " 'Oman': 4,\n",
       " 'Pakistan': 4,\n",
       " 'Palau': 4,\n",
       " 'Panama': 4,\n",
       " 'Papua New Guinea': 4,\n",
       " 'Paraguay': 4,\n",
       " 'Peru': 4,\n",
       " 'Philippines': 4,\n",
       " 'Poland': 4,\n",
       " 'Portugal': 4,\n",
       " 'Puerto Rico': 4,\n",
       " 'Qatar': 4,\n",
       " 'Romania': 4,\n",
       " 'Russian Federation': 4,\n",
       " 'Rwanda': 4,\n",
       " 'Samoa': 4,\n",
       " 'San Marino': 4,\n",
       " 'Sao Tome and Principe': 4,\n",
       " 'Saudi Arabia': 4,\n",
       " 'Senegal': 4,\n",
       " 'Seychelles': 4,\n",
       " 'Sierra Leone': 4,\n",
       " 'Singapore': 4,\n",
       " 'Slovak Republic': 4,\n",
       " 'Slovenia': 4,\n",
       " 'Solomon Islands': 4,\n",
       " 'Somalia': 4,\n",
       " 'South Africa': 4,\n",
       " 'South Sudan': 4,\n",
       " 'Spain': 4,\n",
       " 'Sri Lanka': 4,\n",
       " 'St. Kitts and Nevis': 4,\n",
       " 'St. Lucia': 4,\n",
       " 'St. Vincent and the Grenadines': 4,\n",
       " 'Sudan': 4,\n",
       " 'Suriname': 4,\n",
       " 'Swaziland': 4,\n",
       " 'Sweden': 4,\n",
       " 'Switzerland': 4,\n",
       " 'Syrian Arab Republic': 4,\n",
       " 'Tajikistan': 4,\n",
       " 'Tanzania': 4,\n",
       " 'Thailand': 4,\n",
       " 'Timor-Leste': 4,\n",
       " 'Togo': 4,\n",
       " 'Tonga': 4,\n",
       " 'Trinidad and Tobago': 4,\n",
       " 'Tunisia': 4,\n",
       " 'Turkey': 4,\n",
       " 'Turkmenistan': 4,\n",
       " 'Turks and Caicos Islands': 4,\n",
       " 'Tuvalu': 4,\n",
       " 'Uganda': 4,\n",
       " 'Ukraine': 4,\n",
       " 'United Arab Emirates': 4,\n",
       " 'United Kingdom': 4,\n",
       " 'United States': 4,\n",
       " 'Uruguay': 4,\n",
       " 'Uzbekistan': 4,\n",
       " 'Vanuatu': 4,\n",
       " '\"Venezuela': 4,\n",
       " 'Vietnam': 4,\n",
       " 'Virgin Islands (U.S.)': 4,\n",
       " '\"Yemen': 4,\n",
       " 'Zambia': 4,\n",
       " 'Zimbabwe': 4}"
      ]
     },
     "execution_count": 68,
     "metadata": {},
     "output_type": "execute_result"
    }
   ],
   "source": [
    "with open('world_dev_ind.csv') as file :\n",
    "    file.readline()\n",
    "    counts_dict = {}\n",
    "\n",
    "    for j in range(1000) :\n",
    "        line = file.readline().split(',')\n",
    "\n",
    "        first_col = line[0]\n",
    "\n",
    "        if first_col in counts_dict.keys() :\n",
    "            counts_dict[first_col] += 1\n",
    "        else :\n",
    "            counts_dict[first_col] = 1\n",
    "\n",
    "counts_dict"
   ]
  },
  {
   "cell_type": "code",
   "execution_count": 58,
   "metadata": {},
   "outputs": [
    {
     "name": "stdout",
     "output_type": "stream",
     "text": [
      "CountryName,CountryCode,Year,Total Population,Urban population (% of total)\n",
      "\n",
      "Arab World,ARB,1960,92495902.0,31.285384211605397\n",
      "\n",
      "Caribbean small states,CSS,1960,4190810.0,31.5974898513652\n",
      "\n"
     ]
    }
   ],
   "source": [
    "# Writing a generator to load data in chunks (2) : lazy evaluation\n",
    "def read_large_file(file_object):\n",
    "    \"\"\"A generator function to read a large file lazily.\"\"\"\n",
    "    while True :\n",
    "        data = file_object.readline()\n",
    "\n",
    "        if not data :\n",
    "            break\n",
    "        yield data\n",
    "\n",
    "with open('world_dev_ind.csv') as file :\n",
    "    gen_file = read_large_file(file)\n",
    "\n",
    "    print(next(gen_file))\n",
    "    print(next(gen_file))\n",
    "    print(next(gen_file))"
   ]
  },
  {
   "cell_type": "code",
   "execution_count": 69,
   "metadata": {},
   "outputs": [
    {
     "data": {
      "text/plain": [
       "{'CountryName': 1,\n",
       " 'Arab World': 55,\n",
       " 'Caribbean small states': 55,\n",
       " 'Central Europe and the Baltics': 55,\n",
       " 'East Asia & Pacific (all income levels)': 55,\n",
       " 'East Asia & Pacific (developing only)': 55,\n",
       " 'Euro area': 55,\n",
       " 'Europe & Central Asia (all income levels)': 55,\n",
       " 'Europe & Central Asia (developing only)': 55,\n",
       " 'European Union': 55,\n",
       " 'Fragile and conflict affected situations': 55,\n",
       " 'Heavily indebted poor countries (HIPC)': 55,\n",
       " 'High income': 55,\n",
       " 'High income: nonOECD': 55,\n",
       " 'High income: OECD': 55,\n",
       " 'Latin America & Caribbean (all income levels)': 55,\n",
       " 'Latin America & Caribbean (developing only)': 55,\n",
       " 'Least developed countries: UN classification': 55,\n",
       " 'Low & middle income': 55,\n",
       " 'Low income': 55,\n",
       " 'Lower middle income': 55,\n",
       " 'Middle East & North Africa (all income levels)': 55,\n",
       " 'Middle East & North Africa (developing only)': 55,\n",
       " 'Middle income': 55,\n",
       " 'North America': 55,\n",
       " 'OECD members': 55,\n",
       " 'Other small states': 55,\n",
       " 'Pacific island small states': 55,\n",
       " 'Small states': 55,\n",
       " 'South Asia': 55,\n",
       " 'Sub-Saharan Africa (all income levels)': 55,\n",
       " 'Sub-Saharan Africa (developing only)': 55,\n",
       " 'Upper middle income': 55,\n",
       " 'World': 55,\n",
       " 'Afghanistan': 55,\n",
       " 'Albania': 55,\n",
       " 'Algeria': 55,\n",
       " 'American Samoa': 55,\n",
       " 'Andorra': 55,\n",
       " 'Angola': 55,\n",
       " 'Antigua and Barbuda': 55,\n",
       " 'Argentina': 55,\n",
       " 'Armenia': 55,\n",
       " 'Aruba': 55,\n",
       " 'Australia': 55,\n",
       " 'Austria': 55,\n",
       " 'Azerbaijan': 55,\n",
       " '\"Bahamas': 55,\n",
       " 'Bahrain': 55,\n",
       " 'Bangladesh': 55,\n",
       " 'Barbados': 55,\n",
       " 'Belarus': 55,\n",
       " 'Belgium': 55,\n",
       " 'Belize': 55,\n",
       " 'Benin': 55,\n",
       " 'Bermuda': 55,\n",
       " 'Bhutan': 55,\n",
       " 'Bolivia': 55,\n",
       " 'Bosnia and Herzegovina': 55,\n",
       " 'Botswana': 55,\n",
       " 'Brazil': 55,\n",
       " 'Brunei Darussalam': 55,\n",
       " 'Bulgaria': 55,\n",
       " 'Burkina Faso': 55,\n",
       " 'Burundi': 55,\n",
       " 'Cabo Verde': 55,\n",
       " 'Cambodia': 55,\n",
       " 'Cameroon': 55,\n",
       " 'Canada': 55,\n",
       " 'Cayman Islands': 55,\n",
       " 'Central African Republic': 55,\n",
       " 'Chad': 55,\n",
       " 'Channel Islands': 55,\n",
       " 'Chile': 55,\n",
       " 'China': 55,\n",
       " 'Colombia': 55,\n",
       " 'Comoros': 55,\n",
       " '\"Congo': 110,\n",
       " 'Costa Rica': 55,\n",
       " \"Cote d'Ivoire\": 55,\n",
       " 'Croatia': 55,\n",
       " 'Cuba': 55,\n",
       " 'Curacao': 55,\n",
       " 'Cyprus': 55,\n",
       " 'Czech Republic': 55,\n",
       " 'Denmark': 55,\n",
       " 'Djibouti': 55,\n",
       " 'Dominica': 55,\n",
       " 'Dominican Republic': 55,\n",
       " 'Ecuador': 55,\n",
       " '\"Egypt': 55,\n",
       " 'El Salvador': 55,\n",
       " 'Equatorial Guinea': 55,\n",
       " 'Eritrea': 55,\n",
       " 'Estonia': 55,\n",
       " 'Ethiopia': 55,\n",
       " 'Faeroe Islands': 55,\n",
       " 'Fiji': 55,\n",
       " 'Finland': 55,\n",
       " 'France': 55,\n",
       " 'French Polynesia': 55,\n",
       " 'Gabon': 55,\n",
       " '\"Gambia': 55,\n",
       " 'Georgia': 55,\n",
       " 'Germany': 55,\n",
       " 'Ghana': 55,\n",
       " 'Greece': 55,\n",
       " 'Greenland': 55,\n",
       " 'Grenada': 55,\n",
       " 'Guam': 55,\n",
       " 'Guatemala': 55,\n",
       " 'Guinea': 55,\n",
       " 'Guinea-Bissau': 55,\n",
       " 'Guyana': 55,\n",
       " 'Haiti': 55,\n",
       " 'Honduras': 55,\n",
       " '\"Hong Kong SAR': 55,\n",
       " 'Hungary': 55,\n",
       " 'Iceland': 55,\n",
       " 'India': 55,\n",
       " 'Indonesia': 55,\n",
       " '\"Iran': 55,\n",
       " 'Iraq': 55,\n",
       " 'Ireland': 55,\n",
       " 'Isle of Man': 55,\n",
       " 'Israel': 55,\n",
       " 'Italy': 55,\n",
       " 'Jamaica': 55,\n",
       " 'Japan': 55,\n",
       " 'Jordan': 55,\n",
       " 'Kazakhstan': 55,\n",
       " 'Kenya': 55,\n",
       " 'Kiribati': 55,\n",
       " '\"Korea': 110,\n",
       " 'Kuwait': 52,\n",
       " 'Kyrgyz Republic': 55,\n",
       " 'Lao PDR': 55,\n",
       " 'Latvia': 55,\n",
       " 'Lebanon': 55,\n",
       " 'Lesotho': 55,\n",
       " 'Liberia': 55,\n",
       " 'Libya': 55,\n",
       " 'Liechtenstein': 55,\n",
       " 'Lithuania': 55,\n",
       " 'Luxembourg': 55,\n",
       " '\"Macao SAR': 55,\n",
       " '\"Macedonia': 55,\n",
       " 'Madagascar': 55,\n",
       " 'Malawi': 55,\n",
       " 'Malaysia': 55,\n",
       " 'Maldives': 55,\n",
       " 'Mali': 55,\n",
       " 'Malta': 55,\n",
       " 'Marshall Islands': 55,\n",
       " 'Mauritania': 55,\n",
       " 'Mauritius': 55,\n",
       " 'Mexico': 55,\n",
       " '\"Micronesia': 55,\n",
       " 'Moldova': 55,\n",
       " 'Monaco': 55,\n",
       " 'Mongolia': 55,\n",
       " 'Montenegro': 55,\n",
       " 'Morocco': 55,\n",
       " 'Mozambique': 55,\n",
       " 'Myanmar': 55,\n",
       " 'Namibia': 55,\n",
       " 'Nepal': 55,\n",
       " 'Netherlands': 55,\n",
       " 'New Caledonia': 55,\n",
       " 'New Zealand': 55,\n",
       " 'Nicaragua': 55,\n",
       " 'Niger': 55,\n",
       " 'Nigeria': 55,\n",
       " 'Northern Mariana Islands': 55,\n",
       " 'Norway': 55,\n",
       " 'Oman': 55,\n",
       " 'Pakistan': 55,\n",
       " 'Palau': 55,\n",
       " 'Panama': 55,\n",
       " 'Papua New Guinea': 55,\n",
       " 'Paraguay': 55,\n",
       " 'Peru': 55,\n",
       " 'Philippines': 55,\n",
       " 'Poland': 55,\n",
       " 'Portugal': 55,\n",
       " 'Puerto Rico': 55,\n",
       " 'Qatar': 55,\n",
       " 'Romania': 55,\n",
       " 'Russian Federation': 55,\n",
       " 'Rwanda': 55,\n",
       " 'Samoa': 55,\n",
       " 'San Marino': 55,\n",
       " 'Sao Tome and Principe': 55,\n",
       " 'Saudi Arabia': 55,\n",
       " 'Senegal': 55,\n",
       " 'Seychelles': 55,\n",
       " 'Sierra Leone': 55,\n",
       " 'Singapore': 55,\n",
       " 'Slovak Republic': 55,\n",
       " 'Slovenia': 55,\n",
       " 'Solomon Islands': 55,\n",
       " 'Somalia': 55,\n",
       " 'South Africa': 55,\n",
       " 'South Sudan': 55,\n",
       " 'Spain': 55,\n",
       " 'Sri Lanka': 55,\n",
       " 'St. Kitts and Nevis': 55,\n",
       " 'St. Lucia': 55,\n",
       " 'St. Vincent and the Grenadines': 55,\n",
       " 'Sudan': 55,\n",
       " 'Suriname': 55,\n",
       " 'Swaziland': 55,\n",
       " 'Sweden': 55,\n",
       " 'Switzerland': 55,\n",
       " 'Syrian Arab Republic': 55,\n",
       " 'Tajikistan': 55,\n",
       " 'Tanzania': 55,\n",
       " 'Thailand': 55,\n",
       " 'Timor-Leste': 55,\n",
       " 'Togo': 55,\n",
       " 'Tonga': 55,\n",
       " 'Trinidad and Tobago': 55,\n",
       " 'Tunisia': 55,\n",
       " 'Turkey': 55,\n",
       " 'Turkmenistan': 55,\n",
       " 'Turks and Caicos Islands': 55,\n",
       " 'Tuvalu': 55,\n",
       " 'Uganda': 55,\n",
       " 'Ukraine': 55,\n",
       " 'United Arab Emirates': 55,\n",
       " 'United Kingdom': 55,\n",
       " 'United States': 55,\n",
       " 'Uruguay': 55,\n",
       " 'Uzbekistan': 55,\n",
       " 'Vanuatu': 55,\n",
       " '\"Venezuela': 55,\n",
       " 'Vietnam': 55,\n",
       " 'Virgin Islands (U.S.)': 55,\n",
       " '\"Yemen': 55,\n",
       " 'Zambia': 55,\n",
       " 'Zimbabwe': 55,\n",
       " 'Serbia': 25,\n",
       " 'West Bank and Gaza': 25,\n",
       " 'Sint Maarten (Dutch part)': 17}"
      ]
     },
     "execution_count": 69,
     "metadata": {},
     "output_type": "execute_result"
    }
   ],
   "source": [
    "# Writing a generator to load data in chunks (3) : entire dataset\n",
    "counts_dict = {}\n",
    "\n",
    "with open('world_dev_ind.csv') as file:\n",
    "    for line in read_large_file(file):\n",
    "        row = line.split(',')\n",
    "        first_col = row[0]\n",
    "\n",
    "        if first_col in counts_dict.keys():\n",
    "            counts_dict[first_col] += 1\n",
    "        else:\n",
    "            counts_dict[first_col] = 1\n",
    "\n",
    "counts_dict\n"
   ]
  },
  {
   "attachments": {},
   "cell_type": "markdown",
   "metadata": {},
   "source": [
    "### Using pandas' read_csv iterator for streaming data\n",
    "- `chunksize` argument\n",
    "- Look at specific indicators in specific countries"
   ]
  },
  {
   "cell_type": "code",
   "execution_count": 63,
   "metadata": {},
   "outputs": [
    {
     "data": {
      "text/html": [
       "<div>\n",
       "<style scoped>\n",
       "    .dataframe tbody tr th:only-of-type {\n",
       "        vertical-align: middle;\n",
       "    }\n",
       "\n",
       "    .dataframe tbody tr th {\n",
       "        vertical-align: top;\n",
       "    }\n",
       "\n",
       "    .dataframe thead th {\n",
       "        text-align: right;\n",
       "    }\n",
       "</style>\n",
       "<table border=\"1\" class=\"dataframe\">\n",
       "  <thead>\n",
       "    <tr style=\"text-align: right;\">\n",
       "      <th></th>\n",
       "      <th>CountryName</th>\n",
       "      <th>CountryCode</th>\n",
       "      <th>Year</th>\n",
       "      <th>Total Population</th>\n",
       "      <th>Urban population (% of total)</th>\n",
       "    </tr>\n",
       "  </thead>\n",
       "  <tbody>\n",
       "    <tr>\n",
       "      <th>0</th>\n",
       "      <td>Arab World</td>\n",
       "      <td>ARB</td>\n",
       "      <td>1960</td>\n",
       "      <td>9.249590e+07</td>\n",
       "      <td>31.285384</td>\n",
       "    </tr>\n",
       "    <tr>\n",
       "      <th>1</th>\n",
       "      <td>Caribbean small states</td>\n",
       "      <td>CSS</td>\n",
       "      <td>1960</td>\n",
       "      <td>4.190810e+06</td>\n",
       "      <td>31.597490</td>\n",
       "    </tr>\n",
       "    <tr>\n",
       "      <th>2</th>\n",
       "      <td>Central Europe and the Baltics</td>\n",
       "      <td>CEB</td>\n",
       "      <td>1960</td>\n",
       "      <td>9.140158e+07</td>\n",
       "      <td>44.507921</td>\n",
       "    </tr>\n",
       "    <tr>\n",
       "      <th>3</th>\n",
       "      <td>East Asia &amp; Pacific (all income levels)</td>\n",
       "      <td>EAS</td>\n",
       "      <td>1960</td>\n",
       "      <td>1.042475e+09</td>\n",
       "      <td>22.471132</td>\n",
       "    </tr>\n",
       "    <tr>\n",
       "      <th>4</th>\n",
       "      <td>East Asia &amp; Pacific (developing only)</td>\n",
       "      <td>EAP</td>\n",
       "      <td>1960</td>\n",
       "      <td>8.964930e+08</td>\n",
       "      <td>16.917679</td>\n",
       "    </tr>\n",
       "    <tr>\n",
       "      <th>5</th>\n",
       "      <td>Euro area</td>\n",
       "      <td>EMU</td>\n",
       "      <td>1960</td>\n",
       "      <td>2.653965e+08</td>\n",
       "      <td>62.096947</td>\n",
       "    </tr>\n",
       "    <tr>\n",
       "      <th>6</th>\n",
       "      <td>Europe &amp; Central Asia (all income levels)</td>\n",
       "      <td>ECS</td>\n",
       "      <td>1960</td>\n",
       "      <td>6.674890e+08</td>\n",
       "      <td>55.378977</td>\n",
       "    </tr>\n",
       "    <tr>\n",
       "      <th>7</th>\n",
       "      <td>Europe &amp; Central Asia (developing only)</td>\n",
       "      <td>ECA</td>\n",
       "      <td>1960</td>\n",
       "      <td>1.553174e+08</td>\n",
       "      <td>38.066129</td>\n",
       "    </tr>\n",
       "    <tr>\n",
       "      <th>8</th>\n",
       "      <td>European Union</td>\n",
       "      <td>EUU</td>\n",
       "      <td>1960</td>\n",
       "      <td>4.094985e+08</td>\n",
       "      <td>61.212898</td>\n",
       "    </tr>\n",
       "    <tr>\n",
       "      <th>9</th>\n",
       "      <td>Fragile and conflict affected situations</td>\n",
       "      <td>FCS</td>\n",
       "      <td>1960</td>\n",
       "      <td>1.203546e+08</td>\n",
       "      <td>17.891972</td>\n",
       "    </tr>\n",
       "  </tbody>\n",
       "</table>\n",
       "</div>"
      ],
      "text/plain": [
       "                                 CountryName CountryCode  Year  \\\n",
       "0                                 Arab World         ARB  1960   \n",
       "1                     Caribbean small states         CSS  1960   \n",
       "2             Central Europe and the Baltics         CEB  1960   \n",
       "3    East Asia & Pacific (all income levels)         EAS  1960   \n",
       "4      East Asia & Pacific (developing only)         EAP  1960   \n",
       "5                                  Euro area         EMU  1960   \n",
       "6  Europe & Central Asia (all income levels)         ECS  1960   \n",
       "7    Europe & Central Asia (developing only)         ECA  1960   \n",
       "8                             European Union         EUU  1960   \n",
       "9   Fragile and conflict affected situations         FCS  1960   \n",
       "\n",
       "   Total Population  Urban population (% of total)  \n",
       "0      9.249590e+07                      31.285384  \n",
       "1      4.190810e+06                      31.597490  \n",
       "2      9.140158e+07                      44.507921  \n",
       "3      1.042475e+09                      22.471132  \n",
       "4      8.964930e+08                      16.917679  \n",
       "5      2.653965e+08                      62.096947  \n",
       "6      6.674890e+08                      55.378977  \n",
       "7      1.553174e+08                      38.066129  \n",
       "8      4.094985e+08                      61.212898  \n",
       "9      1.203546e+08                      17.891972  "
      ]
     },
     "execution_count": 63,
     "metadata": {},
     "output_type": "execute_result"
    }
   ],
   "source": [
    "# Writing an iterator to load data in chunks (1)\n",
    "df_reader = pd.read_csv('ind_pop.csv', chunksize=10)\n",
    "\n",
    "next(df_reader)"
   ]
  },
  {
   "cell_type": "code",
   "execution_count": 64,
   "metadata": {},
   "outputs": [
    {
     "data": {
      "text/html": [
       "<div>\n",
       "<style scoped>\n",
       "    .dataframe tbody tr th:only-of-type {\n",
       "        vertical-align: middle;\n",
       "    }\n",
       "\n",
       "    .dataframe tbody tr th {\n",
       "        vertical-align: top;\n",
       "    }\n",
       "\n",
       "    .dataframe thead th {\n",
       "        text-align: right;\n",
       "    }\n",
       "</style>\n",
       "<table border=\"1\" class=\"dataframe\">\n",
       "  <thead>\n",
       "    <tr style=\"text-align: right;\">\n",
       "      <th></th>\n",
       "      <th>CountryName</th>\n",
       "      <th>CountryCode</th>\n",
       "      <th>Year</th>\n",
       "      <th>Total Population</th>\n",
       "      <th>Urban population (% of total)</th>\n",
       "    </tr>\n",
       "  </thead>\n",
       "  <tbody>\n",
       "    <tr>\n",
       "      <th>10</th>\n",
       "      <td>Heavily indebted poor countries (HIPC)</td>\n",
       "      <td>HPC</td>\n",
       "      <td>1960</td>\n",
       "      <td>1.624912e+08</td>\n",
       "      <td>12.236046</td>\n",
       "    </tr>\n",
       "    <tr>\n",
       "      <th>11</th>\n",
       "      <td>High income</td>\n",
       "      <td>HIC</td>\n",
       "      <td>1960</td>\n",
       "      <td>9.075975e+08</td>\n",
       "      <td>62.680332</td>\n",
       "    </tr>\n",
       "    <tr>\n",
       "      <th>12</th>\n",
       "      <td>High income: nonOECD</td>\n",
       "      <td>NOC</td>\n",
       "      <td>1960</td>\n",
       "      <td>1.866767e+08</td>\n",
       "      <td>56.107863</td>\n",
       "    </tr>\n",
       "    <tr>\n",
       "      <th>13</th>\n",
       "      <td>High income: OECD</td>\n",
       "      <td>OEC</td>\n",
       "      <td>1960</td>\n",
       "      <td>7.209208e+08</td>\n",
       "      <td>64.285435</td>\n",
       "    </tr>\n",
       "    <tr>\n",
       "      <th>14</th>\n",
       "      <td>Latin America &amp; Caribbean (all income levels)</td>\n",
       "      <td>LCN</td>\n",
       "      <td>1960</td>\n",
       "      <td>2.205642e+08</td>\n",
       "      <td>49.284688</td>\n",
       "    </tr>\n",
       "    <tr>\n",
       "      <th>15</th>\n",
       "      <td>Latin America &amp; Caribbean (developing only)</td>\n",
       "      <td>LAC</td>\n",
       "      <td>1960</td>\n",
       "      <td>1.776822e+08</td>\n",
       "      <td>44.863308</td>\n",
       "    </tr>\n",
       "    <tr>\n",
       "      <th>16</th>\n",
       "      <td>Least developed countries: UN classification</td>\n",
       "      <td>LDC</td>\n",
       "      <td>1960</td>\n",
       "      <td>2.410728e+08</td>\n",
       "      <td>9.616261</td>\n",
       "    </tr>\n",
       "    <tr>\n",
       "      <th>17</th>\n",
       "      <td>Low &amp; middle income</td>\n",
       "      <td>LMY</td>\n",
       "      <td>1960</td>\n",
       "      <td>2.127373e+09</td>\n",
       "      <td>21.272894</td>\n",
       "    </tr>\n",
       "    <tr>\n",
       "      <th>18</th>\n",
       "      <td>Low income</td>\n",
       "      <td>LIC</td>\n",
       "      <td>1960</td>\n",
       "      <td>1.571884e+08</td>\n",
       "      <td>11.498396</td>\n",
       "    </tr>\n",
       "    <tr>\n",
       "      <th>19</th>\n",
       "      <td>Lower middle income</td>\n",
       "      <td>LMC</td>\n",
       "      <td>1960</td>\n",
       "      <td>9.429116e+08</td>\n",
       "      <td>19.810513</td>\n",
       "    </tr>\n",
       "  </tbody>\n",
       "</table>\n",
       "</div>"
      ],
      "text/plain": [
       "                                      CountryName CountryCode  Year  \\\n",
       "10         Heavily indebted poor countries (HIPC)         HPC  1960   \n",
       "11                                    High income         HIC  1960   \n",
       "12                           High income: nonOECD         NOC  1960   \n",
       "13                              High income: OECD         OEC  1960   \n",
       "14  Latin America & Caribbean (all income levels)         LCN  1960   \n",
       "15    Latin America & Caribbean (developing only)         LAC  1960   \n",
       "16   Least developed countries: UN classification         LDC  1960   \n",
       "17                            Low & middle income         LMY  1960   \n",
       "18                                     Low income         LIC  1960   \n",
       "19                            Lower middle income         LMC  1960   \n",
       "\n",
       "    Total Population  Urban population (% of total)  \n",
       "10      1.624912e+08                      12.236046  \n",
       "11      9.075975e+08                      62.680332  \n",
       "12      1.866767e+08                      56.107863  \n",
       "13      7.209208e+08                      64.285435  \n",
       "14      2.205642e+08                      49.284688  \n",
       "15      1.776822e+08                      44.863308  \n",
       "16      2.410728e+08                       9.616261  \n",
       "17      2.127373e+09                      21.272894  \n",
       "18      1.571884e+08                      11.498396  \n",
       "19      9.429116e+08                      19.810513  "
      ]
     },
     "execution_count": 64,
     "metadata": {},
     "output_type": "execute_result"
    }
   ],
   "source": [
    "next(df_reader)"
   ]
  },
  {
   "cell_type": "code",
   "execution_count": 65,
   "metadata": {},
   "outputs": [
    {
     "data": {
      "text/html": [
       "<div>\n",
       "<style scoped>\n",
       "    .dataframe tbody tr th:only-of-type {\n",
       "        vertical-align: middle;\n",
       "    }\n",
       "\n",
       "    .dataframe tbody tr th {\n",
       "        vertical-align: top;\n",
       "    }\n",
       "\n",
       "    .dataframe thead th {\n",
       "        text-align: right;\n",
       "    }\n",
       "</style>\n",
       "<table border=\"1\" class=\"dataframe\">\n",
       "  <thead>\n",
       "    <tr style=\"text-align: right;\">\n",
       "      <th></th>\n",
       "      <th>CountryName</th>\n",
       "      <th>CountryCode</th>\n",
       "      <th>Year</th>\n",
       "      <th>Total Population</th>\n",
       "      <th>Urban population (% of total)</th>\n",
       "    </tr>\n",
       "  </thead>\n",
       "  <tbody>\n",
       "    <tr>\n",
       "      <th>0</th>\n",
       "      <td>Arab World</td>\n",
       "      <td>ARB</td>\n",
       "      <td>1960</td>\n",
       "      <td>9.249590e+07</td>\n",
       "      <td>31.285384</td>\n",
       "    </tr>\n",
       "    <tr>\n",
       "      <th>1</th>\n",
       "      <td>Caribbean small states</td>\n",
       "      <td>CSS</td>\n",
       "      <td>1960</td>\n",
       "      <td>4.190810e+06</td>\n",
       "      <td>31.597490</td>\n",
       "    </tr>\n",
       "    <tr>\n",
       "      <th>2</th>\n",
       "      <td>Central Europe and the Baltics</td>\n",
       "      <td>CEB</td>\n",
       "      <td>1960</td>\n",
       "      <td>9.140158e+07</td>\n",
       "      <td>44.507921</td>\n",
       "    </tr>\n",
       "    <tr>\n",
       "      <th>3</th>\n",
       "      <td>East Asia &amp; Pacific (all income levels)</td>\n",
       "      <td>EAS</td>\n",
       "      <td>1960</td>\n",
       "      <td>1.042475e+09</td>\n",
       "      <td>22.471132</td>\n",
       "    </tr>\n",
       "    <tr>\n",
       "      <th>4</th>\n",
       "      <td>East Asia &amp; Pacific (developing only)</td>\n",
       "      <td>EAP</td>\n",
       "      <td>1960</td>\n",
       "      <td>8.964930e+08</td>\n",
       "      <td>16.917679</td>\n",
       "    </tr>\n",
       "  </tbody>\n",
       "</table>\n",
       "</div>"
      ],
      "text/plain": [
       "                               CountryName CountryCode  Year  \\\n",
       "0                               Arab World         ARB  1960   \n",
       "1                   Caribbean small states         CSS  1960   \n",
       "2           Central Europe and the Baltics         CEB  1960   \n",
       "3  East Asia & Pacific (all income levels)         EAS  1960   \n",
       "4    East Asia & Pacific (developing only)         EAP  1960   \n",
       "\n",
       "   Total Population  Urban population (% of total)  \n",
       "0      9.249590e+07                      31.285384  \n",
       "1      4.190810e+06                      31.597490  \n",
       "2      9.140158e+07                      44.507921  \n",
       "3      1.042475e+09                      22.471132  \n",
       "4      8.964930e+08                      16.917679  "
      ]
     },
     "execution_count": 65,
     "metadata": {},
     "output_type": "execute_result"
    }
   ],
   "source": [
    "# Writing an iterator to load data in chunks (2)\n",
    "urb_pop_reader = pd.read_csv('ind_pop_data.csv', chunksize = 1000)\n",
    "\n",
    "df_urb_pop = next(urb_pop_reader)\n",
    "df_urb_pop.head()"
   ]
  },
  {
   "cell_type": "code",
   "execution_count": 67,
   "metadata": {},
   "outputs": [
    {
     "data": {
      "text/plain": [
       "[(91401583.0, 44.5079211390026),\n",
       " (92237118.0, 45.206665319194),\n",
       " (93014890.0, 45.866564696018),\n",
       " (93845749.0, 46.5340927663649),\n",
       " (94722599.0, 47.2087429803526)]"
      ]
     },
     "execution_count": 67,
     "metadata": {},
     "output_type": "execute_result"
    }
   ],
   "source": [
    "df_pop_ceb = df_urb_pop[df_urb_pop['CountryCode'] == 'CEB']\n",
    "pops = zip(df_pop_ceb['Total Population'], df_pop_ceb['Urban population (% of total)'])\n",
    "pops_list = list(pops)\n",
    "pops_list"
   ]
  },
  {
   "cell_type": "code",
   "execution_count": 73,
   "metadata": {},
   "outputs": [
    {
     "name": "stderr",
     "output_type": "stream",
     "text": [
      "C:\\Users\\rayhw\\AppData\\Local\\Temp\\ipykernel_22580\\4054825742.py:2: SettingWithCopyWarning: \n",
      "A value is trying to be set on a copy of a slice from a DataFrame.\n",
      "Try using .loc[row_indexer,col_indexer] = value instead\n",
      "\n",
      "See the caveats in the documentation: https://pandas.pydata.org/pandas-docs/stable/user_guide/indexing.html#returning-a-view-versus-a-copy\n",
      "  df_pop_ceb['Total Urban Population'] = [int(pops_list[i][0] * pops_list[i][1]/ 100) for i in range(0, len(pops_list))]\n"
     ]
    }
   ],
   "source": [
    "# Writing an iterator to load data in chunks (3)\n",
    "df_pop_ceb['Total Urban Population'] = [int(pops_list[i][0] * pops_list[i][1]/ 100) for i in range(0, len(pops_list))]"
   ]
  },
  {
   "cell_type": "code",
   "execution_count": 74,
   "metadata": {},
   "outputs": [
    {
     "data": {
      "image/png": "[encoded data removed]",
      "text/plain": [
       "<Figure size 640x480 with 1 Axes>"
      ]
     },
     "metadata": {},
     "output_type": "display_data"
    }
   ],
   "source": [
    "import matplotlib.pyplot as plt\n",
    "df_pop_ceb.plot(kind='scatter', x= 'Year', y= 'Total Urban Population')\n",
    "plt.show()"
   ]
  },
  {
   "cell_type": "code",
   "execution_count": 84,
   "metadata": {},
   "outputs": [
    {
     "name": "stderr",
     "output_type": "stream",
     "text": [
      "C:\\Users\\rayhw\\AppData\\Local\\Temp\\ipykernel_22580\\1855582966.py:13: SettingWithCopyWarning: \n",
      "A value is trying to be set on a copy of a slice from a DataFrame.\n",
      "Try using .loc[row_indexer,col_indexer] = value instead\n",
      "\n",
      "See the caveats in the documentation: https://pandas.pydata.org/pandas-docs/stable/user_guide/indexing.html#returning-a-view-versus-a-copy\n",
      "  df_pop_ceb['Total Urban Population'] = [int(tup[0] * tup[1] * 0.01) for tup in pops_list]\n",
      "C:\\Users\\rayhw\\AppData\\Local\\Temp\\ipykernel_22580\\1855582966.py:13: SettingWithCopyWarning: \n",
      "A value is trying to be set on a copy of a slice from a DataFrame.\n",
      "Try using .loc[row_indexer,col_indexer] = value instead\n",
      "\n",
      "See the caveats in the documentation: https://pandas.pydata.org/pandas-docs/stable/user_guide/indexing.html#returning-a-view-versus-a-copy\n",
      "  df_pop_ceb['Total Urban Population'] = [int(tup[0] * tup[1] * 0.01) for tup in pops_list]\n",
      "C:\\Users\\rayhw\\AppData\\Local\\Temp\\ipykernel_22580\\1855582966.py:13: SettingWithCopyWarning: \n",
      "A value is trying to be set on a copy of a slice from a DataFrame.\n",
      "Try using .loc[row_indexer,col_indexer] = value instead\n",
      "\n",
      "See the caveats in the documentation: https://pandas.pydata.org/pandas-docs/stable/user_guide/indexing.html#returning-a-view-versus-a-copy\n",
      "  df_pop_ceb['Total Urban Population'] = [int(tup[0] * tup[1] * 0.01) for tup in pops_list]\n",
      "C:\\Users\\rayhw\\AppData\\Local\\Temp\\ipykernel_22580\\1855582966.py:13: SettingWithCopyWarning: \n",
      "A value is trying to be set on a copy of a slice from a DataFrame.\n",
      "Try using .loc[row_indexer,col_indexer] = value instead\n",
      "\n",
      "See the caveats in the documentation: https://pandas.pydata.org/pandas-docs/stable/user_guide/indexing.html#returning-a-view-versus-a-copy\n",
      "  df_pop_ceb['Total Urban Population'] = [int(tup[0] * tup[1] * 0.01) for tup in pops_list]\n",
      "C:\\Users\\rayhw\\AppData\\Local\\Temp\\ipykernel_22580\\1855582966.py:13: SettingWithCopyWarning: \n",
      "A value is trying to be set on a copy of a slice from a DataFrame.\n",
      "Try using .loc[row_indexer,col_indexer] = value instead\n",
      "\n",
      "See the caveats in the documentation: https://pandas.pydata.org/pandas-docs/stable/user_guide/indexing.html#returning-a-view-versus-a-copy\n",
      "  df_pop_ceb['Total Urban Population'] = [int(tup[0] * tup[1] * 0.01) for tup in pops_list]\n",
      "C:\\Users\\rayhw\\AppData\\Local\\Temp\\ipykernel_22580\\1855582966.py:13: SettingWithCopyWarning: \n",
      "A value is trying to be set on a copy of a slice from a DataFrame.\n",
      "Try using .loc[row_indexer,col_indexer] = value instead\n",
      "\n",
      "See the caveats in the documentation: https://pandas.pydata.org/pandas-docs/stable/user_guide/indexing.html#returning-a-view-versus-a-copy\n",
      "  df_pop_ceb['Total Urban Population'] = [int(tup[0] * tup[1] * 0.01) for tup in pops_list]\n",
      "C:\\Users\\rayhw\\AppData\\Local\\Temp\\ipykernel_22580\\1855582966.py:13: SettingWithCopyWarning: \n",
      "A value is trying to be set on a copy of a slice from a DataFrame.\n",
      "Try using .loc[row_indexer,col_indexer] = value instead\n",
      "\n",
      "See the caveats in the documentation: https://pandas.pydata.org/pandas-docs/stable/user_guide/indexing.html#returning-a-view-versus-a-copy\n",
      "  df_pop_ceb['Total Urban Population'] = [int(tup[0] * tup[1] * 0.01) for tup in pops_list]\n",
      "C:\\Users\\rayhw\\AppData\\Local\\Temp\\ipykernel_22580\\1855582966.py:13: SettingWithCopyWarning: \n",
      "A value is trying to be set on a copy of a slice from a DataFrame.\n",
      "Try using .loc[row_indexer,col_indexer] = value instead\n",
      "\n",
      "See the caveats in the documentation: https://pandas.pydata.org/pandas-docs/stable/user_guide/indexing.html#returning-a-view-versus-a-copy\n",
      "  df_pop_ceb['Total Urban Population'] = [int(tup[0] * tup[1] * 0.01) for tup in pops_list]\n",
      "C:\\Users\\rayhw\\AppData\\Local\\Temp\\ipykernel_22580\\1855582966.py:13: SettingWithCopyWarning: \n",
      "A value is trying to be set on a copy of a slice from a DataFrame.\n",
      "Try using .loc[row_indexer,col_indexer] = value instead\n",
      "\n",
      "See the caveats in the documentation: https://pandas.pydata.org/pandas-docs/stable/user_guide/indexing.html#returning-a-view-versus-a-copy\n",
      "  df_pop_ceb['Total Urban Population'] = [int(tup[0] * tup[1] * 0.01) for tup in pops_list]\n",
      "C:\\Users\\rayhw\\AppData\\Local\\Temp\\ipykernel_22580\\1855582966.py:13: SettingWithCopyWarning: \n",
      "A value is trying to be set on a copy of a slice from a DataFrame.\n",
      "Try using .loc[row_indexer,col_indexer] = value instead\n",
      "\n",
      "See the caveats in the documentation: https://pandas.pydata.org/pandas-docs/stable/user_guide/indexing.html#returning-a-view-versus-a-copy\n",
      "  df_pop_ceb['Total Urban Population'] = [int(tup[0] * tup[1] * 0.01) for tup in pops_list]\n",
      "C:\\Users\\rayhw\\AppData\\Local\\Temp\\ipykernel_22580\\1855582966.py:13: SettingWithCopyWarning: \n",
      "A value is trying to be set on a copy of a slice from a DataFrame.\n",
      "Try using .loc[row_indexer,col_indexer] = value instead\n",
      "\n",
      "See the caveats in the documentation: https://pandas.pydata.org/pandas-docs/stable/user_guide/indexing.html#returning-a-view-versus-a-copy\n",
      "  df_pop_ceb['Total Urban Population'] = [int(tup[0] * tup[1] * 0.01) for tup in pops_list]\n",
      "C:\\Users\\rayhw\\AppData\\Local\\Temp\\ipykernel_22580\\1855582966.py:13: SettingWithCopyWarning: \n",
      "A value is trying to be set on a copy of a slice from a DataFrame.\n",
      "Try using .loc[row_indexer,col_indexer] = value instead\n",
      "\n",
      "See the caveats in the documentation: https://pandas.pydata.org/pandas-docs/stable/user_guide/indexing.html#returning-a-view-versus-a-copy\n",
      "  df_pop_ceb['Total Urban Population'] = [int(tup[0] * tup[1] * 0.01) for tup in pops_list]\n",
      "C:\\Users\\rayhw\\AppData\\Local\\Temp\\ipykernel_22580\\1855582966.py:13: SettingWithCopyWarning: \n",
      "A value is trying to be set on a copy of a slice from a DataFrame.\n",
      "Try using .loc[row_indexer,col_indexer] = value instead\n",
      "\n",
      "See the caveats in the documentation: https://pandas.pydata.org/pandas-docs/stable/user_guide/indexing.html#returning-a-view-versus-a-copy\n",
      "  df_pop_ceb['Total Urban Population'] = [int(tup[0] * tup[1] * 0.01) for tup in pops_list]\n",
      "C:\\Users\\rayhw\\AppData\\Local\\Temp\\ipykernel_22580\\1855582966.py:13: SettingWithCopyWarning: \n",
      "A value is trying to be set on a copy of a slice from a DataFrame.\n",
      "Try using .loc[row_indexer,col_indexer] = value instead\n",
      "\n",
      "See the caveats in the documentation: https://pandas.pydata.org/pandas-docs/stable/user_guide/indexing.html#returning-a-view-versus-a-copy\n",
      "  df_pop_ceb['Total Urban Population'] = [int(tup[0] * tup[1] * 0.01) for tup in pops_list]\n"
     ]
    },
    {
     "data": {
      "image/png": "[encoded data removed]",
      "text/plain": [
       "<Figure size 640x480 with 1 Axes>"
      ]
     },
     "metadata": {},
     "output_type": "display_data"
    }
   ],
   "source": [
    "# Writing an iterator to load data in chunks (4)\n",
    "urb_pop_reader = pd.read_csv('ind_pop_data.csv', chunksize=1000)\n",
    "\n",
    "data = pd.DataFrame()\n",
    "\n",
    "for df_urb_pop in urb_pop_reader:\n",
    "    df_pop_ceb = df_urb_pop[df_urb_pop['CountryCode'] == 'CEB']\n",
    "\n",
    "    pops = zip(df_pop_ceb['Total Population'],\n",
    "                df_pop_ceb['Urban population (% of total)'])\n",
    "    pops_list = list(pops)\n",
    "\n",
    "    df_pop_ceb['Total Urban Population'] = [int(tup[0] * tup[1] * 0.01) for tup in pops_list]\n",
    "    data = pd.concat([data, df_pop_ceb])\n",
    "\n",
    "data.plot(kind='scatter', x='Year', y='Total Urban Population')\n",
    "plt.show()\n",
    "\n"
   ]
  },
  {
   "cell_type": "code",
   "execution_count": 85,
   "metadata": {},
   "outputs": [],
   "source": [
    "# Writing an iterator to load data in chunks (5)\n",
    "def plot_pop(filename, country_code):\n",
    "    urb_pop_reader = pd.read_csv(filename, chunksize=1000)\n",
    "\n",
    "    data = pd.DataFrame()\n",
    "    \n",
    "    for df_urb_pop in urb_pop_reader:\n",
    "        df_pop_ceb = df_urb_pop[df_urb_pop['CountryCode'] == country_code]\n",
    "\n",
    "        pops = zip(df_pop_ceb['Total Population'],\n",
    "                    df_pop_ceb['Urban population (% of total)'])\n",
    "        pops_list = list(pops)\n",
    "\n",
    "        df_pop_ceb['Total Urban Population'] = [int(tup[0] * tup[1] * 0.01) for tup in pops_list]\n",
    "    \n",
    "        data = pd.concat([data, df_pop_ceb])\n",
    "\n",
    "    data.plot(kind='scatter', x='Year', y='Total Urban Population')\n",
    "    plt.show()\n"
   ]
  },
  {
   "cell_type": "code",
   "execution_count": 86,
   "metadata": {},
   "outputs": [
    {
     "name": "stderr",
     "output_type": "stream",
     "text": [
      "C:\\Users\\rayhw\\AppData\\Local\\Temp\\ipykernel_22580\\4160072811.py:14: SettingWithCopyWarning: \n",
      "A value is trying to be set on a copy of a slice from a DataFrame.\n",
      "Try using .loc[row_indexer,col_indexer] = value instead\n",
      "\n",
      "See the caveats in the documentation: https://pandas.pydata.org/pandas-docs/stable/user_guide/indexing.html#returning-a-view-versus-a-copy\n",
      "  df_pop_ceb['Total Urban Population'] = [int(tup[0] * tup[1] * 0.01) for tup in pops_list]\n",
      "C:\\Users\\rayhw\\AppData\\Local\\Temp\\ipykernel_22580\\4160072811.py:14: SettingWithCopyWarning: \n",
      "A value is trying to be set on a copy of a slice from a DataFrame.\n",
      "Try using .loc[row_indexer,col_indexer] = value instead\n",
      "\n",
      "See the caveats in the documentation: https://pandas.pydata.org/pandas-docs/stable/user_guide/indexing.html#returning-a-view-versus-a-copy\n",
      "  df_pop_ceb['Total Urban Population'] = [int(tup[0] * tup[1] * 0.01) for tup in pops_list]\n",
      "C:\\Users\\rayhw\\AppData\\Local\\Temp\\ipykernel_22580\\4160072811.py:14: SettingWithCopyWarning: \n",
      "A value is trying to be set on a copy of a slice from a DataFrame.\n",
      "Try using .loc[row_indexer,col_indexer] = value instead\n",
      "\n",
      "See the caveats in the documentation: https://pandas.pydata.org/pandas-docs/stable/user_guide/indexing.html#returning-a-view-versus-a-copy\n",
      "  df_pop_ceb['Total Urban Population'] = [int(tup[0] * tup[1] * 0.01) for tup in pops_list]\n",
      "C:\\Users\\rayhw\\AppData\\Local\\Temp\\ipykernel_22580\\4160072811.py:14: SettingWithCopyWarning: \n",
      "A value is trying to be set on a copy of a slice from a DataFrame.\n",
      "Try using .loc[row_indexer,col_indexer] = value instead\n",
      "\n",
      "See the caveats in the documentation: https://pandas.pydata.org/pandas-docs/stable/user_guide/indexing.html#returning-a-view-versus-a-copy\n",
      "  df_pop_ceb['Total Urban Population'] = [int(tup[0] * tup[1] * 0.01) for tup in pops_list]\n",
      "C:\\Users\\rayhw\\AppData\\Local\\Temp\\ipykernel_22580\\4160072811.py:14: SettingWithCopyWarning: \n",
      "A value is trying to be set on a copy of a slice from a DataFrame.\n",
      "Try using .loc[row_indexer,col_indexer] = value instead\n",
      "\n",
      "See the caveats in the documentation: https://pandas.pydata.org/pandas-docs/stable/user_guide/indexing.html#returning-a-view-versus-a-copy\n",
      "  df_pop_ceb['Total Urban Population'] = [int(tup[0] * tup[1] * 0.01) for tup in pops_list]\n",
      "C:\\Users\\rayhw\\AppData\\Local\\Temp\\ipykernel_22580\\4160072811.py:14: SettingWithCopyWarning: \n",
      "A value is trying to be set on a copy of a slice from a DataFrame.\n",
      "Try using .loc[row_indexer,col_indexer] = value instead\n",
      "\n",
      "See the caveats in the documentation: https://pandas.pydata.org/pandas-docs/stable/user_guide/indexing.html#returning-a-view-versus-a-copy\n",
      "  df_pop_ceb['Total Urban Population'] = [int(tup[0] * tup[1] * 0.01) for tup in pops_list]\n",
      "C:\\Users\\rayhw\\AppData\\Local\\Temp\\ipykernel_22580\\4160072811.py:14: SettingWithCopyWarning: \n",
      "A value is trying to be set on a copy of a slice from a DataFrame.\n",
      "Try using .loc[row_indexer,col_indexer] = value instead\n",
      "\n",
      "See the caveats in the documentation: https://pandas.pydata.org/pandas-docs/stable/user_guide/indexing.html#returning-a-view-versus-a-copy\n",
      "  df_pop_ceb['Total Urban Population'] = [int(tup[0] * tup[1] * 0.01) for tup in pops_list]\n",
      "C:\\Users\\rayhw\\AppData\\Local\\Temp\\ipykernel_22580\\4160072811.py:14: SettingWithCopyWarning: \n",
      "A value is trying to be set on a copy of a slice from a DataFrame.\n",
      "Try using .loc[row_indexer,col_indexer] = value instead\n",
      "\n",
      "See the caveats in the documentation: https://pandas.pydata.org/pandas-docs/stable/user_guide/indexing.html#returning-a-view-versus-a-copy\n",
      "  df_pop_ceb['Total Urban Population'] = [int(tup[0] * tup[1] * 0.01) for tup in pops_list]\n",
      "C:\\Users\\rayhw\\AppData\\Local\\Temp\\ipykernel_22580\\4160072811.py:14: SettingWithCopyWarning: \n",
      "A value is trying to be set on a copy of a slice from a DataFrame.\n",
      "Try using .loc[row_indexer,col_indexer] = value instead\n",
      "\n",
      "See the caveats in the documentation: https://pandas.pydata.org/pandas-docs/stable/user_guide/indexing.html#returning-a-view-versus-a-copy\n",
      "  df_pop_ceb['Total Urban Population'] = [int(tup[0] * tup[1] * 0.01) for tup in pops_list]\n",
      "C:\\Users\\rayhw\\AppData\\Local\\Temp\\ipykernel_22580\\4160072811.py:14: SettingWithCopyWarning: \n",
      "A value is trying to be set on a copy of a slice from a DataFrame.\n",
      "Try using .loc[row_indexer,col_indexer] = value instead\n",
      "\n",
      "See the caveats in the documentation: https://pandas.pydata.org/pandas-docs/stable/user_guide/indexing.html#returning-a-view-versus-a-copy\n",
      "  df_pop_ceb['Total Urban Population'] = [int(tup[0] * tup[1] * 0.01) for tup in pops_list]\n",
      "C:\\Users\\rayhw\\AppData\\Local\\Temp\\ipykernel_22580\\4160072811.py:14: SettingWithCopyWarning: \n",
      "A value is trying to be set on a copy of a slice from a DataFrame.\n",
      "Try using .loc[row_indexer,col_indexer] = value instead\n",
      "\n",
      "See the caveats in the documentation: https://pandas.pydata.org/pandas-docs/stable/user_guide/indexing.html#returning-a-view-versus-a-copy\n",
      "  df_pop_ceb['Total Urban Population'] = [int(tup[0] * tup[1] * 0.01) for tup in pops_list]\n",
      "C:\\Users\\rayhw\\AppData\\Local\\Temp\\ipykernel_22580\\4160072811.py:14: SettingWithCopyWarning: \n",
      "A value is trying to be set on a copy of a slice from a DataFrame.\n",
      "Try using .loc[row_indexer,col_indexer] = value instead\n",
      "\n",
      "See the caveats in the documentation: https://pandas.pydata.org/pandas-docs/stable/user_guide/indexing.html#returning-a-view-versus-a-copy\n",
      "  df_pop_ceb['Total Urban Population'] = [int(tup[0] * tup[1] * 0.01) for tup in pops_list]\n",
      "C:\\Users\\rayhw\\AppData\\Local\\Temp\\ipykernel_22580\\4160072811.py:14: SettingWithCopyWarning: \n",
      "A value is trying to be set on a copy of a slice from a DataFrame.\n",
      "Try using .loc[row_indexer,col_indexer] = value instead\n",
      "\n",
      "See the caveats in the documentation: https://pandas.pydata.org/pandas-docs/stable/user_guide/indexing.html#returning-a-view-versus-a-copy\n",
      "  df_pop_ceb['Total Urban Population'] = [int(tup[0] * tup[1] * 0.01) for tup in pops_list]\n",
      "C:\\Users\\rayhw\\AppData\\Local\\Temp\\ipykernel_22580\\4160072811.py:14: SettingWithCopyWarning: \n",
      "A value is trying to be set on a copy of a slice from a DataFrame.\n",
      "Try using .loc[row_indexer,col_indexer] = value instead\n",
      "\n",
      "See the caveats in the documentation: https://pandas.pydata.org/pandas-docs/stable/user_guide/indexing.html#returning-a-view-versus-a-copy\n",
      "  df_pop_ceb['Total Urban Population'] = [int(tup[0] * tup[1] * 0.01) for tup in pops_list]\n"
     ]
    },
    {
     "data": {
      "image/png": "[encoded data removed]",
      "text/plain": [
       "<Figure size 640x480 with 1 Axes>"
      ]
     },
     "metadata": {},
     "output_type": "display_data"
    }
   ],
   "source": [
    "fn = 'ind_pop_data.csv'\n",
    "plot_pop(fn, 'CEB')"
   ]
  },
  {
   "cell_type": "code",
   "execution_count": 87,
   "metadata": {},
   "outputs": [
    {
     "name": "stderr",
     "output_type": "stream",
     "text": [
      "C:\\Users\\rayhw\\AppData\\Local\\Temp\\ipykernel_22580\\4160072811.py:14: SettingWithCopyWarning: \n",
      "A value is trying to be set on a copy of a slice from a DataFrame.\n",
      "Try using .loc[row_indexer,col_indexer] = value instead\n",
      "\n",
      "See the caveats in the documentation: https://pandas.pydata.org/pandas-docs/stable/user_guide/indexing.html#returning-a-view-versus-a-copy\n",
      "  df_pop_ceb['Total Urban Population'] = [int(tup[0] * tup[1] * 0.01) for tup in pops_list]\n",
      "C:\\Users\\rayhw\\AppData\\Local\\Temp\\ipykernel_22580\\4160072811.py:14: SettingWithCopyWarning: \n",
      "A value is trying to be set on a copy of a slice from a DataFrame.\n",
      "Try using .loc[row_indexer,col_indexer] = value instead\n",
      "\n",
      "See the caveats in the documentation: https://pandas.pydata.org/pandas-docs/stable/user_guide/indexing.html#returning-a-view-versus-a-copy\n",
      "  df_pop_ceb['Total Urban Population'] = [int(tup[0] * tup[1] * 0.01) for tup in pops_list]\n",
      "C:\\Users\\rayhw\\AppData\\Local\\Temp\\ipykernel_22580\\4160072811.py:14: SettingWithCopyWarning: \n",
      "A value is trying to be set on a copy of a slice from a DataFrame.\n",
      "Try using .loc[row_indexer,col_indexer] = value instead\n",
      "\n",
      "See the caveats in the documentation: https://pandas.pydata.org/pandas-docs/stable/user_guide/indexing.html#returning-a-view-versus-a-copy\n",
      "  df_pop_ceb['Total Urban Population'] = [int(tup[0] * tup[1] * 0.01) for tup in pops_list]\n",
      "C:\\Users\\rayhw\\AppData\\Local\\Temp\\ipykernel_22580\\4160072811.py:14: SettingWithCopyWarning: \n",
      "A value is trying to be set on a copy of a slice from a DataFrame.\n",
      "Try using .loc[row_indexer,col_indexer] = value instead\n",
      "\n",
      "See the caveats in the documentation: https://pandas.pydata.org/pandas-docs/stable/user_guide/indexing.html#returning-a-view-versus-a-copy\n",
      "  df_pop_ceb['Total Urban Population'] = [int(tup[0] * tup[1] * 0.01) for tup in pops_list]\n",
      "C:\\Users\\rayhw\\AppData\\Local\\Temp\\ipykernel_22580\\4160072811.py:14: SettingWithCopyWarning: \n",
      "A value is trying to be set on a copy of a slice from a DataFrame.\n",
      "Try using .loc[row_indexer,col_indexer] = value instead\n",
      "\n",
      "See the caveats in the documentation: https://pandas.pydata.org/pandas-docs/stable/user_guide/indexing.html#returning-a-view-versus-a-copy\n",
      "  df_pop_ceb['Total Urban Population'] = [int(tup[0] * tup[1] * 0.01) for tup in pops_list]\n",
      "C:\\Users\\rayhw\\AppData\\Local\\Temp\\ipykernel_22580\\4160072811.py:14: SettingWithCopyWarning: \n",
      "A value is trying to be set on a copy of a slice from a DataFrame.\n",
      "Try using .loc[row_indexer,col_indexer] = value instead\n",
      "\n",
      "See the caveats in the documentation: https://pandas.pydata.org/pandas-docs/stable/user_guide/indexing.html#returning-a-view-versus-a-copy\n",
      "  df_pop_ceb['Total Urban Population'] = [int(tup[0] * tup[1] * 0.01) for tup in pops_list]\n",
      "C:\\Users\\rayhw\\AppData\\Local\\Temp\\ipykernel_22580\\4160072811.py:14: SettingWithCopyWarning: \n",
      "A value is trying to be set on a copy of a slice from a DataFrame.\n",
      "Try using .loc[row_indexer,col_indexer] = value instead\n",
      "\n",
      "See the caveats in the documentation: https://pandas.pydata.org/pandas-docs/stable/user_guide/indexing.html#returning-a-view-versus-a-copy\n",
      "  df_pop_ceb['Total Urban Population'] = [int(tup[0] * tup[1] * 0.01) for tup in pops_list]\n",
      "C:\\Users\\rayhw\\AppData\\Local\\Temp\\ipykernel_22580\\4160072811.py:14: SettingWithCopyWarning: \n",
      "A value is trying to be set on a copy of a slice from a DataFrame.\n",
      "Try using .loc[row_indexer,col_indexer] = value instead\n",
      "\n",
      "See the caveats in the documentation: https://pandas.pydata.org/pandas-docs/stable/user_guide/indexing.html#returning-a-view-versus-a-copy\n",
      "  df_pop_ceb['Total Urban Population'] = [int(tup[0] * tup[1] * 0.01) for tup in pops_list]\n",
      "C:\\Users\\rayhw\\AppData\\Local\\Temp\\ipykernel_22580\\4160072811.py:14: SettingWithCopyWarning: \n",
      "A value is trying to be set on a copy of a slice from a DataFrame.\n",
      "Try using .loc[row_indexer,col_indexer] = value instead\n",
      "\n",
      "See the caveats in the documentation: https://pandas.pydata.org/pandas-docs/stable/user_guide/indexing.html#returning-a-view-versus-a-copy\n",
      "  df_pop_ceb['Total Urban Population'] = [int(tup[0] * tup[1] * 0.01) for tup in pops_list]\n",
      "C:\\Users\\rayhw\\AppData\\Local\\Temp\\ipykernel_22580\\4160072811.py:14: SettingWithCopyWarning: \n",
      "A value is trying to be set on a copy of a slice from a DataFrame.\n",
      "Try using .loc[row_indexer,col_indexer] = value instead\n",
      "\n",
      "See the caveats in the documentation: https://pandas.pydata.org/pandas-docs/stable/user_guide/indexing.html#returning-a-view-versus-a-copy\n",
      "  df_pop_ceb['Total Urban Population'] = [int(tup[0] * tup[1] * 0.01) for tup in pops_list]\n",
      "C:\\Users\\rayhw\\AppData\\Local\\Temp\\ipykernel_22580\\4160072811.py:14: SettingWithCopyWarning: \n",
      "A value is trying to be set on a copy of a slice from a DataFrame.\n",
      "Try using .loc[row_indexer,col_indexer] = value instead\n",
      "\n",
      "See the caveats in the documentation: https://pandas.pydata.org/pandas-docs/stable/user_guide/indexing.html#returning-a-view-versus-a-copy\n",
      "  df_pop_ceb['Total Urban Population'] = [int(tup[0] * tup[1] * 0.01) for tup in pops_list]\n",
      "C:\\Users\\rayhw\\AppData\\Local\\Temp\\ipykernel_22580\\4160072811.py:14: SettingWithCopyWarning: \n",
      "A value is trying to be set on a copy of a slice from a DataFrame.\n",
      "Try using .loc[row_indexer,col_indexer] = value instead\n",
      "\n",
      "See the caveats in the documentation: https://pandas.pydata.org/pandas-docs/stable/user_guide/indexing.html#returning-a-view-versus-a-copy\n",
      "  df_pop_ceb['Total Urban Population'] = [int(tup[0] * tup[1] * 0.01) for tup in pops_list]\n",
      "C:\\Users\\rayhw\\AppData\\Local\\Temp\\ipykernel_22580\\4160072811.py:14: SettingWithCopyWarning: \n",
      "A value is trying to be set on a copy of a slice from a DataFrame.\n",
      "Try using .loc[row_indexer,col_indexer] = value instead\n",
      "\n",
      "See the caveats in the documentation: https://pandas.pydata.org/pandas-docs/stable/user_guide/indexing.html#returning-a-view-versus-a-copy\n",
      "  df_pop_ceb['Total Urban Population'] = [int(tup[0] * tup[1] * 0.01) for tup in pops_list]\n",
      "C:\\Users\\rayhw\\AppData\\Local\\Temp\\ipykernel_22580\\4160072811.py:14: SettingWithCopyWarning: \n",
      "A value is trying to be set on a copy of a slice from a DataFrame.\n",
      "Try using .loc[row_indexer,col_indexer] = value instead\n",
      "\n",
      "See the caveats in the documentation: https://pandas.pydata.org/pandas-docs/stable/user_guide/indexing.html#returning-a-view-versus-a-copy\n",
      "  df_pop_ceb['Total Urban Population'] = [int(tup[0] * tup[1] * 0.01) for tup in pops_list]\n"
     ]
    },
    {
     "data": {
      "image/png": "[encoded data removed]",
      "text/plain": [
       "<Figure size 640x480 with 1 Axes>"
      ]
     },
     "metadata": {},
     "output_type": "display_data"
    }
   ],
   "source": [
    "plot_pop(fn, 'ARB')"
   ]
  }
 ],
 "metadata": {
  "kernelspec": {
   "display_name": "Python 3",
   "language": "python",
   "name": "python3"
  },
  "language_info": {
   "codemirror_mode": {
    "name": "ipython",
    "version": 3
   },
   "file_extension": ".py",
   "mimetype": "text/x-python",
   "name": "python",
   "nbconvert_exporter": "python",
   "pygments_lexer": "ipython3",
   "version": "3.9.13"
  },
  "orig_nbformat": 4,
  "vscode": {
   "interpreter": {
    "hash": "d4f6f0289785984fddbbea0455592def84ac402f53cbc3c6d649ff107f7c3777"
   }
  }
 },
 "nbformat": 4,
 "nbformat_minor": 2
}
