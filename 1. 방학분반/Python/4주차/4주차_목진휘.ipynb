{
  "nbformat": 4,
  "nbformat_minor": 0,
  "metadata": {
    "colab": {
      "provenance": []
    },
    "kernelspec": {
      "name": "python3",
      "display_name": "Python 3"
    },
    "language_info": {
      "name": "python"
    }
  },
  "cells": [
    {
      "cell_type": "markdown",
      "source": [
        "# 1 Using iterators in PythonLand"
      ],
      "metadata": {
        "id": "AlPGDWsNIGIF"
      }
    },
    {
      "cell_type": "markdown",
      "source": [
        "## 1.1 Introduction to iterators"
      ],
      "metadata": {
        "id": "50pPARzOIbXY"
      }
    },
    {
      "cell_type": "markdown",
      "source": [
        "### 1.1.1 Iterators VS Iterables\n",
        " * Iterable\n",
        "    * Examples : lists, strings, dictionaries, file connections\n",
        "    * An object with an associated `iter()` method (연결된 iter method 가 있는 객체)\n",
        "    * Applying `iter()` to an iterable creates an iterator\n",
        "\n",
        " * Iterator\n",
        "    * Produces next value with `next()`\n",
        "    * 연속 값을 생성하는 연결된 next 메서드가 있는 개체\n",
        "\n",
        " * Iterable에서 Iterator을 생성\n"
      ],
      "metadata": {
        "id": "m7hrUX3jIsvf"
      }
    },
    {
      "cell_type": "markdown",
      "source": [
        "### 1.1.2 Iterating over iterables : nex()"
      ],
      "metadata": {
        "id": "ymWkJB25KwR7"
      }
    },
    {
      "cell_type": "code",
      "source": [
        "word = \"Da\"\n",
        "it = iter(word)\n",
        "next(it)"
      ],
      "metadata": {
        "colab": {
          "base_uri": "https://localhost:8080/",
          "height": 35
        },
        "id": "ptlbdigWKz1V",
        "outputId": "5245f66d-63a4-4794-8ea6-bcc5394d0967"
      },
      "execution_count": 2,
      "outputs": [
        {
          "output_type": "execute_result",
          "data": {
            "text/plain": [
              "'D'"
            ],
            "application/vnd.google.colaboratory.intrinsic+json": {
              "type": "string"
            }
          },
          "metadata": {},
          "execution_count": 2
        }
      ]
    },
    {
      "cell_type": "code",
      "source": [
        "# D 다음의 value\n",
        "next(it)"
      ],
      "metadata": {
        "colab": {
          "base_uri": "https://localhost:8080/",
          "height": 35
        },
        "id": "mnwhQY9lLR17",
        "outputId": "00b5bd02-7e4d-4b84-bce3-42a3c85c59ff"
      },
      "execution_count": 3,
      "outputs": [
        {
          "output_type": "execute_result",
          "data": {
            "text/plain": [
              "'a'"
            ],
            "application/vnd.google.colaboratory.intrinsic+json": {
              "type": "string"
            }
          },
          "metadata": {},
          "execution_count": 3
        }
      ]
    },
    {
      "cell_type": "code",
      "source": [
        "# 반환할 값이 남아 있지 않아 오류\n",
        "next(it) "
      ],
      "metadata": {
        "colab": {
          "base_uri": "https://localhost:8080/",
          "height": 193
        },
        "id": "-ieolYqCLUWc",
        "outputId": "885d15ed-ced0-4b2c-9534-c345db158b80"
      },
      "execution_count": 4,
      "outputs": [
        {
          "output_type": "error",
          "ename": "StopIteration",
          "evalue": "ignored",
          "traceback": [
            "\u001b[0;31m---------------------------------------------------------------------------\u001b[0m",
            "\u001b[0;31mStopIteration\u001b[0m                             Traceback (most recent call last)",
            "\u001b[0;32m<ipython-input-4-0471bbc5b242>\u001b[0m in \u001b[0;36m<module>\u001b[0;34m\u001b[0m\n\u001b[1;32m      1\u001b[0m \u001b[0;31m# 반환할 값이 남아 있지 않아 오류\u001b[0m\u001b[0;34m\u001b[0m\u001b[0;34m\u001b[0m\u001b[0;34m\u001b[0m\u001b[0m\n\u001b[0;32m----> 2\u001b[0;31m \u001b[0mnext\u001b[0m\u001b[0;34m(\u001b[0m\u001b[0mit\u001b[0m\u001b[0;34m)\u001b[0m\u001b[0;34m\u001b[0m\u001b[0;34m\u001b[0m\u001b[0m\n\u001b[0m",
            "\u001b[0;31mStopIteration\u001b[0m: "
          ]
        }
      ]
    },
    {
      "cell_type": "markdown",
      "source": [
        "### 1.1.3 Iterating at once with *"
      ],
      "metadata": {
        "id": "jfKaoHS9Lwv7"
      }
    },
    {
      "cell_type": "code",
      "source": [
        "word = \"Data\"\n",
        "it = iter(word)\n",
        "print(*it)"
      ],
      "metadata": {
        "colab": {
          "base_uri": "https://localhost:8080/"
        },
        "id": "Co2ZIGzrL1rD",
        "outputId": "937d8a51-4c64-4ab2-b978-99ee0b79da27"
      },
      "execution_count": 5,
      "outputs": [
        {
          "output_type": "stream",
          "name": "stdout",
          "text": [
            "D a t a\n"
          ]
        }
      ]
    },
    {
      "cell_type": "code",
      "source": [
        "# No more values to go through!\n",
        "print(*it)"
      ],
      "metadata": {
        "colab": {
          "base_uri": "https://localhost:8080/"
        },
        "id": "xup_995kMZEH",
        "outputId": "cfc112a1-ce21-47e6-8278-3f723a999cf6"
      },
      "execution_count": 6,
      "outputs": [
        {
          "output_type": "stream",
          "name": "stdout",
          "text": [
            "\n"
          ]
        }
      ]
    },
    {
      "cell_type": "markdown",
      "source": [
        "### 1.1.4 Iterating over dictionaries"
      ],
      "metadata": {
        "id": "dz_vs0ZjNUD-"
      }
    },
    {
      "cell_type": "code",
      "source": [
        "pythonistas = {'hugo' : 'bowne-anderson', 'francis' : 'castro'}\n",
        "for key, value in pythonistas.items() :\n",
        "    print(key, value)"
      ],
      "metadata": {
        "colab": {
          "base_uri": "https://localhost:8080/"
        },
        "id": "sN7Omtm1pVKI",
        "outputId": "a3ce2a28-950b-4ed0-92e0-405490bad419"
      },
      "execution_count": 7,
      "outputs": [
        {
          "output_type": "stream",
          "name": "stdout",
          "text": [
            "hugo bowne-anderson\n",
            "francis castro\n"
          ]
        }
      ]
    },
    {
      "cell_type": "markdown",
      "source": [
        "### 1.1.5 예제"
      ],
      "metadata": {
        "id": "tWsyfAHzp0KQ"
      }
    },
    {
      "cell_type": "code",
      "source": [
        "# Iterating over the list by using a for loop. You will also create an iterator for the list and access the values from the iterator.\n",
        "\n",
        "\n",
        "\n",
        "# Create a list of strings: flash\n",
        "flash = ['jay garrick', 'barry allen', 'wally west', 'bart allen']\n",
        "\n",
        "# Print each list item in flash using a for loop\n",
        "for person in flash:\n",
        "    print(person)\n"
      ],
      "metadata": {
        "colab": {
          "base_uri": "https://localhost:8080/"
        },
        "id": "owXRupAjp283",
        "outputId": "c3b745df-67bd-4ef5-f0f0-5cdfd23f0de3"
      },
      "execution_count": 13,
      "outputs": [
        {
          "output_type": "stream",
          "name": "stdout",
          "text": [
            "jay garrick\n",
            "barry allen\n",
            "wally west\n",
            "bart allen\n"
          ]
        }
      ]
    },
    {
      "cell_type": "code",
      "source": [
        "# Create an iterator for flash: superhero\n",
        "superhero = iter(flash)\n",
        "\n",
        "\n",
        "# Print each item from the iterator\n",
        "print(next(superhero))\n",
        "print(next(superhero))\n",
        "print(next(superhero))\n",
        "print(next(superhero))"
      ],
      "metadata": {
        "colab": {
          "base_uri": "https://localhost:8080/"
        },
        "id": "VJncsONAqO2d",
        "outputId": "dfd95714-d73a-495d-c463-dec8e1613441"
      },
      "execution_count": 14,
      "outputs": [
        {
          "output_type": "stream",
          "name": "stdout",
          "text": [
            "jay garrick\n",
            "barry allen\n",
            "wally west\n",
            "bart allen\n"
          ]
        }
      ]
    },
    {
      "cell_type": "markdown",
      "source": [
        "--------------------------------------------------------------------------------"
      ],
      "metadata": {
        "id": "YZ5o2Nfzul-F"
      }
    },
    {
      "cell_type": "code",
      "source": [
        "# Create an iterator for range(3): small_value\n",
        "small_value = iter(range(3)) # 0 ~ 2 정수 생성\n",
        "\n",
        "# Print the values in small_value\n",
        "print(next(small_value))\n",
        "print(next(small_value))\n",
        "print(next(small_value))\n"
      ],
      "metadata": {
        "colab": {
          "base_uri": "https://localhost:8080/"
        },
        "id": "hK68O2Ngqp2r",
        "outputId": "25f8f29a-ff3d-469a-e743-0cba9115b37b"
      },
      "execution_count": 21,
      "outputs": [
        {
          "output_type": "stream",
          "name": "stdout",
          "text": [
            "0\n",
            "1\n",
            "2\n"
          ]
        }
      ]
    },
    {
      "cell_type": "code",
      "source": [
        "# Loop over range(3) and print the values\n",
        "for i in range(3):\n",
        "    print(i)\n"
      ],
      "metadata": {
        "colab": {
          "base_uri": "https://localhost:8080/"
        },
        "id": "ezDuIWJerQhF",
        "outputId": "f7febe9d-d358-4d5e-ca51-752f84a2634b"
      },
      "execution_count": 22,
      "outputs": [
        {
          "output_type": "stream",
          "name": "stdout",
          "text": [
            "0\n",
            "1\n",
            "2\n"
          ]
        }
      ]
    },
    {
      "cell_type": "code",
      "source": [
        "# Create an iterator for range(10 ** 100): googol\n",
        "googol = iter(range(10**100)) # 구골 : 10의 100승\n",
        "\n",
        "# Print the first 5 values from googol\n",
        "print(next(googol))\n",
        "print(next(googol))\n",
        "print(next(googol))\n",
        "print(next(googol))\n",
        "print(next(googol))"
      ],
      "metadata": {
        "colab": {
          "base_uri": "https://localhost:8080/"
        },
        "id": "dhNhK2hCrUjn",
        "outputId": "e160686a-09f1-468d-e7b6-b294717e685b"
      },
      "execution_count": 23,
      "outputs": [
        {
          "output_type": "stream",
          "name": "stdout",
          "text": [
            "0\n",
            "1\n",
            "2\n",
            "3\n",
            "4\n"
          ]
        }
      ]
    },
    {
      "cell_type": "markdown",
      "source": [
        "--------------------------------------------------------------------------------"
      ],
      "metadata": {
        "id": "ysqOJPiPuq3v"
      }
    },
    {
      "cell_type": "code",
      "source": [
        "# Passing an iterable from range() and then printing the results of the function calls.\n",
        "\n",
        "\n",
        "# Create a range object: values\n",
        "values = range(10,21)\n",
        "\n",
        "# Print the range object\n",
        "print(values)"
      ],
      "metadata": {
        "colab": {
          "base_uri": "https://localhost:8080/"
        },
        "id": "nkPMYfTmribq",
        "outputId": "b13c24e1-3d1d-484a-c70a-99da7ef904d9"
      },
      "execution_count": 24,
      "outputs": [
        {
          "output_type": "stream",
          "name": "stdout",
          "text": [
            "range(10, 21)\n"
          ]
        }
      ]
    },
    {
      "cell_type": "code",
      "source": [
        "# Create a list of integers: values_list\n",
        "values_list = list(values)\n",
        "\n",
        "# Print values_list\n",
        "print(values_list)"
      ],
      "metadata": {
        "colab": {
          "base_uri": "https://localhost:8080/"
        },
        "id": "lU41N5CLryA4",
        "outputId": "44d0790c-0c60-4f5c-e604-80b898118ffc"
      },
      "execution_count": 25,
      "outputs": [
        {
          "output_type": "stream",
          "name": "stdout",
          "text": [
            "[10, 11, 12, 13, 14, 15, 16, 17, 18, 19, 20]\n"
          ]
        }
      ]
    },
    {
      "cell_type": "code",
      "source": [
        "# Get the sum of values: values_sum\n",
        "values_sum = sum(values)\n",
        "\n",
        "# Print values_sum\n",
        "print(values_sum)"
      ],
      "metadata": {
        "colab": {
          "base_uri": "https://localhost:8080/"
        },
        "id": "3OI24oJ0r0T8",
        "outputId": "e3c5b09d-b473-4577-884c-a21ed2f47ee4"
      },
      "execution_count": 26,
      "outputs": [
        {
          "output_type": "stream",
          "name": "stdout",
          "text": [
            "165\n"
          ]
        }
      ]
    },
    {
      "cell_type": "markdown",
      "source": [
        "## 1.2 Playing with iterators"
      ],
      "metadata": {
        "id": "o1xisEyZr4qa"
      }
    },
    {
      "cell_type": "markdown",
      "source": [
        "### 1.2.1 Using enumerate()"
      ],
      "metadata": {
        "id": "CLUCqDzrr8Nm"
      }
    },
    {
      "cell_type": "code",
      "source": [
        "avengers = ['hawkeye', 'iron man', 'thor', 'quicksilver']\n",
        "e = enumerate(avengers)  # list 원소에 순서값을 부여해주는 함수\n",
        "print(type(e))"
      ],
      "metadata": {
        "colab": {
          "base_uri": "https://localhost:8080/"
        },
        "id": "-B-n41IBsDB_",
        "outputId": "504d3d4b-b2b0-4481-954a-769cce45ee75"
      },
      "execution_count": 28,
      "outputs": [
        {
          "output_type": "stream",
          "name": "stdout",
          "text": [
            "<class 'enumerate'>\n",
            "<enumerate object at 0x7fda42b1a1c0>\n"
          ]
        }
      ]
    },
    {
      "cell_type": "code",
      "source": [
        "e_list = list(e)\n",
        "print(e_list)"
      ],
      "metadata": {
        "colab": {
          "base_uri": "https://localhost:8080/"
        },
        "id": "mW4NY8CzsZdx",
        "outputId": "e65a320c-7962-4ec3-eac2-636d98f49fea"
      },
      "execution_count": 29,
      "outputs": [
        {
          "output_type": "stream",
          "name": "stdout",
          "text": [
            "[(0, 'hawkeye'), (1, 'iron man'), (2, 'thor'), (3, 'quicksilver')]\n"
          ]
        }
      ]
    },
    {
      "cell_type": "markdown",
      "source": [
        "### 1.2.2 eunumerate() and unpack"
      ],
      "metadata": {
        "id": "XtmAnxdrsequ"
      }
    },
    {
      "cell_type": "code",
      "source": [
        "# Unpacking\n",
        "avengers = ['hawkeye', 'iron man', 'thor', 'quicksilver']\n",
        "for index, value in enumerate(avengers) :\n",
        "    print(index, value)"
      ],
      "metadata": {
        "colab": {
          "base_uri": "https://localhost:8080/"
        },
        "id": "i1ode9uFsihJ",
        "outputId": "0d6d8a22-1f8d-4d91-8980-55cc3b11428c"
      },
      "execution_count": 30,
      "outputs": [
        {
          "output_type": "stream",
          "name": "stdout",
          "text": [
            "0 hawkeye\n",
            "1 iron man\n",
            "2 thor\n",
            "3 quicksilver\n"
          ]
        }
      ]
    },
    {
      "cell_type": "code",
      "source": [
        "avengers = ['hawkeye', 'iron man', 'thor', 'quicksilver']\n",
        "for index, value in enumerate(avengers, start=10) :\n",
        "    print(index, value)"
      ],
      "metadata": {
        "colab": {
          "base_uri": "https://localhost:8080/"
        },
        "id": "LrJH0MkmsxYE",
        "outputId": "93d2f761-5bd3-416c-ffae-7925cda88d44"
      },
      "execution_count": 31,
      "outputs": [
        {
          "output_type": "stream",
          "name": "stdout",
          "text": [
            "10 hawkeye\n",
            "11 iron man\n",
            "12 thor\n",
            "13 quicksilver\n"
          ]
        }
      ]
    },
    {
      "cell_type": "markdown",
      "source": [
        "### 1.2.3 Using zip()"
      ],
      "metadata": {
        "id": "Ww2jjGqos4vy"
      }
    },
    {
      "cell_type": "code",
      "source": [
        "avengers = ['hawkeye', 'iron man', 'thor', 'quicksilver']\n",
        "names = ['barton', 'stark', 'odinson', 'maximoff']\n",
        "z = zip(avengers, names)\n",
        "print(type(z))"
      ],
      "metadata": {
        "colab": {
          "base_uri": "https://localhost:8080/"
        },
        "id": "BgZBW6FKs_oq",
        "outputId": "71db0293-53b9-4296-b3d1-96686f7b0b5e"
      },
      "execution_count": 32,
      "outputs": [
        {
          "output_type": "stream",
          "name": "stdout",
          "text": [
            "<class 'zip'>\n"
          ]
        }
      ]
    },
    {
      "cell_type": "code",
      "source": [
        "z_list = list(z)\n",
        "print(z_list)"
      ],
      "metadata": {
        "colab": {
          "base_uri": "https://localhost:8080/"
        },
        "id": "xMoPnOXXtNY4",
        "outputId": "211d7971-3cb3-4781-897b-da41417dc2f0"
      },
      "execution_count": 33,
      "outputs": [
        {
          "output_type": "stream",
          "name": "stdout",
          "text": [
            "[('hawkeye', 'barton'), ('iron man', 'stark'), ('thor', 'odinson'), ('quicksilver', 'maximoff')]\n"
          ]
        }
      ]
    },
    {
      "cell_type": "code",
      "source": [
        "for z1, z2 in zip(avengers, names) :\n",
        "    print(z1, z2)"
      ],
      "metadata": {
        "colab": {
          "base_uri": "https://localhost:8080/"
        },
        "id": "-5NsPXXvtcEX",
        "outputId": "a6a81443-43d7-42a9-842b-e7c1a41fc5de"
      },
      "execution_count": 34,
      "outputs": [
        {
          "output_type": "stream",
          "name": "stdout",
          "text": [
            "hawkeye barton\n",
            "iron man stark\n",
            "thor odinson\n",
            "quicksilver maximoff\n"
          ]
        }
      ]
    },
    {
      "cell_type": "markdown",
      "source": [
        "### 1.2.4 Print zip with *"
      ],
      "metadata": {
        "id": "uJbIgRBStrF-"
      }
    },
    {
      "cell_type": "code",
      "source": [
        "z = zip(avengers, names)\n",
        "print(*z)"
      ],
      "metadata": {
        "colab": {
          "base_uri": "https://localhost:8080/"
        },
        "id": "H9AJgaS8tuL5",
        "outputId": "2d3968e2-c807-4341-d6f1-819aebbfdda4"
      },
      "execution_count": 35,
      "outputs": [
        {
          "output_type": "stream",
          "name": "stdout",
          "text": [
            "('hawkeye', 'barton') ('iron man', 'stark') ('thor', 'odinson') ('quicksilver', 'maximoff')\n"
          ]
        }
      ]
    },
    {
      "cell_type": "markdown",
      "source": [
        "### 1.2.5 예제"
      ],
      "metadata": {
        "id": "uyv2Q15Yt0if"
      }
    },
    {
      "cell_type": "code",
      "source": [
        "# You will practice using enumerate() on it by printing out a list of tuples and unpacking the tuples using a for loop.\n",
        "\n",
        "# Create a list of strings: mutants\n",
        "mutants = ['charles xavier', \n",
        "            'bobby drake', \n",
        "            'kurt wagner', \n",
        "            'max eisenhardt', \n",
        "            'kitty pryde']\n",
        "\n",
        "# Create a list of tuples: mutant_list\n",
        "mutant_list = list(enumerate(mutants))\n",
        "\n",
        "# Print the list of tuples\n",
        "print(mutant_list)"
      ],
      "metadata": {
        "colab": {
          "base_uri": "https://localhost:8080/"
        },
        "id": "bUBM3lsJt2bC",
        "outputId": "69e57839-06e1-4e60-ef28-4a88420a1782"
      },
      "execution_count": 36,
      "outputs": [
        {
          "output_type": "stream",
          "name": "stdout",
          "text": [
            "[(0, 'charles xavier'), (1, 'bobby drake'), (2, 'kurt wagner'), (3, 'max eisenhardt'), (4, 'kitty pryde')]\n"
          ]
        }
      ]
    },
    {
      "cell_type": "code",
      "source": [
        "# Unpack and print the tuple pairs\n",
        "for index1,value1 in enumerate(mutants):\n",
        "    print(index1, value1)"
      ],
      "metadata": {
        "colab": {
          "base_uri": "https://localhost:8080/"
        },
        "id": "1izZ6w-kuDxq",
        "outputId": "fd26e5f1-8f92-4110-9359-ad8fba57138b"
      },
      "execution_count": 38,
      "outputs": [
        {
          "output_type": "stream",
          "name": "stdout",
          "text": [
            "0 charles xavier\n",
            "1 bobby drake\n",
            "2 kurt wagner\n",
            "3 max eisenhardt\n",
            "4 kitty pryde\n"
          ]
        }
      ]
    },
    {
      "cell_type": "code",
      "source": [
        "# Change the start index\n",
        "for index2,value2 in enumerate(mutants, start=1):\n",
        "    print(index2, value2)"
      ],
      "metadata": {
        "colab": {
          "base_uri": "https://localhost:8080/"
        },
        "id": "xq-MBDMiuMB7",
        "outputId": "2fa09385-f7eb-4a73-a912-34ed3d59230e"
      },
      "execution_count": 39,
      "outputs": [
        {
          "output_type": "stream",
          "name": "stdout",
          "text": [
            "1 charles xavier\n",
            "2 bobby drake\n",
            "3 kurt wagner\n",
            "4 max eisenhardt\n",
            "5 kitty pryde\n"
          ]
        }
      ]
    },
    {
      "cell_type": "markdown",
      "source": [
        "-------------------------------------------------------------------------------"
      ],
      "metadata": {
        "id": "cddm6-HSuvj2"
      }
    },
    {
      "cell_type": "code",
      "source": [
        "mutants = ['charles xavier', \n",
        "            'bobby drake', \n",
        "            'kurt wagner', \n",
        "            'max eisenhardt', \n",
        "            'kitty pryde']\n",
        "\n",
        "aliases = ['prof x', 'iceman', 'nightcrawler', 'magneto', 'shadowcat']\n",
        "\n",
        "powers = ['telepathy', 'thermokinesis', 'teleportation', 'magnetokinesis', 'intangibility']"
      ],
      "metadata": {
        "id": "04bH9M2Bu0HW"
      },
      "execution_count": 40,
      "outputs": []
    },
    {
      "cell_type": "code",
      "source": [
        "# Create a list of tuples: mutant_data\n",
        "mutant_data = list(zip(mutants, aliases, powers))\n",
        "\n",
        "# Print the list of tuples\n",
        "print(mutant_data)"
      ],
      "metadata": {
        "colab": {
          "base_uri": "https://localhost:8080/"
        },
        "id": "vMthbOEJvU5G",
        "outputId": "2de66555-97ed-4daf-c7b4-460f1f1ccee1"
      },
      "execution_count": 43,
      "outputs": [
        {
          "output_type": "stream",
          "name": "stdout",
          "text": [
            "[('charles xavier', 'prof x', 'telepathy'), ('bobby drake', 'iceman', 'thermokinesis'), ('kurt wagner', 'nightcrawler', 'teleportation'), ('max eisenhardt', 'magneto', 'magnetokinesis'), ('kitty pryde', 'shadowcat', 'intangibility')]\n"
          ]
        }
      ]
    },
    {
      "cell_type": "code",
      "source": [
        "# Create a zip object using the three lists: mutant_zip\n",
        "mutant_zip = zip(mutants, aliases, powers)\n",
        "\n",
        "# Print the zip object\n",
        "print(mutant_zip)"
      ],
      "metadata": {
        "colab": {
          "base_uri": "https://localhost:8080/"
        },
        "id": "fJgCJPBYvcGM",
        "outputId": "2f61a49b-f30c-48d2-c736-92770d607d74"
      },
      "execution_count": 44,
      "outputs": [
        {
          "output_type": "stream",
          "name": "stdout",
          "text": [
            "<zip object at 0x7fda42a84740>\n"
          ]
        }
      ]
    },
    {
      "cell_type": "code",
      "source": [
        "# Unpack the zip object and print the tuple values\n",
        "for value1, value2, value3 in mutant_zip:\n",
        "    print(value1, value2, value3)"
      ],
      "metadata": {
        "colab": {
          "base_uri": "https://localhost:8080/"
        },
        "id": "RLmNe7Z9vgMr",
        "outputId": "bf2a8fa9-2014-4039-c4e4-3e3b9dfdfacc"
      },
      "execution_count": 45,
      "outputs": [
        {
          "output_type": "stream",
          "name": "stdout",
          "text": [
            "charles xavier prof x telepathy\n",
            "bobby drake iceman thermokinesis\n",
            "kurt wagner nightcrawler teleportation\n",
            "max eisenhardt magneto magnetokinesis\n",
            "kitty pryde shadowcat intangibility\n"
          ]
        }
      ]
    },
    {
      "cell_type": "markdown",
      "source": [
        "--------------------------------------------------------------------------------"
      ],
      "metadata": {
        "id": "VSsPYE2Ovk6G"
      }
    },
    {
      "cell_type": "code",
      "source": [
        "# Using * and zip to 'unzip'\n",
        "\n",
        "# Create a zip object from mutants and powers: z1\n",
        "z1 = zip(mutants, powers)\n",
        "\n",
        "# Print the tuples in z1 by unpacking with *\n",
        "print(*z1)"
      ],
      "metadata": {
        "colab": {
          "base_uri": "https://localhost:8080/"
        },
        "id": "MOvkO69-vo2J",
        "outputId": "97173475-270a-45ae-9ee3-e6d5e0a9f0a7"
      },
      "execution_count": 52,
      "outputs": [
        {
          "output_type": "stream",
          "name": "stdout",
          "text": [
            "('charles xavier', 'telepathy') ('bobby drake', 'thermokinesis') ('kurt wagner', 'teleportation') ('max eisenhardt', 'magnetokinesis') ('kitty pryde', 'intangibility')\n"
          ]
        }
      ]
    },
    {
      "cell_type": "code",
      "source": [
        "# Re-create a zip object from mutants and powers: z1\n",
        "z1 = zip(mutants, powers)\n",
        "\n",
        "# 'Unzip' the tuples in z1 by unpacking with * and zip(): result1, result2\n",
        "result1, result2 = zip(*z1)\n",
        "\n",
        "print(result1)\n",
        "print(result2)"
      ],
      "metadata": {
        "colab": {
          "base_uri": "https://localhost:8080/"
        },
        "id": "OO_cDZY-v1T6",
        "outputId": "795ff3e1-44e9-4a5a-fcde-1d8cc6cdc988"
      },
      "execution_count": 57,
      "outputs": [
        {
          "output_type": "stream",
          "name": "stdout",
          "text": [
            "('charles xavier', 'bobby drake', 'kurt wagner', 'max eisenhardt', 'kitty pryde')\n",
            "('telepathy', 'thermokinesis', 'teleportation', 'magnetokinesis', 'intangibility')\n"
          ]
        }
      ]
    },
    {
      "cell_type": "code",
      "source": [
        "print(mutants)\n",
        "print(powers)\n",
        "\n",
        "# Check if unpacked tuples are equivalent to original tuples\n",
        "print(result1 == mutants)\n",
        "print(result2 == powers)"
      ],
      "metadata": {
        "colab": {
          "base_uri": "https://localhost:8080/"
        },
        "id": "86aqxc0uwDQe",
        "outputId": "63989e5f-db52-415b-ed65-295035aebd49"
      },
      "execution_count": 59,
      "outputs": [
        {
          "output_type": "stream",
          "name": "stdout",
          "text": [
            "['charles xavier', 'bobby drake', 'kurt wagner', 'max eisenhardt', 'kitty pryde']\n",
            "['telepathy', 'thermokinesis', 'teleportation', 'magnetokinesis', 'intangibility']\n",
            "False\n",
            "False\n"
          ]
        }
      ]
    },
    {
      "cell_type": "markdown",
      "source": [
        "### 1.3 Using iterators to load large fiels into memory"
      ],
      "metadata": {
        "id": "1wcV05nawlvZ"
      }
    },
    {
      "cell_type": "markdown",
      "source": [
        "### 1.3.1 Loading data in chuncks\n",
        " * There can be too much data to hold in memory\n",
        " * Solution : load data in chunks!\n",
        " * `pandas` function : `read_csv()`\n",
        "    * Specify the cunk : `chunksize`"
      ],
      "metadata": {
        "id": "w_j40g40wvNx"
      }
    },
    {
      "cell_type": "code",
      "source": [
        "import pandas as pd\n",
        "PATH = \"/content/drive/MyDrive/KUBIG\"\n",
        "\n",
        "\n",
        "\n",
        "\n",
        "# Initialize an empty dictionary: counts_dict\n",
        "counts_dict = {}\n",
        "\n",
        "# Iterate over the file chunk by chunk\n",
        "for chunk in pd.read_csv(PATH+\"/tweets.csv\", chunksize=10):\n",
        "\n",
        "    # Iterate over the column in DataFrame\n",
        "    for entry in chunk['lang']:\n",
        "        if entry in counts_dict.keys():\n",
        "            counts_dict[entry] += 1\n",
        "        else:\n",
        "            counts_dict[entry] = 1\n",
        "\n",
        "# Print the populated dictionary\n",
        "print(counts_dict)\n"
      ],
      "metadata": {
        "colab": {
          "base_uri": "https://localhost:8080/"
        },
        "id": "lQ0TNBw8xiTe",
        "outputId": "5dc4f9f4-3124-4ffd-ca5b-030222dc12e5"
      },
      "execution_count": 62,
      "outputs": [
        {
          "output_type": "stream",
          "name": "stdout",
          "text": [
            "{'en': 97, 'et': 1, 'und': 2}\n"
          ]
        }
      ]
    },
    {
      "cell_type": "code",
      "source": [
        "# Define count_entries()\n",
        "def count_entries(csv_file,c_size,colname):\n",
        "    \"\"\"Return a dictionary with counts of\n",
        "    occurrences as value for each key.\"\"\"\n",
        "    \n",
        "    # Initialize an empty dictionary: counts_dict\n",
        "    counts_dict = {}\n",
        "\n",
        "    # Iterate over the file chunk by chunk\n",
        "    for chunk in pd.read_csv(csv_file,chunksize=c_size):\n",
        "\n",
        "        # Iterate over the column in DataFrame\n",
        "        for entry in chunk[colname]:\n",
        "            if entry in counts_dict.keys():\n",
        "                counts_dict[entry] += 1\n",
        "            else:\n",
        "                counts_dict[entry] = 1\n",
        "\n",
        "    # Return counts_dict\n",
        "    return counts_dict\n",
        "\n",
        "# Call count_entries(): result_counts\n",
        "result_counts = count_entries(PATH+\"/tweets.csv\",10,'lang')\n",
        "\n",
        "# Print result_counts\n",
        "print(result_counts)\n"
      ],
      "metadata": {
        "colab": {
          "base_uri": "https://localhost:8080/"
        },
        "id": "FNubhV3xyLU2",
        "outputId": "cf86f828-5c83-4234-a7c1-8fd3ed70692e"
      },
      "execution_count": 63,
      "outputs": [
        {
          "output_type": "stream",
          "name": "stdout",
          "text": [
            "{'en': 97, 'et': 1, 'und': 2}\n"
          ]
        }
      ]
    }
  ]
}