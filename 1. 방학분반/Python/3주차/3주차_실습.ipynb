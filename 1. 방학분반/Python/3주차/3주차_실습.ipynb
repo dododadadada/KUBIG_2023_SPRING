{
  "nbformat": 4,
  "nbformat_minor": 0,
  "metadata": {
    "colab": {
      "provenance": []
    },
    "kernelspec": {
      "name": "python3",
      "display_name": "Python 3"
    },
    "language_info": {
      "name": "python"
    }
  },
  "cells": [
    {
      "cell_type": "markdown",
      "source": [
        "# **포드 중고차 가격 예측**\n",
        "\n",
        "https://www.kaggle.com/datasets/adhurimquku/ford-car-price-prediction"
      ],
      "metadata": {
        "id": "THSVPfAbCy07"
      }
    },
    {
      "cell_type": "markdown",
      "source": [
        "## 0. 데이터 불러오기"
      ],
      "metadata": {
        "id": "ITzQfaduDAOI"
      }
    },
    {
      "cell_type": "markdown",
      "source": [
        "1.model - > Ford Car Brands\n",
        "\n",
        "2.year - >Production Year\n",
        "\n",
        "3.price - >Price of car in $\n",
        "\n",
        "4.transmission - > Automatic,Manual, Semi-Auto\n",
        "\n",
        "5.mileage -> Number of miles traveled\n",
        "\n",
        "6.fuel_Type -> Petrol,Diesel,Hybrid,Electric,Other\n",
        "\n",
        "7.tax -> Annual Tax\n",
        "\n",
        "8.mpg - > Miles per Gallon\n",
        "\n",
        "9.engineSize - > Car's Engine Size"
      ],
      "metadata": {
        "id": "YNZcVGqHDBrn"
      }
    },
    {
      "cell_type": "code",
      "source": [
        "import pandas as pd\n",
        "import numpy as np\n",
        "import matplotlib.pyplot as plt\n",
        "import seaborn as sns"
      ],
      "metadata": {
        "id": "9jU-z50SC_pr"
      },
      "execution_count": 1,
      "outputs": []
    },
    {
      "cell_type": "code",
      "execution_count": 2,
      "metadata": {
        "colab": {
          "base_uri": "https://localhost:8080/"
        },
        "id": "xUbnbxx7CtXQ",
        "outputId": "5b723177-33cb-45e0-de4b-749b1b468705"
      },
      "outputs": [
        {
          "output_type": "stream",
          "name": "stdout",
          "text": [
            "Drive already mounted at /content/drive; to attempt to forcibly remount, call drive.mount(\"/content/drive\", force_remount=True).\n"
          ]
        }
      ],
      "source": [
        "from google.colab import drive\n",
        "drive.mount('/content/drive')"
      ]
    },
    {
      "cell_type": "code",
      "source": [
        "cars = pd.read_csv(\"/content/drive/MyDrive/ford.csv\")"
      ],
      "metadata": {
        "id": "gQv8T-BVDsNX"
      },
      "execution_count": 3,
      "outputs": []
    },
    {
      "cell_type": "markdown",
      "source": [
        "## 1. EDA"
      ],
      "metadata": {
        "id": "mJrfnw_CD6zT"
      }
    },
    {
      "cell_type": "code",
      "source": [
        "cars.head()"
      ],
      "metadata": {
        "colab": {
          "base_uri": "https://localhost:8080/",
          "height": 0
        },
        "id": "FBC08_5MDxst",
        "outputId": "a6e6c398-19b7-4dbe-8e7b-7f99a5067d66"
      },
      "execution_count": 4,
      "outputs": [
        {
          "output_type": "execute_result",
          "data": {
            "text/plain": [
              "     model  year  price transmission  mileage fuelType  tax   mpg  engineSize\n",
              "0   Fiesta  2017  12000    Automatic    15944   Petrol  150  57.7         1.0\n",
              "1    Focus  2018  14000       Manual     9083   Petrol  150  57.7         1.0\n",
              "2    Focus  2017  13000       Manual    12456   Petrol  150  57.7         1.0\n",
              "3   Fiesta  2019  17500       Manual    10460   Petrol  145  40.3         1.5\n",
              "4   Fiesta  2019  16500    Automatic     1482   Petrol  145  48.7         1.0"
            ],
            "text/html": [
              "\n",
              "  <div id=\"df-489a31d2-ed1a-4d3d-a85b-498771a4d720\">\n",
              "    <div class=\"colab-df-container\">\n",
              "      <div>\n",
              "<style scoped>\n",
              "    .dataframe tbody tr th:only-of-type {\n",
              "        vertical-align: middle;\n",
              "    }\n",
              "\n",
              "    .dataframe tbody tr th {\n",
              "        vertical-align: top;\n",
              "    }\n",
              "\n",
              "    .dataframe thead th {\n",
              "        text-align: right;\n",
              "    }\n",
              "</style>\n",
              "<table border=\"1\" class=\"dataframe\">\n",
              "  <thead>\n",
              "    <tr style=\"text-align: right;\">\n",
              "      <th></th>\n",
              "      <th>model</th>\n",
              "      <th>year</th>\n",
              "      <th>price</th>\n",
              "      <th>transmission</th>\n",
              "      <th>mileage</th>\n",
              "      <th>fuelType</th>\n",
              "      <th>tax</th>\n",
              "      <th>mpg</th>\n",
              "      <th>engineSize</th>\n",
              "    </tr>\n",
              "  </thead>\n",
              "  <tbody>\n",
              "    <tr>\n",
              "      <th>0</th>\n",
              "      <td>Fiesta</td>\n",
              "      <td>2017</td>\n",
              "      <td>12000</td>\n",
              "      <td>Automatic</td>\n",
              "      <td>15944</td>\n",
              "      <td>Petrol</td>\n",
              "      <td>150</td>\n",
              "      <td>57.7</td>\n",
              "      <td>1.0</td>\n",
              "    </tr>\n",
              "    <tr>\n",
              "      <th>1</th>\n",
              "      <td>Focus</td>\n",
              "      <td>2018</td>\n",
              "      <td>14000</td>\n",
              "      <td>Manual</td>\n",
              "      <td>9083</td>\n",
              "      <td>Petrol</td>\n",
              "      <td>150</td>\n",
              "      <td>57.7</td>\n",
              "      <td>1.0</td>\n",
              "    </tr>\n",
              "    <tr>\n",
              "      <th>2</th>\n",
              "      <td>Focus</td>\n",
              "      <td>2017</td>\n",
              "      <td>13000</td>\n",
              "      <td>Manual</td>\n",
              "      <td>12456</td>\n",
              "      <td>Petrol</td>\n",
              "      <td>150</td>\n",
              "      <td>57.7</td>\n",
              "      <td>1.0</td>\n",
              "    </tr>\n",
              "    <tr>\n",
              "      <th>3</th>\n",
              "      <td>Fiesta</td>\n",
              "      <td>2019</td>\n",
              "      <td>17500</td>\n",
              "      <td>Manual</td>\n",
              "      <td>10460</td>\n",
              "      <td>Petrol</td>\n",
              "      <td>145</td>\n",
              "      <td>40.3</td>\n",
              "      <td>1.5</td>\n",
              "    </tr>\n",
              "    <tr>\n",
              "      <th>4</th>\n",
              "      <td>Fiesta</td>\n",
              "      <td>2019</td>\n",
              "      <td>16500</td>\n",
              "      <td>Automatic</td>\n",
              "      <td>1482</td>\n",
              "      <td>Petrol</td>\n",
              "      <td>145</td>\n",
              "      <td>48.7</td>\n",
              "      <td>1.0</td>\n",
              "    </tr>\n",
              "  </tbody>\n",
              "</table>\n",
              "</div>\n",
              "      <button class=\"colab-df-convert\" onclick=\"convertToInteractive('df-489a31d2-ed1a-4d3d-a85b-498771a4d720')\"\n",
              "              title=\"Convert this dataframe to an interactive table.\"\n",
              "              style=\"display:none;\">\n",
              "        \n",
              "  <svg xmlns=\"http://www.w3.org/2000/svg\" height=\"24px\"viewBox=\"0 0 24 24\"\n",
              "       width=\"24px\">\n",
              "    <path d=\"M0 0h24v24H0V0z\" fill=\"none\"/>\n",
              "    <path d=\"M18.56 5.44l.94 2.06.94-2.06 2.06-.94-2.06-.94-.94-2.06-.94 2.06-2.06.94zm-11 1L8.5 8.5l.94-2.06 2.06-.94-2.06-.94L8.5 2.5l-.94 2.06-2.06.94zm10 10l.94 2.06.94-2.06 2.06-.94-2.06-.94-.94-2.06-.94 2.06-2.06.94z\"/><path d=\"M17.41 7.96l-1.37-1.37c-.4-.4-.92-.59-1.43-.59-.52 0-1.04.2-1.43.59L10.3 9.45l-7.72 7.72c-.78.78-.78 2.05 0 2.83L4 21.41c.39.39.9.59 1.41.59.51 0 1.02-.2 1.41-.59l7.78-7.78 2.81-2.81c.8-.78.8-2.07 0-2.86zM5.41 20L4 18.59l7.72-7.72 1.47 1.35L5.41 20z\"/>\n",
              "  </svg>\n",
              "      </button>\n",
              "      \n",
              "  <style>\n",
              "    .colab-df-container {\n",
              "      display:flex;\n",
              "      flex-wrap:wrap;\n",
              "      gap: 12px;\n",
              "    }\n",
              "\n",
              "    .colab-df-convert {\n",
              "      background-color: #E8F0FE;\n",
              "      border: none;\n",
              "      border-radius: 50%;\n",
              "      cursor: pointer;\n",
              "      display: none;\n",
              "      fill: #1967D2;\n",
              "      height: 32px;\n",
              "      padding: 0 0 0 0;\n",
              "      width: 32px;\n",
              "    }\n",
              "\n",
              "    .colab-df-convert:hover {\n",
              "      background-color: #E2EBFA;\n",
              "      box-shadow: 0px 1px 2px rgba(60, 64, 67, 0.3), 0px 1px 3px 1px rgba(60, 64, 67, 0.15);\n",
              "      fill: #174EA6;\n",
              "    }\n",
              "\n",
              "    [theme=dark] .colab-df-convert {\n",
              "      background-color: #3B4455;\n",
              "      fill: #D2E3FC;\n",
              "    }\n",
              "\n",
              "    [theme=dark] .colab-df-convert:hover {\n",
              "      background-color: #434B5C;\n",
              "      box-shadow: 0px 1px 3px 1px rgba(0, 0, 0, 0.15);\n",
              "      filter: drop-shadow(0px 1px 2px rgba(0, 0, 0, 0.3));\n",
              "      fill: #FFFFFF;\n",
              "    }\n",
              "  </style>\n",
              "\n",
              "      <script>\n",
              "        const buttonEl =\n",
              "          document.querySelector('#df-489a31d2-ed1a-4d3d-a85b-498771a4d720 button.colab-df-convert');\n",
              "        buttonEl.style.display =\n",
              "          google.colab.kernel.accessAllowed ? 'block' : 'none';\n",
              "\n",
              "        async function convertToInteractive(key) {\n",
              "          const element = document.querySelector('#df-489a31d2-ed1a-4d3d-a85b-498771a4d720');\n",
              "          const dataTable =\n",
              "            await google.colab.kernel.invokeFunction('convertToInteractive',\n",
              "                                                     [key], {});\n",
              "          if (!dataTable) return;\n",
              "\n",
              "          const docLinkHtml = 'Like what you see? Visit the ' +\n",
              "            '<a target=\"_blank\" href=https://colab.research.google.com/notebooks/data_table.ipynb>data table notebook</a>'\n",
              "            + ' to learn more about interactive tables.';\n",
              "          element.innerHTML = '';\n",
              "          dataTable['output_type'] = 'display_data';\n",
              "          await google.colab.output.renderOutput(dataTable, element);\n",
              "          const docLink = document.createElement('div');\n",
              "          docLink.innerHTML = docLinkHtml;\n",
              "          element.appendChild(docLink);\n",
              "        }\n",
              "      </script>\n",
              "    </div>\n",
              "  </div>\n",
              "  "
            ]
          },
          "metadata": {},
          "execution_count": 4
        }
      ]
    },
    {
      "cell_type": "code",
      "source": [
        "cars.shape #17966개의 행, 9개의 열"
      ],
      "metadata": {
        "colab": {
          "base_uri": "https://localhost:8080/"
        },
        "id": "_tP9MH4iEc7h",
        "outputId": "02f7bce2-dfb3-4534-ac09-f345b4f3814e"
      },
      "execution_count": 5,
      "outputs": [
        {
          "output_type": "execute_result",
          "data": {
            "text/plain": [
              "(17966, 9)"
            ]
          },
          "metadata": {},
          "execution_count": 5
        }
      ]
    },
    {
      "cell_type": "code",
      "source": [
        "cars.info() #결측치는 없음"
      ],
      "metadata": {
        "colab": {
          "base_uri": "https://localhost:8080/"
        },
        "id": "74NTQoafElk5",
        "outputId": "b0217550-c886-474e-c416-3f9766a1a874"
      },
      "execution_count": 6,
      "outputs": [
        {
          "output_type": "stream",
          "name": "stdout",
          "text": [
            "<class 'pandas.core.frame.DataFrame'>\n",
            "RangeIndex: 17966 entries, 0 to 17965\n",
            "Data columns (total 9 columns):\n",
            " #   Column        Non-Null Count  Dtype  \n",
            "---  ------        --------------  -----  \n",
            " 0   model         17966 non-null  object \n",
            " 1   year          17966 non-null  int64  \n",
            " 2   price         17966 non-null  int64  \n",
            " 3   transmission  17966 non-null  object \n",
            " 4   mileage       17966 non-null  int64  \n",
            " 5   fuelType      17966 non-null  object \n",
            " 6   tax           17966 non-null  int64  \n",
            " 7   mpg           17966 non-null  float64\n",
            " 8   engineSize    17966 non-null  float64\n",
            "dtypes: float64(2), int64(4), object(3)\n",
            "memory usage: 1.2+ MB\n"
          ]
        }
      ]
    },
    {
      "cell_type": "code",
      "source": [
        "cars.isna().sum() #다시 확인"
      ],
      "metadata": {
        "colab": {
          "base_uri": "https://localhost:8080/"
        },
        "id": "apZ3JvT6FBAq",
        "outputId": "7c3910c7-6ec2-4716-ea3c-14411a6d4ccb"
      },
      "execution_count": 7,
      "outputs": [
        {
          "output_type": "execute_result",
          "data": {
            "text/plain": [
              "model           0\n",
              "year            0\n",
              "price           0\n",
              "transmission    0\n",
              "mileage         0\n",
              "fuelType        0\n",
              "tax             0\n",
              "mpg             0\n",
              "engineSize      0\n",
              "dtype: int64"
            ]
          },
          "metadata": {},
          "execution_count": 7
        }
      ]
    },
    {
      "cell_type": "markdown",
      "source": [
        "### 1. model"
      ],
      "metadata": {
        "id": "F2v1cxONWTn_"
      }
    },
    {
      "cell_type": "code",
      "source": [
        "cars['model'].unique()"
      ],
      "metadata": {
        "colab": {
          "base_uri": "https://localhost:8080/"
        },
        "id": "leNKLlb8FJsV",
        "outputId": "81d146b1-9fa4-4d42-d8c1-7c3842e566fa"
      },
      "execution_count": 8,
      "outputs": [
        {
          "output_type": "execute_result",
          "data": {
            "text/plain": [
              "array([' Fiesta', ' Focus', ' Puma', ' Kuga', ' EcoSport', ' C-MAX',\n",
              "       ' Mondeo', ' Ka+', ' Tourneo Custom', ' S-MAX', ' B-MAX', ' Edge',\n",
              "       ' Tourneo Connect', ' Grand C-MAX', ' KA', ' Galaxy', ' Mustang',\n",
              "       ' Grand Tourneo Connect', ' Fusion', ' Ranger', ' Streetka',\n",
              "       ' Escort', ' Transit Tourneo', 'Focus'], dtype=object)"
            ]
          },
          "metadata": {},
          "execution_count": 8
        }
      ]
    },
    {
      "cell_type": "markdown",
      "source": [
        "### 2. year"
      ],
      "metadata": {
        "id": "ytl6o_pEWYmE"
      }
    },
    {
      "cell_type": "code",
      "source": [
        "cars['year'].unique() #2060년 이상치"
      ],
      "metadata": {
        "colab": {
          "base_uri": "https://localhost:8080/"
        },
        "id": "YrGSy9P8FvMc",
        "outputId": "15c90d2b-8f56-47be-8828-a85f6ad4c250"
      },
      "execution_count": 9,
      "outputs": [
        {
          "output_type": "execute_result",
          "data": {
            "text/plain": [
              "array([2017, 2018, 2019, 2015, 2014, 2016, 2013, 2020, 2012, 2008, 2010,\n",
              "       2009, 2011, 1998, 2007, 2005, 2006, 2002, 2003, 1996, 2004, 2000,\n",
              "       2060])"
            ]
          },
          "metadata": {},
          "execution_count": 9
        }
      ]
    },
    {
      "cell_type": "code",
      "source": [
        "cars[cars['year']==2060]"
      ],
      "metadata": {
        "colab": {
          "base_uri": "https://localhost:8080/",
          "height": 0
        },
        "id": "1ELoaA9sGUdo",
        "outputId": "5586af3c-c5d5-4c15-bc6a-910ee0fb28e8"
      },
      "execution_count": 10,
      "outputs": [
        {
          "output_type": "execute_result",
          "data": {
            "text/plain": [
              "         model  year  price transmission  mileage fuelType  tax   mpg  \\\n",
              "17726   Fiesta  2060   6495    Automatic    54807   Petrol  205  42.8   \n",
              "\n",
              "       engineSize  \n",
              "17726         1.4  "
            ],
            "text/html": [
              "\n",
              "  <div id=\"df-35a60621-f399-437f-a9eb-fdf05d866bef\">\n",
              "    <div class=\"colab-df-container\">\n",
              "      <div>\n",
              "<style scoped>\n",
              "    .dataframe tbody tr th:only-of-type {\n",
              "        vertical-align: middle;\n",
              "    }\n",
              "\n",
              "    .dataframe tbody tr th {\n",
              "        vertical-align: top;\n",
              "    }\n",
              "\n",
              "    .dataframe thead th {\n",
              "        text-align: right;\n",
              "    }\n",
              "</style>\n",
              "<table border=\"1\" class=\"dataframe\">\n",
              "  <thead>\n",
              "    <tr style=\"text-align: right;\">\n",
              "      <th></th>\n",
              "      <th>model</th>\n",
              "      <th>year</th>\n",
              "      <th>price</th>\n",
              "      <th>transmission</th>\n",
              "      <th>mileage</th>\n",
              "      <th>fuelType</th>\n",
              "      <th>tax</th>\n",
              "      <th>mpg</th>\n",
              "      <th>engineSize</th>\n",
              "    </tr>\n",
              "  </thead>\n",
              "  <tbody>\n",
              "    <tr>\n",
              "      <th>17726</th>\n",
              "      <td>Fiesta</td>\n",
              "      <td>2060</td>\n",
              "      <td>6495</td>\n",
              "      <td>Automatic</td>\n",
              "      <td>54807</td>\n",
              "      <td>Petrol</td>\n",
              "      <td>205</td>\n",
              "      <td>42.8</td>\n",
              "      <td>1.4</td>\n",
              "    </tr>\n",
              "  </tbody>\n",
              "</table>\n",
              "</div>\n",
              "      <button class=\"colab-df-convert\" onclick=\"convertToInteractive('df-35a60621-f399-437f-a9eb-fdf05d866bef')\"\n",
              "              title=\"Convert this dataframe to an interactive table.\"\n",
              "              style=\"display:none;\">\n",
              "        \n",
              "  <svg xmlns=\"http://www.w3.org/2000/svg\" height=\"24px\"viewBox=\"0 0 24 24\"\n",
              "       width=\"24px\">\n",
              "    <path d=\"M0 0h24v24H0V0z\" fill=\"none\"/>\n",
              "    <path d=\"M18.56 5.44l.94 2.06.94-2.06 2.06-.94-2.06-.94-.94-2.06-.94 2.06-2.06.94zm-11 1L8.5 8.5l.94-2.06 2.06-.94-2.06-.94L8.5 2.5l-.94 2.06-2.06.94zm10 10l.94 2.06.94-2.06 2.06-.94-2.06-.94-.94-2.06-.94 2.06-2.06.94z\"/><path d=\"M17.41 7.96l-1.37-1.37c-.4-.4-.92-.59-1.43-.59-.52 0-1.04.2-1.43.59L10.3 9.45l-7.72 7.72c-.78.78-.78 2.05 0 2.83L4 21.41c.39.39.9.59 1.41.59.51 0 1.02-.2 1.41-.59l7.78-7.78 2.81-2.81c.8-.78.8-2.07 0-2.86zM5.41 20L4 18.59l7.72-7.72 1.47 1.35L5.41 20z\"/>\n",
              "  </svg>\n",
              "      </button>\n",
              "      \n",
              "  <style>\n",
              "    .colab-df-container {\n",
              "      display:flex;\n",
              "      flex-wrap:wrap;\n",
              "      gap: 12px;\n",
              "    }\n",
              "\n",
              "    .colab-df-convert {\n",
              "      background-color: #E8F0FE;\n",
              "      border: none;\n",
              "      border-radius: 50%;\n",
              "      cursor: pointer;\n",
              "      display: none;\n",
              "      fill: #1967D2;\n",
              "      height: 32px;\n",
              "      padding: 0 0 0 0;\n",
              "      width: 32px;\n",
              "    }\n",
              "\n",
              "    .colab-df-convert:hover {\n",
              "      background-color: #E2EBFA;\n",
              "      box-shadow: 0px 1px 2px rgba(60, 64, 67, 0.3), 0px 1px 3px 1px rgba(60, 64, 67, 0.15);\n",
              "      fill: #174EA6;\n",
              "    }\n",
              "\n",
              "    [theme=dark] .colab-df-convert {\n",
              "      background-color: #3B4455;\n",
              "      fill: #D2E3FC;\n",
              "    }\n",
              "\n",
              "    [theme=dark] .colab-df-convert:hover {\n",
              "      background-color: #434B5C;\n",
              "      box-shadow: 0px 1px 3px 1px rgba(0, 0, 0, 0.15);\n",
              "      filter: drop-shadow(0px 1px 2px rgba(0, 0, 0, 0.3));\n",
              "      fill: #FFFFFF;\n",
              "    }\n",
              "  </style>\n",
              "\n",
              "      <script>\n",
              "        const buttonEl =\n",
              "          document.querySelector('#df-35a60621-f399-437f-a9eb-fdf05d866bef button.colab-df-convert');\n",
              "        buttonEl.style.display =\n",
              "          google.colab.kernel.accessAllowed ? 'block' : 'none';\n",
              "\n",
              "        async function convertToInteractive(key) {\n",
              "          const element = document.querySelector('#df-35a60621-f399-437f-a9eb-fdf05d866bef');\n",
              "          const dataTable =\n",
              "            await google.colab.kernel.invokeFunction('convertToInteractive',\n",
              "                                                     [key], {});\n",
              "          if (!dataTable) return;\n",
              "\n",
              "          const docLinkHtml = 'Like what you see? Visit the ' +\n",
              "            '<a target=\"_blank\" href=https://colab.research.google.com/notebooks/data_table.ipynb>data table notebook</a>'\n",
              "            + ' to learn more about interactive tables.';\n",
              "          element.innerHTML = '';\n",
              "          dataTable['output_type'] = 'display_data';\n",
              "          await google.colab.output.renderOutput(dataTable, element);\n",
              "          const docLink = document.createElement('div');\n",
              "          docLink.innerHTML = docLinkHtml;\n",
              "          element.appendChild(docLink);\n",
              "        }\n",
              "      </script>\n",
              "    </div>\n",
              "  </div>\n",
              "  "
            ]
          },
          "metadata": {},
          "execution_count": 10
        }
      ]
    },
    {
      "cell_type": "markdown",
      "source": [
        "### 3. tax"
      ],
      "metadata": {
        "id": "NkcECStbWbpY"
      }
    },
    {
      "cell_type": "code",
      "source": [
        "cars['tax'].unique()"
      ],
      "metadata": {
        "colab": {
          "base_uri": "https://localhost:8080/"
        },
        "id": "Df6QVAwQHmQ6",
        "outputId": "08be22ce-fc13-4e56-cffb-e4998f9fe99f"
      },
      "execution_count": 11,
      "outputs": [
        {
          "output_type": "execute_result",
          "data": {
            "text/plain": [
              "array([150, 145,   0,  20, 160, 125,  30, 235, 240, 200, 165, 140, 570,\n",
              "       205, 260, 580, 135, 265, 300, 195, 120, 555, 325, 155, 270, 115,\n",
              "       110, 190, 210, 185, 330, 230, 220, 305, 290,  22])"
            ]
          },
          "metadata": {},
          "execution_count": 11
        }
      ]
    },
    {
      "cell_type": "code",
      "source": [
        "sum(cars['tax']==0)"
      ],
      "metadata": {
        "colab": {
          "base_uri": "https://localhost:8080/"
        },
        "id": "VChFaSHgQlzK",
        "outputId": "e3e944a4-989f-40c7-de1a-bb4812a7cd7e"
      },
      "execution_count": 12,
      "outputs": [
        {
          "output_type": "execute_result",
          "data": {
            "text/plain": [
              "2153"
            ]
          },
          "metadata": {},
          "execution_count": 12
        }
      ]
    },
    {
      "cell_type": "markdown",
      "source": [
        "'tax'==0 이 과연 결측치인지?\n",
        "- 결측치로 처리 o : 행 제거 or 결측치 대체\n",
        "- 결측치로 처리 x : 그대로 진행\n",
        "\n",
        "현재 케이스에서는 행 제거를 하기에는 tax가 0인 행이 너무 많음. 따라서 결측치 대체가 적절한 방안. 결측치를 대체한다면 model 별 평균/중앙값으로 대체하는 것이 적절해 보임. >> model 별 tax 값을 파악해서 insight를 얻어보자!"
      ],
      "metadata": {
        "id": "XDfXRvQwUOV8"
      }
    },
    {
      "cell_type": "code",
      "source": [
        "grouped = cars['tax'].groupby(cars['model']) #model 별로 group화"
      ],
      "metadata": {
        "id": "gxz7FkDDMWhb"
      },
      "execution_count": 13,
      "outputs": []
    },
    {
      "cell_type": "code",
      "source": [
        "grouped.mean() #model 별 평균"
      ],
      "metadata": {
        "colab": {
          "base_uri": "https://localhost:8080/"
        },
        "id": "V0Cl3U7AOA1P",
        "outputId": "08c6c7bd-2f90-40c7-d9c2-87c22acea2b2"
      },
      "execution_count": 14,
      "outputs": [
        {
          "output_type": "execute_result",
          "data": {
            "text/plain": [
              "model\n",
              " B-MAX                     90.957746\n",
              " C-MAX                     71.712707\n",
              " EcoSport                 136.342957\n",
              " Edge                     156.899038\n",
              " Escort                   265.000000\n",
              " Fiesta                   100.877688\n",
              " Focus                    111.156277\n",
              " Fusion                   183.750000\n",
              " Galaxy                   145.855263\n",
              " Grand C-MAX               72.834008\n",
              " Grand Tourneo Connect    114.152542\n",
              " KA                        56.180905\n",
              " Ka+                      134.830508\n",
              " Kuga                     145.719101\n",
              " Mondeo                    99.619772\n",
              " Mustang                  210.614035\n",
              " Puma                     148.000000\n",
              " Ranger                   240.000000\n",
              " S-MAX                    150.388514\n",
              " Streetka                 280.000000\n",
              " Tourneo Connect          108.787879\n",
              " Tourneo Custom           164.347826\n",
              " Transit Tourneo          235.000000\n",
              "Focus                      22.000000\n",
              "Name: tax, dtype: float64"
            ]
          },
          "metadata": {},
          "execution_count": 14
        }
      ]
    },
    {
      "cell_type": "code",
      "source": [
        "grouped.median() #model 별 중앙값"
      ],
      "metadata": {
        "colab": {
          "base_uri": "https://localhost:8080/"
        },
        "id": "lX8IngMvRHvq",
        "outputId": "55e255d8-83b6-46e0-90f9-6c49091d6efe"
      },
      "execution_count": 15,
      "outputs": [
        {
          "output_type": "execute_result",
          "data": {
            "text/plain": [
              "model\n",
              " B-MAX                    145.0\n",
              " C-MAX                     30.0\n",
              " EcoSport                 145.0\n",
              " Edge                     150.0\n",
              " Escort                   265.0\n",
              " Fiesta                   145.0\n",
              " Focus                    145.0\n",
              " Fusion                   200.0\n",
              " Galaxy                   145.0\n",
              " Grand C-MAX               30.0\n",
              " Grand Tourneo Connect    125.0\n",
              " KA                        30.0\n",
              " Ka+                      145.0\n",
              " Kuga                     145.0\n",
              " Mondeo                   135.0\n",
              " Mustang                  145.0\n",
              " Puma                     145.0\n",
              " Ranger                   240.0\n",
              " S-MAX                    145.0\n",
              " Streetka                 280.0\n",
              " Tourneo Connect          125.0\n",
              " Tourneo Custom           145.0\n",
              " Transit Tourneo          235.0\n",
              "Focus                      22.0\n",
              "Name: tax, dtype: float64"
            ]
          },
          "metadata": {},
          "execution_count": 15
        }
      ]
    },
    {
      "cell_type": "code",
      "source": [
        "grouped_tax = pd.DataFrame([grouped.mean(), grouped.median()]).T\n",
        "grouped_tax"
      ],
      "metadata": {
        "colab": {
          "base_uri": "https://localhost:8080/",
          "height": 0
        },
        "id": "Z1YhN7zRRSpA",
        "outputId": "cef1eced-c67d-4394-c147-767a536534ab"
      },
      "execution_count": 16,
      "outputs": [
        {
          "output_type": "execute_result",
          "data": {
            "text/plain": [
              "                               tax    tax\n",
              "model                                    \n",
              " B-MAX                   90.957746  145.0\n",
              " C-MAX                   71.712707   30.0\n",
              " EcoSport               136.342957  145.0\n",
              " Edge                   156.899038  150.0\n",
              " Escort                 265.000000  265.0\n",
              " Fiesta                 100.877688  145.0\n",
              " Focus                  111.156277  145.0\n",
              " Fusion                 183.750000  200.0\n",
              " Galaxy                 145.855263  145.0\n",
              " Grand C-MAX             72.834008   30.0\n",
              " Grand Tourneo Connect  114.152542  125.0\n",
              " KA                      56.180905   30.0\n",
              " Ka+                    134.830508  145.0\n",
              " Kuga                   145.719101  145.0\n",
              " Mondeo                  99.619772  135.0\n",
              " Mustang                210.614035  145.0\n",
              " Puma                   148.000000  145.0\n",
              " Ranger                 240.000000  240.0\n",
              " S-MAX                  150.388514  145.0\n",
              " Streetka               280.000000  280.0\n",
              " Tourneo Connect        108.787879  125.0\n",
              " Tourneo Custom         164.347826  145.0\n",
              " Transit Tourneo        235.000000  235.0\n",
              "Focus                    22.000000   22.0"
            ],
            "text/html": [
              "\n",
              "  <div id=\"df-49ae1fbd-2b25-423d-99f5-1b339d5b6804\">\n",
              "    <div class=\"colab-df-container\">\n",
              "      <div>\n",
              "<style scoped>\n",
              "    .dataframe tbody tr th:only-of-type {\n",
              "        vertical-align: middle;\n",
              "    }\n",
              "\n",
              "    .dataframe tbody tr th {\n",
              "        vertical-align: top;\n",
              "    }\n",
              "\n",
              "    .dataframe thead th {\n",
              "        text-align: right;\n",
              "    }\n",
              "</style>\n",
              "<table border=\"1\" class=\"dataframe\">\n",
              "  <thead>\n",
              "    <tr style=\"text-align: right;\">\n",
              "      <th></th>\n",
              "      <th>tax</th>\n",
              "      <th>tax</th>\n",
              "    </tr>\n",
              "    <tr>\n",
              "      <th>model</th>\n",
              "      <th></th>\n",
              "      <th></th>\n",
              "    </tr>\n",
              "  </thead>\n",
              "  <tbody>\n",
              "    <tr>\n",
              "      <th>B-MAX</th>\n",
              "      <td>90.957746</td>\n",
              "      <td>145.0</td>\n",
              "    </tr>\n",
              "    <tr>\n",
              "      <th>C-MAX</th>\n",
              "      <td>71.712707</td>\n",
              "      <td>30.0</td>\n",
              "    </tr>\n",
              "    <tr>\n",
              "      <th>EcoSport</th>\n",
              "      <td>136.342957</td>\n",
              "      <td>145.0</td>\n",
              "    </tr>\n",
              "    <tr>\n",
              "      <th>Edge</th>\n",
              "      <td>156.899038</td>\n",
              "      <td>150.0</td>\n",
              "    </tr>\n",
              "    <tr>\n",
              "      <th>Escort</th>\n",
              "      <td>265.000000</td>\n",
              "      <td>265.0</td>\n",
              "    </tr>\n",
              "    <tr>\n",
              "      <th>Fiesta</th>\n",
              "      <td>100.877688</td>\n",
              "      <td>145.0</td>\n",
              "    </tr>\n",
              "    <tr>\n",
              "      <th>Focus</th>\n",
              "      <td>111.156277</td>\n",
              "      <td>145.0</td>\n",
              "    </tr>\n",
              "    <tr>\n",
              "      <th>Fusion</th>\n",
              "      <td>183.750000</td>\n",
              "      <td>200.0</td>\n",
              "    </tr>\n",
              "    <tr>\n",
              "      <th>Galaxy</th>\n",
              "      <td>145.855263</td>\n",
              "      <td>145.0</td>\n",
              "    </tr>\n",
              "    <tr>\n",
              "      <th>Grand C-MAX</th>\n",
              "      <td>72.834008</td>\n",
              "      <td>30.0</td>\n",
              "    </tr>\n",
              "    <tr>\n",
              "      <th>Grand Tourneo Connect</th>\n",
              "      <td>114.152542</td>\n",
              "      <td>125.0</td>\n",
              "    </tr>\n",
              "    <tr>\n",
              "      <th>KA</th>\n",
              "      <td>56.180905</td>\n",
              "      <td>30.0</td>\n",
              "    </tr>\n",
              "    <tr>\n",
              "      <th>Ka+</th>\n",
              "      <td>134.830508</td>\n",
              "      <td>145.0</td>\n",
              "    </tr>\n",
              "    <tr>\n",
              "      <th>Kuga</th>\n",
              "      <td>145.719101</td>\n",
              "      <td>145.0</td>\n",
              "    </tr>\n",
              "    <tr>\n",
              "      <th>Mondeo</th>\n",
              "      <td>99.619772</td>\n",
              "      <td>135.0</td>\n",
              "    </tr>\n",
              "    <tr>\n",
              "      <th>Mustang</th>\n",
              "      <td>210.614035</td>\n",
              "      <td>145.0</td>\n",
              "    </tr>\n",
              "    <tr>\n",
              "      <th>Puma</th>\n",
              "      <td>148.000000</td>\n",
              "      <td>145.0</td>\n",
              "    </tr>\n",
              "    <tr>\n",
              "      <th>Ranger</th>\n",
              "      <td>240.000000</td>\n",
              "      <td>240.0</td>\n",
              "    </tr>\n",
              "    <tr>\n",
              "      <th>S-MAX</th>\n",
              "      <td>150.388514</td>\n",
              "      <td>145.0</td>\n",
              "    </tr>\n",
              "    <tr>\n",
              "      <th>Streetka</th>\n",
              "      <td>280.000000</td>\n",
              "      <td>280.0</td>\n",
              "    </tr>\n",
              "    <tr>\n",
              "      <th>Tourneo Connect</th>\n",
              "      <td>108.787879</td>\n",
              "      <td>125.0</td>\n",
              "    </tr>\n",
              "    <tr>\n",
              "      <th>Tourneo Custom</th>\n",
              "      <td>164.347826</td>\n",
              "      <td>145.0</td>\n",
              "    </tr>\n",
              "    <tr>\n",
              "      <th>Transit Tourneo</th>\n",
              "      <td>235.000000</td>\n",
              "      <td>235.0</td>\n",
              "    </tr>\n",
              "    <tr>\n",
              "      <th>Focus</th>\n",
              "      <td>22.000000</td>\n",
              "      <td>22.0</td>\n",
              "    </tr>\n",
              "  </tbody>\n",
              "</table>\n",
              "</div>\n",
              "      <button class=\"colab-df-convert\" onclick=\"convertToInteractive('df-49ae1fbd-2b25-423d-99f5-1b339d5b6804')\"\n",
              "              title=\"Convert this dataframe to an interactive table.\"\n",
              "              style=\"display:none;\">\n",
              "        \n",
              "  <svg xmlns=\"http://www.w3.org/2000/svg\" height=\"24px\"viewBox=\"0 0 24 24\"\n",
              "       width=\"24px\">\n",
              "    <path d=\"M0 0h24v24H0V0z\" fill=\"none\"/>\n",
              "    <path d=\"M18.56 5.44l.94 2.06.94-2.06 2.06-.94-2.06-.94-.94-2.06-.94 2.06-2.06.94zm-11 1L8.5 8.5l.94-2.06 2.06-.94-2.06-.94L8.5 2.5l-.94 2.06-2.06.94zm10 10l.94 2.06.94-2.06 2.06-.94-2.06-.94-.94-2.06-.94 2.06-2.06.94z\"/><path d=\"M17.41 7.96l-1.37-1.37c-.4-.4-.92-.59-1.43-.59-.52 0-1.04.2-1.43.59L10.3 9.45l-7.72 7.72c-.78.78-.78 2.05 0 2.83L4 21.41c.39.39.9.59 1.41.59.51 0 1.02-.2 1.41-.59l7.78-7.78 2.81-2.81c.8-.78.8-2.07 0-2.86zM5.41 20L4 18.59l7.72-7.72 1.47 1.35L5.41 20z\"/>\n",
              "  </svg>\n",
              "      </button>\n",
              "      \n",
              "  <style>\n",
              "    .colab-df-container {\n",
              "      display:flex;\n",
              "      flex-wrap:wrap;\n",
              "      gap: 12px;\n",
              "    }\n",
              "\n",
              "    .colab-df-convert {\n",
              "      background-color: #E8F0FE;\n",
              "      border: none;\n",
              "      border-radius: 50%;\n",
              "      cursor: pointer;\n",
              "      display: none;\n",
              "      fill: #1967D2;\n",
              "      height: 32px;\n",
              "      padding: 0 0 0 0;\n",
              "      width: 32px;\n",
              "    }\n",
              "\n",
              "    .colab-df-convert:hover {\n",
              "      background-color: #E2EBFA;\n",
              "      box-shadow: 0px 1px 2px rgba(60, 64, 67, 0.3), 0px 1px 3px 1px rgba(60, 64, 67, 0.15);\n",
              "      fill: #174EA6;\n",
              "    }\n",
              "\n",
              "    [theme=dark] .colab-df-convert {\n",
              "      background-color: #3B4455;\n",
              "      fill: #D2E3FC;\n",
              "    }\n",
              "\n",
              "    [theme=dark] .colab-df-convert:hover {\n",
              "      background-color: #434B5C;\n",
              "      box-shadow: 0px 1px 3px 1px rgba(0, 0, 0, 0.15);\n",
              "      filter: drop-shadow(0px 1px 2px rgba(0, 0, 0, 0.3));\n",
              "      fill: #FFFFFF;\n",
              "    }\n",
              "  </style>\n",
              "\n",
              "      <script>\n",
              "        const buttonEl =\n",
              "          document.querySelector('#df-49ae1fbd-2b25-423d-99f5-1b339d5b6804 button.colab-df-convert');\n",
              "        buttonEl.style.display =\n",
              "          google.colab.kernel.accessAllowed ? 'block' : 'none';\n",
              "\n",
              "        async function convertToInteractive(key) {\n",
              "          const element = document.querySelector('#df-49ae1fbd-2b25-423d-99f5-1b339d5b6804');\n",
              "          const dataTable =\n",
              "            await google.colab.kernel.invokeFunction('convertToInteractive',\n",
              "                                                     [key], {});\n",
              "          if (!dataTable) return;\n",
              "\n",
              "          const docLinkHtml = 'Like what you see? Visit the ' +\n",
              "            '<a target=\"_blank\" href=https://colab.research.google.com/notebooks/data_table.ipynb>data table notebook</a>'\n",
              "            + ' to learn more about interactive tables.';\n",
              "          element.innerHTML = '';\n",
              "          dataTable['output_type'] = 'display_data';\n",
              "          await google.colab.output.renderOutput(dataTable, element);\n",
              "          const docLink = document.createElement('div');\n",
              "          docLink.innerHTML = docLinkHtml;\n",
              "          element.appendChild(docLink);\n",
              "        }\n",
              "      </script>\n",
              "    </div>\n",
              "  </div>\n",
              "  "
            ]
          },
          "metadata": {},
          "execution_count": 16
        }
      ]
    },
    {
      "cell_type": "markdown",
      "source": [
        "평균 값과 중앙값의 차이가 크다는 것은 skewed 되어있음을 의미함. >> 결측치가 많아서 skewed 되어 있을 가능성이 있음."
      ],
      "metadata": {
        "id": "esDIthh0XOUj"
      }
    },
    {
      "cell_type": "code",
      "source": [
        "cars['model'].value_counts() #빈도가 높은 model 별로 결측치를 살펴 보자"
      ],
      "metadata": {
        "colab": {
          "base_uri": "https://localhost:8080/"
        },
        "id": "scD8UW89WNhP",
        "outputId": "d5a96823-a25b-4497-e91b-111b73b03a49"
      },
      "execution_count": 17,
      "outputs": [
        {
          "output_type": "execute_result",
          "data": {
            "text/plain": [
              " Fiesta                   6557\n",
              " Focus                    4588\n",
              " Kuga                     2225\n",
              " EcoSport                 1143\n",
              " C-MAX                     543\n",
              " Ka+                       531\n",
              " Mondeo                    526\n",
              " B-MAX                     355\n",
              " S-MAX                     296\n",
              " Grand C-MAX               247\n",
              " Galaxy                    228\n",
              " Edge                      208\n",
              " KA                        199\n",
              " Puma                       80\n",
              " Tourneo Custom             69\n",
              " Grand Tourneo Connect      59\n",
              " Mustang                    57\n",
              " Tourneo Connect            33\n",
              " Fusion                     16\n",
              " Streetka                    2\n",
              " Ranger                      1\n",
              " Escort                      1\n",
              " Transit Tourneo             1\n",
              "Focus                        1\n",
              "Name: model, dtype: int64"
            ]
          },
          "metadata": {},
          "execution_count": 17
        }
      ]
    },
    {
      "cell_type": "code",
      "source": [
        "Fiesta = cars[cars['model']==' Fiesta'] #model이 Fiesta인 자동차 중 tax가 0인 차의 개수\n",
        "sum(Fiesta['tax']==0)"
      ],
      "metadata": {
        "colab": {
          "base_uri": "https://localhost:8080/"
        },
        "id": "5F57RsCgPRhq",
        "outputId": "15b93f8e-fb5d-4e79-c457-87ff9e56253a"
      },
      "execution_count": 18,
      "outputs": [
        {
          "output_type": "execute_result",
          "data": {
            "text/plain": [
              "1537"
            ]
          },
          "metadata": {},
          "execution_count": 18
        }
      ]
    },
    {
      "cell_type": "code",
      "source": [
        "Focus = cars[cars['model']==' Focus'] #model이 Focus인 자동차 중 tax가 0인 차의 개수\n",
        "sum(Focus['tax']==0)"
      ],
      "metadata": {
        "colab": {
          "base_uri": "https://localhost:8080/"
        },
        "id": "u7ZqbNeDTOhq",
        "outputId": "5c2915dd-f6e0-43b7-bee8-faca486ebdb9"
      },
      "execution_count": 19,
      "outputs": [
        {
          "output_type": "execute_result",
          "data": {
            "text/plain": [
              "509"
            ]
          },
          "metadata": {},
          "execution_count": 19
        }
      ]
    },
    {
      "cell_type": "markdown",
      "source": [
        "Fiesta와 Focus 기종의 결측치만 합쳐도 전체 결측치 2153개 중 2046개를 차지한다. >> 모델 별로 결측치를 처리하는 게 적절하다는 근거가 될 수 있다. \n",
        "\n",
        "모델 별 평균 값 보다는 outlier에 robust한 중앙값으로 대체한다."
      ],
      "metadata": {
        "id": "EFnquKehXqXQ"
      }
    },
    {
      "cell_type": "markdown",
      "source": [
        "### 4. engineSize"
      ],
      "metadata": {
        "id": "Lam8L6VpYw7u"
      }
    },
    {
      "cell_type": "code",
      "source": [
        "cars['engineSize'].unique() #0 결측치"
      ],
      "metadata": {
        "colab": {
          "base_uri": "https://localhost:8080/"
        },
        "id": "_MaRyGIeYzeq",
        "outputId": "017e5314-bfaa-41c2-ba69-b89ee9245344"
      },
      "execution_count": 20,
      "outputs": [
        {
          "output_type": "execute_result",
          "data": {
            "text/plain": [
              "array([1. , 1.5, 1.6, 1.2, 2. , 1.1, 2.3, 1.4, 5. , 2.2, 2.5, 1.8, 1.3,\n",
              "       3.2, 0. , 1.7])"
            ]
          },
          "metadata": {},
          "execution_count": 20
        }
      ]
    },
    {
      "cell_type": "code",
      "source": [
        "sum(cars['engineSize']==0)"
      ],
      "metadata": {
        "colab": {
          "base_uri": "https://localhost:8080/"
        },
        "id": "9U_8s7Z4ZEqM",
        "outputId": "66aee72c-77de-4c11-87b9-bbfa941ba7c6"
      },
      "execution_count": 21,
      "outputs": [
        {
          "output_type": "execute_result",
          "data": {
            "text/plain": [
              "51"
            ]
          },
          "metadata": {},
          "execution_count": 21
        }
      ]
    },
    {
      "cell_type": "code",
      "source": [
        "Fiesta = cars[cars['model']==' Fiesta'] #model이 Fiesta인 자동차 중 engineSize가 0인 차의 개수\n",
        "sum(Fiesta['engineSize']==0)"
      ],
      "metadata": {
        "colab": {
          "base_uri": "https://localhost:8080/"
        },
        "id": "YIcdLoUiZNoj",
        "outputId": "c60951c4-a9b9-45ba-e6a2-cc0faac55e79"
      },
      "execution_count": 22,
      "outputs": [
        {
          "output_type": "execute_result",
          "data": {
            "text/plain": [
              "19"
            ]
          },
          "metadata": {},
          "execution_count": 22
        }
      ]
    },
    {
      "cell_type": "code",
      "source": [
        "Focus = cars[cars['model']==' Focus'] #model이 Fiesta인 자동차 중 engineSize가 0인 차의 개수\n",
        "sum(Focus['engineSize']==0)"
      ],
      "metadata": {
        "colab": {
          "base_uri": "https://localhost:8080/"
        },
        "id": "RiEqzD8fZQkA",
        "outputId": "44e03f3e-aa3c-41b5-9362-286644c1dd2d"
      },
      "execution_count": 23,
      "outputs": [
        {
          "output_type": "execute_result",
          "data": {
            "text/plain": [
              "11"
            ]
          },
          "metadata": {},
          "execution_count": 23
        }
      ]
    },
    {
      "cell_type": "markdown",
      "source": [
        "engineSize의 결측치도 tax의 결측치를 처리하는 것과 같이 모델 별 중앙값으로 대체해주면 될 듯"
      ],
      "metadata": {
        "id": "Og9hY7uyZflf"
      }
    },
    {
      "cell_type": "markdown",
      "source": [
        "### 수치형 변수 시각화"
      ],
      "metadata": {
        "id": "Uc_1fbbZZndj"
      }
    },
    {
      "cell_type": "code",
      "source": [
        "cars.describe()"
      ],
      "metadata": {
        "colab": {
          "base_uri": "https://localhost:8080/",
          "height": 0
        },
        "id": "jgazOr3rJ-E3",
        "outputId": "300926b6-0114-442c-f177-9563332491c9"
      },
      "execution_count": 24,
      "outputs": [
        {
          "output_type": "execute_result",
          "data": {
            "text/plain": [
              "               year         price        mileage           tax           mpg  \\\n",
              "count  17966.000000  17966.000000   17966.000000  17966.000000  17966.000000   \n",
              "mean    2016.866470  12279.534844   23362.608761    113.329456     57.906980   \n",
              "std        2.050336   4741.343657   19472.054349     62.012456     10.125696   \n",
              "min     1996.000000    495.000000       1.000000      0.000000     20.800000   \n",
              "25%     2016.000000   8999.000000    9987.000000     30.000000     52.300000   \n",
              "50%     2017.000000  11291.000000   18242.500000    145.000000     58.900000   \n",
              "75%     2018.000000  15299.000000   31060.000000    145.000000     65.700000   \n",
              "max     2060.000000  54995.000000  177644.000000    580.000000    201.800000   \n",
              "\n",
              "         engineSize  \n",
              "count  17966.000000  \n",
              "mean       1.350807  \n",
              "std        0.432367  \n",
              "min        0.000000  \n",
              "25%        1.000000  \n",
              "50%        1.200000  \n",
              "75%        1.500000  \n",
              "max        5.000000  "
            ],
            "text/html": [
              "\n",
              "  <div id=\"df-64f1dc7f-211a-4a87-a532-966c1d939780\">\n",
              "    <div class=\"colab-df-container\">\n",
              "      <div>\n",
              "<style scoped>\n",
              "    .dataframe tbody tr th:only-of-type {\n",
              "        vertical-align: middle;\n",
              "    }\n",
              "\n",
              "    .dataframe tbody tr th {\n",
              "        vertical-align: top;\n",
              "    }\n",
              "\n",
              "    .dataframe thead th {\n",
              "        text-align: right;\n",
              "    }\n",
              "</style>\n",
              "<table border=\"1\" class=\"dataframe\">\n",
              "  <thead>\n",
              "    <tr style=\"text-align: right;\">\n",
              "      <th></th>\n",
              "      <th>year</th>\n",
              "      <th>price</th>\n",
              "      <th>mileage</th>\n",
              "      <th>tax</th>\n",
              "      <th>mpg</th>\n",
              "      <th>engineSize</th>\n",
              "    </tr>\n",
              "  </thead>\n",
              "  <tbody>\n",
              "    <tr>\n",
              "      <th>count</th>\n",
              "      <td>17966.000000</td>\n",
              "      <td>17966.000000</td>\n",
              "      <td>17966.000000</td>\n",
              "      <td>17966.000000</td>\n",
              "      <td>17966.000000</td>\n",
              "      <td>17966.000000</td>\n",
              "    </tr>\n",
              "    <tr>\n",
              "      <th>mean</th>\n",
              "      <td>2016.866470</td>\n",
              "      <td>12279.534844</td>\n",
              "      <td>23362.608761</td>\n",
              "      <td>113.329456</td>\n",
              "      <td>57.906980</td>\n",
              "      <td>1.350807</td>\n",
              "    </tr>\n",
              "    <tr>\n",
              "      <th>std</th>\n",
              "      <td>2.050336</td>\n",
              "      <td>4741.343657</td>\n",
              "      <td>19472.054349</td>\n",
              "      <td>62.012456</td>\n",
              "      <td>10.125696</td>\n",
              "      <td>0.432367</td>\n",
              "    </tr>\n",
              "    <tr>\n",
              "      <th>min</th>\n",
              "      <td>1996.000000</td>\n",
              "      <td>495.000000</td>\n",
              "      <td>1.000000</td>\n",
              "      <td>0.000000</td>\n",
              "      <td>20.800000</td>\n",
              "      <td>0.000000</td>\n",
              "    </tr>\n",
              "    <tr>\n",
              "      <th>25%</th>\n",
              "      <td>2016.000000</td>\n",
              "      <td>8999.000000</td>\n",
              "      <td>9987.000000</td>\n",
              "      <td>30.000000</td>\n",
              "      <td>52.300000</td>\n",
              "      <td>1.000000</td>\n",
              "    </tr>\n",
              "    <tr>\n",
              "      <th>50%</th>\n",
              "      <td>2017.000000</td>\n",
              "      <td>11291.000000</td>\n",
              "      <td>18242.500000</td>\n",
              "      <td>145.000000</td>\n",
              "      <td>58.900000</td>\n",
              "      <td>1.200000</td>\n",
              "    </tr>\n",
              "    <tr>\n",
              "      <th>75%</th>\n",
              "      <td>2018.000000</td>\n",
              "      <td>15299.000000</td>\n",
              "      <td>31060.000000</td>\n",
              "      <td>145.000000</td>\n",
              "      <td>65.700000</td>\n",
              "      <td>1.500000</td>\n",
              "    </tr>\n",
              "    <tr>\n",
              "      <th>max</th>\n",
              "      <td>2060.000000</td>\n",
              "      <td>54995.000000</td>\n",
              "      <td>177644.000000</td>\n",
              "      <td>580.000000</td>\n",
              "      <td>201.800000</td>\n",
              "      <td>5.000000</td>\n",
              "    </tr>\n",
              "  </tbody>\n",
              "</table>\n",
              "</div>\n",
              "      <button class=\"colab-df-convert\" onclick=\"convertToInteractive('df-64f1dc7f-211a-4a87-a532-966c1d939780')\"\n",
              "              title=\"Convert this dataframe to an interactive table.\"\n",
              "              style=\"display:none;\">\n",
              "        \n",
              "  <svg xmlns=\"http://www.w3.org/2000/svg\" height=\"24px\"viewBox=\"0 0 24 24\"\n",
              "       width=\"24px\">\n",
              "    <path d=\"M0 0h24v24H0V0z\" fill=\"none\"/>\n",
              "    <path d=\"M18.56 5.44l.94 2.06.94-2.06 2.06-.94-2.06-.94-.94-2.06-.94 2.06-2.06.94zm-11 1L8.5 8.5l.94-2.06 2.06-.94-2.06-.94L8.5 2.5l-.94 2.06-2.06.94zm10 10l.94 2.06.94-2.06 2.06-.94-2.06-.94-.94-2.06-.94 2.06-2.06.94z\"/><path d=\"M17.41 7.96l-1.37-1.37c-.4-.4-.92-.59-1.43-.59-.52 0-1.04.2-1.43.59L10.3 9.45l-7.72 7.72c-.78.78-.78 2.05 0 2.83L4 21.41c.39.39.9.59 1.41.59.51 0 1.02-.2 1.41-.59l7.78-7.78 2.81-2.81c.8-.78.8-2.07 0-2.86zM5.41 20L4 18.59l7.72-7.72 1.47 1.35L5.41 20z\"/>\n",
              "  </svg>\n",
              "      </button>\n",
              "      \n",
              "  <style>\n",
              "    .colab-df-container {\n",
              "      display:flex;\n",
              "      flex-wrap:wrap;\n",
              "      gap: 12px;\n",
              "    }\n",
              "\n",
              "    .colab-df-convert {\n",
              "      background-color: #E8F0FE;\n",
              "      border: none;\n",
              "      border-radius: 50%;\n",
              "      cursor: pointer;\n",
              "      display: none;\n",
              "      fill: #1967D2;\n",
              "      height: 32px;\n",
              "      padding: 0 0 0 0;\n",
              "      width: 32px;\n",
              "    }\n",
              "\n",
              "    .colab-df-convert:hover {\n",
              "      background-color: #E2EBFA;\n",
              "      box-shadow: 0px 1px 2px rgba(60, 64, 67, 0.3), 0px 1px 3px 1px rgba(60, 64, 67, 0.15);\n",
              "      fill: #174EA6;\n",
              "    }\n",
              "\n",
              "    [theme=dark] .colab-df-convert {\n",
              "      background-color: #3B4455;\n",
              "      fill: #D2E3FC;\n",
              "    }\n",
              "\n",
              "    [theme=dark] .colab-df-convert:hover {\n",
              "      background-color: #434B5C;\n",
              "      box-shadow: 0px 1px 3px 1px rgba(0, 0, 0, 0.15);\n",
              "      filter: drop-shadow(0px 1px 2px rgba(0, 0, 0, 0.3));\n",
              "      fill: #FFFFFF;\n",
              "    }\n",
              "  </style>\n",
              "\n",
              "      <script>\n",
              "        const buttonEl =\n",
              "          document.querySelector('#df-64f1dc7f-211a-4a87-a532-966c1d939780 button.colab-df-convert');\n",
              "        buttonEl.style.display =\n",
              "          google.colab.kernel.accessAllowed ? 'block' : 'none';\n",
              "\n",
              "        async function convertToInteractive(key) {\n",
              "          const element = document.querySelector('#df-64f1dc7f-211a-4a87-a532-966c1d939780');\n",
              "          const dataTable =\n",
              "            await google.colab.kernel.invokeFunction('convertToInteractive',\n",
              "                                                     [key], {});\n",
              "          if (!dataTable) return;\n",
              "\n",
              "          const docLinkHtml = 'Like what you see? Visit the ' +\n",
              "            '<a target=\"_blank\" href=https://colab.research.google.com/notebooks/data_table.ipynb>data table notebook</a>'\n",
              "            + ' to learn more about interactive tables.';\n",
              "          element.innerHTML = '';\n",
              "          dataTable['output_type'] = 'display_data';\n",
              "          await google.colab.output.renderOutput(dataTable, element);\n",
              "          const docLink = document.createElement('div');\n",
              "          docLink.innerHTML = docLinkHtml;\n",
              "          element.appendChild(docLink);\n",
              "        }\n",
              "      </script>\n",
              "    </div>\n",
              "  </div>\n",
              "  "
            ]
          },
          "metadata": {},
          "execution_count": 24
        }
      ]
    },
    {
      "cell_type": "code",
      "source": [
        "cars.hist(bins=100, figsize=(10,10),color = 'green', alpha = 0.4)\n",
        "plt.show()"
      ],
      "metadata": {
        "colab": {
          "base_uri": "https://localhost:8080/",
          "height": 0
        },
        "id": "QawAc-PCKTbV",
        "outputId": "fa489407-d1b9-4cb5-dc96-740a24d27492"
      },
      "execution_count": 25,
      "outputs": [
        {
          "output_type": "display_data",
          "data": {
            "text/plain": [
              "<Figure size 720x720 with 6 Axes>"
            ],
            "image/png": "[encoded data removed]"
          },
          "metadata": {
            "needs_background": "light"
          }
        }
      ]
    },
    {
      "cell_type": "markdown",
      "source": [
        "### 범주형 변수 시각화"
      ],
      "metadata": {
        "id": "TZXlU8S2Z0LO"
      }
    },
    {
      "cell_type": "code",
      "source": [
        "cars['model'].value_counts()"
      ],
      "metadata": {
        "colab": {
          "base_uri": "https://localhost:8080/"
        },
        "id": "s4clS4OtXYb4",
        "outputId": "f2d9a1a3-0f1b-4be7-a93e-10661ef638c5"
      },
      "execution_count": 26,
      "outputs": [
        {
          "output_type": "execute_result",
          "data": {
            "text/plain": [
              " Fiesta                   6557\n",
              " Focus                    4588\n",
              " Kuga                     2225\n",
              " EcoSport                 1143\n",
              " C-MAX                     543\n",
              " Ka+                       531\n",
              " Mondeo                    526\n",
              " B-MAX                     355\n",
              " S-MAX                     296\n",
              " Grand C-MAX               247\n",
              " Galaxy                    228\n",
              " Edge                      208\n",
              " KA                        199\n",
              " Puma                       80\n",
              " Tourneo Custom             69\n",
              " Grand Tourneo Connect      59\n",
              " Mustang                    57\n",
              " Tourneo Connect            33\n",
              " Fusion                     16\n",
              " Streetka                    2\n",
              " Ranger                      1\n",
              " Escort                      1\n",
              " Transit Tourneo             1\n",
              "Focus                        1\n",
              "Name: model, dtype: int64"
            ]
          },
          "metadata": {},
          "execution_count": 26
        }
      ]
    },
    {
      "cell_type": "code",
      "source": [
        "bar_df = cars[\"model\"].value_counts().reset_index()\n",
        "plt.figure(figsize=(10,10))\n",
        "plt.title(\"Bar Plot\", fontsize=15)\n",
        "plt.bar(bar_df[\"index\"], bar_df[\"model\"],color='g', alpha=.3)\n",
        "plt.xlabel(\"model\", fontsize=12)\n",
        "plt.show()\n"
      ],
      "metadata": {
        "colab": {
          "base_uri": "https://localhost:8080/",
          "height": 0
        },
        "id": "Dy4fxVwIRAjH",
        "outputId": "39132a97-cca9-41e8-91e6-c83ddc2d0c1f"
      },
      "execution_count": 27,
      "outputs": [
        {
          "output_type": "display_data",
          "data": {
            "text/plain": [
              "<Figure size 720x720 with 1 Axes>"
            ],
            "image/png": "[encoded data removed]"
          },
          "metadata": {
            "needs_background": "light"
          }
        }
      ]
    },
    {
      "cell_type": "code",
      "source": [
        "cars['transmission'].value_counts()"
      ],
      "metadata": {
        "colab": {
          "base_uri": "https://localhost:8080/"
        },
        "id": "YsUI3Q_vUrMu",
        "outputId": "27245013-6a41-4e5b-e413-e78c609f6160"
      },
      "execution_count": 28,
      "outputs": [
        {
          "output_type": "execute_result",
          "data": {
            "text/plain": [
              "Manual       15518\n",
              "Automatic     1361\n",
              "Semi-Auto     1087\n",
              "Name: transmission, dtype: int64"
            ]
          },
          "metadata": {},
          "execution_count": 28
        }
      ]
    },
    {
      "cell_type": "code",
      "source": [
        "bar_df = cars[\"transmission\"].value_counts().reset_index()\n",
        "plt.figure(figsize=(10,10))\n",
        "plt.title(\"Bar Plot\", fontsize=15)\n",
        "plt.bar(bar_df[\"index\"], bar_df[\"transmission\"],color='g', alpha=.3)\n",
        "plt.xlabel(\"transmission\", fontsize=12)\n",
        "plt.show()"
      ],
      "metadata": {
        "colab": {
          "base_uri": "https://localhost:8080/",
          "height": 0
        },
        "id": "dNDgDGcfXpHG",
        "outputId": "92ba5b71-df40-4be0-b50c-c1d1895824bc"
      },
      "execution_count": 29,
      "outputs": [
        {
          "output_type": "display_data",
          "data": {
            "text/plain": [
              "<Figure size 720x720 with 1 Axes>"
            ],
            "image/png": "[encoded data removed]"
          },
          "metadata": {
            "needs_background": "light"
          }
        }
      ]
    },
    {
      "cell_type": "code",
      "source": [
        "cars['fuelType'].value_counts()"
      ],
      "metadata": {
        "colab": {
          "base_uri": "https://localhost:8080/"
        },
        "id": "gH2USsvNX3Ld",
        "outputId": "e71442c7-70ed-4450-cba5-8918c7742c35"
      },
      "execution_count": 30,
      "outputs": [
        {
          "output_type": "execute_result",
          "data": {
            "text/plain": [
              "Petrol      12179\n",
              "Diesel       5762\n",
              "Hybrid         22\n",
              "Electric        2\n",
              "Other           1\n",
              "Name: fuelType, dtype: int64"
            ]
          },
          "metadata": {},
          "execution_count": 30
        }
      ]
    },
    {
      "cell_type": "code",
      "source": [
        "bar_df = cars[\"fuelType\"].value_counts().reset_index()\n",
        "plt.figure(figsize=(10,10))\n",
        "plt.title(\"Bar Plot\", fontsize=15)\n",
        "plt.bar(bar_df[\"index\"], bar_df[\"fuelType\"],color='g', alpha=.3)\n",
        "plt.xlabel(\"fuelType\", fontsize=12)\n",
        "plt.show()"
      ],
      "metadata": {
        "colab": {
          "base_uri": "https://localhost:8080/",
          "height": 0
        },
        "id": "43khoSrlYAwJ",
        "outputId": "834254fc-da45-40ff-fb20-7322f623650f"
      },
      "execution_count": 31,
      "outputs": [
        {
          "output_type": "display_data",
          "data": {
            "text/plain": [
              "<Figure size 720x720 with 1 Axes>"
            ],
            "image/png": "[encoded data removed]"
          },
          "metadata": {
            "needs_background": "light"
          }
        }
      ]
    },
    {
      "cell_type": "code",
      "source": [
        "sns.boxplot(x='transmission',y='price', data= cars)"
      ],
      "metadata": {
        "colab": {
          "base_uri": "https://localhost:8080/",
          "height": 0
        },
        "id": "OFvKMYLGicTi",
        "outputId": "5ef82474-45f0-48c7-a763-ebbbd6b38827"
      },
      "execution_count": 32,
      "outputs": [
        {
          "output_type": "execute_result",
          "data": {
            "text/plain": [
              "<matplotlib.axes._subplots.AxesSubplot at 0x7f95e750c550>"
            ]
          },
          "metadata": {},
          "execution_count": 32
        },
        {
          "output_type": "display_data",
          "data": {
            "text/plain": [
              "<Figure size 432x288 with 1 Axes>"
            ],
            "image/png": "[encoded data removed]"
          },
          "metadata": {
            "needs_background": "light"
          }
        }
      ]
    },
    {
      "cell_type": "markdown",
      "source": [
        "## 2. 데이터 전처리"
      ],
      "metadata": {
        "id": "r1rxwuphjzzh"
      }
    },
    {
      "cell_type": "markdown",
      "source": [
        "### 1. year : 2060년 >> 2006년"
      ],
      "metadata": {
        "id": "RX5xrtOHZ_9f"
      }
    },
    {
      "cell_type": "code",
      "source": [
        "cars.loc[17726, 'year'] = 2006 #17727번째 행의 year 항목을 2006으로 변경\n",
        "cars.loc[17726, 'year']"
      ],
      "metadata": {
        "id": "zpup1ausjzNH",
        "colab": {
          "base_uri": "https://localhost:8080/"
        },
        "outputId": "bfdd7e90-f280-4eee-ea53-0a1402a520a9"
      },
      "execution_count": 33,
      "outputs": [
        {
          "output_type": "execute_result",
          "data": {
            "text/plain": [
              "2006"
            ]
          },
          "metadata": {},
          "execution_count": 33
        }
      ]
    },
    {
      "cell_type": "markdown",
      "source": [
        "### 2. tax : 0 >> 모델 별 중앙값으로 대체"
      ],
      "metadata": {
        "id": "lvKvdBM2aLkz"
      }
    },
    {
      "cell_type": "markdown",
      "source": [
        "- 0인 값을 결측치로 대체 후\n",
        "- 결측치에 대해서 중앙값으로 대체"
      ],
      "metadata": {
        "id": "6bXMmzXja3k0"
      }
    },
    {
      "cell_type": "code",
      "source": [
        "cars['tax'] = cars['tax'].replace(0, np.NaN)\n",
        "cars['tax'].unique()"
      ],
      "metadata": {
        "colab": {
          "base_uri": "https://localhost:8080/"
        },
        "id": "TBgpOg0daLLN",
        "outputId": "3543097d-0052-4c0b-ffa4-a24d56125307"
      },
      "execution_count": 34,
      "outputs": [
        {
          "output_type": "execute_result",
          "data": {
            "text/plain": [
              "array([150., 145.,  nan,  20., 160., 125.,  30., 235., 240., 200., 165.,\n",
              "       140., 570., 205., 260., 580., 135., 265., 300., 195., 120., 555.,\n",
              "       325., 155., 270., 115., 110., 190., 210., 185., 330., 230., 220.,\n",
              "       305., 290.,  22.])"
            ]
          },
          "metadata": {},
          "execution_count": 34
        }
      ]
    },
    {
      "cell_type": "code",
      "source": [
        "cars['tax'].fillna(cars.groupby('model')['tax'].transform('median'), inplace=True)"
      ],
      "metadata": {
        "id": "hxvQLG6UbKJ5"
      },
      "execution_count": 35,
      "outputs": []
    },
    {
      "cell_type": "code",
      "source": [
        "cars['tax'].unique() #nan 값이 사라진 것을 볼 수 있음"
      ],
      "metadata": {
        "colab": {
          "base_uri": "https://localhost:8080/"
        },
        "id": "Y2ExRoNlc5nz",
        "outputId": "1a5a2bf0-fb3d-467a-f90c-54129e56de8b"
      },
      "execution_count": 36,
      "outputs": [
        {
          "output_type": "execute_result",
          "data": {
            "text/plain": [
              "array([150., 145.,  20., 160., 125.,  30., 235., 240., 200., 165., 140.,\n",
              "       570., 205., 260., 580., 135., 265., 300., 195., 120., 555., 325.,\n",
              "       155., 270., 115., 110., 190., 210., 185., 330., 230., 220., 305.,\n",
              "       290.,  22.])"
            ]
          },
          "metadata": {},
          "execution_count": 36
        }
      ]
    },
    {
      "cell_type": "code",
      "source": [
        "Fiesta = cars[cars['model']==' Fiesta'] #model이 Fiesta인 자동차 중 tax가 0인 차의 개수\n",
        "sum(Fiesta['tax']==0) #잘 대체된 것을 볼 수 있음."
      ],
      "metadata": {
        "colab": {
          "base_uri": "https://localhost:8080/"
        },
        "id": "bPeaswu5dEzT",
        "outputId": "038f0446-cb61-45a5-e951-f14c3a961651"
      },
      "execution_count": 37,
      "outputs": [
        {
          "output_type": "execute_result",
          "data": {
            "text/plain": [
              "0"
            ]
          },
          "metadata": {},
          "execution_count": 37
        }
      ]
    },
    {
      "cell_type": "markdown",
      "source": [
        "### 3. engineSize : 0 >> 모델 별 중앙값으로 대체"
      ],
      "metadata": {
        "id": "wcQFturAdXVK"
      }
    },
    {
      "cell_type": "code",
      "source": [
        "cars['engineSize'] = cars['engineSize'].replace(0, np.NaN)\n",
        "cars['engineSize'].unique()"
      ],
      "metadata": {
        "colab": {
          "base_uri": "https://localhost:8080/"
        },
        "id": "-Y7GDbDSdW_G",
        "outputId": "7f4133d2-5ecd-42a7-db13-4716b2997612"
      },
      "execution_count": 38,
      "outputs": [
        {
          "output_type": "execute_result",
          "data": {
            "text/plain": [
              "array([1. , 1.5, 1.6, 1.2, 2. , 1.1, 2.3, 1.4, 5. , 2.2, 2.5, 1.8, 1.3,\n",
              "       3.2, nan, 1.7])"
            ]
          },
          "metadata": {},
          "execution_count": 38
        }
      ]
    },
    {
      "cell_type": "code",
      "source": [
        "cars['engineSize'].fillna(cars.groupby('model')['engineSize'].transform('median'), inplace=True)"
      ],
      "metadata": {
        "id": "uc1YrEvIdfql"
      },
      "execution_count": 39,
      "outputs": []
    },
    {
      "cell_type": "code",
      "source": [
        "cars['engineSize'].unique()"
      ],
      "metadata": {
        "colab": {
          "base_uri": "https://localhost:8080/"
        },
        "id": "rTNVeiTtdjuD",
        "outputId": "d87ba610-e47d-4279-bc89-acbdcc13b909"
      },
      "execution_count": 40,
      "outputs": [
        {
          "output_type": "execute_result",
          "data": {
            "text/plain": [
              "array([1. , 1.5, 1.6, 1.2, 2. , 1.1, 2.3, 1.4, 5. , 2.2, 2.5, 1.8, 1.3,\n",
              "       3.2, 1.7])"
            ]
          },
          "metadata": {},
          "execution_count": 40
        }
      ]
    },
    {
      "cell_type": "code",
      "source": [
        "Fiesta = cars[cars['model']==' Fiesta'] #model이 Fiesta인 자동차 중 engineSize가 0인 차의 개수\n",
        "sum(Fiesta['engineSize']==0) #잘 대체된 것을 볼 수 있음."
      ],
      "metadata": {
        "colab": {
          "base_uri": "https://localhost:8080/"
        },
        "id": "BlG9gIA0dmTY",
        "outputId": "893ab574-626d-4a8c-e600-06f8b798a7b9"
      },
      "execution_count": 41,
      "outputs": [
        {
          "output_type": "execute_result",
          "data": {
            "text/plain": [
              "0"
            ]
          },
          "metadata": {},
          "execution_count": 41
        }
      ]
    },
    {
      "cell_type": "markdown",
      "source": [
        "### 4. 이상치 제거"
      ],
      "metadata": {
        "id": "X9dzLL2HftOS"
      }
    },
    {
      "cell_type": "code",
      "source": [
        "def find_outlier(df, column):\n",
        "  q1 = df[column].quantile(0.25)\n",
        "  q3 = df[column].quantile(0.75)\n",
        "  iqr = q3-q1\n",
        "  \n",
        "  lowest = q1 - 1.5*iqr\n",
        "  highest = q3 + 1.5*iqr\n",
        "\n",
        "  outlier_index = df[column][(df[column]<lowest) | (df[column]>highest)].index\n",
        "  return outlier_index"
      ],
      "metadata": {
        "id": "-cM8Jc3fq-S5"
      },
      "execution_count": 42,
      "outputs": []
    },
    {
      "cell_type": "code",
      "source": [
        "index = find_outlier(cars, 'price')\n",
        "print(len(index))\n",
        "print(len(cars))"
      ],
      "metadata": {
        "colab": {
          "base_uri": "https://localhost:8080/"
        },
        "id": "TY_TSLPcs1o3",
        "outputId": "670c8e81-d3a1-4a14-f5cd-d69f0cb920ca"
      },
      "execution_count": 43,
      "outputs": [
        {
          "output_type": "stream",
          "name": "stdout",
          "text": [
            "286\n",
            "17966\n"
          ]
        }
      ]
    },
    {
      "cell_type": "code",
      "source": [
        "cars.drop(index,inplace=True)\n",
        "print(len(cars))"
      ],
      "metadata": {
        "colab": {
          "base_uri": "https://localhost:8080/"
        },
        "id": "UVwngmyJtOUQ",
        "outputId": "2c77ab12-3556-432e-a250-df7eeb47dd65"
      },
      "execution_count": 44,
      "outputs": [
        {
          "output_type": "stream",
          "name": "stdout",
          "text": [
            "17680\n"
          ]
        }
      ]
    },
    {
      "cell_type": "markdown",
      "source": [
        "### 5. 범주형 변수 encoding"
      ],
      "metadata": {
        "id": "IFI34l9OjxbG"
      }
    },
    {
      "cell_type": "markdown",
      "source": [
        "- one-hot encoding : 각 범주를 0,1로 표현. 범주의 수만큼 새로운 변수가 생성되므로, 범주가 많은 경우 생성되는 변수의 수가 너무 많아져 모델의 성능을 저하시킬 우려가 있음.\n",
        "- binary encoding : one-hot encoding과 동일하게 각 범주를 0,1로 표현하지만 n개의 범주에 대해서 log(base 2)^n개의 변수를 생성함. (ex. 01 10 11 등) one-hot Encoding에 비교하면, 훨씬 더 적은 수의 칼럼을 필요로 함.\n",
        "![image.png](data:image/png;base64,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)"
      ],
      "metadata": {
        "id": "6WzNLEmcjzTE"
      }
    },
    {
      "cell_type": "code",
      "source": [
        "pip install category_encoders"
      ],
      "metadata": {
        "colab": {
          "base_uri": "https://localhost:8080/"
        },
        "id": "k1tbQyoZoB4A",
        "outputId": "7c030af7-6b18-4726-ddea-7f39a6f506d4"
      },
      "execution_count": 45,
      "outputs": [
        {
          "output_type": "stream",
          "name": "stdout",
          "text": [
            "Looking in indexes: https://pypi.org/simple, https://us-python.pkg.dev/colab-wheels/public/simple/\n",
            "Requirement already satisfied: category_encoders in /usr/local/lib/python3.8/dist-packages (2.6.0)\n",
            "Requirement already satisfied: statsmodels>=0.9.0 in /usr/local/lib/python3.8/dist-packages (from category_encoders) (0.12.2)\n",
            "Requirement already satisfied: scipy>=1.0.0 in /usr/local/lib/python3.8/dist-packages (from category_encoders) (1.7.3)\n",
            "Requirement already satisfied: patsy>=0.5.1 in /usr/local/lib/python3.8/dist-packages (from category_encoders) (0.5.3)\n",
            "Requirement already satisfied: scikit-learn>=0.20.0 in /usr/local/lib/python3.8/dist-packages (from category_encoders) (1.0.2)\n",
            "Requirement already satisfied: numpy>=1.14.0 in /usr/local/lib/python3.8/dist-packages (from category_encoders) (1.21.6)\n",
            "Requirement already satisfied: pandas>=1.0.5 in /usr/local/lib/python3.8/dist-packages (from category_encoders) (1.3.5)\n",
            "Requirement already satisfied: python-dateutil>=2.7.3 in /usr/local/lib/python3.8/dist-packages (from pandas>=1.0.5->category_encoders) (2.8.2)\n",
            "Requirement already satisfied: pytz>=2017.3 in /usr/local/lib/python3.8/dist-packages (from pandas>=1.0.5->category_encoders) (2022.7)\n",
            "Requirement already satisfied: six in /usr/local/lib/python3.8/dist-packages (from patsy>=0.5.1->category_encoders) (1.15.0)\n",
            "Requirement already satisfied: threadpoolctl>=2.0.0 in /usr/local/lib/python3.8/dist-packages (from scikit-learn>=0.20.0->category_encoders) (3.1.0)\n",
            "Requirement already satisfied: joblib>=0.11 in /usr/local/lib/python3.8/dist-packages (from scikit-learn>=0.20.0->category_encoders) (1.2.0)\n"
          ]
        }
      ]
    },
    {
      "cell_type": "code",
      "source": [
        "from category_encoders import BinaryEncoder\n",
        "be = BinaryEncoder()"
      ],
      "metadata": {
        "id": "oMe_mD-Hn6OJ"
      },
      "execution_count": 46,
      "outputs": []
    },
    {
      "cell_type": "code",
      "source": [
        "categorical = cars.loc[:,[\"model\", \"transmission\", \"fuelType\"]]\n",
        "categorical = be.fit_transform(categorical)\n",
        "categorical.head()"
      ],
      "metadata": {
        "colab": {
          "base_uri": "https://localhost:8080/",
          "height": 0
        },
        "id": "Sau1kw8YuXjd",
        "outputId": "1ca57e76-5058-4a20-deb5-1ad027d4b9ab"
      },
      "execution_count": 47,
      "outputs": [
        {
          "output_type": "execute_result",
          "data": {
            "text/plain": [
              "   model_0  model_1  model_2  model_3  model_4  transmission_0  \\\n",
              "0        0        0        0        0        1               0   \n",
              "1        0        0        0        1        0               1   \n",
              "2        0        0        0        1        0               1   \n",
              "3        0        0        0        0        1               1   \n",
              "4        0        0        0        0        1               0   \n",
              "\n",
              "   transmission_1  fuelType_0  fuelType_1  fuelType_2  \n",
              "0               1           0           0           1  \n",
              "1               0           0           0           1  \n",
              "2               0           0           0           1  \n",
              "3               0           0           0           1  \n",
              "4               1           0           0           1  "
            ],
            "text/html": [
              "\n",
              "  <div id=\"df-36643741-11ae-4b4e-bf37-1e15d686ed26\">\n",
              "    <div class=\"colab-df-container\">\n",
              "      <div>\n",
              "<style scoped>\n",
              "    .dataframe tbody tr th:only-of-type {\n",
              "        vertical-align: middle;\n",
              "    }\n",
              "\n",
              "    .dataframe tbody tr th {\n",
              "        vertical-align: top;\n",
              "    }\n",
              "\n",
              "    .dataframe thead th {\n",
              "        text-align: right;\n",
              "    }\n",
              "</style>\n",
              "<table border=\"1\" class=\"dataframe\">\n",
              "  <thead>\n",
              "    <tr style=\"text-align: right;\">\n",
              "      <th></th>\n",
              "      <th>model_0</th>\n",
              "      <th>model_1</th>\n",
              "      <th>model_2</th>\n",
              "      <th>model_3</th>\n",
              "      <th>model_4</th>\n",
              "      <th>transmission_0</th>\n",
              "      <th>transmission_1</th>\n",
              "      <th>fuelType_0</th>\n",
              "      <th>fuelType_1</th>\n",
              "      <th>fuelType_2</th>\n",
              "    </tr>\n",
              "  </thead>\n",
              "  <tbody>\n",
              "    <tr>\n",
              "      <th>0</th>\n",
              "      <td>0</td>\n",
              "      <td>0</td>\n",
              "      <td>0</td>\n",
              "      <td>0</td>\n",
              "      <td>1</td>\n",
              "      <td>0</td>\n",
              "      <td>1</td>\n",
              "      <td>0</td>\n",
              "      <td>0</td>\n",
              "      <td>1</td>\n",
              "    </tr>\n",
              "    <tr>\n",
              "      <th>1</th>\n",
              "      <td>0</td>\n",
              "      <td>0</td>\n",
              "      <td>0</td>\n",
              "      <td>1</td>\n",
              "      <td>0</td>\n",
              "      <td>1</td>\n",
              "      <td>0</td>\n",
              "      <td>0</td>\n",
              "      <td>0</td>\n",
              "      <td>1</td>\n",
              "    </tr>\n",
              "    <tr>\n",
              "      <th>2</th>\n",
              "      <td>0</td>\n",
              "      <td>0</td>\n",
              "      <td>0</td>\n",
              "      <td>1</td>\n",
              "      <td>0</td>\n",
              "      <td>1</td>\n",
              "      <td>0</td>\n",
              "      <td>0</td>\n",
              "      <td>0</td>\n",
              "      <td>1</td>\n",
              "    </tr>\n",
              "    <tr>\n",
              "      <th>3</th>\n",
              "      <td>0</td>\n",
              "      <td>0</td>\n",
              "      <td>0</td>\n",
              "      <td>0</td>\n",
              "      <td>1</td>\n",
              "      <td>1</td>\n",
              "      <td>0</td>\n",
              "      <td>0</td>\n",
              "      <td>0</td>\n",
              "      <td>1</td>\n",
              "    </tr>\n",
              "    <tr>\n",
              "      <th>4</th>\n",
              "      <td>0</td>\n",
              "      <td>0</td>\n",
              "      <td>0</td>\n",
              "      <td>0</td>\n",
              "      <td>1</td>\n",
              "      <td>0</td>\n",
              "      <td>1</td>\n",
              "      <td>0</td>\n",
              "      <td>0</td>\n",
              "      <td>1</td>\n",
              "    </tr>\n",
              "  </tbody>\n",
              "</table>\n",
              "</div>\n",
              "      <button class=\"colab-df-convert\" onclick=\"convertToInteractive('df-36643741-11ae-4b4e-bf37-1e15d686ed26')\"\n",
              "              title=\"Convert this dataframe to an interactive table.\"\n",
              "              style=\"display:none;\">\n",
              "        \n",
              "  <svg xmlns=\"http://www.w3.org/2000/svg\" height=\"24px\"viewBox=\"0 0 24 24\"\n",
              "       width=\"24px\">\n",
              "    <path d=\"M0 0h24v24H0V0z\" fill=\"none\"/>\n",
              "    <path d=\"M18.56 5.44l.94 2.06.94-2.06 2.06-.94-2.06-.94-.94-2.06-.94 2.06-2.06.94zm-11 1L8.5 8.5l.94-2.06 2.06-.94-2.06-.94L8.5 2.5l-.94 2.06-2.06.94zm10 10l.94 2.06.94-2.06 2.06-.94-2.06-.94-.94-2.06-.94 2.06-2.06.94z\"/><path d=\"M17.41 7.96l-1.37-1.37c-.4-.4-.92-.59-1.43-.59-.52 0-1.04.2-1.43.59L10.3 9.45l-7.72 7.72c-.78.78-.78 2.05 0 2.83L4 21.41c.39.39.9.59 1.41.59.51 0 1.02-.2 1.41-.59l7.78-7.78 2.81-2.81c.8-.78.8-2.07 0-2.86zM5.41 20L4 18.59l7.72-7.72 1.47 1.35L5.41 20z\"/>\n",
              "  </svg>\n",
              "      </button>\n",
              "      \n",
              "  <style>\n",
              "    .colab-df-container {\n",
              "      display:flex;\n",
              "      flex-wrap:wrap;\n",
              "      gap: 12px;\n",
              "    }\n",
              "\n",
              "    .colab-df-convert {\n",
              "      background-color: #E8F0FE;\n",
              "      border: none;\n",
              "      border-radius: 50%;\n",
              "      cursor: pointer;\n",
              "      display: none;\n",
              "      fill: #1967D2;\n",
              "      height: 32px;\n",
              "      padding: 0 0 0 0;\n",
              "      width: 32px;\n",
              "    }\n",
              "\n",
              "    .colab-df-convert:hover {\n",
              "      background-color: #E2EBFA;\n",
              "      box-shadow: 0px 1px 2px rgba(60, 64, 67, 0.3), 0px 1px 3px 1px rgba(60, 64, 67, 0.15);\n",
              "      fill: #174EA6;\n",
              "    }\n",
              "\n",
              "    [theme=dark] .colab-df-convert {\n",
              "      background-color: #3B4455;\n",
              "      fill: #D2E3FC;\n",
              "    }\n",
              "\n",
              "    [theme=dark] .colab-df-convert:hover {\n",
              "      background-color: #434B5C;\n",
              "      box-shadow: 0px 1px 3px 1px rgba(0, 0, 0, 0.15);\n",
              "      filter: drop-shadow(0px 1px 2px rgba(0, 0, 0, 0.3));\n",
              "      fill: #FFFFFF;\n",
              "    }\n",
              "  </style>\n",
              "\n",
              "      <script>\n",
              "        const buttonEl =\n",
              "          document.querySelector('#df-36643741-11ae-4b4e-bf37-1e15d686ed26 button.colab-df-convert');\n",
              "        buttonEl.style.display =\n",
              "          google.colab.kernel.accessAllowed ? 'block' : 'none';\n",
              "\n",
              "        async function convertToInteractive(key) {\n",
              "          const element = document.querySelector('#df-36643741-11ae-4b4e-bf37-1e15d686ed26');\n",
              "          const dataTable =\n",
              "            await google.colab.kernel.invokeFunction('convertToInteractive',\n",
              "                                                     [key], {});\n",
              "          if (!dataTable) return;\n",
              "\n",
              "          const docLinkHtml = 'Like what you see? Visit the ' +\n",
              "            '<a target=\"_blank\" href=https://colab.research.google.com/notebooks/data_table.ipynb>data table notebook</a>'\n",
              "            + ' to learn more about interactive tables.';\n",
              "          element.innerHTML = '';\n",
              "          dataTable['output_type'] = 'display_data';\n",
              "          await google.colab.output.renderOutput(dataTable, element);\n",
              "          const docLink = document.createElement('div');\n",
              "          docLink.innerHTML = docLinkHtml;\n",
              "          element.appendChild(docLink);\n",
              "        }\n",
              "      </script>\n",
              "    </div>\n",
              "  </div>\n",
              "  "
            ]
          },
          "metadata": {},
          "execution_count": 47
        }
      ]
    },
    {
      "cell_type": "code",
      "source": [
        "cars = pd.concat([cars, categorical], axis=1)\n",
        "cars.head()"
      ],
      "metadata": {
        "colab": {
          "base_uri": "https://localhost:8080/",
          "height": 0
        },
        "id": "j6X0BIX5vHz5",
        "outputId": "befe6aed-f4b1-4a97-e898-2e0997719fb5"
      },
      "execution_count": 48,
      "outputs": [
        {
          "output_type": "execute_result",
          "data": {
            "text/plain": [
              "     model  year  price transmission  mileage fuelType    tax   mpg  \\\n",
              "0   Fiesta  2017  12000    Automatic    15944   Petrol  150.0  57.7   \n",
              "1    Focus  2018  14000       Manual     9083   Petrol  150.0  57.7   \n",
              "2    Focus  2017  13000       Manual    12456   Petrol  150.0  57.7   \n",
              "3   Fiesta  2019  17500       Manual    10460   Petrol  145.0  40.3   \n",
              "4   Fiesta  2019  16500    Automatic     1482   Petrol  145.0  48.7   \n",
              "\n",
              "   engineSize  model_0  model_1  model_2  model_3  model_4  transmission_0  \\\n",
              "0         1.0        0        0        0        0        1               0   \n",
              "1         1.0        0        0        0        1        0               1   \n",
              "2         1.0        0        0        0        1        0               1   \n",
              "3         1.5        0        0        0        0        1               1   \n",
              "4         1.0        0        0        0        0        1               0   \n",
              "\n",
              "   transmission_1  fuelType_0  fuelType_1  fuelType_2  \n",
              "0               1           0           0           1  \n",
              "1               0           0           0           1  \n",
              "2               0           0           0           1  \n",
              "3               0           0           0           1  \n",
              "4               1           0           0           1  "
            ],
            "text/html": [
              "\n",
              "  <div id=\"df-380ed7de-e9ce-4409-80a2-3e16611f1984\">\n",
              "    <div class=\"colab-df-container\">\n",
              "      <div>\n",
              "<style scoped>\n",
              "    .dataframe tbody tr th:only-of-type {\n",
              "        vertical-align: middle;\n",
              "    }\n",
              "\n",
              "    .dataframe tbody tr th {\n",
              "        vertical-align: top;\n",
              "    }\n",
              "\n",
              "    .dataframe thead th {\n",
              "        text-align: right;\n",
              "    }\n",
              "</style>\n",
              "<table border=\"1\" class=\"dataframe\">\n",
              "  <thead>\n",
              "    <tr style=\"text-align: right;\">\n",
              "      <th></th>\n",
              "      <th>model</th>\n",
              "      <th>year</th>\n",
              "      <th>price</th>\n",
              "      <th>transmission</th>\n",
              "      <th>mileage</th>\n",
              "      <th>fuelType</th>\n",
              "      <th>tax</th>\n",
              "      <th>mpg</th>\n",
              "      <th>engineSize</th>\n",
              "      <th>model_0</th>\n",
              "      <th>model_1</th>\n",
              "      <th>model_2</th>\n",
              "      <th>model_3</th>\n",
              "      <th>model_4</th>\n",
              "      <th>transmission_0</th>\n",
              "      <th>transmission_1</th>\n",
              "      <th>fuelType_0</th>\n",
              "      <th>fuelType_1</th>\n",
              "      <th>fuelType_2</th>\n",
              "    </tr>\n",
              "  </thead>\n",
              "  <tbody>\n",
              "    <tr>\n",
              "      <th>0</th>\n",
              "      <td>Fiesta</td>\n",
              "      <td>2017</td>\n",
              "      <td>12000</td>\n",
              "      <td>Automatic</td>\n",
              "      <td>15944</td>\n",
              "      <td>Petrol</td>\n",
              "      <td>150.0</td>\n",
              "      <td>57.7</td>\n",
              "      <td>1.0</td>\n",
              "      <td>0</td>\n",
              "      <td>0</td>\n",
              "      <td>0</td>\n",
              "      <td>0</td>\n",
              "      <td>1</td>\n",
              "      <td>0</td>\n",
              "      <td>1</td>\n",
              "      <td>0</td>\n",
              "      <td>0</td>\n",
              "      <td>1</td>\n",
              "    </tr>\n",
              "    <tr>\n",
              "      <th>1</th>\n",
              "      <td>Focus</td>\n",
              "      <td>2018</td>\n",
              "      <td>14000</td>\n",
              "      <td>Manual</td>\n",
              "      <td>9083</td>\n",
              "      <td>Petrol</td>\n",
              "      <td>150.0</td>\n",
              "      <td>57.7</td>\n",
              "      <td>1.0</td>\n",
              "      <td>0</td>\n",
              "      <td>0</td>\n",
              "      <td>0</td>\n",
              "      <td>1</td>\n",
              "      <td>0</td>\n",
              "      <td>1</td>\n",
              "      <td>0</td>\n",
              "      <td>0</td>\n",
              "      <td>0</td>\n",
              "      <td>1</td>\n",
              "    </tr>\n",
              "    <tr>\n",
              "      <th>2</th>\n",
              "      <td>Focus</td>\n",
              "      <td>2017</td>\n",
              "      <td>13000</td>\n",
              "      <td>Manual</td>\n",
              "      <td>12456</td>\n",
              "      <td>Petrol</td>\n",
              "      <td>150.0</td>\n",
              "      <td>57.7</td>\n",
              "      <td>1.0</td>\n",
              "      <td>0</td>\n",
              "      <td>0</td>\n",
              "      <td>0</td>\n",
              "      <td>1</td>\n",
              "      <td>0</td>\n",
              "      <td>1</td>\n",
              "      <td>0</td>\n",
              "      <td>0</td>\n",
              "      <td>0</td>\n",
              "      <td>1</td>\n",
              "    </tr>\n",
              "    <tr>\n",
              "      <th>3</th>\n",
              "      <td>Fiesta</td>\n",
              "      <td>2019</td>\n",
              "      <td>17500</td>\n",
              "      <td>Manual</td>\n",
              "      <td>10460</td>\n",
              "      <td>Petrol</td>\n",
              "      <td>145.0</td>\n",
              "      <td>40.3</td>\n",
              "      <td>1.5</td>\n",
              "      <td>0</td>\n",
              "      <td>0</td>\n",
              "      <td>0</td>\n",
              "      <td>0</td>\n",
              "      <td>1</td>\n",
              "      <td>1</td>\n",
              "      <td>0</td>\n",
              "      <td>0</td>\n",
              "      <td>0</td>\n",
              "      <td>1</td>\n",
              "    </tr>\n",
              "    <tr>\n",
              "      <th>4</th>\n",
              "      <td>Fiesta</td>\n",
              "      <td>2019</td>\n",
              "      <td>16500</td>\n",
              "      <td>Automatic</td>\n",
              "      <td>1482</td>\n",
              "      <td>Petrol</td>\n",
              "      <td>145.0</td>\n",
              "      <td>48.7</td>\n",
              "      <td>1.0</td>\n",
              "      <td>0</td>\n",
              "      <td>0</td>\n",
              "      <td>0</td>\n",
              "      <td>0</td>\n",
              "      <td>1</td>\n",
              "      <td>0</td>\n",
              "      <td>1</td>\n",
              "      <td>0</td>\n",
              "      <td>0</td>\n",
              "      <td>1</td>\n",
              "    </tr>\n",
              "  </tbody>\n",
              "</table>\n",
              "</div>\n",
              "      <button class=\"colab-df-convert\" onclick=\"convertToInteractive('df-380ed7de-e9ce-4409-80a2-3e16611f1984')\"\n",
              "              title=\"Convert this dataframe to an interactive table.\"\n",
              "              style=\"display:none;\">\n",
              "        \n",
              "  <svg xmlns=\"http://www.w3.org/2000/svg\" height=\"24px\"viewBox=\"0 0 24 24\"\n",
              "       width=\"24px\">\n",
              "    <path d=\"M0 0h24v24H0V0z\" fill=\"none\"/>\n",
              "    <path d=\"M18.56 5.44l.94 2.06.94-2.06 2.06-.94-2.06-.94-.94-2.06-.94 2.06-2.06.94zm-11 1L8.5 8.5l.94-2.06 2.06-.94-2.06-.94L8.5 2.5l-.94 2.06-2.06.94zm10 10l.94 2.06.94-2.06 2.06-.94-2.06-.94-.94-2.06-.94 2.06-2.06.94z\"/><path d=\"M17.41 7.96l-1.37-1.37c-.4-.4-.92-.59-1.43-.59-.52 0-1.04.2-1.43.59L10.3 9.45l-7.72 7.72c-.78.78-.78 2.05 0 2.83L4 21.41c.39.39.9.59 1.41.59.51 0 1.02-.2 1.41-.59l7.78-7.78 2.81-2.81c.8-.78.8-2.07 0-2.86zM5.41 20L4 18.59l7.72-7.72 1.47 1.35L5.41 20z\"/>\n",
              "  </svg>\n",
              "      </button>\n",
              "      \n",
              "  <style>\n",
              "    .colab-df-container {\n",
              "      display:flex;\n",
              "      flex-wrap:wrap;\n",
              "      gap: 12px;\n",
              "    }\n",
              "\n",
              "    .colab-df-convert {\n",
              "      background-color: #E8F0FE;\n",
              "      border: none;\n",
              "      border-radius: 50%;\n",
              "      cursor: pointer;\n",
              "      display: none;\n",
              "      fill: #1967D2;\n",
              "      height: 32px;\n",
              "      padding: 0 0 0 0;\n",
              "      width: 32px;\n",
              "    }\n",
              "\n",
              "    .colab-df-convert:hover {\n",
              "      background-color: #E2EBFA;\n",
              "      box-shadow: 0px 1px 2px rgba(60, 64, 67, 0.3), 0px 1px 3px 1px rgba(60, 64, 67, 0.15);\n",
              "      fill: #174EA6;\n",
              "    }\n",
              "\n",
              "    [theme=dark] .colab-df-convert {\n",
              "      background-color: #3B4455;\n",
              "      fill: #D2E3FC;\n",
              "    }\n",
              "\n",
              "    [theme=dark] .colab-df-convert:hover {\n",
              "      background-color: #434B5C;\n",
              "      box-shadow: 0px 1px 3px 1px rgba(0, 0, 0, 0.15);\n",
              "      filter: drop-shadow(0px 1px 2px rgba(0, 0, 0, 0.3));\n",
              "      fill: #FFFFFF;\n",
              "    }\n",
              "  </style>\n",
              "\n",
              "      <script>\n",
              "        const buttonEl =\n",
              "          document.querySelector('#df-380ed7de-e9ce-4409-80a2-3e16611f1984 button.colab-df-convert');\n",
              "        buttonEl.style.display =\n",
              "          google.colab.kernel.accessAllowed ? 'block' : 'none';\n",
              "\n",
              "        async function convertToInteractive(key) {\n",
              "          const element = document.querySelector('#df-380ed7de-e9ce-4409-80a2-3e16611f1984');\n",
              "          const dataTable =\n",
              "            await google.colab.kernel.invokeFunction('convertToInteractive',\n",
              "                                                     [key], {});\n",
              "          if (!dataTable) return;\n",
              "\n",
              "          const docLinkHtml = 'Like what you see? Visit the ' +\n",
              "            '<a target=\"_blank\" href=https://colab.research.google.com/notebooks/data_table.ipynb>data table notebook</a>'\n",
              "            + ' to learn more about interactive tables.';\n",
              "          element.innerHTML = '';\n",
              "          dataTable['output_type'] = 'display_data';\n",
              "          await google.colab.output.renderOutput(dataTable, element);\n",
              "          const docLink = document.createElement('div');\n",
              "          docLink.innerHTML = docLinkHtml;\n",
              "          element.appendChild(docLink);\n",
              "        }\n",
              "      </script>\n",
              "    </div>\n",
              "  </div>\n",
              "  "
            ]
          },
          "metadata": {},
          "execution_count": 48
        }
      ]
    },
    {
      "cell_type": "code",
      "source": [
        "del cars['model']\n",
        "del cars['transmission']\n",
        "del cars['fuelType']\n",
        "cars.head()"
      ],
      "metadata": {
        "colab": {
          "base_uri": "https://localhost:8080/",
          "height": 0
        },
        "id": "GU7D0fmivOq2",
        "outputId": "5c664ef5-f5c4-4fe9-f42c-7b48b657103b"
      },
      "execution_count": 49,
      "outputs": [
        {
          "output_type": "execute_result",
          "data": {
            "text/plain": [
              "   year  price  mileage    tax   mpg  engineSize  model_0  model_1  model_2  \\\n",
              "0  2017  12000    15944  150.0  57.7         1.0        0        0        0   \n",
              "1  2018  14000     9083  150.0  57.7         1.0        0        0        0   \n",
              "2  2017  13000    12456  150.0  57.7         1.0        0        0        0   \n",
              "3  2019  17500    10460  145.0  40.3         1.5        0        0        0   \n",
              "4  2019  16500     1482  145.0  48.7         1.0        0        0        0   \n",
              "\n",
              "   model_3  model_4  transmission_0  transmission_1  fuelType_0  fuelType_1  \\\n",
              "0        0        1               0               1           0           0   \n",
              "1        1        0               1               0           0           0   \n",
              "2        1        0               1               0           0           0   \n",
              "3        0        1               1               0           0           0   \n",
              "4        0        1               0               1           0           0   \n",
              "\n",
              "   fuelType_2  \n",
              "0           1  \n",
              "1           1  \n",
              "2           1  \n",
              "3           1  \n",
              "4           1  "
            ],
            "text/html": [
              "\n",
              "  <div id=\"df-069f1548-b664-4e18-a964-d8394567e4a9\">\n",
              "    <div class=\"colab-df-container\">\n",
              "      <div>\n",
              "<style scoped>\n",
              "    .dataframe tbody tr th:only-of-type {\n",
              "        vertical-align: middle;\n",
              "    }\n",
              "\n",
              "    .dataframe tbody tr th {\n",
              "        vertical-align: top;\n",
              "    }\n",
              "\n",
              "    .dataframe thead th {\n",
              "        text-align: right;\n",
              "    }\n",
              "</style>\n",
              "<table border=\"1\" class=\"dataframe\">\n",
              "  <thead>\n",
              "    <tr style=\"text-align: right;\">\n",
              "      <th></th>\n",
              "      <th>year</th>\n",
              "      <th>price</th>\n",
              "      <th>mileage</th>\n",
              "      <th>tax</th>\n",
              "      <th>mpg</th>\n",
              "      <th>engineSize</th>\n",
              "      <th>model_0</th>\n",
              "      <th>model_1</th>\n",
              "      <th>model_2</th>\n",
              "      <th>model_3</th>\n",
              "      <th>model_4</th>\n",
              "      <th>transmission_0</th>\n",
              "      <th>transmission_1</th>\n",
              "      <th>fuelType_0</th>\n",
              "      <th>fuelType_1</th>\n",
              "      <th>fuelType_2</th>\n",
              "    </tr>\n",
              "  </thead>\n",
              "  <tbody>\n",
              "    <tr>\n",
              "      <th>0</th>\n",
              "      <td>2017</td>\n",
              "      <td>12000</td>\n",
              "      <td>15944</td>\n",
              "      <td>150.0</td>\n",
              "      <td>57.7</td>\n",
              "      <td>1.0</td>\n",
              "      <td>0</td>\n",
              "      <td>0</td>\n",
              "      <td>0</td>\n",
              "      <td>0</td>\n",
              "      <td>1</td>\n",
              "      <td>0</td>\n",
              "      <td>1</td>\n",
              "      <td>0</td>\n",
              "      <td>0</td>\n",
              "      <td>1</td>\n",
              "    </tr>\n",
              "    <tr>\n",
              "      <th>1</th>\n",
              "      <td>2018</td>\n",
              "      <td>14000</td>\n",
              "      <td>9083</td>\n",
              "      <td>150.0</td>\n",
              "      <td>57.7</td>\n",
              "      <td>1.0</td>\n",
              "      <td>0</td>\n",
              "      <td>0</td>\n",
              "      <td>0</td>\n",
              "      <td>1</td>\n",
              "      <td>0</td>\n",
              "      <td>1</td>\n",
              "      <td>0</td>\n",
              "      <td>0</td>\n",
              "      <td>0</td>\n",
              "      <td>1</td>\n",
              "    </tr>\n",
              "    <tr>\n",
              "      <th>2</th>\n",
              "      <td>2017</td>\n",
              "      <td>13000</td>\n",
              "      <td>12456</td>\n",
              "      <td>150.0</td>\n",
              "      <td>57.7</td>\n",
              "      <td>1.0</td>\n",
              "      <td>0</td>\n",
              "      <td>0</td>\n",
              "      <td>0</td>\n",
              "      <td>1</td>\n",
              "      <td>0</td>\n",
              "      <td>1</td>\n",
              "      <td>0</td>\n",
              "      <td>0</td>\n",
              "      <td>0</td>\n",
              "      <td>1</td>\n",
              "    </tr>\n",
              "    <tr>\n",
              "      <th>3</th>\n",
              "      <td>2019</td>\n",
              "      <td>17500</td>\n",
              "      <td>10460</td>\n",
              "      <td>145.0</td>\n",
              "      <td>40.3</td>\n",
              "      <td>1.5</td>\n",
              "      <td>0</td>\n",
              "      <td>0</td>\n",
              "      <td>0</td>\n",
              "      <td>0</td>\n",
              "      <td>1</td>\n",
              "      <td>1</td>\n",
              "      <td>0</td>\n",
              "      <td>0</td>\n",
              "      <td>0</td>\n",
              "      <td>1</td>\n",
              "    </tr>\n",
              "    <tr>\n",
              "      <th>4</th>\n",
              "      <td>2019</td>\n",
              "      <td>16500</td>\n",
              "      <td>1482</td>\n",
              "      <td>145.0</td>\n",
              "      <td>48.7</td>\n",
              "      <td>1.0</td>\n",
              "      <td>0</td>\n",
              "      <td>0</td>\n",
              "      <td>0</td>\n",
              "      <td>0</td>\n",
              "      <td>1</td>\n",
              "      <td>0</td>\n",
              "      <td>1</td>\n",
              "      <td>0</td>\n",
              "      <td>0</td>\n",
              "      <td>1</td>\n",
              "    </tr>\n",
              "  </tbody>\n",
              "</table>\n",
              "</div>\n",
              "      <button class=\"colab-df-convert\" onclick=\"convertToInteractive('df-069f1548-b664-4e18-a964-d8394567e4a9')\"\n",
              "              title=\"Convert this dataframe to an interactive table.\"\n",
              "              style=\"display:none;\">\n",
              "        \n",
              "  <svg xmlns=\"http://www.w3.org/2000/svg\" height=\"24px\"viewBox=\"0 0 24 24\"\n",
              "       width=\"24px\">\n",
              "    <path d=\"M0 0h24v24H0V0z\" fill=\"none\"/>\n",
              "    <path d=\"M18.56 5.44l.94 2.06.94-2.06 2.06-.94-2.06-.94-.94-2.06-.94 2.06-2.06.94zm-11 1L8.5 8.5l.94-2.06 2.06-.94-2.06-.94L8.5 2.5l-.94 2.06-2.06.94zm10 10l.94 2.06.94-2.06 2.06-.94-2.06-.94-.94-2.06-.94 2.06-2.06.94z\"/><path d=\"M17.41 7.96l-1.37-1.37c-.4-.4-.92-.59-1.43-.59-.52 0-1.04.2-1.43.59L10.3 9.45l-7.72 7.72c-.78.78-.78 2.05 0 2.83L4 21.41c.39.39.9.59 1.41.59.51 0 1.02-.2 1.41-.59l7.78-7.78 2.81-2.81c.8-.78.8-2.07 0-2.86zM5.41 20L4 18.59l7.72-7.72 1.47 1.35L5.41 20z\"/>\n",
              "  </svg>\n",
              "      </button>\n",
              "      \n",
              "  <style>\n",
              "    .colab-df-container {\n",
              "      display:flex;\n",
              "      flex-wrap:wrap;\n",
              "      gap: 12px;\n",
              "    }\n",
              "\n",
              "    .colab-df-convert {\n",
              "      background-color: #E8F0FE;\n",
              "      border: none;\n",
              "      border-radius: 50%;\n",
              "      cursor: pointer;\n",
              "      display: none;\n",
              "      fill: #1967D2;\n",
              "      height: 32px;\n",
              "      padding: 0 0 0 0;\n",
              "      width: 32px;\n",
              "    }\n",
              "\n",
              "    .colab-df-convert:hover {\n",
              "      background-color: #E2EBFA;\n",
              "      box-shadow: 0px 1px 2px rgba(60, 64, 67, 0.3), 0px 1px 3px 1px rgba(60, 64, 67, 0.15);\n",
              "      fill: #174EA6;\n",
              "    }\n",
              "\n",
              "    [theme=dark] .colab-df-convert {\n",
              "      background-color: #3B4455;\n",
              "      fill: #D2E3FC;\n",
              "    }\n",
              "\n",
              "    [theme=dark] .colab-df-convert:hover {\n",
              "      background-color: #434B5C;\n",
              "      box-shadow: 0px 1px 3px 1px rgba(0, 0, 0, 0.15);\n",
              "      filter: drop-shadow(0px 1px 2px rgba(0, 0, 0, 0.3));\n",
              "      fill: #FFFFFF;\n",
              "    }\n",
              "  </style>\n",
              "\n",
              "      <script>\n",
              "        const buttonEl =\n",
              "          document.querySelector('#df-069f1548-b664-4e18-a964-d8394567e4a9 button.colab-df-convert');\n",
              "        buttonEl.style.display =\n",
              "          google.colab.kernel.accessAllowed ? 'block' : 'none';\n",
              "\n",
              "        async function convertToInteractive(key) {\n",
              "          const element = document.querySelector('#df-069f1548-b664-4e18-a964-d8394567e4a9');\n",
              "          const dataTable =\n",
              "            await google.colab.kernel.invokeFunction('convertToInteractive',\n",
              "                                                     [key], {});\n",
              "          if (!dataTable) return;\n",
              "\n",
              "          const docLinkHtml = 'Like what you see? Visit the ' +\n",
              "            '<a target=\"_blank\" href=https://colab.research.google.com/notebooks/data_table.ipynb>data table notebook</a>'\n",
              "            + ' to learn more about interactive tables.';\n",
              "          element.innerHTML = '';\n",
              "          dataTable['output_type'] = 'display_data';\n",
              "          await google.colab.output.renderOutput(dataTable, element);\n",
              "          const docLink = document.createElement('div');\n",
              "          docLink.innerHTML = docLinkHtml;\n",
              "          element.appendChild(docLink);\n",
              "        }\n",
              "      </script>\n",
              "    </div>\n",
              "  </div>\n",
              "  "
            ]
          },
          "metadata": {},
          "execution_count": 49
        }
      ]
    }
  ]
}