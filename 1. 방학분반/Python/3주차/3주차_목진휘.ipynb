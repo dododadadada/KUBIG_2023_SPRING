{
  "nbformat": 4,
  "nbformat_minor": 0,
  "metadata": {
    "colab": {
      "provenance": []
    },
    "kernelspec": {
      "name": "python3",
      "display_name": "Python 3"
    },
    "language_info": {
      "name": "python"
    }
  },
  "cells": [
    {
      "cell_type": "markdown",
      "source": [
        "# 1 Writing your own functions"
      ],
      "metadata": {
        "id": "z2u_tR-ChC_k"
      }
    },
    {
      "cell_type": "markdown",
      "source": [
        "## 1.1 User-defined functions\n",
        " * Functions without parameters (매개변수가 없는)\n",
        " * Functions with one parameter (하나의 매개변수)\n",
        " * Functions that return a value (단일 값을 반환)"
      ],
      "metadata": {
        "id": "WQBlmke5i7l0"
      }
    },
    {
      "cell_type": "code",
      "source": [
        "# Function without parameters\n",
        "def square() : # Function Header\n",
        "    new_value = 4 ** 2  # Function Body\n",
        "    print(new_value)\n",
        "square()"
      ],
      "metadata": {
        "colab": {
          "base_uri": "https://localhost:8080/"
        },
        "id": "KBYXn5Vkjawu",
        "outputId": "60e3901f-63f2-4d2e-8dd6-ebe7a010ab24"
      },
      "execution_count": null,
      "outputs": [
        {
          "output_type": "stream",
          "name": "stdout",
          "text": [
            "16\n"
          ]
        }
      ]
    },
    {
      "cell_type": "code",
      "source": [
        "# Function with one parameter\n",
        "def square(value) : # Function Header\n",
        "    new_value = value ** 2  # Function Body\n",
        "    print(new_value)\n",
        "square(5)"
      ],
      "metadata": {
        "colab": {
          "base_uri": "https://localhost:8080/"
        },
        "id": "QQp11srWj28f",
        "outputId": "4d1335b0-48c5-4f75-d81c-018094efc7b2"
      },
      "execution_count": null,
      "outputs": [
        {
          "output_type": "stream",
          "name": "stdout",
          "text": [
            "25\n"
          ]
        }
      ]
    },
    {
      "cell_type": "code",
      "source": [
        "# Function that returns a value\n",
        "def square(value) : \n",
        "    new_value = value ** 2\n",
        "    return new_value\n",
        "\n",
        "num = square(4)\n",
        "print(num)"
      ],
      "metadata": {
        "colab": {
          "base_uri": "https://localhost:8080/"
        },
        "id": "g6MCC3RXkOfO",
        "outputId": "1763a83d-bb9c-4485-a2b1-a717e6a88bfb"
      },
      "execution_count": null,
      "outputs": [
        {
          "output_type": "stream",
          "name": "stdout",
          "text": [
            "16\n"
          ]
        }
      ]
    },
    {
      "cell_type": "code",
      "source": [
        "# 만약 return이 아닌 print를 사용할 경우\n",
        "def square(value) : \n",
        "    new_value = value ** 2\n",
        "    print(new_value)\n",
        "\n",
        "num = square(4)\n",
        "print(num)\n",
        "\n",
        "# num = square(4)라고 하면 square()함수가 실행되어 16이 나오지만, num에게 값을 return(반환)하지 않기 때문에, print(num)을 했을 경우 아무 값이 없다는 뜻으로 None이 출력"
      ],
      "metadata": {
        "colab": {
          "base_uri": "https://localhost:8080/"
        },
        "id": "GSReLDoyapL9",
        "outputId": "2d5b4aec-e79e-4ee9-8509-830ba5b70712"
      },
      "execution_count": 35,
      "outputs": [
        {
          "output_type": "stream",
          "name": "stdout",
          "text": [
            "16\n",
            "None\n"
          ]
        }
      ]
    },
    {
      "cell_type": "markdown",
      "source": [
        "### Docstrings\n",
        "* Describe what your function does\n",
        "* Serve as documentation for your function\n",
        "* Placed in the immediate line after the function header\n",
        "* In between triple double quotes \"\"\""
      ],
      "metadata": {
        "id": "sbwL8eA2lORg"
      }
    },
    {
      "cell_type": "code",
      "source": [
        "def square(value) :\n",
        "    \"\"\"Return the square of a value.\"\"\"\n",
        "    new_value = value ** 2\n",
        "    return new_value"
      ],
      "metadata": {
        "id": "g_TOqvN5lr2z"
      },
      "execution_count": null,
      "outputs": []
    },
    {
      "cell_type": "code",
      "source": [
        "# Define the function shout\n",
        "def shout():\n",
        "    \"\"\"Print a string with three exclamation marks\"\"\"\n",
        "    # Concatenate the strings: shout_word\n",
        "    shout_word = 'congratulations'+'!!!'\n",
        "\n",
        "    # Print shout_word\n",
        "    print(shout_word)\n",
        " \n",
        "shout()"
      ],
      "metadata": {
        "colab": {
          "base_uri": "https://localhost:8080/"
        },
        "id": "SDSe550emNA0",
        "outputId": "bb3a6f10-d6c3-4caa-80e5-3a5ce299e0b3"
      },
      "execution_count": null,
      "outputs": [
        {
          "output_type": "stream",
          "name": "stdout",
          "text": [
            "congratulations!!!\n"
          ]
        }
      ]
    },
    {
      "cell_type": "code",
      "source": [
        "# Define shout with the parameter, word\n",
        "def shout(word):\n",
        "    \"\"\"Print a string with three exclamation marks\"\"\"\n",
        "    # Concatenate the strings: shout_word\n",
        "    word = word + '!!!'\n",
        "\n",
        "    # Print shout_word\n",
        "    print(word)\n",
        "\n",
        "\n",
        "shout('congratulations')"
      ],
      "metadata": {
        "colab": {
          "base_uri": "https://localhost:8080/"
        },
        "id": "FblmUxI4maQ0",
        "outputId": "0a1863c0-465d-4b03-d081-aabbd4031870"
      },
      "execution_count": null,
      "outputs": [
        {
          "output_type": "stream",
          "name": "stdout",
          "text": [
            "congratulations!!!\n"
          ]
        }
      ]
    },
    {
      "cell_type": "code",
      "source": [
        "# Define shout with the parameter, word\n",
        "def shout(word):\n",
        "    \"\"\"Return a string with three exclamation marks\"\"\"\n",
        "    # Concatenate the strings: shout_word\n",
        "    shout_word = word + '!!!'\n",
        "\n",
        "    # Replace print with return\n",
        "    return(shout_word)\n",
        "\n",
        "# Pass 'congratulations' to shout: yell\n",
        "yell = shout('congratulations')\n",
        "\n",
        "\n",
        "print(yell)"
      ],
      "metadata": {
        "colab": {
          "base_uri": "https://localhost:8080/"
        },
        "id": "jxWxRa93mj24",
        "outputId": "a62d2e84-2e0f-40e4-e2d9-89f3e4898353"
      },
      "execution_count": null,
      "outputs": [
        {
          "output_type": "stream",
          "name": "stdout",
          "text": [
            "congratulations!!!\n"
          ]
        }
      ]
    },
    {
      "cell_type": "markdown",
      "source": [
        "## 1.2 Multiple parameters and return values\n",
        "* Make functions return multiple values : Tuples!\n",
        "* Tuples :\n",
        "    * Like a list = can contain multiple values\n",
        "    * immutable = can't modify values! (이미 구성된 튜플의 값을 수정할 수 없음)\n",
        "    * Constructed using parentheses () "
      ],
      "metadata": {
        "id": "wqB2LCa5m4vd"
      }
    },
    {
      "cell_type": "code",
      "source": [
        "even_nums = (2, 4, 6)\n",
        "print(type(even_nums))"
      ],
      "metadata": {
        "colab": {
          "base_uri": "https://localhost:8080/"
        },
        "id": "mzihTPlmnn9h",
        "outputId": "241beaa9-4d35-4d0f-ffc2-43ec6cb661eb"
      },
      "execution_count": null,
      "outputs": [
        {
          "output_type": "stream",
          "name": "stdout",
          "text": [
            "<class 'tuple'>\n"
          ]
        }
      ]
    },
    {
      "cell_type": "code",
      "source": [
        "# Unpack a tuple into several variables \n",
        "a, b, c = even_nums\n",
        "print(a); print(b); print(c)"
      ],
      "metadata": {
        "colab": {
          "base_uri": "https://localhost:8080/"
        },
        "id": "sFfjzoWDn0ST",
        "outputId": "52b1abce-f2e0-4a5d-de24-26aaf3928c22"
      },
      "execution_count": null,
      "outputs": [
        {
          "output_type": "stream",
          "name": "stdout",
          "text": [
            "2\n",
            "4\n",
            "6\n"
          ]
        }
      ]
    },
    {
      "cell_type": "code",
      "source": [
        "# Acess tuple elements like you do with lists:\\\n",
        "second_num = even_nums[1]\n",
        "print(second_num)"
      ],
      "metadata": {
        "colab": {
          "base_uri": "https://localhost:8080/"
        },
        "id": "CO2hO8MJoAz4",
        "outputId": "34ae5187-4c22-4d73-8d6c-398e1375ce4e"
      },
      "execution_count": null,
      "outputs": [
        {
          "output_type": "stream",
          "name": "stdout",
          "text": [
            "4\n"
          ]
        }
      ]
    },
    {
      "cell_type": "code",
      "source": [
        "def raise_both(value1, value2) :\n",
        "    \"\"\"Raise value to the power of value2 and vice versa.\"\"\"\n",
        "    new_value1 = value1 ** value2\n",
        "    new_value2 = value2 ** value1\n",
        "\n",
        "    new_tuple = (new_value1, new_value2)\n",
        "\n",
        "    return new_tuple\n",
        "\n",
        "\n",
        "result = raise_both(2,3); print(result)"
      ],
      "metadata": {
        "colab": {
          "base_uri": "https://localhost:8080/"
        },
        "id": "XV8D-4NooWH9",
        "outputId": "c8bfff34-fbb4-4232-ac5a-e75980557fbb"
      },
      "execution_count": null,
      "outputs": [
        {
          "output_type": "stream",
          "name": "stdout",
          "text": [
            "(8, 9)\n"
          ]
        }
      ]
    },
    {
      "cell_type": "code",
      "source": [
        "# Define shout with parameters word1 and word2\n",
        "def shout(word1, word2):\n",
        "    \"\"\"Concatenate strings with three exclamation marks\"\"\"\n",
        "    # Concatenate word1 with '!!!': shout1\n",
        "    shout1 = word1 + '!!!'\n",
        "    \n",
        "    # Concatenate word2 with '!!!': shout2\n",
        "    shout2 = word2 + '!!!'\n",
        "    \n",
        "    # Concatenate shout1 with shout2: new_shout\n",
        "    new_shout = shout1 + shout2\n",
        "\n",
        "    # Return new_shout\n",
        "    return new_shout\n",
        "\n",
        "# Pass 'congratulations' and 'you' to shout(): yell\n",
        "yell = shout('congratulations','you')\n",
        "\n",
        "# Print yell\n",
        "print(yell)"
      ],
      "metadata": {
        "colab": {
          "base_uri": "https://localhost:8080/"
        },
        "id": "Ylka6_uFv0Bi",
        "outputId": "d9966ba1-015c-43a6-b6d1-0cef2cbf847c"
      },
      "execution_count": null,
      "outputs": [
        {
          "output_type": "stream",
          "name": "stdout",
          "text": [
            "congratulations!!!you!!!\n"
          ]
        }
      ]
    },
    {
      "cell_type": "code",
      "source": [
        "# Tuple로 분해\n",
        "# Define shout_all with parameters word1 and word2\n",
        "def shout_all(word1, word2):\n",
        "    \n",
        "    # Concatenate word1 with '!!!': shout1\n",
        "    shout1 = word1 + '!!!'\n",
        "    \n",
        "    # Concatenate word2 with '!!!': shout2\n",
        "    shout2 = word2 +'!!!'\n",
        "    \n",
        "    # Construct a tuple with shout1 and shout2: shout_words\n",
        "    shout_words = (shout1,shout2)\n",
        "\n",
        "    # Return shout_words\n",
        "    return shout_words\n",
        "\n",
        "# Pass 'congratulations' and 'you' to shout_all(): yell1, yell2\n",
        "yell1,yell2 = shout_all('congratulations','you')\n",
        "\n",
        "# Print\n",
        "print(shout_all('congratulations','you'))\n",
        "print(yell1)\n",
        "print(yell2)"
      ],
      "metadata": {
        "colab": {
          "base_uri": "https://localhost:8080/"
        },
        "id": "JdIcUnigwFNk",
        "outputId": "2ed2191c-65af-4e94-fb5f-7b39ce714178"
      },
      "execution_count": null,
      "outputs": [
        {
          "output_type": "stream",
          "name": "stdout",
          "text": [
            "('congratulations!!!', 'you!!!')\n",
            "congratulations!!!\n",
            "you!!!\n"
          ]
        }
      ]
    },
    {
      "cell_type": "markdown",
      "source": [
        "## 1.3 Bring it all together\n",
        " * Data : 트위터\n",
        " * 100개의 트위터 data에서 사용된 언어의 빈도수를 체크"
      ],
      "metadata": {
        "id": "9Tsp6Kh9wmCN"
      }
    },
    {
      "cell_type": "code",
      "source": [
        "import pandas as pd\n",
        "\n",
        "PATH = \"/content/drive/MyDrive/KUBIG\"\n",
        "df = pd.read_csv(PATH+\"/tweets.csv\")\n",
        "df.head()"
      ],
      "metadata": {
        "colab": {
          "base_uri": "https://localhost:8080/",
          "height": 490
        },
        "id": "IIDWERsmw4de",
        "outputId": "f8d65d27-49ff-4380-fd29-feb4cae23d95"
      },
      "execution_count": 68,
      "outputs": [
        {
          "output_type": "execute_result",
          "data": {
            "text/plain": [
              "   contributors  coordinates                      created_at  \\\n",
              "0           NaN          NaN  Tue Mar 29 23:40:17 +0000 2016   \n",
              "1           NaN          NaN  Tue Mar 29 23:40:17 +0000 2016   \n",
              "2           NaN          NaN  Tue Mar 29 23:40:17 +0000 2016   \n",
              "3           NaN          NaN  Tue Mar 29 23:40:17 +0000 2016   \n",
              "4           NaN          NaN  Tue Mar 29 23:40:17 +0000 2016   \n",
              "\n",
              "                                            entities  \\\n",
              "0  {'hashtags': [], 'user_mentions': [{'screen_na...   \n",
              "1  {'hashtags': [{'text': 'cruzsexscandal', 'indi...   \n",
              "2  {'hashtags': [], 'user_mentions': [], 'symbols...   \n",
              "3  {'hashtags': [], 'user_mentions': [], 'symbols...   \n",
              "4  {'hashtags': [], 'user_mentions': [{'screen_na...   \n",
              "\n",
              "                                   extended_entities  favorite_count  \\\n",
              "0  {'media': [{'sizes': {'large': {'w': 1024, 'h'...               0   \n",
              "1  {'media': [{'sizes': {'large': {'w': 500, 'h':...               0   \n",
              "2                                                NaN               0   \n",
              "3                                                NaN               0   \n",
              "4                                                NaN               0   \n",
              "\n",
              "   favorited filter_level  geo            id  ...  quoted_status_id  \\\n",
              "0      False          low  NaN  7.150000e+17  ...               NaN   \n",
              "1      False          low  NaN  7.150000e+17  ...               NaN   \n",
              "2      False          low  NaN  7.150000e+17  ...               NaN   \n",
              "3      False          low  NaN  7.150000e+17  ...      7.150000e+17   \n",
              "4      False          low  NaN  7.150000e+17  ...               NaN   \n",
              "\n",
              "  quoted_status_id_str  retweet_count  retweeted  \\\n",
              "0                  NaN              0      False   \n",
              "1                  NaN              0      False   \n",
              "2                  NaN              0      False   \n",
              "3         7.150000e+17              0      False   \n",
              "4                  NaN              0      False   \n",
              "\n",
              "                                    retweeted_status  \\\n",
              "0  {'retweeted': False, 'text': \".@krollbondratin...   \n",
              "1  {'retweeted': False, 'text': '@dmartosko Cruz ...   \n",
              "2                                                NaN   \n",
              "3                                                NaN   \n",
              "4  {'retweeted': False, 'text': 'The anti-America...   \n",
              "\n",
              "                                              source  \\\n",
              "0  <a href=\"http://twitter.com\" rel=\"nofollow\">Tw...   \n",
              "1  <a href=\"http://twitter.com\" rel=\"nofollow\">Tw...   \n",
              "2  <a href=\"http://www.facebook.com/twitter\" rel=...   \n",
              "3  <a href=\"http://twitter.com/download/android\" ...   \n",
              "4  <a href=\"http://twitter.com/download/iphone\" r...   \n",
              "\n",
              "                                                text  timestamp_ms truncated  \\\n",
              "0  RT @bpolitics: .@krollbondrating's Christopher...  1.460000e+12     False   \n",
              "1  RT @HeidiAlpine: @dmartosko Cruz video found.....  1.460000e+12     False   \n",
              "2  Njihuni me Zonjën Trump !!! | Ekskluzive https...  1.460000e+12     False   \n",
              "3  Your an idiot she shouldn't have tried to grab...  1.460000e+12     False   \n",
              "4  RT @AlanLohner: The anti-American D.C. elites ...  1.460000e+12     False   \n",
              "\n",
              "                                                user  \n",
              "0  {'utc_offset': 3600, 'profile_image_url_https'...  \n",
              "1  {'utc_offset': None, 'profile_image_url_https'...  \n",
              "2  {'utc_offset': 7200, 'profile_image_url_https'...  \n",
              "3  {'utc_offset': None, 'profile_image_url_https'...  \n",
              "4  {'utc_offset': -18000, 'profile_image_url_http...  \n",
              "\n",
              "[5 rows x 31 columns]"
            ],
            "text/html": [
              "\n",
              "  <div id=\"df-6007e045-305a-4dfc-8fc1-0a71717b3379\">\n",
              "    <div class=\"colab-df-container\">\n",
              "      <div>\n",
              "<style scoped>\n",
              "    .dataframe tbody tr th:only-of-type {\n",
              "        vertical-align: middle;\n",
              "    }\n",
              "\n",
              "    .dataframe tbody tr th {\n",
              "        vertical-align: top;\n",
              "    }\n",
              "\n",
              "    .dataframe thead th {\n",
              "        text-align: right;\n",
              "    }\n",
              "</style>\n",
              "<table border=\"1\" class=\"dataframe\">\n",
              "  <thead>\n",
              "    <tr style=\"text-align: right;\">\n",
              "      <th></th>\n",
              "      <th>contributors</th>\n",
              "      <th>coordinates</th>\n",
              "      <th>created_at</th>\n",
              "      <th>entities</th>\n",
              "      <th>extended_entities</th>\n",
              "      <th>favorite_count</th>\n",
              "      <th>favorited</th>\n",
              "      <th>filter_level</th>\n",
              "      <th>geo</th>\n",
              "      <th>id</th>\n",
              "      <th>...</th>\n",
              "      <th>quoted_status_id</th>\n",
              "      <th>quoted_status_id_str</th>\n",
              "      <th>retweet_count</th>\n",
              "      <th>retweeted</th>\n",
              "      <th>retweeted_status</th>\n",
              "      <th>source</th>\n",
              "      <th>text</th>\n",
              "      <th>timestamp_ms</th>\n",
              "      <th>truncated</th>\n",
              "      <th>user</th>\n",
              "    </tr>\n",
              "  </thead>\n",
              "  <tbody>\n",
              "    <tr>\n",
              "      <th>0</th>\n",
              "      <td>NaN</td>\n",
              "      <td>NaN</td>\n",
              "      <td>Tue Mar 29 23:40:17 +0000 2016</td>\n",
              "      <td>{'hashtags': [], 'user_mentions': [{'screen_na...</td>\n",
              "      <td>{'media': [{'sizes': {'large': {'w': 1024, 'h'...</td>\n",
              "      <td>0</td>\n",
              "      <td>False</td>\n",
              "      <td>low</td>\n",
              "      <td>NaN</td>\n",
              "      <td>7.150000e+17</td>\n",
              "      <td>...</td>\n",
              "      <td>NaN</td>\n",
              "      <td>NaN</td>\n",
              "      <td>0</td>\n",
              "      <td>False</td>\n",
              "      <td>{'retweeted': False, 'text': \".@krollbondratin...</td>\n",
              "      <td>&lt;a href=\"http://twitter.com\" rel=\"nofollow\"&gt;Tw...</td>\n",
              "      <td>RT @bpolitics: .@krollbondrating's Christopher...</td>\n",
              "      <td>1.460000e+12</td>\n",
              "      <td>False</td>\n",
              "      <td>{'utc_offset': 3600, 'profile_image_url_https'...</td>\n",
              "    </tr>\n",
              "    <tr>\n",
              "      <th>1</th>\n",
              "      <td>NaN</td>\n",
              "      <td>NaN</td>\n",
              "      <td>Tue Mar 29 23:40:17 +0000 2016</td>\n",
              "      <td>{'hashtags': [{'text': 'cruzsexscandal', 'indi...</td>\n",
              "      <td>{'media': [{'sizes': {'large': {'w': 500, 'h':...</td>\n",
              "      <td>0</td>\n",
              "      <td>False</td>\n",
              "      <td>low</td>\n",
              "      <td>NaN</td>\n",
              "      <td>7.150000e+17</td>\n",
              "      <td>...</td>\n",
              "      <td>NaN</td>\n",
              "      <td>NaN</td>\n",
              "      <td>0</td>\n",
              "      <td>False</td>\n",
              "      <td>{'retweeted': False, 'text': '@dmartosko Cruz ...</td>\n",
              "      <td>&lt;a href=\"http://twitter.com\" rel=\"nofollow\"&gt;Tw...</td>\n",
              "      <td>RT @HeidiAlpine: @dmartosko Cruz video found.....</td>\n",
              "      <td>1.460000e+12</td>\n",
              "      <td>False</td>\n",
              "      <td>{'utc_offset': None, 'profile_image_url_https'...</td>\n",
              "    </tr>\n",
              "    <tr>\n",
              "      <th>2</th>\n",
              "      <td>NaN</td>\n",
              "      <td>NaN</td>\n",
              "      <td>Tue Mar 29 23:40:17 +0000 2016</td>\n",
              "      <td>{'hashtags': [], 'user_mentions': [], 'symbols...</td>\n",
              "      <td>NaN</td>\n",
              "      <td>0</td>\n",
              "      <td>False</td>\n",
              "      <td>low</td>\n",
              "      <td>NaN</td>\n",
              "      <td>7.150000e+17</td>\n",
              "      <td>...</td>\n",
              "      <td>NaN</td>\n",
              "      <td>NaN</td>\n",
              "      <td>0</td>\n",
              "      <td>False</td>\n",
              "      <td>NaN</td>\n",
              "      <td>&lt;a href=\"http://www.facebook.com/twitter\" rel=...</td>\n",
              "      <td>Njihuni me Zonjën Trump !!! | Ekskluzive https...</td>\n",
              "      <td>1.460000e+12</td>\n",
              "      <td>False</td>\n",
              "      <td>{'utc_offset': 7200, 'profile_image_url_https'...</td>\n",
              "    </tr>\n",
              "    <tr>\n",
              "      <th>3</th>\n",
              "      <td>NaN</td>\n",
              "      <td>NaN</td>\n",
              "      <td>Tue Mar 29 23:40:17 +0000 2016</td>\n",
              "      <td>{'hashtags': [], 'user_mentions': [], 'symbols...</td>\n",
              "      <td>NaN</td>\n",
              "      <td>0</td>\n",
              "      <td>False</td>\n",
              "      <td>low</td>\n",
              "      <td>NaN</td>\n",
              "      <td>7.150000e+17</td>\n",
              "      <td>...</td>\n",
              "      <td>7.150000e+17</td>\n",
              "      <td>7.150000e+17</td>\n",
              "      <td>0</td>\n",
              "      <td>False</td>\n",
              "      <td>NaN</td>\n",
              "      <td>&lt;a href=\"http://twitter.com/download/android\" ...</td>\n",
              "      <td>Your an idiot she shouldn't have tried to grab...</td>\n",
              "      <td>1.460000e+12</td>\n",
              "      <td>False</td>\n",
              "      <td>{'utc_offset': None, 'profile_image_url_https'...</td>\n",
              "    </tr>\n",
              "    <tr>\n",
              "      <th>4</th>\n",
              "      <td>NaN</td>\n",
              "      <td>NaN</td>\n",
              "      <td>Tue Mar 29 23:40:17 +0000 2016</td>\n",
              "      <td>{'hashtags': [], 'user_mentions': [{'screen_na...</td>\n",
              "      <td>NaN</td>\n",
              "      <td>0</td>\n",
              "      <td>False</td>\n",
              "      <td>low</td>\n",
              "      <td>NaN</td>\n",
              "      <td>7.150000e+17</td>\n",
              "      <td>...</td>\n",
              "      <td>NaN</td>\n",
              "      <td>NaN</td>\n",
              "      <td>0</td>\n",
              "      <td>False</td>\n",
              "      <td>{'retweeted': False, 'text': 'The anti-America...</td>\n",
              "      <td>&lt;a href=\"http://twitter.com/download/iphone\" r...</td>\n",
              "      <td>RT @AlanLohner: The anti-American D.C. elites ...</td>\n",
              "      <td>1.460000e+12</td>\n",
              "      <td>False</td>\n",
              "      <td>{'utc_offset': -18000, 'profile_image_url_http...</td>\n",
              "    </tr>\n",
              "  </tbody>\n",
              "</table>\n",
              "<p>5 rows × 31 columns</p>\n",
              "</div>\n",
              "      <button class=\"colab-df-convert\" onclick=\"convertToInteractive('df-6007e045-305a-4dfc-8fc1-0a71717b3379')\"\n",
              "              title=\"Convert this dataframe to an interactive table.\"\n",
              "              style=\"display:none;\">\n",
              "        \n",
              "  <svg xmlns=\"http://www.w3.org/2000/svg\" height=\"24px\"viewBox=\"0 0 24 24\"\n",
              "       width=\"24px\">\n",
              "    <path d=\"M0 0h24v24H0V0z\" fill=\"none\"/>\n",
              "    <path d=\"M18.56 5.44l.94 2.06.94-2.06 2.06-.94-2.06-.94-.94-2.06-.94 2.06-2.06.94zm-11 1L8.5 8.5l.94-2.06 2.06-.94-2.06-.94L8.5 2.5l-.94 2.06-2.06.94zm10 10l.94 2.06.94-2.06 2.06-.94-2.06-.94-.94-2.06-.94 2.06-2.06.94z\"/><path d=\"M17.41 7.96l-1.37-1.37c-.4-.4-.92-.59-1.43-.59-.52 0-1.04.2-1.43.59L10.3 9.45l-7.72 7.72c-.78.78-.78 2.05 0 2.83L4 21.41c.39.39.9.59 1.41.59.51 0 1.02-.2 1.41-.59l7.78-7.78 2.81-2.81c.8-.78.8-2.07 0-2.86zM5.41 20L4 18.59l7.72-7.72 1.47 1.35L5.41 20z\"/>\n",
              "  </svg>\n",
              "      </button>\n",
              "      \n",
              "  <style>\n",
              "    .colab-df-container {\n",
              "      display:flex;\n",
              "      flex-wrap:wrap;\n",
              "      gap: 12px;\n",
              "    }\n",
              "\n",
              "    .colab-df-convert {\n",
              "      background-color: #E8F0FE;\n",
              "      border: none;\n",
              "      border-radius: 50%;\n",
              "      cursor: pointer;\n",
              "      display: none;\n",
              "      fill: #1967D2;\n",
              "      height: 32px;\n",
              "      padding: 0 0 0 0;\n",
              "      width: 32px;\n",
              "    }\n",
              "\n",
              "    .colab-df-convert:hover {\n",
              "      background-color: #E2EBFA;\n",
              "      box-shadow: 0px 1px 2px rgba(60, 64, 67, 0.3), 0px 1px 3px 1px rgba(60, 64, 67, 0.15);\n",
              "      fill: #174EA6;\n",
              "    }\n",
              "\n",
              "    [theme=dark] .colab-df-convert {\n",
              "      background-color: #3B4455;\n",
              "      fill: #D2E3FC;\n",
              "    }\n",
              "\n",
              "    [theme=dark] .colab-df-convert:hover {\n",
              "      background-color: #434B5C;\n",
              "      box-shadow: 0px 1px 3px 1px rgba(0, 0, 0, 0.15);\n",
              "      filter: drop-shadow(0px 1px 2px rgba(0, 0, 0, 0.3));\n",
              "      fill: #FFFFFF;\n",
              "    }\n",
              "  </style>\n",
              "\n",
              "      <script>\n",
              "        const buttonEl =\n",
              "          document.querySelector('#df-6007e045-305a-4dfc-8fc1-0a71717b3379 button.colab-df-convert');\n",
              "        buttonEl.style.display =\n",
              "          google.colab.kernel.accessAllowed ? 'block' : 'none';\n",
              "\n",
              "        async function convertToInteractive(key) {\n",
              "          const element = document.querySelector('#df-6007e045-305a-4dfc-8fc1-0a71717b3379');\n",
              "          const dataTable =\n",
              "            await google.colab.kernel.invokeFunction('convertToInteractive',\n",
              "                                                     [key], {});\n",
              "          if (!dataTable) return;\n",
              "\n",
              "          const docLinkHtml = 'Like what you see? Visit the ' +\n",
              "            '<a target=\"_blank\" href=https://colab.research.google.com/notebooks/data_table.ipynb>data table notebook</a>'\n",
              "            + ' to learn more about interactive tables.';\n",
              "          element.innerHTML = '';\n",
              "          dataTable['output_type'] = 'display_data';\n",
              "          await google.colab.output.renderOutput(dataTable, element);\n",
              "          const docLink = document.createElement('div');\n",
              "          docLink.innerHTML = docLinkHtml;\n",
              "          element.appendChild(docLink);\n",
              "        }\n",
              "      </script>\n",
              "    </div>\n",
              "  </div>\n",
              "  "
            ]
          },
          "metadata": {},
          "execution_count": 68
        }
      ]
    },
    {
      "cell_type": "code",
      "source": [
        "# Initialize an empty dictionary: langs_count\n",
        "langs_count = {}\n",
        "\n",
        "# Extract column from DataFrame: col\n",
        "col = df['lang']\n",
        "\n",
        "print(col.head())\n",
        "print(col.unique())"
      ],
      "metadata": {
        "colab": {
          "base_uri": "https://localhost:8080/"
        },
        "id": "OgDTKyIrzSNQ",
        "outputId": "5be46b9e-5ef9-4a2d-a7cb-819e1e1dec82"
      },
      "execution_count": 69,
      "outputs": [
        {
          "output_type": "stream",
          "name": "stdout",
          "text": [
            "0    en\n",
            "1    en\n",
            "2    et\n",
            "3    en\n",
            "4    en\n",
            "Name: lang, dtype: object\n",
            "['en' 'et' 'und']\n"
          ]
        }
      ]
    },
    {
      "cell_type": "code",
      "source": [
        "# 할당연산자 \"+=\"  : 왼쪽 변수에 오른쪽 값을 더하고 그 결과를 왼쪽변수에 할당한다\n",
        "# Iterate over lang column in DataFrame\n",
        "for entry in col:\n",
        "\n",
        "    # If the language is in langs_count, add 1 \n",
        "    if entry in langs_count.keys():\n",
        "        langs_count[entry] += 1\n",
        "    # Else add the language to langs_count, set the value to 1\n",
        "    else:\n",
        "        langs_count[entry] = 1\n",
        "\n",
        "# Print the populated dictionary\n",
        "print(langs_count)"
      ],
      "metadata": {
        "colab": {
          "base_uri": "https://localhost:8080/"
        },
        "id": "doLuZhiR4Mnl",
        "outputId": "5ade2dda-49b8-4385-b60c-ccf6a8beaa3a"
      },
      "execution_count": 70,
      "outputs": [
        {
          "output_type": "stream",
          "name": "stdout",
          "text": [
            "{'en': 97, 'et': 1, 'und': 2}\n"
          ]
        }
      ]
    },
    {
      "cell_type": "code",
      "source": [
        "# 알바니아어\n",
        "df.loc[df['lang']== 'et']"
      ],
      "metadata": {
        "colab": {
          "base_uri": "https://localhost:8080/",
          "height": 278
        },
        "id": "arW0cVDx2qM4",
        "outputId": "1737c096-7604-4288-a802-23acb9d71157"
      },
      "execution_count": null,
      "outputs": [
        {
          "output_type": "execute_result",
          "data": {
            "text/plain": [
              "   contributors  coordinates                      created_at  \\\n",
              "2           NaN          NaN  Tue Mar 29 23:40:17 +0000 2016   \n",
              "\n",
              "                                            entities extended_entities  \\\n",
              "2  {'hashtags': [], 'user_mentions': [], 'symbols...               NaN   \n",
              "\n",
              "   favorite_count  favorited filter_level  geo            id  ...  \\\n",
              "2               0      False          low  NaN  7.150000e+17  ...   \n",
              "\n",
              "   quoted_status_id quoted_status_id_str  retweet_count  retweeted  \\\n",
              "2               NaN                  NaN              0      False   \n",
              "\n",
              "   retweeted_status                                             source  \\\n",
              "2               NaN  <a href=\"http://www.facebook.com/twitter\" rel=...   \n",
              "\n",
              "                                                text  timestamp_ms truncated  \\\n",
              "2  Njihuni me Zonjën Trump !!! | Ekskluzive https...  1.460000e+12     False   \n",
              "\n",
              "                                                user  \n",
              "2  {'utc_offset': 7200, 'profile_image_url_https'...  \n",
              "\n",
              "[1 rows x 31 columns]"
            ],
            "text/html": [
              "\n",
              "  <div id=\"df-5b9e4107-d554-43a7-bbf6-4c19d08c999d\">\n",
              "    <div class=\"colab-df-container\">\n",
              "      <div>\n",
              "<style scoped>\n",
              "    .dataframe tbody tr th:only-of-type {\n",
              "        vertical-align: middle;\n",
              "    }\n",
              "\n",
              "    .dataframe tbody tr th {\n",
              "        vertical-align: top;\n",
              "    }\n",
              "\n",
              "    .dataframe thead th {\n",
              "        text-align: right;\n",
              "    }\n",
              "</style>\n",
              "<table border=\"1\" class=\"dataframe\">\n",
              "  <thead>\n",
              "    <tr style=\"text-align: right;\">\n",
              "      <th></th>\n",
              "      <th>contributors</th>\n",
              "      <th>coordinates</th>\n",
              "      <th>created_at</th>\n",
              "      <th>entities</th>\n",
              "      <th>extended_entities</th>\n",
              "      <th>favorite_count</th>\n",
              "      <th>favorited</th>\n",
              "      <th>filter_level</th>\n",
              "      <th>geo</th>\n",
              "      <th>id</th>\n",
              "      <th>...</th>\n",
              "      <th>quoted_status_id</th>\n",
              "      <th>quoted_status_id_str</th>\n",
              "      <th>retweet_count</th>\n",
              "      <th>retweeted</th>\n",
              "      <th>retweeted_status</th>\n",
              "      <th>source</th>\n",
              "      <th>text</th>\n",
              "      <th>timestamp_ms</th>\n",
              "      <th>truncated</th>\n",
              "      <th>user</th>\n",
              "    </tr>\n",
              "  </thead>\n",
              "  <tbody>\n",
              "    <tr>\n",
              "      <th>2</th>\n",
              "      <td>NaN</td>\n",
              "      <td>NaN</td>\n",
              "      <td>Tue Mar 29 23:40:17 +0000 2016</td>\n",
              "      <td>{'hashtags': [], 'user_mentions': [], 'symbols...</td>\n",
              "      <td>NaN</td>\n",
              "      <td>0</td>\n",
              "      <td>False</td>\n",
              "      <td>low</td>\n",
              "      <td>NaN</td>\n",
              "      <td>7.150000e+17</td>\n",
              "      <td>...</td>\n",
              "      <td>NaN</td>\n",
              "      <td>NaN</td>\n",
              "      <td>0</td>\n",
              "      <td>False</td>\n",
              "      <td>NaN</td>\n",
              "      <td>&lt;a href=\"http://www.facebook.com/twitter\" rel=...</td>\n",
              "      <td>Njihuni me Zonjën Trump !!! | Ekskluzive https...</td>\n",
              "      <td>1.460000e+12</td>\n",
              "      <td>False</td>\n",
              "      <td>{'utc_offset': 7200, 'profile_image_url_https'...</td>\n",
              "    </tr>\n",
              "  </tbody>\n",
              "</table>\n",
              "<p>1 rows × 31 columns</p>\n",
              "</div>\n",
              "      <button class=\"colab-df-convert\" onclick=\"convertToInteractive('df-5b9e4107-d554-43a7-bbf6-4c19d08c999d')\"\n",
              "              title=\"Convert this dataframe to an interactive table.\"\n",
              "              style=\"display:none;\">\n",
              "        \n",
              "  <svg xmlns=\"http://www.w3.org/2000/svg\" height=\"24px\"viewBox=\"0 0 24 24\"\n",
              "       width=\"24px\">\n",
              "    <path d=\"M0 0h24v24H0V0z\" fill=\"none\"/>\n",
              "    <path d=\"M18.56 5.44l.94 2.06.94-2.06 2.06-.94-2.06-.94-.94-2.06-.94 2.06-2.06.94zm-11 1L8.5 8.5l.94-2.06 2.06-.94-2.06-.94L8.5 2.5l-.94 2.06-2.06.94zm10 10l.94 2.06.94-2.06 2.06-.94-2.06-.94-.94-2.06-.94 2.06-2.06.94z\"/><path d=\"M17.41 7.96l-1.37-1.37c-.4-.4-.92-.59-1.43-.59-.52 0-1.04.2-1.43.59L10.3 9.45l-7.72 7.72c-.78.78-.78 2.05 0 2.83L4 21.41c.39.39.9.59 1.41.59.51 0 1.02-.2 1.41-.59l7.78-7.78 2.81-2.81c.8-.78.8-2.07 0-2.86zM5.41 20L4 18.59l7.72-7.72 1.47 1.35L5.41 20z\"/>\n",
              "  </svg>\n",
              "      </button>\n",
              "      \n",
              "  <style>\n",
              "    .colab-df-container {\n",
              "      display:flex;\n",
              "      flex-wrap:wrap;\n",
              "      gap: 12px;\n",
              "    }\n",
              "\n",
              "    .colab-df-convert {\n",
              "      background-color: #E8F0FE;\n",
              "      border: none;\n",
              "      border-radius: 50%;\n",
              "      cursor: pointer;\n",
              "      display: none;\n",
              "      fill: #1967D2;\n",
              "      height: 32px;\n",
              "      padding: 0 0 0 0;\n",
              "      width: 32px;\n",
              "    }\n",
              "\n",
              "    .colab-df-convert:hover {\n",
              "      background-color: #E2EBFA;\n",
              "      box-shadow: 0px 1px 2px rgba(60, 64, 67, 0.3), 0px 1px 3px 1px rgba(60, 64, 67, 0.15);\n",
              "      fill: #174EA6;\n",
              "    }\n",
              "\n",
              "    [theme=dark] .colab-df-convert {\n",
              "      background-color: #3B4455;\n",
              "      fill: #D2E3FC;\n",
              "    }\n",
              "\n",
              "    [theme=dark] .colab-df-convert:hover {\n",
              "      background-color: #434B5C;\n",
              "      box-shadow: 0px 1px 3px 1px rgba(0, 0, 0, 0.15);\n",
              "      filter: drop-shadow(0px 1px 2px rgba(0, 0, 0, 0.3));\n",
              "      fill: #FFFFFF;\n",
              "    }\n",
              "  </style>\n",
              "\n",
              "      <script>\n",
              "        const buttonEl =\n",
              "          document.querySelector('#df-5b9e4107-d554-43a7-bbf6-4c19d08c999d button.colab-df-convert');\n",
              "        buttonEl.style.display =\n",
              "          google.colab.kernel.accessAllowed ? 'block' : 'none';\n",
              "\n",
              "        async function convertToInteractive(key) {\n",
              "          const element = document.querySelector('#df-5b9e4107-d554-43a7-bbf6-4c19d08c999d');\n",
              "          const dataTable =\n",
              "            await google.colab.kernel.invokeFunction('convertToInteractive',\n",
              "                                                     [key], {});\n",
              "          if (!dataTable) return;\n",
              "\n",
              "          const docLinkHtml = 'Like what you see? Visit the ' +\n",
              "            '<a target=\"_blank\" href=https://colab.research.google.com/notebooks/data_table.ipynb>data table notebook</a>'\n",
              "            + ' to learn more about interactive tables.';\n",
              "          element.innerHTML = '';\n",
              "          dataTable['output_type'] = 'display_data';\n",
              "          await google.colab.output.renderOutput(dataTable, element);\n",
              "          const docLink = document.createElement('div');\n",
              "          docLink.innerHTML = docLinkHtml;\n",
              "          element.appendChild(docLink);\n",
              "        }\n",
              "      </script>\n",
              "    </div>\n",
              "  </div>\n",
              "  "
            ]
          },
          "metadata": {},
          "execution_count": 18
        }
      ]
    },
    {
      "cell_type": "code",
      "source": [
        "# Undetermined\n",
        "df.loc[df['lang']== 'und']"
      ],
      "metadata": {
        "colab": {
          "base_uri": "https://localhost:8080/",
          "height": 344
        },
        "id": "HmFarknS21ew",
        "outputId": "20e48804-f87d-4698-da80-eb6706d079db"
      },
      "execution_count": null,
      "outputs": [
        {
          "output_type": "execute_result",
          "data": {
            "text/plain": [
              "    contributors  coordinates                      created_at  \\\n",
              "20           NaN          NaN  Tue Mar 29 23:40:18 +0000 2016   \n",
              "29           NaN          NaN  Tue Mar 29 23:40:18 +0000 2016   \n",
              "\n",
              "                                             entities extended_entities  \\\n",
              "20  {'hashtags': [{'text': 'HillYes', 'indices': [...               NaN   \n",
              "29  {'hashtags': [{'text': 'HillYes', 'indices': [...               NaN   \n",
              "\n",
              "    favorite_count  favorited filter_level  geo            id  ...  \\\n",
              "20               0      False          low  NaN  7.150000e+17  ...   \n",
              "29               0      False          low  NaN  7.150000e+17  ...   \n",
              "\n",
              "    quoted_status_id quoted_status_id_str  retweet_count  retweeted  \\\n",
              "20      7.150000e+17         7.150000e+17              0      False   \n",
              "29      7.150000e+17         7.150000e+17              0      False   \n",
              "\n",
              "    retweeted_status                                             source  \\\n",
              "20               NaN  <a href=\"http://twitter.com/download/android\" ...   \n",
              "29               NaN  <a href=\"http://twitter.com/download/android\" ...   \n",
              "\n",
              "                                                 text  timestamp_ms truncated  \\\n",
              "20  #HillYes #ImWithHer #RollHillary @HillaryClint...  1.460000e+12     False   \n",
              "29  #HillYes #ImWithHer #RollHillary @HillaryClint...  1.460000e+12     False   \n",
              "\n",
              "                                                 user  \n",
              "20  {'utc_offset': -25200, 'profile_image_url_http...  \n",
              "29  {'utc_offset': -25200, 'profile_image_url_http...  \n",
              "\n",
              "[2 rows x 31 columns]"
            ],
            "text/html": [
              "\n",
              "  <div id=\"df-6bef7b5a-c513-4fa1-b0f0-9e9dedcd1b15\">\n",
              "    <div class=\"colab-df-container\">\n",
              "      <div>\n",
              "<style scoped>\n",
              "    .dataframe tbody tr th:only-of-type {\n",
              "        vertical-align: middle;\n",
              "    }\n",
              "\n",
              "    .dataframe tbody tr th {\n",
              "        vertical-align: top;\n",
              "    }\n",
              "\n",
              "    .dataframe thead th {\n",
              "        text-align: right;\n",
              "    }\n",
              "</style>\n",
              "<table border=\"1\" class=\"dataframe\">\n",
              "  <thead>\n",
              "    <tr style=\"text-align: right;\">\n",
              "      <th></th>\n",
              "      <th>contributors</th>\n",
              "      <th>coordinates</th>\n",
              "      <th>created_at</th>\n",
              "      <th>entities</th>\n",
              "      <th>extended_entities</th>\n",
              "      <th>favorite_count</th>\n",
              "      <th>favorited</th>\n",
              "      <th>filter_level</th>\n",
              "      <th>geo</th>\n",
              "      <th>id</th>\n",
              "      <th>...</th>\n",
              "      <th>quoted_status_id</th>\n",
              "      <th>quoted_status_id_str</th>\n",
              "      <th>retweet_count</th>\n",
              "      <th>retweeted</th>\n",
              "      <th>retweeted_status</th>\n",
              "      <th>source</th>\n",
              "      <th>text</th>\n",
              "      <th>timestamp_ms</th>\n",
              "      <th>truncated</th>\n",
              "      <th>user</th>\n",
              "    </tr>\n",
              "  </thead>\n",
              "  <tbody>\n",
              "    <tr>\n",
              "      <th>20</th>\n",
              "      <td>NaN</td>\n",
              "      <td>NaN</td>\n",
              "      <td>Tue Mar 29 23:40:18 +0000 2016</td>\n",
              "      <td>{'hashtags': [{'text': 'HillYes', 'indices': [...</td>\n",
              "      <td>NaN</td>\n",
              "      <td>0</td>\n",
              "      <td>False</td>\n",
              "      <td>low</td>\n",
              "      <td>NaN</td>\n",
              "      <td>7.150000e+17</td>\n",
              "      <td>...</td>\n",
              "      <td>7.150000e+17</td>\n",
              "      <td>7.150000e+17</td>\n",
              "      <td>0</td>\n",
              "      <td>False</td>\n",
              "      <td>NaN</td>\n",
              "      <td>&lt;a href=\"http://twitter.com/download/android\" ...</td>\n",
              "      <td>#HillYes #ImWithHer #RollHillary @HillaryClint...</td>\n",
              "      <td>1.460000e+12</td>\n",
              "      <td>False</td>\n",
              "      <td>{'utc_offset': -25200, 'profile_image_url_http...</td>\n",
              "    </tr>\n",
              "    <tr>\n",
              "      <th>29</th>\n",
              "      <td>NaN</td>\n",
              "      <td>NaN</td>\n",
              "      <td>Tue Mar 29 23:40:18 +0000 2016</td>\n",
              "      <td>{'hashtags': [{'text': 'HillYes', 'indices': [...</td>\n",
              "      <td>NaN</td>\n",
              "      <td>0</td>\n",
              "      <td>False</td>\n",
              "      <td>low</td>\n",
              "      <td>NaN</td>\n",
              "      <td>7.150000e+17</td>\n",
              "      <td>...</td>\n",
              "      <td>7.150000e+17</td>\n",
              "      <td>7.150000e+17</td>\n",
              "      <td>0</td>\n",
              "      <td>False</td>\n",
              "      <td>NaN</td>\n",
              "      <td>&lt;a href=\"http://twitter.com/download/android\" ...</td>\n",
              "      <td>#HillYes #ImWithHer #RollHillary @HillaryClint...</td>\n",
              "      <td>1.460000e+12</td>\n",
              "      <td>False</td>\n",
              "      <td>{'utc_offset': -25200, 'profile_image_url_http...</td>\n",
              "    </tr>\n",
              "  </tbody>\n",
              "</table>\n",
              "<p>2 rows × 31 columns</p>\n",
              "</div>\n",
              "      <button class=\"colab-df-convert\" onclick=\"convertToInteractive('df-6bef7b5a-c513-4fa1-b0f0-9e9dedcd1b15')\"\n",
              "              title=\"Convert this dataframe to an interactive table.\"\n",
              "              style=\"display:none;\">\n",
              "        \n",
              "  <svg xmlns=\"http://www.w3.org/2000/svg\" height=\"24px\"viewBox=\"0 0 24 24\"\n",
              "       width=\"24px\">\n",
              "    <path d=\"M0 0h24v24H0V0z\" fill=\"none\"/>\n",
              "    <path d=\"M18.56 5.44l.94 2.06.94-2.06 2.06-.94-2.06-.94-.94-2.06-.94 2.06-2.06.94zm-11 1L8.5 8.5l.94-2.06 2.06-.94-2.06-.94L8.5 2.5l-.94 2.06-2.06.94zm10 10l.94 2.06.94-2.06 2.06-.94-2.06-.94-.94-2.06-.94 2.06-2.06.94z\"/><path d=\"M17.41 7.96l-1.37-1.37c-.4-.4-.92-.59-1.43-.59-.52 0-1.04.2-1.43.59L10.3 9.45l-7.72 7.72c-.78.78-.78 2.05 0 2.83L4 21.41c.39.39.9.59 1.41.59.51 0 1.02-.2 1.41-.59l7.78-7.78 2.81-2.81c.8-.78.8-2.07 0-2.86zM5.41 20L4 18.59l7.72-7.72 1.47 1.35L5.41 20z\"/>\n",
              "  </svg>\n",
              "      </button>\n",
              "      \n",
              "  <style>\n",
              "    .colab-df-container {\n",
              "      display:flex;\n",
              "      flex-wrap:wrap;\n",
              "      gap: 12px;\n",
              "    }\n",
              "\n",
              "    .colab-df-convert {\n",
              "      background-color: #E8F0FE;\n",
              "      border: none;\n",
              "      border-radius: 50%;\n",
              "      cursor: pointer;\n",
              "      display: none;\n",
              "      fill: #1967D2;\n",
              "      height: 32px;\n",
              "      padding: 0 0 0 0;\n",
              "      width: 32px;\n",
              "    }\n",
              "\n",
              "    .colab-df-convert:hover {\n",
              "      background-color: #E2EBFA;\n",
              "      box-shadow: 0px 1px 2px rgba(60, 64, 67, 0.3), 0px 1px 3px 1px rgba(60, 64, 67, 0.15);\n",
              "      fill: #174EA6;\n",
              "    }\n",
              "\n",
              "    [theme=dark] .colab-df-convert {\n",
              "      background-color: #3B4455;\n",
              "      fill: #D2E3FC;\n",
              "    }\n",
              "\n",
              "    [theme=dark] .colab-df-convert:hover {\n",
              "      background-color: #434B5C;\n",
              "      box-shadow: 0px 1px 3px 1px rgba(0, 0, 0, 0.15);\n",
              "      filter: drop-shadow(0px 1px 2px rgba(0, 0, 0, 0.3));\n",
              "      fill: #FFFFFF;\n",
              "    }\n",
              "  </style>\n",
              "\n",
              "      <script>\n",
              "        const buttonEl =\n",
              "          document.querySelector('#df-6bef7b5a-c513-4fa1-b0f0-9e9dedcd1b15 button.colab-df-convert');\n",
              "        buttonEl.style.display =\n",
              "          google.colab.kernel.accessAllowed ? 'block' : 'none';\n",
              "\n",
              "        async function convertToInteractive(key) {\n",
              "          const element = document.querySelector('#df-6bef7b5a-c513-4fa1-b0f0-9e9dedcd1b15');\n",
              "          const dataTable =\n",
              "            await google.colab.kernel.invokeFunction('convertToInteractive',\n",
              "                                                     [key], {});\n",
              "          if (!dataTable) return;\n",
              "\n",
              "          const docLinkHtml = 'Like what you see? Visit the ' +\n",
              "            '<a target=\"_blank\" href=https://colab.research.google.com/notebooks/data_table.ipynb>data table notebook</a>'\n",
              "            + ' to learn more about interactive tables.';\n",
              "          element.innerHTML = '';\n",
              "          dataTable['output_type'] = 'display_data';\n",
              "          await google.colab.output.renderOutput(dataTable, element);\n",
              "          const docLink = document.createElement('div');\n",
              "          docLink.innerHTML = docLinkHtml;\n",
              "          element.appendChild(docLink);\n",
              "        }\n",
              "      </script>\n",
              "    </div>\n",
              "  </div>\n",
              "  "
            ]
          },
          "metadata": {},
          "execution_count": 17
        }
      ]
    },
    {
      "cell_type": "markdown",
      "source": [
        "# 2. Default arguments, variable-length arguments and scope"
      ],
      "metadata": {
        "id": "cN33RBhA4fvA"
      }
    },
    {
      "cell_type": "markdown",
      "source": [
        "# 2.1 Scope and user-defined functions\n",
        " * Not all objects are aceessible everywhere in a script.\n",
        " * Scope - part of the program where an object or name may be accessible\n",
        "    * Global scope - defined in the main body of a script (전역변수)\n",
        "    * Local scope - defined inside a function (지역변수)\n",
        "    * Built-in scope - names in the pre-defined built-ins module (`print` , `sum` 과 같이 python이 기본 제공하는 것들)\n"
      ],
      "metadata": {
        "id": "0X3jsweO4pH8"
      }
    },
    {
      "cell_type": "code",
      "source": [
        "# Global VS Local \n",
        "\n",
        "def square(value) :\n",
        "    \"\"\"Return the square of a value.\"\"\"\n",
        "    new_value = value ** 2\n",
        "    return new_value\n",
        "\n",
        "square(3)"
      ],
      "metadata": {
        "colab": {
          "base_uri": "https://localhost:8080/"
        },
        "id": "z6Je4nrWTOOh",
        "outputId": "572e996e-a5be-4d96-cea8-f225dcc8ced8"
      },
      "execution_count": 1,
      "outputs": [
        {
          "output_type": "execute_result",
          "data": {
            "text/plain": [
              "9"
            ]
          },
          "metadata": {},
          "execution_count": 1
        }
      ]
    },
    {
      "cell_type": "code",
      "source": [
        "new_value # 지역변수이기 때문에 오류가 남"
      ],
      "metadata": {
        "colab": {
          "base_uri": "https://localhost:8080/",
          "height": 174
        },
        "id": "GS9SusLzTaO4",
        "outputId": "a9a504e2-2d1d-40e4-f1e0-570120bccf36"
      },
      "execution_count": 2,
      "outputs": [
        {
          "output_type": "error",
          "ename": "NameError",
          "evalue": "ignored",
          "traceback": [
            "\u001b[0;31m---------------------------------------------------------------------------\u001b[0m",
            "\u001b[0;31mNameError\u001b[0m                                 Traceback (most recent call last)",
            "\u001b[0;32m<ipython-input-2-1f1efd34ebdb>\u001b[0m in \u001b[0;36m<module>\u001b[0;34m\u001b[0m\n\u001b[0;32m----> 1\u001b[0;31m \u001b[0mnew_value\u001b[0m \u001b[0;31m# 지역변수이기 때문에 오류가 남\u001b[0m\u001b[0;34m\u001b[0m\u001b[0;34m\u001b[0m\u001b[0m\n\u001b[0m",
            "\u001b[0;31mNameError\u001b[0m: name 'new_value' is not defined"
          ]
        }
      ]
    },
    {
      "cell_type": "code",
      "source": [
        "# Global VS Local 2\n",
        "\n",
        "new_val = 10\n",
        "\n",
        "def square(value) :\n",
        "    \"\"\"Return the square of a value.\"\"\"\n",
        "    new_value2 = new_val ** 2\n",
        "    return new_value2\n",
        "\n",
        "# new_val이 전역변수이므로\n",
        "print(square(3)) \n",
        "print(square(6)) "
      ],
      "metadata": {
        "colab": {
          "base_uri": "https://localhost:8080/"
        },
        "id": "91Wu3ccsT0ds",
        "outputId": "5898614c-4394-4f97-fa9d-220627236993"
      },
      "execution_count": 17,
      "outputs": [
        {
          "output_type": "stream",
          "name": "stdout",
          "text": [
            "100\n",
            "100\n"
          ]
        }
      ]
    },
    {
      "cell_type": "code",
      "source": [
        "new_val = 10\n",
        "\n",
        "def square(value) : \n",
        "    \"\"\"Returns the square of a number\"\"\"\n",
        "    global new_val\n",
        "    new_val = 20\n",
        "    new_val = new_val ** 2\n",
        "    return new_val\n",
        "\n",
        "# new_val이 전역변수이지만, \"global\"을 이용하여 함수 안에서 전역변수의 값을 바꿔줌\n",
        "print(square(3))\n",
        "print(square(6))"
      ],
      "metadata": {
        "colab": {
          "base_uri": "https://localhost:8080/"
        },
        "id": "0wfsHH0PUqXT",
        "outputId": "7657233e-ab06-4aa8-dcad-ffd40d3d1e2d"
      },
      "execution_count": 19,
      "outputs": [
        {
          "output_type": "stream",
          "name": "stdout",
          "text": [
            "400\n",
            "400\n"
          ]
        }
      ]
    },
    {
      "cell_type": "code",
      "source": [
        "# Create a string: team\n",
        "team = \"teen titans\"\n",
        "\n",
        "# Define change_team()\n",
        "def change_team():\n",
        "    \"\"\"Change the value of the global variable team.\"\"\"\n",
        "\n",
        "    # Use team in global scope\n",
        "    global team\n",
        "\n",
        "    # Change the value of team in global: team\n",
        "    team = 'justice league'\n",
        "\n",
        "    return team\n",
        "\n",
        "print(team)\n",
        "print(change_team())"
      ],
      "metadata": {
        "colab": {
          "base_uri": "https://localhost:8080/"
        },
        "id": "juVkz7BcVicQ",
        "outputId": "7716a9f3-6206-4a00-8d59-0eda2917f447"
      },
      "execution_count": 31,
      "outputs": [
        {
          "output_type": "stream",
          "name": "stdout",
          "text": [
            "teen titans\n",
            "justice league\n"
          ]
        }
      ]
    },
    {
      "cell_type": "markdown",
      "source": [
        "## 2.2 Nested functions"
      ],
      "metadata": {
        "id": "Q_ce2p2VY9Xs"
      }
    },
    {
      "cell_type": "markdown",
      "source": [
        "### 2.2.1 Nested function"
      ],
      "metadata": {
        "id": "VfEZoyaqdepd"
      }
    },
    {
      "cell_type": "code",
      "source": [
        "# Nested Function이 필요한 이유 (계산을 여러번 해야할 경우 코드가 길어짐)\n",
        "\n",
        "def mod2plus5(x1, x2, x3) :\n",
        "    \"\"\"Returns the remainder plus 5 of three values.\"\"\"\n",
        "    new_x1 = x1 % 2 + 5\n",
        "    new_x2 = x2 % 2 + 5\n",
        "    new_x3 = x3 % 2 + 5\n",
        "\n",
        "    return (new_x1, new_x2, new_x3)\n",
        "\n",
        "mod2plus5(1,2,3)"
      ],
      "metadata": {
        "colab": {
          "base_uri": "https://localhost:8080/"
        },
        "id": "yiS7Db3EZiCt",
        "outputId": "12da509c-7457-4fad-8fd6-8a8266a84fbb"
      },
      "execution_count": 37,
      "outputs": [
        {
          "output_type": "execute_result",
          "data": {
            "text/plain": [
              "(6, 5, 6)"
            ]
          },
          "metadata": {},
          "execution_count": 37
        }
      ]
    },
    {
      "cell_type": "code",
      "source": [
        "def mod2plus5(x1, x2, x3) : \n",
        "    \"\"\"Returns the remainder plus 5 of three values.\"\"\"\n",
        "    def inner(x) :\n",
        "        \"\"\"Returns the remainder plus 5 of a value.\"\"\"\n",
        "        return x % 2 + 5\n",
        "\n",
        "    return (inner(x1), inner(x2), inner(x3))\n",
        "    \n",
        "mod2plus5(1,2,3)"
      ],
      "metadata": {
        "colab": {
          "base_uri": "https://localhost:8080/"
        },
        "id": "O2rABadXbizC",
        "outputId": "7e91b876-a985-45bf-c4d3-eaa132d9ab52"
      },
      "execution_count": 39,
      "outputs": [
        {
          "output_type": "execute_result",
          "data": {
            "text/plain": [
              "(6, 5, 6)"
            ]
          },
          "metadata": {},
          "execution_count": 39
        }
      ]
    },
    {
      "cell_type": "code",
      "source": [
        "# Define three_shouts\n",
        "def three_shouts(word1, word2, word3):\n",
        "    \"\"\"Returns a tuple of strings\n",
        "    concatenated with '!!!'.\"\"\"\n",
        "\n",
        "    # Define inner\n",
        "    def inner(word):\n",
        "        \"\"\"Returns a string concatenated with '!!!'.\"\"\"\n",
        "        return word + '!!!'\n",
        "\n",
        "    # Return a tuple of strings\n",
        "    return (inner(word1), inner(word2), inner(word3))\n",
        "\n",
        "# Call three_shouts() and print\n",
        "three_shouts('a', 'b', 'c')"
      ],
      "metadata": {
        "colab": {
          "base_uri": "https://localhost:8080/"
        },
        "id": "fnYQbEiUgS86",
        "outputId": "7dfd81ae-88c2-4c8b-aa18-12ee68df99aa"
      },
      "execution_count": 59,
      "outputs": [
        {
          "output_type": "execute_result",
          "data": {
            "text/plain": [
              "('a!!!', 'b!!!', 'c!!!')"
            ]
          },
          "metadata": {},
          "execution_count": 59
        }
      ]
    },
    {
      "cell_type": "markdown",
      "source": [
        "### 2.2.2 Returning Function"
      ],
      "metadata": {
        "id": "5sNJ5e2Tdbbr"
      }
    },
    {
      "cell_type": "code",
      "source": [
        "def raise_val(n) :\n",
        "    \"\"\"Return the inner function.\"\"\"\n",
        "\n",
        "    def inner(x) :\n",
        "        \"\"\"Raise x to the power of n.\"\"\"\n",
        "        raised = x ** n\n",
        "        return raised\n",
        "    \n",
        "    return inner\n",
        "\n",
        "square = raise_val(2)\n",
        "print(square) # 숫자를 제곱하는 또다른 함수가 생성된다"
      ],
      "metadata": {
        "colab": {
          "base_uri": "https://localhost:8080/"
        },
        "id": "lPbWE371cTK2",
        "outputId": "5c7aebfa-b1b0-4b7a-d80d-5319a8ec49bd"
      },
      "execution_count": 41,
      "outputs": [
        {
          "output_type": "stream",
          "name": "stdout",
          "text": [
            "<function raise_val.<locals>.inner at 0x7fa0e49ba430>\n"
          ]
        }
      ]
    },
    {
      "cell_type": "code",
      "source": [
        "cube = raise_val(3) \n",
        "print(cube) # 숫자를 세제곱하는 또다른 함수가 생성된다"
      ],
      "metadata": {
        "colab": {
          "base_uri": "https://localhost:8080/"
        },
        "id": "7uYMwidRcvGp",
        "outputId": "f5d6a348-21db-4be1-af45-dbb02332798f"
      },
      "execution_count": 43,
      "outputs": [
        {
          "output_type": "stream",
          "name": "stdout",
          "text": [
            "<function raise_val.<locals>.inner at 0x7fa0e4974ee0>\n"
          ]
        }
      ]
    },
    {
      "cell_type": "code",
      "source": [
        "print(square(2), cube(4))"
      ],
      "metadata": {
        "colab": {
          "base_uri": "https://localhost:8080/"
        },
        "id": "Jy4XNfF7c5BX",
        "outputId": "4e50e6ff-6801-46f5-cfd7-d8371d744647"
      },
      "execution_count": 44,
      "outputs": [
        {
          "output_type": "stream",
          "name": "stdout",
          "text": [
            "4 64\n"
          ]
        }
      ]
    },
    {
      "cell_type": "code",
      "source": [
        "# Define echo\n",
        "def echo(n):\n",
        "    \"\"\"Return the inner_echo function.\"\"\"\n",
        "\n",
        "    # Define inner_echo\n",
        "    def inner_echo(word1):\n",
        "        \"\"\"Concatenate n copies of word1.\"\"\"\n",
        "        echo_word = word1 * n\n",
        "        return echo_word\n",
        "\n",
        "    # Return inner_echo\n",
        "    return inner_echo\n",
        "\n",
        "# Call echo: twice\n",
        "twice = echo(2)\n",
        "\n",
        "# Call echo: thrice\n",
        "thrice = echo(3)\n",
        "\n",
        "# Call twice() and thrice() then print\n",
        "print(twice('hello'), thrice('hello'))"
      ],
      "metadata": {
        "colab": {
          "base_uri": "https://localhost:8080/"
        },
        "id": "SDNV8NXMgcs1",
        "outputId": "ee50d7d0-b538-499c-a6f1-c24ec882a4ad"
      },
      "execution_count": 58,
      "outputs": [
        {
          "output_type": "stream",
          "name": "stdout",
          "text": [
            "hellohello hellohellohello\n"
          ]
        }
      ]
    },
    {
      "cell_type": "markdown",
      "source": [
        "### 2.2.3 Using nonlocal\n",
        " * global : 일반함수 내에서 전역 변수를 대상으로 사용\n",
        " * nonlocal : 중첩함수 내에서 비지역 변수를 대상으로 사용"
      ],
      "metadata": {
        "id": "7kIofnnSdQQU"
      }
    },
    {
      "cell_type": "code",
      "source": [
        "# num : print_nums() 입장에서 보면 지역 변수 / change_num() 입장에서 보면 비지역 변수\n",
        "\n",
        "def print_nums():\n",
        "    num = 0 # 비지역 변수\n",
        "\n",
        "    def change_num():\n",
        "        print(num)\n",
        "\n",
        "    change_num()\n",
        "    print(num)\n",
        "\n",
        "print_nums()  # change_num()과 print(num)의 값"
      ],
      "metadata": {
        "colab": {
          "base_uri": "https://localhost:8080/"
        },
        "id": "S3aU3dm6e3NI",
        "outputId": "f33c8330-5396-4057-db93-a3e6e6b85769"
      },
      "execution_count": 50,
      "outputs": [
        {
          "output_type": "stream",
          "name": "stdout",
          "text": [
            "0\n",
            "0\n"
          ]
        }
      ]
    },
    {
      "cell_type": "code",
      "source": [
        "# change_num 안에서 num 값을 바꾸기\n",
        "\n",
        "def print_nums():\n",
        "    num = 0\n",
        "\n",
        "    def change_num():\n",
        "        num = 100\n",
        "        print(num)\n",
        "\n",
        "    change_num()\n",
        "    print(num)\n",
        "\n",
        "print_nums()  # change_num()과 print(num)의 값"
      ],
      "metadata": {
        "colab": {
          "base_uri": "https://localhost:8080/"
        },
        "id": "kvGrw0MlfD47",
        "outputId": "8c04872a-2442-4f6f-8e0e-6e733303ac36"
      },
      "execution_count": 51,
      "outputs": [
        {
          "output_type": "stream",
          "name": "stdout",
          "text": [
            "100\n",
            "0\n"
          ]
        }
      ]
    },
    {
      "cell_type": "code",
      "source": [
        "# change_num() 함수 바깥에서 선언된 num이라는 비지역 변수의 값을 change_num() 함수 안에서 갱신하고 싶은 경우\n",
        "# Using nonlocal\n",
        "\n",
        "def print_nums():\n",
        "    num = 0\n",
        "\n",
        "    def change_num():\n",
        "        nonlocal num\n",
        "        num = 100\n",
        "        print(num)\n",
        "\n",
        "    change_num()\n",
        "    print(num)\n",
        "\n",
        "print_nums() # change_num()과 print(num)의 값"
      ],
      "metadata": {
        "colab": {
          "base_uri": "https://localhost:8080/"
        },
        "id": "NatTvx74f5Kf",
        "outputId": "484d886e-2ec9-4485-b81d-bcbc7c7ea780"
      },
      "execution_count": 56,
      "outputs": [
        {
          "output_type": "stream",
          "name": "stdout",
          "text": [
            "100\n",
            "100\n"
          ]
        }
      ]
    },
    {
      "cell_type": "markdown",
      "source": [
        "## 2.3 Default and Flexible Arguments"
      ],
      "metadata": {
        "id": "kMmIPuRdhIN-"
      }
    },
    {
      "cell_type": "markdown",
      "source": [
        "### 2.3.1 Add a default argument"
      ],
      "metadata": {
        "id": "Ovq9fdIHhUw3"
      }
    },
    {
      "cell_type": "code",
      "source": [
        "def power(number, pow=1) :\n",
        "    \"\"\"Raise number to the power of pow.\"\"\"\n",
        "    new_value = number ** pow\n",
        "    return new_value\n",
        "\n",
        "power(9,2)"
      ],
      "metadata": {
        "colab": {
          "base_uri": "https://localhost:8080/"
        },
        "id": "bDhsTXK2hYej",
        "outputId": "36c17543-fe6f-46ab-f23b-9fd150814a46"
      },
      "execution_count": 61,
      "outputs": [
        {
          "output_type": "execute_result",
          "data": {
            "text/plain": [
              "81"
            ]
          },
          "metadata": {},
          "execution_count": 61
        }
      ]
    },
    {
      "cell_type": "code",
      "source": [
        "power(9)"
      ],
      "metadata": {
        "colab": {
          "base_uri": "https://localhost:8080/"
        },
        "id": "noHgKbvshklb",
        "outputId": "c9526154-d1b5-4aef-fb47-496be67296b0"
      },
      "execution_count": 62,
      "outputs": [
        {
          "output_type": "execute_result",
          "data": {
            "text/plain": [
              "9"
            ]
          },
          "metadata": {},
          "execution_count": 62
        }
      ]
    },
    {
      "cell_type": "code",
      "source": [
        "# Define shout_echo\n",
        "def shout_echo(word1, echo=1, intense=False):\n",
        "    \"\"\"Concatenate echo copies of word1 and three\n",
        "    exclamation marks at the end of the string.\"\"\"\n",
        "\n",
        "    # Concatenate echo copies of word1 using *: echo_word\n",
        "    echo_word = word1 * echo\n",
        "\n",
        "    # Make echo_word uppercase if intense is True\n",
        "    if intense is True:\n",
        "        # Make uppercase and concatenate '!!!': echo_word_new\n",
        "        echo_word_new = echo_word.upper() + '!!!'\n",
        "    else:\n",
        "        # Concatenate '!!!' to echo_word: echo_word_new\n",
        "        echo_word_new = echo_word + '!!!'\n",
        "\n",
        "    # Return echo_word_new\n",
        "    return echo_word_new\n",
        "\n",
        "\n",
        "\n",
        "# Call shout_echo() with \"Hey\", echo=5 and intense=True: with_big_echo\n",
        "with_big_echo = shout_echo(\"Hey\", echo=5, intense=True)\n",
        "\n",
        "# Call shout_echo() with \"Hey\" and intense=True: big_no_echo\n",
        "big_no_echo = shout_echo(\"Hey\", intense=True)\n",
        "\n",
        "# Print values\n",
        "print(with_big_echo)\n",
        "print(big_no_echo)\n",
        "print(shout_echo(\"Hey\", intense=False))"
      ],
      "metadata": {
        "colab": {
          "base_uri": "https://localhost:8080/"
        },
        "id": "TGE-TWCDkh7U",
        "outputId": "dca0664d-842c-4ec7-a1d3-ec93248214de"
      },
      "execution_count": 75,
      "outputs": [
        {
          "output_type": "stream",
          "name": "stdout",
          "text": [
            "HEYHEYHEYHEYHEY!!!\n",
            "HEY!!!\n",
            "Hey!!!\n"
          ]
        }
      ]
    },
    {
      "cell_type": "markdown",
      "source": [
        "### 2.3.2 Flexible arguments : `*args`\n",
        " * 사용자가 전달하려는 인수의 수가 확실하지 않을 때\n",
        " * `*args` 가 아니라 `*a` , `*abc` 로 써도 상관 없음\n"
      ],
      "metadata": {
        "id": "rUHhVH6khsGY"
      }
    },
    {
      "cell_type": "code",
      "source": [
        "# 앞에서 나왔던 할당 연산자 +=\n",
        "\n",
        "def add_all(*args) :\n",
        "    \"\"\"Sum all values in *args together.\"\"\"\n",
        "\n",
        "    # Initialize sum\n",
        "    sum_all = 0\n",
        "\n",
        "    #$ Accumulate the sum\n",
        "    for num in args :\n",
        "        sum_all += num\n",
        "\n",
        "    return sum_all"
      ],
      "metadata": {
        "id": "B8rQoU3GhxOi"
      },
      "execution_count": 71,
      "outputs": []
    },
    {
      "cell_type": "code",
      "source": [
        "add_all(5,10,15,20)"
      ],
      "metadata": {
        "colab": {
          "base_uri": "https://localhost:8080/"
        },
        "id": "4gMDfQJLiS8A",
        "outputId": "1f5d1b74-6896-4f8f-db82-f2bedd61e674"
      },
      "execution_count": 72,
      "outputs": [
        {
          "output_type": "execute_result",
          "data": {
            "text/plain": [
              "50"
            ]
          },
          "metadata": {},
          "execution_count": 72
        }
      ]
    },
    {
      "cell_type": "code",
      "source": [
        "# Define gibberish\n",
        "def gibberish(*args):\n",
        "    \"\"\"Concatenate strings in *args together.\"\"\"\n",
        "\n",
        "    # Initialize an empty string: hodgepodge\n",
        "    hodgepodge = ''\n",
        "\n",
        "    # Concatenate the strings in args\n",
        "    for word in args:\n",
        "        hodgepodge += word\n",
        "\n",
        "    # Return hodgepodge\n",
        "    return hodgepodge\n",
        "\n",
        "\n",
        "# Call gibberish() with one string: one_word\n",
        "one_word = gibberish(\"luke\")\n",
        "\n",
        "# Call gibberish() with five strings: many_words\n",
        "many_words = gibberish(\"luke\", \"leia\", \"han\", \"obi\", \"darth\")\n",
        "\n",
        "# Print one_word and many_words\n",
        "print(one_word)\n",
        "print(many_words)"
      ],
      "metadata": {
        "colab": {
          "base_uri": "https://localhost:8080/"
        },
        "id": "jtvLnlmQlK0E",
        "outputId": "bbbf7735-7c10-419f-f39a-248fc301e443"
      },
      "execution_count": 76,
      "outputs": [
        {
          "output_type": "stream",
          "name": "stdout",
          "text": [
            "luke\n",
            "lukeleiahanobidarth\n"
          ]
        }
      ]
    },
    {
      "cell_type": "markdown",
      "source": [
        "### 2.3.3 Flexible arguments : `**kwargs` (=keyword argument)\n",
        " * (키워드 = 특정값) 형태로 함수를 호출 (사전의 형식)\n",
        " * `**kwargs` 가 아니라 `**a` , `**abc` 로 써도 상관 없음"
      ],
      "metadata": {
        "id": "5IDe9TL8jer9"
      }
    },
    {
      "cell_type": "code",
      "source": [
        "def name_and_age(**kwargs):\n",
        "\tprint(kwargs)\n",
        "    \n",
        "name_and_age(name=\"홍길동\", age=\"50\")"
      ],
      "metadata": {
        "colab": {
          "base_uri": "https://localhost:8080/"
        },
        "id": "ekDZvLsxkT14",
        "outputId": "f8283360-ecff-492b-9505-60238991a7f8"
      },
      "execution_count": 73,
      "outputs": [
        {
          "output_type": "stream",
          "name": "stdout",
          "text": [
            "{'name': '홍길동', 'age': '50'}\n"
          ]
        }
      ]
    },
    {
      "cell_type": "code",
      "source": [
        "# \\n : 개행\n",
        "\n",
        "# Define report_status\n",
        "def report_status(**kwargs):\n",
        "    \"\"\"Print out the status of a movie character.\"\"\"\n",
        "\n",
        "    print(\"\\nBEGIN: REPORT\\n\")\n",
        "\n",
        "    # Iterate over the key-value pairs of kwargs\n",
        "    for key, value in kwargs.items():\n",
        "        # Print out the keys and values, separated by a colon ':'\n",
        "        print(key + \": \" + value)\n",
        "\n",
        "    print(\"\\nEND REPORT\")\n"
      ],
      "metadata": {
        "colab": {
          "base_uri": "https://localhost:8080/"
        },
        "id": "pUdter13lmvg",
        "outputId": "39d66e3b-48b0-4a3c-bad9-b71bdbb7bc6e"
      },
      "execution_count": 79,
      "outputs": [
        {
          "output_type": "stream",
          "name": "stdout",
          "text": [
            "\n",
            "BEGIN: REPORT\n",
            "\n",
            "name: luke\n",
            "affiliation: jedi\n",
            "status: missing\n",
            "\n",
            "END REPORT\n"
          ]
        }
      ]
    },
    {
      "cell_type": "code",
      "source": [
        "# First call to report_status()\n",
        "report_status(name='luke',affiliation='jedi',status='missing')"
      ],
      "metadata": {
        "colab": {
          "base_uri": "https://localhost:8080/"
        },
        "id": "S_1Hxm39mBbv",
        "outputId": "d10a867a-144c-4e97-8d51-75a30e63c354"
      },
      "execution_count": 80,
      "outputs": [
        {
          "output_type": "stream",
          "name": "stdout",
          "text": [
            "\n",
            "BEGIN: REPORT\n",
            "\n",
            "name: luke\n",
            "affiliation: jedi\n",
            "status: missing\n",
            "\n",
            "END REPORT\n"
          ]
        }
      ]
    },
    {
      "cell_type": "code",
      "source": [
        "# Second call to report_status()\n",
        "report_status(name='anakin', affiliation='sith lord', status='deceased')"
      ],
      "metadata": {
        "colab": {
          "base_uri": "https://localhost:8080/"
        },
        "id": "ilg-2EwEl-t0",
        "outputId": "90251b03-341c-40ef-bf37-66168fb5e7a8"
      },
      "execution_count": 78,
      "outputs": [
        {
          "output_type": "stream",
          "name": "stdout",
          "text": [
            "\n",
            "BEGIN: REPORT\n",
            "\n",
            "name: anakin\n",
            "affiliation: sith lord\n",
            "status: deceased\n",
            "\n",
            "END REPORT\n"
          ]
        }
      ]
    },
    {
      "cell_type": "markdown",
      "source": [
        "### 2.3.4 Twitter Data로 연습"
      ],
      "metadata": {
        "id": "rbSClL-dmtVH"
      }
    },
    {
      "cell_type": "code",
      "source": [
        "import pandas as pd\n",
        "\n",
        "PATH = \"/content/drive/MyDrive/KUBIG\"\n",
        "df = pd.read_csv(PATH+\"/tweets.csv\")"
      ],
      "metadata": {
        "id": "Yic3Hgcgm8IC"
      },
      "execution_count": 82,
      "outputs": []
    },
    {
      "cell_type": "code",
      "source": [
        "# Define count_entries()\n",
        "\n",
        "def count_entries(df, col_name):\n",
        "    \"\"\"Return a dictionary with counts of\n",
        "    occurrences as value for each key.\"\"\"\n",
        "\n",
        "    # Initialize an empty dictionary: cols_count\n",
        "    cols_count = {}\n",
        "\n",
        "    # Extract column from DataFrame: col\n",
        "    col = df[col_name]\n",
        "    \n",
        "    # Iterate over the column in DataFrame\n",
        "    for entry in col:\n",
        "\n",
        "        # If entry is in cols_count, add 1\n",
        "        if entry in cols_count.keys():\n",
        "            cols_count[entry] += 1\n",
        "\n",
        "        # Else add the entry to cols_count, set the value to 1\n",
        "        else:\n",
        "            cols_count[entry] = 1\n",
        "\n",
        "    # Return the cols_count dictionary\n",
        "    return cols_count\n",
        "\n",
        "# Call count_entries(): result1\n",
        "result1 = count_entries(df,'lang')\n",
        "\n",
        "# Call count_entries(): result2\n",
        "result2 = count_entries(df,'source')"
      ],
      "metadata": {
        "id": "kr4-o2r5nR9B"
      },
      "execution_count": 88,
      "outputs": []
    },
    {
      "cell_type": "code",
      "source": [
        "# Print result1\n",
        "print(result1)"
      ],
      "metadata": {
        "colab": {
          "base_uri": "https://localhost:8080/"
        },
        "id": "aNYL6fjxnjGZ",
        "outputId": "f4042a41-f8a2-4bfa-a979-b063470804a9"
      },
      "execution_count": 86,
      "outputs": [
        {
          "output_type": "stream",
          "name": "stdout",
          "text": [
            "{'en': 97, 'et': 1, 'und': 2}\n"
          ]
        }
      ]
    },
    {
      "cell_type": "code",
      "source": [
        "df.source.head()"
      ],
      "metadata": {
        "colab": {
          "base_uri": "https://localhost:8080/"
        },
        "id": "SYxhMnaGn2pG",
        "outputId": "ede767fd-bead-4a8e-dc10-cc678015bf75"
      },
      "execution_count": 89,
      "outputs": [
        {
          "output_type": "execute_result",
          "data": {
            "text/plain": [
              "0    <a href=\"http://twitter.com\" rel=\"nofollow\">Tw...\n",
              "1    <a href=\"http://twitter.com\" rel=\"nofollow\">Tw...\n",
              "2    <a href=\"http://www.facebook.com/twitter\" rel=...\n",
              "3    <a href=\"http://twitter.com/download/android\" ...\n",
              "4    <a href=\"http://twitter.com/download/iphone\" r...\n",
              "Name: source, dtype: object"
            ]
          },
          "metadata": {},
          "execution_count": 89
        }
      ]
    },
    {
      "cell_type": "code",
      "source": [
        "# 각 소스 별 횟수\n",
        "# Print result2\n",
        "print(result2)"
      ],
      "metadata": {
        "colab": {
          "base_uri": "https://localhost:8080/"
        },
        "id": "86Mm8eDGnlN4",
        "outputId": "32704a80-966f-4c26-9ef8-a0bc25a56a15"
      },
      "execution_count": 87,
      "outputs": [
        {
          "output_type": "stream",
          "name": "stdout",
          "text": [
            "{'<a href=\"http://twitter.com\" rel=\"nofollow\">Twitter Web Client</a>': 24, '<a href=\"http://www.facebook.com/twitter\" rel=\"nofollow\">Facebook</a>': 1, '<a href=\"http://twitter.com/download/android\" rel=\"nofollow\">Twitter for Android</a>': 26, '<a href=\"http://twitter.com/download/iphone\" rel=\"nofollow\">Twitter for iPhone</a>': 33, '<a href=\"http://www.twitter.com\" rel=\"nofollow\">Twitter for BlackBerry</a>': 2, '<a href=\"http://www.google.com/\" rel=\"nofollow\">Google</a>': 2, '<a href=\"http://twitter.com/#!/download/ipad\" rel=\"nofollow\">Twitter for iPad</a>': 6, '<a href=\"http://linkis.com\" rel=\"nofollow\">Linkis.com</a>': 2, '<a href=\"http://rutracker.org/forum/viewforum.php?f=93\" rel=\"nofollow\">newzlasz</a>': 2, '<a href=\"http://ifttt.com\" rel=\"nofollow\">IFTTT</a>': 1, '<a href=\"http://www.myplume.com/\" rel=\"nofollow\">Plume\\xa0for\\xa0Android</a>': 1}\n"
          ]
        }
      ]
    },
    {
      "cell_type": "code",
      "source": [
        "# Define count_entries()\n",
        "def count_entries(df, *args):\n",
        "    \"\"\"Return a dictionary with counts of\n",
        "    occurrences as value for each key.\"\"\"\n",
        "    \n",
        "    #Initialize an empty dictionary: cols_count\n",
        "    cols_count = {}\n",
        "    \n",
        "    # Iterate over column names in args\n",
        "    for col_name in args:\n",
        "    \n",
        "        # Extract column from DataFrame: col\n",
        "        col = df[col_name]\n",
        "    \n",
        "        # Iterate over the column in DataFrame\n",
        "        for entry in col:\n",
        "    \n",
        "            # If entry is in cols_count, add 1\n",
        "            if entry in cols_count.keys():\n",
        "                cols_count[entry] += 1\n",
        "    \n",
        "            # Else add the entry to cols_count, set the value to 1\n",
        "            else:\n",
        "                cols_count[entry] = 1\n",
        "\n",
        "    # Return the cols_count dictionary\n",
        "    return cols_count\n",
        "\n",
        "# Call count_entries(): result1\n",
        "result1 = count_entries(df, 'lang')\n",
        "\n",
        "# Call count_entries(): result2\n",
        "result2 = count_entries(df, 'lang', 'source')"
      ],
      "metadata": {
        "id": "SxBOLS4DoSA7"
      },
      "execution_count": null,
      "outputs": []
    },
    {
      "cell_type": "code",
      "source": [
        "# Print result1\n",
        "print(result1)"
      ],
      "metadata": {
        "colab": {
          "base_uri": "https://localhost:8080/"
        },
        "id": "vE503Yvmo887",
        "outputId": "61a7d6ed-70e2-4e5a-ee47-1569090e31d0"
      },
      "execution_count": 90,
      "outputs": [
        {
          "output_type": "stream",
          "name": "stdout",
          "text": [
            "{'en': 97, 'et': 1, 'und': 2}\n"
          ]
        }
      ]
    },
    {
      "cell_type": "code",
      "source": [
        "# Print result2\n",
        "print(result2)"
      ],
      "metadata": {
        "colab": {
          "base_uri": "https://localhost:8080/"
        },
        "id": "ewAelm0ApBON",
        "outputId": "b594a895-6c2b-4967-d4cb-c315a916466b"
      },
      "execution_count": 91,
      "outputs": [
        {
          "output_type": "stream",
          "name": "stdout",
          "text": [
            "{'<a href=\"http://twitter.com\" rel=\"nofollow\">Twitter Web Client</a>': 24, '<a href=\"http://www.facebook.com/twitter\" rel=\"nofollow\">Facebook</a>': 1, '<a href=\"http://twitter.com/download/android\" rel=\"nofollow\">Twitter for Android</a>': 26, '<a href=\"http://twitter.com/download/iphone\" rel=\"nofollow\">Twitter for iPhone</a>': 33, '<a href=\"http://www.twitter.com\" rel=\"nofollow\">Twitter for BlackBerry</a>': 2, '<a href=\"http://www.google.com/\" rel=\"nofollow\">Google</a>': 2, '<a href=\"http://twitter.com/#!/download/ipad\" rel=\"nofollow\">Twitter for iPad</a>': 6, '<a href=\"http://linkis.com\" rel=\"nofollow\">Linkis.com</a>': 2, '<a href=\"http://rutracker.org/forum/viewforum.php?f=93\" rel=\"nofollow\">newzlasz</a>': 2, '<a href=\"http://ifttt.com\" rel=\"nofollow\">IFTTT</a>': 1, '<a href=\"http://www.myplume.com/\" rel=\"nofollow\">Plume\\xa0for\\xa0Android</a>': 1}\n"
          ]
        }
      ]
    }
  ]
}