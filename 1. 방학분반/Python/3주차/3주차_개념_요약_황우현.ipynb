{
 "cells": [
  {
   "attachments": {},
   "cell_type": "markdown",
   "metadata": {},
   "source": [
    "# Week 3 : Python Data Science Toolbox (Part 1)"
   ]
  },
  {
   "attachments": {},
   "cell_type": "markdown",
   "metadata": {},
   "source": [
    "## Writing your own functions"
   ]
  },
  {
   "attachments": {},
   "cell_type": "markdown",
   "metadata": {},
   "source": [
    "### User-defined functions & Single parameter functions\n",
    "- Built-in functions  \n",
    "\n",
    "ex) `str()`  \n",
    "    \n",
    " \n",
    "- User-defined function  \n",
    "\n",
    "ex)  \n",
    "\n",
    "```\n",
    "def func(value) : ## function header\n",
    "    new_value = value ** 2  ## function parameter\n",
    "    print(new_value)\n",
    "```\n",
    "\n",
    "```\n",
    "def func() : ## function header\n",
    "    new_value = value ** 2  ## function parameter\n",
    "    return new_value  ## can assign to another variable\n",
    "```\n",
    "\n",
    "- Docstrings : documentation for your function\n",
    "    - Placed in the immediate line after the function header"
   ]
  },
  {
   "cell_type": "code",
   "execution_count": 1,
   "metadata": {},
   "outputs": [
    {
     "name": "stdout",
     "output_type": "stream",
     "text": [
      "dataanalysisvisualization\n",
      "3\n",
      "111\n"
     ]
    }
   ],
   "source": [
    "# Strings\n",
    "object1 = \"data\" + \"analysis\" + \"visualization\"\n",
    "object2 = 1 * 3\n",
    "object3 = \"1\" * 3\n",
    "print(object1)\n",
    "print(object2)\n",
    "print(object3)"
   ]
  },
  {
   "cell_type": "code",
   "execution_count": 2,
   "metadata": {},
   "outputs": [
    {
     "name": "stdout",
     "output_type": "stream",
     "text": [
      "4.89\n",
      "<class 'str'>\n",
      "<class 'NoneType'>\n"
     ]
    }
   ],
   "source": [
    "# Built-in functions\n",
    "x = 4.89\n",
    "y1 = str(x)\n",
    "y2 = print(x)\n",
    "print(type(y1))\n",
    "print(type(y2))"
   ]
  },
  {
   "cell_type": "code",
   "execution_count": 4,
   "metadata": {},
   "outputs": [
    {
     "name": "stdout",
     "output_type": "stream",
     "text": [
      "congratulations!!!\n"
     ]
    }
   ],
   "source": [
    "# Writing a simple function\n",
    "def shout():\n",
    "    \"\"\"Print a string with three exclamation marks\"\"\"\n",
    "    shout_word = 'congratulations'+'!!!'\n",
    "    print(shout_word)\n",
    "\n",
    "shout()"
   ]
  },
  {
   "cell_type": "code",
   "execution_count": 5,
   "metadata": {},
   "outputs": [
    {
     "name": "stdout",
     "output_type": "stream",
     "text": [
      "congrats!!!\n"
     ]
    }
   ],
   "source": [
    "# Single-parameter function\n",
    "def shout(word):\n",
    "    \"\"\"Print a string with three exclamation marks\"\"\"\n",
    "    shout_word = word+'!!!'\n",
    "    print(shout_word)\n",
    "\n",
    "shout('congrats')"
   ]
  },
  {
   "cell_type": "code",
   "execution_count": 7,
   "metadata": {},
   "outputs": [
    {
     "name": "stdout",
     "output_type": "stream",
     "text": [
      "congrats!!!\n"
     ]
    }
   ],
   "source": [
    "# Functions that return single values\n",
    "def shout(word):\n",
    "    \"\"\"Print a string with three exclamation marks\"\"\"\n",
    "    shout_word = word+'!!!'\n",
    "    return shout_word\n",
    "\n",
    "yell = shout('congrats')\n",
    "print(yell)"
   ]
  },
  {
   "attachments": {},
   "cell_type": "markdown",
   "metadata": {},
   "source": [
    "### Multiple Parameters and Return Values\n",
    "- Accept more than 1 parameter :  \n",
    "\n",
    "ex)  \n",
    "```\n",
    "def raise_to_power(val1, val2) :\n",
    "    '''Raise val1 to the power of val2'''\n",
    "    new_value = val1 ** val2\n",
    "    return new_value\n",
    "```\n",
    "\n",
    "- Tuples\n",
    "    - Can contain multiple values\n",
    "    - Immutable\n",
    "    - Parentheses\n",
    "    - Unpack a tuple into several variables\n",
    "    - Access tuple elements like lists\n",
    "\n",
    "- Returning multiple values\n",
    "\n",
    "ex)\n",
    "```\n",
    "def raise_to_power(val1, val2) :\n",
    "    '''Raise val1 to the power of val2 and vice versa'''\n",
    "    new_value1 = val1 ** val2\n",
    "    new_value2 = val2 ** val1\n",
    "    new_tuple = (new_value1, new_value2)\n",
    "    return new_value\n",
    "```"
   ]
  },
  {
   "cell_type": "code",
   "execution_count": 8,
   "metadata": {},
   "outputs": [
    {
     "name": "stdout",
     "output_type": "stream",
     "text": [
      "congratulations!!!you!!!\n"
     ]
    }
   ],
   "source": [
    "# Functions with multiple parameters\n",
    "def shout(word1, word2):\n",
    "    shout1 = word1 + '!!!'\n",
    "    shout2 = word2 + '!!!'\n",
    "    new_shout = shout1 + shout2\n",
    "    return new_shout\n",
    "\n",
    "yell = shout('congratulations','you')\n",
    "print(yell)"
   ]
  },
  {
   "cell_type": "code",
   "execution_count": 9,
   "metadata": {},
   "outputs": [
    {
     "name": "stdout",
     "output_type": "stream",
     "text": [
      "(2, 4, 6)\n"
     ]
    }
   ],
   "source": [
    "# Tuples and unpacking them\n",
    "nums = (3, 4, 6)\n",
    "n1, n2, n3 = nums\n",
    "even_nums = (2, n2, n3)\n",
    "print(even_nums)"
   ]
  },
  {
   "cell_type": "code",
   "execution_count": 10,
   "metadata": {},
   "outputs": [
    {
     "name": "stdout",
     "output_type": "stream",
     "text": [
      "congratulations!!!\n",
      "you!!!\n"
     ]
    }
   ],
   "source": [
    "# Functions that return multiple values\n",
    "def shout_all(word1, word2):\n",
    "    shout1 = word1 + '!!!'\n",
    "    shout2 = word2 + '!!!'\n",
    "    shout_words = (shout1, shout2)\n",
    "    return shout_words\n",
    "\n",
    "yell1, yell2 = shout_all('congratulations','you')\n",
    "print(yell1)\n",
    "print(yell2)"
   ]
  },
  {
   "attachments": {},
   "cell_type": "markdown",
   "metadata": {},
   "source": [
    "### Bringing it all together\n",
    "- Function for analyzing Twitter data"
   ]
  },
  {
   "cell_type": "code",
   "execution_count": 11,
   "metadata": {},
   "outputs": [
    {
     "data": {
      "text/plain": [
       "\"\\n# Import pandas\\nimport pandas as pd\\n\\n# Import Twitter data as DataFrame: df\\ndf = pd.read_csv('tweets.csv')\\n\\n# Initialize an empty dictionary: langs_count\\nlangs_count = {}\\n\\n# Extract column from DataFrame: col\\ncol = df['lang']\\n\\n# Iterate over lang column in DataFrame\\nfor entry in col:\\n\\n    # If the language is in langs_count, add 1 \\n    if entry in langs_count.keys():\\n        langs_count[entry] += 1\\n    # Else add the language to langs_count, set the value to 1\\n    else:\\n        langs_count[entry] = 1\\n\\n# Print the populated dictionary\\nprint(langs_count)\\n\""
      ]
     },
     "execution_count": 11,
     "metadata": {},
     "output_type": "execute_result"
    }
   ],
   "source": [
    "'''\n",
    "# Import pandas\n",
    "import pandas as pd\n",
    "\n",
    "# Import Twitter data as DataFrame: df\n",
    "df = pd.read_csv('tweets.csv')\n",
    "\n",
    "# Initialize an empty dictionary: langs_count\n",
    "langs_count = {}\n",
    "\n",
    "# Extract column from DataFrame: col\n",
    "col = df['lang']\n",
    "\n",
    "# Iterate over lang column in DataFrame\n",
    "for entry in col:\n",
    "\n",
    "    # If the language is in langs_count, add 1 \n",
    "    if entry in langs_count.keys():\n",
    "        langs_count[entry] += 1\n",
    "    # Else add the language to langs_count, set the value to 1\n",
    "    else:\n",
    "        langs_count[entry] = 1\n",
    "\n",
    "# Print the populated dictionary\n",
    "print(langs_count)\n",
    "'''"
   ]
  },
  {
   "cell_type": "code",
   "execution_count": 12,
   "metadata": {},
   "outputs": [
    {
     "data": {
      "text/plain": [
       "'\\n# Define count_entries()\\ndef count_entries(df, col_name):\\n    \"\"\"Return a dictionary with counts of \\n    occurrences as value for each key.\"\"\"\\n\\n    # Initialize an empty dictionary: langs_count\\n    langs_count = {}\\n    \\n    # Extract column from DataFrame: col\\n    col = df[col_name]\\n    \\n    # Iterate over lang column in DataFrame\\n    for entry in col:\\n\\n        # If the language is in langs_count, add 1\\n        if entry in langs_count.keys():\\n            langs_count[entry] +=1\\n        # Else add the language to langs_count, set the value to 1\\n        else:\\n            langs_count[entry] = 1\\n\\n    # Return the langs_count dictionary\\n    return langs_count\\n\\n# Call count_entries(): result\\nresult = count_entries(tweets_df, \\'lang\\')\\n\\n# Print the result\\nprint(result)\\n'"
      ]
     },
     "execution_count": 12,
     "metadata": {},
     "output_type": "execute_result"
    }
   ],
   "source": [
    "'''\n",
    "# Define count_entries()\n",
    "def count_entries(df, col_name):\n",
    "    \"\"\"Return a dictionary with counts of \n",
    "    occurrences as value for each key.\"\"\"\n",
    "\n",
    "    # Initialize an empty dictionary: langs_count\n",
    "    langs_count = {}\n",
    "    \n",
    "    # Extract column from DataFrame: col\n",
    "    col = df[col_name]\n",
    "    \n",
    "    # Iterate over lang column in DataFrame\n",
    "    for entry in col:\n",
    "\n",
    "        # If the language is in langs_count, add 1\n",
    "        if entry in langs_count.keys():\n",
    "            langs_count[entry] +=1\n",
    "        # Else add the language to langs_count, set the value to 1\n",
    "        else:\n",
    "            langs_count[entry] = 1\n",
    "\n",
    "    # Return the langs_count dictionary\n",
    "    return langs_count\n",
    "\n",
    "# Call count_entries(): result\n",
    "result = count_entries(tweets_df, 'lang')\n",
    "\n",
    "# Print the result\n",
    "print(result)\n",
    "'''"
   ]
  },
  {
   "attachments": {},
   "cell_type": "markdown",
   "metadata": {},
   "source": [
    "## Default arguments, variable-length arguments and scope"
   ]
  },
  {
   "attachments": {},
   "cell_type": "markdown",
   "metadata": {},
   "source": [
    "### Scope and user-defined functions\n",
    "- Scope : part of the programe where an object or name may be accessible\n",
    "    - `global` : defined in the main body of a script\n",
    "    - `local` : defined within the function -> cannot access outside function\n",
    "    - `Built-in scope` : names pre-defined\n",
    "    - First look at local scope, then look at global scope"
   ]
  },
  {
   "cell_type": "code",
   "execution_count": 14,
   "metadata": {},
   "outputs": [
    {
     "name": "stdout",
     "output_type": "stream",
     "text": [
      "3\n",
      "10\n"
     ]
    },
    {
     "data": {
      "text/plain": [
       "6"
      ]
     },
     "execution_count": 14,
     "metadata": {},
     "output_type": "execute_result"
    }
   ],
   "source": [
    "# Scopes\n",
    "num = 5\n",
    "\n",
    "def func1():\n",
    "    num = 3\n",
    "    print(num)\n",
    "\n",
    "def func2():\n",
    "    global num\n",
    "    double_num = num * 2\n",
    "    num = 6\n",
    "    print(double_num)\n",
    "\n",
    "func1()\n",
    "func2()\n",
    "num"
   ]
  },
  {
   "cell_type": "code",
   "execution_count": 15,
   "metadata": {},
   "outputs": [
    {
     "name": "stdout",
     "output_type": "stream",
     "text": [
      "teen titans\n",
      "justice league\n"
     ]
    }
   ],
   "source": [
    "# global\n",
    "team = \"teen titans\"\n",
    "def change_team():\n",
    "    \"\"\"Change the value of the global variable team.\"\"\"\n",
    "    global team    # Use team in global scope\n",
    "    team = 'justice league'\n",
    "\n",
    "print(team)\n",
    "\n",
    "change_team()\n",
    "\n",
    "print(team)"
   ]
  },
  {
   "cell_type": "code",
   "execution_count": 16,
   "metadata": {},
   "outputs": [
    {
     "data": {
      "text/plain": [
       "['ArithmeticError',\n",
       " 'AssertionError',\n",
       " 'AttributeError',\n",
       " 'BaseException',\n",
       " 'BlockingIOError',\n",
       " 'BrokenPipeError',\n",
       " 'BufferError',\n",
       " 'BytesWarning',\n",
       " 'ChildProcessError',\n",
       " 'ConnectionAbortedError',\n",
       " 'ConnectionError',\n",
       " 'ConnectionRefusedError',\n",
       " 'ConnectionResetError',\n",
       " 'DeprecationWarning',\n",
       " 'EOFError',\n",
       " 'Ellipsis',\n",
       " 'EnvironmentError',\n",
       " 'Exception',\n",
       " 'False',\n",
       " 'FileExistsError',\n",
       " 'FileNotFoundError',\n",
       " 'FloatingPointError',\n",
       " 'FutureWarning',\n",
       " 'GeneratorExit',\n",
       " 'IOError',\n",
       " 'ImportError',\n",
       " 'ImportWarning',\n",
       " 'IndentationError',\n",
       " 'IndexError',\n",
       " 'InterruptedError',\n",
       " 'IsADirectoryError',\n",
       " 'KeyError',\n",
       " 'KeyboardInterrupt',\n",
       " 'LookupError',\n",
       " 'MemoryError',\n",
       " 'ModuleNotFoundError',\n",
       " 'NameError',\n",
       " 'None',\n",
       " 'NotADirectoryError',\n",
       " 'NotImplemented',\n",
       " 'NotImplementedError',\n",
       " 'OSError',\n",
       " 'OverflowError',\n",
       " 'PendingDeprecationWarning',\n",
       " 'PermissionError',\n",
       " 'ProcessLookupError',\n",
       " 'RecursionError',\n",
       " 'ReferenceError',\n",
       " 'ResourceWarning',\n",
       " 'RuntimeError',\n",
       " 'RuntimeWarning',\n",
       " 'StopAsyncIteration',\n",
       " 'StopIteration',\n",
       " 'SyntaxError',\n",
       " 'SyntaxWarning',\n",
       " 'SystemError',\n",
       " 'SystemExit',\n",
       " 'TabError',\n",
       " 'TimeoutError',\n",
       " 'True',\n",
       " 'TypeError',\n",
       " 'UnboundLocalError',\n",
       " 'UnicodeDecodeError',\n",
       " 'UnicodeEncodeError',\n",
       " 'UnicodeError',\n",
       " 'UnicodeTranslateError',\n",
       " 'UnicodeWarning',\n",
       " 'UserWarning',\n",
       " 'ValueError',\n",
       " 'Warning',\n",
       " 'WindowsError',\n",
       " 'ZeroDivisionError',\n",
       " '__IPYTHON__',\n",
       " '__build_class__',\n",
       " '__debug__',\n",
       " '__doc__',\n",
       " '__import__',\n",
       " '__loader__',\n",
       " '__name__',\n",
       " '__package__',\n",
       " '__spec__',\n",
       " 'abs',\n",
       " 'all',\n",
       " 'any',\n",
       " 'ascii',\n",
       " 'bin',\n",
       " 'bool',\n",
       " 'breakpoint',\n",
       " 'bytearray',\n",
       " 'bytes',\n",
       " 'callable',\n",
       " 'chr',\n",
       " 'classmethod',\n",
       " 'compile',\n",
       " 'complex',\n",
       " 'copyright',\n",
       " 'credits',\n",
       " 'delattr',\n",
       " 'dict',\n",
       " 'dir',\n",
       " 'display',\n",
       " 'divmod',\n",
       " 'enumerate',\n",
       " 'eval',\n",
       " 'exec',\n",
       " 'execfile',\n",
       " 'filter',\n",
       " 'float',\n",
       " 'format',\n",
       " 'frozenset',\n",
       " 'get_ipython',\n",
       " 'getattr',\n",
       " 'globals',\n",
       " 'hasattr',\n",
       " 'hash',\n",
       " 'help',\n",
       " 'hex',\n",
       " 'id',\n",
       " 'input',\n",
       " 'int',\n",
       " 'isinstance',\n",
       " 'issubclass',\n",
       " 'iter',\n",
       " 'len',\n",
       " 'license',\n",
       " 'list',\n",
       " 'locals',\n",
       " 'map',\n",
       " 'max',\n",
       " 'memoryview',\n",
       " 'min',\n",
       " 'next',\n",
       " 'object',\n",
       " 'oct',\n",
       " 'open',\n",
       " 'ord',\n",
       " 'pow',\n",
       " 'print',\n",
       " 'property',\n",
       " 'range',\n",
       " 'repr',\n",
       " 'reversed',\n",
       " 'round',\n",
       " 'runfile',\n",
       " 'set',\n",
       " 'setattr',\n",
       " 'slice',\n",
       " 'sorted',\n",
       " 'staticmethod',\n",
       " 'str',\n",
       " 'sum',\n",
       " 'super',\n",
       " 'tuple',\n",
       " 'type',\n",
       " 'vars',\n",
       " 'zip']"
      ]
     },
     "execution_count": 16,
     "metadata": {},
     "output_type": "execute_result"
    }
   ],
   "source": [
    "# built-ins scope\n",
    "import builtins\n",
    "dir(builtins)"
   ]
  },
  {
   "attachments": {},
   "cell_type": "markdown",
   "metadata": {},
   "source": [
    "### Nested functions\n",
    "- Function inside a function\n",
    "    - Inner -> Outer\n",
    "\n",
    "ex) \n",
    "\n",
    "```\n",
    "def mod2plus(x1, x2, x3) :\n",
    "    \"\"\"Returns the remainder plus 5 of three values\"\"\"\n",
    "    \n",
    "    def inner(x) :\n",
    "        \"\"\"Returns the remainder plus 5 of a value\"\"\"\n",
    "        return x % 2 + 5\n",
    "    \n",
    "    return (inner(x1), inner(x2), inner(x3))\n",
    "```\n",
    "\n",
    "- Returning functions\n",
    "```\n",
    "def raise_val(n) :\n",
    "    \"\"\"Returns inner function\"\"\"\n",
    "\n",
    "    def inner(x) :\n",
    "        \"\"\"Raise x to the power of n.\"\"\"\n",
    "        raised = x ** n\n",
    "        returns raised\n",
    "    \n",
    "    return inner\n",
    "```\n",
    "\n",
    "ex)\n",
    "```\n",
    "square = raise_val(2)  \n",
    "cube = raise_val(3)  \n",
    "print(square(2), cube(2)) # 4, 64\n",
    "```\n",
    "\n",
    "- `nonlocal` : for enclosing scope"
   ]
  },
  {
   "cell_type": "code",
   "execution_count": 17,
   "metadata": {},
   "outputs": [
    {
     "name": "stdout",
     "output_type": "stream",
     "text": [
      "('a!!!', 'b!!!', 'c!!!')\n"
     ]
    }
   ],
   "source": [
    "# Nested functions 1\n",
    "def three_shouts(word1, word2, word3):\n",
    "    \"\"\"Returns a tuple of strings concatenated with '!!!'.\"\"\"\n",
    "\n",
    "    def inner(word):\n",
    "        \"\"\"Returns a string concatenated with '!!!'.\"\"\"\n",
    "        return word + '!!!'\n",
    "\n",
    "    return (inner(word1), inner(word2), inner(word3))\n",
    "\n",
    "print(three_shouts('a', 'b', 'c'))"
   ]
  },
  {
   "cell_type": "code",
   "execution_count": 18,
   "metadata": {},
   "outputs": [
    {
     "name": "stdout",
     "output_type": "stream",
     "text": [
      "hellohello hellohellohello\n"
     ]
    }
   ],
   "source": [
    "# Nested functions 2\n",
    "def echo(n):\n",
    "    \"\"\"Return the inner_echo function.\"\"\"\n",
    "\n",
    "    def inner_echo(word1):\n",
    "        \"\"\"Concatenate n copies of word1.\"\"\"\n",
    "        echo_word = word1 * n\n",
    "        return echo_word\n",
    "\n",
    "    return inner_echo\n",
    "\n",
    "twice = echo(2)\n",
    "thrice = echo(3)\n",
    "\n",
    "print(twice('hello'), thrice('hello'))"
   ]
  },
  {
   "cell_type": "code",
   "execution_count": 19,
   "metadata": {},
   "outputs": [
    {
     "name": "stdout",
     "output_type": "stream",
     "text": [
      "hellohello\n",
      "hellohello!!!\n"
     ]
    }
   ],
   "source": [
    "# nonlocal\n",
    "def echo_shout(word):\n",
    "    \"\"\"Change the value of a nonlocal variable\"\"\"    \n",
    "    echo_word = word*2\n",
    "    print(echo_word)\n",
    "    \n",
    "    def shout():\n",
    "        \"\"\"Alter a variable in the enclosing scope\"\"\"    \n",
    "        nonlocal echo_word\n",
    "        echo_word = echo_word + '!!!'\n",
    "    \n",
    "    shout()\n",
    "    print(echo_word)\n",
    "\n",
    "echo_shout('hello')"
   ]
  },
  {
   "attachments": {},
   "cell_type": "markdown",
   "metadata": {},
   "source": [
    "### Default and flexible arguments\n",
    "*Default arguments*\n",
    "\n",
    "ex)\n",
    "```\n",
    "def power(number, pow=1) :\n",
    "    \"\"\"Raise number to the power of pow.\"\"\"\n",
    "    new_value = number ** pow\n",
    "    return new_value\n",
    "```\n",
    "\n",
    "Uses the default (`pow=1`) if `pow` is not defined\n",
    "\n",
    "*Flexible arguments*\n",
    "\n",
    "- `*args`\n",
    "\n",
    "ex)\n",
    "```\n",
    "def add_all(*args) :\n",
    "    \"\"\"Sum all values in *args together.\"\"\"\n",
    "    sum_all = 0\n",
    "\n",
    "    for num in args:\n",
    "        sum_all += num\n",
    "    \n",
    "    return sum_all\n",
    "```\n",
    "\n",
    "- `**kwargs`\n",
    "\n",
    "ex)\n",
    "```\n",
    "def print_all(**kwargs) :\n",
    "    \"\"\"Print out key-value pairs in **kwargs\"\"\"\n",
    "    \n",
    "    for key, value in kwarg.items() :\n",
    "        print(key + \": \" + value)\n",
    "```"
   ]
  },
  {
   "cell_type": "code",
   "execution_count": 20,
   "metadata": {},
   "outputs": [
    {
     "name": "stdout",
     "output_type": "stream",
     "text": [
      "Hey!!!\n",
      "HeyHeyHeyHeyHey!!!\n"
     ]
    }
   ],
   "source": [
    "# Functions with one default argument\n",
    "def shout_echo(word1, echo=1):\n",
    "    \"\"\"Concatenate echo copies of word1 and three\n",
    "     exclamation marks at the end of the string.\"\"\"\n",
    "\n",
    "    echo_word = word1*echo\n",
    "    shout_word = echo_word + '!!!'\n",
    "\n",
    "    return shout_word\n",
    "\n",
    "no_echo = shout_echo(\"Hey\")\n",
    "with_echo = shout_echo(\"Hey\", echo=5)\n",
    "\n",
    "print(no_echo)\n",
    "print(with_echo)"
   ]
  },
  {
   "cell_type": "code",
   "execution_count": 21,
   "metadata": {},
   "outputs": [
    {
     "name": "stdout",
     "output_type": "stream",
     "text": [
      "HEYHEYHEYHEYHEY!!!\n",
      "HEY!!!\n"
     ]
    }
   ],
   "source": [
    "# Functions with multiple default arguments\n",
    "def shout_echo(word1, echo=1, intense=False):\n",
    "    \"\"\"Concatenate echo copies of word1 and three\n",
    "    exclamation marks at the end of the string.\"\"\"\n",
    "    \n",
    "    echo_word = word1 * echo\n",
    "    \n",
    "    if intense is True:\n",
    "        echo_word_new = echo_word.upper() + '!!!'\n",
    "    else:\n",
    "        echo_word_new = echo_word + '!!!'\n",
    "\n",
    "    return echo_word_new\n",
    "\n",
    "with_big_echo = shout_echo(\"Hey\", echo=5, intense=True)\n",
    "big_no_echo = shout_echo(\"Hey\", intense=True)\n",
    "\n",
    "print(with_big_echo)\n",
    "print(big_no_echo)"
   ]
  },
  {
   "cell_type": "code",
   "execution_count": 23,
   "metadata": {},
   "outputs": [
    {
     "name": "stdout",
     "output_type": "stream",
     "text": [
      "luke\n",
      "lukeleiahanobidarth\n"
     ]
    }
   ],
   "source": [
    "# Define gibberish\n",
    "def gibberish(*args):\n",
    "    \"\"\"Concatenate strings in *args together.\"\"\"\n",
    "\n",
    "    # Initialize an empty string: hodgepodge\n",
    "    hodgepodge = \"\"\n",
    "\n",
    "    # Concatenate the strings in args\n",
    "    for word in args:\n",
    "        hodgepodge += word\n",
    "\n",
    "    # Return hodgepodge\n",
    "    return hodgepodge\n",
    "\n",
    "# Call gibberish() with one string: one_word\n",
    "one_word = gibberish(\"luke\")\n",
    "\n",
    "# Call gibberish() with five strings: many_words\n",
    "many_words = gibberish(\"luke\", \"leia\", \"han\", \"obi\", \"darth\")\n",
    "\n",
    "# Print one_word and many_words\n",
    "print(one_word)\n",
    "print(many_words)"
   ]
  },
  {
   "cell_type": "code",
   "execution_count": 24,
   "metadata": {},
   "outputs": [
    {
     "name": "stdout",
     "output_type": "stream",
     "text": [
      "\n",
      "BEGIN: REPORT\n",
      "\n",
      "name: luke\n",
      "affiliation: jedi\n",
      "status: missing\n",
      "\n",
      "END REPORT\n",
      "\n",
      "BEGIN: REPORT\n",
      "\n",
      "name: anakin\n",
      "affiliation: sith lord\n",
      "status: deceased\n",
      "\n",
      "END REPORT\n"
     ]
    }
   ],
   "source": [
    "# Functions with variable-length keyword arguments (**kwargs)\n",
    "def report_status(**kwargs):\n",
    "    \"\"\"Print out the status of a movie character.\"\"\"\n",
    "\n",
    "    print(\"\\nBEGIN: REPORT\\n\")\n",
    "\n",
    "    for key, value in kwargs.items():\n",
    "        print(key + \": \" + value)\n",
    "\n",
    "    print(\"\\nEND REPORT\")\n",
    "\n",
    "report_status(name='luke',affiliation='jedi',status='missing')\n",
    "report_status(name='anakin', affiliation='sith lord', status='deceased')"
   ]
  },
  {
   "attachments": {},
   "cell_type": "markdown",
   "metadata": {},
   "source": [
    "## Bringing it all together\n",
    "- Count occurrences for an arbitrary column"
   ]
  },
  {
   "cell_type": "code",
   "execution_count": 26,
   "metadata": {},
   "outputs": [
    {
     "data": {
      "text/plain": [
       "'\\ndef count_entries(df, col_name):\\n    \"\"\"Return a dictionary with counts of\\n    occurrences as value for each key.\"\"\"\\n\\n    cols_count = {}\\n    col = df[col_name]\\n    \\n    for entry in col:\\n        if entry in cols_count.keys():\\n            cols_count[entry] += 1\\n        else:\\n            cols_count[entry] = 1\\n\\n    return cols_count\\n\\nresult1 = count_entries(tweets_df,\\'lang\\')\\nresult2 = count_entries(tweets_df,\\'source\\')\\n\\n# Print result1 and result2\\nprint(result1)\\nprint(result2)\\n'"
      ]
     },
     "execution_count": 26,
     "metadata": {},
     "output_type": "execute_result"
    }
   ],
   "source": [
    "'''\n",
    "def count_entries(df, col_name):\n",
    "    \"\"\"Return a dictionary with counts of\n",
    "    occurrences as value for each key.\"\"\"\n",
    "\n",
    "    cols_count = {}\n",
    "    col = df[col_name]\n",
    "    \n",
    "    for entry in col:\n",
    "        if entry in cols_count.keys():\n",
    "            cols_count[entry] += 1\n",
    "        else:\n",
    "            cols_count[entry] = 1\n",
    "\n",
    "    return cols_count\n",
    "\n",
    "result1 = count_entries(tweets_df,'lang')\n",
    "result2 = count_entries(tweets_df,'source')\n",
    "\n",
    "# Print result1 and result2\n",
    "print(result1)\n",
    "print(result2)\n",
    "'''"
   ]
  },
  {
   "cell_type": "code",
   "execution_count": 27,
   "metadata": {},
   "outputs": [
    {
     "data": {
      "text/plain": [
       "'\\n# Define count_entries()\\ndef count_entries(df, *args):\\n    \"\"\"Return a dictionary with counts of\\n    occurrences as value for each key.\"\"\"\\n    \\n    #Initialize an empty dictionary: cols_count\\n    cols_count = {}\\n    \\n    # Iterate over column names in args\\n    for col_name in args:\\n    \\n        # Extract column from DataFrame: col\\n        col = df[col_name]\\n    \\n        # Iterate over the column in DataFrame\\n        for entry in col:\\n    \\n            # If entry is in cols_count, add 1\\n            if entry in cols_count.keys():\\n                cols_count[entry] += 1\\n    \\n            # Else add the entry to cols_count, set the value to 1\\n            else:\\n                cols_count[entry] = 1\\n\\n    # Return the cols_count dictionary\\n    return cols_count\\n\\n# Call count_entries(): result1\\nresult1 = count_entries(tweets_df, \\'lang\\')\\n\\n# Call count_entries(): result2\\nresult2 = count_entries(tweets_df, \\'lang\\', \\'source\\')\\n\\n# Print result1 and result2\\nprint(result1)\\nprint(result2)\\n'"
      ]
     },
     "execution_count": 27,
     "metadata": {},
     "output_type": "execute_result"
    }
   ],
   "source": [
    "'''\n",
    "# Define count_entries()\n",
    "def count_entries(df, *args):\n",
    "    \"\"\"Return a dictionary with counts of\n",
    "    occurrences as value for each key.\"\"\"\n",
    "    \n",
    "    #Initialize an empty dictionary: cols_count\n",
    "    cols_count = {}\n",
    "    \n",
    "    # Iterate over column names in args\n",
    "    for col_name in args:\n",
    "    \n",
    "        # Extract column from DataFrame: col\n",
    "        col = df[col_name]\n",
    "    \n",
    "        # Iterate over the column in DataFrame\n",
    "        for entry in col:\n",
    "    \n",
    "            # If entry is in cols_count, add 1\n",
    "            if entry in cols_count.keys():\n",
    "                cols_count[entry] += 1\n",
    "    \n",
    "            # Else add the entry to cols_count, set the value to 1\n",
    "            else:\n",
    "                cols_count[entry] = 1\n",
    "\n",
    "    # Return the cols_count dictionary\n",
    "    return cols_count\n",
    "\n",
    "# Call count_entries(): result1\n",
    "result1 = count_entries(tweets_df, 'lang')\n",
    "\n",
    "# Call count_entries(): result2\n",
    "result2 = count_entries(tweets_df, 'lang', 'source')\n",
    "\n",
    "# Print result1 and result2\n",
    "print(result1)\n",
    "print(result2)\n",
    "'''"
   ]
  },
  {
   "attachments": {},
   "cell_type": "markdown",
   "metadata": {},
   "source": [
    "## Lambda functions and error-handling"
   ]
  },
  {
   "attachments": {},
   "cell_type": "markdown",
   "metadata": {},
   "source": [
    "### Lambda functions\n",
    "```\n",
    "raise_to_power = lambda x, y: x**y\n",
    "```\n",
    "\n",
    "- `map(func, seq)` : applies the function to ALL elements in the sequence\n",
    "    - Here, using the lambda function may be useful\n",
    "- `filter(func, seq)` :  filter out elements from a list that don't satisfy certain criteria\n",
    "- `reduce(func, seq)` : `from functools import reduce`\n",
    "    - `reduce(집계 함수, 순회 가능한 데이터[, 초기값])`"
   ]
  },
  {
   "cell_type": "code",
   "execution_count": 28,
   "metadata": {},
   "outputs": [
    {
     "data": {
      "text/plain": [
       "'hello!!!'"
      ]
     },
     "execution_count": 28,
     "metadata": {},
     "output_type": "execute_result"
    }
   ],
   "source": [
    "# lambda functions\n",
    "add_bangs = lambda a: a + '!!!'\n",
    "add_bangs('hello')"
   ]
  },
  {
   "cell_type": "code",
   "execution_count": 29,
   "metadata": {},
   "outputs": [
    {
     "name": "stdout",
     "output_type": "stream",
     "text": [
      "heyheyheyheyhey\n"
     ]
    }
   ],
   "source": [
    "# Writing lambda functions\n",
    "echo_word = lambda word1, echo: word1 * echo\n",
    "result = echo_word('hey', 5)\n",
    "print(result)"
   ]
  },
  {
   "cell_type": "code",
   "execution_count": 31,
   "metadata": {},
   "outputs": [
    {
     "name": "stdout",
     "output_type": "stream",
     "text": [
      "<class 'map'>\n",
      "['protego!!!', 'accio!!!', 'expecto patronum!!!', 'legilimens!!!']\n"
     ]
    }
   ],
   "source": [
    "# map() -> returns as 'map' object\n",
    "spells = [\"protego\", \"accio\", \"expecto patronum\", \"legilimens\"]\n",
    "shout_spells = map(lambda item : item + '!!!', spells)\n",
    "print(type(shout_spells))\n",
    "\n",
    "shout_spells_list = list(shout_spells)\n",
    "print(shout_spells_list)"
   ]
  },
  {
   "cell_type": "code",
   "execution_count": 32,
   "metadata": {},
   "outputs": [
    {
     "name": "stdout",
     "output_type": "stream",
     "text": [
      "<class 'filter'>\n",
      "['samwise', 'aragorn', 'boromir', 'legolas', 'gandalf']\n"
     ]
    }
   ],
   "source": [
    "# filter() -> returns as 'filter' object\n",
    "fellowship = ['frodo', 'samwise', 'merry', 'pippin', 'aragorn', 'boromir', 'legolas', 'gimli', 'gandalf']\n",
    "result = filter(lambda a: len(a) > 6, fellowship)\n",
    "print(type(result))\n",
    "\n",
    "result_list = list(result)\n",
    "print(result_list)"
   ]
  },
  {
   "cell_type": "code",
   "execution_count": 33,
   "metadata": {},
   "outputs": [
    {
     "name": "stdout",
     "output_type": "stream",
     "text": [
      "robbsansaaryabrandonrickon\n"
     ]
    }
   ],
   "source": [
    "# reduce()\n",
    "from functools import reduce\n",
    "\n",
    "stark = ['robb', 'sansa', 'arya', 'brandon', 'rickon']\n",
    "result = reduce(lambda item1, item2: item1 + item2 , stark)\n",
    "print(result)"
   ]
  },
  {
   "attachments": {},
   "cell_type": "markdown",
   "metadata": {},
   "source": [
    "### Introduction to error handling\n",
    "- Exceptions - caught during execution\n",
    "- Catch execptions with `try-except` clause\n",
    "    - Run the code following `try`\n",
    "    - If there is `exception`, run the code following except\n",
    "- Raise an error\n",
    "    - `raise`"
   ]
  },
  {
   "cell_type": "code",
   "execution_count": 34,
   "metadata": {},
   "outputs": [
    {
     "ename": "TypeError",
     "evalue": "object of type 'int' has no len()",
     "output_type": "error",
     "traceback": [
      "\u001b[1;31m---------------------------------------------------------------------------\u001b[0m",
      "\u001b[1;31mTypeError\u001b[0m                                 Traceback (most recent call last)",
      "Cell \u001b[1;32mIn[34], line 2\u001b[0m\n\u001b[0;32m      1\u001b[0m \u001b[39m# errors\u001b[39;00m\n\u001b[1;32m----> 2\u001b[0m \u001b[39mlen\u001b[39;49m(\u001b[39m525600\u001b[39;49m) \u001b[39m# 'int' has no len()\u001b[39;00m\n",
      "\u001b[1;31mTypeError\u001b[0m: object of type 'int' has no len()"
     ]
    }
   ],
   "source": [
    "# errors\n",
    "len(525600)"
   ]
  },
  {
   "cell_type": "code",
   "execution_count": 35,
   "metadata": {},
   "outputs": [
    {
     "name": "stdout",
     "output_type": "stream",
     "text": [
      "word1 must be a string and echo must be an integer.\n"
     ]
    },
    {
     "data": {
      "text/plain": [
       "''"
      ]
     },
     "execution_count": 35,
     "metadata": {},
     "output_type": "execute_result"
    }
   ],
   "source": [
    "# Error handling with try-except\n",
    "def shout_echo(word1, echo=1):\n",
    "    \"\"\"Concatenate echo copies of word1 and three\n",
    "    exclamation marks at the end of the string.\"\"\"\n",
    "\n",
    "    echo_word = \"\"\n",
    "    shout_words = \"\"\n",
    "\n",
    "    # Add exception handling with try-except\n",
    "    try:\n",
    "        echo_word = word1 * echo\n",
    "        shout_words = echo_word + '!!!'\n",
    "    except:\n",
    "        print(\"word1 must be a string and echo must be an integer.\")\n",
    "\n",
    "    return shout_words\n",
    "\n",
    "shout_echo(\"particle\", echo=\"accelerator\")"
   ]
  },
  {
   "cell_type": "code",
   "execution_count": 40,
   "metadata": {},
   "outputs": [
    {
     "name": "stdout",
     "output_type": "stream",
     "text": [
      "particleparticleparticleparticleparticle!!!\n"
     ]
    },
    {
     "ename": "ValueError",
     "evalue": "echo must be greater than or equal to 0",
     "output_type": "error",
     "traceback": [
      "\u001b[1;31m---------------------------------------------------------------------------\u001b[0m",
      "\u001b[1;31mValueError\u001b[0m                                Traceback (most recent call last)",
      "Cell \u001b[1;32mIn[40], line 15\u001b[0m\n\u001b[0;32m     12\u001b[0m     \u001b[39mreturn\u001b[39;00m shout_word\n\u001b[0;32m     14\u001b[0m \u001b[39mprint\u001b[39m(shout_echo(\u001b[39m\"\u001b[39m\u001b[39mparticle\u001b[39m\u001b[39m\"\u001b[39m, echo\u001b[39m=\u001b[39m\u001b[39m5\u001b[39m))\n\u001b[1;32m---> 15\u001b[0m \u001b[39mprint\u001b[39m(shout_echo(\u001b[39m\"\u001b[39;49m\u001b[39mhello\u001b[39;49m\u001b[39m\"\u001b[39;49m, echo\u001b[39m=\u001b[39;49m\u001b[39m-\u001b[39;49m\u001b[39m1\u001b[39;49m))\n",
      "Cell \u001b[1;32mIn[40], line 7\u001b[0m, in \u001b[0;36mshout_echo\u001b[1;34m(word1, echo)\u001b[0m\n\u001b[0;32m      3\u001b[0m \u001b[39m\u001b[39m\u001b[39m\"\"\"Concatenate echo copies of word1 and three\u001b[39;00m\n\u001b[0;32m      4\u001b[0m \u001b[39mexclamation marks at the end of the string.\"\"\"\u001b[39;00m\n\u001b[0;32m      6\u001b[0m \u001b[39mif\u001b[39;00m echo \u001b[39m<\u001b[39m \u001b[39m0\u001b[39m:\n\u001b[1;32m----> 7\u001b[0m     \u001b[39mraise\u001b[39;00m \u001b[39mValueError\u001b[39;00m(\u001b[39m'\u001b[39m\u001b[39mecho must be greater than or equal to 0\u001b[39m\u001b[39m'\u001b[39m)\n\u001b[0;32m      9\u001b[0m echo_word \u001b[39m=\u001b[39m word1 \u001b[39m*\u001b[39m echo\n\u001b[0;32m     10\u001b[0m shout_word \u001b[39m=\u001b[39m echo_word \u001b[39m+\u001b[39m \u001b[39m'\u001b[39m\u001b[39m!!!\u001b[39m\u001b[39m'\u001b[39m\n",
      "\u001b[1;31mValueError\u001b[0m: echo must be greater than or equal to 0"
     ]
    }
   ],
   "source": [
    "# Error handling by raising an error\n",
    "def shout_echo(word1, echo=1):\n",
    "    \"\"\"Concatenate echo copies of word1 and three\n",
    "    exclamation marks at the end of the string.\"\"\"\n",
    "\n",
    "    if echo < 0:\n",
    "        raise ValueError('echo must be greater than or equal to 0')\n",
    "\n",
    "    echo_word = word1 * echo\n",
    "    shout_word = echo_word + '!!!'\n",
    "\n",
    "    return shout_word\n",
    "\n",
    "print(shout_echo(\"particle\", echo=5))\n",
    "print(shout_echo(\"hello\", echo=-1))"
   ]
  },
  {
   "attachments": {},
   "cell_type": "markdown",
   "metadata": {},
   "source": [
    "### Bringing it all together"
   ]
  },
  {
   "cell_type": "code",
   "execution_count": 41,
   "metadata": {},
   "outputs": [
    {
     "data": {
      "text/plain": [
       "\"\\nresult = filter(lambda x : x[0:2]=='RT', tweets_df['text'])\\nres_list = list(result)\\n\\nprint(res_list)\\n\""
      ]
     },
     "execution_count": 41,
     "metadata": {},
     "output_type": "execute_result"
    }
   ],
   "source": [
    "'''\n",
    "result = filter(lambda x : x[0:2]=='RT', tweets_df['text'])\n",
    "res_list = list(result)\n",
    "\n",
    "print(res_list)\n",
    "'''"
   ]
  },
  {
   "cell_type": "code",
   "execution_count": null,
   "metadata": {},
   "outputs": [],
   "source": [
    "'''\n",
    "# Define count_entries()\n",
    "def count_entries(df, col_name='lang'):\n",
    "    \"\"\"Return a dictionary with counts of\n",
    "    occurrences as value for each key.\"\"\"\n",
    "\n",
    "    # Initialize an empty dictionary: cols_count\n",
    "    cols_count = {}\n",
    "\n",
    "    # Add try block\n",
    "    try:\n",
    "        # Extract column from DataFrame: col\n",
    "        col = df[col_name]\n",
    "        \n",
    "        # Iterate over the column in DataFrame\n",
    "        for entry in col:\n",
    "    \n",
    "            # If entry is in cols_count, add 1\n",
    "            if entry in cols_count.keys():\n",
    "                cols_count[entry] += 1\n",
    "            # Else add the entry to cols_count, set the value to 1\n",
    "            else:\n",
    "                cols_count[entry] = 1\n",
    "    \n",
    "        # Return the cols_count dictionary\n",
    "        return cols_count\n",
    "\n",
    "    # Add except block\n",
    "    except:\n",
    "        print('The DataFrame does not have a ' + col_name + ' column.')\n",
    "\n",
    "# Call count_entries(): result1\n",
    "result1 = count_entries(tweets_df, 'lang')\n",
    "\n",
    "# Print result1\n",
    "print(result1)\n",
    "'''"
   ]
  },
  {
   "cell_type": "code",
   "execution_count": null,
   "metadata": {},
   "outputs": [],
   "source": [
    "'''\n",
    "# Define count_entries()\n",
    "def count_entries(df, col_name='lang'):\n",
    "    \"\"\"Return a dictionary with counts of\n",
    "    occurrences as value for each key.\"\"\"\n",
    "    \n",
    "    # Raise a ValueError if col_name is NOT in DataFrame\n",
    "    if col_name not in df.columns:\n",
    "        raise ValueError('The DataFrame does not have a ' + col_name + ' column.')\n",
    "\n",
    "    # Initialize an empty dictionary: cols_count\n",
    "    cols_count = {}\n",
    "    \n",
    "    # Extract column from DataFrame: col\n",
    "    col = df[col_name]\n",
    "    \n",
    "    # Iterate over the column in DataFrame\n",
    "    for entry in col:\n",
    "\n",
    "        # If entry is in cols_count, add 1\n",
    "        if entry in cols_count.keys():\n",
    "            cols_count[entry] += 1\n",
    "            # Else add the entry to cols_count, set the value to 1\n",
    "        else:\n",
    "            cols_count[entry] = 1\n",
    "        \n",
    "        # Return the cols_count dictionary\n",
    "    return cols_count\n",
    "\n",
    "# Call count_entries(): result1\n",
    "result1 = count_entries(tweets_df)\n",
    "\n",
    "# Print result1\n",
    "print(result1)\n",
    "'''"
   ]
  }
 ],
 "metadata": {
  "kernelspec": {
   "display_name": "Python 3",
   "language": "python",
   "name": "python3"
  },
  "language_info": {
   "codemirror_mode": {
    "name": "ipython",
    "version": 3
   },
   "file_extension": ".py",
   "mimetype": "text/x-python",
   "name": "python",
   "nbconvert_exporter": "python",
   "pygments_lexer": "ipython3",
   "version": "3.9.13"
  },
  "orig_nbformat": 4,
  "vscode": {
   "interpreter": {
    "hash": "d4f6f0289785984fddbbea0455592def84ac402f53cbc3c6d649ff107f7c3777"
   }
  }
 },
 "nbformat": 4,
 "nbformat_minor": 2
}
