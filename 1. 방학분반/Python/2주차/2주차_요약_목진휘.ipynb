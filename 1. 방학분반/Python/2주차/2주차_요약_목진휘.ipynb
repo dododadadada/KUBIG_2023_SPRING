{
  "nbformat": 4,
  "nbformat_minor": 0,
  "metadata": {
    "colab": {
      "provenance": []
    },
    "kernelspec": {
      "name": "python3",
      "display_name": "Python 3"
    },
    "language_info": {
      "name": "python"
    }
  },
  "cells": [
    {
      "cell_type": "markdown",
      "source": [
        "# 1. Matplotlib\n"
      ],
      "metadata": {
        "id": "ax_ZF2S3g9E-"
      }
    },
    {
      "cell_type": "markdown",
      "source": [
        "## 1.1. Basic plots with Matplotlib\n"
      ],
      "metadata": {
        "id": "bsNILab4iB2L"
      }
    },
    {
      "cell_type": "code",
      "source": [
        "import matplotlib.pyplot as plt\n",
        "import pandas as pd\n",
        "import numpy as np\n",
        "\n",
        "year = [1950, 1970, 1990, 2010]\n",
        "pop = [2.519, 3.692, 5.263, 6.972]\n",
        "\n",
        "# plot : 선형 보간 (직선으로 연결)\n",
        "plt.plot(year, pop); plt. show()\n",
        "\n",
        "# scatter : 산점도 (x,y축 말고도 여러 옵션들이 존재. size, color, alpha ...)\n",
        "plt.scatter(year, pop); plt.show()\n",
        "\n",
        "# xscale, yscale : x,y축을 scaling\n",
        "# plt.xscale('log') : x축을 로그 스케일링"
      ],
      "metadata": {
        "colab": {
          "base_uri": "https://localhost:8080/",
          "height": 513
        },
        "id": "2OLC-ppFiMmy",
        "outputId": "b7fff587-c48b-4d9c-c84a-111ef9d65aa5"
      },
      "execution_count": 22,
      "outputs": [
        {
          "output_type": "display_data",
          "data": {
            "text/plain": [
              "<Figure size 432x288 with 1 Axes>"
            ],
            "image/png": "[encoded data removed]"
          },
          "metadata": {
            "needs_background": "light"
          }
        },
        {
          "output_type": "display_data",
          "data": {
            "text/plain": [
              "<Figure size 432x288 with 1 Axes>"
            ],
            "image/png": "[encoded data removed]"
          },
          "metadata": {
            "needs_background": "light"
          }
        }
      ]
    },
    {
      "cell_type": "markdown",
      "source": [
        "## 1.2 Histogram\n",
        "* 1차원 데이터의 분포를 알 수 있음\n",
        "* hist(data, bins=10)\n",
        " * bins : 나눌 구간의 개수, default = 10"
      ],
      "metadata": {
        "id": "9O-lb-LWjeOv"
      }
    },
    {
      "cell_type": "code",
      "source": [
        "values = [0, 0.6, 1.4, 1.6, 2.2, 2.5, 2.6, 3.2, 3.5, 3.9, 4.2, 6]\n",
        "\n",
        "# hist : 히스토그램\n",
        "plt.hist(values, bins = 3); plt.show()"
      ],
      "metadata": {
        "colab": {
          "base_uri": "https://localhost:8080/",
          "height": 265
        },
        "id": "2VYNkqvOj2Sb",
        "outputId": "25a90c9f-82cc-4a27-a370-11a436380a3c"
      },
      "execution_count": 23,
      "outputs": [
        {
          "output_type": "display_data",
          "data": {
            "text/plain": [
              "<Figure size 432x288 with 1 Axes>"
            ],
            "image/png": "[encoded data removed]"
          },
          "metadata": {
            "needs_background": "light"
          }
        }
      ]
    },
    {
      "cell_type": "code",
      "source": [
        "# clf : figure clear (밑의 두 그림 차이 비교)\n",
        "plt.hist(values, bins = 3); plt.hist(values, bins = 2); plt.show()\n",
        "plt.hist(values, bins = 3); plt.clf(); plt.hist(values, bins = 2); plt.show() "
      ],
      "metadata": {
        "colab": {
          "base_uri": "https://localhost:8080/",
          "height": 513
        },
        "id": "U8rgVffIkePe",
        "outputId": "d9b5e1bb-5716-47b3-dc9b-c44294bfad61"
      },
      "execution_count": 24,
      "outputs": [
        {
          "output_type": "display_data",
          "data": {
            "text/plain": [
              "<Figure size 432x288 with 1 Axes>"
            ],
            "image/png": "[encoded data removed]"
          },
          "metadata": {
            "needs_background": "light"
          }
        },
        {
          "output_type": "display_data",
          "data": {
            "text/plain": [
              "<Figure size 432x288 with 1 Axes>"
            ],
            "image/png": "[encoded data removed]"
          },
          "metadata": {
            "needs_background": "light"
          }
        }
      ]
    },
    {
      "cell_type": "markdown",
      "source": [
        "## 1.3 Customization\n",
        "* Different plot types\n",
        "* Choice depends on \"Data\" or Story you want to tell\""
      ],
      "metadata": {
        "id": "XeKZeYvKks7y"
      }
    },
    {
      "cell_type": "code",
      "source": [
        "# xlabe, ylabel : x,y축 레이블링\n",
        "    # plt.xlabel(\"Year\"); plt.ylabel(\"Population\")\n",
        "\n",
        "# title : plot 제목\n",
        "    # plt.title(\"World Population Projection\")\n",
        "\n",
        "# xticks, yticks : x,y축 범위 및 단위 조절\n",
        "    # plt.yticks([0, 2, 4, 6, 8, 10])\n",
        "    # plt.yticks([0, 2, 4, 6, 8, 10], ['0', '2B', '4B', '6B', '8B', '10B']) (y축의 2를 2B로 표현, 4를 4B로 표현 ....)\n",
        "\n",
        "# text : 원하는 위치에 텍스트 표시\n",
        "    # plt.text(1550, 71, 'India')\n",
        "\n",
        "# grid : 격자점 표시 (기존에 지정한 xticks yticks 값에 따라 격자점 표시되는 듯)\n",
        "    # plt.grid(True)"
      ],
      "metadata": {
        "id": "5YWKzf5plDsr"
      },
      "execution_count": 25,
      "outputs": []
    },
    {
      "cell_type": "markdown",
      "source": [
        "# 2. Dictionaries & Pandas"
      ],
      "metadata": {
        "id": "XCm8E0EPnKgq"
      }
    },
    {
      "cell_type": "markdown",
      "source": [
        "## 2.1 Dictionaries, Part 1"
      ],
      "metadata": {
        "id": "_Fqq41qBnQK4"
      }
    },
    {
      "cell_type": "code",
      "source": [
        "# Indexing 을 이용한 연결 (Not convenient, Not intuitive)\n",
        "\n",
        "# Definition of countries and capital\n",
        "countries = ['spain', 'france', 'germany', 'norway']\n",
        "capitals = ['madrid', 'paris', 'berlin', 'oslo']\n",
        "\n",
        "# Get index of 'germany': ind_ger\n",
        "ind_ger = countries.index('germany')\n",
        "\n",
        "# Use ind_ger to print out capital of Germany\n",
        "print(capitals[ind_ger])"
      ],
      "metadata": {
        "colab": {
          "base_uri": "https://localhost:8080/"
        },
        "id": "thYu0mhWnfbT",
        "outputId": "c73c7a91-18a6-4eff-e329-08863adc12ab"
      },
      "execution_count": 16,
      "outputs": [
        {
          "output_type": "stream",
          "name": "stdout",
          "text": [
            "berlin\n"
          ]
        }
      ]
    },
    {
      "cell_type": "code",
      "source": [
        "# Dictionary 사용 (보다 편리하고 직관적)\n",
        "\n",
        "# Definition of countries and capital\n",
        "countries = ['spain', 'france', 'germany', 'norway']\n",
        "capitals = ['madrid', 'paris', 'berlin', 'oslo']\n",
        "\n",
        "# From string in countries and capitals, create dictionary europe\n",
        "europe = {'spain':'madrid', 'france':'paris', 'germany':'berlin', 'norway':'oslo' }\n",
        "\n",
        "# Print\n",
        "print(europe.keys())\n",
        "print(europe['germany'])"
      ],
      "metadata": {
        "colab": {
          "base_uri": "https://localhost:8080/"
        },
        "id": "maVqvdTan3en",
        "outputId": "c9b83c88-96e0-4acf-b1f4-9b1e6e813360"
      },
      "execution_count": 17,
      "outputs": [
        {
          "output_type": "stream",
          "name": "stdout",
          "text": [
            "dict_keys(['spain', 'france', 'germany', 'norway'])\n",
            "berlin\n"
          ]
        }
      ]
    },
    {
      "cell_type": "markdown",
      "source": [
        "## 2.2 Dictionaries, Part 2\n",
        "* Keys have to be \"immutable\" (불변) objects\n",
        "* 가령, { ['just', 'to', 'test'] : 'value'} 와 같이 key가 list형식으로써 변화가능하면 오류가 생김\n",
        "* List vs Dictionary\n",
        " * 공통점 : Select, update, and remove with [   ]\n",
        " * 차이점 : Indexed by range of numbers / Indexed by unique keys"
      ],
      "metadata": {
        "id": "EqH-VIJAoWEr"
      }
    },
    {
      "cell_type": "code",
      "source": [
        "# Definition of dictionary\n",
        "europe = {'spain':'madrid', 'france':'paris', 'germany':'bonn',\n",
        "          'norway':'oslo', 'australia':'vienna' }\n",
        "\n",
        "# Add italy to europe\n",
        "europe['italy'] = 'rome'\n",
        "\n",
        "# Print out italy in europe\n",
        "print('italy' in europe)\n",
        "\n",
        "# Add poland to europe\n",
        "europe['poland'] = 'warsaw'\n",
        "\n",
        "# Update capital of germany\n",
        "europe['germany'] = 'berlin'\n",
        "\n",
        "# Remove australia\n",
        "del europe['australia']\n",
        "\n",
        "# Print europe\n",
        "print(europe)"
      ],
      "metadata": {
        "colab": {
          "base_uri": "https://localhost:8080/"
        },
        "id": "bsHKv30VpNUn",
        "outputId": "c655826b-46de-4b07-9c69-15e98a8cc384"
      },
      "execution_count": 18,
      "outputs": [
        {
          "output_type": "stream",
          "name": "stdout",
          "text": [
            "True\n",
            "{'spain': 'madrid', 'france': 'paris', 'germany': 'berlin', 'norway': 'oslo', 'italy': 'rome', 'poland': 'warsaw'}\n"
          ]
        }
      ]
    },
    {
      "cell_type": "code",
      "source": [
        "# 고차원의 DIctionary\n",
        "# Dictionary of dictionaries\n",
        "europe = { 'spain': { 'capital':'madrid', 'population':46.77 },\n",
        "           'france': { 'capital':'paris', 'population':66.03 },\n",
        "           'germany': { 'capital':'berlin', 'population':80.62 },\n",
        "           'norway': { 'capital':'oslo', 'population':5.084 } }\n",
        "\n",
        "# Print out the capital of France\n",
        "print(europe['france']['capital'])\n",
        "\n",
        "# Create sub-dictionary data\n",
        "data = {'capital':'rome','population':59.83}\n",
        "\n",
        "# Add data to europe under key 'italy' (새롭게 할당)\n",
        "europe['italy'] = data\n",
        "\n",
        "print(europe)"
      ],
      "metadata": {
        "colab": {
          "base_uri": "https://localhost:8080/"
        },
        "id": "MqEcArfOpkGw",
        "outputId": "9421a990-98e5-4c28-929d-0f091f3404ed"
      },
      "execution_count": 19,
      "outputs": [
        {
          "output_type": "stream",
          "name": "stdout",
          "text": [
            "paris\n",
            "{'spain': {'capital': 'madrid', 'population': 46.77}, 'france': {'capital': 'paris', 'population': 66.03}, 'germany': {'capital': 'berlin', 'population': 80.62}, 'norway': {'capital': 'oslo', 'population': 5.084}, 'italy': {'capital': 'rome', 'population': 59.83}}\n"
          ]
        }
      ]
    },
    {
      "cell_type": "markdown",
      "source": [
        "## 2.3 Pandas, Part 1\n",
        " * pandas (High level data manipulation tool)\n",
        " * Dataframe from Dictionary\n",
        "  * keys (column labels)\n",
        "  * values (data, column by column) "
      ],
      "metadata": {
        "id": "IpeBe_dIqDFI"
      }
    },
    {
      "cell_type": "code",
      "source": [
        "# Dictionary를 이용하여 dataframe 생성하기\n",
        "# Pre-defined lists\n",
        "names = ['United States', 'Australia', 'Japan', 'India', 'Russia', 'Morocco', 'Egypt']\n",
        "dr =  [True, False, False, False, True, True, True]\n",
        "cpc = [809, 731, 588, 18, 200, 70, 45]\n",
        "\n",
        "# Create dictionary my_dict with three key:value pairs: my_dict\n",
        "my_dict = {'country':names, 'drives_right':dr, 'cars_per_cap': cpc}\n",
        "\n",
        "# Build a DataFrame cars from my_dict: cars\n",
        "cars = pd.DataFrame(my_dict)\n",
        "\n",
        "# Print cars\n",
        "print(cars)\n",
        "\n",
        "\n",
        "# 행 labeling\n",
        "# Definition of row_labels\n",
        "row_labels = ['US', 'AUS', 'JPN', 'IN', 'RU', 'MOR', 'EG']\n",
        "\n",
        "# Specify row labels of cars\n",
        "cars.index = row_labels\n",
        "\n",
        "# Print cars again\n",
        "print(cars)"
      ],
      "metadata": {
        "colab": {
          "base_uri": "https://localhost:8080/"
        },
        "id": "HKP9pTcErNmN",
        "outputId": "6a9057b4-ae6f-47b1-8c7b-d84f32e1b1f5"
      },
      "execution_count": 20,
      "outputs": [
        {
          "output_type": "stream",
          "name": "stdout",
          "text": [
            "         country  drives_right  cars_per_cap\n",
            "0  United States          True           809\n",
            "1      Australia         False           731\n",
            "2          Japan         False           588\n",
            "3          India         False            18\n",
            "4         Russia          True           200\n",
            "5        Morocco          True            70\n",
            "6          Egypt          True            45\n",
            "           country  drives_right  cars_per_cap\n",
            "US   United States          True           809\n",
            "AUS      Australia         False           731\n",
            "JPN          Japan         False           588\n",
            "IN           India         False            18\n",
            "RU          Russia          True           200\n",
            "MOR        Morocco          True            70\n",
            "EG           Egypt          True            45\n"
          ]
        }
      ]
    },
    {
      "cell_type": "code",
      "source": [
        "# Pandas 패키지 이용하여 데이터 읽어오기\n",
        " # cars = pd.read_csv('cars.csv')\n",
        " # cars = pd.read_csv('cars.csv', index_col = 0) (R에서 read.csv(file, header = TRUE)랑 똑같은 느낌), 파일의 첫 행에 변수명이 있는지 없는지 표시"
      ],
      "metadata": {
        "id": "xsg13apWrdPA"
      },
      "execution_count": 21,
      "outputs": []
    },
    {
      "cell_type": "markdown",
      "source": [
        "## 2.4 Pandas, Part 2\n",
        "\n",
        "#### Index and select data \n",
        "  * Square brackets \"[    ]\"\n",
        "   * Column access ( brics[[\"country\", \"capital\"]] )\n",
        "   * Row access : only through slicing ( brics[1:4] )\n",
        "\n",
        "  * loc (label-based)\n",
        "   * Row access ( brics.loc[['RU\", \"IN\", \"CH\"]] ) \n",
        "   * Column access ( brics.loc[:,[\"country\", \"capital\"]] )\n",
        "   * Row & Column Acess\n",
        " \n",
        "* iloc (index-based)\n",
        "\n",
        "#### [  ] 형태이면 Series를 출력, [[  ]] 형태이면 Dataframe을 출력"
      ],
      "metadata": {
        "id": "5rywn4sNsuSY"
      }
    },
    {
      "cell_type": "code",
      "source": [
        "# Data\n",
        "    # cars = pd.read_csv('cars.csv', index_col = 0)\n",
        "\n",
        "## [  ] 을 이용한 col 추출\n",
        "# Print out country column as Pandas Series\n",
        "    # print(cars['country'])\n",
        "\n",
        "# Print out country column as Pandas DataFrame\n",
        "    # print(cars[['country']])\n",
        "\n",
        "# Print out DataFrame with country and drives_right columns\n",
        "    # print(cars[['country','drives_right']])\n",
        "\n",
        "\n",
        "\n",
        "\n",
        "## [  ] 을 이용한 row (obs) 추출 (Data가 tidy한 형태로 가정)\n",
        "# Print out first 3 observations\n",
        "    # print(cars[0:3])\n",
        "\n",
        "# Print out fourth, fifth and sixth observation\n",
        "    # print(cars[3:6])\n",
        "\n",
        "\n",
        "## loc을 이용\n",
        "# Print out observations for Australia and Egypt\n",
        "    # print(cars.loc[[\"AUS\",\"EG\"]])\n",
        "\n",
        "# Print out drives_right value of Morocco\n",
        "    # print(cars.loc['MOR','drives_right'])\n",
        "\n",
        "# Print sub-DataFrame\n",
        "    # print(cars.loc[['RU','MOR'],['country','drives_right']])\n",
        "\n",
        "\n",
        "## iloc을 이용\n",
        "# Print out drives_right column as DataFrame\n",
        "    # print(cars.iloc[:, [2]])\n",
        "\n"
      ],
      "metadata": {
        "id": "-6SfeSM4UvuN"
      },
      "execution_count": null,
      "outputs": []
    },
    {
      "cell_type": "markdown",
      "source": [
        "# 3. Logit, Control Flow and Filtering\n",
        "\n"
      ],
      "metadata": {
        "id": "l72VFWewXU8L"
      }
    },
    {
      "cell_type": "markdown",
      "source": [
        "## 3.1 Comparison Operators ( > , <  ,  >=  ㅡ,  <=  , == , != )"
      ],
      "metadata": {
        "id": "AKzLs83IX2-8"
      }
    },
    {
      "cell_type": "code",
      "source": [
        "# Comparison of booleans\n",
        "print(True == False)\n",
        "\n",
        "# Comparison of integers\n",
        "print(-5 * 15 != 75)\n",
        "\n",
        "# Comparison of strings\n",
        "print('pyscript' == 'PyScript')\n",
        "\n",
        "# Compare a boolean with an integer\n",
        "print(True == 1)\n",
        "\n",
        "# 문자열의 대소비교 (알파벳 순서)\n",
        "print(\"abc\" < \"bcd\")\n",
        "\n",
        "\n",
        "# Compare arrays\n",
        "# Create arrays\n",
        "my_house = np.array([18.0, 20.0, 10.75, 9.50])\n",
        "your_house = np.array([14.0, 24.0, 14.25, 9.0])\n",
        "\n",
        "# my_house greater than or equal to 18\n",
        "print(my_house >= 18)\n",
        "\n",
        "# my_house less than your_house\n",
        "print(my_house < your_house)"
      ],
      "metadata": {
        "colab": {
          "base_uri": "https://localhost:8080/"
        },
        "id": "RDdYyoowZTAz",
        "outputId": "c82ced06-a679-48ab-b4a5-93509eadb535"
      },
      "execution_count": 7,
      "outputs": [
        {
          "output_type": "stream",
          "name": "stdout",
          "text": [
            "False\n",
            "True\n",
            "False\n",
            "True\n",
            "True\n"
          ]
        }
      ]
    },
    {
      "cell_type": "markdown",
      "source": [
        "## 3.2 Boolean Operators (and, or, not)"
      ],
      "metadata": {
        "id": "3FlqvMNqam0u"
      }
    },
    {
      "cell_type": "code",
      "source": [
        "# And (둘 모두 True 여야만 True)\n",
        "print(False and True); print(True and True)\n",
        "\n",
        "# Or (둘 중 하나만 True이면 True)\n",
        "print(False or True); print(True and True); print(False or False)\n",
        "\n",
        "# Not (반대)\n",
        "print(not True); print(not False)\n",
        "\n"
      ],
      "metadata": {
        "colab": {
          "base_uri": "https://localhost:8080/"
        },
        "id": "69sUHq01a7Wo",
        "outputId": "b5d9de9d-3f5d-45f7-f1a5-73b61704ca2f"
      },
      "execution_count": 12,
      "outputs": [
        {
          "output_type": "stream",
          "name": "stdout",
          "text": [
            "False\n",
            "True\n",
            "True\n",
            "True\n",
            "False\n",
            "False\n",
            "True\n"
          ]
        }
      ]
    },
    {
      "cell_type": "code",
      "source": [
        "# Numpy array 에는 다른 함수가 사용된다. logical_and() / logical_or() / logical_not() \n",
        "import numpy as np\n",
        "my_house = np.array([18.0, 20.0, 10.75, 9.50])\n",
        "your_house = np.array([14.0, 24.0, 14.25, 9.0])\n",
        "\n",
        "# my_house greater than 18.5 or smaller than 10\n",
        "print(np.logical_or(my_house > 18.5, my_house < 10))\n",
        "\n",
        "# Both my_house and your_house smaller than 11\n",
        "print(np.logical_and(my_house < 11, your_house < 11))"
      ],
      "metadata": {
        "colab": {
          "base_uri": "https://localhost:8080/"
        },
        "id": "6p0yrAdocjBW",
        "outputId": "913ab3c1-52dc-45ec-d674-a8e3ffe7331f"
      },
      "execution_count": 14,
      "outputs": [
        {
          "output_type": "stream",
          "name": "stdout",
          "text": [
            "[False  True False  True]\n",
            "[False False False  True]\n"
          ]
        }
      ]
    },
    {
      "cell_type": "markdown",
      "source": [
        "## 3.3 Conditional Statements (if. elif, else)"
      ],
      "metadata": {
        "id": "SWPJCThZctw_"
      }
    },
    {
      "cell_type": "code",
      "source": [
        "# if 조건문\n",
        "z = 4\n",
        "if z % 2 == 0 :\n",
        "    print(\"z is even\")\n",
        "\n",
        "\n",
        "# if 조건 달성이 안될경우 출력값이 없다.\n",
        "x = 5\n",
        "if 5 % 2 == 0 :\n",
        "    print(\"z is even\")\n"
      ],
      "metadata": {
        "colab": {
          "base_uri": "https://localhost:8080/"
        },
        "id": "ovXmreG0dzDC",
        "outputId": "ad938ebd-62b7-4283-a49f-9c7e92782a77"
      },
      "execution_count": 15,
      "outputs": [
        {
          "output_type": "stream",
          "name": "stdout",
          "text": [
            "z is even\n"
          ]
        }
      ]
    },
    {
      "cell_type": "code",
      "source": [
        "# ifelse 문\n",
        "z = 5\n",
        "if z % 2 == 0 : #False\n",
        "    print(\"z is even\")\n",
        "else :\n",
        "    print(\"z is odd\")"
      ],
      "metadata": {
        "colab": {
          "base_uri": "https://localhost:8080/"
        },
        "id": "G1zTel9nerx3",
        "outputId": "37bd63bd-a539-41f1-949a-8dd255048621"
      },
      "execution_count": 16,
      "outputs": [
        {
          "output_type": "stream",
          "name": "stdout",
          "text": [
            "z is odd\n"
          ]
        }
      ]
    },
    {
      "cell_type": "code",
      "source": [
        "# elif 문\n",
        "z = 3\n",
        "if z % 2 == 0 : #False\n",
        "    print(\"z is divisible by 2\")\n",
        "elif z % 3 == 0 : #True\n",
        "    print(\"z is divisible by 3\")\n",
        "else :\n",
        "    print(\"z is neither divisible by 2 nor by 3\")"
      ],
      "metadata": {
        "colab": {
          "base_uri": "https://localhost:8080/"
        },
        "id": "Z8s7XoR1e8Z7",
        "outputId": "a8602f40-6053-428d-cacf-d283afda76b8"
      },
      "execution_count": 17,
      "outputs": [
        {
          "output_type": "stream",
          "name": "stdout",
          "text": [
            "z is divisible by 3\n"
          ]
        }
      ]
    },
    {
      "cell_type": "markdown",
      "source": [
        "## 3.4 Filtering pandas DataFrames\n",
        " * True / False 로 나눈 다음 그것을 활용하여 indexing 후 데이터 추출"
      ],
      "metadata": {
        "id": "T8wZWigafdRq"
      }
    },
    {
      "cell_type": "code",
      "source": [
        "# Data\n",
        "    # cars = pd.read_csv('cars.csv', index_col = 0)\n",
        "\n",
        "# Extract drives_right column as Series: dr\n",
        "    # dr = cars['drives_right']\n",
        "\n",
        "# Use dr to subset cars: sel\n",
        "    # sel = cars[dr]\n",
        "    # sel = cars[cars['drives_right']] (한 줄 코드)"
      ],
      "metadata": {
        "id": "B3_oeMXahsN0"
      },
      "execution_count": null,
      "outputs": []
    }
  ]
}