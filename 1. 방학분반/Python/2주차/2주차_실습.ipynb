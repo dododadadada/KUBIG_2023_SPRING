{
 "cells": [
  {
   "cell_type": "markdown",
   "metadata": {},
   "source": [
    "# 서울시 구별 CCTV 현황 분석\n",
    "- 파이썬으로 데이터 주무르기(민형기 지음)\n",
    "- https://github.com/PinkWink/DataScience"
   ]
  },
  {
   "cell_type": "code",
   "execution_count": 1,
   "metadata": {
    "id": "RjZAQFbA3mFx"
   },
   "outputs": [],
   "source": [
    "import pandas as pd\n",
    "import numpy as np"
   ]
  },
  {
   "cell_type": "markdown",
   "metadata": {
    "id": "cSytIGKT9GZe"
   },
   "source": [
    "## 1. CCTV 데이터 파악하기"
   ]
  },
  {
   "cell_type": "code",
   "execution_count": 2,
   "metadata": {
    "colab": {
     "base_uri": "https://localhost:8080/",
     "height": 206
    },
    "id": "aM6ZjfqF4BIg",
    "outputId": "d76c36fa-8a70-424f-9c2d-a138bf5af777"
   },
   "outputs": [
    {
     "data": {
      "text/html": [
       "<div>\n",
       "<style scoped>\n",
       "    .dataframe tbody tr th:only-of-type {\n",
       "        vertical-align: middle;\n",
       "    }\n",
       "\n",
       "    .dataframe tbody tr th {\n",
       "        vertical-align: top;\n",
       "    }\n",
       "\n",
       "    .dataframe thead th {\n",
       "        text-align: right;\n",
       "    }\n",
       "</style>\n",
       "<table border=\"1\" class=\"dataframe\">\n",
       "  <thead>\n",
       "    <tr style=\"text-align: right;\">\n",
       "      <th></th>\n",
       "      <th>기관명</th>\n",
       "      <th>소계</th>\n",
       "      <th>2013년도 이전</th>\n",
       "      <th>2014년</th>\n",
       "      <th>2015년</th>\n",
       "      <th>2016년</th>\n",
       "    </tr>\n",
       "  </thead>\n",
       "  <tbody>\n",
       "    <tr>\n",
       "      <th>0</th>\n",
       "      <td>강남구</td>\n",
       "      <td>2780</td>\n",
       "      <td>1292</td>\n",
       "      <td>430</td>\n",
       "      <td>584</td>\n",
       "      <td>932</td>\n",
       "    </tr>\n",
       "    <tr>\n",
       "      <th>1</th>\n",
       "      <td>강동구</td>\n",
       "      <td>773</td>\n",
       "      <td>379</td>\n",
       "      <td>99</td>\n",
       "      <td>155</td>\n",
       "      <td>377</td>\n",
       "    </tr>\n",
       "    <tr>\n",
       "      <th>2</th>\n",
       "      <td>강북구</td>\n",
       "      <td>748</td>\n",
       "      <td>369</td>\n",
       "      <td>120</td>\n",
       "      <td>138</td>\n",
       "      <td>204</td>\n",
       "    </tr>\n",
       "    <tr>\n",
       "      <th>3</th>\n",
       "      <td>강서구</td>\n",
       "      <td>884</td>\n",
       "      <td>388</td>\n",
       "      <td>258</td>\n",
       "      <td>184</td>\n",
       "      <td>81</td>\n",
       "    </tr>\n",
       "    <tr>\n",
       "      <th>4</th>\n",
       "      <td>관악구</td>\n",
       "      <td>1496</td>\n",
       "      <td>846</td>\n",
       "      <td>260</td>\n",
       "      <td>390</td>\n",
       "      <td>613</td>\n",
       "    </tr>\n",
       "  </tbody>\n",
       "</table>\n",
       "</div>"
      ],
      "text/plain": [
       "   기관명    소계  2013년도 이전  2014년  2015년  2016년\n",
       "0  강남구  2780       1292    430    584    932\n",
       "1  강동구   773        379     99    155    377\n",
       "2  강북구   748        369    120    138    204\n",
       "3  강서구   884        388    258    184     81\n",
       "4  관악구  1496        846    260    390    613"
      ]
     },
     "execution_count": 2,
     "metadata": {},
     "output_type": "execute_result"
    }
   ],
   "source": [
    "CCTV_Seoul = pd.read_csv(\"C:\\data\\CCTV_in_Seoul.csv\")\n",
    "CCTV_Seoul.head()"
   ]
  },
  {
   "cell_type": "code",
   "execution_count": 3,
   "metadata": {
    "colab": {
     "base_uri": "https://localhost:8080/"
    },
    "id": "62356FwZ3uxu",
    "outputId": "87d171c4-cea8-4ad3-ee7f-a980ffa92a85"
   },
   "outputs": [
    {
     "data": {
      "text/plain": [
       "Index(['기관명', '소계', '2013년도 이전', '2014년', '2015년', '2016년'], dtype='object')"
      ]
     },
     "execution_count": 3,
     "metadata": {},
     "output_type": "execute_result"
    }
   ],
   "source": [
    "CCTV_Seoul.columns"
   ]
  },
  {
   "cell_type": "code",
   "execution_count": 4,
   "metadata": {
    "colab": {
     "base_uri": "https://localhost:8080/",
     "height": 35
    },
    "id": "YKYTjei84hmx",
    "outputId": "d70eba92-58bc-4b51-912f-5520a9168045"
   },
   "outputs": [
    {
     "data": {
      "text/plain": [
       "'기관명'"
      ]
     },
     "execution_count": 4,
     "metadata": {},
     "output_type": "execute_result"
    }
   ],
   "source": [
    "CCTV_Seoul.columns[0]"
   ]
  },
  {
   "cell_type": "code",
   "execution_count": 5,
   "metadata": {
    "colab": {
     "base_uri": "https://localhost:8080/",
     "height": 206
    },
    "id": "z3DlOK2K4bSE",
    "outputId": "c1c0c2ab-87fd-4063-882c-411209d7a87e"
   },
   "outputs": [
    {
     "data": {
      "text/html": [
       "<div>\n",
       "<style scoped>\n",
       "    .dataframe tbody tr th:only-of-type {\n",
       "        vertical-align: middle;\n",
       "    }\n",
       "\n",
       "    .dataframe tbody tr th {\n",
       "        vertical-align: top;\n",
       "    }\n",
       "\n",
       "    .dataframe thead th {\n",
       "        text-align: right;\n",
       "    }\n",
       "</style>\n",
       "<table border=\"1\" class=\"dataframe\">\n",
       "  <thead>\n",
       "    <tr style=\"text-align: right;\">\n",
       "      <th></th>\n",
       "      <th>구별</th>\n",
       "      <th>소계</th>\n",
       "      <th>2013년도 이전</th>\n",
       "      <th>2014년</th>\n",
       "      <th>2015년</th>\n",
       "      <th>2016년</th>\n",
       "    </tr>\n",
       "  </thead>\n",
       "  <tbody>\n",
       "    <tr>\n",
       "      <th>0</th>\n",
       "      <td>강남구</td>\n",
       "      <td>2780</td>\n",
       "      <td>1292</td>\n",
       "      <td>430</td>\n",
       "      <td>584</td>\n",
       "      <td>932</td>\n",
       "    </tr>\n",
       "    <tr>\n",
       "      <th>1</th>\n",
       "      <td>강동구</td>\n",
       "      <td>773</td>\n",
       "      <td>379</td>\n",
       "      <td>99</td>\n",
       "      <td>155</td>\n",
       "      <td>377</td>\n",
       "    </tr>\n",
       "    <tr>\n",
       "      <th>2</th>\n",
       "      <td>강북구</td>\n",
       "      <td>748</td>\n",
       "      <td>369</td>\n",
       "      <td>120</td>\n",
       "      <td>138</td>\n",
       "      <td>204</td>\n",
       "    </tr>\n",
       "    <tr>\n",
       "      <th>3</th>\n",
       "      <td>강서구</td>\n",
       "      <td>884</td>\n",
       "      <td>388</td>\n",
       "      <td>258</td>\n",
       "      <td>184</td>\n",
       "      <td>81</td>\n",
       "    </tr>\n",
       "    <tr>\n",
       "      <th>4</th>\n",
       "      <td>관악구</td>\n",
       "      <td>1496</td>\n",
       "      <td>846</td>\n",
       "      <td>260</td>\n",
       "      <td>390</td>\n",
       "      <td>613</td>\n",
       "    </tr>\n",
       "  </tbody>\n",
       "</table>\n",
       "</div>"
      ],
      "text/plain": [
       "    구별    소계  2013년도 이전  2014년  2015년  2016년\n",
       "0  강남구  2780       1292    430    584    932\n",
       "1  강동구   773        379     99    155    377\n",
       "2  강북구   748        369    120    138    204\n",
       "3  강서구   884        388    258    184     81\n",
       "4  관악구  1496        846    260    390    613"
      ]
     },
     "execution_count": 5,
     "metadata": {},
     "output_type": "execute_result"
    }
   ],
   "source": [
    "CCTV_Seoul.rename(columns={CCTV_Seoul.columns[0]:'구별'}, inplace=True) \n",
    "#rename으로 변수명 변경\n",
    "#inplace=TRUE는 실제 CCTV_Seoul이라는 변수의 내용을 갱신하라는 의미\n",
    "\n",
    "CCTV_Seoul.head()"
   ]
  },
  {
   "cell_type": "code",
   "execution_count": 6,
   "metadata": {
    "colab": {
     "base_uri": "https://localhost:8080/",
     "height": 206
    },
    "id": "5RCPQvxY7zM_",
    "outputId": "41e9970f-72d9-4060-f1a0-62f4405c2487"
   },
   "outputs": [
    {
     "data": {
      "text/html": [
       "<div>\n",
       "<style scoped>\n",
       "    .dataframe tbody tr th:only-of-type {\n",
       "        vertical-align: middle;\n",
       "    }\n",
       "\n",
       "    .dataframe tbody tr th {\n",
       "        vertical-align: top;\n",
       "    }\n",
       "\n",
       "    .dataframe thead th {\n",
       "        text-align: right;\n",
       "    }\n",
       "</style>\n",
       "<table border=\"1\" class=\"dataframe\">\n",
       "  <thead>\n",
       "    <tr style=\"text-align: right;\">\n",
       "      <th></th>\n",
       "      <th>구별</th>\n",
       "      <th>소계</th>\n",
       "      <th>2013년도 이전</th>\n",
       "      <th>2014년</th>\n",
       "      <th>2015년</th>\n",
       "      <th>2016년</th>\n",
       "    </tr>\n",
       "  </thead>\n",
       "  <tbody>\n",
       "    <tr>\n",
       "      <th>9</th>\n",
       "      <td>도봉구</td>\n",
       "      <td>485</td>\n",
       "      <td>238</td>\n",
       "      <td>159</td>\n",
       "      <td>42</td>\n",
       "      <td>386</td>\n",
       "    </tr>\n",
       "    <tr>\n",
       "      <th>12</th>\n",
       "      <td>마포구</td>\n",
       "      <td>574</td>\n",
       "      <td>314</td>\n",
       "      <td>118</td>\n",
       "      <td>169</td>\n",
       "      <td>379</td>\n",
       "    </tr>\n",
       "    <tr>\n",
       "      <th>17</th>\n",
       "      <td>송파구</td>\n",
       "      <td>618</td>\n",
       "      <td>529</td>\n",
       "      <td>21</td>\n",
       "      <td>68</td>\n",
       "      <td>463</td>\n",
       "    </tr>\n",
       "    <tr>\n",
       "      <th>24</th>\n",
       "      <td>중랑구</td>\n",
       "      <td>660</td>\n",
       "      <td>509</td>\n",
       "      <td>121</td>\n",
       "      <td>177</td>\n",
       "      <td>109</td>\n",
       "    </tr>\n",
       "    <tr>\n",
       "      <th>23</th>\n",
       "      <td>중구</td>\n",
       "      <td>671</td>\n",
       "      <td>413</td>\n",
       "      <td>190</td>\n",
       "      <td>72</td>\n",
       "      <td>348</td>\n",
       "    </tr>\n",
       "  </tbody>\n",
       "</table>\n",
       "</div>"
      ],
      "text/plain": [
       "     구별   소계  2013년도 이전  2014년  2015년  2016년\n",
       "9   도봉구  485        238    159     42    386\n",
       "12  마포구  574        314    118    169    379\n",
       "17  송파구  618        529     21     68    463\n",
       "24  중랑구  660        509    121    177    109\n",
       "23   중구  671        413    190     72    348"
      ]
     },
     "execution_count": 6,
     "metadata": {},
     "output_type": "execute_result"
    }
   ],
   "source": [
    "CCTV_Seoul.sort_values(by = '소계').head(5) #CCTV 전체 개수인 '소계'로 정렬"
   ]
  },
  {
   "cell_type": "code",
   "execution_count": 7,
   "metadata": {
    "colab": {
     "base_uri": "https://localhost:8080/",
     "height": 206
    },
    "id": "TW_52OHe7_in",
    "outputId": "825ca251-82b7-4a00-f8d4-f786cea1d35d"
   },
   "outputs": [
    {
     "data": {
      "text/html": [
       "<div>\n",
       "<style scoped>\n",
       "    .dataframe tbody tr th:only-of-type {\n",
       "        vertical-align: middle;\n",
       "    }\n",
       "\n",
       "    .dataframe tbody tr th {\n",
       "        vertical-align: top;\n",
       "    }\n",
       "\n",
       "    .dataframe thead th {\n",
       "        text-align: right;\n",
       "    }\n",
       "</style>\n",
       "<table border=\"1\" class=\"dataframe\">\n",
       "  <thead>\n",
       "    <tr style=\"text-align: right;\">\n",
       "      <th></th>\n",
       "      <th>구별</th>\n",
       "      <th>소계</th>\n",
       "      <th>2013년도 이전</th>\n",
       "      <th>2014년</th>\n",
       "      <th>2015년</th>\n",
       "      <th>2016년</th>\n",
       "    </tr>\n",
       "  </thead>\n",
       "  <tbody>\n",
       "    <tr>\n",
       "      <th>0</th>\n",
       "      <td>강남구</td>\n",
       "      <td>2780</td>\n",
       "      <td>1292</td>\n",
       "      <td>430</td>\n",
       "      <td>584</td>\n",
       "      <td>932</td>\n",
       "    </tr>\n",
       "    <tr>\n",
       "      <th>18</th>\n",
       "      <td>양천구</td>\n",
       "      <td>2034</td>\n",
       "      <td>1843</td>\n",
       "      <td>142</td>\n",
       "      <td>30</td>\n",
       "      <td>467</td>\n",
       "    </tr>\n",
       "    <tr>\n",
       "      <th>14</th>\n",
       "      <td>서초구</td>\n",
       "      <td>1930</td>\n",
       "      <td>1406</td>\n",
       "      <td>157</td>\n",
       "      <td>336</td>\n",
       "      <td>398</td>\n",
       "    </tr>\n",
       "    <tr>\n",
       "      <th>21</th>\n",
       "      <td>은평구</td>\n",
       "      <td>1873</td>\n",
       "      <td>1138</td>\n",
       "      <td>224</td>\n",
       "      <td>278</td>\n",
       "      <td>468</td>\n",
       "    </tr>\n",
       "    <tr>\n",
       "      <th>20</th>\n",
       "      <td>용산구</td>\n",
       "      <td>1624</td>\n",
       "      <td>1368</td>\n",
       "      <td>218</td>\n",
       "      <td>112</td>\n",
       "      <td>398</td>\n",
       "    </tr>\n",
       "  </tbody>\n",
       "</table>\n",
       "</div>"
      ],
      "text/plain": [
       "     구별    소계  2013년도 이전  2014년  2015년  2016년\n",
       "0   강남구  2780       1292    430    584    932\n",
       "18  양천구  2034       1843    142     30    467\n",
       "14  서초구  1930       1406    157    336    398\n",
       "21  은평구  1873       1138    224    278    468\n",
       "20  용산구  1624       1368    218    112    398"
      ]
     },
     "execution_count": 7,
     "metadata": {},
     "output_type": "execute_result"
    }
   ],
   "source": [
    "CCTV_Seoul.sort_values(by='소계', ascending=False).head(5)"
   ]
  },
  {
   "cell_type": "code",
   "execution_count": 8,
   "metadata": {
    "colab": {
     "base_uri": "https://localhost:8080/",
     "height": 206
    },
    "id": "XtzPzEnK8BqG",
    "outputId": "15741057-f8fb-4826-e00b-c85b84254040"
   },
   "outputs": [
    {
     "data": {
      "text/html": [
       "<div>\n",
       "<style scoped>\n",
       "    .dataframe tbody tr th:only-of-type {\n",
       "        vertical-align: middle;\n",
       "    }\n",
       "\n",
       "    .dataframe tbody tr th {\n",
       "        vertical-align: top;\n",
       "    }\n",
       "\n",
       "    .dataframe thead th {\n",
       "        text-align: right;\n",
       "    }\n",
       "</style>\n",
       "<table border=\"1\" class=\"dataframe\">\n",
       "  <thead>\n",
       "    <tr style=\"text-align: right;\">\n",
       "      <th></th>\n",
       "      <th>구별</th>\n",
       "      <th>소계</th>\n",
       "      <th>2013년도 이전</th>\n",
       "      <th>2014년</th>\n",
       "      <th>2015년</th>\n",
       "      <th>2016년</th>\n",
       "      <th>최근증가율</th>\n",
       "    </tr>\n",
       "  </thead>\n",
       "  <tbody>\n",
       "    <tr>\n",
       "      <th>22</th>\n",
       "      <td>종로구</td>\n",
       "      <td>1002</td>\n",
       "      <td>464</td>\n",
       "      <td>314</td>\n",
       "      <td>211</td>\n",
       "      <td>630</td>\n",
       "      <td>248.922414</td>\n",
       "    </tr>\n",
       "    <tr>\n",
       "      <th>9</th>\n",
       "      <td>도봉구</td>\n",
       "      <td>485</td>\n",
       "      <td>238</td>\n",
       "      <td>159</td>\n",
       "      <td>42</td>\n",
       "      <td>386</td>\n",
       "      <td>246.638655</td>\n",
       "    </tr>\n",
       "    <tr>\n",
       "      <th>12</th>\n",
       "      <td>마포구</td>\n",
       "      <td>574</td>\n",
       "      <td>314</td>\n",
       "      <td>118</td>\n",
       "      <td>169</td>\n",
       "      <td>379</td>\n",
       "      <td>212.101911</td>\n",
       "    </tr>\n",
       "    <tr>\n",
       "      <th>8</th>\n",
       "      <td>노원구</td>\n",
       "      <td>1265</td>\n",
       "      <td>542</td>\n",
       "      <td>57</td>\n",
       "      <td>451</td>\n",
       "      <td>516</td>\n",
       "      <td>188.929889</td>\n",
       "    </tr>\n",
       "    <tr>\n",
       "      <th>1</th>\n",
       "      <td>강동구</td>\n",
       "      <td>773</td>\n",
       "      <td>379</td>\n",
       "      <td>99</td>\n",
       "      <td>155</td>\n",
       "      <td>377</td>\n",
       "      <td>166.490765</td>\n",
       "    </tr>\n",
       "  </tbody>\n",
       "</table>\n",
       "</div>"
      ],
      "text/plain": [
       "     구별    소계  2013년도 이전  2014년  2015년  2016년       최근증가율\n",
       "22  종로구  1002        464    314    211    630  248.922414\n",
       "9   도봉구   485        238    159     42    386  246.638655\n",
       "12  마포구   574        314    118    169    379  212.101911\n",
       "8   노원구  1265        542     57    451    516  188.929889\n",
       "1   강동구   773        379     99    155    377  166.490765"
      ]
     },
     "execution_count": 8,
     "metadata": {},
     "output_type": "execute_result"
    }
   ],
   "source": [
    "CCTV_Seoul['최근증가율'] = (CCTV_Seoul['2016년'] + CCTV_Seoul['2015년'] + CCTV_Seoul['2014년']) / CCTV_Seoul['2013년도 이전']  * 100\n",
    "CCTV_Seoul.sort_values(by='최근증가율', ascending=False).head(5)"
   ]
  },
  {
   "cell_type": "markdown",
   "metadata": {
    "id": "PnKuImOB90Ki"
   },
   "source": [
    "## 2. 인구 현황 데이터 파악하기"
   ]
  },
  {
   "cell_type": "code",
   "execution_count": 9,
   "metadata": {
    "colab": {
     "base_uri": "https://localhost:8080/",
     "height": 206
    },
    "id": "Jvpucc-A4qD1",
    "outputId": "43e9cca0-a253-455b-aca3-d1d1eb80d43e"
   },
   "outputs": [
    {
     "data": {
      "text/html": [
       "<div>\n",
       "<style scoped>\n",
       "    .dataframe tbody tr th:only-of-type {\n",
       "        vertical-align: middle;\n",
       "    }\n",
       "\n",
       "    .dataframe tbody tr th {\n",
       "        vertical-align: top;\n",
       "    }\n",
       "\n",
       "    .dataframe thead th {\n",
       "        text-align: right;\n",
       "    }\n",
       "</style>\n",
       "<table border=\"1\" class=\"dataframe\">\n",
       "  <thead>\n",
       "    <tr style=\"text-align: right;\">\n",
       "      <th></th>\n",
       "      <th>기간</th>\n",
       "      <th>자치구</th>\n",
       "      <th>세대</th>\n",
       "      <th>인구</th>\n",
       "      <th>인구.1</th>\n",
       "      <th>인구.2</th>\n",
       "      <th>인구.3</th>\n",
       "      <th>인구.4</th>\n",
       "      <th>인구.5</th>\n",
       "      <th>인구.6</th>\n",
       "      <th>인구.7</th>\n",
       "      <th>인구.8</th>\n",
       "      <th>세대당인구</th>\n",
       "      <th>65세이상고령자</th>\n",
       "    </tr>\n",
       "  </thead>\n",
       "  <tbody>\n",
       "    <tr>\n",
       "      <th>0</th>\n",
       "      <td>기간</td>\n",
       "      <td>자치구</td>\n",
       "      <td>세대</td>\n",
       "      <td>합계</td>\n",
       "      <td>합계</td>\n",
       "      <td>합계</td>\n",
       "      <td>한국인</td>\n",
       "      <td>한국인</td>\n",
       "      <td>한국인</td>\n",
       "      <td>등록외국인</td>\n",
       "      <td>등록외국인</td>\n",
       "      <td>등록외국인</td>\n",
       "      <td>세대당인구</td>\n",
       "      <td>65세이상고령자</td>\n",
       "    </tr>\n",
       "    <tr>\n",
       "      <th>1</th>\n",
       "      <td>기간</td>\n",
       "      <td>자치구</td>\n",
       "      <td>세대</td>\n",
       "      <td>계</td>\n",
       "      <td>남자</td>\n",
       "      <td>여자</td>\n",
       "      <td>계</td>\n",
       "      <td>남자</td>\n",
       "      <td>여자</td>\n",
       "      <td>계</td>\n",
       "      <td>남자</td>\n",
       "      <td>여자</td>\n",
       "      <td>세대당인구</td>\n",
       "      <td>65세이상고령자</td>\n",
       "    </tr>\n",
       "    <tr>\n",
       "      <th>2</th>\n",
       "      <td>2017.1/4</td>\n",
       "      <td>합계</td>\n",
       "      <td>4202888</td>\n",
       "      <td>10197604</td>\n",
       "      <td>5000005</td>\n",
       "      <td>5197599</td>\n",
       "      <td>9926968</td>\n",
       "      <td>4871560</td>\n",
       "      <td>5055408</td>\n",
       "      <td>270636</td>\n",
       "      <td>128445</td>\n",
       "      <td>142191</td>\n",
       "      <td>2.36</td>\n",
       "      <td>1321458</td>\n",
       "    </tr>\n",
       "    <tr>\n",
       "      <th>3</th>\n",
       "      <td>2017.1/4</td>\n",
       "      <td>종로구</td>\n",
       "      <td>72654</td>\n",
       "      <td>162820</td>\n",
       "      <td>79675</td>\n",
       "      <td>83145</td>\n",
       "      <td>153589</td>\n",
       "      <td>75611</td>\n",
       "      <td>77978</td>\n",
       "      <td>9231</td>\n",
       "      <td>4064</td>\n",
       "      <td>5167</td>\n",
       "      <td>2.11</td>\n",
       "      <td>25425</td>\n",
       "    </tr>\n",
       "    <tr>\n",
       "      <th>4</th>\n",
       "      <td>2017.1/4</td>\n",
       "      <td>중구</td>\n",
       "      <td>59481</td>\n",
       "      <td>133240</td>\n",
       "      <td>65790</td>\n",
       "      <td>67450</td>\n",
       "      <td>124312</td>\n",
       "      <td>61656</td>\n",
       "      <td>62656</td>\n",
       "      <td>8928</td>\n",
       "      <td>4134</td>\n",
       "      <td>4794</td>\n",
       "      <td>2.09</td>\n",
       "      <td>20764</td>\n",
       "    </tr>\n",
       "  </tbody>\n",
       "</table>\n",
       "</div>"
      ],
      "text/plain": [
       "         기간  자치구       세대        인구     인구.1     인구.2     인구.3     인구.4  \\\n",
       "0        기간  자치구       세대        합계       합계       합계      한국인      한국인   \n",
       "1        기간  자치구       세대         계       남자       여자        계       남자   \n",
       "2  2017.1/4   합계  4202888  10197604  5000005  5197599  9926968  4871560   \n",
       "3  2017.1/4  종로구    72654    162820    79675    83145   153589    75611   \n",
       "4  2017.1/4   중구    59481    133240    65790    67450   124312    61656   \n",
       "\n",
       "      인구.5    인구.6    인구.7    인구.8  세대당인구  65세이상고령자  \n",
       "0      한국인   등록외국인   등록외국인   등록외국인  세대당인구  65세이상고령자  \n",
       "1       여자       계      남자      여자  세대당인구  65세이상고령자  \n",
       "2  5055408  270636  128445  142191   2.36   1321458  \n",
       "3    77978    9231    4064    5167   2.11     25425  \n",
       "4    62656    8928    4134    4794   2.09     20764  "
      ]
     },
     "execution_count": 9,
     "metadata": {},
     "output_type": "execute_result"
    }
   ],
   "source": [
    "pop_Seoul = pd.read_excel(\"C:\\data\\population_in_Seoul.xls\")\n",
    "pop_Seoul.head()"
   ]
  },
  {
   "cell_type": "code",
   "execution_count": 10,
   "metadata": {
    "colab": {
     "base_uri": "https://localhost:8080/",
     "height": 206
    },
    "id": "KUdrrQ5e6wEC",
    "outputId": "68f6a3ae-3113-42a2-a0ed-12583eb4b754"
   },
   "outputs": [
    {
     "data": {
      "text/html": [
       "<div>\n",
       "<style scoped>\n",
       "    .dataframe tbody tr th:only-of-type {\n",
       "        vertical-align: middle;\n",
       "    }\n",
       "\n",
       "    .dataframe tbody tr th {\n",
       "        vertical-align: top;\n",
       "    }\n",
       "\n",
       "    .dataframe thead th {\n",
       "        text-align: right;\n",
       "    }\n",
       "</style>\n",
       "<table border=\"1\" class=\"dataframe\">\n",
       "  <thead>\n",
       "    <tr style=\"text-align: right;\">\n",
       "      <th></th>\n",
       "      <th>자치구</th>\n",
       "      <th>계</th>\n",
       "      <th>계.1</th>\n",
       "      <th>계.2</th>\n",
       "      <th>65세이상고령자</th>\n",
       "    </tr>\n",
       "  </thead>\n",
       "  <tbody>\n",
       "    <tr>\n",
       "      <th>0</th>\n",
       "      <td>합계</td>\n",
       "      <td>10197604.0</td>\n",
       "      <td>9926968.0</td>\n",
       "      <td>270636.0</td>\n",
       "      <td>1321458.0</td>\n",
       "    </tr>\n",
       "    <tr>\n",
       "      <th>1</th>\n",
       "      <td>종로구</td>\n",
       "      <td>162820.0</td>\n",
       "      <td>153589.0</td>\n",
       "      <td>9231.0</td>\n",
       "      <td>25425.0</td>\n",
       "    </tr>\n",
       "    <tr>\n",
       "      <th>2</th>\n",
       "      <td>중구</td>\n",
       "      <td>133240.0</td>\n",
       "      <td>124312.0</td>\n",
       "      <td>8928.0</td>\n",
       "      <td>20764.0</td>\n",
       "    </tr>\n",
       "    <tr>\n",
       "      <th>3</th>\n",
       "      <td>용산구</td>\n",
       "      <td>244203.0</td>\n",
       "      <td>229456.0</td>\n",
       "      <td>14747.0</td>\n",
       "      <td>36231.0</td>\n",
       "    </tr>\n",
       "    <tr>\n",
       "      <th>4</th>\n",
       "      <td>성동구</td>\n",
       "      <td>311244.0</td>\n",
       "      <td>303380.0</td>\n",
       "      <td>7864.0</td>\n",
       "      <td>39997.0</td>\n",
       "    </tr>\n",
       "  </tbody>\n",
       "</table>\n",
       "</div>"
      ],
      "text/plain": [
       "   자치구           계        계.1       계.2   65세이상고령자\n",
       "0   합계  10197604.0  9926968.0  270636.0  1321458.0\n",
       "1  종로구    162820.0   153589.0    9231.0    25425.0\n",
       "2   중구    133240.0   124312.0    8928.0    20764.0\n",
       "3  용산구    244203.0   229456.0   14747.0    36231.0\n",
       "4  성동구    311244.0   303380.0    7864.0    39997.0"
      ]
     },
     "execution_count": 10,
     "metadata": {},
     "output_type": "execute_result"
    }
   ],
   "source": [
    "pop_Seoul = pd.read_excel(\"C:\\data\\population_in_Seoul.xls\",\n",
    "                         header = 2, # 몇번째 row부터 읽을 것인지 지정 \n",
    "                         usecols=\"B,D,G,J,N\") # 읽기 원하는 컬럼을 지정\n",
    "pop_Seoul.head()"
   ]
  },
  {
   "cell_type": "code",
   "execution_count": 11,
   "metadata": {
    "colab": {
     "base_uri": "https://localhost:8080/",
     "height": 206
    },
    "id": "drxJQsEW7C4B",
    "outputId": "6c2fb398-74f9-46f4-df9f-1d0b3ef0d59c"
   },
   "outputs": [
    {
     "data": {
      "text/html": [
       "<div>\n",
       "<style scoped>\n",
       "    .dataframe tbody tr th:only-of-type {\n",
       "        vertical-align: middle;\n",
       "    }\n",
       "\n",
       "    .dataframe tbody tr th {\n",
       "        vertical-align: top;\n",
       "    }\n",
       "\n",
       "    .dataframe thead th {\n",
       "        text-align: right;\n",
       "    }\n",
       "</style>\n",
       "<table border=\"1\" class=\"dataframe\">\n",
       "  <thead>\n",
       "    <tr style=\"text-align: right;\">\n",
       "      <th></th>\n",
       "      <th>구별</th>\n",
       "      <th>인구수</th>\n",
       "      <th>한국인</th>\n",
       "      <th>외국인</th>\n",
       "      <th>고령자</th>\n",
       "    </tr>\n",
       "  </thead>\n",
       "  <tbody>\n",
       "    <tr>\n",
       "      <th>0</th>\n",
       "      <td>합계</td>\n",
       "      <td>10197604.0</td>\n",
       "      <td>9926968.0</td>\n",
       "      <td>270636.0</td>\n",
       "      <td>1321458.0</td>\n",
       "    </tr>\n",
       "    <tr>\n",
       "      <th>1</th>\n",
       "      <td>종로구</td>\n",
       "      <td>162820.0</td>\n",
       "      <td>153589.0</td>\n",
       "      <td>9231.0</td>\n",
       "      <td>25425.0</td>\n",
       "    </tr>\n",
       "    <tr>\n",
       "      <th>2</th>\n",
       "      <td>중구</td>\n",
       "      <td>133240.0</td>\n",
       "      <td>124312.0</td>\n",
       "      <td>8928.0</td>\n",
       "      <td>20764.0</td>\n",
       "    </tr>\n",
       "    <tr>\n",
       "      <th>3</th>\n",
       "      <td>용산구</td>\n",
       "      <td>244203.0</td>\n",
       "      <td>229456.0</td>\n",
       "      <td>14747.0</td>\n",
       "      <td>36231.0</td>\n",
       "    </tr>\n",
       "    <tr>\n",
       "      <th>4</th>\n",
       "      <td>성동구</td>\n",
       "      <td>311244.0</td>\n",
       "      <td>303380.0</td>\n",
       "      <td>7864.0</td>\n",
       "      <td>39997.0</td>\n",
       "    </tr>\n",
       "  </tbody>\n",
       "</table>\n",
       "</div>"
      ],
      "text/plain": [
       "    구별         인구수        한국인       외국인        고령자\n",
       "0   합계  10197604.0  9926968.0  270636.0  1321458.0\n",
       "1  종로구    162820.0   153589.0    9231.0    25425.0\n",
       "2   중구    133240.0   124312.0    8928.0    20764.0\n",
       "3  용산구    244203.0   229456.0   14747.0    36231.0\n",
       "4  성동구    311244.0   303380.0    7864.0    39997.0"
      ]
     },
     "execution_count": 11,
     "metadata": {},
     "output_type": "execute_result"
    }
   ],
   "source": [
    "pop_Seoul.rename(columns = {pop_Seoul.columns[0] : '구별',\n",
    "                            pop_Seoul.columns[1] : '인구수',\n",
    "                            pop_Seoul.columns[2] : '한국인',\n",
    "                            pop_Seoul.columns[3] : '외국인',\n",
    "                            pop_Seoul.columns[4] : '고령자'},\n",
    "                inplace = True)\n",
    "pop_Seoul.head()"
   ]
  },
  {
   "cell_type": "code",
   "execution_count": 12,
   "metadata": {
    "colab": {
     "base_uri": "https://localhost:8080/",
     "height": 206
    },
    "id": "n3HDTYzJ9Tsc",
    "outputId": "d4524e94-0673-43ab-f4d8-ad2fb36560d1"
   },
   "outputs": [
    {
     "data": {
      "text/html": [
       "<div>\n",
       "<style scoped>\n",
       "    .dataframe tbody tr th:only-of-type {\n",
       "        vertical-align: middle;\n",
       "    }\n",
       "\n",
       "    .dataframe tbody tr th {\n",
       "        vertical-align: top;\n",
       "    }\n",
       "\n",
       "    .dataframe thead th {\n",
       "        text-align: right;\n",
       "    }\n",
       "</style>\n",
       "<table border=\"1\" class=\"dataframe\">\n",
       "  <thead>\n",
       "    <tr style=\"text-align: right;\">\n",
       "      <th></th>\n",
       "      <th>구별</th>\n",
       "      <th>인구수</th>\n",
       "      <th>한국인</th>\n",
       "      <th>외국인</th>\n",
       "      <th>고령자</th>\n",
       "    </tr>\n",
       "  </thead>\n",
       "  <tbody>\n",
       "    <tr>\n",
       "      <th>1</th>\n",
       "      <td>종로구</td>\n",
       "      <td>162820.0</td>\n",
       "      <td>153589.0</td>\n",
       "      <td>9231.0</td>\n",
       "      <td>25425.0</td>\n",
       "    </tr>\n",
       "    <tr>\n",
       "      <th>2</th>\n",
       "      <td>중구</td>\n",
       "      <td>133240.0</td>\n",
       "      <td>124312.0</td>\n",
       "      <td>8928.0</td>\n",
       "      <td>20764.0</td>\n",
       "    </tr>\n",
       "    <tr>\n",
       "      <th>3</th>\n",
       "      <td>용산구</td>\n",
       "      <td>244203.0</td>\n",
       "      <td>229456.0</td>\n",
       "      <td>14747.0</td>\n",
       "      <td>36231.0</td>\n",
       "    </tr>\n",
       "    <tr>\n",
       "      <th>4</th>\n",
       "      <td>성동구</td>\n",
       "      <td>311244.0</td>\n",
       "      <td>303380.0</td>\n",
       "      <td>7864.0</td>\n",
       "      <td>39997.0</td>\n",
       "    </tr>\n",
       "    <tr>\n",
       "      <th>5</th>\n",
       "      <td>광진구</td>\n",
       "      <td>372164.0</td>\n",
       "      <td>357211.0</td>\n",
       "      <td>14953.0</td>\n",
       "      <td>42214.0</td>\n",
       "    </tr>\n",
       "  </tbody>\n",
       "</table>\n",
       "</div>"
      ],
      "text/plain": [
       "    구별       인구수       한국인      외국인      고령자\n",
       "1  종로구  162820.0  153589.0   9231.0  25425.0\n",
       "2   중구  133240.0  124312.0   8928.0  20764.0\n",
       "3  용산구  244203.0  229456.0  14747.0  36231.0\n",
       "4  성동구  311244.0  303380.0   7864.0  39997.0\n",
       "5  광진구  372164.0  357211.0  14953.0  42214.0"
      ]
     },
     "execution_count": 12,
     "metadata": {},
     "output_type": "execute_result"
    }
   ],
   "source": [
    "pop_Seoul.drop([0], inplace=True) #첫번째 행에 '합계' > 행 제거\n",
    "pop_Seoul.head()"
   ]
  },
  {
   "cell_type": "code",
   "execution_count": 13,
   "metadata": {
    "colab": {
     "base_uri": "https://localhost:8080/"
    },
    "id": "tKy17sr79Uri",
    "outputId": "122b41a4-3b35-43bb-b8a5-f5109c045ba7"
   },
   "outputs": [
    {
     "data": {
      "text/plain": [
       "array(['종로구', '중구', '용산구', '성동구', '광진구', '동대문구', '중랑구', '성북구', '강북구',\n",
       "       '도봉구', '노원구', '은평구', '서대문구', '마포구', '양천구', '강서구', '구로구', '금천구',\n",
       "       '영등포구', '동작구', '관악구', '서초구', '강남구', '송파구', '강동구', nan],\n",
       "      dtype=object)"
      ]
     },
     "execution_count": 13,
     "metadata": {},
     "output_type": "execute_result"
    }
   ],
   "source": [
    "pop_Seoul['구별'].unique() #한 번 이상 나타난 데이터 확인"
   ]
  },
  {
   "cell_type": "code",
   "execution_count": 14,
   "metadata": {},
   "outputs": [
    {
     "data": {
      "text/html": [
       "<div>\n",
       "<style scoped>\n",
       "    .dataframe tbody tr th:only-of-type {\n",
       "        vertical-align: middle;\n",
       "    }\n",
       "\n",
       "    .dataframe tbody tr th {\n",
       "        vertical-align: top;\n",
       "    }\n",
       "\n",
       "    .dataframe thead th {\n",
       "        text-align: right;\n",
       "    }\n",
       "</style>\n",
       "<table border=\"1\" class=\"dataframe\">\n",
       "  <thead>\n",
       "    <tr style=\"text-align: right;\">\n",
       "      <th></th>\n",
       "      <th>구별</th>\n",
       "      <th>인구수</th>\n",
       "      <th>한국인</th>\n",
       "      <th>외국인</th>\n",
       "      <th>고령자</th>\n",
       "    </tr>\n",
       "  </thead>\n",
       "  <tbody>\n",
       "    <tr>\n",
       "      <th>26</th>\n",
       "      <td>NaN</td>\n",
       "      <td>NaN</td>\n",
       "      <td>NaN</td>\n",
       "      <td>NaN</td>\n",
       "      <td>NaN</td>\n",
       "    </tr>\n",
       "  </tbody>\n",
       "</table>\n",
       "</div>"
      ],
      "text/plain": [
       "     구별  인구수  한국인  외국인  고령자\n",
       "26  NaN  NaN  NaN  NaN  NaN"
      ]
     },
     "execution_count": 14,
     "metadata": {},
     "output_type": "execute_result"
    }
   ],
   "source": [
    "pop_Seoul[pop_Seoul['구별'].isnull()]"
   ]
  },
  {
   "cell_type": "code",
   "execution_count": 15,
   "metadata": {},
   "outputs": [
    {
     "data": {
      "text/html": [
       "<div>\n",
       "<style scoped>\n",
       "    .dataframe tbody tr th:only-of-type {\n",
       "        vertical-align: middle;\n",
       "    }\n",
       "\n",
       "    .dataframe tbody tr th {\n",
       "        vertical-align: top;\n",
       "    }\n",
       "\n",
       "    .dataframe thead th {\n",
       "        text-align: right;\n",
       "    }\n",
       "</style>\n",
       "<table border=\"1\" class=\"dataframe\">\n",
       "  <thead>\n",
       "    <tr style=\"text-align: right;\">\n",
       "      <th></th>\n",
       "      <th>구별</th>\n",
       "      <th>인구수</th>\n",
       "      <th>한국인</th>\n",
       "      <th>외국인</th>\n",
       "      <th>고령자</th>\n",
       "    </tr>\n",
       "  </thead>\n",
       "  <tbody>\n",
       "    <tr>\n",
       "      <th>1</th>\n",
       "      <td>종로구</td>\n",
       "      <td>162820.0</td>\n",
       "      <td>153589.0</td>\n",
       "      <td>9231.0</td>\n",
       "      <td>25425.0</td>\n",
       "    </tr>\n",
       "    <tr>\n",
       "      <th>2</th>\n",
       "      <td>중구</td>\n",
       "      <td>133240.0</td>\n",
       "      <td>124312.0</td>\n",
       "      <td>8928.0</td>\n",
       "      <td>20764.0</td>\n",
       "    </tr>\n",
       "    <tr>\n",
       "      <th>3</th>\n",
       "      <td>용산구</td>\n",
       "      <td>244203.0</td>\n",
       "      <td>229456.0</td>\n",
       "      <td>14747.0</td>\n",
       "      <td>36231.0</td>\n",
       "    </tr>\n",
       "    <tr>\n",
       "      <th>4</th>\n",
       "      <td>성동구</td>\n",
       "      <td>311244.0</td>\n",
       "      <td>303380.0</td>\n",
       "      <td>7864.0</td>\n",
       "      <td>39997.0</td>\n",
       "    </tr>\n",
       "    <tr>\n",
       "      <th>5</th>\n",
       "      <td>광진구</td>\n",
       "      <td>372164.0</td>\n",
       "      <td>357211.0</td>\n",
       "      <td>14953.0</td>\n",
       "      <td>42214.0</td>\n",
       "    </tr>\n",
       "  </tbody>\n",
       "</table>\n",
       "</div>"
      ],
      "text/plain": [
       "    구별       인구수       한국인      외국인      고령자\n",
       "1  종로구  162820.0  153589.0   9231.0  25425.0\n",
       "2   중구  133240.0  124312.0   8928.0  20764.0\n",
       "3  용산구  244203.0  229456.0  14747.0  36231.0\n",
       "4  성동구  311244.0  303380.0   7864.0  39997.0\n",
       "5  광진구  372164.0  357211.0  14953.0  42214.0"
      ]
     },
     "execution_count": 15,
     "metadata": {},
     "output_type": "execute_result"
    }
   ],
   "source": [
    "pop_Seoul.drop([26], inplace = True) #NaN이 있는 행 삭제\n",
    "pop_Seoul.head()"
   ]
  },
  {
   "cell_type": "code",
   "execution_count": 16,
   "metadata": {
    "colab": {
     "base_uri": "https://localhost:8080/",
     "height": 206
    },
    "id": "8yGBphht9Y7-",
    "outputId": "387bb084-168c-42de-e398-ed13d9191d4b"
   },
   "outputs": [
    {
     "data": {
      "text/html": [
       "<div>\n",
       "<style scoped>\n",
       "    .dataframe tbody tr th:only-of-type {\n",
       "        vertical-align: middle;\n",
       "    }\n",
       "\n",
       "    .dataframe tbody tr th {\n",
       "        vertical-align: top;\n",
       "    }\n",
       "\n",
       "    .dataframe thead th {\n",
       "        text-align: right;\n",
       "    }\n",
       "</style>\n",
       "<table border=\"1\" class=\"dataframe\">\n",
       "  <thead>\n",
       "    <tr style=\"text-align: right;\">\n",
       "      <th></th>\n",
       "      <th>구별</th>\n",
       "      <th>인구수</th>\n",
       "      <th>한국인</th>\n",
       "      <th>외국인</th>\n",
       "      <th>고령자</th>\n",
       "      <th>외국인비율</th>\n",
       "      <th>고령자비율</th>\n",
       "    </tr>\n",
       "  </thead>\n",
       "  <tbody>\n",
       "    <tr>\n",
       "      <th>1</th>\n",
       "      <td>종로구</td>\n",
       "      <td>162820.0</td>\n",
       "      <td>153589.0</td>\n",
       "      <td>9231.0</td>\n",
       "      <td>25425.0</td>\n",
       "      <td>5.669451</td>\n",
       "      <td>15.615404</td>\n",
       "    </tr>\n",
       "    <tr>\n",
       "      <th>2</th>\n",
       "      <td>중구</td>\n",
       "      <td>133240.0</td>\n",
       "      <td>124312.0</td>\n",
       "      <td>8928.0</td>\n",
       "      <td>20764.0</td>\n",
       "      <td>6.700690</td>\n",
       "      <td>15.583909</td>\n",
       "    </tr>\n",
       "    <tr>\n",
       "      <th>3</th>\n",
       "      <td>용산구</td>\n",
       "      <td>244203.0</td>\n",
       "      <td>229456.0</td>\n",
       "      <td>14747.0</td>\n",
       "      <td>36231.0</td>\n",
       "      <td>6.038828</td>\n",
       "      <td>14.836427</td>\n",
       "    </tr>\n",
       "    <tr>\n",
       "      <th>4</th>\n",
       "      <td>성동구</td>\n",
       "      <td>311244.0</td>\n",
       "      <td>303380.0</td>\n",
       "      <td>7864.0</td>\n",
       "      <td>39997.0</td>\n",
       "      <td>2.526635</td>\n",
       "      <td>12.850689</td>\n",
       "    </tr>\n",
       "    <tr>\n",
       "      <th>5</th>\n",
       "      <td>광진구</td>\n",
       "      <td>372164.0</td>\n",
       "      <td>357211.0</td>\n",
       "      <td>14953.0</td>\n",
       "      <td>42214.0</td>\n",
       "      <td>4.017852</td>\n",
       "      <td>11.342849</td>\n",
       "    </tr>\n",
       "  </tbody>\n",
       "</table>\n",
       "</div>"
      ],
      "text/plain": [
       "    구별       인구수       한국인      외국인      고령자     외국인비율      고령자비율\n",
       "1  종로구  162820.0  153589.0   9231.0  25425.0  5.669451  15.615404\n",
       "2   중구  133240.0  124312.0   8928.0  20764.0  6.700690  15.583909\n",
       "3  용산구  244203.0  229456.0  14747.0  36231.0  6.038828  14.836427\n",
       "4  성동구  311244.0  303380.0   7864.0  39997.0  2.526635  12.850689\n",
       "5  광진구  372164.0  357211.0  14953.0  42214.0  4.017852  11.342849"
      ]
     },
     "execution_count": 16,
     "metadata": {},
     "output_type": "execute_result"
    }
   ],
   "source": [
    "pop_Seoul['외국인비율'] = pop_Seoul['외국인'] / pop_Seoul['인구수'] * 100 #구별 외국인비율 계산\n",
    "pop_Seoul['고령자비율'] = pop_Seoul['고령자'] / pop_Seoul['인구수'] * 100 #구별 고령자비율 계산\n",
    "pop_Seoul.head()"
   ]
  },
  {
   "cell_type": "code",
   "execution_count": 17,
   "metadata": {
    "colab": {
     "base_uri": "https://localhost:8080/",
     "height": 206
    },
    "id": "rsT_7cTv9gLZ",
    "outputId": "4defae9f-d4d1-4003-c3cb-b15606b6270f"
   },
   "outputs": [
    {
     "data": {
      "text/html": [
       "<div>\n",
       "<style scoped>\n",
       "    .dataframe tbody tr th:only-of-type {\n",
       "        vertical-align: middle;\n",
       "    }\n",
       "\n",
       "    .dataframe tbody tr th {\n",
       "        vertical-align: top;\n",
       "    }\n",
       "\n",
       "    .dataframe thead th {\n",
       "        text-align: right;\n",
       "    }\n",
       "</style>\n",
       "<table border=\"1\" class=\"dataframe\">\n",
       "  <thead>\n",
       "    <tr style=\"text-align: right;\">\n",
       "      <th></th>\n",
       "      <th>구별</th>\n",
       "      <th>인구수</th>\n",
       "      <th>한국인</th>\n",
       "      <th>외국인</th>\n",
       "      <th>고령자</th>\n",
       "      <th>외국인비율</th>\n",
       "      <th>고령자비율</th>\n",
       "    </tr>\n",
       "  </thead>\n",
       "  <tbody>\n",
       "    <tr>\n",
       "      <th>19</th>\n",
       "      <td>영등포구</td>\n",
       "      <td>402985.0</td>\n",
       "      <td>368072.0</td>\n",
       "      <td>34913.0</td>\n",
       "      <td>52413.0</td>\n",
       "      <td>8.663598</td>\n",
       "      <td>13.006191</td>\n",
       "    </tr>\n",
       "    <tr>\n",
       "      <th>17</th>\n",
       "      <td>구로구</td>\n",
       "      <td>447874.0</td>\n",
       "      <td>416487.0</td>\n",
       "      <td>31387.0</td>\n",
       "      <td>56833.0</td>\n",
       "      <td>7.007998</td>\n",
       "      <td>12.689506</td>\n",
       "    </tr>\n",
       "    <tr>\n",
       "      <th>18</th>\n",
       "      <td>금천구</td>\n",
       "      <td>255082.0</td>\n",
       "      <td>236353.0</td>\n",
       "      <td>18729.0</td>\n",
       "      <td>32970.0</td>\n",
       "      <td>7.342345</td>\n",
       "      <td>12.925255</td>\n",
       "    </tr>\n",
       "    <tr>\n",
       "      <th>21</th>\n",
       "      <td>관악구</td>\n",
       "      <td>525515.0</td>\n",
       "      <td>507203.0</td>\n",
       "      <td>18312.0</td>\n",
       "      <td>68082.0</td>\n",
       "      <td>3.484582</td>\n",
       "      <td>12.955291</td>\n",
       "    </tr>\n",
       "    <tr>\n",
       "      <th>6</th>\n",
       "      <td>동대문구</td>\n",
       "      <td>369496.0</td>\n",
       "      <td>354079.0</td>\n",
       "      <td>15417.0</td>\n",
       "      <td>54173.0</td>\n",
       "      <td>4.172440</td>\n",
       "      <td>14.661322</td>\n",
       "    </tr>\n",
       "  </tbody>\n",
       "</table>\n",
       "</div>"
      ],
      "text/plain": [
       "      구별       인구수       한국인      외국인      고령자     외국인비율      고령자비율\n",
       "19  영등포구  402985.0  368072.0  34913.0  52413.0  8.663598  13.006191\n",
       "17   구로구  447874.0  416487.0  31387.0  56833.0  7.007998  12.689506\n",
       "18   금천구  255082.0  236353.0  18729.0  32970.0  7.342345  12.925255\n",
       "21   관악구  525515.0  507203.0  18312.0  68082.0  3.484582  12.955291\n",
       "6   동대문구  369496.0  354079.0  15417.0  54173.0  4.172440  14.661322"
      ]
     },
     "execution_count": 17,
     "metadata": {},
     "output_type": "execute_result"
    }
   ],
   "source": [
    "pop_Seoul.sort_values(by='외국인', ascending=False).head(5)"
   ]
  },
  {
   "cell_type": "code",
   "execution_count": 18,
   "metadata": {
    "colab": {
     "base_uri": "https://localhost:8080/",
     "height": 206
    },
    "id": "_On1dTy49vWY",
    "outputId": "92335f2d-db88-47b8-9824-6c275cd992e9"
   },
   "outputs": [
    {
     "data": {
      "text/html": [
       "<div>\n",
       "<style scoped>\n",
       "    .dataframe tbody tr th:only-of-type {\n",
       "        vertical-align: middle;\n",
       "    }\n",
       "\n",
       "    .dataframe tbody tr th {\n",
       "        vertical-align: top;\n",
       "    }\n",
       "\n",
       "    .dataframe thead th {\n",
       "        text-align: right;\n",
       "    }\n",
       "</style>\n",
       "<table border=\"1\" class=\"dataframe\">\n",
       "  <thead>\n",
       "    <tr style=\"text-align: right;\">\n",
       "      <th></th>\n",
       "      <th>구별</th>\n",
       "      <th>인구수</th>\n",
       "      <th>한국인</th>\n",
       "      <th>외국인</th>\n",
       "      <th>고령자</th>\n",
       "      <th>외국인비율</th>\n",
       "      <th>고령자비율</th>\n",
       "    </tr>\n",
       "  </thead>\n",
       "  <tbody>\n",
       "    <tr>\n",
       "      <th>19</th>\n",
       "      <td>영등포구</td>\n",
       "      <td>402985.0</td>\n",
       "      <td>368072.0</td>\n",
       "      <td>34913.0</td>\n",
       "      <td>52413.0</td>\n",
       "      <td>8.663598</td>\n",
       "      <td>13.006191</td>\n",
       "    </tr>\n",
       "    <tr>\n",
       "      <th>18</th>\n",
       "      <td>금천구</td>\n",
       "      <td>255082.0</td>\n",
       "      <td>236353.0</td>\n",
       "      <td>18729.0</td>\n",
       "      <td>32970.0</td>\n",
       "      <td>7.342345</td>\n",
       "      <td>12.925255</td>\n",
       "    </tr>\n",
       "    <tr>\n",
       "      <th>17</th>\n",
       "      <td>구로구</td>\n",
       "      <td>447874.0</td>\n",
       "      <td>416487.0</td>\n",
       "      <td>31387.0</td>\n",
       "      <td>56833.0</td>\n",
       "      <td>7.007998</td>\n",
       "      <td>12.689506</td>\n",
       "    </tr>\n",
       "    <tr>\n",
       "      <th>2</th>\n",
       "      <td>중구</td>\n",
       "      <td>133240.0</td>\n",
       "      <td>124312.0</td>\n",
       "      <td>8928.0</td>\n",
       "      <td>20764.0</td>\n",
       "      <td>6.700690</td>\n",
       "      <td>15.583909</td>\n",
       "    </tr>\n",
       "    <tr>\n",
       "      <th>3</th>\n",
       "      <td>용산구</td>\n",
       "      <td>244203.0</td>\n",
       "      <td>229456.0</td>\n",
       "      <td>14747.0</td>\n",
       "      <td>36231.0</td>\n",
       "      <td>6.038828</td>\n",
       "      <td>14.836427</td>\n",
       "    </tr>\n",
       "  </tbody>\n",
       "</table>\n",
       "</div>"
      ],
      "text/plain": [
       "      구별       인구수       한국인      외국인      고령자     외국인비율      고령자비율\n",
       "19  영등포구  402985.0  368072.0  34913.0  52413.0  8.663598  13.006191\n",
       "18   금천구  255082.0  236353.0  18729.0  32970.0  7.342345  12.925255\n",
       "17   구로구  447874.0  416487.0  31387.0  56833.0  7.007998  12.689506\n",
       "2     중구  133240.0  124312.0   8928.0  20764.0  6.700690  15.583909\n",
       "3    용산구  244203.0  229456.0  14747.0  36231.0  6.038828  14.836427"
      ]
     },
     "execution_count": 18,
     "metadata": {},
     "output_type": "execute_result"
    }
   ],
   "source": [
    "pop_Seoul.sort_values(by='외국인비율', ascending=False).head(5)"
   ]
  },
  {
   "cell_type": "markdown",
   "metadata": {},
   "source": [
    "## 3. CCTV 데이터와 인구 현황 데이터를 합치고 분석하기"
   ]
  },
  {
   "cell_type": "code",
   "execution_count": 19,
   "metadata": {
    "colab": {
     "base_uri": "https://localhost:8080/",
     "height": 206
    },
    "id": "JHPATIXa9xl_",
    "outputId": "045ed8a0-4a1b-491b-b971-66261f41521f"
   },
   "outputs": [
    {
     "data": {
      "text/html": [
       "<div>\n",
       "<style scoped>\n",
       "    .dataframe tbody tr th:only-of-type {\n",
       "        vertical-align: middle;\n",
       "    }\n",
       "\n",
       "    .dataframe tbody tr th {\n",
       "        vertical-align: top;\n",
       "    }\n",
       "\n",
       "    .dataframe thead th {\n",
       "        text-align: right;\n",
       "    }\n",
       "</style>\n",
       "<table border=\"1\" class=\"dataframe\">\n",
       "  <thead>\n",
       "    <tr style=\"text-align: right;\">\n",
       "      <th></th>\n",
       "      <th>구별</th>\n",
       "      <th>소계</th>\n",
       "      <th>2013년도 이전</th>\n",
       "      <th>2014년</th>\n",
       "      <th>2015년</th>\n",
       "      <th>2016년</th>\n",
       "      <th>최근증가율</th>\n",
       "      <th>인구수</th>\n",
       "      <th>한국인</th>\n",
       "      <th>외국인</th>\n",
       "      <th>고령자</th>\n",
       "      <th>외국인비율</th>\n",
       "      <th>고령자비율</th>\n",
       "    </tr>\n",
       "  </thead>\n",
       "  <tbody>\n",
       "    <tr>\n",
       "      <th>0</th>\n",
       "      <td>강남구</td>\n",
       "      <td>2780</td>\n",
       "      <td>1292</td>\n",
       "      <td>430</td>\n",
       "      <td>584</td>\n",
       "      <td>932</td>\n",
       "      <td>150.619195</td>\n",
       "      <td>570500.0</td>\n",
       "      <td>565550.0</td>\n",
       "      <td>4950.0</td>\n",
       "      <td>63167.0</td>\n",
       "      <td>0.867660</td>\n",
       "      <td>11.072217</td>\n",
       "    </tr>\n",
       "    <tr>\n",
       "      <th>1</th>\n",
       "      <td>강동구</td>\n",
       "      <td>773</td>\n",
       "      <td>379</td>\n",
       "      <td>99</td>\n",
       "      <td>155</td>\n",
       "      <td>377</td>\n",
       "      <td>166.490765</td>\n",
       "      <td>453233.0</td>\n",
       "      <td>449019.0</td>\n",
       "      <td>4214.0</td>\n",
       "      <td>54622.0</td>\n",
       "      <td>0.929765</td>\n",
       "      <td>12.051638</td>\n",
       "    </tr>\n",
       "    <tr>\n",
       "      <th>2</th>\n",
       "      <td>강북구</td>\n",
       "      <td>748</td>\n",
       "      <td>369</td>\n",
       "      <td>120</td>\n",
       "      <td>138</td>\n",
       "      <td>204</td>\n",
       "      <td>125.203252</td>\n",
       "      <td>330192.0</td>\n",
       "      <td>326686.0</td>\n",
       "      <td>3506.0</td>\n",
       "      <td>54813.0</td>\n",
       "      <td>1.061806</td>\n",
       "      <td>16.600342</td>\n",
       "    </tr>\n",
       "    <tr>\n",
       "      <th>3</th>\n",
       "      <td>강서구</td>\n",
       "      <td>884</td>\n",
       "      <td>388</td>\n",
       "      <td>258</td>\n",
       "      <td>184</td>\n",
       "      <td>81</td>\n",
       "      <td>134.793814</td>\n",
       "      <td>603772.0</td>\n",
       "      <td>597248.0</td>\n",
       "      <td>6524.0</td>\n",
       "      <td>72548.0</td>\n",
       "      <td>1.080540</td>\n",
       "      <td>12.015794</td>\n",
       "    </tr>\n",
       "    <tr>\n",
       "      <th>4</th>\n",
       "      <td>관악구</td>\n",
       "      <td>1496</td>\n",
       "      <td>846</td>\n",
       "      <td>260</td>\n",
       "      <td>390</td>\n",
       "      <td>613</td>\n",
       "      <td>149.290780</td>\n",
       "      <td>525515.0</td>\n",
       "      <td>507203.0</td>\n",
       "      <td>18312.0</td>\n",
       "      <td>68082.0</td>\n",
       "      <td>3.484582</td>\n",
       "      <td>12.955291</td>\n",
       "    </tr>\n",
       "  </tbody>\n",
       "</table>\n",
       "</div>"
      ],
      "text/plain": [
       "    구별    소계  2013년도 이전  2014년  2015년  2016년       최근증가율       인구수       한국인  \\\n",
       "0  강남구  2780       1292    430    584    932  150.619195  570500.0  565550.0   \n",
       "1  강동구   773        379     99    155    377  166.490765  453233.0  449019.0   \n",
       "2  강북구   748        369    120    138    204  125.203252  330192.0  326686.0   \n",
       "3  강서구   884        388    258    184     81  134.793814  603772.0  597248.0   \n",
       "4  관악구  1496        846    260    390    613  149.290780  525515.0  507203.0   \n",
       "\n",
       "       외국인      고령자     외국인비율      고령자비율  \n",
       "0   4950.0  63167.0  0.867660  11.072217  \n",
       "1   4214.0  54622.0  0.929765  12.051638  \n",
       "2   3506.0  54813.0  1.061806  16.600342  \n",
       "3   6524.0  72548.0  1.080540  12.015794  \n",
       "4  18312.0  68082.0  3.484582  12.955291  "
      ]
     },
     "execution_count": 19,
     "metadata": {},
     "output_type": "execute_result"
    }
   ],
   "source": [
    "data_result = pd.merge(CCTV_Seoul, pop_Seoul, on='구별') #공통된 컬럼인 구별로 merge\n",
    "data_result.head()"
   ]
  },
  {
   "cell_type": "code",
   "execution_count": 20,
   "metadata": {
    "colab": {
     "base_uri": "https://localhost:8080/",
     "height": 206
    },
    "id": "JzKMfWi49_sP",
    "outputId": "c2c5dd72-c3a7-4946-c626-4bfe7dda4ad3"
   },
   "outputs": [
    {
     "data": {
      "text/html": [
       "<div>\n",
       "<style scoped>\n",
       "    .dataframe tbody tr th:only-of-type {\n",
       "        vertical-align: middle;\n",
       "    }\n",
       "\n",
       "    .dataframe tbody tr th {\n",
       "        vertical-align: top;\n",
       "    }\n",
       "\n",
       "    .dataframe thead th {\n",
       "        text-align: right;\n",
       "    }\n",
       "</style>\n",
       "<table border=\"1\" class=\"dataframe\">\n",
       "  <thead>\n",
       "    <tr style=\"text-align: right;\">\n",
       "      <th></th>\n",
       "      <th>구별</th>\n",
       "      <th>소계</th>\n",
       "      <th>최근증가율</th>\n",
       "      <th>인구수</th>\n",
       "      <th>한국인</th>\n",
       "      <th>외국인</th>\n",
       "      <th>고령자</th>\n",
       "      <th>외국인비율</th>\n",
       "      <th>고령자비율</th>\n",
       "    </tr>\n",
       "  </thead>\n",
       "  <tbody>\n",
       "    <tr>\n",
       "      <th>0</th>\n",
       "      <td>강남구</td>\n",
       "      <td>2780</td>\n",
       "      <td>150.619195</td>\n",
       "      <td>570500.0</td>\n",
       "      <td>565550.0</td>\n",
       "      <td>4950.0</td>\n",
       "      <td>63167.0</td>\n",
       "      <td>0.867660</td>\n",
       "      <td>11.072217</td>\n",
       "    </tr>\n",
       "    <tr>\n",
       "      <th>1</th>\n",
       "      <td>강동구</td>\n",
       "      <td>773</td>\n",
       "      <td>166.490765</td>\n",
       "      <td>453233.0</td>\n",
       "      <td>449019.0</td>\n",
       "      <td>4214.0</td>\n",
       "      <td>54622.0</td>\n",
       "      <td>0.929765</td>\n",
       "      <td>12.051638</td>\n",
       "    </tr>\n",
       "    <tr>\n",
       "      <th>2</th>\n",
       "      <td>강북구</td>\n",
       "      <td>748</td>\n",
       "      <td>125.203252</td>\n",
       "      <td>330192.0</td>\n",
       "      <td>326686.0</td>\n",
       "      <td>3506.0</td>\n",
       "      <td>54813.0</td>\n",
       "      <td>1.061806</td>\n",
       "      <td>16.600342</td>\n",
       "    </tr>\n",
       "    <tr>\n",
       "      <th>3</th>\n",
       "      <td>강서구</td>\n",
       "      <td>884</td>\n",
       "      <td>134.793814</td>\n",
       "      <td>603772.0</td>\n",
       "      <td>597248.0</td>\n",
       "      <td>6524.0</td>\n",
       "      <td>72548.0</td>\n",
       "      <td>1.080540</td>\n",
       "      <td>12.015794</td>\n",
       "    </tr>\n",
       "    <tr>\n",
       "      <th>4</th>\n",
       "      <td>관악구</td>\n",
       "      <td>1496</td>\n",
       "      <td>149.290780</td>\n",
       "      <td>525515.0</td>\n",
       "      <td>507203.0</td>\n",
       "      <td>18312.0</td>\n",
       "      <td>68082.0</td>\n",
       "      <td>3.484582</td>\n",
       "      <td>12.955291</td>\n",
       "    </tr>\n",
       "  </tbody>\n",
       "</table>\n",
       "</div>"
      ],
      "text/plain": [
       "    구별    소계       최근증가율       인구수       한국인      외국인      고령자     외국인비율  \\\n",
       "0  강남구  2780  150.619195  570500.0  565550.0   4950.0  63167.0  0.867660   \n",
       "1  강동구   773  166.490765  453233.0  449019.0   4214.0  54622.0  0.929765   \n",
       "2  강북구   748  125.203252  330192.0  326686.0   3506.0  54813.0  1.061806   \n",
       "3  강서구   884  134.793814  603772.0  597248.0   6524.0  72548.0  1.080540   \n",
       "4  관악구  1496  149.290780  525515.0  507203.0  18312.0  68082.0  3.484582   \n",
       "\n",
       "       고령자비율  \n",
       "0  11.072217  \n",
       "1  12.051638  \n",
       "2  16.600342  \n",
       "3  12.015794  \n",
       "4  12.955291  "
      ]
     },
     "execution_count": 20,
     "metadata": {},
     "output_type": "execute_result"
    }
   ],
   "source": [
    "#행 삭제 : drop\n",
    "#열 삭제 : del 쓰거나 drop([index 혹은 '컬럼명'], axis=1, inplace=True) axis=1 꼭 써야함!!!\n",
    "del data_result['2013년도 이전']\n",
    "del data_result['2014년'] #즉 data_result.drop(['2014년'], axis=1, inplace=True)과 동일\n",
    "del data_result['2015년']\n",
    "del data_result['2016년']\n",
    "data_result.head()"
   ]
  },
  {
   "cell_type": "code",
   "execution_count": 21,
   "metadata": {
    "colab": {
     "base_uri": "https://localhost:8080/",
     "height": 237
    },
    "id": "RwBMu_Zr-PCM",
    "outputId": "14a9ad41-dba7-4d87-92cf-61ffae471bfa"
   },
   "outputs": [
    {
     "data": {
      "text/html": [
       "<div>\n",
       "<style scoped>\n",
       "    .dataframe tbody tr th:only-of-type {\n",
       "        vertical-align: middle;\n",
       "    }\n",
       "\n",
       "    .dataframe tbody tr th {\n",
       "        vertical-align: top;\n",
       "    }\n",
       "\n",
       "    .dataframe thead th {\n",
       "        text-align: right;\n",
       "    }\n",
       "</style>\n",
       "<table border=\"1\" class=\"dataframe\">\n",
       "  <thead>\n",
       "    <tr style=\"text-align: right;\">\n",
       "      <th></th>\n",
       "      <th>소계</th>\n",
       "      <th>최근증가율</th>\n",
       "      <th>인구수</th>\n",
       "      <th>한국인</th>\n",
       "      <th>외국인</th>\n",
       "      <th>고령자</th>\n",
       "      <th>외국인비율</th>\n",
       "      <th>고령자비율</th>\n",
       "    </tr>\n",
       "    <tr>\n",
       "      <th>구별</th>\n",
       "      <th></th>\n",
       "      <th></th>\n",
       "      <th></th>\n",
       "      <th></th>\n",
       "      <th></th>\n",
       "      <th></th>\n",
       "      <th></th>\n",
       "      <th></th>\n",
       "    </tr>\n",
       "  </thead>\n",
       "  <tbody>\n",
       "    <tr>\n",
       "      <th>강남구</th>\n",
       "      <td>2780</td>\n",
       "      <td>150.619195</td>\n",
       "      <td>570500.0</td>\n",
       "      <td>565550.0</td>\n",
       "      <td>4950.0</td>\n",
       "      <td>63167.0</td>\n",
       "      <td>0.867660</td>\n",
       "      <td>11.072217</td>\n",
       "    </tr>\n",
       "    <tr>\n",
       "      <th>강동구</th>\n",
       "      <td>773</td>\n",
       "      <td>166.490765</td>\n",
       "      <td>453233.0</td>\n",
       "      <td>449019.0</td>\n",
       "      <td>4214.0</td>\n",
       "      <td>54622.0</td>\n",
       "      <td>0.929765</td>\n",
       "      <td>12.051638</td>\n",
       "    </tr>\n",
       "    <tr>\n",
       "      <th>강북구</th>\n",
       "      <td>748</td>\n",
       "      <td>125.203252</td>\n",
       "      <td>330192.0</td>\n",
       "      <td>326686.0</td>\n",
       "      <td>3506.0</td>\n",
       "      <td>54813.0</td>\n",
       "      <td>1.061806</td>\n",
       "      <td>16.600342</td>\n",
       "    </tr>\n",
       "    <tr>\n",
       "      <th>강서구</th>\n",
       "      <td>884</td>\n",
       "      <td>134.793814</td>\n",
       "      <td>603772.0</td>\n",
       "      <td>597248.0</td>\n",
       "      <td>6524.0</td>\n",
       "      <td>72548.0</td>\n",
       "      <td>1.080540</td>\n",
       "      <td>12.015794</td>\n",
       "    </tr>\n",
       "    <tr>\n",
       "      <th>관악구</th>\n",
       "      <td>1496</td>\n",
       "      <td>149.290780</td>\n",
       "      <td>525515.0</td>\n",
       "      <td>507203.0</td>\n",
       "      <td>18312.0</td>\n",
       "      <td>68082.0</td>\n",
       "      <td>3.484582</td>\n",
       "      <td>12.955291</td>\n",
       "    </tr>\n",
       "  </tbody>\n",
       "</table>\n",
       "</div>"
      ],
      "text/plain": [
       "       소계       최근증가율       인구수       한국인      외국인      고령자     외국인비율  \\\n",
       "구별                                                                      \n",
       "강남구  2780  150.619195  570500.0  565550.0   4950.0  63167.0  0.867660   \n",
       "강동구   773  166.490765  453233.0  449019.0   4214.0  54622.0  0.929765   \n",
       "강북구   748  125.203252  330192.0  326686.0   3506.0  54813.0  1.061806   \n",
       "강서구   884  134.793814  603772.0  597248.0   6524.0  72548.0  1.080540   \n",
       "관악구  1496  149.290780  525515.0  507203.0  18312.0  68082.0  3.484582   \n",
       "\n",
       "         고령자비율  \n",
       "구별              \n",
       "강남구  11.072217  \n",
       "강동구  12.051638  \n",
       "강북구  16.600342  \n",
       "강서구  12.015794  \n",
       "관악구  12.955291  "
      ]
     },
     "execution_count": 21,
     "metadata": {},
     "output_type": "execute_result"
    }
   ],
   "source": [
    "data_result.set_index('구별', inplace = True) #index를 구 이름으로 바꾸기\n",
    "data_result.head()"
   ]
  },
  {
   "cell_type": "code",
   "execution_count": 22,
   "metadata": {},
   "outputs": [
    {
     "data": {
      "text/plain": [
       "array([[ 1.        , -0.13607433],\n",
       "       [-0.13607433,  1.        ]])"
      ]
     },
     "execution_count": 22,
     "metadata": {},
     "output_type": "execute_result"
    }
   ],
   "source": [
    "np.corrcoef(data_result['외국인비율'], data_result['소계']) #무슨 변수와 CCTV 수를 비교할지? 일단 상관계수로 보자"
   ]
  },
  {
   "cell_type": "code",
   "execution_count": 23,
   "metadata": {},
   "outputs": [
    {
     "data": {
      "text/plain": [
       "array([[1.        , 0.30634228],\n",
       "       [0.30634228, 1.        ]])"
      ]
     },
     "execution_count": 23,
     "metadata": {},
     "output_type": "execute_result"
    }
   ],
   "source": [
    "np.corrcoef(data_result['인구수'], data_result['소계'])"
   ]
  },
  {
   "cell_type": "code",
   "execution_count": 24,
   "metadata": {
    "colab": {
     "base_uri": "https://localhost:8080/"
    },
    "id": "Dj3SHqfz-inx",
    "outputId": "7e7c91e6-2001-413a-a9b0-3f69c85853a9"
   },
   "outputs": [],
   "source": [
    "import matplotlib.pyplot as plt #matplotlib의 폰트는 한글을 지원하지 않아서 폰트를 변경해야 함.\n",
    "import platform\n",
    "\n",
    "from matplotlib import font_manager, rc\n",
    "plt.rcParams['axes.unicode_minus'] = False\n",
    "\n",
    "if platform.system() == 'Darwin':\n",
    "    rc('font', family = 'AppleGothic')\n",
    "elif platform.system() == 'Windows':\n",
    "    path = \"c:/Windows/Fonts/malgun.ttf\"\n",
    "    font_name = font_manager.FontProperties(fname = path).get_name()\n",
    "    rc('font', family = font_name)\n",
    "else:\n",
    "    print('Unknown system... sorry~~~~')"
   ]
  },
  {
   "cell_type": "code",
   "execution_count": 25,
   "metadata": {
    "colab": {
     "base_uri": "https://localhost:8080/",
     "height": 1000
    },
    "id": "wviPZI4f_BJj",
    "outputId": "3d72de4a-b8c4-4238-99b3-a6cf4a24be8d"
   },
   "outputs": [
    {
     "data": {
      "image/png": "[encoded data removed]",
      "text/plain": [
       "<Figure size 720x720 with 1 Axes>"
      ]
     },
     "metadata": {
      "needs_background": "light"
     },
     "output_type": "display_data"
    }
   ],
   "source": [
    "plt.figure()\n",
    "data_result['소계'].plot(kind='barh', grid=True, figsize=(10,10)) #barh로 수평bar로 그리기, grid로 격자 표시, figsize로 그림 크기 조절\n",
    "plt.show()"
   ]
  },
  {
   "cell_type": "code",
   "execution_count": 26,
   "metadata": {
    "id": "ReMXR6yfAO7T"
   },
   "outputs": [
    {
     "data": {
      "image/png": "[encoded data removed]",
      "text/plain": [
       "<Figure size 720x720 with 1 Axes>"
      ]
     },
     "metadata": {
      "needs_background": "light"
     },
     "output_type": "display_data"
    }
   ],
   "source": [
    "data_result['소계'].sort_values().plot(kind = 'barh', grid = True, figsize = (10, 10))\n",
    "plt.show()"
   ]
  },
  {
   "cell_type": "code",
   "execution_count": 27,
   "metadata": {},
   "outputs": [
    {
     "data": {
      "image/png": "[encoded data removed]",
      "text/plain": [
       "<Figure size 720x720 with 1 Axes>"
      ]
     },
     "metadata": {
      "needs_background": "light"
     },
     "output_type": "display_data"
    }
   ],
   "source": [
    "data_result['CCTV비율'] = data_result['소계'] / data_result['인구수'] * 100 #인구 대비 CCTV 비율 계산\n",
    "\n",
    "data_result['CCTV비율'].sort_values().plot(kind = 'barh', grid = True, figsize = (10, 10))\n",
    "plt.show()"
   ]
  },
  {
   "cell_type": "code",
   "execution_count": 28,
   "metadata": {},
   "outputs": [
    {
     "data": {
      "image/png": "[encoded data removed]",
      "text/plain": [
       "<Figure size 432x432 with 1 Axes>"
      ]
     },
     "metadata": {
      "needs_background": "light"
     },
     "output_type": "display_data"
    }
   ],
   "source": [
    "plt.figure(figsize = (6, 6))\n",
    "plt.scatter(data_result['인구수'], data_result['소계'], s = 50) #s = 50: marker의 크기\n",
    "plt.xlabel('인구수')\n",
    "plt.ylabel('CCTV')\n",
    "plt.grid()\n",
    "plt.show()"
   ]
  }
 ],
 "metadata": {
  "colab": {
   "provenance": []
  },
  "kernelspec": {
   "display_name": "Python 3 (ipykernel)",
   "language": "python",
   "name": "python3"
  },
  "language_info": {
   "codemirror_mode": {
    "name": "ipython",
    "version": 3
   },
   "file_extension": ".py",
   "mimetype": "text/x-python",
   "name": "python",
   "nbconvert_exporter": "python",
   "pygments_lexer": "ipython3",
   "version": "3.10.2"
  }
 },
 "nbformat": 4,
 "nbformat_minor": 1
}
