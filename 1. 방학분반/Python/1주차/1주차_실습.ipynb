{
  "nbformat": 4,
  "nbformat_minor": 0,
  "metadata": {
    "colab": {
      "provenance": []
    },
    "kernelspec": {
      "name": "python3",
      "display_name": "Python 3"
    },
    "language_info": {
      "name": "python"
    }
  },
  "cells": [
    {
      "cell_type": "markdown",
      "source": [
        "### 0. 필요한 라이브러리 불러오기"
      ],
      "metadata": {
        "id": "PPpGO_xMn86H"
      }
    },
    {
      "cell_type": "code",
      "execution_count": 1,
      "metadata": {
        "id": "aIHTufyjm69o"
      },
      "outputs": [],
      "source": [
        "import numpy as np #행렬/배열 연산 처리"
      ]
    },
    {
      "cell_type": "markdown",
      "source": [
        "###1. 데이터 생성"
      ],
      "metadata": {
        "id": "KfrxjCvlpaGD"
      }
    },
    {
      "cell_type": "code",
      "source": [
        "dat = np.array([2,3,3,4,4,4,4,5,5,6])\n",
        "dat"
      ],
      "metadata": {
        "colab": {
          "base_uri": "https://localhost:8080/"
        },
        "id": "YruI58FqoIhb",
        "outputId": "c2e9e8e0-8e0c-4067-ad99-e5c570f5d787"
      },
      "execution_count": 2,
      "outputs": [
        {
          "output_type": "execute_result",
          "data": {
            "text/plain": [
              "array([2, 3, 3, 4, 4, 4, 4, 5, 5, 6])"
            ]
          },
          "metadata": {},
          "execution_count": 2
        }
      ]
    },
    {
      "cell_type": "markdown",
      "source": [
        "### 2. Sum"
      ],
      "metadata": {
        "id": "3SGZR41spg8I"
      }
    },
    {
      "cell_type": "code",
      "source": [
        "np.sum(dat)"
      ],
      "metadata": {
        "colab": {
          "base_uri": "https://localhost:8080/"
        },
        "id": "hXZ4RzukoSDT",
        "outputId": "d6b30c64-4e5b-4660-e499-3b5eb504c2b6"
      },
      "execution_count": 3,
      "outputs": [
        {
          "output_type": "execute_result",
          "data": {
            "text/plain": [
              "40"
            ]
          },
          "metadata": {},
          "execution_count": 3
        }
      ]
    },
    {
      "cell_type": "code",
      "source": [
        "dat.sum()"
      ],
      "metadata": {
        "colab": {
          "base_uri": "https://localhost:8080/"
        },
        "id": "p-7okgUhpTSr",
        "outputId": "1c8a7335-620c-4a8a-b2f1-024bcb1c0e8b"
      },
      "execution_count": 4,
      "outputs": [
        {
          "output_type": "execute_result",
          "data": {
            "text/plain": [
              "40"
            ]
          },
          "metadata": {},
          "execution_count": 4
        }
      ]
    },
    {
      "cell_type": "code",
      "source": [
        "sum(dat)"
      ],
      "metadata": {
        "colab": {
          "base_uri": "https://localhost:8080/"
        },
        "id": "TF5t2fYJpUs4",
        "outputId": "ab249514-7c79-44bb-f015-edb9a16dd3a1"
      },
      "execution_count": 5,
      "outputs": [
        {
          "output_type": "execute_result",
          "data": {
            "text/plain": [
              "40"
            ]
          },
          "metadata": {},
          "execution_count": 5
        }
      ]
    },
    {
      "cell_type": "markdown",
      "source": [
        "### 3. Sample size"
      ],
      "metadata": {
        "id": "Wg9TwyscplqB"
      }
    },
    {
      "cell_type": "code",
      "source": [
        "len(dat)"
      ],
      "metadata": {
        "colab": {
          "base_uri": "https://localhost:8080/"
        },
        "id": "0DCAA8WNpVpV",
        "outputId": "07c51df6-be6f-41be-fdab-cdcc714af800"
      },
      "execution_count": 6,
      "outputs": [
        {
          "output_type": "execute_result",
          "data": {
            "text/plain": [
              "10"
            ]
          },
          "metadata": {},
          "execution_count": 6
        }
      ]
    },
    {
      "cell_type": "markdown",
      "source": [
        "### 4. Mean"
      ],
      "metadata": {
        "id": "apW-kc49pq5X"
      }
    },
    {
      "cell_type": "code",
      "source": [
        "n = len(dat)\n",
        "result = np.sum(dat)\n",
        "average = result/n\n",
        "average"
      ],
      "metadata": {
        "colab": {
          "base_uri": "https://localhost:8080/"
        },
        "id": "hdjrFmnQppC6",
        "outputId": "edfe2eac-c919-46cc-c0c4-1cf61fca28d8"
      },
      "execution_count": 7,
      "outputs": [
        {
          "output_type": "execute_result",
          "data": {
            "text/plain": [
              "4.0"
            ]
          },
          "metadata": {},
          "execution_count": 7
        }
      ]
    },
    {
      "cell_type": "code",
      "source": [
        "np.mean(dat)"
      ],
      "metadata": {
        "colab": {
          "base_uri": "https://localhost:8080/"
        },
        "id": "DWsePqBEp8Wj",
        "outputId": "196d83ae-2c6c-495f-d1ed-56502bdf670e"
      },
      "execution_count": 8,
      "outputs": [
        {
          "output_type": "execute_result",
          "data": {
            "text/plain": [
              "4.0"
            ]
          },
          "metadata": {},
          "execution_count": 8
        }
      ]
    },
    {
      "cell_type": "code",
      "source": [
        "np.median(dat)"
      ],
      "metadata": {
        "colab": {
          "base_uri": "https://localhost:8080/"
        },
        "id": "P4gy_2W5skCA",
        "outputId": "480caa33-c883-4aae-fd56-1abfecc5865e"
      },
      "execution_count": 9,
      "outputs": [
        {
          "output_type": "execute_result",
          "data": {
            "text/plain": [
              "4.0"
            ]
          },
          "metadata": {},
          "execution_count": 9
        }
      ]
    },
    {
      "cell_type": "markdown",
      "source": [
        "### 5. Variance"
      ],
      "metadata": {
        "id": "_OopBY_hqA4g"
      }
    },
    {
      "cell_type": "markdown",
      "source": [
        "![image.png](data:image/png;base64,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)"
      ],
      "metadata": {
        "id": "0EtL_XpDrMhU"
      }
    },
    {
      "cell_type": "code",
      "source": [
        "pop_var = np.sum((dat-average)**2)/n\n",
        "pop_var"
      ],
      "metadata": {
        "colab": {
          "base_uri": "https://localhost:8080/"
        },
        "id": "DTCFdtVkrTK6",
        "outputId": "2b6afb44-07c6-49d5-d3d7-cde559eed0a4"
      },
      "execution_count": 10,
      "outputs": [
        {
          "output_type": "execute_result",
          "data": {
            "text/plain": [
              "1.2"
            ]
          },
          "metadata": {},
          "execution_count": 10
        }
      ]
    },
    {
      "cell_type": "code",
      "source": [
        "sam_var = np.sum((dat-average)**2)/(n-1)\n",
        "sam_var"
      ],
      "metadata": {
        "colab": {
          "base_uri": "https://localhost:8080/"
        },
        "id": "qE2S-SUdrm9S",
        "outputId": "8bbcd1e2-abc4-4120-9115-6cbea029c7d4"
      },
      "execution_count": 11,
      "outputs": [
        {
          "output_type": "execute_result",
          "data": {
            "text/plain": [
              "1.3333333333333333"
            ]
          },
          "metadata": {},
          "execution_count": 11
        }
      ]
    },
    {
      "cell_type": "code",
      "source": [
        "np.var(dat, ddof=0)"
      ],
      "metadata": {
        "colab": {
          "base_uri": "https://localhost:8080/"
        },
        "id": "Nyp8NQZAp-3V",
        "outputId": "7a373a24-5a6b-4231-f17d-f96987011eed"
      },
      "execution_count": 12,
      "outputs": [
        {
          "output_type": "execute_result",
          "data": {
            "text/plain": [
              "1.2"
            ]
          },
          "metadata": {},
          "execution_count": 12
        }
      ]
    },
    {
      "cell_type": "code",
      "source": [
        "np.var(dat)"
      ],
      "metadata": {
        "colab": {
          "base_uri": "https://localhost:8080/"
        },
        "id": "94MhOxN6rwbm",
        "outputId": "f828fbe1-7a67-4afb-cc13-8fdd791f8278"
      },
      "execution_count": 13,
      "outputs": [
        {
          "output_type": "execute_result",
          "data": {
            "text/plain": [
              "1.2"
            ]
          },
          "metadata": {},
          "execution_count": 13
        }
      ]
    },
    {
      "cell_type": "code",
      "source": [
        "np.var(dat, ddof=1)"
      ],
      "metadata": {
        "colab": {
          "base_uri": "https://localhost:8080/"
        },
        "id": "8-nBRtzaq9hf",
        "outputId": "44b3e8e0-327c-49d6-d7fb-b56d31921c1c"
      },
      "execution_count": 14,
      "outputs": [
        {
          "output_type": "execute_result",
          "data": {
            "text/plain": [
              "1.3333333333333333"
            ]
          },
          "metadata": {},
          "execution_count": 14
        }
      ]
    },
    {
      "cell_type": "markdown",
      "source": [
        "### 6. Standard Deviation"
      ],
      "metadata": {
        "id": "Eg1sqFxir4cM"
      }
    },
    {
      "cell_type": "code",
      "source": [
        "sd = np.sqrt(sam_var)\n",
        "sd"
      ],
      "metadata": {
        "colab": {
          "base_uri": "https://localhost:8080/"
        },
        "id": "lyZnEyMVrGpc",
        "outputId": "ac2941f0-5074-46a6-c30b-81ea4eb0a44f"
      },
      "execution_count": 15,
      "outputs": [
        {
          "output_type": "execute_result",
          "data": {
            "text/plain": [
              "1.1547005383792515"
            ]
          },
          "metadata": {},
          "execution_count": 15
        }
      ]
    },
    {
      "cell_type": "code",
      "source": [
        "np.std(dat, ddof=1)"
      ],
      "metadata": {
        "colab": {
          "base_uri": "https://localhost:8080/"
        },
        "id": "xsUXJf2fsDPZ",
        "outputId": "2d54b31b-b7bb-4127-b6be-da85775fc1be"
      },
      "execution_count": 16,
      "outputs": [
        {
          "output_type": "execute_result",
          "data": {
            "text/plain": [
              "1.1547005383792515"
            ]
          },
          "metadata": {},
          "execution_count": 16
        }
      ]
    },
    {
      "cell_type": "code",
      "source": [
        "import pandas as pd #데이터 분석/처리를 위한 라이브러리"
      ],
      "metadata": {
        "id": "AB4c0o5dsHTf"
      },
      "execution_count": 17,
      "outputs": []
    },
    {
      "cell_type": "markdown",
      "source": [
        "### 7. 데이터 살펴보기"
      ],
      "metadata": {
        "id": "IhO-XQaVu-Ce"
      }
    },
    {
      "cell_type": "code",
      "source": [
        "# 드라이브 마운트 : 드라이브에 있는 파일 연동\n",
        "## 좌측 폴더 아이콘 클릭 > 세번째 아이콘(드라이브) 클릭 > 마운트\n",
        "## 아니면 아래 코드 실행\n",
        "from google.colab import drive\n",
        "drive.mount('/content/drive') "
      ],
      "metadata": {
        "colab": {
          "base_uri": "https://localhost:8080/"
        },
        "id": "xI0FWaCrua4z",
        "outputId": "6e8241de-20f3-4eba-da78-c476174b9c70"
      },
      "execution_count": 18,
      "outputs": [
        {
          "output_type": "stream",
          "name": "stdout",
          "text": [
            "Drive already mounted at /content/drive; to attempt to forcibly remount, call drive.mount(\"/content/drive\", force_remount=True).\n"
          ]
        }
      ]
    },
    {
      "cell_type": "code",
      "source": [
        "iris= pd.read_csv('/content/drive/MyDrive/iris.csv') #파일 경로 복사에서 따옴표 안에 넣어줌"
      ],
      "metadata": {
        "id": "hfUpAGQduDiC"
      },
      "execution_count": 19,
      "outputs": []
    },
    {
      "cell_type": "code",
      "source": [
        "iris"
      ],
      "metadata": {
        "colab": {
          "base_uri": "https://localhost:8080/",
          "height": 0
        },
        "id": "NsP2-pN8vKb3",
        "outputId": "c6ff4a51-35c3-4016-b264-d4ee84c7ef36"
      },
      "execution_count": 20,
      "outputs": [
        {
          "output_type": "execute_result",
          "data": {
            "text/plain": [
              "     SepalLength  SepalWidth  PetalLength  PetalWidth            Name\n",
              "0            5.1         3.5          1.4         0.2     Iris-setosa\n",
              "1            4.9         3.0          1.4         0.2     Iris-setosa\n",
              "2            4.7         3.2          1.3         0.2     Iris-setosa\n",
              "3            4.6         3.1          1.5         0.2     Iris-setosa\n",
              "4            5.0         3.6          1.4         0.2     Iris-setosa\n",
              "..           ...         ...          ...         ...             ...\n",
              "145          6.7         3.0          5.2         2.3  Iris-virginica\n",
              "146          6.3         2.5          5.0         1.9  Iris-virginica\n",
              "147          6.5         3.0          5.2         2.0  Iris-virginica\n",
              "148          6.2         3.4          5.4         2.3  Iris-virginica\n",
              "149          5.9         3.0          5.1         1.8  Iris-virginica\n",
              "\n",
              "[150 rows x 5 columns]"
            ],
            "text/html": [
              "\n",
              "  <div id=\"df-56d92645-b7c0-4ba1-a04e-2107667e1fab\">\n",
              "    <div class=\"colab-df-container\">\n",
              "      <div>\n",
              "<style scoped>\n",
              "    .dataframe tbody tr th:only-of-type {\n",
              "        vertical-align: middle;\n",
              "    }\n",
              "\n",
              "    .dataframe tbody tr th {\n",
              "        vertical-align: top;\n",
              "    }\n",
              "\n",
              "    .dataframe thead th {\n",
              "        text-align: right;\n",
              "    }\n",
              "</style>\n",
              "<table border=\"1\" class=\"dataframe\">\n",
              "  <thead>\n",
              "    <tr style=\"text-align: right;\">\n",
              "      <th></th>\n",
              "      <th>SepalLength</th>\n",
              "      <th>SepalWidth</th>\n",
              "      <th>PetalLength</th>\n",
              "      <th>PetalWidth</th>\n",
              "      <th>Name</th>\n",
              "    </tr>\n",
              "  </thead>\n",
              "  <tbody>\n",
              "    <tr>\n",
              "      <th>0</th>\n",
              "      <td>5.1</td>\n",
              "      <td>3.5</td>\n",
              "      <td>1.4</td>\n",
              "      <td>0.2</td>\n",
              "      <td>Iris-setosa</td>\n",
              "    </tr>\n",
              "    <tr>\n",
              "      <th>1</th>\n",
              "      <td>4.9</td>\n",
              "      <td>3.0</td>\n",
              "      <td>1.4</td>\n",
              "      <td>0.2</td>\n",
              "      <td>Iris-setosa</td>\n",
              "    </tr>\n",
              "    <tr>\n",
              "      <th>2</th>\n",
              "      <td>4.7</td>\n",
              "      <td>3.2</td>\n",
              "      <td>1.3</td>\n",
              "      <td>0.2</td>\n",
              "      <td>Iris-setosa</td>\n",
              "    </tr>\n",
              "    <tr>\n",
              "      <th>3</th>\n",
              "      <td>4.6</td>\n",
              "      <td>3.1</td>\n",
              "      <td>1.5</td>\n",
              "      <td>0.2</td>\n",
              "      <td>Iris-setosa</td>\n",
              "    </tr>\n",
              "    <tr>\n",
              "      <th>4</th>\n",
              "      <td>5.0</td>\n",
              "      <td>3.6</td>\n",
              "      <td>1.4</td>\n",
              "      <td>0.2</td>\n",
              "      <td>Iris-setosa</td>\n",
              "    </tr>\n",
              "    <tr>\n",
              "      <th>...</th>\n",
              "      <td>...</td>\n",
              "      <td>...</td>\n",
              "      <td>...</td>\n",
              "      <td>...</td>\n",
              "      <td>...</td>\n",
              "    </tr>\n",
              "    <tr>\n",
              "      <th>145</th>\n",
              "      <td>6.7</td>\n",
              "      <td>3.0</td>\n",
              "      <td>5.2</td>\n",
              "      <td>2.3</td>\n",
              "      <td>Iris-virginica</td>\n",
              "    </tr>\n",
              "    <tr>\n",
              "      <th>146</th>\n",
              "      <td>6.3</td>\n",
              "      <td>2.5</td>\n",
              "      <td>5.0</td>\n",
              "      <td>1.9</td>\n",
              "      <td>Iris-virginica</td>\n",
              "    </tr>\n",
              "    <tr>\n",
              "      <th>147</th>\n",
              "      <td>6.5</td>\n",
              "      <td>3.0</td>\n",
              "      <td>5.2</td>\n",
              "      <td>2.0</td>\n",
              "      <td>Iris-virginica</td>\n",
              "    </tr>\n",
              "    <tr>\n",
              "      <th>148</th>\n",
              "      <td>6.2</td>\n",
              "      <td>3.4</td>\n",
              "      <td>5.4</td>\n",
              "      <td>2.3</td>\n",
              "      <td>Iris-virginica</td>\n",
              "    </tr>\n",
              "    <tr>\n",
              "      <th>149</th>\n",
              "      <td>5.9</td>\n",
              "      <td>3.0</td>\n",
              "      <td>5.1</td>\n",
              "      <td>1.8</td>\n",
              "      <td>Iris-virginica</td>\n",
              "    </tr>\n",
              "  </tbody>\n",
              "</table>\n",
              "<p>150 rows × 5 columns</p>\n",
              "</div>\n",
              "      <button class=\"colab-df-convert\" onclick=\"convertToInteractive('df-56d92645-b7c0-4ba1-a04e-2107667e1fab')\"\n",
              "              title=\"Convert this dataframe to an interactive table.\"\n",
              "              style=\"display:none;\">\n",
              "        \n",
              "  <svg xmlns=\"http://www.w3.org/2000/svg\" height=\"24px\"viewBox=\"0 0 24 24\"\n",
              "       width=\"24px\">\n",
              "    <path d=\"M0 0h24v24H0V0z\" fill=\"none\"/>\n",
              "    <path d=\"M18.56 5.44l.94 2.06.94-2.06 2.06-.94-2.06-.94-.94-2.06-.94 2.06-2.06.94zm-11 1L8.5 8.5l.94-2.06 2.06-.94-2.06-.94L8.5 2.5l-.94 2.06-2.06.94zm10 10l.94 2.06.94-2.06 2.06-.94-2.06-.94-.94-2.06-.94 2.06-2.06.94z\"/><path d=\"M17.41 7.96l-1.37-1.37c-.4-.4-.92-.59-1.43-.59-.52 0-1.04.2-1.43.59L10.3 9.45l-7.72 7.72c-.78.78-.78 2.05 0 2.83L4 21.41c.39.39.9.59 1.41.59.51 0 1.02-.2 1.41-.59l7.78-7.78 2.81-2.81c.8-.78.8-2.07 0-2.86zM5.41 20L4 18.59l7.72-7.72 1.47 1.35L5.41 20z\"/>\n",
              "  </svg>\n",
              "      </button>\n",
              "      \n",
              "  <style>\n",
              "    .colab-df-container {\n",
              "      display:flex;\n",
              "      flex-wrap:wrap;\n",
              "      gap: 12px;\n",
              "    }\n",
              "\n",
              "    .colab-df-convert {\n",
              "      background-color: #E8F0FE;\n",
              "      border: none;\n",
              "      border-radius: 50%;\n",
              "      cursor: pointer;\n",
              "      display: none;\n",
              "      fill: #1967D2;\n",
              "      height: 32px;\n",
              "      padding: 0 0 0 0;\n",
              "      width: 32px;\n",
              "    }\n",
              "\n",
              "    .colab-df-convert:hover {\n",
              "      background-color: #E2EBFA;\n",
              "      box-shadow: 0px 1px 2px rgba(60, 64, 67, 0.3), 0px 1px 3px 1px rgba(60, 64, 67, 0.15);\n",
              "      fill: #174EA6;\n",
              "    }\n",
              "\n",
              "    [theme=dark] .colab-df-convert {\n",
              "      background-color: #3B4455;\n",
              "      fill: #D2E3FC;\n",
              "    }\n",
              "\n",
              "    [theme=dark] .colab-df-convert:hover {\n",
              "      background-color: #434B5C;\n",
              "      box-shadow: 0px 1px 3px 1px rgba(0, 0, 0, 0.15);\n",
              "      filter: drop-shadow(0px 1px 2px rgba(0, 0, 0, 0.3));\n",
              "      fill: #FFFFFF;\n",
              "    }\n",
              "  </style>\n",
              "\n",
              "      <script>\n",
              "        const buttonEl =\n",
              "          document.querySelector('#df-56d92645-b7c0-4ba1-a04e-2107667e1fab button.colab-df-convert');\n",
              "        buttonEl.style.display =\n",
              "          google.colab.kernel.accessAllowed ? 'block' : 'none';\n",
              "\n",
              "        async function convertToInteractive(key) {\n",
              "          const element = document.querySelector('#df-56d92645-b7c0-4ba1-a04e-2107667e1fab');\n",
              "          const dataTable =\n",
              "            await google.colab.kernel.invokeFunction('convertToInteractive',\n",
              "                                                     [key], {});\n",
              "          if (!dataTable) return;\n",
              "\n",
              "          const docLinkHtml = 'Like what you see? Visit the ' +\n",
              "            '<a target=\"_blank\" href=https://colab.research.google.com/notebooks/data_table.ipynb>data table notebook</a>'\n",
              "            + ' to learn more about interactive tables.';\n",
              "          element.innerHTML = '';\n",
              "          dataTable['output_type'] = 'display_data';\n",
              "          await google.colab.output.renderOutput(dataTable, element);\n",
              "          const docLink = document.createElement('div');\n",
              "          docLink.innerHTML = docLinkHtml;\n",
              "          element.appendChild(docLink);\n",
              "        }\n",
              "      </script>\n",
              "    </div>\n",
              "  </div>\n",
              "  "
            ]
          },
          "metadata": {},
          "execution_count": 20
        }
      ]
    },
    {
      "cell_type": "code",
      "source": [
        "iris.head()"
      ],
      "metadata": {
        "colab": {
          "base_uri": "https://localhost:8080/",
          "height": 0
        },
        "id": "perw_WuVvOIQ",
        "outputId": "7cd3799c-cd18-4de4-83c2-da5d48451d58"
      },
      "execution_count": 21,
      "outputs": [
        {
          "output_type": "execute_result",
          "data": {
            "text/plain": [
              "   SepalLength  SepalWidth  PetalLength  PetalWidth         Name\n",
              "0          5.1         3.5          1.4         0.2  Iris-setosa\n",
              "1          4.9         3.0          1.4         0.2  Iris-setosa\n",
              "2          4.7         3.2          1.3         0.2  Iris-setosa\n",
              "3          4.6         3.1          1.5         0.2  Iris-setosa\n",
              "4          5.0         3.6          1.4         0.2  Iris-setosa"
            ],
            "text/html": [
              "\n",
              "  <div id=\"df-71e12354-eb5c-463f-8324-5f56d6423a3a\">\n",
              "    <div class=\"colab-df-container\">\n",
              "      <div>\n",
              "<style scoped>\n",
              "    .dataframe tbody tr th:only-of-type {\n",
              "        vertical-align: middle;\n",
              "    }\n",
              "\n",
              "    .dataframe tbody tr th {\n",
              "        vertical-align: top;\n",
              "    }\n",
              "\n",
              "    .dataframe thead th {\n",
              "        text-align: right;\n",
              "    }\n",
              "</style>\n",
              "<table border=\"1\" class=\"dataframe\">\n",
              "  <thead>\n",
              "    <tr style=\"text-align: right;\">\n",
              "      <th></th>\n",
              "      <th>SepalLength</th>\n",
              "      <th>SepalWidth</th>\n",
              "      <th>PetalLength</th>\n",
              "      <th>PetalWidth</th>\n",
              "      <th>Name</th>\n",
              "    </tr>\n",
              "  </thead>\n",
              "  <tbody>\n",
              "    <tr>\n",
              "      <th>0</th>\n",
              "      <td>5.1</td>\n",
              "      <td>3.5</td>\n",
              "      <td>1.4</td>\n",
              "      <td>0.2</td>\n",
              "      <td>Iris-setosa</td>\n",
              "    </tr>\n",
              "    <tr>\n",
              "      <th>1</th>\n",
              "      <td>4.9</td>\n",
              "      <td>3.0</td>\n",
              "      <td>1.4</td>\n",
              "      <td>0.2</td>\n",
              "      <td>Iris-setosa</td>\n",
              "    </tr>\n",
              "    <tr>\n",
              "      <th>2</th>\n",
              "      <td>4.7</td>\n",
              "      <td>3.2</td>\n",
              "      <td>1.3</td>\n",
              "      <td>0.2</td>\n",
              "      <td>Iris-setosa</td>\n",
              "    </tr>\n",
              "    <tr>\n",
              "      <th>3</th>\n",
              "      <td>4.6</td>\n",
              "      <td>3.1</td>\n",
              "      <td>1.5</td>\n",
              "      <td>0.2</td>\n",
              "      <td>Iris-setosa</td>\n",
              "    </tr>\n",
              "    <tr>\n",
              "      <th>4</th>\n",
              "      <td>5.0</td>\n",
              "      <td>3.6</td>\n",
              "      <td>1.4</td>\n",
              "      <td>0.2</td>\n",
              "      <td>Iris-setosa</td>\n",
              "    </tr>\n",
              "  </tbody>\n",
              "</table>\n",
              "</div>\n",
              "      <button class=\"colab-df-convert\" onclick=\"convertToInteractive('df-71e12354-eb5c-463f-8324-5f56d6423a3a')\"\n",
              "              title=\"Convert this dataframe to an interactive table.\"\n",
              "              style=\"display:none;\">\n",
              "        \n",
              "  <svg xmlns=\"http://www.w3.org/2000/svg\" height=\"24px\"viewBox=\"0 0 24 24\"\n",
              "       width=\"24px\">\n",
              "    <path d=\"M0 0h24v24H0V0z\" fill=\"none\"/>\n",
              "    <path d=\"M18.56 5.44l.94 2.06.94-2.06 2.06-.94-2.06-.94-.94-2.06-.94 2.06-2.06.94zm-11 1L8.5 8.5l.94-2.06 2.06-.94-2.06-.94L8.5 2.5l-.94 2.06-2.06.94zm10 10l.94 2.06.94-2.06 2.06-.94-2.06-.94-.94-2.06-.94 2.06-2.06.94z\"/><path d=\"M17.41 7.96l-1.37-1.37c-.4-.4-.92-.59-1.43-.59-.52 0-1.04.2-1.43.59L10.3 9.45l-7.72 7.72c-.78.78-.78 2.05 0 2.83L4 21.41c.39.39.9.59 1.41.59.51 0 1.02-.2 1.41-.59l7.78-7.78 2.81-2.81c.8-.78.8-2.07 0-2.86zM5.41 20L4 18.59l7.72-7.72 1.47 1.35L5.41 20z\"/>\n",
              "  </svg>\n",
              "      </button>\n",
              "      \n",
              "  <style>\n",
              "    .colab-df-container {\n",
              "      display:flex;\n",
              "      flex-wrap:wrap;\n",
              "      gap: 12px;\n",
              "    }\n",
              "\n",
              "    .colab-df-convert {\n",
              "      background-color: #E8F0FE;\n",
              "      border: none;\n",
              "      border-radius: 50%;\n",
              "      cursor: pointer;\n",
              "      display: none;\n",
              "      fill: #1967D2;\n",
              "      height: 32px;\n",
              "      padding: 0 0 0 0;\n",
              "      width: 32px;\n",
              "    }\n",
              "\n",
              "    .colab-df-convert:hover {\n",
              "      background-color: #E2EBFA;\n",
              "      box-shadow: 0px 1px 2px rgba(60, 64, 67, 0.3), 0px 1px 3px 1px rgba(60, 64, 67, 0.15);\n",
              "      fill: #174EA6;\n",
              "    }\n",
              "\n",
              "    [theme=dark] .colab-df-convert {\n",
              "      background-color: #3B4455;\n",
              "      fill: #D2E3FC;\n",
              "    }\n",
              "\n",
              "    [theme=dark] .colab-df-convert:hover {\n",
              "      background-color: #434B5C;\n",
              "      box-shadow: 0px 1px 3px 1px rgba(0, 0, 0, 0.15);\n",
              "      filter: drop-shadow(0px 1px 2px rgba(0, 0, 0, 0.3));\n",
              "      fill: #FFFFFF;\n",
              "    }\n",
              "  </style>\n",
              "\n",
              "      <script>\n",
              "        const buttonEl =\n",
              "          document.querySelector('#df-71e12354-eb5c-463f-8324-5f56d6423a3a button.colab-df-convert');\n",
              "        buttonEl.style.display =\n",
              "          google.colab.kernel.accessAllowed ? 'block' : 'none';\n",
              "\n",
              "        async function convertToInteractive(key) {\n",
              "          const element = document.querySelector('#df-71e12354-eb5c-463f-8324-5f56d6423a3a');\n",
              "          const dataTable =\n",
              "            await google.colab.kernel.invokeFunction('convertToInteractive',\n",
              "                                                     [key], {});\n",
              "          if (!dataTable) return;\n",
              "\n",
              "          const docLinkHtml = 'Like what you see? Visit the ' +\n",
              "            '<a target=\"_blank\" href=https://colab.research.google.com/notebooks/data_table.ipynb>data table notebook</a>'\n",
              "            + ' to learn more about interactive tables.';\n",
              "          element.innerHTML = '';\n",
              "          dataTable['output_type'] = 'display_data';\n",
              "          await google.colab.output.renderOutput(dataTable, element);\n",
              "          const docLink = document.createElement('div');\n",
              "          docLink.innerHTML = docLinkHtml;\n",
              "          element.appendChild(docLink);\n",
              "        }\n",
              "      </script>\n",
              "    </div>\n",
              "  </div>\n",
              "  "
            ]
          },
          "metadata": {},
          "execution_count": 21
        }
      ]
    },
    {
      "cell_type": "code",
      "source": [
        "iris.head(10)"
      ],
      "metadata": {
        "colab": {
          "base_uri": "https://localhost:8080/",
          "height": 0
        },
        "id": "5Vz-vMQMvlXr",
        "outputId": "bcab7c9f-4f00-4e63-f198-d2fa0a2c1547"
      },
      "execution_count": 22,
      "outputs": [
        {
          "output_type": "execute_result",
          "data": {
            "text/plain": [
              "   SepalLength  SepalWidth  PetalLength  PetalWidth         Name\n",
              "0          5.1         3.5          1.4         0.2  Iris-setosa\n",
              "1          4.9         3.0          1.4         0.2  Iris-setosa\n",
              "2          4.7         3.2          1.3         0.2  Iris-setosa\n",
              "3          4.6         3.1          1.5         0.2  Iris-setosa\n",
              "4          5.0         3.6          1.4         0.2  Iris-setosa\n",
              "5          5.4         3.9          1.7         0.4  Iris-setosa\n",
              "6          4.6         3.4          1.4         0.3  Iris-setosa\n",
              "7          5.0         3.4          1.5         0.2  Iris-setosa\n",
              "8          4.4         2.9          1.4         0.2  Iris-setosa\n",
              "9          4.9         3.1          1.5         0.1  Iris-setosa"
            ],
            "text/html": [
              "\n",
              "  <div id=\"df-9ce7a2f5-5e0e-47e9-9416-aa67ba66b6c3\">\n",
              "    <div class=\"colab-df-container\">\n",
              "      <div>\n",
              "<style scoped>\n",
              "    .dataframe tbody tr th:only-of-type {\n",
              "        vertical-align: middle;\n",
              "    }\n",
              "\n",
              "    .dataframe tbody tr th {\n",
              "        vertical-align: top;\n",
              "    }\n",
              "\n",
              "    .dataframe thead th {\n",
              "        text-align: right;\n",
              "    }\n",
              "</style>\n",
              "<table border=\"1\" class=\"dataframe\">\n",
              "  <thead>\n",
              "    <tr style=\"text-align: right;\">\n",
              "      <th></th>\n",
              "      <th>SepalLength</th>\n",
              "      <th>SepalWidth</th>\n",
              "      <th>PetalLength</th>\n",
              "      <th>PetalWidth</th>\n",
              "      <th>Name</th>\n",
              "    </tr>\n",
              "  </thead>\n",
              "  <tbody>\n",
              "    <tr>\n",
              "      <th>0</th>\n",
              "      <td>5.1</td>\n",
              "      <td>3.5</td>\n",
              "      <td>1.4</td>\n",
              "      <td>0.2</td>\n",
              "      <td>Iris-setosa</td>\n",
              "    </tr>\n",
              "    <tr>\n",
              "      <th>1</th>\n",
              "      <td>4.9</td>\n",
              "      <td>3.0</td>\n",
              "      <td>1.4</td>\n",
              "      <td>0.2</td>\n",
              "      <td>Iris-setosa</td>\n",
              "    </tr>\n",
              "    <tr>\n",
              "      <th>2</th>\n",
              "      <td>4.7</td>\n",
              "      <td>3.2</td>\n",
              "      <td>1.3</td>\n",
              "      <td>0.2</td>\n",
              "      <td>Iris-setosa</td>\n",
              "    </tr>\n",
              "    <tr>\n",
              "      <th>3</th>\n",
              "      <td>4.6</td>\n",
              "      <td>3.1</td>\n",
              "      <td>1.5</td>\n",
              "      <td>0.2</td>\n",
              "      <td>Iris-setosa</td>\n",
              "    </tr>\n",
              "    <tr>\n",
              "      <th>4</th>\n",
              "      <td>5.0</td>\n",
              "      <td>3.6</td>\n",
              "      <td>1.4</td>\n",
              "      <td>0.2</td>\n",
              "      <td>Iris-setosa</td>\n",
              "    </tr>\n",
              "    <tr>\n",
              "      <th>5</th>\n",
              "      <td>5.4</td>\n",
              "      <td>3.9</td>\n",
              "      <td>1.7</td>\n",
              "      <td>0.4</td>\n",
              "      <td>Iris-setosa</td>\n",
              "    </tr>\n",
              "    <tr>\n",
              "      <th>6</th>\n",
              "      <td>4.6</td>\n",
              "      <td>3.4</td>\n",
              "      <td>1.4</td>\n",
              "      <td>0.3</td>\n",
              "      <td>Iris-setosa</td>\n",
              "    </tr>\n",
              "    <tr>\n",
              "      <th>7</th>\n",
              "      <td>5.0</td>\n",
              "      <td>3.4</td>\n",
              "      <td>1.5</td>\n",
              "      <td>0.2</td>\n",
              "      <td>Iris-setosa</td>\n",
              "    </tr>\n",
              "    <tr>\n",
              "      <th>8</th>\n",
              "      <td>4.4</td>\n",
              "      <td>2.9</td>\n",
              "      <td>1.4</td>\n",
              "      <td>0.2</td>\n",
              "      <td>Iris-setosa</td>\n",
              "    </tr>\n",
              "    <tr>\n",
              "      <th>9</th>\n",
              "      <td>4.9</td>\n",
              "      <td>3.1</td>\n",
              "      <td>1.5</td>\n",
              "      <td>0.1</td>\n",
              "      <td>Iris-setosa</td>\n",
              "    </tr>\n",
              "  </tbody>\n",
              "</table>\n",
              "</div>\n",
              "      <button class=\"colab-df-convert\" onclick=\"convertToInteractive('df-9ce7a2f5-5e0e-47e9-9416-aa67ba66b6c3')\"\n",
              "              title=\"Convert this dataframe to an interactive table.\"\n",
              "              style=\"display:none;\">\n",
              "        \n",
              "  <svg xmlns=\"http://www.w3.org/2000/svg\" height=\"24px\"viewBox=\"0 0 24 24\"\n",
              "       width=\"24px\">\n",
              "    <path d=\"M0 0h24v24H0V0z\" fill=\"none\"/>\n",
              "    <path d=\"M18.56 5.44l.94 2.06.94-2.06 2.06-.94-2.06-.94-.94-2.06-.94 2.06-2.06.94zm-11 1L8.5 8.5l.94-2.06 2.06-.94-2.06-.94L8.5 2.5l-.94 2.06-2.06.94zm10 10l.94 2.06.94-2.06 2.06-.94-2.06-.94-.94-2.06-.94 2.06-2.06.94z\"/><path d=\"M17.41 7.96l-1.37-1.37c-.4-.4-.92-.59-1.43-.59-.52 0-1.04.2-1.43.59L10.3 9.45l-7.72 7.72c-.78.78-.78 2.05 0 2.83L4 21.41c.39.39.9.59 1.41.59.51 0 1.02-.2 1.41-.59l7.78-7.78 2.81-2.81c.8-.78.8-2.07 0-2.86zM5.41 20L4 18.59l7.72-7.72 1.47 1.35L5.41 20z\"/>\n",
              "  </svg>\n",
              "      </button>\n",
              "      \n",
              "  <style>\n",
              "    .colab-df-container {\n",
              "      display:flex;\n",
              "      flex-wrap:wrap;\n",
              "      gap: 12px;\n",
              "    }\n",
              "\n",
              "    .colab-df-convert {\n",
              "      background-color: #E8F0FE;\n",
              "      border: none;\n",
              "      border-radius: 50%;\n",
              "      cursor: pointer;\n",
              "      display: none;\n",
              "      fill: #1967D2;\n",
              "      height: 32px;\n",
              "      padding: 0 0 0 0;\n",
              "      width: 32px;\n",
              "    }\n",
              "\n",
              "    .colab-df-convert:hover {\n",
              "      background-color: #E2EBFA;\n",
              "      box-shadow: 0px 1px 2px rgba(60, 64, 67, 0.3), 0px 1px 3px 1px rgba(60, 64, 67, 0.15);\n",
              "      fill: #174EA6;\n",
              "    }\n",
              "\n",
              "    [theme=dark] .colab-df-convert {\n",
              "      background-color: #3B4455;\n",
              "      fill: #D2E3FC;\n",
              "    }\n",
              "\n",
              "    [theme=dark] .colab-df-convert:hover {\n",
              "      background-color: #434B5C;\n",
              "      box-shadow: 0px 1px 3px 1px rgba(0, 0, 0, 0.15);\n",
              "      filter: drop-shadow(0px 1px 2px rgba(0, 0, 0, 0.3));\n",
              "      fill: #FFFFFF;\n",
              "    }\n",
              "  </style>\n",
              "\n",
              "      <script>\n",
              "        const buttonEl =\n",
              "          document.querySelector('#df-9ce7a2f5-5e0e-47e9-9416-aa67ba66b6c3 button.colab-df-convert');\n",
              "        buttonEl.style.display =\n",
              "          google.colab.kernel.accessAllowed ? 'block' : 'none';\n",
              "\n",
              "        async function convertToInteractive(key) {\n",
              "          const element = document.querySelector('#df-9ce7a2f5-5e0e-47e9-9416-aa67ba66b6c3');\n",
              "          const dataTable =\n",
              "            await google.colab.kernel.invokeFunction('convertToInteractive',\n",
              "                                                     [key], {});\n",
              "          if (!dataTable) return;\n",
              "\n",
              "          const docLinkHtml = 'Like what you see? Visit the ' +\n",
              "            '<a target=\"_blank\" href=https://colab.research.google.com/notebooks/data_table.ipynb>data table notebook</a>'\n",
              "            + ' to learn more about interactive tables.';\n",
              "          element.innerHTML = '';\n",
              "          dataTable['output_type'] = 'display_data';\n",
              "          await google.colab.output.renderOutput(dataTable, element);\n",
              "          const docLink = document.createElement('div');\n",
              "          docLink.innerHTML = docLinkHtml;\n",
              "          element.appendChild(docLink);\n",
              "        }\n",
              "      </script>\n",
              "    </div>\n",
              "  </div>\n",
              "  "
            ]
          },
          "metadata": {},
          "execution_count": 22
        }
      ]
    },
    {
      "cell_type": "code",
      "source": [
        "iris.tail()"
      ],
      "metadata": {
        "colab": {
          "base_uri": "https://localhost:8080/",
          "height": 0
        },
        "id": "kWFUoxf9vni3",
        "outputId": "8d49c097-9dcb-4a67-f3f5-e07339c15091"
      },
      "execution_count": 23,
      "outputs": [
        {
          "output_type": "execute_result",
          "data": {
            "text/plain": [
              "     SepalLength  SepalWidth  PetalLength  PetalWidth            Name\n",
              "145          6.7         3.0          5.2         2.3  Iris-virginica\n",
              "146          6.3         2.5          5.0         1.9  Iris-virginica\n",
              "147          6.5         3.0          5.2         2.0  Iris-virginica\n",
              "148          6.2         3.4          5.4         2.3  Iris-virginica\n",
              "149          5.9         3.0          5.1         1.8  Iris-virginica"
            ],
            "text/html": [
              "\n",
              "  <div id=\"df-00254c62-6a40-46ec-b942-b24bdd05e02c\">\n",
              "    <div class=\"colab-df-container\">\n",
              "      <div>\n",
              "<style scoped>\n",
              "    .dataframe tbody tr th:only-of-type {\n",
              "        vertical-align: middle;\n",
              "    }\n",
              "\n",
              "    .dataframe tbody tr th {\n",
              "        vertical-align: top;\n",
              "    }\n",
              "\n",
              "    .dataframe thead th {\n",
              "        text-align: right;\n",
              "    }\n",
              "</style>\n",
              "<table border=\"1\" class=\"dataframe\">\n",
              "  <thead>\n",
              "    <tr style=\"text-align: right;\">\n",
              "      <th></th>\n",
              "      <th>SepalLength</th>\n",
              "      <th>SepalWidth</th>\n",
              "      <th>PetalLength</th>\n",
              "      <th>PetalWidth</th>\n",
              "      <th>Name</th>\n",
              "    </tr>\n",
              "  </thead>\n",
              "  <tbody>\n",
              "    <tr>\n",
              "      <th>145</th>\n",
              "      <td>6.7</td>\n",
              "      <td>3.0</td>\n",
              "      <td>5.2</td>\n",
              "      <td>2.3</td>\n",
              "      <td>Iris-virginica</td>\n",
              "    </tr>\n",
              "    <tr>\n",
              "      <th>146</th>\n",
              "      <td>6.3</td>\n",
              "      <td>2.5</td>\n",
              "      <td>5.0</td>\n",
              "      <td>1.9</td>\n",
              "      <td>Iris-virginica</td>\n",
              "    </tr>\n",
              "    <tr>\n",
              "      <th>147</th>\n",
              "      <td>6.5</td>\n",
              "      <td>3.0</td>\n",
              "      <td>5.2</td>\n",
              "      <td>2.0</td>\n",
              "      <td>Iris-virginica</td>\n",
              "    </tr>\n",
              "    <tr>\n",
              "      <th>148</th>\n",
              "      <td>6.2</td>\n",
              "      <td>3.4</td>\n",
              "      <td>5.4</td>\n",
              "      <td>2.3</td>\n",
              "      <td>Iris-virginica</td>\n",
              "    </tr>\n",
              "    <tr>\n",
              "      <th>149</th>\n",
              "      <td>5.9</td>\n",
              "      <td>3.0</td>\n",
              "      <td>5.1</td>\n",
              "      <td>1.8</td>\n",
              "      <td>Iris-virginica</td>\n",
              "    </tr>\n",
              "  </tbody>\n",
              "</table>\n",
              "</div>\n",
              "      <button class=\"colab-df-convert\" onclick=\"convertToInteractive('df-00254c62-6a40-46ec-b942-b24bdd05e02c')\"\n",
              "              title=\"Convert this dataframe to an interactive table.\"\n",
              "              style=\"display:none;\">\n",
              "        \n",
              "  <svg xmlns=\"http://www.w3.org/2000/svg\" height=\"24px\"viewBox=\"0 0 24 24\"\n",
              "       width=\"24px\">\n",
              "    <path d=\"M0 0h24v24H0V0z\" fill=\"none\"/>\n",
              "    <path d=\"M18.56 5.44l.94 2.06.94-2.06 2.06-.94-2.06-.94-.94-2.06-.94 2.06-2.06.94zm-11 1L8.5 8.5l.94-2.06 2.06-.94-2.06-.94L8.5 2.5l-.94 2.06-2.06.94zm10 10l.94 2.06.94-2.06 2.06-.94-2.06-.94-.94-2.06-.94 2.06-2.06.94z\"/><path d=\"M17.41 7.96l-1.37-1.37c-.4-.4-.92-.59-1.43-.59-.52 0-1.04.2-1.43.59L10.3 9.45l-7.72 7.72c-.78.78-.78 2.05 0 2.83L4 21.41c.39.39.9.59 1.41.59.51 0 1.02-.2 1.41-.59l7.78-7.78 2.81-2.81c.8-.78.8-2.07 0-2.86zM5.41 20L4 18.59l7.72-7.72 1.47 1.35L5.41 20z\"/>\n",
              "  </svg>\n",
              "      </button>\n",
              "      \n",
              "  <style>\n",
              "    .colab-df-container {\n",
              "      display:flex;\n",
              "      flex-wrap:wrap;\n",
              "      gap: 12px;\n",
              "    }\n",
              "\n",
              "    .colab-df-convert {\n",
              "      background-color: #E8F0FE;\n",
              "      border: none;\n",
              "      border-radius: 50%;\n",
              "      cursor: pointer;\n",
              "      display: none;\n",
              "      fill: #1967D2;\n",
              "      height: 32px;\n",
              "      padding: 0 0 0 0;\n",
              "      width: 32px;\n",
              "    }\n",
              "\n",
              "    .colab-df-convert:hover {\n",
              "      background-color: #E2EBFA;\n",
              "      box-shadow: 0px 1px 2px rgba(60, 64, 67, 0.3), 0px 1px 3px 1px rgba(60, 64, 67, 0.15);\n",
              "      fill: #174EA6;\n",
              "    }\n",
              "\n",
              "    [theme=dark] .colab-df-convert {\n",
              "      background-color: #3B4455;\n",
              "      fill: #D2E3FC;\n",
              "    }\n",
              "\n",
              "    [theme=dark] .colab-df-convert:hover {\n",
              "      background-color: #434B5C;\n",
              "      box-shadow: 0px 1px 3px 1px rgba(0, 0, 0, 0.15);\n",
              "      filter: drop-shadow(0px 1px 2px rgba(0, 0, 0, 0.3));\n",
              "      fill: #FFFFFF;\n",
              "    }\n",
              "  </style>\n",
              "\n",
              "      <script>\n",
              "        const buttonEl =\n",
              "          document.querySelector('#df-00254c62-6a40-46ec-b942-b24bdd05e02c button.colab-df-convert');\n",
              "        buttonEl.style.display =\n",
              "          google.colab.kernel.accessAllowed ? 'block' : 'none';\n",
              "\n",
              "        async function convertToInteractive(key) {\n",
              "          const element = document.querySelector('#df-00254c62-6a40-46ec-b942-b24bdd05e02c');\n",
              "          const dataTable =\n",
              "            await google.colab.kernel.invokeFunction('convertToInteractive',\n",
              "                                                     [key], {});\n",
              "          if (!dataTable) return;\n",
              "\n",
              "          const docLinkHtml = 'Like what you see? Visit the ' +\n",
              "            '<a target=\"_blank\" href=https://colab.research.google.com/notebooks/data_table.ipynb>data table notebook</a>'\n",
              "            + ' to learn more about interactive tables.';\n",
              "          element.innerHTML = '';\n",
              "          dataTable['output_type'] = 'display_data';\n",
              "          await google.colab.output.renderOutput(dataTable, element);\n",
              "          const docLink = document.createElement('div');\n",
              "          docLink.innerHTML = docLinkHtml;\n",
              "          element.appendChild(docLink);\n",
              "        }\n",
              "      </script>\n",
              "    </div>\n",
              "  </div>\n",
              "  "
            ]
          },
          "metadata": {},
          "execution_count": 23
        }
      ]
    },
    {
      "cell_type": "code",
      "source": [
        "iris.info()"
      ],
      "metadata": {
        "colab": {
          "base_uri": "https://localhost:8080/"
        },
        "id": "LnzNWu9Yvo-G",
        "outputId": "fac0be91-e638-4b54-8066-ab323c86e6fd"
      },
      "execution_count": 24,
      "outputs": [
        {
          "output_type": "stream",
          "name": "stdout",
          "text": [
            "<class 'pandas.core.frame.DataFrame'>\n",
            "RangeIndex: 150 entries, 0 to 149\n",
            "Data columns (total 5 columns):\n",
            " #   Column       Non-Null Count  Dtype  \n",
            "---  ------       --------------  -----  \n",
            " 0   SepalLength  150 non-null    float64\n",
            " 1   SepalWidth   150 non-null    float64\n",
            " 2   PetalLength  150 non-null    float64\n",
            " 3   PetalWidth   150 non-null    float64\n",
            " 4   Name         150 non-null    object \n",
            "dtypes: float64(4), object(1)\n",
            "memory usage: 6.0+ KB\n"
          ]
        }
      ]
    },
    {
      "cell_type": "code",
      "source": [
        "iris.describe() #수치형 변수에 대해서만 계산"
      ],
      "metadata": {
        "colab": {
          "base_uri": "https://localhost:8080/",
          "height": 0
        },
        "id": "PhGvoxezvsvw",
        "outputId": "dbdb1f62-0cdf-4adc-a228-7d1e845c7dc5"
      },
      "execution_count": 25,
      "outputs": [
        {
          "output_type": "execute_result",
          "data": {
            "text/plain": [
              "       SepalLength  SepalWidth  PetalLength  PetalWidth\n",
              "count   150.000000  150.000000   150.000000  150.000000\n",
              "mean      5.843333    3.054000     3.758667    1.198667\n",
              "std       0.828066    0.433594     1.764420    0.763161\n",
              "min       4.300000    2.000000     1.000000    0.100000\n",
              "25%       5.100000    2.800000     1.600000    0.300000\n",
              "50%       5.800000    3.000000     4.350000    1.300000\n",
              "75%       6.400000    3.300000     5.100000    1.800000\n",
              "max       7.900000    4.400000     6.900000    2.500000"
            ],
            "text/html": [
              "\n",
              "  <div id=\"df-1b9cddfe-a8d3-4f52-b2b8-6b86abbcdd44\">\n",
              "    <div class=\"colab-df-container\">\n",
              "      <div>\n",
              "<style scoped>\n",
              "    .dataframe tbody tr th:only-of-type {\n",
              "        vertical-align: middle;\n",
              "    }\n",
              "\n",
              "    .dataframe tbody tr th {\n",
              "        vertical-align: top;\n",
              "    }\n",
              "\n",
              "    .dataframe thead th {\n",
              "        text-align: right;\n",
              "    }\n",
              "</style>\n",
              "<table border=\"1\" class=\"dataframe\">\n",
              "  <thead>\n",
              "    <tr style=\"text-align: right;\">\n",
              "      <th></th>\n",
              "      <th>SepalLength</th>\n",
              "      <th>SepalWidth</th>\n",
              "      <th>PetalLength</th>\n",
              "      <th>PetalWidth</th>\n",
              "    </tr>\n",
              "  </thead>\n",
              "  <tbody>\n",
              "    <tr>\n",
              "      <th>count</th>\n",
              "      <td>150.000000</td>\n",
              "      <td>150.000000</td>\n",
              "      <td>150.000000</td>\n",
              "      <td>150.000000</td>\n",
              "    </tr>\n",
              "    <tr>\n",
              "      <th>mean</th>\n",
              "      <td>5.843333</td>\n",
              "      <td>3.054000</td>\n",
              "      <td>3.758667</td>\n",
              "      <td>1.198667</td>\n",
              "    </tr>\n",
              "    <tr>\n",
              "      <th>std</th>\n",
              "      <td>0.828066</td>\n",
              "      <td>0.433594</td>\n",
              "      <td>1.764420</td>\n",
              "      <td>0.763161</td>\n",
              "    </tr>\n",
              "    <tr>\n",
              "      <th>min</th>\n",
              "      <td>4.300000</td>\n",
              "      <td>2.000000</td>\n",
              "      <td>1.000000</td>\n",
              "      <td>0.100000</td>\n",
              "    </tr>\n",
              "    <tr>\n",
              "      <th>25%</th>\n",
              "      <td>5.100000</td>\n",
              "      <td>2.800000</td>\n",
              "      <td>1.600000</td>\n",
              "      <td>0.300000</td>\n",
              "    </tr>\n",
              "    <tr>\n",
              "      <th>50%</th>\n",
              "      <td>5.800000</td>\n",
              "      <td>3.000000</td>\n",
              "      <td>4.350000</td>\n",
              "      <td>1.300000</td>\n",
              "    </tr>\n",
              "    <tr>\n",
              "      <th>75%</th>\n",
              "      <td>6.400000</td>\n",
              "      <td>3.300000</td>\n",
              "      <td>5.100000</td>\n",
              "      <td>1.800000</td>\n",
              "    </tr>\n",
              "    <tr>\n",
              "      <th>max</th>\n",
              "      <td>7.900000</td>\n",
              "      <td>4.400000</td>\n",
              "      <td>6.900000</td>\n",
              "      <td>2.500000</td>\n",
              "    </tr>\n",
              "  </tbody>\n",
              "</table>\n",
              "</div>\n",
              "      <button class=\"colab-df-convert\" onclick=\"convertToInteractive('df-1b9cddfe-a8d3-4f52-b2b8-6b86abbcdd44')\"\n",
              "              title=\"Convert this dataframe to an interactive table.\"\n",
              "              style=\"display:none;\">\n",
              "        \n",
              "  <svg xmlns=\"http://www.w3.org/2000/svg\" height=\"24px\"viewBox=\"0 0 24 24\"\n",
              "       width=\"24px\">\n",
              "    <path d=\"M0 0h24v24H0V0z\" fill=\"none\"/>\n",
              "    <path d=\"M18.56 5.44l.94 2.06.94-2.06 2.06-.94-2.06-.94-.94-2.06-.94 2.06-2.06.94zm-11 1L8.5 8.5l.94-2.06 2.06-.94-2.06-.94L8.5 2.5l-.94 2.06-2.06.94zm10 10l.94 2.06.94-2.06 2.06-.94-2.06-.94-.94-2.06-.94 2.06-2.06.94z\"/><path d=\"M17.41 7.96l-1.37-1.37c-.4-.4-.92-.59-1.43-.59-.52 0-1.04.2-1.43.59L10.3 9.45l-7.72 7.72c-.78.78-.78 2.05 0 2.83L4 21.41c.39.39.9.59 1.41.59.51 0 1.02-.2 1.41-.59l7.78-7.78 2.81-2.81c.8-.78.8-2.07 0-2.86zM5.41 20L4 18.59l7.72-7.72 1.47 1.35L5.41 20z\"/>\n",
              "  </svg>\n",
              "      </button>\n",
              "      \n",
              "  <style>\n",
              "    .colab-df-container {\n",
              "      display:flex;\n",
              "      flex-wrap:wrap;\n",
              "      gap: 12px;\n",
              "    }\n",
              "\n",
              "    .colab-df-convert {\n",
              "      background-color: #E8F0FE;\n",
              "      border: none;\n",
              "      border-radius: 50%;\n",
              "      cursor: pointer;\n",
              "      display: none;\n",
              "      fill: #1967D2;\n",
              "      height: 32px;\n",
              "      padding: 0 0 0 0;\n",
              "      width: 32px;\n",
              "    }\n",
              "\n",
              "    .colab-df-convert:hover {\n",
              "      background-color: #E2EBFA;\n",
              "      box-shadow: 0px 1px 2px rgba(60, 64, 67, 0.3), 0px 1px 3px 1px rgba(60, 64, 67, 0.15);\n",
              "      fill: #174EA6;\n",
              "    }\n",
              "\n",
              "    [theme=dark] .colab-df-convert {\n",
              "      background-color: #3B4455;\n",
              "      fill: #D2E3FC;\n",
              "    }\n",
              "\n",
              "    [theme=dark] .colab-df-convert:hover {\n",
              "      background-color: #434B5C;\n",
              "      box-shadow: 0px 1px 3px 1px rgba(0, 0, 0, 0.15);\n",
              "      filter: drop-shadow(0px 1px 2px rgba(0, 0, 0, 0.3));\n",
              "      fill: #FFFFFF;\n",
              "    }\n",
              "  </style>\n",
              "\n",
              "      <script>\n",
              "        const buttonEl =\n",
              "          document.querySelector('#df-1b9cddfe-a8d3-4f52-b2b8-6b86abbcdd44 button.colab-df-convert');\n",
              "        buttonEl.style.display =\n",
              "          google.colab.kernel.accessAllowed ? 'block' : 'none';\n",
              "\n",
              "        async function convertToInteractive(key) {\n",
              "          const element = document.querySelector('#df-1b9cddfe-a8d3-4f52-b2b8-6b86abbcdd44');\n",
              "          const dataTable =\n",
              "            await google.colab.kernel.invokeFunction('convertToInteractive',\n",
              "                                                     [key], {});\n",
              "          if (!dataTable) return;\n",
              "\n",
              "          const docLinkHtml = 'Like what you see? Visit the ' +\n",
              "            '<a target=\"_blank\" href=https://colab.research.google.com/notebooks/data_table.ipynb>data table notebook</a>'\n",
              "            + ' to learn more about interactive tables.';\n",
              "          element.innerHTML = '';\n",
              "          dataTable['output_type'] = 'display_data';\n",
              "          await google.colab.output.renderOutput(dataTable, element);\n",
              "          const docLink = document.createElement('div');\n",
              "          docLink.innerHTML = docLinkHtml;\n",
              "          element.appendChild(docLink);\n",
              "        }\n",
              "      </script>\n",
              "    </div>\n",
              "  </div>\n",
              "  "
            ]
          },
          "metadata": {},
          "execution_count": 25
        }
      ]
    },
    {
      "cell_type": "code",
      "source": [
        "iris['SepalLength'].unique()"
      ],
      "metadata": {
        "colab": {
          "base_uri": "https://localhost:8080/"
        },
        "id": "Af6UJo8CvvsQ",
        "outputId": "16731c6e-d2c7-4f0a-bad3-ee9115d45933"
      },
      "execution_count": 26,
      "outputs": [
        {
          "output_type": "execute_result",
          "data": {
            "text/plain": [
              "array([5.1, 4.9, 4.7, 4.6, 5. , 5.4, 4.4, 4.8, 4.3, 5.8, 5.7, 5.2, 5.5,\n",
              "       4.5, 5.3, 7. , 6.4, 6.9, 6.5, 6.3, 6.6, 5.9, 6. , 6.1, 5.6, 6.7,\n",
              "       6.2, 6.8, 7.1, 7.6, 7.3, 7.2, 7.7, 7.4, 7.9])"
            ]
          },
          "metadata": {},
          "execution_count": 26
        }
      ]
    },
    {
      "cell_type": "code",
      "source": [
        "iris.isna().sum()"
      ],
      "metadata": {
        "colab": {
          "base_uri": "https://localhost:8080/"
        },
        "id": "wFxvpaysv1h8",
        "outputId": "70826069-7349-4354-f02b-a2153aa54362"
      },
      "execution_count": 27,
      "outputs": [
        {
          "output_type": "execute_result",
          "data": {
            "text/plain": [
              "SepalLength    0\n",
              "SepalWidth     0\n",
              "PetalLength    0\n",
              "PetalWidth     0\n",
              "Name           0\n",
              "dtype: int64"
            ]
          },
          "metadata": {},
          "execution_count": 27
        }
      ]
    }
  ]
}