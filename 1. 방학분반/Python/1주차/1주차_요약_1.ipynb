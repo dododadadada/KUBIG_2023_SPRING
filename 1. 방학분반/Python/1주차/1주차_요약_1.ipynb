{
  "nbformat": 4,
  "nbformat_minor": 0,
  "metadata": {
    "colab": {
      "provenance": []
    },
    "kernelspec": {
      "name": "python3",
      "display_name": "Python 3"
    },
    "language_info": {
      "name": "python"
    },
    "accelerator": "GPU",
    "gpuClass": "standard"
  },
  "cells": [
    {
      "cell_type": "markdown",
      "source": [
        "# 1. Python Basics"
      ],
      "metadata": {
        "id": "hnBMMHsalSKu"
      }
    },
    {
      "cell_type": "markdown",
      "source": [
        "## 1.1 Python as a calculator"
      ],
      "metadata": {
        "id": "USSwEVMAllZk"
      }
    },
    {
      "cell_type": "code",
      "source": [
        "# Addition, subtraction\n",
        "print(5 + 5)\n",
        "print(5 - 5)\n",
        "\n",
        "# Multiplication, division, modulo, and exponentiation\n",
        "print(3 * 5)\n",
        "print(10 / 2)\n",
        "print(18 % 7) # 나눗셈의 나머지\n",
        "print(4 ** 2) # n승"
      ],
      "metadata": {
        "colab": {
          "base_uri": "https://localhost:8080/"
        },
        "id": "OBraHfmylvyH",
        "outputId": "4ada3061-b79f-4773-ff5a-0763f78d1e9f"
      },
      "execution_count": null,
      "outputs": [
        {
          "output_type": "stream",
          "name": "stdout",
          "text": [
            "10\n",
            "0\n",
            "15\n",
            "5.0\n",
            "4\n",
            "16\n"
          ]
        }
      ]
    },
    {
      "cell_type": "code",
      "source": [
        "# Suppose you have $100, which you can invest with a 10% return each year. How much is your $100 worth after 7 years?\n",
        "print(100 * (1.1 **7))"
      ],
      "metadata": {
        "colab": {
          "base_uri": "https://localhost:8080/"
        },
        "id": "iZFunLS0mJMZ",
        "outputId": "37efd3be-d10f-4115-d2cd-070d94d45787"
      },
      "execution_count": null,
      "outputs": [
        {
          "output_type": "stream",
          "name": "stdout",
          "text": [
            "194.87171000000012\n"
          ]
        }
      ]
    },
    {
      "cell_type": "markdown",
      "source": [
        "## 1.2 Variables and Types\n",
        "\n",
        "*  Variable 할당 방법 : \"=\"\n",
        "*  Types : float(정수 부분 + 소수 부분), int(정수), str(문자열), bool(R에서의 factor) \n",
        "*  Different type = Different behavior\n",
        "\n",
        "\n"
      ],
      "metadata": {
        "id": "EjkAq7RVmvlq"
      }
    },
    {
      "cell_type": "code",
      "source": [
        "# Create a variable savings and print out\n",
        "savings = 100; print(savings)\n",
        "\n",
        "# Create a variable growth_multiplier\n",
        "growth_multiplier = 1.1\n",
        "\n",
        "# Calculate result and print out\n",
        "result = savings*growth_multiplier**7; print(result)"
      ],
      "metadata": {
        "colab": {
          "base_uri": "https://localhost:8080/"
        },
        "id": "cH95em54pK9F",
        "outputId": "9216c90b-95d3-4737-97bd-85bf8fe8ebe1"
      },
      "execution_count": null,
      "outputs": [
        {
          "output_type": "stream",
          "name": "stdout",
          "text": [
            "100\n",
            "194.87171000000012\n"
          ]
        }
      ]
    },
    {
      "cell_type": "code",
      "source": [
        "# Create a variable desc\n",
        "desc = \"compound interest\"; type(desc)\n",
        "\n",
        "# Create a variable profitable\n",
        "profitable = True; type(profitable)"
      ],
      "metadata": {
        "colab": {
          "base_uri": "https://localhost:8080/"
        },
        "id": "EbyInC1uqGPd",
        "outputId": "9ad455c2-ec19-4a0a-fd8c-2d453d7bac2f"
      },
      "execution_count": null,
      "outputs": [
        {
          "output_type": "execute_result",
          "data": {
            "text/plain": [
              "bool"
            ]
          },
          "metadata": {},
          "execution_count": 9
        }
      ]
    },
    {
      "cell_type": "code",
      "source": [
        "# 문자열의 덧셈\n",
        "print(desc)\n",
        "doubledesc = desc + desc; print(doubledesc)"
      ],
      "metadata": {
        "colab": {
          "base_uri": "https://localhost:8080/"
        },
        "id": "6VYDhuZusUtA",
        "outputId": "69429b8a-d321-434b-a2d6-6fb779ba6ede"
      },
      "execution_count": null,
      "outputs": [
        {
          "output_type": "stream",
          "name": "stdout",
          "text": [
            "compound interest\n",
            "compound interestcompound interest\n"
          ]
        }
      ]
    },
    {
      "cell_type": "code",
      "source": [
        "# 변수의 변환\n",
        "print(type(savings)); print(type(str(savings)))\n",
        "pi_string = \"3.1415926\"; pi_float = float(pi_string); print(type(pi_float))"
      ],
      "metadata": {
        "colab": {
          "base_uri": "https://localhost:8080/"
        },
        "id": "JoDdserHvSIx",
        "outputId": "2a279a2f-b3d7-459b-dd2f-aa2dbca5c77f"
      },
      "execution_count": null,
      "outputs": [
        {
          "output_type": "stream",
          "name": "stdout",
          "text": [
            "<class 'int'>\n",
            "<class 'str'>\n",
            "<class 'float'>\n"
          ]
        }
      ]
    },
    {
      "cell_type": "markdown",
      "source": [
        "# 2. Python Lists"
      ],
      "metadata": {
        "id": "plR_IzhIwHcC"
      }
    },
    {
      "cell_type": "markdown",
      "source": [
        "## 2.1 Python List\n",
        "\n",
        "* \" [   ] \"  이용\n",
        "* Contain any type, Contain different types\n",
        "* list 안에 sublist 포함 가능 \n",
        "\n"
      ],
      "metadata": {
        "id": "gjWbdDSrw_KL"
      }
    },
    {
      "cell_type": "code",
      "source": [
        "# area variables (in square meters)\n",
        "hall = 11.25\n",
        "kit = 18.0\n",
        "liv = 20.0\n",
        "bed = 10.75\n",
        "bath = 9.50\n",
        "\n",
        "# Create list areas\n",
        "areas = [hall, kit, liv, bed, bath]; print(areas)\n",
        "\n",
        "\n",
        "# Adapt list areas\n",
        "areas = ['hallway', hall, 'kitchen', kit, \"living room\", liv, 'bedroom', bed, \"bathroom\", bath]; print(areas)\n",
        "\n",
        "# house information as list of lists (Sublist 포함)\n",
        "house = [[\"hallway\", hall],\n",
        "         [\"kitchen\", kit],\n",
        "         [\"living room\", liv],\n",
        "         [\"bedroom\", bed],\n",
        "         [\"bathroom\", bath]]\n",
        "print(house)\n",
        "\n"
      ],
      "metadata": {
        "colab": {
          "base_uri": "https://localhost:8080/"
        },
        "id": "2CExoCx23GKA",
        "outputId": "924aee54-2f23-4a67-bfa5-cd7f0ebc60c6"
      },
      "execution_count": null,
      "outputs": [
        {
          "output_type": "stream",
          "name": "stdout",
          "text": [
            "[11.25, 18.0, 20.0, 10.75, 9.5]\n",
            "['hallway', 11.25, 'kitchen', 18.0, 'living room', 20.0, 'bedroom', 10.75, 'bathroom', 9.5]\n"
          ]
        }
      ]
    },
    {
      "cell_type": "markdown",
      "source": [
        "## 2.2 Subsetting lists\n",
        "* Indexing (eg. fam[6], fam[-1])\n",
        "* Slicing \n",
        "   * fam[3:5] (이때, 마지막 index는 포함되지 않음 i.e. 세 번째와 네 번째 index에 해당하는 value만 반환됨)\n",
        "   * fam[:4] (0부터 3까지, 총 4개)\n",
        "   * fam[5:] (6부터 끝까지) \n",
        "* Subsetting lists of lists\n",
        "   * eg. x = [[\"a\", \"b\", \"c\"],\n",
        "     [\"d\", \"e\", \"f\"],\n",
        "     [\"g\", \"h\", \"i\"]]\n",
        "     \n",
        "     x[2][0] (List 안에 더 작은 list가 있을 경우의 indexing)\n"
      ],
      "metadata": {
        "id": "gbsTB-GL4-qe"
      }
    },
    {
      "cell_type": "code",
      "source": [
        "# Create the areas list\n",
        "areas = [\"hallway\", 11.25, \"kitchen\", 18.0, \"living room\", 20.0, \"bedroom\", 10.75, \"bathroom\", 9.50]\n",
        "\n",
        "# Print out second element from areas\n",
        "print(areas[1])\n",
        "\n",
        "# Print out last element from areas\n",
        "print(areas[-1])\n",
        "\n",
        "# Print out the area of the living room\n",
        "print(areas[5])\n",
        "\n",
        "# Use slicing to create a list, downstairs, that contains the first 6 elements of areas\n",
        "downstairs = areas[:6]\n",
        "\n",
        "# Use slicint to create a list, upstairs, that contains the last 4 elements of areas\n",
        "upstairs = areas[-4:]"
      ],
      "metadata": {
        "id": "YknGAG0FepxV"
      },
      "execution_count": null,
      "outputs": []
    },
    {
      "cell_type": "markdown",
      "source": [
        "## 2.3 Manipulating Lists\n",
        "* Changing list elements\n",
        "    * fam[0:2] = [\"lisa\", 1.74]\n",
        "* Adding and removing elements\n",
        "    * fam + [\"me\", 1.79]\n",
        "    * del(fam[2])\n",
        "* Behind the scenes (List를 복사하는 방법)\n",
        "    * y = x (실제 값 자체가 아니라 목록에 대한 참조를 복사 i.e. y의 값을 바꾸면 x의 값도 같이 바뀜)\n",
        "    * y = list(x) or y = x[:] (y의 값을 바꾸더라도 x의 값이 바뀌지 않음)"
      ],
      "metadata": {
        "id": "kYFWp3PnhycO"
      }
    },
    {
      "cell_type": "code",
      "source": [
        "# Correct the bathroom area\n",
        "areas[-1] = 10.5\n",
        "# Change \"living room\" to \"chill zone\"\n",
        "areas[4] = 'chill zone'\n",
        "\n",
        "# Add poolhouse data to areas, new list is areas_1\n",
        "areas_1 = areas + ['poolhouse', 24.5]\n",
        "# Add garage data to areas_1, new list is areas_2\n",
        "areas_2 = areas_1 + ['garage',15.45]\n",
        "\n",
        "# Create list areas\n",
        "areas = [11.25, 18.0, 20.0, 10.75, 9.50]\n",
        "# Create areas_copy\n",
        "areas_copy = areas\n",
        "\n",
        "# Change areas_copy\n",
        "areas_copy[0] = 5.0\n",
        "# Print areas (areas의 값이 변하지 않음)\n",
        "print(areas) "
      ],
      "metadata": {
        "id": "cx4MWPEvk9IO"
      },
      "execution_count": null,
      "outputs": []
    }
  ]
}