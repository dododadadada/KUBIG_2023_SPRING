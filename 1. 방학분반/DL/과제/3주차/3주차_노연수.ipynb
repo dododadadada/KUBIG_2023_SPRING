{
  "nbformat": 4,
  "nbformat_minor": 0,
  "metadata": {
    "colab": {
      "provenance": [],
      "machine_shape": "hm"
    },
    "kernelspec": {
      "name": "python3",
      "display_name": "Python 3"
    },
    "language_info": {
      "name": "python"
    },
    "accelerator": "GPU",
    "widgets": {
      "application/vnd.jupyter.widget-state+json": {
        "b3767642fc0b46ab8553bafd3ec0188a": {
          "model_module": "@jupyter-widgets/controls",
          "model_name": "HBoxModel",
          "model_module_version": "1.5.0",
          "state": {
            "_dom_classes": [],
            "_model_module": "@jupyter-widgets/controls",
            "_model_module_version": "1.5.0",
            "_model_name": "HBoxModel",
            "_view_count": null,
            "_view_module": "@jupyter-widgets/controls",
            "_view_module_version": "1.5.0",
            "_view_name": "HBoxView",
            "box_style": "",
            "children": [
              "IPY_MODEL_33c5149f0c634686a1ab3e3f1b403c18",
              "IPY_MODEL_354d96bec11f4a1fb781b2112fd331dd",
              "IPY_MODEL_ebb2e0af36f04e318b68306266159603"
            ],
            "layout": "IPY_MODEL_58d5b1b3360547cda893ec9df9ad822e"
          }
        },
        "33c5149f0c634686a1ab3e3f1b403c18": {
          "model_module": "@jupyter-widgets/controls",
          "model_name": "HTMLModel",
          "model_module_version": "1.5.0",
          "state": {
            "_dom_classes": [],
            "_model_module": "@jupyter-widgets/controls",
            "_model_module_version": "1.5.0",
            "_model_name": "HTMLModel",
            "_view_count": null,
            "_view_module": "@jupyter-widgets/controls",
            "_view_module_version": "1.5.0",
            "_view_name": "HTMLView",
            "description": "",
            "description_tooltip": null,
            "layout": "IPY_MODEL_74f01fa39c0d4b0597864bc1c9ccb54a",
            "placeholder": "​",
            "style": "IPY_MODEL_bc0125ab4026424196f17606509e0ac6",
            "value": "100%"
          }
        },
        "354d96bec11f4a1fb781b2112fd331dd": {
          "model_module": "@jupyter-widgets/controls",
          "model_name": "FloatProgressModel",
          "model_module_version": "1.5.0",
          "state": {
            "_dom_classes": [],
            "_model_module": "@jupyter-widgets/controls",
            "_model_module_version": "1.5.0",
            "_model_name": "FloatProgressModel",
            "_view_count": null,
            "_view_module": "@jupyter-widgets/controls",
            "_view_module_version": "1.5.0",
            "_view_name": "ProgressView",
            "bar_style": "success",
            "description": "",
            "description_tooltip": null,
            "layout": "IPY_MODEL_680d5c500b9544e2a6846111ae2e8b41",
            "max": 9912422,
            "min": 0,
            "orientation": "horizontal",
            "style": "IPY_MODEL_f6e566d786ac415eb975c38a505c25f1",
            "value": 9912422
          }
        },
        "ebb2e0af36f04e318b68306266159603": {
          "model_module": "@jupyter-widgets/controls",
          "model_name": "HTMLModel",
          "model_module_version": "1.5.0",
          "state": {
            "_dom_classes": [],
            "_model_module": "@jupyter-widgets/controls",
            "_model_module_version": "1.5.0",
            "_model_name": "HTMLModel",
            "_view_count": null,
            "_view_module": "@jupyter-widgets/controls",
            "_view_module_version": "1.5.0",
            "_view_name": "HTMLView",
            "description": "",
            "description_tooltip": null,
            "layout": "IPY_MODEL_b514309fcef648c7b5c068e64c584906",
            "placeholder": "​",
            "style": "IPY_MODEL_40de3b98376043d6894f2eb2f9ce27bf",
            "value": " 9912422/9912422 [00:00&lt;00:00, 33807841.61it/s]"
          }
        },
        "58d5b1b3360547cda893ec9df9ad822e": {
          "model_module": "@jupyter-widgets/base",
          "model_name": "LayoutModel",
          "model_module_version": "1.2.0",
          "state": {
            "_model_module": "@jupyter-widgets/base",
            "_model_module_version": "1.2.0",
            "_model_name": "LayoutModel",
            "_view_count": null,
            "_view_module": "@jupyter-widgets/base",
            "_view_module_version": "1.2.0",
            "_view_name": "LayoutView",
            "align_content": null,
            "align_items": null,
            "align_self": null,
            "border": null,
            "bottom": null,
            "display": null,
            "flex": null,
            "flex_flow": null,
            "grid_area": null,
            "grid_auto_columns": null,
            "grid_auto_flow": null,
            "grid_auto_rows": null,
            "grid_column": null,
            "grid_gap": null,
            "grid_row": null,
            "grid_template_areas": null,
            "grid_template_columns": null,
            "grid_template_rows": null,
            "height": null,
            "justify_content": null,
            "justify_items": null,
            "left": null,
            "margin": null,
            "max_height": null,
            "max_width": null,
            "min_height": null,
            "min_width": null,
            "object_fit": null,
            "object_position": null,
            "order": null,
            "overflow": null,
            "overflow_x": null,
            "overflow_y": null,
            "padding": null,
            "right": null,
            "top": null,
            "visibility": null,
            "width": null
          }
        },
        "74f01fa39c0d4b0597864bc1c9ccb54a": {
          "model_module": "@jupyter-widgets/base",
          "model_name": "LayoutModel",
          "model_module_version": "1.2.0",
          "state": {
            "_model_module": "@jupyter-widgets/base",
            "_model_module_version": "1.2.0",
            "_model_name": "LayoutModel",
            "_view_count": null,
            "_view_module": "@jupyter-widgets/base",
            "_view_module_version": "1.2.0",
            "_view_name": "LayoutView",
            "align_content": null,
            "align_items": null,
            "align_self": null,
            "border": null,
            "bottom": null,
            "display": null,
            "flex": null,
            "flex_flow": null,
            "grid_area": null,
            "grid_auto_columns": null,
            "grid_auto_flow": null,
            "grid_auto_rows": null,
            "grid_column": null,
            "grid_gap": null,
            "grid_row": null,
            "grid_template_areas": null,
            "grid_template_columns": null,
            "grid_template_rows": null,
            "height": null,
            "justify_content": null,
            "justify_items": null,
            "left": null,
            "margin": null,
            "max_height": null,
            "max_width": null,
            "min_height": null,
            "min_width": null,
            "object_fit": null,
            "object_position": null,
            "order": null,
            "overflow": null,
            "overflow_x": null,
            "overflow_y": null,
            "padding": null,
            "right": null,
            "top": null,
            "visibility": null,
            "width": null
          }
        },
        "bc0125ab4026424196f17606509e0ac6": {
          "model_module": "@jupyter-widgets/controls",
          "model_name": "DescriptionStyleModel",
          "model_module_version": "1.5.0",
          "state": {
            "_model_module": "@jupyter-widgets/controls",
            "_model_module_version": "1.5.0",
            "_model_name": "DescriptionStyleModel",
            "_view_count": null,
            "_view_module": "@jupyter-widgets/base",
            "_view_module_version": "1.2.0",
            "_view_name": "StyleView",
            "description_width": ""
          }
        },
        "680d5c500b9544e2a6846111ae2e8b41": {
          "model_module": "@jupyter-widgets/base",
          "model_name": "LayoutModel",
          "model_module_version": "1.2.0",
          "state": {
            "_model_module": "@jupyter-widgets/base",
            "_model_module_version": "1.2.0",
            "_model_name": "LayoutModel",
            "_view_count": null,
            "_view_module": "@jupyter-widgets/base",
            "_view_module_version": "1.2.0",
            "_view_name": "LayoutView",
            "align_content": null,
            "align_items": null,
            "align_self": null,
            "border": null,
            "bottom": null,
            "display": null,
            "flex": null,
            "flex_flow": null,
            "grid_area": null,
            "grid_auto_columns": null,
            "grid_auto_flow": null,
            "grid_auto_rows": null,
            "grid_column": null,
            "grid_gap": null,
            "grid_row": null,
            "grid_template_areas": null,
            "grid_template_columns": null,
            "grid_template_rows": null,
            "height": null,
            "justify_content": null,
            "justify_items": null,
            "left": null,
            "margin": null,
            "max_height": null,
            "max_width": null,
            "min_height": null,
            "min_width": null,
            "object_fit": null,
            "object_position": null,
            "order": null,
            "overflow": null,
            "overflow_x": null,
            "overflow_y": null,
            "padding": null,
            "right": null,
            "top": null,
            "visibility": null,
            "width": null
          }
        },
        "f6e566d786ac415eb975c38a505c25f1": {
          "model_module": "@jupyter-widgets/controls",
          "model_name": "ProgressStyleModel",
          "model_module_version": "1.5.0",
          "state": {
            "_model_module": "@jupyter-widgets/controls",
            "_model_module_version": "1.5.0",
            "_model_name": "ProgressStyleModel",
            "_view_count": null,
            "_view_module": "@jupyter-widgets/base",
            "_view_module_version": "1.2.0",
            "_view_name": "StyleView",
            "bar_color": null,
            "description_width": ""
          }
        },
        "b514309fcef648c7b5c068e64c584906": {
          "model_module": "@jupyter-widgets/base",
          "model_name": "LayoutModel",
          "model_module_version": "1.2.0",
          "state": {
            "_model_module": "@jupyter-widgets/base",
            "_model_module_version": "1.2.0",
            "_model_name": "LayoutModel",
            "_view_count": null,
            "_view_module": "@jupyter-widgets/base",
            "_view_module_version": "1.2.0",
            "_view_name": "LayoutView",
            "align_content": null,
            "align_items": null,
            "align_self": null,
            "border": null,
            "bottom": null,
            "display": null,
            "flex": null,
            "flex_flow": null,
            "grid_area": null,
            "grid_auto_columns": null,
            "grid_auto_flow": null,
            "grid_auto_rows": null,
            "grid_column": null,
            "grid_gap": null,
            "grid_row": null,
            "grid_template_areas": null,
            "grid_template_columns": null,
            "grid_template_rows": null,
            "height": null,
            "justify_content": null,
            "justify_items": null,
            "left": null,
            "margin": null,
            "max_height": null,
            "max_width": null,
            "min_height": null,
            "min_width": null,
            "object_fit": null,
            "object_position": null,
            "order": null,
            "overflow": null,
            "overflow_x": null,
            "overflow_y": null,
            "padding": null,
            "right": null,
            "top": null,
            "visibility": null,
            "width": null
          }
        },
        "40de3b98376043d6894f2eb2f9ce27bf": {
          "model_module": "@jupyter-widgets/controls",
          "model_name": "DescriptionStyleModel",
          "model_module_version": "1.5.0",
          "state": {
            "_model_module": "@jupyter-widgets/controls",
            "_model_module_version": "1.5.0",
            "_model_name": "DescriptionStyleModel",
            "_view_count": null,
            "_view_module": "@jupyter-widgets/base",
            "_view_module_version": "1.2.0",
            "_view_name": "StyleView",
            "description_width": ""
          }
        },
        "92b4ada80e5e4c87ac6197cdf65d3c19": {
          "model_module": "@jupyter-widgets/controls",
          "model_name": "HBoxModel",
          "model_module_version": "1.5.0",
          "state": {
            "_dom_classes": [],
            "_model_module": "@jupyter-widgets/controls",
            "_model_module_version": "1.5.0",
            "_model_name": "HBoxModel",
            "_view_count": null,
            "_view_module": "@jupyter-widgets/controls",
            "_view_module_version": "1.5.0",
            "_view_name": "HBoxView",
            "box_style": "",
            "children": [
              "IPY_MODEL_5f8d1172f3264ead8ad56b598bff04d3",
              "IPY_MODEL_793ab27796f04e26b047e8c8e2711ab1",
              "IPY_MODEL_28083c5a328042a8be4e6e447983beaa"
            ],
            "layout": "IPY_MODEL_4bd5c98f458a4d658649cf6ecfb91bb4"
          }
        },
        "5f8d1172f3264ead8ad56b598bff04d3": {
          "model_module": "@jupyter-widgets/controls",
          "model_name": "HTMLModel",
          "model_module_version": "1.5.0",
          "state": {
            "_dom_classes": [],
            "_model_module": "@jupyter-widgets/controls",
            "_model_module_version": "1.5.0",
            "_model_name": "HTMLModel",
            "_view_count": null,
            "_view_module": "@jupyter-widgets/controls",
            "_view_module_version": "1.5.0",
            "_view_name": "HTMLView",
            "description": "",
            "description_tooltip": null,
            "layout": "IPY_MODEL_413bebba1de8421eb427e24eab474b53",
            "placeholder": "​",
            "style": "IPY_MODEL_47d7e483d1054eccac38060dd5738d2c",
            "value": "100%"
          }
        },
        "793ab27796f04e26b047e8c8e2711ab1": {
          "model_module": "@jupyter-widgets/controls",
          "model_name": "FloatProgressModel",
          "model_module_version": "1.5.0",
          "state": {
            "_dom_classes": [],
            "_model_module": "@jupyter-widgets/controls",
            "_model_module_version": "1.5.0",
            "_model_name": "FloatProgressModel",
            "_view_count": null,
            "_view_module": "@jupyter-widgets/controls",
            "_view_module_version": "1.5.0",
            "_view_name": "ProgressView",
            "bar_style": "success",
            "description": "",
            "description_tooltip": null,
            "layout": "IPY_MODEL_d18691c3dd3342cc9438c15d64111894",
            "max": 28881,
            "min": 0,
            "orientation": "horizontal",
            "style": "IPY_MODEL_ab210077805a461c89a9490535d8f0bd",
            "value": 28881
          }
        },
        "28083c5a328042a8be4e6e447983beaa": {
          "model_module": "@jupyter-widgets/controls",
          "model_name": "HTMLModel",
          "model_module_version": "1.5.0",
          "state": {
            "_dom_classes": [],
            "_model_module": "@jupyter-widgets/controls",
            "_model_module_version": "1.5.0",
            "_model_name": "HTMLModel",
            "_view_count": null,
            "_view_module": "@jupyter-widgets/controls",
            "_view_module_version": "1.5.0",
            "_view_name": "HTMLView",
            "description": "",
            "description_tooltip": null,
            "layout": "IPY_MODEL_33818ee228ab44ba928f0eef4a07e3a5",
            "placeholder": "​",
            "style": "IPY_MODEL_26f178ffb0e0478e81ceda9c3fecd830",
            "value": " 28881/28881 [00:00&lt;00:00, 1642963.43it/s]"
          }
        },
        "4bd5c98f458a4d658649cf6ecfb91bb4": {
          "model_module": "@jupyter-widgets/base",
          "model_name": "LayoutModel",
          "model_module_version": "1.2.0",
          "state": {
            "_model_module": "@jupyter-widgets/base",
            "_model_module_version": "1.2.0",
            "_model_name": "LayoutModel",
            "_view_count": null,
            "_view_module": "@jupyter-widgets/base",
            "_view_module_version": "1.2.0",
            "_view_name": "LayoutView",
            "align_content": null,
            "align_items": null,
            "align_self": null,
            "border": null,
            "bottom": null,
            "display": null,
            "flex": null,
            "flex_flow": null,
            "grid_area": null,
            "grid_auto_columns": null,
            "grid_auto_flow": null,
            "grid_auto_rows": null,
            "grid_column": null,
            "grid_gap": null,
            "grid_row": null,
            "grid_template_areas": null,
            "grid_template_columns": null,
            "grid_template_rows": null,
            "height": null,
            "justify_content": null,
            "justify_items": null,
            "left": null,
            "margin": null,
            "max_height": null,
            "max_width": null,
            "min_height": null,
            "min_width": null,
            "object_fit": null,
            "object_position": null,
            "order": null,
            "overflow": null,
            "overflow_x": null,
            "overflow_y": null,
            "padding": null,
            "right": null,
            "top": null,
            "visibility": null,
            "width": null
          }
        },
        "413bebba1de8421eb427e24eab474b53": {
          "model_module": "@jupyter-widgets/base",
          "model_name": "LayoutModel",
          "model_module_version": "1.2.0",
          "state": {
            "_model_module": "@jupyter-widgets/base",
            "_model_module_version": "1.2.0",
            "_model_name": "LayoutModel",
            "_view_count": null,
            "_view_module": "@jupyter-widgets/base",
            "_view_module_version": "1.2.0",
            "_view_name": "LayoutView",
            "align_content": null,
            "align_items": null,
            "align_self": null,
            "border": null,
            "bottom": null,
            "display": null,
            "flex": null,
            "flex_flow": null,
            "grid_area": null,
            "grid_auto_columns": null,
            "grid_auto_flow": null,
            "grid_auto_rows": null,
            "grid_column": null,
            "grid_gap": null,
            "grid_row": null,
            "grid_template_areas": null,
            "grid_template_columns": null,
            "grid_template_rows": null,
            "height": null,
            "justify_content": null,
            "justify_items": null,
            "left": null,
            "margin": null,
            "max_height": null,
            "max_width": null,
            "min_height": null,
            "min_width": null,
            "object_fit": null,
            "object_position": null,
            "order": null,
            "overflow": null,
            "overflow_x": null,
            "overflow_y": null,
            "padding": null,
            "right": null,
            "top": null,
            "visibility": null,
            "width": null
          }
        },
        "47d7e483d1054eccac38060dd5738d2c": {
          "model_module": "@jupyter-widgets/controls",
          "model_name": "DescriptionStyleModel",
          "model_module_version": "1.5.0",
          "state": {
            "_model_module": "@jupyter-widgets/controls",
            "_model_module_version": "1.5.0",
            "_model_name": "DescriptionStyleModel",
            "_view_count": null,
            "_view_module": "@jupyter-widgets/base",
            "_view_module_version": "1.2.0",
            "_view_name": "StyleView",
            "description_width": ""
          }
        },
        "d18691c3dd3342cc9438c15d64111894": {
          "model_module": "@jupyter-widgets/base",
          "model_name": "LayoutModel",
          "model_module_version": "1.2.0",
          "state": {
            "_model_module": "@jupyter-widgets/base",
            "_model_module_version": "1.2.0",
            "_model_name": "LayoutModel",
            "_view_count": null,
            "_view_module": "@jupyter-widgets/base",
            "_view_module_version": "1.2.0",
            "_view_name": "LayoutView",
            "align_content": null,
            "align_items": null,
            "align_self": null,
            "border": null,
            "bottom": null,
            "display": null,
            "flex": null,
            "flex_flow": null,
            "grid_area": null,
            "grid_auto_columns": null,
            "grid_auto_flow": null,
            "grid_auto_rows": null,
            "grid_column": null,
            "grid_gap": null,
            "grid_row": null,
            "grid_template_areas": null,
            "grid_template_columns": null,
            "grid_template_rows": null,
            "height": null,
            "justify_content": null,
            "justify_items": null,
            "left": null,
            "margin": null,
            "max_height": null,
            "max_width": null,
            "min_height": null,
            "min_width": null,
            "object_fit": null,
            "object_position": null,
            "order": null,
            "overflow": null,
            "overflow_x": null,
            "overflow_y": null,
            "padding": null,
            "right": null,
            "top": null,
            "visibility": null,
            "width": null
          }
        },
        "ab210077805a461c89a9490535d8f0bd": {
          "model_module": "@jupyter-widgets/controls",
          "model_name": "ProgressStyleModel",
          "model_module_version": "1.5.0",
          "state": {
            "_model_module": "@jupyter-widgets/controls",
            "_model_module_version": "1.5.0",
            "_model_name": "ProgressStyleModel",
            "_view_count": null,
            "_view_module": "@jupyter-widgets/base",
            "_view_module_version": "1.2.0",
            "_view_name": "StyleView",
            "bar_color": null,
            "description_width": ""
          }
        },
        "33818ee228ab44ba928f0eef4a07e3a5": {
          "model_module": "@jupyter-widgets/base",
          "model_name": "LayoutModel",
          "model_module_version": "1.2.0",
          "state": {
            "_model_module": "@jupyter-widgets/base",
            "_model_module_version": "1.2.0",
            "_model_name": "LayoutModel",
            "_view_count": null,
            "_view_module": "@jupyter-widgets/base",
            "_view_module_version": "1.2.0",
            "_view_name": "LayoutView",
            "align_content": null,
            "align_items": null,
            "align_self": null,
            "border": null,
            "bottom": null,
            "display": null,
            "flex": null,
            "flex_flow": null,
            "grid_area": null,
            "grid_auto_columns": null,
            "grid_auto_flow": null,
            "grid_auto_rows": null,
            "grid_column": null,
            "grid_gap": null,
            "grid_row": null,
            "grid_template_areas": null,
            "grid_template_columns": null,
            "grid_template_rows": null,
            "height": null,
            "justify_content": null,
            "justify_items": null,
            "left": null,
            "margin": null,
            "max_height": null,
            "max_width": null,
            "min_height": null,
            "min_width": null,
            "object_fit": null,
            "object_position": null,
            "order": null,
            "overflow": null,
            "overflow_x": null,
            "overflow_y": null,
            "padding": null,
            "right": null,
            "top": null,
            "visibility": null,
            "width": null
          }
        },
        "26f178ffb0e0478e81ceda9c3fecd830": {
          "model_module": "@jupyter-widgets/controls",
          "model_name": "DescriptionStyleModel",
          "model_module_version": "1.5.0",
          "state": {
            "_model_module": "@jupyter-widgets/controls",
            "_model_module_version": "1.5.0",
            "_model_name": "DescriptionStyleModel",
            "_view_count": null,
            "_view_module": "@jupyter-widgets/base",
            "_view_module_version": "1.2.0",
            "_view_name": "StyleView",
            "description_width": ""
          }
        },
        "08364a0be5a8410fb313764e7b491845": {
          "model_module": "@jupyter-widgets/controls",
          "model_name": "HBoxModel",
          "model_module_version": "1.5.0",
          "state": {
            "_dom_classes": [],
            "_model_module": "@jupyter-widgets/controls",
            "_model_module_version": "1.5.0",
            "_model_name": "HBoxModel",
            "_view_count": null,
            "_view_module": "@jupyter-widgets/controls",
            "_view_module_version": "1.5.0",
            "_view_name": "HBoxView",
            "box_style": "",
            "children": [
              "IPY_MODEL_96ed7b21ca654b4480d5b8c85776a8b8",
              "IPY_MODEL_d7ad8398873a4e198eed4832f179128d",
              "IPY_MODEL_9ec5fd05abc44691b5b3d0cd460f8d57"
            ],
            "layout": "IPY_MODEL_22765076d68c43da87a537f84b066339"
          }
        },
        "96ed7b21ca654b4480d5b8c85776a8b8": {
          "model_module": "@jupyter-widgets/controls",
          "model_name": "HTMLModel",
          "model_module_version": "1.5.0",
          "state": {
            "_dom_classes": [],
            "_model_module": "@jupyter-widgets/controls",
            "_model_module_version": "1.5.0",
            "_model_name": "HTMLModel",
            "_view_count": null,
            "_view_module": "@jupyter-widgets/controls",
            "_view_module_version": "1.5.0",
            "_view_name": "HTMLView",
            "description": "",
            "description_tooltip": null,
            "layout": "IPY_MODEL_ea0be06a23074867aada1f6391be16af",
            "placeholder": "​",
            "style": "IPY_MODEL_385361b3b56b45c8b81faaa19ec9757e",
            "value": "100%"
          }
        },
        "d7ad8398873a4e198eed4832f179128d": {
          "model_module": "@jupyter-widgets/controls",
          "model_name": "FloatProgressModel",
          "model_module_version": "1.5.0",
          "state": {
            "_dom_classes": [],
            "_model_module": "@jupyter-widgets/controls",
            "_model_module_version": "1.5.0",
            "_model_name": "FloatProgressModel",
            "_view_count": null,
            "_view_module": "@jupyter-widgets/controls",
            "_view_module_version": "1.5.0",
            "_view_name": "ProgressView",
            "bar_style": "success",
            "description": "",
            "description_tooltip": null,
            "layout": "IPY_MODEL_fd3ba4fabb3d4fcc9169a3b8a40ed562",
            "max": 1648877,
            "min": 0,
            "orientation": "horizontal",
            "style": "IPY_MODEL_4d8f7d603d094cd48e797f9da6b17236",
            "value": 1648877
          }
        },
        "9ec5fd05abc44691b5b3d0cd460f8d57": {
          "model_module": "@jupyter-widgets/controls",
          "model_name": "HTMLModel",
          "model_module_version": "1.5.0",
          "state": {
            "_dom_classes": [],
            "_model_module": "@jupyter-widgets/controls",
            "_model_module_version": "1.5.0",
            "_model_name": "HTMLModel",
            "_view_count": null,
            "_view_module": "@jupyter-widgets/controls",
            "_view_module_version": "1.5.0",
            "_view_name": "HTMLView",
            "description": "",
            "description_tooltip": null,
            "layout": "IPY_MODEL_0ddb969e35054dd991d4530384d6ef27",
            "placeholder": "​",
            "style": "IPY_MODEL_a020329fe79e407b98b4a893d5b2d3a1",
            "value": " 1648877/1648877 [00:00&lt;00:00, 41180482.41it/s]"
          }
        },
        "22765076d68c43da87a537f84b066339": {
          "model_module": "@jupyter-widgets/base",
          "model_name": "LayoutModel",
          "model_module_version": "1.2.0",
          "state": {
            "_model_module": "@jupyter-widgets/base",
            "_model_module_version": "1.2.0",
            "_model_name": "LayoutModel",
            "_view_count": null,
            "_view_module": "@jupyter-widgets/base",
            "_view_module_version": "1.2.0",
            "_view_name": "LayoutView",
            "align_content": null,
            "align_items": null,
            "align_self": null,
            "border": null,
            "bottom": null,
            "display": null,
            "flex": null,
            "flex_flow": null,
            "grid_area": null,
            "grid_auto_columns": null,
            "grid_auto_flow": null,
            "grid_auto_rows": null,
            "grid_column": null,
            "grid_gap": null,
            "grid_row": null,
            "grid_template_areas": null,
            "grid_template_columns": null,
            "grid_template_rows": null,
            "height": null,
            "justify_content": null,
            "justify_items": null,
            "left": null,
            "margin": null,
            "max_height": null,
            "max_width": null,
            "min_height": null,
            "min_width": null,
            "object_fit": null,
            "object_position": null,
            "order": null,
            "overflow": null,
            "overflow_x": null,
            "overflow_y": null,
            "padding": null,
            "right": null,
            "top": null,
            "visibility": null,
            "width": null
          }
        },
        "ea0be06a23074867aada1f6391be16af": {
          "model_module": "@jupyter-widgets/base",
          "model_name": "LayoutModel",
          "model_module_version": "1.2.0",
          "state": {
            "_model_module": "@jupyter-widgets/base",
            "_model_module_version": "1.2.0",
            "_model_name": "LayoutModel",
            "_view_count": null,
            "_view_module": "@jupyter-widgets/base",
            "_view_module_version": "1.2.0",
            "_view_name": "LayoutView",
            "align_content": null,
            "align_items": null,
            "align_self": null,
            "border": null,
            "bottom": null,
            "display": null,
            "flex": null,
            "flex_flow": null,
            "grid_area": null,
            "grid_auto_columns": null,
            "grid_auto_flow": null,
            "grid_auto_rows": null,
            "grid_column": null,
            "grid_gap": null,
            "grid_row": null,
            "grid_template_areas": null,
            "grid_template_columns": null,
            "grid_template_rows": null,
            "height": null,
            "justify_content": null,
            "justify_items": null,
            "left": null,
            "margin": null,
            "max_height": null,
            "max_width": null,
            "min_height": null,
            "min_width": null,
            "object_fit": null,
            "object_position": null,
            "order": null,
            "overflow": null,
            "overflow_x": null,
            "overflow_y": null,
            "padding": null,
            "right": null,
            "top": null,
            "visibility": null,
            "width": null
          }
        },
        "385361b3b56b45c8b81faaa19ec9757e": {
          "model_module": "@jupyter-widgets/controls",
          "model_name": "DescriptionStyleModel",
          "model_module_version": "1.5.0",
          "state": {
            "_model_module": "@jupyter-widgets/controls",
            "_model_module_version": "1.5.0",
            "_model_name": "DescriptionStyleModel",
            "_view_count": null,
            "_view_module": "@jupyter-widgets/base",
            "_view_module_version": "1.2.0",
            "_view_name": "StyleView",
            "description_width": ""
          }
        },
        "fd3ba4fabb3d4fcc9169a3b8a40ed562": {
          "model_module": "@jupyter-widgets/base",
          "model_name": "LayoutModel",
          "model_module_version": "1.2.0",
          "state": {
            "_model_module": "@jupyter-widgets/base",
            "_model_module_version": "1.2.0",
            "_model_name": "LayoutModel",
            "_view_count": null,
            "_view_module": "@jupyter-widgets/base",
            "_view_module_version": "1.2.0",
            "_view_name": "LayoutView",
            "align_content": null,
            "align_items": null,
            "align_self": null,
            "border": null,
            "bottom": null,
            "display": null,
            "flex": null,
            "flex_flow": null,
            "grid_area": null,
            "grid_auto_columns": null,
            "grid_auto_flow": null,
            "grid_auto_rows": null,
            "grid_column": null,
            "grid_gap": null,
            "grid_row": null,
            "grid_template_areas": null,
            "grid_template_columns": null,
            "grid_template_rows": null,
            "height": null,
            "justify_content": null,
            "justify_items": null,
            "left": null,
            "margin": null,
            "max_height": null,
            "max_width": null,
            "min_height": null,
            "min_width": null,
            "object_fit": null,
            "object_position": null,
            "order": null,
            "overflow": null,
            "overflow_x": null,
            "overflow_y": null,
            "padding": null,
            "right": null,
            "top": null,
            "visibility": null,
            "width": null
          }
        },
        "4d8f7d603d094cd48e797f9da6b17236": {
          "model_module": "@jupyter-widgets/controls",
          "model_name": "ProgressStyleModel",
          "model_module_version": "1.5.0",
          "state": {
            "_model_module": "@jupyter-widgets/controls",
            "_model_module_version": "1.5.0",
            "_model_name": "ProgressStyleModel",
            "_view_count": null,
            "_view_module": "@jupyter-widgets/base",
            "_view_module_version": "1.2.0",
            "_view_name": "StyleView",
            "bar_color": null,
            "description_width": ""
          }
        },
        "0ddb969e35054dd991d4530384d6ef27": {
          "model_module": "@jupyter-widgets/base",
          "model_name": "LayoutModel",
          "model_module_version": "1.2.0",
          "state": {
            "_model_module": "@jupyter-widgets/base",
            "_model_module_version": "1.2.0",
            "_model_name": "LayoutModel",
            "_view_count": null,
            "_view_module": "@jupyter-widgets/base",
            "_view_module_version": "1.2.0",
            "_view_name": "LayoutView",
            "align_content": null,
            "align_items": null,
            "align_self": null,
            "border": null,
            "bottom": null,
            "display": null,
            "flex": null,
            "flex_flow": null,
            "grid_area": null,
            "grid_auto_columns": null,
            "grid_auto_flow": null,
            "grid_auto_rows": null,
            "grid_column": null,
            "grid_gap": null,
            "grid_row": null,
            "grid_template_areas": null,
            "grid_template_columns": null,
            "grid_template_rows": null,
            "height": null,
            "justify_content": null,
            "justify_items": null,
            "left": null,
            "margin": null,
            "max_height": null,
            "max_width": null,
            "min_height": null,
            "min_width": null,
            "object_fit": null,
            "object_position": null,
            "order": null,
            "overflow": null,
            "overflow_x": null,
            "overflow_y": null,
            "padding": null,
            "right": null,
            "top": null,
            "visibility": null,
            "width": null
          }
        },
        "a020329fe79e407b98b4a893d5b2d3a1": {
          "model_module": "@jupyter-widgets/controls",
          "model_name": "DescriptionStyleModel",
          "model_module_version": "1.5.0",
          "state": {
            "_model_module": "@jupyter-widgets/controls",
            "_model_module_version": "1.5.0",
            "_model_name": "DescriptionStyleModel",
            "_view_count": null,
            "_view_module": "@jupyter-widgets/base",
            "_view_module_version": "1.2.0",
            "_view_name": "StyleView",
            "description_width": ""
          }
        },
        "b1dfe314fc134cc1876bb6e8328583fc": {
          "model_module": "@jupyter-widgets/controls",
          "model_name": "HBoxModel",
          "model_module_version": "1.5.0",
          "state": {
            "_dom_classes": [],
            "_model_module": "@jupyter-widgets/controls",
            "_model_module_version": "1.5.0",
            "_model_name": "HBoxModel",
            "_view_count": null,
            "_view_module": "@jupyter-widgets/controls",
            "_view_module_version": "1.5.0",
            "_view_name": "HBoxView",
            "box_style": "",
            "children": [
              "IPY_MODEL_cd95de8cc8a54a15ab2efce605caab55",
              "IPY_MODEL_7d73cbf0c8d44b1e9c2383e6ff764c97",
              "IPY_MODEL_78fcea1ce5a44e91a7c645d4d068c328"
            ],
            "layout": "IPY_MODEL_fd4788f5c234461192c8ba0330ba9443"
          }
        },
        "cd95de8cc8a54a15ab2efce605caab55": {
          "model_module": "@jupyter-widgets/controls",
          "model_name": "HTMLModel",
          "model_module_version": "1.5.0",
          "state": {
            "_dom_classes": [],
            "_model_module": "@jupyter-widgets/controls",
            "_model_module_version": "1.5.0",
            "_model_name": "HTMLModel",
            "_view_count": null,
            "_view_module": "@jupyter-widgets/controls",
            "_view_module_version": "1.5.0",
            "_view_name": "HTMLView",
            "description": "",
            "description_tooltip": null,
            "layout": "IPY_MODEL_feb37cd5f257442d9d2bcaa68d88bebf",
            "placeholder": "​",
            "style": "IPY_MODEL_e939f5fc7e194b80820187e5673647b7",
            "value": "100%"
          }
        },
        "7d73cbf0c8d44b1e9c2383e6ff764c97": {
          "model_module": "@jupyter-widgets/controls",
          "model_name": "FloatProgressModel",
          "model_module_version": "1.5.0",
          "state": {
            "_dom_classes": [],
            "_model_module": "@jupyter-widgets/controls",
            "_model_module_version": "1.5.0",
            "_model_name": "FloatProgressModel",
            "_view_count": null,
            "_view_module": "@jupyter-widgets/controls",
            "_view_module_version": "1.5.0",
            "_view_name": "ProgressView",
            "bar_style": "success",
            "description": "",
            "description_tooltip": null,
            "layout": "IPY_MODEL_c18a607bed5c4ab49ed6df79f0257f17",
            "max": 4542,
            "min": 0,
            "orientation": "horizontal",
            "style": "IPY_MODEL_5c11275b123740bcba40f7fe3414f7cd",
            "value": 4542
          }
        },
        "78fcea1ce5a44e91a7c645d4d068c328": {
          "model_module": "@jupyter-widgets/controls",
          "model_name": "HTMLModel",
          "model_module_version": "1.5.0",
          "state": {
            "_dom_classes": [],
            "_model_module": "@jupyter-widgets/controls",
            "_model_module_version": "1.5.0",
            "_model_name": "HTMLModel",
            "_view_count": null,
            "_view_module": "@jupyter-widgets/controls",
            "_view_module_version": "1.5.0",
            "_view_name": "HTMLView",
            "description": "",
            "description_tooltip": null,
            "layout": "IPY_MODEL_1967a43e099b466e9d181bfd007b06b8",
            "placeholder": "​",
            "style": "IPY_MODEL_cfad94c7189244d888e9df196c2172a5",
            "value": " 4542/4542 [00:00&lt;00:00, 298513.41it/s]"
          }
        },
        "fd4788f5c234461192c8ba0330ba9443": {
          "model_module": "@jupyter-widgets/base",
          "model_name": "LayoutModel",
          "model_module_version": "1.2.0",
          "state": {
            "_model_module": "@jupyter-widgets/base",
            "_model_module_version": "1.2.0",
            "_model_name": "LayoutModel",
            "_view_count": null,
            "_view_module": "@jupyter-widgets/base",
            "_view_module_version": "1.2.0",
            "_view_name": "LayoutView",
            "align_content": null,
            "align_items": null,
            "align_self": null,
            "border": null,
            "bottom": null,
            "display": null,
            "flex": null,
            "flex_flow": null,
            "grid_area": null,
            "grid_auto_columns": null,
            "grid_auto_flow": null,
            "grid_auto_rows": null,
            "grid_column": null,
            "grid_gap": null,
            "grid_row": null,
            "grid_template_areas": null,
            "grid_template_columns": null,
            "grid_template_rows": null,
            "height": null,
            "justify_content": null,
            "justify_items": null,
            "left": null,
            "margin": null,
            "max_height": null,
            "max_width": null,
            "min_height": null,
            "min_width": null,
            "object_fit": null,
            "object_position": null,
            "order": null,
            "overflow": null,
            "overflow_x": null,
            "overflow_y": null,
            "padding": null,
            "right": null,
            "top": null,
            "visibility": null,
            "width": null
          }
        },
        "feb37cd5f257442d9d2bcaa68d88bebf": {
          "model_module": "@jupyter-widgets/base",
          "model_name": "LayoutModel",
          "model_module_version": "1.2.0",
          "state": {
            "_model_module": "@jupyter-widgets/base",
            "_model_module_version": "1.2.0",
            "_model_name": "LayoutModel",
            "_view_count": null,
            "_view_module": "@jupyter-widgets/base",
            "_view_module_version": "1.2.0",
            "_view_name": "LayoutView",
            "align_content": null,
            "align_items": null,
            "align_self": null,
            "border": null,
            "bottom": null,
            "display": null,
            "flex": null,
            "flex_flow": null,
            "grid_area": null,
            "grid_auto_columns": null,
            "grid_auto_flow": null,
            "grid_auto_rows": null,
            "grid_column": null,
            "grid_gap": null,
            "grid_row": null,
            "grid_template_areas": null,
            "grid_template_columns": null,
            "grid_template_rows": null,
            "height": null,
            "justify_content": null,
            "justify_items": null,
            "left": null,
            "margin": null,
            "max_height": null,
            "max_width": null,
            "min_height": null,
            "min_width": null,
            "object_fit": null,
            "object_position": null,
            "order": null,
            "overflow": null,
            "overflow_x": null,
            "overflow_y": null,
            "padding": null,
            "right": null,
            "top": null,
            "visibility": null,
            "width": null
          }
        },
        "e939f5fc7e194b80820187e5673647b7": {
          "model_module": "@jupyter-widgets/controls",
          "model_name": "DescriptionStyleModel",
          "model_module_version": "1.5.0",
          "state": {
            "_model_module": "@jupyter-widgets/controls",
            "_model_module_version": "1.5.0",
            "_model_name": "DescriptionStyleModel",
            "_view_count": null,
            "_view_module": "@jupyter-widgets/base",
            "_view_module_version": "1.2.0",
            "_view_name": "StyleView",
            "description_width": ""
          }
        },
        "c18a607bed5c4ab49ed6df79f0257f17": {
          "model_module": "@jupyter-widgets/base",
          "model_name": "LayoutModel",
          "model_module_version": "1.2.0",
          "state": {
            "_model_module": "@jupyter-widgets/base",
            "_model_module_version": "1.2.0",
            "_model_name": "LayoutModel",
            "_view_count": null,
            "_view_module": "@jupyter-widgets/base",
            "_view_module_version": "1.2.0",
            "_view_name": "LayoutView",
            "align_content": null,
            "align_items": null,
            "align_self": null,
            "border": null,
            "bottom": null,
            "display": null,
            "flex": null,
            "flex_flow": null,
            "grid_area": null,
            "grid_auto_columns": null,
            "grid_auto_flow": null,
            "grid_auto_rows": null,
            "grid_column": null,
            "grid_gap": null,
            "grid_row": null,
            "grid_template_areas": null,
            "grid_template_columns": null,
            "grid_template_rows": null,
            "height": null,
            "justify_content": null,
            "justify_items": null,
            "left": null,
            "margin": null,
            "max_height": null,
            "max_width": null,
            "min_height": null,
            "min_width": null,
            "object_fit": null,
            "object_position": null,
            "order": null,
            "overflow": null,
            "overflow_x": null,
            "overflow_y": null,
            "padding": null,
            "right": null,
            "top": null,
            "visibility": null,
            "width": null
          }
        },
        "5c11275b123740bcba40f7fe3414f7cd": {
          "model_module": "@jupyter-widgets/controls",
          "model_name": "ProgressStyleModel",
          "model_module_version": "1.5.0",
          "state": {
            "_model_module": "@jupyter-widgets/controls",
            "_model_module_version": "1.5.0",
            "_model_name": "ProgressStyleModel",
            "_view_count": null,
            "_view_module": "@jupyter-widgets/base",
            "_view_module_version": "1.2.0",
            "_view_name": "StyleView",
            "bar_color": null,
            "description_width": ""
          }
        },
        "1967a43e099b466e9d181bfd007b06b8": {
          "model_module": "@jupyter-widgets/base",
          "model_name": "LayoutModel",
          "model_module_version": "1.2.0",
          "state": {
            "_model_module": "@jupyter-widgets/base",
            "_model_module_version": "1.2.0",
            "_model_name": "LayoutModel",
            "_view_count": null,
            "_view_module": "@jupyter-widgets/base",
            "_view_module_version": "1.2.0",
            "_view_name": "LayoutView",
            "align_content": null,
            "align_items": null,
            "align_self": null,
            "border": null,
            "bottom": null,
            "display": null,
            "flex": null,
            "flex_flow": null,
            "grid_area": null,
            "grid_auto_columns": null,
            "grid_auto_flow": null,
            "grid_auto_rows": null,
            "grid_column": null,
            "grid_gap": null,
            "grid_row": null,
            "grid_template_areas": null,
            "grid_template_columns": null,
            "grid_template_rows": null,
            "height": null,
            "justify_content": null,
            "justify_items": null,
            "left": null,
            "margin": null,
            "max_height": null,
            "max_width": null,
            "min_height": null,
            "min_width": null,
            "object_fit": null,
            "object_position": null,
            "order": null,
            "overflow": null,
            "overflow_x": null,
            "overflow_y": null,
            "padding": null,
            "right": null,
            "top": null,
            "visibility": null,
            "width": null
          }
        },
        "cfad94c7189244d888e9df196c2172a5": {
          "model_module": "@jupyter-widgets/controls",
          "model_name": "DescriptionStyleModel",
          "model_module_version": "1.5.0",
          "state": {
            "_model_module": "@jupyter-widgets/controls",
            "_model_module_version": "1.5.0",
            "_model_name": "DescriptionStyleModel",
            "_view_count": null,
            "_view_module": "@jupyter-widgets/base",
            "_view_module_version": "1.2.0",
            "_view_name": "StyleView",
            "description_width": ""
          }
        }
      }
    }
  },
  "cells": [
    {
      "cell_type": "markdown",
      "source": [
        "# < 3주차 과제 1 : MLP 마음대로 다뤄보기>\n",
        "- dataset을 임의로 선정해서 직접 분석 해보기(제공한 코드를 활용해서 해보기)\n",
        "- activation functions 중 relu사용시 함수 직접 정의\n",
        "- lr, optimizer 등 바꿔보기\n",
        "- hidden layer/neuron 수를 바꾸기\n",
        "- 전처리도 추가\n",
        "- 모든 시도를 올려주세요!\n",
        "- 제일 높은 acc를 보인 시도를 명시해주세요!\n"
      ],
      "metadata": {
        "id": "sgAYo4nrw2F4"
      }
    },
    {
      "cell_type": "code",
      "execution_count": 120,
      "metadata": {
        "id": "fX437IL6qbI-"
      },
      "outputs": [],
      "source": [
        "import torch\n",
        "from torch import nn, optim\n",
        "from sklearn.datasets import load_wine\n",
        "from torch.utils.data import  TensorDataset, DataLoader\n",
        "from sklearn.model_selection import train_test_split\n",
        "from sklearn.metrics import accuracy_score\n",
        "import numpy as np\n",
        "from sklearn.preprocessing import StandardScaler\n",
        "import matplotlib.pyplot as plt"
      ]
    },
    {
      "cell_type": "markdown",
      "source": [
        "## 아래 데이터셋 중 원하는 데이터셋 하나를 선택하여, 코드 과제 진행하기!\n",
        "- 1) load_digits() <br>\n",
        "- 2) load_wine()"
      ],
      "metadata": {
        "id": "oxkFzBDNmWNk"
      }
    },
    {
      "cell_type": "code",
      "source": [
        "# 데이터셋 종류 : \n",
        "data = load_wine()"
      ],
      "metadata": {
        "id": "FywYbfsKtjcR"
      },
      "execution_count": 121,
      "outputs": []
    },
    {
      "cell_type": "code",
      "source": [
        "input = data.data\n",
        "output = data.target"
      ],
      "metadata": {
        "id": "C2P0hqZ9yBGm"
      },
      "execution_count": 122,
      "outputs": []
    },
    {
      "cell_type": "code",
      "source": [
        "device = 'cuda' if torch.cuda.is_available() else 'cpu'\n",
        "\n",
        "torch.manual_seed(777)\n",
        "if device == \"cuda\":\n",
        "  torch.cuda.manual_seed_all(777)"
      ],
      "metadata": {
        "id": "SggpQfSPt85C"
      },
      "execution_count": 123,
      "outputs": []
    },
    {
      "cell_type": "code",
      "source": [
        "x_train, x_test, y_train, y_test = train_test_split(input, output, test_size = 0.3, random_state = 42, stratify= data.target, shuffle = True)\n",
        "\n",
        "x_train = torch.FloatTensor(x_train).to(device)\n",
        "y_train = torch.LongTensor(y_train).to(device)\n",
        "x_test = torch.FloatTensor(x_test)\n",
        "y_test = torch.LongTensor(y_test)\n",
        "\n",
        "# 데이터를 tensor로 바꿔주고 gpu 연산이 가능해지도록 gpu에 옮김\n",
        "# label 값을 왜 long 에 옮겨놓는가? loss function이 다르기 때문 "
      ],
      "metadata": {
        "id": "bLMzf-2ntYeX"
      },
      "execution_count": 124,
      "outputs": []
    },
    {
      "cell_type": "code",
      "source": [
        "y_test"
      ],
      "metadata": {
        "id": "ub1GZrUZj6AY",
        "colab": {
          "base_uri": "https://localhost:8080/"
        },
        "outputId": "aef8a3b8-03c4-4d79-aee2-e7ef902af1ae"
      },
      "execution_count": 125,
      "outputs": [
        {
          "output_type": "execute_result",
          "data": {
            "text/plain": [
              "tensor([0, 1, 0, 0, 0, 0, 2, 1, 1, 2, 1, 1, 2, 1, 0, 2, 1, 0, 2, 2, 1, 2, 2, 2,\n",
              "        1, 2, 0, 1, 0, 1, 0, 1, 2, 1, 1, 2, 1, 1, 1, 0, 2, 0, 0, 0, 0, 1, 1, 0,\n",
              "        2, 0, 1, 1, 2, 0])"
            ]
          },
          "metadata": {},
          "execution_count": 125
        }
      ]
    },
    {
      "cell_type": "code",
      "source": [
        "print(x_train[0])\n",
        "print(y_train[0])\n",
        "\n",
        "#input 13개 (속성이 13개)\n",
        "#y의 class는 3개"
      ],
      "metadata": {
        "colab": {
          "base_uri": "https://localhost:8080/"
        },
        "id": "umEdiTZkrVqS",
        "outputId": "40d55420-e201-4e02-e9f5-1a8caa0cc8bf"
      },
      "execution_count": 126,
      "outputs": [
        {
          "output_type": "stream",
          "name": "stdout",
          "text": [
            "tensor([1.3750e+01, 1.7300e+00, 2.4100e+00, 1.6000e+01, 8.9000e+01, 2.6000e+00,\n",
            "        2.7600e+00, 2.9000e-01, 1.8100e+00, 5.6000e+00, 1.1500e+00, 2.9000e+00,\n",
            "        1.3200e+03], device='cuda:0')\n",
            "tensor(0, device='cuda:0')\n"
          ]
        }
      ]
    },
    {
      "cell_type": "markdown",
      "source": [
        "파이토치에서는 데이터셋을 좀 더 쉽게 다룰 수 있도록 유용한 도구로서 torch.utils.data.Dataset과 torch.utils.data.DataLoader를 제공합니다. 이를 사용하면 미니 배치 학습, 데이터 셔플(shuffle), 병렬 처리까지 간단히 수행할 수 있습니다. 기본적인 사용 방법은 Dataset을 정의하고, 이를 DataLoader에 전달하는 것\n",
        "- init : class 에서 객체가 생성되면 바로 실행되는 함수\n",
        "- len : observation 수를 정의하는 함수\n",
        "- getitem : iteration 마다 해당하는 데이터를 돌려주는 함수"
      ],
      "metadata": {
        "id": "combmxzmYFyn"
      }
    },
    {
      "cell_type": "code",
      "source": [
        "from torch.utils.data import Dataset\n",
        "class CustomDataset(Dataset):\n",
        "  def __init__(self):\n",
        "    self.x_data = x_train\n",
        "    self.y_data = [[y] for y in y_train]\n",
        "#  데이터셋의 전처리를 해주는 부분\n",
        "\n",
        "  def __len__(self):\n",
        "    return len(self.x_data)\n",
        "#  데이터셋의 길이. 즉, 총 샘플의 수를 적어주는 부분\n",
        "\n",
        "  def __getitem__(self, idx):\n",
        "    x = torch.FloatTensor(self.x_data[idx]).to(device)\n",
        "    y = torch.LongTensor(self.y_data[idx]).to(device)\n",
        "#  데이터셋에서 특정 1개의 샘플을 가져오는 함수\n",
        "\n",
        "    return x,y"
      ],
      "metadata": {
        "id": "y38TlgXoqV5Z"
      },
      "execution_count": 127,
      "outputs": []
    },
    {
      "cell_type": "code",
      "source": [
        "batch_size = 8\n",
        "\n",
        "dataset = CustomDataset()\n",
        "dataloader = DataLoader(dataset, batch_size=batch_size) "
      ],
      "metadata": {
        "id": "x8VHwnuFqino"
      },
      "execution_count": 128,
      "outputs": []
    },
    {
      "cell_type": "markdown",
      "source": [
        "시도1. 기본 accuracy 0.94"
      ],
      "metadata": {
        "id": "bj1mGqyN58LZ"
      }
    },
    {
      "cell_type": "code",
      "source": [
        "# input_layer와 hidden_layer의 노드 개수를 어떻게 바꿔줘야할까? \n",
        "# hidden layer/neuron 수를 바꾸기\n",
        "\n",
        "model = nn.Sequential(\n",
        "          nn.Linear(13,100, bias=True), \n",
        "          nn.ReLU(),\n",
        "          nn.Linear(100,50, bias=True),\n",
        "          nn.ReLU(),\n",
        "          nn.Linear(50,10, bias=True), \n",
        "          nn.ReLU()\n",
        "          ).to(device)"
      ],
      "metadata": {
        "id": "C6V7a4tyq6Jc"
      },
      "execution_count": 167,
      "outputs": []
    },
    {
      "cell_type": "markdown",
      "source": [
        "class로 구현 가능\n",
        "- init : 초기 생성 함수\n",
        "- foward : 순전파(입력값 => 예측값 의 과정)"
      ],
      "metadata": {
        "id": "07uV8RY7Yr_5"
      }
    },
    {
      "cell_type": "code",
      "source": [
        "class Model(torch.nn.Module):\n",
        "\n",
        "  def __init__(self):\n",
        "    super(Model, self).__init__()\n",
        "    self.layer1 = nn.Sequential(\n",
        "          nn.Linear(13,100, bias=True), # input_layer = 30, hidden_layer1 = 398 \n",
        "          nn.ReLU(),\n",
        "          nn.BatchNorm1d(100)\n",
        "    )\n",
        "  # activation function 이용 \n",
        "  #   nn.ReLU()\n",
        "  #   nn.tanH()\n",
        "  #   https://pytorch.org/docs/stable/nn.html 그 외에도 여기서 확인 가능함 \n",
        "  #   파라미터가 필요하지 않다는 것이 특징\n",
        "\n",
        "  # batch normazliation 1d, 파라미터 값으로 vector의 길이를 전해줌\n",
        "  # 추후에 이미지를 다루게 된다면, 그때는 batch normalization 2d를 이용하게 됨 \n",
        "  # 그때는 파라미터 값으로 채널, 가로, 세로 길이를 전달해주게 됨 \n",
        "\n",
        "    self.layer2 = nn.Sequential(\n",
        "        nn.Linear(100,50, bias=True), \n",
        "        nn.ReLU()\n",
        "    )\n",
        "    self.layer3 = nn.Sequential(\n",
        "        nn.Linear(50,30, bias=True), \n",
        "        nn.ReLU()\n",
        "    )\n",
        "    self.layer4 = nn.Sequential(\n",
        "        nn.Linear(30,10, bias=True), \n",
        "        nn.Softmax()\n",
        "    )\n",
        "\n",
        "  def forward(self,x):\n",
        "    output = self.layer1(x)\n",
        "    output = self.layer2(output)\n",
        "    output = self.layer3(output)\n",
        "    output = self.layer4(output)\n",
        "    return output"
      ],
      "metadata": {
        "id": "a0zLstbMqxEZ"
      },
      "execution_count": 168,
      "outputs": []
    },
    {
      "cell_type": "code",
      "source": [
        "def init_weights(layer):\n",
        "    if isinstance(layer, nn.Linear):\n",
        "        torch.nn.init.xavier_uniform(layer.weight)\n",
        "        layer.bias.data.fill_(0.01)\n",
        "\n",
        "        #xavier사용\n",
        "        # Layer의 weight를 어떤 분포를 가지도록 초기화시켜줌+global minimum찾기 위해서"
      ],
      "metadata": {
        "id": "kqcqqkECrSGK"
      },
      "execution_count": 169,
      "outputs": []
    },
    {
      "cell_type": "code",
      "source": [
        "model = Model().to(device)\n",
        "model.apply(init_weights)"
      ],
      "metadata": {
        "colab": {
          "base_uri": "https://localhost:8080/"
        },
        "id": "oMDUBFg6rUpw",
        "outputId": "71dba231-faaa-42f1-c2d4-96aa71c124de"
      },
      "execution_count": 170,
      "outputs": [
        {
          "output_type": "stream",
          "name": "stderr",
          "text": [
            "<ipython-input-169-6196a47a4462>:3: UserWarning: nn.init.xavier_uniform is now deprecated in favor of nn.init.xavier_uniform_.\n",
            "  torch.nn.init.xavier_uniform(layer.weight)\n"
          ]
        },
        {
          "output_type": "execute_result",
          "data": {
            "text/plain": [
              "Model(\n",
              "  (layer1): Sequential(\n",
              "    (0): Linear(in_features=13, out_features=100, bias=True)\n",
              "    (1): ReLU()\n",
              "    (2): BatchNorm1d(100, eps=1e-05, momentum=0.1, affine=True, track_running_stats=True)\n",
              "  )\n",
              "  (layer2): Sequential(\n",
              "    (0): Linear(in_features=100, out_features=50, bias=True)\n",
              "    (1): ReLU()\n",
              "  )\n",
              "  (layer3): Sequential(\n",
              "    (0): Linear(in_features=50, out_features=30, bias=True)\n",
              "    (1): ReLU()\n",
              "  )\n",
              "  (layer4): Sequential(\n",
              "    (0): Linear(in_features=30, out_features=10, bias=True)\n",
              "    (1): Softmax(dim=None)\n",
              "  )\n",
              ")"
            ]
          },
          "metadata": {},
          "execution_count": 170
        }
      ]
    },
    {
      "cell_type": "code",
      "source": [
        "print(model)"
      ],
      "metadata": {
        "colab": {
          "base_uri": "https://localhost:8080/"
        },
        "id": "OwZt5CetrYFb",
        "outputId": "32065121-da59-4728-a3d3-4f484dabf9f5"
      },
      "execution_count": 171,
      "outputs": [
        {
          "output_type": "stream",
          "name": "stdout",
          "text": [
            "Model(\n",
            "  (layer1): Sequential(\n",
            "    (0): Linear(in_features=13, out_features=100, bias=True)\n",
            "    (1): ReLU()\n",
            "    (2): BatchNorm1d(100, eps=1e-05, momentum=0.1, affine=True, track_running_stats=True)\n",
            "  )\n",
            "  (layer2): Sequential(\n",
            "    (0): Linear(in_features=100, out_features=50, bias=True)\n",
            "    (1): ReLU()\n",
            "  )\n",
            "  (layer3): Sequential(\n",
            "    (0): Linear(in_features=50, out_features=30, bias=True)\n",
            "    (1): ReLU()\n",
            "  )\n",
            "  (layer4): Sequential(\n",
            "    (0): Linear(in_features=30, out_features=10, bias=True)\n",
            "    (1): Softmax(dim=None)\n",
            "  )\n",
            ")\n"
          ]
        }
      ]
    },
    {
      "cell_type": "code",
      "source": [
        "loss_fn  = nn.CrossEntropyLoss().to(device)\n",
        "\n",
        "# 여러가지 optimizer 시도해보기\n",
        "# lr 바꿔보기\n",
        "\n",
        "\n",
        "optimizer = optim.Adam(model.parameters(), lr= 0.01)\n",
        "\n",
        "# https://pytorch.org/docs/stable/optim.html#module-torch.optim 페이지 참조\n",
        "# optimizer = optim.SGD(model.parameters(), lr=0.1, momentum=0.9)\n",
        "# sgd 등등"
      ],
      "metadata": {
        "id": "AYFp-eTErh7b"
      },
      "execution_count": 172,
      "outputs": []
    },
    {
      "cell_type": "code",
      "source": [
        "losses = []\n",
        "for epoch in range(100):\n",
        "\n",
        "  optimizer.zero_grad()\n",
        "  hypothesis = model(x_train)\n",
        "\n",
        "  # 비용 함수\n",
        "  cost = loss_fn(hypothesis, y_train)\n",
        "  cost.backward()\n",
        "  optimizer.step()\n",
        "  losses.append(cost.item())\n",
        "\n",
        "  if epoch % 10 == 0:\n",
        "    print(epoch, cost.item())"
      ],
      "metadata": {
        "colab": {
          "base_uri": "https://localhost:8080/"
        },
        "id": "90QxHvlIrjS7",
        "outputId": "0239985c-87ee-4ae7-da1f-2eba82d374ae"
      },
      "execution_count": 173,
      "outputs": [
        {
          "output_type": "stream",
          "name": "stderr",
          "text": [
            "/usr/local/lib/python3.8/dist-packages/torch/nn/modules/container.py:204: UserWarning: Implicit dimension choice for softmax has been deprecated. Change the call to include dim=X as an argument.\n",
            "  input = module(input)\n"
          ]
        },
        {
          "output_type": "stream",
          "name": "stdout",
          "text": [
            "0 2.330634832382202\n",
            "10 1.776344895362854\n",
            "20 1.773117184638977\n",
            "30 1.7590594291687012\n",
            "40 1.6407513618469238\n",
            "50 1.520797848701477\n",
            "60 1.5044705867767334\n",
            "70 1.501348853111267\n",
            "80 1.487017273902893\n",
            "90 1.4769426584243774\n"
          ]
        }
      ]
    },
    {
      "cell_type": "code",
      "source": [
        "plt.plot(losses)\n",
        "plt.show()"
      ],
      "metadata": {
        "colab": {
          "base_uri": "https://localhost:8080/",
          "height": 265
        },
        "id": "81ASYrW7roFM",
        "outputId": "1c580383-55e5-4454-9743-ad75d94769d3"
      },
      "execution_count": 174,
      "outputs": [
        {
          "output_type": "display_data",
          "data": {
            "text/plain": [
              "<Figure size 432x288 with 1 Axes>"
            ],
            "image/png": "[encoded data removed]"
          },
          "metadata": {
            "needs_background": "light"
          }
        }
      ]
    },
    {
      "cell_type": "code",
      "source": [
        "with torch.no_grad():\n",
        "  model = model.to('cpu')\n",
        "  y_pred = model(x_test)\n",
        "  y_pred = y_pred.detach().numpy()\n",
        "  predicted = np.argmax(y_pred, axis =1)\n",
        "  accuracy = (accuracy_score(predicted, y_test))"
      ],
      "metadata": {
        "id": "h4kJzpLErqhZ"
      },
      "execution_count": 175,
      "outputs": []
    },
    {
      "cell_type": "code",
      "source": [
        "print(f'model의 output은 :  {y_pred[0]}')\n",
        "print(f'argmax를 한 후의 output은 {predicted[0]}')\n",
        "print(f'accuracy는 {accuracy}')"
      ],
      "metadata": {
        "colab": {
          "base_uri": "https://localhost:8080/"
        },
        "id": "vyIKhs3Nr6Ay",
        "outputId": "9892d280-d02f-4183-8a39-375ccb0c7aa9"
      },
      "execution_count": 176,
      "outputs": [
        {
          "output_type": "stream",
          "name": "stdout",
          "text": [
            "model의 output은 :  [9.9999964e-01 4.0861889e-07 3.7456938e-13 5.3788350e-15 6.3601653e-17\n",
            " 4.7630662e-19 1.1134284e-16 6.3459615e-25 2.6911413e-18 1.4716496e-20]\n",
            "argmax를 한 후의 output은 0\n",
            "accuracy는 0.9444444444444444\n"
          ]
        }
      ]
    },
    {
      "cell_type": "markdown",
      "source": [
        "시도2. optimizer 변경 accuracy 0.7"
      ],
      "metadata": {
        "id": "avjux_ff6YQS"
      }
    },
    {
      "cell_type": "code",
      "source": [
        "model = nn.Sequential(\n",
        "          nn.Linear(13,100, bias=True), \n",
        "          nn.ReLU(),\n",
        "          nn.Linear(100,50, bias=True),\n",
        "          nn.ReLU(),\n",
        "          nn.Linear(50,10, bias=True), \n",
        "          nn.ReLU()\n",
        "          ).to(device)"
      ],
      "metadata": {
        "id": "KMeOfabM7Isl"
      },
      "execution_count": 149,
      "outputs": []
    },
    {
      "cell_type": "code",
      "source": [
        "class Model(torch.nn.Module):\n",
        "\n",
        "  def __init__(self):\n",
        "    super(Model, self).__init__()\n",
        "    self.layer1 = nn.Sequential(\n",
        "          nn.Linear(13,100, bias=True),  \n",
        "          nn.ReLU(),\n",
        "          nn.BatchNorm1d(100)\n",
        "    )\n",
        "    self.layer2 = nn.Sequential(\n",
        "        nn.Linear(100,50, bias=True), \n",
        "        nn.ReLU()\n",
        "    )\n",
        "    self.layer3 = nn.Sequential(\n",
        "        nn.Linear(50,30, bias=True), \n",
        "        nn.ReLU()\n",
        "    )\n",
        "    self.layer4 = nn.Sequential(\n",
        "        nn.Linear(30,10, bias=True), \n",
        "        nn.Softmax()\n",
        "    )\n",
        "\n",
        "  def forward(self,x):\n",
        "    output = self.layer1(x)\n",
        "    output = self.layer2(output)\n",
        "    output = self.layer3(output)\n",
        "    output = self.layer4(output)\n",
        "    return output"
      ],
      "metadata": {
        "id": "YSHg7VHN7Iv8"
      },
      "execution_count": 150,
      "outputs": []
    },
    {
      "cell_type": "code",
      "source": [
        "def init_weights(layer):\n",
        "    if isinstance(layer, nn.Linear):\n",
        "        torch.nn.init.xavier_uniform(layer.weight)\n",
        "        layer.bias.data.fill_(0.01)"
      ],
      "metadata": {
        "id": "GDHDdluW7IyK"
      },
      "execution_count": 151,
      "outputs": []
    },
    {
      "cell_type": "code",
      "source": [
        "model = Model().to(device)\n",
        "model.apply(init_weights)"
      ],
      "metadata": {
        "colab": {
          "base_uri": "https://localhost:8080/"
        },
        "id": "807FOnik7Pog",
        "outputId": "ac778528-d3e4-4e4b-ca3d-cad0043cd8b9"
      },
      "execution_count": 152,
      "outputs": [
        {
          "output_type": "stream",
          "name": "stderr",
          "text": [
            "<ipython-input-151-6dcf2c5a1d5c>:3: UserWarning: nn.init.xavier_uniform is now deprecated in favor of nn.init.xavier_uniform_.\n",
            "  torch.nn.init.xavier_uniform(layer.weight)\n"
          ]
        },
        {
          "output_type": "execute_result",
          "data": {
            "text/plain": [
              "Model(\n",
              "  (layer1): Sequential(\n",
              "    (0): Linear(in_features=13, out_features=100, bias=True)\n",
              "    (1): ReLU()\n",
              "    (2): BatchNorm1d(100, eps=1e-05, momentum=0.1, affine=True, track_running_stats=True)\n",
              "  )\n",
              "  (layer2): Sequential(\n",
              "    (0): Linear(in_features=100, out_features=50, bias=True)\n",
              "    (1): ReLU()\n",
              "  )\n",
              "  (layer3): Sequential(\n",
              "    (0): Linear(in_features=50, out_features=30, bias=True)\n",
              "    (1): ReLU()\n",
              "  )\n",
              "  (layer4): Sequential(\n",
              "    (0): Linear(in_features=30, out_features=10, bias=True)\n",
              "    (1): Softmax(dim=None)\n",
              "  )\n",
              ")"
            ]
          },
          "metadata": {},
          "execution_count": 152
        }
      ]
    },
    {
      "cell_type": "code",
      "source": [
        "loss_fn  = nn.CrossEntropyLoss().to(device)\n",
        "optimizer = optim.SGD(model.parameters(), lr=0.1, momentum=0.9)"
      ],
      "metadata": {
        "id": "pRS0IH_A6Ymi"
      },
      "execution_count": 153,
      "outputs": []
    },
    {
      "cell_type": "code",
      "source": [
        "losses = []\n",
        "for epoch in range(100):\n",
        "\n",
        "  optimizer.zero_grad()\n",
        "  hypothesis = model(x_train)\n",
        "\n",
        "  # 비용 함수\n",
        "  cost = loss_fn(hypothesis, y_train)\n",
        "  cost.backward()\n",
        "  optimizer.step()\n",
        "  losses.append(cost.item())\n",
        "\n",
        "  if epoch % 10 == 0:\n",
        "    print(epoch, cost.item())"
      ],
      "metadata": {
        "colab": {
          "base_uri": "https://localhost:8080/"
        },
        "id": "OSFGBkf46Ypv",
        "outputId": "b1c3d9ef-b6b0-4160-c52c-41c4e6f9a8ba"
      },
      "execution_count": 154,
      "outputs": [
        {
          "output_type": "stream",
          "name": "stdout",
          "text": [
            "0 2.2993271350860596\n",
            "10 1.9644886255264282\n",
            "20 1.7780237197875977\n",
            "30 1.7749029397964478\n",
            "40 1.774895191192627\n",
            "50 1.7747796773910522\n",
            "60 1.7744216918945312\n",
            "70 1.7740567922592163\n",
            "80 1.7735406160354614\n",
            "90 1.7728630304336548\n"
          ]
        },
        {
          "output_type": "stream",
          "name": "stderr",
          "text": [
            "/usr/local/lib/python3.8/dist-packages/torch/nn/modules/container.py:204: UserWarning: Implicit dimension choice for softmax has been deprecated. Change the call to include dim=X as an argument.\n",
            "  input = module(input)\n"
          ]
        }
      ]
    },
    {
      "cell_type": "code",
      "source": [
        "plt.plot(losses)\n",
        "plt.show()"
      ],
      "metadata": {
        "colab": {
          "base_uri": "https://localhost:8080/",
          "height": 265
        },
        "id": "YHey0iOC6n5l",
        "outputId": "f02bcad3-44f5-44e6-9d22-05536d014695"
      },
      "execution_count": 155,
      "outputs": [
        {
          "output_type": "display_data",
          "data": {
            "text/plain": [
              "<Figure size 432x288 with 1 Axes>"
            ],
            "image/png": "[encoded data removed]"
          },
          "metadata": {
            "needs_background": "light"
          }
        }
      ]
    },
    {
      "cell_type": "code",
      "source": [
        "with torch.no_grad():\n",
        "  model = model.to('cpu')\n",
        "  y_pred = model(x_test)\n",
        "  y_pred = y_pred.detach().numpy()\n",
        "  predicted = np.argmax(y_pred, axis =1)\n",
        "  accuracy = (accuracy_score(predicted, y_test))"
      ],
      "metadata": {
        "id": "MzUF3vtq6n8x"
      },
      "execution_count": 156,
      "outputs": []
    },
    {
      "cell_type": "code",
      "source": [
        "print(f'model의 output은 :  {y_pred[0]}')\n",
        "print(f'argmax를 한 후의 output은 {predicted[0]}')\n",
        "print(f'accuracy는 {accuracy}')"
      ],
      "metadata": {
        "colab": {
          "base_uri": "https://localhost:8080/"
        },
        "id": "AZsnekL26oAe",
        "outputId": "df2abdac-333b-4aa7-b47d-70f87904a85a"
      },
      "execution_count": 157,
      "outputs": [
        {
          "output_type": "stream",
          "name": "stdout",
          "text": [
            "model의 output은 :  [1.0000000e+00 2.2196614e-17 1.3128269e-22 6.8329756e-23 7.3602956e-25\n",
            " 1.7970178e-22 8.2333747e-23 5.4415989e-22 1.5824631e-26 3.4847828e-22]\n",
            "argmax를 한 후의 output은 0\n",
            "accuracy는 0.7037037037037037\n"
          ]
        }
      ]
    },
    {
      "cell_type": "markdown",
      "source": [
        "시도3. hidden layer/neuron 수 변경 accuracy 0.7"
      ],
      "metadata": {
        "id": "HmpweSri7g_p"
      }
    },
    {
      "cell_type": "code",
      "source": [
        "model = nn.Sequential(\n",
        "          nn.Linear(13,300, bias=True), \n",
        "          nn.ReLU(),\n",
        "          nn.Linear(300,200, bias=True),\n",
        "          nn.ReLU(),\n",
        "          nn.Linear(200,100, bias=True), \n",
        "          nn.ReLU(),\n",
        "          nn.Linear(100,30, bias=True), \n",
        "          nn.ReLU()\n",
        "          \n",
        "          ).to(device)"
      ],
      "metadata": {
        "id": "QaD8z97k6oDl"
      },
      "execution_count": 158,
      "outputs": []
    },
    {
      "cell_type": "code",
      "source": [
        "class Model(torch.nn.Module):\n",
        "\n",
        "  def __init__(self):\n",
        "    super(Model, self).__init__()\n",
        "    self.layer1 = nn.Sequential(\n",
        "          nn.Linear(13,300, bias=True), \n",
        "          nn.ReLU(),\n",
        "          nn.BatchNorm1d(300)\n",
        "    )\n",
        "    self.layer2 = nn.Sequential(\n",
        "        nn.Linear(300,200, bias=True), \n",
        "        nn.ReLU()\n",
        "    )\n",
        "    self.layer3 = nn.Sequential(\n",
        "        nn.Linear(200,100, bias=True), \n",
        "        nn.ReLU()\n",
        "    )\n",
        "    self.layer4 = nn.Sequential(\n",
        "        nn.Linear(100,30, bias=True), \n",
        "        nn.Softmax()\n",
        "    )\n",
        "\n",
        "  def forward(self,x):\n",
        "    output = self.layer1(x)\n",
        "    output = self.layer2(output)\n",
        "    output = self.layer3(output)\n",
        "    output = self.layer4(output)\n",
        "    return output"
      ],
      "metadata": {
        "id": "h1mncnKZ6YtJ"
      },
      "execution_count": 159,
      "outputs": []
    },
    {
      "cell_type": "code",
      "source": [
        "def init_weights(layer):\n",
        "    if isinstance(layer, nn.Linear):\n",
        "        torch.nn.init.xavier_uniform(layer.weight)\n",
        "        layer.bias.data.fill_(0.01)"
      ],
      "metadata": {
        "id": "0tCf4OB08-PQ"
      },
      "execution_count": 160,
      "outputs": []
    },
    {
      "cell_type": "code",
      "source": [
        "model = Model().to(device)\n",
        "model.apply(init_weights)"
      ],
      "metadata": {
        "colab": {
          "base_uri": "https://localhost:8080/"
        },
        "id": "pBS8ZL6t8-Rc",
        "outputId": "264e82d5-cffc-4970-8c80-4bfa11a820ba"
      },
      "execution_count": 161,
      "outputs": [
        {
          "output_type": "stream",
          "name": "stderr",
          "text": [
            "<ipython-input-160-6dcf2c5a1d5c>:3: UserWarning: nn.init.xavier_uniform is now deprecated in favor of nn.init.xavier_uniform_.\n",
            "  torch.nn.init.xavier_uniform(layer.weight)\n"
          ]
        },
        {
          "output_type": "execute_result",
          "data": {
            "text/plain": [
              "Model(\n",
              "  (layer1): Sequential(\n",
              "    (0): Linear(in_features=13, out_features=300, bias=True)\n",
              "    (1): ReLU()\n",
              "    (2): BatchNorm1d(300, eps=1e-05, momentum=0.1, affine=True, track_running_stats=True)\n",
              "  )\n",
              "  (layer2): Sequential(\n",
              "    (0): Linear(in_features=300, out_features=200, bias=True)\n",
              "    (1): ReLU()\n",
              "  )\n",
              "  (layer3): Sequential(\n",
              "    (0): Linear(in_features=200, out_features=100, bias=True)\n",
              "    (1): ReLU()\n",
              "  )\n",
              "  (layer4): Sequential(\n",
              "    (0): Linear(in_features=100, out_features=30, bias=True)\n",
              "    (1): Softmax(dim=None)\n",
              "  )\n",
              ")"
            ]
          },
          "metadata": {},
          "execution_count": 161
        }
      ]
    },
    {
      "cell_type": "code",
      "source": [
        "loss_fn  = nn.CrossEntropyLoss().to(device)\n",
        "optimizer = optim.Adam(model.parameters(), lr= 0.01)"
      ],
      "metadata": {
        "id": "kjpLCi4Z8-Tx"
      },
      "execution_count": 162,
      "outputs": []
    },
    {
      "cell_type": "code",
      "source": [
        "losses = []\n",
        "for epoch in range(100):\n",
        "\n",
        "  optimizer.zero_grad()\n",
        "  hypothesis = model(x_train)\n",
        "\n",
        "  # 비용 함수\n",
        "  cost = loss_fn(hypothesis, y_train)\n",
        "  cost.backward()\n",
        "  optimizer.step()\n",
        "  losses.append(cost.item())\n",
        "\n",
        "  if epoch % 10 == 0:\n",
        "    print(epoch, cost.item())"
      ],
      "metadata": {
        "colab": {
          "base_uri": "https://localhost:8080/"
        },
        "id": "6lV4TE_o8-XH",
        "outputId": "d93c9ea7-72b6-43ce-d4f0-3309cd973fd3"
      },
      "execution_count": 163,
      "outputs": [
        {
          "output_type": "stream",
          "name": "stderr",
          "text": [
            "/usr/local/lib/python3.8/dist-packages/torch/nn/modules/container.py:204: UserWarning: Implicit dimension choice for softmax has been deprecated. Change the call to include dim=X as an argument.\n",
            "  input = module(input)\n"
          ]
        },
        {
          "output_type": "stream",
          "name": "stdout",
          "text": [
            "0 3.3955204486846924\n",
            "10 2.771425485610962\n",
            "20 2.7712111473083496\n",
            "30 2.771358013153076\n",
            "40 2.7712039947509766\n",
            "50 2.77112078666687\n",
            "60 2.7556064128875732\n",
            "70 2.7559244632720947\n",
            "80 2.75531268119812\n",
            "90 2.75528621673584\n"
          ]
        }
      ]
    },
    {
      "cell_type": "code",
      "source": [
        "plt.plot(losses)\n",
        "plt.show()"
      ],
      "metadata": {
        "colab": {
          "base_uri": "https://localhost:8080/",
          "height": 265
        },
        "id": "JjdvZRwX6YwA",
        "outputId": "a4c0345f-17d8-4d60-a9de-d60b61ac4ef9"
      },
      "execution_count": 164,
      "outputs": [
        {
          "output_type": "display_data",
          "data": {
            "text/plain": [
              "<Figure size 432x288 with 1 Axes>"
            ],
            "image/png": "[encoded data removed]"
          },
          "metadata": {
            "needs_background": "light"
          }
        }
      ]
    },
    {
      "cell_type": "code",
      "source": [
        "with torch.no_grad():\n",
        "  model = model.to('cpu')\n",
        "  y_pred = model(x_test)\n",
        "  y_pred = y_pred.detach().numpy()\n",
        "  predicted = np.argmax(y_pred, axis =1)\n",
        "  accuracy = (accuracy_score(predicted, y_test))"
      ],
      "metadata": {
        "id": "yMb7NXVf9HSN"
      },
      "execution_count": 165,
      "outputs": []
    },
    {
      "cell_type": "code",
      "source": [
        "print(f'model의 output은 :  {y_pred[0]}')\n",
        "print(f'argmax를 한 후의 output은 {predicted[0]}')\n",
        "print(f'accuracy는 {accuracy}')"
      ],
      "metadata": {
        "colab": {
          "base_uri": "https://localhost:8080/"
        },
        "id": "6QVDOKbI9HWS",
        "outputId": "117fd07b-2557-4192-b824-43fdb04ee204"
      },
      "execution_count": 166,
      "outputs": [
        {
          "output_type": "stream",
          "name": "stdout",
          "text": [
            "model의 output은 :  [1. 0. 0. 0. 0. 0. 0. 0. 0. 0. 0. 0. 0. 0. 0. 0. 0. 0. 0. 0. 0. 0. 0. 0.\n",
            " 0. 0. 0. 0. 0. 0.]\n",
            "argmax를 한 후의 output은 0\n",
            "accuracy는 0.7037037037037037\n"
          ]
        }
      ]
    },
    {
      "cell_type": "markdown",
      "source": [
        "# < 3주차 과제 2 : CNN 맛보기>"
      ],
      "metadata": {
        "id": "3RzRM7xThZV_"
      }
    },
    {
      "cell_type": "code",
      "source": [
        "from __future__ import print_function\n",
        "import argparse\n",
        "import torch\n",
        "import torch.nn as nn\n",
        "import torch.nn.functional as F\n",
        "import torch.optim as optim\n",
        "from torchvision import datasets, transforms\n",
        "from torch.autograd import Variable"
      ],
      "metadata": {
        "id": "56xqgtLxhZw6"
      },
      "execution_count": 177,
      "outputs": []
    },
    {
      "cell_type": "code",
      "source": [
        "# Training settings\n",
        "\n",
        "batch_size = 64\n",
        "\n",
        "# MNIST Dataset\n",
        "train_dataset = datasets.MNIST(root='./data/',\n",
        "                               train=True,\n",
        "                               transform=transforms.ToTensor(),\n",
        "                               download=True)\n",
        "\n",
        "test_dataset = datasets.MNIST(root='./data/',\n",
        "                              train=False,\n",
        "                              transform=transforms.ToTensor())\n",
        "\n",
        "# Data Loader (Input Pipeline)\n",
        "train_loader = torch.utils.data.DataLoader(dataset=train_dataset,\n",
        "                                           batch_size=batch_size,\n",
        "                                           shuffle=True)\n",
        "\n",
        "test_loader = torch.utils.data.DataLoader(dataset=test_dataset,\n",
        "                                          batch_size=batch_size,\n",
        "                                          shuffle=False)"
      ],
      "metadata": {
        "id": "TzkF2bFNhcQ2",
        "colab": {
          "base_uri": "https://localhost:8080/",
          "height": 435,
          "referenced_widgets": [
            "b3767642fc0b46ab8553bafd3ec0188a",
            "33c5149f0c634686a1ab3e3f1b403c18",
            "354d96bec11f4a1fb781b2112fd331dd",
            "ebb2e0af36f04e318b68306266159603",
            "58d5b1b3360547cda893ec9df9ad822e",
            "74f01fa39c0d4b0597864bc1c9ccb54a",
            "bc0125ab4026424196f17606509e0ac6",
            "680d5c500b9544e2a6846111ae2e8b41",
            "f6e566d786ac415eb975c38a505c25f1",
            "b514309fcef648c7b5c068e64c584906",
            "40de3b98376043d6894f2eb2f9ce27bf",
            "92b4ada80e5e4c87ac6197cdf65d3c19",
            "5f8d1172f3264ead8ad56b598bff04d3",
            "793ab27796f04e26b047e8c8e2711ab1",
            "28083c5a328042a8be4e6e447983beaa",
            "4bd5c98f458a4d658649cf6ecfb91bb4",
            "413bebba1de8421eb427e24eab474b53",
            "47d7e483d1054eccac38060dd5738d2c",
            "d18691c3dd3342cc9438c15d64111894",
            "ab210077805a461c89a9490535d8f0bd",
            "33818ee228ab44ba928f0eef4a07e3a5",
            "26f178ffb0e0478e81ceda9c3fecd830",
            "08364a0be5a8410fb313764e7b491845",
            "96ed7b21ca654b4480d5b8c85776a8b8",
            "d7ad8398873a4e198eed4832f179128d",
            "9ec5fd05abc44691b5b3d0cd460f8d57",
            "22765076d68c43da87a537f84b066339",
            "ea0be06a23074867aada1f6391be16af",
            "385361b3b56b45c8b81faaa19ec9757e",
            "fd3ba4fabb3d4fcc9169a3b8a40ed562",
            "4d8f7d603d094cd48e797f9da6b17236",
            "0ddb969e35054dd991d4530384d6ef27",
            "a020329fe79e407b98b4a893d5b2d3a1",
            "b1dfe314fc134cc1876bb6e8328583fc",
            "cd95de8cc8a54a15ab2efce605caab55",
            "7d73cbf0c8d44b1e9c2383e6ff764c97",
            "78fcea1ce5a44e91a7c645d4d068c328",
            "fd4788f5c234461192c8ba0330ba9443",
            "feb37cd5f257442d9d2bcaa68d88bebf",
            "e939f5fc7e194b80820187e5673647b7",
            "c18a607bed5c4ab49ed6df79f0257f17",
            "5c11275b123740bcba40f7fe3414f7cd",
            "1967a43e099b466e9d181bfd007b06b8",
            "cfad94c7189244d888e9df196c2172a5"
          ]
        },
        "outputId": "7a0ea699-6ce0-4d4e-ccdd-621fd5c1f843"
      },
      "execution_count": 178,
      "outputs": [
        {
          "output_type": "stream",
          "name": "stdout",
          "text": [
            "Downloading http://yann.lecun.com/exdb/mnist/train-images-idx3-ubyte.gz\n",
            "Downloading http://yann.lecun.com/exdb/mnist/train-images-idx3-ubyte.gz to ./data/MNIST/raw/train-images-idx3-ubyte.gz\n"
          ]
        },
        {
          "output_type": "display_data",
          "data": {
            "text/plain": [
              "  0%|          | 0/9912422 [00:00<?, ?it/s]"
            ],
            "application/vnd.jupyter.widget-view+json": {
              "version_major": 2,
              "version_minor": 0,
              "model_id": "b3767642fc0b46ab8553bafd3ec0188a"
            }
          },
          "metadata": {}
        },
        {
          "output_type": "stream",
          "name": "stdout",
          "text": [
            "Extracting ./data/MNIST/raw/train-images-idx3-ubyte.gz to ./data/MNIST/raw\n",
            "\n",
            "Downloading http://yann.lecun.com/exdb/mnist/train-labels-idx1-ubyte.gz\n",
            "Downloading http://yann.lecun.com/exdb/mnist/train-labels-idx1-ubyte.gz to ./data/MNIST/raw/train-labels-idx1-ubyte.gz\n"
          ]
        },
        {
          "output_type": "display_data",
          "data": {
            "text/plain": [
              "  0%|          | 0/28881 [00:00<?, ?it/s]"
            ],
            "application/vnd.jupyter.widget-view+json": {
              "version_major": 2,
              "version_minor": 0,
              "model_id": "92b4ada80e5e4c87ac6197cdf65d3c19"
            }
          },
          "metadata": {}
        },
        {
          "output_type": "stream",
          "name": "stdout",
          "text": [
            "Extracting ./data/MNIST/raw/train-labels-idx1-ubyte.gz to ./data/MNIST/raw\n",
            "\n",
            "Downloading http://yann.lecun.com/exdb/mnist/t10k-images-idx3-ubyte.gz\n",
            "Downloading http://yann.lecun.com/exdb/mnist/t10k-images-idx3-ubyte.gz to ./data/MNIST/raw/t10k-images-idx3-ubyte.gz\n"
          ]
        },
        {
          "output_type": "display_data",
          "data": {
            "text/plain": [
              "  0%|          | 0/1648877 [00:00<?, ?it/s]"
            ],
            "application/vnd.jupyter.widget-view+json": {
              "version_major": 2,
              "version_minor": 0,
              "model_id": "08364a0be5a8410fb313764e7b491845"
            }
          },
          "metadata": {}
        },
        {
          "output_type": "stream",
          "name": "stdout",
          "text": [
            "Extracting ./data/MNIST/raw/t10k-images-idx3-ubyte.gz to ./data/MNIST/raw\n",
            "\n",
            "Downloading http://yann.lecun.com/exdb/mnist/t10k-labels-idx1-ubyte.gz\n",
            "Downloading http://yann.lecun.com/exdb/mnist/t10k-labels-idx1-ubyte.gz to ./data/MNIST/raw/t10k-labels-idx1-ubyte.gz\n"
          ]
        },
        {
          "output_type": "display_data",
          "data": {
            "text/plain": [
              "  0%|          | 0/4542 [00:00<?, ?it/s]"
            ],
            "application/vnd.jupyter.widget-view+json": {
              "version_major": 2,
              "version_minor": 0,
              "model_id": "b1dfe314fc134cc1876bb6e8328583fc"
            }
          },
          "metadata": {}
        },
        {
          "output_type": "stream",
          "name": "stdout",
          "text": [
            "Extracting ./data/MNIST/raw/t10k-labels-idx1-ubyte.gz to ./data/MNIST/raw\n",
            "\n"
          ]
        }
      ]
    },
    {
      "cell_type": "code",
      "source": [
        "class Net(nn.Module):\n",
        "  def __init__(self):\n",
        "    super(Net, self).__init__()\n",
        "    self.conv1 = nn.Conv2d(1, 10, kernel_size = 5)\n",
        "    self.conv2 = nn.Conv2d(10, 20, kernel_size = 5)\n",
        "    self.mp = nn.MaxPool2d(2)\n",
        "    self.fc = nn.Linear(320 , 10) \n",
        "\n",
        "  def forward(self, x):\n",
        "    in_size = x.size(0)\n",
        "    x = F.relu(self.mp(self.conv1(x)))\n",
        "    x = F.relu(self.mp(self.conv2(x)))\n",
        "    x = x.view(in_size, -1)\n",
        "    x = self.fc(x)\n",
        "    return F.log_softmax(x)"
      ],
      "metadata": {
        "id": "tLCSvgganBrH"
      },
      "execution_count": 179,
      "outputs": []
    },
    {
      "cell_type": "code",
      "source": [
        "model = Net()\n",
        "optimizer = optim.SGD(model.parameters(), lr = 0.01, momentum = 0.5)"
      ],
      "metadata": {
        "id": "lkYZ4pUdnUHc"
      },
      "execution_count": 180,
      "outputs": []
    },
    {
      "cell_type": "code",
      "source": [
        "def train(epoch):\n",
        "  model.train()\n",
        "  for batch_idx, (data, target) in enumerate(train_loader):\n",
        "    data, target = Variable(data), Variable(target)\n",
        "    optimizer.zero_grad()\n",
        "    output = model(data)\n",
        "    loss = F.nll_loss(output, target)\n",
        "    loss.backward()\n",
        "    optimizer.step()\n",
        "    if batch_idx % 10 == 0:\n",
        "      print('Train Epoch: {} [{}/{} ({:.0f}%)]\\tLoss: {:.6f}'.format(\n",
        "          epoch, batch_idx * len(data), len(train_loader.dataset),\n",
        "          100. * batch_idx / len(train_loader), loss.item()))"
      ],
      "metadata": {
        "id": "IzUrEM3EnXJb"
      },
      "execution_count": 181,
      "outputs": []
    },
    {
      "cell_type": "code",
      "source": [
        "def test():\n",
        "    model.eval() #model.eval() 의 기능은? evaluation 과정에서 다르게 동작하는 모델의 일부 layer들에 대한 스위치 역할\n",
        "    test_loss = 0\n",
        "    correct = 0\n",
        "    for data, target in test_loader:\n",
        "        data, target = Variable(data, volatile=True), Variable(target)\n",
        "        output = model(data)\n",
        "        test_loss += F.nll_loss(output, target, size_average=False).data # nll_loss?? / cross entropy loss와의 관계 확인!\n",
        "        pred = output.data.max(1, keepdim=True)[1]\n",
        "        correct += pred.eq(target.data.view_as(pred)).cpu().sum()\n",
        "\n",
        "    test_loss /= len(test_loader.dataset)\n",
        "    print('\\nTest set: Average loss: {:.4f}, Accuracy: {}/{} ({:.0f}%)\\n'.format(\n",
        "        test_loss, correct, len(test_loader.dataset),\n",
        "        100. * correct / len(test_loader.dataset)))"
      ],
      "metadata": {
        "id": "EFi0gYJGn2aa"
      },
      "execution_count": 182,
      "outputs": []
    },
    {
      "cell_type": "code",
      "source": [
        "for epoch in range(1, 10):\n",
        "    train(epoch)\n",
        "    test()"
      ],
      "metadata": {
        "id": "zSvSZb_Bn4Nx",
        "colab": {
          "base_uri": "https://localhost:8080/"
        },
        "outputId": "f32a325a-ce07-451a-9bef-0128f11fa141"
      },
      "execution_count": 183,
      "outputs": [
        {
          "output_type": "stream",
          "name": "stderr",
          "text": [
            "<ipython-input-179-8ac542bfdccc>:15: UserWarning: Implicit dimension choice for log_softmax has been deprecated. Change the call to include dim=X as an argument.\n",
            "  return F.log_softmax(x)\n"
          ]
        },
        {
          "output_type": "stream",
          "name": "stdout",
          "text": [
            "Train Epoch: 1 [0/60000 (0%)]\tLoss: 2.295727\n",
            "Train Epoch: 1 [640/60000 (1%)]\tLoss: 2.279011\n",
            "Train Epoch: 1 [1280/60000 (2%)]\tLoss: 2.273411\n",
            "Train Epoch: 1 [1920/60000 (3%)]\tLoss: 2.264892\n",
            "Train Epoch: 1 [2560/60000 (4%)]\tLoss: 2.244670\n",
            "Train Epoch: 1 [3200/60000 (5%)]\tLoss: 2.205475\n",
            "Train Epoch: 1 [3840/60000 (6%)]\tLoss: 2.195847\n",
            "Train Epoch: 1 [4480/60000 (7%)]\tLoss: 2.105964\n",
            "Train Epoch: 1 [5120/60000 (9%)]\tLoss: 2.039676\n",
            "Train Epoch: 1 [5760/60000 (10%)]\tLoss: 1.913900\n",
            "Train Epoch: 1 [6400/60000 (11%)]\tLoss: 1.670745\n",
            "Train Epoch: 1 [7040/60000 (12%)]\tLoss: 1.492746\n",
            "Train Epoch: 1 [7680/60000 (13%)]\tLoss: 1.142487\n",
            "Train Epoch: 1 [8320/60000 (14%)]\tLoss: 1.079685\n",
            "Train Epoch: 1 [8960/60000 (15%)]\tLoss: 0.712931\n",
            "Train Epoch: 1 [9600/60000 (16%)]\tLoss: 0.789612\n",
            "Train Epoch: 1 [10240/60000 (17%)]\tLoss: 0.653268\n",
            "Train Epoch: 1 [10880/60000 (18%)]\tLoss: 0.662598\n",
            "Train Epoch: 1 [11520/60000 (19%)]\tLoss: 0.667593\n",
            "Train Epoch: 1 [12160/60000 (20%)]\tLoss: 0.469316\n",
            "Train Epoch: 1 [12800/60000 (21%)]\tLoss: 0.561478\n",
            "Train Epoch: 1 [13440/60000 (22%)]\tLoss: 0.584229\n",
            "Train Epoch: 1 [14080/60000 (23%)]\tLoss: 0.480812\n",
            "Train Epoch: 1 [14720/60000 (25%)]\tLoss: 0.336134\n",
            "Train Epoch: 1 [15360/60000 (26%)]\tLoss: 0.469795\n",
            "Train Epoch: 1 [16000/60000 (27%)]\tLoss: 0.691836\n",
            "Train Epoch: 1 [16640/60000 (28%)]\tLoss: 0.618986\n",
            "Train Epoch: 1 [17280/60000 (29%)]\tLoss: 0.402373\n",
            "Train Epoch: 1 [17920/60000 (30%)]\tLoss: 0.503831\n",
            "Train Epoch: 1 [18560/60000 (31%)]\tLoss: 0.385415\n",
            "Train Epoch: 1 [19200/60000 (32%)]\tLoss: 0.584585\n",
            "Train Epoch: 1 [19840/60000 (33%)]\tLoss: 0.476480\n",
            "Train Epoch: 1 [20480/60000 (34%)]\tLoss: 0.454261\n",
            "Train Epoch: 1 [21120/60000 (35%)]\tLoss: 0.491987\n",
            "Train Epoch: 1 [21760/60000 (36%)]\tLoss: 0.375636\n",
            "Train Epoch: 1 [22400/60000 (37%)]\tLoss: 0.544582\n",
            "Train Epoch: 1 [23040/60000 (38%)]\tLoss: 0.486571\n",
            "Train Epoch: 1 [23680/60000 (39%)]\tLoss: 0.372797\n",
            "Train Epoch: 1 [24320/60000 (41%)]\tLoss: 0.618590\n",
            "Train Epoch: 1 [24960/60000 (42%)]\tLoss: 0.369878\n",
            "Train Epoch: 1 [25600/60000 (43%)]\tLoss: 0.297661\n",
            "Train Epoch: 1 [26240/60000 (44%)]\tLoss: 0.492954\n",
            "Train Epoch: 1 [26880/60000 (45%)]\tLoss: 0.562777\n",
            "Train Epoch: 1 [27520/60000 (46%)]\tLoss: 0.312011\n",
            "Train Epoch: 1 [28160/60000 (47%)]\tLoss: 0.280604\n",
            "Train Epoch: 1 [28800/60000 (48%)]\tLoss: 0.241956\n",
            "Train Epoch: 1 [29440/60000 (49%)]\tLoss: 0.312082\n",
            "Train Epoch: 1 [30080/60000 (50%)]\tLoss: 0.513879\n",
            "Train Epoch: 1 [30720/60000 (51%)]\tLoss: 0.353747\n",
            "Train Epoch: 1 [31360/60000 (52%)]\tLoss: 0.444123\n",
            "Train Epoch: 1 [32000/60000 (53%)]\tLoss: 0.419175\n",
            "Train Epoch: 1 [32640/60000 (54%)]\tLoss: 0.345219\n",
            "Train Epoch: 1 [33280/60000 (55%)]\tLoss: 0.281209\n",
            "Train Epoch: 1 [33920/60000 (57%)]\tLoss: 0.384344\n",
            "Train Epoch: 1 [34560/60000 (58%)]\tLoss: 0.387540\n",
            "Train Epoch: 1 [35200/60000 (59%)]\tLoss: 0.161363\n",
            "Train Epoch: 1 [35840/60000 (60%)]\tLoss: 0.239673\n",
            "Train Epoch: 1 [36480/60000 (61%)]\tLoss: 0.145591\n",
            "Train Epoch: 1 [37120/60000 (62%)]\tLoss: 0.188776\n",
            "Train Epoch: 1 [37760/60000 (63%)]\tLoss: 0.512815\n",
            "Train Epoch: 1 [38400/60000 (64%)]\tLoss: 0.308208\n",
            "Train Epoch: 1 [39040/60000 (65%)]\tLoss: 0.352501\n",
            "Train Epoch: 1 [39680/60000 (66%)]\tLoss: 0.245852\n",
            "Train Epoch: 1 [40320/60000 (67%)]\tLoss: 0.238934\n",
            "Train Epoch: 1 [40960/60000 (68%)]\tLoss: 0.373999\n",
            "Train Epoch: 1 [41600/60000 (69%)]\tLoss: 0.351949\n",
            "Train Epoch: 1 [42240/60000 (70%)]\tLoss: 0.278602\n",
            "Train Epoch: 1 [42880/60000 (71%)]\tLoss: 0.378012\n",
            "Train Epoch: 1 [43520/60000 (72%)]\tLoss: 0.226881\n",
            "Train Epoch: 1 [44160/60000 (74%)]\tLoss: 0.392689\n",
            "Train Epoch: 1 [44800/60000 (75%)]\tLoss: 0.308622\n",
            "Train Epoch: 1 [45440/60000 (76%)]\tLoss: 0.281183\n",
            "Train Epoch: 1 [46080/60000 (77%)]\tLoss: 0.144658\n",
            "Train Epoch: 1 [46720/60000 (78%)]\tLoss: 0.315689\n",
            "Train Epoch: 1 [47360/60000 (79%)]\tLoss: 0.188239\n",
            "Train Epoch: 1 [48000/60000 (80%)]\tLoss: 0.222095\n",
            "Train Epoch: 1 [48640/60000 (81%)]\tLoss: 0.232304\n",
            "Train Epoch: 1 [49280/60000 (82%)]\tLoss: 0.222323\n",
            "Train Epoch: 1 [49920/60000 (83%)]\tLoss: 0.182109\n",
            "Train Epoch: 1 [50560/60000 (84%)]\tLoss: 0.267379\n",
            "Train Epoch: 1 [51200/60000 (85%)]\tLoss: 0.221273\n",
            "Train Epoch: 1 [51840/60000 (86%)]\tLoss: 0.230196\n",
            "Train Epoch: 1 [52480/60000 (87%)]\tLoss: 0.177281\n",
            "Train Epoch: 1 [53120/60000 (88%)]\tLoss: 0.202086\n",
            "Train Epoch: 1 [53760/60000 (90%)]\tLoss: 0.236647\n",
            "Train Epoch: 1 [54400/60000 (91%)]\tLoss: 0.267860\n",
            "Train Epoch: 1 [55040/60000 (92%)]\tLoss: 0.218672\n",
            "Train Epoch: 1 [55680/60000 (93%)]\tLoss: 0.166927\n",
            "Train Epoch: 1 [56320/60000 (94%)]\tLoss: 0.299451\n",
            "Train Epoch: 1 [56960/60000 (95%)]\tLoss: 0.179483\n",
            "Train Epoch: 1 [57600/60000 (96%)]\tLoss: 0.151780\n",
            "Train Epoch: 1 [58240/60000 (97%)]\tLoss: 0.295344\n",
            "Train Epoch: 1 [58880/60000 (98%)]\tLoss: 0.229433\n",
            "Train Epoch: 1 [59520/60000 (99%)]\tLoss: 0.164234\n"
          ]
        },
        {
          "output_type": "stream",
          "name": "stderr",
          "text": [
            "<ipython-input-182-fb792a7bd91e>:6: UserWarning: volatile was removed and now has no effect. Use `with torch.no_grad():` instead.\n",
            "  data, target = Variable(data, volatile=True), Variable(target)\n",
            "/usr/local/lib/python3.8/dist-packages/torch/nn/_reduction.py:42: UserWarning: size_average and reduce args will be deprecated, please use reduction='sum' instead.\n",
            "  warnings.warn(warning.format(ret))\n"
          ]
        },
        {
          "output_type": "stream",
          "name": "stdout",
          "text": [
            "\n",
            "Test set: Average loss: 0.1813, Accuracy: 9485/10000 (95%)\n",
            "\n",
            "Train Epoch: 2 [0/60000 (0%)]\tLoss: 0.390010\n",
            "Train Epoch: 2 [640/60000 (1%)]\tLoss: 0.091692\n",
            "Train Epoch: 2 [1280/60000 (2%)]\tLoss: 0.129786\n",
            "Train Epoch: 2 [1920/60000 (3%)]\tLoss: 0.125482\n",
            "Train Epoch: 2 [2560/60000 (4%)]\tLoss: 0.081993\n",
            "Train Epoch: 2 [3200/60000 (5%)]\tLoss: 0.131949\n",
            "Train Epoch: 2 [3840/60000 (6%)]\tLoss: 0.063838\n",
            "Train Epoch: 2 [4480/60000 (7%)]\tLoss: 0.148336\n",
            "Train Epoch: 2 [5120/60000 (9%)]\tLoss: 0.103000\n",
            "Train Epoch: 2 [5760/60000 (10%)]\tLoss: 0.208631\n",
            "Train Epoch: 2 [6400/60000 (11%)]\tLoss: 0.191334\n",
            "Train Epoch: 2 [7040/60000 (12%)]\tLoss: 0.244584\n",
            "Train Epoch: 2 [7680/60000 (13%)]\tLoss: 0.364263\n",
            "Train Epoch: 2 [8320/60000 (14%)]\tLoss: 0.142325\n",
            "Train Epoch: 2 [8960/60000 (15%)]\tLoss: 0.164085\n",
            "Train Epoch: 2 [9600/60000 (16%)]\tLoss: 0.052648\n",
            "Train Epoch: 2 [10240/60000 (17%)]\tLoss: 0.258235\n",
            "Train Epoch: 2 [10880/60000 (18%)]\tLoss: 0.158231\n",
            "Train Epoch: 2 [11520/60000 (19%)]\tLoss: 0.082150\n",
            "Train Epoch: 2 [12160/60000 (20%)]\tLoss: 0.190966\n",
            "Train Epoch: 2 [12800/60000 (21%)]\tLoss: 0.307631\n",
            "Train Epoch: 2 [13440/60000 (22%)]\tLoss: 0.269509\n",
            "Train Epoch: 2 [14080/60000 (23%)]\tLoss: 0.162008\n",
            "Train Epoch: 2 [14720/60000 (25%)]\tLoss: 0.160677\n",
            "Train Epoch: 2 [15360/60000 (26%)]\tLoss: 0.175469\n",
            "Train Epoch: 2 [16000/60000 (27%)]\tLoss: 0.123777\n",
            "Train Epoch: 2 [16640/60000 (28%)]\tLoss: 0.230361\n",
            "Train Epoch: 2 [17280/60000 (29%)]\tLoss: 0.208105\n",
            "Train Epoch: 2 [17920/60000 (30%)]\tLoss: 0.098884\n",
            "Train Epoch: 2 [18560/60000 (31%)]\tLoss: 0.121225\n",
            "Train Epoch: 2 [19200/60000 (32%)]\tLoss: 0.248180\n",
            "Train Epoch: 2 [19840/60000 (33%)]\tLoss: 0.190506\n",
            "Train Epoch: 2 [20480/60000 (34%)]\tLoss: 0.095069\n",
            "Train Epoch: 2 [21120/60000 (35%)]\tLoss: 0.186061\n",
            "Train Epoch: 2 [21760/60000 (36%)]\tLoss: 0.117863\n",
            "Train Epoch: 2 [22400/60000 (37%)]\tLoss: 0.196752\n",
            "Train Epoch: 2 [23040/60000 (38%)]\tLoss: 0.202173\n",
            "Train Epoch: 2 [23680/60000 (39%)]\tLoss: 0.218127\n",
            "Train Epoch: 2 [24320/60000 (41%)]\tLoss: 0.038980\n",
            "Train Epoch: 2 [24960/60000 (42%)]\tLoss: 0.116728\n",
            "Train Epoch: 2 [25600/60000 (43%)]\tLoss: 0.256170\n",
            "Train Epoch: 2 [26240/60000 (44%)]\tLoss: 0.084039\n",
            "Train Epoch: 2 [26880/60000 (45%)]\tLoss: 0.149950\n",
            "Train Epoch: 2 [27520/60000 (46%)]\tLoss: 0.158619\n",
            "Train Epoch: 2 [28160/60000 (47%)]\tLoss: 0.196613\n",
            "Train Epoch: 2 [28800/60000 (48%)]\tLoss: 0.127258\n",
            "Train Epoch: 2 [29440/60000 (49%)]\tLoss: 0.197707\n",
            "Train Epoch: 2 [30080/60000 (50%)]\tLoss: 0.376785\n",
            "Train Epoch: 2 [30720/60000 (51%)]\tLoss: 0.076419\n",
            "Train Epoch: 2 [31360/60000 (52%)]\tLoss: 0.240082\n",
            "Train Epoch: 2 [32000/60000 (53%)]\tLoss: 0.216093\n",
            "Train Epoch: 2 [32640/60000 (54%)]\tLoss: 0.137541\n",
            "Train Epoch: 2 [33280/60000 (55%)]\tLoss: 0.055260\n",
            "Train Epoch: 2 [33920/60000 (57%)]\tLoss: 0.110032\n",
            "Train Epoch: 2 [34560/60000 (58%)]\tLoss: 0.099731\n",
            "Train Epoch: 2 [35200/60000 (59%)]\tLoss: 0.092873\n",
            "Train Epoch: 2 [35840/60000 (60%)]\tLoss: 0.471195\n",
            "Train Epoch: 2 [36480/60000 (61%)]\tLoss: 0.181651\n",
            "Train Epoch: 2 [37120/60000 (62%)]\tLoss: 0.129299\n",
            "Train Epoch: 2 [37760/60000 (63%)]\tLoss: 0.122276\n",
            "Train Epoch: 2 [38400/60000 (64%)]\tLoss: 0.093710\n",
            "Train Epoch: 2 [39040/60000 (65%)]\tLoss: 0.031885\n",
            "Train Epoch: 2 [39680/60000 (66%)]\tLoss: 0.161181\n",
            "Train Epoch: 2 [40320/60000 (67%)]\tLoss: 0.098857\n",
            "Train Epoch: 2 [40960/60000 (68%)]\tLoss: 0.071956\n",
            "Train Epoch: 2 [41600/60000 (69%)]\tLoss: 0.170850\n",
            "Train Epoch: 2 [42240/60000 (70%)]\tLoss: 0.112439\n",
            "Train Epoch: 2 [42880/60000 (71%)]\tLoss: 0.186001\n",
            "Train Epoch: 2 [43520/60000 (72%)]\tLoss: 0.176138\n",
            "Train Epoch: 2 [44160/60000 (74%)]\tLoss: 0.043825\n",
            "Train Epoch: 2 [44800/60000 (75%)]\tLoss: 0.201563\n",
            "Train Epoch: 2 [45440/60000 (76%)]\tLoss: 0.072881\n",
            "Train Epoch: 2 [46080/60000 (77%)]\tLoss: 0.153679\n",
            "Train Epoch: 2 [46720/60000 (78%)]\tLoss: 0.043341\n",
            "Train Epoch: 2 [47360/60000 (79%)]\tLoss: 0.103046\n",
            "Train Epoch: 2 [48000/60000 (80%)]\tLoss: 0.067419\n",
            "Train Epoch: 2 [48640/60000 (81%)]\tLoss: 0.176319\n",
            "Train Epoch: 2 [49280/60000 (82%)]\tLoss: 0.252846\n",
            "Train Epoch: 2 [49920/60000 (83%)]\tLoss: 0.181655\n",
            "Train Epoch: 2 [50560/60000 (84%)]\tLoss: 0.078721\n",
            "Train Epoch: 2 [51200/60000 (85%)]\tLoss: 0.215919\n",
            "Train Epoch: 2 [51840/60000 (86%)]\tLoss: 0.094352\n",
            "Train Epoch: 2 [52480/60000 (87%)]\tLoss: 0.054047\n",
            "Train Epoch: 2 [53120/60000 (88%)]\tLoss: 0.093887\n",
            "Train Epoch: 2 [53760/60000 (90%)]\tLoss: 0.081820\n",
            "Train Epoch: 2 [54400/60000 (91%)]\tLoss: 0.067175\n",
            "Train Epoch: 2 [55040/60000 (92%)]\tLoss: 0.052643\n",
            "Train Epoch: 2 [55680/60000 (93%)]\tLoss: 0.268913\n",
            "Train Epoch: 2 [56320/60000 (94%)]\tLoss: 0.042164\n",
            "Train Epoch: 2 [56960/60000 (95%)]\tLoss: 0.038104\n",
            "Train Epoch: 2 [57600/60000 (96%)]\tLoss: 0.129946\n",
            "Train Epoch: 2 [58240/60000 (97%)]\tLoss: 0.115491\n",
            "Train Epoch: 2 [58880/60000 (98%)]\tLoss: 0.288718\n",
            "Train Epoch: 2 [59520/60000 (99%)]\tLoss: 0.062064\n",
            "\n",
            "Test set: Average loss: 0.1193, Accuracy: 9639/10000 (96%)\n",
            "\n",
            "Train Epoch: 3 [0/60000 (0%)]\tLoss: 0.128297\n",
            "Train Epoch: 3 [640/60000 (1%)]\tLoss: 0.246358\n",
            "Train Epoch: 3 [1280/60000 (2%)]\tLoss: 0.170926\n",
            "Train Epoch: 3 [1920/60000 (3%)]\tLoss: 0.094057\n",
            "Train Epoch: 3 [2560/60000 (4%)]\tLoss: 0.042017\n",
            "Train Epoch: 3 [3200/60000 (5%)]\tLoss: 0.177174\n",
            "Train Epoch: 3 [3840/60000 (6%)]\tLoss: 0.172826\n",
            "Train Epoch: 3 [4480/60000 (7%)]\tLoss: 0.080701\n",
            "Train Epoch: 3 [5120/60000 (9%)]\tLoss: 0.132992\n",
            "Train Epoch: 3 [5760/60000 (10%)]\tLoss: 0.036303\n",
            "Train Epoch: 3 [6400/60000 (11%)]\tLoss: 0.090360\n",
            "Train Epoch: 3 [7040/60000 (12%)]\tLoss: 0.065540\n",
            "Train Epoch: 3 [7680/60000 (13%)]\tLoss: 0.078120\n",
            "Train Epoch: 3 [8320/60000 (14%)]\tLoss: 0.077465\n",
            "Train Epoch: 3 [8960/60000 (15%)]\tLoss: 0.076702\n",
            "Train Epoch: 3 [9600/60000 (16%)]\tLoss: 0.075177\n",
            "Train Epoch: 3 [10240/60000 (17%)]\tLoss: 0.191643\n",
            "Train Epoch: 3 [10880/60000 (18%)]\tLoss: 0.149846\n",
            "Train Epoch: 3 [11520/60000 (19%)]\tLoss: 0.072679\n",
            "Train Epoch: 3 [12160/60000 (20%)]\tLoss: 0.112116\n",
            "Train Epoch: 3 [12800/60000 (21%)]\tLoss: 0.110469\n",
            "Train Epoch: 3 [13440/60000 (22%)]\tLoss: 0.082651\n",
            "Train Epoch: 3 [14080/60000 (23%)]\tLoss: 0.050370\n",
            "Train Epoch: 3 [14720/60000 (25%)]\tLoss: 0.052308\n",
            "Train Epoch: 3 [15360/60000 (26%)]\tLoss: 0.113896\n",
            "Train Epoch: 3 [16000/60000 (27%)]\tLoss: 0.104469\n",
            "Train Epoch: 3 [16640/60000 (28%)]\tLoss: 0.064910\n",
            "Train Epoch: 3 [17280/60000 (29%)]\tLoss: 0.115193\n",
            "Train Epoch: 3 [17920/60000 (30%)]\tLoss: 0.050692\n",
            "Train Epoch: 3 [18560/60000 (31%)]\tLoss: 0.116468\n",
            "Train Epoch: 3 [19200/60000 (32%)]\tLoss: 0.083214\n",
            "Train Epoch: 3 [19840/60000 (33%)]\tLoss: 0.320550\n",
            "Train Epoch: 3 [20480/60000 (34%)]\tLoss: 0.094667\n",
            "Train Epoch: 3 [21120/60000 (35%)]\tLoss: 0.052983\n",
            "Train Epoch: 3 [21760/60000 (36%)]\tLoss: 0.196595\n",
            "Train Epoch: 3 [22400/60000 (37%)]\tLoss: 0.079565\n",
            "Train Epoch: 3 [23040/60000 (38%)]\tLoss: 0.204429\n",
            "Train Epoch: 3 [23680/60000 (39%)]\tLoss: 0.090951\n",
            "Train Epoch: 3 [24320/60000 (41%)]\tLoss: 0.053822\n",
            "Train Epoch: 3 [24960/60000 (42%)]\tLoss: 0.159571\n",
            "Train Epoch: 3 [25600/60000 (43%)]\tLoss: 0.224028\n",
            "Train Epoch: 3 [26240/60000 (44%)]\tLoss: 0.134950\n",
            "Train Epoch: 3 [26880/60000 (45%)]\tLoss: 0.114480\n",
            "Train Epoch: 3 [27520/60000 (46%)]\tLoss: 0.087026\n",
            "Train Epoch: 3 [28160/60000 (47%)]\tLoss: 0.142113\n",
            "Train Epoch: 3 [28800/60000 (48%)]\tLoss: 0.044316\n",
            "Train Epoch: 3 [29440/60000 (49%)]\tLoss: 0.172503\n",
            "Train Epoch: 3 [30080/60000 (50%)]\tLoss: 0.037769\n",
            "Train Epoch: 3 [30720/60000 (51%)]\tLoss: 0.098999\n",
            "Train Epoch: 3 [31360/60000 (52%)]\tLoss: 0.151758\n",
            "Train Epoch: 3 [32000/60000 (53%)]\tLoss: 0.271266\n",
            "Train Epoch: 3 [32640/60000 (54%)]\tLoss: 0.148784\n",
            "Train Epoch: 3 [33280/60000 (55%)]\tLoss: 0.016405\n",
            "Train Epoch: 3 [33920/60000 (57%)]\tLoss: 0.240289\n",
            "Train Epoch: 3 [34560/60000 (58%)]\tLoss: 0.100473\n",
            "Train Epoch: 3 [35200/60000 (59%)]\tLoss: 0.346131\n",
            "Train Epoch: 3 [35840/60000 (60%)]\tLoss: 0.190478\n",
            "Train Epoch: 3 [36480/60000 (61%)]\tLoss: 0.045645\n",
            "Train Epoch: 3 [37120/60000 (62%)]\tLoss: 0.106148\n",
            "Train Epoch: 3 [37760/60000 (63%)]\tLoss: 0.149413\n",
            "Train Epoch: 3 [38400/60000 (64%)]\tLoss: 0.179561\n",
            "Train Epoch: 3 [39040/60000 (65%)]\tLoss: 0.027130\n",
            "Train Epoch: 3 [39680/60000 (66%)]\tLoss: 0.035092\n",
            "Train Epoch: 3 [40320/60000 (67%)]\tLoss: 0.026631\n",
            "Train Epoch: 3 [40960/60000 (68%)]\tLoss: 0.087154\n",
            "Train Epoch: 3 [41600/60000 (69%)]\tLoss: 0.111338\n",
            "Train Epoch: 3 [42240/60000 (70%)]\tLoss: 0.133819\n",
            "Train Epoch: 3 [42880/60000 (71%)]\tLoss: 0.093819\n",
            "Train Epoch: 3 [43520/60000 (72%)]\tLoss: 0.223573\n",
            "Train Epoch: 3 [44160/60000 (74%)]\tLoss: 0.096863\n",
            "Train Epoch: 3 [44800/60000 (75%)]\tLoss: 0.015887\n",
            "Train Epoch: 3 [45440/60000 (76%)]\tLoss: 0.071191\n",
            "Train Epoch: 3 [46080/60000 (77%)]\tLoss: 0.030508\n",
            "Train Epoch: 3 [46720/60000 (78%)]\tLoss: 0.142141\n",
            "Train Epoch: 3 [47360/60000 (79%)]\tLoss: 0.119942\n",
            "Train Epoch: 3 [48000/60000 (80%)]\tLoss: 0.057490\n",
            "Train Epoch: 3 [48640/60000 (81%)]\tLoss: 0.167962\n",
            "Train Epoch: 3 [49280/60000 (82%)]\tLoss: 0.081128\n",
            "Train Epoch: 3 [49920/60000 (83%)]\tLoss: 0.161885\n",
            "Train Epoch: 3 [50560/60000 (84%)]\tLoss: 0.098953\n",
            "Train Epoch: 3 [51200/60000 (85%)]\tLoss: 0.185635\n",
            "Train Epoch: 3 [51840/60000 (86%)]\tLoss: 0.196953\n",
            "Train Epoch: 3 [52480/60000 (87%)]\tLoss: 0.049750\n",
            "Train Epoch: 3 [53120/60000 (88%)]\tLoss: 0.164870\n",
            "Train Epoch: 3 [53760/60000 (90%)]\tLoss: 0.047062\n",
            "Train Epoch: 3 [54400/60000 (91%)]\tLoss: 0.113037\n",
            "Train Epoch: 3 [55040/60000 (92%)]\tLoss: 0.086823\n",
            "Train Epoch: 3 [55680/60000 (93%)]\tLoss: 0.108128\n",
            "Train Epoch: 3 [56320/60000 (94%)]\tLoss: 0.023581\n",
            "Train Epoch: 3 [56960/60000 (95%)]\tLoss: 0.077552\n",
            "Train Epoch: 3 [57600/60000 (96%)]\tLoss: 0.146939\n",
            "Train Epoch: 3 [58240/60000 (97%)]\tLoss: 0.023232\n",
            "Train Epoch: 3 [58880/60000 (98%)]\tLoss: 0.027444\n",
            "Train Epoch: 3 [59520/60000 (99%)]\tLoss: 0.096270\n",
            "\n",
            "Test set: Average loss: 0.0969, Accuracy: 9709/10000 (97%)\n",
            "\n",
            "Train Epoch: 4 [0/60000 (0%)]\tLoss: 0.070182\n",
            "Train Epoch: 4 [640/60000 (1%)]\tLoss: 0.085009\n",
            "Train Epoch: 4 [1280/60000 (2%)]\tLoss: 0.083213\n",
            "Train Epoch: 4 [1920/60000 (3%)]\tLoss: 0.013422\n",
            "Train Epoch: 4 [2560/60000 (4%)]\tLoss: 0.076240\n",
            "Train Epoch: 4 [3200/60000 (5%)]\tLoss: 0.080561\n",
            "Train Epoch: 4 [3840/60000 (6%)]\tLoss: 0.041855\n",
            "Train Epoch: 4 [4480/60000 (7%)]\tLoss: 0.060420\n",
            "Train Epoch: 4 [5120/60000 (9%)]\tLoss: 0.045808\n",
            "Train Epoch: 4 [5760/60000 (10%)]\tLoss: 0.049644\n",
            "Train Epoch: 4 [6400/60000 (11%)]\tLoss: 0.099403\n",
            "Train Epoch: 4 [7040/60000 (12%)]\tLoss: 0.094580\n",
            "Train Epoch: 4 [7680/60000 (13%)]\tLoss: 0.065694\n",
            "Train Epoch: 4 [8320/60000 (14%)]\tLoss: 0.029373\n",
            "Train Epoch: 4 [8960/60000 (15%)]\tLoss: 0.032454\n",
            "Train Epoch: 4 [9600/60000 (16%)]\tLoss: 0.076194\n",
            "Train Epoch: 4 [10240/60000 (17%)]\tLoss: 0.171886\n",
            "Train Epoch: 4 [10880/60000 (18%)]\tLoss: 0.058884\n",
            "Train Epoch: 4 [11520/60000 (19%)]\tLoss: 0.075852\n",
            "Train Epoch: 4 [12160/60000 (20%)]\tLoss: 0.224444\n",
            "Train Epoch: 4 [12800/60000 (21%)]\tLoss: 0.062924\n",
            "Train Epoch: 4 [13440/60000 (22%)]\tLoss: 0.056573\n",
            "Train Epoch: 4 [14080/60000 (23%)]\tLoss: 0.047639\n",
            "Train Epoch: 4 [14720/60000 (25%)]\tLoss: 0.136587\n",
            "Train Epoch: 4 [15360/60000 (26%)]\tLoss: 0.065529\n",
            "Train Epoch: 4 [16000/60000 (27%)]\tLoss: 0.097069\n",
            "Train Epoch: 4 [16640/60000 (28%)]\tLoss: 0.110055\n",
            "Train Epoch: 4 [17280/60000 (29%)]\tLoss: 0.041997\n",
            "Train Epoch: 4 [17920/60000 (30%)]\tLoss: 0.080119\n",
            "Train Epoch: 4 [18560/60000 (31%)]\tLoss: 0.047233\n",
            "Train Epoch: 4 [19200/60000 (32%)]\tLoss: 0.147159\n",
            "Train Epoch: 4 [19840/60000 (33%)]\tLoss: 0.019287\n",
            "Train Epoch: 4 [20480/60000 (34%)]\tLoss: 0.149190\n",
            "Train Epoch: 4 [21120/60000 (35%)]\tLoss: 0.049246\n",
            "Train Epoch: 4 [21760/60000 (36%)]\tLoss: 0.050674\n",
            "Train Epoch: 4 [22400/60000 (37%)]\tLoss: 0.095678\n",
            "Train Epoch: 4 [23040/60000 (38%)]\tLoss: 0.114199\n",
            "Train Epoch: 4 [23680/60000 (39%)]\tLoss: 0.008194\n",
            "Train Epoch: 4 [24320/60000 (41%)]\tLoss: 0.091373\n",
            "Train Epoch: 4 [24960/60000 (42%)]\tLoss: 0.054257\n",
            "Train Epoch: 4 [25600/60000 (43%)]\tLoss: 0.041163\n",
            "Train Epoch: 4 [26240/60000 (44%)]\tLoss: 0.077814\n",
            "Train Epoch: 4 [26880/60000 (45%)]\tLoss: 0.049645\n",
            "Train Epoch: 4 [27520/60000 (46%)]\tLoss: 0.065079\n",
            "Train Epoch: 4 [28160/60000 (47%)]\tLoss: 0.073101\n",
            "Train Epoch: 4 [28800/60000 (48%)]\tLoss: 0.133328\n",
            "Train Epoch: 4 [29440/60000 (49%)]\tLoss: 0.206760\n",
            "Train Epoch: 4 [30080/60000 (50%)]\tLoss: 0.055116\n",
            "Train Epoch: 4 [30720/60000 (51%)]\tLoss: 0.042258\n",
            "Train Epoch: 4 [31360/60000 (52%)]\tLoss: 0.239108\n",
            "Train Epoch: 4 [32000/60000 (53%)]\tLoss: 0.104262\n",
            "Train Epoch: 4 [32640/60000 (54%)]\tLoss: 0.187889\n",
            "Train Epoch: 4 [33280/60000 (55%)]\tLoss: 0.219921\n",
            "Train Epoch: 4 [33920/60000 (57%)]\tLoss: 0.090158\n",
            "Train Epoch: 4 [34560/60000 (58%)]\tLoss: 0.069848\n",
            "Train Epoch: 4 [35200/60000 (59%)]\tLoss: 0.042846\n",
            "Train Epoch: 4 [35840/60000 (60%)]\tLoss: 0.096854\n",
            "Train Epoch: 4 [36480/60000 (61%)]\tLoss: 0.216225\n",
            "Train Epoch: 4 [37120/60000 (62%)]\tLoss: 0.105996\n",
            "Train Epoch: 4 [37760/60000 (63%)]\tLoss: 0.145332\n",
            "Train Epoch: 4 [38400/60000 (64%)]\tLoss: 0.059356\n",
            "Train Epoch: 4 [39040/60000 (65%)]\tLoss: 0.153669\n",
            "Train Epoch: 4 [39680/60000 (66%)]\tLoss: 0.089662\n",
            "Train Epoch: 4 [40320/60000 (67%)]\tLoss: 0.053144\n",
            "Train Epoch: 4 [40960/60000 (68%)]\tLoss: 0.117319\n",
            "Train Epoch: 4 [41600/60000 (69%)]\tLoss: 0.071377\n",
            "Train Epoch: 4 [42240/60000 (70%)]\tLoss: 0.084609\n",
            "Train Epoch: 4 [42880/60000 (71%)]\tLoss: 0.118937\n",
            "Train Epoch: 4 [43520/60000 (72%)]\tLoss: 0.035717\n",
            "Train Epoch: 4 [44160/60000 (74%)]\tLoss: 0.148598\n",
            "Train Epoch: 4 [44800/60000 (75%)]\tLoss: 0.120186\n",
            "Train Epoch: 4 [45440/60000 (76%)]\tLoss: 0.110601\n",
            "Train Epoch: 4 [46080/60000 (77%)]\tLoss: 0.134696\n",
            "Train Epoch: 4 [46720/60000 (78%)]\tLoss: 0.042044\n",
            "Train Epoch: 4 [47360/60000 (79%)]\tLoss: 0.112394\n",
            "Train Epoch: 4 [48000/60000 (80%)]\tLoss: 0.101705\n",
            "Train Epoch: 4 [48640/60000 (81%)]\tLoss: 0.035427\n",
            "Train Epoch: 4 [49280/60000 (82%)]\tLoss: 0.045052\n",
            "Train Epoch: 4 [49920/60000 (83%)]\tLoss: 0.178741\n",
            "Train Epoch: 4 [50560/60000 (84%)]\tLoss: 0.356000\n",
            "Train Epoch: 4 [51200/60000 (85%)]\tLoss: 0.072579\n",
            "Train Epoch: 4 [51840/60000 (86%)]\tLoss: 0.098075\n",
            "Train Epoch: 4 [52480/60000 (87%)]\tLoss: 0.071754\n",
            "Train Epoch: 4 [53120/60000 (88%)]\tLoss: 0.045411\n",
            "Train Epoch: 4 [53760/60000 (90%)]\tLoss: 0.071713\n",
            "Train Epoch: 4 [54400/60000 (91%)]\tLoss: 0.128733\n",
            "Train Epoch: 4 [55040/60000 (92%)]\tLoss: 0.052383\n",
            "Train Epoch: 4 [55680/60000 (93%)]\tLoss: 0.090336\n",
            "Train Epoch: 4 [56320/60000 (94%)]\tLoss: 0.060202\n",
            "Train Epoch: 4 [56960/60000 (95%)]\tLoss: 0.059098\n",
            "Train Epoch: 4 [57600/60000 (96%)]\tLoss: 0.089032\n",
            "Train Epoch: 4 [58240/60000 (97%)]\tLoss: 0.273499\n",
            "Train Epoch: 4 [58880/60000 (98%)]\tLoss: 0.059406\n",
            "Train Epoch: 4 [59520/60000 (99%)]\tLoss: 0.091606\n",
            "\n",
            "Test set: Average loss: 0.0733, Accuracy: 9774/10000 (98%)\n",
            "\n",
            "Train Epoch: 5 [0/60000 (0%)]\tLoss: 0.043929\n",
            "Train Epoch: 5 [640/60000 (1%)]\tLoss: 0.110185\n",
            "Train Epoch: 5 [1280/60000 (2%)]\tLoss: 0.047065\n",
            "Train Epoch: 5 [1920/60000 (3%)]\tLoss: 0.045319\n",
            "Train Epoch: 5 [2560/60000 (4%)]\tLoss: 0.143084\n",
            "Train Epoch: 5 [3200/60000 (5%)]\tLoss: 0.095395\n",
            "Train Epoch: 5 [3840/60000 (6%)]\tLoss: 0.168137\n",
            "Train Epoch: 5 [4480/60000 (7%)]\tLoss: 0.073316\n",
            "Train Epoch: 5 [5120/60000 (9%)]\tLoss: 0.054345\n",
            "Train Epoch: 5 [5760/60000 (10%)]\tLoss: 0.062192\n",
            "Train Epoch: 5 [6400/60000 (11%)]\tLoss: 0.131965\n",
            "Train Epoch: 5 [7040/60000 (12%)]\tLoss: 0.095521\n",
            "Train Epoch: 5 [7680/60000 (13%)]\tLoss: 0.044780\n",
            "Train Epoch: 5 [8320/60000 (14%)]\tLoss: 0.070342\n",
            "Train Epoch: 5 [8960/60000 (15%)]\tLoss: 0.095448\n",
            "Train Epoch: 5 [9600/60000 (16%)]\tLoss: 0.030295\n",
            "Train Epoch: 5 [10240/60000 (17%)]\tLoss: 0.118333\n",
            "Train Epoch: 5 [10880/60000 (18%)]\tLoss: 0.125030\n",
            "Train Epoch: 5 [11520/60000 (19%)]\tLoss: 0.086798\n",
            "Train Epoch: 5 [12160/60000 (20%)]\tLoss: 0.193312\n",
            "Train Epoch: 5 [12800/60000 (21%)]\tLoss: 0.060100\n",
            "Train Epoch: 5 [13440/60000 (22%)]\tLoss: 0.111027\n",
            "Train Epoch: 5 [14080/60000 (23%)]\tLoss: 0.233591\n",
            "Train Epoch: 5 [14720/60000 (25%)]\tLoss: 0.062712\n",
            "Train Epoch: 5 [15360/60000 (26%)]\tLoss: 0.064463\n",
            "Train Epoch: 5 [16000/60000 (27%)]\tLoss: 0.089420\n",
            "Train Epoch: 5 [16640/60000 (28%)]\tLoss: 0.156637\n",
            "Train Epoch: 5 [17280/60000 (29%)]\tLoss: 0.018676\n",
            "Train Epoch: 5 [17920/60000 (30%)]\tLoss: 0.100835\n",
            "Train Epoch: 5 [18560/60000 (31%)]\tLoss: 0.022804\n",
            "Train Epoch: 5 [19200/60000 (32%)]\tLoss: 0.122517\n",
            "Train Epoch: 5 [19840/60000 (33%)]\tLoss: 0.026741\n",
            "Train Epoch: 5 [20480/60000 (34%)]\tLoss: 0.040090\n",
            "Train Epoch: 5 [21120/60000 (35%)]\tLoss: 0.099635\n",
            "Train Epoch: 5 [21760/60000 (36%)]\tLoss: 0.023542\n",
            "Train Epoch: 5 [22400/60000 (37%)]\tLoss: 0.135417\n",
            "Train Epoch: 5 [23040/60000 (38%)]\tLoss: 0.091653\n",
            "Train Epoch: 5 [23680/60000 (39%)]\tLoss: 0.023176\n",
            "Train Epoch: 5 [24320/60000 (41%)]\tLoss: 0.132010\n",
            "Train Epoch: 5 [24960/60000 (42%)]\tLoss: 0.007575\n",
            "Train Epoch: 5 [25600/60000 (43%)]\tLoss: 0.093691\n",
            "Train Epoch: 5 [26240/60000 (44%)]\tLoss: 0.032264\n",
            "Train Epoch: 5 [26880/60000 (45%)]\tLoss: 0.130704\n",
            "Train Epoch: 5 [27520/60000 (46%)]\tLoss: 0.016904\n",
            "Train Epoch: 5 [28160/60000 (47%)]\tLoss: 0.049213\n",
            "Train Epoch: 5 [28800/60000 (48%)]\tLoss: 0.054757\n",
            "Train Epoch: 5 [29440/60000 (49%)]\tLoss: 0.261668\n",
            "Train Epoch: 5 [30080/60000 (50%)]\tLoss: 0.236798\n",
            "Train Epoch: 5 [30720/60000 (51%)]\tLoss: 0.073785\n",
            "Train Epoch: 5 [31360/60000 (52%)]\tLoss: 0.051119\n",
            "Train Epoch: 5 [32000/60000 (53%)]\tLoss: 0.054688\n",
            "Train Epoch: 5 [32640/60000 (54%)]\tLoss: 0.016638\n",
            "Train Epoch: 5 [33280/60000 (55%)]\tLoss: 0.042050\n",
            "Train Epoch: 5 [33920/60000 (57%)]\tLoss: 0.036431\n",
            "Train Epoch: 5 [34560/60000 (58%)]\tLoss: 0.060973\n",
            "Train Epoch: 5 [35200/60000 (59%)]\tLoss: 0.184943\n",
            "Train Epoch: 5 [35840/60000 (60%)]\tLoss: 0.045611\n",
            "Train Epoch: 5 [36480/60000 (61%)]\tLoss: 0.154895\n",
            "Train Epoch: 5 [37120/60000 (62%)]\tLoss: 0.126157\n",
            "Train Epoch: 5 [37760/60000 (63%)]\tLoss: 0.044993\n",
            "Train Epoch: 5 [38400/60000 (64%)]\tLoss: 0.112800\n",
            "Train Epoch: 5 [39040/60000 (65%)]\tLoss: 0.186565\n",
            "Train Epoch: 5 [39680/60000 (66%)]\tLoss: 0.064045\n",
            "Train Epoch: 5 [40320/60000 (67%)]\tLoss: 0.064285\n",
            "Train Epoch: 5 [40960/60000 (68%)]\tLoss: 0.186118\n",
            "Train Epoch: 5 [41600/60000 (69%)]\tLoss: 0.048812\n",
            "Train Epoch: 5 [42240/60000 (70%)]\tLoss: 0.143669\n",
            "Train Epoch: 5 [42880/60000 (71%)]\tLoss: 0.031135\n",
            "Train Epoch: 5 [43520/60000 (72%)]\tLoss: 0.118840\n",
            "Train Epoch: 5 [44160/60000 (74%)]\tLoss: 0.041355\n",
            "Train Epoch: 5 [44800/60000 (75%)]\tLoss: 0.124829\n",
            "Train Epoch: 5 [45440/60000 (76%)]\tLoss: 0.031355\n",
            "Train Epoch: 5 [46080/60000 (77%)]\tLoss: 0.035570\n",
            "Train Epoch: 5 [46720/60000 (78%)]\tLoss: 0.030326\n",
            "Train Epoch: 5 [47360/60000 (79%)]\tLoss: 0.081721\n",
            "Train Epoch: 5 [48000/60000 (80%)]\tLoss: 0.038798\n",
            "Train Epoch: 5 [48640/60000 (81%)]\tLoss: 0.105823\n",
            "Train Epoch: 5 [49280/60000 (82%)]\tLoss: 0.038993\n",
            "Train Epoch: 5 [49920/60000 (83%)]\tLoss: 0.128115\n",
            "Train Epoch: 5 [50560/60000 (84%)]\tLoss: 0.070685\n",
            "Train Epoch: 5 [51200/60000 (85%)]\tLoss: 0.164580\n",
            "Train Epoch: 5 [51840/60000 (86%)]\tLoss: 0.053821\n",
            "Train Epoch: 5 [52480/60000 (87%)]\tLoss: 0.126229\n",
            "Train Epoch: 5 [53120/60000 (88%)]\tLoss: 0.035453\n",
            "Train Epoch: 5 [53760/60000 (90%)]\tLoss: 0.092172\n",
            "Train Epoch: 5 [54400/60000 (91%)]\tLoss: 0.018105\n",
            "Train Epoch: 5 [55040/60000 (92%)]\tLoss: 0.115955\n",
            "Train Epoch: 5 [55680/60000 (93%)]\tLoss: 0.063666\n",
            "Train Epoch: 5 [56320/60000 (94%)]\tLoss: 0.096340\n",
            "Train Epoch: 5 [56960/60000 (95%)]\tLoss: 0.032597\n",
            "Train Epoch: 5 [57600/60000 (96%)]\tLoss: 0.057690\n",
            "Train Epoch: 5 [58240/60000 (97%)]\tLoss: 0.048909\n",
            "Train Epoch: 5 [58880/60000 (98%)]\tLoss: 0.067424\n",
            "Train Epoch: 5 [59520/60000 (99%)]\tLoss: 0.112232\n",
            "\n",
            "Test set: Average loss: 0.0680, Accuracy: 9783/10000 (98%)\n",
            "\n",
            "Train Epoch: 6 [0/60000 (0%)]\tLoss: 0.012668\n",
            "Train Epoch: 6 [640/60000 (1%)]\tLoss: 0.066733\n",
            "Train Epoch: 6 [1280/60000 (2%)]\tLoss: 0.162395\n",
            "Train Epoch: 6 [1920/60000 (3%)]\tLoss: 0.054906\n",
            "Train Epoch: 6 [2560/60000 (4%)]\tLoss: 0.015027\n",
            "Train Epoch: 6 [3200/60000 (5%)]\tLoss: 0.022184\n",
            "Train Epoch: 6 [3840/60000 (6%)]\tLoss: 0.134548\n",
            "Train Epoch: 6 [4480/60000 (7%)]\tLoss: 0.098422\n",
            "Train Epoch: 6 [5120/60000 (9%)]\tLoss: 0.045952\n",
            "Train Epoch: 6 [5760/60000 (10%)]\tLoss: 0.069925\n",
            "Train Epoch: 6 [6400/60000 (11%)]\tLoss: 0.043969\n",
            "Train Epoch: 6 [7040/60000 (12%)]\tLoss: 0.053878\n",
            "Train Epoch: 6 [7680/60000 (13%)]\tLoss: 0.148274\n",
            "Train Epoch: 6 [8320/60000 (14%)]\tLoss: 0.041873\n",
            "Train Epoch: 6 [8960/60000 (15%)]\tLoss: 0.042196\n",
            "Train Epoch: 6 [9600/60000 (16%)]\tLoss: 0.029232\n",
            "Train Epoch: 6 [10240/60000 (17%)]\tLoss: 0.031412\n",
            "Train Epoch: 6 [10880/60000 (18%)]\tLoss: 0.087327\n",
            "Train Epoch: 6 [11520/60000 (19%)]\tLoss: 0.131460\n",
            "Train Epoch: 6 [12160/60000 (20%)]\tLoss: 0.085804\n",
            "Train Epoch: 6 [12800/60000 (21%)]\tLoss: 0.074302\n",
            "Train Epoch: 6 [13440/60000 (22%)]\tLoss: 0.070738\n",
            "Train Epoch: 6 [14080/60000 (23%)]\tLoss: 0.044378\n",
            "Train Epoch: 6 [14720/60000 (25%)]\tLoss: 0.040661\n",
            "Train Epoch: 6 [15360/60000 (26%)]\tLoss: 0.060965\n",
            "Train Epoch: 6 [16000/60000 (27%)]\tLoss: 0.157141\n",
            "Train Epoch: 6 [16640/60000 (28%)]\tLoss: 0.094062\n",
            "Train Epoch: 6 [17280/60000 (29%)]\tLoss: 0.059921\n",
            "Train Epoch: 6 [17920/60000 (30%)]\tLoss: 0.140194\n",
            "Train Epoch: 6 [18560/60000 (31%)]\tLoss: 0.009456\n",
            "Train Epoch: 6 [19200/60000 (32%)]\tLoss: 0.018516\n",
            "Train Epoch: 6 [19840/60000 (33%)]\tLoss: 0.102783\n",
            "Train Epoch: 6 [20480/60000 (34%)]\tLoss: 0.049266\n",
            "Train Epoch: 6 [21120/60000 (35%)]\tLoss: 0.140820\n",
            "Train Epoch: 6 [21760/60000 (36%)]\tLoss: 0.071801\n",
            "Train Epoch: 6 [22400/60000 (37%)]\tLoss: 0.070796\n",
            "Train Epoch: 6 [23040/60000 (38%)]\tLoss: 0.028479\n",
            "Train Epoch: 6 [23680/60000 (39%)]\tLoss: 0.090389\n",
            "Train Epoch: 6 [24320/60000 (41%)]\tLoss: 0.054346\n",
            "Train Epoch: 6 [24960/60000 (42%)]\tLoss: 0.034245\n",
            "Train Epoch: 6 [25600/60000 (43%)]\tLoss: 0.018021\n",
            "Train Epoch: 6 [26240/60000 (44%)]\tLoss: 0.053025\n",
            "Train Epoch: 6 [26880/60000 (45%)]\tLoss: 0.103823\n",
            "Train Epoch: 6 [27520/60000 (46%)]\tLoss: 0.043840\n",
            "Train Epoch: 6 [28160/60000 (47%)]\tLoss: 0.033341\n",
            "Train Epoch: 6 [28800/60000 (48%)]\tLoss: 0.088410\n",
            "Train Epoch: 6 [29440/60000 (49%)]\tLoss: 0.018089\n",
            "Train Epoch: 6 [30080/60000 (50%)]\tLoss: 0.144637\n",
            "Train Epoch: 6 [30720/60000 (51%)]\tLoss: 0.055514\n",
            "Train Epoch: 6 [31360/60000 (52%)]\tLoss: 0.086982\n",
            "Train Epoch: 6 [32000/60000 (53%)]\tLoss: 0.102016\n",
            "Train Epoch: 6 [32640/60000 (54%)]\tLoss: 0.150738\n",
            "Train Epoch: 6 [33280/60000 (55%)]\tLoss: 0.100783\n",
            "Train Epoch: 6 [33920/60000 (57%)]\tLoss: 0.015513\n",
            "Train Epoch: 6 [34560/60000 (58%)]\tLoss: 0.051903\n",
            "Train Epoch: 6 [35200/60000 (59%)]\tLoss: 0.033515\n",
            "Train Epoch: 6 [35840/60000 (60%)]\tLoss: 0.013832\n",
            "Train Epoch: 6 [36480/60000 (61%)]\tLoss: 0.078854\n",
            "Train Epoch: 6 [37120/60000 (62%)]\tLoss: 0.031213\n",
            "Train Epoch: 6 [37760/60000 (63%)]\tLoss: 0.117465\n",
            "Train Epoch: 6 [38400/60000 (64%)]\tLoss: 0.021698\n",
            "Train Epoch: 6 [39040/60000 (65%)]\tLoss: 0.081013\n",
            "Train Epoch: 6 [39680/60000 (66%)]\tLoss: 0.111932\n",
            "Train Epoch: 6 [40320/60000 (67%)]\tLoss: 0.010205\n",
            "Train Epoch: 6 [40960/60000 (68%)]\tLoss: 0.050724\n",
            "Train Epoch: 6 [41600/60000 (69%)]\tLoss: 0.062247\n",
            "Train Epoch: 6 [42240/60000 (70%)]\tLoss: 0.055320\n",
            "Train Epoch: 6 [42880/60000 (71%)]\tLoss: 0.038499\n",
            "Train Epoch: 6 [43520/60000 (72%)]\tLoss: 0.030179\n",
            "Train Epoch: 6 [44160/60000 (74%)]\tLoss: 0.034011\n",
            "Train Epoch: 6 [44800/60000 (75%)]\tLoss: 0.088161\n",
            "Train Epoch: 6 [45440/60000 (76%)]\tLoss: 0.014839\n",
            "Train Epoch: 6 [46080/60000 (77%)]\tLoss: 0.032581\n",
            "Train Epoch: 6 [46720/60000 (78%)]\tLoss: 0.086514\n",
            "Train Epoch: 6 [47360/60000 (79%)]\tLoss: 0.033020\n",
            "Train Epoch: 6 [48000/60000 (80%)]\tLoss: 0.062489\n",
            "Train Epoch: 6 [48640/60000 (81%)]\tLoss: 0.238843\n",
            "Train Epoch: 6 [49280/60000 (82%)]\tLoss: 0.037572\n",
            "Train Epoch: 6 [49920/60000 (83%)]\tLoss: 0.138421\n",
            "Train Epoch: 6 [50560/60000 (84%)]\tLoss: 0.019963\n",
            "Train Epoch: 6 [51200/60000 (85%)]\tLoss: 0.047547\n",
            "Train Epoch: 6 [51840/60000 (86%)]\tLoss: 0.043975\n",
            "Train Epoch: 6 [52480/60000 (87%)]\tLoss: 0.105913\n",
            "Train Epoch: 6 [53120/60000 (88%)]\tLoss: 0.030712\n",
            "Train Epoch: 6 [53760/60000 (90%)]\tLoss: 0.027851\n",
            "Train Epoch: 6 [54400/60000 (91%)]\tLoss: 0.059459\n",
            "Train Epoch: 6 [55040/60000 (92%)]\tLoss: 0.038363\n",
            "Train Epoch: 6 [55680/60000 (93%)]\tLoss: 0.266240\n",
            "Train Epoch: 6 [56320/60000 (94%)]\tLoss: 0.037633\n",
            "Train Epoch: 6 [56960/60000 (95%)]\tLoss: 0.100769\n",
            "Train Epoch: 6 [57600/60000 (96%)]\tLoss: 0.058947\n",
            "Train Epoch: 6 [58240/60000 (97%)]\tLoss: 0.067738\n",
            "Train Epoch: 6 [58880/60000 (98%)]\tLoss: 0.141207\n",
            "Train Epoch: 6 [59520/60000 (99%)]\tLoss: 0.031593\n",
            "\n",
            "Test set: Average loss: 0.0550, Accuracy: 9828/10000 (98%)\n",
            "\n",
            "Train Epoch: 7 [0/60000 (0%)]\tLoss: 0.053003\n",
            "Train Epoch: 7 [640/60000 (1%)]\tLoss: 0.038177\n",
            "Train Epoch: 7 [1280/60000 (2%)]\tLoss: 0.012636\n",
            "Train Epoch: 7 [1920/60000 (3%)]\tLoss: 0.032687\n",
            "Train Epoch: 7 [2560/60000 (4%)]\tLoss: 0.005953\n",
            "Train Epoch: 7 [3200/60000 (5%)]\tLoss: 0.016332\n",
            "Train Epoch: 7 [3840/60000 (6%)]\tLoss: 0.079661\n",
            "Train Epoch: 7 [4480/60000 (7%)]\tLoss: 0.036824\n",
            "Train Epoch: 7 [5120/60000 (9%)]\tLoss: 0.079690\n",
            "Train Epoch: 7 [5760/60000 (10%)]\tLoss: 0.038274\n",
            "Train Epoch: 7 [6400/60000 (11%)]\tLoss: 0.210933\n",
            "Train Epoch: 7 [7040/60000 (12%)]\tLoss: 0.027101\n",
            "Train Epoch: 7 [7680/60000 (13%)]\tLoss: 0.053178\n",
            "Train Epoch: 7 [8320/60000 (14%)]\tLoss: 0.118749\n",
            "Train Epoch: 7 [8960/60000 (15%)]\tLoss: 0.110499\n",
            "Train Epoch: 7 [9600/60000 (16%)]\tLoss: 0.012844\n",
            "Train Epoch: 7 [10240/60000 (17%)]\tLoss: 0.043119\n",
            "Train Epoch: 7 [10880/60000 (18%)]\tLoss: 0.019683\n",
            "Train Epoch: 7 [11520/60000 (19%)]\tLoss: 0.157300\n",
            "Train Epoch: 7 [12160/60000 (20%)]\tLoss: 0.052943\n",
            "Train Epoch: 7 [12800/60000 (21%)]\tLoss: 0.081338\n",
            "Train Epoch: 7 [13440/60000 (22%)]\tLoss: 0.105646\n",
            "Train Epoch: 7 [14080/60000 (23%)]\tLoss: 0.019866\n",
            "Train Epoch: 7 [14720/60000 (25%)]\tLoss: 0.101919\n",
            "Train Epoch: 7 [15360/60000 (26%)]\tLoss: 0.088702\n",
            "Train Epoch: 7 [16000/60000 (27%)]\tLoss: 0.224879\n",
            "Train Epoch: 7 [16640/60000 (28%)]\tLoss: 0.200932\n",
            "Train Epoch: 7 [17280/60000 (29%)]\tLoss: 0.127953\n",
            "Train Epoch: 7 [17920/60000 (30%)]\tLoss: 0.131418\n",
            "Train Epoch: 7 [18560/60000 (31%)]\tLoss: 0.018401\n",
            "Train Epoch: 7 [19200/60000 (32%)]\tLoss: 0.117194\n",
            "Train Epoch: 7 [19840/60000 (33%)]\tLoss: 0.063332\n",
            "Train Epoch: 7 [20480/60000 (34%)]\tLoss: 0.121391\n",
            "Train Epoch: 7 [21120/60000 (35%)]\tLoss: 0.071025\n",
            "Train Epoch: 7 [21760/60000 (36%)]\tLoss: 0.034151\n",
            "Train Epoch: 7 [22400/60000 (37%)]\tLoss: 0.087935\n",
            "Train Epoch: 7 [23040/60000 (38%)]\tLoss: 0.046051\n",
            "Train Epoch: 7 [23680/60000 (39%)]\tLoss: 0.167599\n",
            "Train Epoch: 7 [24320/60000 (41%)]\tLoss: 0.016907\n",
            "Train Epoch: 7 [24960/60000 (42%)]\tLoss: 0.033391\n",
            "Train Epoch: 7 [25600/60000 (43%)]\tLoss: 0.114595\n",
            "Train Epoch: 7 [26240/60000 (44%)]\tLoss: 0.079830\n",
            "Train Epoch: 7 [26880/60000 (45%)]\tLoss: 0.103222\n",
            "Train Epoch: 7 [27520/60000 (46%)]\tLoss: 0.077279\n",
            "Train Epoch: 7 [28160/60000 (47%)]\tLoss: 0.079991\n",
            "Train Epoch: 7 [28800/60000 (48%)]\tLoss: 0.019523\n",
            "Train Epoch: 7 [29440/60000 (49%)]\tLoss: 0.087677\n",
            "Train Epoch: 7 [30080/60000 (50%)]\tLoss: 0.044313\n",
            "Train Epoch: 7 [30720/60000 (51%)]\tLoss: 0.119461\n",
            "Train Epoch: 7 [31360/60000 (52%)]\tLoss: 0.042317\n",
            "Train Epoch: 7 [32000/60000 (53%)]\tLoss: 0.025548\n",
            "Train Epoch: 7 [32640/60000 (54%)]\tLoss: 0.018886\n",
            "Train Epoch: 7 [33280/60000 (55%)]\tLoss: 0.141571\n",
            "Train Epoch: 7 [33920/60000 (57%)]\tLoss: 0.038916\n",
            "Train Epoch: 7 [34560/60000 (58%)]\tLoss: 0.035222\n",
            "Train Epoch: 7 [35200/60000 (59%)]\tLoss: 0.071575\n",
            "Train Epoch: 7 [35840/60000 (60%)]\tLoss: 0.033780\n",
            "Train Epoch: 7 [36480/60000 (61%)]\tLoss: 0.056495\n",
            "Train Epoch: 7 [37120/60000 (62%)]\tLoss: 0.059100\n",
            "Train Epoch: 7 [37760/60000 (63%)]\tLoss: 0.219768\n",
            "Train Epoch: 7 [38400/60000 (64%)]\tLoss: 0.014636\n",
            "Train Epoch: 7 [39040/60000 (65%)]\tLoss: 0.062375\n",
            "Train Epoch: 7 [39680/60000 (66%)]\tLoss: 0.026256\n",
            "Train Epoch: 7 [40320/60000 (67%)]\tLoss: 0.113402\n",
            "Train Epoch: 7 [40960/60000 (68%)]\tLoss: 0.103756\n",
            "Train Epoch: 7 [41600/60000 (69%)]\tLoss: 0.035073\n",
            "Train Epoch: 7 [42240/60000 (70%)]\tLoss: 0.056432\n",
            "Train Epoch: 7 [42880/60000 (71%)]\tLoss: 0.120435\n",
            "Train Epoch: 7 [43520/60000 (72%)]\tLoss: 0.053694\n",
            "Train Epoch: 7 [44160/60000 (74%)]\tLoss: 0.044239\n",
            "Train Epoch: 7 [44800/60000 (75%)]\tLoss: 0.187832\n",
            "Train Epoch: 7 [45440/60000 (76%)]\tLoss: 0.044096\n",
            "Train Epoch: 7 [46080/60000 (77%)]\tLoss: 0.038684\n",
            "Train Epoch: 7 [46720/60000 (78%)]\tLoss: 0.175494\n",
            "Train Epoch: 7 [47360/60000 (79%)]\tLoss: 0.045266\n",
            "Train Epoch: 7 [48000/60000 (80%)]\tLoss: 0.073128\n",
            "Train Epoch: 7 [48640/60000 (81%)]\tLoss: 0.062006\n",
            "Train Epoch: 7 [49280/60000 (82%)]\tLoss: 0.016049\n",
            "Train Epoch: 7 [49920/60000 (83%)]\tLoss: 0.088041\n",
            "Train Epoch: 7 [50560/60000 (84%)]\tLoss: 0.067265\n",
            "Train Epoch: 7 [51200/60000 (85%)]\tLoss: 0.057504\n",
            "Train Epoch: 7 [51840/60000 (86%)]\tLoss: 0.040797\n",
            "Train Epoch: 7 [52480/60000 (87%)]\tLoss: 0.049586\n",
            "Train Epoch: 7 [53120/60000 (88%)]\tLoss: 0.020721\n",
            "Train Epoch: 7 [53760/60000 (90%)]\tLoss: 0.066750\n",
            "Train Epoch: 7 [54400/60000 (91%)]\tLoss: 0.040821\n",
            "Train Epoch: 7 [55040/60000 (92%)]\tLoss: 0.073050\n",
            "Train Epoch: 7 [55680/60000 (93%)]\tLoss: 0.045676\n",
            "Train Epoch: 7 [56320/60000 (94%)]\tLoss: 0.047379\n",
            "Train Epoch: 7 [56960/60000 (95%)]\tLoss: 0.026238\n",
            "Train Epoch: 7 [57600/60000 (96%)]\tLoss: 0.065338\n",
            "Train Epoch: 7 [58240/60000 (97%)]\tLoss: 0.114543\n",
            "Train Epoch: 7 [58880/60000 (98%)]\tLoss: 0.036270\n",
            "Train Epoch: 7 [59520/60000 (99%)]\tLoss: 0.021841\n",
            "\n",
            "Test set: Average loss: 0.0626, Accuracy: 9802/10000 (98%)\n",
            "\n",
            "Train Epoch: 8 [0/60000 (0%)]\tLoss: 0.076783\n",
            "Train Epoch: 8 [640/60000 (1%)]\tLoss: 0.072085\n",
            "Train Epoch: 8 [1280/60000 (2%)]\tLoss: 0.117294\n",
            "Train Epoch: 8 [1920/60000 (3%)]\tLoss: 0.078682\n",
            "Train Epoch: 8 [2560/60000 (4%)]\tLoss: 0.088099\n",
            "Train Epoch: 8 [3200/60000 (5%)]\tLoss: 0.056350\n",
            "Train Epoch: 8 [3840/60000 (6%)]\tLoss: 0.162839\n",
            "Train Epoch: 8 [4480/60000 (7%)]\tLoss: 0.079782\n",
            "Train Epoch: 8 [5120/60000 (9%)]\tLoss: 0.081935\n",
            "Train Epoch: 8 [5760/60000 (10%)]\tLoss: 0.049972\n",
            "Train Epoch: 8 [6400/60000 (11%)]\tLoss: 0.028861\n",
            "Train Epoch: 8 [7040/60000 (12%)]\tLoss: 0.010733\n",
            "Train Epoch: 8 [7680/60000 (13%)]\tLoss: 0.040645\n",
            "Train Epoch: 8 [8320/60000 (14%)]\tLoss: 0.017737\n",
            "Train Epoch: 8 [8960/60000 (15%)]\tLoss: 0.046203\n",
            "Train Epoch: 8 [9600/60000 (16%)]\tLoss: 0.016261\n",
            "Train Epoch: 8 [10240/60000 (17%)]\tLoss: 0.019028\n",
            "Train Epoch: 8 [10880/60000 (18%)]\tLoss: 0.032218\n",
            "Train Epoch: 8 [11520/60000 (19%)]\tLoss: 0.034530\n",
            "Train Epoch: 8 [12160/60000 (20%)]\tLoss: 0.016168\n",
            "Train Epoch: 8 [12800/60000 (21%)]\tLoss: 0.080902\n",
            "Train Epoch: 8 [13440/60000 (22%)]\tLoss: 0.093165\n",
            "Train Epoch: 8 [14080/60000 (23%)]\tLoss: 0.240916\n",
            "Train Epoch: 8 [14720/60000 (25%)]\tLoss: 0.088478\n",
            "Train Epoch: 8 [15360/60000 (26%)]\tLoss: 0.036991\n",
            "Train Epoch: 8 [16000/60000 (27%)]\tLoss: 0.042507\n",
            "Train Epoch: 8 [16640/60000 (28%)]\tLoss: 0.056319\n",
            "Train Epoch: 8 [17280/60000 (29%)]\tLoss: 0.018863\n",
            "Train Epoch: 8 [17920/60000 (30%)]\tLoss: 0.147220\n",
            "Train Epoch: 8 [18560/60000 (31%)]\tLoss: 0.030360\n",
            "Train Epoch: 8 [19200/60000 (32%)]\tLoss: 0.017042\n",
            "Train Epoch: 8 [19840/60000 (33%)]\tLoss: 0.049498\n",
            "Train Epoch: 8 [20480/60000 (34%)]\tLoss: 0.087589\n",
            "Train Epoch: 8 [21120/60000 (35%)]\tLoss: 0.110996\n",
            "Train Epoch: 8 [21760/60000 (36%)]\tLoss: 0.064868\n",
            "Train Epoch: 8 [22400/60000 (37%)]\tLoss: 0.024983\n",
            "Train Epoch: 8 [23040/60000 (38%)]\tLoss: 0.090544\n",
            "Train Epoch: 8 [23680/60000 (39%)]\tLoss: 0.013571\n",
            "Train Epoch: 8 [24320/60000 (41%)]\tLoss: 0.041702\n",
            "Train Epoch: 8 [24960/60000 (42%)]\tLoss: 0.043647\n",
            "Train Epoch: 8 [25600/60000 (43%)]\tLoss: 0.043109\n",
            "Train Epoch: 8 [26240/60000 (44%)]\tLoss: 0.057562\n",
            "Train Epoch: 8 [26880/60000 (45%)]\tLoss: 0.025761\n",
            "Train Epoch: 8 [27520/60000 (46%)]\tLoss: 0.088796\n",
            "Train Epoch: 8 [28160/60000 (47%)]\tLoss: 0.023406\n",
            "Train Epoch: 8 [28800/60000 (48%)]\tLoss: 0.028849\n",
            "Train Epoch: 8 [29440/60000 (49%)]\tLoss: 0.188801\n",
            "Train Epoch: 8 [30080/60000 (50%)]\tLoss: 0.075220\n",
            "Train Epoch: 8 [30720/60000 (51%)]\tLoss: 0.027786\n",
            "Train Epoch: 8 [31360/60000 (52%)]\tLoss: 0.063631\n",
            "Train Epoch: 8 [32000/60000 (53%)]\tLoss: 0.011827\n",
            "Train Epoch: 8 [32640/60000 (54%)]\tLoss: 0.165673\n",
            "Train Epoch: 8 [33280/60000 (55%)]\tLoss: 0.059563\n",
            "Train Epoch: 8 [33920/60000 (57%)]\tLoss: 0.031502\n",
            "Train Epoch: 8 [34560/60000 (58%)]\tLoss: 0.056924\n",
            "Train Epoch: 8 [35200/60000 (59%)]\tLoss: 0.038994\n",
            "Train Epoch: 8 [35840/60000 (60%)]\tLoss: 0.012082\n",
            "Train Epoch: 8 [36480/60000 (61%)]\tLoss: 0.030994\n",
            "Train Epoch: 8 [37120/60000 (62%)]\tLoss: 0.019307\n",
            "Train Epoch: 8 [37760/60000 (63%)]\tLoss: 0.051468\n",
            "Train Epoch: 8 [38400/60000 (64%)]\tLoss: 0.034019\n",
            "Train Epoch: 8 [39040/60000 (65%)]\tLoss: 0.008132\n",
            "Train Epoch: 8 [39680/60000 (66%)]\tLoss: 0.017345\n",
            "Train Epoch: 8 [40320/60000 (67%)]\tLoss: 0.026350\n",
            "Train Epoch: 8 [40960/60000 (68%)]\tLoss: 0.143795\n",
            "Train Epoch: 8 [41600/60000 (69%)]\tLoss: 0.028010\n",
            "Train Epoch: 8 [42240/60000 (70%)]\tLoss: 0.243672\n",
            "Train Epoch: 8 [42880/60000 (71%)]\tLoss: 0.063830\n",
            "Train Epoch: 8 [43520/60000 (72%)]\tLoss: 0.123331\n",
            "Train Epoch: 8 [44160/60000 (74%)]\tLoss: 0.043663\n",
            "Train Epoch: 8 [44800/60000 (75%)]\tLoss: 0.074850\n",
            "Train Epoch: 8 [45440/60000 (76%)]\tLoss: 0.021097\n",
            "Train Epoch: 8 [46080/60000 (77%)]\tLoss: 0.087206\n",
            "Train Epoch: 8 [46720/60000 (78%)]\tLoss: 0.017689\n",
            "Train Epoch: 8 [47360/60000 (79%)]\tLoss: 0.032984\n",
            "Train Epoch: 8 [48000/60000 (80%)]\tLoss: 0.058179\n",
            "Train Epoch: 8 [48640/60000 (81%)]\tLoss: 0.022574\n",
            "Train Epoch: 8 [49280/60000 (82%)]\tLoss: 0.024473\n",
            "Train Epoch: 8 [49920/60000 (83%)]\tLoss: 0.043568\n",
            "Train Epoch: 8 [50560/60000 (84%)]\tLoss: 0.095474\n",
            "Train Epoch: 8 [51200/60000 (85%)]\tLoss: 0.183101\n",
            "Train Epoch: 8 [51840/60000 (86%)]\tLoss: 0.026525\n",
            "Train Epoch: 8 [52480/60000 (87%)]\tLoss: 0.091266\n",
            "Train Epoch: 8 [53120/60000 (88%)]\tLoss: 0.066072\n",
            "Train Epoch: 8 [53760/60000 (90%)]\tLoss: 0.042887\n",
            "Train Epoch: 8 [54400/60000 (91%)]\tLoss: 0.042306\n",
            "Train Epoch: 8 [55040/60000 (92%)]\tLoss: 0.075417\n",
            "Train Epoch: 8 [55680/60000 (93%)]\tLoss: 0.028857\n",
            "Train Epoch: 8 [56320/60000 (94%)]\tLoss: 0.013172\n",
            "Train Epoch: 8 [56960/60000 (95%)]\tLoss: 0.030621\n",
            "Train Epoch: 8 [57600/60000 (96%)]\tLoss: 0.047387\n",
            "Train Epoch: 8 [58240/60000 (97%)]\tLoss: 0.031135\n",
            "Train Epoch: 8 [58880/60000 (98%)]\tLoss: 0.039846\n",
            "Train Epoch: 8 [59520/60000 (99%)]\tLoss: 0.081958\n",
            "\n",
            "Test set: Average loss: 0.0496, Accuracy: 9837/10000 (98%)\n",
            "\n",
            "Train Epoch: 9 [0/60000 (0%)]\tLoss: 0.079392\n",
            "Train Epoch: 9 [640/60000 (1%)]\tLoss: 0.112404\n",
            "Train Epoch: 9 [1280/60000 (2%)]\tLoss: 0.041756\n",
            "Train Epoch: 9 [1920/60000 (3%)]\tLoss: 0.021809\n",
            "Train Epoch: 9 [2560/60000 (4%)]\tLoss: 0.030873\n",
            "Train Epoch: 9 [3200/60000 (5%)]\tLoss: 0.022765\n",
            "Train Epoch: 9 [3840/60000 (6%)]\tLoss: 0.084372\n",
            "Train Epoch: 9 [4480/60000 (7%)]\tLoss: 0.061233\n",
            "Train Epoch: 9 [5120/60000 (9%)]\tLoss: 0.084099\n",
            "Train Epoch: 9 [5760/60000 (10%)]\tLoss: 0.055687\n",
            "Train Epoch: 9 [6400/60000 (11%)]\tLoss: 0.010533\n",
            "Train Epoch: 9 [7040/60000 (12%)]\tLoss: 0.159638\n",
            "Train Epoch: 9 [7680/60000 (13%)]\tLoss: 0.146603\n",
            "Train Epoch: 9 [8320/60000 (14%)]\tLoss: 0.096294\n",
            "Train Epoch: 9 [8960/60000 (15%)]\tLoss: 0.126787\n",
            "Train Epoch: 9 [9600/60000 (16%)]\tLoss: 0.047830\n",
            "Train Epoch: 9 [10240/60000 (17%)]\tLoss: 0.142693\n",
            "Train Epoch: 9 [10880/60000 (18%)]\tLoss: 0.079400\n",
            "Train Epoch: 9 [11520/60000 (19%)]\tLoss: 0.504065\n",
            "Train Epoch: 9 [12160/60000 (20%)]\tLoss: 0.037435\n",
            "Train Epoch: 9 [12800/60000 (21%)]\tLoss: 0.024903\n",
            "Train Epoch: 9 [13440/60000 (22%)]\tLoss: 0.150926\n",
            "Train Epoch: 9 [14080/60000 (23%)]\tLoss: 0.067684\n",
            "Train Epoch: 9 [14720/60000 (25%)]\tLoss: 0.035145\n",
            "Train Epoch: 9 [15360/60000 (26%)]\tLoss: 0.039128\n",
            "Train Epoch: 9 [16000/60000 (27%)]\tLoss: 0.119660\n",
            "Train Epoch: 9 [16640/60000 (28%)]\tLoss: 0.028117\n",
            "Train Epoch: 9 [17280/60000 (29%)]\tLoss: 0.032964\n",
            "Train Epoch: 9 [17920/60000 (30%)]\tLoss: 0.029142\n",
            "Train Epoch: 9 [18560/60000 (31%)]\tLoss: 0.061848\n",
            "Train Epoch: 9 [19200/60000 (32%)]\tLoss: 0.066814\n",
            "Train Epoch: 9 [19840/60000 (33%)]\tLoss: 0.014756\n",
            "Train Epoch: 9 [20480/60000 (34%)]\tLoss: 0.042011\n",
            "Train Epoch: 9 [21120/60000 (35%)]\tLoss: 0.053796\n",
            "Train Epoch: 9 [21760/60000 (36%)]\tLoss: 0.093390\n",
            "Train Epoch: 9 [22400/60000 (37%)]\tLoss: 0.044034\n",
            "Train Epoch: 9 [23040/60000 (38%)]\tLoss: 0.055215\n",
            "Train Epoch: 9 [23680/60000 (39%)]\tLoss: 0.012146\n",
            "Train Epoch: 9 [24320/60000 (41%)]\tLoss: 0.029298\n",
            "Train Epoch: 9 [24960/60000 (42%)]\tLoss: 0.004439\n",
            "Train Epoch: 9 [25600/60000 (43%)]\tLoss: 0.124818\n",
            "Train Epoch: 9 [26240/60000 (44%)]\tLoss: 0.027388\n",
            "Train Epoch: 9 [26880/60000 (45%)]\tLoss: 0.086474\n",
            "Train Epoch: 9 [27520/60000 (46%)]\tLoss: 0.006088\n",
            "Train Epoch: 9 [28160/60000 (47%)]\tLoss: 0.025431\n",
            "Train Epoch: 9 [28800/60000 (48%)]\tLoss: 0.091087\n",
            "Train Epoch: 9 [29440/60000 (49%)]\tLoss: 0.013567\n",
            "Train Epoch: 9 [30080/60000 (50%)]\tLoss: 0.030462\n",
            "Train Epoch: 9 [30720/60000 (51%)]\tLoss: 0.153822\n",
            "Train Epoch: 9 [31360/60000 (52%)]\tLoss: 0.198274\n",
            "Train Epoch: 9 [32000/60000 (53%)]\tLoss: 0.059676\n",
            "Train Epoch: 9 [32640/60000 (54%)]\tLoss: 0.048456\n",
            "Train Epoch: 9 [33280/60000 (55%)]\tLoss: 0.035742\n",
            "Train Epoch: 9 [33920/60000 (57%)]\tLoss: 0.060693\n",
            "Train Epoch: 9 [34560/60000 (58%)]\tLoss: 0.038674\n",
            "Train Epoch: 9 [35200/60000 (59%)]\tLoss: 0.134096\n",
            "Train Epoch: 9 [35840/60000 (60%)]\tLoss: 0.134777\n",
            "Train Epoch: 9 [36480/60000 (61%)]\tLoss: 0.123308\n",
            "Train Epoch: 9 [37120/60000 (62%)]\tLoss: 0.141990\n",
            "Train Epoch: 9 [37760/60000 (63%)]\tLoss: 0.015020\n",
            "Train Epoch: 9 [38400/60000 (64%)]\tLoss: 0.056669\n",
            "Train Epoch: 9 [39040/60000 (65%)]\tLoss: 0.038491\n",
            "Train Epoch: 9 [39680/60000 (66%)]\tLoss: 0.039437\n",
            "Train Epoch: 9 [40320/60000 (67%)]\tLoss: 0.133472\n",
            "Train Epoch: 9 [40960/60000 (68%)]\tLoss: 0.046475\n",
            "Train Epoch: 9 [41600/60000 (69%)]\tLoss: 0.054919\n",
            "Train Epoch: 9 [42240/60000 (70%)]\tLoss: 0.020805\n",
            "Train Epoch: 9 [42880/60000 (71%)]\tLoss: 0.014027\n",
            "Train Epoch: 9 [43520/60000 (72%)]\tLoss: 0.105098\n",
            "Train Epoch: 9 [44160/60000 (74%)]\tLoss: 0.055064\n",
            "Train Epoch: 9 [44800/60000 (75%)]\tLoss: 0.010085\n",
            "Train Epoch: 9 [45440/60000 (76%)]\tLoss: 0.070058\n",
            "Train Epoch: 9 [46080/60000 (77%)]\tLoss: 0.038042\n",
            "Train Epoch: 9 [46720/60000 (78%)]\tLoss: 0.072509\n",
            "Train Epoch: 9 [47360/60000 (79%)]\tLoss: 0.037160\n",
            "Train Epoch: 9 [48000/60000 (80%)]\tLoss: 0.096927\n",
            "Train Epoch: 9 [48640/60000 (81%)]\tLoss: 0.014247\n",
            "Train Epoch: 9 [49280/60000 (82%)]\tLoss: 0.087460\n",
            "Train Epoch: 9 [49920/60000 (83%)]\tLoss: 0.026112\n",
            "Train Epoch: 9 [50560/60000 (84%)]\tLoss: 0.024968\n",
            "Train Epoch: 9 [51200/60000 (85%)]\tLoss: 0.016558\n",
            "Train Epoch: 9 [51840/60000 (86%)]\tLoss: 0.058049\n",
            "Train Epoch: 9 [52480/60000 (87%)]\tLoss: 0.043118\n",
            "Train Epoch: 9 [53120/60000 (88%)]\tLoss: 0.039897\n",
            "Train Epoch: 9 [53760/60000 (90%)]\tLoss: 0.058739\n",
            "Train Epoch: 9 [54400/60000 (91%)]\tLoss: 0.095671\n",
            "Train Epoch: 9 [55040/60000 (92%)]\tLoss: 0.005865\n",
            "Train Epoch: 9 [55680/60000 (93%)]\tLoss: 0.068959\n",
            "Train Epoch: 9 [56320/60000 (94%)]\tLoss: 0.033165\n",
            "Train Epoch: 9 [56960/60000 (95%)]\tLoss: 0.017842\n",
            "Train Epoch: 9 [57600/60000 (96%)]\tLoss: 0.071675\n",
            "Train Epoch: 9 [58240/60000 (97%)]\tLoss: 0.059112\n",
            "Train Epoch: 9 [58880/60000 (98%)]\tLoss: 0.053055\n",
            "Train Epoch: 9 [59520/60000 (99%)]\tLoss: 0.010871\n",
            "\n",
            "Test set: Average loss: 0.0484, Accuracy: 9843/10000 (98%)\n",
            "\n"
          ]
        }
      ]
    }
  ]
}