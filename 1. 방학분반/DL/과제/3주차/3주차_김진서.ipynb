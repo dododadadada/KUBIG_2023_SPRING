{
  "nbformat": 4,
  "nbformat_minor": 0,
  "metadata": {
    "colab": {
      "provenance": [],
      "toc_visible": true
    },
    "kernelspec": {
      "name": "python3",
      "display_name": "Python 3"
    },
    "language_info": {
      "name": "python"
    },
    "widgets": {
      "application/vnd.jupyter.widget-state+json": {
        "18931726d1264140829114b9fbcf627f": {
          "model_module": "@jupyter-widgets/controls",
          "model_name": "HBoxModel",
          "model_module_version": "1.5.0",
          "state": {
            "_dom_classes": [],
            "_model_module": "@jupyter-widgets/controls",
            "_model_module_version": "1.5.0",
            "_model_name": "HBoxModel",
            "_view_count": null,
            "_view_module": "@jupyter-widgets/controls",
            "_view_module_version": "1.5.0",
            "_view_name": "HBoxView",
            "box_style": "",
            "children": [
              "IPY_MODEL_c6337d39ca24493ba339efce3496dff7",
              "IPY_MODEL_43b10847c567432e8f224b25eca8dd7a",
              "IPY_MODEL_38f22fdd0b6e4175b954cd55b61f7434"
            ],
            "layout": "IPY_MODEL_f1871bc909b745e4919e757b0bfe35d0"
          }
        },
        "c6337d39ca24493ba339efce3496dff7": {
          "model_module": "@jupyter-widgets/controls",
          "model_name": "HTMLModel",
          "model_module_version": "1.5.0",
          "state": {
            "_dom_classes": [],
            "_model_module": "@jupyter-widgets/controls",
            "_model_module_version": "1.5.0",
            "_model_name": "HTMLModel",
            "_view_count": null,
            "_view_module": "@jupyter-widgets/controls",
            "_view_module_version": "1.5.0",
            "_view_name": "HTMLView",
            "description": "",
            "description_tooltip": null,
            "layout": "IPY_MODEL_9a9eb5e83b724df899506a13507b175a",
            "placeholder": "​",
            "style": "IPY_MODEL_1b4a147330114eeba17cff4ec849a486",
            "value": "100%"
          }
        },
        "43b10847c567432e8f224b25eca8dd7a": {
          "model_module": "@jupyter-widgets/controls",
          "model_name": "FloatProgressModel",
          "model_module_version": "1.5.0",
          "state": {
            "_dom_classes": [],
            "_model_module": "@jupyter-widgets/controls",
            "_model_module_version": "1.5.0",
            "_model_name": "FloatProgressModel",
            "_view_count": null,
            "_view_module": "@jupyter-widgets/controls",
            "_view_module_version": "1.5.0",
            "_view_name": "ProgressView",
            "bar_style": "success",
            "description": "",
            "description_tooltip": null,
            "layout": "IPY_MODEL_73ab6f658f2741f5a8b780e89db9fa71",
            "max": 9912422,
            "min": 0,
            "orientation": "horizontal",
            "style": "IPY_MODEL_305ae92a5f74429ea351b2da4e5e71a7",
            "value": 9912422
          }
        },
        "38f22fdd0b6e4175b954cd55b61f7434": {
          "model_module": "@jupyter-widgets/controls",
          "model_name": "HTMLModel",
          "model_module_version": "1.5.0",
          "state": {
            "_dom_classes": [],
            "_model_module": "@jupyter-widgets/controls",
            "_model_module_version": "1.5.0",
            "_model_name": "HTMLModel",
            "_view_count": null,
            "_view_module": "@jupyter-widgets/controls",
            "_view_module_version": "1.5.0",
            "_view_name": "HTMLView",
            "description": "",
            "description_tooltip": null,
            "layout": "IPY_MODEL_9bb77054ce554d57914b76d7774ba41d",
            "placeholder": "​",
            "style": "IPY_MODEL_63f42b1dfcdb41fd9a71ed49a3d8e95a",
            "value": " 9912422/9912422 [00:00&lt;00:00, 21488984.58it/s]"
          }
        },
        "f1871bc909b745e4919e757b0bfe35d0": {
          "model_module": "@jupyter-widgets/base",
          "model_name": "LayoutModel",
          "model_module_version": "1.2.0",
          "state": {
            "_model_module": "@jupyter-widgets/base",
            "_model_module_version": "1.2.0",
            "_model_name": "LayoutModel",
            "_view_count": null,
            "_view_module": "@jupyter-widgets/base",
            "_view_module_version": "1.2.0",
            "_view_name": "LayoutView",
            "align_content": null,
            "align_items": null,
            "align_self": null,
            "border": null,
            "bottom": null,
            "display": null,
            "flex": null,
            "flex_flow": null,
            "grid_area": null,
            "grid_auto_columns": null,
            "grid_auto_flow": null,
            "grid_auto_rows": null,
            "grid_column": null,
            "grid_gap": null,
            "grid_row": null,
            "grid_template_areas": null,
            "grid_template_columns": null,
            "grid_template_rows": null,
            "height": null,
            "justify_content": null,
            "justify_items": null,
            "left": null,
            "margin": null,
            "max_height": null,
            "max_width": null,
            "min_height": null,
            "min_width": null,
            "object_fit": null,
            "object_position": null,
            "order": null,
            "overflow": null,
            "overflow_x": null,
            "overflow_y": null,
            "padding": null,
            "right": null,
            "top": null,
            "visibility": null,
            "width": null
          }
        },
        "9a9eb5e83b724df899506a13507b175a": {
          "model_module": "@jupyter-widgets/base",
          "model_name": "LayoutModel",
          "model_module_version": "1.2.0",
          "state": {
            "_model_module": "@jupyter-widgets/base",
            "_model_module_version": "1.2.0",
            "_model_name": "LayoutModel",
            "_view_count": null,
            "_view_module": "@jupyter-widgets/base",
            "_view_module_version": "1.2.0",
            "_view_name": "LayoutView",
            "align_content": null,
            "align_items": null,
            "align_self": null,
            "border": null,
            "bottom": null,
            "display": null,
            "flex": null,
            "flex_flow": null,
            "grid_area": null,
            "grid_auto_columns": null,
            "grid_auto_flow": null,
            "grid_auto_rows": null,
            "grid_column": null,
            "grid_gap": null,
            "grid_row": null,
            "grid_template_areas": null,
            "grid_template_columns": null,
            "grid_template_rows": null,
            "height": null,
            "justify_content": null,
            "justify_items": null,
            "left": null,
            "margin": null,
            "max_height": null,
            "max_width": null,
            "min_height": null,
            "min_width": null,
            "object_fit": null,
            "object_position": null,
            "order": null,
            "overflow": null,
            "overflow_x": null,
            "overflow_y": null,
            "padding": null,
            "right": null,
            "top": null,
            "visibility": null,
            "width": null
          }
        },
        "1b4a147330114eeba17cff4ec849a486": {
          "model_module": "@jupyter-widgets/controls",
          "model_name": "DescriptionStyleModel",
          "model_module_version": "1.5.0",
          "state": {
            "_model_module": "@jupyter-widgets/controls",
            "_model_module_version": "1.5.0",
            "_model_name": "DescriptionStyleModel",
            "_view_count": null,
            "_view_module": "@jupyter-widgets/base",
            "_view_module_version": "1.2.0",
            "_view_name": "StyleView",
            "description_width": ""
          }
        },
        "73ab6f658f2741f5a8b780e89db9fa71": {
          "model_module": "@jupyter-widgets/base",
          "model_name": "LayoutModel",
          "model_module_version": "1.2.0",
          "state": {
            "_model_module": "@jupyter-widgets/base",
            "_model_module_version": "1.2.0",
            "_model_name": "LayoutModel",
            "_view_count": null,
            "_view_module": "@jupyter-widgets/base",
            "_view_module_version": "1.2.0",
            "_view_name": "LayoutView",
            "align_content": null,
            "align_items": null,
            "align_self": null,
            "border": null,
            "bottom": null,
            "display": null,
            "flex": null,
            "flex_flow": null,
            "grid_area": null,
            "grid_auto_columns": null,
            "grid_auto_flow": null,
            "grid_auto_rows": null,
            "grid_column": null,
            "grid_gap": null,
            "grid_row": null,
            "grid_template_areas": null,
            "grid_template_columns": null,
            "grid_template_rows": null,
            "height": null,
            "justify_content": null,
            "justify_items": null,
            "left": null,
            "margin": null,
            "max_height": null,
            "max_width": null,
            "min_height": null,
            "min_width": null,
            "object_fit": null,
            "object_position": null,
            "order": null,
            "overflow": null,
            "overflow_x": null,
            "overflow_y": null,
            "padding": null,
            "right": null,
            "top": null,
            "visibility": null,
            "width": null
          }
        },
        "305ae92a5f74429ea351b2da4e5e71a7": {
          "model_module": "@jupyter-widgets/controls",
          "model_name": "ProgressStyleModel",
          "model_module_version": "1.5.0",
          "state": {
            "_model_module": "@jupyter-widgets/controls",
            "_model_module_version": "1.5.0",
            "_model_name": "ProgressStyleModel",
            "_view_count": null,
            "_view_module": "@jupyter-widgets/base",
            "_view_module_version": "1.2.0",
            "_view_name": "StyleView",
            "bar_color": null,
            "description_width": ""
          }
        },
        "9bb77054ce554d57914b76d7774ba41d": {
          "model_module": "@jupyter-widgets/base",
          "model_name": "LayoutModel",
          "model_module_version": "1.2.0",
          "state": {
            "_model_module": "@jupyter-widgets/base",
            "_model_module_version": "1.2.0",
            "_model_name": "LayoutModel",
            "_view_count": null,
            "_view_module": "@jupyter-widgets/base",
            "_view_module_version": "1.2.0",
            "_view_name": "LayoutView",
            "align_content": null,
            "align_items": null,
            "align_self": null,
            "border": null,
            "bottom": null,
            "display": null,
            "flex": null,
            "flex_flow": null,
            "grid_area": null,
            "grid_auto_columns": null,
            "grid_auto_flow": null,
            "grid_auto_rows": null,
            "grid_column": null,
            "grid_gap": null,
            "grid_row": null,
            "grid_template_areas": null,
            "grid_template_columns": null,
            "grid_template_rows": null,
            "height": null,
            "justify_content": null,
            "justify_items": null,
            "left": null,
            "margin": null,
            "max_height": null,
            "max_width": null,
            "min_height": null,
            "min_width": null,
            "object_fit": null,
            "object_position": null,
            "order": null,
            "overflow": null,
            "overflow_x": null,
            "overflow_y": null,
            "padding": null,
            "right": null,
            "top": null,
            "visibility": null,
            "width": null
          }
        },
        "63f42b1dfcdb41fd9a71ed49a3d8e95a": {
          "model_module": "@jupyter-widgets/controls",
          "model_name": "DescriptionStyleModel",
          "model_module_version": "1.5.0",
          "state": {
            "_model_module": "@jupyter-widgets/controls",
            "_model_module_version": "1.5.0",
            "_model_name": "DescriptionStyleModel",
            "_view_count": null,
            "_view_module": "@jupyter-widgets/base",
            "_view_module_version": "1.2.0",
            "_view_name": "StyleView",
            "description_width": ""
          }
        },
        "9bb4f62b697a48f29ecc8c00ed731ffe": {
          "model_module": "@jupyter-widgets/controls",
          "model_name": "HBoxModel",
          "model_module_version": "1.5.0",
          "state": {
            "_dom_classes": [],
            "_model_module": "@jupyter-widgets/controls",
            "_model_module_version": "1.5.0",
            "_model_name": "HBoxModel",
            "_view_count": null,
            "_view_module": "@jupyter-widgets/controls",
            "_view_module_version": "1.5.0",
            "_view_name": "HBoxView",
            "box_style": "",
            "children": [
              "IPY_MODEL_b67708eb38c44655b745184847c2bf5f",
              "IPY_MODEL_622d37b5fcd041cabc1ebd25a2c13090",
              "IPY_MODEL_5104028028834b5890b4f09900ff1a3d"
            ],
            "layout": "IPY_MODEL_b37cf260b2384f3f87e8269064035063"
          }
        },
        "b67708eb38c44655b745184847c2bf5f": {
          "model_module": "@jupyter-widgets/controls",
          "model_name": "HTMLModel",
          "model_module_version": "1.5.0",
          "state": {
            "_dom_classes": [],
            "_model_module": "@jupyter-widgets/controls",
            "_model_module_version": "1.5.0",
            "_model_name": "HTMLModel",
            "_view_count": null,
            "_view_module": "@jupyter-widgets/controls",
            "_view_module_version": "1.5.0",
            "_view_name": "HTMLView",
            "description": "",
            "description_tooltip": null,
            "layout": "IPY_MODEL_0c7fc72711a14c16a7529ee3aff00930",
            "placeholder": "​",
            "style": "IPY_MODEL_f616cb3a3058437d85361621847b67d3",
            "value": "100%"
          }
        },
        "622d37b5fcd041cabc1ebd25a2c13090": {
          "model_module": "@jupyter-widgets/controls",
          "model_name": "FloatProgressModel",
          "model_module_version": "1.5.0",
          "state": {
            "_dom_classes": [],
            "_model_module": "@jupyter-widgets/controls",
            "_model_module_version": "1.5.0",
            "_model_name": "FloatProgressModel",
            "_view_count": null,
            "_view_module": "@jupyter-widgets/controls",
            "_view_module_version": "1.5.0",
            "_view_name": "ProgressView",
            "bar_style": "success",
            "description": "",
            "description_tooltip": null,
            "layout": "IPY_MODEL_271095bbb7fb46508e70750f8e6ffb07",
            "max": 28881,
            "min": 0,
            "orientation": "horizontal",
            "style": "IPY_MODEL_64bcb8659eec49ddad44bb3a66cfb924",
            "value": 28881
          }
        },
        "5104028028834b5890b4f09900ff1a3d": {
          "model_module": "@jupyter-widgets/controls",
          "model_name": "HTMLModel",
          "model_module_version": "1.5.0",
          "state": {
            "_dom_classes": [],
            "_model_module": "@jupyter-widgets/controls",
            "_model_module_version": "1.5.0",
            "_model_name": "HTMLModel",
            "_view_count": null,
            "_view_module": "@jupyter-widgets/controls",
            "_view_module_version": "1.5.0",
            "_view_name": "HTMLView",
            "description": "",
            "description_tooltip": null,
            "layout": "IPY_MODEL_51d885e1cc004fa8bd52e681be276c0f",
            "placeholder": "​",
            "style": "IPY_MODEL_9efbf59c714a4faaa462f0bd228ae149",
            "value": " 28881/28881 [00:00&lt;00:00, 293446.74it/s]"
          }
        },
        "b37cf260b2384f3f87e8269064035063": {
          "model_module": "@jupyter-widgets/base",
          "model_name": "LayoutModel",
          "model_module_version": "1.2.0",
          "state": {
            "_model_module": "@jupyter-widgets/base",
            "_model_module_version": "1.2.0",
            "_model_name": "LayoutModel",
            "_view_count": null,
            "_view_module": "@jupyter-widgets/base",
            "_view_module_version": "1.2.0",
            "_view_name": "LayoutView",
            "align_content": null,
            "align_items": null,
            "align_self": null,
            "border": null,
            "bottom": null,
            "display": null,
            "flex": null,
            "flex_flow": null,
            "grid_area": null,
            "grid_auto_columns": null,
            "grid_auto_flow": null,
            "grid_auto_rows": null,
            "grid_column": null,
            "grid_gap": null,
            "grid_row": null,
            "grid_template_areas": null,
            "grid_template_columns": null,
            "grid_template_rows": null,
            "height": null,
            "justify_content": null,
            "justify_items": null,
            "left": null,
            "margin": null,
            "max_height": null,
            "max_width": null,
            "min_height": null,
            "min_width": null,
            "object_fit": null,
            "object_position": null,
            "order": null,
            "overflow": null,
            "overflow_x": null,
            "overflow_y": null,
            "padding": null,
            "right": null,
            "top": null,
            "visibility": null,
            "width": null
          }
        },
        "0c7fc72711a14c16a7529ee3aff00930": {
          "model_module": "@jupyter-widgets/base",
          "model_name": "LayoutModel",
          "model_module_version": "1.2.0",
          "state": {
            "_model_module": "@jupyter-widgets/base",
            "_model_module_version": "1.2.0",
            "_model_name": "LayoutModel",
            "_view_count": null,
            "_view_module": "@jupyter-widgets/base",
            "_view_module_version": "1.2.0",
            "_view_name": "LayoutView",
            "align_content": null,
            "align_items": null,
            "align_self": null,
            "border": null,
            "bottom": null,
            "display": null,
            "flex": null,
            "flex_flow": null,
            "grid_area": null,
            "grid_auto_columns": null,
            "grid_auto_flow": null,
            "grid_auto_rows": null,
            "grid_column": null,
            "grid_gap": null,
            "grid_row": null,
            "grid_template_areas": null,
            "grid_template_columns": null,
            "grid_template_rows": null,
            "height": null,
            "justify_content": null,
            "justify_items": null,
            "left": null,
            "margin": null,
            "max_height": null,
            "max_width": null,
            "min_height": null,
            "min_width": null,
            "object_fit": null,
            "object_position": null,
            "order": null,
            "overflow": null,
            "overflow_x": null,
            "overflow_y": null,
            "padding": null,
            "right": null,
            "top": null,
            "visibility": null,
            "width": null
          }
        },
        "f616cb3a3058437d85361621847b67d3": {
          "model_module": "@jupyter-widgets/controls",
          "model_name": "DescriptionStyleModel",
          "model_module_version": "1.5.0",
          "state": {
            "_model_module": "@jupyter-widgets/controls",
            "_model_module_version": "1.5.0",
            "_model_name": "DescriptionStyleModel",
            "_view_count": null,
            "_view_module": "@jupyter-widgets/base",
            "_view_module_version": "1.2.0",
            "_view_name": "StyleView",
            "description_width": ""
          }
        },
        "271095bbb7fb46508e70750f8e6ffb07": {
          "model_module": "@jupyter-widgets/base",
          "model_name": "LayoutModel",
          "model_module_version": "1.2.0",
          "state": {
            "_model_module": "@jupyter-widgets/base",
            "_model_module_version": "1.2.0",
            "_model_name": "LayoutModel",
            "_view_count": null,
            "_view_module": "@jupyter-widgets/base",
            "_view_module_version": "1.2.0",
            "_view_name": "LayoutView",
            "align_content": null,
            "align_items": null,
            "align_self": null,
            "border": null,
            "bottom": null,
            "display": null,
            "flex": null,
            "flex_flow": null,
            "grid_area": null,
            "grid_auto_columns": null,
            "grid_auto_flow": null,
            "grid_auto_rows": null,
            "grid_column": null,
            "grid_gap": null,
            "grid_row": null,
            "grid_template_areas": null,
            "grid_template_columns": null,
            "grid_template_rows": null,
            "height": null,
            "justify_content": null,
            "justify_items": null,
            "left": null,
            "margin": null,
            "max_height": null,
            "max_width": null,
            "min_height": null,
            "min_width": null,
            "object_fit": null,
            "object_position": null,
            "order": null,
            "overflow": null,
            "overflow_x": null,
            "overflow_y": null,
            "padding": null,
            "right": null,
            "top": null,
            "visibility": null,
            "width": null
          }
        },
        "64bcb8659eec49ddad44bb3a66cfb924": {
          "model_module": "@jupyter-widgets/controls",
          "model_name": "ProgressStyleModel",
          "model_module_version": "1.5.0",
          "state": {
            "_model_module": "@jupyter-widgets/controls",
            "_model_module_version": "1.5.0",
            "_model_name": "ProgressStyleModel",
            "_view_count": null,
            "_view_module": "@jupyter-widgets/base",
            "_view_module_version": "1.2.0",
            "_view_name": "StyleView",
            "bar_color": null,
            "description_width": ""
          }
        },
        "51d885e1cc004fa8bd52e681be276c0f": {
          "model_module": "@jupyter-widgets/base",
          "model_name": "LayoutModel",
          "model_module_version": "1.2.0",
          "state": {
            "_model_module": "@jupyter-widgets/base",
            "_model_module_version": "1.2.0",
            "_model_name": "LayoutModel",
            "_view_count": null,
            "_view_module": "@jupyter-widgets/base",
            "_view_module_version": "1.2.0",
            "_view_name": "LayoutView",
            "align_content": null,
            "align_items": null,
            "align_self": null,
            "border": null,
            "bottom": null,
            "display": null,
            "flex": null,
            "flex_flow": null,
            "grid_area": null,
            "grid_auto_columns": null,
            "grid_auto_flow": null,
            "grid_auto_rows": null,
            "grid_column": null,
            "grid_gap": null,
            "grid_row": null,
            "grid_template_areas": null,
            "grid_template_columns": null,
            "grid_template_rows": null,
            "height": null,
            "justify_content": null,
            "justify_items": null,
            "left": null,
            "margin": null,
            "max_height": null,
            "max_width": null,
            "min_height": null,
            "min_width": null,
            "object_fit": null,
            "object_position": null,
            "order": null,
            "overflow": null,
            "overflow_x": null,
            "overflow_y": null,
            "padding": null,
            "right": null,
            "top": null,
            "visibility": null,
            "width": null
          }
        },
        "9efbf59c714a4faaa462f0bd228ae149": {
          "model_module": "@jupyter-widgets/controls",
          "model_name": "DescriptionStyleModel",
          "model_module_version": "1.5.0",
          "state": {
            "_model_module": "@jupyter-widgets/controls",
            "_model_module_version": "1.5.0",
            "_model_name": "DescriptionStyleModel",
            "_view_count": null,
            "_view_module": "@jupyter-widgets/base",
            "_view_module_version": "1.2.0",
            "_view_name": "StyleView",
            "description_width": ""
          }
        },
        "cd8104d8149440cb8a0b4ff1890cff8b": {
          "model_module": "@jupyter-widgets/controls",
          "model_name": "HBoxModel",
          "model_module_version": "1.5.0",
          "state": {
            "_dom_classes": [],
            "_model_module": "@jupyter-widgets/controls",
            "_model_module_version": "1.5.0",
            "_model_name": "HBoxModel",
            "_view_count": null,
            "_view_module": "@jupyter-widgets/controls",
            "_view_module_version": "1.5.0",
            "_view_name": "HBoxView",
            "box_style": "",
            "children": [
              "IPY_MODEL_204ffc5bdf344ca395397d59a7d7d00b",
              "IPY_MODEL_22abed2fd2594279a91a93950e64fe31",
              "IPY_MODEL_f03a00d768a841d49a50869d7f5fdeaf"
            ],
            "layout": "IPY_MODEL_472fea44f34147c5b23ebd42b2c43d30"
          }
        },
        "204ffc5bdf344ca395397d59a7d7d00b": {
          "model_module": "@jupyter-widgets/controls",
          "model_name": "HTMLModel",
          "model_module_version": "1.5.0",
          "state": {
            "_dom_classes": [],
            "_model_module": "@jupyter-widgets/controls",
            "_model_module_version": "1.5.0",
            "_model_name": "HTMLModel",
            "_view_count": null,
            "_view_module": "@jupyter-widgets/controls",
            "_view_module_version": "1.5.0",
            "_view_name": "HTMLView",
            "description": "",
            "description_tooltip": null,
            "layout": "IPY_MODEL_1d78531f33ac4ef9a714fa5d7c26830c",
            "placeholder": "​",
            "style": "IPY_MODEL_39f8a240d1a542c4811f60abc1160816",
            "value": "100%"
          }
        },
        "22abed2fd2594279a91a93950e64fe31": {
          "model_module": "@jupyter-widgets/controls",
          "model_name": "FloatProgressModel",
          "model_module_version": "1.5.0",
          "state": {
            "_dom_classes": [],
            "_model_module": "@jupyter-widgets/controls",
            "_model_module_version": "1.5.0",
            "_model_name": "FloatProgressModel",
            "_view_count": null,
            "_view_module": "@jupyter-widgets/controls",
            "_view_module_version": "1.5.0",
            "_view_name": "ProgressView",
            "bar_style": "success",
            "description": "",
            "description_tooltip": null,
            "layout": "IPY_MODEL_9912eafabda54fa1a4d836897476db1b",
            "max": 1648877,
            "min": 0,
            "orientation": "horizontal",
            "style": "IPY_MODEL_eec65b306adc49c69d0bcfa0f7933d1e",
            "value": 1648877
          }
        },
        "f03a00d768a841d49a50869d7f5fdeaf": {
          "model_module": "@jupyter-widgets/controls",
          "model_name": "HTMLModel",
          "model_module_version": "1.5.0",
          "state": {
            "_dom_classes": [],
            "_model_module": "@jupyter-widgets/controls",
            "_model_module_version": "1.5.0",
            "_model_name": "HTMLModel",
            "_view_count": null,
            "_view_module": "@jupyter-widgets/controls",
            "_view_module_version": "1.5.0",
            "_view_name": "HTMLView",
            "description": "",
            "description_tooltip": null,
            "layout": "IPY_MODEL_51d084cc04ef4a7882af81548bc682e3",
            "placeholder": "​",
            "style": "IPY_MODEL_ea746700e89e41d39074324e73e79fa6",
            "value": " 1648877/1648877 [00:00&lt;00:00, 4259376.93it/s]"
          }
        },
        "472fea44f34147c5b23ebd42b2c43d30": {
          "model_module": "@jupyter-widgets/base",
          "model_name": "LayoutModel",
          "model_module_version": "1.2.0",
          "state": {
            "_model_module": "@jupyter-widgets/base",
            "_model_module_version": "1.2.0",
            "_model_name": "LayoutModel",
            "_view_count": null,
            "_view_module": "@jupyter-widgets/base",
            "_view_module_version": "1.2.0",
            "_view_name": "LayoutView",
            "align_content": null,
            "align_items": null,
            "align_self": null,
            "border": null,
            "bottom": null,
            "display": null,
            "flex": null,
            "flex_flow": null,
            "grid_area": null,
            "grid_auto_columns": null,
            "grid_auto_flow": null,
            "grid_auto_rows": null,
            "grid_column": null,
            "grid_gap": null,
            "grid_row": null,
            "grid_template_areas": null,
            "grid_template_columns": null,
            "grid_template_rows": null,
            "height": null,
            "justify_content": null,
            "justify_items": null,
            "left": null,
            "margin": null,
            "max_height": null,
            "max_width": null,
            "min_height": null,
            "min_width": null,
            "object_fit": null,
            "object_position": null,
            "order": null,
            "overflow": null,
            "overflow_x": null,
            "overflow_y": null,
            "padding": null,
            "right": null,
            "top": null,
            "visibility": null,
            "width": null
          }
        },
        "1d78531f33ac4ef9a714fa5d7c26830c": {
          "model_module": "@jupyter-widgets/base",
          "model_name": "LayoutModel",
          "model_module_version": "1.2.0",
          "state": {
            "_model_module": "@jupyter-widgets/base",
            "_model_module_version": "1.2.0",
            "_model_name": "LayoutModel",
            "_view_count": null,
            "_view_module": "@jupyter-widgets/base",
            "_view_module_version": "1.2.0",
            "_view_name": "LayoutView",
            "align_content": null,
            "align_items": null,
            "align_self": null,
            "border": null,
            "bottom": null,
            "display": null,
            "flex": null,
            "flex_flow": null,
            "grid_area": null,
            "grid_auto_columns": null,
            "grid_auto_flow": null,
            "grid_auto_rows": null,
            "grid_column": null,
            "grid_gap": null,
            "grid_row": null,
            "grid_template_areas": null,
            "grid_template_columns": null,
            "grid_template_rows": null,
            "height": null,
            "justify_content": null,
            "justify_items": null,
            "left": null,
            "margin": null,
            "max_height": null,
            "max_width": null,
            "min_height": null,
            "min_width": null,
            "object_fit": null,
            "object_position": null,
            "order": null,
            "overflow": null,
            "overflow_x": null,
            "overflow_y": null,
            "padding": null,
            "right": null,
            "top": null,
            "visibility": null,
            "width": null
          }
        },
        "39f8a240d1a542c4811f60abc1160816": {
          "model_module": "@jupyter-widgets/controls",
          "model_name": "DescriptionStyleModel",
          "model_module_version": "1.5.0",
          "state": {
            "_model_module": "@jupyter-widgets/controls",
            "_model_module_version": "1.5.0",
            "_model_name": "DescriptionStyleModel",
            "_view_count": null,
            "_view_module": "@jupyter-widgets/base",
            "_view_module_version": "1.2.0",
            "_view_name": "StyleView",
            "description_width": ""
          }
        },
        "9912eafabda54fa1a4d836897476db1b": {
          "model_module": "@jupyter-widgets/base",
          "model_name": "LayoutModel",
          "model_module_version": "1.2.0",
          "state": {
            "_model_module": "@jupyter-widgets/base",
            "_model_module_version": "1.2.0",
            "_model_name": "LayoutModel",
            "_view_count": null,
            "_view_module": "@jupyter-widgets/base",
            "_view_module_version": "1.2.0",
            "_view_name": "LayoutView",
            "align_content": null,
            "align_items": null,
            "align_self": null,
            "border": null,
            "bottom": null,
            "display": null,
            "flex": null,
            "flex_flow": null,
            "grid_area": null,
            "grid_auto_columns": null,
            "grid_auto_flow": null,
            "grid_auto_rows": null,
            "grid_column": null,
            "grid_gap": null,
            "grid_row": null,
            "grid_template_areas": null,
            "grid_template_columns": null,
            "grid_template_rows": null,
            "height": null,
            "justify_content": null,
            "justify_items": null,
            "left": null,
            "margin": null,
            "max_height": null,
            "max_width": null,
            "min_height": null,
            "min_width": null,
            "object_fit": null,
            "object_position": null,
            "order": null,
            "overflow": null,
            "overflow_x": null,
            "overflow_y": null,
            "padding": null,
            "right": null,
            "top": null,
            "visibility": null,
            "width": null
          }
        },
        "eec65b306adc49c69d0bcfa0f7933d1e": {
          "model_module": "@jupyter-widgets/controls",
          "model_name": "ProgressStyleModel",
          "model_module_version": "1.5.0",
          "state": {
            "_model_module": "@jupyter-widgets/controls",
            "_model_module_version": "1.5.0",
            "_model_name": "ProgressStyleModel",
            "_view_count": null,
            "_view_module": "@jupyter-widgets/base",
            "_view_module_version": "1.2.0",
            "_view_name": "StyleView",
            "bar_color": null,
            "description_width": ""
          }
        },
        "51d084cc04ef4a7882af81548bc682e3": {
          "model_module": "@jupyter-widgets/base",
          "model_name": "LayoutModel",
          "model_module_version": "1.2.0",
          "state": {
            "_model_module": "@jupyter-widgets/base",
            "_model_module_version": "1.2.0",
            "_model_name": "LayoutModel",
            "_view_count": null,
            "_view_module": "@jupyter-widgets/base",
            "_view_module_version": "1.2.0",
            "_view_name": "LayoutView",
            "align_content": null,
            "align_items": null,
            "align_self": null,
            "border": null,
            "bottom": null,
            "display": null,
            "flex": null,
            "flex_flow": null,
            "grid_area": null,
            "grid_auto_columns": null,
            "grid_auto_flow": null,
            "grid_auto_rows": null,
            "grid_column": null,
            "grid_gap": null,
            "grid_row": null,
            "grid_template_areas": null,
            "grid_template_columns": null,
            "grid_template_rows": null,
            "height": null,
            "justify_content": null,
            "justify_items": null,
            "left": null,
            "margin": null,
            "max_height": null,
            "max_width": null,
            "min_height": null,
            "min_width": null,
            "object_fit": null,
            "object_position": null,
            "order": null,
            "overflow": null,
            "overflow_x": null,
            "overflow_y": null,
            "padding": null,
            "right": null,
            "top": null,
            "visibility": null,
            "width": null
          }
        },
        "ea746700e89e41d39074324e73e79fa6": {
          "model_module": "@jupyter-widgets/controls",
          "model_name": "DescriptionStyleModel",
          "model_module_version": "1.5.0",
          "state": {
            "_model_module": "@jupyter-widgets/controls",
            "_model_module_version": "1.5.0",
            "_model_name": "DescriptionStyleModel",
            "_view_count": null,
            "_view_module": "@jupyter-widgets/base",
            "_view_module_version": "1.2.0",
            "_view_name": "StyleView",
            "description_width": ""
          }
        },
        "1544a63a325642a089c30749353141e3": {
          "model_module": "@jupyter-widgets/controls",
          "model_name": "HBoxModel",
          "model_module_version": "1.5.0",
          "state": {
            "_dom_classes": [],
            "_model_module": "@jupyter-widgets/controls",
            "_model_module_version": "1.5.0",
            "_model_name": "HBoxModel",
            "_view_count": null,
            "_view_module": "@jupyter-widgets/controls",
            "_view_module_version": "1.5.0",
            "_view_name": "HBoxView",
            "box_style": "",
            "children": [
              "IPY_MODEL_8f8fd8639eeb491b994f72b14581baf2",
              "IPY_MODEL_b04114a0c2714a20a3f87edadcbf44cb",
              "IPY_MODEL_8591c55a878a4ad38f5a4d45b5f78510"
            ],
            "layout": "IPY_MODEL_257b0889544541aba5cce696d105fe30"
          }
        },
        "8f8fd8639eeb491b994f72b14581baf2": {
          "model_module": "@jupyter-widgets/controls",
          "model_name": "HTMLModel",
          "model_module_version": "1.5.0",
          "state": {
            "_dom_classes": [],
            "_model_module": "@jupyter-widgets/controls",
            "_model_module_version": "1.5.0",
            "_model_name": "HTMLModel",
            "_view_count": null,
            "_view_module": "@jupyter-widgets/controls",
            "_view_module_version": "1.5.0",
            "_view_name": "HTMLView",
            "description": "",
            "description_tooltip": null,
            "layout": "IPY_MODEL_ebda18b3eb544ec995e948894c360ed8",
            "placeholder": "​",
            "style": "IPY_MODEL_5e9deaf3364c494182467520f785a463",
            "value": "100%"
          }
        },
        "b04114a0c2714a20a3f87edadcbf44cb": {
          "model_module": "@jupyter-widgets/controls",
          "model_name": "FloatProgressModel",
          "model_module_version": "1.5.0",
          "state": {
            "_dom_classes": [],
            "_model_module": "@jupyter-widgets/controls",
            "_model_module_version": "1.5.0",
            "_model_name": "FloatProgressModel",
            "_view_count": null,
            "_view_module": "@jupyter-widgets/controls",
            "_view_module_version": "1.5.0",
            "_view_name": "ProgressView",
            "bar_style": "success",
            "description": "",
            "description_tooltip": null,
            "layout": "IPY_MODEL_b16b185606d749a8b80ee316cf9bae02",
            "max": 4542,
            "min": 0,
            "orientation": "horizontal",
            "style": "IPY_MODEL_ef21de61f3f44bc9a8ff404749f92345",
            "value": 4542
          }
        },
        "8591c55a878a4ad38f5a4d45b5f78510": {
          "model_module": "@jupyter-widgets/controls",
          "model_name": "HTMLModel",
          "model_module_version": "1.5.0",
          "state": {
            "_dom_classes": [],
            "_model_module": "@jupyter-widgets/controls",
            "_model_module_version": "1.5.0",
            "_model_name": "HTMLModel",
            "_view_count": null,
            "_view_module": "@jupyter-widgets/controls",
            "_view_module_version": "1.5.0",
            "_view_name": "HTMLView",
            "description": "",
            "description_tooltip": null,
            "layout": "IPY_MODEL_31360943068b434d873de1e1dfbe1f81",
            "placeholder": "​",
            "style": "IPY_MODEL_804f6170a16a42f698c103f4b9b56255",
            "value": " 4542/4542 [00:00&lt;00:00, 52773.30it/s]"
          }
        },
        "257b0889544541aba5cce696d105fe30": {
          "model_module": "@jupyter-widgets/base",
          "model_name": "LayoutModel",
          "model_module_version": "1.2.0",
          "state": {
            "_model_module": "@jupyter-widgets/base",
            "_model_module_version": "1.2.0",
            "_model_name": "LayoutModel",
            "_view_count": null,
            "_view_module": "@jupyter-widgets/base",
            "_view_module_version": "1.2.0",
            "_view_name": "LayoutView",
            "align_content": null,
            "align_items": null,
            "align_self": null,
            "border": null,
            "bottom": null,
            "display": null,
            "flex": null,
            "flex_flow": null,
            "grid_area": null,
            "grid_auto_columns": null,
            "grid_auto_flow": null,
            "grid_auto_rows": null,
            "grid_column": null,
            "grid_gap": null,
            "grid_row": null,
            "grid_template_areas": null,
            "grid_template_columns": null,
            "grid_template_rows": null,
            "height": null,
            "justify_content": null,
            "justify_items": null,
            "left": null,
            "margin": null,
            "max_height": null,
            "max_width": null,
            "min_height": null,
            "min_width": null,
            "object_fit": null,
            "object_position": null,
            "order": null,
            "overflow": null,
            "overflow_x": null,
            "overflow_y": null,
            "padding": null,
            "right": null,
            "top": null,
            "visibility": null,
            "width": null
          }
        },
        "ebda18b3eb544ec995e948894c360ed8": {
          "model_module": "@jupyter-widgets/base",
          "model_name": "LayoutModel",
          "model_module_version": "1.2.0",
          "state": {
            "_model_module": "@jupyter-widgets/base",
            "_model_module_version": "1.2.0",
            "_model_name": "LayoutModel",
            "_view_count": null,
            "_view_module": "@jupyter-widgets/base",
            "_view_module_version": "1.2.0",
            "_view_name": "LayoutView",
            "align_content": null,
            "align_items": null,
            "align_self": null,
            "border": null,
            "bottom": null,
            "display": null,
            "flex": null,
            "flex_flow": null,
            "grid_area": null,
            "grid_auto_columns": null,
            "grid_auto_flow": null,
            "grid_auto_rows": null,
            "grid_column": null,
            "grid_gap": null,
            "grid_row": null,
            "grid_template_areas": null,
            "grid_template_columns": null,
            "grid_template_rows": null,
            "height": null,
            "justify_content": null,
            "justify_items": null,
            "left": null,
            "margin": null,
            "max_height": null,
            "max_width": null,
            "min_height": null,
            "min_width": null,
            "object_fit": null,
            "object_position": null,
            "order": null,
            "overflow": null,
            "overflow_x": null,
            "overflow_y": null,
            "padding": null,
            "right": null,
            "top": null,
            "visibility": null,
            "width": null
          }
        },
        "5e9deaf3364c494182467520f785a463": {
          "model_module": "@jupyter-widgets/controls",
          "model_name": "DescriptionStyleModel",
          "model_module_version": "1.5.0",
          "state": {
            "_model_module": "@jupyter-widgets/controls",
            "_model_module_version": "1.5.0",
            "_model_name": "DescriptionStyleModel",
            "_view_count": null,
            "_view_module": "@jupyter-widgets/base",
            "_view_module_version": "1.2.0",
            "_view_name": "StyleView",
            "description_width": ""
          }
        },
        "b16b185606d749a8b80ee316cf9bae02": {
          "model_module": "@jupyter-widgets/base",
          "model_name": "LayoutModel",
          "model_module_version": "1.2.0",
          "state": {
            "_model_module": "@jupyter-widgets/base",
            "_model_module_version": "1.2.0",
            "_model_name": "LayoutModel",
            "_view_count": null,
            "_view_module": "@jupyter-widgets/base",
            "_view_module_version": "1.2.0",
            "_view_name": "LayoutView",
            "align_content": null,
            "align_items": null,
            "align_self": null,
            "border": null,
            "bottom": null,
            "display": null,
            "flex": null,
            "flex_flow": null,
            "grid_area": null,
            "grid_auto_columns": null,
            "grid_auto_flow": null,
            "grid_auto_rows": null,
            "grid_column": null,
            "grid_gap": null,
            "grid_row": null,
            "grid_template_areas": null,
            "grid_template_columns": null,
            "grid_template_rows": null,
            "height": null,
            "justify_content": null,
            "justify_items": null,
            "left": null,
            "margin": null,
            "max_height": null,
            "max_width": null,
            "min_height": null,
            "min_width": null,
            "object_fit": null,
            "object_position": null,
            "order": null,
            "overflow": null,
            "overflow_x": null,
            "overflow_y": null,
            "padding": null,
            "right": null,
            "top": null,
            "visibility": null,
            "width": null
          }
        },
        "ef21de61f3f44bc9a8ff404749f92345": {
          "model_module": "@jupyter-widgets/controls",
          "model_name": "ProgressStyleModel",
          "model_module_version": "1.5.0",
          "state": {
            "_model_module": "@jupyter-widgets/controls",
            "_model_module_version": "1.5.0",
            "_model_name": "ProgressStyleModel",
            "_view_count": null,
            "_view_module": "@jupyter-widgets/base",
            "_view_module_version": "1.2.0",
            "_view_name": "StyleView",
            "bar_color": null,
            "description_width": ""
          }
        },
        "31360943068b434d873de1e1dfbe1f81": {
          "model_module": "@jupyter-widgets/base",
          "model_name": "LayoutModel",
          "model_module_version": "1.2.0",
          "state": {
            "_model_module": "@jupyter-widgets/base",
            "_model_module_version": "1.2.0",
            "_model_name": "LayoutModel",
            "_view_count": null,
            "_view_module": "@jupyter-widgets/base",
            "_view_module_version": "1.2.0",
            "_view_name": "LayoutView",
            "align_content": null,
            "align_items": null,
            "align_self": null,
            "border": null,
            "bottom": null,
            "display": null,
            "flex": null,
            "flex_flow": null,
            "grid_area": null,
            "grid_auto_columns": null,
            "grid_auto_flow": null,
            "grid_auto_rows": null,
            "grid_column": null,
            "grid_gap": null,
            "grid_row": null,
            "grid_template_areas": null,
            "grid_template_columns": null,
            "grid_template_rows": null,
            "height": null,
            "justify_content": null,
            "justify_items": null,
            "left": null,
            "margin": null,
            "max_height": null,
            "max_width": null,
            "min_height": null,
            "min_width": null,
            "object_fit": null,
            "object_position": null,
            "order": null,
            "overflow": null,
            "overflow_x": null,
            "overflow_y": null,
            "padding": null,
            "right": null,
            "top": null,
            "visibility": null,
            "width": null
          }
        },
        "804f6170a16a42f698c103f4b9b56255": {
          "model_module": "@jupyter-widgets/controls",
          "model_name": "DescriptionStyleModel",
          "model_module_version": "1.5.0",
          "state": {
            "_model_module": "@jupyter-widgets/controls",
            "_model_module_version": "1.5.0",
            "_model_name": "DescriptionStyleModel",
            "_view_count": null,
            "_view_module": "@jupyter-widgets/base",
            "_view_module_version": "1.2.0",
            "_view_name": "StyleView",
            "description_width": ""
          }
        }
      }
    }
  },
  "cells": [
    {
      "cell_type": "markdown",
      "metadata": {
        "id": "sgAYo4nrw2F4"
      },
      "source": [
        "# < 3주차 과제 1 : MLP 마음대로 다뤄보기>\n",
        "- dataset을 임의로 선정해서 직접 분석 해보기(제공한 코드를 활용해서 해보기)\n",
        "- activation functions 중 relu사용시 함수 직접 정의\n",
        "- lr, optimizer 등 바꿔보기\n",
        "- hidden layer/neuron 수를 바꾸기\n",
        "- 전처리도 추가\n",
        "- 모든 시도를 올려주세요!\n",
        "- 제일 높은 acc를 보인 시도를 명시해주세요!\n"
      ]
    },
    {
      "cell_type": "code",
      "execution_count": null,
      "metadata": {
        "colab": {
          "base_uri": "https://localhost:8080/"
        },
        "id": "RNjnhbsyO5KC",
        "outputId": "049a632d-7360-4000-af0e-2390b49f9b17"
      },
      "outputs": [
        {
          "output_type": "stream",
          "name": "stdout",
          "text": [
            "Looking in indexes: https://pypi.org/simple, https://us-python.pkg.dev/colab-wheels/public/simple/\n",
            "Requirement already satisfied: torch in /usr/local/lib/python3.8/dist-packages (1.13.1+cu116)\n",
            "Requirement already satisfied: typing-extensions in /usr/local/lib/python3.8/dist-packages (from torch) (4.4.0)\n"
          ]
        }
      ],
      "source": [
        "!pip install torch"
      ]
    },
    {
      "cell_type": "code",
      "execution_count": null,
      "metadata": {
        "id": "fX437IL6qbI-"
      },
      "outputs": [],
      "source": [
        "import torch\n",
        "from torch import nn, optim\n",
        "from sklearn.datasets import load_wine\n",
        "from torch.utils.data import  TensorDataset, DataLoader\n",
        "from sklearn.model_selection import train_test_split\n",
        "from sklearn.metrics import accuracy_score\n",
        "import numpy as np\n",
        "from sklearn.preprocessing import StandardScaler\n",
        "import matplotlib.pyplot as plt"
      ]
    },
    {
      "cell_type": "markdown",
      "metadata": {
        "id": "oxkFzBDNmWNk"
      },
      "source": [
        "## 아래 데이터셋 중 원하는 데이터셋 하나를 선택하여, 코드 과제 진행하기!\n",
        "- 1) load_digits() <br>\n",
        "- 2) load_wine()"
      ]
    },
    {
      "cell_type": "code",
      "execution_count": null,
      "metadata": {
        "id": "FywYbfsKtjcR"
      },
      "outputs": [],
      "source": [
        "# 데이터셋 종류 : load_wine()\n",
        "data = load_wine()"
      ]
    },
    {
      "cell_type": "code",
      "source": [
        "import pandas as pd\n",
        "import numpy as np\n",
        "# 와인 데이터를 로드한다.\n",
        "wine = load_wine()\n",
        "# 와인 데이터에서 feature 로 되어있는 데이터를 갖고 온다.\n",
        "wine_data = data.data\n",
        "# 와인 데이터에서 target 데이터를 갖고온다.\n",
        "wine_target = data.target\n",
        "# wine 데이터의 feature, target로 Dataframe을 만든다.\n",
        "df_wine = pd.DataFrame(data = wine_data, columns=[wine.feature_names])\n",
        "# feature 만 있는 데이터 프레임에 타겟 데이터를 추가한다.\n",
        "df_wine['target'] = wine.target\n",
        "df_wine"
      ],
      "metadata": {
        "colab": {
          "base_uri": "https://localhost:8080/",
          "height": 487
        },
        "id": "pNO2lhSapFXH",
        "outputId": "016a9eb4-4d52-4119-c81b-6dca44500925"
      },
      "execution_count": null,
      "outputs": [
        {
          "output_type": "execute_result",
          "data": {
            "text/plain": [
              "    alcohol malic_acid   ash alcalinity_of_ash magnesium total_phenols  \\\n",
              "0     14.23       1.71  2.43              15.6     127.0          2.80   \n",
              "1     13.20       1.78  2.14              11.2     100.0          2.65   \n",
              "2     13.16       2.36  2.67              18.6     101.0          2.80   \n",
              "3     14.37       1.95  2.50              16.8     113.0          3.85   \n",
              "4     13.24       2.59  2.87              21.0     118.0          2.80   \n",
              "..      ...        ...   ...               ...       ...           ...   \n",
              "173   13.71       5.65  2.45              20.5      95.0          1.68   \n",
              "174   13.40       3.91  2.48              23.0     102.0          1.80   \n",
              "175   13.27       4.28  2.26              20.0     120.0          1.59   \n",
              "176   13.17       2.59  2.37              20.0     120.0          1.65   \n",
              "177   14.13       4.10  2.74              24.5      96.0          2.05   \n",
              "\n",
              "    flavanoids nonflavanoid_phenols proanthocyanins color_intensity   hue  \\\n",
              "0         3.06                 0.28            2.29            5.64  1.04   \n",
              "1         2.76                 0.26            1.28            4.38  1.05   \n",
              "2         3.24                 0.30            2.81            5.68  1.03   \n",
              "3         3.49                 0.24            2.18            7.80  0.86   \n",
              "4         2.69                 0.39            1.82            4.32  1.04   \n",
              "..         ...                  ...             ...             ...   ...   \n",
              "173       0.61                 0.52            1.06            7.70  0.64   \n",
              "174       0.75                 0.43            1.41            7.30  0.70   \n",
              "175       0.69                 0.43            1.35           10.20  0.59   \n",
              "176       0.68                 0.53            1.46            9.30  0.60   \n",
              "177       0.76                 0.56            1.35            9.20  0.61   \n",
              "\n",
              "    od280/od315_of_diluted_wines proline target  \n",
              "0                           3.92  1065.0      0  \n",
              "1                           3.40  1050.0      0  \n",
              "2                           3.17  1185.0      0  \n",
              "3                           3.45  1480.0      0  \n",
              "4                           2.93   735.0      0  \n",
              "..                           ...     ...    ...  \n",
              "173                         1.74   740.0      2  \n",
              "174                         1.56   750.0      2  \n",
              "175                         1.56   835.0      2  \n",
              "176                         1.62   840.0      2  \n",
              "177                         1.60   560.0      2  \n",
              "\n",
              "[178 rows x 14 columns]"
            ],
            "text/html": [
              "\n",
              "  <div id=\"df-da2e41ab-0e2e-40cd-8637-7890467cd6fd\">\n",
              "    <div class=\"colab-df-container\">\n",
              "      <div>\n",
              "<style scoped>\n",
              "    .dataframe tbody tr th:only-of-type {\n",
              "        vertical-align: middle;\n",
              "    }\n",
              "\n",
              "    .dataframe tbody tr th {\n",
              "        vertical-align: top;\n",
              "    }\n",
              "\n",
              "    .dataframe thead tr th {\n",
              "        text-align: left;\n",
              "    }\n",
              "</style>\n",
              "<table border=\"1\" class=\"dataframe\">\n",
              "  <thead>\n",
              "    <tr>\n",
              "      <th></th>\n",
              "      <th>alcohol</th>\n",
              "      <th>malic_acid</th>\n",
              "      <th>ash</th>\n",
              "      <th>alcalinity_of_ash</th>\n",
              "      <th>magnesium</th>\n",
              "      <th>total_phenols</th>\n",
              "      <th>flavanoids</th>\n",
              "      <th>nonflavanoid_phenols</th>\n",
              "      <th>proanthocyanins</th>\n",
              "      <th>color_intensity</th>\n",
              "      <th>hue</th>\n",
              "      <th>od280/od315_of_diluted_wines</th>\n",
              "      <th>proline</th>\n",
              "      <th>target</th>\n",
              "    </tr>\n",
              "  </thead>\n",
              "  <tbody>\n",
              "    <tr>\n",
              "      <th>0</th>\n",
              "      <td>14.23</td>\n",
              "      <td>1.71</td>\n",
              "      <td>2.43</td>\n",
              "      <td>15.6</td>\n",
              "      <td>127.0</td>\n",
              "      <td>2.80</td>\n",
              "      <td>3.06</td>\n",
              "      <td>0.28</td>\n",
              "      <td>2.29</td>\n",
              "      <td>5.64</td>\n",
              "      <td>1.04</td>\n",
              "      <td>3.92</td>\n",
              "      <td>1065.0</td>\n",
              "      <td>0</td>\n",
              "    </tr>\n",
              "    <tr>\n",
              "      <th>1</th>\n",
              "      <td>13.20</td>\n",
              "      <td>1.78</td>\n",
              "      <td>2.14</td>\n",
              "      <td>11.2</td>\n",
              "      <td>100.0</td>\n",
              "      <td>2.65</td>\n",
              "      <td>2.76</td>\n",
              "      <td>0.26</td>\n",
              "      <td>1.28</td>\n",
              "      <td>4.38</td>\n",
              "      <td>1.05</td>\n",
              "      <td>3.40</td>\n",
              "      <td>1050.0</td>\n",
              "      <td>0</td>\n",
              "    </tr>\n",
              "    <tr>\n",
              "      <th>2</th>\n",
              "      <td>13.16</td>\n",
              "      <td>2.36</td>\n",
              "      <td>2.67</td>\n",
              "      <td>18.6</td>\n",
              "      <td>101.0</td>\n",
              "      <td>2.80</td>\n",
              "      <td>3.24</td>\n",
              "      <td>0.30</td>\n",
              "      <td>2.81</td>\n",
              "      <td>5.68</td>\n",
              "      <td>1.03</td>\n",
              "      <td>3.17</td>\n",
              "      <td>1185.0</td>\n",
              "      <td>0</td>\n",
              "    </tr>\n",
              "    <tr>\n",
              "      <th>3</th>\n",
              "      <td>14.37</td>\n",
              "      <td>1.95</td>\n",
              "      <td>2.50</td>\n",
              "      <td>16.8</td>\n",
              "      <td>113.0</td>\n",
              "      <td>3.85</td>\n",
              "      <td>3.49</td>\n",
              "      <td>0.24</td>\n",
              "      <td>2.18</td>\n",
              "      <td>7.80</td>\n",
              "      <td>0.86</td>\n",
              "      <td>3.45</td>\n",
              "      <td>1480.0</td>\n",
              "      <td>0</td>\n",
              "    </tr>\n",
              "    <tr>\n",
              "      <th>4</th>\n",
              "      <td>13.24</td>\n",
              "      <td>2.59</td>\n",
              "      <td>2.87</td>\n",
              "      <td>21.0</td>\n",
              "      <td>118.0</td>\n",
              "      <td>2.80</td>\n",
              "      <td>2.69</td>\n",
              "      <td>0.39</td>\n",
              "      <td>1.82</td>\n",
              "      <td>4.32</td>\n",
              "      <td>1.04</td>\n",
              "      <td>2.93</td>\n",
              "      <td>735.0</td>\n",
              "      <td>0</td>\n",
              "    </tr>\n",
              "    <tr>\n",
              "      <th>...</th>\n",
              "      <td>...</td>\n",
              "      <td>...</td>\n",
              "      <td>...</td>\n",
              "      <td>...</td>\n",
              "      <td>...</td>\n",
              "      <td>...</td>\n",
              "      <td>...</td>\n",
              "      <td>...</td>\n",
              "      <td>...</td>\n",
              "      <td>...</td>\n",
              "      <td>...</td>\n",
              "      <td>...</td>\n",
              "      <td>...</td>\n",
              "      <td>...</td>\n",
              "    </tr>\n",
              "    <tr>\n",
              "      <th>173</th>\n",
              "      <td>13.71</td>\n",
              "      <td>5.65</td>\n",
              "      <td>2.45</td>\n",
              "      <td>20.5</td>\n",
              "      <td>95.0</td>\n",
              "      <td>1.68</td>\n",
              "      <td>0.61</td>\n",
              "      <td>0.52</td>\n",
              "      <td>1.06</td>\n",
              "      <td>7.70</td>\n",
              "      <td>0.64</td>\n",
              "      <td>1.74</td>\n",
              "      <td>740.0</td>\n",
              "      <td>2</td>\n",
              "    </tr>\n",
              "    <tr>\n",
              "      <th>174</th>\n",
              "      <td>13.40</td>\n",
              "      <td>3.91</td>\n",
              "      <td>2.48</td>\n",
              "      <td>23.0</td>\n",
              "      <td>102.0</td>\n",
              "      <td>1.80</td>\n",
              "      <td>0.75</td>\n",
              "      <td>0.43</td>\n",
              "      <td>1.41</td>\n",
              "      <td>7.30</td>\n",
              "      <td>0.70</td>\n",
              "      <td>1.56</td>\n",
              "      <td>750.0</td>\n",
              "      <td>2</td>\n",
              "    </tr>\n",
              "    <tr>\n",
              "      <th>175</th>\n",
              "      <td>13.27</td>\n",
              "      <td>4.28</td>\n",
              "      <td>2.26</td>\n",
              "      <td>20.0</td>\n",
              "      <td>120.0</td>\n",
              "      <td>1.59</td>\n",
              "      <td>0.69</td>\n",
              "      <td>0.43</td>\n",
              "      <td>1.35</td>\n",
              "      <td>10.20</td>\n",
              "      <td>0.59</td>\n",
              "      <td>1.56</td>\n",
              "      <td>835.0</td>\n",
              "      <td>2</td>\n",
              "    </tr>\n",
              "    <tr>\n",
              "      <th>176</th>\n",
              "      <td>13.17</td>\n",
              "      <td>2.59</td>\n",
              "      <td>2.37</td>\n",
              "      <td>20.0</td>\n",
              "      <td>120.0</td>\n",
              "      <td>1.65</td>\n",
              "      <td>0.68</td>\n",
              "      <td>0.53</td>\n",
              "      <td>1.46</td>\n",
              "      <td>9.30</td>\n",
              "      <td>0.60</td>\n",
              "      <td>1.62</td>\n",
              "      <td>840.0</td>\n",
              "      <td>2</td>\n",
              "    </tr>\n",
              "    <tr>\n",
              "      <th>177</th>\n",
              "      <td>14.13</td>\n",
              "      <td>4.10</td>\n",
              "      <td>2.74</td>\n",
              "      <td>24.5</td>\n",
              "      <td>96.0</td>\n",
              "      <td>2.05</td>\n",
              "      <td>0.76</td>\n",
              "      <td>0.56</td>\n",
              "      <td>1.35</td>\n",
              "      <td>9.20</td>\n",
              "      <td>0.61</td>\n",
              "      <td>1.60</td>\n",
              "      <td>560.0</td>\n",
              "      <td>2</td>\n",
              "    </tr>\n",
              "  </tbody>\n",
              "</table>\n",
              "<p>178 rows × 14 columns</p>\n",
              "</div>\n",
              "      <button class=\"colab-df-convert\" onclick=\"convertToInteractive('df-da2e41ab-0e2e-40cd-8637-7890467cd6fd')\"\n",
              "              title=\"Convert this dataframe to an interactive table.\"\n",
              "              style=\"display:none;\">\n",
              "        \n",
              "  <svg xmlns=\"http://www.w3.org/2000/svg\" height=\"24px\"viewBox=\"0 0 24 24\"\n",
              "       width=\"24px\">\n",
              "    <path d=\"M0 0h24v24H0V0z\" fill=\"none\"/>\n",
              "    <path d=\"M18.56 5.44l.94 2.06.94-2.06 2.06-.94-2.06-.94-.94-2.06-.94 2.06-2.06.94zm-11 1L8.5 8.5l.94-2.06 2.06-.94-2.06-.94L8.5 2.5l-.94 2.06-2.06.94zm10 10l.94 2.06.94-2.06 2.06-.94-2.06-.94-.94-2.06-.94 2.06-2.06.94z\"/><path d=\"M17.41 7.96l-1.37-1.37c-.4-.4-.92-.59-1.43-.59-.52 0-1.04.2-1.43.59L10.3 9.45l-7.72 7.72c-.78.78-.78 2.05 0 2.83L4 21.41c.39.39.9.59 1.41.59.51 0 1.02-.2 1.41-.59l7.78-7.78 2.81-2.81c.8-.78.8-2.07 0-2.86zM5.41 20L4 18.59l7.72-7.72 1.47 1.35L5.41 20z\"/>\n",
              "  </svg>\n",
              "      </button>\n",
              "      \n",
              "  <style>\n",
              "    .colab-df-container {\n",
              "      display:flex;\n",
              "      flex-wrap:wrap;\n",
              "      gap: 12px;\n",
              "    }\n",
              "\n",
              "    .colab-df-convert {\n",
              "      background-color: #E8F0FE;\n",
              "      border: none;\n",
              "      border-radius: 50%;\n",
              "      cursor: pointer;\n",
              "      display: none;\n",
              "      fill: #1967D2;\n",
              "      height: 32px;\n",
              "      padding: 0 0 0 0;\n",
              "      width: 32px;\n",
              "    }\n",
              "\n",
              "    .colab-df-convert:hover {\n",
              "      background-color: #E2EBFA;\n",
              "      box-shadow: 0px 1px 2px rgba(60, 64, 67, 0.3), 0px 1px 3px 1px rgba(60, 64, 67, 0.15);\n",
              "      fill: #174EA6;\n",
              "    }\n",
              "\n",
              "    [theme=dark] .colab-df-convert {\n",
              "      background-color: #3B4455;\n",
              "      fill: #D2E3FC;\n",
              "    }\n",
              "\n",
              "    [theme=dark] .colab-df-convert:hover {\n",
              "      background-color: #434B5C;\n",
              "      box-shadow: 0px 1px 3px 1px rgba(0, 0, 0, 0.15);\n",
              "      filter: drop-shadow(0px 1px 2px rgba(0, 0, 0, 0.3));\n",
              "      fill: #FFFFFF;\n",
              "    }\n",
              "  </style>\n",
              "\n",
              "      <script>\n",
              "        const buttonEl =\n",
              "          document.querySelector('#df-da2e41ab-0e2e-40cd-8637-7890467cd6fd button.colab-df-convert');\n",
              "        buttonEl.style.display =\n",
              "          google.colab.kernel.accessAllowed ? 'block' : 'none';\n",
              "\n",
              "        async function convertToInteractive(key) {\n",
              "          const element = document.querySelector('#df-da2e41ab-0e2e-40cd-8637-7890467cd6fd');\n",
              "          const dataTable =\n",
              "            await google.colab.kernel.invokeFunction('convertToInteractive',\n",
              "                                                     [key], {});\n",
              "          if (!dataTable) return;\n",
              "\n",
              "          const docLinkHtml = 'Like what you see? Visit the ' +\n",
              "            '<a target=\"_blank\" href=https://colab.research.google.com/notebooks/data_table.ipynb>data table notebook</a>'\n",
              "            + ' to learn more about interactive tables.';\n",
              "          element.innerHTML = '';\n",
              "          dataTable['output_type'] = 'display_data';\n",
              "          await google.colab.output.renderOutput(dataTable, element);\n",
              "          const docLink = document.createElement('div');\n",
              "          docLink.innerHTML = docLinkHtml;\n",
              "          element.appendChild(docLink);\n",
              "        }\n",
              "      </script>\n",
              "    </div>\n",
              "  </div>\n",
              "  "
            ]
          },
          "metadata": {},
          "execution_count": 4
        }
      ]
    },
    {
      "cell_type": "code",
      "source": [
        "#Importing required packages.\n",
        "import pandas as pd\n",
        "import numpy as np\n",
        "import seaborn as sns\n",
        "import matplotlib.pyplot as plt\n",
        "from sklearn.ensemble import RandomForestClassifier\n",
        "#from sklearn.svm import SVC\n",
        "from sklearn.linear_model import SGDClassifier\n",
        "from sklearn.metrics import confusion_matrix, classification_report\n",
        "from sklearn.preprocessing import StandardScaler, LabelEncoder\n",
        "from sklearn.model_selection import train_test_split, GridSearchCV, cross_val_score\n",
        "%matplotlib inline"
      ],
      "metadata": {
        "id": "I8RIQCOqrXDq"
      },
      "execution_count": null,
      "outputs": []
    },
    {
      "cell_type": "code",
      "source": [
        "cor = df_wine.corr()\n",
        "#Correlation with output variable\n",
        "cor_target = abs(cor[\"target\"])\n",
        "#Selecting highly correlated features\n",
        "relevant_features = cor_target[cor_target>0.3]\n",
        "relevant_features"
      ],
      "metadata": {
        "colab": {
          "base_uri": "https://localhost:8080/",
          "height": 488
        },
        "id": "RYCQDlarrBjQ",
        "outputId": "580f1018-e37b-422c-f0c8-1d03358ae64f"
      },
      "execution_count": null,
      "outputs": [
        {
          "output_type": "execute_result",
          "data": {
            "text/plain": [
              "                                target\n",
              "alcohol                       0.328222\n",
              "malic_acid                    0.437776\n",
              "ash                                NaN\n",
              "alcalinity_of_ash             0.517859\n",
              "magnesium                          NaN\n",
              "total_phenols                 0.719163\n",
              "flavanoids                    0.847498\n",
              "nonflavanoid_phenols          0.489109\n",
              "proanthocyanins               0.499130\n",
              "color_intensity                    NaN\n",
              "hue                           0.617369\n",
              "od280/od315_of_diluted_wines  0.788230\n",
              "proline                       0.633717\n",
              "target                        1.000000"
            ],
            "text/html": [
              "\n",
              "  <div id=\"df-c23916ab-d469-4e19-999a-87284e9b4a7f\">\n",
              "    <div class=\"colab-df-container\">\n",
              "      <div>\n",
              "<style scoped>\n",
              "    .dataframe tbody tr th:only-of-type {\n",
              "        vertical-align: middle;\n",
              "    }\n",
              "\n",
              "    .dataframe tbody tr th {\n",
              "        vertical-align: top;\n",
              "    }\n",
              "\n",
              "    .dataframe thead tr th {\n",
              "        text-align: left;\n",
              "    }\n",
              "</style>\n",
              "<table border=\"1\" class=\"dataframe\">\n",
              "  <thead>\n",
              "    <tr>\n",
              "      <th></th>\n",
              "      <th>target</th>\n",
              "    </tr>\n",
              "  </thead>\n",
              "  <tbody>\n",
              "    <tr>\n",
              "      <th>alcohol</th>\n",
              "      <td>0.328222</td>\n",
              "    </tr>\n",
              "    <tr>\n",
              "      <th>malic_acid</th>\n",
              "      <td>0.437776</td>\n",
              "    </tr>\n",
              "    <tr>\n",
              "      <th>ash</th>\n",
              "      <td>NaN</td>\n",
              "    </tr>\n",
              "    <tr>\n",
              "      <th>alcalinity_of_ash</th>\n",
              "      <td>0.517859</td>\n",
              "    </tr>\n",
              "    <tr>\n",
              "      <th>magnesium</th>\n",
              "      <td>NaN</td>\n",
              "    </tr>\n",
              "    <tr>\n",
              "      <th>total_phenols</th>\n",
              "      <td>0.719163</td>\n",
              "    </tr>\n",
              "    <tr>\n",
              "      <th>flavanoids</th>\n",
              "      <td>0.847498</td>\n",
              "    </tr>\n",
              "    <tr>\n",
              "      <th>nonflavanoid_phenols</th>\n",
              "      <td>0.489109</td>\n",
              "    </tr>\n",
              "    <tr>\n",
              "      <th>proanthocyanins</th>\n",
              "      <td>0.499130</td>\n",
              "    </tr>\n",
              "    <tr>\n",
              "      <th>color_intensity</th>\n",
              "      <td>NaN</td>\n",
              "    </tr>\n",
              "    <tr>\n",
              "      <th>hue</th>\n",
              "      <td>0.617369</td>\n",
              "    </tr>\n",
              "    <tr>\n",
              "      <th>od280/od315_of_diluted_wines</th>\n",
              "      <td>0.788230</td>\n",
              "    </tr>\n",
              "    <tr>\n",
              "      <th>proline</th>\n",
              "      <td>0.633717</td>\n",
              "    </tr>\n",
              "    <tr>\n",
              "      <th>target</th>\n",
              "      <td>1.000000</td>\n",
              "    </tr>\n",
              "  </tbody>\n",
              "</table>\n",
              "</div>\n",
              "      <button class=\"colab-df-convert\" onclick=\"convertToInteractive('df-c23916ab-d469-4e19-999a-87284e9b4a7f')\"\n",
              "              title=\"Convert this dataframe to an interactive table.\"\n",
              "              style=\"display:none;\">\n",
              "        \n",
              "  <svg xmlns=\"http://www.w3.org/2000/svg\" height=\"24px\"viewBox=\"0 0 24 24\"\n",
              "       width=\"24px\">\n",
              "    <path d=\"M0 0h24v24H0V0z\" fill=\"none\"/>\n",
              "    <path d=\"M18.56 5.44l.94 2.06.94-2.06 2.06-.94-2.06-.94-.94-2.06-.94 2.06-2.06.94zm-11 1L8.5 8.5l.94-2.06 2.06-.94-2.06-.94L8.5 2.5l-.94 2.06-2.06.94zm10 10l.94 2.06.94-2.06 2.06-.94-2.06-.94-.94-2.06-.94 2.06-2.06.94z\"/><path d=\"M17.41 7.96l-1.37-1.37c-.4-.4-.92-.59-1.43-.59-.52 0-1.04.2-1.43.59L10.3 9.45l-7.72 7.72c-.78.78-.78 2.05 0 2.83L4 21.41c.39.39.9.59 1.41.59.51 0 1.02-.2 1.41-.59l7.78-7.78 2.81-2.81c.8-.78.8-2.07 0-2.86zM5.41 20L4 18.59l7.72-7.72 1.47 1.35L5.41 20z\"/>\n",
              "  </svg>\n",
              "      </button>\n",
              "      \n",
              "  <style>\n",
              "    .colab-df-container {\n",
              "      display:flex;\n",
              "      flex-wrap:wrap;\n",
              "      gap: 12px;\n",
              "    }\n",
              "\n",
              "    .colab-df-convert {\n",
              "      background-color: #E8F0FE;\n",
              "      border: none;\n",
              "      border-radius: 50%;\n",
              "      cursor: pointer;\n",
              "      display: none;\n",
              "      fill: #1967D2;\n",
              "      height: 32px;\n",
              "      padding: 0 0 0 0;\n",
              "      width: 32px;\n",
              "    }\n",
              "\n",
              "    .colab-df-convert:hover {\n",
              "      background-color: #E2EBFA;\n",
              "      box-shadow: 0px 1px 2px rgba(60, 64, 67, 0.3), 0px 1px 3px 1px rgba(60, 64, 67, 0.15);\n",
              "      fill: #174EA6;\n",
              "    }\n",
              "\n",
              "    [theme=dark] .colab-df-convert {\n",
              "      background-color: #3B4455;\n",
              "      fill: #D2E3FC;\n",
              "    }\n",
              "\n",
              "    [theme=dark] .colab-df-convert:hover {\n",
              "      background-color: #434B5C;\n",
              "      box-shadow: 0px 1px 3px 1px rgba(0, 0, 0, 0.15);\n",
              "      filter: drop-shadow(0px 1px 2px rgba(0, 0, 0, 0.3));\n",
              "      fill: #FFFFFF;\n",
              "    }\n",
              "  </style>\n",
              "\n",
              "      <script>\n",
              "        const buttonEl =\n",
              "          document.querySelector('#df-c23916ab-d469-4e19-999a-87284e9b4a7f button.colab-df-convert');\n",
              "        buttonEl.style.display =\n",
              "          google.colab.kernel.accessAllowed ? 'block' : 'none';\n",
              "\n",
              "        async function convertToInteractive(key) {\n",
              "          const element = document.querySelector('#df-c23916ab-d469-4e19-999a-87284e9b4a7f');\n",
              "          const dataTable =\n",
              "            await google.colab.kernel.invokeFunction('convertToInteractive',\n",
              "                                                     [key], {});\n",
              "          if (!dataTable) return;\n",
              "\n",
              "          const docLinkHtml = 'Like what you see? Visit the ' +\n",
              "            '<a target=\"_blank\" href=https://colab.research.google.com/notebooks/data_table.ipynb>data table notebook</a>'\n",
              "            + ' to learn more about interactive tables.';\n",
              "          element.innerHTML = '';\n",
              "          dataTable['output_type'] = 'display_data';\n",
              "          await google.colab.output.renderOutput(dataTable, element);\n",
              "          const docLink = document.createElement('div');\n",
              "          docLink.innerHTML = docLinkHtml;\n",
              "          element.appendChild(docLink);\n",
              "        }\n",
              "      </script>\n",
              "    </div>\n",
              "  </div>\n",
              "  "
            ]
          },
          "metadata": {},
          "execution_count": 6
        }
      ]
    },
    {
      "cell_type": "code",
      "source": [
        "features = [\"alcohol\", \"malic_acid\", \"alcalinity_of_ash\", \"total_phenols\", \"flavanoids\",\n",
        "            \"nonflavanoid_phenols\", \"proanthocyanins\", \"hue\", \"od280/od315_of_diluted_wines\", \"proline\"]"
      ],
      "metadata": {
        "id": "j75ED91B5Bkd"
      },
      "execution_count": null,
      "outputs": []
    },
    {
      "cell_type": "code",
      "source": [
        "X=df_wine[features].copy()\n"
      ],
      "metadata": {
        "id": "4Ex8nWTopXFm"
      },
      "execution_count": null,
      "outputs": []
    },
    {
      "cell_type": "code",
      "source": [
        "Y=np.array(np.transpose([df_wine[\"target\"]]))\n"
      ],
      "metadata": {
        "id": "FLGTbPe9CVa7"
      },
      "execution_count": null,
      "outputs": []
    },
    {
      "cell_type": "code",
      "source": [
        "Y = Y.reshape(Y.shape[1:])"
      ],
      "metadata": {
        "id": "kgqhKKhMCaSP"
      },
      "execution_count": null,
      "outputs": []
    },
    {
      "cell_type": "code",
      "execution_count": null,
      "metadata": {
        "id": "bLMzf-2ntYeX"
      },
      "outputs": [],
      "source": [
        "x_train, x_test, y_train, y_test = train_test_split(X, Y, test_size = 0.3, random_state = 42, stratify= data.target, shuffle = True)\n"
      ]
    },
    {
      "cell_type": "code",
      "execution_count": null,
      "metadata": {
        "id": "SggpQfSPt85C"
      },
      "outputs": [],
      "source": [
        "device = 'cuda' if torch.cuda.is_available() else 'cpu'\n",
        "\n",
        "torch.manual_seed(777)\n",
        "if device == \"cuda\":\n",
        "  torch.cuda.manual_seed_all(777)"
      ]
    },
    {
      "cell_type": "code",
      "source": [
        "y_train = torch.LongTensor(y_train).to(device)\n",
        "y_test = torch.LongTensor(y_test)"
      ],
      "metadata": {
        "id": "kHVnhECR_5tO"
      },
      "execution_count": null,
      "outputs": []
    },
    {
      "cell_type": "code",
      "source": [
        "x_train = torch.FloatTensor(x_train.values).to(device)\n",
        "x_test = torch.FloatTensor(x_test.values).to(device)"
      ],
      "metadata": {
        "id": "OAeLQ8Qc70f2"
      },
      "execution_count": null,
      "outputs": []
    },
    {
      "cell_type": "code",
      "execution_count": null,
      "metadata": {
        "colab": {
          "base_uri": "https://localhost:8080/"
        },
        "id": "umEdiTZkrVqS",
        "outputId": "db54c9b4-819e-4ec2-d994-6b1f10397ebf"
      },
      "outputs": [
        {
          "output_type": "stream",
          "name": "stdout",
          "text": [
            "tensor([1.3750e+01, 1.7300e+00, 1.6000e+01, 2.6000e+00, 2.7600e+00, 2.9000e-01,\n",
            "        1.8100e+00, 1.1500e+00, 2.9000e+00, 1.3200e+03], device='cuda:0')\n",
            "tensor([0], device='cuda:0')\n"
          ]
        }
      ],
      "source": [
        "print(x_train[0])\n",
        "print(y_train[0])\n",
        "#input 10개 (속성이 10개)\n",
        "#y의 class는 3개 (0,1,2)"
      ]
    },
    {
      "cell_type": "markdown",
      "metadata": {
        "id": "combmxzmYFyn"
      },
      "source": [
        "파이토치에서는 데이터셋을 좀 더 쉽게 다룰 수 있도록 유용한 도구로서 torch.utils.data.Dataset과 torch.utils.data.DataLoader를 제공합니다. 이를 사용하면 미니 배치 학습, 데이터 셔플(shuffle), 병렬 처리까지 간단히 수행할 수 있습니다. 기본적인 사용 방법은 Dataset을 정의하고, 이를 DataLoader에 전달하는 것\n",
        "- init : class 에서 객체가 생성되면 바로 실행되는 함수\n",
        "- len : observation 수를 정의하는 함수\n",
        "- getitem : iteration 마다 해당하는 데이터를 돌려주는 함수"
      ]
    },
    {
      "cell_type": "code",
      "execution_count": null,
      "metadata": {
        "id": "y38TlgXoqV5Z"
      },
      "outputs": [],
      "source": [
        "from torch.utils.data import Dataset\n",
        "class CustomDataset(Dataset):\n",
        "  def __init__(self):\n",
        "    self.x_data = x_train\n",
        "    self.y_data = [[y] for y in y_train]\n",
        "#  데이터셋의 전처리를 해주는 부분\n",
        "\n",
        "  def __len__(self):\n",
        "    return len(self.x_data)\n",
        "#  데이터셋의 길이. 즉, 총 샘플의 수를 적어주는 부분\n",
        "\n",
        "  def __getitem__(self, idx):\n",
        "    x = torch.FloatTensor(self.x_data[idx]).to(device)\n",
        "    y = torch.LongTensor(self.y_data[idx]).to(device)\n",
        "#  데이터셋에서 특정 1개의 샘플을 가져오는 함수\n",
        "\n",
        "    return x,y"
      ]
    },
    {
      "cell_type": "code",
      "execution_count": null,
      "metadata": {
        "id": "x8VHwnuFqino"
      },
      "outputs": [],
      "source": [
        "batch_size = 8\n",
        "\n",
        "dataset = CustomDataset()\n",
        "dataloader = DataLoader(dataset, batch_size=batch_size) "
      ]
    },
    {
      "cell_type": "markdown",
      "metadata": {
        "id": "uS_mm6TKO5Kb"
      },
      "source": [
        "https://stats.stackexchange.com/questions/181/how-to-choose-the-number-of-hidden-layers-and-nodes-in-a-feedforward-neural-netw"
      ]
    },
    {
      "cell_type": "markdown",
      "source": [
        "# 1. Feature select + Adam(lr=0.001) + RReLU\n",
        "\n",
        "**accuracy는 0.9814814814814815** 가장 높습니다. \n"
      ],
      "metadata": {
        "id": "GvvaplugXTLB"
      }
    },
    {
      "cell_type": "code",
      "execution_count": null,
      "metadata": {
        "id": "C6V7a4tyq6Jc"
      },
      "outputs": [],
      "source": [
        "# input_layer와 hidden_layer의 노드 개수를 어떻게 바꿔줘야할까? \n",
        "# hidden layer/neuron 수를 바꾸기 : 3개 유지\n",
        "\n",
        "model = nn.Sequential(\n",
        "          nn.Linear(10,256, bias=True), \n",
        "          nn.RReLU(),\n",
        "          nn.Linear(256,128, bias=True),\n",
        "          nn.RReLU(),\n",
        "          nn.Linear(128,36, bias=True), \n",
        "          nn.RReLU()\n",
        "          ).to(device)"
      ]
    },
    {
      "cell_type": "markdown",
      "metadata": {
        "id": "07uV8RY7Yr_5"
      },
      "source": [
        "class로 구현 가능\n",
        "- init : 초기 생성 함수\n",
        "- foward : 순전파(입력값 => 예측값 의 과정)"
      ]
    },
    {
      "cell_type": "code",
      "execution_count": null,
      "metadata": {
        "id": "a0zLstbMqxEZ"
      },
      "outputs": [],
      "source": [
        "class Model(torch.nn.Module):\n",
        "\n",
        "  def __init__(self):\n",
        "    super(Model, self).__init__()\n",
        "    self.layer1 = nn.Sequential(\n",
        "          nn.Linear(10,256, bias=True), # input_layer = 13, hidden_layer1 = 12 \n",
        "          nn.RReLU(),\n",
        "        nn.BatchNorm1d(256)\n",
        "    )\n",
        "  # activation function 이용 \n",
        "  #   nn.ReLU()\n",
        "  #   nn.tanH()\n",
        "  #   https://pytorch.org/docs/stable/nn.html 그 외에도 여기서 확인 가능함 \n",
        "  #   파라미터가 필요하지 않다는 것이 특징\n",
        "\n",
        "  # batch normazliation 1d, 파라미터 값으로 vector의 길이를 전해줌\n",
        "  # 추후에 이미지를 다루게 된다면, 그때는 batch normalization 2d를 이용하게 됨 \n",
        "  # 그때는 파라미터 값으로 채널, 가로, 세로 길이를 전달해주게 됨 \n",
        "\n",
        "    self.layer2 = nn.Sequential(\n",
        "          nn.Linear(256,128, bias=True), # hidden_layer1 = 350, hidden_layer2 = 150\n",
        "        nn.RReLU()\n",
        "    )\n",
        "    self.layer3 = nn.Sequential(\n",
        "          nn.Linear(128,64, bias=True), # hidden_layer1 = 150, hidden_layer2 = 75\n",
        "        nn.RReLU()\n",
        "    )\n",
        "    self.layer4 = nn.Sequential(\n",
        "        nn.Linear(64, 36, bias=True), # hidden_layer3 = 75, output_layer = 30\n",
        "        nn.RReLU()\n",
        "    )\n",
        "\n",
        "  def forward(self,x):\n",
        "    output = self.layer1(x)\n",
        "    output = self.layer2(output)\n",
        "    output = self.layer3(output)\n",
        "    output = self.layer4(output)\n",
        "    return output"
      ]
    },
    {
      "cell_type": "code",
      "execution_count": null,
      "metadata": {
        "id": "kqcqqkECrSGK"
      },
      "outputs": [],
      "source": [
        "def init_weights(layer):\n",
        "    if isinstance(layer, nn.Linear):\n",
        "        torch.nn.init.xavier_uniform(layer.weight)\n",
        "        layer.bias.data.fill_(0.01)\n",
        "\n",
        "        #xavier사용\n",
        "        # Layer의 weight를 어떤 분포를 가지도록 초기화시켜줌+global minimum찾기 위해서"
      ]
    },
    {
      "cell_type": "code",
      "execution_count": null,
      "metadata": {
        "colab": {
          "base_uri": "https://localhost:8080/"
        },
        "id": "oMDUBFg6rUpw",
        "outputId": "252d7588-e749-4cb8-f816-0e940ecc98f2"
      },
      "outputs": [
        {
          "output_type": "stream",
          "name": "stderr",
          "text": [
            "<ipython-input-21-6196a47a4462>:3: UserWarning: nn.init.xavier_uniform is now deprecated in favor of nn.init.xavier_uniform_.\n",
            "  torch.nn.init.xavier_uniform(layer.weight)\n"
          ]
        },
        {
          "output_type": "execute_result",
          "data": {
            "text/plain": [
              "Model(\n",
              "  (layer1): Sequential(\n",
              "    (0): Linear(in_features=10, out_features=256, bias=True)\n",
              "    (1): RReLU(lower=0.125, upper=0.3333333333333333)\n",
              "    (2): BatchNorm1d(256, eps=1e-05, momentum=0.1, affine=True, track_running_stats=True)\n",
              "  )\n",
              "  (layer2): Sequential(\n",
              "    (0): Linear(in_features=256, out_features=128, bias=True)\n",
              "    (1): RReLU(lower=0.125, upper=0.3333333333333333)\n",
              "  )\n",
              "  (layer3): Sequential(\n",
              "    (0): Linear(in_features=128, out_features=64, bias=True)\n",
              "    (1): RReLU(lower=0.125, upper=0.3333333333333333)\n",
              "  )\n",
              "  (layer4): Sequential(\n",
              "    (0): Linear(in_features=64, out_features=36, bias=True)\n",
              "    (1): RReLU(lower=0.125, upper=0.3333333333333333)\n",
              "  )\n",
              ")"
            ]
          },
          "metadata": {},
          "execution_count": 22
        }
      ],
      "source": [
        "model = Model().to(device)\n",
        "model.apply(init_weights)"
      ]
    },
    {
      "cell_type": "code",
      "execution_count": null,
      "metadata": {
        "colab": {
          "base_uri": "https://localhost:8080/"
        },
        "id": "OwZt5CetrYFb",
        "outputId": "ba5283ba-8cf4-4770-9a23-9952a759ae17"
      },
      "outputs": [
        {
          "output_type": "stream",
          "name": "stdout",
          "text": [
            "Model(\n",
            "  (layer1): Sequential(\n",
            "    (0): Linear(in_features=10, out_features=256, bias=True)\n",
            "    (1): RReLU(lower=0.125, upper=0.3333333333333333)\n",
            "    (2): BatchNorm1d(256, eps=1e-05, momentum=0.1, affine=True, track_running_stats=True)\n",
            "  )\n",
            "  (layer2): Sequential(\n",
            "    (0): Linear(in_features=256, out_features=128, bias=True)\n",
            "    (1): RReLU(lower=0.125, upper=0.3333333333333333)\n",
            "  )\n",
            "  (layer3): Sequential(\n",
            "    (0): Linear(in_features=128, out_features=64, bias=True)\n",
            "    (1): RReLU(lower=0.125, upper=0.3333333333333333)\n",
            "  )\n",
            "  (layer4): Sequential(\n",
            "    (0): Linear(in_features=64, out_features=36, bias=True)\n",
            "    (1): RReLU(lower=0.125, upper=0.3333333333333333)\n",
            "  )\n",
            ")\n"
          ]
        }
      ],
      "source": [
        "print(model)"
      ]
    },
    {
      "cell_type": "code",
      "execution_count": null,
      "metadata": {
        "id": "AYFp-eTErh7b"
      },
      "outputs": [],
      "source": [
        "loss_fn  = nn.CrossEntropyLoss().to(device)\n",
        "\n",
        "# 여러가지 optimizer 시도해보기\n",
        "# lr 바꿔보기\n",
        "\n",
        "\n",
        "optimizer = optim.Adam(model.parameters(), lr=0.01)\n",
        "# optimizer = optim.SGD(model.parameters(), lr=0.001, momentum=0.5)\n",
        "# https://pytorch.org/docs/stable/optim.html#module-torch.optim 페이지 참조\n",
        "# optimizer = optim.SGD(model.parameters(), lr=0.1, momentum=0.9)\n",
        "# sgd 등등"
      ]
    },
    {
      "cell_type": "code",
      "source": [
        "print(x_test.dtype)\n",
        "print(y_test.dtype)\n",
        "print(x_train.dtype)\n",
        "print(y_train.dtype)"
      ],
      "metadata": {
        "colab": {
          "base_uri": "https://localhost:8080/"
        },
        "id": "l2Wu9gSKzqM6",
        "outputId": "e13bb527-36a7-41e9-f534-07312024240d"
      },
      "execution_count": null,
      "outputs": [
        {
          "output_type": "stream",
          "name": "stdout",
          "text": [
            "torch.float32\n",
            "torch.int64\n",
            "torch.float32\n",
            "torch.int64\n"
          ]
        }
      ]
    },
    {
      "cell_type": "code",
      "source": [
        "y_train = y_train.squeeze(dim=-1)\n",
        "y_test = y_test.squeeze(dim=-1)"
      ],
      "metadata": {
        "id": "HZTSY0fXDCfs"
      },
      "execution_count": null,
      "outputs": []
    },
    {
      "cell_type": "code",
      "source": [
        "x_train= x_train.cuda()\n",
        "y_train= y_train.cuda()\n",
        "\n",
        "x_test= x_test.cuda()\n",
        "y_test= y_test.cuda()"
      ],
      "metadata": {
        "id": "IbWV9RsRzo6o"
      },
      "execution_count": null,
      "outputs": []
    },
    {
      "cell_type": "code",
      "execution_count": null,
      "metadata": {
        "colab": {
          "base_uri": "https://localhost:8080/"
        },
        "id": "90QxHvlIrjS7",
        "outputId": "2cfad835-a07d-43cd-db8a-c088cf375da7"
      },
      "outputs": [
        {
          "output_type": "stream",
          "name": "stdout",
          "text": [
            "0 3.7463982105255127\n",
            "10 0.6532345414161682\n",
            "20 0.2599734663963318\n",
            "30 0.10704813152551651\n",
            "40 0.06005473807454109\n",
            "50 0.03031962364912033\n",
            "60 0.017163757234811783\n",
            "70 0.22155781090259552\n",
            "80 0.06357238441705704\n",
            "90 0.031755294650793076\n"
          ]
        }
      ],
      "source": [
        "losses = []\n",
        "for epoch in range(100):\n",
        "\n",
        "  optimizer.zero_grad()\n",
        "  hypothesis = model(x_train)\n",
        "\n",
        "  # 비용 함수\n",
        "  cost = loss_fn(hypothesis, y_train)\n",
        "  cost.backward()\n",
        "  optimizer.step()\n",
        "  losses.append(cost.item())\n",
        "\n",
        "  if epoch % 10 == 0:\n",
        "    print(epoch, cost.item())"
      ]
    },
    {
      "cell_type": "code",
      "execution_count": null,
      "metadata": {
        "colab": {
          "base_uri": "https://localhost:8080/",
          "height": 265
        },
        "id": "81ASYrW7roFM",
        "outputId": "5e6e45c7-af51-4223-a706-d27cf870fd97"
      },
      "outputs": [
        {
          "output_type": "display_data",
          "data": {
            "text/plain": [
              "<Figure size 432x288 with 1 Axes>"
            ],
            "image/png": "[encoded data removed]"
          },
          "metadata": {
            "needs_background": "light"
          }
        }
      ],
      "source": [
        "plt.plot(losses)\n",
        "plt.show()"
      ]
    },
    {
      "cell_type": "code",
      "source": [
        "x_test = torch.as_tensor(x_test, device='cpu')\n",
        "y_test = torch.as_tensor(y_test, device='cpu')\n"
      ],
      "metadata": {
        "id": "xOABq-O79WP2"
      },
      "execution_count": null,
      "outputs": []
    },
    {
      "cell_type": "code",
      "execution_count": null,
      "metadata": {
        "id": "h4kJzpLErqhZ"
      },
      "outputs": [],
      "source": [
        "with torch.no_grad():\n",
        "  model = model.to('cpu')\n",
        "  y_pred = model(x_test)\n",
        "  y_pred = y_pred.detach().numpy()\n",
        "  predicted = np.argmax(y_pred, axis =1)\n",
        "  accuracy =  accuracy_score(predicted, y_test)\n"
      ]
    },
    {
      "cell_type": "code",
      "execution_count": null,
      "metadata": {
        "colab": {
          "base_uri": "https://localhost:8080/"
        },
        "id": "vyIKhs3Nr6Ay",
        "outputId": "dad258ec-b0a4-46c6-af9a-a6da8e8ee693"
      },
      "outputs": [
        {
          "output_type": "stream",
          "name": "stdout",
          "text": [
            "model의 output은 :  [17.691502   11.575553   -0.35722    -0.35137564 -1.9531349  -1.5158234\n",
            " -2.5837598  -1.4760795  -2.796125   -1.6565622  -1.1555773  -2.0777953\n",
            " -0.67933327 -2.7128172  -3.0725865  -0.7806823  -1.5800152  -1.3364215\n",
            " -1.0446081  -0.8056989  -2.0922585  -2.861981   -2.16978    -3.0564768\n",
            " -0.6995384  -0.6282867  -2.9079661  -2.8325794  -0.7925621  -1.7106091\n",
            " -1.303392   -1.9771311  -3.627912   -1.5860152  -0.73021203 -1.8501127 ]\n",
            "argmax를 한 후의 output은 0\n",
            "accuracy는 0.9814814814814815\n"
          ]
        }
      ],
      "source": [
        "print(f'model의 output은 :  {y_pred[0]}')\n",
        "print(f'argmax를 한 후의 output은 {predicted[0]}')\n",
        "print(f'accuracy는 {accuracy}')"
      ]
    },
    {
      "cell_type": "markdown",
      "source": [
        "#2.   feature 전체 + 위와 동일"
      ],
      "metadata": {
        "id": "zR5r5nqYGgev"
      }
    },
    {
      "cell_type": "code",
      "execution_count": null,
      "metadata": {
        "colab": {
          "base_uri": "https://localhost:8080/"
        },
        "outputId": "25f986d4-4916-424c-8574-bbddb20a5cd8",
        "id": "YUt7myqDGk1f"
      },
      "outputs": [
        {
          "output_type": "stream",
          "name": "stdout",
          "text": [
            "Looking in indexes: https://pypi.org/simple, https://us-python.pkg.dev/colab-wheels/public/simple/\n",
            "Requirement already satisfied: torch in /usr/local/lib/python3.8/dist-packages (1.13.1+cu116)\n",
            "Requirement already satisfied: typing-extensions in /usr/local/lib/python3.8/dist-packages (from torch) (4.4.0)\n"
          ]
        }
      ],
      "source": [
        "!pip install torch"
      ]
    },
    {
      "cell_type": "code",
      "execution_count": null,
      "metadata": {
        "id": "tOJExJltGk1f"
      },
      "outputs": [],
      "source": [
        "import torch\n",
        "from torch import nn, optim\n",
        "from sklearn.datasets import load_wine\n",
        "from torch.utils.data import  TensorDataset, DataLoader\n",
        "from sklearn.model_selection import train_test_split\n",
        "from sklearn.metrics import accuracy_score\n",
        "import numpy as np\n",
        "from sklearn.preprocessing import StandardScaler\n",
        "import matplotlib.pyplot as plt"
      ]
    },
    {
      "cell_type": "markdown",
      "metadata": {
        "id": "FsojOXLVGk1f"
      },
      "source": [
        "## 아래 데이터셋 중 원하는 데이터셋 하나를 선택하여, 코드 과제 진행하기!\n",
        "- 1) load_digits() <br>\n",
        "- 2) load_wine()"
      ]
    },
    {
      "cell_type": "code",
      "execution_count": null,
      "metadata": {
        "id": "MMlylvguGk1f"
      },
      "outputs": [],
      "source": [
        "# 데이터셋 종류 : load_wine()\n",
        "data = load_wine()"
      ]
    },
    {
      "cell_type": "code",
      "execution_count": null,
      "metadata": {
        "id": "C2P0hqZ9yBGm"
      },
      "outputs": [],
      "source": [
        "input = data.data\n",
        "output = data.target"
      ]
    },
    {
      "cell_type": "code",
      "execution_count": null,
      "metadata": {
        "id": "36VCdL4QGk1g"
      },
      "outputs": [],
      "source": [
        "device = 'cuda' if torch.cuda.is_available() else 'cpu'\n",
        "\n",
        "torch.manual_seed(777)\n",
        "if device == \"cuda\":\n",
        "  torch.cuda.manual_seed_all(777)"
      ]
    },
    {
      "cell_type": "code",
      "execution_count": null,
      "metadata": {
        "id": "Efs1Kp6jGk1g"
      },
      "outputs": [],
      "source": [
        "x_train, x_test, y_train, y_test = train_test_split(input, output, test_size = 0.3, random_state = 42, stratify= data.target, shuffle = True)\n",
        "\n",
        "x_train = torch.FloatTensor(x_train).to(device)\n",
        "y_train = torch.LongTensor(y_train).to(device)\n",
        "x_test = torch.FloatTensor(x_test)\n",
        "y_test = torch.LongTensor(y_test)\n",
        "\n",
        "# 데이터를 tensor로 바꿔주고 gpu 연산이 가능해지도록 gpu에 옮김\n",
        "# label 값을 왜 long 에 옮겨놓는가? loss function이 다르기 때문 "
      ]
    },
    {
      "cell_type": "code",
      "execution_count": null,
      "metadata": {
        "colab": {
          "base_uri": "https://localhost:8080/"
        },
        "outputId": "e6fc0ab9-e7ba-4ee6-8ad2-ea97efe6c0e8",
        "id": "oLFMpNUIGk1g"
      },
      "outputs": [
        {
          "output_type": "stream",
          "name": "stdout",
          "text": [
            "tensor([1.3750e+01, 1.7300e+00, 2.4100e+00, 1.6000e+01, 8.9000e+01, 2.6000e+00,\n",
            "        2.7600e+00, 2.9000e-01, 1.8100e+00, 5.6000e+00, 1.1500e+00, 2.9000e+00,\n",
            "        1.3200e+03], device='cuda:0')\n",
            "tensor(0, device='cuda:0')\n"
          ]
        }
      ],
      "source": [
        "print(x_train[0])\n",
        "print(y_train[0])\n",
        "\n",
        "#input 13개 (속성이 13개)\n",
        "#y의 class는 3개 (0,1,2)"
      ]
    },
    {
      "cell_type": "markdown",
      "metadata": {
        "id": "Kw_1dJhQGk1g"
      },
      "source": [
        "파이토치에서는 데이터셋을 좀 더 쉽게 다룰 수 있도록 유용한 도구로서 torch.utils.data.Dataset과 torch.utils.data.DataLoader를 제공합니다. 이를 사용하면 미니 배치 학습, 데이터 셔플(shuffle), 병렬 처리까지 간단히 수행할 수 있습니다. 기본적인 사용 방법은 Dataset을 정의하고, 이를 DataLoader에 전달하는 것\n",
        "- init : class 에서 객체가 생성되면 바로 실행되는 함수\n",
        "- len : observation 수를 정의하는 함수\n",
        "- getitem : iteration 마다 해당하는 데이터를 돌려주는 함수"
      ]
    },
    {
      "cell_type": "code",
      "execution_count": null,
      "metadata": {
        "id": "Q3_4Ty2xGk1g"
      },
      "outputs": [],
      "source": [
        "from torch.utils.data import Dataset\n",
        "class CustomDataset(Dataset):\n",
        "  def __init__(self):\n",
        "    self.x_data = x_train\n",
        "    self.y_data = [[y] for y in y_train]\n",
        "#  데이터셋의 전처리를 해주는 부분\n",
        "\n",
        "  def __len__(self):\n",
        "    return len(self.x_data)\n",
        "#  데이터셋의 길이. 즉, 총 샘플의 수를 적어주는 부분\n",
        "\n",
        "  def __getitem__(self, idx):\n",
        "    x = torch.FloatTensor(self.x_data[idx]).to(device)\n",
        "    y = torch.LongTensor(self.y_data[idx]).to(device)\n",
        "#  데이터셋에서 특정 1개의 샘플을 가져오는 함수\n",
        "\n",
        "    return x,y"
      ]
    },
    {
      "cell_type": "code",
      "execution_count": null,
      "metadata": {
        "id": "YM4woKx4Gk1g"
      },
      "outputs": [],
      "source": [
        "batch_size = 8\n",
        "\n",
        "dataset = CustomDataset()\n",
        "dataloader = DataLoader(dataset, batch_size=batch_size) "
      ]
    },
    {
      "cell_type": "markdown",
      "metadata": {
        "id": "hDT2NVCpGk1g"
      },
      "source": [
        "https://stats.stackexchange.com/questions/181/how-to-choose-the-number-of-hidden-layers-and-nodes-in-a-feedforward-neural-netw"
      ]
    },
    {
      "cell_type": "code",
      "source": [
        "class RReLU(Module):\n",
        "  __constants__ = ['lower', 'upper', 'inplace']\n",
        "  lower: float\n",
        "  upper: float\n",
        "  inplace: bool\n",
        "\n",
        "  def __init__(\n",
        "      self,\n",
        "      lower: float = 1. / 8,\n",
        "      upper: float = 1. / 3,\n",
        "      inplace: bool = False\n",
        "    ):\n",
        "      super(RReLU, self).__init__()\n",
        "      self.lower = lower\n",
        "      self.upper = upper\n",
        "      self.inplace = inplace\n",
        "\n",
        "  def forward(self, input: Tensor) -> Tensor:\n",
        "    return F.rrelu(input, self.lower, self.upper, self.training, self.inplace)\n",
        "\n",
        "  def extra_repr(self):\n",
        "    inplace_str = ', inplace=True' if self.inplace else ''\n",
        "    return 'lower={}, upper={}{}'.format(self.lower, self.upper, inplace_str)"
      ],
      "metadata": {
        "id": "0OJOx_z1HD6d"
      },
      "execution_count": null,
      "outputs": []
    },
    {
      "cell_type": "code",
      "execution_count": null,
      "metadata": {
        "id": "47yj8Z7CGk1h"
      },
      "outputs": [],
      "source": [
        "# input_layer와 hidden_layer의 노드 개수를 어떻게 바꿔줘야할까? \n",
        "# hidden layer/neuron 수를 바꾸기 : 3개 유지\n",
        "\n",
        "model = nn.Sequential(\n",
        "          nn.Linear(13,350, bias=True), \n",
        "          nn.RReLU(),\n",
        "          nn.Linear(350,150, bias=True),\n",
        "          nn.RReLU(),\n",
        "          nn.Linear(150,30, bias=True), \n",
        "          nn.RReLU()\n",
        "          ).to(device)"
      ]
    },
    {
      "cell_type": "markdown",
      "metadata": {
        "id": "ircgmXgTGk1h"
      },
      "source": [
        "class로 구현 가능\n",
        "- init : 초기 생성 함수\n",
        "- foward : 순전파(입력값 => 예측값 의 과정)"
      ]
    },
    {
      "cell_type": "code",
      "execution_count": null,
      "metadata": {
        "id": "49CNSncrGk1h"
      },
      "outputs": [],
      "source": [
        "class Model(torch.nn.Module):\n",
        "\n",
        "  def __init__(self):\n",
        "    super(Model, self).__init__()\n",
        "    self.layer1 = nn.Sequential(\n",
        "          nn.Linear(13,350, bias=True), # input_layer = 13, hidden_layer1 = 12 \n",
        "          nn.RReLU(),\n",
        "        nn.BatchNorm1d(350)\n",
        "    )\n",
        "  # activation function 이용 \n",
        "  #   nn.ReLU()\n",
        "  #   nn.tanH()\n",
        "  #   https://pytorch.org/docs/stable/nn.html 그 외에도 여기서 확인 가능함 \n",
        "  #   파라미터가 필요하지 않다는 것이 특징\n",
        "\n",
        "  # batch normazliation 1d, 파라미터 값으로 vector의 길이를 전해줌\n",
        "  # 추후에 이미지를 다루게 된다면, 그때는 batch normalization 2d를 이용하게 됨 \n",
        "  # 그때는 파라미터 값으로 채널, 가로, 세로 길이를 전달해주게 됨 \n",
        "\n",
        "    self.layer2 = nn.Sequential(\n",
        "          nn.Linear(350,150, bias=True), # hidden_layer1 = 350, hidden_layer2 = 150\n",
        "        nn.RReLU()\n",
        "    )\n",
        "    self.layer3 = nn.Sequential(\n",
        "          nn.Linear(150,75, bias=True), # hidden_layer1 = 150, hidden_layer2 = 75\n",
        "        nn.RReLU()\n",
        "    )\n",
        "    self.layer4 = nn.Sequential(\n",
        "        nn.Linear(75, 30, bias=True), # hidden_layer3 = 75, output_layer = 30\n",
        "        nn.RReLU()\n",
        "    )\n",
        "\n",
        "  def forward(self,x):\n",
        "    output = self.layer1(x)\n",
        "    output = self.layer2(output)\n",
        "    output = self.layer3(output)\n",
        "    output = self.layer4(output)\n",
        "    return output"
      ]
    },
    {
      "cell_type": "code",
      "execution_count": null,
      "metadata": {
        "id": "SZtawdmEGk1h"
      },
      "outputs": [],
      "source": [
        "def init_weights(layer):\n",
        "    if isinstance(layer, nn.Linear):\n",
        "        torch.nn.init.xavier_uniform(layer.weight)\n",
        "        layer.bias.data.fill_(0.01)\n",
        "\n",
        "        #xavier사용\n",
        "        # Layer의 weight를 어떤 분포를 가지도록 초기화시켜줌+global minimum찾기 위해서"
      ]
    },
    {
      "cell_type": "code",
      "execution_count": null,
      "metadata": {
        "colab": {
          "base_uri": "https://localhost:8080/"
        },
        "outputId": "048265fc-43d6-4096-b5f3-a9dc2d336208",
        "id": "8l9GuzsyGk1h"
      },
      "outputs": [
        {
          "output_type": "stream",
          "name": "stderr",
          "text": [
            "<ipython-input-29-6196a47a4462>:3: UserWarning: nn.init.xavier_uniform is now deprecated in favor of nn.init.xavier_uniform_.\n",
            "  torch.nn.init.xavier_uniform(layer.weight)\n"
          ]
        },
        {
          "output_type": "execute_result",
          "data": {
            "text/plain": [
              "Model(\n",
              "  (layer1): Sequential(\n",
              "    (0): Linear(in_features=13, out_features=350, bias=True)\n",
              "    (1): RReLU(lower=0.125, upper=0.3333333333333333)\n",
              "    (2): BatchNorm1d(350, eps=1e-05, momentum=0.1, affine=True, track_running_stats=True)\n",
              "  )\n",
              "  (layer2): Sequential(\n",
              "    (0): Linear(in_features=350, out_features=150, bias=True)\n",
              "    (1): RReLU(lower=0.125, upper=0.3333333333333333)\n",
              "  )\n",
              "  (layer3): Sequential(\n",
              "    (0): Linear(in_features=150, out_features=75, bias=True)\n",
              "    (1): RReLU(lower=0.125, upper=0.3333333333333333)\n",
              "  )\n",
              "  (layer4): Sequential(\n",
              "    (0): Linear(in_features=75, out_features=30, bias=True)\n",
              "    (1): RReLU(lower=0.125, upper=0.3333333333333333)\n",
              "  )\n",
              ")"
            ]
          },
          "metadata": {},
          "execution_count": 30
        }
      ],
      "source": [
        "model = Model().to(device)\n",
        "model.apply(init_weights)"
      ]
    },
    {
      "cell_type": "code",
      "execution_count": null,
      "metadata": {
        "colab": {
          "base_uri": "https://localhost:8080/"
        },
        "outputId": "e8be66b4-8d28-401a-b84d-b1c8d07e7dbb",
        "id": "a7uAgeNgGk1h"
      },
      "outputs": [
        {
          "output_type": "stream",
          "name": "stdout",
          "text": [
            "Model(\n",
            "  (layer1): Sequential(\n",
            "    (0): Linear(in_features=13, out_features=350, bias=True)\n",
            "    (1): RReLU(lower=0.125, upper=0.3333333333333333)\n",
            "    (2): BatchNorm1d(350, eps=1e-05, momentum=0.1, affine=True, track_running_stats=True)\n",
            "  )\n",
            "  (layer2): Sequential(\n",
            "    (0): Linear(in_features=350, out_features=150, bias=True)\n",
            "    (1): RReLU(lower=0.125, upper=0.3333333333333333)\n",
            "  )\n",
            "  (layer3): Sequential(\n",
            "    (0): Linear(in_features=150, out_features=75, bias=True)\n",
            "    (1): RReLU(lower=0.125, upper=0.3333333333333333)\n",
            "  )\n",
            "  (layer4): Sequential(\n",
            "    (0): Linear(in_features=75, out_features=30, bias=True)\n",
            "    (1): RReLU(lower=0.125, upper=0.3333333333333333)\n",
            "  )\n",
            ")\n"
          ]
        }
      ],
      "source": [
        "print(model)"
      ]
    },
    {
      "cell_type": "code",
      "execution_count": null,
      "metadata": {
        "id": "WNiYKr7RGk1i"
      },
      "outputs": [],
      "source": [
        "loss_fn  = nn.CrossEntropyLoss().to(device)\n",
        "\n",
        "# 여러가지 optimizer 시도해보기\n",
        "# lr 바꿔보기\n",
        "\n",
        "\n",
        "optimizer = optim.Adam(model.parameters(), lr=0.001)\n",
        "# optimizer = optim.SGD(model.parameters(), lr=0.001, momentum=0.5)\n",
        "# https://pytorch.org/docs/stable/optim.html#module-torch.optim 페이지 참조\n",
        "# optimizer = optim.SGD(model.parameters(), lr=0.1, momentum=0.9)\n",
        "# sgd 등등"
      ]
    },
    {
      "cell_type": "code",
      "execution_count": null,
      "metadata": {
        "colab": {
          "base_uri": "https://localhost:8080/"
        },
        "outputId": "41501e0b-849b-4bc1-d34b-b58a627f72c9",
        "id": "uxABJmQkGk1i"
      },
      "outputs": [
        {
          "output_type": "stream",
          "name": "stdout",
          "text": [
            "0 3.3504011631011963\n",
            "10 0.8808708786964417\n",
            "20 0.5184575915336609\n",
            "30 0.30097827315330505\n",
            "40 0.16836565732955933\n",
            "50 0.13413451611995697\n",
            "60 0.08501000702381134\n",
            "70 0.06689401715993881\n",
            "80 0.03310514986515045\n",
            "90 0.021457815542817116\n",
            "100 0.01280921045690775\n",
            "110 0.008012808859348297\n",
            "120 0.00548522686585784\n",
            "130 0.0033892798237502575\n",
            "140 0.002701552351936698\n",
            "150 0.002371857175603509\n",
            "160 0.0023148679174482822\n",
            "170 0.0013816292630508542\n",
            "180 0.0012911115773022175\n",
            "190 0.0014445430133491755\n"
          ]
        }
      ],
      "source": [
        "losses = []\n",
        "for epoch in range(100):\n",
        "\n",
        "  optimizer.zero_grad()\n",
        "  hypothesis = model(x_train)\n",
        "\n",
        "  # 비용 함수\n",
        "  cost = loss_fn(hypothesis, y_train)\n",
        "  cost.backward()\n",
        "  optimizer.step()\n",
        "  losses.append(cost.item())\n",
        "\n",
        "  if epoch % 10 == 0:\n",
        "    print(epoch, cost.item())"
      ]
    },
    {
      "cell_type": "code",
      "execution_count": null,
      "metadata": {
        "colab": {
          "base_uri": "https://localhost:8080/",
          "height": 268
        },
        "outputId": "ecbf919e-3fc3-4ecc-d987-714a595166f2",
        "id": "TOE1aVLmGk1i"
      },
      "outputs": [
        {
          "output_type": "display_data",
          "data": {
            "text/plain": [
              "<Figure size 432x288 with 1 Axes>"
            ],
            "image/png": "[encoded data removed]"
          },
          "metadata": {
            "needs_background": "light"
          }
        }
      ],
      "source": [
        "plt.plot(losses)\n",
        "plt.show()"
      ]
    },
    {
      "cell_type": "code",
      "execution_count": null,
      "metadata": {
        "id": "pl2rzzBhGk1i"
      },
      "outputs": [],
      "source": [
        "with torch.no_grad():\n",
        "  model = model.to('cpu')\n",
        "  y_pred = model(x_test)\n",
        "  y_pred = y_pred.detach().numpy()\n",
        "  predicted = np.argmax(y_pred, axis =1)\n",
        "  accuracy = (accuracy_score(predicted, y_test))"
      ]
    },
    {
      "cell_type": "code",
      "execution_count": null,
      "metadata": {
        "colab": {
          "base_uri": "https://localhost:8080/"
        },
        "outputId": "8ba1d382-0020-426f-e652-9cf0fb0cb97c",
        "id": "hwDyCCCrGk1i"
      },
      "outputs": [
        {
          "output_type": "stream",
          "name": "stdout",
          "text": [
            "model의 output은 :  [21.563154   11.621655    5.926069    2.130214   -0.69305825  0.93218005\n",
            "  0.20242207 -1.9709882  -2.2320395  -0.8009921  -0.3392468  -1.1256614\n",
            " -2.3909318  -2.1406348  -1.2092605  -2.588373    0.04536498 -0.5068919\n",
            " -0.7295945  -0.9330033   2.1465352  -2.1362743  -0.04718647 -0.59722656\n",
            " -0.27687445 -0.27275327 -1.2749738  -0.9135397  -0.95953053 -2.0820904 ]\n",
            "argmax를 한 후의 output은 0\n",
            "accuracy는 0.9629629629629629\n"
          ]
        }
      ],
      "source": [
        "print(f'model의 output은 :  {y_pred[0]}')\n",
        "print(f'argmax를 한 후의 output은 {predicted[0]}')\n",
        "print(f'accuracy는 {accuracy}')"
      ]
    },
    {
      "cell_type": "markdown",
      "source": [
        "# 3. Feature select(cor>0.4) + Adam(lr=0.001) + tanh\n",
        "\n",
        "**accuracy는 1.0 ** 가장 높습니다. \n"
      ],
      "metadata": {
        "id": "ulD51QWWNvXv"
      }
    },
    {
      "cell_type": "code",
      "execution_count": null,
      "metadata": {
        "id": "tPXRRZD8NvXr"
      },
      "outputs": [],
      "source": [
        "# 데이터셋 종류 : load_wine()\n",
        "data = load_wine()"
      ]
    },
    {
      "cell_type": "code",
      "source": [
        "import pandas as pd\n",
        "import numpy as np\n",
        "# 와인 데이터를 로드한다.\n",
        "wine = load_wine()\n",
        "# 와인 데이터에서 feature 로 되어있는 데이터를 갖고 온다.\n",
        "wine_data = data.data\n",
        "# 와인 데이터에서 target 데이터를 갖고온다.\n",
        "wine_target = data.target\n",
        "# wine 데이터의 feature, target로 Dataframe을 만든다.\n",
        "df_wine = pd.DataFrame(data = wine_data, columns=[wine.feature_names])\n",
        "# feature 만 있는 데이터 프레임에 타겟 데이터를 추가한다.\n",
        "df_wine['target'] = wine.target"
      ],
      "metadata": {
        "id": "T0dBaofBRfkv"
      },
      "execution_count": null,
      "outputs": []
    },
    {
      "cell_type": "code",
      "source": [
        "#Importing required packages.\n",
        "import pandas as pd\n",
        "import numpy as np\n",
        "import seaborn as sns\n",
        "import matplotlib.pyplot as plt\n",
        "from sklearn.ensemble import RandomForestClassifier\n",
        "#from sklearn.svm import SVC\n",
        "from sklearn.linear_model import SGDClassifier\n",
        "from sklearn.metrics import confusion_matrix, classification_report\n",
        "from sklearn.preprocessing import StandardScaler, LabelEncoder\n",
        "from sklearn.model_selection import train_test_split, GridSearchCV, cross_val_score\n",
        "%matplotlib inline"
      ],
      "metadata": {
        "id": "K_r7NLECRfkv"
      },
      "execution_count": null,
      "outputs": []
    },
    {
      "cell_type": "code",
      "source": [
        "cor = df_wine.corr()\n",
        "#Correlation with output variable\n",
        "cor_target = abs(cor[\"target\"])\n",
        "#Selecting highly correlated features\n",
        "relevant_features = cor_target[cor_target>0.4]\n",
        "relevant_features"
      ],
      "metadata": {
        "colab": {
          "base_uri": "https://localhost:8080/",
          "height": 488
        },
        "outputId": "94813f45-ec40-4593-c6b5-3ad9716f8d77",
        "id": "BCk9G9NcRfkv"
      },
      "execution_count": null,
      "outputs": [
        {
          "output_type": "execute_result",
          "data": {
            "text/plain": [
              "                                target\n",
              "alcohol                            NaN\n",
              "malic_acid                    0.437776\n",
              "ash                                NaN\n",
              "alcalinity_of_ash             0.517859\n",
              "magnesium                          NaN\n",
              "total_phenols                 0.719163\n",
              "flavanoids                    0.847498\n",
              "nonflavanoid_phenols          0.489109\n",
              "proanthocyanins               0.499130\n",
              "color_intensity                    NaN\n",
              "hue                           0.617369\n",
              "od280/od315_of_diluted_wines  0.788230\n",
              "proline                       0.633717\n",
              "target                        1.000000"
            ],
            "text/html": [
              "\n",
              "  <div id=\"df-326023fa-25c0-494b-95d0-85074dd93892\">\n",
              "    <div class=\"colab-df-container\">\n",
              "      <div>\n",
              "<style scoped>\n",
              "    .dataframe tbody tr th:only-of-type {\n",
              "        vertical-align: middle;\n",
              "    }\n",
              "\n",
              "    .dataframe tbody tr th {\n",
              "        vertical-align: top;\n",
              "    }\n",
              "\n",
              "    .dataframe thead tr th {\n",
              "        text-align: left;\n",
              "    }\n",
              "</style>\n",
              "<table border=\"1\" class=\"dataframe\">\n",
              "  <thead>\n",
              "    <tr>\n",
              "      <th></th>\n",
              "      <th>target</th>\n",
              "    </tr>\n",
              "  </thead>\n",
              "  <tbody>\n",
              "    <tr>\n",
              "      <th>alcohol</th>\n",
              "      <td>NaN</td>\n",
              "    </tr>\n",
              "    <tr>\n",
              "      <th>malic_acid</th>\n",
              "      <td>0.437776</td>\n",
              "    </tr>\n",
              "    <tr>\n",
              "      <th>ash</th>\n",
              "      <td>NaN</td>\n",
              "    </tr>\n",
              "    <tr>\n",
              "      <th>alcalinity_of_ash</th>\n",
              "      <td>0.517859</td>\n",
              "    </tr>\n",
              "    <tr>\n",
              "      <th>magnesium</th>\n",
              "      <td>NaN</td>\n",
              "    </tr>\n",
              "    <tr>\n",
              "      <th>total_phenols</th>\n",
              "      <td>0.719163</td>\n",
              "    </tr>\n",
              "    <tr>\n",
              "      <th>flavanoids</th>\n",
              "      <td>0.847498</td>\n",
              "    </tr>\n",
              "    <tr>\n",
              "      <th>nonflavanoid_phenols</th>\n",
              "      <td>0.489109</td>\n",
              "    </tr>\n",
              "    <tr>\n",
              "      <th>proanthocyanins</th>\n",
              "      <td>0.499130</td>\n",
              "    </tr>\n",
              "    <tr>\n",
              "      <th>color_intensity</th>\n",
              "      <td>NaN</td>\n",
              "    </tr>\n",
              "    <tr>\n",
              "      <th>hue</th>\n",
              "      <td>0.617369</td>\n",
              "    </tr>\n",
              "    <tr>\n",
              "      <th>od280/od315_of_diluted_wines</th>\n",
              "      <td>0.788230</td>\n",
              "    </tr>\n",
              "    <tr>\n",
              "      <th>proline</th>\n",
              "      <td>0.633717</td>\n",
              "    </tr>\n",
              "    <tr>\n",
              "      <th>target</th>\n",
              "      <td>1.000000</td>\n",
              "    </tr>\n",
              "  </tbody>\n",
              "</table>\n",
              "</div>\n",
              "      <button class=\"colab-df-convert\" onclick=\"convertToInteractive('df-326023fa-25c0-494b-95d0-85074dd93892')\"\n",
              "              title=\"Convert this dataframe to an interactive table.\"\n",
              "              style=\"display:none;\">\n",
              "        \n",
              "  <svg xmlns=\"http://www.w3.org/2000/svg\" height=\"24px\"viewBox=\"0 0 24 24\"\n",
              "       width=\"24px\">\n",
              "    <path d=\"M0 0h24v24H0V0z\" fill=\"none\"/>\n",
              "    <path d=\"M18.56 5.44l.94 2.06.94-2.06 2.06-.94-2.06-.94-.94-2.06-.94 2.06-2.06.94zm-11 1L8.5 8.5l.94-2.06 2.06-.94-2.06-.94L8.5 2.5l-.94 2.06-2.06.94zm10 10l.94 2.06.94-2.06 2.06-.94-2.06-.94-.94-2.06-.94 2.06-2.06.94z\"/><path d=\"M17.41 7.96l-1.37-1.37c-.4-.4-.92-.59-1.43-.59-.52 0-1.04.2-1.43.59L10.3 9.45l-7.72 7.72c-.78.78-.78 2.05 0 2.83L4 21.41c.39.39.9.59 1.41.59.51 0 1.02-.2 1.41-.59l7.78-7.78 2.81-2.81c.8-.78.8-2.07 0-2.86zM5.41 20L4 18.59l7.72-7.72 1.47 1.35L5.41 20z\"/>\n",
              "  </svg>\n",
              "      </button>\n",
              "      \n",
              "  <style>\n",
              "    .colab-df-container {\n",
              "      display:flex;\n",
              "      flex-wrap:wrap;\n",
              "      gap: 12px;\n",
              "    }\n",
              "\n",
              "    .colab-df-convert {\n",
              "      background-color: #E8F0FE;\n",
              "      border: none;\n",
              "      border-radius: 50%;\n",
              "      cursor: pointer;\n",
              "      display: none;\n",
              "      fill: #1967D2;\n",
              "      height: 32px;\n",
              "      padding: 0 0 0 0;\n",
              "      width: 32px;\n",
              "    }\n",
              "\n",
              "    .colab-df-convert:hover {\n",
              "      background-color: #E2EBFA;\n",
              "      box-shadow: 0px 1px 2px rgba(60, 64, 67, 0.3), 0px 1px 3px 1px rgba(60, 64, 67, 0.15);\n",
              "      fill: #174EA6;\n",
              "    }\n",
              "\n",
              "    [theme=dark] .colab-df-convert {\n",
              "      background-color: #3B4455;\n",
              "      fill: #D2E3FC;\n",
              "    }\n",
              "\n",
              "    [theme=dark] .colab-df-convert:hover {\n",
              "      background-color: #434B5C;\n",
              "      box-shadow: 0px 1px 3px 1px rgba(0, 0, 0, 0.15);\n",
              "      filter: drop-shadow(0px 1px 2px rgba(0, 0, 0, 0.3));\n",
              "      fill: #FFFFFF;\n",
              "    }\n",
              "  </style>\n",
              "\n",
              "      <script>\n",
              "        const buttonEl =\n",
              "          document.querySelector('#df-326023fa-25c0-494b-95d0-85074dd93892 button.colab-df-convert');\n",
              "        buttonEl.style.display =\n",
              "          google.colab.kernel.accessAllowed ? 'block' : 'none';\n",
              "\n",
              "        async function convertToInteractive(key) {\n",
              "          const element = document.querySelector('#df-326023fa-25c0-494b-95d0-85074dd93892');\n",
              "          const dataTable =\n",
              "            await google.colab.kernel.invokeFunction('convertToInteractive',\n",
              "                                                     [key], {});\n",
              "          if (!dataTable) return;\n",
              "\n",
              "          const docLinkHtml = 'Like what you see? Visit the ' +\n",
              "            '<a target=\"_blank\" href=https://colab.research.google.com/notebooks/data_table.ipynb>data table notebook</a>'\n",
              "            + ' to learn more about interactive tables.';\n",
              "          element.innerHTML = '';\n",
              "          dataTable['output_type'] = 'display_data';\n",
              "          await google.colab.output.renderOutput(dataTable, element);\n",
              "          const docLink = document.createElement('div');\n",
              "          docLink.innerHTML = docLinkHtml;\n",
              "          element.appendChild(docLink);\n",
              "        }\n",
              "      </script>\n",
              "    </div>\n",
              "  </div>\n",
              "  "
            ]
          },
          "metadata": {},
          "execution_count": 23
        }
      ]
    },
    {
      "cell_type": "code",
      "source": [
        "features = [\"malic_acid\", \"alcalinity_of_ash\", \"total_phenols\", \"flavanoids\",\n",
        "            \"nonflavanoid_phenols\", \"proanthocyanins\", \"hue\", \"od280/od315_of_diluted_wines\", \"proline\"]"
      ],
      "metadata": {
        "id": "VLlPAzprRfkv"
      },
      "execution_count": null,
      "outputs": []
    },
    {
      "cell_type": "code",
      "source": [
        "X=df_wine[features].copy()\n"
      ],
      "metadata": {
        "id": "6rqcD7JyRfkv"
      },
      "execution_count": null,
      "outputs": []
    },
    {
      "cell_type": "code",
      "source": [
        "Y=np.array(np.transpose([df_wine[\"target\"]]))\n"
      ],
      "metadata": {
        "id": "l_O20AmaRfkw"
      },
      "execution_count": null,
      "outputs": []
    },
    {
      "cell_type": "code",
      "source": [
        "Y = Y.reshape(Y.shape[1:])"
      ],
      "metadata": {
        "id": "sVsRhObzRfkw"
      },
      "execution_count": null,
      "outputs": []
    },
    {
      "cell_type": "code",
      "execution_count": null,
      "metadata": {
        "id": "3F_OeSyNNvXs"
      },
      "outputs": [],
      "source": [
        "x_train, x_test, y_train, y_test = train_test_split(X, Y, test_size = 0.3, random_state = 42, stratify= data.target, shuffle = True)\n"
      ]
    },
    {
      "cell_type": "code",
      "execution_count": null,
      "metadata": {
        "id": "73KtU99JNvXu"
      },
      "outputs": [],
      "source": [
        "device = 'cuda' if torch.cuda.is_available() else 'cpu'\n",
        "\n",
        "torch.manual_seed(777)\n",
        "if device == \"cuda\":\n",
        "  torch.cuda.manual_seed_all(777)"
      ]
    },
    {
      "cell_type": "code",
      "source": [
        "y_train = torch.LongTensor(y_train).to(device)\n",
        "y_test = torch.LongTensor(y_test)"
      ],
      "metadata": {
        "id": "k7kMSRb3Rfkx"
      },
      "execution_count": null,
      "outputs": []
    },
    {
      "cell_type": "code",
      "source": [
        "x_train = torch.FloatTensor(x_train.values).to(device)\n",
        "x_test = torch.FloatTensor(x_test.values).to(device)"
      ],
      "metadata": {
        "id": "7Sy-frfJRfkx"
      },
      "execution_count": null,
      "outputs": []
    },
    {
      "cell_type": "code",
      "execution_count": null,
      "metadata": {
        "colab": {
          "base_uri": "https://localhost:8080/"
        },
        "outputId": "af28a39d-1182-434a-b369-2eef0563c2ee",
        "id": "f1gwk_IMNvXu"
      },
      "outputs": [
        {
          "output_type": "stream",
          "name": "stdout",
          "text": [
            "tensor([1.7300e+00, 1.6000e+01, 2.6000e+00, 2.7600e+00, 2.9000e-01, 1.8100e+00,\n",
            "        1.1500e+00, 2.9000e+00, 1.3200e+03], device='cuda:0')\n",
            "tensor([0], device='cuda:0')\n"
          ]
        }
      ],
      "source": [
        "print(x_train[0])\n",
        "print(y_train[0])\n",
        "#input 9개 (속성이 9개)\n",
        "#y의 class는 3개 (0,1,2)"
      ]
    },
    {
      "cell_type": "markdown",
      "metadata": {
        "id": "eo9CmMn8NvXv"
      },
      "source": [
        "파이토치에서는 데이터셋을 좀 더 쉽게 다룰 수 있도록 유용한 도구로서 torch.utils.data.Dataset과 torch.utils.data.DataLoader를 제공합니다. 이를 사용하면 미니 배치 학습, 데이터 셔플(shuffle), 병렬 처리까지 간단히 수행할 수 있습니다. 기본적인 사용 방법은 Dataset을 정의하고, 이를 DataLoader에 전달하는 것\n",
        "- init : class 에서 객체가 생성되면 바로 실행되는 함수\n",
        "- len : observation 수를 정의하는 함수\n",
        "- getitem : iteration 마다 해당하는 데이터를 돌려주는 함수"
      ]
    },
    {
      "cell_type": "code",
      "execution_count": null,
      "metadata": {
        "id": "hGbdVaeRNvXv"
      },
      "outputs": [],
      "source": [
        "from torch.utils.data import Dataset\n",
        "class CustomDataset(Dataset):\n",
        "  def __init__(self):\n",
        "    self.x_data = x_train\n",
        "    self.y_data = [[y] for y in y_train]\n",
        "#  데이터셋의 전처리를 해주는 부분\n",
        "\n",
        "  def __len__(self):\n",
        "    return len(self.x_data)\n",
        "#  데이터셋의 길이. 즉, 총 샘플의 수를 적어주는 부분\n",
        "\n",
        "  def __getitem__(self, idx):\n",
        "    x = torch.FloatTensor(self.x_data[idx]).to(device)\n",
        "    y = torch.LongTensor(self.y_data[idx]).to(device)\n",
        "#  데이터셋에서 특정 1개의 샘플을 가져오는 함수\n",
        "\n",
        "    return x,y"
      ]
    },
    {
      "cell_type": "code",
      "execution_count": null,
      "metadata": {
        "id": "b2Z9O2SsNvXv"
      },
      "outputs": [],
      "source": [
        "batch_size = 8\n",
        "\n",
        "dataset = CustomDataset()\n",
        "dataloader = DataLoader(dataset, batch_size=batch_size) "
      ]
    },
    {
      "cell_type": "markdown",
      "metadata": {
        "id": "6a47dedINvXv"
      },
      "source": [
        "https://stats.stackexchange.com/questions/181/how-to-choose-the-number-of-hidden-layers-and-nodes-in-a-feedforward-neural-netw"
      ]
    },
    {
      "cell_type": "code",
      "execution_count": null,
      "metadata": {
        "id": "ZfIUwGfTNvXv"
      },
      "outputs": [],
      "source": [
        "# input_layer와 hidden_layer의 노드 개수를 어떻게 바꿔줘야할까? \n",
        "# hidden layer/neuron 수를 바꾸기 : 3개 유지\n",
        "\n",
        "model = nn.Sequential(\n",
        "          nn.Linear(9,512, bias=True), \n",
        "          nn.tanh(),\n",
        "          nn.Linear(512,256, bias=True),\n",
        "          nn.tanh(),\n",
        "          nn.Linear(256,128, bias=True),\n",
        "          nn.tanh(),\n",
        "          nn.Linear(128,36, bias=True), \n",
        "          nn.tanh()\n",
        "          ).to(device)"
      ]
    },
    {
      "cell_type": "markdown",
      "metadata": {
        "id": "gNXjnvnhNvXv"
      },
      "source": [
        "class로 구현 가능\n",
        "- init : 초기 생성 함수\n",
        "- foward : 순전파(입력값 => 예측값 의 과정)"
      ]
    },
    {
      "cell_type": "code",
      "execution_count": null,
      "metadata": {
        "id": "f2L01I8FNvXw"
      },
      "outputs": [],
      "source": [
        "class Model(torch.nn.Module):\n",
        "\n",
        "  def __init__(self):\n",
        "    super(Model, self).__init__()\n",
        "    self.layer1 = nn.Sequential(\n",
        "          nn.Linear(9,512, bias=True), # input_layer = 9, hidden_layer1 = 512 \n",
        "          nn.RReLU(),\n",
        "        nn.BatchNorm1d(512)\n",
        "    )\n",
        "  # activation function 이용 \n",
        "  #   nn.ReLU()\n",
        "  #   nn.tanH()\n",
        "  #   https://pytorch.org/docs/stable/nn.html 그 외에도 여기서 확인 가능함 \n",
        "  #   파라미터가 필요하지 않다는 것이 특징\n",
        "\n",
        "  # batch normazliation 1d, 파라미터 값으로 vector의 길이를 전해줌\n",
        "  # 추후에 이미지를 다루게 된다면, 그때는 batch normalization 2d를 이용하게 됨 \n",
        "  # 그때는 파라미터 값으로 채널, 가로, 세로 길이를 전달해주게 됨 \n",
        "\n",
        "    self.layer2 = nn.Sequential(\n",
        "          nn.Linear(512,256, bias=True), # hidden_layer1 = 350, hidden_layer2 = 150\n",
        "        nn.RReLU()\n",
        "    )\n",
        "    self.layer3 = nn.Sequential(\n",
        "          nn.Linear(256,128, bias=True), # hidden_layer1 = 150, hidden_layer2 = 75\n",
        "        nn.RReLU()\n",
        "    )\n",
        "    self.layer4 = nn.Sequential(\n",
        "        nn.Linear(128, 64, bias=True), # hidden_layer3 = 75, output_layer = 30\n",
        "        nn.RReLU()\n",
        "    )\n",
        "    self.layer5 = nn.Sequential(\n",
        "        nn.Linear(64, 36, bias=True), # hidden_layer3 = 75, output_layer = 30\n",
        "        nn.RReLU()\n",
        "    )\n",
        "\n",
        "  def forward(self,x):\n",
        "    output = self.layer1(x)\n",
        "    output = self.layer2(output)\n",
        "    output = self.layer3(output)\n",
        "    output = self.layer4(output)\n",
        "    output = self.layer5(output)\n",
        "    return output"
      ]
    },
    {
      "cell_type": "code",
      "execution_count": null,
      "metadata": {
        "id": "WUggo9gDNvXw"
      },
      "outputs": [],
      "source": [
        "def init_weights(layer):\n",
        "    if isinstance(layer, nn.Linear):\n",
        "        torch.nn.init.xavier_uniform(layer.weight)\n",
        "        layer.bias.data.fill_(0.01)\n",
        "\n",
        "        #xavier사용\n",
        "        # Layer의 weight를 어떤 분포를 가지도록 초기화시켜줌+global minimum찾기 위해서"
      ]
    },
    {
      "cell_type": "code",
      "execution_count": null,
      "metadata": {
        "colab": {
          "base_uri": "https://localhost:8080/"
        },
        "outputId": "cfeb47df-0b32-48b9-a61c-5e1473694892",
        "id": "byGuq9EpNvXw"
      },
      "outputs": [
        {
          "output_type": "stream",
          "name": "stderr",
          "text": [
            "<ipython-input-103-6196a47a4462>:3: UserWarning: nn.init.xavier_uniform is now deprecated in favor of nn.init.xavier_uniform_.\n",
            "  torch.nn.init.xavier_uniform(layer.weight)\n"
          ]
        },
        {
          "output_type": "execute_result",
          "data": {
            "text/plain": [
              "Model(\n",
              "  (layer1): Sequential(\n",
              "    (0): Linear(in_features=9, out_features=256, bias=True)\n",
              "    (1): RReLU(lower=0.125, upper=0.3333333333333333)\n",
              "    (2): BatchNorm1d(256, eps=1e-05, momentum=0.1, affine=True, track_running_stats=True)\n",
              "  )\n",
              "  (layer2): Sequential(\n",
              "    (0): Linear(in_features=256, out_features=128, bias=True)\n",
              "    (1): RReLU(lower=0.125, upper=0.3333333333333333)\n",
              "  )\n",
              "  (layer3): Sequential(\n",
              "    (0): Linear(in_features=128, out_features=64, bias=True)\n",
              "    (1): RReLU(lower=0.125, upper=0.3333333333333333)\n",
              "  )\n",
              "  (layer4): Sequential(\n",
              "    (0): Linear(in_features=64, out_features=36, bias=True)\n",
              "    (1): RReLU(lower=0.125, upper=0.3333333333333333)\n",
              "  )\n",
              ")"
            ]
          },
          "metadata": {},
          "execution_count": 104
        }
      ],
      "source": [
        "model = Model().to(device)\n",
        "model.apply(init_weights)"
      ]
    },
    {
      "cell_type": "code",
      "execution_count": null,
      "metadata": {
        "colab": {
          "base_uri": "https://localhost:8080/"
        },
        "outputId": "7718a9a9-f31f-4022-a053-4ba7b0fa88a3",
        "id": "R0W8J04nNvXw"
      },
      "outputs": [
        {
          "output_type": "stream",
          "name": "stdout",
          "text": [
            "Model(\n",
            "  (layer1): Sequential(\n",
            "    (0): Linear(in_features=9, out_features=256, bias=True)\n",
            "    (1): RReLU(lower=0.125, upper=0.3333333333333333)\n",
            "    (2): BatchNorm1d(256, eps=1e-05, momentum=0.1, affine=True, track_running_stats=True)\n",
            "  )\n",
            "  (layer2): Sequential(\n",
            "    (0): Linear(in_features=256, out_features=128, bias=True)\n",
            "    (1): RReLU(lower=0.125, upper=0.3333333333333333)\n",
            "  )\n",
            "  (layer3): Sequential(\n",
            "    (0): Linear(in_features=128, out_features=64, bias=True)\n",
            "    (1): RReLU(lower=0.125, upper=0.3333333333333333)\n",
            "  )\n",
            "  (layer4): Sequential(\n",
            "    (0): Linear(in_features=64, out_features=36, bias=True)\n",
            "    (1): RReLU(lower=0.125, upper=0.3333333333333333)\n",
            "  )\n",
            ")\n"
          ]
        }
      ],
      "source": [
        "print(model)"
      ]
    },
    {
      "cell_type": "code",
      "execution_count": null,
      "metadata": {
        "id": "eGHE0hB0NvXw"
      },
      "outputs": [],
      "source": [
        "loss_fn  = nn.CrossEntropyLoss().to(device)\n",
        "\n",
        "# 여러가지 optimizer 시도해보기\n",
        "# lr 바꿔보기\n",
        "\n",
        "\n",
        "optimizer = optim.Adam(model.parameters(), lr=0.001)\n",
        "# optimizer = optim.SGD(model.parameters(), lr=0.001, momentum=0.5)\n",
        "# https://pytorch.org/docs/stable/optim.html#module-torch.optim 페이지 참조\n",
        "# optimizer = optim.SGD(model.parameters(), lr=0.1, momentum=0.9)\n",
        "# sgd 등등"
      ]
    },
    {
      "cell_type": "code",
      "source": [
        "print(x_test.dtype)\n",
        "print(y_test.dtype)\n",
        "print(x_train.dtype)\n",
        "print(y_train.dtype)"
      ],
      "metadata": {
        "colab": {
          "base_uri": "https://localhost:8080/"
        },
        "outputId": "a30d61da-abab-4ad1-837e-32a5b46bb63a",
        "id": "1RTKsYCRRfkz"
      },
      "execution_count": null,
      "outputs": [
        {
          "output_type": "stream",
          "name": "stdout",
          "text": [
            "torch.float32\n",
            "torch.int64\n",
            "torch.float32\n",
            "torch.int64\n"
          ]
        }
      ]
    },
    {
      "cell_type": "code",
      "source": [
        "y_train = y_train.squeeze(dim=-1)\n",
        "y_test = y_test.squeeze(dim=-1)"
      ],
      "metadata": {
        "id": "b_fWc38ARfk0"
      },
      "execution_count": null,
      "outputs": []
    },
    {
      "cell_type": "code",
      "source": [
        "x_train= x_train.cuda()\n",
        "y_train= y_train.cuda()\n",
        "\n",
        "x_test= x_test.cuda()\n",
        "y_test= y_test.cuda()"
      ],
      "metadata": {
        "id": "467_e9zYRfk0"
      },
      "execution_count": null,
      "outputs": []
    },
    {
      "cell_type": "code",
      "execution_count": null,
      "metadata": {
        "colab": {
          "base_uri": "https://localhost:8080/"
        },
        "outputId": "fe6f5d8e-c332-4031-be2a-682d39828ebc",
        "id": "Uqn5AImuNvXx"
      },
      "outputs": [
        {
          "output_type": "stream",
          "name": "stdout",
          "text": [
            "0 3.811213254928589\n",
            "10 1.2016456127166748\n",
            "20 0.8563257455825806\n",
            "30 0.6610510945320129\n",
            "40 0.42307332158088684\n",
            "50 0.3400321304798126\n",
            "60 0.18983396887779236\n",
            "70 0.1260484755039215\n",
            "80 0.07022875547409058\n",
            "90 0.06429146975278854\n"
          ]
        }
      ],
      "source": [
        "losses = []\n",
        "for epoch in range(100):\n",
        "\n",
        "  optimizer.zero_grad()\n",
        "  hypothesis = model(x_train)\n",
        "\n",
        "  # 비용 함수\n",
        "  cost = loss_fn(hypothesis, y_train)\n",
        "  cost.backward()\n",
        "  optimizer.step()\n",
        "  losses.append(cost.item())\n",
        "\n",
        "  if epoch % 10 == 0:\n",
        "    print(epoch, cost.item())"
      ]
    },
    {
      "cell_type": "code",
      "execution_count": null,
      "metadata": {
        "colab": {
          "base_uri": "https://localhost:8080/",
          "height": 269
        },
        "outputId": "547719e6-06d2-47bf-d019-aa07039225b8",
        "id": "HVNvUzTKNvXx"
      },
      "outputs": [
        {
          "output_type": "display_data",
          "data": {
            "text/plain": [
              "<Figure size 432x288 with 1 Axes>"
            ],
            "image/png": "[encoded data removed]"
          },
          "metadata": {
            "needs_background": "light"
          }
        }
      ],
      "source": [
        "plt.plot(losses)\n",
        "plt.show()"
      ]
    },
    {
      "cell_type": "code",
      "source": [
        "x_test = torch.as_tensor(x_test, device='cpu')\n",
        "y_test = torch.as_tensor(y_test, device='cpu')"
      ],
      "metadata": {
        "id": "Y_ijmY8gRfk0"
      },
      "execution_count": null,
      "outputs": []
    },
    {
      "cell_type": "code",
      "execution_count": null,
      "metadata": {
        "id": "JDPdDjm2NvXx"
      },
      "outputs": [],
      "source": [
        "with torch.no_grad():\n",
        "  model = model.to('cpu')\n",
        "  y_pred = model(x_test)\n",
        "  y_pred = y_pred.detach().numpy()\n",
        "  predicted = np.argmax(y_pred, axis =1)\n",
        "  accuracy =  accuracy_score(predicted, y_test)\n"
      ]
    },
    {
      "cell_type": "code",
      "execution_count": null,
      "metadata": {
        "colab": {
          "base_uri": "https://localhost:8080/"
        },
        "outputId": "13d936bb-02e1-4edd-ba35-c449a628df49",
        "id": "NkQou0xaNvXx"
      },
      "outputs": [
        {
          "output_type": "stream",
          "name": "stdout",
          "text": [
            "model의 output은 :  [21.543148   16.901724   -0.74689656 -0.5457106  -1.595903    0.22990376\n",
            " -3.2073927  -0.2119604  -2.5410326  -1.2824352  -3.1997986  -1.5430114\n",
            " -0.40539256 -0.5256041  -2.5221548  -1.3497123  -0.06214226 -0.589889\n",
            "  1.4996643  -0.8925893  -0.7344888  -0.62149924 -0.5368596  -1.069954\n",
            " -0.56833124 -0.7323237  -1.8687415  -3.1838608  -0.24095626 -0.7730151\n",
            " -2.6356423  -2.4238708  -0.58906    -2.9498148  -0.6526307  -1.1352663 ]\n",
            "argmax를 한 후의 output은 0\n",
            "accuracy는 1.0\n"
          ]
        }
      ],
      "source": [
        "print(f'model의 output은 :  {y_pred[0]}')\n",
        "print(f'argmax를 한 후의 output은 {predicted[0]}')\n",
        "print(f'accuracy는 {accuracy}')"
      ]
    },
    {
      "cell_type": "markdown",
      "metadata": {
        "id": "3RzRM7xThZV_"
      },
      "source": [
        "# < 3주차 과제 2 : CNN 맛보기>"
      ]
    },
    {
      "cell_type": "code",
      "execution_count": 1,
      "metadata": {
        "id": "3-zVTBs1O5Kp",
        "outputId": "5305dbd4-75ca-4694-be58-1559c89faa72",
        "colab": {
          "base_uri": "https://localhost:8080/"
        }
      },
      "outputs": [
        {
          "output_type": "stream",
          "name": "stdout",
          "text": [
            "Looking in indexes: https://pypi.org/simple, https://us-python.pkg.dev/colab-wheels/public/simple/\n",
            "Requirement already satisfied: torchvision in /usr/local/lib/python3.8/dist-packages (0.14.1+cu116)\n",
            "Requirement already satisfied: requests in /usr/local/lib/python3.8/dist-packages (from torchvision) (2.25.1)\n",
            "Requirement already satisfied: torch==1.13.1 in /usr/local/lib/python3.8/dist-packages (from torchvision) (1.13.1+cu116)\n",
            "Requirement already satisfied: numpy in /usr/local/lib/python3.8/dist-packages (from torchvision) (1.21.6)\n",
            "Requirement already satisfied: typing-extensions in /usr/local/lib/python3.8/dist-packages (from torchvision) (4.4.0)\n",
            "Requirement already satisfied: pillow!=8.3.*,>=5.3.0 in /usr/local/lib/python3.8/dist-packages (from torchvision) (7.1.2)\n",
            "Requirement already satisfied: idna<3,>=2.5 in /usr/local/lib/python3.8/dist-packages (from requests->torchvision) (2.10)\n",
            "Requirement already satisfied: certifi>=2017.4.17 in /usr/local/lib/python3.8/dist-packages (from requests->torchvision) (2022.12.7)\n",
            "Requirement already satisfied: chardet<5,>=3.0.2 in /usr/local/lib/python3.8/dist-packages (from requests->torchvision) (4.0.0)\n",
            "Requirement already satisfied: urllib3<1.27,>=1.21.1 in /usr/local/lib/python3.8/dist-packages (from requests->torchvision) (1.24.3)\n"
          ]
        }
      ],
      "source": [
        "!pip install torchvision"
      ]
    },
    {
      "cell_type": "code",
      "execution_count": 2,
      "metadata": {
        "id": "56xqgtLxhZw6"
      },
      "outputs": [],
      "source": [
        "from __future__ import print_function\n",
        "import argparse\n",
        "import torch\n",
        "import torch.nn as nn\n",
        "import torch.nn.functional as F\n",
        "import torch.optim as optim\n",
        "from torchvision import datasets, transforms\n",
        "from torch.autograd import Variable"
      ]
    },
    {
      "cell_type": "code",
      "execution_count": 3,
      "metadata": {
        "id": "TzkF2bFNhcQ2",
        "colab": {
          "referenced_widgets": [
            "18931726d1264140829114b9fbcf627f",
            "c6337d39ca24493ba339efce3496dff7",
            "43b10847c567432e8f224b25eca8dd7a",
            "38f22fdd0b6e4175b954cd55b61f7434",
            "f1871bc909b745e4919e757b0bfe35d0",
            "9a9eb5e83b724df899506a13507b175a",
            "1b4a147330114eeba17cff4ec849a486",
            "73ab6f658f2741f5a8b780e89db9fa71",
            "305ae92a5f74429ea351b2da4e5e71a7",
            "9bb77054ce554d57914b76d7774ba41d",
            "63f42b1dfcdb41fd9a71ed49a3d8e95a",
            "9bb4f62b697a48f29ecc8c00ed731ffe",
            "b67708eb38c44655b745184847c2bf5f",
            "622d37b5fcd041cabc1ebd25a2c13090",
            "5104028028834b5890b4f09900ff1a3d",
            "b37cf260b2384f3f87e8269064035063",
            "0c7fc72711a14c16a7529ee3aff00930",
            "f616cb3a3058437d85361621847b67d3",
            "271095bbb7fb46508e70750f8e6ffb07",
            "64bcb8659eec49ddad44bb3a66cfb924",
            "51d885e1cc004fa8bd52e681be276c0f",
            "9efbf59c714a4faaa462f0bd228ae149",
            "cd8104d8149440cb8a0b4ff1890cff8b",
            "204ffc5bdf344ca395397d59a7d7d00b",
            "22abed2fd2594279a91a93950e64fe31",
            "f03a00d768a841d49a50869d7f5fdeaf",
            "472fea44f34147c5b23ebd42b2c43d30",
            "1d78531f33ac4ef9a714fa5d7c26830c",
            "39f8a240d1a542c4811f60abc1160816",
            "9912eafabda54fa1a4d836897476db1b",
            "eec65b306adc49c69d0bcfa0f7933d1e",
            "51d084cc04ef4a7882af81548bc682e3",
            "ea746700e89e41d39074324e73e79fa6",
            "1544a63a325642a089c30749353141e3",
            "8f8fd8639eeb491b994f72b14581baf2",
            "b04114a0c2714a20a3f87edadcbf44cb",
            "8591c55a878a4ad38f5a4d45b5f78510",
            "257b0889544541aba5cce696d105fe30",
            "ebda18b3eb544ec995e948894c360ed8",
            "5e9deaf3364c494182467520f785a463",
            "b16b185606d749a8b80ee316cf9bae02",
            "ef21de61f3f44bc9a8ff404749f92345",
            "31360943068b434d873de1e1dfbe1f81",
            "804f6170a16a42f698c103f4b9b56255"
          ],
          "base_uri": "https://localhost:8080/",
          "height": 435
        },
        "outputId": "1177c510-59e0-4f7a-eefd-6c27c2252cfb"
      },
      "outputs": [
        {
          "output_type": "stream",
          "name": "stdout",
          "text": [
            "Downloading http://yann.lecun.com/exdb/mnist/train-images-idx3-ubyte.gz\n",
            "Downloading http://yann.lecun.com/exdb/mnist/train-images-idx3-ubyte.gz to ./data/MNIST/raw/train-images-idx3-ubyte.gz\n"
          ]
        },
        {
          "output_type": "display_data",
          "data": {
            "text/plain": [
              "  0%|          | 0/9912422 [00:00<?, ?it/s]"
            ],
            "application/vnd.jupyter.widget-view+json": {
              "version_major": 2,
              "version_minor": 0,
              "model_id": "18931726d1264140829114b9fbcf627f"
            }
          },
          "metadata": {}
        },
        {
          "output_type": "stream",
          "name": "stdout",
          "text": [
            "Extracting ./data/MNIST/raw/train-images-idx3-ubyte.gz to ./data/MNIST/raw\n",
            "\n",
            "Downloading http://yann.lecun.com/exdb/mnist/train-labels-idx1-ubyte.gz\n",
            "Downloading http://yann.lecun.com/exdb/mnist/train-labels-idx1-ubyte.gz to ./data/MNIST/raw/train-labels-idx1-ubyte.gz\n"
          ]
        },
        {
          "output_type": "display_data",
          "data": {
            "text/plain": [
              "  0%|          | 0/28881 [00:00<?, ?it/s]"
            ],
            "application/vnd.jupyter.widget-view+json": {
              "version_major": 2,
              "version_minor": 0,
              "model_id": "9bb4f62b697a48f29ecc8c00ed731ffe"
            }
          },
          "metadata": {}
        },
        {
          "output_type": "stream",
          "name": "stdout",
          "text": [
            "Extracting ./data/MNIST/raw/train-labels-idx1-ubyte.gz to ./data/MNIST/raw\n",
            "\n",
            "Downloading http://yann.lecun.com/exdb/mnist/t10k-images-idx3-ubyte.gz\n",
            "Downloading http://yann.lecun.com/exdb/mnist/t10k-images-idx3-ubyte.gz to ./data/MNIST/raw/t10k-images-idx3-ubyte.gz\n"
          ]
        },
        {
          "output_type": "display_data",
          "data": {
            "text/plain": [
              "  0%|          | 0/1648877 [00:00<?, ?it/s]"
            ],
            "application/vnd.jupyter.widget-view+json": {
              "version_major": 2,
              "version_minor": 0,
              "model_id": "cd8104d8149440cb8a0b4ff1890cff8b"
            }
          },
          "metadata": {}
        },
        {
          "output_type": "stream",
          "name": "stdout",
          "text": [
            "Extracting ./data/MNIST/raw/t10k-images-idx3-ubyte.gz to ./data/MNIST/raw\n",
            "\n",
            "Downloading http://yann.lecun.com/exdb/mnist/t10k-labels-idx1-ubyte.gz\n",
            "Downloading http://yann.lecun.com/exdb/mnist/t10k-labels-idx1-ubyte.gz to ./data/MNIST/raw/t10k-labels-idx1-ubyte.gz\n"
          ]
        },
        {
          "output_type": "display_data",
          "data": {
            "text/plain": [
              "  0%|          | 0/4542 [00:00<?, ?it/s]"
            ],
            "application/vnd.jupyter.widget-view+json": {
              "version_major": 2,
              "version_minor": 0,
              "model_id": "1544a63a325642a089c30749353141e3"
            }
          },
          "metadata": {}
        },
        {
          "output_type": "stream",
          "name": "stdout",
          "text": [
            "Extracting ./data/MNIST/raw/t10k-labels-idx1-ubyte.gz to ./data/MNIST/raw\n",
            "\n"
          ]
        }
      ],
      "source": [
        "# Training settings\n",
        "\n",
        "batch_size = 64\n",
        "\n",
        "# MNIST Dataset\n",
        "train_dataset = datasets.MNIST(root='./data/',\n",
        "                               train=True,\n",
        "                               transform=transforms.ToTensor(),\n",
        "                               download=True)\n",
        "\n",
        "test_dataset = datasets.MNIST(root='./data/',\n",
        "                              train=False,\n",
        "                              transform=transforms.ToTensor())\n",
        "\n",
        "# Data Loader (Input Pipeline)\n",
        "train_loader = torch.utils.data.DataLoader(dataset=train_dataset,\n",
        "                                           batch_size=batch_size,\n",
        "                                           shuffle=True)\n",
        "\n",
        "test_loader = torch.utils.data.DataLoader(dataset=test_dataset,\n",
        "                                          batch_size=batch_size,\n",
        "                                          shuffle=False)"
      ]
    },
    {
      "cell_type": "code",
      "execution_count": 10,
      "metadata": {
        "id": "tLCSvgganBrH"
      },
      "outputs": [],
      "source": [
        "class Net(nn.Module):\n",
        "    def __init__(self):\n",
        "      super(Net, self).__init__()\n",
        "      self.conv1 = nn.Conv2d(1, 10, kernel_size = 5)\n",
        "      self.conv2 = nn.Conv2d(10, 20, kernel_size = 5)\n",
        "      self.mp = nn.MaxPool2d(2)\n",
        "      self.fc = nn.Linear(320, 10) ### : 알맞는 input은?\n",
        "    \n",
        "    def forward(self, x):\n",
        "      in_size = x.size(0)\n",
        "      x = F.relu(self.mp(self.conv1(x)))\n",
        "      x = F.relu(self.mp(self.conv2(x)))\n",
        "      x = x.view(in_size, -1)\n",
        "      x = self.fc(x)\n",
        "      return F.log_softmax(x)"
      ]
    },
    {
      "cell_type": "code",
      "execution_count": 11,
      "metadata": {
        "id": "lkYZ4pUdnUHc"
      },
      "outputs": [],
      "source": [
        "model = Net()\n",
        "optimizer = optim.SGD(model.parameters(), lr = 0.01, momentum = 0.5)"
      ]
    },
    {
      "cell_type": "code",
      "execution_count": 12,
      "metadata": {
        "id": "IzUrEM3EnXJb"
      },
      "outputs": [],
      "source": [
        "def train(epoch):\n",
        "  model.train()\n",
        "  for batch_idx, (data, target) in enumerate(train_loader):\n",
        "    data, target = Variable(data), Variable(target)\n",
        "    optimizer.zero_grad()\n",
        "    output = model(data)\n",
        "    loss = F.nll_loss(output, target)\n",
        "    loss.backward()\n",
        "    optimizer.step()\n",
        "    if batch_idx % 10 == 0:\n",
        "      print('Train Epoch: {} [{}/{} ({:.0f}%)]\\tLoss: {:.6f}'.format(\n",
        "          epoch, batch_idx * len(data), len(train_loader.dataset),\n",
        "          100. * batch_idx / len(train_loader), loss.item()))"
      ]
    },
    {
      "cell_type": "code",
      "execution_count": 13,
      "metadata": {
        "id": "EFi0gYJGn2aa"
      },
      "outputs": [],
      "source": [
        "def test():\n",
        "    model.eval() #model.eval() 의 기능은?\n",
        "    test_loss = 0\n",
        "    correct = 0\n",
        "    for data, target in test_loader:\n",
        "        data, target = Variable(data, volatile=True), Variable(target)\n",
        "        output = model(data)\n",
        "        test_loss += F.nll_loss(output, target, size_average=False).data # nll_loss?? / cross entropy loss와의 관계 확인!\n",
        "        pred = output.data.max(1, keepdim=True)[1]\n",
        "        correct += pred.eq(target.data.view_as(pred)).cpu().sum()\n",
        "\n",
        "    test_loss /= len(test_loader.dataset)\n",
        "    print('\\nTest set: Average loss: {:.4f}, Accuracy: {}/{} ({:.0f}%)\\n'.format(\n",
        "        test_loss, correct, len(test_loader.dataset),\n",
        "        100. * correct / len(test_loader.dataset)))"
      ]
    },
    {
      "cell_type": "code",
      "execution_count": 14,
      "metadata": {
        "id": "zSvSZb_Bn4Nx",
        "outputId": "76a2b2c5-e000-4198-e9f2-38f2fdf50cb0",
        "colab": {
          "base_uri": "https://localhost:8080/"
        }
      },
      "outputs": [
        {
          "output_type": "stream",
          "name": "stderr",
          "text": [
            "<ipython-input-10-b34e77e3662d>:15: UserWarning: Implicit dimension choice for log_softmax has been deprecated. Change the call to include dim=X as an argument.\n",
            "  return F.log_softmax(x)\n"
          ]
        },
        {
          "output_type": "stream",
          "name": "stdout",
          "text": [
            "Train Epoch: 1 [0/60000 (0%)]\tLoss: 2.295771\n",
            "Train Epoch: 1 [640/60000 (1%)]\tLoss: 2.298887\n",
            "Train Epoch: 1 [1280/60000 (2%)]\tLoss: 2.265930\n",
            "Train Epoch: 1 [1920/60000 (3%)]\tLoss: 2.250211\n",
            "Train Epoch: 1 [2560/60000 (4%)]\tLoss: 2.223204\n",
            "Train Epoch: 1 [3200/60000 (5%)]\tLoss: 2.192784\n",
            "Train Epoch: 1 [3840/60000 (6%)]\tLoss: 2.135209\n",
            "Train Epoch: 1 [4480/60000 (7%)]\tLoss: 2.068318\n",
            "Train Epoch: 1 [5120/60000 (9%)]\tLoss: 1.977800\n",
            "Train Epoch: 1 [5760/60000 (10%)]\tLoss: 1.896162\n",
            "Train Epoch: 1 [6400/60000 (11%)]\tLoss: 1.588422\n",
            "Train Epoch: 1 [7040/60000 (12%)]\tLoss: 1.272797\n",
            "Train Epoch: 1 [7680/60000 (13%)]\tLoss: 1.223005\n",
            "Train Epoch: 1 [8320/60000 (14%)]\tLoss: 0.855509\n",
            "Train Epoch: 1 [8960/60000 (15%)]\tLoss: 0.784181\n",
            "Train Epoch: 1 [9600/60000 (16%)]\tLoss: 0.834800\n",
            "Train Epoch: 1 [10240/60000 (17%)]\tLoss: 0.792371\n",
            "Train Epoch: 1 [10880/60000 (18%)]\tLoss: 0.507975\n",
            "Train Epoch: 1 [11520/60000 (19%)]\tLoss: 0.612564\n",
            "Train Epoch: 1 [12160/60000 (20%)]\tLoss: 0.621625\n",
            "Train Epoch: 1 [12800/60000 (21%)]\tLoss: 0.671336\n",
            "Train Epoch: 1 [13440/60000 (22%)]\tLoss: 0.462879\n",
            "Train Epoch: 1 [14080/60000 (23%)]\tLoss: 0.481391\n",
            "Train Epoch: 1 [14720/60000 (25%)]\tLoss: 0.643607\n",
            "Train Epoch: 1 [15360/60000 (26%)]\tLoss: 0.316251\n",
            "Train Epoch: 1 [16000/60000 (27%)]\tLoss: 0.402637\n",
            "Train Epoch: 1 [16640/60000 (28%)]\tLoss: 0.538780\n",
            "Train Epoch: 1 [17280/60000 (29%)]\tLoss: 0.557317\n",
            "Train Epoch: 1 [17920/60000 (30%)]\tLoss: 0.354634\n",
            "Train Epoch: 1 [18560/60000 (31%)]\tLoss: 0.332417\n",
            "Train Epoch: 1 [19200/60000 (32%)]\tLoss: 0.339998\n",
            "Train Epoch: 1 [19840/60000 (33%)]\tLoss: 0.544503\n",
            "Train Epoch: 1 [20480/60000 (34%)]\tLoss: 0.429018\n",
            "Train Epoch: 1 [21120/60000 (35%)]\tLoss: 0.516800\n",
            "Train Epoch: 1 [21760/60000 (36%)]\tLoss: 0.204394\n",
            "Train Epoch: 1 [22400/60000 (37%)]\tLoss: 0.385416\n",
            "Train Epoch: 1 [23040/60000 (38%)]\tLoss: 0.298174\n",
            "Train Epoch: 1 [23680/60000 (39%)]\tLoss: 0.367717\n",
            "Train Epoch: 1 [24320/60000 (41%)]\tLoss: 0.364944\n",
            "Train Epoch: 1 [24960/60000 (42%)]\tLoss: 0.389929\n",
            "Train Epoch: 1 [25600/60000 (43%)]\tLoss: 0.391219\n",
            "Train Epoch: 1 [26240/60000 (44%)]\tLoss: 0.304389\n",
            "Train Epoch: 1 [26880/60000 (45%)]\tLoss: 0.223357\n",
            "Train Epoch: 1 [27520/60000 (46%)]\tLoss: 0.574520\n",
            "Train Epoch: 1 [28160/60000 (47%)]\tLoss: 0.381409\n",
            "Train Epoch: 1 [28800/60000 (48%)]\tLoss: 0.330025\n",
            "Train Epoch: 1 [29440/60000 (49%)]\tLoss: 0.281964\n",
            "Train Epoch: 1 [30080/60000 (50%)]\tLoss: 0.218489\n",
            "Train Epoch: 1 [30720/60000 (51%)]\tLoss: 0.415715\n",
            "Train Epoch: 1 [31360/60000 (52%)]\tLoss: 0.201183\n",
            "Train Epoch: 1 [32000/60000 (53%)]\tLoss: 0.303060\n",
            "Train Epoch: 1 [32640/60000 (54%)]\tLoss: 0.243536\n",
            "Train Epoch: 1 [33280/60000 (55%)]\tLoss: 0.246097\n",
            "Train Epoch: 1 [33920/60000 (57%)]\tLoss: 0.276212\n",
            "Train Epoch: 1 [34560/60000 (58%)]\tLoss: 0.335527\n",
            "Train Epoch: 1 [35200/60000 (59%)]\tLoss: 0.200463\n",
            "Train Epoch: 1 [35840/60000 (60%)]\tLoss: 0.281931\n",
            "Train Epoch: 1 [36480/60000 (61%)]\tLoss: 0.185941\n",
            "Train Epoch: 1 [37120/60000 (62%)]\tLoss: 0.217105\n",
            "Train Epoch: 1 [37760/60000 (63%)]\tLoss: 0.239626\n",
            "Train Epoch: 1 [38400/60000 (64%)]\tLoss: 0.191200\n",
            "Train Epoch: 1 [39040/60000 (65%)]\tLoss: 0.407700\n",
            "Train Epoch: 1 [39680/60000 (66%)]\tLoss: 0.158159\n",
            "Train Epoch: 1 [40320/60000 (67%)]\tLoss: 0.316650\n",
            "Train Epoch: 1 [40960/60000 (68%)]\tLoss: 0.294973\n",
            "Train Epoch: 1 [41600/60000 (69%)]\tLoss: 0.283338\n",
            "Train Epoch: 1 [42240/60000 (70%)]\tLoss: 0.228043\n",
            "Train Epoch: 1 [42880/60000 (71%)]\tLoss: 0.316918\n",
            "Train Epoch: 1 [43520/60000 (72%)]\tLoss: 0.247987\n",
            "Train Epoch: 1 [44160/60000 (74%)]\tLoss: 0.243905\n",
            "Train Epoch: 1 [44800/60000 (75%)]\tLoss: 0.427278\n",
            "Train Epoch: 1 [45440/60000 (76%)]\tLoss: 0.204586\n",
            "Train Epoch: 1 [46080/60000 (77%)]\tLoss: 0.265934\n",
            "Train Epoch: 1 [46720/60000 (78%)]\tLoss: 0.118566\n",
            "Train Epoch: 1 [47360/60000 (79%)]\tLoss: 0.232750\n",
            "Train Epoch: 1 [48000/60000 (80%)]\tLoss: 0.284835\n",
            "Train Epoch: 1 [48640/60000 (81%)]\tLoss: 0.303117\n",
            "Train Epoch: 1 [49280/60000 (82%)]\tLoss: 0.183359\n",
            "Train Epoch: 1 [49920/60000 (83%)]\tLoss: 0.107049\n",
            "Train Epoch: 1 [50560/60000 (84%)]\tLoss: 0.346011\n",
            "Train Epoch: 1 [51200/60000 (85%)]\tLoss: 0.267468\n",
            "Train Epoch: 1 [51840/60000 (86%)]\tLoss: 0.179711\n",
            "Train Epoch: 1 [52480/60000 (87%)]\tLoss: 0.081736\n",
            "Train Epoch: 1 [53120/60000 (88%)]\tLoss: 0.092066\n",
            "Train Epoch: 1 [53760/60000 (90%)]\tLoss: 0.226805\n",
            "Train Epoch: 1 [54400/60000 (91%)]\tLoss: 0.313008\n",
            "Train Epoch: 1 [55040/60000 (92%)]\tLoss: 0.142015\n",
            "Train Epoch: 1 [55680/60000 (93%)]\tLoss: 0.233916\n",
            "Train Epoch: 1 [56320/60000 (94%)]\tLoss: 0.115199\n",
            "Train Epoch: 1 [56960/60000 (95%)]\tLoss: 0.174382\n",
            "Train Epoch: 1 [57600/60000 (96%)]\tLoss: 0.129059\n",
            "Train Epoch: 1 [58240/60000 (97%)]\tLoss: 0.261022\n",
            "Train Epoch: 1 [58880/60000 (98%)]\tLoss: 0.371525\n",
            "Train Epoch: 1 [59520/60000 (99%)]\tLoss: 0.119794\n"
          ]
        },
        {
          "output_type": "stream",
          "name": "stderr",
          "text": [
            "<ipython-input-13-f52337105c2a>:6: UserWarning: volatile was removed and now has no effect. Use `with torch.no_grad():` instead.\n",
            "  data, target = Variable(data, volatile=True), Variable(target)\n",
            "/usr/local/lib/python3.8/dist-packages/torch/nn/_reduction.py:42: UserWarning: size_average and reduce args will be deprecated, please use reduction='sum' instead.\n",
            "  warnings.warn(warning.format(ret))\n"
          ]
        },
        {
          "output_type": "stream",
          "name": "stdout",
          "text": [
            "\n",
            "Test set: Average loss: 0.1805, Accuracy: 9485/10000 (95%)\n",
            "\n",
            "Train Epoch: 2 [0/60000 (0%)]\tLoss: 0.359348\n",
            "Train Epoch: 2 [640/60000 (1%)]\tLoss: 0.135230\n",
            "Train Epoch: 2 [1280/60000 (2%)]\tLoss: 0.220182\n",
            "Train Epoch: 2 [1920/60000 (3%)]\tLoss: 0.277170\n",
            "Train Epoch: 2 [2560/60000 (4%)]\tLoss: 0.113828\n",
            "Train Epoch: 2 [3200/60000 (5%)]\tLoss: 0.222347\n",
            "Train Epoch: 2 [3840/60000 (6%)]\tLoss: 0.257903\n",
            "Train Epoch: 2 [4480/60000 (7%)]\tLoss: 0.176339\n",
            "Train Epoch: 2 [5120/60000 (9%)]\tLoss: 0.189104\n",
            "Train Epoch: 2 [5760/60000 (10%)]\tLoss: 0.135419\n",
            "Train Epoch: 2 [6400/60000 (11%)]\tLoss: 0.306152\n",
            "Train Epoch: 2 [7040/60000 (12%)]\tLoss: 0.302284\n",
            "Train Epoch: 2 [7680/60000 (13%)]\tLoss: 0.182783\n",
            "Train Epoch: 2 [8320/60000 (14%)]\tLoss: 0.214288\n",
            "Train Epoch: 2 [8960/60000 (15%)]\tLoss: 0.108183\n",
            "Train Epoch: 2 [9600/60000 (16%)]\tLoss: 0.198163\n",
            "Train Epoch: 2 [10240/60000 (17%)]\tLoss: 0.075706\n",
            "Train Epoch: 2 [10880/60000 (18%)]\tLoss: 0.180417\n",
            "Train Epoch: 2 [11520/60000 (19%)]\tLoss: 0.141696\n",
            "Train Epoch: 2 [12160/60000 (20%)]\tLoss: 0.276848\n",
            "Train Epoch: 2 [12800/60000 (21%)]\tLoss: 0.256923\n",
            "Train Epoch: 2 [13440/60000 (22%)]\tLoss: 0.172811\n",
            "Train Epoch: 2 [14080/60000 (23%)]\tLoss: 0.148899\n",
            "Train Epoch: 2 [14720/60000 (25%)]\tLoss: 0.351490\n",
            "Train Epoch: 2 [15360/60000 (26%)]\tLoss: 0.151141\n",
            "Train Epoch: 2 [16000/60000 (27%)]\tLoss: 0.170607\n",
            "Train Epoch: 2 [16640/60000 (28%)]\tLoss: 0.127805\n",
            "Train Epoch: 2 [17280/60000 (29%)]\tLoss: 0.117331\n",
            "Train Epoch: 2 [17920/60000 (30%)]\tLoss: 0.262294\n",
            "Train Epoch: 2 [18560/60000 (31%)]\tLoss: 0.201617\n",
            "Train Epoch: 2 [19200/60000 (32%)]\tLoss: 0.223245\n",
            "Train Epoch: 2 [19840/60000 (33%)]\tLoss: 0.164971\n",
            "Train Epoch: 2 [20480/60000 (34%)]\tLoss: 0.087344\n",
            "Train Epoch: 2 [21120/60000 (35%)]\tLoss: 0.057309\n",
            "Train Epoch: 2 [21760/60000 (36%)]\tLoss: 0.153310\n",
            "Train Epoch: 2 [22400/60000 (37%)]\tLoss: 0.125151\n",
            "Train Epoch: 2 [23040/60000 (38%)]\tLoss: 0.231776\n",
            "Train Epoch: 2 [23680/60000 (39%)]\tLoss: 0.276624\n",
            "Train Epoch: 2 [24320/60000 (41%)]\tLoss: 0.130540\n",
            "Train Epoch: 2 [24960/60000 (42%)]\tLoss: 0.083490\n",
            "Train Epoch: 2 [25600/60000 (43%)]\tLoss: 0.344344\n",
            "Train Epoch: 2 [26240/60000 (44%)]\tLoss: 0.082709\n",
            "Train Epoch: 2 [26880/60000 (45%)]\tLoss: 0.137639\n",
            "Train Epoch: 2 [27520/60000 (46%)]\tLoss: 0.192084\n",
            "Train Epoch: 2 [28160/60000 (47%)]\tLoss: 0.099495\n",
            "Train Epoch: 2 [28800/60000 (48%)]\tLoss: 0.119062\n",
            "Train Epoch: 2 [29440/60000 (49%)]\tLoss: 0.093782\n",
            "Train Epoch: 2 [30080/60000 (50%)]\tLoss: 0.304236\n",
            "Train Epoch: 2 [30720/60000 (51%)]\tLoss: 0.091844\n",
            "Train Epoch: 2 [31360/60000 (52%)]\tLoss: 0.164530\n",
            "Train Epoch: 2 [32000/60000 (53%)]\tLoss: 0.103186\n",
            "Train Epoch: 2 [32640/60000 (54%)]\tLoss: 0.092680\n",
            "Train Epoch: 2 [33280/60000 (55%)]\tLoss: 0.063058\n",
            "Train Epoch: 2 [33920/60000 (57%)]\tLoss: 0.181610\n",
            "Train Epoch: 2 [34560/60000 (58%)]\tLoss: 0.106985\n",
            "Train Epoch: 2 [35200/60000 (59%)]\tLoss: 0.358407\n",
            "Train Epoch: 2 [35840/60000 (60%)]\tLoss: 0.137954\n",
            "Train Epoch: 2 [36480/60000 (61%)]\tLoss: 0.063459\n",
            "Train Epoch: 2 [37120/60000 (62%)]\tLoss: 0.101447\n",
            "Train Epoch: 2 [37760/60000 (63%)]\tLoss: 0.052584\n",
            "Train Epoch: 2 [38400/60000 (64%)]\tLoss: 0.115899\n",
            "Train Epoch: 2 [39040/60000 (65%)]\tLoss: 0.044257\n",
            "Train Epoch: 2 [39680/60000 (66%)]\tLoss: 0.145921\n",
            "Train Epoch: 2 [40320/60000 (67%)]\tLoss: 0.246633\n",
            "Train Epoch: 2 [40960/60000 (68%)]\tLoss: 0.078774\n",
            "Train Epoch: 2 [41600/60000 (69%)]\tLoss: 0.103490\n",
            "Train Epoch: 2 [42240/60000 (70%)]\tLoss: 0.148935\n",
            "Train Epoch: 2 [42880/60000 (71%)]\tLoss: 0.186394\n",
            "Train Epoch: 2 [43520/60000 (72%)]\tLoss: 0.212950\n",
            "Train Epoch: 2 [44160/60000 (74%)]\tLoss: 0.108847\n",
            "Train Epoch: 2 [44800/60000 (75%)]\tLoss: 0.042810\n",
            "Train Epoch: 2 [45440/60000 (76%)]\tLoss: 0.205759\n",
            "Train Epoch: 2 [46080/60000 (77%)]\tLoss: 0.096338\n",
            "Train Epoch: 2 [46720/60000 (78%)]\tLoss: 0.184107\n",
            "Train Epoch: 2 [47360/60000 (79%)]\tLoss: 0.238774\n",
            "Train Epoch: 2 [48000/60000 (80%)]\tLoss: 0.106617\n",
            "Train Epoch: 2 [48640/60000 (81%)]\tLoss: 0.067943\n",
            "Train Epoch: 2 [49280/60000 (82%)]\tLoss: 0.147752\n",
            "Train Epoch: 2 [49920/60000 (83%)]\tLoss: 0.159431\n",
            "Train Epoch: 2 [50560/60000 (84%)]\tLoss: 0.203792\n",
            "Train Epoch: 2 [51200/60000 (85%)]\tLoss: 0.084177\n",
            "Train Epoch: 2 [51840/60000 (86%)]\tLoss: 0.169185\n",
            "Train Epoch: 2 [52480/60000 (87%)]\tLoss: 0.201647\n",
            "Train Epoch: 2 [53120/60000 (88%)]\tLoss: 0.181734\n",
            "Train Epoch: 2 [53760/60000 (90%)]\tLoss: 0.233531\n",
            "Train Epoch: 2 [54400/60000 (91%)]\tLoss: 0.217348\n",
            "Train Epoch: 2 [55040/60000 (92%)]\tLoss: 0.036438\n",
            "Train Epoch: 2 [55680/60000 (93%)]\tLoss: 0.190093\n",
            "Train Epoch: 2 [56320/60000 (94%)]\tLoss: 0.203474\n",
            "Train Epoch: 2 [56960/60000 (95%)]\tLoss: 0.276504\n",
            "Train Epoch: 2 [57600/60000 (96%)]\tLoss: 0.141703\n",
            "Train Epoch: 2 [58240/60000 (97%)]\tLoss: 0.057749\n",
            "Train Epoch: 2 [58880/60000 (98%)]\tLoss: 0.139903\n",
            "Train Epoch: 2 [59520/60000 (99%)]\tLoss: 0.146925\n",
            "\n",
            "Test set: Average loss: 0.1116, Accuracy: 9671/10000 (97%)\n",
            "\n",
            "Train Epoch: 3 [0/60000 (0%)]\tLoss: 0.039310\n",
            "Train Epoch: 3 [640/60000 (1%)]\tLoss: 0.103624\n",
            "Train Epoch: 3 [1280/60000 (2%)]\tLoss: 0.090355\n",
            "Train Epoch: 3 [1920/60000 (3%)]\tLoss: 0.179927\n",
            "Train Epoch: 3 [2560/60000 (4%)]\tLoss: 0.219854\n",
            "Train Epoch: 3 [3200/60000 (5%)]\tLoss: 0.098792\n",
            "Train Epoch: 3 [3840/60000 (6%)]\tLoss: 0.125840\n",
            "Train Epoch: 3 [4480/60000 (7%)]\tLoss: 0.170050\n",
            "Train Epoch: 3 [5120/60000 (9%)]\tLoss: 0.246482\n",
            "Train Epoch: 3 [5760/60000 (10%)]\tLoss: 0.131823\n",
            "Train Epoch: 3 [6400/60000 (11%)]\tLoss: 0.127084\n",
            "Train Epoch: 3 [7040/60000 (12%)]\tLoss: 0.262306\n",
            "Train Epoch: 3 [7680/60000 (13%)]\tLoss: 0.131875\n",
            "Train Epoch: 3 [8320/60000 (14%)]\tLoss: 0.067949\n",
            "Train Epoch: 3 [8960/60000 (15%)]\tLoss: 0.097314\n",
            "Train Epoch: 3 [9600/60000 (16%)]\tLoss: 0.136558\n",
            "Train Epoch: 3 [10240/60000 (17%)]\tLoss: 0.268265\n",
            "Train Epoch: 3 [10880/60000 (18%)]\tLoss: 0.489090\n",
            "Train Epoch: 3 [11520/60000 (19%)]\tLoss: 0.043080\n",
            "Train Epoch: 3 [12160/60000 (20%)]\tLoss: 0.192022\n",
            "Train Epoch: 3 [12800/60000 (21%)]\tLoss: 0.093532\n",
            "Train Epoch: 3 [13440/60000 (22%)]\tLoss: 0.043658\n",
            "Train Epoch: 3 [14080/60000 (23%)]\tLoss: 0.133363\n",
            "Train Epoch: 3 [14720/60000 (25%)]\tLoss: 0.066996\n",
            "Train Epoch: 3 [15360/60000 (26%)]\tLoss: 0.125656\n",
            "Train Epoch: 3 [16000/60000 (27%)]\tLoss: 0.077241\n",
            "Train Epoch: 3 [16640/60000 (28%)]\tLoss: 0.057432\n",
            "Train Epoch: 3 [17280/60000 (29%)]\tLoss: 0.027842\n",
            "Train Epoch: 3 [17920/60000 (30%)]\tLoss: 0.058304\n",
            "Train Epoch: 3 [18560/60000 (31%)]\tLoss: 0.062428\n",
            "Train Epoch: 3 [19200/60000 (32%)]\tLoss: 0.205348\n",
            "Train Epoch: 3 [19840/60000 (33%)]\tLoss: 0.180383\n",
            "Train Epoch: 3 [20480/60000 (34%)]\tLoss: 0.048009\n",
            "Train Epoch: 3 [21120/60000 (35%)]\tLoss: 0.084690\n",
            "Train Epoch: 3 [21760/60000 (36%)]\tLoss: 0.296338\n",
            "Train Epoch: 3 [22400/60000 (37%)]\tLoss: 0.105798\n",
            "Train Epoch: 3 [23040/60000 (38%)]\tLoss: 0.102324\n",
            "Train Epoch: 3 [23680/60000 (39%)]\tLoss: 0.053480\n",
            "Train Epoch: 3 [24320/60000 (41%)]\tLoss: 0.065343\n",
            "Train Epoch: 3 [24960/60000 (42%)]\tLoss: 0.086625\n",
            "Train Epoch: 3 [25600/60000 (43%)]\tLoss: 0.116268\n",
            "Train Epoch: 3 [26240/60000 (44%)]\tLoss: 0.140720\n",
            "Train Epoch: 3 [26880/60000 (45%)]\tLoss: 0.043511\n",
            "Train Epoch: 3 [27520/60000 (46%)]\tLoss: 0.129340\n",
            "Train Epoch: 3 [28160/60000 (47%)]\tLoss: 0.036194\n",
            "Train Epoch: 3 [28800/60000 (48%)]\tLoss: 0.073723\n",
            "Train Epoch: 3 [29440/60000 (49%)]\tLoss: 0.054123\n",
            "Train Epoch: 3 [30080/60000 (50%)]\tLoss: 0.048611\n",
            "Train Epoch: 3 [30720/60000 (51%)]\tLoss: 0.138512\n",
            "Train Epoch: 3 [31360/60000 (52%)]\tLoss: 0.162368\n",
            "Train Epoch: 3 [32000/60000 (53%)]\tLoss: 0.158221\n",
            "Train Epoch: 3 [32640/60000 (54%)]\tLoss: 0.070890\n",
            "Train Epoch: 3 [33280/60000 (55%)]\tLoss: 0.155813\n",
            "Train Epoch: 3 [33920/60000 (57%)]\tLoss: 0.073013\n",
            "Train Epoch: 3 [34560/60000 (58%)]\tLoss: 0.105161\n",
            "Train Epoch: 3 [35200/60000 (59%)]\tLoss: 0.124334\n",
            "Train Epoch: 3 [35840/60000 (60%)]\tLoss: 0.036558\n",
            "Train Epoch: 3 [36480/60000 (61%)]\tLoss: 0.016955\n",
            "Train Epoch: 3 [37120/60000 (62%)]\tLoss: 0.110379\n",
            "Train Epoch: 3 [37760/60000 (63%)]\tLoss: 0.086407\n",
            "Train Epoch: 3 [38400/60000 (64%)]\tLoss: 0.097019\n",
            "Train Epoch: 3 [39040/60000 (65%)]\tLoss: 0.145376\n",
            "Train Epoch: 3 [39680/60000 (66%)]\tLoss: 0.079659\n",
            "Train Epoch: 3 [40320/60000 (67%)]\tLoss: 0.052441\n",
            "Train Epoch: 3 [40960/60000 (68%)]\tLoss: 0.057285\n",
            "Train Epoch: 3 [41600/60000 (69%)]\tLoss: 0.150410\n",
            "Train Epoch: 3 [42240/60000 (70%)]\tLoss: 0.268035\n",
            "Train Epoch: 3 [42880/60000 (71%)]\tLoss: 0.427241\n",
            "Train Epoch: 3 [43520/60000 (72%)]\tLoss: 0.088742\n",
            "Train Epoch: 3 [44160/60000 (74%)]\tLoss: 0.111087\n",
            "Train Epoch: 3 [44800/60000 (75%)]\tLoss: 0.134090\n",
            "Train Epoch: 3 [45440/60000 (76%)]\tLoss: 0.214506\n",
            "Train Epoch: 3 [46080/60000 (77%)]\tLoss: 0.055220\n",
            "Train Epoch: 3 [46720/60000 (78%)]\tLoss: 0.054384\n",
            "Train Epoch: 3 [47360/60000 (79%)]\tLoss: 0.033038\n",
            "Train Epoch: 3 [48000/60000 (80%)]\tLoss: 0.136567\n",
            "Train Epoch: 3 [48640/60000 (81%)]\tLoss: 0.155861\n",
            "Train Epoch: 3 [49280/60000 (82%)]\tLoss: 0.026608\n",
            "Train Epoch: 3 [49920/60000 (83%)]\tLoss: 0.177851\n",
            "Train Epoch: 3 [50560/60000 (84%)]\tLoss: 0.023129\n",
            "Train Epoch: 3 [51200/60000 (85%)]\tLoss: 0.035580\n",
            "Train Epoch: 3 [51840/60000 (86%)]\tLoss: 0.049017\n",
            "Train Epoch: 3 [52480/60000 (87%)]\tLoss: 0.031814\n",
            "Train Epoch: 3 [53120/60000 (88%)]\tLoss: 0.098017\n",
            "Train Epoch: 3 [53760/60000 (90%)]\tLoss: 0.067271\n",
            "Train Epoch: 3 [54400/60000 (91%)]\tLoss: 0.152985\n",
            "Train Epoch: 3 [55040/60000 (92%)]\tLoss: 0.070901\n",
            "Train Epoch: 3 [55680/60000 (93%)]\tLoss: 0.028350\n",
            "Train Epoch: 3 [56320/60000 (94%)]\tLoss: 0.034269\n",
            "Train Epoch: 3 [56960/60000 (95%)]\tLoss: 0.159727\n",
            "Train Epoch: 3 [57600/60000 (96%)]\tLoss: 0.069743\n",
            "Train Epoch: 3 [58240/60000 (97%)]\tLoss: 0.110302\n",
            "Train Epoch: 3 [58880/60000 (98%)]\tLoss: 0.058532\n",
            "Train Epoch: 3 [59520/60000 (99%)]\tLoss: 0.147206\n",
            "\n",
            "Test set: Average loss: 0.0848, Accuracy: 9754/10000 (98%)\n",
            "\n",
            "Train Epoch: 4 [0/60000 (0%)]\tLoss: 0.142646\n",
            "Train Epoch: 4 [640/60000 (1%)]\tLoss: 0.201213\n",
            "Train Epoch: 4 [1280/60000 (2%)]\tLoss: 0.016907\n",
            "Train Epoch: 4 [1920/60000 (3%)]\tLoss: 0.072956\n",
            "Train Epoch: 4 [2560/60000 (4%)]\tLoss: 0.141175\n",
            "Train Epoch: 4 [3200/60000 (5%)]\tLoss: 0.221052\n",
            "Train Epoch: 4 [3840/60000 (6%)]\tLoss: 0.132211\n",
            "Train Epoch: 4 [4480/60000 (7%)]\tLoss: 0.080300\n",
            "Train Epoch: 4 [5120/60000 (9%)]\tLoss: 0.146607\n",
            "Train Epoch: 4 [5760/60000 (10%)]\tLoss: 0.093197\n",
            "Train Epoch: 4 [6400/60000 (11%)]\tLoss: 0.104361\n",
            "Train Epoch: 4 [7040/60000 (12%)]\tLoss: 0.089791\n",
            "Train Epoch: 4 [7680/60000 (13%)]\tLoss: 0.082635\n",
            "Train Epoch: 4 [8320/60000 (14%)]\tLoss: 0.047000\n",
            "Train Epoch: 4 [8960/60000 (15%)]\tLoss: 0.056845\n",
            "Train Epoch: 4 [9600/60000 (16%)]\tLoss: 0.132121\n",
            "Train Epoch: 4 [10240/60000 (17%)]\tLoss: 0.051114\n",
            "Train Epoch: 4 [10880/60000 (18%)]\tLoss: 0.057934\n",
            "Train Epoch: 4 [11520/60000 (19%)]\tLoss: 0.031861\n",
            "Train Epoch: 4 [12160/60000 (20%)]\tLoss: 0.053832\n",
            "Train Epoch: 4 [12800/60000 (21%)]\tLoss: 0.191675\n",
            "Train Epoch: 4 [13440/60000 (22%)]\tLoss: 0.088374\n",
            "Train Epoch: 4 [14080/60000 (23%)]\tLoss: 0.130346\n",
            "Train Epoch: 4 [14720/60000 (25%)]\tLoss: 0.187479\n",
            "Train Epoch: 4 [15360/60000 (26%)]\tLoss: 0.096025\n",
            "Train Epoch: 4 [16000/60000 (27%)]\tLoss: 0.218828\n",
            "Train Epoch: 4 [16640/60000 (28%)]\tLoss: 0.105161\n",
            "Train Epoch: 4 [17280/60000 (29%)]\tLoss: 0.079613\n",
            "Train Epoch: 4 [17920/60000 (30%)]\tLoss: 0.145613\n",
            "Train Epoch: 4 [18560/60000 (31%)]\tLoss: 0.042989\n",
            "Train Epoch: 4 [19200/60000 (32%)]\tLoss: 0.047028\n",
            "Train Epoch: 4 [19840/60000 (33%)]\tLoss: 0.026389\n",
            "Train Epoch: 4 [20480/60000 (34%)]\tLoss: 0.091083\n",
            "Train Epoch: 4 [21120/60000 (35%)]\tLoss: 0.054757\n",
            "Train Epoch: 4 [21760/60000 (36%)]\tLoss: 0.051647\n",
            "Train Epoch: 4 [22400/60000 (37%)]\tLoss: 0.043180\n",
            "Train Epoch: 4 [23040/60000 (38%)]\tLoss: 0.152489\n",
            "Train Epoch: 4 [23680/60000 (39%)]\tLoss: 0.164685\n",
            "Train Epoch: 4 [24320/60000 (41%)]\tLoss: 0.033991\n",
            "Train Epoch: 4 [24960/60000 (42%)]\tLoss: 0.102687\n",
            "Train Epoch: 4 [25600/60000 (43%)]\tLoss: 0.026479\n",
            "Train Epoch: 4 [26240/60000 (44%)]\tLoss: 0.040700\n",
            "Train Epoch: 4 [26880/60000 (45%)]\tLoss: 0.152201\n",
            "Train Epoch: 4 [27520/60000 (46%)]\tLoss: 0.092590\n",
            "Train Epoch: 4 [28160/60000 (47%)]\tLoss: 0.044259\n",
            "Train Epoch: 4 [28800/60000 (48%)]\tLoss: 0.046353\n",
            "Train Epoch: 4 [29440/60000 (49%)]\tLoss: 0.050699\n",
            "Train Epoch: 4 [30080/60000 (50%)]\tLoss: 0.030401\n",
            "Train Epoch: 4 [30720/60000 (51%)]\tLoss: 0.183883\n",
            "Train Epoch: 4 [31360/60000 (52%)]\tLoss: 0.070488\n",
            "Train Epoch: 4 [32000/60000 (53%)]\tLoss: 0.172577\n",
            "Train Epoch: 4 [32640/60000 (54%)]\tLoss: 0.037447\n",
            "Train Epoch: 4 [33280/60000 (55%)]\tLoss: 0.024894\n",
            "Train Epoch: 4 [33920/60000 (57%)]\tLoss: 0.125534\n",
            "Train Epoch: 4 [34560/60000 (58%)]\tLoss: 0.150246\n",
            "Train Epoch: 4 [35200/60000 (59%)]\tLoss: 0.043090\n",
            "Train Epoch: 4 [35840/60000 (60%)]\tLoss: 0.029994\n",
            "Train Epoch: 4 [36480/60000 (61%)]\tLoss: 0.118107\n",
            "Train Epoch: 4 [37120/60000 (62%)]\tLoss: 0.063832\n",
            "Train Epoch: 4 [37760/60000 (63%)]\tLoss: 0.102619\n",
            "Train Epoch: 4 [38400/60000 (64%)]\tLoss: 0.044051\n",
            "Train Epoch: 4 [39040/60000 (65%)]\tLoss: 0.065273\n",
            "Train Epoch: 4 [39680/60000 (66%)]\tLoss: 0.069008\n",
            "Train Epoch: 4 [40320/60000 (67%)]\tLoss: 0.049226\n",
            "Train Epoch: 4 [40960/60000 (68%)]\tLoss: 0.046804\n",
            "Train Epoch: 4 [41600/60000 (69%)]\tLoss: 0.043321\n",
            "Train Epoch: 4 [42240/60000 (70%)]\tLoss: 0.033378\n",
            "Train Epoch: 4 [42880/60000 (71%)]\tLoss: 0.173016\n",
            "Train Epoch: 4 [43520/60000 (72%)]\tLoss: 0.077899\n",
            "Train Epoch: 4 [44160/60000 (74%)]\tLoss: 0.087746\n",
            "Train Epoch: 4 [44800/60000 (75%)]\tLoss: 0.066461\n",
            "Train Epoch: 4 [45440/60000 (76%)]\tLoss: 0.247267\n",
            "Train Epoch: 4 [46080/60000 (77%)]\tLoss: 0.113916\n",
            "Train Epoch: 4 [46720/60000 (78%)]\tLoss: 0.125063\n",
            "Train Epoch: 4 [47360/60000 (79%)]\tLoss: 0.077464\n",
            "Train Epoch: 4 [48000/60000 (80%)]\tLoss: 0.078732\n",
            "Train Epoch: 4 [48640/60000 (81%)]\tLoss: 0.128330\n",
            "Train Epoch: 4 [49280/60000 (82%)]\tLoss: 0.056188\n",
            "Train Epoch: 4 [49920/60000 (83%)]\tLoss: 0.105013\n",
            "Train Epoch: 4 [50560/60000 (84%)]\tLoss: 0.033035\n",
            "Train Epoch: 4 [51200/60000 (85%)]\tLoss: 0.053619\n",
            "Train Epoch: 4 [51840/60000 (86%)]\tLoss: 0.018255\n",
            "Train Epoch: 4 [52480/60000 (87%)]\tLoss: 0.049332\n",
            "Train Epoch: 4 [53120/60000 (88%)]\tLoss: 0.141259\n",
            "Train Epoch: 4 [53760/60000 (90%)]\tLoss: 0.161579\n",
            "Train Epoch: 4 [54400/60000 (91%)]\tLoss: 0.093121\n",
            "Train Epoch: 4 [55040/60000 (92%)]\tLoss: 0.273478\n",
            "Train Epoch: 4 [55680/60000 (93%)]\tLoss: 0.182131\n",
            "Train Epoch: 4 [56320/60000 (94%)]\tLoss: 0.166645\n",
            "Train Epoch: 4 [56960/60000 (95%)]\tLoss: 0.286874\n",
            "Train Epoch: 4 [57600/60000 (96%)]\tLoss: 0.084754\n",
            "Train Epoch: 4 [58240/60000 (97%)]\tLoss: 0.060793\n",
            "Train Epoch: 4 [58880/60000 (98%)]\tLoss: 0.086960\n",
            "Train Epoch: 4 [59520/60000 (99%)]\tLoss: 0.069456\n",
            "\n",
            "Test set: Average loss: 0.0755, Accuracy: 9780/10000 (98%)\n",
            "\n",
            "Train Epoch: 5 [0/60000 (0%)]\tLoss: 0.081037\n",
            "Train Epoch: 5 [640/60000 (1%)]\tLoss: 0.082045\n",
            "Train Epoch: 5 [1280/60000 (2%)]\tLoss: 0.031687\n",
            "Train Epoch: 5 [1920/60000 (3%)]\tLoss: 0.239266\n",
            "Train Epoch: 5 [2560/60000 (4%)]\tLoss: 0.181531\n",
            "Train Epoch: 5 [3200/60000 (5%)]\tLoss: 0.037928\n",
            "Train Epoch: 5 [3840/60000 (6%)]\tLoss: 0.031559\n",
            "Train Epoch: 5 [4480/60000 (7%)]\tLoss: 0.093924\n",
            "Train Epoch: 5 [5120/60000 (9%)]\tLoss: 0.148649\n",
            "Train Epoch: 5 [5760/60000 (10%)]\tLoss: 0.052046\n",
            "Train Epoch: 5 [6400/60000 (11%)]\tLoss: 0.059413\n",
            "Train Epoch: 5 [7040/60000 (12%)]\tLoss: 0.011292\n",
            "Train Epoch: 5 [7680/60000 (13%)]\tLoss: 0.108436\n",
            "Train Epoch: 5 [8320/60000 (14%)]\tLoss: 0.027843\n",
            "Train Epoch: 5 [8960/60000 (15%)]\tLoss: 0.094750\n",
            "Train Epoch: 5 [9600/60000 (16%)]\tLoss: 0.066712\n",
            "Train Epoch: 5 [10240/60000 (17%)]\tLoss: 0.128886\n",
            "Train Epoch: 5 [10880/60000 (18%)]\tLoss: 0.180477\n",
            "Train Epoch: 5 [11520/60000 (19%)]\tLoss: 0.093363\n",
            "Train Epoch: 5 [12160/60000 (20%)]\tLoss: 0.011321\n",
            "Train Epoch: 5 [12800/60000 (21%)]\tLoss: 0.335414\n",
            "Train Epoch: 5 [13440/60000 (22%)]\tLoss: 0.046633\n",
            "Train Epoch: 5 [14080/60000 (23%)]\tLoss: 0.111984\n",
            "Train Epoch: 5 [14720/60000 (25%)]\tLoss: 0.102236\n",
            "Train Epoch: 5 [15360/60000 (26%)]\tLoss: 0.118807\n",
            "Train Epoch: 5 [16000/60000 (27%)]\tLoss: 0.035529\n",
            "Train Epoch: 5 [16640/60000 (28%)]\tLoss: 0.080909\n",
            "Train Epoch: 5 [17280/60000 (29%)]\tLoss: 0.039432\n",
            "Train Epoch: 5 [17920/60000 (30%)]\tLoss: 0.085901\n",
            "Train Epoch: 5 [18560/60000 (31%)]\tLoss: 0.038615\n",
            "Train Epoch: 5 [19200/60000 (32%)]\tLoss: 0.082487\n",
            "Train Epoch: 5 [19840/60000 (33%)]\tLoss: 0.047792\n",
            "Train Epoch: 5 [20480/60000 (34%)]\tLoss: 0.116071\n",
            "Train Epoch: 5 [21120/60000 (35%)]\tLoss: 0.059639\n",
            "Train Epoch: 5 [21760/60000 (36%)]\tLoss: 0.078122\n",
            "Train Epoch: 5 [22400/60000 (37%)]\tLoss: 0.077920\n",
            "Train Epoch: 5 [23040/60000 (38%)]\tLoss: 0.441617\n",
            "Train Epoch: 5 [23680/60000 (39%)]\tLoss: 0.161619\n",
            "Train Epoch: 5 [24320/60000 (41%)]\tLoss: 0.060178\n",
            "Train Epoch: 5 [24960/60000 (42%)]\tLoss: 0.148431\n",
            "Train Epoch: 5 [25600/60000 (43%)]\tLoss: 0.031012\n",
            "Train Epoch: 5 [26240/60000 (44%)]\tLoss: 0.066659\n",
            "Train Epoch: 5 [26880/60000 (45%)]\tLoss: 0.074897\n",
            "Train Epoch: 5 [27520/60000 (46%)]\tLoss: 0.048532\n",
            "Train Epoch: 5 [28160/60000 (47%)]\tLoss: 0.187218\n",
            "Train Epoch: 5 [28800/60000 (48%)]\tLoss: 0.084785\n",
            "Train Epoch: 5 [29440/60000 (49%)]\tLoss: 0.063589\n",
            "Train Epoch: 5 [30080/60000 (50%)]\tLoss: 0.060395\n",
            "Train Epoch: 5 [30720/60000 (51%)]\tLoss: 0.041346\n",
            "Train Epoch: 5 [31360/60000 (52%)]\tLoss: 0.113509\n",
            "Train Epoch: 5 [32000/60000 (53%)]\tLoss: 0.118934\n",
            "Train Epoch: 5 [32640/60000 (54%)]\tLoss: 0.130448\n",
            "Train Epoch: 5 [33280/60000 (55%)]\tLoss: 0.024354\n",
            "Train Epoch: 5 [33920/60000 (57%)]\tLoss: 0.146898\n",
            "Train Epoch: 5 [34560/60000 (58%)]\tLoss: 0.117556\n",
            "Train Epoch: 5 [35200/60000 (59%)]\tLoss: 0.045888\n",
            "Train Epoch: 5 [35840/60000 (60%)]\tLoss: 0.110342\n",
            "Train Epoch: 5 [36480/60000 (61%)]\tLoss: 0.047987\n",
            "Train Epoch: 5 [37120/60000 (62%)]\tLoss: 0.068230\n",
            "Train Epoch: 5 [37760/60000 (63%)]\tLoss: 0.073375\n",
            "Train Epoch: 5 [38400/60000 (64%)]\tLoss: 0.046214\n",
            "Train Epoch: 5 [39040/60000 (65%)]\tLoss: 0.025197\n",
            "Train Epoch: 5 [39680/60000 (66%)]\tLoss: 0.082201\n",
            "Train Epoch: 5 [40320/60000 (67%)]\tLoss: 0.057796\n",
            "Train Epoch: 5 [40960/60000 (68%)]\tLoss: 0.042492\n",
            "Train Epoch: 5 [41600/60000 (69%)]\tLoss: 0.025330\n",
            "Train Epoch: 5 [42240/60000 (70%)]\tLoss: 0.019861\n",
            "Train Epoch: 5 [42880/60000 (71%)]\tLoss: 0.049746\n",
            "Train Epoch: 5 [43520/60000 (72%)]\tLoss: 0.086699\n",
            "Train Epoch: 5 [44160/60000 (74%)]\tLoss: 0.047012\n",
            "Train Epoch: 5 [44800/60000 (75%)]\tLoss: 0.152219\n",
            "Train Epoch: 5 [45440/60000 (76%)]\tLoss: 0.120689\n",
            "Train Epoch: 5 [46080/60000 (77%)]\tLoss: 0.005798\n",
            "Train Epoch: 5 [46720/60000 (78%)]\tLoss: 0.020546\n",
            "Train Epoch: 5 [47360/60000 (79%)]\tLoss: 0.085077\n",
            "Train Epoch: 5 [48000/60000 (80%)]\tLoss: 0.079270\n",
            "Train Epoch: 5 [48640/60000 (81%)]\tLoss: 0.075338\n",
            "Train Epoch: 5 [49280/60000 (82%)]\tLoss: 0.135096\n",
            "Train Epoch: 5 [49920/60000 (83%)]\tLoss: 0.124467\n",
            "Train Epoch: 5 [50560/60000 (84%)]\tLoss: 0.189510\n",
            "Train Epoch: 5 [51200/60000 (85%)]\tLoss: 0.156597\n",
            "Train Epoch: 5 [51840/60000 (86%)]\tLoss: 0.063064\n",
            "Train Epoch: 5 [52480/60000 (87%)]\tLoss: 0.073763\n",
            "Train Epoch: 5 [53120/60000 (88%)]\tLoss: 0.108845\n",
            "Train Epoch: 5 [53760/60000 (90%)]\tLoss: 0.114001\n",
            "Train Epoch: 5 [54400/60000 (91%)]\tLoss: 0.084071\n",
            "Train Epoch: 5 [55040/60000 (92%)]\tLoss: 0.032649\n",
            "Train Epoch: 5 [55680/60000 (93%)]\tLoss: 0.097903\n",
            "Train Epoch: 5 [56320/60000 (94%)]\tLoss: 0.044334\n",
            "Train Epoch: 5 [56960/60000 (95%)]\tLoss: 0.120871\n",
            "Train Epoch: 5 [57600/60000 (96%)]\tLoss: 0.199073\n",
            "Train Epoch: 5 [58240/60000 (97%)]\tLoss: 0.074858\n",
            "Train Epoch: 5 [58880/60000 (98%)]\tLoss: 0.100958\n",
            "Train Epoch: 5 [59520/60000 (99%)]\tLoss: 0.105058\n",
            "\n",
            "Test set: Average loss: 0.0691, Accuracy: 9777/10000 (98%)\n",
            "\n",
            "Train Epoch: 6 [0/60000 (0%)]\tLoss: 0.168801\n",
            "Train Epoch: 6 [640/60000 (1%)]\tLoss: 0.054320\n",
            "Train Epoch: 6 [1280/60000 (2%)]\tLoss: 0.053536\n",
            "Train Epoch: 6 [1920/60000 (3%)]\tLoss: 0.145845\n",
            "Train Epoch: 6 [2560/60000 (4%)]\tLoss: 0.096903\n",
            "Train Epoch: 6 [3200/60000 (5%)]\tLoss: 0.135350\n",
            "Train Epoch: 6 [3840/60000 (6%)]\tLoss: 0.051277\n",
            "Train Epoch: 6 [4480/60000 (7%)]\tLoss: 0.047748\n",
            "Train Epoch: 6 [5120/60000 (9%)]\tLoss: 0.061400\n",
            "Train Epoch: 6 [5760/60000 (10%)]\tLoss: 0.006116\n",
            "Train Epoch: 6 [6400/60000 (11%)]\tLoss: 0.103156\n",
            "Train Epoch: 6 [7040/60000 (12%)]\tLoss: 0.154671\n",
            "Train Epoch: 6 [7680/60000 (13%)]\tLoss: 0.088643\n",
            "Train Epoch: 6 [8320/60000 (14%)]\tLoss: 0.042412\n",
            "Train Epoch: 6 [8960/60000 (15%)]\tLoss: 0.147319\n",
            "Train Epoch: 6 [9600/60000 (16%)]\tLoss: 0.160787\n",
            "Train Epoch: 6 [10240/60000 (17%)]\tLoss: 0.062173\n",
            "Train Epoch: 6 [10880/60000 (18%)]\tLoss: 0.014140\n",
            "Train Epoch: 6 [11520/60000 (19%)]\tLoss: 0.146063\n",
            "Train Epoch: 6 [12160/60000 (20%)]\tLoss: 0.087043\n",
            "Train Epoch: 6 [12800/60000 (21%)]\tLoss: 0.109541\n",
            "Train Epoch: 6 [13440/60000 (22%)]\tLoss: 0.018865\n",
            "Train Epoch: 6 [14080/60000 (23%)]\tLoss: 0.046344\n",
            "Train Epoch: 6 [14720/60000 (25%)]\tLoss: 0.034836\n",
            "Train Epoch: 6 [15360/60000 (26%)]\tLoss: 0.055798\n",
            "Train Epoch: 6 [16000/60000 (27%)]\tLoss: 0.092625\n",
            "Train Epoch: 6 [16640/60000 (28%)]\tLoss: 0.042980\n",
            "Train Epoch: 6 [17280/60000 (29%)]\tLoss: 0.098797\n",
            "Train Epoch: 6 [17920/60000 (30%)]\tLoss: 0.035673\n",
            "Train Epoch: 6 [18560/60000 (31%)]\tLoss: 0.169142\n",
            "Train Epoch: 6 [19200/60000 (32%)]\tLoss: 0.098882\n",
            "Train Epoch: 6 [19840/60000 (33%)]\tLoss: 0.013619\n",
            "Train Epoch: 6 [20480/60000 (34%)]\tLoss: 0.155551\n",
            "Train Epoch: 6 [21120/60000 (35%)]\tLoss: 0.057812\n",
            "Train Epoch: 6 [21760/60000 (36%)]\tLoss: 0.029136\n",
            "Train Epoch: 6 [22400/60000 (37%)]\tLoss: 0.092723\n",
            "Train Epoch: 6 [23040/60000 (38%)]\tLoss: 0.163450\n",
            "Train Epoch: 6 [23680/60000 (39%)]\tLoss: 0.064604\n",
            "Train Epoch: 6 [24320/60000 (41%)]\tLoss: 0.046428\n",
            "Train Epoch: 6 [24960/60000 (42%)]\tLoss: 0.113138\n",
            "Train Epoch: 6 [25600/60000 (43%)]\tLoss: 0.106682\n",
            "Train Epoch: 6 [26240/60000 (44%)]\tLoss: 0.062561\n",
            "Train Epoch: 6 [26880/60000 (45%)]\tLoss: 0.148798\n",
            "Train Epoch: 6 [27520/60000 (46%)]\tLoss: 0.042104\n",
            "Train Epoch: 6 [28160/60000 (47%)]\tLoss: 0.102533\n",
            "Train Epoch: 6 [28800/60000 (48%)]\tLoss: 0.071901\n",
            "Train Epoch: 6 [29440/60000 (49%)]\tLoss: 0.099474\n",
            "Train Epoch: 6 [30080/60000 (50%)]\tLoss: 0.016073\n",
            "Train Epoch: 6 [30720/60000 (51%)]\tLoss: 0.092520\n",
            "Train Epoch: 6 [31360/60000 (52%)]\tLoss: 0.020875\n",
            "Train Epoch: 6 [32000/60000 (53%)]\tLoss: 0.157534\n",
            "Train Epoch: 6 [32640/60000 (54%)]\tLoss: 0.030994\n",
            "Train Epoch: 6 [33280/60000 (55%)]\tLoss: 0.037491\n",
            "Train Epoch: 6 [33920/60000 (57%)]\tLoss: 0.014673\n",
            "Train Epoch: 6 [34560/60000 (58%)]\tLoss: 0.037556\n",
            "Train Epoch: 6 [35200/60000 (59%)]\tLoss: 0.050224\n",
            "Train Epoch: 6 [35840/60000 (60%)]\tLoss: 0.059274\n",
            "Train Epoch: 6 [36480/60000 (61%)]\tLoss: 0.034440\n",
            "Train Epoch: 6 [37120/60000 (62%)]\tLoss: 0.126226\n",
            "Train Epoch: 6 [37760/60000 (63%)]\tLoss: 0.094368\n",
            "Train Epoch: 6 [38400/60000 (64%)]\tLoss: 0.065353\n",
            "Train Epoch: 6 [39040/60000 (65%)]\tLoss: 0.183012\n",
            "Train Epoch: 6 [39680/60000 (66%)]\tLoss: 0.089571\n",
            "Train Epoch: 6 [40320/60000 (67%)]\tLoss: 0.129212\n",
            "Train Epoch: 6 [40960/60000 (68%)]\tLoss: 0.049755\n",
            "Train Epoch: 6 [41600/60000 (69%)]\tLoss: 0.040893\n",
            "Train Epoch: 6 [42240/60000 (70%)]\tLoss: 0.089137\n",
            "Train Epoch: 6 [42880/60000 (71%)]\tLoss: 0.029291\n",
            "Train Epoch: 6 [43520/60000 (72%)]\tLoss: 0.016038\n",
            "Train Epoch: 6 [44160/60000 (74%)]\tLoss: 0.020608\n",
            "Train Epoch: 6 [44800/60000 (75%)]\tLoss: 0.138247\n",
            "Train Epoch: 6 [45440/60000 (76%)]\tLoss: 0.136202\n",
            "Train Epoch: 6 [46080/60000 (77%)]\tLoss: 0.061958\n",
            "Train Epoch: 6 [46720/60000 (78%)]\tLoss: 0.140011\n",
            "Train Epoch: 6 [47360/60000 (79%)]\tLoss: 0.014820\n",
            "Train Epoch: 6 [48000/60000 (80%)]\tLoss: 0.018034\n",
            "Train Epoch: 6 [48640/60000 (81%)]\tLoss: 0.072052\n",
            "Train Epoch: 6 [49280/60000 (82%)]\tLoss: 0.090936\n",
            "Train Epoch: 6 [49920/60000 (83%)]\tLoss: 0.094542\n",
            "Train Epoch: 6 [50560/60000 (84%)]\tLoss: 0.049851\n",
            "Train Epoch: 6 [51200/60000 (85%)]\tLoss: 0.197439\n",
            "Train Epoch: 6 [51840/60000 (86%)]\tLoss: 0.081247\n",
            "Train Epoch: 6 [52480/60000 (87%)]\tLoss: 0.010280\n",
            "Train Epoch: 6 [53120/60000 (88%)]\tLoss: 0.066384\n",
            "Train Epoch: 6 [53760/60000 (90%)]\tLoss: 0.288417\n",
            "Train Epoch: 6 [54400/60000 (91%)]\tLoss: 0.025316\n",
            "Train Epoch: 6 [55040/60000 (92%)]\tLoss: 0.118215\n",
            "Train Epoch: 6 [55680/60000 (93%)]\tLoss: 0.087788\n",
            "Train Epoch: 6 [56320/60000 (94%)]\tLoss: 0.011426\n",
            "Train Epoch: 6 [56960/60000 (95%)]\tLoss: 0.034113\n",
            "Train Epoch: 6 [57600/60000 (96%)]\tLoss: 0.029692\n",
            "Train Epoch: 6 [58240/60000 (97%)]\tLoss: 0.081372\n",
            "Train Epoch: 6 [58880/60000 (98%)]\tLoss: 0.046722\n",
            "Train Epoch: 6 [59520/60000 (99%)]\tLoss: 0.012996\n",
            "\n",
            "Test set: Average loss: 0.0642, Accuracy: 9783/10000 (98%)\n",
            "\n",
            "Train Epoch: 7 [0/60000 (0%)]\tLoss: 0.017257\n",
            "Train Epoch: 7 [640/60000 (1%)]\tLoss: 0.058458\n",
            "Train Epoch: 7 [1280/60000 (2%)]\tLoss: 0.051226\n",
            "Train Epoch: 7 [1920/60000 (3%)]\tLoss: 0.060046\n",
            "Train Epoch: 7 [2560/60000 (4%)]\tLoss: 0.155688\n",
            "Train Epoch: 7 [3200/60000 (5%)]\tLoss: 0.043016\n",
            "Train Epoch: 7 [3840/60000 (6%)]\tLoss: 0.020604\n",
            "Train Epoch: 7 [4480/60000 (7%)]\tLoss: 0.112097\n",
            "Train Epoch: 7 [5120/60000 (9%)]\tLoss: 0.117055\n",
            "Train Epoch: 7 [5760/60000 (10%)]\tLoss: 0.026025\n",
            "Train Epoch: 7 [6400/60000 (11%)]\tLoss: 0.052212\n",
            "Train Epoch: 7 [7040/60000 (12%)]\tLoss: 0.088459\n",
            "Train Epoch: 7 [7680/60000 (13%)]\tLoss: 0.061082\n",
            "Train Epoch: 7 [8320/60000 (14%)]\tLoss: 0.034561\n",
            "Train Epoch: 7 [8960/60000 (15%)]\tLoss: 0.030867\n",
            "Train Epoch: 7 [9600/60000 (16%)]\tLoss: 0.045638\n",
            "Train Epoch: 7 [10240/60000 (17%)]\tLoss: 0.065548\n",
            "Train Epoch: 7 [10880/60000 (18%)]\tLoss: 0.076854\n",
            "Train Epoch: 7 [11520/60000 (19%)]\tLoss: 0.037185\n",
            "Train Epoch: 7 [12160/60000 (20%)]\tLoss: 0.167584\n",
            "Train Epoch: 7 [12800/60000 (21%)]\tLoss: 0.018856\n",
            "Train Epoch: 7 [13440/60000 (22%)]\tLoss: 0.004511\n",
            "Train Epoch: 7 [14080/60000 (23%)]\tLoss: 0.055728\n",
            "Train Epoch: 7 [14720/60000 (25%)]\tLoss: 0.023662\n",
            "Train Epoch: 7 [15360/60000 (26%)]\tLoss: 0.022216\n",
            "Train Epoch: 7 [16000/60000 (27%)]\tLoss: 0.035837\n",
            "Train Epoch: 7 [16640/60000 (28%)]\tLoss: 0.073187\n",
            "Train Epoch: 7 [17280/60000 (29%)]\tLoss: 0.023182\n",
            "Train Epoch: 7 [17920/60000 (30%)]\tLoss: 0.007288\n",
            "Train Epoch: 7 [18560/60000 (31%)]\tLoss: 0.125729\n",
            "Train Epoch: 7 [19200/60000 (32%)]\tLoss: 0.049796\n",
            "Train Epoch: 7 [19840/60000 (33%)]\tLoss: 0.028162\n",
            "Train Epoch: 7 [20480/60000 (34%)]\tLoss: 0.150546\n",
            "Train Epoch: 7 [21120/60000 (35%)]\tLoss: 0.091795\n",
            "Train Epoch: 7 [21760/60000 (36%)]\tLoss: 0.094069\n",
            "Train Epoch: 7 [22400/60000 (37%)]\tLoss: 0.056390\n",
            "Train Epoch: 7 [23040/60000 (38%)]\tLoss: 0.015365\n",
            "Train Epoch: 7 [23680/60000 (39%)]\tLoss: 0.151730\n",
            "Train Epoch: 7 [24320/60000 (41%)]\tLoss: 0.019602\n",
            "Train Epoch: 7 [24960/60000 (42%)]\tLoss: 0.171209\n",
            "Train Epoch: 7 [25600/60000 (43%)]\tLoss: 0.071851\n",
            "Train Epoch: 7 [26240/60000 (44%)]\tLoss: 0.023057\n",
            "Train Epoch: 7 [26880/60000 (45%)]\tLoss: 0.145380\n",
            "Train Epoch: 7 [27520/60000 (46%)]\tLoss: 0.196930\n",
            "Train Epoch: 7 [28160/60000 (47%)]\tLoss: 0.137959\n",
            "Train Epoch: 7 [28800/60000 (48%)]\tLoss: 0.196897\n",
            "Train Epoch: 7 [29440/60000 (49%)]\tLoss: 0.025607\n",
            "Train Epoch: 7 [30080/60000 (50%)]\tLoss: 0.046697\n",
            "Train Epoch: 7 [30720/60000 (51%)]\tLoss: 0.012775\n",
            "Train Epoch: 7 [31360/60000 (52%)]\tLoss: 0.048419\n",
            "Train Epoch: 7 [32000/60000 (53%)]\tLoss: 0.132152\n",
            "Train Epoch: 7 [32640/60000 (54%)]\tLoss: 0.034082\n",
            "Train Epoch: 7 [33280/60000 (55%)]\tLoss: 0.015713\n",
            "Train Epoch: 7 [33920/60000 (57%)]\tLoss: 0.064655\n",
            "Train Epoch: 7 [34560/60000 (58%)]\tLoss: 0.106407\n",
            "Train Epoch: 7 [35200/60000 (59%)]\tLoss: 0.055293\n",
            "Train Epoch: 7 [35840/60000 (60%)]\tLoss: 0.044214\n",
            "Train Epoch: 7 [36480/60000 (61%)]\tLoss: 0.052786\n",
            "Train Epoch: 7 [37120/60000 (62%)]\tLoss: 0.010589\n",
            "Train Epoch: 7 [37760/60000 (63%)]\tLoss: 0.048362\n",
            "Train Epoch: 7 [38400/60000 (64%)]\tLoss: 0.011009\n",
            "Train Epoch: 7 [39040/60000 (65%)]\tLoss: 0.045032\n",
            "Train Epoch: 7 [39680/60000 (66%)]\tLoss: 0.030728\n",
            "Train Epoch: 7 [40320/60000 (67%)]\tLoss: 0.060968\n",
            "Train Epoch: 7 [40960/60000 (68%)]\tLoss: 0.053283\n",
            "Train Epoch: 7 [41600/60000 (69%)]\tLoss: 0.059150\n",
            "Train Epoch: 7 [42240/60000 (70%)]\tLoss: 0.025631\n",
            "Train Epoch: 7 [42880/60000 (71%)]\tLoss: 0.085034\n",
            "Train Epoch: 7 [43520/60000 (72%)]\tLoss: 0.033618\n",
            "Train Epoch: 7 [44160/60000 (74%)]\tLoss: 0.010932\n",
            "Train Epoch: 7 [44800/60000 (75%)]\tLoss: 0.060178\n",
            "Train Epoch: 7 [45440/60000 (76%)]\tLoss: 0.043028\n",
            "Train Epoch: 7 [46080/60000 (77%)]\tLoss: 0.082039\n",
            "Train Epoch: 7 [46720/60000 (78%)]\tLoss: 0.022090\n",
            "Train Epoch: 7 [47360/60000 (79%)]\tLoss: 0.161136\n",
            "Train Epoch: 7 [48000/60000 (80%)]\tLoss: 0.113194\n",
            "Train Epoch: 7 [48640/60000 (81%)]\tLoss: 0.036233\n",
            "Train Epoch: 7 [49280/60000 (82%)]\tLoss: 0.053389\n",
            "Train Epoch: 7 [49920/60000 (83%)]\tLoss: 0.085756\n",
            "Train Epoch: 7 [50560/60000 (84%)]\tLoss: 0.045431\n",
            "Train Epoch: 7 [51200/60000 (85%)]\tLoss: 0.047229\n",
            "Train Epoch: 7 [51840/60000 (86%)]\tLoss: 0.008355\n",
            "Train Epoch: 7 [52480/60000 (87%)]\tLoss: 0.075894\n",
            "Train Epoch: 7 [53120/60000 (88%)]\tLoss: 0.069215\n",
            "Train Epoch: 7 [53760/60000 (90%)]\tLoss: 0.026201\n",
            "Train Epoch: 7 [54400/60000 (91%)]\tLoss: 0.032914\n",
            "Train Epoch: 7 [55040/60000 (92%)]\tLoss: 0.059896\n",
            "Train Epoch: 7 [55680/60000 (93%)]\tLoss: 0.046265\n",
            "Train Epoch: 7 [56320/60000 (94%)]\tLoss: 0.050978\n",
            "Train Epoch: 7 [56960/60000 (95%)]\tLoss: 0.019032\n",
            "Train Epoch: 7 [57600/60000 (96%)]\tLoss: 0.046128\n",
            "Train Epoch: 7 [58240/60000 (97%)]\tLoss: 0.042495\n",
            "Train Epoch: 7 [58880/60000 (98%)]\tLoss: 0.066518\n",
            "Train Epoch: 7 [59520/60000 (99%)]\tLoss: 0.022461\n",
            "\n",
            "Test set: Average loss: 0.0597, Accuracy: 9812/10000 (98%)\n",
            "\n",
            "Train Epoch: 8 [0/60000 (0%)]\tLoss: 0.113822\n",
            "Train Epoch: 8 [640/60000 (1%)]\tLoss: 0.011804\n",
            "Train Epoch: 8 [1280/60000 (2%)]\tLoss: 0.019959\n",
            "Train Epoch: 8 [1920/60000 (3%)]\tLoss: 0.005707\n",
            "Train Epoch: 8 [2560/60000 (4%)]\tLoss: 0.148307\n",
            "Train Epoch: 8 [3200/60000 (5%)]\tLoss: 0.034005\n",
            "Train Epoch: 8 [3840/60000 (6%)]\tLoss: 0.008239\n",
            "Train Epoch: 8 [4480/60000 (7%)]\tLoss: 0.014605\n",
            "Train Epoch: 8 [5120/60000 (9%)]\tLoss: 0.047225\n",
            "Train Epoch: 8 [5760/60000 (10%)]\tLoss: 0.029275\n",
            "Train Epoch: 8 [6400/60000 (11%)]\tLoss: 0.071651\n",
            "Train Epoch: 8 [7040/60000 (12%)]\tLoss: 0.106398\n",
            "Train Epoch: 8 [7680/60000 (13%)]\tLoss: 0.069656\n",
            "Train Epoch: 8 [8320/60000 (14%)]\tLoss: 0.042368\n",
            "Train Epoch: 8 [8960/60000 (15%)]\tLoss: 0.060973\n",
            "Train Epoch: 8 [9600/60000 (16%)]\tLoss: 0.158463\n",
            "Train Epoch: 8 [10240/60000 (17%)]\tLoss: 0.011681\n",
            "Train Epoch: 8 [10880/60000 (18%)]\tLoss: 0.052129\n",
            "Train Epoch: 8 [11520/60000 (19%)]\tLoss: 0.032534\n",
            "Train Epoch: 8 [12160/60000 (20%)]\tLoss: 0.032158\n",
            "Train Epoch: 8 [12800/60000 (21%)]\tLoss: 0.105205\n",
            "Train Epoch: 8 [13440/60000 (22%)]\tLoss: 0.112037\n",
            "Train Epoch: 8 [14080/60000 (23%)]\tLoss: 0.007045\n",
            "Train Epoch: 8 [14720/60000 (25%)]\tLoss: 0.056898\n",
            "Train Epoch: 8 [15360/60000 (26%)]\tLoss: 0.079305\n",
            "Train Epoch: 8 [16000/60000 (27%)]\tLoss: 0.058174\n",
            "Train Epoch: 8 [16640/60000 (28%)]\tLoss: 0.009028\n",
            "Train Epoch: 8 [17280/60000 (29%)]\tLoss: 0.028301\n",
            "Train Epoch: 8 [17920/60000 (30%)]\tLoss: 0.020577\n",
            "Train Epoch: 8 [18560/60000 (31%)]\tLoss: 0.095504\n",
            "Train Epoch: 8 [19200/60000 (32%)]\tLoss: 0.143841\n",
            "Train Epoch: 8 [19840/60000 (33%)]\tLoss: 0.033981\n",
            "Train Epoch: 8 [20480/60000 (34%)]\tLoss: 0.050453\n",
            "Train Epoch: 8 [21120/60000 (35%)]\tLoss: 0.131141\n",
            "Train Epoch: 8 [21760/60000 (36%)]\tLoss: 0.116728\n",
            "Train Epoch: 8 [22400/60000 (37%)]\tLoss: 0.016116\n",
            "Train Epoch: 8 [23040/60000 (38%)]\tLoss: 0.095284\n",
            "Train Epoch: 8 [23680/60000 (39%)]\tLoss: 0.033258\n",
            "Train Epoch: 8 [24320/60000 (41%)]\tLoss: 0.037128\n",
            "Train Epoch: 8 [24960/60000 (42%)]\tLoss: 0.074736\n",
            "Train Epoch: 8 [25600/60000 (43%)]\tLoss: 0.021474\n",
            "Train Epoch: 8 [26240/60000 (44%)]\tLoss: 0.029649\n",
            "Train Epoch: 8 [26880/60000 (45%)]\tLoss: 0.077746\n",
            "Train Epoch: 8 [27520/60000 (46%)]\tLoss: 0.028315\n",
            "Train Epoch: 8 [28160/60000 (47%)]\tLoss: 0.064978\n",
            "Train Epoch: 8 [28800/60000 (48%)]\tLoss: 0.136513\n",
            "Train Epoch: 8 [29440/60000 (49%)]\tLoss: 0.021186\n",
            "Train Epoch: 8 [30080/60000 (50%)]\tLoss: 0.036095\n",
            "Train Epoch: 8 [30720/60000 (51%)]\tLoss: 0.118061\n",
            "Train Epoch: 8 [31360/60000 (52%)]\tLoss: 0.077062\n",
            "Train Epoch: 8 [32000/60000 (53%)]\tLoss: 0.012746\n",
            "Train Epoch: 8 [32640/60000 (54%)]\tLoss: 0.075126\n",
            "Train Epoch: 8 [33280/60000 (55%)]\tLoss: 0.042138\n",
            "Train Epoch: 8 [33920/60000 (57%)]\tLoss: 0.030090\n",
            "Train Epoch: 8 [34560/60000 (58%)]\tLoss: 0.076642\n",
            "Train Epoch: 8 [35200/60000 (59%)]\tLoss: 0.087821\n",
            "Train Epoch: 8 [35840/60000 (60%)]\tLoss: 0.027797\n",
            "Train Epoch: 8 [36480/60000 (61%)]\tLoss: 0.015922\n",
            "Train Epoch: 8 [37120/60000 (62%)]\tLoss: 0.028596\n",
            "Train Epoch: 8 [37760/60000 (63%)]\tLoss: 0.019271\n",
            "Train Epoch: 8 [38400/60000 (64%)]\tLoss: 0.108279\n",
            "Train Epoch: 8 [39040/60000 (65%)]\tLoss: 0.130951\n",
            "Train Epoch: 8 [39680/60000 (66%)]\tLoss: 0.027961\n",
            "Train Epoch: 8 [40320/60000 (67%)]\tLoss: 0.081134\n",
            "Train Epoch: 8 [40960/60000 (68%)]\tLoss: 0.089809\n",
            "Train Epoch: 8 [41600/60000 (69%)]\tLoss: 0.039474\n",
            "Train Epoch: 8 [42240/60000 (70%)]\tLoss: 0.068323\n",
            "Train Epoch: 8 [42880/60000 (71%)]\tLoss: 0.042957\n",
            "Train Epoch: 8 [43520/60000 (72%)]\tLoss: 0.044385\n",
            "Train Epoch: 8 [44160/60000 (74%)]\tLoss: 0.162907\n",
            "Train Epoch: 8 [44800/60000 (75%)]\tLoss: 0.087534\n",
            "Train Epoch: 8 [45440/60000 (76%)]\tLoss: 0.028957\n",
            "Train Epoch: 8 [46080/60000 (77%)]\tLoss: 0.032116\n",
            "Train Epoch: 8 [46720/60000 (78%)]\tLoss: 0.007917\n",
            "Train Epoch: 8 [47360/60000 (79%)]\tLoss: 0.075399\n",
            "Train Epoch: 8 [48000/60000 (80%)]\tLoss: 0.114435\n",
            "Train Epoch: 8 [48640/60000 (81%)]\tLoss: 0.175988\n",
            "Train Epoch: 8 [49280/60000 (82%)]\tLoss: 0.087215\n",
            "Train Epoch: 8 [49920/60000 (83%)]\tLoss: 0.034445\n",
            "Train Epoch: 8 [50560/60000 (84%)]\tLoss: 0.096441\n",
            "Train Epoch: 8 [51200/60000 (85%)]\tLoss: 0.044697\n",
            "Train Epoch: 8 [51840/60000 (86%)]\tLoss: 0.046553\n",
            "Train Epoch: 8 [52480/60000 (87%)]\tLoss: 0.137833\n",
            "Train Epoch: 8 [53120/60000 (88%)]\tLoss: 0.171442\n",
            "Train Epoch: 8 [53760/60000 (90%)]\tLoss: 0.070313\n",
            "Train Epoch: 8 [54400/60000 (91%)]\tLoss: 0.022916\n",
            "Train Epoch: 8 [55040/60000 (92%)]\tLoss: 0.009297\n",
            "Train Epoch: 8 [55680/60000 (93%)]\tLoss: 0.054602\n",
            "Train Epoch: 8 [56320/60000 (94%)]\tLoss: 0.022832\n",
            "Train Epoch: 8 [56960/60000 (95%)]\tLoss: 0.045076\n",
            "Train Epoch: 8 [57600/60000 (96%)]\tLoss: 0.035354\n",
            "Train Epoch: 8 [58240/60000 (97%)]\tLoss: 0.023282\n",
            "Train Epoch: 8 [58880/60000 (98%)]\tLoss: 0.049802\n",
            "Train Epoch: 8 [59520/60000 (99%)]\tLoss: 0.058224\n",
            "\n",
            "Test set: Average loss: 0.0601, Accuracy: 9804/10000 (98%)\n",
            "\n",
            "Train Epoch: 9 [0/60000 (0%)]\tLoss: 0.043861\n",
            "Train Epoch: 9 [640/60000 (1%)]\tLoss: 0.016256\n",
            "Train Epoch: 9 [1280/60000 (2%)]\tLoss: 0.102594\n",
            "Train Epoch: 9 [1920/60000 (3%)]\tLoss: 0.044953\n",
            "Train Epoch: 9 [2560/60000 (4%)]\tLoss: 0.056451\n",
            "Train Epoch: 9 [3200/60000 (5%)]\tLoss: 0.014339\n",
            "Train Epoch: 9 [3840/60000 (6%)]\tLoss: 0.057291\n",
            "Train Epoch: 9 [4480/60000 (7%)]\tLoss: 0.072637\n",
            "Train Epoch: 9 [5120/60000 (9%)]\tLoss: 0.105807\n",
            "Train Epoch: 9 [5760/60000 (10%)]\tLoss: 0.166190\n",
            "Train Epoch: 9 [6400/60000 (11%)]\tLoss: 0.076295\n",
            "Train Epoch: 9 [7040/60000 (12%)]\tLoss: 0.012196\n",
            "Train Epoch: 9 [7680/60000 (13%)]\tLoss: 0.011828\n",
            "Train Epoch: 9 [8320/60000 (14%)]\tLoss: 0.080005\n",
            "Train Epoch: 9 [8960/60000 (15%)]\tLoss: 0.012121\n",
            "Train Epoch: 9 [9600/60000 (16%)]\tLoss: 0.019296\n",
            "Train Epoch: 9 [10240/60000 (17%)]\tLoss: 0.035120\n",
            "Train Epoch: 9 [10880/60000 (18%)]\tLoss: 0.117760\n",
            "Train Epoch: 9 [11520/60000 (19%)]\tLoss: 0.094098\n",
            "Train Epoch: 9 [12160/60000 (20%)]\tLoss: 0.051068\n",
            "Train Epoch: 9 [12800/60000 (21%)]\tLoss: 0.049172\n",
            "Train Epoch: 9 [13440/60000 (22%)]\tLoss: 0.011281\n",
            "Train Epoch: 9 [14080/60000 (23%)]\tLoss: 0.120745\n",
            "Train Epoch: 9 [14720/60000 (25%)]\tLoss: 0.068406\n",
            "Train Epoch: 9 [15360/60000 (26%)]\tLoss: 0.072969\n",
            "Train Epoch: 9 [16000/60000 (27%)]\tLoss: 0.089148\n",
            "Train Epoch: 9 [16640/60000 (28%)]\tLoss: 0.067051\n",
            "Train Epoch: 9 [17280/60000 (29%)]\tLoss: 0.027735\n",
            "Train Epoch: 9 [17920/60000 (30%)]\tLoss: 0.079205\n",
            "Train Epoch: 9 [18560/60000 (31%)]\tLoss: 0.087595\n",
            "Train Epoch: 9 [19200/60000 (32%)]\tLoss: 0.086052\n",
            "Train Epoch: 9 [19840/60000 (33%)]\tLoss: 0.028223\n",
            "Train Epoch: 9 [20480/60000 (34%)]\tLoss: 0.044857\n",
            "Train Epoch: 9 [21120/60000 (35%)]\tLoss: 0.049468\n",
            "Train Epoch: 9 [21760/60000 (36%)]\tLoss: 0.233690\n",
            "Train Epoch: 9 [22400/60000 (37%)]\tLoss: 0.085079\n",
            "Train Epoch: 9 [23040/60000 (38%)]\tLoss: 0.042608\n",
            "Train Epoch: 9 [23680/60000 (39%)]\tLoss: 0.055621\n",
            "Train Epoch: 9 [24320/60000 (41%)]\tLoss: 0.036685\n",
            "Train Epoch: 9 [24960/60000 (42%)]\tLoss: 0.040546\n",
            "Train Epoch: 9 [25600/60000 (43%)]\tLoss: 0.004066\n",
            "Train Epoch: 9 [26240/60000 (44%)]\tLoss: 0.044759\n",
            "Train Epoch: 9 [26880/60000 (45%)]\tLoss: 0.059847\n",
            "Train Epoch: 9 [27520/60000 (46%)]\tLoss: 0.106342\n",
            "Train Epoch: 9 [28160/60000 (47%)]\tLoss: 0.052277\n",
            "Train Epoch: 9 [28800/60000 (48%)]\tLoss: 0.062910\n",
            "Train Epoch: 9 [29440/60000 (49%)]\tLoss: 0.031020\n",
            "Train Epoch: 9 [30080/60000 (50%)]\tLoss: 0.122715\n",
            "Train Epoch: 9 [30720/60000 (51%)]\tLoss: 0.059343\n",
            "Train Epoch: 9 [31360/60000 (52%)]\tLoss: 0.051406\n",
            "Train Epoch: 9 [32000/60000 (53%)]\tLoss: 0.042400\n",
            "Train Epoch: 9 [32640/60000 (54%)]\tLoss: 0.208378\n",
            "Train Epoch: 9 [33280/60000 (55%)]\tLoss: 0.045495\n",
            "Train Epoch: 9 [33920/60000 (57%)]\tLoss: 0.015844\n",
            "Train Epoch: 9 [34560/60000 (58%)]\tLoss: 0.017734\n",
            "Train Epoch: 9 [35200/60000 (59%)]\tLoss: 0.020202\n",
            "Train Epoch: 9 [35840/60000 (60%)]\tLoss: 0.107729\n",
            "Train Epoch: 9 [36480/60000 (61%)]\tLoss: 0.038081\n",
            "Train Epoch: 9 [37120/60000 (62%)]\tLoss: 0.034264\n",
            "Train Epoch: 9 [37760/60000 (63%)]\tLoss: 0.009689\n",
            "Train Epoch: 9 [38400/60000 (64%)]\tLoss: 0.012945\n",
            "Train Epoch: 9 [39040/60000 (65%)]\tLoss: 0.031689\n",
            "Train Epoch: 9 [39680/60000 (66%)]\tLoss: 0.016667\n",
            "Train Epoch: 9 [40320/60000 (67%)]\tLoss: 0.072785\n",
            "Train Epoch: 9 [40960/60000 (68%)]\tLoss: 0.018000\n",
            "Train Epoch: 9 [41600/60000 (69%)]\tLoss: 0.015717\n",
            "Train Epoch: 9 [42240/60000 (70%)]\tLoss: 0.220800\n",
            "Train Epoch: 9 [42880/60000 (71%)]\tLoss: 0.134896\n",
            "Train Epoch: 9 [43520/60000 (72%)]\tLoss: 0.060554\n",
            "Train Epoch: 9 [44160/60000 (74%)]\tLoss: 0.057882\n",
            "Train Epoch: 9 [44800/60000 (75%)]\tLoss: 0.027728\n",
            "Train Epoch: 9 [45440/60000 (76%)]\tLoss: 0.082600\n",
            "Train Epoch: 9 [46080/60000 (77%)]\tLoss: 0.049932\n",
            "Train Epoch: 9 [46720/60000 (78%)]\tLoss: 0.065935\n",
            "Train Epoch: 9 [47360/60000 (79%)]\tLoss: 0.034179\n",
            "Train Epoch: 9 [48000/60000 (80%)]\tLoss: 0.047289\n",
            "Train Epoch: 9 [48640/60000 (81%)]\tLoss: 0.098773\n",
            "Train Epoch: 9 [49280/60000 (82%)]\tLoss: 0.148495\n",
            "Train Epoch: 9 [49920/60000 (83%)]\tLoss: 0.270200\n",
            "Train Epoch: 9 [50560/60000 (84%)]\tLoss: 0.051174\n",
            "Train Epoch: 9 [51200/60000 (85%)]\tLoss: 0.011315\n",
            "Train Epoch: 9 [51840/60000 (86%)]\tLoss: 0.102619\n",
            "Train Epoch: 9 [52480/60000 (87%)]\tLoss: 0.051312\n",
            "Train Epoch: 9 [53120/60000 (88%)]\tLoss: 0.018178\n",
            "Train Epoch: 9 [53760/60000 (90%)]\tLoss: 0.086241\n",
            "Train Epoch: 9 [54400/60000 (91%)]\tLoss: 0.073174\n",
            "Train Epoch: 9 [55040/60000 (92%)]\tLoss: 0.030391\n",
            "Train Epoch: 9 [55680/60000 (93%)]\tLoss: 0.074308\n",
            "Train Epoch: 9 [56320/60000 (94%)]\tLoss: 0.071538\n",
            "Train Epoch: 9 [56960/60000 (95%)]\tLoss: 0.093647\n",
            "Train Epoch: 9 [57600/60000 (96%)]\tLoss: 0.054876\n",
            "Train Epoch: 9 [58240/60000 (97%)]\tLoss: 0.014344\n",
            "Train Epoch: 9 [58880/60000 (98%)]\tLoss: 0.050523\n",
            "Train Epoch: 9 [59520/60000 (99%)]\tLoss: 0.057283\n",
            "\n",
            "Test set: Average loss: 0.0523, Accuracy: 9835/10000 (98%)\n",
            "\n"
          ]
        }
      ],
      "source": [
        "for epoch in range(1, 10):\n",
        "    train(epoch)\n",
        "    test()"
      ]
    }
  ]
}