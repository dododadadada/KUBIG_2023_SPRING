{
 "cells": [
  {
   "cell_type": "code",
   "execution_count": 1,
   "id": "67db527b",
   "metadata": {},
   "outputs": [],
   "source": [
    "import torch "
   ]
  },
  {
   "cell_type": "code",
   "execution_count": 2,
   "id": "a3f5a290",
   "metadata": {},
   "outputs": [
    {
     "name": "stdout",
     "output_type": "stream",
     "text": [
      "tensor([[0.5217, 0.9501, 0.8683],\n",
      "        [0.9373, 0.7780, 0.4803],\n",
      "        [0.6273, 0.0603, 0.4062],\n",
      "        [0.8750, 0.6672, 0.1809]])=X\n",
      "tensor([[0.3588, 0.6020, 0.7286],\n",
      "        [0.5185, 0.6506, 0.6513],\n",
      "        [0.6173, 0.8237, 0.5645],\n",
      "        [0.6485, 0.4243, 0.3951]])=Y\n",
      "tensor([[0.5217, 0.9501, 0.8683],\n",
      "        [0.9373, 0.7780, 0.4803],\n",
      "        [0.6273, 0.0603, 0.4062],\n",
      "        [0.8750, 0.6672, 0.1809],\n",
      "        [0.3588, 0.6020, 0.7286],\n",
      "        [0.5185, 0.6506, 0.6513],\n",
      "        [0.6173, 0.8237, 0.5645],\n",
      "        [0.6485, 0.4243, 0.3951]])\n",
      "tensor([[0.5217, 0.9501, 0.8683, 0.3588, 0.6020, 0.7286],\n",
      "        [0.9373, 0.7780, 0.4803, 0.5185, 0.6506, 0.6513],\n",
      "        [0.6273, 0.0603, 0.4062, 0.6173, 0.8237, 0.5645],\n",
      "        [0.8750, 0.6672, 0.1809, 0.6485, 0.4243, 0.3951]])\n"
     ]
    }
   ],
   "source": [
    "X = torch.rand(4,3)\n",
    "Y = torch.rand(4,3)\n",
    "print(f\"{X}=X\")\n",
    "print(f\"{Y}=Y\")\n",
    "row = torch.cat((X,Y),0)\n",
    "column = torch.cat((X,Y),1)\n",
    "print(row)\n",
    "print(column)"
   ]
  },
  {
   "cell_type": "code",
   "execution_count": 3,
   "id": "793981b7",
   "metadata": {},
   "outputs": [
    {
     "name": "stdout",
     "output_type": "stream",
     "text": [
      "Requirement already satisfied: d2l in c:\\users\\candy\\anaconda3\\envs\\pytorch\\lib\\site-packages (0.17.0)\n",
      "Requirement already satisfied: pandas in c:\\users\\candy\\anaconda3\\envs\\pytorch\\lib\\site-packages (from d2l) (1.1.5)\n",
      "Requirement already satisfied: matplotlib in c:\\users\\candy\\anaconda3\\envs\\pytorch\\lib\\site-packages (from d2l) (3.3.4)\n",
      "Requirement already satisfied: numpy in c:\\users\\candy\\anaconda3\\envs\\pytorch\\lib\\site-packages (from d2l) (1.19.2)\n",
      "Requirement already satisfied: requests in c:\\users\\candy\\anaconda3\\envs\\pytorch\\lib\\site-packages (from d2l) (2.27.1)\n",
      "Requirement already satisfied: jupyter in c:\\users\\candy\\anaconda3\\envs\\pytorch\\lib\\site-packages (from d2l) (1.0.0)\n",
      "Requirement already satisfied: ipywidgets in c:\\users\\candy\\anaconda3\\envs\\pytorch\\lib\\site-packages (from jupyter->d2l) (7.7.2)\n",
      "Requirement already satisfied: qtconsole in c:\\users\\candy\\anaconda3\\envs\\pytorch\\lib\\site-packages (from jupyter->d2l) (5.2.2)\n",
      "Requirement already satisfied: ipykernel in c:\\users\\candy\\anaconda3\\envs\\pytorch\\lib\\site-packages (from jupyter->d2l) (5.5.6)\n",
      "Requirement already satisfied: notebook in c:\\users\\candy\\anaconda3\\envs\\pytorch\\lib\\site-packages (from jupyter->d2l) (6.4.10)\n",
      "Requirement already satisfied: jupyter-console in c:\\users\\candy\\anaconda3\\envs\\pytorch\\lib\\site-packages (from jupyter->d2l) (6.4.3)\n",
      "Requirement already satisfied: nbconvert in c:\\users\\candy\\anaconda3\\envs\\pytorch\\lib\\site-packages (from jupyter->d2l) (6.0.7)\n",
      "Requirement already satisfied: jupyter-client in c:\\users\\candy\\anaconda3\\envs\\pytorch\\lib\\site-packages (from ipykernel->jupyter->d2l) (7.1.2)\n",
      "Requirement already satisfied: traitlets>=4.1.0 in c:\\users\\candy\\anaconda3\\envs\\pytorch\\lib\\site-packages (from ipykernel->jupyter->d2l) (4.3.3)\n",
      "Requirement already satisfied: ipython>=5.0.0 in c:\\users\\candy\\anaconda3\\envs\\pytorch\\lib\\site-packages (from ipykernel->jupyter->d2l) (7.16.3)\n",
      "Requirement already satisfied: ipython-genutils in c:\\users\\candy\\anaconda3\\envs\\pytorch\\lib\\site-packages (from ipykernel->jupyter->d2l) (0.2.0)\n",
      "Requirement already satisfied: tornado>=4.2 in c:\\users\\candy\\anaconda3\\envs\\pytorch\\lib\\site-packages (from ipykernel->jupyter->d2l) (6.1)\n",
      "Requirement already satisfied: jedi<=0.17.2,>=0.10 in c:\\users\\candy\\anaconda3\\envs\\pytorch\\lib\\site-packages (from ipython>=5.0.0->ipykernel->jupyter->d2l) (0.17.2)\n",
      "Requirement already satisfied: backcall in c:\\users\\candy\\anaconda3\\envs\\pytorch\\lib\\site-packages (from ipython>=5.0.0->ipykernel->jupyter->d2l) (0.2.0)\n",
      "Requirement already satisfied: decorator in c:\\users\\candy\\anaconda3\\envs\\pytorch\\lib\\site-packages (from ipython>=5.0.0->ipykernel->jupyter->d2l) (5.1.1)\n",
      "Requirement already satisfied: pygments in c:\\users\\candy\\anaconda3\\envs\\pytorch\\lib\\site-packages (from ipython>=5.0.0->ipykernel->jupyter->d2l) (2.14.0)\n",
      "Requirement already satisfied: pickleshare in c:\\users\\candy\\anaconda3\\envs\\pytorch\\lib\\site-packages (from ipython>=5.0.0->ipykernel->jupyter->d2l) (0.7.5)\n",
      "Requirement already satisfied: prompt-toolkit!=3.0.0,!=3.0.1,<3.1.0,>=2.0.0 in c:\\users\\candy\\anaconda3\\envs\\pytorch\\lib\\site-packages (from ipython>=5.0.0->ipykernel->jupyter->d2l) (3.0.36)\n",
      "Requirement already satisfied: setuptools>=18.5 in c:\\users\\candy\\anaconda3\\envs\\pytorch\\lib\\site-packages (from ipython>=5.0.0->ipykernel->jupyter->d2l) (58.0.4)\n",
      "Requirement already satisfied: colorama in c:\\users\\candy\\anaconda3\\envs\\pytorch\\lib\\site-packages (from ipython>=5.0.0->ipykernel->jupyter->d2l) (0.4.5)\n",
      "Requirement already satisfied: parso<0.8.0,>=0.7.0 in c:\\users\\candy\\anaconda3\\envs\\pytorch\\lib\\site-packages (from jedi<=0.17.2,>=0.10->ipython>=5.0.0->ipykernel->jupyter->d2l) (0.7.1)\n",
      "Requirement already satisfied: wcwidth in c:\\users\\candy\\anaconda3\\envs\\pytorch\\lib\\site-packages (from prompt-toolkit!=3.0.0,!=3.0.1,<3.1.0,>=2.0.0->ipython>=5.0.0->ipykernel->jupyter->d2l) (0.2.6)\n",
      "Requirement already satisfied: six in c:\\users\\candy\\anaconda3\\envs\\pytorch\\lib\\site-packages (from traitlets>=4.1.0->ipykernel->jupyter->d2l) (1.16.0)\n",
      "Requirement already satisfied: widgetsnbextension~=3.6.0 in c:\\users\\candy\\anaconda3\\envs\\pytorch\\lib\\site-packages (from ipywidgets->jupyter->d2l) (3.6.1)\n",
      "Requirement already satisfied: jupyterlab-widgets<3,>=1.0.0 in c:\\users\\candy\\anaconda3\\envs\\pytorch\\lib\\site-packages (from ipywidgets->jupyter->d2l) (1.1.1)\n",
      "Requirement already satisfied: terminado>=0.8.3 in c:\\users\\candy\\anaconda3\\envs\\pytorch\\lib\\site-packages (from notebook->jupyter->d2l) (0.12.1)\n",
      "Requirement already satisfied: jinja2 in c:\\users\\candy\\anaconda3\\envs\\pytorch\\lib\\site-packages (from notebook->jupyter->d2l) (3.0.3)\n",
      "Requirement already satisfied: Send2Trash>=1.8.0 in c:\\users\\candy\\anaconda3\\envs\\pytorch\\lib\\site-packages (from notebook->jupyter->d2l) (1.8.0)\n",
      "Requirement already satisfied: prometheus-client in c:\\users\\candy\\anaconda3\\envs\\pytorch\\lib\\site-packages (from notebook->jupyter->d2l) (0.15.0)\n",
      "Requirement already satisfied: nest-asyncio>=1.5 in c:\\users\\candy\\anaconda3\\envs\\pytorch\\lib\\site-packages (from notebook->jupyter->d2l) (1.5.6)\n",
      "Requirement already satisfied: argon2-cffi in c:\\users\\candy\\anaconda3\\envs\\pytorch\\lib\\site-packages (from notebook->jupyter->d2l) (21.3.0)\n",
      "Requirement already satisfied: jupyter-core>=4.6.1 in c:\\users\\candy\\anaconda3\\envs\\pytorch\\lib\\site-packages (from notebook->jupyter->d2l) (4.9.2)\n",
      "Requirement already satisfied: pyzmq>=17 in c:\\users\\candy\\anaconda3\\envs\\pytorch\\lib\\site-packages (from notebook->jupyter->d2l) (25.0.0)\n",
      "Requirement already satisfied: nbformat in c:\\users\\candy\\anaconda3\\envs\\pytorch\\lib\\site-packages (from notebook->jupyter->d2l) (5.1.3)\n",
      "Requirement already satisfied: entrypoints in c:\\users\\candy\\anaconda3\\envs\\pytorch\\lib\\site-packages (from jupyter-client->ipykernel->jupyter->d2l) (0.4)\n",
      "Requirement already satisfied: python-dateutil>=2.1 in c:\\users\\candy\\anaconda3\\envs\\pytorch\\lib\\site-packages (from jupyter-client->ipykernel->jupyter->d2l) (2.8.2)\n",
      "Requirement already satisfied: pywin32>=1.0 in c:\\users\\candy\\anaconda3\\envs\\pytorch\\lib\\site-packages (from jupyter-core>=4.6.1->notebook->jupyter->d2l) (305)\n",
      "Requirement already satisfied: bleach in c:\\users\\candy\\anaconda3\\envs\\pytorch\\lib\\site-packages (from nbconvert->jupyter->d2l) (4.1.0)\n",
      "Requirement already satisfied: defusedxml in c:\\users\\candy\\anaconda3\\envs\\pytorch\\lib\\site-packages (from nbconvert->jupyter->d2l) (0.7.1)\n",
      "Requirement already satisfied: mistune<2,>=0.8.1 in c:\\users\\candy\\anaconda3\\envs\\pytorch\\lib\\site-packages (from nbconvert->jupyter->d2l) (0.8.4)\n",
      "Requirement already satisfied: nbclient<0.6.0,>=0.5.0 in c:\\users\\candy\\anaconda3\\envs\\pytorch\\lib\\site-packages (from nbconvert->jupyter->d2l) (0.5.9)\n",
      "Requirement already satisfied: testpath in c:\\users\\candy\\anaconda3\\envs\\pytorch\\lib\\site-packages (from nbconvert->jupyter->d2l) (0.6.0)\n",
      "Requirement already satisfied: pandocfilters>=1.4.1 in c:\\users\\candy\\anaconda3\\envs\\pytorch\\lib\\site-packages (from nbconvert->jupyter->d2l) (1.5.0)\n",
      "Requirement already satisfied: jupyterlab-pygments in c:\\users\\candy\\anaconda3\\envs\\pytorch\\lib\\site-packages (from nbconvert->jupyter->d2l) (0.1.2)\n",
      "Requirement already satisfied: MarkupSafe>=2.0 in c:\\users\\candy\\anaconda3\\envs\\pytorch\\lib\\site-packages (from jinja2->notebook->jupyter->d2l) (2.0.1)\n",
      "Requirement already satisfied: async-generator in c:\\users\\candy\\anaconda3\\envs\\pytorch\\lib\\site-packages (from nbclient<0.6.0,>=0.5.0->nbconvert->jupyter->d2l) (1.10)\n",
      "Requirement already satisfied: jsonschema!=2.5.0,>=2.4 in c:\\users\\candy\\anaconda3\\envs\\pytorch\\lib\\site-packages (from nbformat->notebook->jupyter->d2l) (3.2.0)\n",
      "Requirement already satisfied: pyrsistent>=0.14.0 in c:\\users\\candy\\anaconda3\\envs\\pytorch\\lib\\site-packages (from jsonschema!=2.5.0,>=2.4->nbformat->notebook->jupyter->d2l) (0.18.0)\n",
      "Requirement already satisfied: attrs>=17.4.0 in c:\\users\\candy\\anaconda3\\envs\\pytorch\\lib\\site-packages (from jsonschema!=2.5.0,>=2.4->nbformat->notebook->jupyter->d2l) (22.2.0)\n",
      "Requirement already satisfied: importlib-metadata in c:\\users\\candy\\anaconda3\\envs\\pytorch\\lib\\site-packages (from jsonschema!=2.5.0,>=2.4->nbformat->notebook->jupyter->d2l) (4.8.3)\n",
      "Requirement already satisfied: pywinpty>=1.1.0 in c:\\users\\candy\\anaconda3\\envs\\pytorch\\lib\\site-packages (from terminado>=0.8.3->notebook->jupyter->d2l) (1.1.6)\n",
      "Requirement already satisfied: typing-extensions in c:\\users\\candy\\anaconda3\\envs\\pytorch\\lib\\site-packages (from argon2-cffi->notebook->jupyter->d2l) (4.1.1)\n",
      "Requirement already satisfied: dataclasses in c:\\users\\candy\\anaconda3\\envs\\pytorch\\lib\\site-packages (from argon2-cffi->notebook->jupyter->d2l) (0.8)\n",
      "Requirement already satisfied: argon2-cffi-bindings in c:\\users\\candy\\anaconda3\\envs\\pytorch\\lib\\site-packages (from argon2-cffi->notebook->jupyter->d2l) (21.2.0)\n",
      "Requirement already satisfied: cffi>=1.0.1 in c:\\users\\candy\\anaconda3\\envs\\pytorch\\lib\\site-packages (from argon2-cffi-bindings->argon2-cffi->notebook->jupyter->d2l) (1.15.1)\n",
      "Requirement already satisfied: pycparser in c:\\users\\candy\\anaconda3\\envs\\pytorch\\lib\\site-packages (from cffi>=1.0.1->argon2-cffi-bindings->argon2-cffi->notebook->jupyter->d2l) (2.21)\n",
      "Requirement already satisfied: webencodings in c:\\users\\candy\\anaconda3\\envs\\pytorch\\lib\\site-packages (from bleach->nbconvert->jupyter->d2l) (0.5.1)\n",
      "Requirement already satisfied: packaging in c:\\users\\candy\\anaconda3\\envs\\pytorch\\lib\\site-packages (from bleach->nbconvert->jupyter->d2l) (21.3)\n",
      "Requirement already satisfied: zipp>=0.5 in c:\\users\\candy\\anaconda3\\envs\\pytorch\\lib\\site-packages (from importlib-metadata->jsonschema!=2.5.0,>=2.4->nbformat->notebook->jupyter->d2l) (3.6.0)\n",
      "Requirement already satisfied: cycler>=0.10 in c:\\users\\candy\\anaconda3\\envs\\pytorch\\lib\\site-packages (from matplotlib->d2l) (0.11.0)\n",
      "Requirement already satisfied: kiwisolver>=1.0.1 in c:\\users\\candy\\anaconda3\\envs\\pytorch\\lib\\site-packages (from matplotlib->d2l) (1.3.1)\n",
      "Requirement already satisfied: pillow>=6.2.0 in c:\\users\\candy\\anaconda3\\envs\\pytorch\\lib\\site-packages (from matplotlib->d2l) (8.3.1)\n",
      "Requirement already satisfied: pyparsing!=2.0.4,!=2.1.2,!=2.1.6,>=2.0.3 in c:\\users\\candy\\anaconda3\\envs\\pytorch\\lib\\site-packages (from matplotlib->d2l) (3.0.9)\n",
      "Requirement already satisfied: pytz>=2017.2 in c:\\users\\candy\\anaconda3\\envs\\pytorch\\lib\\site-packages (from pandas->d2l) (2022.7.1)\n",
      "Requirement already satisfied: qtpy in c:\\users\\candy\\anaconda3\\envs\\pytorch\\lib\\site-packages (from qtconsole->jupyter->d2l) (2.0.1)\n",
      "Requirement already satisfied: certifi>=2017.4.17 in c:\\users\\candy\\anaconda3\\envs\\pytorch\\lib\\site-packages (from requests->d2l) (2021.5.30)\n",
      "Requirement already satisfied: idna<4,>=2.5 in c:\\users\\candy\\anaconda3\\envs\\pytorch\\lib\\site-packages (from requests->d2l) (3.4)\n",
      "Requirement already satisfied: charset-normalizer~=2.0.0 in c:\\users\\candy\\anaconda3\\envs\\pytorch\\lib\\site-packages (from requests->d2l) (2.0.12)\n",
      "Requirement already satisfied: urllib3<1.27,>=1.21.1 in c:\\users\\candy\\anaconda3\\envs\\pytorch\\lib\\site-packages (from requests->d2l) (1.26.14)\n"
     ]
    }
   ],
   "source": [
    "!pip install d2l"
   ]
  },
  {
   "cell_type": "code",
   "execution_count": 4,
   "id": "602a5bc0",
   "metadata": {},
   "outputs": [],
   "source": [
    "%matplotlib inline\n",
    "import random\n",
    "import torch\n",
    "from d2l import torch as d2l"
   ]
  },
  {
   "cell_type": "code",
   "execution_count": 5,
   "id": "341f0235",
   "metadata": {},
   "outputs": [],
   "source": [
    "#데이터셋 생성 단계\n",
    "def synthetic_data(w, b, num_examples):\n",
    "    \"\"\"Generate y = Xw + b + noise.\"\"\"\n",
    "    X = torch.normal(0, 1, (num_examples, len(w)))\n",
    "    y = torch.matmul(X, w) + b\n",
    "    y += torch.normal(0, 0.01, y.shape)\n",
    "    return X, y.reshape((-1, 1))\n",
    "\n",
    "true_w = torch.tensor([3, -1.5])\n",
    "true_b = 5.5\n",
    "features, labels = synthetic_data(true_w, true_b, 2000)"
   ]
  },
  {
   "cell_type": "code",
   "execution_count": 6,
   "id": "81222b49",
   "metadata": {},
   "outputs": [
    {
     "name": "stdout",
     "output_type": "stream",
     "text": [
      "features: tensor([0.4415, 0.2870]) \n",
      "label: tensor([6.4004])\n"
     ]
    }
   ],
   "source": [
    "print('features:', features[0],'\\nlabel:', labels[0])"
   ]
  },
  {
   "cell_type": "code",
   "execution_count": 7,
   "id": "b6837c00",
   "metadata": {},
   "outputs": [],
   "source": [
    "#데이터셋 읽는 단계\n",
    "def data_iter(batch_size, features, labels):\n",
    "    num_examples = len(features)\n",
    "    indices = list(range(num_examples))\n",
    "    # The examples are read at random, in no particular order\n",
    "    random.shuffle(indices)\n",
    "    for i in range(0, num_examples, batch_size):\n",
    "        batch_indices = torch.tensor(\n",
    "            indices[i: min(i + batch_size, num_examples)])\n",
    "        yield features[batch_indices], labels[batch_indices]\n"
   ]
  },
  {
   "cell_type": "code",
   "execution_count": 8,
   "id": "f4eba0d4",
   "metadata": {},
   "outputs": [
    {
     "name": "stdout",
     "output_type": "stream",
     "text": [
      "tensor([[-0.4157, -0.0221],\n",
      "        [-0.2062,  0.0824],\n",
      "        [-0.8733,  0.9169],\n",
      "        [-0.4755,  0.3593],\n",
      "        [-0.0187, -0.6147],\n",
      "        [ 0.1887,  0.1583],\n",
      "        [ 1.6230,  0.7122],\n",
      "        [-0.1747, -1.2470],\n",
      "        [-0.2975,  2.8227],\n",
      "        [ 0.1504, -1.0018],\n",
      "        [ 1.5373,  0.3368],\n",
      "        [-1.9996,  0.3616],\n",
      "        [ 0.1734,  0.2511],\n",
      "        [-0.0428,  1.0588],\n",
      "        [ 1.4997,  0.6879],\n",
      "        [ 0.1051,  0.0395],\n",
      "        [-0.0512, -0.0652],\n",
      "        [-0.6629,  0.7705],\n",
      "        [-0.0220,  0.8121],\n",
      "        [ 2.1526, -0.4946]]) \n",
      " tensor([[ 4.3011],\n",
      "        [ 4.7537],\n",
      "        [ 1.4958],\n",
      "        [ 3.5583],\n",
      "        [ 6.3602],\n",
      "        [ 5.8138],\n",
      "        [ 9.2994],\n",
      "        [ 6.8422],\n",
      "        [ 0.3658],\n",
      "        [ 7.4640],\n",
      "        [ 9.6116],\n",
      "        [-1.0324],\n",
      "        [ 5.6329],\n",
      "        [ 3.7685],\n",
      "        [ 8.9645],\n",
      "        [ 5.7596],\n",
      "        [ 5.4481],\n",
      "        [ 2.3583],\n",
      "        [ 4.2160],\n",
      "        [12.6883]])\n"
     ]
    }
   ],
   "source": [
    "#직관적 이해를 위한 참조\n",
    "batch_size = 20\n",
    "\n",
    "for X, y in data_iter(batch_size, features, labels):\n",
    "    print(X, '\\n', y)\n",
    "    break"
   ]
  },
  {
   "cell_type": "code",
   "execution_count": 9,
   "id": "6830deee",
   "metadata": {},
   "outputs": [],
   "source": [
    "#모델 파라미터 초기화\n",
    "w = torch.normal(0, 0.01, size=(2,1), requires_grad=True)\n",
    "b = torch.tensor([1.1])"
   ]
  },
  {
   "cell_type": "code",
   "execution_count": 10,
   "id": "c42d853f",
   "metadata": {},
   "outputs": [],
   "source": [
    "def linreg(X, w, b):\n",
    "    \"\"\"The linear regression model.\"\"\"\n",
    "    return torch.matmul(X, w) + b"
   ]
  },
  {
   "cell_type": "code",
   "execution_count": 11,
   "id": "dc0adaa5",
   "metadata": {},
   "outputs": [],
   "source": [
    "def squared_loss(y_hat, y):\n",
    "    \"\"\"Squared loss.\"\"\"\n",
    "    return (y_hat - y.reshape(y_hat.shape))** 2 / 2 #y_hat과 shape 맞춰주기"
   ]
  },
  {
   "cell_type": "code",
   "execution_count": 12,
   "id": "777ef23e",
   "metadata": {},
   "outputs": [],
   "source": [
    "def sgd(params, lr, batch_size):\n",
    "    \"\"\"Minibatch stochastic gradient descent.\"\"\"\n",
    "    with torch.no_grad():\n",
    "        for param in params:\n",
    "            param -= lr * param.grad /batch_size\n",
    "            param.grad.zero_()"
   ]
  },
  {
   "cell_type": "code",
   "execution_count": 13,
   "id": "7f3e8685",
   "metadata": {},
   "outputs": [
    {
     "ename": "TypeError",
     "evalue": "unsupported operand type(s) for *: 'float' and 'NoneType'",
     "output_type": "error",
     "traceback": [
      "\u001b[1;31m---------------------------------------------------------------------------\u001b[0m",
      "\u001b[1;31mTypeError\u001b[0m                                 Traceback (most recent call last)",
      "\u001b[1;32m<ipython-input-13-6105855e6410>\u001b[0m in \u001b[0;36m<module>\u001b[1;34m\u001b[0m\n\u001b[0;32m     10\u001b[0m         \u001b[1;31m# Compute gradient on `l` with respect to [`w`, `b`]\u001b[0m\u001b[1;33m\u001b[0m\u001b[1;33m\u001b[0m\u001b[1;33m\u001b[0m\u001b[0m\n\u001b[0;32m     11\u001b[0m         \u001b[0ml\u001b[0m\u001b[1;33m.\u001b[0m\u001b[0msum\u001b[0m\u001b[1;33m(\u001b[0m\u001b[1;33m)\u001b[0m\u001b[1;33m.\u001b[0m\u001b[0mbackward\u001b[0m\u001b[1;33m(\u001b[0m\u001b[1;33m)\u001b[0m\u001b[1;33m\u001b[0m\u001b[1;33m\u001b[0m\u001b[0m\n\u001b[1;32m---> 12\u001b[1;33m         \u001b[0msgd\u001b[0m\u001b[1;33m(\u001b[0m\u001b[1;33m[\u001b[0m\u001b[0mw\u001b[0m\u001b[1;33m,\u001b[0m \u001b[0mb\u001b[0m\u001b[1;33m]\u001b[0m\u001b[1;33m,\u001b[0m \u001b[0mlr\u001b[0m\u001b[1;33m,\u001b[0m \u001b[0mbatch_size\u001b[0m\u001b[1;33m)\u001b[0m\u001b[1;33m\u001b[0m\u001b[1;33m\u001b[0m\u001b[0m\n\u001b[0m\u001b[0;32m     13\u001b[0m     \u001b[1;32mwith\u001b[0m \u001b[0mtorch\u001b[0m\u001b[1;33m.\u001b[0m\u001b[0mno_grad\u001b[0m\u001b[1;33m(\u001b[0m\u001b[1;33m)\u001b[0m\u001b[1;33m:\u001b[0m\u001b[1;33m\u001b[0m\u001b[1;33m\u001b[0m\u001b[0m\n\u001b[0;32m     14\u001b[0m         \u001b[0mtrain_l\u001b[0m \u001b[1;33m=\u001b[0m \u001b[0mloss\u001b[0m\u001b[1;33m(\u001b[0m\u001b[0mnet\u001b[0m\u001b[1;33m(\u001b[0m\u001b[0mfeatures\u001b[0m\u001b[1;33m,\u001b[0m \u001b[0mw\u001b[0m\u001b[1;33m,\u001b[0m \u001b[0mb\u001b[0m\u001b[1;33m)\u001b[0m\u001b[1;33m,\u001b[0m \u001b[0mlabels\u001b[0m\u001b[1;33m)\u001b[0m\u001b[1;33m\u001b[0m\u001b[1;33m\u001b[0m\u001b[0m\n",
      "\u001b[1;32m<ipython-input-12-04122b37631b>\u001b[0m in \u001b[0;36msgd\u001b[1;34m(params, lr, batch_size)\u001b[0m\n\u001b[0;32m      3\u001b[0m     \u001b[1;32mwith\u001b[0m \u001b[0mtorch\u001b[0m\u001b[1;33m.\u001b[0m\u001b[0mno_grad\u001b[0m\u001b[1;33m(\u001b[0m\u001b[1;33m)\u001b[0m\u001b[1;33m:\u001b[0m\u001b[1;33m\u001b[0m\u001b[1;33m\u001b[0m\u001b[0m\n\u001b[0;32m      4\u001b[0m         \u001b[1;32mfor\u001b[0m \u001b[0mparam\u001b[0m \u001b[1;32min\u001b[0m \u001b[0mparams\u001b[0m\u001b[1;33m:\u001b[0m\u001b[1;33m\u001b[0m\u001b[1;33m\u001b[0m\u001b[0m\n\u001b[1;32m----> 5\u001b[1;33m             \u001b[0mparam\u001b[0m \u001b[1;33m-=\u001b[0m \u001b[0mlr\u001b[0m \u001b[1;33m*\u001b[0m \u001b[0mparam\u001b[0m\u001b[1;33m.\u001b[0m\u001b[0mgrad\u001b[0m \u001b[1;33m/\u001b[0m\u001b[0mbatch_size\u001b[0m\u001b[1;33m\u001b[0m\u001b[1;33m\u001b[0m\u001b[0m\n\u001b[0m\u001b[0;32m      6\u001b[0m             \u001b[0mparam\u001b[0m\u001b[1;33m.\u001b[0m\u001b[0mgrad\u001b[0m\u001b[1;33m.\u001b[0m\u001b[0mzero_\u001b[0m\u001b[1;33m(\u001b[0m\u001b[1;33m)\u001b[0m\u001b[1;33m\u001b[0m\u001b[1;33m\u001b[0m\u001b[0m\n",
      "\u001b[1;31mTypeError\u001b[0m: unsupported operand type(s) for *: 'float' and 'NoneType'"
     ]
    }
   ],
   "source": [
    "#training\n",
    "lr =  0.01\n",
    "num_epochs = 10\n",
    "net = linreg\n",
    "loss = squared_loss\n",
    "\n",
    "for epoch in range(num_epochs):\n",
    "    for X, y in data_iter(batch_size, features, labels):\n",
    "        l = loss(net(X, w, b), y)  # Minibatch loss in `X` and `y`\n",
    "        # Compute gradient on `l` with respect to [`w`, `b`]\n",
    "        l.sum().backward()\n",
    "        sgd([w, b], lr, batch_size)\n",
    "    with torch.no_grad():\n",
    "        train_l = loss(net(features, w, b), labels)\n",
    "        print(f'epoch {epoch + 1}, loss {float(train_l.mean()):f}')\n"
   ]
  },
  {
   "cell_type": "code",
   "execution_count": 14,
   "id": "0d49875b",
   "metadata": {},
   "outputs": [
    {
     "name": "stdout",
     "output_type": "stream",
     "text": [
      "error in estimating w: tensor([ 3.0064, -1.4893], grad_fn=<SubBackward0>)\n",
      "error in estimating b: tensor([4.4000])\n"
     ]
    }
   ],
   "source": [
    "print(f'error in estimating w: {true_w - w.reshape(true_w.shape)}')\n",
    "print(f'error in estimating b: {true_b - b}')"
   ]
  },
  {
   "cell_type": "code",
   "execution_count": 27,
   "id": "6d6bb040",
   "metadata": {},
   "outputs": [],
   "source": [
    "#cost graph 그리기\n",
    "import matplotlib.pyplot as plt\n",
    "\n",
    "#training\n",
    "lr =  0.01\n",
    "num_epochs = 10\n",
    "net = linreg\n",
    "loss = squared_loss\n",
    "\n",
    "w_list = []\n",
    "loss_list = []\n",
    "for epoch in range(num_epochs):\n",
    "    w_list.append(w)\n",
    "    loss_list.append(loss)"
   ]
  },
  {
   "cell_type": "code",
   "execution_count": 33,
   "id": "e1aedfbb",
   "metadata": {},
   "outputs": [
    {
     "ename": "ValueError",
     "evalue": "only one element tensors can be converted to Python scalars",
     "output_type": "error",
     "traceback": [
      "\u001b[1;31m---------------------------------------------------------------------------\u001b[0m",
      "\u001b[1;31mValueError\u001b[0m                                Traceback (most recent call last)",
      "\u001b[1;32m<ipython-input-33-4043ce8565fa>\u001b[0m in \u001b[0;36m<module>\u001b[1;34m\u001b[0m\n\u001b[1;32m----> 1\u001b[1;33m \u001b[0mplt\u001b[0m\u001b[1;33m.\u001b[0m\u001b[0mplot\u001b[0m\u001b[1;33m(\u001b[0m\u001b[0mw_list\u001b[0m\u001b[1;33m,\u001b[0m \u001b[0mloss_list\u001b[0m\u001b[1;33m)\u001b[0m\u001b[1;33m\u001b[0m\u001b[1;33m\u001b[0m\u001b[0m\n\u001b[0m\u001b[0;32m      2\u001b[0m \u001b[1;33m\u001b[0m\u001b[0m\n\u001b[0;32m      3\u001b[0m \u001b[0mplt\u001b[0m\u001b[1;33m.\u001b[0m\u001b[0mset_xlabel\u001b[0m\u001b[1;33m(\u001b[0m\u001b[1;34m\"w\"\u001b[0m\u001b[1;33m,\u001b[0m \u001b[0msize\u001b[0m \u001b[1;33m=\u001b[0m \u001b[1;36m10\u001b[0m\u001b[1;33m,\u001b[0m \u001b[0mlabelpad\u001b[0m \u001b[1;33m=\u001b[0m \u001b[1;36m10\u001b[0m\u001b[1;33m)\u001b[0m\u001b[1;33m\u001b[0m\u001b[1;33m\u001b[0m\u001b[0m\n\u001b[0;32m      4\u001b[0m \u001b[0mplt\u001b[0m\u001b[1;33m.\u001b[0m\u001b[0mset_ylabel\u001b[0m\u001b[1;33m(\u001b[0m\u001b[1;34m\"loss\"\u001b[0m\u001b[1;33m,\u001b[0m \u001b[0msize\u001b[0m \u001b[1;33m=\u001b[0m \u001b[1;36m10\u001b[0m\u001b[1;33m,\u001b[0m \u001b[0mlabelpad\u001b[0m \u001b[1;33m=\u001b[0m \u001b[1;36m10\u001b[0m\u001b[1;33m)\u001b[0m\u001b[1;33m\u001b[0m\u001b[1;33m\u001b[0m\u001b[0m\n\u001b[0;32m      5\u001b[0m \u001b[0mplt\u001b[0m\u001b[1;33m.\u001b[0m\u001b[0mtitle\u001b[0m\u001b[1;33m(\u001b[0m\u001b[1;34m'cost graph'\u001b[0m\u001b[1;33m)\u001b[0m\u001b[1;33m\u001b[0m\u001b[1;33m\u001b[0m\u001b[0m\n",
      "\u001b[1;32m~\\anaconda3\\envs\\pytorch\\lib\\site-packages\\matplotlib\\pyplot.py\u001b[0m in \u001b[0;36mplot\u001b[1;34m(scalex, scaley, data, *args, **kwargs)\u001b[0m\n\u001b[0;32m   2840\u001b[0m     return gca().plot(\n\u001b[0;32m   2841\u001b[0m         \u001b[1;33m*\u001b[0m\u001b[0margs\u001b[0m\u001b[1;33m,\u001b[0m \u001b[0mscalex\u001b[0m\u001b[1;33m=\u001b[0m\u001b[0mscalex\u001b[0m\u001b[1;33m,\u001b[0m \u001b[0mscaley\u001b[0m\u001b[1;33m=\u001b[0m\u001b[0mscaley\u001b[0m\u001b[1;33m,\u001b[0m\u001b[1;33m\u001b[0m\u001b[1;33m\u001b[0m\u001b[0m\n\u001b[1;32m-> 2842\u001b[1;33m         **({\"data\": data} if data is not None else {}), **kwargs)\n\u001b[0m\u001b[0;32m   2843\u001b[0m \u001b[1;33m\u001b[0m\u001b[0m\n\u001b[0;32m   2844\u001b[0m \u001b[1;33m\u001b[0m\u001b[0m\n",
      "\u001b[1;32m~\\anaconda3\\envs\\pytorch\\lib\\site-packages\\matplotlib\\axes\\_axes.py\u001b[0m in \u001b[0;36mplot\u001b[1;34m(self, scalex, scaley, data, *args, **kwargs)\u001b[0m\n\u001b[0;32m   1741\u001b[0m         \"\"\"\n\u001b[0;32m   1742\u001b[0m         \u001b[0mkwargs\u001b[0m \u001b[1;33m=\u001b[0m \u001b[0mcbook\u001b[0m\u001b[1;33m.\u001b[0m\u001b[0mnormalize_kwargs\u001b[0m\u001b[1;33m(\u001b[0m\u001b[0mkwargs\u001b[0m\u001b[1;33m,\u001b[0m \u001b[0mmlines\u001b[0m\u001b[1;33m.\u001b[0m\u001b[0mLine2D\u001b[0m\u001b[1;33m)\u001b[0m\u001b[1;33m\u001b[0m\u001b[1;33m\u001b[0m\u001b[0m\n\u001b[1;32m-> 1743\u001b[1;33m         \u001b[0mlines\u001b[0m \u001b[1;33m=\u001b[0m \u001b[1;33m[\u001b[0m\u001b[1;33m*\u001b[0m\u001b[0mself\u001b[0m\u001b[1;33m.\u001b[0m\u001b[0m_get_lines\u001b[0m\u001b[1;33m(\u001b[0m\u001b[1;33m*\u001b[0m\u001b[0margs\u001b[0m\u001b[1;33m,\u001b[0m \u001b[0mdata\u001b[0m\u001b[1;33m=\u001b[0m\u001b[0mdata\u001b[0m\u001b[1;33m,\u001b[0m \u001b[1;33m**\u001b[0m\u001b[0mkwargs\u001b[0m\u001b[1;33m)\u001b[0m\u001b[1;33m]\u001b[0m\u001b[1;33m\u001b[0m\u001b[1;33m\u001b[0m\u001b[0m\n\u001b[0m\u001b[0;32m   1744\u001b[0m         \u001b[1;32mfor\u001b[0m \u001b[0mline\u001b[0m \u001b[1;32min\u001b[0m \u001b[0mlines\u001b[0m\u001b[1;33m:\u001b[0m\u001b[1;33m\u001b[0m\u001b[1;33m\u001b[0m\u001b[0m\n\u001b[0;32m   1745\u001b[0m             \u001b[0mself\u001b[0m\u001b[1;33m.\u001b[0m\u001b[0madd_line\u001b[0m\u001b[1;33m(\u001b[0m\u001b[0mline\u001b[0m\u001b[1;33m)\u001b[0m\u001b[1;33m\u001b[0m\u001b[1;33m\u001b[0m\u001b[0m\n",
      "\u001b[1;32m~\\anaconda3\\envs\\pytorch\\lib\\site-packages\\matplotlib\\axes\\_base.py\u001b[0m in \u001b[0;36m__call__\u001b[1;34m(self, data, *args, **kwargs)\u001b[0m\n\u001b[0;32m    271\u001b[0m                 \u001b[0mthis\u001b[0m \u001b[1;33m+=\u001b[0m \u001b[0margs\u001b[0m\u001b[1;33m[\u001b[0m\u001b[1;36m0\u001b[0m\u001b[1;33m]\u001b[0m\u001b[1;33m,\u001b[0m\u001b[1;33m\u001b[0m\u001b[1;33m\u001b[0m\u001b[0m\n\u001b[0;32m    272\u001b[0m                 \u001b[0margs\u001b[0m \u001b[1;33m=\u001b[0m \u001b[0margs\u001b[0m\u001b[1;33m[\u001b[0m\u001b[1;36m1\u001b[0m\u001b[1;33m:\u001b[0m\u001b[1;33m]\u001b[0m\u001b[1;33m\u001b[0m\u001b[1;33m\u001b[0m\u001b[0m\n\u001b[1;32m--> 273\u001b[1;33m             \u001b[1;32myield\u001b[0m \u001b[1;32mfrom\u001b[0m \u001b[0mself\u001b[0m\u001b[1;33m.\u001b[0m\u001b[0m_plot_args\u001b[0m\u001b[1;33m(\u001b[0m\u001b[0mthis\u001b[0m\u001b[1;33m,\u001b[0m \u001b[0mkwargs\u001b[0m\u001b[1;33m)\u001b[0m\u001b[1;33m\u001b[0m\u001b[1;33m\u001b[0m\u001b[0m\n\u001b[0m\u001b[0;32m    274\u001b[0m \u001b[1;33m\u001b[0m\u001b[0m\n\u001b[0;32m    275\u001b[0m     \u001b[1;32mdef\u001b[0m \u001b[0mget_next_color\u001b[0m\u001b[1;33m(\u001b[0m\u001b[0mself\u001b[0m\u001b[1;33m)\u001b[0m\u001b[1;33m:\u001b[0m\u001b[1;33m\u001b[0m\u001b[1;33m\u001b[0m\u001b[0m\n",
      "\u001b[1;32m~\\anaconda3\\envs\\pytorch\\lib\\site-packages\\matplotlib\\axes\\_base.py\u001b[0m in \u001b[0;36m_plot_args\u001b[1;34m(self, tup, kwargs)\u001b[0m\n\u001b[0;32m    386\u001b[0m \u001b[1;33m\u001b[0m\u001b[0m\n\u001b[0;32m    387\u001b[0m         \u001b[1;32mif\u001b[0m \u001b[0mlen\u001b[0m\u001b[1;33m(\u001b[0m\u001b[0mtup\u001b[0m\u001b[1;33m)\u001b[0m \u001b[1;33m==\u001b[0m \u001b[1;36m2\u001b[0m\u001b[1;33m:\u001b[0m\u001b[1;33m\u001b[0m\u001b[1;33m\u001b[0m\u001b[0m\n\u001b[1;32m--> 388\u001b[1;33m             \u001b[0mx\u001b[0m \u001b[1;33m=\u001b[0m \u001b[0m_check_1d\u001b[0m\u001b[1;33m(\u001b[0m\u001b[0mtup\u001b[0m\u001b[1;33m[\u001b[0m\u001b[1;36m0\u001b[0m\u001b[1;33m]\u001b[0m\u001b[1;33m)\u001b[0m\u001b[1;33m\u001b[0m\u001b[1;33m\u001b[0m\u001b[0m\n\u001b[0m\u001b[0;32m    389\u001b[0m             \u001b[0my\u001b[0m \u001b[1;33m=\u001b[0m \u001b[0m_check_1d\u001b[0m\u001b[1;33m(\u001b[0m\u001b[0mtup\u001b[0m\u001b[1;33m[\u001b[0m\u001b[1;33m-\u001b[0m\u001b[1;36m1\u001b[0m\u001b[1;33m]\u001b[0m\u001b[1;33m)\u001b[0m\u001b[1;33m\u001b[0m\u001b[1;33m\u001b[0m\u001b[0m\n\u001b[0;32m    390\u001b[0m         \u001b[1;32melse\u001b[0m\u001b[1;33m:\u001b[0m\u001b[1;33m\u001b[0m\u001b[1;33m\u001b[0m\u001b[0m\n",
      "\u001b[1;32m~\\anaconda3\\envs\\pytorch\\lib\\site-packages\\matplotlib\\cbook\\__init__.py\u001b[0m in \u001b[0;36m_check_1d\u001b[1;34m(x)\u001b[0m\n\u001b[0;32m   1293\u001b[0m     \u001b[1;34m\"\"\"Convert scalars to 1d arrays; pass-through arrays as is.\"\"\"\u001b[0m\u001b[1;33m\u001b[0m\u001b[1;33m\u001b[0m\u001b[0m\n\u001b[0;32m   1294\u001b[0m     \u001b[1;32mif\u001b[0m \u001b[1;32mnot\u001b[0m \u001b[0mhasattr\u001b[0m\u001b[1;33m(\u001b[0m\u001b[0mx\u001b[0m\u001b[1;33m,\u001b[0m \u001b[1;34m'shape'\u001b[0m\u001b[1;33m)\u001b[0m \u001b[1;32mor\u001b[0m \u001b[0mlen\u001b[0m\u001b[1;33m(\u001b[0m\u001b[0mx\u001b[0m\u001b[1;33m.\u001b[0m\u001b[0mshape\u001b[0m\u001b[1;33m)\u001b[0m \u001b[1;33m<\u001b[0m \u001b[1;36m1\u001b[0m\u001b[1;33m:\u001b[0m\u001b[1;33m\u001b[0m\u001b[1;33m\u001b[0m\u001b[0m\n\u001b[1;32m-> 1295\u001b[1;33m         \u001b[1;32mreturn\u001b[0m \u001b[0mnp\u001b[0m\u001b[1;33m.\u001b[0m\u001b[0matleast_1d\u001b[0m\u001b[1;33m(\u001b[0m\u001b[0mx\u001b[0m\u001b[1;33m)\u001b[0m\u001b[1;33m\u001b[0m\u001b[1;33m\u001b[0m\u001b[0m\n\u001b[0m\u001b[0;32m   1296\u001b[0m     \u001b[1;32melse\u001b[0m\u001b[1;33m:\u001b[0m\u001b[1;33m\u001b[0m\u001b[1;33m\u001b[0m\u001b[0m\n\u001b[0;32m   1297\u001b[0m         \u001b[1;32mtry\u001b[0m\u001b[1;33m:\u001b[0m\u001b[1;33m\u001b[0m\u001b[1;33m\u001b[0m\u001b[0m\n",
      "\u001b[1;32m<__array_function__ internals>\u001b[0m in \u001b[0;36matleast_1d\u001b[1;34m(*args, **kwargs)\u001b[0m\n",
      "\u001b[1;32m~\\anaconda3\\envs\\pytorch\\lib\\site-packages\\numpy\\core\\shape_base.py\u001b[0m in \u001b[0;36matleast_1d\u001b[1;34m(*arys)\u001b[0m\n\u001b[0;32m     64\u001b[0m     \u001b[0mres\u001b[0m \u001b[1;33m=\u001b[0m \u001b[1;33m[\u001b[0m\u001b[1;33m]\u001b[0m\u001b[1;33m\u001b[0m\u001b[1;33m\u001b[0m\u001b[0m\n\u001b[0;32m     65\u001b[0m     \u001b[1;32mfor\u001b[0m \u001b[0mary\u001b[0m \u001b[1;32min\u001b[0m \u001b[0marys\u001b[0m\u001b[1;33m:\u001b[0m\u001b[1;33m\u001b[0m\u001b[1;33m\u001b[0m\u001b[0m\n\u001b[1;32m---> 66\u001b[1;33m         \u001b[0mary\u001b[0m \u001b[1;33m=\u001b[0m \u001b[0masanyarray\u001b[0m\u001b[1;33m(\u001b[0m\u001b[0mary\u001b[0m\u001b[1;33m)\u001b[0m\u001b[1;33m\u001b[0m\u001b[1;33m\u001b[0m\u001b[0m\n\u001b[0m\u001b[0;32m     67\u001b[0m         \u001b[1;32mif\u001b[0m \u001b[0mary\u001b[0m\u001b[1;33m.\u001b[0m\u001b[0mndim\u001b[0m \u001b[1;33m==\u001b[0m \u001b[1;36m0\u001b[0m\u001b[1;33m:\u001b[0m\u001b[1;33m\u001b[0m\u001b[1;33m\u001b[0m\u001b[0m\n\u001b[0;32m     68\u001b[0m             \u001b[0mresult\u001b[0m \u001b[1;33m=\u001b[0m \u001b[0mary\u001b[0m\u001b[1;33m.\u001b[0m\u001b[0mreshape\u001b[0m\u001b[1;33m(\u001b[0m\u001b[1;36m1\u001b[0m\u001b[1;33m)\u001b[0m\u001b[1;33m\u001b[0m\u001b[1;33m\u001b[0m\u001b[0m\n",
      "\u001b[1;32m~\\anaconda3\\envs\\pytorch\\lib\\site-packages\\numpy\\core\\_asarray.py\u001b[0m in \u001b[0;36masanyarray\u001b[1;34m(a, dtype, order)\u001b[0m\n\u001b[0;32m    134\u001b[0m \u001b[1;33m\u001b[0m\u001b[0m\n\u001b[0;32m    135\u001b[0m     \"\"\"\n\u001b[1;32m--> 136\u001b[1;33m     \u001b[1;32mreturn\u001b[0m \u001b[0marray\u001b[0m\u001b[1;33m(\u001b[0m\u001b[0ma\u001b[0m\u001b[1;33m,\u001b[0m \u001b[0mdtype\u001b[0m\u001b[1;33m,\u001b[0m \u001b[0mcopy\u001b[0m\u001b[1;33m=\u001b[0m\u001b[1;32mFalse\u001b[0m\u001b[1;33m,\u001b[0m \u001b[0morder\u001b[0m\u001b[1;33m=\u001b[0m\u001b[0morder\u001b[0m\u001b[1;33m,\u001b[0m \u001b[0msubok\u001b[0m\u001b[1;33m=\u001b[0m\u001b[1;32mTrue\u001b[0m\u001b[1;33m)\u001b[0m\u001b[1;33m\u001b[0m\u001b[1;33m\u001b[0m\u001b[0m\n\u001b[0m\u001b[0;32m    137\u001b[0m \u001b[1;33m\u001b[0m\u001b[0m\n\u001b[0;32m    138\u001b[0m \u001b[1;33m\u001b[0m\u001b[0m\n",
      "\u001b[1;31mValueError\u001b[0m: only one element tensors can be converted to Python scalars"
     ]
    },
    {
     "data": {
      "image/png": "[encoded data removed]",
      "text/plain": [
       "<Figure size 432x288 with 1 Axes>"
      ]
     },
     "metadata": {
      "needs_background": "light"
     },
     "output_type": "display_data"
    }
   ],
   "source": [
    "plt.plot(w_list, loss_list)\n",
    "\n",
    "plt.set_xlabel(\"w\", size = 10, labelpad = 10)\n",
    "plt.set_ylabel(\"loss\", size = 10, labelpad = 10)\n",
    "plt.title('cost graph')\n",
    "plt.show()"
   ]
  },
  {
   "cell_type": "code",
   "execution_count": 15,
   "id": "83103096",
   "metadata": {},
   "outputs": [],
   "source": [
    "import numpy as np\n",
    "import torch\n",
    "from torch.utils import data\n",
    "from d2l import torch as d2l\n",
    "\n",
    "true_w = torch.tensor([3, -1.5])\n",
    "true_b = 5.5\n",
    "features, labels = d2l.synthetic_data(true_w, true_b, 2000)"
   ]
  },
  {
   "cell_type": "code",
   "execution_count": 16,
   "id": "24e61ba1",
   "metadata": {},
   "outputs": [],
   "source": [
    "def load_array(data_arrays, batch_size, is_train=True):\n",
    "    \"\"\"Construct a PyTorch data iterator.\"\"\"\n",
    "    dataset = data.TensorDataset(*data_arrays)\n",
    "    return data.DataLoader(dataset, batch_size, shuffle=is_train)"
   ]
  },
  {
   "cell_type": "code",
   "execution_count": 17,
   "id": "578042c4",
   "metadata": {},
   "outputs": [],
   "source": [
    "batch_size = 20\n",
    "data_iter = load_array((features, labels), batch_size)\n"
   ]
  },
  {
   "cell_type": "code",
   "execution_count": 18,
   "id": "7828b7ee",
   "metadata": {},
   "outputs": [
    {
     "data": {
      "text/plain": [
       "[tensor([[-1.2430, -1.2888],\n",
       "         [ 1.2685, -0.9502],\n",
       "         [-0.1785,  0.9551],\n",
       "         [ 1.2081, -0.4136],\n",
       "         [ 0.0883,  0.9511],\n",
       "         [ 0.2801,  0.9144],\n",
       "         [-1.9493,  0.1604],\n",
       "         [ 0.1702,  0.6224],\n",
       "         [ 0.1627, -1.2289],\n",
       "         [-0.2437, -0.5255],\n",
       "         [-1.3700, -0.3711],\n",
       "         [ 1.3862,  0.4958],\n",
       "         [ 0.4834, -0.3387],\n",
       "         [-0.9206, -0.1186],\n",
       "         [ 1.0276, -1.8433],\n",
       "         [ 1.0439,  0.5290],\n",
       "         [-0.3051, -0.2733],\n",
       "         [-1.8420,  1.5544],\n",
       "         [ 0.3137, -0.5873],\n",
       "         [-1.1389,  0.5143]]),\n",
       " tensor([[ 3.6702],\n",
       "         [10.7380],\n",
       "         [ 3.5402],\n",
       "         [ 9.7578],\n",
       "         [ 4.3268],\n",
       "         [ 4.9786],\n",
       "         [-0.5912],\n",
       "         [ 5.0648],\n",
       "         [ 7.8236],\n",
       "         [ 5.5521],\n",
       "         [ 1.9493],\n",
       "         [ 8.8919],\n",
       "         [ 7.4599],\n",
       "         [ 2.9218],\n",
       "         [11.3468],\n",
       "         [ 7.8419],\n",
       "         [ 5.0049],\n",
       "         [-2.3723],\n",
       "         [ 7.3388],\n",
       "         [ 1.2845]])]"
      ]
     },
     "execution_count": 18,
     "metadata": {},
     "output_type": "execute_result"
    }
   ],
   "source": [
    "next(iter(data_iter))"
   ]
  },
  {
   "cell_type": "code",
   "execution_count": 19,
   "id": "de50a050",
   "metadata": {},
   "outputs": [],
   "source": [
    "from torch import nn\n",
    "\n",
    "net = nn.Sequential(nn.Linear(2,1))"
   ]
  },
  {
   "cell_type": "code",
   "execution_count": 20,
   "id": "80f8c28d",
   "metadata": {},
   "outputs": [
    {
     "data": {
      "text/plain": [
       "tensor([0.])"
      ]
     },
     "execution_count": 20,
     "metadata": {},
     "output_type": "execute_result"
    }
   ],
   "source": [
    "#모델 파라미터 초기화\n",
    "net[0].weight.data.normal_(0, 0.01)\n",
    "net[0].bias.data.fill_(0)"
   ]
  },
  {
   "cell_type": "code",
   "execution_count": 21,
   "id": "9285f31f",
   "metadata": {},
   "outputs": [],
   "source": [
    "loss = nn.MSELoss()"
   ]
  },
  {
   "cell_type": "code",
   "execution_count": 22,
   "id": "f735d351",
   "metadata": {},
   "outputs": [],
   "source": [
    "trainer = torch.optim.SGD(net.parameters(), lr=0.01)"
   ]
  },
  {
   "cell_type": "code",
   "execution_count": 23,
   "id": "31dc9228",
   "metadata": {},
   "outputs": [
    {
     "name": "stdout",
     "output_type": "stream",
     "text": [
      "epoch 1, loss 0.718934\n",
      "epoch 2, loss 0.012894\n",
      "epoch 3, loss 0.000345\n"
     ]
    }
   ],
   "source": [
    "num_epochs = 3\n",
    "for epoch in range(num_epochs):\n",
    "    for X, y in data_iter:\n",
    "        l = loss(net(X),y)\n",
    "        trainer.zero_grad()\n",
    "        l.backward()\n",
    "        trainer.step()\n",
    "    l = loss(net(features), labels)\n",
    "    print(f'epoch {epoch + 1}, loss {l:f}')"
   ]
  },
  {
   "cell_type": "code",
   "execution_count": 24,
   "id": "a434af7e",
   "metadata": {},
   "outputs": [
    {
     "name": "stdout",
     "output_type": "stream",
     "text": [
      "error in estimating w: tensor([ 0.0058, -0.0078])\n",
      "error in estimating b: tensor([0.0126])\n"
     ]
    }
   ],
   "source": [
    "w = net[0].weight.data\n",
    "print('error in estimating w:', true_w - w.reshape(true_w.shape))\n",
    "b = net[0].bias.data\n",
    "print('error in estimating b:', true_b - b)"
   ]
  },
  {
   "cell_type": "code",
   "execution_count": null,
   "id": "833f143b",
   "metadata": {},
   "outputs": [],
   "source": []
  }
 ],
 "metadata": {
  "kernelspec": {
   "display_name": "1주차_이서연",
   "language": "python",
   "name": "pytorch"
  },
  "language_info": {
   "codemirror_mode": {
    "name": "ipython",
    "version": 3
   },
   "file_extension": ".py",
   "mimetype": "text/x-python",
   "name": "python",
   "nbconvert_exporter": "python",
   "pygments_lexer": "ipython3",
   "version": "3.6.13"
  }
 },
 "nbformat": 4,
 "nbformat_minor": 5
}
