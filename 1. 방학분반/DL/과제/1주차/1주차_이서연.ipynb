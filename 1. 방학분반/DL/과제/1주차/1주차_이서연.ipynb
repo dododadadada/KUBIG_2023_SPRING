{
 "cells": [
  {
   "cell_type": "markdown",
   "metadata": {
    "id": "YffDGVSIxijw"
   },
   "source": [
    "#1주차 과제\n",
    "- 파이토치 시작하기 및 간단한 코드 빈칸 채워넣기"
   ]
  },
  {
   "cell_type": "markdown",
   "metadata": {
    "id": "MivAstLj4EpN"
   },
   "source": [
    "#파이토치 시작하기"
   ]
  },
  {
   "cell_type": "markdown",
   "metadata": {
    "id": "XE4yLA7N4TwG"
   },
   "source": [
    "파이토치 시작하기"
   ]
  },
  {
   "cell_type": "code",
   "execution_count": 1,
   "metadata": {
    "id": "BS39ZJTi4CD0"
   },
   "outputs": [],
   "source": [
    "import torch "
   ]
  },
  {
   "cell_type": "markdown",
   "metadata": {
    "id": "ixz0WyWH4kSJ"
   },
   "source": [
    "- tensor 개념 파악 (array of numerical values(vector, matrix..))\n",
    "- 4x3 행렬 두개 만들고 행으로 병합, 열로 병합\n"
   ]
  },
  {
   "cell_type": "code",
   "execution_count": 2,
   "metadata": {
    "id": "OlLUsvmL4kEY"
   },
   "outputs": [
    {
     "name": "stdout",
     "output_type": "stream",
     "text": [
      "tensor([[0.1179, 0.5795, 0.3943],\n",
      "        [0.3408, 0.5232, 0.5308],\n",
      "        [0.1495, 0.4972, 0.3788],\n",
      "        [0.1279, 0.1870, 0.2663]])=X\n",
      "tensor([[0.0783, 0.7495, 0.8737],\n",
      "        [0.5146, 0.8272, 0.2541],\n",
      "        [0.5311, 0.4893, 0.2192],\n",
      "        [0.7457, 0.8080, 0.2778]])=Y\n",
      "tensor([[0.1179, 0.5795, 0.3943],\n",
      "        [0.3408, 0.5232, 0.5308],\n",
      "        [0.1495, 0.4972, 0.3788],\n",
      "        [0.1279, 0.1870, 0.2663],\n",
      "        [0.0783, 0.7495, 0.8737],\n",
      "        [0.5146, 0.8272, 0.2541],\n",
      "        [0.5311, 0.4893, 0.2192],\n",
      "        [0.7457, 0.8080, 0.2778]])\n",
      "tensor([[0.1179, 0.5795, 0.3943, 0.0783, 0.7495, 0.8737],\n",
      "        [0.3408, 0.5232, 0.5308, 0.5146, 0.8272, 0.2541],\n",
      "        [0.1495, 0.4972, 0.3788, 0.5311, 0.4893, 0.2192],\n",
      "        [0.1279, 0.1870, 0.2663, 0.7457, 0.8080, 0.2778]])\n"
     ]
    }
   ],
   "source": [
    "X = torch.rand(4,3)\n",
    "Y = torch.rand(4,3)\n",
    "print(f\"{X}=X\")\n",
    "print(f\"{Y}=Y\")\n",
    "row = torch.cat((X,Y),0)\n",
    "column = torch.cat((X,Y),1)\n",
    "print(row)\n",
    "print(column)\n",
    "###행으로 병합 코드\n",
    "###열로 병합 코드"
   ]
  },
  {
   "cell_type": "markdown",
   "metadata": {
    "id": "Gh-1LJliusEc"
   },
   "source": [
    "linear regression implementation from scratch\n",
    "- 머신러닝 기초와 비슷한 내용이지만 파이토치로 실행해보며 익숙해지는것이 목표\n"
   ]
  },
  {
   "cell_type": "code",
   "execution_count": 3,
   "metadata": {
    "id": "Ybbbqg8TqAVR"
   },
   "outputs": [
    {
     "name": "stdout",
     "output_type": "stream",
     "text": [
      "Requirement already satisfied: d2l in c:\\users\\candy\\anaconda3\\envs\\pytorch\\lib\\site-packages (0.17.0)\n",
      "Requirement already satisfied: requests in c:\\users\\candy\\anaconda3\\envs\\pytorch\\lib\\site-packages (from d2l) (2.27.1)\n",
      "Requirement already satisfied: matplotlib in c:\\users\\candy\\anaconda3\\envs\\pytorch\\lib\\site-packages (from d2l) (3.3.4)\n",
      "Requirement already satisfied: jupyter in c:\\users\\candy\\anaconda3\\envs\\pytorch\\lib\\site-packages (from d2l) (1.0.0)\n",
      "Requirement already satisfied: pandas in c:\\users\\candy\\anaconda3\\envs\\pytorch\\lib\\site-packages (from d2l) (1.1.5)\n",
      "Requirement already satisfied: numpy in c:\\users\\candy\\anaconda3\\envs\\pytorch\\lib\\site-packages (from d2l) (1.19.2)\n",
      "Requirement already satisfied: qtconsole in c:\\users\\candy\\anaconda3\\envs\\pytorch\\lib\\site-packages (from jupyter->d2l) (5.2.2)\n",
      "Requirement already satisfied: ipywidgets in c:\\users\\candy\\anaconda3\\envs\\pytorch\\lib\\site-packages (from jupyter->d2l) (7.7.2)\n",
      "Requirement already satisfied: jupyter-console in c:\\users\\candy\\anaconda3\\envs\\pytorch\\lib\\site-packages (from jupyter->d2l) (6.4.3)\n",
      "Requirement already satisfied: ipykernel in c:\\users\\candy\\anaconda3\\envs\\pytorch\\lib\\site-packages (from jupyter->d2l) (5.5.6)\n",
      "Requirement already satisfied: nbconvert in c:\\users\\candy\\anaconda3\\envs\\pytorch\\lib\\site-packages (from jupyter->d2l) (6.0.7)\n",
      "Requirement already satisfied: notebook in c:\\users\\candy\\anaconda3\\envs\\pytorch\\lib\\site-packages (from jupyter->d2l) (6.4.10)\n",
      "Requirement already satisfied: traitlets>=4.1.0 in c:\\users\\candy\\anaconda3\\envs\\pytorch\\lib\\site-packages (from ipykernel->jupyter->d2l) (4.3.3)\n",
      "Requirement already satisfied: jupyter-client in c:\\users\\candy\\anaconda3\\envs\\pytorch\\lib\\site-packages (from ipykernel->jupyter->d2l) (7.1.2)\n",
      "Requirement already satisfied: ipython-genutils in c:\\users\\candy\\anaconda3\\envs\\pytorch\\lib\\site-packages (from ipykernel->jupyter->d2l) (0.2.0)\n",
      "Requirement already satisfied: tornado>=4.2 in c:\\users\\candy\\anaconda3\\envs\\pytorch\\lib\\site-packages (from ipykernel->jupyter->d2l) (6.1)\n",
      "Requirement already satisfied: ipython>=5.0.0 in c:\\users\\candy\\anaconda3\\envs\\pytorch\\lib\\site-packages (from ipykernel->jupyter->d2l) (7.16.3)\n",
      "Requirement already satisfied: pygments in c:\\users\\candy\\anaconda3\\envs\\pytorch\\lib\\site-packages (from ipython>=5.0.0->ipykernel->jupyter->d2l) (2.14.0)\n",
      "Requirement already satisfied: pickleshare in c:\\users\\candy\\anaconda3\\envs\\pytorch\\lib\\site-packages (from ipython>=5.0.0->ipykernel->jupyter->d2l) (0.7.5)\n",
      "Requirement already satisfied: setuptools>=18.5 in c:\\users\\candy\\anaconda3\\envs\\pytorch\\lib\\site-packages (from ipython>=5.0.0->ipykernel->jupyter->d2l) (58.0.4)\n",
      "Requirement already satisfied: colorama in c:\\users\\candy\\anaconda3\\envs\\pytorch\\lib\\site-packages (from ipython>=5.0.0->ipykernel->jupyter->d2l) (0.4.5)\n",
      "Requirement already satisfied: prompt-toolkit!=3.0.0,!=3.0.1,<3.1.0,>=2.0.0 in c:\\users\\candy\\anaconda3\\envs\\pytorch\\lib\\site-packages (from ipython>=5.0.0->ipykernel->jupyter->d2l) (3.0.36)\n",
      "Requirement already satisfied: jedi<=0.17.2,>=0.10 in c:\\users\\candy\\anaconda3\\envs\\pytorch\\lib\\site-packages (from ipython>=5.0.0->ipykernel->jupyter->d2l) (0.17.2)\n",
      "Requirement already satisfied: backcall in c:\\users\\candy\\anaconda3\\envs\\pytorch\\lib\\site-packages (from ipython>=5.0.0->ipykernel->jupyter->d2l) (0.2.0)\n",
      "Requirement already satisfied: decorator in c:\\users\\candy\\anaconda3\\envs\\pytorch\\lib\\site-packages (from ipython>=5.0.0->ipykernel->jupyter->d2l) (5.1.1)\n",
      "Requirement already satisfied: parso<0.8.0,>=0.7.0 in c:\\users\\candy\\anaconda3\\envs\\pytorch\\lib\\site-packages (from jedi<=0.17.2,>=0.10->ipython>=5.0.0->ipykernel->jupyter->d2l) (0.7.1)\n",
      "Requirement already satisfied: wcwidth in c:\\users\\candy\\anaconda3\\envs\\pytorch\\lib\\site-packages (from prompt-toolkit!=3.0.0,!=3.0.1,<3.1.0,>=2.0.0->ipython>=5.0.0->ipykernel->jupyter->d2l) (0.2.6)\n",
      "Requirement already satisfied: six in c:\\users\\candy\\anaconda3\\envs\\pytorch\\lib\\site-packages (from traitlets>=4.1.0->ipykernel->jupyter->d2l) (1.16.0)\n",
      "Requirement already satisfied: widgetsnbextension~=3.6.0 in c:\\users\\candy\\anaconda3\\envs\\pytorch\\lib\\site-packages (from ipywidgets->jupyter->d2l) (3.6.1)\n",
      "Requirement already satisfied: jupyterlab-widgets<3,>=1.0.0 in c:\\users\\candy\\anaconda3\\envs\\pytorch\\lib\\site-packages (from ipywidgets->jupyter->d2l) (1.1.1)\n",
      "Requirement already satisfied: prometheus-client in c:\\users\\candy\\anaconda3\\envs\\pytorch\\lib\\site-packages (from notebook->jupyter->d2l) (0.15.0)\n",
      "Requirement already satisfied: jinja2 in c:\\users\\candy\\anaconda3\\envs\\pytorch\\lib\\site-packages (from notebook->jupyter->d2l) (3.0.3)\n",
      "Requirement already satisfied: nbformat in c:\\users\\candy\\anaconda3\\envs\\pytorch\\lib\\site-packages (from notebook->jupyter->d2l) (5.1.3)\n",
      "Requirement already satisfied: nest-asyncio>=1.5 in c:\\users\\candy\\anaconda3\\envs\\pytorch\\lib\\site-packages (from notebook->jupyter->d2l) (1.5.6)\n",
      "Requirement already satisfied: pyzmq>=17 in c:\\users\\candy\\anaconda3\\envs\\pytorch\\lib\\site-packages (from notebook->jupyter->d2l) (25.0.0)\n",
      "Requirement already satisfied: jupyter-core>=4.6.1 in c:\\users\\candy\\anaconda3\\envs\\pytorch\\lib\\site-packages (from notebook->jupyter->d2l) (4.9.2)\n",
      "Requirement already satisfied: terminado>=0.8.3 in c:\\users\\candy\\anaconda3\\envs\\pytorch\\lib\\site-packages (from notebook->jupyter->d2l) (0.12.1)\n",
      "Requirement already satisfied: argon2-cffi in c:\\users\\candy\\anaconda3\\envs\\pytorch\\lib\\site-packages (from notebook->jupyter->d2l) (21.3.0)\n",
      "Requirement already satisfied: Send2Trash>=1.8.0 in c:\\users\\candy\\anaconda3\\envs\\pytorch\\lib\\site-packages (from notebook->jupyter->d2l) (1.8.0)\n",
      "Requirement already satisfied: python-dateutil>=2.1 in c:\\users\\candy\\anaconda3\\envs\\pytorch\\lib\\site-packages (from jupyter-client->ipykernel->jupyter->d2l) (2.8.2)\n",
      "Requirement already satisfied: entrypoints in c:\\users\\candy\\anaconda3\\envs\\pytorch\\lib\\site-packages (from jupyter-client->ipykernel->jupyter->d2l) (0.4)\n",
      "Requirement already satisfied: pywin32>=1.0 in c:\\users\\candy\\anaconda3\\envs\\pytorch\\lib\\site-packages (from jupyter-core>=4.6.1->notebook->jupyter->d2l) (305)\n",
      "Requirement already satisfied: mistune<2,>=0.8.1 in c:\\users\\candy\\anaconda3\\envs\\pytorch\\lib\\site-packages (from nbconvert->jupyter->d2l) (0.8.4)\n",
      "Requirement already satisfied: bleach in c:\\users\\candy\\anaconda3\\envs\\pytorch\\lib\\site-packages (from nbconvert->jupyter->d2l) (4.1.0)\n",
      "Requirement already satisfied: testpath in c:\\users\\candy\\anaconda3\\envs\\pytorch\\lib\\site-packages (from nbconvert->jupyter->d2l) (0.6.0)\n",
      "Requirement already satisfied: nbclient<0.6.0,>=0.5.0 in c:\\users\\candy\\anaconda3\\envs\\pytorch\\lib\\site-packages (from nbconvert->jupyter->d2l) (0.5.9)\n",
      "Requirement already satisfied: defusedxml in c:\\users\\candy\\anaconda3\\envs\\pytorch\\lib\\site-packages (from nbconvert->jupyter->d2l) (0.7.1)\n",
      "Requirement already satisfied: jupyterlab-pygments in c:\\users\\candy\\anaconda3\\envs\\pytorch\\lib\\site-packages (from nbconvert->jupyter->d2l) (0.1.2)\n",
      "Requirement already satisfied: pandocfilters>=1.4.1 in c:\\users\\candy\\anaconda3\\envs\\pytorch\\lib\\site-packages (from nbconvert->jupyter->d2l) (1.5.0)\n",
      "Requirement already satisfied: MarkupSafe>=2.0 in c:\\users\\candy\\anaconda3\\envs\\pytorch\\lib\\site-packages (from jinja2->notebook->jupyter->d2l) (2.0.1)\n",
      "Requirement already satisfied: async-generator in c:\\users\\candy\\anaconda3\\envs\\pytorch\\lib\\site-packages (from nbclient<0.6.0,>=0.5.0->nbconvert->jupyter->d2l) (1.10)\n",
      "Requirement already satisfied: jsonschema!=2.5.0,>=2.4 in c:\\users\\candy\\anaconda3\\envs\\pytorch\\lib\\site-packages (from nbformat->notebook->jupyter->d2l) (3.2.0)\n",
      "Requirement already satisfied: attrs>=17.4.0 in c:\\users\\candy\\anaconda3\\envs\\pytorch\\lib\\site-packages (from jsonschema!=2.5.0,>=2.4->nbformat->notebook->jupyter->d2l) (22.2.0)\n",
      "Requirement already satisfied: importlib-metadata in c:\\users\\candy\\anaconda3\\envs\\pytorch\\lib\\site-packages (from jsonschema!=2.5.0,>=2.4->nbformat->notebook->jupyter->d2l) (4.8.3)\n",
      "Requirement already satisfied: pyrsistent>=0.14.0 in c:\\users\\candy\\anaconda3\\envs\\pytorch\\lib\\site-packages (from jsonschema!=2.5.0,>=2.4->nbformat->notebook->jupyter->d2l) (0.18.0)\n",
      "Requirement already satisfied: pywinpty>=1.1.0 in c:\\users\\candy\\anaconda3\\envs\\pytorch\\lib\\site-packages (from terminado>=0.8.3->notebook->jupyter->d2l) (1.1.6)\n",
      "Requirement already satisfied: argon2-cffi-bindings in c:\\users\\candy\\anaconda3\\envs\\pytorch\\lib\\site-packages (from argon2-cffi->notebook->jupyter->d2l) (21.2.0)\n",
      "Requirement already satisfied: typing-extensions in c:\\users\\candy\\anaconda3\\envs\\pytorch\\lib\\site-packages (from argon2-cffi->notebook->jupyter->d2l) (4.1.1)\n",
      "Requirement already satisfied: dataclasses in c:\\users\\candy\\anaconda3\\envs\\pytorch\\lib\\site-packages (from argon2-cffi->notebook->jupyter->d2l) (0.8)\n",
      "Requirement already satisfied: cffi>=1.0.1 in c:\\users\\candy\\anaconda3\\envs\\pytorch\\lib\\site-packages (from argon2-cffi-bindings->argon2-cffi->notebook->jupyter->d2l) (1.15.1)\n",
      "Requirement already satisfied: pycparser in c:\\users\\candy\\anaconda3\\envs\\pytorch\\lib\\site-packages (from cffi>=1.0.1->argon2-cffi-bindings->argon2-cffi->notebook->jupyter->d2l) (2.21)\n",
      "Requirement already satisfied: packaging in c:\\users\\candy\\anaconda3\\envs\\pytorch\\lib\\site-packages (from bleach->nbconvert->jupyter->d2l) (21.3)\n",
      "Requirement already satisfied: webencodings in c:\\users\\candy\\anaconda3\\envs\\pytorch\\lib\\site-packages (from bleach->nbconvert->jupyter->d2l) (0.5.1)\n",
      "Requirement already satisfied: zipp>=0.5 in c:\\users\\candy\\anaconda3\\envs\\pytorch\\lib\\site-packages (from importlib-metadata->jsonschema!=2.5.0,>=2.4->nbformat->notebook->jupyter->d2l) (3.6.0)\n",
      "Requirement already satisfied: pillow>=6.2.0 in c:\\users\\candy\\anaconda3\\envs\\pytorch\\lib\\site-packages (from matplotlib->d2l) (8.3.1)\n",
      "Requirement already satisfied: cycler>=0.10 in c:\\users\\candy\\anaconda3\\envs\\pytorch\\lib\\site-packages (from matplotlib->d2l) (0.11.0)\n",
      "Requirement already satisfied: kiwisolver>=1.0.1 in c:\\users\\candy\\anaconda3\\envs\\pytorch\\lib\\site-packages (from matplotlib->d2l) (1.3.1)\n",
      "Requirement already satisfied: pyparsing!=2.0.4,!=2.1.2,!=2.1.6,>=2.0.3 in c:\\users\\candy\\anaconda3\\envs\\pytorch\\lib\\site-packages (from matplotlib->d2l) (3.0.9)\n",
      "Requirement already satisfied: pytz>=2017.2 in c:\\users\\candy\\anaconda3\\envs\\pytorch\\lib\\site-packages (from pandas->d2l) (2022.7.1)\n",
      "Requirement already satisfied: qtpy in c:\\users\\candy\\anaconda3\\envs\\pytorch\\lib\\site-packages (from qtconsole->jupyter->d2l) (2.0.1)\n",
      "Requirement already satisfied: charset-normalizer~=2.0.0 in c:\\users\\candy\\anaconda3\\envs\\pytorch\\lib\\site-packages (from requests->d2l) (2.0.12)\n",
      "Requirement already satisfied: urllib3<1.27,>=1.21.1 in c:\\users\\candy\\anaconda3\\envs\\pytorch\\lib\\site-packages (from requests->d2l) (1.26.14)\n",
      "Requirement already satisfied: idna<4,>=2.5 in c:\\users\\candy\\anaconda3\\envs\\pytorch\\lib\\site-packages (from requests->d2l) (3.4)\n",
      "Requirement already satisfied: certifi>=2017.4.17 in c:\\users\\candy\\anaconda3\\envs\\pytorch\\lib\\site-packages (from requests->d2l) (2021.5.30)\n"
     ]
    }
   ],
   "source": [
    "!pip install d2l"
   ]
  },
  {
   "cell_type": "code",
   "execution_count": 4,
   "metadata": {
    "id": "YyWEB6e3FKYY"
   },
   "outputs": [],
   "source": [
    "%matplotlib inline\n",
    "import random\n",
    "import torch\n",
    "from d2l import torch as d2l"
   ]
  },
  {
   "cell_type": "code",
   "execution_count": 5,
   "metadata": {
    "id": "exWjbVn2v3CT"
   },
   "outputs": [],
   "source": [
    "def synthetic_data(w, b, num_examples):\n",
    "    \"\"\"Generate y = Xw + b + noise.\"\"\"\n",
    "    X = torch.normal(0, 1, (num_examples, len(w)))\n",
    "    y = torch.matmul(X, w) + b\n",
    "    y += torch.normal(0, 0.01, y.shape)\n",
    "    return X, y.reshape((-1, 1))\n",
    "\n",
    "true_w = torch.tensor([3, -1.5])\n",
    "true_b = 5.5\n",
    "features, labels = synthetic_data(true_w, true_b, 2000)"
   ]
  },
  {
   "cell_type": "code",
   "execution_count": 6,
   "metadata": {
    "id": "5UcjckXPv6iy"
   },
   "outputs": [
    {
     "name": "stdout",
     "output_type": "stream",
     "text": [
      "features: tensor([ 0.3404, -0.7512]) \n",
      "label: tensor([7.6444])\n"
     ]
    }
   ],
   "source": [
    "print('features:', features[0],'\\nlabel:', labels[0])"
   ]
  },
  {
   "cell_type": "code",
   "execution_count": 7,
   "metadata": {
    "id": "jLY6YR5Zv_gO"
   },
   "outputs": [],
   "source": [
    "def data_iter(batch_size, features, labels):\n",
    "    num_examples = len(features)\n",
    "    indices = list(range(num_examples))\n",
    "    # The examples are read at random, in no particular order\n",
    "    random.shuffle(indices)\n",
    "     ###반복문으로 채워넣기:\n",
    "    for i in range(0, num_examples, batch_size):\n",
    "        batch_indices = torch.tensor(\n",
    "            indices[i: min(i + batch_size, num_examples)])\n",
    "        yield features[batch_indices], labels[batch_indices]"
   ]
  },
  {
   "cell_type": "code",
   "execution_count": 8,
   "metadata": {
    "id": "zuxxEAvdwA7p"
   },
   "outputs": [
    {
     "name": "stdout",
     "output_type": "stream",
     "text": [
      "tensor([[-0.7042, -0.2494],\n",
      "        [ 2.9629, -0.4036],\n",
      "        [ 1.4711,  1.1113],\n",
      "        [ 0.2091,  0.3210],\n",
      "        [-0.1880, -1.4919],\n",
      "        [ 0.5815, -0.8305],\n",
      "        [-0.3130,  1.6425],\n",
      "        [ 1.4553,  0.3216],\n",
      "        [ 0.8851, -0.0410],\n",
      "        [-0.1053, -0.6998],\n",
      "        [-0.3829,  1.4561],\n",
      "        [-1.0050,  0.6773],\n",
      "        [ 0.6253, -0.1852],\n",
      "        [-0.4015,  2.1585],\n",
      "        [-0.3425, -1.0352],\n",
      "        [-2.0886, -1.8196],\n",
      "        [-0.2316,  0.8245],\n",
      "        [ 0.6810,  1.3052],\n",
      "        [ 0.8162,  0.4389],\n",
      "        [-1.9429, -1.8976]]) \n",
      " tensor([[ 3.7645],\n",
      "        [14.9962],\n",
      "        [ 8.2354],\n",
      "        [ 5.6370],\n",
      "        [ 7.1770],\n",
      "        [ 8.4874],\n",
      "        [ 2.1088],\n",
      "        [ 9.3900],\n",
      "        [ 8.2134],\n",
      "        [ 6.2236],\n",
      "        [ 2.1607],\n",
      "        [ 1.4633],\n",
      "        [ 7.6685],\n",
      "        [ 1.0488],\n",
      "        [ 6.0230],\n",
      "        [ 1.9630],\n",
      "        [ 3.5656],\n",
      "        [ 5.5752],\n",
      "        [ 7.2830],\n",
      "        [ 2.5082]])\n"
     ]
    }
   ],
   "source": [
    "batch_size = 20\n",
    "\n",
    "for X, y in data_iter(batch_size, features, labels):\n",
    "    print(X, '\\n', y)\n",
    "    break"
   ]
  },
  {
   "cell_type": "code",
   "execution_count": 9,
   "metadata": {
    "id": "f_yHcVYEwCHq"
   },
   "outputs": [],
   "source": [
    "w = torch.normal(0, 0.01, size=(2,1), requires_grad=True)\n",
    "b = torch.tensor([1.0],requires_grad=True)#원하는 실수를 넣어주세요"
   ]
  },
  {
   "cell_type": "code",
   "execution_count": 10,
   "metadata": {
    "id": "wOT4gBtZwDVA"
   },
   "outputs": [],
   "source": [
    "def linreg(X, w, b):\n",
    "    \"\"\"The linear regression model.\"\"\"\n",
    "    return torch.matmul(X, w) + b"
   ]
  },
  {
   "cell_type": "code",
   "execution_count": 11,
   "metadata": {
    "id": "WFYMJrrSwE5R"
   },
   "outputs": [],
   "source": [
    "def squared_loss(y_hat, y):  \n",
    "    \"\"\"Squared loss.\"\"\"\n",
    "    return (y_hat-y.reshape(y_hat.shape))**2/2"
   ]
  },
  {
   "cell_type": "code",
   "execution_count": 12,
   "metadata": {
    "id": "MXD0qP8PwIn0"
   },
   "outputs": [],
   "source": [
    "def sgd(params, lr, batch_size):\n",
    "    \"\"\"Minibatch stochastic gradient descent.\"\"\"\n",
    "    with torch.no_grad():\n",
    "        for param in params:\n",
    "            param -= lr * param.grad / batch_size \n",
    "            param.grad.zero_()\n",
    "        ###반복문으로 채워넣기"
   ]
  },
  {
   "cell_type": "code",
   "execution_count": 14,
   "metadata": {
    "id": "pS_hm3J8wJ4z"
   },
   "outputs": [
    {
     "name": "stdout",
     "output_type": "stream",
     "text": [
      "epoch 1, loss 2.117601\n",
      "epoch 2, loss 0.286933\n",
      "epoch 3, loss 0.038988\n",
      "epoch 4, loss 0.005344\n",
      "epoch 5, loss 0.000771\n",
      "epoch 6, loss 0.000147\n",
      "epoch 7, loss 0.000063\n",
      "epoch 8, loss 0.000051\n",
      "epoch 9, loss 0.000049\n",
      "epoch 10, loss 0.000049\n",
      "epoch 11, loss 0.000049\n",
      "epoch 12, loss 0.000049\n",
      "epoch 13, loss 0.000049\n",
      "epoch 14, loss 0.000049\n",
      "epoch 15, loss 0.000049\n",
      "epoch 16, loss 0.000049\n",
      "epoch 17, loss 0.000049\n",
      "epoch 18, loss 0.000049\n",
      "epoch 19, loss 0.000049\n",
      "epoch 20, loss 0.000049\n"
     ]
    }
   ],
   "source": [
    "lr = 0.01 ###직접 설정\n",
    "num_epochs = 20 ###직접 설정\n",
    "net = linreg ###위에서 가져오기\n",
    "loss = squared_loss ###위에서 가져오기\n",
    "\n",
    "for epoch in range(num_epochs):\n",
    "    for X, y in data_iter(batch_size, features, labels):\n",
    "        l = loss(net(X,w,b),y)\n",
    "        # Compute gradient on `l` with respect to [`w`, `b`]\n",
    "        l.sum().backward()\n",
    "        sgd([w, b], lr, batch_size) \n",
    "    with torch.no_grad():\n",
    "        train_l = loss(net(features, w, b), labels)\n",
    "        print(f'epoch {epoch + 1}, loss {float(train_l.mean()):f}')"
   ]
  },
  {
   "cell_type": "code",
   "execution_count": 15,
   "metadata": {
    "id": "u_WSAjwNwMEY"
   },
   "outputs": [
    {
     "name": "stdout",
     "output_type": "stream",
     "text": [
      "error in estimating w: tensor([-0.0002,  0.0002], grad_fn=<SubBackward0>)\n",
      "error in estimating b: tensor([0.0001], grad_fn=<RsubBackward1>)\n"
     ]
    }
   ],
   "source": [
    "print(f'error in estimating w: {true_w - w.reshape(true_w.shape)}')\n",
    "print(f'error in estimating b: {true_b - b}')"
   ]
  },
  {
   "cell_type": "markdown",
   "metadata": {
    "id": "tDSteRKdREC9"
   },
   "source": [
    "+cost graph 그리기 (x축 w, y축 loss)"
   ]
  },
  {
   "cell_type": "code",
   "execution_count": 16,
   "metadata": {
    "id": "13ySyXh7RMcn"
   },
   "outputs": [
    {
     "name": "stderr",
     "output_type": "stream",
     "text": [
      "C:\\Users\\candy\\anaconda3\\envs\\pytorch\\lib\\site-packages\\ipykernel_launcher.py:12: UserWarning: To copy construct from a tensor, it is recommended to use sourceTensor.clone().detach() or sourceTensor.clone().detach().requires_grad_(True), rather than torch.tensor(sourceTensor).\n",
      "  if sys.path[0] == '':\n"
     ]
    },
    {
     "name": "stdout",
     "output_type": "stream",
     "text": [
      "epoch 1, loss 2.129729\n",
      "epoch 2, loss 0.288607\n",
      "epoch 3, loss 0.039221\n",
      "epoch 4, loss 0.005367\n",
      "epoch 5, loss 0.000775\n",
      "epoch 6, loss 0.000149\n",
      "epoch 7, loss 0.000063\n",
      "epoch 8, loss 0.000051\n",
      "epoch 9, loss 0.000049\n",
      "epoch 10, loss 0.000049\n",
      "epoch 11, loss 0.000049\n",
      "epoch 12, loss 0.000049\n",
      "epoch 13, loss 0.000049\n",
      "epoch 14, loss 0.000049\n",
      "epoch 15, loss 0.000049\n",
      "epoch 16, loss 0.000049\n",
      "epoch 17, loss 0.000049\n",
      "epoch 18, loss 0.000049\n",
      "epoch 19, loss 0.000049\n",
      "epoch 20, loss 0.000049\n"
     ]
    }
   ],
   "source": [
    "w = torch.normal(0, 0.01, size=(2,1), requires_grad=True)\n",
    "b = torch.tensor([1.0],requires_grad=True) \n",
    "\n",
    "lr = 0.01  \n",
    "num_epochs = 20 \n",
    "net = linreg \n",
    "loss = squared_loss  \n",
    "\n",
    "w_list = []\n",
    "loss_list = []\n",
    "for epoch in range(num_epochs):\n",
    "    w_list.append(torch.tensor(w))\n",
    "    for X, y in data_iter(batch_size, features, labels):\n",
    "        l = loss(net(X,w,b),y) \n",
    "        # Compute gradient on `l` with respect to [`w`, `b`]\n",
    "        l.sum().backward()\n",
    "        sgd([w, b], lr, batch_size) \n",
    "         \n",
    "    with torch.no_grad():\n",
    "        train_l = loss(net(features, w, b), labels)\n",
    "        print(f'epoch {epoch + 1}, loss {float(train_l.mean()):f}' )\n",
    "        loss_list.append(train_l.mean())"
   ]
  },
  {
   "cell_type": "code",
   "execution_count": 32,
   "metadata": {},
   "outputs": [
    {
     "name": "stdout",
     "output_type": "stream",
     "text": [
      "[tensor([[-0.0248],\n",
      "        [ 0.0018]]), tensor([[ 1.8540],\n",
      "        [-0.9503]]), tensor([[ 2.5656],\n",
      "        [-1.2985]]), tensor([[ 2.8354],\n",
      "        [-1.4259]]), tensor([[ 2.9378],\n",
      "        [-1.4728]]), tensor([[ 2.9765],\n",
      "        [-1.4900]]), tensor([[ 2.9912],\n",
      "        [-1.4964]]), tensor([[ 2.9968],\n",
      "        [-1.4987]]), tensor([[ 2.9989],\n",
      "        [-1.4996]]), tensor([[ 2.9998],\n",
      "        [-1.5000]]), tensor([[ 3.0001],\n",
      "        [-1.5000]]), tensor([[ 3.0001],\n",
      "        [-1.5001]]), tensor([[ 3.0003],\n",
      "        [-1.5001]]), tensor([[ 3.0002],\n",
      "        [-1.5001]]), tensor([[ 3.0002],\n",
      "        [-1.5001]]), tensor([[ 3.0002],\n",
      "        [-1.5001]]), tensor([[ 3.0002],\n",
      "        [-1.5002]]), tensor([[ 3.0002],\n",
      "        [-1.5001]]), tensor([[ 3.0002],\n",
      "        [-1.5002]]), tensor([[ 3.0002],\n",
      "        [-1.5002]])]\n",
      "[tensor(2.1297), tensor(0.2886), tensor(0.0392), tensor(0.0054), tensor(0.0008), tensor(0.0001), tensor(6.2773e-05), tensor(5.1032e-05), tensor(4.9393e-05), tensor(4.9230e-05), tensor(4.9212e-05), tensor(4.9207e-05), tensor(4.9201e-05), tensor(4.9201e-05), tensor(4.9201e-05), tensor(4.9206e-05), tensor(4.9201e-05), tensor(4.9202e-05), tensor(4.9202e-05), tensor(4.9208e-05)]\n"
     ]
    }
   ],
   "source": [
    "print(w_list)\n",
    "print(loss_list)"
   ]
  },
  {
   "cell_type": "code",
   "execution_count": 33,
   "metadata": {},
   "outputs": [
    {
     "name": "stdout",
     "output_type": "stream",
     "text": [
      "[tensor([[-0.0248],\n",
      "        [ 0.0018]]), tensor([[ 1.8540],\n",
      "        [-0.9503]]), tensor([[ 2.5656],\n",
      "        [-1.2985]])]\n"
     ]
    }
   ],
   "source": [
    "w0_list=[]\n",
    "for i in range(num_epochs):\n",
    "    w0_list.append(w_list[i])\n",
    "print(w0_list)"
   ]
  },
  {
   "cell_type": "code",
   "execution_count": 26,
   "metadata": {},
   "outputs": [
    {
     "data": {
      "image/png": "[encoded data removed]",
      "text/plain": [
       "<Figure size 648x432 with 1 Axes>"
      ]
     },
     "metadata": {
      "needs_background": "light"
     },
     "output_type": "display_data"
    }
   ],
   "source": [
    "import matplotlib.pyplot as plt\n",
    "from mpl_toolkits.mplot3d import Axes3D\n",
    "import numpy as np\n",
    "\n",
    "fig = plt.figure(figsize=(9,6))\n",
    "ax = fig.add_subplot(111, projection='3d')\n",
    "\n",
    "x = np.array() \n",
    "y = np.array() \n",
    "z = np.array() \n",
    "\n",
    "#https://jimmy-ai.tistory.com/30 참조"
   ]
  },
  {
   "cell_type": "markdown",
   "metadata": {
    "id": "WSKKAGx4wNd4"
   },
   "source": [
    "concise implementation of linear regression \n",
    "- api 사용해보기"
   ]
  },
  {
   "cell_type": "code",
   "execution_count": 17,
   "metadata": {
    "id": "CWiOlkzKxEkf"
   },
   "outputs": [],
   "source": [
    "import numpy as np\n",
    "import torch\n",
    "from torch.utils import data\n",
    "from d2l import torch as d2l\n",
    "\n",
    "\n",
    "true_w = torch.tensor([3, -1.5])\n",
    "true_b = 5.5\n",
    "features, labels = d2l.synthetic_data(true_w, true_b, 2000)"
   ]
  },
  {
   "cell_type": "code",
   "execution_count": 18,
   "metadata": {
    "id": "F5tRyjkmxGUe"
   },
   "outputs": [],
   "source": [
    "def load_array(data_arrays, batch_size, is_train=True): \n",
    "    \"\"\"Construct a PyTorch data iterator.\"\"\"\n",
    "    dataset = data.TensorDataset(*data_arrays)\n",
    "    return data.DataLoader(dataset, batch_size, shuffle=is_train)\n",
    "\n",
    "batch_size = 20\n",
    "data_iter = load_array((features, labels), batch_size)"
   ]
  },
  {
   "cell_type": "code",
   "execution_count": 19,
   "metadata": {
    "id": "NBaqnZG4xHgP"
   },
   "outputs": [
    {
     "data": {
      "text/plain": [
       "[tensor([[ 0.1457, -0.6405],\n",
       "         [-0.9733, -0.1248],\n",
       "         [-0.4334, -2.1630],\n",
       "         [-1.8143, -0.2806],\n",
       "         [-0.2666, -0.1844],\n",
       "         [ 0.6963, -0.5218],\n",
       "         [-0.4952, -0.2754],\n",
       "         [ 0.5972, -0.0750],\n",
       "         [-1.0094, -0.0338],\n",
       "         [-1.2391, -0.4006],\n",
       "         [-0.2575, -1.1271],\n",
       "         [ 0.2915,  0.1317],\n",
       "         [ 0.5990,  0.0566],\n",
       "         [ 1.8786, -0.7737],\n",
       "         [ 0.7626, -0.7933],\n",
       "         [ 1.6840,  1.7051],\n",
       "         [-0.2532,  0.1232],\n",
       "         [ 0.7357,  1.6321],\n",
       "         [-0.9803, -0.2330],\n",
       "         [-0.0220, -1.0585]]),\n",
       " tensor([[ 6.9046],\n",
       "         [ 2.7592],\n",
       "         [ 7.4704],\n",
       "         [ 0.4749],\n",
       "         [ 4.9890],\n",
       "         [ 8.3668],\n",
       "         [ 4.4330],\n",
       "         [ 7.4087],\n",
       "         [ 2.5203],\n",
       "         [ 2.3895],\n",
       "         [ 6.4144],\n",
       "         [ 6.1941],\n",
       "         [ 7.2040],\n",
       "         [12.2943],\n",
       "         [ 8.9787],\n",
       "         [ 7.9888],\n",
       "         [ 4.5463],\n",
       "         [ 5.2637],\n",
       "         [ 2.8950],\n",
       "         [ 7.0226]])]"
      ]
     },
     "execution_count": 19,
     "metadata": {},
     "output_type": "execute_result"
    }
   ],
   "source": [
    "next(iter(data_iter))"
   ]
  },
  {
   "cell_type": "code",
   "execution_count": 20,
   "metadata": {
    "id": "J_83KBFOxJFB"
   },
   "outputs": [],
   "source": [
    "from torch import nn\n",
    "\n",
    "net = nn.Sequential(nn.Linear(2,1))"
   ]
  },
  {
   "cell_type": "code",
   "execution_count": 21,
   "metadata": {
    "id": "AdJQQgFaxL2H"
   },
   "outputs": [
    {
     "data": {
      "text/plain": [
       "tensor([0.])"
      ]
     },
     "execution_count": 21,
     "metadata": {},
     "output_type": "execute_result"
    }
   ],
   "source": [
    "net[0].weight.data.normal_(0, 0.01)\n",
    "net[0].bias.data.fill_(0)"
   ]
  },
  {
   "cell_type": "code",
   "execution_count": 22,
   "metadata": {
    "id": "vSCAFyfAxNAn"
   },
   "outputs": [],
   "source": [
    "loss = nn.MSELoss()"
   ]
  },
  {
   "cell_type": "code",
   "execution_count": 23,
   "metadata": {
    "id": "_yee2wG1xOYW"
   },
   "outputs": [],
   "source": [
    "trainer = torch.optim.SGD(net.parameters(), lr=0.01)"
   ]
  },
  {
   "cell_type": "code",
   "execution_count": 24,
   "metadata": {
    "id": "5fAmW5bUxP9Z"
   },
   "outputs": [
    {
     "name": "stdout",
     "output_type": "stream",
     "text": [
      "epoch 1, loss 0.696527\n",
      "epoch 2, loss 0.011670\n",
      "epoch 3, loss 0.000289\n"
     ]
    }
   ],
   "source": [
    "num_epochs = 3\n",
    "for epoch in range(num_epochs):\n",
    "    for X, y in data_iter:\n",
    "        l = loss(net(X),y)\n",
    "        trainer.zero_grad()\n",
    "        l.backward()\n",
    "        trainer.step()\n",
    "    l = loss(net(features), labels)\n",
    "    print(f'epoch {epoch + 1}, loss {l:f}')"
   ]
  },
  {
   "cell_type": "code",
   "execution_count": 25,
   "metadata": {
    "id": "JT8VD6GhxR5m"
   },
   "outputs": [
    {
     "name": "stdout",
     "output_type": "stream",
     "text": [
      "error in estimating w: tensor([ 0.0054, -0.0039])\n",
      "error in estimating b: tensor([0.0116])\n"
     ]
    }
   ],
   "source": [
    "w = net[0].weight.data\n",
    "print('error in estimating w:', true_w - w.reshape(true_w.shape))\n",
    "b = net[0].bias.data\n",
    "print('error in estimating b:', true_b - b)"
   ]
  },
  {
   "cell_type": "code",
   "execution_count": null,
   "metadata": {},
   "outputs": [],
   "source": []
  }
 ],
 "metadata": {
  "colab": {
   "collapsed_sections": [],
   "name": "1주차 과제.ipynb",
   "provenance": []
  },
  "kernelspec": {
   "display_name": "Python 3",
   "language": "python",
   "name": "python3"
  },
  "language_info": {
   "codemirror_mode": {
    "name": "ipython",
    "version": 3
   },
   "file_extension": ".py",
   "mimetype": "text/x-python",
   "name": "python",
   "nbconvert_exporter": "python",
   "pygments_lexer": "ipython3",
   "version": "3.6.13"
  }
 },
 "nbformat": 4,
 "nbformat_minor": 1
}
