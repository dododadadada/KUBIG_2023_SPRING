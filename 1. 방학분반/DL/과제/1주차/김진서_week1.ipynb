{
  "cells": [
    {
      "cell_type": "markdown",
      "metadata": {
        "id": "YffDGVSIxijw"
      },
      "source": [
        "#1주차 과제\n",
        "- 파이토치 시작하기 및 간단한 코드 빈칸 채워넣기"
      ]
    },
    {
      "cell_type": "markdown",
      "metadata": {
        "id": "MivAstLj4EpN"
      },
      "source": [
        "#파이토치 시작하기"
      ]
    },
    {
      "cell_type": "markdown",
      "metadata": {
        "id": "XE4yLA7N4TwG"
      },
      "source": [
        "파이토치 시작하기"
      ]
    },
    {
      "cell_type": "code",
      "execution_count": 1,
      "metadata": {
        "id": "BS39ZJTi4CD0"
      },
      "outputs": [],
      "source": [
        "import torch "
      ]
    },
    {
      "cell_type": "markdown",
      "metadata": {
        "id": "ixz0WyWH4kSJ"
      },
      "source": [
        "- tensor 개념 파악 (array of numerical values(vector, matrix..))\n",
        "- 4x3 행렬 두개 만들고 행으로 병합, 열로 병합\n"
      ]
    },
    {
      "cell_type": "code",
      "source": [
        "import numpy as np\n",
        "import pandas as pd\n",
        "import random"
      ],
      "metadata": {
        "id": "p8B3LNPfq_63"
      },
      "execution_count": 2,
      "outputs": []
    },
    {
      "cell_type": "code",
      "source": [
        "np.random.seed(46)\n",
        "X = np.random.randint(10, size=(3, 4))\n",
        "Y = np.random.randint(10, size=(3, 4))\n",
        "print(np.concatenate((X, Y), axis=0))\n",
        "print(np.concatenate((X, Y), axis=1))"
      ],
      "metadata": {
        "colab": {
          "base_uri": "https://localhost:8080/"
        },
        "id": "djuyy3ajss7n",
        "outputId": "3e6ea8e7-7193-4e00-a4c8-80e4a170233a"
      },
      "execution_count": 3,
      "outputs": [
        {
          "output_type": "stream",
          "name": "stdout",
          "text": [
            "[[5 8 4 3]\n",
            " [2 0 2 8]\n",
            " [0 7 6 2]\n",
            " [2 2 2 6]\n",
            " [7 8 8 6]\n",
            " [0 2 4 8]]\n",
            "[[5 8 4 3 2 2 2 6]\n",
            " [2 0 2 8 7 8 8 6]\n",
            " [0 7 6 2 0 2 4 8]]\n"
          ]
        }
      ]
    },
    {
      "cell_type": "markdown",
      "source": [
        "Is equivalent as below: \n"
      ],
      "metadata": {
        "id": "DyCVokF7dwaZ"
      }
    },
    {
      "cell_type": "code",
      "source": [
        "random_seed = 46\n",
        "torch.manual_seed(random_seed)\n",
        "X=torch.rand(4, 3) \n",
        "Y=torch.rand(4, 3)\n",
        "print(torch.cat([X, Y], dim=0)) \n",
        "print(torch.cat([X, Y], dim=1))"
      ],
      "metadata": {
        "colab": {
          "base_uri": "https://localhost:8080/"
        },
        "id": "CheXhC9azpYb",
        "outputId": "ca0053df-7e3c-4d11-b7bf-a7cdcc4a8653"
      },
      "execution_count": 4,
      "outputs": [
        {
          "output_type": "stream",
          "name": "stdout",
          "text": [
            "tensor([[0.6611, 0.0600, 0.5174],\n",
            "        [0.1596, 0.7550, 0.8390],\n",
            "        [0.0674, 0.4631, 0.1477],\n",
            "        [0.3597, 0.9328, 0.0170],\n",
            "        [0.9736, 0.4108, 0.8620],\n",
            "        [0.8799, 0.6569, 0.8152],\n",
            "        [0.4810, 0.7388, 0.0312],\n",
            "        [0.7049, 0.7364, 0.1079]])\n",
            "tensor([[0.6611, 0.0600, 0.5174, 0.9736, 0.4108, 0.8620],\n",
            "        [0.1596, 0.7550, 0.8390, 0.8799, 0.6569, 0.8152],\n",
            "        [0.0674, 0.4631, 0.1477, 0.4810, 0.7388, 0.0312],\n",
            "        [0.3597, 0.9328, 0.0170, 0.7049, 0.7364, 0.1079]])\n"
          ]
        }
      ]
    },
    {
      "cell_type": "markdown",
      "metadata": {
        "id": "Gh-1LJliusEc"
      },
      "source": [
        "linear regression implementation from scratch\n",
        "- 머신러닝 기초와 비슷한 내용이지만 파이토치로 실행해보며 익숙해지는것이 목표\n"
      ]
    },
    {
      "cell_type": "code",
      "execution_count": 5,
      "metadata": {
        "id": "Ybbbqg8TqAVR",
        "colab": {
          "base_uri": "https://localhost:8080/"
        },
        "outputId": "077f9a72-c459-46e3-ff14-d0ad35093280"
      },
      "outputs": [
        {
          "output_type": "stream",
          "name": "stdout",
          "text": [
            "Looking in indexes: https://pypi.org/simple, https://us-python.pkg.dev/colab-wheels/public/simple/\n",
            "Collecting d2l\n",
            "  Downloading d2l-0.17.6-py3-none-any.whl (112 kB)\n",
            "\u001b[2K     \u001b[90m━━━━━━━━━━━━━━━━━━━━━━━━━━━━━━━━━━━━━━━\u001b[0m \u001b[32m112.6/112.6 KB\u001b[0m \u001b[31m4.0 MB/s\u001b[0m eta \u001b[36m0:00:00\u001b[0m\n",
            "\u001b[?25hRequirement already satisfied: requests==2.25.1 in /usr/local/lib/python3.8/dist-packages (from d2l) (2.25.1)\n",
            "Collecting numpy==1.21.5\n",
            "  Downloading numpy-1.21.5-cp38-cp38-manylinux_2_12_x86_64.manylinux2010_x86_64.whl (15.7 MB)\n",
            "\u001b[2K     \u001b[90m━━━━━━━━━━━━━━━━━━━━━━━━━━━━━━━━━━━━━━━━\u001b[0m \u001b[32m15.7/15.7 MB\u001b[0m \u001b[31m68.5 MB/s\u001b[0m eta \u001b[36m0:00:00\u001b[0m\n",
            "\u001b[?25hCollecting matplotlib==3.5.1\n",
            "  Downloading matplotlib-3.5.1-cp38-cp38-manylinux_2_5_x86_64.manylinux1_x86_64.whl (11.3 MB)\n",
            "\u001b[2K     \u001b[90m━━━━━━━━━━━━━━━━━━━━━━━━━━━━━━━━━━━━━━━━\u001b[0m \u001b[32m11.3/11.3 MB\u001b[0m \u001b[31m79.9 MB/s\u001b[0m eta \u001b[36m0:00:00\u001b[0m\n",
            "\u001b[?25hCollecting jupyter==1.0.0\n",
            "  Downloading jupyter-1.0.0-py2.py3-none-any.whl (2.7 kB)\n",
            "Collecting pandas==1.2.4\n",
            "  Downloading pandas-1.2.4-cp38-cp38-manylinux1_x86_64.whl (9.7 MB)\n",
            "\u001b[2K     \u001b[90m━━━━━━━━━━━━━━━━━━━━━━━━━━━━━━━━━━━━━━━━\u001b[0m \u001b[32m9.7/9.7 MB\u001b[0m \u001b[31m85.9 MB/s\u001b[0m eta \u001b[36m0:00:00\u001b[0m\n",
            "\u001b[?25hRequirement already satisfied: notebook in /usr/local/lib/python3.8/dist-packages (from jupyter==1.0.0->d2l) (5.7.16)\n",
            "Requirement already satisfied: ipykernel in /usr/local/lib/python3.8/dist-packages (from jupyter==1.0.0->d2l) (5.3.4)\n",
            "Requirement already satisfied: jupyter-console in /usr/local/lib/python3.8/dist-packages (from jupyter==1.0.0->d2l) (6.1.0)\n",
            "Collecting qtconsole\n",
            "  Downloading qtconsole-5.4.0-py3-none-any.whl (121 kB)\n",
            "\u001b[2K     \u001b[90m━━━━━━━━━━━━━━━━━━━━━━━━━━━━━━━━━━━━━━\u001b[0m \u001b[32m121.0/121.0 KB\u001b[0m \u001b[31m12.3 MB/s\u001b[0m eta \u001b[36m0:00:00\u001b[0m\n",
            "\u001b[?25hRequirement already satisfied: nbconvert in /usr/local/lib/python3.8/dist-packages (from jupyter==1.0.0->d2l) (5.6.1)\n",
            "Requirement already satisfied: ipywidgets in /usr/local/lib/python3.8/dist-packages (from jupyter==1.0.0->d2l) (7.7.1)\n",
            "Collecting fonttools>=4.22.0\n",
            "  Downloading fonttools-4.38.0-py3-none-any.whl (965 kB)\n",
            "\u001b[2K     \u001b[90m━━━━━━━━━━━━━━━━━━━━━━━━━━━━━━━━━━━━━━\u001b[0m \u001b[32m965.4/965.4 KB\u001b[0m \u001b[31m60.2 MB/s\u001b[0m eta \u001b[36m0:00:00\u001b[0m\n",
            "\u001b[?25hRequirement already satisfied: pyparsing>=2.2.1 in /usr/local/lib/python3.8/dist-packages (from matplotlib==3.5.1->d2l) (3.0.9)\n",
            "Requirement already satisfied: packaging>=20.0 in /usr/local/lib/python3.8/dist-packages (from matplotlib==3.5.1->d2l) (21.3)\n",
            "Requirement already satisfied: cycler>=0.10 in /usr/local/lib/python3.8/dist-packages (from matplotlib==3.5.1->d2l) (0.11.0)\n",
            "Requirement already satisfied: kiwisolver>=1.0.1 in /usr/local/lib/python3.8/dist-packages (from matplotlib==3.5.1->d2l) (1.4.4)\n",
            "Requirement already satisfied: pillow>=6.2.0 in /usr/local/lib/python3.8/dist-packages (from matplotlib==3.5.1->d2l) (7.1.2)\n",
            "Requirement already satisfied: python-dateutil>=2.7 in /usr/local/lib/python3.8/dist-packages (from matplotlib==3.5.1->d2l) (2.8.2)\n",
            "Requirement already satisfied: pytz>=2017.3 in /usr/local/lib/python3.8/dist-packages (from pandas==1.2.4->d2l) (2022.7)\n",
            "Requirement already satisfied: certifi>=2017.4.17 in /usr/local/lib/python3.8/dist-packages (from requests==2.25.1->d2l) (2022.12.7)\n",
            "Requirement already satisfied: chardet<5,>=3.0.2 in /usr/local/lib/python3.8/dist-packages (from requests==2.25.1->d2l) (4.0.0)\n",
            "Requirement already satisfied: urllib3<1.27,>=1.21.1 in /usr/local/lib/python3.8/dist-packages (from requests==2.25.1->d2l) (1.24.3)\n",
            "Requirement already satisfied: idna<3,>=2.5 in /usr/local/lib/python3.8/dist-packages (from requests==2.25.1->d2l) (2.10)\n",
            "Requirement already satisfied: six>=1.5 in /usr/local/lib/python3.8/dist-packages (from python-dateutil>=2.7->matplotlib==3.5.1->d2l) (1.15.0)\n",
            "Requirement already satisfied: tornado>=4.2 in /usr/local/lib/python3.8/dist-packages (from ipykernel->jupyter==1.0.0->d2l) (6.0.4)\n",
            "Requirement already satisfied: ipython>=5.0.0 in /usr/local/lib/python3.8/dist-packages (from ipykernel->jupyter==1.0.0->d2l) (7.9.0)\n",
            "Requirement already satisfied: traitlets>=4.1.0 in /usr/local/lib/python3.8/dist-packages (from ipykernel->jupyter==1.0.0->d2l) (5.7.1)\n",
            "Requirement already satisfied: jupyter-client in /usr/local/lib/python3.8/dist-packages (from ipykernel->jupyter==1.0.0->d2l) (6.1.12)\n",
            "Requirement already satisfied: jupyterlab-widgets>=1.0.0 in /usr/local/lib/python3.8/dist-packages (from ipywidgets->jupyter==1.0.0->d2l) (3.0.5)\n",
            "Requirement already satisfied: widgetsnbextension~=3.6.0 in /usr/local/lib/python3.8/dist-packages (from ipywidgets->jupyter==1.0.0->d2l) (3.6.1)\n",
            "Requirement already satisfied: ipython-genutils~=0.2.0 in /usr/local/lib/python3.8/dist-packages (from ipywidgets->jupyter==1.0.0->d2l) (0.2.0)\n",
            "Requirement already satisfied: pygments in /usr/local/lib/python3.8/dist-packages (from jupyter-console->jupyter==1.0.0->d2l) (2.6.1)\n",
            "Requirement already satisfied: prompt-toolkit!=3.0.0,!=3.0.1,<3.1.0,>=2.0.0 in /usr/local/lib/python3.8/dist-packages (from jupyter-console->jupyter==1.0.0->d2l) (2.0.10)\n",
            "Requirement already satisfied: jinja2>=2.4 in /usr/local/lib/python3.8/dist-packages (from nbconvert->jupyter==1.0.0->d2l) (2.11.3)\n",
            "Requirement already satisfied: entrypoints>=0.2.2 in /usr/local/lib/python3.8/dist-packages (from nbconvert->jupyter==1.0.0->d2l) (0.4)\n",
            "Requirement already satisfied: pandocfilters>=1.4.1 in /usr/local/lib/python3.8/dist-packages (from nbconvert->jupyter==1.0.0->d2l) (1.5.0)\n",
            "Requirement already satisfied: bleach in /usr/local/lib/python3.8/dist-packages (from nbconvert->jupyter==1.0.0->d2l) (5.0.1)\n",
            "Requirement already satisfied: mistune<2,>=0.8.1 in /usr/local/lib/python3.8/dist-packages (from nbconvert->jupyter==1.0.0->d2l) (0.8.4)\n",
            "Requirement already satisfied: jupyter-core in /usr/local/lib/python3.8/dist-packages (from nbconvert->jupyter==1.0.0->d2l) (5.1.2)\n",
            "Requirement already satisfied: defusedxml in /usr/local/lib/python3.8/dist-packages (from nbconvert->jupyter==1.0.0->d2l) (0.7.1)\n",
            "Requirement already satisfied: nbformat>=4.4 in /usr/local/lib/python3.8/dist-packages (from nbconvert->jupyter==1.0.0->d2l) (5.7.1)\n",
            "Requirement already satisfied: testpath in /usr/local/lib/python3.8/dist-packages (from nbconvert->jupyter==1.0.0->d2l) (0.6.0)\n",
            "Requirement already satisfied: pyzmq>=17 in /usr/local/lib/python3.8/dist-packages (from notebook->jupyter==1.0.0->d2l) (23.2.1)\n",
            "Requirement already satisfied: Send2Trash in /usr/local/lib/python3.8/dist-packages (from notebook->jupyter==1.0.0->d2l) (1.8.0)\n",
            "Requirement already satisfied: terminado>=0.8.1 in /usr/local/lib/python3.8/dist-packages (from notebook->jupyter==1.0.0->d2l) (0.13.3)\n",
            "Requirement already satisfied: prometheus-client in /usr/local/lib/python3.8/dist-packages (from notebook->jupyter==1.0.0->d2l) (0.15.0)\n",
            "Collecting qtpy>=2.0.1\n",
            "  Downloading QtPy-2.3.0-py3-none-any.whl (83 kB)\n",
            "\u001b[2K     \u001b[90m━━━━━━━━━━━━━━━━━━━━━━━━━━━━━━━━━━━━━━━━\u001b[0m \u001b[32m83.6/83.6 KB\u001b[0m \u001b[31m5.9 MB/s\u001b[0m eta \u001b[36m0:00:00\u001b[0m\n",
            "\u001b[?25hRequirement already satisfied: pickleshare in /usr/local/lib/python3.8/dist-packages (from ipython>=5.0.0->ipykernel->jupyter==1.0.0->d2l) (0.7.5)\n",
            "Requirement already satisfied: setuptools>=18.5 in /usr/local/lib/python3.8/dist-packages (from ipython>=5.0.0->ipykernel->jupyter==1.0.0->d2l) (57.4.0)\n",
            "Collecting jedi>=0.10\n",
            "  Downloading jedi-0.18.2-py2.py3-none-any.whl (1.6 MB)\n",
            "\u001b[2K     \u001b[90m━━━━━━━━━━━━━━━━━━━━━━━━━━━━━━━━━━━━━━━━\u001b[0m \u001b[32m1.6/1.6 MB\u001b[0m \u001b[31m68.8 MB/s\u001b[0m eta \u001b[36m0:00:00\u001b[0m\n",
            "\u001b[?25hRequirement already satisfied: backcall in /usr/local/lib/python3.8/dist-packages (from ipython>=5.0.0->ipykernel->jupyter==1.0.0->d2l) (0.2.0)\n",
            "Requirement already satisfied: pexpect in /usr/local/lib/python3.8/dist-packages (from ipython>=5.0.0->ipykernel->jupyter==1.0.0->d2l) (4.8.0)\n",
            "Requirement already satisfied: decorator in /usr/local/lib/python3.8/dist-packages (from ipython>=5.0.0->ipykernel->jupyter==1.0.0->d2l) (4.4.2)\n",
            "Requirement already satisfied: MarkupSafe>=0.23 in /usr/local/lib/python3.8/dist-packages (from jinja2>=2.4->nbconvert->jupyter==1.0.0->d2l) (2.0.1)\n",
            "Requirement already satisfied: platformdirs>=2.5 in /usr/local/lib/python3.8/dist-packages (from jupyter-core->nbconvert->jupyter==1.0.0->d2l) (2.6.2)\n",
            "Requirement already satisfied: jsonschema>=2.6 in /usr/local/lib/python3.8/dist-packages (from nbformat>=4.4->nbconvert->jupyter==1.0.0->d2l) (4.3.3)\n",
            "Requirement already satisfied: fastjsonschema in /usr/local/lib/python3.8/dist-packages (from nbformat>=4.4->nbconvert->jupyter==1.0.0->d2l) (2.16.2)\n",
            "Requirement already satisfied: wcwidth in /usr/local/lib/python3.8/dist-packages (from prompt-toolkit!=3.0.0,!=3.0.1,<3.1.0,>=2.0.0->jupyter-console->jupyter==1.0.0->d2l) (0.2.5)\n",
            "Requirement already satisfied: ptyprocess in /usr/local/lib/python3.8/dist-packages (from terminado>=0.8.1->notebook->jupyter==1.0.0->d2l) (0.7.0)\n",
            "Requirement already satisfied: webencodings in /usr/local/lib/python3.8/dist-packages (from bleach->nbconvert->jupyter==1.0.0->d2l) (0.5.1)\n",
            "Requirement already satisfied: parso<0.9.0,>=0.8.0 in /usr/local/lib/python3.8/dist-packages (from jedi>=0.10->ipython>=5.0.0->ipykernel->jupyter==1.0.0->d2l) (0.8.3)\n",
            "Requirement already satisfied: importlib-resources>=1.4.0 in /usr/local/lib/python3.8/dist-packages (from jsonschema>=2.6->nbformat>=4.4->nbconvert->jupyter==1.0.0->d2l) (5.10.2)\n",
            "Requirement already satisfied: pyrsistent!=0.17.0,!=0.17.1,!=0.17.2,>=0.14.0 in /usr/local/lib/python3.8/dist-packages (from jsonschema>=2.6->nbformat>=4.4->nbconvert->jupyter==1.0.0->d2l) (0.19.3)\n",
            "Requirement already satisfied: attrs>=17.4.0 in /usr/local/lib/python3.8/dist-packages (from jsonschema>=2.6->nbformat>=4.4->nbconvert->jupyter==1.0.0->d2l) (22.2.0)\n",
            "Requirement already satisfied: zipp>=3.1.0 in /usr/local/lib/python3.8/dist-packages (from importlib-resources>=1.4.0->jsonschema>=2.6->nbformat>=4.4->nbconvert->jupyter==1.0.0->d2l) (3.11.0)\n",
            "Installing collected packages: numpy, jedi, fonttools, qtpy, pandas, matplotlib, qtconsole, jupyter, d2l\n",
            "  Attempting uninstall: numpy\n",
            "    Found existing installation: numpy 1.21.6\n",
            "    Uninstalling numpy-1.21.6:\n",
            "      Successfully uninstalled numpy-1.21.6\n",
            "  Attempting uninstall: pandas\n",
            "    Found existing installation: pandas 1.3.5\n",
            "    Uninstalling pandas-1.3.5:\n",
            "      Successfully uninstalled pandas-1.3.5\n",
            "  Attempting uninstall: matplotlib\n",
            "    Found existing installation: matplotlib 3.2.2\n",
            "    Uninstalling matplotlib-3.2.2:\n",
            "      Successfully uninstalled matplotlib-3.2.2\n",
            "\u001b[31mERROR: pip's dependency resolver does not currently take into account all the packages that are installed. This behaviour is the source of the following dependency conflicts.\n",
            "xarray 2022.12.0 requires pandas>=1.3, but you have pandas 1.2.4 which is incompatible.\u001b[0m\u001b[31m\n",
            "\u001b[0mSuccessfully installed d2l-0.17.6 fonttools-4.38.0 jedi-0.18.2 jupyter-1.0.0 matplotlib-3.5.1 numpy-1.21.5 pandas-1.2.4 qtconsole-5.4.0 qtpy-2.3.0\n"
          ]
        }
      ],
      "source": [
        "!pip install d2l"
      ]
    },
    {
      "cell_type": "code",
      "execution_count": 6,
      "metadata": {
        "id": "YyWEB6e3FKYY",
        "colab": {
          "base_uri": "https://localhost:8080/"
        },
        "outputId": "0aa3fde0-a519-4c92-e292-515c74fb3a8e"
      },
      "outputs": [
        {
          "output_type": "stream",
          "name": "stdout",
          "text": [
            "Looking in indexes: https://pypi.org/simple, https://us-python.pkg.dev/colab-wheels/public/simple/\n",
            "Collecting matplotlib-inline\n",
            "  Downloading matplotlib_inline-0.1.6-py3-none-any.whl (9.4 kB)\n",
            "Requirement already satisfied: traitlets in /usr/local/lib/python3.8/dist-packages (from matplotlib-inline) (5.7.1)\n",
            "Installing collected packages: matplotlib-inline\n",
            "Successfully installed matplotlib-inline-0.1.6\n"
          ]
        },
        {
          "output_type": "stream",
          "name": "stderr",
          "text": [
            "/usr/local/lib/python3.8/dist-packages/torch/cuda/__init__.py:497: UserWarning: Can't initialize NVML\n",
            "  warnings.warn(\"Can't initialize NVML\")\n"
          ]
        }
      ],
      "source": [
        "%pip install matplotlib-inline\n",
        "%matplotlib inline\n",
        "import random\n",
        "import torch\n",
        "from d2l import torch as d2l"
      ]
    },
    {
      "cell_type": "code",
      "execution_count": 7,
      "metadata": {
        "id": "exWjbVn2v3CT"
      },
      "outputs": [],
      "source": [
        "def synthetic_data(w, b, num_examples):\n",
        "    \"\"\"Generate y = Xw + b + noise.\"\"\"\n",
        "    X = torch.normal(0, 1, (num_examples, len(w))) # Returns a tensor of random numbers drawn from separate normal distributions In this case mean=0, sd=1, size=(num_example,len(w))\n",
        "    y = torch.matmul(X, w) + b # Matrix product of two tensors.\n",
        "    y += torch.normal(0, 0.01, y.shape) # Add random numbers(size=y.shape) from N(0,0.01) to y cumulatively\n",
        "    return X, y.reshape((-1, 1))\n",
        "\n",
        "true_w = torch.tensor([3, -1.5])\n",
        "true_b = 5.5\n",
        "features, labels = synthetic_data(true_w, true_b, 2000)"
      ]
    },
    {
      "cell_type": "code",
      "execution_count": 8,
      "metadata": {
        "id": "5UcjckXPv6iy",
        "colab": {
          "base_uri": "https://localhost:8080/"
        },
        "outputId": "de20dd44-39c6-448e-e2f0-43534890f21d"
      },
      "outputs": [
        {
          "output_type": "stream",
          "name": "stdout",
          "text": [
            "features: tensor([-0.3492, -0.7808]) \n",
            "label: tensor([5.6051])\n"
          ]
        }
      ],
      "source": [
        "print('features:', features[0],'\\nlabel:', labels[0])"
      ]
    },
    {
      "cell_type": "code",
      "execution_count": 9,
      "metadata": {
        "id": "jLY6YR5Zv_gO"
      },
      "outputs": [],
      "source": [
        "def data_iter(batch_size, features, labels):\n",
        "    num_examples = len(features)\n",
        "    indices = list(range(num_examples))\n",
        "    # The examples are read at random, in no particular order\n",
        "    random.shuffle(indices)\n",
        "     ###반복문으로 채워넣기:\n",
        "    for i in range(0,num_examples, batch_size): # Question : start-point - from zero or one?? \n",
        "        ##이하는 반복문에 대한 조건입니다.\n",
        "        batch_indices = torch.tensor(\n",
        "            indices[i: min(i + batch_size, num_examples)]) \n",
        "        yield features[batch_indices], labels[batch_indices] # Yielding small batches of the batch_size "
      ]
    },
    {
      "cell_type": "code",
      "execution_count": 10,
      "metadata": {
        "id": "zuxxEAvdwA7p",
        "colab": {
          "base_uri": "https://localhost:8080/"
        },
        "outputId": "f62d56c9-129c-4702-eab5-9436fdd73ef2"
      },
      "outputs": [
        {
          "output_type": "stream",
          "name": "stdout",
          "text": [
            "tensor([[-1.1896,  0.0169],\n",
            "        [-1.2948,  0.7414],\n",
            "        [-0.3097,  0.9962],\n",
            "        [-1.9135,  0.2393],\n",
            "        [ 0.1214,  0.7139],\n",
            "        [ 1.0058, -0.1605],\n",
            "        [ 2.3917,  1.5185],\n",
            "        [-0.4218,  0.4144],\n",
            "        [-1.1742,  1.2932],\n",
            "        [ 1.3225,  1.6070],\n",
            "        [ 0.0487, -1.2301],\n",
            "        [ 1.3465, -0.6140],\n",
            "        [ 1.7988, -0.2754],\n",
            "        [ 0.8467,  1.1381],\n",
            "        [ 1.3625,  0.9923],\n",
            "        [-0.6340, -1.7870],\n",
            "        [-0.6581, -0.4724],\n",
            "        [ 1.6068, -0.0942],\n",
            "        [ 0.1596,  0.9309],\n",
            "        [ 2.1447,  1.7118]]) \n",
            " tensor([[ 1.8948],\n",
            "        [ 0.5017],\n",
            "        [ 3.0921],\n",
            "        [-0.6002],\n",
            "        [ 4.7889],\n",
            "        [ 8.7529],\n",
            "        [10.4082],\n",
            "        [ 3.6125],\n",
            "        [ 0.0440],\n",
            "        [ 7.0358],\n",
            "        [ 7.5086],\n",
            "        [10.4578],\n",
            "        [11.3138],\n",
            "        [ 6.3358],\n",
            "        [ 8.1006],\n",
            "        [ 6.2814],\n",
            "        [ 4.2242],\n",
            "        [10.4837],\n",
            "        [ 4.5815],\n",
            "        [ 9.3723]])\n"
          ]
        }
      ],
      "source": [
        "batch_size = 20\n",
        "\n",
        "for X, y in data_iter(batch_size, features, labels):\n",
        "    print(X, '\\n', y)\n",
        "    break"
      ]
    },
    {
      "cell_type": "code",
      "execution_count": 11,
      "metadata": {
        "id": "f_yHcVYEwCHq"
      },
      "outputs": [],
      "source": [
        "w = torch.normal(0, 0.01, size=(2,1), requires_grad=True)\n",
        "b = torch.tensor([6]) #원하는 실수를 넣어주세요 ;6"
      ]
    },
    {
      "cell_type": "code",
      "execution_count": 12,
      "metadata": {
        "id": "wOT4gBtZwDVA"
      },
      "outputs": [],
      "source": [
        "def linreg(X, w, b):\n",
        "    \"\"\"The linear regression model.\"\"\"\n",
        "    return torch.matmul(X, w) + b ###lr func 코드 완성하기 ; torch.matmul -> matrix product"
      ]
    },
    {
      "cell_type": "code",
      "execution_count": 13,
      "metadata": {
        "id": "WFYMJrrSwE5R"
      },
      "outputs": [],
      "source": [
        "def squared_loss(y_hat, y):  \n",
        "    \"\"\"Squared loss.\"\"\"\n",
        "    return (y_hat - y) ** 2 / 2 ###loss function 직접 짜보기"
      ]
    },
    {
      "cell_type": "code",
      "execution_count": 14,
      "metadata": {
        "id": "MXD0qP8PwIn0"
      },
      "outputs": [],
      "source": [
        "def sgd(params, lr, batch_size):\n",
        "    \"\"\"Minibatch stochastic gradient descent.\"\"\"\n",
        "    with torch.no_grad(): # Context-manager that disabled gradient calculation/ Disabling gradient calculation is useful for inference\n",
        "        for p in params:\n",
        "            p -= lr * p.grad / batch_size # lr*gradient / batch_size\n",
        "            p.grad.zero_() # zero_grad()=Sets the gradients of all optimized torch.Tensor s to zero.\n",
        "            return"
      ]
    },
    {
      "cell_type": "code",
      "execution_count": 15,
      "metadata": {
        "id": "pS_hm3J8wJ4z",
        "colab": {
          "base_uri": "https://localhost:8080/"
        },
        "outputId": "54967b73-9bb1-470f-d302-de63b466331e"
      },
      "outputs": [
        {
          "output_type": "stream",
          "name": "stdout",
          "text": [
            "epoch 1, loss 0.125155\n",
            "epoch 2, loss 0.125106\n",
            "epoch 3, loss 0.125312\n",
            "epoch 4, loss 0.125477\n",
            "epoch 5, loss 0.125010\n",
            "epoch 6, loss 0.125785\n",
            "epoch 7, loss 0.126998\n",
            "epoch 8, loss 0.125227\n",
            "epoch 9, loss 0.126391\n",
            "epoch 10, loss 0.125083\n"
          ]
        }
      ],
      "source": [
        "lr = 0.1\n",
        "num_epochs = 10\n",
        "net = linreg\n",
        "loss = squared_loss\n",
        "\n",
        "for epoch in range(num_epochs):\n",
        "    for X, y in data_iter(batch_size, features, labels):\n",
        "        l = loss(net(X,w,b), y) \n",
        "        # Compute gradient on `l` with respect to [`w`, `b`]\n",
        "        l.sum().backward()\n",
        "        sgd([w, b], lr, batch_size) \n",
        "    with torch.no_grad():\n",
        "        train_l = loss(net(features, w, b), labels)\n",
        "        print(f'epoch {epoch + 1}, loss {float(train_l.mean()):f}')"
      ]
    },
    {
      "cell_type": "code",
      "execution_count": 16,
      "metadata": {
        "id": "u_WSAjwNwMEY",
        "colab": {
          "base_uri": "https://localhost:8080/"
        },
        "outputId": "55128dcd-4246-4ac8-ed95-26a2d5675565"
      },
      "outputs": [
        {
          "output_type": "stream",
          "name": "stdout",
          "text": [
            "error in estimating w: tensor([ 0.0058, -0.0009], grad_fn=<SubBackward0>)\n",
            "error in estimating b: tensor([-0.5000])\n"
          ]
        }
      ],
      "source": [
        "print(f'error in estimating w: {true_w - w.reshape(true_w.shape)}')\n",
        "print(f'error in estimating b: {true_b - b}')"
      ]
    },
    {
      "cell_type": "markdown",
      "metadata": {
        "id": "tDSteRKdREC9"
      },
      "source": [
        "+cost graph 그리기 (x축 w, y축 loss)"
      ]
    },
    {
      "cell_type": "code",
      "source": [
        "import matplotlib.pyplot as plt"
      ],
      "metadata": {
        "id": "9c257Sa52wNQ"
      },
      "execution_count": 17,
      "outputs": []
    },
    {
      "cell_type": "code",
      "source": [
        "w1 = []\n",
        "w2 = []\n",
        "loss_cores_w1 = []\n",
        "loss_cores_w2 = []\n",
        "\n",
        "for epoch in range(num_epochs):\n",
        "    for X, y in data_iter(batch_size, features, labels):\n",
        "        l = loss(net(X,w,b), y) \n",
        "        # Compute gradient on `l` with respect to [`w`, `b`]\n",
        "        l.sum().backward()\n",
        "        sgd([w, b], lr, batch_size)\n",
        "    with torch.no_grad():\n",
        "        train_l = loss(net(features, w, b), labels)\n",
        "        w1.append(w.tolist()[0])\n",
        "        w2.append(w.tolist()[1])\n",
        "        loss_cores_w1.append(train_l[0].mean())\n",
        "        loss_cores_w2.append(train_l[1].mean())\n"
      ],
      "metadata": {
        "id": "JVf9RLds84r1"
      },
      "execution_count": 70,
      "outputs": []
    },
    {
      "cell_type": "code",
      "source": [
        "!pip uninstall matplotlib\n",
        "!pip install matplotlib==3.1.3"
      ],
      "metadata": {
        "colab": {
          "base_uri": "https://localhost:8080/"
        },
        "id": "VBYljSx3j3_u",
        "outputId": "cc98e32d-9382-45ea-d8f3-7f1877cd7884"
      },
      "execution_count": 19,
      "outputs": [
        {
          "output_type": "stream",
          "name": "stdout",
          "text": [
            "Found existing installation: matplotlib 3.5.1\n",
            "Uninstalling matplotlib-3.5.1:\n",
            "  Would remove:\n",
            "    /usr/local/lib/python3.8/dist-packages/matplotlib-3.5.1-py3.8-nspkg.pth\n",
            "    /usr/local/lib/python3.8/dist-packages/matplotlib-3.5.1.dist-info/*\n",
            "    /usr/local/lib/python3.8/dist-packages/matplotlib/*\n",
            "    /usr/local/lib/python3.8/dist-packages/mpl_toolkits/axes_grid/*\n",
            "    /usr/local/lib/python3.8/dist-packages/mpl_toolkits/axes_grid1/*\n",
            "    /usr/local/lib/python3.8/dist-packages/mpl_toolkits/axisartist/*\n",
            "    /usr/local/lib/python3.8/dist-packages/mpl_toolkits/mplot3d/*\n",
            "    /usr/local/lib/python3.8/dist-packages/mpl_toolkits/tests/*\n",
            "    /usr/local/lib/python3.8/dist-packages/pylab.py\n",
            "Proceed (Y/n)? Y\n",
            "  Successfully uninstalled matplotlib-3.5.1\n",
            "Looking in indexes: https://pypi.org/simple, https://us-python.pkg.dev/colab-wheels/public/simple/\n",
            "Collecting matplotlib==3.1.3\n",
            "  Downloading matplotlib-3.1.3-cp38-cp38-manylinux1_x86_64.whl (13.1 MB)\n",
            "\u001b[2K     \u001b[90m━━━━━━━━━━━━━━━━━━━━━━━━━━━━━━━━━━━━━━━━\u001b[0m \u001b[32m13.1/13.1 MB\u001b[0m \u001b[31m76.3 MB/s\u001b[0m eta \u001b[36m0:00:00\u001b[0m\n",
            "\u001b[?25hRequirement already satisfied: python-dateutil>=2.1 in /usr/local/lib/python3.8/dist-packages (from matplotlib==3.1.3) (2.8.2)\n",
            "Requirement already satisfied: pyparsing!=2.0.4,!=2.1.2,!=2.1.6,>=2.0.1 in /usr/local/lib/python3.8/dist-packages (from matplotlib==3.1.3) (3.0.9)\n",
            "Requirement already satisfied: numpy>=1.11 in /usr/local/lib/python3.8/dist-packages (from matplotlib==3.1.3) (1.21.5)\n",
            "Requirement already satisfied: cycler>=0.10 in /usr/local/lib/python3.8/dist-packages (from matplotlib==3.1.3) (0.11.0)\n",
            "Requirement already satisfied: kiwisolver>=1.0.1 in /usr/local/lib/python3.8/dist-packages (from matplotlib==3.1.3) (1.4.4)\n",
            "Requirement already satisfied: six>=1.5 in /usr/local/lib/python3.8/dist-packages (from python-dateutil>=2.1->matplotlib==3.1.3) (1.15.0)\n",
            "Installing collected packages: matplotlib\n",
            "\u001b[31mERROR: pip's dependency resolver does not currently take into account all the packages that are installed. This behaviour is the source of the following dependency conflicts.\n",
            "d2l 0.17.6 requires matplotlib==3.5.1, but you have matplotlib 3.1.3 which is incompatible.\u001b[0m\u001b[31m\n",
            "\u001b[0mSuccessfully installed matplotlib-3.1.3\n"
          ]
        }
      ]
    },
    {
      "cell_type": "code",
      "source": [
        "fig, ax_left = plt.subplots()\n",
        "ax_left.plot(w1, loss_cores_w1, label='Loss corresponding to w1', color='green')\n",
        "ax_left.set_ylabel('w1')\n",
        "ax_right = ax_left.twinx()\n",
        "ax_right.plot(w2, loss_cores_w2, label='Loss corresponding to w2', color='orange')\n",
        "ax_right.set_ylabel('w2')\n",
        "\n",
        "plt.show()"
      ],
      "metadata": {
        "colab": {
          "base_uri": "https://localhost:8080/",
          "height": 265
        },
        "id": "Qa_VbEroeXOk",
        "outputId": "74aac06a-7bdc-4975-e092-d67f68ddfa1f"
      },
      "execution_count": 22,
      "outputs": [
        {
          "output_type": "display_data",
          "data": {
            "text/plain": [
              "<Figure size 432x288 with 2 Axes>"
            ],
            "image/png": "[encoded data removed]"
          },
          "metadata": {
            "needs_background": "light"
          }
        }
      ]
    },
    {
      "cell_type": "markdown",
      "source": [
        "**뭔가 이상...**"
      ],
      "metadata": {
        "id": "dvbYQLrEkAdb"
      }
    },
    {
      "cell_type": "code",
      "source": [
        "\n",
        "fig, (ax1, ax2) = plt.subplots(nrows=1, ncols=2,\n",
        "                  sharey=True, figsize=(12,6))\n",
        "ax1.plot(w1, loss_cores_w1, label='Loss corresponding to w1', color='green')\n",
        "ax1.grid()\n",
        "ax1.set_title('Cost Function for W1', fontsize=15)\n",
        "ax2.plot(w2, loss_cores_w2, label='Loss corresponding to w2', color='orange')\n",
        "ax2.set_title('Cost Function for W2', fontsize=15)\n",
        "\n",
        "plt.show()\n"
      ],
      "metadata": {
        "colab": {
          "base_uri": "https://localhost:8080/",
          "height": 392
        },
        "id": "NkEZJ57o4WSE",
        "outputId": "019336f9-4586-4cb2-9fb9-65d089864f12"
      },
      "execution_count": 71,
      "outputs": [
        {
          "output_type": "display_data",
          "data": {
            "text/plain": [
              "<Figure size 864x432 with 2 Axes>"
            ],
            "image/png": "[encoded data removed]"
          },
          "metadata": {
            "needs_background": "light"
          }
        }
      ]
    },
    {
      "cell_type": "markdown",
      "source": [
        "더 이상.. "
      ],
      "metadata": {
        "id": "bzBnVzoc-odg"
      }
    },
    {
      "cell_type": "markdown",
      "metadata": {
        "id": "WSKKAGx4wNd4"
      },
      "source": [
        "concise implementation of linear regression \n",
        "- api 사용해보기"
      ]
    },
    {
      "cell_type": "code",
      "execution_count": 72,
      "metadata": {
        "id": "CWiOlkzKxEkf"
      },
      "outputs": [],
      "source": [
        "import numpy as np\n",
        "import torch\n",
        "from torch.utils import data\n",
        "from d2l import torch as d2l\n",
        "\n",
        "\n",
        "true_w = torch.tensor([3, -1.5])\n",
        "true_b = 5.5\n",
        "features, labels = d2l.synthetic_data(true_w, true_b, 2000)"
      ]
    },
    {
      "cell_type": "code",
      "execution_count": 73,
      "metadata": {
        "id": "F5tRyjkmxGUe"
      },
      "outputs": [],
      "source": [
        "def load_array(data_arrays, batch_size, is_train=True): \n",
        "    \"\"\"Construct a PyTorch data iterator.\"\"\"\n",
        "    dataset = data.TensorDataset(*data_arrays)\n",
        "    return data.DataLoader(dataset, batch_size, shuffle=is_train)\n",
        "\n",
        "batch_size = 20\n",
        "data_iter = load_array((features, labels), batch_size)"
      ]
    },
    {
      "cell_type": "code",
      "execution_count": 74,
      "metadata": {
        "id": "NBaqnZG4xHgP",
        "colab": {
          "base_uri": "https://localhost:8080/"
        },
        "outputId": "ed6f7b2e-3047-48b4-cc7f-d036c046fd2f"
      },
      "outputs": [
        {
          "output_type": "execute_result",
          "data": {
            "text/plain": [
              "[tensor([[-1.1271, -0.6926],\n",
              "         [ 1.2841,  0.3493],\n",
              "         [ 0.5748, -1.3281],\n",
              "         [-0.8059, -0.9996],\n",
              "         [-0.6741,  1.4749],\n",
              "         [-1.0280,  0.7058],\n",
              "         [ 0.5912, -0.0552],\n",
              "         [-0.4261,  0.4935],\n",
              "         [ 1.4275,  0.1699],\n",
              "         [-0.6542,  0.5083],\n",
              "         [ 0.6821,  0.4491],\n",
              "         [ 1.1800,  1.2051],\n",
              "         [ 1.0813, -1.2411],\n",
              "         [ 0.3234, -1.2534],\n",
              "         [ 0.0160,  0.2909],\n",
              "         [ 0.1029,  1.0980],\n",
              "         [ 0.4107, -0.8231],\n",
              "         [-0.7909,  0.4459],\n",
              "         [-0.6529, -0.3494],\n",
              "         [-0.2338,  0.6227]]), tensor([[ 3.1500],\n",
              "         [ 8.8285],\n",
              "         [ 9.2126],\n",
              "         [ 4.6024],\n",
              "         [ 1.2743],\n",
              "         [ 1.3450],\n",
              "         [ 7.3620],\n",
              "         [ 3.4923],\n",
              "         [ 9.5303],\n",
              "         [ 2.7758],\n",
              "         [ 6.8615],\n",
              "         [ 7.2297],\n",
              "         [10.6125],\n",
              "         [ 8.3552],\n",
              "         [ 5.1080],\n",
              "         [ 4.1699],\n",
              "         [ 7.9718],\n",
              "         [ 2.4619],\n",
              "         [ 4.0672],\n",
              "         [ 3.8821]])]"
            ]
          },
          "metadata": {},
          "execution_count": 74
        }
      ],
      "source": [
        "next(iter(data_iter))"
      ]
    },
    {
      "cell_type": "code",
      "execution_count": 75,
      "metadata": {
        "id": "J_83KBFOxJFB"
      },
      "outputs": [],
      "source": [
        "from torch import nn\n",
        "\n",
        "net = nn.Sequential(nn.Linear(2,1))"
      ]
    },
    {
      "cell_type": "code",
      "execution_count": 76,
      "metadata": {
        "id": "AdJQQgFaxL2H",
        "colab": {
          "base_uri": "https://localhost:8080/"
        },
        "outputId": "fd7536f1-01f8-4c5f-f020-5041b01d63df"
      },
      "outputs": [
        {
          "output_type": "execute_result",
          "data": {
            "text/plain": [
              "tensor([0.])"
            ]
          },
          "metadata": {},
          "execution_count": 76
        }
      ],
      "source": [
        "net[0].weight.data.normal_(0, 0.01)\n",
        "net[0].bias.data.fill_(0)"
      ]
    },
    {
      "cell_type": "code",
      "execution_count": 77,
      "metadata": {
        "id": "vSCAFyfAxNAn"
      },
      "outputs": [],
      "source": [
        "loss = nn.MSELoss()"
      ]
    },
    {
      "cell_type": "code",
      "execution_count": 78,
      "metadata": {
        "id": "_yee2wG1xOYW"
      },
      "outputs": [],
      "source": [
        "trainer = torch.optim.SGD(net.parameters(), lr=0.03)"
      ]
    },
    {
      "cell_type": "code",
      "execution_count": 79,
      "metadata": {
        "id": "5fAmW5bUxP9Z",
        "colab": {
          "base_uri": "https://localhost:8080/"
        },
        "outputId": "c23d6f34-cde1-451f-c341-4181a69abd60"
      },
      "outputs": [
        {
          "output_type": "stream",
          "name": "stdout",
          "text": [
            "epoch 1, loss 0.000258\n",
            "epoch 2, loss 0.000104\n",
            "epoch 3, loss 0.000105\n"
          ]
        }
      ],
      "source": [
        "num_epochs = 3\n",
        "for epoch in range(num_epochs):\n",
        "    for X, y in data_iter:\n",
        "        l = loss(net(X) ,y)\n",
        "        trainer.zero_grad()\n",
        "        l.backward()\n",
        "        trainer.step()\n",
        "    l = loss(net(features), labels)\n",
        "    print(f'epoch {epoch + 1}, loss {l:f}')"
      ]
    },
    {
      "cell_type": "code",
      "execution_count": 80,
      "metadata": {
        "id": "JT8VD6GhxR5m",
        "colab": {
          "base_uri": "https://localhost:8080/"
        },
        "outputId": "f68b7ba8-8a98-4469-9d2e-0c59648bd746"
      },
      "outputs": [
        {
          "output_type": "stream",
          "name": "stdout",
          "text": [
            "error in estimating w: tensor([ 0.0004, -0.0008])\n",
            "error in estimating b: tensor([0.0005])\n"
          ]
        }
      ],
      "source": [
        "w = net[0].weight.data\n",
        "print('error in estimating w:', true_w - w.reshape(true_w.shape))\n",
        "b = net[0].bias.data\n",
        "print('error in estimating b:', true_b - b)"
      ]
    }
  ],
  "metadata": {
    "colab": {
      "provenance": []
    },
    "kernelspec": {
      "display_name": "Python 3",
      "name": "python3"
    },
    "language_info": {
      "name": "python"
    }
  },
  "nbformat": 4,
  "nbformat_minor": 0
}