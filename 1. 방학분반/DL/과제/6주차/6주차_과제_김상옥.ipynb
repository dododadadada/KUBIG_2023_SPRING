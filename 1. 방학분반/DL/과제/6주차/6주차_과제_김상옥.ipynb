{
  "nbformat": 4,
  "nbformat_minor": 0,
  "metadata": {
    "colab": {
      "provenance": []
    },
    "kernelspec": {
      "name": "python3",
      "display_name": "Python 3"
    },
    "language_info": {
      "name": "python"
    },
    "accelerator": "GPU",
    "gpuClass": "standard"
  },
  "cells": [
    {
      "cell_type": "code",
      "execution_count": 373,
      "metadata": {
        "id": "nmQ5F7UAeKB_"
      },
      "outputs": [],
      "source": [
        "import numpy as np\n",
        "import torch\n",
        "import torch.nn as nn\n",
        "import torch.optim as optim"
      ]
    },
    {
      "cell_type": "markdown",
      "source": [
        "## Task1\n",
        "\n",
        "빈 칸을 채워주세요!\n",
        "\n",
        "단계별 output이 github 파일에는 남아있으니 그 output과 동일한 형태인지 확인하면서 진행해주시면 됩니다~"
      ],
      "metadata": {
        "id": "Sgxd6SxmeVcP"
      }
    },
    {
      "cell_type": "code",
      "source": [
        "#1. 생성할 문장 데이터\n",
        "\n",
        "sentence = (\"Brick walls are there for a reason and you must not think \"\n",
        "            \"that the brick walls aren't there to keep us out, but rather \"\n",
        "            \"in this way that the brick walls are there to show us how badly we want things.\")"
      ],
      "metadata": {
        "id": "NDvUeC8BoUb6"
      },
      "execution_count": 374,
      "outputs": []
    },
    {
      "cell_type": "code",
      "source": [
        "#2. 문자 집합 만들기\n",
        "world_set = list(set(sentence))\n",
        "\n",
        "## 문제(1): 각 문자에 정수 인코딩 (공백도 하나의 원소로 포함)\n",
        "vocab = {x:entry for entry, x in enumerate(world_set)}"
      ],
      "metadata": {
        "id": "b9lkrKyZf8ie"
      },
      "execution_count": 375,
      "outputs": []
    },
    {
      "cell_type": "code",
      "source": [
        "print(vocab)"
      ],
      "metadata": {
        "colab": {
          "base_uri": "https://localhost:8080/"
        },
        "id": "W5zlkQhy9Zak",
        "outputId": "dfebd9be-1555-4c81-94ba-fcfd0be9f6f6"
      },
      "execution_count": 376,
      "outputs": [
        {
          "output_type": "stream",
          "name": "stdout",
          "text": [
            "{'e': 0, 'w': 1, 'i': 2, 'u': 3, 'a': 4, '.': 5, 'n': 6, 't': 7, 'y': 8, ',': 9, 'o': 10, 'l': 11, 'r': 12, 'd': 13, 'm': 14, 'b': 15, 'f': 16, 'c': 17, 'B': 18, ' ': 19, 's': 20, 'p': 21, 'g': 22, 'h': 23, \"'\": 24, 'k': 25}\n"
          ]
        }
      ]
    },
    {
      "cell_type": "code",
      "source": [
        "#3. 문자 집합 크기 확인\n",
        "\n",
        "vocab_size = len(vocab)\n",
        "print('문자 집합 크기 : {}'.format(vocab_size))"
      ],
      "metadata": {
        "colab": {
          "base_uri": "https://localhost:8080/"
        },
        "id": "TpKupU6lgpfT",
        "outputId": "0e0ee7c6-27cb-46d1-c5af-7225f30504ac"
      },
      "execution_count": 377,
      "outputs": [
        {
          "output_type": "stream",
          "name": "stdout",
          "text": [
            "문자 집합 크기 : 26\n"
          ]
        }
      ]
    },
    {
      "cell_type": "code",
      "source": [
        "#4. 하이퍼 파라미터 설정(자유롭게 수정해보세요!)\n",
        "\n",
        "hidden_size = vocab_size # 같아야 하는 것 확인!\n",
        "sequence_length = 10  # 너무 길거나 너무 짧게 잡으면 안됩니다!\n",
        "learning_rate = 0.01"
      ],
      "metadata": {
        "id": "wFDZJHSMg9In"
      },
      "execution_count": 378,
      "outputs": []
    },
    {
      "cell_type": "code",
      "source": [
        "#5. seqence 길이 단위 자르기\n",
        "\n",
        "# 데이터 구성을 위한 리스트\n",
        "x_data = []\n",
        "y_data = []\n",
        "\n",
        "## 문제(2): 반복문 내에서의 인덱싱을 사용하여 sequence_length 값 단위로 샘플을 잘라 데이터 만들기, y_str은 x_str은 한 칸씩 쉬프트된 sequnce\n",
        "\n",
        "for i in range(0, len(sentence) - sequence_length):\n",
        "  x_str = sentence[i:sequence_length+i]\n",
        "  y_str = sentence[i+1:sequence_length+i+1]\n",
        "  print(i, x_str, \"->\", y_str)\n",
        "\n",
        "  # x_str과 y_str이 문자집합에 해당하는 인덱스를 각각 x_data, y_data에 append\n",
        "  x_data.append([vocab[c] for c in x_str])\n",
        "  y_data.append([vocab[d] for d in y_str])"
      ],
      "metadata": {
        "colab": {
          "base_uri": "https://localhost:8080/"
        },
        "id": "RbDcmJmghN7V",
        "outputId": "54fb6da5-963c-44c3-d86b-a9d561dce65e"
      },
      "execution_count": 379,
      "outputs": [
        {
          "output_type": "stream",
          "name": "stdout",
          "text": [
            "0 Brick wall -> rick walls\n",
            "1 rick walls -> ick walls \n",
            "2 ick walls  -> ck walls a\n",
            "3 ck walls a -> k walls ar\n",
            "4 k walls ar ->  walls are\n",
            "5  walls are -> walls are \n",
            "6 walls are  -> alls are t\n",
            "7 alls are t -> lls are th\n",
            "8 lls are th -> ls are the\n",
            "9 ls are the -> s are ther\n",
            "10 s are ther ->  are there\n",
            "11  are there -> are there \n",
            "12 are there  -> re there f\n",
            "13 re there f -> e there fo\n",
            "14 e there fo ->  there for\n",
            "15  there for -> there for \n",
            "16 there for  -> here for a\n",
            "17 here for a -> ere for a \n",
            "18 ere for a  -> re for a r\n",
            "19 re for a r -> e for a re\n",
            "20 e for a re ->  for a rea\n",
            "21  for a rea -> for a reas\n",
            "22 for a reas -> or a reaso\n",
            "23 or a reaso -> r a reason\n",
            "24 r a reason ->  a reason \n",
            "25  a reason  -> a reason a\n",
            "26 a reason a ->  reason an\n",
            "27  reason an -> reason and\n",
            "28 reason and -> eason and \n",
            "29 eason and  -> ason and y\n",
            "30 ason and y -> son and yo\n",
            "31 son and yo -> on and you\n",
            "32 on and you -> n and you \n",
            "33 n and you  ->  and you m\n",
            "34  and you m -> and you mu\n",
            "35 and you mu -> nd you mus\n",
            "36 nd you mus -> d you must\n",
            "37 d you must ->  you must \n",
            "38  you must  -> you must n\n",
            "39 you must n -> ou must no\n",
            "40 ou must no -> u must not\n",
            "41 u must not ->  must not \n",
            "42  must not  -> must not t\n",
            "43 must not t -> ust not th\n",
            "44 ust not th -> st not thi\n",
            "45 st not thi -> t not thin\n",
            "46 t not thin ->  not think\n",
            "47  not think -> not think \n",
            "48 not think  -> ot think t\n",
            "49 ot think t -> t think th\n",
            "50 t think th ->  think tha\n",
            "51  think tha -> think that\n",
            "52 think that -> hink that \n",
            "53 hink that  -> ink that t\n",
            "54 ink that t -> nk that th\n",
            "55 nk that th -> k that the\n",
            "56 k that the ->  that the \n",
            "57  that the  -> that the b\n",
            "58 that the b -> hat the br\n",
            "59 hat the br -> at the bri\n",
            "60 at the bri -> t the bric\n",
            "61 t the bric ->  the brick\n",
            "62  the brick -> the brick \n",
            "63 the brick  -> he brick w\n",
            "64 he brick w -> e brick wa\n",
            "65 e brick wa ->  brick wal\n",
            "66  brick wal -> brick wall\n",
            "67 brick wall -> rick walls\n",
            "68 rick walls -> ick walls \n",
            "69 ick walls  -> ck walls a\n",
            "70 ck walls a -> k walls ar\n",
            "71 k walls ar ->  walls are\n",
            "72  walls are -> walls aren\n",
            "73 walls aren -> alls aren'\n",
            "74 alls aren' -> lls aren't\n",
            "75 lls aren't -> ls aren't \n",
            "76 ls aren't  -> s aren't t\n",
            "77 s aren't t ->  aren't th\n",
            "78  aren't th -> aren't the\n",
            "79 aren't the -> ren't ther\n",
            "80 ren't ther -> en't there\n",
            "81 en't there -> n't there \n",
            "82 n't there  -> 't there t\n",
            "83 't there t -> t there to\n",
            "84 t there to ->  there to \n",
            "85  there to  -> there to k\n",
            "86 there to k -> here to ke\n",
            "87 here to ke -> ere to kee\n",
            "88 ere to kee -> re to keep\n",
            "89 re to keep -> e to keep \n",
            "90 e to keep  ->  to keep u\n",
            "91  to keep u -> to keep us\n",
            "92 to keep us -> o keep us \n",
            "93 o keep us  ->  keep us o\n",
            "94  keep us o -> keep us ou\n",
            "95 keep us ou -> eep us out\n",
            "96 eep us out -> ep us out,\n",
            "97 ep us out, -> p us out, \n",
            "98 p us out,  ->  us out, b\n",
            "99  us out, b -> us out, bu\n",
            "100 us out, bu -> s out, but\n",
            "101 s out, but ->  out, but \n",
            "102  out, but  -> out, but r\n",
            "103 out, but r -> ut, but ra\n",
            "104 ut, but ra -> t, but rat\n",
            "105 t, but rat -> , but rath\n",
            "106 , but rath ->  but rathe\n",
            "107  but rathe -> but rather\n",
            "108 but rather -> ut rather \n",
            "109 ut rather  -> t rather i\n",
            "110 t rather i ->  rather in\n",
            "111  rather in -> rather in \n",
            "112 rather in  -> ather in t\n",
            "113 ather in t -> ther in th\n",
            "114 ther in th -> her in thi\n",
            "115 her in thi -> er in this\n",
            "116 er in this -> r in this \n",
            "117 r in this  ->  in this w\n",
            "118  in this w -> in this wa\n",
            "119 in this wa -> n this way\n",
            "120 n this way ->  this way \n",
            "121  this way  -> this way t\n",
            "122 this way t -> his way th\n",
            "123 his way th -> is way tha\n",
            "124 is way tha -> s way that\n",
            "125 s way that ->  way that \n",
            "126  way that  -> way that t\n",
            "127 way that t -> ay that th\n",
            "128 ay that th -> y that the\n",
            "129 y that the ->  that the \n",
            "130  that the  -> that the b\n",
            "131 that the b -> hat the br\n",
            "132 hat the br -> at the bri\n",
            "133 at the bri -> t the bric\n",
            "134 t the bric ->  the brick\n",
            "135  the brick -> the brick \n",
            "136 the brick  -> he brick w\n",
            "137 he brick w -> e brick wa\n",
            "138 e brick wa ->  brick wal\n",
            "139  brick wal -> brick wall\n",
            "140 brick wall -> rick walls\n",
            "141 rick walls -> ick walls \n",
            "142 ick walls  -> ck walls a\n",
            "143 ck walls a -> k walls ar\n",
            "144 k walls ar ->  walls are\n",
            "145  walls are -> walls are \n",
            "146 walls are  -> alls are t\n",
            "147 alls are t -> lls are th\n",
            "148 lls are th -> ls are the\n",
            "149 ls are the -> s are ther\n",
            "150 s are ther ->  are there\n",
            "151  are there -> are there \n",
            "152 are there  -> re there t\n",
            "153 re there t -> e there to\n",
            "154 e there to ->  there to \n",
            "155  there to  -> there to s\n",
            "156 there to s -> here to sh\n",
            "157 here to sh -> ere to sho\n",
            "158 ere to sho -> re to show\n",
            "159 re to show -> e to show \n",
            "160 e to show  ->  to show u\n",
            "161  to show u -> to show us\n",
            "162 to show us -> o show us \n",
            "163 o show us  ->  show us h\n",
            "164  show us h -> show us ho\n",
            "165 show us ho -> how us how\n",
            "166 how us how -> ow us how \n",
            "167 ow us how  -> w us how b\n",
            "168 w us how b ->  us how ba\n",
            "169  us how ba -> us how bad\n",
            "170 us how bad -> s how badl\n",
            "171 s how badl ->  how badly\n",
            "172  how badly -> how badly \n",
            "173 how badly  -> ow badly w\n",
            "174 ow badly w -> w badly we\n",
            "175 w badly we ->  badly we \n",
            "176  badly we  -> badly we w\n",
            "177 badly we w -> adly we wa\n",
            "178 adly we wa -> dly we wan\n",
            "179 dly we wan -> ly we want\n",
            "180 ly we want -> y we want \n",
            "181 y we want  ->  we want t\n",
            "182  we want t -> we want th\n",
            "183 we want th -> e want thi\n",
            "184 e want thi ->  want thin\n",
            "185  want thin -> want thing\n",
            "186 want thing -> ant things\n",
            "187 ant things -> nt things.\n"
          ]
        }
      ]
    },
    {
      "cell_type": "code",
      "source": [
        "# 출력해서 한 칸씩 쉬프트된 것 확인하기!\n",
        "\n",
        "print(x_data[0])\n",
        "print(y_data[0])"
      ],
      "metadata": {
        "colab": {
          "base_uri": "https://localhost:8080/"
        },
        "id": "XVFlILiOixdc",
        "outputId": "d5e738a0-e758-42b9-dc78-a0a20afbc3ca"
      },
      "execution_count": 380,
      "outputs": [
        {
          "output_type": "stream",
          "name": "stdout",
          "text": [
            "[18, 12, 2, 17, 25, 19, 1, 4, 11, 11]\n",
            "[12, 2, 17, 25, 19, 1, 4, 11, 11, 20]\n"
          ]
        }
      ]
    },
    {
      "cell_type": "code",
      "source": [
        "np.max(x_data)"
      ],
      "metadata": {
        "colab": {
          "base_uri": "https://localhost:8080/"
        },
        "id": "qoQjv57bHSGe",
        "outputId": "f7378a29-7926-4ff2-a4c3-530878b35a5b"
      },
      "execution_count": 381,
      "outputs": [
        {
          "output_type": "execute_result",
          "data": {
            "text/plain": [
              "25"
            ]
          },
          "metadata": {},
          "execution_count": 381
        }
      ]
    },
    {
      "cell_type": "code",
      "source": [
        "##6. 입력 시퀀스에 대해 원핫인코딩 수행\n",
        "\n",
        "## 문제(4) : x_data를 원핫인코딩 > numpy의 eye를 쓸 수 있지 않을까?\n",
        "x_one_hot = np.eye(np.max(x_data)+1)[x_data]\n",
        "\n",
        "##7. 입력 데이터, 레이블데이터 텐서로 변환\n",
        "\n",
        "## 문제(5) : x_one_hot과 y_data 텐서로 변환 : 둘 다 같은 형식의 텐서로 변환하면 될까?? (FloatTensor, LongTesor 중 맞는 것은?)\n",
        "X = torch.FloatTensor(x_one_hot)\n",
        "Y = torch.LongTensor(y_data)"
      ],
      "metadata": {
        "id": "5lPes1dvjlNb"
      },
      "execution_count": 382,
      "outputs": []
    },
    {
      "cell_type": "code",
      "source": [
        "##8. 크기 확인\n",
        "print('훈련 데이터의 크기 : {}'.format(X.shape))\n",
        "print('레이블의 크기 : {}'.format(Y.shape))"
      ],
      "metadata": {
        "colab": {
          "base_uri": "https://localhost:8080/"
        },
        "id": "lMZzZlaymMk8",
        "outputId": "091e9733-f9bb-4067-cfbc-55f558088e79"
      },
      "execution_count": 383,
      "outputs": [
        {
          "output_type": "stream",
          "name": "stdout",
          "text": [
            "훈련 데이터의 크기 : torch.Size([188, 10, 26])\n",
            "레이블의 크기 : torch.Size([188, 10])\n"
          ]
        }
      ]
    },
    {
      "cell_type": "code",
      "source": [
        "##9.원핫인코딩 결과 샘플 확인하기\n",
        "print(X[0])"
      ],
      "metadata": {
        "colab": {
          "base_uri": "https://localhost:8080/"
        },
        "id": "knx1DE_AmSFB",
        "outputId": "6d2cb186-16f4-47ed-ad1c-86976b77685c"
      },
      "execution_count": 384,
      "outputs": [
        {
          "output_type": "stream",
          "name": "stdout",
          "text": [
            "tensor([[0., 0., 0., 0., 0., 0., 0., 0., 0., 0., 0., 0., 0., 0., 0., 0., 0., 0.,\n",
            "         1., 0., 0., 0., 0., 0., 0., 0.],\n",
            "        [0., 0., 0., 0., 0., 0., 0., 0., 0., 0., 0., 0., 1., 0., 0., 0., 0., 0.,\n",
            "         0., 0., 0., 0., 0., 0., 0., 0.],\n",
            "        [0., 0., 1., 0., 0., 0., 0., 0., 0., 0., 0., 0., 0., 0., 0., 0., 0., 0.,\n",
            "         0., 0., 0., 0., 0., 0., 0., 0.],\n",
            "        [0., 0., 0., 0., 0., 0., 0., 0., 0., 0., 0., 0., 0., 0., 0., 0., 0., 1.,\n",
            "         0., 0., 0., 0., 0., 0., 0., 0.],\n",
            "        [0., 0., 0., 0., 0., 0., 0., 0., 0., 0., 0., 0., 0., 0., 0., 0., 0., 0.,\n",
            "         0., 0., 0., 0., 0., 0., 0., 1.],\n",
            "        [0., 0., 0., 0., 0., 0., 0., 0., 0., 0., 0., 0., 0., 0., 0., 0., 0., 0.,\n",
            "         0., 1., 0., 0., 0., 0., 0., 0.],\n",
            "        [0., 1., 0., 0., 0., 0., 0., 0., 0., 0., 0., 0., 0., 0., 0., 0., 0., 0.,\n",
            "         0., 0., 0., 0., 0., 0., 0., 0.],\n",
            "        [0., 0., 0., 0., 1., 0., 0., 0., 0., 0., 0., 0., 0., 0., 0., 0., 0., 0.,\n",
            "         0., 0., 0., 0., 0., 0., 0., 0.],\n",
            "        [0., 0., 0., 0., 0., 0., 0., 0., 0., 0., 0., 1., 0., 0., 0., 0., 0., 0.,\n",
            "         0., 0., 0., 0., 0., 0., 0., 0.],\n",
            "        [0., 0., 0., 0., 0., 0., 0., 0., 0., 0., 0., 1., 0., 0., 0., 0., 0., 0.,\n",
            "         0., 0., 0., 0., 0., 0., 0., 0.]])\n"
          ]
        }
      ]
    },
    {
      "cell_type": "code",
      "source": [
        "##10. 레이블 데이터 샘플 확인하기\n",
        "print(Y[0])"
      ],
      "metadata": {
        "colab": {
          "base_uri": "https://localhost:8080/"
        },
        "id": "6pWDiH1SmYT_",
        "outputId": "d1150583-53f7-48e8-8c00-d3436ba19a90"
      },
      "execution_count": 385,
      "outputs": [
        {
          "output_type": "stream",
          "name": "stdout",
          "text": [
            "tensor([12,  2, 17, 25, 19,  1,  4, 11, 11, 20])\n"
          ]
        }
      ]
    },
    {
      "cell_type": "code",
      "source": [
        "##11. RNN 모델 구현\n",
        "\n",
        "##문제(6) : 기본 pytorch 인자 넣기 연습 + forward 채우기\n",
        "### 조건 : rnn layer 2개 쌓기 + 마지막은 fc layer\n",
        "### batch_fisrt 설정 필요할까? (유튜브 강의 참고)\n",
        "\n",
        "class Net(torch.nn.Module):\n",
        "  def __init__(self, input_dim, hidden_dim, layers):\n",
        "    super(Net, self).__init__()\n",
        "    self.rnn = torch.nn.RNN(input_size=input_dim, hidden_size=hidden_dim, num_layers=layers, batch_first=True)\n",
        "    self.fc = torch.nn.Linear(input_dim, hidden_dim, bias=True)\n",
        "  \n",
        "  def forward(self, x):\n",
        "    x, hidden = self.rnn(x)\n",
        "    x = self.fc(x)\n",
        "    return x"
      ],
      "metadata": {
        "id": "-Ww22xu8mfUc"
      },
      "execution_count": 386,
      "outputs": []
    },
    {
      "cell_type": "code",
      "source": [
        "net = Net(vocab_size, hidden_size, 2)"
      ],
      "metadata": {
        "id": "No2GRvTpnLBl"
      },
      "execution_count": 387,
      "outputs": []
    },
    {
      "cell_type": "code",
      "source": [
        "##12. loss function\n",
        "criterion = torch.nn.CrossEntropyLoss()\n",
        "\n",
        "##13. optimizer\n",
        "optimizer = optim.Adam(net.parameters(), learning_rate)"
      ],
      "metadata": {
        "id": "9-zuJLeUnQLB"
      },
      "execution_count": 388,
      "outputs": []
    },
    {
      "cell_type": "code",
      "source": [
        "X.shape"
      ],
      "metadata": {
        "colab": {
          "base_uri": "https://localhost:8080/"
        },
        "id": "TCVJLUdgTka6",
        "outputId": "8add1725-54e8-4826-a2ca-4f52598c2888"
      },
      "execution_count": 389,
      "outputs": [
        {
          "output_type": "execute_result",
          "data": {
            "text/plain": [
              "torch.Size([188, 10, 26])"
            ]
          },
          "metadata": {},
          "execution_count": 389
        }
      ]
    },
    {
      "cell_type": "code",
      "source": [
        "##14. 출력 크기 점검\n",
        "outputs = net(X)\n",
        "print(outputs.shape)"
      ],
      "metadata": {
        "colab": {
          "base_uri": "https://localhost:8080/"
        },
        "id": "z-RxRaiHnh9U",
        "outputId": "f39fcac0-548c-44cb-d1aa-cc2e94b70b34"
      },
      "execution_count": 390,
      "outputs": [
        {
          "output_type": "stream",
          "name": "stdout",
          "text": [
            "torch.Size([188, 10, 26])\n"
          ]
        }
      ]
    },
    {
      "cell_type": "code",
      "source": [
        "##15. Training 시작\n",
        "\n",
        "for i in range(100):\n",
        "    optimizer.zero_grad()\n",
        "    outputs = net(X)\n",
        "    ##문제(7) : outputs, Y 형태 그대로 넣으면 안되죠. view 함수를 이용해 loss값을 계산해봅시다.\n",
        "    loss = criterion(outputs.view(-1, vocab_size), Y.view(-1))\n",
        "    loss.backward()\n",
        "    optimizer.step()\n",
        "\n",
        "    #16. 예측결과 확인\n",
        "    results = outputs.argmax(dim=2)\n",
        "    predict_str = \"\"\n",
        "    for j, result in enumerate(results):\n",
        "        if j == 0: # 처음에는 예측 결과를 전부 가져오기\n",
        "            predict_str += ''.join([world_set[t] for t in result])\n",
        "        else: # 그 다음에는 마지막 글자만 반복 추가\n",
        "            predict_str += world_set[result[-1]]\n",
        "\n",
        "    print(predict_str)"
      ],
      "metadata": {
        "colab": {
          "base_uri": "https://localhost:8080/"
        },
        "id": "uxxrxCd2nwoo",
        "outputId": "c4cdc740-f94e-4d39-a1ed-a5a1acfbb4f2"
      },
      "execution_count": 391,
      "outputs": [
        {
          "output_type": "stream",
          "name": "stdout",
          "text": [
            "innininnnnnnnninniininnnnnnnninnnnnnnnnnnninnininnnnnnnnnnnnnninninnninninnnnnnnninnnnnnininnnnniinnnnnnnnnnnnninnnnininnnnnnnnnnnnninninninnninninnnnnnnninniininnnnnnnninnnnnninninnnninnnnninnnnnn\n",
            "ineieeeeeeeeeeeeeeeeeeeeeeeeeeeeeieeeeeeeeeeeieeeeeeeeeeeeeeeeeeeeeeeeeeeeeeeeeeeeeeeeeeeeeeeeeeeeeeeeeeeeeeeeeeeeeeeeeeeeeeeeeeeeeeeeeeeeeeeeeeeeeeeeeeeeeeeeeeeeeeeeeeeeeeeeeeeeeeeeeeeeeeeeeeeeeee\n",
            "iee e eeee eeeeeeeeeeeeeeeeeeeeee eeeeeeee ee e ee eeeeee eeeeeeeeeeeeee eeee eeeeeeeeeeeeeeee eeeeee eee eeee eeeeeeeeeeeeeeeeeeeeeeeeeeeeeeeeee eeee eeeeeeeeeeeee ee eee eeeeeeeeeeeeeeeeee eeeee \n",
            " e                                                                                                                                                                                                   \n",
            "                                                                                                                                                                                                     \n",
            "                                                                                                                                                                                                     \n",
            "                                                                                                                                                                                                     \n",
            "                                                                                                                                                                                                     \n",
            "                                                                                                                                                                                                     \n",
            "                                                                                                                                                                                                     \n",
            "                                                                                                                                                                                                     \n",
            "                                                                                                                                                                                                     \n",
            "                                                                                                                                                                                                     \n",
            "                                                                                                                                                                                                     \n",
            "                                                                                                                                                                                                     \n",
            "                                                               h                                                                        h                                                      h     \n",
            "      h                                         h   h     h    h         h            h     h                          h  h             h         h                                            h     \n",
            "   h  h     h  th    th                    h    h   h  h  h t  h      h  h     h      h    th  h    h  h        h      h  h        h    h      h  h     h  th    th       h  h         h  h    h  h  \n",
            "   h  h     h  th    th   h                h  h h  th  h th th h  h   h  h     h      h    th th    h  h    h   h      h  h    h   h th h  h   h  h     h  th    th th    h  h  h      h th    h  h  \n",
            "   h  h    th  th    th   h   t   t   t    h  h h  th th th th h  t   h  h    th  t   h    th th    h th   th  th      h  h    h  th th h  t   h  h    th  th    th th    h th  th     h th    h  h  \n",
            "   h  h  s th  th    th  th   t   th  t   th  h h  th th th t  h  th  h  h  s th  t  th    th th    h th   th  th      h  h t  h  th t  h  th  h  h  s th  th    th th   th th  th  s th th    h th  \n",
            "   h th  s the th    th  th   t   th  t   th  h h  th th th t  h  th  h th  s the t  th    th th   th th   th  th      h  h t  he th t  h  th  h th  s the th    th th   th te  th  s th th    h th  \n",
            "   h the s the th  e th  th   t   hh  t   ths hth  th th th te he th  h the s the t  the e th th   th th   te  th    e he h t  he th te he th  h the s the th  e th th   th te  th  s th th    het   \n",
            "   h the s the the e th  th   t   he  t   ths hth  th te thete he the h the s the t  the e th th t th th   tes th    ethe het the th te he the h the s the the e th th   th te  ths s th th   thete  \n",
            "   h the s the the e th  hhte t   he  t s ths hth  th te thetethe the h the s the t  the e th th t th th   tes th    ethe het tts th te he the h the s the the e th th t th te  hus s te th   thete  \n",
            "   h the s tee the e th  hrte t   he  t s tus h h  th te thete he th  h the s tee t  the e th th t th te h tes th    e he het tts th te he th  h the s tee the e th th t to te  hes s te th    het   \n",
            "   k the s tre th  e th  h te t   he  t   tus h h  th t  thete he th  h the s tre t  the e th th t ts t  h te  te    e h  het tts th t  he th  h the s tre th  e th th t te te  het s te th   thet   \n",
            " e k the s tr  the e th  h te t   he  t   tus h h  th w  thet  he th  k the s tr  t  the e th th t ts t  h th  te    e h  het tas th t  he th  k the s tr  the e th th t t  het h t s t  th   thew   \n",
            " e k the s tre the e th  h te t   he  t   tus h h  thew  thet  he th  k the s tre t  the e th th   ts h  h th  te    e h  het tas thet  he th  k the s tre the e th thet t  het t t s t  th   thew   \n",
            " e k thess are the e th  a te t   he  t   ths hth  thew  thew  he the k thess are t  the e th th   ts h  h th  th h  e h  hew tas thet the the k thess are the e th thew a  het tat s t  tat  thew   \n",
            " e k thess are the e th  arte t   he  t   ths hth  bhew  thew the the k thess are t  the e th th t ts h  h ta  th he e h  hew tas thet the the k thess are the e th thew ao het bht s ta tat  thew   \n",
            " e k thess are the e to  arte t   ae  th  bus hth  bhew  thew the the k thess are t  the e th th t ts h  h tu  to he e h  hew tas thet the the k thess are the e th thew ao het bht s ta tat  thew   \n",
            " e k thess are the e to  trte t   ae  thu tus hth  bhew  thew the the k thess are t  the e th th t ts hu h bu  tothe e h  hew tas thet the the k thess are the e th thet bo het bht s ta tat  thew   \n",
            " ewk thess are the e to  trte t   au  thu tus hth  bhew  thet  he toe k thess are t  the e to th t ts hu h bus tot e e h  hew tas thet the toe k thess are the e to thet bo het bh  s ta tat  thew   \n",
            " ewk thels are the e tot arte t   au  tou tus hth  bhew  thet  he toe k thels are t  the e to th t ts hu h bus tot e e a  hew tas thet the toe k thels are the e to thet as het bh  s ta tat  thew   \n",
            " ewk talls are the e tot arte t   au  tou tus hth  bhew  thet  he toetk talls are t  the e to th t ts au h hus tot e e a  hew tas thet the toetk talls are the e to thet as het bh  s te tat  thew   \n",
            "rewk talls are the e tot arte t   au  tou tus hth  bhew  thet  he toeck talls are t  the e to te t as au h hus tot e e u  hew aas thet the toeck talls are the e to thet as het bh  s te tat  thew   \n",
            "rewk talls are there tot arte t   au  tou tus hth  bhew  thet the theck talls are t  there to te t us au h hus tot e ets  hes aas thet the theck talls are there to thet as aet bhs s te tal  thew   \n",
            "reck talls are there tot arte t u au  tou tus hth  bhew  thet the theck talls are t  there to te t us au h bus totherets thes aas thet the theck talls are there th thet us aew bhsls te tall thew   \n",
            "reck talls are there tot arte t u ae  tou tus hth  bhewk thet the theck talls are t  there th te t us au h bus totherets thes aal thet the theck talls are there th thet us aew balls te tall thewk  \n",
            "reck talls are there tot urae t u ae  tou tus hth  bhewk thet the breck talls are t  there th te t us au h bul aotherets thew tal thet the breck talls are there th thet us aew balls te tall thewk  \n",
            "reck talls are there tot urae t u ae  tou tus hth  thewk thet the breck walls are t  there th te t us au h bul aet erets thew tal thet the breck walls are there th thet bs aew balls te tanl thewk  \n",
            "reck walls are there tot urae t u ael tou tus htht thewk thet the breck walls are t  the e th te t us au h bul aetherets then tal thet the breck walls are there th thet bs aew balls te tanl thew   \n",
            "reck walls are there tot arre t u aul tou tus htot thewk thet the breck walls are t  there th te t us auth bul aetherets then tal thet the breck walls are there th thet bs aow balls te tanl thewk  \n",
            "reck walls are there tot arre t u aul tou tus htot thewk thet the breck walls are t  there th te t us auth but aotheretw then tal thet the breck walls are there th thew bs aow badls te tanl thewkt \n",
            "reck walls are there tot arre t u aul tou tus htot thewk thet the brick walls are tt there th teet us auth but aotheretw then tal thet the brick walls are there th thew us aow badls te tanl thewkt \n",
            "reck walls are there tot arre t u au  tou tus  tot thewk thet the brick walls are tt there th teet us auth but aotheretw then tal thet the brick walls are there to thew us aow badls te tanl thenks \n",
            "reck walls are there tot arre t u an  tou tus  tot thenk thet the brick walls are tt there th teet us auth but aothere w then tal thet the brick walls are there to thew us aow badls te tanl thenks \n",
            "reck walls are there tot arre tou an  you tus  tot thenk thet the brick walls are tt there to teet us auth but aothere w then wal thet the brick walls are there to thew us aow badls te tanl thenks \n",
            "reck walls are there tot arre ton an  you tus  tot thenk thet the brick walls are tt there to teet us auth but aothere w then wal thet the brick walls are there to thow us aow badly te tanl thenks \n",
            "reck walls are there tot arre ton an  you tus  tot thenk thet the brick walls are tt there to teet us auth but aothere w then wal thet the brick walls are there to thow bs aow badly te tanl thenks \n",
            "reck walls are there tot arre ton and you mus  tot thenk that the brick walls are tt there to teet us auth but aothere u then wal thet the brick walls are there to thow us aow badly te tanl thenks \n",
            "reck walls are there tot arre ton and you mus  tot thenk that the brick walls are tt there to teet us auth but aothere u then wal thet the brick walls are there to thow us aow badly te tanl thenks \n",
            "reck walls are there tor u re ton and you mus  tot thenk that the brick walls are tt there to teet us auth but aothere u then wal thet the brick walls are there to thow us aow badly te tanl thenks \n",
            "reck walls are there tor u re ton and you mus  wot thenk that the brick walls are tt there to teet us auth but aothere u then wal that the brick walls are there to thow us aow badly te tanl thenks \n",
            "rick walls are there tor a re ton and you mus  wot thenk that the brick walls are tt there to teet us auth but aothere u then wal that the brick walls are there to thow us aow badly te tant thenks \n",
            "rick walls are there tor a re ton and you must wot thenk that the brick walls are tt there to teet us auth but aothere u then way that the brick walls are there to thow us how badly te tant thenks \n",
            "rick walls are there tor a re ton and you must wot thenk that the brick walls are tt there to teet us auth but aathere u then way that the brick walls are there to thow us how badly te tant thenks \n",
            "rick walls are there tor a re ton and you must wot thenk that the brick walls are tt there to teet us huth but aathere u thes way that the brick walls are there to thow us how badly te tant thenks \n",
            "rick walls are there tor a re ton and you must wot thenk that the brick walls are tt there to teet us outh but aathere s thes way that the brick walls are there to thow us how badly te tant thenksh\n",
            "rick walls are there tor a reaton and you must wot thenk that the brick walls are tt there to teet us outh but aathere n thes way that the brick walls are there to thow us how badly te tant thenksh\n",
            "rick walls are there tor a aeason and you must wot thenk that the brick walls are tt there to teet us outh but aather  n thes way that the brick walls are there to thow us how badly te tant thenksh\n",
            "rick walls are there tor a aeason and you must wot thenk that the brick walls are tt there to teet us out, but aather  n thes way that the brick walls are there to thow us how badly te tant thenksh\n",
            "rick walls are there tor a reason and you must wot thenk that the brick walls are tt there to teet us out, but aather  n thes way that the brick walls are there to thow us how badly te tant thenksh\n",
            "rick walls are there tor a reason and you must wot thenk that the brick walls are tt there to seet us out, but aather  n thes way that the brick walls are there to show us how badly we tant thenksh\n",
            "rick walls are there tor a reason and you must not thenk that the brick walls are tt there to seet us out, but rather  n thes way that the brick walls are there to show us how badly we tant thenksh\n",
            "rick walls are there tor a reason and you must not thenk that the brick walls are tt there to seet us out, but rather  n thes way that the brick walls are there to show us how badly we tant thenksh\n",
            "rick walls are there tor a reason and you must not thenk that the brick walls are tt there to seet us out, but rather tn thes way that the brick walls are there to show us how badly we tant thenksh\n",
            "rick walls are there tor a reason and you must not thenk that the brick walls are tt there to seet us out, but rather tn thes way that the brick walls are there to show us how badly we want thenksh\n",
            "rick walls are there tor a reason and you must not thenk that the brick walls are tt there to seet us out, but rather tn thes way that the brick walls are there to show us how badly we want thenksh\n",
            "rick walls are there tor a reason and you must not thenk that the brick walls are tt there to seep us out, but rather tn thes way that the brick walls are there to show us how badly we want thenksh\n",
            "rick walls are there tor a reason and you must not think that the brick walls are tt there to seep us out, but rather in this way that the brick walls are there to show us how badly we want thenksh\n",
            "rick walls are there tor a reason and you must not think that the brick walls are 't there to seep us out, but rather in this way that the brick walls are there to show us how badly we want thenksh\n",
            "rick walls are there tor a reason and you must not think that the brick walls are 't there to seep us out, but rather in this way that the brick walls are there to show us how badly we want thenksh\n",
            "rick walls are there tor a reason and you must not think that the brick walls are 't there to seep us out, but rather in this way that the brick walls are there to show us how badly we want thenksh\n",
            "rick walls are there tor a reason and you must not think that the brick walls are 't there to seep us out, but rather in this way that the brick walls are there to show us how badly we want thenksh\n",
            "rick walls are there tor a reason and you must not think that the brick walls are 't there to seep us out, but rather in this way that the brick walls are there to show us how badly we want thenksh\n",
            "rick walls are there tor a reason and you must not think that the brick walls are 't there to seep us out, but rather in this way that the brick walls are there to show us how badly we want thenksh\n",
            "rick walls are there tor a reason and you must not think that the brick walls are 't there to seep us out, but rather in this way that the brick walls are there to show us how badly we want thenksh\n",
            "rick walls are there tor a reason and you must not think that the brick walls are 't there to seep us out, but rather in this way that the brick walls are there to show us how badly we want thenksh\n",
            "rick walls are there tor a reason and you must not think that the brick walls are 't there to seep us out, but rather in this way that the brick walls are there to show us how badly we want thenksh\n",
            "rick walls are there tor a reason and you must not think that the brick walls are 't there to seep us out, but rather in this way that the brick walls are there to show us how badly we want thenksh\n",
            "rick walls are there tor a reason and you must not think that the brick walls are 't there to seep us out, but rather in this way that the brick walls are there to show us how badly we want thenksh\n",
            "rick walls are there tor a reason and you must not think that the brick walls are 't there to seep us out, but rather in this way that the brick walls are there to show us how badly we want thenksh\n",
            "rick walls are there tor a reason and you must not think that the brick walls are 't there to seep us out, but rather in this way that the brick walls are there to show us how badly we want thenksm\n",
            "rick walls are there tor a reason and you must not think that the brick walls are 't there to seep us out, but rather in this way that the brick walls are there to show us how badly we want thenksm\n",
            "rick walls are there tor a reason and you must not think that the brick walls are 't there to seep us out, but rather in this way that the brick walls are there to show us how badly we want thinksm\n",
            "rick walls are there tor a reason and you must not think that the brick walls are 't there to seep us out, but rather in this way that the brick walls are there to show us how badly we want thinksm\n",
            "rick walls are there tor a reason and you must not think that the brick walls are 't there to seep us out, but rather in this way that the brick walls are there to show us how badly we want thinksm\n",
            "rick walls are there tor a reason and you must not think that the brick walls are 't there to seep us out, but rather in this way that the brick walls are there to show us how badly we want thinksm\n",
            "rick walls are there tor a reason and you must not think that the brick walls are 't there to seep us out, but rather in this way that the brick walls are there to show us how badly we want thinksm\n",
            "rick walls are there tor a reason and you must not think that the brick walls are 't there to seep us out, but rather in this way that the brick walls are there to show us how badly we want thinksm\n",
            "rick walls are there tor a reason and you must not think that the brick walls are 't there to seep us out, but rather in this way that the brick walls are there to show us how badly we want thinksm\n",
            "rick walls are there tor a reason and you must not think that the brick walls are 't there to seep us out, but rather in this way that the brick walls are there to show us how badly we want thinksm\n",
            "rick walls are there tor a reason and you must not think that the brick walls are 't there to seep us out, but rather in this way that the brick walls are there to show us how badly we want thinksm\n",
            "rick walls are there tor a reason and you must not think that the brick walls are 't there to seep us out, but rather in this way that the brick walls are there to show us how badly we want thinksm\n",
            "rick walls are there tor a reason and you must not think that the brick walls are 't there to seep us out, but rather in this way that the brick walls are there to show us how badly we want thinksm\n",
            "rick walls are there tor a reason and you must not think that the brick walls are 't there to seep us out, but rather in this way that the brick walls are there to show us how badly we want thinksm\n",
            "rick walls are there tor a reason and you must not think that the brick walls are 't there to seep us out, but rather in this way that the brick walls are there to show us how badly we want thinksm\n",
            "rick walls are there tor a reason and you must not think that the brick walls are 't there to seep us out, but rather in this way that the brick walls are there to show us how badly we want thinksm\n"
          ]
        }
      ]
    },
    {
      "cell_type": "code",
      "source": [
        "predict_str"
      ],
      "metadata": {
        "colab": {
          "base_uri": "https://localhost:8080/",
          "height": 35
        },
        "id": "8qUkbiw2t0Il",
        "outputId": "8d1a9896-1093-4734-a51c-119d7e744fa8"
      },
      "execution_count": 392,
      "outputs": [
        {
          "output_type": "execute_result",
          "data": {
            "text/plain": [
              "\"rick walls are there tor a reason and you must not think that the brick walls are 't there to seep us out, but rather in this way that the brick walls are there to show us how badly we want thinksm\""
            ],
            "application/vnd.google.colaboratory.intrinsic+json": {
              "type": "string"
            }
          },
          "metadata": {},
          "execution_count": 392
        }
      ]
    },
    {
      "cell_type": "markdown",
      "source": [
        "결과가 어떤가요?? 마지막 에폭의 문장이 그럴싸한가요?"
      ],
      "metadata": {
        "id": "PkIzDTdyvTHz"
      }
    },
    {
      "cell_type": "markdown",
      "source": [
        "## Task2\n",
        "\n",
        "위 sentence는 제가 임의로 생성한 문장들입니다.\n",
        "\n",
        "마음에 드시는 문구 가져오셔서 문장이 어떻게 생성되는지 확인해보세요! \n",
        "\n",
        "영어가 아닌 한국어로 시도해보는 것도 좋겠죠? \n",
        "\n",
        "수정이 많이 필요(토큰화 등) 할 수 있으나 한번 시도해보시는 것 권장드립니다 :)\n",
        "\n",
        "위 베이스라인은 어디든 수정하셔도 좋고 조금 더 자연스러운 문장이 나올 수 있게 다양한 시도를 해보세요!\n",
        "\n",
        "조건 : 문장 3개 이상, 연결성이 있는 문장을 \" \" 으로 구분하여 ( )에 넣기"
      ],
      "metadata": {
        "id": "kN1zL8Dpvane"
      }
    },
    {
      "cell_type": "code",
      "source": [
        " # 베이스라인 기반으로 한국어 학습 - 동일한 특정 단어(공장장, 철창살)가 반복되는 문장은 어떻게 학습할 것인가?\n",
        " # 소규모 데이터이므로 토크나이저를 쓰는 대신 사전에 문장 부호를 제거하여 입력\n",
        " # 띄어쓰기 단위로 문장 구분해 학습\n",
        "\n",
        "sentence = (\"간장 공장 공장장은 강 공장장이고 \"\n",
        "            \"된장 공장 공장장은 장 공장장이고 \"\n",
        "            \"강된장 공장 공장장은 공 공장장이다 \"\n",
        "            \"경찰청 철창살은 외철창살이고 \"\n",
        "            \"검찰청 철창살은 쌍철창살이다 \")\n",
        "\n",
        "word_split = sentence.split()\n",
        "\n",
        "num=0\n",
        "for i in word_split :\n",
        "  word_split[num] = i + ' '\n",
        "  num += 1\n",
        "\n",
        "word_split "
      ],
      "metadata": {
        "colab": {
          "base_uri": "https://localhost:8080/"
        },
        "id": "FHb_6JRGZNIq",
        "outputId": "81a84acc-351f-4890-ba6a-b20eb7a46052"
      },
      "execution_count": 393,
      "outputs": [
        {
          "output_type": "execute_result",
          "data": {
            "text/plain": [
              "['간장 ',\n",
              " '공장 ',\n",
              " '공장장은 ',\n",
              " '강 ',\n",
              " '공장장이고 ',\n",
              " '된장 ',\n",
              " '공장 ',\n",
              " '공장장은 ',\n",
              " '장 ',\n",
              " '공장장이고 ',\n",
              " '강된장 ',\n",
              " '공장 ',\n",
              " '공장장은 ',\n",
              " '공 ',\n",
              " '공장장이다 ',\n",
              " '경찰청 ',\n",
              " '철창살은 ',\n",
              " '외철창살이고 ',\n",
              " '검찰청 ',\n",
              " '철창살은 ',\n",
              " '쌍철창살이다 ']"
            ]
          },
          "metadata": {},
          "execution_count": 393
        }
      ]
    },
    {
      "cell_type": "code",
      "source": [
        "## 각 단어에 정수 인코딩\n",
        "vocab = {x:entry for entry, x in enumerate(set(word_split))}\n",
        "print(vocab)"
      ],
      "metadata": {
        "colab": {
          "base_uri": "https://localhost:8080/"
        },
        "id": "fA4JEu1MZn7n",
        "outputId": "fe36dfc3-00de-4bf2-9f60-d798219f5211"
      },
      "execution_count": 394,
      "outputs": [
        {
          "output_type": "stream",
          "name": "stdout",
          "text": [
            "{'장 ': 0, '공장장이고 ': 1, '강된장 ': 2, '공 ': 3, '철창살은 ': 4, '강 ': 5, '공장장은 ': 6, '공장장이다 ': 7, '외철창살이고 ': 8, '쌍철창살이다 ': 9, '공장 ': 10, '경찰청 ': 11, '간장 ': 12, '된장 ': 13, '검찰청 ': 14}\n"
          ]
        }
      ]
    },
    {
      "cell_type": "code",
      "source": [
        "vocab_size = len(vocab)\n",
        "print('단어어 집합 크기 : {}'.format(vocab_size))"
      ],
      "metadata": {
        "colab": {
          "base_uri": "https://localhost:8080/"
        },
        "id": "rh-hcTLmbWec",
        "outputId": "fb2991c7-5aa4-4667-ad72-bf41317fd4a1"
      },
      "execution_count": 395,
      "outputs": [
        {
          "output_type": "stream",
          "name": "stdout",
          "text": [
            "단어어 집합 크기 : 15\n"
          ]
        }
      ]
    },
    {
      "cell_type": "code",
      "source": [
        "# 문장이 대개 5개 단어로 이루어지므로 시퀀스 길이도 5로 설정\n",
        "# 민감성 고려해 학습률 조정\n",
        "hidden_size = vocab_size \n",
        "sequence_length = 5\n",
        "learning_rate = 0.005\n",
        "x_data = []\n",
        "y_data = []\n",
        "\n",
        "for i in range(0, len(word_split) - sequence_length):\n",
        "  x_str = word_split[i:sequence_length+i]\n",
        "  y_str = word_split[i+1:sequence_length+i+1]\n",
        "  print(i, x_str, \"->\", y_str)\n",
        "  x_data.append([vocab[c] for c in x_str])\n",
        "  y_data.append([vocab[d] for d in y_str])"
      ],
      "metadata": {
        "colab": {
          "base_uri": "https://localhost:8080/"
        },
        "id": "LRnc2iRrdklG",
        "outputId": "d569dd2e-d1e4-4318-e85b-b5f7c2793880"
      },
      "execution_count": 396,
      "outputs": [
        {
          "output_type": "stream",
          "name": "stdout",
          "text": [
            "0 ['간장 ', '공장 ', '공장장은 ', '강 ', '공장장이고 '] -> ['공장 ', '공장장은 ', '강 ', '공장장이고 ', '된장 ']\n",
            "1 ['공장 ', '공장장은 ', '강 ', '공장장이고 ', '된장 '] -> ['공장장은 ', '강 ', '공장장이고 ', '된장 ', '공장 ']\n",
            "2 ['공장장은 ', '강 ', '공장장이고 ', '된장 ', '공장 '] -> ['강 ', '공장장이고 ', '된장 ', '공장 ', '공장장은 ']\n",
            "3 ['강 ', '공장장이고 ', '된장 ', '공장 ', '공장장은 '] -> ['공장장이고 ', '된장 ', '공장 ', '공장장은 ', '장 ']\n",
            "4 ['공장장이고 ', '된장 ', '공장 ', '공장장은 ', '장 '] -> ['된장 ', '공장 ', '공장장은 ', '장 ', '공장장이고 ']\n",
            "5 ['된장 ', '공장 ', '공장장은 ', '장 ', '공장장이고 '] -> ['공장 ', '공장장은 ', '장 ', '공장장이고 ', '강된장 ']\n",
            "6 ['공장 ', '공장장은 ', '장 ', '공장장이고 ', '강된장 '] -> ['공장장은 ', '장 ', '공장장이고 ', '강된장 ', '공장 ']\n",
            "7 ['공장장은 ', '장 ', '공장장이고 ', '강된장 ', '공장 '] -> ['장 ', '공장장이고 ', '강된장 ', '공장 ', '공장장은 ']\n",
            "8 ['장 ', '공장장이고 ', '강된장 ', '공장 ', '공장장은 '] -> ['공장장이고 ', '강된장 ', '공장 ', '공장장은 ', '공 ']\n",
            "9 ['공장장이고 ', '강된장 ', '공장 ', '공장장은 ', '공 '] -> ['강된장 ', '공장 ', '공장장은 ', '공 ', '공장장이다 ']\n",
            "10 ['강된장 ', '공장 ', '공장장은 ', '공 ', '공장장이다 '] -> ['공장 ', '공장장은 ', '공 ', '공장장이다 ', '경찰청 ']\n",
            "11 ['공장 ', '공장장은 ', '공 ', '공장장이다 ', '경찰청 '] -> ['공장장은 ', '공 ', '공장장이다 ', '경찰청 ', '철창살은 ']\n",
            "12 ['공장장은 ', '공 ', '공장장이다 ', '경찰청 ', '철창살은 '] -> ['공 ', '공장장이다 ', '경찰청 ', '철창살은 ', '외철창살이고 ']\n",
            "13 ['공 ', '공장장이다 ', '경찰청 ', '철창살은 ', '외철창살이고 '] -> ['공장장이다 ', '경찰청 ', '철창살은 ', '외철창살이고 ', '검찰청 ']\n",
            "14 ['공장장이다 ', '경찰청 ', '철창살은 ', '외철창살이고 ', '검찰청 '] -> ['경찰청 ', '철창살은 ', '외철창살이고 ', '검찰청 ', '철창살은 ']\n",
            "15 ['경찰청 ', '철창살은 ', '외철창살이고 ', '검찰청 ', '철창살은 '] -> ['철창살은 ', '외철창살이고 ', '검찰청 ', '철창살은 ', '쌍철창살이다 ']\n"
          ]
        }
      ]
    },
    {
      "cell_type": "code",
      "source": [
        "x_data"
      ],
      "metadata": {
        "colab": {
          "base_uri": "https://localhost:8080/"
        },
        "id": "6w7-a6Swed8N",
        "outputId": "490ddde4-3ac3-40e4-a155-22cca8cb21d0"
      },
      "execution_count": 397,
      "outputs": [
        {
          "output_type": "execute_result",
          "data": {
            "text/plain": [
              "[[12, 10, 6, 5, 1],\n",
              " [10, 6, 5, 1, 13],\n",
              " [6, 5, 1, 13, 10],\n",
              " [5, 1, 13, 10, 6],\n",
              " [1, 13, 10, 6, 0],\n",
              " [13, 10, 6, 0, 1],\n",
              " [10, 6, 0, 1, 2],\n",
              " [6, 0, 1, 2, 10],\n",
              " [0, 1, 2, 10, 6],\n",
              " [1, 2, 10, 6, 3],\n",
              " [2, 10, 6, 3, 7],\n",
              " [10, 6, 3, 7, 11],\n",
              " [6, 3, 7, 11, 4],\n",
              " [3, 7, 11, 4, 8],\n",
              " [7, 11, 4, 8, 14],\n",
              " [11, 4, 8, 14, 4]]"
            ]
          },
          "metadata": {},
          "execution_count": 397
        }
      ]
    },
    {
      "cell_type": "code",
      "source": [
        "x_one_hot = np.eye(np.max(x_data)+1)[np.array(x_data)]\n",
        "X = torch.FloatTensor(x_one_hot)\n",
        "Y = torch.LongTensor(y_data)\n",
        "print('훈련 데이터의 크기 : {}'.format(X.shape))\n",
        "print('레이블의 크기 : {}'.format(Y.shape))"
      ],
      "metadata": {
        "colab": {
          "base_uri": "https://localhost:8080/"
        },
        "id": "52Yn3ZwydrMk",
        "outputId": "fddefd59-6155-4a2e-ed10-49201911dae0"
      },
      "execution_count": 398,
      "outputs": [
        {
          "output_type": "stream",
          "name": "stdout",
          "text": [
            "훈련 데이터의 크기 : torch.Size([16, 5, 15])\n",
            "레이블의 크기 : torch.Size([16, 5])\n"
          ]
        }
      ]
    },
    {
      "cell_type": "code",
      "source": [
        "class Net(torch.nn.Module):\n",
        "  def __init__(self, input_dim, hidden_dim, layers):\n",
        "    super(Net, self).__init__()\n",
        "    self.rnn = torch.nn.RNN(input_size=input_dim, hidden_size=hidden_dim, num_layers=layers, batch_first=True)\n",
        "    self.fc = torch.nn.Linear(input_dim, hidden_dim, bias=True)\n",
        "  \n",
        "  def forward(self, x):\n",
        "    x, hidden = self.rnn(x)\n",
        "    x = self.fc(x)\n",
        "    return x\n",
        "net = Net(vocab_size, hidden_size, 5)\n",
        "criterion = torch.nn.CrossEntropyLoss()\n",
        "optimizer = optim.Adam(net.parameters(), learning_rate)\n",
        "outputs = net(X)\n",
        "print(outputs.shape)"
      ],
      "metadata": {
        "colab": {
          "base_uri": "https://localhost:8080/"
        },
        "id": "Cfd_dI9weRq2",
        "outputId": "46a6d599-8f0e-4686-ae3d-3bf620ecc15e"
      },
      "execution_count": 399,
      "outputs": [
        {
          "output_type": "stream",
          "name": "stdout",
          "text": [
            "torch.Size([16, 5, 15])\n"
          ]
        }
      ]
    },
    {
      "cell_type": "code",
      "source": [
        "# Train 결과 '강된장 -> 공장 -> 강 -> 공장 -> 공장장은 -> 강된장 -> 공장...'의 무한 루프에 빠지는 것으로 확인됨...\n",
        "# 반면 '공장장이다 -> 경찰청'을 통해 다음 문장으로 넘어가는 순서를 저평가해 학습한 것으로 추정\n",
        "# 이처럼 단순한 구조의 RNN에서는 데이터셋 자체의 크기가 작을 때, 특정 값이 반복되면 해당 값 주위의 연결을 과다 학습할 수 있는 것으로 이해하면 될까요?\n",
        "for i in range(200):\n",
        "    optimizer.zero_grad()\n",
        "    outputs = net(X)\n",
        "    loss = criterion(outputs.view(-1, vocab_size), Y.view(-1))\n",
        "    loss.backward()\n",
        "    optimizer.step()\n",
        "    \n",
        "    results = outputs.argmax(dim=2)\n",
        "    predict_str = \"\"\n",
        "    for j, result in enumerate(results):\n",
        "        if j == 0: \n",
        "            predict_str += ''.join([word_split[t] for t in result])\n",
        "        else: \n",
        "            predict_str += word_split[result[-1]]\n",
        "\n",
        "    print(predict_str)"
      ],
      "metadata": {
        "colab": {
          "base_uri": "https://localhost:8080/"
        },
        "id": "722t_WDEfoGQ",
        "outputId": "2e179c49-b116-4de3-d494-6e015da7c222"
      },
      "execution_count": 400,
      "outputs": [
        {
          "output_type": "stream",
          "name": "stdout",
          "text": [
            "강 강 강 강 강 강 강 강 강 강 강 강 강 강 강 강 강 강 강 강 \n",
            "강 강된장 강 강 강 강 강 강 강 강 강 강 강 강 강 강 강 강 강 강 \n",
            "강 강된장 강 강된장 강 강 강 강 강 강 강 강 강 강 강 강 강 강 강 강 \n",
            "강 강된장 강된장 강된장 강된장 강된장 강된장 강된장 강된장 강된장 강된장 강된장 강된장 강된장 강된장 강된장 강된장 강된장 강된장 강된장 \n",
            "강 강된장 강된장 강된장 강된장 강된장 강된장 강된장 강된장 강된장 강된장 강된장 강된장 강된장 강된장 강된장 강된장 강된장 강된장 강된장 \n",
            "강된장 강된장 강된장 강된장 강된장 강된장 강된장 강된장 강된장 강된장 강된장 강된장 강된장 강된장 강된장 강된장 강된장 강된장 강된장 강된장 \n",
            "강된장 강된장 강된장 강된장 강된장 강된장 강된장 강된장 강된장 강된장 강된장 강된장 강된장 강된장 강된장 강된장 강된장 강된장 강된장 강된장 \n",
            "강된장 강된장 공장 강된장 강된장 강된장 강된장 강된장 강된장 강된장 강된장 강된장 강된장 강된장 강된장 강된장 강된장 강된장 강된장 강된장 \n",
            "강된장 강된장 공장 강된장 강된장 강된장 강된장 강된장 강된장 강된장 강된장 강된장 강된장 강된장 강된장 강된장 강된장 강된장 강된장 강된장 \n",
            "강된장 공장 공장 강된장 강된장 강된장 공장 강된장 강된장 강된장 강된장 공장 강된장 강된장 강된장 강된장 강된장 강된장 강된장 강된장 \n",
            "강된장 공장 공장 강된장 공장 강된장 공장 강된장 강된장 공장 강된장 공장 강된장 강된장 공장 강된장 공장 강된장 강된장 공장 \n",
            "강된장 공장 공장 강된장 공장 강된장 공장 공장장이고 강된장 공장 강된장 공장 공장장이고 강된장 공장 공장장이고 공장 공장 강된장 공장 \n",
            "강된장 공장 공장장이고 강된장 공장 강된장 공장 공장장이고 강된장 공장 공장장이고 공장 공장장이고 강된장 공장 공장장이고 공장 공장장이고 강된장 공장 \n",
            "강된장 공장 공장장이고 강된장 공장 공장장이고 공장 공장장이고 강된장 공장 공장장이고 공장 공장장이고 강된장 공장 공장장이고 공장 공장장이고 강된장 공장 \n",
            "강된장 공장 공장장이고 강된장 공장 공장장이고 공장 공장장이고 강된장 공장 공장장이고 공장 공장장이고 강된장 공장 공장장이고 공장 공장장이고 강된장 공장 \n",
            "강된장 공장 공장장이고 강된장 공장 공장장이고 공장 공장장이고 강된장 공장 공장장이고 공장 공장장이고 강된장 공장 공장장이고 공장 공장장이고 강된장 공장 \n",
            "강된장 공장 공장장이고 강된장 공장 공장장이고 공장 공장장이고 강된장 공장 공장장이고 공장 공장장이고 강된장 공장 공장장이고 공장 공장장이고 강된장 공장 \n",
            "강된장 공장 공장장이고 강된장 공장 공장장이고 공장 공장장이고 강된장 장 공장장이고 공장 공장장이고 강된장 공장 공장장이고 공장 강 강된장 공장 \n",
            "강된장 공장 공장장이고 강된장 장 공장장이고 공장 공장장이고 강된장 장 공장장이고 공장 강 강된장 장 공장장이고 공장 강 강된장 공장 \n",
            "강된장 공장 공장장이고 강된장 장 공장장이고 공장 공장장이고 강된장 장 공장장이고 공장 강 강된장 장 공장장이고 공장 강 강된장 공장 \n",
            "강된장 공장 공장장이고 강된장 장 공장장이고 공장 공장장이고 강된장 장 공장장이고 공장 강 강된장 장 공장장이고 공장 강 공장장이고 공장 \n",
            "강된장 공장 강 강된장 장 공장장이고 공장 공장장이고 강된장 장 공장장이고 공장 강 강된장 장 공장장이고 공장 강 공장장이고 공장 \n",
            "강된장 공장 강 강된장 장 공장장이고 공장 강 강된장 장 공장장이고 공장 강 강된장 장 공장장이고 공장 강 공장장이고 공장 \n",
            "강된장 공장 강 강된장 장 공장장이고 공장 강 강된장 장 공장장이고 공장 강 강된장 장 공장장이고 공장 강 공장장이고 공장 \n",
            "강된장 공장 강 강된장 장 공장장이고 공장 강 강된장 공장장은 공장장이고 공장 강 강된장 장 공장장이고 공장 강 공장장이고 공장 \n",
            "강된장 공장 강 공장장이고 공장장은 강된장 공장 강 강된장 공장장은 공장장이고 공장 강 강된장 장 공장장이고 공장 강 공장장이고 공장 \n",
            "강된장 공장 강 공장장이고 공장장은 강된장 공장 강 강된장 공장장은 강된장 공장 강 강된장 장 공장장이고 공장 강 공장장이고 공장 \n",
            "강된장 공장 강 공장장이고 공장장은 강된장 공장 강 공장 공장장은 강된장 공장 강 강된장 공장장은 공장장이고 공장 강 공장장이고 공장 \n",
            "강된장 공장 강 공장장이고 공장장은 강된장 공장 강 공장 공장장은 강된장 공장 강 공장 공장장은 강된장 공장 공장장은 공장장이고 공장 \n",
            "강된장 공장 강 공장장이고 공장 강된장 공장 강 공장 공장장은 강된장 공장 강 공장 공장장은 강된장 공장 공장장은 공장장이고 공장 \n",
            "강된장 공장 강 공장장이고 공장 강된장 공장 강 공장 공장장은 강된장 공장 강 공장 공장장은 강된장 공장 강 공장장이고 공장 \n",
            "강된장 공장 강 공장 공장 강된장 공장 강 공장 공장장은 강된장 공장 강 공장 공장장은 강된장 공장 강 공장장이고 공장 \n",
            "강된장 공장 강 공장 공장 강된장 공장 강 공장 공장장은 강된장 공장 강 공장 공장장은 강된장 공장 강 공장장이고 공장 \n",
            "강된장 공장 강 공장 공장 강된장 공장 강 공장 공장장은 강된장 공장 강 공장 공장장은 강된장 공장 강 공장장이고 공장 \n",
            "강된장 공장 강 공장 공장 강된장 공장 강 공장 공장장은 강된장 공장 강 공장 공장장은 강된장 공장 간장 공장장이고 공장 \n",
            "강된장 공장 강 공장 공장 강된장 공장 강 공장 공장장은 강된장 공장 강 공장 공장장은 강된장 공장 공장장이다 공장장이고 공장 \n",
            "강된장 공장 강 공장 공장 강된장 공장 강 공장 공장장은 강된장 공장 강 공장 공장장은 강된장 공장 공장 공장장이고 공장 \n",
            "강된장 공장 강 공장 공장 강된장 공장 강 공장 공장장은 강된장 공장 강 공장 공장장은 강된장 장 공장 공장장이고 공장 \n",
            "강된장 공장 강 공장 공장 강된장 공장 강 공장 공장장은 강된장 공장 강 공장 공장장은 강된장 장 공장 공장장이고 공장 \n",
            "강된장 공장 강 공장 공장 강된장 공장 강 공장 공장장은 강된장 공장 강 공장 공장장은 강된장 장 공장 공장장이고 공장 \n",
            "강된장 공장 강 공장 공장 강된장 공장 강 공장 공장장은 강된장 공장 강 공장 공장 강된장 장 공장 공장장이고 공장 \n",
            "강된장 공장 강 공장 공장 강된장 공장 강 공장 공장장은 강된장 공장 강 공장 공장 공장장이고 장 공장장이다 공장장이고 공장 \n",
            "강된장 공장 강 공장 공장 강된장 공장 강 공장 공장장은 강된장 공장 강 공장 공장 공장장이고 장 공장장이다 공장장이고 공장 \n",
            "강된장 공장 강 공장 공장 강된장 공장 강 공장 공장장은 강된장 공장 강 공장 공장 공장장이고 장 공장장이다 공장장이고 공장 \n",
            "강된장 공장 강 공장 공장 강된장 공장 강 공장 공장장은 강된장 공장 강 공장 공장 공장장이고 장 공장장이다 공장장이고 공장 \n",
            "강된장 공장 강 공장 공장 강된장 공장 강 공장 공장 강된장 공장 강 공장 공장 공장장이고 장 공장장이다 공장장이고 공장 \n",
            "강된장 공장 강 공장 공장 강된장 공장 강 공장 공장 강된장 공장 강 공장 공장 공장장이고 장 공장장이다 공장장이고 공장 \n",
            "강된장 공장 강 공장 공장 강된장 공장 강 공장 공장 강된장 공장 강 공장 공장 공장장이고 장 공장장이다 공장장이고 장 \n",
            "강된장 공장 강 공장 공장 강된장 공장 강 공장 공장 강된장 공장 강 공장 공장 공장장이고 장 공장장이다 공장장이고 장 \n",
            "강된장 공장 강 공장 공장 강된장 공장 강 공장 공장 강된장 공장 강 공장 공장 공장장이고 장 공장장이다 공장장이고 장 \n",
            "강된장 공장 강 공장 공 강된장 공장 강 공장 공장 강된장 공장 강 공장 공장 공장장이고 장 공장장이다 공장장이고 장 \n",
            "강된장 공장 강 공장 공 강된장 공장 강 공장 공장 강된장 공장 강 공장 공장 공장장이고 장 공장장이다 공장장이고 장 \n",
            "강된장 공장 강 공장 공 강된장 공장 강 공장 공장 강된장 공장 강 공장 공장 공장장이고 장 공장장이다 공장장이고 장 \n",
            "강된장 공장 강 공장 공 강된장 공장 간장 공장 공장 강된장 공장 강 공장 공장 공장장이고 장 공장장이다 공장장이고 장 \n",
            "강된장 공장 강 공장 공 강된장 공장 간장 공장 공장 강된장 공장 강 공장 공장 공장장이고 장 공장장이다 공장장이고 장 \n",
            "강된장 공장 강 공장 공 강된장 공장 간장 공장 공장 강된장 공장 간장 공장 공장 공장장이고 장 공장장이다 공장장이고 장 \n",
            "강된장 공장 강 공장 공 강된장 공장 간장 공장 공장 강된장 공장 간장 공장 공장 공장장이고 장 공장장이다 공장장이고 장 \n",
            "강된장 공장 강 공장 공 강된장 공장 간장 공장 공장 강된장 공장 강 공장 공장 공장장이고 장 공장장이다 공장장이고 장 \n",
            "강된장 공장 강 공장 공 강된장 공장 간장 공장 공장 강된장 공장 강 공장 공장 공장장이고 장 공장장이다 공장장이고 장 \n",
            "강된장 공장 강 공장 공 강된장 공장 간장 공장 공장 강된장 공장 강 공장 공장 공장장이고 장 공장장이다 공장장이고 장 \n",
            "강된장 공장 강 공장 공 강된장 공장 간장 공장 공장 강된장 공장 강 공장 공장 공장장이고 장 공장장이다 공장장이고 장 \n",
            "강된장 공장 강 공장 공 강된장 공장 간장 공장 공장 강된장 공장 강 공장 공장 공장장이고 장 공장장이다 공장장이고 장 \n",
            "강된장 공장 강 공장 공 강된장 공장 간장 공장 공장 강된장 공장 강 공장 공장 공장장이고 장 공장장이다 공장장이고 장 \n",
            "강된장 공장 강 공장 공 강된장 공장 간장 공장 공장 강된장 공장 강 공장 공장 공장장이고 장 공장장이다 공장장이고 장 \n",
            "강된장 공장 강 공장 공 강된장 공장 간장 공장 공장 강된장 공장 강 공장 공장 공장장이고 장 공장장이다 공장장이고 장 \n",
            "강된장 공장 강 공장 공 강된장 공장 간장 공장 공장 강된장 공장 강 공장 공장 공장장이고 장 공장장이다 공장장이고 장 \n",
            "강된장 공장 강 공장 공 강된장 공장 간장 공장 공장 강된장 공장 강 공장 공장 공장장이고 장 공장장이다 공장장이고 장 \n",
            "강된장 공장 강 공장 공 강된장 공장 간장 공장 공장 강된장 공장 강 공장 공장 공장장이고 장 공장장이다 공장장이고 장 \n",
            "강된장 공장 강 공장 공 강된장 공장 간장 공장 공장 강된장 공장 강 공장 공장 공장장이고 장 공장장이다 공장장이고 장 \n",
            "강된장 공장 강 공장 공 강된장 공장 간장 공장 공장장은 강된장 공장 강 공장 공장 공장장이고 장 공장장이다 공장장이고 장 \n",
            "강된장 공장 강 공장 공 강된장 공장 간장 공장 공장장은 강된장 공장 강 공장 공장 공장장이고 장 공장장이다 공장장이고 장 \n",
            "강된장 공장 강 공장 공 강된장 공장 간장 공장 공장장은 강된장 공장 강 공장 공장 공장장이고 장 공장장이다 공장장이고 장 \n",
            "강된장 공장 강 공장 공 강된장 공장 간장 공장 공장장은 강된장 공장 강 공장 공장 공장장이고 장 공장장이다 공장장이고 장 \n",
            "강된장 공장 강 공장 공 강된장 공장 간장 공장 공장장은 강된장 공장 강 공장 공장 공장장이고 장 공장장이다 공장장이고 장 \n",
            "강된장 공장 강 공장 공 강된장 공장 간장 공장 공장장은 강된장 공장 강 공장 공장 공장장이고 장 공장장이다 공장장이고 장 \n",
            "강된장 공장 강 공장 공 강된장 공장 간장 공장 공장장은 강된장 공장 강 공장 공장 공장장이고 장 공장장이다 공장장이고 장 \n",
            "강된장 공장 강 공장 공 강된장 공장 간장 공장 공장장은 강된장 공장 강 공장 공장 공장장이고 장 공장장이다 공장장이고 장 \n",
            "강된장 공장 강 공장 공 강된장 공장 간장 공장 공장장은 강된장 공장 강 공장 공장 공장장이고 장 공장장이다 공장장이고 장 \n",
            "강된장 공장 강 공장 공 강된장 공장 간장 공장 공장장은 강된장 공장 간장 공장 공장 공장장이고 장 공장장이다 공장장이고 장 \n",
            "강된장 공장 강 공장 공 강된장 공장 간장 공장 공장장은 강된장 공장 간장 공장 공장 공장장이고 장 공장장이다 공장장이고 장 \n",
            "강된장 공장 된장 공장 공 강된장 공장 간장 공장 공장장은 강된장 공장 간장 공장 공장 공장장이고 장 공장장이다 공장장이고 장 \n",
            "강된장 공장 된장 공장 공 강된장 공장 간장 공장 공장장은 강된장 공장 간장 공장 공장 공장장이고 장 공장장이다 공장장이고 장 \n",
            "강된장 공장 된장 공장 공 강된장 공장 간장 공장 공장장은 강된장 공장 간장 공장 공장 공장장이고 장 공장장이다 공장장이고 장 \n",
            "강된장 공장 된장 공장 공 강된장 공장 간장 공장 공장장은 강된장 공장 간장 공장 공장 공장장이고 장 공장장이다 공장장이고 장 \n",
            "강된장 공장 된장 공장 공 강된장 공장 간장 공장 공장장은 강된장 공장 간장 공장 공장 공장장이고 장 공장장이다 공장장이고 장 \n",
            "강된장 공장 된장 공장 공 강된장 공장 간장 공장 공장장은 강된장 공장 간장 공장 공장 공장장이고 장 공장장이다 공장장이고 장 \n",
            "강된장 공장 된장 공장 공 강된장 공장 간장 공장 공장장은 강된장 공장 간장 공장 공장 공장장이고 장 공장장이다 공장장이고 장 \n",
            "강된장 공장 된장 공장 공 강된장 공장 간장 공장 공장장은 강된장 공장 간장 공장 공장 공장장이고 장 공장장이다 공장장이고 장 \n",
            "강된장 공장 된장 공장 공 강된장 공장 간장 공장 공장장은 강된장 공장 간장 공장 공장 공장장이고 장 공장장이다 공장장이고 장 \n",
            "강된장 공장 된장 공장 공 강된장 공장 간장 공장 공장장은 강된장 공장 간장 공장 공장 공장장이고 장 공장장이다 공장장이고 장 \n",
            "강된장 공장 된장 공장 공 강된장 공장 간장 공장 공장장은 강된장 공장 간장 공장 공장 공장장이고 장 공장장이다 공장장이고 장 \n",
            "강된장 공장 된장 공장 공 강된장 공장 간장 공장 공장장은 강된장 공장 강 공장 공장 공장장이고 장 공장장이다 공장장이고 장 \n",
            "강된장 공장 된장 공장 공 강된장 공장 간장 공장 공장장은 강된장 공장 강 공장 공장 공장장이고 장 공장장이다 공장장이고 장 \n",
            "강된장 공장 된장 공장 공 강된장 공장 간장 공장 공장장은 강된장 공장 강 공장 공장 공장장이고 장 공장장이다 공장장이고 장 \n",
            "강된장 공장 된장 공장 공 강된장 공장 간장 공장 공장장은 강된장 공장 강 공장 공장 공장장이고 장 공장장이다 공장장이고 장 \n",
            "강된장 공장 된장 공장 공 강된장 공장 간장 공장 공장장은 강된장 공장 강 공장 공장 공장장이고 장 공장장이다 공장장이고 장 \n",
            "강된장 공장 된장 공장 공 강된장 공장 간장 공장 공장장은 강된장 공장 강 공장 공장 공장장이고 장 공장장이다 공장장이고 장 \n",
            "강된장 공장 된장 공장 공 강된장 공장 간장 공장 공장장은 강된장 공장 강 공장 공장 공장장이고 장 공장장이다 공장장이고 장 \n",
            "강된장 공장 된장 공장 공 강된장 공장 간장 공장 공장장은 강된장 공장 강 공장 공장 공장장이고 장 공장장이다 공장장이고 장 \n",
            "강된장 공장 된장 공장 공 강된장 공장 간장 공장 공장장은 강된장 공장 강 공장 공장 공장장이고 장 공장장이다 공장장이고 장 \n",
            "강된장 공장 된장 공장 공 강된장 공장 간장 공장 공장장은 강된장 공장 강 공장 공장 공장장이고 장 공장장이다 공장장이고 장 \n",
            "강된장 공장 된장 공장 공 강된장 공장 간장 공장 공장장은 강된장 공장 강 공장 공장 공장장이고 장 공장장이다 공장장이고 장 \n",
            "강된장 공장 된장 공장 공 강된장 공장 간장 공장 공장장은 강된장 공장 강 공장 공장 공장장이고 장 공장장이다 공장장이고 장 \n",
            "강된장 공장 된장 공장 공 강된장 공장 간장 공장 공장장은 강된장 공장 강 공장 공장 공장장이고 장 공장장이다 공장장이고 장 \n",
            "강된장 공장 된장 공장 공 강된장 공장 간장 공장 공장장은 강된장 공장 강 공장 공장 공장장이고 장 공장장이다 공장장이고 장 \n",
            "강된장 공장 된장 공장 공 강된장 공장 간장 공장 공장장은 강된장 공장 강 공장 공장 공장장이고 장 공장장이다 공장장이고 공장장이고 \n",
            "강된장 공장 된장 공장 공 강된장 공장 간장 공장 공장장은 강된장 공장 강 공장 공장 공장장이고 장 공장장이다 공장장이고 공장장이고 \n",
            "강된장 공장 된장 공장 공 강된장 공장 간장 공장 공장장은 강된장 공장 강 공장 공장 공장장이고 장 공장장이다 공장장이고 공장장이고 \n",
            "강된장 공장 된장 공장 공 강된장 공장 간장 공장 공장장은 강된장 공장 강 공장 공장 공장장이고 장 공장장이다 공장장이고 공장장이고 \n",
            "강된장 공장 된장 공장 공 강된장 공장 간장 공장 공장장은 강된장 공장 강 공장 공장 공장장이고 장 공장장이다 공장장이고 공장장이고 \n",
            "강된장 공장 된장 공장 공 강된장 공장 간장 공장장은 공장장은 강된장 공장 강 공장 공장 공장장이고 장 공장장이다 공장장이고 공장장이고 \n",
            "강된장 공장 된장 공장 공 강된장 공장 간장 공장장은 공장장은 강된장 공장 강 공장장은 공장 공장장이고 장 공장장이다 공장장이고 공장장이고 \n",
            "강된장 공장 된장 공장 공 강된장 공장 간장 공장장은 공장장은 강된장 공장 강 공장장은 공장 공장장이고 장 공장장이다 공장장이고 공장장이고 \n",
            "강된장 공장 된장 공장 공 강된장 공장 간장 공장장은 공장장은 강된장 공장 강 공장장은 공장 공장장이고 장 공장장이다 공장장이고 공장장이고 \n",
            "강된장 공장 된장 공장 공 강된장 공장 간장 공장장은 공장장은 강된장 공장 강 공장장은 공장 공장장이고 장 공장장이다 공장장이고 공장장이고 \n",
            "강된장 공장 된장 공장 공 강된장 공장 간장 공장장은 공장장은 강된장 공장 강 공장장은 공장 공장장이고 장 공장장이다 공장장이고 공장장이고 \n",
            "강된장 공장 된장 공장 공 강된장 공장 간장 공장장은 공장장은 강된장 공장 강 공장장은 공장 공장장이고 장 공장장이다 공장장이고 공장장이고 \n",
            "강된장 공장 된장 공장 공 강된장 공장 간장 공장 공장장은 강된장 공장 강 공장장은 공장 공장장이고 장 공장장이다 공장장이고 공장장이고 \n",
            "강된장 공장 된장 공장 공 강된장 공장 간장 공장 공장장은 강된장 공장 강 공장장은 공장 공장장이고 장 공장장이다 공장장이고 공장장이고 \n",
            "강된장 공장 된장 공장 공 강된장 공장 간장 공장 공장장은 강된장 공장 강 공장장은 공장 공장장이고 장 공장장이다 공장장이고 공장장이고 \n",
            "강된장 공장 된장 공장 공 강된장 공장 간장 공장 공장장은 강된장 공장 강 공장장은 공장 공장장이고 장 공장장이다 공장장이고 공장장이고 \n",
            "강된장 공장 된장 공장 공 강된장 공장 간장 공장 공장장은 강된장 공장 강 공장장은 공장 공장장이고 장 공장장이다 공장장이고 공장장이고 \n",
            "강된장 공장 된장 공장 공 강된장 공장 간장 공장 공장장은 강된장 공장 강 공장장은 공장 공장장이고 장 공장장이다 공장장이고 공장장이고 \n",
            "강된장 공장 된장 공장 공 강된장 공장 간장 공장 공장장은 강된장 공장 강 공장장은 공장 공장장이고 장 공장장이다 공장장이고 공장장이고 \n",
            "강된장 공장 된장 공장 공 강된장 공장 간장 공장 공장장은 강된장 공장 강 공장장은 공장 공장장이고 장 공장장이다 공장장이고 공장장이고 \n",
            "강된장 공장 된장 공장 공 강된장 공장 간장 공장 공장장은 강된장 공장 강 공장장은 공장 공장장이고 장 공장장이다 공장장이고 공장장이고 \n",
            "강된장 공장 된장 공장 공 강된장 공장 간장 공장 공장장은 강된장 공장 강 공장장은 공장 공장장이고 장 공장장이다 공장장이고 공장장이고 \n",
            "강된장 공장 된장 공장 공 강된장 공장 간장 공장 공장장은 강된장 공장 강 공장장은 공장 공장장이고 장 공장장이다 공장장이고 공장장이고 \n",
            "강된장 공장 된장 공장 공 강된장 공장 간장 공장 공장장은 강된장 공장 강 공장장은 공장 공장장이고 장 공장장이다 공장장이고 공장장이고 \n",
            "강된장 공장 된장 공장 공 강된장 공장 간장 공장 공장장은 강된장 공장 강 공장장은 공장 공장장이고 장 공장장이다 공장장이고 공장장이고 \n",
            "강된장 공장 된장 공장 공 강된장 공장 간장 공장 공장장은 강된장 공장 강 공장장은 공장 공장장이고 장 공장장이다 공장장이고 공장장이고 \n",
            "강된장 공장 된장 공장 공 강된장 공장 간장 공장 공장장은 강된장 공장 강 공장장은 공장 공장장이고 장 공장장이다 공장장이고 공장장이고 \n",
            "강된장 공장 된장 공장 공 강된장 공장 간장 공장 공장장은 강된장 공장 강 공장장은 공장 공장장이고 장 공장장이다 공장장이고 공장장이고 \n",
            "강된장 공장 된장 공장 공 강된장 공장 간장 공장 공장장은 강된장 공장 강 공장장은 공장 공장장이고 장 공장장이다 공장장이고 공장장이고 \n",
            "강된장 공장 된장 공장 공 강된장 공장 간장 공장 공장장은 강된장 공장 강 공장장은 공장 공장장이고 장 공장장이다 공장장이고 공장장이고 \n",
            "강된장 공장 된장 공장 공 강된장 공장 간장 공장 공장장은 강된장 공장 강 공장장은 공장 공장장이고 장 공장장이다 공장장이고 공장장이고 \n",
            "강된장 공장 된장 공장 공 강된장 공장 간장 공장 공장장은 강된장 공장 강 공장장은 공장 공장장이고 장 공장장이다 공장장이고 공장장이고 \n",
            "강된장 공장 된장 공장 공 강된장 공장 간장 공장 공장장은 강된장 공장 강 공장장은 공장 공장장이고 장 공장장이다 공장장이고 공장장이고 \n",
            "강된장 공장 된장 공장 공 강된장 공장 간장 공장 공장장은 강된장 공장 강 공장장은 공장 공장장이고 장 공장장이다 공장장이고 공장장이고 \n",
            "강된장 공장 된장 공장 공 강된장 공장 간장 공장 공장장은 강된장 공장 강 공장장은 공장 공장장이고 장 공장장이다 공장장이고 공장장이고 \n",
            "강된장 공장 된장 공장 공 강된장 공장 간장 공장 공장장은 강된장 공장 강 공장장은 공장 공장장이고 장 공장장이다 공장장이고 공장장이고 \n",
            "강된장 공장 된장 공장 공 강된장 공장 간장 공장 공장장은 강된장 공장 강 공장장은 공장 공장장이고 장 공장장이다 공장장이고 공장장이고 \n",
            "강된장 공장 된장 공장 공 강된장 공장 간장 공장 공장장은 강된장 공장 강 공장장은 공장 공장장이고 장 공장장이다 공장장이고 공장장이고 \n",
            "강된장 공장 된장 공장 공 강된장 공장 간장 공장 공장장은 강된장 공장 강 공장장은 공장 공장장이고 장 공장장이다 공장장이고 공장장이고 \n",
            "강된장 공장 된장 공장 공 강된장 공장 간장 공장 공장장은 강된장 공장 강 공장장은 공장 공장장이고 장 공장장이다 공장장이고 공장장이고 \n",
            "강된장 공장 된장 공장 공 강된장 공장 간장 공장 공장장은 강된장 공장 강 공장장은 공장 공장장이고 장 공장장이다 공장장이고 공장장이고 \n",
            "강된장 공장 된장 공장 공 강된장 공장 간장 공장 공장장은 강된장 공장 강 공장장은 공장 공장장이고 장 공장장이다 공장장이고 공장장이고 \n",
            "강된장 공장 된장 공장 공 강된장 공장 간장 공장 공장장은 강된장 공장 강 공장장은 공장 공장장이고 장 공장장이다 공장장이고 공장장이고 \n",
            "강된장 공장 된장 공장 공 강된장 공장 간장 공장 공장장은 강된장 공장 강 공장장은 공장 공장장이고 장 공장장이다 공장장이고 공장장이고 \n",
            "강된장 공장 된장 공장 공 강된장 공장 간장 공장 공장장은 강된장 공장 강 공장장은 공장 공장장이고 장 공장장이다 공장장이고 공장장이고 \n",
            "강된장 공장 된장 공장 공 강된장 공장 간장 공장 공장장은 강된장 공장 강 공장장은 공장 공장장이고 장 공장장이다 공장장이고 공장장이고 \n",
            "강된장 공장 된장 공장 공 강된장 공장 간장 공장 공장장은 강된장 공장 강 공장장은 공장 공장장이고 장 공장장이다 공장장이고 공장장이고 \n",
            "강된장 공장 된장 공장 공 강된장 공장 간장 공장 공장장은 강된장 공장 강 공장장은 공장 공장장이고 장 공장장이다 공장장이고 공장장이고 \n",
            "강된장 공장 된장 공장 공 강된장 공장 간장 공장 공장장은 강된장 공장 강 공장장은 공장 공장장이고 장 공장장이다 공장장이고 공장장이고 \n",
            "강된장 공장 된장 공장 공 강된장 공장 간장 공장 공장장은 강된장 공장 강 공장장은 공장 공장장이고 장 공장장이다 공장장이고 공장장이고 \n",
            "강된장 공장 된장 공장 공 강된장 공장 간장 공장 공장장은 강된장 공장 강 공장장은 공장 공장장이고 장 공장장이다 공장장이고 공장장이고 \n",
            "강된장 공장 된장 공장 공 강된장 공장 간장 공장 공장장은 강된장 공장 강 공장장은 공장 공장장이고 장 공장장이다 공장장이고 공장장이고 \n",
            "강된장 공장 된장 공장 공 강된장 공장 간장 공장 공장장은 강된장 공장 강 공장장은 공장 공장장이고 장 공장장이다 공장장이고 공장장이고 \n",
            "강된장 공장 된장 공장 공 강된장 공장 간장 공장 공장장은 강된장 공장 강 공장장은 공장 공장장이고 장 공장장이다 공장장이고 공장장이고 \n",
            "강된장 공장 된장 공장 공 강된장 공장 간장 공장 공장장은 강된장 공장 강 공장장은 공장 공장장이고 장 공장장이다 공장장이고 공장장이고 \n",
            "강된장 공장 된장 공장 공 강된장 공장 간장 공장 공장장은 강된장 공장 강 공장장은 공장 공장장이고 장 공장장이다 공장장이고 공장장이고 \n",
            "강된장 공장 된장 공장 공 강된장 공장 간장 공장 공장장은 강된장 공장 강 공장장은 공장 공장장이고 장 공장장이다 공장장이고 공장장이고 \n",
            "강된장 공장 된장 공장 공 강된장 공장 간장 공장 공장장은 강된장 공장 강 공장장은 공장 공장장이고 장 공장장이다 공장장이고 공장장이고 \n",
            "강된장 공장 된장 공장 공 강된장 공장 간장 공장 공장장은 강된장 공장 강 공장장은 공장 공장장이고 장 공장장이다 공장장이고 공장장이고 \n",
            "강된장 공장 된장 공장 공 강된장 공장 간장 공장 공장장은 강된장 공장 강 공장장은 공장 공장장이고 장 공장장이다 공장장이고 공장장이고 \n",
            "강된장 공장 된장 공장 공 강된장 공장 간장 공장 공장장은 강된장 공장 강 공장장은 공장 공장장이고 장 공장장이다 공장장이고 공장장이고 \n",
            "강된장 공장 된장 공장 공 강된장 공장 간장 공장 공장장은 강된장 공장 강 공장장은 공장 공장장이고 장 공장장이다 공장장이고 공장장이고 \n",
            "강된장 공장 된장 공장 공 강된장 공장 간장 공장 공장장은 강된장 공장 강 공장장은 공장 공장장이고 장 공장장이다 공장장이고 공장장이고 \n",
            "강된장 공장 된장 공장 공 강된장 공장 간장 공장 공장장은 강된장 공장 강 공장장은 공장 공장장이고 장 공장장이다 공장장이고 공장장이고 \n",
            "강된장 공장 된장 공장 공 강된장 공장 간장 공장 공장장은 강된장 공장 강 공장장은 공장 공장장이고 장 공장장이다 공장장이고 공장장이고 \n",
            "강된장 공장 된장 공장 공 강된장 공장 간장 공장 공장장은 강된장 공장 강 공장장은 공장 공장장이고 장 공장장이다 공장장이고 공장장이고 \n",
            "강된장 공장 된장 공장 공 강된장 공장 간장 공장 공장장은 강된장 공장 강 공장장은 공장 공장장이고 장 공장장이다 공장장이고 공장장이고 \n",
            "강된장 공장 된장 공장 공 강된장 공장 간장 공장 공장장은 강된장 공장 강 공장장은 공장 공장장이고 장 공장장이다 공장장이고 공장장이고 \n",
            "강된장 공장 된장 공장 공 강된장 공장 간장 공장 공장장은 강된장 공장 강 공장장은 공장 공장장이고 장 공장장이다 공장장이고 공장장이고 \n",
            "강된장 공장 된장 공장 공 강된장 공장 간장 공장 공장장은 강된장 공장 강 공장장은 공장 공장장이고 장 공장장이다 공장장이고 공장장이고 \n",
            "강된장 공장 된장 공장 공 강된장 공장 간장 공장 공장장은 강된장 공장 강 공장장은 공장 공장장이고 장 공장장이다 공장장이고 공장장이고 \n",
            "강된장 공장 된장 공장 공 강된장 공장 간장 공장 공장장은 강된장 공장 강 공장장은 공장 공장장이고 장 공장장이다 공장장이고 공장장이고 \n",
            "강된장 공장 된장 공장 공 강된장 공장 간장 공장 공장장은 강된장 공장 강 공장장은 공장 공장장이고 장 공장장이다 공장장이고 공장장이고 \n",
            "강된장 공장 된장 공장 공 강된장 공장 간장 공장 공장장은 강된장 공장 강 공장장은 공장 공장장이고 장 공장장이다 공장장이고 공장장이고 \n",
            "강된장 공장 된장 공장 공 강된장 공장 간장 공장 공장장은 강된장 공장 강 공장장은 공장 공장장이고 장 공장장이다 공장장이고 공장장이고 \n",
            "강된장 공장 된장 공장 공 강된장 공장 간장 공장 공장장은 강된장 공장 강 공장장은 공장 공장장이고 장 공장장이다 공장장이고 공장장이고 \n",
            "강된장 공장 된장 공장 공 강된장 공장 간장 공장 공장장은 강된장 공장 강 공장장은 공장 공장장이고 장 공장장이다 공장장이고 공장장이고 \n",
            "강된장 공장 된장 공장 공 강된장 공장 간장 공장 공장장은 강된장 공장 강 공장장은 공장 공장장이고 장 공장장이다 공장장이고 공장장이고 \n",
            "강된장 공장 된장 공장 공 강된장 공장 간장 공장 공장장은 강된장 공장 강 공장장은 공장 공장장이고 장 공장장이다 공장장이고 공장장이고 \n",
            "강된장 공장 된장 공장 공 강된장 공장 간장 공장 공장장은 강된장 공장 강 공장장은 공장 공장장이고 장 공장장이다 공장장이고 공장장이고 \n",
            "강된장 공장 된장 공장 공 강된장 공장 간장 공장 공장장은 강된장 공장 강 공장장은 공장 공장장이고 장 공장장이다 공장장이고 공장장이고 \n",
            "강된장 공장 된장 공장 공 강된장 공장 간장 공장 공장장은 강된장 공장 강 공장장은 공장 공장장이고 장 공장장이다 공장장이고 공장장이고 \n",
            "강된장 공장 된장 공장 공 강된장 공장 간장 공장 공장장은 강된장 공장 강 공장장은 공장 공장장이고 장 공장장이다 공장장이고 공장장이고 \n",
            "강된장 공장 된장 공장 공 강된장 공장 간장 공장 공장장은 강된장 공장 강 공장장은 공장 공장장이고 장 공장장이다 공장장이고 공장장이고 \n",
            "강된장 공장 된장 공장 공 강된장 공장 간장 공장 공장장은 강된장 공장 강 공장장은 공장 공장장이고 장 공장장이다 공장장이고 공장장이고 \n",
            "강된장 공장 된장 공장 공 강된장 공장 간장 공장 공장장은 강된장 공장 강 공장장은 공장 공장장이고 장 공장장이다 공장장이고 공장장이고 \n",
            "강된장 공장 된장 공장 공 강된장 공장 간장 공장 공장장은 강된장 공장 강 공장장은 공장 공장장이고 장 공장장이다 공장장이고 공장장이고 \n",
            "강된장 공장 된장 공장 공 강된장 공장 간장 공장 공장장은 강된장 공장 강 공장장은 공장 공장장이고 장 공장장이다 공장장이고 공장장이고 \n",
            "강된장 공장 된장 공장 공 강된장 공장 간장 공장 공장장은 강된장 공장 강 공장장은 공장 공장장이고 장 공장장이다 공장장이고 공장장이고 \n",
            "강된장 공장 된장 공장 공 강된장 공장 간장 공장 공장장은 강된장 공장 강 공장장은 공장 공장장이고 장 공장장이다 공장장이고 공장장이고 \n",
            "강된장 공장 된장 공장 공 강된장 공장 간장 공장 공장장은 강된장 공장 강 공장장은 공장 공장장이고 장 공장장이다 공장장이고 공장장이고 \n",
            "강된장 공장 된장 공장 공 강된장 공장 간장 공장 공장장은 강된장 공장 강 공장장은 공장 공장장이고 장 공장장이다 공장장이고 공장장이고 \n",
            "강된장 공장 된장 공장 공 강된장 공장 간장 공장 공장장은 강된장 공장 강 공장장은 공장 공장장이고 장 공장장이다 공장장이고 공장장이고 \n",
            "강된장 공장 된장 공장 공 강된장 공장 간장 공장 공장장은 강된장 공장 강 공장장은 공장 공장장이고 장 공장장이다 공장장이고 공장장이고 \n",
            "강된장 공장 된장 공장 공 강된장 공장 간장 공장 공장장은 강된장 공장 강 공장장은 공장 공장장이고 장 공장장이다 공장장이고 공장장이고 \n"
          ]
        }
      ]
    },
    {
      "cell_type": "code",
      "source": [
        " # 반대로 반복되는 단어가 없는 소규모 데이터셋을 학습한 경우는 어떻게 될까?\n",
        "\n",
        "sentence = (\"죽는 날까지 하늘을 우러러 한 점 부끄럼이 없기를 \"\n",
        "            \"잎새에 이는 바람에도 나는 괴로워했다 \"\n",
        "            \"별을 노래하는 마음으로 모든 죽어 가는 것을 사랑해야지 \"\n",
        "            \"그리고 나한테 주어진 길을 걸어가야겠다 \"\n",
        "            \"오늘 밤에도 별이 바람에 스치운다 \")\n",
        "\n",
        "word_split = sentence.split()\n",
        "\n",
        "num=0\n",
        "for i in word_split :\n",
        "  word_split[num] = i + ' '\n",
        "  num += 1\n",
        "\n",
        "vocab = {x:entry for entry, x in enumerate(set(word_split))}\n",
        "vocab_size = len(vocab)\n",
        "print(\"단어의 수: \", len(word_split))\n",
        "print('단어 집합 크기 : {}'.format(vocab_size))\n",
        "print(vocab)\n",
        "\n",
        "hidden_size = vocab_size \n",
        "sequence_length = 5\n",
        "learning_rate = 0.005\n",
        "x_data = []\n",
        "y_data = []\n",
        "\n",
        "for i in range(0, len(word_split) - sequence_length):\n",
        "  x_str = word_split[i:sequence_length+i]\n",
        "  y_str = word_split[i+1:sequence_length+i+1]\n",
        "  print(i, x_str, \"->\", y_str)\n",
        "  x_data.append([vocab[c] for c in x_str])\n",
        "  y_data.append([vocab[d] for d in y_str])\n",
        "\n",
        "x_one_hot = np.eye(np.max(x_data)+1)[np.array(x_data)]\n",
        "X = torch.FloatTensor(x_one_hot)\n",
        "Y = torch.LongTensor(y_data)\n",
        "print('훈련 데이터의 크기 : {}'.format(X.shape))\n",
        "print('레이블의 크기 : {}'.format(Y.shape))\n",
        "\n",
        "class Net(torch.nn.Module):\n",
        "  def __init__(self, input_dim, hidden_dim, layers):\n",
        "    super(Net, self).__init__()\n",
        "    self.rnn = torch.nn.RNN(input_size=input_dim, hidden_size=hidden_dim, num_layers=layers, batch_first=True)\n",
        "    self.fc = torch.nn.Linear(input_dim, hidden_dim, bias=True)\n",
        "  \n",
        "  def forward(self, x):\n",
        "    x, hidden = self.rnn(x)\n",
        "    x = self.fc(x)\n",
        "    return x\n",
        "net = Net(vocab_size, hidden_size, 5)\n",
        "criterion = torch.nn.CrossEntropyLoss()\n",
        "optimizer = optim.Adam(net.parameters(), learning_rate)\n",
        "outputs = net(X)\n",
        "print(outputs.shape)"
      ],
      "metadata": {
        "colab": {
          "base_uri": "https://localhost:8080/"
        },
        "id": "OrhEqBrRkviq",
        "outputId": "790d08e1-a46d-43da-9162-451581f7dec6"
      },
      "execution_count": 401,
      "outputs": [
        {
          "output_type": "stream",
          "name": "stdout",
          "text": [
            "단어의 수:  31\n",
            "단어 집합 크기 : 31\n",
            "{'나는 ': 0, '바람에 ': 1, '이는 ': 2, '사랑해야지 ': 3, '가는 ': 4, '주어진 ': 5, '마음으로 ': 6, '밤에도 ': 7, '별이 ': 8, '것을 ': 9, '길을 ': 10, '부끄럼이 ': 11, '걸어가야겠다 ': 12, '노래하는 ': 13, '모든 ': 14, '죽는 ': 15, '오늘 ': 16, '점 ': 17, '없기를 ': 18, '날까지 ': 19, '그리고 ': 20, '죽어 ': 21, '한 ': 22, '하늘을 ': 23, '나한테 ': 24, '바람에도 ': 25, '스치운다 ': 26, '우러러 ': 27, '잎새에 ': 28, '괴로워했다 ': 29, '별을 ': 30}\n",
            "0 ['죽는 ', '날까지 ', '하늘을 ', '우러러 ', '한 '] -> ['날까지 ', '하늘을 ', '우러러 ', '한 ', '점 ']\n",
            "1 ['날까지 ', '하늘을 ', '우러러 ', '한 ', '점 '] -> ['하늘을 ', '우러러 ', '한 ', '점 ', '부끄럼이 ']\n",
            "2 ['하늘을 ', '우러러 ', '한 ', '점 ', '부끄럼이 '] -> ['우러러 ', '한 ', '점 ', '부끄럼이 ', '없기를 ']\n",
            "3 ['우러러 ', '한 ', '점 ', '부끄럼이 ', '없기를 '] -> ['한 ', '점 ', '부끄럼이 ', '없기를 ', '잎새에 ']\n",
            "4 ['한 ', '점 ', '부끄럼이 ', '없기를 ', '잎새에 '] -> ['점 ', '부끄럼이 ', '없기를 ', '잎새에 ', '이는 ']\n",
            "5 ['점 ', '부끄럼이 ', '없기를 ', '잎새에 ', '이는 '] -> ['부끄럼이 ', '없기를 ', '잎새에 ', '이는 ', '바람에도 ']\n",
            "6 ['부끄럼이 ', '없기를 ', '잎새에 ', '이는 ', '바람에도 '] -> ['없기를 ', '잎새에 ', '이는 ', '바람에도 ', '나는 ']\n",
            "7 ['없기를 ', '잎새에 ', '이는 ', '바람에도 ', '나는 '] -> ['잎새에 ', '이는 ', '바람에도 ', '나는 ', '괴로워했다 ']\n",
            "8 ['잎새에 ', '이는 ', '바람에도 ', '나는 ', '괴로워했다 '] -> ['이는 ', '바람에도 ', '나는 ', '괴로워했다 ', '별을 ']\n",
            "9 ['이는 ', '바람에도 ', '나는 ', '괴로워했다 ', '별을 '] -> ['바람에도 ', '나는 ', '괴로워했다 ', '별을 ', '노래하는 ']\n",
            "10 ['바람에도 ', '나는 ', '괴로워했다 ', '별을 ', '노래하는 '] -> ['나는 ', '괴로워했다 ', '별을 ', '노래하는 ', '마음으로 ']\n",
            "11 ['나는 ', '괴로워했다 ', '별을 ', '노래하는 ', '마음으로 '] -> ['괴로워했다 ', '별을 ', '노래하는 ', '마음으로 ', '모든 ']\n",
            "12 ['괴로워했다 ', '별을 ', '노래하는 ', '마음으로 ', '모든 '] -> ['별을 ', '노래하는 ', '마음으로 ', '모든 ', '죽어 ']\n",
            "13 ['별을 ', '노래하는 ', '마음으로 ', '모든 ', '죽어 '] -> ['노래하는 ', '마음으로 ', '모든 ', '죽어 ', '가는 ']\n",
            "14 ['노래하는 ', '마음으로 ', '모든 ', '죽어 ', '가는 '] -> ['마음으로 ', '모든 ', '죽어 ', '가는 ', '것을 ']\n",
            "15 ['마음으로 ', '모든 ', '죽어 ', '가는 ', '것을 '] -> ['모든 ', '죽어 ', '가는 ', '것을 ', '사랑해야지 ']\n",
            "16 ['모든 ', '죽어 ', '가는 ', '것을 ', '사랑해야지 '] -> ['죽어 ', '가는 ', '것을 ', '사랑해야지 ', '그리고 ']\n",
            "17 ['죽어 ', '가는 ', '것을 ', '사랑해야지 ', '그리고 '] -> ['가는 ', '것을 ', '사랑해야지 ', '그리고 ', '나한테 ']\n",
            "18 ['가는 ', '것을 ', '사랑해야지 ', '그리고 ', '나한테 '] -> ['것을 ', '사랑해야지 ', '그리고 ', '나한테 ', '주어진 ']\n",
            "19 ['것을 ', '사랑해야지 ', '그리고 ', '나한테 ', '주어진 '] -> ['사랑해야지 ', '그리고 ', '나한테 ', '주어진 ', '길을 ']\n",
            "20 ['사랑해야지 ', '그리고 ', '나한테 ', '주어진 ', '길을 '] -> ['그리고 ', '나한테 ', '주어진 ', '길을 ', '걸어가야겠다 ']\n",
            "21 ['그리고 ', '나한테 ', '주어진 ', '길을 ', '걸어가야겠다 '] -> ['나한테 ', '주어진 ', '길을 ', '걸어가야겠다 ', '오늘 ']\n",
            "22 ['나한테 ', '주어진 ', '길을 ', '걸어가야겠다 ', '오늘 '] -> ['주어진 ', '길을 ', '걸어가야겠다 ', '오늘 ', '밤에도 ']\n",
            "23 ['주어진 ', '길을 ', '걸어가야겠다 ', '오늘 ', '밤에도 '] -> ['길을 ', '걸어가야겠다 ', '오늘 ', '밤에도 ', '별이 ']\n",
            "24 ['길을 ', '걸어가야겠다 ', '오늘 ', '밤에도 ', '별이 '] -> ['걸어가야겠다 ', '오늘 ', '밤에도 ', '별이 ', '바람에 ']\n",
            "25 ['걸어가야겠다 ', '오늘 ', '밤에도 ', '별이 ', '바람에 '] -> ['오늘 ', '밤에도 ', '별이 ', '바람에 ', '스치운다 ']\n",
            "훈련 데이터의 크기 : torch.Size([26, 5, 31])\n",
            "레이블의 크기 : torch.Size([26, 5])\n",
            "torch.Size([26, 5, 31])\n"
          ]
        }
      ]
    },
    {
      "cell_type": "code",
      "source": [
        "# 무한 루프에는 빠지지 않으나, 문장 전체적인 흐름이 매끄럽지 못함... 간헐적으로 2~3개 단어 사이만 적절하게 연결되는 것이 확인됨\n",
        "# 애초에 모든 단어가 한번씩만 나오기 때문에 새로우면서 자연스러운 문장을 기대할 수 없음\n",
        "\n",
        "for i in range(50):\n",
        "    optimizer.zero_grad()\n",
        "    outputs = net(X)\n",
        "    loss = criterion(outputs.view(-1, vocab_size), Y.view(-1))\n",
        "    loss.backward()\n",
        "    optimizer.step()\n",
        "\n",
        "    results = outputs.argmax(dim=2)\n",
        "    predict_str = \"\"\n",
        "    for j, result in enumerate(results):\n",
        "        if j == 0: \n",
        "            predict_str += ''.join([word_split[t] for t in result])\n",
        "        else: \n",
        "            predict_str += word_split[result[-1]]\n",
        "\n",
        "    print(predict_str)"
      ],
      "metadata": {
        "colab": {
          "base_uri": "https://localhost:8080/"
        },
        "id": "8ybbV0aYl46r",
        "outputId": "9e284c86-a773-481a-faf9-d2e00b5afcd6"
      },
      "execution_count": 402,
      "outputs": [
        {
          "output_type": "stream",
          "name": "stdout",
          "text": [
            "부끄럼이 부끄럼이 부끄럼이 부끄럼이 부끄럼이 부끄럼이 부끄럼이 부끄럼이 부끄럼이 부끄럼이 부끄럼이 부끄럼이 부끄럼이 부끄럼이 부끄럼이 부끄럼이 부끄럼이 부끄럼이 부끄럼이 부끄럼이 부끄럼이 부끄럼이 부끄럼이 부끄럼이 부끄럼이 부끄럼이 부끄럼이 부끄럼이 부끄럼이 부끄럼이 \n",
            "부끄럼이 부끄럼이 부끄럼이 부끄럼이 부끄럼이 부끄럼이 부끄럼이 부끄럼이 부끄럼이 부끄럼이 부끄럼이 부끄럼이 부끄럼이 부끄럼이 부끄럼이 부끄럼이 부끄럼이 부끄럼이 부끄럼이 부끄럼이 부끄럼이 부끄럼이 부끄럼이 부끄럼이 부끄럼이 부끄럼이 부끄럼이 부끄럼이 부끄럼이 부끄럼이 \n",
            "부끄럼이 부끄럼이 바람에도 괴로워했다 괴로워했다 바람에도 이는 괴로워했다 부끄럼이 이는 바람에도 바람에도 부끄럼이 바람에도 부끄럼이 괴로워했다 바람에도 바람에도 이는 바람에도 바람에도 이는 괴로워했다 바람에도 바람에도 이는 바람에도 괴로워했다 바람에도 이는 \n",
            "부끄럼이 이는 바람에도 괴로워했다 괴로워했다 괴로워했다 이는 괴로워했다 괴로워했다 이는 괴로워했다 괴로워했다 괴로워했다 괴로워했다 부끄럼이 괴로워했다 괴로워했다 괴로워했다 이는 괴로워했다 바람에도 이는 괴로워했다 괴로워했다 괴로워했다 괴로워했다 괴로워했다 괴로워했다 괴로워했다 이는 \n",
            "부끄럼이 이는 바람에도 괴로워했다 괴로워했다 괴로워했다 부끄럼이 괴로워했다 하늘을 이는 하늘을 괴로워했다 부끄럼이 부끄럼이 부끄럼이 괴로워했다 괴로워했다 부끄럼이 이는 괴로워했다 부끄럼이 부끄럼이 괴로워했다 괴로워했다 괴로워했다 괴로워했다 괴로워했다 괴로워했다 부끄럼이 이는 \n",
            "부끄럼이 이는 바람에도 사랑해야지 부끄럼이 부끄럼이 부끄럼이 괴로워했다 하늘을 이는 하늘을 부끄럼이 부끄럼이 부끄럼이 부끄럼이 노래하는 하늘을 부끄럼이 이는 괴로워했다 사랑해야지 부끄럼이 괴로워했다 사랑해야지 부끄럼이 이는 괴로워했다 부끄럼이 하늘을 부끄럼이 \n",
            "부끄럼이 노래하는 노래하는 사랑해야지 부끄럼이 부끄럼이 부끄럼이 노래하는 하늘을 이는 하늘을 가는 부끄럼이 사랑해야지 부끄럼이 노래하는 그리고 부끄럼이 이는 없기를 사랑해야지 부끄럼이 노래하는 사랑해야지 부끄럼이 이는 사랑해야지 부끄럼이 하늘을 부끄럼이 \n",
            "부끄럼이 노래하는 노래하는 사랑해야지 부끄럼이 부끄럼이 부끄럼이 노래하는 하늘을 이는 하늘을 바람에 하늘을 사랑해야지 부끄럼이 노래하는 그리고 사랑해야지 이는 없기를 사랑해야지 길을 노래하는 사랑해야지 이는 이는 사랑해야지 한 하늘을 부끄럼이 \n",
            "부끄럼이 이는 노래하는 사랑해야지 이는 없기를 부끄럼이 노래하는 하늘을 이는 나한테 바람에 스치운다 사랑해야지 부끄럼이 노래하는 그리고 한 이는 없기를 사랑해야지 길을 노래하는 사랑해야지 이는 이는 하늘을 한 하늘을 이는 \n",
            "부끄럼이 이는 노래하는 그리고 이는 없기를 가는 노래하는 하늘을 이는 나한테 바람에 나한테 사랑해야지 부끄럼이 노래하는 그리고 한 이는 그리고 사랑해야지 길을 노래하는 사랑해야지 한 모든 바람에도 한 하늘을 이는 \n",
            "부끄럼이 길을 노래하는 그리고 이는 없기를 가는 노래하는 하늘을 이는 나한테 바람에 나한테 사랑해야지 부끄럼이 노래하는 그리고 한 이는 그리고 사랑해야지 길을 노래하는 그리고 한 모든 바람에도 한 하늘을 이는 \n",
            "부끄럼이 길을 노래하는 그리고 괴로워했다 없기를 가는 노래하는 하늘을 이는 죽는 바람에 나한테 사랑해야지 부끄럼이 노래하는 그리고 한 이는 점 사랑해야지 길을 노래하는 그리고 한 모든 바람에도 한 하늘을 이는 \n",
            "부끄럼이 길을 노래하는 그리고 잎새에 하늘을 가는 노래하는 하늘을 바람에 죽는 바람에 죽는 사랑해야지 부끄럼이 노래하는 그리고 한 이는 점 사랑해야지 길을 노래하는 그리고 괴로워했다 모든 바람에도 잎새에 하늘을 이는 \n",
            "길을 길을 노래하는 그리고 잎새에 하늘을 길을 노래하는 하늘을 바람에 죽는 바람에 죽는 사랑해야지 부끄럼이 노래하는 그리고 한 이는 점 사랑해야지 길을 노래하는 그리고 괴로워했다 모든 바람에도 잎새에 하늘을 길을 \n",
            "길을 길을 노래하는 그리고 잎새에 하늘을 길을 노래하는 하늘을 바람에 죽는 바람에 죽는 사랑해야지 부끄럼이 노래하는 그리고 한 이는 점 사랑해야지 길을 노래하는 그리고 괴로워했다 모든 없기를 잎새에 사랑해야지 길을 \n",
            "사랑해야지 길을 노래하는 그리고 죽어 하늘을 길을 노래하는 하늘을 바람에 죽는 바람에 죽는 사랑해야지 부끄럼이 노래하는 그리고 한 이는 점 사랑해야지 길을 노래하는 그리고 괴로워했다 모든 없기를 잎새에 사랑해야지 길을 \n",
            "사랑해야지 길을 노래하는 그리고 죽어 나는 길을 노래하는 하늘을 바람에 죽는 바람에 죽는 사랑해야지 부끄럼이 노래하는 그리고 한 이는 우러러 사랑해야지 길을 노래하는 그리고 괴로워했다 모든 없기를 잎새에 사랑해야지 길을 \n",
            "사랑해야지 길을 노래하는 그리고 죽어 나는 가는 노래하는 하늘을 바람에 죽는 바람에 죽는 사랑해야지 부끄럼이 노래하는 그리고 한 이는 우러러 사랑해야지 길을 노래하는 그리고 괴로워했다 모든 없기를 잎새에 사랑해야지 길을 \n",
            "사랑해야지 길을 노래하는 그리고 죽어 나는 가는 노래하는 하늘을 바람에 죽는 바람에 죽는 사랑해야지 부끄럼이 노래하는 그리고 한 이는 우러러 사랑해야지 길을 노래하는 그리고 괴로워했다 모든 없기를 잎새에 사랑해야지 바람에 \n",
            "사랑해야지 길을 노래하는 나한테 죽어 나는 가는 노래하는 하늘을 바람에 죽는 바람에 스치운다 사랑해야지 부끄럼이 노래하는 그리고 한 이는 우러러 사랑해야지 길을 노래하는 그리고 괴로워했다 모든 없기를 잎새에 사랑해야지 바람에 \n",
            "사랑해야지 길을 밤에도 나한테 죽어 나는 가는 노래하는 하늘을 바람에 죽는 바람에 스치운다 별을 부끄럼이 노래하는 그리고 한 이는 우러러 사랑해야지 길을 점 그리고 괴로워했다 모든 없기를 잎새에 사랑해야지 바람에 \n",
            "길을 길을 밤에도 나한테 죽어 나는 가는 별이 하늘을 바람에 죽는 바람에 스치운다 별을 부끄럼이 노래하는 그리고 한 이는 우러러 사랑해야지 길을 점 바람에도 괴로워했다 모든 없기를 잎새에 사랑해야지 바람에 \n",
            "길을 길을 밤에도 나한테 죽어 나는 가는 별이 하늘을 바람에 죽는 바람에 스치운다 별을 부끄럼이 노래하는 그리고 한 이는 우러러 사랑해야지 길을 점 바람에도 괴로워했다 모든 없기를 잎새에 날까지 바람에 \n",
            "길을 길을 밤에도 나한테 죽어 나는 가는 별이 하늘을 바람에 죽는 바람에 스치운다 별을 부끄럼이 노래하는 그리고 한 이는 우러러 사랑해야지 길을 점 바람에도 괴로워했다 모든 없기를 잎새에 날까지 바람에 \n",
            "길을 길을 밤에도 나한테 죽어 나는 가는 별이 하늘을 바람에 죽는 바람에 스치운다 별을 부끄럼이 노래하는 그리고 한 이는 우러러 사랑해야지 길을 점 바람에도 괴로워했다 모든 없기를 잎새에 날까지 바람에 \n",
            "길을 가는 밤에도 나한테 죽어 나는 가는 별이 하늘을 바람에 죽는 바람에 스치운다 별을 부끄럼이 노래하는 그리고 한 이는 우러러 사랑해야지 길을 점 바람에도 괴로워했다 모든 없기를 잎새에 날까지 바람에 \n",
            "길을 가는 밤에도 나한테 죽어 나는 가는 별이 하늘을 바람에 죽는 바람에 스치운다 별을 부끄럼이 노래하는 그리고 한 이는 우러러 사랑해야지 길을 점 바람에도 괴로워했다 모든 없기를 잎새에 날까지 바람에 \n",
            "길을 가는 밤에도 나한테 죽어 나는 가는 별이 하늘을 바람에 죽는 바람에 스치운다 별을 부끄럼이 노래하는 그리고 한 이는 우러러 사랑해야지 길을 점 바람에도 괴로워했다 모든 없기를 잎새에 날까지 바람에 \n",
            "가는 가는 밤에도 나한테 죽어 나는 가는 별이 하늘을 바람에 죽는 바람에 스치운다 별을 부끄럼이 노래하는 그리고 한 이는 우러러 사랑해야지 길을 점 바람에도 괴로워했다 모든 없기를 잎새에 날까지 바람에 \n",
            "가는 주어진 밤에도 나한테 죽어 나는 가는 별이 하늘을 바람에 죽는 바람에 스치운다 별을 부끄럼이 노래하는 그리고 한 이는 우러러 사랑해야지 길을 점 바람에도 괴로워했다 모든 없기를 잎새에 날까지 바람에 \n",
            "가는 주어진 밤에도 나한테 죽어 나는 가는 별이 하늘을 걸어가야겠다 죽는 바람에 스치운다 별을 부끄럼이 노래하는 그리고 한 이는 우러러 사랑해야지 길을 점 바람에도 괴로워했다 모든 없기를 잎새에 날까지 바람에 \n",
            "가는 주어진 밤에도 나한테 죽어 나는 가는 별이 하늘을 걸어가야겠다 죽는 바람에 스치운다 별을 부끄럼이 노래하는 그리고 한 이는 우러러 사랑해야지 길을 점 바람에도 괴로워했다 모든 없기를 잎새에 날까지 오늘 \n",
            "가는 주어진 밤에도 나한테 죽어 나는 가는 별이 하늘을 걸어가야겠다 죽는 바람에 스치운다 별을 부끄럼이 노래하는 그리고 한 이는 우러러 사랑해야지 길을 점 바람에도 괴로워했다 모든 없기를 잎새에 날까지 오늘 \n",
            "가는 주어진 밤에도 나한테 죽어 나는 가는 별이 하늘을 걸어가야겠다 죽는 바람에 스치운다 별을 부끄럼이 노래하는 그리고 한 이는 우러러 사랑해야지 길을 점 바람에도 괴로워했다 모든 없기를 잎새에 날까지 오늘 \n",
            "가는 주어진 밤에도 나한테 죽어 나는 가는 별이 하늘을 걸어가야겠다 죽는 바람에 스치운다 별을 부끄럼이 노래하는 그리고 한 이는 우러러 사랑해야지 길을 점 바람에도 괴로워했다 모든 없기를 잎새에 날까지 오늘 \n",
            "가는 주어진 밤에도 나한테 죽어 나는 가는 별이 하늘을 걸어가야겠다 죽는 바람에 스치운다 별을 부끄럼이 노래하는 그리고 한 이는 우러러 사랑해야지 길을 점 바람에도 괴로워했다 모든 없기를 잎새에 날까지 오늘 \n",
            "주어진 주어진 밤에도 나한테 죽어 나는 가는 별이 하늘을 걸어가야겠다 죽는 바람에 스치운다 별을 부끄럼이 노래하는 그리고 한 이는 우러러 사랑해야지 길을 점 바람에도 괴로워했다 모든 없기를 잎새에 날까지 오늘 \n",
            "주어진 주어진 밤에도 나한테 죽어 나는 가는 별이 하늘을 걸어가야겠다 죽는 바람에 스치운다 별을 부끄럼이 노래하는 그리고 한 이는 우러러 사랑해야지 길을 점 바람에도 괴로워했다 모든 없기를 잎새에 날까지 오늘 \n",
            "주어진 주어진 밤에도 나한테 죽어 나는 가는 별이 하늘을 걸어가야겠다 죽는 바람에 스치운다 별을 부끄럼이 노래하는 그리고 한 이는 우러러 사랑해야지 길을 점 바람에도 괴로워했다 모든 없기를 잎새에 날까지 오늘 \n",
            "주어진 주어진 밤에도 나한테 죽어 나는 가는 별이 하늘을 걸어가야겠다 죽는 바람에 스치운다 별을 부끄럼이 노래하는 그리고 한 이는 우러러 사랑해야지 길을 점 바람에도 괴로워했다 모든 없기를 잎새에 날까지 오늘 \n",
            "주어진 주어진 밤에도 나한테 죽어 나는 가는 별이 하늘을 걸어가야겠다 죽는 바람에 스치운다 별을 부끄럼이 노래하는 그리고 한 이는 우러러 사랑해야지 길을 점 바람에도 괴로워했다 모든 없기를 잎새에 날까지 오늘 \n",
            "주어진 주어진 밤에도 나한테 죽어 나는 가는 별이 하늘을 걸어가야겠다 죽는 바람에 스치운다 별을 부끄럼이 노래하는 그리고 한 이는 우러러 사랑해야지 길을 점 바람에도 괴로워했다 모든 없기를 잎새에 날까지 오늘 \n",
            "주어진 주어진 밤에도 나한테 죽어 나는 가는 별이 하늘을 걸어가야겠다 죽는 바람에 스치운다 별을 부끄럼이 노래하는 그리고 한 이는 우러러 사랑해야지 길을 점 바람에도 괴로워했다 모든 없기를 잎새에 날까지 오늘 \n",
            "주어진 주어진 밤에도 나한테 죽어 나는 가는 별이 하늘을 걸어가야겠다 죽는 바람에 스치운다 별을 부끄럼이 노래하는 그리고 한 이는 우러러 사랑해야지 길을 점 바람에도 괴로워했다 모든 없기를 잎새에 날까지 오늘 \n",
            "주어진 주어진 밤에도 나한테 죽어 나는 가는 별이 하늘을 걸어가야겠다 죽는 바람에 스치운다 별을 부끄럼이 노래하는 그리고 한 이는 우러러 사랑해야지 길을 점 바람에도 괴로워했다 모든 없기를 잎새에 날까지 오늘 \n",
            "주어진 주어진 밤에도 나한테 죽어 나는 가는 별이 하늘을 걸어가야겠다 죽는 바람에 스치운다 별을 부끄럼이 노래하는 그리고 한 이는 우러러 사랑해야지 길을 점 바람에도 괴로워했다 모든 없기를 잎새에 날까지 오늘 \n",
            "주어진 주어진 밤에도 나한테 죽어 나는 가는 별이 하늘을 걸어가야겠다 죽는 바람에 스치운다 별을 부끄럼이 노래하는 그리고 한 이는 우러러 사랑해야지 길을 점 바람에도 괴로워했다 모든 없기를 잎새에 날까지 오늘 \n",
            "주어진 주어진 밤에도 나한테 죽어 나는 가는 별이 하늘을 걸어가야겠다 죽는 바람에 스치운다 별을 부끄럼이 노래하는 그리고 한 이는 우러러 사랑해야지 길을 점 바람에도 괴로워했다 모든 없기를 잎새에 날까지 오늘 \n",
            "주어진 주어진 밤에도 나한테 죽어 나는 가는 별이 하늘을 걸어가야겠다 죽는 바람에 스치운다 별을 부끄럼이 노래하는 그리고 한 이는 우러러 사랑해야지 길을 점 바람에도 괴로워했다 모든 없기를 잎새에 날까지 오늘 \n",
            "주어진 주어진 밤에도 나한테 죽어 나는 가는 별이 하늘을 걸어가야겠다 죽는 바람에 스치운다 별을 부끄럼이 노래하는 그리고 한 이는 우러러 사랑해야지 길을 점 바람에도 괴로워했다 모든 없기를 잎새에 날까지 오늘 \n"
          ]
        }
      ]
    }
  ]
}