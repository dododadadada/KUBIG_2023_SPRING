{
  "nbformat": 4,
  "nbformat_minor": 0,
  "metadata": {
    "colab": {
      "provenance": []
    },
    "kernelspec": {
      "name": "python3",
      "display_name": "Python 3"
    },
    "language_info": {
      "name": "python"
    },
    "accelerator": "GPU",
    "gpuClass": "standard"
  },
  "cells": [
    {
      "cell_type": "code",
      "execution_count": 1,
      "metadata": {
        "id": "nmQ5F7UAeKB_"
      },
      "outputs": [],
      "source": [
        "import numpy as np\n",
        "import torch\n",
        "import torch.nn as nn\n",
        "import torch.optim as optim"
      ]
    },
    {
      "cell_type": "markdown",
      "source": [
        "## Task1\n",
        "\n",
        "빈 칸을 채워주세요!\n",
        "\n",
        "단계별 output이 github 파일에는 남아있으니 그 output과 동일한 형태인지 확인하면서 진행해주시면 됩니다~"
      ],
      "metadata": {
        "id": "Sgxd6SxmeVcP"
      }
    },
    {
      "cell_type": "code",
      "source": [
        "#1. 생성할 문장 데이터\n",
        "\n",
        "sentence = (\"Brick walls are there for a reason and you must not think \"\n",
        "            \"that the brick walls aren't there to keep us out, but rather \"\n",
        "            \"in this way that the brick walls are there to show us how badly we want things.\")"
      ],
      "metadata": {
        "id": "NDvUeC8BoUb6"
      },
      "execution_count": 2,
      "outputs": []
    },
    {
      "cell_type": "code",
      "source": [
        "#2. 문자 집합 만들기\n",
        "world_set = list(set(sentence))\n",
        "\n",
        "## 문제(1): 각 문자에 정수 인코딩 (공백도 하나의 원소로 포함)\n",
        "vocab = {letter:num for num,letter in enumerate(world_set)}"
      ],
      "metadata": {
        "id": "b9lkrKyZf8ie"
      },
      "execution_count": 6,
      "outputs": []
    },
    {
      "cell_type": "code",
      "source": [
        "print(vocab)"
      ],
      "metadata": {
        "colab": {
          "base_uri": "https://localhost:8080/"
        },
        "id": "F_0we5Y-gYDq",
        "outputId": "334d9e08-db51-43cf-f8c0-255e94903e7a"
      },
      "execution_count": 7,
      "outputs": [
        {
          "output_type": "stream",
          "name": "stdout",
          "text": [
            "{'.': 0, 'g': 1, 't': 2, 'm': 3, 'r': 4, 'p': 5, 'i': 6, 'o': 7, \"'\": 8, ',': 9, 'e': 10, 'd': 11, 'h': 12, 'w': 13, 'k': 14, 'f': 15, 'B': 16, 'u': 17, 's': 18, 'n': 19, 'y': 20, 'c': 21, ' ': 22, 'b': 23, 'a': 24, 'l': 25}\n"
          ]
        }
      ]
    },
    {
      "cell_type": "code",
      "source": [
        "#3. 문자 집합 크기 확인\n",
        "\n",
        "vocab_size = len(vocab)\n",
        "print('문자 집합 크기 : {}'.format(vocab_size))"
      ],
      "metadata": {
        "colab": {
          "base_uri": "https://localhost:8080/"
        },
        "id": "TpKupU6lgpfT",
        "outputId": "1c8edd7d-ec96-4b82-c31b-c8abe4957089"
      },
      "execution_count": 8,
      "outputs": [
        {
          "output_type": "stream",
          "name": "stdout",
          "text": [
            "문자 집합 크기 : 26\n"
          ]
        }
      ]
    },
    {
      "cell_type": "code",
      "source": [
        "#4. 하이퍼 파라미터 설정(자유롭게 수정해보세요!)\n",
        "\n",
        "hidden_size = vocab_size # 같아야 하는 것 확인!\n",
        "sequence_length = 10  # 너무 길거나 너무 짧게 잡으면 안됩니다!\n",
        "learning_rate = 0.01"
      ],
      "metadata": {
        "id": "wFDZJHSMg9In"
      },
      "execution_count": 9,
      "outputs": []
    },
    {
      "cell_type": "code",
      "source": [
        "#5. seqence 길이 단위 자르기\n",
        "\n",
        "# 데이터 구성을 위한 리스트\n",
        "x_data = []\n",
        "y_data = []\n",
        "\n",
        "## 문제(2): 반복문 내에서의 인덱싱을 사용하여 sequence_length 값 단위로 샘플을 잘라 데이터 만들기, y_str은 x_str은 한 칸씩 쉬프트된 sequnce\n",
        "\n",
        "for i in range(0, len(sentence) - sequence_length):\n",
        "  x_str = sentence[i:i+ sequence_length]\n",
        "  y_str = sentence[i+1:i+ 1 + sequence_length]\n",
        "  print(i, x_str, \"->\", y_str)\n",
        "\n",
        "  # x_str과 y_str이 문자집합에 해당하는 인덱스를 각각 x_data, y_data에 append\n",
        "  x_data.append([vocab[c] for c in x_str])\n",
        "  y_data.append([vocab[d] for d in y_str])"
      ],
      "metadata": {
        "colab": {
          "base_uri": "https://localhost:8080/"
        },
        "id": "RbDcmJmghN7V",
        "outputId": "51bb7a5d-e16f-4eb4-fb14-e40257942f1c"
      },
      "execution_count": 12,
      "outputs": [
        {
          "output_type": "stream",
          "name": "stdout",
          "text": [
            "0 Brick wall -> rick walls\n",
            "1 rick walls -> ick walls \n",
            "2 ick walls  -> ck walls a\n",
            "3 ck walls a -> k walls ar\n",
            "4 k walls ar ->  walls are\n",
            "5  walls are -> walls are \n",
            "6 walls are  -> alls are t\n",
            "7 alls are t -> lls are th\n",
            "8 lls are th -> ls are the\n",
            "9 ls are the -> s are ther\n",
            "10 s are ther ->  are there\n",
            "11  are there -> are there \n",
            "12 are there  -> re there f\n",
            "13 re there f -> e there fo\n",
            "14 e there fo ->  there for\n",
            "15  there for -> there for \n",
            "16 there for  -> here for a\n",
            "17 here for a -> ere for a \n",
            "18 ere for a  -> re for a r\n",
            "19 re for a r -> e for a re\n",
            "20 e for a re ->  for a rea\n",
            "21  for a rea -> for a reas\n",
            "22 for a reas -> or a reaso\n",
            "23 or a reaso -> r a reason\n",
            "24 r a reason ->  a reason \n",
            "25  a reason  -> a reason a\n",
            "26 a reason a ->  reason an\n",
            "27  reason an -> reason and\n",
            "28 reason and -> eason and \n",
            "29 eason and  -> ason and y\n",
            "30 ason and y -> son and yo\n",
            "31 son and yo -> on and you\n",
            "32 on and you -> n and you \n",
            "33 n and you  ->  and you m\n",
            "34  and you m -> and you mu\n",
            "35 and you mu -> nd you mus\n",
            "36 nd you mus -> d you must\n",
            "37 d you must ->  you must \n",
            "38  you must  -> you must n\n",
            "39 you must n -> ou must no\n",
            "40 ou must no -> u must not\n",
            "41 u must not ->  must not \n",
            "42  must not  -> must not t\n",
            "43 must not t -> ust not th\n",
            "44 ust not th -> st not thi\n",
            "45 st not thi -> t not thin\n",
            "46 t not thin ->  not think\n",
            "47  not think -> not think \n",
            "48 not think  -> ot think t\n",
            "49 ot think t -> t think th\n",
            "50 t think th ->  think tha\n",
            "51  think tha -> think that\n",
            "52 think that -> hink that \n",
            "53 hink that  -> ink that t\n",
            "54 ink that t -> nk that th\n",
            "55 nk that th -> k that the\n",
            "56 k that the ->  that the \n",
            "57  that the  -> that the b\n",
            "58 that the b -> hat the br\n",
            "59 hat the br -> at the bri\n",
            "60 at the bri -> t the bric\n",
            "61 t the bric ->  the brick\n",
            "62  the brick -> the brick \n",
            "63 the brick  -> he brick w\n",
            "64 he brick w -> e brick wa\n",
            "65 e brick wa ->  brick wal\n",
            "66  brick wal -> brick wall\n",
            "67 brick wall -> rick walls\n",
            "68 rick walls -> ick walls \n",
            "69 ick walls  -> ck walls a\n",
            "70 ck walls a -> k walls ar\n",
            "71 k walls ar ->  walls are\n",
            "72  walls are -> walls aren\n",
            "73 walls aren -> alls aren'\n",
            "74 alls aren' -> lls aren't\n",
            "75 lls aren't -> ls aren't \n",
            "76 ls aren't  -> s aren't t\n",
            "77 s aren't t ->  aren't th\n",
            "78  aren't th -> aren't the\n",
            "79 aren't the -> ren't ther\n",
            "80 ren't ther -> en't there\n",
            "81 en't there -> n't there \n",
            "82 n't there  -> 't there t\n",
            "83 't there t -> t there to\n",
            "84 t there to ->  there to \n",
            "85  there to  -> there to k\n",
            "86 there to k -> here to ke\n",
            "87 here to ke -> ere to kee\n",
            "88 ere to kee -> re to keep\n",
            "89 re to keep -> e to keep \n",
            "90 e to keep  ->  to keep u\n",
            "91  to keep u -> to keep us\n",
            "92 to keep us -> o keep us \n",
            "93 o keep us  ->  keep us o\n",
            "94  keep us o -> keep us ou\n",
            "95 keep us ou -> eep us out\n",
            "96 eep us out -> ep us out,\n",
            "97 ep us out, -> p us out, \n",
            "98 p us out,  ->  us out, b\n",
            "99  us out, b -> us out, bu\n",
            "100 us out, bu -> s out, but\n",
            "101 s out, but ->  out, but \n",
            "102  out, but  -> out, but r\n",
            "103 out, but r -> ut, but ra\n",
            "104 ut, but ra -> t, but rat\n",
            "105 t, but rat -> , but rath\n",
            "106 , but rath ->  but rathe\n",
            "107  but rathe -> but rather\n",
            "108 but rather -> ut rather \n",
            "109 ut rather  -> t rather i\n",
            "110 t rather i ->  rather in\n",
            "111  rather in -> rather in \n",
            "112 rather in  -> ather in t\n",
            "113 ather in t -> ther in th\n",
            "114 ther in th -> her in thi\n",
            "115 her in thi -> er in this\n",
            "116 er in this -> r in this \n",
            "117 r in this  ->  in this w\n",
            "118  in this w -> in this wa\n",
            "119 in this wa -> n this way\n",
            "120 n this way ->  this way \n",
            "121  this way  -> this way t\n",
            "122 this way t -> his way th\n",
            "123 his way th -> is way tha\n",
            "124 is way tha -> s way that\n",
            "125 s way that ->  way that \n",
            "126  way that  -> way that t\n",
            "127 way that t -> ay that th\n",
            "128 ay that th -> y that the\n",
            "129 y that the ->  that the \n",
            "130  that the  -> that the b\n",
            "131 that the b -> hat the br\n",
            "132 hat the br -> at the bri\n",
            "133 at the bri -> t the bric\n",
            "134 t the bric ->  the brick\n",
            "135  the brick -> the brick \n",
            "136 the brick  -> he brick w\n",
            "137 he brick w -> e brick wa\n",
            "138 e brick wa ->  brick wal\n",
            "139  brick wal -> brick wall\n",
            "140 brick wall -> rick walls\n",
            "141 rick walls -> ick walls \n",
            "142 ick walls  -> ck walls a\n",
            "143 ck walls a -> k walls ar\n",
            "144 k walls ar ->  walls are\n",
            "145  walls are -> walls are \n",
            "146 walls are  -> alls are t\n",
            "147 alls are t -> lls are th\n",
            "148 lls are th -> ls are the\n",
            "149 ls are the -> s are ther\n",
            "150 s are ther ->  are there\n",
            "151  are there -> are there \n",
            "152 are there  -> re there t\n",
            "153 re there t -> e there to\n",
            "154 e there to ->  there to \n",
            "155  there to  -> there to s\n",
            "156 there to s -> here to sh\n",
            "157 here to sh -> ere to sho\n",
            "158 ere to sho -> re to show\n",
            "159 re to show -> e to show \n",
            "160 e to show  ->  to show u\n",
            "161  to show u -> to show us\n",
            "162 to show us -> o show us \n",
            "163 o show us  ->  show us h\n",
            "164  show us h -> show us ho\n",
            "165 show us ho -> how us how\n",
            "166 how us how -> ow us how \n",
            "167 ow us how  -> w us how b\n",
            "168 w us how b ->  us how ba\n",
            "169  us how ba -> us how bad\n",
            "170 us how bad -> s how badl\n",
            "171 s how badl ->  how badly\n",
            "172  how badly -> how badly \n",
            "173 how badly  -> ow badly w\n",
            "174 ow badly w -> w badly we\n",
            "175 w badly we ->  badly we \n",
            "176  badly we  -> badly we w\n",
            "177 badly we w -> adly we wa\n",
            "178 adly we wa -> dly we wan\n",
            "179 dly we wan -> ly we want\n",
            "180 ly we want -> y we want \n",
            "181 y we want  ->  we want t\n",
            "182  we want t -> we want th\n",
            "183 we want th -> e want thi\n",
            "184 e want thi ->  want thin\n",
            "185  want thin -> want thing\n",
            "186 want thing -> ant things\n",
            "187 ant things -> nt things.\n"
          ]
        }
      ]
    },
    {
      "cell_type": "code",
      "source": [
        "# 출력해서 한 칸씩 쉬프트된 것 확인하기!\n",
        "\n",
        "print(x_data[0])\n",
        "print(y_data[0])"
      ],
      "metadata": {
        "colab": {
          "base_uri": "https://localhost:8080/"
        },
        "id": "XVFlILiOixdc",
        "outputId": "0c5cbaad-405a-4e63-90bc-8bcc81d1a40e"
      },
      "execution_count": 13,
      "outputs": [
        {
          "output_type": "stream",
          "name": "stdout",
          "text": [
            "[16, 4, 6, 21, 14, 22, 13, 24, 25, 25]\n",
            "[4, 6, 21, 14, 22, 13, 24, 25, 25, 18]\n"
          ]
        }
      ]
    },
    {
      "cell_type": "code",
      "source": [
        "##6. 입력 시퀀스에 대해 원핫인코딩 수행\n",
        "\n",
        "## 문제(4) : x_data를 원핫인코딩 > numpy의 eye를 쓸 수 있지 않을까?\n",
        "x_one_hot = np.eye(vocab_size)[x_data]\n",
        "\n",
        "##7. 입력 데이터, 레이블데이터 텐서로 변환\n",
        "\n",
        "## 문제(5) : x_one_hot과 y_data 텐서로 변환 : 둘 다 같은 형식의 텐서로 변환하면 될까?? (FloatTensor, LongTesor 중 맞는 것은?)\n",
        "X = torch.FloatTensor(x_one_hot)\n",
        "Y = torch.LongTensor(y_data)"
      ],
      "metadata": {
        "id": "5lPes1dvjlNb"
      },
      "execution_count": 14,
      "outputs": []
    },
    {
      "cell_type": "code",
      "source": [
        "##8. 크기 확인\n",
        "print('훈련 데이터의 크기 : {}'.format(X.shape))\n",
        "print('레이블의 크기 : {}'.format(Y.shape))"
      ],
      "metadata": {
        "colab": {
          "base_uri": "https://localhost:8080/"
        },
        "id": "lMZzZlaymMk8",
        "outputId": "f84df42b-fdf4-4928-a8e7-53f7507bb162"
      },
      "execution_count": 15,
      "outputs": [
        {
          "output_type": "stream",
          "name": "stdout",
          "text": [
            "훈련 데이터의 크기 : torch.Size([188, 10, 26])\n",
            "레이블의 크기 : torch.Size([188, 10])\n"
          ]
        }
      ]
    },
    {
      "cell_type": "code",
      "source": [
        "##9.원핫인코딩 결과 샘플 확인하기\n",
        "print(X[0])"
      ],
      "metadata": {
        "colab": {
          "base_uri": "https://localhost:8080/"
        },
        "id": "knx1DE_AmSFB",
        "outputId": "222d33d7-3818-4825-b130-f02f031cf60c"
      },
      "execution_count": 16,
      "outputs": [
        {
          "output_type": "stream",
          "name": "stdout",
          "text": [
            "tensor([[0., 0., 0., 0., 0., 0., 0., 0., 0., 0., 0., 0., 0., 0., 0., 0., 1., 0.,\n",
            "         0., 0., 0., 0., 0., 0., 0., 0.],\n",
            "        [0., 0., 0., 0., 1., 0., 0., 0., 0., 0., 0., 0., 0., 0., 0., 0., 0., 0.,\n",
            "         0., 0., 0., 0., 0., 0., 0., 0.],\n",
            "        [0., 0., 0., 0., 0., 0., 1., 0., 0., 0., 0., 0., 0., 0., 0., 0., 0., 0.,\n",
            "         0., 0., 0., 0., 0., 0., 0., 0.],\n",
            "        [0., 0., 0., 0., 0., 0., 0., 0., 0., 0., 0., 0., 0., 0., 0., 0., 0., 0.,\n",
            "         0., 0., 0., 1., 0., 0., 0., 0.],\n",
            "        [0., 0., 0., 0., 0., 0., 0., 0., 0., 0., 0., 0., 0., 0., 1., 0., 0., 0.,\n",
            "         0., 0., 0., 0., 0., 0., 0., 0.],\n",
            "        [0., 0., 0., 0., 0., 0., 0., 0., 0., 0., 0., 0., 0., 0., 0., 0., 0., 0.,\n",
            "         0., 0., 0., 0., 1., 0., 0., 0.],\n",
            "        [0., 0., 0., 0., 0., 0., 0., 0., 0., 0., 0., 0., 0., 1., 0., 0., 0., 0.,\n",
            "         0., 0., 0., 0., 0., 0., 0., 0.],\n",
            "        [0., 0., 0., 0., 0., 0., 0., 0., 0., 0., 0., 0., 0., 0., 0., 0., 0., 0.,\n",
            "         0., 0., 0., 0., 0., 0., 1., 0.],\n",
            "        [0., 0., 0., 0., 0., 0., 0., 0., 0., 0., 0., 0., 0., 0., 0., 0., 0., 0.,\n",
            "         0., 0., 0., 0., 0., 0., 0., 1.],\n",
            "        [0., 0., 0., 0., 0., 0., 0., 0., 0., 0., 0., 0., 0., 0., 0., 0., 0., 0.,\n",
            "         0., 0., 0., 0., 0., 0., 0., 1.]])\n"
          ]
        }
      ]
    },
    {
      "cell_type": "code",
      "source": [
        "##10. 레이블 데이터 샘플 확인하기\n",
        "print(Y[0])"
      ],
      "metadata": {
        "colab": {
          "base_uri": "https://localhost:8080/"
        },
        "id": "6pWDiH1SmYT_",
        "outputId": "9a52746a-0d95-4c92-ec34-d32e284e90bb"
      },
      "execution_count": 17,
      "outputs": [
        {
          "output_type": "stream",
          "name": "stdout",
          "text": [
            "tensor([ 4,  6, 21, 14, 22, 13, 24, 25, 25, 18])\n"
          ]
        }
      ]
    },
    {
      "cell_type": "code",
      "source": [
        "##11. RNN 모델 구현\n",
        "\n",
        "##문제(6) : 기본 pytorch 인자 넣기 연습 + forward 채우기\n",
        "### 조건 : rnn layer 2개 쌓기 + 마지막은 fc layer\n",
        "### batch_fisrt 설정 필요할까? (유튜브 강의 참고)\n",
        "\n",
        "class Net(torch.nn.Module):\n",
        "  def __init__(self, input_dim, hidden_dim, layers):\n",
        "    super(Net, self).__init__()\n",
        "    self.rnn = torch.nn.RNN(input_dim, hidden_dim, layers,batch_first = True)\n",
        "    self.fc = torch.nn.Linear(hidden_dim, hidden_dim, bias = True)\n",
        "  \n",
        "  def forward(self, x):\n",
        "    x,xx = self.rnn(x)\n",
        "    x = self.fc(x)\n",
        "    ##\n",
        "    ##\n",
        "    return x"
      ],
      "metadata": {
        "id": "-Ww22xu8mfUc"
      },
      "execution_count": 18,
      "outputs": []
    },
    {
      "cell_type": "code",
      "source": [
        "net = Net(vocab_size, hidden_size, 2)"
      ],
      "metadata": {
        "id": "No2GRvTpnLBl"
      },
      "execution_count": 19,
      "outputs": []
    },
    {
      "cell_type": "code",
      "source": [
        "##12. loss function\n",
        "criterion = torch.nn.CrossEntropyLoss()\n",
        "\n",
        "##13. optimizer\n",
        "optimizer = optim.Adam(net.parameters(), learning_rate)"
      ],
      "metadata": {
        "id": "9-zuJLeUnQLB"
      },
      "execution_count": 20,
      "outputs": []
    },
    {
      "cell_type": "code",
      "source": [
        "##14. 출력 크기 점검\n",
        "outputs = net(X)\n",
        "print(outputs.shape)"
      ],
      "metadata": {
        "colab": {
          "base_uri": "https://localhost:8080/"
        },
        "id": "z-RxRaiHnh9U",
        "outputId": "83144bac-fd1d-4185-ebd0-aee31e48b2c2"
      },
      "execution_count": 21,
      "outputs": [
        {
          "output_type": "stream",
          "name": "stdout",
          "text": [
            "torch.Size([188, 10, 26])\n"
          ]
        }
      ]
    },
    {
      "cell_type": "code",
      "source": [
        "##15. Training 시작\n",
        "\n",
        "for i in range(100):\n",
        "    optimizer.zero_grad()\n",
        "    outputs = net(X)\n",
        "    ##문제(7) : outputs, Y 형태 그대로 넣으면 안되죠. view 함수를 이용해 loss값을 계산해봅시다.\n",
        "    loss = criterion(outputs.view(-1, vocab_size), Y.view(-1))\n",
        "    loss.backward()\n",
        "    optimizer.step()\n",
        "\n",
        "    #16. 예측결과 확인\n",
        "    results = outputs.argmax(dim=2)\n",
        "    predict_str = \"\"\n",
        "    for j, result in enumerate(results):\n",
        "        if j == 0: # 처음에는 예측 결과를 전부 가져오기\n",
        "            predict_str += ''.join([world_set[t] for t in result])\n",
        "        else: # 그 다음에는 마지막 글자만 반복 추가\n",
        "            predict_str += world_set[result[-1]]\n",
        "\n",
        "    print(predict_str)"
      ],
      "metadata": {
        "colab": {
          "base_uri": "https://localhost:8080/"
        },
        "id": "uxxrxCd2nwoo",
        "outputId": "a5134d63-f391-419b-9c2e-67c774a21c59"
      },
      "execution_count": 22,
      "outputs": [
        {
          "output_type": "stream",
          "name": "stdout",
          "text": [
            "kh  kkk ku khu  hskhk h  khkh  kh uk h B skhs uk   kh  sukBskshu kkk    kk ku khu  kBkBskhk h kskkk s kh uskk  whk skuk  uB   ku kkh ksku kkk    kk ku khu  hskhk h kh   ks ks  kk hs khskh  u us su \n",
            "                                                                                                                                                                                                     \n",
            "                                                                                                                                                                                                     \n",
            "                                                                                                                                                                                                     \n",
            "                                                                                                                                                                                                     \n",
            "                                                                                                                                                                                                     \n",
            "                                                                                                                                                                                                     \n",
            "                                                                                                                                                                                                     \n",
            "                                                                                                                                                                                                     \n",
            "                                                                                                                                                                                                     \n",
            "                                                    h                                                                                                                                                \n",
            "     t                   t  h         t    h   t   th    th   t    h                 th     h                  th                  h   t    h                     h                   t       t      \n",
            "     t      h   h     h  t  h         th   h   t   th h  th   th   h    t      h     th     h                  th h           t   th r t    h    t      h   h     h      t      t     th      th     \n",
            "     t     th   h     h  th h     t   th   h   th  th r  th r th   h    t     th     th     h         t    t   th h   t  t  r t   th r th   h    t     th   h     h      t  t   t     th t    th r   \n",
            "     t     th  th     h  th h     th  th   h   th  th r  th r th   h    t     th     th     h t       t    t   th     t  th r th  th r th   h    t     th  th     h t    t  t   th    th t    th r   \n",
            "     t     th  th    th  th h     th  th  th   th  th r  th   th   h    t     th     th    th t    t  th   th  th     th th r th  th r th   h    t     th  th    th t    th th  th    th th   th r   \n",
            "     th    th  th    th  thth t   th  th  th   th  th    th   th   h t  th    th     th    th t       th   th  th     th th   th  th   th   h t  th    th  th    th t    th th  th    th th   th     \n",
            "     th    th  th    th  thth t   th  th  th   th  th    th   th  th    th    th     th    th t       th   th  th     th th   th  th   th  th    th    th  th    th t    t  th  th    th th   th     \n",
            "     th    th  th    th  thth     th  th  th   th  th    th   th  th    th    th     th    th t       th   th  th     t  th   t   th   th  th    th    th  th    th t    t  th  th    th th   th     \n",
            "     th    th  th    th  tht      th  th  th   th  th    th   th  th    th    th  t  th    th      t  th   th  th     r  th r t   th   th  th    th    th  th    th      t  th  tht   th th   th     \n",
            "     t     th  th    th  tht      th  th  th   th  th r  th   th  th    th    th  t  th    th      t       th  th     r  th r t   th   th  th    th    th  th    th      t  th  t t   th th   th     \n",
            "     t     th  the   th  tht  t   th  th  th   th  ther  the  the the   ta t  th  t  the   th      t       th  th  e  r  ther t   the  the the   ta t  th  the   th    r t  th  t t   th th   the   t\n",
            "     ta t  tr  the   th  t t  t   th  th  th   th  ther  the  the the   ta t  tr  t  the   the     tr      th  tht e  t  ther t   ther the the   ta t  tr  the   the   r t  tht t t   t  the  the   t\n",
            "  n  ta t  tr  the   th  t t  t   th  t   th   th  ther  the  the the   ta tr tr  t  the   thet    tr      th  t t e  ta ther ta  ther the the   ta tr tr  the   thet  r t  a t t t   t  the  ther  t\n",
            "  n  ta t  tre the   the t t  t   th  t   th   th  ther  the  the then  ta t  tre t  the   thet    tr      th  t the  ta ther ta  ther the then  ta t  tre the   thet er t  a t t t   ta the  ther  t\n",
            " en  ta t   re the   the t t  t   tr  t t th   th  ther  ther the then  ta t   re t  the   the     tr      th  t ther ta ther ta  ther the then  ta t   re the   the  er t  a t t t   ta the  ther  t\n",
            " enk ta     re the   thr t t  t   tre t t th   th  ther  ther thertren  ta t   re t  the e the     tr  r   th  ththereta ther ta  ther thertren  ta t   re the   the  er t  a t t t   ta the  ther  t\n",
            " enk tars  are the e thr t t  t   tre t r thr  th  ther  ther thertrenk ta s  are t  there the     ar  r   t   ththerera ther ta  ther thertrenk ta s  are the e the  er r  a t t t t ta tae  ther  t\n",
            " enk tarss are the e thr t t  t   tre tar thr  th  ther  ther thertrenk ta s  are t  there the     art r   t   tatherera ther ta  ther thertrenk ta s  are the e the  er r  a t tat s ta tae  ther  t\n",
            " enk tarss are the e thr wst  t   tre tar thr  t   ther  ther thertrenk tarts are t  the e the     art r   t   tatherera ther ta  ther thertrenk tarts are the e the hew rs aat rat s ta tae  ther  t\n",
            " enk warls are the e thr wst  t   tre tar thr  t   ther  ther thertrenk wa ts are t  the e the     art r   t t  atherera ther ta  ther thertrenk wa ts are the e the hew rs aat raths ta tar  ther  t\n",
            " enk warls are the e thr wst  t   tre tor thr ht   ther  thet thertrenk wa ts are t  the e thet    astar   t t  atherewa ther ta  ther thertrenk wa ts are the e thethew rs aat raths wa tar  ther  t\n",
            " enk warls are the e thr wst  t   tre tor ths ht   ther  thet thertrenk wa ts are t  the e thet    as ar   t t rather wa ther ta  ther thertrenk wa ts are the e thethaw rs aat raths wa tar  ther  t\n",
            " enk talls are there thr wst  t   tre tor ths ht   ther  thet thertrenk wa ls are tt the e the     as ar   t t rather ws ther ta  ther thertrenk wa ls are there the haw rs aet waths wa tan  then  t\n",
            " enk talls are there thr wsr  t   tre tor thstht t ther  thet the trick walts are ts the e the     as hr   t t rather ts ther ta  ther the trick walts are there the haw rs aet waths wa tan  then  t\n",
            " enk talls are there thr wsr  t   tre tor thstht t then  thet the trick walts are ts the e thtt    as hr   t t rather ts then tan ther the trick walts are there thtthaw rs aet waths wa tan  then  t\n",
            " enk talls are there thr wsr  t t tri tor thstht t then  thet the trick walts are ts the e thtt    as hr   t t rethe  tn then tan thet the trick walts are there thtthaw rs aet uaths wa tan  then  t\n",
            "renk talls are there tor wsre t t ari tor thstht t then  thet the trick walts are t  there thtt    as hu   tat rathe  tn then wan thet the trick walts are there thtthaw rs aet uaths wa tan  then  t\n",
            "renk walls are there tor wsre t t ari tor thsthtat then  thet thertrick walls are tt there thtt    as ou   tat rathe etn then wan thet thertrick walls are there thtthaw rs het uaths wa tanl then  t\n",
            "renk walls are there tor nsre t t ari tor thsthtat then  thet thertrick walls are tt there thtt    as out  wat rathe etn ther wan thet thertrick walls are there thtthaw ws het uaths wa tall then  t\n",
            "renk walls are there tor nsre t a ari tor thstotat then  thet thertrick walls are tt there thtt    as out  wat rathe etn ther wan thet thertrick walls are there thtthaw ws het uaths wa tall then rt\n",
            "renk walls are there tor nsre t a ari tor tustowat then  thet thertrick walls are tt there thtt    as outo wat rathe etn ther wan thet thertrick walls are there thtthaw ws het uathy wa tall then tt\n",
            "reck walls are there tor nsre t a ari tor tustowat then  thet thertrick walls are tt there th to   us outo wat rathe etc thir wal thet thertrick walls are there th thaw ws het wathy wa tall then tt\n",
            "reck walls are there tor nkre s a ari tor tustowat then  thet thertrick walls are tt there th to   us outo wat rathe eac thir wal thet the trick walls are there th thaw ws het wathy wa tall then tt\n",
            "reck walls are there tor nkre soa ari yor tustowat then  thet the trick walls are tt there th to   us outh wot rathe eac thin wal thet the trick walls are there th thaw ws haw wathy w  talt then tt\n",
            "reck walls are there tor n re son ari yor tustowat then  thet the trick walls are tt there th to   us outh wut rathe etc thin wal thet the trick walls are there th thaw ws haw wathy w  talt then tt\n",
            "reck walls are there tor a reason ani yor tustowot then  thet the trick walls are tt there th to l us outh wut rathe etc thin wal that the trick walls are there th thaw ws haw watly w  tall then tt\n",
            "reck walls are there tor a reason ani yor bustowot then  thet the brick walls are tt there th to l us outh wut rathe  tn thin wal that the brick walls are there th thaw ws haw watly w  tall then tt\n",
            "rick walls are there tor a reason and yor bustowot then  thet the brick walls are tt there th to l us outh but rathe  an thin wal that the brick walls are there th thaw ws how watly w  talt then tt\n",
            "rick walls are there tor a reason and yor bust wat think thet the brick walls are tt there th to l us outh but rathe  an thic wal thet the brick walls are there th thaw ws how watly w  talt then tt\n",
            "rick walls are there tor a reason and you bust wot think thet the brick walls are tt there th to l us outh but rathe  an thic wal thet the brick walls are there th thaw ws how watly w  talt then tt\n",
            "rick walls are there tor a reason and you bust wot think thet the brick walls are tt there th to a us outh but rathe  an thic wal thet the brick walls are there th thaw ws how watly w  talt then tt\n",
            "rick walls are there tor a reason and you bust wot think thet the brick walls are tt there th to a us outh but rether an thic wal that the brick walls are there th thaw ws how wadly w  talt then tt\n",
            "rick walls are there tor a reason and you bust wot think thet the brick walls are tt there th te a us outh but rether an this wal that the brick walls are there th thaw ws how wadly w  talt thenktt\n",
            "rick walls are there tor a reason and you bust wot think that the brick walls are tt there th teea us outh but rether an this wal that the brick walls are there th thaw us how wadly w  talt thenktt\n",
            "rick walls are there tor a reas n and you bust wot thenk that the brick walls are tt there th seea us outh but rether an this wal that the brick walls are there th shaw us how wadly we talt thenktd\n",
            "rick walls are there tor a reas n and you bust not thenk that the brick walls are tt there th seea us out, but rether an this wal that the brick walls are there th shaw us how wadly we talt thenktd\n",
            "rick walls are there tor a reas n and you must not thenk that the brick walls are 't there th seea us out, but rether an this wal that the brick walls are there th shaw us how wadly we want thenktd\n",
            "rick walls are there tor a reason and you must not thenk that the brick walls are tt there th seea us out, but rether an this wal that the brick walls are there th shaw us how wadly we want thenktd\n",
            "rick walls are there tor a reason and you must not thenk that the brick walls are tt there th seea us out, but rather an this wal that the brick walls are there th shaw us how uadly we want thenktd\n",
            "rick walls are there tor a reason and you must not thenk that the brick walls are tt there th seec us out, but rather an this wal that the brick walls are there th shaw us how uadly we want thenktd\n",
            "rick walls are there tor a reason and you must not thenk that the brick walls are tt there th seec us out, but rather an this wal that the brick walls are there th show us how uadly we want thenktd\n",
            "rick walls are there tor a reason and you must not thenk that the brick walls are 't there th seec us out, but rather an this wal that the brick walls are there th show us how uadly we want thinktd\n",
            "rick walls are there tor a reason and you must not thenk that the brick walls are 't there th seec us out, but rather in this wal that the brick walls are there th show us how uadly we want thinktd\n",
            "rick walls are there tor a reason and you must not thenk that the brick walls are 't there th seec us out, but rather in this wal that the brick walls are there th show us how uadly we want thinksd\n",
            "rick walls are there tor a reason and you must not think that the brick walls are 't there th seec us out, but rather in this wal that the brick walls are there th show us how uadly we want thinksd\n",
            "rick walls are there tor a reason and you must not think that the brick walls are 't there th seep us out, but rather in this way that the brick walls are there th show us how badly we want thinksd\n",
            "rick walls are there tor a reason and you must not think that the brick walls are 't there to seep us out, but rather in this way that the brick walls are there th show us how badly we want thinksd\n",
            "rick walls are there tor a reason and you must not think that the brick walls are 't there to seep us out, but rather in this way that the brick walls are there to show us how badly we want thinksd\n",
            "rick walls are there tor a reason and you must not think that the brick walls are 't there to seep us out, but rather in this way that the brick walls are there to show us how badly we want thinksd\n",
            "rick walls are there tor a reason and you must not think that the brick walls are 't there to seep us out, but rather in this way that the brick walls are there to show us how badly we want thinksd\n",
            "rick walls are there tor a reason and you must not think that the brick walls are 't there to seep us out, but rather in this way that the brick walls are there to show us how badly we want thinksd\n",
            "rick walls are there tor a reason and you must not think that the brick walls are 't there to seep us out, but rather in this way that the brick walls are there to show us how badly we want thinksd\n",
            "rick walls are there tor a reason and you must not think that the brick walls are 't there to seep us out, but rather in this way that the brick walls are there to show us how badly we want thinksd\n",
            "rick walls are there tor a reason and you must not think that the brick walls are 't there to seep us out, but rather in this way that the brick walls are there to show us how badly we want thinksd\n",
            "rick walls are there tor a reason and you must not think that the brick walls are 't there to seep us out, but rather in this way that the brick walls are there to show us how badly we want thinksd\n",
            "rick walls are there tor a reason and you must not think that the brick walls are 't there to seep us out, but rather in this way that the brick walls are there to show us how badly we want thinksd\n",
            "rick walls are there tor a reason and you must not think that the brick walls are 't there to seep us out, but rather in this way that the brick walls are there to show us how badly we want thinksd\n",
            "rick walls are there tor a reason and you must not think that the brick walls are 't there to seep us out, but rather in this way that the brick walls are there to show us how badly we want thinksd\n",
            "rick walls are there tor a reason and you must not think that the brick walls are 't there to seep us out, but rather in this way that the brick walls are there to show us how badly we want thinksd\n",
            "rick walls are there tor a reason and you must not think that the brick walls are 't there to seep us out, but rather in this way that the brick walls are there to show us how badly we want thinksd\n",
            "rick walls are there tor a reason and you must not think that the brick walls are 't there to seep us out, but rather in this way that the brick walls are there to show us how badly we want thinksd\n",
            "rick walls are there tor a reason and you must not think that the brick walls are 't there to seep us out, but rather in this way that the brick walls are there to show us how badly we want thinksd\n",
            "rick walls are there tor a reason and you must not think that the brick walls are 't there to seep us out, but rather in this way that the brick walls are there to show us how badly we want thinksd\n",
            "rick walls are there tor a reason and you must not think that the brick walls are 't there to seep us out, but rather in this way that the brick walls are there to show us how badly we want thinksg\n",
            "rick walls are there tor a reason and you must not think that the brick walls are 't there to seep us out, but rather in this way that the brick walls are there to show us how badly we want thinksg\n",
            "rick walls are there tor a reason and you must not think that the brick walls are 't there to seep us out, but rather in this way that the brick walls are there to show us how badly we want thinksg\n",
            "rick walls are there tor a reason and you must not think that the brick walls are 't there to seep us out, but rather in this way that the brick walls are there to show us how badly we want thinksg\n",
            "rick walls are there tor a reason and you must not think that the brick walls are 't there to seep us out, but rather in this way that the brick walls are there to show us how badly we want thinksg\n",
            "rick walls are there tor a reason and you must not think that the brick walls are 't there to seep us out, but rather in this way that the brick walls are there to show us how badly we want thinksg\n",
            "rick walls are there tor a reason and you must not think that the brick walls are 't there to seep us out, but rather in this way that the brick walls are there to show us how badly we want thinksg\n",
            "rick walls are there tor a reason and you must not think that the brick walls are 't there to seep us out, but rather in this way that the brick walls are there to show us how badly we want thinksg\n",
            "rick walls are there tor a reason and you must not think that the brick walls are 't there to seep us out, but rather in this way that the brick walls are there to show us how badly we want thinks.\n",
            "rick walls are there tor a reason and you must not think that the brick walls are 't there to seep us out, but rather in this way that the brick walls are there to show us how badly we want thinks.\n",
            "rick walls are there tor a reason and you must not think that the brick walls are 't there to seep us out, but rather in this way that the brick walls are there to show us how badly we want thinks.\n",
            "rick walls are there tor a reason and you must not think that the brick walls are 't there to seep us out, but rather in this way that the brick walls are there to show us how badly we want thinks.\n",
            "rick walls are there tor a reason and you must not think that the brick walls are 't there to seep us out, but rather in this way that the brick walls are there to show us how badly we want thinks.\n",
            "rick walls are there tor a reason and you must not think that the brick walls are 't there to seep us out, but rather in this way that the brick walls are there to show us how badly we want thinks.\n",
            "rick walls are there tor a reason and you must not think that the brick walls are 't there to seep us out, but rather in this way that the brick walls are there to show us how badly we want thinks.\n",
            "rick walls are there tor a reason and you must not think that the brick walls are 't there to seep us out, but rather in this way that the brick walls are there to show us how badly we want thinks.\n"
          ]
        }
      ]
    },
    {
      "cell_type": "code",
      "source": [
        "predict_str"
      ],
      "metadata": {
        "colab": {
          "base_uri": "https://localhost:8080/",
          "height": 54
        },
        "id": "8qUkbiw2t0Il",
        "outputId": "b53cf58b-4cb4-41e1-d89d-d39fb35ac81c"
      },
      "execution_count": 23,
      "outputs": [
        {
          "output_type": "execute_result",
          "data": {
            "text/plain": [
              "\"rick walls are there tor a reason and you must not think that the brick walls are 't there to seep us out, but rather in this way that the brick walls are there to show us how badly we want thinks.\""
            ],
            "application/vnd.google.colaboratory.intrinsic+json": {
              "type": "string"
            }
          },
          "metadata": {},
          "execution_count": 23
        }
      ]
    },
    {
      "cell_type": "markdown",
      "source": [
        "결과가 어떤가요?? 마지막 에폭의 문장이 그럴싸한가요?"
      ],
      "metadata": {
        "id": "PkIzDTdyvTHz"
      }
    },
    {
      "cell_type": "markdown",
      "source": [
        "## Task2\n",
        "\n",
        "위 sentence는 제가 임의로 생성한 문장들입니다.\n",
        "\n",
        "마음에 드시는 문구 가져오셔서 문장이 어떻게 생성되는지 확인해보세요! \n",
        "\n",
        "영어가 아닌 한국어로 시도해보는 것도 좋겠죠? \n",
        "\n",
        "수정이 많이 필요(토큰화 등) 할 수 있으나 한번 시도해보시는 것 권장드립니다 :)\n",
        "\n",
        "위 베이스라인은 어디든 수정하셔도 좋고 조금 더 자연스러운 문장이 나올 수 있게 다양한 시도를 해보세요!\n",
        "\n",
        "조건 : 문장 3개 이상, 연결성이 있는 문장을 \" \" 으로 구분하여 ( )에 넣기"
      ],
      "metadata": {
        "id": "kN1zL8Dpvane"
      }
    },
    {
      "cell_type": "code",
      "source": [
        "sentence = (\"Do you want to build a snowman\"\n",
        "          \"Come on let's go and play\"\n",
        "          \"I never see you anymore Come out the door\"\n",
        "          \"It's like you've gone away\")"
      ],
      "metadata": {
        "id": "IKp-lKrjvXR9"
      },
      "execution_count": 28,
      "outputs": []
    },
    {
      "cell_type": "code",
      "source": [
        "world_set = list(set(sentence))\n",
        "\n",
        "## 문제(1): 각 문자에 정수 인코딩 (공백도 하나의 원소로 포함)\n",
        "vocab = {letter:num for num,letter in enumerate(world_set)}"
      ],
      "metadata": {
        "id": "kPipkDsXrIM1"
      },
      "execution_count": 29,
      "outputs": []
    },
    {
      "cell_type": "code",
      "source": [
        "vocab_size = len(vocab)\n",
        "print('문자 집합 크기 : {}'.format(vocab_size))"
      ],
      "metadata": {
        "colab": {
          "base_uri": "https://localhost:8080/"
        },
        "id": "HsJog1zSrKeO",
        "outputId": "49876699-c3f9-41f0-fb37-9ab0f86ba086"
      },
      "execution_count": 30,
      "outputs": [
        {
          "output_type": "stream",
          "name": "stdout",
          "text": [
            "문자 집합 크기 : 25\n"
          ]
        }
      ]
    },
    {
      "cell_type": "code",
      "source": [
        "hidden_size = vocab_size # 같아야 하는 것 확인!\n",
        "sequence_length = 6  # 너무 길거나 너무 짧게 잡으면 안됩니다!\n",
        "learning_rate = 0.01"
      ],
      "metadata": {
        "id": "uWsUqB2rrP1J"
      },
      "execution_count": 31,
      "outputs": []
    },
    {
      "cell_type": "code",
      "source": [
        "# 데이터 구성을 위한 리스트\n",
        "x_data = []\n",
        "y_data = []\n",
        "\n",
        "## 문제(2): 반복문 내에서의 인덱싱을 사용하여 sequence_length 값 단위로 샘플을 잘라 데이터 만들기, y_str은 x_str은 한 칸씩 쉬프트된 sequnce\n",
        "\n",
        "for i in range(0, len(sentence) - sequence_length):\n",
        "  x_str = sentence[i:i+ sequence_length]\n",
        "  y_str = sentence[i+1:i+ 1 + sequence_length]\n",
        "  print(i, x_str, \"->\", y_str)\n",
        "\n",
        "  # x_str과 y_str이 문자집합에 해당하는 인덱스를 각각 x_data, y_data에 append\n",
        "  x_data.append([vocab[c] for c in x_str])\n",
        "  y_data.append([vocab[d] for d in y_str])"
      ],
      "metadata": {
        "colab": {
          "base_uri": "https://localhost:8080/"
        },
        "id": "60ifbrdPrtVA",
        "outputId": "68140eb4-e749-41b6-97da-5c5b6be39b92"
      },
      "execution_count": 32,
      "outputs": [
        {
          "output_type": "stream",
          "name": "stdout",
          "text": [
            "0 Do you -> o you \n",
            "1 o you  ->  you w\n",
            "2  you w -> you wa\n",
            "3 you wa -> ou wan\n",
            "4 ou wan -> u want\n",
            "5 u want ->  want \n",
            "6  want  -> want t\n",
            "7 want t -> ant to\n",
            "8 ant to -> nt to \n",
            "9 nt to  -> t to b\n",
            "10 t to b ->  to bu\n",
            "11  to bu -> to bui\n",
            "12 to bui -> o buil\n",
            "13 o buil ->  build\n",
            "14  build -> build \n",
            "15 build  -> uild a\n",
            "16 uild a -> ild a \n",
            "17 ild a  -> ld a s\n",
            "18 ld a s -> d a sn\n",
            "19 d a sn ->  a sno\n",
            "20  a sno -> a snow\n",
            "21 a snow ->  snowm\n",
            "22  snowm -> snowma\n",
            "23 snowma -> nowman\n",
            "24 nowman -> owmanC\n",
            "25 owmanC -> wmanCo\n",
            "26 wmanCo -> manCom\n",
            "27 manCom -> anCome\n",
            "28 anCome -> nCome \n",
            "29 nCome  -> Come o\n",
            "30 Come o -> ome on\n",
            "31 ome on -> me on \n",
            "32 me on  -> e on l\n",
            "33 e on l ->  on le\n",
            "34  on le -> on let\n",
            "35 on let -> n let'\n",
            "36 n let' ->  let's\n",
            "37  let's -> let's \n",
            "38 let's  -> et's g\n",
            "39 et's g -> t's go\n",
            "40 t's go -> 's go \n",
            "41 's go  -> s go a\n",
            "42 s go a ->  go an\n",
            "43  go an -> go and\n",
            "44 go and -> o and \n",
            "45 o and  ->  and p\n",
            "46  and p -> and pl\n",
            "47 and pl -> nd pla\n",
            "48 nd pla -> d play\n",
            "49 d play ->  playI\n",
            "50  playI -> playI \n",
            "51 playI  -> layI n\n",
            "52 layI n -> ayI ne\n",
            "53 ayI ne -> yI nev\n",
            "54 yI nev -> I neve\n",
            "55 I neve ->  never\n",
            "56  never -> never \n",
            "57 never  -> ever s\n",
            "58 ever s -> ver se\n",
            "59 ver se -> er see\n",
            "60 er see -> r see \n",
            "61 r see  ->  see y\n",
            "62  see y -> see yo\n",
            "63 see yo -> ee you\n",
            "64 ee you -> e you \n",
            "65 e you  ->  you a\n",
            "66  you a -> you an\n",
            "67 you an -> ou any\n",
            "68 ou any -> u anym\n",
            "69 u anym ->  anymo\n",
            "70  anymo -> anymor\n",
            "71 anymor -> nymore\n",
            "72 nymore -> ymore \n",
            "73 ymore  -> more C\n",
            "74 more C -> ore Co\n",
            "75 ore Co -> re Com\n",
            "76 re Com -> e Come\n",
            "77 e Come ->  Come \n",
            "78  Come  -> Come o\n",
            "79 Come o -> ome ou\n",
            "80 ome ou -> me out\n",
            "81 me out -> e out \n",
            "82 e out  ->  out t\n",
            "83  out t -> out th\n",
            "84 out th -> ut the\n",
            "85 ut the -> t the \n",
            "86 t the  ->  the d\n",
            "87  the d -> the do\n",
            "88 the do -> he doo\n",
            "89 he doo -> e door\n",
            "90 e door ->  doorI\n",
            "91  doorI -> doorIt\n",
            "92 doorIt -> oorIt'\n",
            "93 oorIt' -> orIt's\n",
            "94 orIt's -> rIt's \n",
            "95 rIt's  -> It's l\n",
            "96 It's l -> t's li\n",
            "97 t's li -> 's lik\n",
            "98 's lik -> s like\n",
            "99 s like ->  like \n",
            "100  like  -> like y\n",
            "101 like y -> ike yo\n",
            "102 ike yo -> ke you\n",
            "103 ke you -> e you'\n",
            "104 e you' ->  you'v\n",
            "105  you'v -> you've\n",
            "106 you've -> ou've \n",
            "107 ou've  -> u've g\n",
            "108 u've g -> 've go\n",
            "109 've go -> ve gon\n",
            "110 ve gon -> e gone\n",
            "111 e gone ->  gone \n",
            "112  gone  -> gone a\n",
            "113 gone a -> one aw\n",
            "114 one aw -> ne awa\n",
            "115 ne awa -> e away\n"
          ]
        }
      ]
    },
    {
      "cell_type": "code",
      "source": [
        "##6. 입력 시퀀스에 대해 원핫인코딩 수행\n",
        "\n",
        "## 문제(4) : x_data를 원핫인코딩 > numpy의 eye를 쓸 수 있지 않을까?\n",
        "x_one_hot = np.eye(vocab_size)[x_data]\n",
        "\n",
        "##7. 입력 데이터, 레이블데이터 텐서로 변환\n",
        "\n",
        "## 문제(5) : x_one_hot과 y_data 텐서로 변환 : 둘 다 같은 형식의 텐서로 변환하면 될까?? (FloatTensor, LongTesor 중 맞는 것은?)\n",
        "X = torch.FloatTensor(x_one_hot)\n",
        "Y = torch.LongTensor(y_data)"
      ],
      "metadata": {
        "id": "-LysJQFbr-qk"
      },
      "execution_count": 33,
      "outputs": []
    },
    {
      "cell_type": "code",
      "source": [
        "net = Net(vocab_size, hidden_size, 2)"
      ],
      "metadata": {
        "id": "2zb-NMG0sDcM"
      },
      "execution_count": 34,
      "outputs": []
    },
    {
      "cell_type": "code",
      "source": [
        "##12. loss function\n",
        "criterion = torch.nn.CrossEntropyLoss()\n",
        "\n",
        "##13. optimizer\n",
        "optimizer = optim.Adam(net.parameters(), learning_rate)\n",
        "##14. 출력 크기 점검\n",
        "outputs = net(X)\n",
        "print(outputs.shape)\n",
        "\n",
        "##15. Training 시작\n",
        "\n",
        "for i in range(100):\n",
        "    optimizer.zero_grad()\n",
        "    outputs = net(X)\n",
        "    ##문제(7) : outputs, Y 형태 그대로 넣으면 안되죠. view 함수를 이용해 loss값을 계산해봅시다.\n",
        "    loss = criterion(outputs.view(-1, vocab_size), Y.view(-1))\n",
        "    loss.backward()\n",
        "    optimizer.step()\n",
        "\n",
        "    #16. 예측결과 확인\n",
        "    results = outputs.argmax(dim=2)\n",
        "    predict_str = \"\"\n",
        "    for j, result in enumerate(results):\n",
        "        if j == 0: # 처음에는 예측 결과를 전부 가져오기\n",
        "            predict_str += ''.join([world_set[t] for t in result])\n",
        "        else: # 그 다음에는 마지막 글자만 반복 추가\n",
        "            predict_str += world_set[result[-1]]\n",
        "\n",
        "    print(predict_str)"
      ],
      "metadata": {
        "colab": {
          "base_uri": "https://localhost:8080/"
        },
        "id": "jLUFOQXcsHAj",
        "outputId": "c129fe85-f046-45f9-cfc8-01231989d71c"
      },
      "execution_count": 35,
      "outputs": [
        {
          "output_type": "stream",
          "name": "stdout",
          "text": [
            "torch.Size([116, 6, 25])\n",
            "hahaaaaaaaaaaaaaaaahaahaaaaahaahaahaaaaaaaahaahaaahaaaaaaaaaaahaahhaaaaaaaahaahaaaahaaaaaaahaaaaaaaahahhaaaaaaaaaaaaaaaaa\n",
            "oalaaaaaaa aaaaaaaaaaaaaaaaaaaaaaa aaaaa aaaaaaaaaa aaaaaaaaaaaaa  aaaaaaaaaaa aaaaaaaaa aaaaaaaa aaaaaaaaaaaaaaaaaaaaaaa\n",
            "oe                                                                                                                       \n",
            "oo                                                                                                                       \n",
            "oo                                                                                                                       \n",
            "o                                                                                                                        \n",
            "o                                                                                                                        \n",
            "                                                                                                                         \n",
            "                                                                                                                         \n",
            "                                                                                                                         \n",
            "                                                                                                                         \n",
            "                                                                                                                         \n",
            "                                                                                                                         \n",
            "o                               e   e                                       e                          e                 \n",
            "o      o e    e e e e e e o  e  e  oe           e e   o            o   oe   e    e  oe      o    e     e  o      o e  o  \n",
            "o   oe ooe    e e e e e e o  e oe  oe o e     e e e e e e          o e oe e e eo e ooe   e  o  e e e o e  o e e  o e  oo \n",
            "o  ooe ooe    e e e e e e o  e oe eoe o e e o e e e e e e          o e ne e e eooe ooe eoe  o  e e e o e  o e e  o e ooo \n",
            "o  ooe ooe e  e e e e e e o  e oe eoe o e e o e e e e e e  e      oo e ne e e eooe ooe eoe  o  e e e o e eo e e  o e ooo \n",
            "o  oue ooe s  e e e e e e o  e oe eoe o e e o e e e e e e  e   e  oo e ne e e eooe eoe eoe  o  e e e o e eo e e  o e ooo \n",
            "o  oue one t  e e e e e e o  e oe eoe o e e ooe e e e e e  e   e  oo e ne e e eooe soe eoe oo  e e e o e ooue e  o e soo \n",
            "o  oue one t  e e e e e e o  e oe eoe o e e oue e e e e ee e  ne  ooue ne a e eooe ooe e e oo  e e e o e ooue e oo e soo \n",
            "o  oue one t  e e e e e e o  e ue ooe o e e oue e a e e ee e  se  ooue ne a e eoue ooe e e oo  e e   o e ooue e oo e ooo \n",
            "o aoue one t  e e e e e e o  e ue ooe o e   oue e a a o te o  se  ooue ne a e eoue ooe e e oou e e   o e ooue e ooue ooo \n",
            "ouaoue one te e e e e o e o  e ue ooe a e   oue e a a o ne o  se  ooue ne a e eoue ooe tee oouue ee  o e ooue e noue ooo \n",
            "outoue one te e e e e o e o ne ue ooe a e   oue e a a o ne o  se  ooue ne a e eoue ooe tee oouue ee  o e ooue e noue toon\n",
            "outoue one te e e e e o e o ne ue ooe a e  soue e a ano ne e  se  ooue ne aue eoue ooe tse oouue es  o e noue e soue anon\n",
            "outoue one ae e e e e o eumane ue ooe a e  soue e a ano ne e  se  ooue ne aue doue ooe dse souue es  o e noue e goue anon\n",
            "outoue one a  e e e C o eumane me oue a e  souena a ano ne e  se  ooue ne aue youe oue dse oouue 's  one ooue e goue anon\n",
            "outoue nne a  eoe e C o oumane me oue a es souena a ano ne e  se  ooue ne aue youe oue d e youre 's sone ooue e goue anon\n",
            "ou oue nne a  eoe e a onoumane me oue a es sonena a ano ne e  se  ooue neooue youe oue d e youre 's soke ooue e goue anon\n",
            "ou ou anne no eoe d a snoumane me oue a es sonena a ano ne e  se  ooueaneoo e youe oue d e you et's sdke ooue e gone anon\n",
            "o  ou anne no eoe d a snoumane me oue a es sonena a ano ne e  se  ooueaneoo e youe oue d e yo  et's sdke youe e gone anan\n",
            "o  ou anne no eueld a snoumand me ouela es gonena a ato ne e  se  oou andoo e youe oue a e yo  et's sdke you  e goue anan\n",
            "o  ou aane no eueld a snoumandome ouela es go ena a ato ne e  se  oou andoo e youe oue a e yo  et's gdke you ve goue anan\n",
            "o  ou aane no eueld a snoumandome ouela es go ana a ato ne e  se  oou anCoo e yome ou  a e yo  et's gdke you ve youe anan\n",
            "o lou aand so  ueld a snoumandome ouela es so ana a ato ne e  se  oou anCoo e yome ou  a e so  et's gdke you ve youe anan\n",
            "o lou aand so  utld a snoumandome ouela es so ana a ano ne e  se  oou anyoo e yome ou  a e so  et's gdke you ve youe anan\n",
            "o lou aand so gutld a snoumandome ouela 's so ana a ano ne e  se  you anyoo e yome ou  a e soo et's gdke you ve youe anan\n",
            "o lou aand so gutld a snoumandome ouele 's so ana a ano ne e  se  you anyoo e yome oue a e soo et's gdke you  e yone anan\n",
            "o lou aane so 'utld a snoumandome ouelet's so ana a ano ne e  se  you anyoo e Come oue t e doo et's gdke you  e yone anan\n",
            "o lou aann to 'utld a snoumandome ouelet's go ana a ano ne e  se  you anyoo e Come oue toe dooret's gdke you ve yone anan\n",
            "o you aann to 'utkd a snoumandome ouelet's go and a ano ne e  see you anyoo e yome ou  the dooret's gdke you ve yone anan\n",
            "o you aann to 'utkd a snoumandome onelet's go and a ano ne e  see you anyoo e Come on  the dooret's gike you ve yone anan\n",
            "o you aant to 'uikd a snoumandome onelet's go and a ano ne e  see you anyoo e Come on  the dooret's gike you ve yone anan\n",
            "o you aant to 'uikd a snoumandome onelet's go and alayo ne e  see you anyoo e Come on  the dooret's gike you ve yone anan\n",
            "o you aant to 'uild a snoumanCome onelet's go and alayo ne e  see you anyoo e Come ont the doorIt's gike you ve yone ayan\n",
            "o you aant to 'uild a snowmanCome onelet's go and alayo ne e  see you anymo e Come ont the doorIt's like you ve yone ayan\n",
            "o you aant to 'uild a snowmanCome onelet's go and alayo ne e  see you anymo e Come ont the doorIt's like you ve yone ayan\n",
            "o you aant to build a snowmanCome onelet's go and alayo ne e  see you anymo e Come ont the doorIt's like you ve gone ayan\n",
            "o you aant to build a snowmanCome onelet's go and alayo ne e  see you anymore Come ont the doorIt's like you ve gone ayan\n",
            "o you aant to build a snowmanCome ouelet's go and alayo ne er see you anymore Come out the doorIt's like you ve gone ayan\n",
            "o you aant to build a snowmanCome ou let's go and alayo ne er see you anymore Come out the doorIt's like you ve gone ayan\n",
            "o you aant to build a snowmanCome on let's go and alayo ne er see you anymore Come ont the doorIt's like you ve gone awan\n",
            "o you aant to build a snowmanCome on let's go and alayo ne er see you anymore Come ont the doorIt's like you ve gone awan\n",
            "o you aant to build a snowmanCome on let's go and alayI ne er see you anymore Come ont the doorIt's like you ve gone awan\n",
            "o you aant to build a snowmanCome on let's go and alayI ne er see you anymore Come ont the doorIt's like you ve gone awan\n",
            "o you aant to build a snowmanCome on let's go and playI ne er see you anymore Come ont the doorIt's like you ve gone awan\n",
            "o you aant to build a snowmanCome on let's go and playI never see you anymore Come ont the doorIt's like you ve gone awan\n",
            "o you aant to build a snowmanCome on let's go and playI never see you anymore Come ont the doorIt's like you ve gone awan\n",
            "o you aant to build a snowmanCome on let's go and playI never see you anymore Come ont the doorIt's like you ve gone awan\n",
            "o you aant to build a snowmanCome on let's go and playI never see you anymore Come ont the doorIt's like you ve gone awan\n",
            "o you aant to build a snowmanCome ou let's go and playI never see you anymore Come out the doorIt's like you ve gone awan\n",
            "o you aant to build a snowmanCome ou let's go and playI never see you anymore Come out the doorIt's like you ve gone awan\n",
            "o you want to build a snowmanCome ou let's go and playI never see you anymore Come out the doorIt's like you ve gone awan\n",
            "o you want to build a snowmanCome ou let's go and playI never see you anymore Come out the doorIt's like you ve gone awan\n",
            "o you want to build a snowmanCome on let's go and playI never see you anymore Come ont the doorIt's like you ve gone awan\n",
            "o you want to build a snowmanCome on let's go and playI never see you anymore Come ont the doorIt's like you ve gone awan\n",
            "o you want to build a snowmanCome on let's go and playI never see you anymore Come ont the doorIt's like you ve gone awan\n",
            "o you want to build a snowmanCome on let's go and playI never see you anymore Come ont the doorIt's like you ve gone awan\n",
            "o you want to build a snowmanCome on let's go and playI never see you anymore Come ont the doorIt's like you ve gone awan\n",
            "o you want to build a snowmanCome on let's go and playI never see you anymore Come ont the doorIt's like you've gone away\n",
            "o you want to build a snowmanCome on let's go and playI never see you anymore Come ont the doorIt's like you've gone away\n",
            "o you want to build a snowmanCome on let's go and playI never see you anymore Come ont the doorIt's like you've gone away\n",
            "o you want to build a snowmanCome on let's go and playI never see you anymore Come ont the doorIt's like you've gone away\n",
            "o you want to build a snowmanCome on let's go and playI never see you anymore Come ont the doorIt's like you've gone away\n",
            "o you want to build a snowmanCome on let's go and playI never see you anymore Come ont the doorIt's like you've gone away\n",
            "o you want to build a snowmanCome on let's go and playI never see you anymore Come ont the doorIt's like you've gone away\n",
            "o you want to build a snowmanCome on let's go and playI never see you anymore Come ont the doorIt's like you've gone away\n",
            "o you want to build a snowmanCome on let's go and playI never see you anymore Come ont the doorIt's like you've gone away\n",
            "o you want to build a snowmanCome on let's go and playI never see you anymore Come ont the doorIt's like you've gone away\n",
            "o you want to build a snowmanCome on let's go and playI never see you anymore Come ont the doorIt's like you've gone away\n",
            "o you want to build a snowmanCome on let's go and playI never see you anymore Come ont the doorIt's like you've gone away\n",
            "o you want to build a snowmanCome on let's go and playI never see you anymore Come ont the doorIt's like you've gone away\n",
            "o you want to build a snowmanCome on let's go and playI never see you anymore Come ont the doorIt's like you've gone away\n",
            "o you want to build a snowmanCome on let's go and playI never see you anymore Come ont the doorIt's like you've gone away\n",
            "o you want to build a snowmanCome on let's go and playI never see you anymore Come ont the doorIt's like you've gone away\n",
            "o you want to build a snowmanCome on let's go and playI never see you anymore Come ont the doorIt's like you've gone away\n",
            "o you want to build a snowmanCome on let's go and playI never see you anymore Come ont the doorIt's like you've gone away\n",
            "o you want to build a snowmanCome on let's go and playI never see you anymore Come ont the doorIt's like you've gone away\n",
            "o you want to build a snowmanCome on let's go and playI never see you anymore Come ont the doorIt's like you've gone away\n",
            "o you want to build a snowmanCome on let's go and playI never see you anymore Come ont the doorIt's like you've gone away\n",
            "o you want to build a snowmanCome on let's go and playI never see you anymore Come ont the doorIt's like you've gone away\n",
            "o you want to build a snowmanCome on let's go and playI never see you anymore Come ont the doorIt's like you've gone away\n",
            "o you want to build a snowmanCome on let's go and playI never see you anymore Come ont the doorIt's like you've gone away\n",
            "o you want to build a snowmanCome on let's go and playI never see you anymore Come ont the doorIt's like you've gone away\n",
            "o you want to build a snowmanCome on let's go and playI never see you anymore Come ont the doorIt's like you've gone away\n",
            "o you want to build a snowmanCome on let's go and playI never see you anymore Come ont the doorIt's like you've gone away\n",
            "o you want to build a snowmanCome on let's go and playI never see you anymore Come ont the doorIt's like you've gone away\n",
            "o you want to build a snowmanCome ou let's go and playI never see you anymore Come out the doorIt's like you've gone away\n",
            "o you want to build a snowmanCome ou let's go and playI never see you anymore Come out the doorIt's like you've gone away\n"
          ]
        }
      ]
    },
    {
      "cell_type": "code",
      "source": [
        "predict_str"
      ],
      "metadata": {
        "colab": {
          "base_uri": "https://localhost:8080/",
          "height": 35
        },
        "id": "2X9fyoicsOgh",
        "outputId": "f2dd353b-f7b7-4af3-e3cf-827a52167cde"
      },
      "execution_count": 36,
      "outputs": [
        {
          "output_type": "execute_result",
          "data": {
            "text/plain": [
              "\"o you want to build a snowmanCome ou let's go and playI never see you anymore Come out the doorIt's like you've gone away\""
            ],
            "application/vnd.google.colaboratory.intrinsic+json": {
              "type": "string"
            }
          },
          "metadata": {},
          "execution_count": 36
        }
      ]
    }
  ]
}