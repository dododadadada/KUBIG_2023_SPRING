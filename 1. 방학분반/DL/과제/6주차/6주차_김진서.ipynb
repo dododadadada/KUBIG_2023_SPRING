{
 "cells": [
  {
   "cell_type": "code",
   "execution_count": 1,
   "metadata": {
    "id": "nmQ5F7UAeKB_"
   },
   "outputs": [],
   "source": [
    "import numpy as np\n",
    "import torch\n",
    "import torch.nn as nn\n",
    "import torch.optim as optim"
   ]
  },
  {
   "cell_type": "markdown",
   "metadata": {
    "id": "Sgxd6SxmeVcP"
   },
   "source": [
    "## Task1\n",
    "\n",
    "빈 칸을 채워주세요!\n",
    "\n",
    "단계별 output이 github 파일에는 남아있으니 그 output과 동일한 형태인지 확인하면서 진행해주시면 됩니다~"
   ]
  },
  {
   "cell_type": "code",
   "execution_count": 8,
   "metadata": {
    "id": "NDvUeC8BoUb6"
   },
   "outputs": [],
   "source": [
    "#1. 생성할 문장 데이터\n",
    "\n",
    "sentence = (\"Brick walls are there for a reason and you must not think \"\n",
    "            \"that the brick walls aren't there to keep us out, but rather \"\n",
    "            \"in this way that the brick walls are there to show us how badly we want things.\")"
   ]
  },
  {
   "cell_type": "code",
   "execution_count": 9,
   "metadata": {
    "id": "b9lkrKyZf8ie"
   },
   "outputs": [],
   "source": [
    "#2. 문자 집합 만들기\n",
    "world_set = list(set(sentence))\n",
    "\n",
    "## 문제(1): 각 문자에 정수 인코딩 (공백도 하나의 원소로 포함)\n",
    "vocab = {word: i for i, word in enumerate(world_set)}"
   ]
  },
  {
   "cell_type": "code",
   "execution_count": 10,
   "metadata": {
    "colab": {
     "base_uri": "https://localhost:8080/"
    },
    "id": "F_0we5Y-gYDq",
    "outputId": "01af8d3e-406c-4be6-d44d-e5c950900e4d"
   },
   "outputs": [
    {
     "name": "stdout",
     "output_type": "stream",
     "text": [
      "{',': 0, 'm': 1, 'k': 2, 'h': 3, 'e': 4, 't': 5, ' ': 6, 'l': 7, 'u': 8, 'y': 9, 'd': 10, 'n': 11, 'o': 12, 'B': 13, 's': 14, 'g': 15, 'f': 16, 'r': 17, 'c': 18, 'i': 19, 'w': 20, 'a': 21, 'b': 22, 'p': 23, '.': 24, \"'\": 25}\n"
     ]
    }
   ],
   "source": [
    "print(vocab)"
   ]
  },
  {
   "cell_type": "code",
   "execution_count": 11,
   "metadata": {
    "colab": {
     "base_uri": "https://localhost:8080/"
    },
    "id": "TpKupU6lgpfT",
    "outputId": "8aa615b8-e7e7-4ded-89bd-0a30ea2b7963"
   },
   "outputs": [
    {
     "name": "stdout",
     "output_type": "stream",
     "text": [
      "문자 집합 크기 : 26\n"
     ]
    }
   ],
   "source": [
    "#3. 문자 집합 크기 확인\n",
    "\n",
    "vocab_size = len(vocab)\n",
    "print('문자 집합 크기 : {}'.format(vocab_size))"
   ]
  },
  {
   "cell_type": "code",
   "execution_count": 12,
   "metadata": {
    "id": "wFDZJHSMg9In"
   },
   "outputs": [],
   "source": [
    "#4. 하이퍼 파라미터 설정(자유롭게 수정해보세요!)\n",
    "\n",
    "hidden_size = vocab_size # 같아야 하는 것 확인!\n",
    "sequence_length = 12  # 너무 길거나 너무 짧게 잡으면 안됩니다!\n",
    "learning_rate = 0.01"
   ]
  },
  {
   "cell_type": "code",
   "execution_count": 13,
   "metadata": {
    "colab": {
     "base_uri": "https://localhost:8080/"
    },
    "id": "RbDcmJmghN7V",
    "outputId": "dcfb8e63-be17-440a-d2eb-f4c468c08a8f"
   },
   "outputs": [
    {
     "name": "stdout",
     "output_type": "stream",
     "text": [
      "0 Brick walls  -> rick walls a\n",
      "1 rick walls a -> ick walls ar\n",
      "2 ick walls ar -> ck walls are\n",
      "3 ck walls are -> k walls are \n",
      "4 k walls are  ->  walls are t\n",
      "5  walls are t -> walls are th\n",
      "6 walls are th -> alls are the\n",
      "7 alls are the -> lls are ther\n",
      "8 lls are ther -> ls are there\n",
      "9 ls are there -> s are there \n",
      "10 s are there  ->  are there f\n",
      "11  are there f -> are there fo\n",
      "12 are there fo -> re there for\n",
      "13 re there for -> e there for \n",
      "14 e there for  ->  there for a\n",
      "15  there for a -> there for a \n",
      "16 there for a  -> here for a r\n",
      "17 here for a r -> ere for a re\n",
      "18 ere for a re -> re for a rea\n",
      "19 re for a rea -> e for a reas\n",
      "20 e for a reas ->  for a reaso\n",
      "21  for a reaso -> for a reason\n",
      "22 for a reason -> or a reason \n",
      "23 or a reason  -> r a reason a\n",
      "24 r a reason a ->  a reason an\n",
      "25  a reason an -> a reason and\n",
      "26 a reason and ->  reason and \n",
      "27  reason and  -> reason and y\n",
      "28 reason and y -> eason and yo\n",
      "29 eason and yo -> ason and you\n",
      "30 ason and you -> son and you \n",
      "31 son and you  -> on and you m\n",
      "32 on and you m -> n and you mu\n",
      "33 n and you mu ->  and you mus\n",
      "34  and you mus -> and you must\n",
      "35 and you must -> nd you must \n",
      "36 nd you must  -> d you must n\n",
      "37 d you must n ->  you must no\n",
      "38  you must no -> you must not\n",
      "39 you must not -> ou must not \n",
      "40 ou must not  -> u must not t\n",
      "41 u must not t ->  must not th\n",
      "42  must not th -> must not thi\n",
      "43 must not thi -> ust not thin\n",
      "44 ust not thin -> st not think\n",
      "45 st not think -> t not think \n",
      "46 t not think  ->  not think t\n",
      "47  not think t -> not think th\n",
      "48 not think th -> ot think tha\n",
      "49 ot think tha -> t think that\n",
      "50 t think that ->  think that \n",
      "51  think that  -> think that t\n",
      "52 think that t -> hink that th\n",
      "53 hink that th -> ink that the\n",
      "54 ink that the -> nk that the \n",
      "55 nk that the  -> k that the b\n",
      "56 k that the b ->  that the br\n",
      "57  that the br -> that the bri\n",
      "58 that the bri -> hat the bric\n",
      "59 hat the bric -> at the brick\n",
      "60 at the brick -> t the brick \n",
      "61 t the brick  ->  the brick w\n",
      "62  the brick w -> the brick wa\n",
      "63 the brick wa -> he brick wal\n",
      "64 he brick wal -> e brick wall\n",
      "65 e brick wall ->  brick walls\n",
      "66  brick walls -> brick walls \n",
      "67 brick walls  -> rick walls a\n",
      "68 rick walls a -> ick walls ar\n",
      "69 ick walls ar -> ck walls are\n",
      "70 ck walls are -> k walls aren\n",
      "71 k walls aren ->  walls aren'\n",
      "72  walls aren' -> walls aren't\n",
      "73 walls aren't -> alls aren't \n",
      "74 alls aren't  -> lls aren't t\n",
      "75 lls aren't t -> ls aren't th\n",
      "76 ls aren't th -> s aren't the\n",
      "77 s aren't the ->  aren't ther\n",
      "78  aren't ther -> aren't there\n",
      "79 aren't there -> ren't there \n",
      "80 ren't there  -> en't there t\n",
      "81 en't there t -> n't there to\n",
      "82 n't there to -> 't there to \n",
      "83 't there to  -> t there to k\n",
      "84 t there to k ->  there to ke\n",
      "85  there to ke -> there to kee\n",
      "86 there to kee -> here to keep\n",
      "87 here to keep -> ere to keep \n",
      "88 ere to keep  -> re to keep u\n",
      "89 re to keep u -> e to keep us\n",
      "90 e to keep us ->  to keep us \n",
      "91  to keep us  -> to keep us o\n",
      "92 to keep us o -> o keep us ou\n",
      "93 o keep us ou ->  keep us out\n",
      "94  keep us out -> keep us out,\n",
      "95 keep us out, -> eep us out, \n",
      "96 eep us out,  -> ep us out, b\n",
      "97 ep us out, b -> p us out, bu\n",
      "98 p us out, bu ->  us out, but\n",
      "99  us out, but -> us out, but \n",
      "100 us out, but  -> s out, but r\n",
      "101 s out, but r ->  out, but ra\n",
      "102  out, but ra -> out, but rat\n",
      "103 out, but rat -> ut, but rath\n",
      "104 ut, but rath -> t, but rathe\n",
      "105 t, but rathe -> , but rather\n",
      "106 , but rather ->  but rather \n",
      "107  but rather  -> but rather i\n",
      "108 but rather i -> ut rather in\n",
      "109 ut rather in -> t rather in \n",
      "110 t rather in  ->  rather in t\n",
      "111  rather in t -> rather in th\n",
      "112 rather in th -> ather in thi\n",
      "113 ather in thi -> ther in this\n",
      "114 ther in this -> her in this \n",
      "115 her in this  -> er in this w\n",
      "116 er in this w -> r in this wa\n",
      "117 r in this wa ->  in this way\n",
      "118  in this way -> in this way \n",
      "119 in this way  -> n this way t\n",
      "120 n this way t ->  this way th\n",
      "121  this way th -> this way tha\n",
      "122 this way tha -> his way that\n",
      "123 his way that -> is way that \n",
      "124 is way that  -> s way that t\n",
      "125 s way that t ->  way that th\n",
      "126  way that th -> way that the\n",
      "127 way that the -> ay that the \n",
      "128 ay that the  -> y that the b\n",
      "129 y that the b ->  that the br\n",
      "130  that the br -> that the bri\n",
      "131 that the bri -> hat the bric\n",
      "132 hat the bric -> at the brick\n",
      "133 at the brick -> t the brick \n",
      "134 t the brick  ->  the brick w\n",
      "135  the brick w -> the brick wa\n",
      "136 the brick wa -> he brick wal\n",
      "137 he brick wal -> e brick wall\n",
      "138 e brick wall ->  brick walls\n",
      "139  brick walls -> brick walls \n",
      "140 brick walls  -> rick walls a\n",
      "141 rick walls a -> ick walls ar\n",
      "142 ick walls ar -> ck walls are\n",
      "143 ck walls are -> k walls are \n",
      "144 k walls are  ->  walls are t\n",
      "145  walls are t -> walls are th\n",
      "146 walls are th -> alls are the\n",
      "147 alls are the -> lls are ther\n",
      "148 lls are ther -> ls are there\n",
      "149 ls are there -> s are there \n",
      "150 s are there  ->  are there t\n",
      "151  are there t -> are there to\n",
      "152 are there to -> re there to \n",
      "153 re there to  -> e there to s\n",
      "154 e there to s ->  there to sh\n",
      "155  there to sh -> there to sho\n",
      "156 there to sho -> here to show\n",
      "157 here to show -> ere to show \n",
      "158 ere to show  -> re to show u\n",
      "159 re to show u -> e to show us\n",
      "160 e to show us ->  to show us \n",
      "161  to show us  -> to show us h\n",
      "162 to show us h -> o show us ho\n",
      "163 o show us ho ->  show us how\n",
      "164  show us how -> show us how \n",
      "165 show us how  -> how us how b\n",
      "166 how us how b -> ow us how ba\n",
      "167 ow us how ba -> w us how bad\n",
      "168 w us how bad ->  us how badl\n",
      "169  us how badl -> us how badly\n",
      "170 us how badly -> s how badly \n",
      "171 s how badly  ->  how badly w\n",
      "172  how badly w -> how badly we\n",
      "173 how badly we -> ow badly we \n",
      "174 ow badly we  -> w badly we w\n",
      "175 w badly we w ->  badly we wa\n",
      "176  badly we wa -> badly we wan\n",
      "177 badly we wan -> adly we want\n",
      "178 adly we want -> dly we want \n",
      "179 dly we want  -> ly we want t\n",
      "180 ly we want t -> y we want th\n",
      "181 y we want th ->  we want thi\n",
      "182  we want thi -> we want thin\n",
      "183 we want thin -> e want thing\n",
      "184 e want thing ->  want things\n",
      "185  want things -> want things.\n"
     ]
    }
   ],
   "source": [
    "#5. seqence 길이 단위 자르기\n",
    "\n",
    "# 데이터 구성을 위한 리스트\n",
    "x_data = []\n",
    "y_data = []\n",
    "\n",
    "## 문제(2): 반복문 내에서의 인덱싱을 사용하여 sequence_length 값 단위로 샘플을 잘라 데이터 만들기, y_str은 x_str은 한 칸씩 쉬프트된 sequnce\n",
    "\n",
    "for i in range(0, len(sentence) - sequence_length):\n",
    "  x_str = sentence[i: i + sequence_length]\n",
    "  y_str = sentence[i+1: i + sequence_length+1]\n",
    "  print(i, x_str, \"->\", y_str)\n",
    "\n",
    "  # x_str과 y_str이 문자집합에 해당하는 인덱스를 각각 x_data, y_data에 append\n",
    "  x_data.append([vocab[c] for c in x_str])\n",
    "  y_data.append([vocab[d] for d in y_str])"
   ]
  },
  {
   "cell_type": "code",
   "execution_count": 14,
   "metadata": {
    "colab": {
     "base_uri": "https://localhost:8080/"
    },
    "id": "XVFlILiOixdc",
    "outputId": "504a1c71-f8f5-446f-f9fb-8fb1e24d41fc"
   },
   "outputs": [
    {
     "name": "stdout",
     "output_type": "stream",
     "text": [
      "[13, 17, 19, 18, 2, 6, 20, 21, 7, 7, 14, 6]\n",
      "[17, 19, 18, 2, 6, 20, 21, 7, 7, 14, 6, 21]\n"
     ]
    }
   ],
   "source": [
    "# 출력해서 한 칸씩 쉬프트된 것 확인하기!\n",
    "\n",
    "print(x_data[0])\n",
    "print(y_data[0])"
   ]
  },
  {
   "cell_type": "code",
   "execution_count": 16,
   "metadata": {
    "colab": {
     "base_uri": "https://localhost:8080/"
    },
    "id": "5lPes1dvjlNb",
    "outputId": "0705e61b-779f-4c71-8303-dc6c275bb401"
   },
   "outputs": [],
   "source": [
    "##6. 입력 시퀀스에 대해 원핫인코딩 수행\n",
    "\n",
    "## 문제(4) : x_data를 원핫인코딩 > numpy의 eye를 쓸 수 있지 않을까?\n",
    "x_one_hot = np.eye(vocab_size)[x_data]\n",
    "\n",
    "##7. 입력 데이터, 레이블데이터 텐서로 변환\n",
    "\n",
    "## 문제(5) : x_one_hot과 y_data 텐서로 변환 : 둘 다 같은 형식의 텐서로 변환하면 될까?? (FloatTensor, LongTesor 중 맞는 것은?)\n",
    "X = torch.FloatTensor(x_one_hot)\n",
    "Y = torch.LongTensor(y_data)"
   ]
  },
  {
   "cell_type": "code",
   "execution_count": 17,
   "metadata": {
    "colab": {
     "base_uri": "https://localhost:8080/"
    },
    "id": "lMZzZlaymMk8",
    "outputId": "9d64e989-9ca6-4c8c-830a-7460a4f3a47b"
   },
   "outputs": [
    {
     "name": "stdout",
     "output_type": "stream",
     "text": [
      "훈련 데이터의 크기 : torch.Size([186, 12, 26])\n",
      "레이블의 크기 : torch.Size([186, 12])\n"
     ]
    }
   ],
   "source": [
    "##8. 크기 확인\n",
    "print('훈련 데이터의 크기 : {}'.format(X.shape))\n",
    "print('레이블의 크기 : {}'.format(Y.shape))"
   ]
  },
  {
   "cell_type": "code",
   "execution_count": 18,
   "metadata": {
    "colab": {
     "base_uri": "https://localhost:8080/"
    },
    "id": "knx1DE_AmSFB",
    "outputId": "5e46adcc-8fec-4ea2-ea1f-e5f0766eb161"
   },
   "outputs": [
    {
     "name": "stdout",
     "output_type": "stream",
     "text": [
      "tensor([[0., 0., 0., 0., 0., 0., 0., 0., 0., 0., 0., 0., 0., 1., 0., 0., 0., 0.,\n",
      "         0., 0., 0., 0., 0., 0., 0., 0.],\n",
      "        [0., 0., 0., 0., 0., 0., 0., 0., 0., 0., 0., 0., 0., 0., 0., 0., 0., 1.,\n",
      "         0., 0., 0., 0., 0., 0., 0., 0.],\n",
      "        [0., 0., 0., 0., 0., 0., 0., 0., 0., 0., 0., 0., 0., 0., 0., 0., 0., 0.,\n",
      "         0., 1., 0., 0., 0., 0., 0., 0.],\n",
      "        [0., 0., 0., 0., 0., 0., 0., 0., 0., 0., 0., 0., 0., 0., 0., 0., 0., 0.,\n",
      "         1., 0., 0., 0., 0., 0., 0., 0.],\n",
      "        [0., 0., 1., 0., 0., 0., 0., 0., 0., 0., 0., 0., 0., 0., 0., 0., 0., 0.,\n",
      "         0., 0., 0., 0., 0., 0., 0., 0.],\n",
      "        [0., 0., 0., 0., 0., 0., 1., 0., 0., 0., 0., 0., 0., 0., 0., 0., 0., 0.,\n",
      "         0., 0., 0., 0., 0., 0., 0., 0.],\n",
      "        [0., 0., 0., 0., 0., 0., 0., 0., 0., 0., 0., 0., 0., 0., 0., 0., 0., 0.,\n",
      "         0., 0., 1., 0., 0., 0., 0., 0.],\n",
      "        [0., 0., 0., 0., 0., 0., 0., 0., 0., 0., 0., 0., 0., 0., 0., 0., 0., 0.,\n",
      "         0., 0., 0., 1., 0., 0., 0., 0.],\n",
      "        [0., 0., 0., 0., 0., 0., 0., 1., 0., 0., 0., 0., 0., 0., 0., 0., 0., 0.,\n",
      "         0., 0., 0., 0., 0., 0., 0., 0.],\n",
      "        [0., 0., 0., 0., 0., 0., 0., 1., 0., 0., 0., 0., 0., 0., 0., 0., 0., 0.,\n",
      "         0., 0., 0., 0., 0., 0., 0., 0.],\n",
      "        [0., 0., 0., 0., 0., 0., 0., 0., 0., 0., 0., 0., 0., 0., 1., 0., 0., 0.,\n",
      "         0., 0., 0., 0., 0., 0., 0., 0.],\n",
      "        [0., 0., 0., 0., 0., 0., 1., 0., 0., 0., 0., 0., 0., 0., 0., 0., 0., 0.,\n",
      "         0., 0., 0., 0., 0., 0., 0., 0.]])\n"
     ]
    }
   ],
   "source": [
    "##9.원핫인코딩 결과 샘플 확인하기\n",
    "print(X[0])"
   ]
  },
  {
   "cell_type": "code",
   "execution_count": 19,
   "metadata": {
    "colab": {
     "base_uri": "https://localhost:8080/"
    },
    "id": "6pWDiH1SmYT_",
    "outputId": "744a60f6-c22b-47e1-8ff5-dee57ac8e706"
   },
   "outputs": [
    {
     "name": "stdout",
     "output_type": "stream",
     "text": [
      "tensor([17, 19, 18,  2,  6, 20, 21,  7,  7, 14,  6, 21])\n"
     ]
    }
   ],
   "source": [
    "##10. 레이블 데이터 샘플 확인하기\n",
    "print(Y[0])"
   ]
  },
  {
   "cell_type": "code",
   "execution_count": 25,
   "metadata": {
    "id": "-Ww22xu8mfUc"
   },
   "outputs": [],
   "source": [
    "##11. RNN 모델 구현\n",
    "\n",
    "##문제(6) : 기본 pytorch 인자 넣기 연습 + forward 채우기\n",
    "### 조건 : rnn layer 2개 쌓기 + 마지막은 fc layer\n",
    "### batch_fisrt 설정 필요할까? (유튜브 강의 참고)\n",
    "\n",
    "class Net(torch.nn.Module):\n",
    "    def __init__(self, input_dim, hidden_dim, layers):\n",
    "        super(Net, self).__init__()\n",
    "        self.rnn = torch.nn.RNN(input_dim, hidden_dim, num_layers = layers, batch_first = True)\n",
    "        self.fc = torch.nn.Linear(hidden_dim, hidden_dim, bias = True)\n",
    "  \n",
    "    def forward(self, x):\n",
    "        x, state = self.rnn(x)\n",
    "        x = self.fc(x)\n",
    "        return x"
   ]
  },
  {
   "cell_type": "code",
   "execution_count": 26,
   "metadata": {
    "id": "No2GRvTpnLBl"
   },
   "outputs": [],
   "source": [
    "net = Net(vocab_size, hidden_size, 2)"
   ]
  },
  {
   "cell_type": "code",
   "execution_count": 27,
   "metadata": {
    "id": "9-zuJLeUnQLB"
   },
   "outputs": [],
   "source": [
    "##12. loss function\n",
    "criterion = torch.nn.CrossEntropyLoss()\n",
    "\n",
    "##13. optimizer\n",
    "optimizer = optim.Adam(net.parameters(), learning_rate)"
   ]
  },
  {
   "cell_type": "code",
   "execution_count": 28,
   "metadata": {
    "colab": {
     "base_uri": "https://localhost:8080/"
    },
    "id": "z-RxRaiHnh9U",
    "outputId": "91348b4b-28bb-469b-85a0-8b9cc85e0454"
   },
   "outputs": [
    {
     "name": "stdout",
     "output_type": "stream",
     "text": [
      "torch.Size([186, 12, 26])\n"
     ]
    }
   ],
   "source": [
    "##14. 출력 크기 점검\n",
    "outputs = net(X)\n",
    "print(outputs.shape)"
   ]
  },
  {
   "cell_type": "code",
   "execution_count": 30,
   "metadata": {
    "colab": {
     "base_uri": "https://localhost:8080/"
    },
    "id": "uxxrxCd2nwoo",
    "outputId": "ac865379-a166-45d5-c8ae-18a257116dd3"
   },
   "outputs": [
    {
     "name": "stdout",
     "output_type": "stream",
     "text": [
      "..rfffrfffrfpfiiprpfiipffrprfi.pfrrppfrfpffpfpuipfuifufrfipppfruuprffffffrfffrfpfi.frrpupfiipprfiifrfrfprfirpfuiffu.pfrfrrrrfrfrffrf.pfruuprffffffrfffrfpfiiprpfiipprpfprffrfpprfppfffrrbrrfrrrpufrfr\n",
      ".rrrrrrrrrrrrrrrrrrrrrrrrrsrsrsrrrrrrrrrrrrrrrrrrrrrrrrrrrrrrrrrrrrrrrrrrrrrrrrrrrrrrrrrrrrrrrrrrrrrrrrrrrrrrrrrsrsrrrrrrrrrrrrrrrrrrrrrrrrrrrrrrrrrrrrrrrrrrrrrrrrrrrrrrrrrrrrrrrrrrrrrrrrrrrrrrrrrr\n",
      "rrrrrrrrrrrrrrrrrrrrrrrrrrrrrrrrrrrrrrrrrrrrrrrrrrrrrrrrrrrrrrrrrrrrrrrrrrrrrrrrrrrrrrrrrrrrrrrrrrrrrrrrrrrrrrrrrrrrrrrrrrrrrrrrrrrrrrrrrrrrrrrrrrrrrrrrrrrrrrrrrrrrrrrrrrrrrrrrrrrrrrrrrrrrrrrrrrrrr\n",
      "rrr rrrrr  rrr rrr r rr rr rr  r rrrr rrrrrr   rrrrrrrr rrrrrrrrr r rr rrrrr  rrr  rrrrr r rrrrr   rrrrrr rr r rr  r rrr rrrr rrrrrrrrrrrr r rr rrrrr  rrr rrr r rrrr  rrrr r rrrr  rrrr rrrrrrrrr rr\n",
      "r                                                                                                                                                                                                    \n",
      "                                                                                                                                                                                                     \n",
      "                                                                                                                                                                                                     \n",
      "                                                                                                                                                                                                     \n",
      "                                                                                                                                                                                                     \n",
      "                                                                                                                                                                                                     \n",
      "                                                                                                                                                                                                     \n",
      "                                                                                                                                                                                                     \n",
      "                                                                                                                                                                                                     \n",
      "                 e                                 e e                                 e                                   e                                 e                                  e    \n",
      "                 e e              t                e e     e    e                    t e e   e                           t e        e    e                   e e   e                            e    \n",
      "             e t e e t   t t      t   t   t    t   e e     e    e t             e    e e e t e     t           t   e e e t e        e    e t             e t e e t e                          t e    \n",
      "     t     t e t e e t e t t      t   t   t    t e e e   t e    e t     t     t e    e e e t e e   t           t   e e e t e        e    e t     t     t e t e e t e                  t       t e    \n",
      "     t     t e t e e t e t t      t   t   t    t e e e   t e  t e t e   t     t e    e e e t e e   t       t   t   e e e t e      t e tt e t e   t     t e t e e t e        t   t     t       t e    \n",
      "     t     t e t e e t e t t      t   t   t    t e e e   t e  t e t     t     t e  t e e e t e e   t  t    te  t   e e t t e  t   t e  t e t     t     t e t e e t e        t   t     t       t e    \n",
      "     t     t e t e e t e t t      t   t   t    t e e e   the  the t     t     t e  t e e e t e e   t  t    te  t   e e t the  t   t e  t e t     t     t e t e e t e        t   t     t  t    the    \n",
      "     ta    t e the e t e t t      t   t   t    t e ehe   the  the t     ta    t e  t ehe e the e   t  t    te  th  e e t the  t   the  the t     ta    t e the e the  a     t   t     ta t    the    \n",
      "     te    t e the e th  t t      t   t a e    the ehe   the  the ta    te    t e  t ehe e the e   t  t    te  th  e e t the  t   the  the ta    te    t e the e the  a     th  t     ta ta   the    \n",
      " a   te    t e the e th  t t      th  t e e    the ehe   the  the ta    te    t e  t ehe e the e   t  t    te  th  e e a the  ta  the  the ta    te    t e the e the ea     te  t     ta ta   the    \n",
      " e   te    t e the e th  e t      th    e e    the ehe   the  the ta    te    t e  t ehe e the e   t  t    te  tha e e a the  ta   he  the ta    te    t e the e the ee     te  t     te ta   the    \n",
      " el  te    t e the e th  e ta     t     e e    the ehe   the  the tatl  te l  t e  t ehe e the e   t  te   te  tha e eae the  ta   he  the tatl  te l  t e the e the ee     te  e     te ta   the    \n",
      " el  te l  t e the e th  e ta     t       e    the ehe   the  the tatl  we l  t e  t the e the e   t  te h te  the e eae the  tal the  the tatl  we l  t e the e the ee     te  ea    te ta   the    \n",
      " els we l  t e the e th  e th t   t   t   e    the ehes  the  the tatls we l  t e  e the e the e   t  te h te  the e eae thes tal thes the tatls we l  t e the e the ee     te  ea    te tal  the    \n",
      " els we l  t e the e th  esth t   e   t   e    the ehes  whe hthe tatls well  t e  e the e thete   t  te h te hthe e ean thes tal theshthe tatls well  t e the e thethe     te  eal   wa tal  then   \n",
      " els wall  t e the e th  esth s   e   th  e s  the ehes  whe hthe taels well  t e  e the e thete   t  te h tathtee e eal thes tal theshthe taels well  t e the e thethe     te  eal   wa tal  then   \n",
      " els wall  tre the e th  asth s   e   th  eas  the ehes  wheshthe taels wall  tre  e the e theth   t  ta   ththtae e eal thes tal theshthe taels wall  tre the e thethe   s te  ealls wa tall then   \n",
      " els wall  are the e to  asthes   e   th  eas  the ehes  wheshthe taels wall  are se the e theth   ts ta   ththtaehe eal thes tal theshthe taels wall  are the e thethe  as ta  aalls wa tall then   \n",
      " els walls are the e to  asthes   ar  th  aas  the ahes  whes the taels walls are se the e theth   ts ta   tht taehe eal then tal thes the taels walls are the e thethe  as ta  aalls wa tals then   \n",
      " els walls are the e to  asiaes   ar  th  aas  the ahes  whes the toels walls are se the e theth   ts ta   tht tathe eal then tal thes the toels walls are the e thethe  as ta  aalls wa tals then   \n",
      " els walls are the e to  asiaes   ar  th  aas  the ahes  whes the toelk walls are se the e the h   ts ta   ths tathe ean then tal thes the toelk walls are the e thethe  as ta  aalls ta tals then   \n",
      " elk walls are the e to  asiaes   ar  th  aas  the ahen  whes the toelk walls are se the e the e   ts ta   ths tathe ean then tal thes the toelk walls are the e the he  as ta  aalls ta tals then   \n",
      " eck walls are the e to  asiaes   ar  th  aas  the ahen  whes the toeck walls are se the e th  e   ts aa   tas tathe ean then tal thes the toeck walls are the e th  he  as tat aalls wa tall then   \n",
      " eck walls are the e to  asiaes   ar  th  ars  the ahen  whes the toick walls are st the e th  e   ts aa o tas tathe ean then  al thet the toick walls are the e th the  as tat arlls wa tall then   \n",
      " eck walls are the e to  asiaes   ar  th  ars  the ahen  whes the toick walls are st the e th te   ts aa o tas tathe ean then  al thet the toick walls are the e th thot as tot arlls wa tall then   \n",
      " eck walls are the e to  astaes   arl to  ars hthe ahen  whet the toick walls are st the e th te   us aa o tas tathe ean then  al thet the boick walls are the e th thot as tot arlls wa tall then   \n",
      " eck walls are there to  astaes   arl to  aas hthe ahen  whet the boick walls are  t the e th te   us ou o tas tathe ean then  al thet the boick walls are there th thot as tot arlls wa tall then   \n",
      " eck walls are there to  artaes   arl tor aas hthe then  whes the boick walls are  t there th te   us ou o tas tathe ean then  al thet the boick walls are there th thot as tot aalls wa tall then   \n",
      " eck walls are there to  ariaes   arl tor aas hthe then  whes the boick walls are  t there th te   us ou h tat tathe ean then wal thet the boick walls are there th thot as hot aalls wa tall then   \n",
      " eck walls are there to  ariaes   arl tor aas hthe then  whet the boick walls are  t there th thr  us ou h tat tatherean then wal thet the boick walls are there th thot as hot aalls wa tall then   \n",
      " eck walls are there to  ariaes   arl tor aasththt then  whet the boick walls are  t there th thr  us hush tat tatherean then tal thet the boick walls are there th thot as hot aalls wa tall then  t\n",
      " eck walls are there to  ariaesh  arl tor aasththt then  whet the boick walls are st there th terp us hush tat tatherean then tal thet the boick walls are there th thot as hot balls wa tall then  t\n",
      " eck walls are there to  artaeso  ard tor ausththt then  whet the boick walls are st there th terp us hush tat tatherean then tal thet the boick walls are there th thow bs how balls wa tall then  t\n",
      " ick walls are there to  artaaso  ard tor austhtot then  thet the boick walls are st there th terp us hush tat tatherean thes tal thet the boick walls are there th thow bs how balls wa tall then  t\n",
      " ick walls are there to  artaaso  ard tor busthtot then  thet the boick walls are st there th terp us hush tat tatherein thes tal thet the boick walls are there th toow bs  ow balls wa tatl then  t\n",
      " ick walls are there to  artaaso  ard tor bust tot thenk thet the buick walls are st there th terp us hush tat tatheretn thes tal thet the boick walls are there th toow bs  ow ba ls wa tanl thenk t\n",
      " ick walls are there to  artaaso  ard tou bust tot thenk thet the brick walls are st there th serp us hush bat watheretn thes tal thet the brick walls are there th soow bs how ba ls wa tanl thenk t\n",
      " ick walls are there to  artaaso  ard you bust tot thenk thet the brick walls are st there th serp us hush bat wat eretn thes tal thet the brick walls are there th soow us how ba ls wa tanl thenk t\n",
      "rick walls are there to  artaaso  and you bust tot thenk thet the brick walls are 't there th serp us hush bat ratheretn thes wal thet the brick walls are there th soow us how ba ls wa tanl thenk t\n",
      "rick walls are there to  artaaso  and you bust tot thenk thet the brick walls are 't there th serp us hush bat ratheretn this wal thet the brick walls are there th show us how ba ls wa tant thenk t\n",
      "rick walls are there to  arueason and you bust tot thenk thet the brick walls are 't there th serp us hush bat ratheretn this way thet the brick walls are there th show us how badly wa want thenk t\n",
      "rick walls are there to  arueason and you bust tot think thet the brick walls are 't there th serp us hus, bat ratheretn this way thet the brick walls are there th show us how badly wa want thenk t\n",
      "rick walls are there to  a ueason and you bust tot think thet the brick walls are 't there th serp us hus, bat rather tn this way thet the brick walls are there th show us how badly wa want thenk t\n",
      "rick walls are there to  a ueason and you bust tot think thet the brick walls are 't there th serp us hus, bat rather in this way thet the brick walls are there th show us how badly wa want thenk t\n",
      "rick walls are there to  a ueason and you must tot think thet the brick walls are 't there th se p us hus, bat rather in this way thet the brick walls are there th show us how badly we want thenk t\n",
      "rick walls are there tor a ueason and you must tot think thet the brick walls are 't there th se p us hut, bat rather in this way thet the brick walls are there to show us how badly we want thenk t\n",
      "rick walls are there tor a ueason and you must tot think thet the brick walls are 't there th se p us hut, bat rather in this way thet the brick walls are there to show us how badly we want thenk t\n",
      "rick walls are there tor a ueason and you must tot think thet the brick walls are 't there to se p us hut, bat rather in this way thet the brick walls are there to show us how badly we want thenk t\n",
      "rick walls are there tor a ueason and you must tot think thet the brick walls are 't there to se p us hut, bat rather in this way thet the brick walls are there to show us how badly we want thenk t\n",
      "rick walls are there tor a ueason and you must tot think that the brick walls are 't there to seep us hut, bat rather in this way that the brick walls are there to show us how badly we want thenk u\n",
      "rick walls are there tor a ueason and you must tot think that the brick walls are 't there to seep us hut, but rather in this way that the brick walls are there to show us how badly we want thenktu\n",
      "rick walls are there tor a ueason and you must tot think that the brick walls are 't there to seep us hut, but rather in this way that the brick walls are there to show us how badly we want thenktu\n",
      "rick walls are there tor a ueason and you must tot think that the brick walls are 't there to seep us hut, but rather in this way that the brick walls are there to show us how badly we want thenktu\n",
      "rick walls are there tor a reason and you must tot think that the brick walls are 't there to seep us hut, but rather in this way that the brick walls are there to show us how badly we want thenktu\n",
      "rick walls are there tor a reason and you must tot think that the brick walls are 't there to seep us hut, but rather in this way that the brick walls are there to show us how badly we want thinktu\n",
      "rick walls are there tor a reason and you must tot think that the brick walls are 't there to seep us out, but rather in this way that the brick walls are there to show us how badly we want thinkt,\n",
      "rick walls are there tor a reason and you must not think that the brick walls are 't there to seep us out, but rather in this way that the brick walls are there to show us how badly we want thinkt,\n",
      "rick walls are there tor a reason and you must not think that the brick walls are 't there to seep us out, but rather in this way that the brick walls are there to show us how badly we want thinkt,\n",
      "rick walls are there tor a reason and you must not think that the brick walls are 't there to seep us out, but rather in this way that the brick walls are there to show us how badly we want think ,\n",
      "rick walls are there tor a reason and you must not think that the brick walls are 't there to seep us out, but rather in this way that the brick walls are there to show us how badly we want think ,\n",
      "rick walls are there tor a reason and you must not think that the brick walls are 't there to seep us out, but rather in this way that the brick walls are there to show us how badly we want think ,\n",
      "rick walls are there tor a reason and you must not think that the brick walls are 't there to seep us out, but rather in this way that the brick walls are there to show us how badly we want thinks,\n",
      "rick walls are there tor a reason and you must not think that the brick walls are 't there to seep us out, but rather in this way that the brick walls are there to show us how badly we want thinks,\n",
      "rick walls are there tor a reason and you must not think that the brick walls are 't there to seep us out, but rather in this way that the brick walls are there to show us how badly we want thinks,\n",
      "rick walls are there tor a reason and you must not think that the brick walls are 't there to seep us out, but rather in this way that the brick walls are there to show us how badly we want thinksb\n",
      "rick walls are there tor a reason and you must not think that the brick walls are 't there to seep us out, but rather in this way that the brick walls are there to show us how badly we want thinksb\n",
      "rick walls are there tor a reason and you must not think that the brick walls are 't there to seep us out, but rather in this way that the brick walls are there to show us how badly we want thinksb\n",
      "rick walls are there tor a reason and you must not think that the brick walls are 't there to seep us out, but rather in this way that the brick walls are there to show us how badly we want thinksb\n",
      "rick walls are there tor a reason and you must not think that the brick walls are 't there to seep us out, but rather in this way that the brick walls are there to show us how badly we want thinksb\n",
      "rick walls are there tor a reason and you must not think that the brick walls are 't there to seep us out, but rather in this way that the brick walls are there to show us how badly we want thinksb\n",
      "rick walls are there tor a reason and you must not think that the brick walls are 't there to seep us out, but rather in this way that the brick walls are there to show us how badly we want thinksb\n",
      "rick walls are there tor a reason and you must not think that the brick walls are 't there to seep us out, but rather in this way that the brick walls are there to show us how badly we want thinksb\n",
      "rick walls are there tor a reason and you must not think that the brick walls are 't there to seep us out, but rather in this way that the brick walls are there to show us how badly we want thinksb\n",
      "rick walls are there tor a reason and you must not think that the brick walls are 't there to seep us out, but rather in this way that the brick walls are there to show us how badly we want thinksb\n",
      "rick walls are there tor a reason and you must not think that the brick walls are 't there to seep us out, but rather in this way that the brick walls are there to show us how badly we want thinksb\n",
      "rick walls are there tor a reason and you must not think that the brick walls are 't there to seep us out, but rather in this way that the brick walls are there to show us how badly we want thinksb\n",
      "rick walls are there tor a reason and you must not think that the brick walls are 't there to seep us out, but rather in this way that the brick walls are there to show us how badly we want thinks'\n",
      "rick walls are there tor a reason and you must not think that the brick walls are 't there to seep us out, but rather in this way that the brick walls are there to show us how badly we want thinks'\n",
      "rick walls are there tor a reason and you must not think that the brick walls are 't there to seep us out, but rather in this way that the brick walls are there to show us how badly we want thinks'\n",
      "rick walls are there tor a reason and you must not think that the brick walls are 't there to seep us out, but rather in this way that the brick walls are there to show us how badly we want thinks'\n",
      "rick walls are there tor a reason and you must not think that the brick walls are 't there to seep us out, but rather in this way that the brick walls are there to show us how badly we want thinks'\n",
      "rick walls are there tor a reason and you must not think that the brick walls are 't there to seep us out, but rather in this way that the brick walls are there to show us how badly we want thinks'\n",
      "rick walls are there tor a reason and you must not think that the brick walls are 't there to seep us out, but rather in this way that the brick walls are there to show us how badly we want thinks'\n",
      "rick walls are there tor a reason and you must not think that the brick walls are 't there to seep us out, but rather in this way that the brick walls are there to show us how badly we want thinks'\n",
      "rick walls are there tor a reason and you must not think that the brick walls are 't there to seep us out, but rather in this way that the brick walls are there to show us how badly we want thinks'\n",
      "rick walls are there tor a reason and you must not think that the brick walls are 't there to seep us out, but rather in this way that the brick walls are there to show us how badly we want thinks'\n",
      "rick walls are there tor a reason and you must not think that the brick walls are 't there to seep us out, but rather in this way that the brick walls are there to show us how badly we want thinks'\n"
     ]
    }
   ],
   "source": [
    "##15. Training 시작\n",
    "\n",
    "for i in range(100):\n",
    "    optimizer.zero_grad()\n",
    "    outputs = net(X)\n",
    "    ##문제(7) : outputs, Y 형태 그대로 넣으면 안되죠. view 함수를 이용해 loss값을 계산해봅시다.\n",
    "    loss = criterion(outputs.view(-1, vocab_size), Y.view(-1))\n",
    "    loss.backward()\n",
    "    optimizer.step()\n",
    "\n",
    "    #16. 예측결과 확인\n",
    "    results = outputs.argmax(dim=2)\n",
    "    predict_str = \"\"\n",
    "    for j, result in enumerate(results):\n",
    "        if j == 0: # 처음에는 예측 결과를 전부 가져오기\n",
    "            predict_str += ''.join([world_set[t] for t in result])\n",
    "        else: # 그 다음에는 마지막 글자만 반복 추가\n",
    "            predict_str += world_set[result[-1]]\n",
    "\n",
    "    print(predict_str)"
   ]
  },
  {
   "cell_type": "code",
   "execution_count": 31,
   "metadata": {
    "colab": {
     "base_uri": "https://localhost:8080/",
     "height": 54
    },
    "id": "8qUkbiw2t0Il",
    "outputId": "60267f5c-c8de-4770-c509-244703d49bc0"
   },
   "outputs": [
    {
     "data": {
      "text/plain": [
       "\"rick walls are there tor a reason and you must not think that the brick walls are 't there to seep us out, but rather in this way that the brick walls are there to show us how badly we want thinks'\""
      ]
     },
     "execution_count": 31,
     "metadata": {},
     "output_type": "execute_result"
    }
   ],
   "source": [
    "predict_str"
   ]
  },
  {
   "cell_type": "markdown",
   "metadata": {
    "id": "PkIzDTdyvTHz"
   },
   "source": [
    "결과가 어떤가요?? 마지막 에폭의 문장이 그럴싸한가요?"
   ]
  },
  {
   "cell_type": "markdown",
   "metadata": {
    "id": "kN1zL8Dpvane"
   },
   "source": [
    "## Task2\n",
    "\n",
    "위 sentence는 제가 임의로 생성한 문장들입니다.\n",
    "\n",
    "마음에 드시는 문구 가져오셔서 문장이 어떻게 생성되는지 확인해보세요! \n",
    "\n",
    "영어가 아닌 한국어로 시도해보는 것도 좋겠죠? \n",
    "\n",
    "수정이 많이 필요(토큰화 등) 할 수 있으나 한번 시도해보시는 것 권장드립니다 :)\n",
    "\n",
    "위 베이스라인은 어디든 수정하셔도 좋고 조금 더 자연스러운 문장이 나올 수 있게 다양한 시도를 해보세요!\n",
    "\n",
    "조건 : 문장 3개 이상, 연결성이 있는 문장을 \" \" 으로 구분하여 ( )에 넣기"
   ]
  },
  {
   "cell_type": "raw",
   "metadata": {
    "id": "IKp-lKrjvXR9"
   },
   "source": [
    "문장\n",
    "\"Child undernutrition is a major public health problem.\"\n",
    "\"One third of all undernourished children globally reside in Sub-Saharan Africa (SSA).\"\n",
    "\"The factors that predispose a child to undernutrition are multisectoral.\" \n",
    "\"To yield a sustainable improvement in child nutrition in SSA, a holistic multi-strategy community-based approach is needed.\" "
   ]
  },
  {
   "cell_type": "code",
   "execution_count": 160,
   "metadata": {},
   "outputs": [],
   "source": [
    "#1. 생성할 문장 데이터\n",
    "\n",
    "sentence = (\"Child undernutrition is a major public health problem.\"\n",
    "\"One third of all undernourished children globally reside in Sub-Saharan Africa (SSA).\"\n",
    "\"The factors that predispose a child to undernutrition are multisectoral.\" \n",
    "\"To yield a sustainable improvement in child nutrition in SSA, a holistic multi-strategy community-based approach is needed.\")"
   ]
  },
  {
   "cell_type": "code",
   "execution_count": 161,
   "metadata": {},
   "outputs": [
    {
     "name": "stdout",
     "output_type": "stream",
     "text": [
      "[',', 'C', 'm', 'h', 'e', 't', ' ', 'l', 'u', 'y', 'T', '-', 'n', 'd', 'A', '(', 'o', 'v', 's', 'g', 'r', 'f', ')', 'c', 'j', 'i', 'O', 'a', 'p', 'b', '.', 'S'] {',': 0, 'C': 1, 'm': 2, 'h': 3, 'e': 4, 't': 5, ' ': 6, 'l': 7, 'u': 8, 'y': 9, 'T': 10, '-': 11, 'n': 12, 'd': 13, 'A': 14, '(': 15, 'o': 16, 'v': 17, 's': 18, 'g': 19, 'r': 20, 'f': 21, ')': 22, 'c': 23, 'j': 24, 'i': 25, 'O': 26, 'a': 27, 'p': 28, 'b': 29, '.': 30, 'S': 31}\n"
     ]
    }
   ],
   "source": [
    "#2. 문자 집합 만들기\n",
    "world_set = list(set(sentence))\n",
    "\n",
    "## 문제(1): 각 문자에 정수 인코딩 (공백도 하나의 원소로 포함)\n",
    "vocab = {c: i for i,c in enumerate(world_set)}\n",
    "print(world_set,vocab)"
   ]
  },
  {
   "cell_type": "code",
   "execution_count": 162,
   "metadata": {},
   "outputs": [
    {
     "name": "stdout",
     "output_type": "stream",
     "text": [
      "문자 집합 크기 : 32\n"
     ]
    }
   ],
   "source": [
    "\n",
    "#3. 문자 집합 크기 확인\n",
    "\n",
    "vocab_size = len(vocab)\n",
    "print('문자 집합 크기 : {}'.format(vocab_size))"
   ]
  },
  {
   "cell_type": "code",
   "execution_count": 163,
   "metadata": {},
   "outputs": [],
   "source": [
    "\n",
    "#4. 하이퍼 파라미터 설정(자유롭게 수정해보세요!)\n",
    "\n",
    "hidden_size = vocab_size # 같아야 하는 것 확인!\n",
    "sequence_length = 15  # 너무 길거나 너무 짧게 잡으면 안됩니다!\n",
    "learning_rate = 0.01"
   ]
  },
  {
   "cell_type": "code",
   "execution_count": 164,
   "metadata": {},
   "outputs": [
    {
     "name": "stdout",
     "output_type": "stream",
     "text": [
      "0 Child undernutr -> hild undernutri\n",
      "1 hild undernutri -> ild undernutrit\n",
      "2 ild undernutrit -> ld undernutriti\n",
      "3 ld undernutriti -> d undernutritio\n",
      "4 d undernutritio ->  undernutrition\n",
      "5  undernutrition -> undernutrition \n",
      "6 undernutrition  -> ndernutrition i\n",
      "7 ndernutrition i -> dernutrition is\n",
      "8 dernutrition is -> ernutrition is \n",
      "9 ernutrition is  -> rnutrition is a\n",
      "10 rnutrition is a -> nutrition is a \n",
      "11 nutrition is a  -> utrition is a m\n",
      "12 utrition is a m -> trition is a ma\n",
      "13 trition is a ma -> rition is a maj\n",
      "14 rition is a maj -> ition is a majo\n",
      "15 ition is a majo -> tion is a major\n",
      "16 tion is a major -> ion is a major \n",
      "17 ion is a major  -> on is a major p\n",
      "18 on is a major p -> n is a major pu\n",
      "19 n is a major pu ->  is a major pub\n",
      "20  is a major pub -> is a major publ\n",
      "21 is a major publ -> s a major publi\n",
      "22 s a major publi ->  a major public\n",
      "23  a major public -> a major public \n",
      "24 a major public  ->  major public h\n",
      "25  major public h -> major public he\n",
      "26 major public he -> ajor public hea\n",
      "27 ajor public hea -> jor public heal\n",
      "28 jor public heal -> or public healt\n",
      "29 or public healt -> r public health\n",
      "30 r public health ->  public health \n",
      "31  public health  -> public health p\n",
      "32 public health p -> ublic health pr\n",
      "33 ublic health pr -> blic health pro\n",
      "34 blic health pro -> lic health prob\n",
      "35 lic health prob -> ic health probl\n",
      "36 ic health probl -> c health proble\n",
      "37 c health proble ->  health problem\n",
      "38  health problem -> health problem.\n",
      "39 health problem. -> ealth problem.O\n",
      "40 ealth problem.O -> alth problem.On\n",
      "41 alth problem.On -> lth problem.One\n",
      "42 lth problem.One -> th problem.One \n",
      "43 th problem.One  -> h problem.One t\n",
      "44 h problem.One t ->  problem.One th\n",
      "45  problem.One th -> problem.One thi\n",
      "46 problem.One thi -> roblem.One thir\n",
      "47 roblem.One thir -> oblem.One third\n",
      "48 oblem.One third -> blem.One third \n",
      "49 blem.One third  -> lem.One third o\n",
      "50 lem.One third o -> em.One third of\n",
      "51 em.One third of -> m.One third of \n",
      "52 m.One third of  -> .One third of a\n",
      "53 .One third of a -> One third of al\n",
      "54 One third of al -> ne third of all\n",
      "55 ne third of all -> e third of all \n",
      "56 e third of all  ->  third of all u\n",
      "57  third of all u -> third of all un\n",
      "58 third of all un -> hird of all und\n",
      "59 hird of all und -> ird of all unde\n",
      "60 ird of all unde -> rd of all under\n",
      "61 rd of all under -> d of all undern\n",
      "62 d of all undern ->  of all underno\n",
      "63  of all underno -> of all undernou\n",
      "64 of all undernou -> f all undernour\n",
      "65 f all undernour ->  all undernouri\n",
      "66  all undernouri -> all undernouris\n",
      "67 all undernouris -> ll undernourish\n",
      "68 ll undernourish -> l undernourishe\n",
      "69 l undernourishe ->  undernourished\n",
      "70  undernourished -> undernourished \n",
      "71 undernourished  -> ndernourished c\n",
      "72 ndernourished c -> dernourished ch\n",
      "73 dernourished ch -> ernourished chi\n",
      "74 ernourished chi -> rnourished chil\n",
      "75 rnourished chil -> nourished child\n",
      "76 nourished child -> ourished childr\n",
      "77 ourished childr -> urished childre\n",
      "78 urished childre -> rished children\n",
      "79 rished children -> ished children \n",
      "80 ished children  -> shed children g\n",
      "81 shed children g -> hed children gl\n",
      "82 hed children gl -> ed children glo\n",
      "83 ed children glo -> d children glob\n",
      "84 d children glob ->  children globa\n",
      "85  children globa -> children global\n",
      "86 children global -> hildren globall\n",
      "87 hildren globall -> ildren globally\n",
      "88 ildren globally -> ldren globally \n",
      "89 ldren globally  -> dren globally r\n",
      "90 dren globally r -> ren globally re\n",
      "91 ren globally re -> en globally res\n",
      "92 en globally res -> n globally resi\n",
      "93 n globally resi ->  globally resid\n",
      "94  globally resid -> globally reside\n",
      "95 globally reside -> lobally reside \n",
      "96 lobally reside  -> obally reside i\n",
      "97 obally reside i -> bally reside in\n",
      "98 bally reside in -> ally reside in \n",
      "99 ally reside in  -> lly reside in S\n",
      "100 lly reside in S -> ly reside in Su\n",
      "101 ly reside in Su -> y reside in Sub\n",
      "102 y reside in Sub ->  reside in Sub-\n",
      "103  reside in Sub- -> reside in Sub-S\n",
      "104 reside in Sub-S -> eside in Sub-Sa\n",
      "105 eside in Sub-Sa -> side in Sub-Sah\n",
      "106 side in Sub-Sah -> ide in Sub-Saha\n",
      "107 ide in Sub-Saha -> de in Sub-Sahar\n",
      "108 de in Sub-Sahar -> e in Sub-Sahara\n",
      "109 e in Sub-Sahara ->  in Sub-Saharan\n",
      "110  in Sub-Saharan -> in Sub-Saharan \n",
      "111 in Sub-Saharan  -> n Sub-Saharan A\n",
      "112 n Sub-Saharan A ->  Sub-Saharan Af\n",
      "113  Sub-Saharan Af -> Sub-Saharan Afr\n",
      "114 Sub-Saharan Afr -> ub-Saharan Afri\n",
      "115 ub-Saharan Afri -> b-Saharan Afric\n",
      "116 b-Saharan Afric -> -Saharan Africa\n",
      "117 -Saharan Africa -> Saharan Africa \n",
      "118 Saharan Africa  -> aharan Africa (\n",
      "119 aharan Africa ( -> haran Africa (S\n",
      "120 haran Africa (S -> aran Africa (SS\n",
      "121 aran Africa (SS -> ran Africa (SSA\n",
      "122 ran Africa (SSA -> an Africa (SSA)\n",
      "123 an Africa (SSA) -> n Africa (SSA).\n",
      "124 n Africa (SSA). ->  Africa (SSA).T\n",
      "125  Africa (SSA).T -> Africa (SSA).Th\n",
      "126 Africa (SSA).Th -> frica (SSA).The\n",
      "127 frica (SSA).The -> rica (SSA).The \n",
      "128 rica (SSA).The  -> ica (SSA).The f\n",
      "129 ica (SSA).The f -> ca (SSA).The fa\n",
      "130 ca (SSA).The fa -> a (SSA).The fac\n",
      "131 a (SSA).The fac ->  (SSA).The fact\n",
      "132  (SSA).The fact -> (SSA).The facto\n",
      "133 (SSA).The facto -> SSA).The factor\n",
      "134 SSA).The factor -> SA).The factors\n",
      "135 SA).The factors -> A).The factors \n",
      "136 A).The factors  -> ).The factors t\n",
      "137 ).The factors t -> .The factors th\n",
      "138 .The factors th -> The factors tha\n",
      "139 The factors tha -> he factors that\n",
      "140 he factors that -> e factors that \n",
      "141 e factors that  ->  factors that p\n",
      "142  factors that p -> factors that pr\n",
      "143 factors that pr -> actors that pre\n",
      "144 actors that pre -> ctors that pred\n",
      "145 ctors that pred -> tors that predi\n",
      "146 tors that predi -> ors that predis\n",
      "147 ors that predis -> rs that predisp\n",
      "148 rs that predisp -> s that predispo\n",
      "149 s that predispo ->  that predispos\n",
      "150  that predispos -> that predispose\n",
      "151 that predispose -> hat predispose \n",
      "152 hat predispose  -> at predispose a\n",
      "153 at predispose a -> t predispose a \n",
      "154 t predispose a  ->  predispose a c\n",
      "155  predispose a c -> predispose a ch\n",
      "156 predispose a ch -> redispose a chi\n",
      "157 redispose a chi -> edispose a chil\n",
      "158 edispose a chil -> dispose a child\n",
      "159 dispose a child -> ispose a child \n",
      "160 ispose a child  -> spose a child t\n",
      "161 spose a child t -> pose a child to\n",
      "162 pose a child to -> ose a child to \n",
      "163 ose a child to  -> se a child to u\n",
      "164 se a child to u -> e a child to un\n",
      "165 e a child to un ->  a child to und\n",
      "166  a child to und -> a child to unde\n",
      "167 a child to unde ->  child to under\n",
      "168  child to under -> child to undern\n",
      "169 child to undern -> hild to undernu\n",
      "170 hild to undernu -> ild to undernut\n",
      "171 ild to undernut -> ld to undernutr\n",
      "172 ld to undernutr -> d to undernutri\n",
      "173 d to undernutri ->  to undernutrit\n",
      "174  to undernutrit -> to undernutriti\n",
      "175 to undernutriti -> o undernutritio\n",
      "176 o undernutritio ->  undernutrition\n",
      "177  undernutrition -> undernutrition \n",
      "178 undernutrition  -> ndernutrition a\n",
      "179 ndernutrition a -> dernutrition ar\n",
      "180 dernutrition ar -> ernutrition are\n",
      "181 ernutrition are -> rnutrition are \n",
      "182 rnutrition are  -> nutrition are m\n",
      "183 nutrition are m -> utrition are mu\n",
      "184 utrition are mu -> trition are mul\n",
      "185 trition are mul -> rition are mult\n",
      "186 rition are mult -> ition are multi\n",
      "187 ition are multi -> tion are multis\n",
      "188 tion are multis -> ion are multise\n",
      "189 ion are multise -> on are multisec\n",
      "190 on are multisec -> n are multisect\n",
      "191 n are multisect ->  are multisecto\n",
      "192  are multisecto -> are multisector\n",
      "193 are multisector -> re multisectora\n",
      "194 re multisectora -> e multisectoral\n",
      "195 e multisectoral ->  multisectoral.\n",
      "196  multisectoral. -> multisectoral.T\n",
      "197 multisectoral.T -> ultisectoral.To\n",
      "198 ultisectoral.To -> ltisectoral.To \n",
      "199 ltisectoral.To  -> tisectoral.To y\n",
      "200 tisectoral.To y -> isectoral.To yi\n",
      "201 isectoral.To yi -> sectoral.To yie\n",
      "202 sectoral.To yie -> ectoral.To yiel\n",
      "203 ectoral.To yiel -> ctoral.To yield\n",
      "204 ctoral.To yield -> toral.To yield \n",
      "205 toral.To yield  -> oral.To yield a\n",
      "206 oral.To yield a -> ral.To yield a \n",
      "207 ral.To yield a  -> al.To yield a s\n",
      "208 al.To yield a s -> l.To yield a su\n",
      "209 l.To yield a su -> .To yield a sus\n",
      "210 .To yield a sus -> To yield a sust\n",
      "211 To yield a sust -> o yield a susta\n",
      "212 o yield a susta ->  yield a sustai\n",
      "213  yield a sustai -> yield a sustain\n",
      "214 yield a sustain -> ield a sustaina\n",
      "215 ield a sustaina -> eld a sustainab\n",
      "216 eld a sustainab -> ld a sustainabl\n",
      "217 ld a sustainabl -> d a sustainable\n",
      "218 d a sustainable ->  a sustainable \n",
      "219  a sustainable  -> a sustainable i\n",
      "220 a sustainable i ->  sustainable im\n",
      "221  sustainable im -> sustainable imp\n",
      "222 sustainable imp -> ustainable impr\n",
      "223 ustainable impr -> stainable impro\n",
      "224 stainable impro -> tainable improv\n",
      "225 tainable improv -> ainable improve\n",
      "226 ainable improve -> inable improvem\n",
      "227 inable improvem -> nable improveme\n",
      "228 nable improveme -> able improvemen\n",
      "229 able improvemen -> ble improvement\n",
      "230 ble improvement -> le improvement \n",
      "231 le improvement  -> e improvement i\n",
      "232 e improvement i ->  improvement in\n",
      "233  improvement in -> improvement in \n",
      "234 improvement in  -> mprovement in c\n",
      "235 mprovement in c -> provement in ch\n",
      "236 provement in ch -> rovement in chi\n",
      "237 rovement in chi -> ovement in chil\n",
      "238 ovement in chil -> vement in child\n",
      "239 vement in child -> ement in child \n",
      "240 ement in child  -> ment in child n\n",
      "241 ment in child n -> ent in child nu\n",
      "242 ent in child nu -> nt in child nut\n",
      "243 nt in child nut -> t in child nutr\n",
      "244 t in child nutr ->  in child nutri\n",
      "245  in child nutri -> in child nutrit\n",
      "246 in child nutrit -> n child nutriti\n",
      "247 n child nutriti ->  child nutritio\n",
      "248  child nutritio -> child nutrition\n",
      "249 child nutrition -> hild nutrition \n",
      "250 hild nutrition  -> ild nutrition i\n",
      "251 ild nutrition i -> ld nutrition in\n",
      "252 ld nutrition in -> d nutrition in \n",
      "253 d nutrition in  ->  nutrition in S\n",
      "254  nutrition in S -> nutrition in SS\n",
      "255 nutrition in SS -> utrition in SSA\n",
      "256 utrition in SSA -> trition in SSA,\n",
      "257 trition in SSA, -> rition in SSA, \n",
      "258 rition in SSA,  -> ition in SSA, a\n",
      "259 ition in SSA, a -> tion in SSA, a \n",
      "260 tion in SSA, a  -> ion in SSA, a h\n",
      "261 ion in SSA, a h -> on in SSA, a ho\n",
      "262 on in SSA, a ho -> n in SSA, a hol\n",
      "263 n in SSA, a hol ->  in SSA, a holi\n",
      "264  in SSA, a holi -> in SSA, a holis\n",
      "265 in SSA, a holis -> n SSA, a holist\n",
      "266 n SSA, a holist ->  SSA, a holisti\n",
      "267  SSA, a holisti -> SSA, a holistic\n",
      "268 SSA, a holistic -> SA, a holistic \n",
      "269 SA, a holistic  -> A, a holistic m\n",
      "270 A, a holistic m -> , a holistic mu\n",
      "271 , a holistic mu ->  a holistic mul\n",
      "272  a holistic mul -> a holistic mult\n",
      "273 a holistic mult ->  holistic multi\n",
      "274  holistic multi -> holistic multi-\n",
      "275 holistic multi- -> olistic multi-s\n",
      "276 olistic multi-s -> listic multi-st\n",
      "277 listic multi-st -> istic multi-str\n",
      "278 istic multi-str -> stic multi-stra\n",
      "279 stic multi-stra -> tic multi-strat\n",
      "280 tic multi-strat -> ic multi-strate\n",
      "281 ic multi-strate -> c multi-strateg\n",
      "282 c multi-strateg ->  multi-strategy\n",
      "283  multi-strategy -> multi-strategy \n",
      "284 multi-strategy  -> ulti-strategy c\n",
      "285 ulti-strategy c -> lti-strategy co\n",
      "286 lti-strategy co -> ti-strategy com\n",
      "287 ti-strategy com -> i-strategy comm\n",
      "288 i-strategy comm -> -strategy commu\n",
      "289 -strategy commu -> strategy commun\n",
      "290 strategy commun -> trategy communi\n",
      "291 trategy communi -> rategy communit\n",
      "292 rategy communit -> ategy community\n",
      "293 ategy community -> tegy community-\n",
      "294 tegy community- -> egy community-b\n",
      "295 egy community-b -> gy community-ba\n",
      "296 gy community-ba -> y community-bas\n",
      "297 y community-bas ->  community-base\n",
      "298  community-base -> community-based\n",
      "299 community-based -> ommunity-based \n",
      "300 ommunity-based  -> mmunity-based a\n",
      "301 mmunity-based a -> munity-based ap\n",
      "302 munity-based ap -> unity-based app\n",
      "303 unity-based app -> nity-based appr\n",
      "304 nity-based appr -> ity-based appro\n",
      "305 ity-based appro -> ty-based approa\n",
      "306 ty-based approa -> y-based approac\n",
      "307 y-based approac -> -based approach\n",
      "308 -based approach -> based approach \n",
      "309 based approach  -> ased approach i\n",
      "310 ased approach i -> sed approach is\n",
      "311 sed approach is -> ed approach is \n",
      "312 ed approach is  -> d approach is n\n",
      "313 d approach is n ->  approach is ne\n",
      "314  approach is ne -> approach is nee\n",
      "315 approach is nee -> pproach is need\n",
      "316 pproach is need -> proach is neede\n",
      "317 proach is neede -> roach is needed\n",
      "318 roach is needed -> oach is needed.\n"
     ]
    }
   ],
   "source": [
    "\n",
    "#5. seqence 길이 단위 자르기\n",
    "\n",
    "# 데이터 구성을 위한 리스트\n",
    "x_data = []\n",
    "y_data = []\n",
    "\n",
    "## 문제(2): 반복문 내에서의 인덱싱을 사용하여 sequence_length 값 단위로 샘플을 잘라 데이터 만들기, y_str은 x_str은 한 칸씩 쉬프트된 sequnce\n",
    "## 아래 결과 코드를 보면 x와 y의 관계가 한칸 차이임을 알 수 있다.\n",
    "for i in range(0, len(sentence) - sequence_length):\n",
    "  x_str = sentence[i:i+sequence_length]\n",
    "  y_str = sentence[i+1:i+sequence_length+1]\n",
    "  print(i, x_str, \"->\", y_str)\n",
    "\n",
    "  # x_str과 y_str이 문자집합에 해당하는 인덱스를 각각 x_data, y_data에 append\n",
    "  x_data.append([vocab[c] for c in x_str])\n",
    "  y_data.append([vocab[d] for d in y_str])"
   ]
  },
  {
   "cell_type": "code",
   "execution_count": 121,
   "metadata": {},
   "outputs": [
    {
     "name": "stdout",
     "output_type": "stream",
     "text": [
      "[1, 3, 25, 7, 13, 6, 8, 12, 13, 4, 20, 12, 8, 5, 20]\n",
      "[3, 25, 7, 13, 6, 8, 12, 13, 4, 20, 12, 8, 5, 20, 25]\n"
     ]
    }
   ],
   "source": [
    "\n",
    "# 출력해서 한 칸씩 쉬프트된 것 확인하기!\n",
    "\n",
    "print(x_data[0])\n",
    "print(y_data[0])"
   ]
  },
  {
   "cell_type": "code",
   "execution_count": 165,
   "metadata": {},
   "outputs": [],
   "source": [
    "\n",
    "x_one_hot = [np.eye(len(vocab))[x] for x in x_data]\n",
    "\n",
    "##7. 입력 데이터, 레이블데이터 텐서로 변환\n",
    "\n",
    "## 문제(5) : x_one_hot과 y_data 텐서로 변환 : 둘 다 같은 형식의 텐서로 변환하면 될까?? (FloatTensor, LongTesor 중 맞는 것은?)\n",
    "X = torch.FloatTensor(x_one_hot)\n",
    "Y = torch.LongTensor(y_data)"
   ]
  },
  {
   "cell_type": "code",
   "execution_count": 166,
   "metadata": {},
   "outputs": [
    {
     "name": "stdout",
     "output_type": "stream",
     "text": [
      "훈련 데이터의 크기 : torch.Size([319, 15, 32])\n",
      "레이블의 크기 : torch.Size([319, 15])\n"
     ]
    }
   ],
   "source": [
    "    \n",
    "\n",
    "##8. 크기 확인\n",
    "print('훈련 데이터의 크기 : {}'.format(X.shape))\n",
    "print('레이블의 크기 : {}'.format(Y.shape))"
   ]
  },
  {
   "cell_type": "code",
   "execution_count": 167,
   "metadata": {},
   "outputs": [
    {
     "name": "stdout",
     "output_type": "stream",
     "text": [
      "tensor([ 3, 25,  7, 13,  6,  8, 12, 13,  4, 20, 12,  8,  5, 20, 25])\n"
     ]
    }
   ],
   "source": [
    "\n",
    "##10. 레이블 데이터 샘플 확인하기\n",
    "print(Y[0])"
   ]
  },
  {
   "cell_type": "code",
   "execution_count": 130,
   "metadata": {},
   "outputs": [],
   "source": [
    "class Net(torch.nn.Module):\n",
    "  def __init__(self, input_dim, hidden_dim, layers):\n",
    "    super(Net, self).__init__()\n",
    "    self.rnn = torch.nn.RNN(input_size=input_dim,hidden_size=hidden_dim,batch_first=True)\n",
    "    self.fc = torch.nn.Linear(hidden_dim,hidden_dim,bias=True)\n",
    "  \n",
    "  def forward(self, x):\n",
    "    x,_status = self.rnn(x)\n",
    "    x=self.fc(x)\n",
    "    return x\n",
    "     "
   ]
  },
  {
   "cell_type": "code",
   "execution_count": 131,
   "metadata": {},
   "outputs": [],
   "source": [
    "net = Net(vocab_size, hidden_size, 2)"
   ]
  },
  {
   "cell_type": "code",
   "execution_count": 132,
   "metadata": {},
   "outputs": [],
   "source": [
    "\n",
    "##12. loss function\n",
    "criterion = torch.nn.CrossEntropyLoss()\n",
    "\n",
    "##13. optimizer\n",
    "optimizer = optim.Adam(net.parameters(), learning_rate)"
   ]
  },
  {
   "cell_type": "code",
   "execution_count": 133,
   "metadata": {},
   "outputs": [
    {
     "name": "stdout",
     "output_type": "stream",
     "text": [
      "aaaa))a)))))b)))))))))))))b))))))))))a)))))a))))))))a))))))))l)))))))C)b))))))b))))))))))))a)))))))))))))))))a)))))))))))a))))a)))))))))a))))))))a)))))))))))))))))))))))a))))))))b)))))b))))))))))))bb)))))a))))))))))))a)))))a)))))a)))))b))))) ))))))))))))))b)))))))))))))a))))))))aa)))bb))))))))))))))) bb)))))))))))))))))a)))))))))))\n",
      "aaaaaaaaaaaaaae)a))aaaaalaaaaaeaaaaaaaaaaaaaaaaeaaaaaa aaaaaaeaaa aaaaaaaaaaaa eaaaaaaaaaaaaaaaau aaaaaaaaaa)aaaaaaaa aaaaalaaaaeaaaa aaaaaaaaaaaaa)eaaaaaa)aeaaaaa)aaaaaaaaaaaa) aaaaaaaae)a))aaleaaaaua)aaaa)elaaaaaaaaaaaaaaaaa))aaaaaaaaaea aaa a))aaaaaaaaaaae)a))aaaaaaaaa aaaaaaaa)aaaaua) aaelaa aaaa aa aaa aaaaaala ealaaaaaaaaaaaa\n",
      "aaaaaaa aa  aa raa  aaaalaaraa a   aaaaaa aaaa    aa a  a aaa aaa ala aa an  a  aaaaaaaaa aaa a   a a ananaaeaaa aa a   aaalaaa eaaaa a aaaaaa  laa  aaaaaa   naaa  aaaanaaa aaa  a an  aa raa  alena auaa aaa  lu aa aanaaaanaaaala aaaaaa       n ana aaaa aa aa aaa  aa aa aa aaaa  aaraaaauaa aa lan   aa aa aan a aaaal     aaaaaaaaaaaa\n",
      "aaa  n   n                 n            n               n      n          n        n n  n                  r                                 n                  n          n  n      n                   n                 n n                    n           n                          r      n                                          n \n",
      "aan                                                                                                                                                                                                                                                                                                                                          \n",
      "aa                                                                                                                                                                                                                                                                                                                                           \n",
      "aa                                                                                                                                                                                                                                                                                                                                           \n",
      "a                                                                                                                                                                                                                                                                                                                                            \n",
      "aa                                                                                                                                                                                                                                                                                                                                           \n",
      "aa                                                                                                                                                                                                                                                                                                                                           \n",
      "aa                                                                                                                                                                                                                                                                                                                                           \n",
      "aa                                                                                                                                                                                                                                                                                                                                           \n",
      "aa                                                                                                                                                                                                                                                                                                                                           \n",
      "a                                                                                                                                                                                                                                                                                                                                            \n",
      "a                                                                                                                                                                                                                                                                                                                                            \n",
      "a                                                                                                                                                                                                                                                                                                                                            \n",
      "a                    r                                                                                                                                                                                l                                     r                            r                                                                   \n",
      "a        r       r   r     l    r                                         r                                                                                                                  r        l                r                    r                        r   r               r   l                 l                             \n",
      "a    a   r       r   r     l    r                                         r        r       e   l        e  r                    e                               r r           a      r       r   r    l  s             r   a          l   r r                 a      r   r          r    s   l  s              l                             \n",
      "a    a   r   r   r   r  li l  e r   r  er     r                a          r        r       e   l       ae  r      rl      e   a e   i   a                   r   r r     i  l  a r    r   r   r   re   l  s             s   a   r      l   r re e     i   h    a      r   r  r     i r    s   l  s  r   r  a    l     a                       \n",
      "a l  al  r  er   r  ar  li l  e r   s  er     r       n     le a  a    l  r        r ah l  e   l  e    ae  r   r  rl  are e   r er  i r a       l  r  a     re  r r   i i  l  a r    r  er   r  are   l  s             s   a i r      l   r re e     r  ah    a l    r  ar  rsa a ier    s   l  s  ri  r  a    l     a e      e    i       r \n",
      "a l  al  re ere  r  ar  li l  e rl  s  er  re re      n  i  le a  ard  a  re  r    r ah l  e  al  e i  ae  r  ir arn  are e  ar er  i r as      l  re a    ire  r r   a ih l  a r    re ere  r  are   ld s     e   a   s   a i r   s  l  ar re e     rn ah    a l e  r  ar  rsa a ier   rs  ald s eri er  ahr  l     a e  a r e    il      r \n",
      "a ld al ere ere  r  ar  li lire rl  s  er  re re e    n  i  le ar ard  a ere  r    r ah ld er al  e i  aer r  ir arn  are e  ar er  i r asa  ri l  re ar  iire  r rn  a ih ld arr    re ere  r  are i ld s     e i a   s   a i r  rs  l  ar re er r  rn ah  d a l es r  ar arsa a ier  ers  ald s eri er  ahr ul e   a e  alr e    il a    r \n",
      "h ld al eri eri  r  ar  li lire rl  s  er  ri re e r  n  i  le ar ard  a eri  r t  l ah ld er ald eri  aer r  ir arn  arele  ar er  i ruasa  ri l  re ar  iire  r rn  a ih ld arr a ere ere  r  are iuld s   rne i a i s   a i r  rs  l  ar re er r  rn ah ld a lres r  ar arsa a ierd ers  ald s eri er  ahr ul e   arer alr e    il a    r \n",
      "h ld an eri erit r  ar  liulire rn  s  er  ri  i e r  n  i ile ar ard  n eri  rit  l ahild ar ald eri  aar r  ir arn  arele  arrer  i ruasa eri l  re ar liire  r rn  a ih ld arr a eri erit r  are iuld s   rne d a i s   ari r  rs  ld ar re erir  rn ahitd a eres r  ar arsa a ierd ers  ald s eri er  ahr ul er  arer alr e   iin a    r \n",
      "h ld an eri erit r  ar  liulire rn  s  er  ria ine r hn  i ine ar ard  n eri  rit  l ahild ar ald ert  aar r rir arn  arele  arrer  i auasa eri l  re ariliire  s rn  a ih ld arnia eri erit r  are iuld s   rne d a i s   ari r  rs  ld arirererir  rn ahitd a eris rn ar arsa a ierd ers  uld s eri er  ahr ul er  arer alrre  hian a    r \n",
      "h ld an eri eris rn ar aliulire rnl s  er dria ine r hn  i ine ar ard  n eri  rit  l ahild ar ald art  aar r rir arn  arele  arrer  a auasahiri li re ahiliire  s rn  a ih ld arnia eri eris rn are iuld s   rn  d a i s   ari r  rs  ld arirererir  rn ahild a eris rn ar arsa a ierdsers  uld s eri ern ahr ul er  arer alrre  hian a    r \n",
      "h ld an eri erisirn ar aliulire rnl s  er d ia in  r un  i ine ar ard  n eri  rit  l ahild ar ald art  aar r rir arn  arele  ahrer  a au)sahiri li re ahiliire  s rn  a ih ld arnia eri erisirn are iuld s   rn  t o i s   ari r  rs  ld aririnerar  rn ahild a erisirn ar arsa a iardsers iuld s ern ern ahreul er  arer alrre  hian a      \n",
      "h ld an eri erisirn ar aliulire rnlds  ar d ia in  rtun  a ile ar ardd n eri  rit  l ahild ar ald a td aar r rin arnl arele  ahrer  a au)sahiri lt re ahiliirer s rn  a ih ld arnta eri erisirn are iuld s  hrn  t o i sd  ari r  rs  ld arerinerar hrn ahild a erisirn ar arsa a iardsers iuld s ern ern ah eul er  arer alrre  hial a  r   \n",
      "h ld an eri erisirn ar aliuliretrllds  ar d aa en  rtTn  ahile ar aldd n eri  rit  l ahild ar ald a td aar r rin arnl arere  ah er  a uu)sahiri lt re ahiliirer s rn  a ih ld ar ta eri erisirn are iuld s  h n  t o i sd  ari r  rs  ld areri erar hrn ahild a erisirn ar arsa a ialdsers iuld s ern ern ah eul er  arer alrre  hial a  r   \n",
      "h ld an eri erisirn ar aliuleretrllds  arlt aa en  rtTn  ahile ar aled n eri  rit  l aheld ar ald a td aar s rin aunl areri  ah er  a uu)sThiri  t re ahiliirer s rn  a ih ld ar th eri erisirn are iuld s  h n  t o i sd  ari r  rs  ld aneri erar hrn aheld a erisirn ar aus, a ialts rs iuld s ern ern ah eul er barer alrre  hial a  r   \n",
      "h ld an eri erisirn ar aliuleretrllds  arlt aa en  rtTn  ahili an aled n eri  rit  l aheld ar ald a td aar s  in aunl areli  ah er  a uu)sTheri  t rn ahiliirer s rn  a ih ld ah ah eri erisirn areriuld s  h n  tro i sd  ari r  rs  ld aneri erar hrn aheld a erisirn ar aus,ra ialts rs iuld s ern ern ah tul er blrer a rri  hial a  r   \n",
      "hild an eri erisirn ar aliurer trll s  arlt aa en  rtTn  ahili an alld n eri erit  l aheld ar ald a ld aar s  in aunl areli  ah er  auuA)sTheri  t rn ahiliirer s rn  a ih ld ah ah eri erisirn are iuld s  h ne tTo i sd  arier  rs  ld anerinerar hrn ahild a erisirn ar auA,ra ialts hs iuld s ern ern ah tul tr blrer a eri  hial a  r   \n",
      "hild an eri eritirn ar aliurlr trnl s  arlt aa en  rtTn  ahili an alld n eri erit  l aheld ar ald a ld aar s  in aunl areli  ah eri auSA).Theri  t rn ahiliired s rn  a ihild ah ah eri eritirn are iuld s  hhnn tTo i sdd arier  rs  ld anerinerar hrn ahild a erisirn ar auA,ra ialts hs iuld s ern irn ch tul tr blrer a eri  hial a  r   \n",
      "hild an eri eritirn ar aliurnritrnl s  ellt aaren  rtTn  ahili an alld n eri ernt ol aheld ar ald a ld aar s  in aunl areli  a) eli auSA).Theri  t rn ahiliiret s rn  a ihild ah ah eri eritirn are iuld s  hhnn tTo i sld ariert rs  ld aherinertr hrn ahild a erisirn ar auA, a ialts hs iuld s ern irn ch tul tr blrer a eri  hial a  r   \n",
      "hild an eri eritirn ar aliurnritrnl s  ellt aaren  rtTn  ahili an alld n eri ernt ol aheld ar ald a ld aer s  in aunl areli  a) eli auSA).Theri  t rn ahiliiret s rn  a ihild ah ah eri eritirn are iull s  ihnn tro i sld ariert rs  ld aherinertr hrn ahild a erinirn ar auA, a iarls hs iuld s eri irn ch tul tr blrer a erit hial a er   \n",
      "hild an ern eritirn ar alaurnritrnl s  ellt iaren  rtTn  ahili an alld n eri ernteol aheld er ald a ld aed s  in aunl arerin a) eli auSA).Theri  thrn ahiliiret s rn  a child ah ah eri eritirn are iull s  ihnn tro i sld ariert  s  ld anerinertr hrn ahild a erinirn ar auA, a carls hs iuld s eri irn ch tul tr blrer a erit hialia er   \n",
      "hild an ern eritirn ar alaurnritrnl s  ellt iarin estOn  ahili an alldin eri ernteol cheld ed Sl  a ld aed s  in aunn arerin a) esi auSA).Theri  thrn ahiliiret s rn  a child ah an eri eritirn are iull s  ihnn tTo i sld arierti s  ld anerinertrihrn ahild a erinirn ar auA) a calls hs iuld s eri irn ch tul tr blrer a erit hialia er   \n",
      "hild an ern eritirn ar a aurnritrnl s iellt iarinlestOn  ahili an alldin eri eriteol cheld en Sl  a td aed s  in aunn arerin a) eci auSA).Theri  thrntahiliired s rn  a child ah an eri eritirn are iull s dionnttTo c sld alihrti s  ld anerinertrihrn child a erinirn ar auA) a calls hs iuld s eri irn ch uul tr blrer a ernt hialic er   \n",
      "hild an ern trition ar a aulnritrol s iellt iarinlestOn  ahili an alldin eri eriteol cheld en Sl  a td aedts  in aunn arerin S) eci auSA).Thedi  thrntahiliired s rn da child ah an eri erition aretiull s dionnttTo c cdd alahrti s  ld anerinertrihrn child a erinion ar SuA) a calls hs iult s eri irn co uul tr bartd a ernt hialic er   \n",
      "hild an eri trition ar a aulnritholes iellt iarinlestOn  ahili an alldin eri eriteol cheld en Sl  a ld aedts  in aunn arerin S) eci auSA).Thedi  thrntahiliired s rn da child ah an eri erition aretiull s diornttTo c cdd a ahsti s  ll anerinertrihin child a erition ar SuA) a callsehs iult s eri irn co uul tr bartd a ernt hialic er   \n",
      "hild an ern trition ar a auloritholes iellthiarinlestOn  ahili an alldin eri eriteid child en Sl  alld aedts  in Sunn arerin S) eci auSA).Thedi cthrntahiliired s rn da child ah an eri trition aretiull s diornttTo c cld a ahsti s  ll aneronertrihin child a erition ar SuA) a aallsehs iult s eritirn co uun tr bartd a ernt hialic er   \n",
      "hild an ern trition ar a aulor tholes  ellthiaronlestOn  ahili an alldmn eri eriteid child en Sl  alld uests  in Sunn aderin S)reci auSA).Thedi cthrntahiliiret s rs da child ah an eri trition aretiult s diornttTo c lld a chsti s  ll aneronertrthin Shild a trition ar SAA) a aalls hs iult s eritirn co uun tr bartd a rrot hialic er   \n",
      "hild an ern trition ar a aulor tholes  ellthiaronlestOn  thili an alldmn ern eriteid child en Sl  alld uests  in SunnSadarin S)oeci auSA).Thedi ctirntahiliiret s rs  a child ah an eri trition are iultis dioonttTo c lld a custi s  ll aneronertrthrn Shild a trition ar SAA) a aalls hs iult s eritirn co uun tr bartd a rrot hialic  r   \n",
      "hild an ern trition ar a aulor tholes  ellthiaronlestOn  thili an alldmn ern eriteid child en Sl  alld uests  in SunnSadarin S)oeci auSA).Thedi ctirntahiliiret s rs  a child ah an ern trition are iultisedioonttTo c lld a custi s  ll anpronert thrn Shild a trition ar SAA, a aalls hs iultis eritirn co uun tr bartd a rrot h alic  r   \n",
      "hild an ern trition ar a aulor tholes iellthiaronlestOne thild an alldmn ern Sriteid child en Sl  alld uests  in SunnSaharin S)oeci cuSA).Thedi ctirntahiliiretis rs  a child ah an ern trition are iultisediooettTo c lld a custi s  ll anpronert thrn Shild a trition ar SAA, a aalls hs iultis eritirn co uun tr bartd a rrot h ul c  r   \n",
      "hild an ern trition an a aulor aholes iedlthiaronlestOne thild an all mn ern Sriteid child en Sl  alld uests  in Sun-Saharin Sfoeci cuSA).Thedi ctirntahiliiretis rs  a child ah an ern trition are iultisediorettTo c lld a custi s  le anpronectrthrn Shild a trition ar SAA, a aalls hs iultisseritirn coruunitr bartd a rrot h ul c  d   \n",
      "hild an ern trition in a aulor ahlles iedlthiaronlestOne thild an all mndern Sriteid child en Sl  nlld uests  in Sun-Saharin Sfoeci cuSA).Thedi ctirntahiliiret s rs  a child ah an ern trition ire iultisediorettTo c lld a custi s  le anpronedtrthrn Shild a trition ir SAA, a aolls hi iultisseritirn coruunitr bartd a rrotshiul a  d   \n",
      "hild an ern trition in a aulor ahlles iedlthiarinlestOnedthild an all mndern eriteid child en Sl  nlld uests  in Sun-Saharin Sfrect cuSA).Thedi ctirntahiliired s rs  a child ah rn ern trition ire iulti-ediorettTo c lld a custi s  le anprone tnthrn Shild a trition ir SAA, a aolls  i iultisseritirn coruunithibartd a rrotshial a  d   \n",
      "hild an ern trition in a aulor arlles iedlthiarinlestOne thild an ill mndern eriteid child en Sl bllld uests  in Sun-Saharin Sf ect cuSA).Thedi ctirntahiliired s rs  a child ah rn ern trition ire iulti-ediorettTo c lld a custi s  le anprone tnthrn Shild a trition in SSA, a aolls  i iulti-seritirn coruunithibartd a rrorshial a  d   \n",
      "hild an ern trition in a aulor arlles iedlthiaronlestOne thild an ill mndern Sritiid child en Sl bllld uests  in Sun-Saha in Sf ect (uSA).Thedi ctorntahiliired s rs  a child ao rndern trition ire iulti-ediorettTo c lld a custi s  le anprone tnthin Shild a trition in SSA, a aolls  i iulti-seritirn coruunithibartd a rrorshial a  d   \n",
      "hild an ern trition an a aulor arlles iedlthiaronlestOne thild an ill mndern Sritiid child en Sl bllly uests  in Sun-Saha in Sfrect (uSA).Thedi ctorntahiliired s rs  a child ah rndern trition are iultinedioreltTo c lld a custi sd le anprone tnthin Shild a trition in SSA, a aolls  i iulti-seritirn coruunithibartd a rrorsh as a  d   \n",
      "hild an ern trition an a aulor aulles iedlthiaronledtOne thild an all mndern Srit id ahild en Sl bllly uests  in Sun-Saha in Sfrect (uSA).Thedi ctorntahiliired s rs  a child ah rndern trition are iulti-edioreltTo c lld a custi sd le inprone tnthin Shild autrition in SSA, a aolls  i iulti-seritirn coruunith bartd a rrorsh as a  d   \n",
      "hild an ern trition in a aulor aulles hedlthiaronledtOne thild an all mndern Srit ed ahild en Sl bllly uests  in Sun-Saha in Sfrect (uSA).The i ctorntahiliired s rs  a child ao andern trition ire iulti-edtoreltTo c lld a custi ld le inprone tnthin Shild autrition in SSA, a aolls  i iulti-seritirn coruunity bartd a rrorsh as a  d   \n",
      "hild an ern trition in a aulor aulles hedlthiaronled.One thild an ill mndern Srit ed ahild en Slobllly uests  in Sun-Sahe in Sfrect (uSA).The i ctorntahiliiretis rse a child ao andern trition ire iulti-edtoreltTo r lld a custi ld le inprone tntiin Shild autrition in SuA, a aolls  i iulti-seritirn coruunity bartd a rro sh as a  d   \n",
      "hild an ern trition in a aulor aulles hedlthiaronled.One thild an ill rndern erit ed ahild en Slobllly rests  in Sun-Saha in Sfrect (uSA).The i ctorntahiliiretis rse a child ao andern trition ire iulti-ectoreltTo r eld aucusti ndble inprone tntiin Shild autrition in SuA, a aollst c iulti-seritirn coruunity bartd a rro sh as a  d   \n",
      "hild an ern trition in a aulor aulles hedlthiarobled.One thild an ill rndern erit ed ahild en Slobllly rests  in Sun-Saha in Sfrech (uSA).The iactorntahiliiretis rse a child ao andern trition ire iulti-ectoreltTo r eld aucusti n ble inprone tntiin Shild autrition in SuA, a aollst c iulti-seritirn coruunity bartd a rro sh as a  d   \n",
      "hild an ern trition in a aulor aulles hedlthiprobled.One thild an ill rndern erit ed ahild en Slobllly rests  in Sun-Saha in Sfrach (uSA).The iactorntahiliiredisirse a child ao andernutrition ire iulti-ectoraltTo r eld aucusti n ble inprone tntiin child autrition in SSA, a aollst c iulti-seritirn coruunity bartd a rro sh as a  d   \n",
      "hild andern trition in a aulor aulles hedlthiprobled.One thild an ill rndernuuris ed ahild en Slobllly rests  in Sub-Saha in Sfrach (uSA).The iactorntahiliiredisirse a child ao andernutrition ire iulti-ectoral.To r eld aucusti n ble inprone tntiin child nutrition in SSA, a aollst c iulti-seratirn coruunity-bastd a rro sh as a  d   \n",
      "hild nndern trition in a aulor aulles hedlthiprobled.One thild an ill rndernuuris ed ahild en Slobllly resis  in Sub-Saha in Afrach (SSA).The iactorntahiliiredisirse a child ao andernutrition ire iulti-ectoral.To s eld aucusti n ble inprone .ntiin child nutrition in SSA, a aollst c iulti-seratiry coruunity-bastd a rro sh as a  d   \n",
      "hild nndernutrition in a aulor aulles hedlthiprobled.One thild an ill rndernuuris ed ahild on Slobally resis  in Sub-Saha in Afrach (SSA).The iactorntahiliiredisirse a child ao andernutrition ire iulti-ectoral.To s eld au(usti n ble inprone pntiin child nutrition in SSA, a aollst c iulti-stratiry coruunity-bastd a rro sh is a  d   \n",
      "hild nndernutrition in a aulor aullis hedlthiprobles.One thild an ill undernuurished ahild on Slobally resis  in Sub-Saha in Afrach (SSA).The aactorn ahiliiredisirse a child no rndernutrition ire iulti-ectoral.To   eld arsusti n ble inprone pntiin child nutrition in SuA, a aollstic iulti-stratiry coruunity-bastd a rro sh is a  d   \n",
      "hild nn ernutrition in a aulor aublis hedlthiprobles.One thild an ill undernuurished ahild on Slobally resis  in Sub-Saha in Afrach (SSA).The aactora ahiliiredisirs  a child no mndernutrition ire iulti-ectoral.To   eld arsusti n ble inprone pntiin child nutrition in SuA, a aollstic iulti-stratiry coruunity-bastd a rro sh is a  d   \n",
      "hild nn ernutrition in a aulor aublis hedlthiprobles.One thild an ill undernuurished ahild en Slobally resid  in Sub-Saha in Afrach (SSA).The aactora ahiliiredisprsa a child no mndernutrition ire iulti-ectoral.To   eld arsusti n ble inprone pntiin child nutrition in SuA, a aollstic iulti-stratiry coruunity-bastd a rro sh is a  d   \n",
      "hild nn ernutrition in a aulor publis hedlthiprobles.One thild an ill undernuurished ahild en Slobally resid  in Sub-Saha in Afrach (SSA).The aactora ahiliiredisposa a child no mndernutrition ire iulti-ectoral.To   eld arsusti n ble inprove pntiin child nutrition in SuA, a iollstic iulti-stratiry coruunity-bastd a pro ch is a  d   \n",
      "hild nndernutrition in a aulor publis hedlth probles.One thild an ill undernuurished ahild en Slorally resid  in Sub-Saharin Afrach (SSA).The aactora ahiliiredisposa a child no mndernutrition ire iulti-ectoral.To   eld arsusti n ble inprove pntiin child nutrition in SuA, a iol stic iulti-stratiry coruunity-based atpro ch ispa  d   \n",
      "hild nndernutrition in a aujor publis hedlth probles.One thild cn ill undernuurished child en Slorally resid  in Sub-Saharin Afrach (SSA).The aactora thiliiredisposa a child no mndernutrition ire iulti-ectoral.To   eld arsusti n ble inprove pntiin child nutrition in SuA, a hol stic iulti-stratiry coruunity-based appro ch ispa  d   \n",
      "hild nndernutrition in a aujor publis hedlth probles.One thild cn all undernuurished child en Slorally resid  in Sub-Saharin Afrach (SSA).The aactora thiliiredisposa a child no mndernutrition ire iulti-ectoral.To   eld arsusti n ble inprove pnt in child nutrition in SuA, a hol stic iulti-stratiry coruunity-based appro ch ispa  d   \n",
      "hild nndernutrition in a aajor publis health problem.One thild cn all undernuurished child en Slorally resid  in Sub-Saharin Afrach (SSA).The aactora thiliiredisposa a child no mndernutrition ire iulti-ectoral.To y eld arsustiin ble inprove pnt in child nutrition in SSA, a hol stic multi-stratiry coruunity-based appro ch ispaa d d \n",
      "hild nndernutrition in a aajor publis health problem.One thild cn all undernuurished ahild en Slobally resid  in Sub-Saherin Afrach (SSA).The aactora thiliiredisposa a child no mndernutrition ire iulti-ectoral.To y eld arsustiin ble inprove pnt in child nutrition in SSA, a hol stic multi-stratigy coruunity-based appro ch ispaa d d \n",
      "hild nndernutrition in a aajor publis health problem.One thild cn all undernuurished ahild en Slobally resid  in Sub-Saherin Afrac  (SSA).The aactora thiliiredisposa a child no mndernutrition ire iulti-ectoral.To y eld a sustiin ble inprove pnt in child nutrition in SSA, a hol stic multi-stratigy cormunity-based appro ch ispaa d d \n",
      "hild nndernutrition in a aajor publis health problem.One thild cn all undernuurished ahild en Slobally resid  in Sub-Saherin Afrac  (SSA).The aactora thiliiredisposa a child no mndernutrition ire multi-ectoral.To y eld a sustiin ble inprovempnt in child nutrition in SSA, a hol stic multi-stratigy cormunity-based appro ch ispaa d d \n",
      "hild nndernutrition in a aajor public health problem.One thild af all undernuurished child en Slobally resid  in Sub-Saherin Afrac  (SSA).The aactora thiliiredisposa a child no undernutrition ire multi-ectoral.To y eld a sustiinable inprovempnt in child nutrition in SSA, a hol stic multi-stratigy cormunity-based appro ch ispaa d d \n",
      "hild nndernutrition in a aajor public health problem.One thild af all undernuurished child en Slobally resid  in Sub-Saherin Afrac  (SSA).The aactora thiliiredisposa a child no undernutrition ire multi-ectoral.To y eld a sustiinable inprovempntoin child nutrition in SSA, a holistic multi-stratigy cormunity-based appro ch ispaa d d \n",
      "hild nndernutrition in a aajor public health problem.One thild af all undernuurished child en globally resid  in Sub-Saherin Afrac  (SSA).The aactora thitiiredisposa a child no undernutrition ire multi-ectoral.To y eld a sustainable inprovementoin child nutrition in SSA, a holistic multi-stratigy cosmunity-based appro ch ispa  d d \n",
      "hild nndernutrition in a aajor public health problem.One thild af all undernuurished child en globally resid  in Sub-Saherin Afrac  (SSA).The iactora thitiiredisposa a child no undernutrition ire multi-ectoral.To y eld a sustainable inprovementoin child nutrition in SSA, a holistic multi-strategy cosmunity-based appro ch ispa  d d \n",
      "hild nndernutrition in a aajor public health problem.One thild af all undernuurished child en globally resid  in Sub-Saharin Afrac  (SSA).The iactora thit iredisposa a child no undernutrition ire multi-ectoral.To yield a sustainable inprovement in child nutrition in SSA, a holistic multi-strategy community-based approach ispa  d d \n",
      "hild nndernutrition in a aajor public health problem.One thild of all undernuurished child en globally reside in Sub-Saharin Afrac  (SSA).The iactora thit iredispose a child no undernutrition ire multisectoral.To yield a sustainable inprovement in child nutrition in SSA, a holistic multi-strategy cosmunity-based approach is a  d d \n",
      "hild nndernutrition in a aajor public health problem.One thild of all undernuurished child en globally reside in Sub-Saharin Afraca (SSA).The iactora that iredispose a child no undernutrition ire multisectoral.To yield a sustainable inprovement in child nutrition in SSA, a holistic multi-strategy cosmunity-based approach is aa d d \n",
      "hild nndernutrition in a major public health problem.One thild of all undernuurished child en globally reside in Sub-Saharin Africa (SSA).The iactora that iredispose a child no undernutrition ire multisectoral.To yield a sustainable improvement in child nutrition in SSA, a holistic multi-strategy cosmunity-based approach is aa ded \n",
      "hild nndernutrition in a major public health problem.One thild of all undernuurished child en globally reside in Sub-Saharin Africa (SSA).The iactora that predispose a child no undernutrition ire multisectoral.To yield a sustainable improvement in child nutrition in SSA, a holistic multi-strategy cosmunity-based approach is aa ded \n",
      "hild nndernutrition in a major public health problem.One thild of all undernuurished child en globally reside in Sub-Saharin Africa (SSA).The iactora that predispose a child no undernutrition ire multisectoral.To yield arsustainable improvement in child nutrition in SSA, a holistic multi-strategy cosmunity-based approach is aa ded \n",
      "hild nndernutrition in a major public health problem.One thild of all undernuurished child en globally reside in Sub-Saharin Africa (SSA).The iactors that predispose a child no undernutrition ire multisectoral.To yield a sustainable improvement in child nutrition in SSA, a holistic multi-strategy community-based approach is ha ded \n",
      "hild nndernutrition in a major public health problem.One thild of all undernuurished child en globally reside in Sub-Saharin Africa (SSA).The factors that predispose a child no undernutrition ire multisectoral.To yield a sustainable improvement in child nutrition in SSA, a holistic multi-strategy cosmunity-based approach is h  ded \n",
      "hild nndernutrition in a major public health problem.One thild of all undernuurished child en globally reside in Sub-Saharin Africa (SSA).The factors that predispose a child no undernutrition ire multisectoral.To yield a sustainable improvement in child nutrition in SSA, a holistic multi-strategy cosmunity-based approach is n  ded \n",
      "hild nndernutrition in a major public health problem.One thild of all undernuurished children globally reside in Sub-Saharin Africa (SSA).The factors that predispose a child no undernutrition ire multisectoral.To yield a sustainable improvement in child nutrition in SSA, a holistic multi-strategy cosmunity-based approach is n  ded \n",
      "hild nndernutrition in a major public health problem.One thild of all undernuurished children globally reside in Sub-Saharin Africa (SSA).The factors that predispose a child no undernutrition ire multisectoral.To yield a sustainable improvement in child nutrition in SSA, a holistic multi-strategy cosmunity-based approach is n  ded \n",
      "hild nndernutrition in a major public health problem.One third of all undernuurished children globally reside in Sub-Saharan Africa (SSA).The factors that predispose a child no undernutrition ire multisectoral.To yield a sustainable improvement in child nutrition in SSA, a holistic multi-strategy cosmunity-based approach is n  ded \n",
      "hild nndernutrition in a major public health problem.One third of all undernuurished children globally reside in Sub-Saharan Africa (SSA).The factors that predispose a child no undernutrition ire multisectoral.To yield a sustainable improvement in child nutrition in SSA, a holistic multi-strategy cosmunity-based approach is n  ded \n",
      "hild nndernutrition in a major public health problem.One third of all undernuurished children globally reside in Sub-Saharan Africa (SSA).The factors that predispose a child no undernutrition ire multisectoral.To yield a sustainable improvement in child nutrition in SSA, a holistic multi-strategy community-based approach is n  ded \n",
      "hild nndernutrition in a major public health problem.One third of all undernuurished children globally reside in Sub-Saharan Africa (SSA).The factors that predispose a child no undernutrition ire multisectoral.To yield a sustainable improvement in child nutrition in SSA, a holistic multi-strategy community-based approach is n  ded \n",
      "hild nndernutrition in a major public health problem.One third of all undernuurished children globally reside in Sub-Saharan Africa (SSA).The factors that predispose a child no undernutrition ire multisectoral.To yield a sustainable improvement in child nutrition in SSA, a holistic multi-strategy community-based approach is n  ded \n",
      "hild nndernutrition in a major public health problem.One third of all undernuurished children globally reside in Sub-Saharan Africa (SSA).The factors that predispose a child no undernutrition ire multisectoral.To yield a sustainable improvement in child nutrition in SSA, a holistic multi-strategy community-based approach is n  ded \n",
      "hild nndernutrition in a major public health problem.One third of all undernuurished children globally reside in Sub-Saharan Africa (SSA).The factors that predispose a child no undernutrition ire multisectoral.To yield a sustainable improvement in child nutrition in SSA, a holistic multi-strategy community-based approach is n  ded \n",
      "hild nndernutrition in a major public health problem.One third of all undernuurished children globally reside in Sub-Saharan Africa (SSA).The factors that predispose a child no undernutrition ire multisectoral.To yield a sustainable improvement in child nutrition in SSA, a holistic multi-strategy community-based approach is n  dedi\n",
      "hild nndernutrition in a major public health problem.One third of all undernuurished children globally reside in Sub-Saharan Africa (SSA).The factors that predispose a child no undernutrition ire multisectoral.To yield a sustainable improvement in child nutrition in SSA, a holistic multi-strategy community-based approach is n  dedi\n",
      "hild nndernutrition in a major public health problem.One third of all undernuurished children globally reside in Sub-Saharan Africa (SSA).The factors that predispose a child to undernutrition ire multisectoral.To yield a sustainable improvement in child nutrition in SSA, a holistic multi-strategy community-based approach is n  dedi\n",
      "hild nndernutrition in a major public health problem.One third of all undernuurished children globally reside in Sub-Saharan Africa (SSA).The factors that predispose a child to undernutrition ire multisectoral.To yield a sustainable improvement in child nutrition in SSA, a holistic multi-strategy community-based approach is n  dedi\n",
      "hild nndernutrition in a major public health problem.One third of all undernuurished children globally reside in Sub-Saharan Africa (SSA).The factors that predispose a child to undernutrition ire multisectoral.To yield a sustainable improvement in child nutrition in SSA, a holistic multi-strategy community-based approach is n  dedi\n",
      "hild nndernutrition in a major public health problem.One third of all undernuurished children globally reside in Sub-Saharan Africa (SSA).The factors that predispose a child to undernutrition ire multisectoral.To yield a sustainable improvement in child nutrition in SSA, a holistic multi-strategy community-based approach is n  dedi\n"
     ]
    }
   ],
   "source": [
    "\n",
    "##15. Training 시작\n",
    "\n",
    "for i in range(100):\n",
    "    optimizer.zero_grad()\n",
    "    outputs = net(X)\n",
    "    ##문제(7) : outputs, Y 형태 그대로 넣으면 안되죠. view 함수를 이용해 loss값을 계산해봅시다.\n",
    "    loss = criterion(outputs.view(-1, vocab_size), Y.view(-1))\n",
    "    loss.backward()\n",
    "    optimizer.step()\n",
    "\n",
    "    #16. 예측결과 확인\n",
    "    results = outputs.argmax(dim=2)\n",
    "    predict_str = \"\"\n",
    "    for j, result in enumerate(results):\n",
    "        if j == 0: # 처음에는 예측 결과를 전부 가져오기\n",
    "            predict_str += ''.join([world_set[t] for t in result])\n",
    "        else: # 그 다음에는 마지막 글자만 반복 추가\n",
    "            predict_str += world_set[result[-1]]\n",
    "\n",
    "    print(predict_str)"
   ]
  },
  {
   "cell_type": "code",
   "execution_count": 134,
   "metadata": {},
   "outputs": [
    {
     "data": {
      "text/plain": [
       "'hild nndernutrition in a major public health problem.One third of all undernuurished children globally reside in Sub-Saharan Africa (SSA).The factors that predispose a child to undernutrition ire multisectoral.To yield a sustainable improvement in child nutrition in SSA, a holistic multi-strategy community-based approach is n  dedi'"
      ]
     },
     "execution_count": 134,
     "metadata": {},
     "output_type": "execute_result"
    }
   ],
   "source": [
    "\n",
    "predict_str\n",
    "     "
   ]
  },
  {
   "cell_type": "code",
   "execution_count": null,
   "metadata": {},
   "outputs": [],
   "source": []
  },
  {
   "cell_type": "code",
   "execution_count": null,
   "metadata": {},
   "outputs": [],
   "source": []
  },
  {
   "cell_type": "code",
   "execution_count": null,
   "metadata": {},
   "outputs": [],
   "source": [
    "자음 없어지는 경우 ㅇ, 띄어쓰기가 잘 안됨\n",
    "One hot 말고 다른 인코딩을 사용한다면 더 나은 결과가 나올지? "
   ]
  },
  {
   "cell_type": "code",
   "execution_count": 137,
   "metadata": {},
   "outputs": [
    {
     "name": "stderr",
     "output_type": "stream",
     "text": [
      "[nltk_data] Downloading package punkt to\n",
      "[nltk_data]     C:\\Users\\82107\\AppData\\Roaming\\nltk_data...\n",
      "[nltk_data]   Unzipping tokenizers\\punkt.zip.\n"
     ]
    }
   ],
   "source": [
    "import nltk\n",
    "nltk.download('punkt')\n",
    "from nltk import sent_tokenize\n",
    "sents=sent_tokenize(sentence)"
   ]
  },
  {
   "cell_type": "code",
   "execution_count": 138,
   "metadata": {},
   "outputs": [
    {
     "data": {
      "text/plain": [
       "'Child undernutrition is a major public health problem.One third of all undernourished children globally reside in Sub-Saharan Africa (SSA).The factors that predispose a child to undernutrition are multisectoral.To yield a sustainable improvement in child nutrition in SSA, a holistic multi-strategy community-based approach is needed.'"
      ]
     },
     "execution_count": 138,
     "metadata": {},
     "output_type": "execute_result"
    }
   ],
   "source": [
    "sents[0]"
   ]
  },
  {
   "cell_type": "code",
   "execution_count": 156,
   "metadata": {},
   "outputs": [
    {
     "ename": "AttributeError",
     "evalue": "'list' object has no attribute 'lower'",
     "output_type": "error",
     "traceback": [
      "\u001b[1;31m---------------------------------------------------------------------------\u001b[0m",
      "\u001b[1;31mAttributeError\u001b[0m                            Traceback (most recent call last)",
      "Input \u001b[1;32mIn [156]\u001b[0m, in \u001b[0;36m<cell line: 11>\u001b[1;34m()\u001b[0m\n\u001b[0;32m      9\u001b[0m vectorizer \u001b[38;5;241m=\u001b[39m CountVectorizer()\n\u001b[0;32m     10\u001b[0m \u001b[38;5;66;03m# tokenize and build vocab\u001b[39;00m\n\u001b[1;32m---> 11\u001b[0m \u001b[43mvectorizer\u001b[49m\u001b[38;5;241;43m.\u001b[39;49m\u001b[43mfit\u001b[49m\u001b[43m(\u001b[49m\u001b[43mx_data\u001b[49m\u001b[43m)\u001b[49m\n\u001b[0;32m     12\u001b[0m \u001b[38;5;66;03m# summarize\u001b[39;00m\n\u001b[0;32m     13\u001b[0m \u001b[38;5;28mprint\u001b[39m(\u001b[38;5;124m\"\u001b[39m\u001b[38;5;124mvocabulary:\u001b[39m\u001b[38;5;132;01m{}\u001b[39;00m\u001b[38;5;130;01m\\n\u001b[39;00m\u001b[38;5;124m\"\u001b[39m\u001b[38;5;241m.\u001b[39mformat(vectorizer\u001b[38;5;241m.\u001b[39mvocabulary_))\n",
      "File \u001b[1;32m~\\AppData\\Roaming\\Python\\Python39\\site-packages\\sklearn\\feature_extraction\\text.py:1283\u001b[0m, in \u001b[0;36mCountVectorizer.fit\u001b[1;34m(self, raw_documents, y)\u001b[0m\n\u001b[0;32m   1267\u001b[0m \u001b[38;5;124;03m\"\"\"Learn a vocabulary dictionary of all tokens in the raw documents.\u001b[39;00m\n\u001b[0;32m   1268\u001b[0m \n\u001b[0;32m   1269\u001b[0m \u001b[38;5;124;03mParameters\u001b[39;00m\n\u001b[1;32m   (...)\u001b[0m\n\u001b[0;32m   1280\u001b[0m \u001b[38;5;124;03m    Fitted vectorizer.\u001b[39;00m\n\u001b[0;32m   1281\u001b[0m \u001b[38;5;124;03m\"\"\"\u001b[39;00m\n\u001b[0;32m   1282\u001b[0m \u001b[38;5;28mself\u001b[39m\u001b[38;5;241m.\u001b[39m_warn_for_unused_params()\n\u001b[1;32m-> 1283\u001b[0m \u001b[38;5;28;43mself\u001b[39;49m\u001b[38;5;241;43m.\u001b[39;49m\u001b[43mfit_transform\u001b[49m\u001b[43m(\u001b[49m\u001b[43mraw_documents\u001b[49m\u001b[43m)\u001b[49m\n\u001b[0;32m   1284\u001b[0m \u001b[38;5;28;01mreturn\u001b[39;00m \u001b[38;5;28mself\u001b[39m\n",
      "File \u001b[1;32m~\\AppData\\Roaming\\Python\\Python39\\site-packages\\sklearn\\feature_extraction\\text.py:1330\u001b[0m, in \u001b[0;36mCountVectorizer.fit_transform\u001b[1;34m(self, raw_documents, y)\u001b[0m\n\u001b[0;32m   1322\u001b[0m             warnings\u001b[38;5;241m.\u001b[39mwarn(\n\u001b[0;32m   1323\u001b[0m                 \u001b[38;5;124m\"\u001b[39m\u001b[38;5;124mUpper case characters found in\u001b[39m\u001b[38;5;124m\"\u001b[39m\n\u001b[0;32m   1324\u001b[0m                 \u001b[38;5;124m\"\u001b[39m\u001b[38;5;124m vocabulary while \u001b[39m\u001b[38;5;124m'\u001b[39m\u001b[38;5;124mlowercase\u001b[39m\u001b[38;5;124m'\u001b[39m\u001b[38;5;124m\"\u001b[39m\n\u001b[0;32m   1325\u001b[0m                 \u001b[38;5;124m\"\u001b[39m\u001b[38;5;124m is True. These entries will not\u001b[39m\u001b[38;5;124m\"\u001b[39m\n\u001b[0;32m   1326\u001b[0m                 \u001b[38;5;124m\"\u001b[39m\u001b[38;5;124m be matched with any documents\u001b[39m\u001b[38;5;124m\"\u001b[39m\n\u001b[0;32m   1327\u001b[0m             )\n\u001b[0;32m   1328\u001b[0m             \u001b[38;5;28;01mbreak\u001b[39;00m\n\u001b[1;32m-> 1330\u001b[0m vocabulary, X \u001b[38;5;241m=\u001b[39m \u001b[38;5;28;43mself\u001b[39;49m\u001b[38;5;241;43m.\u001b[39;49m\u001b[43m_count_vocab\u001b[49m\u001b[43m(\u001b[49m\u001b[43mraw_documents\u001b[49m\u001b[43m,\u001b[49m\u001b[43m \u001b[49m\u001b[38;5;28;43mself\u001b[39;49m\u001b[38;5;241;43m.\u001b[39;49m\u001b[43mfixed_vocabulary_\u001b[49m\u001b[43m)\u001b[49m\n\u001b[0;32m   1332\u001b[0m \u001b[38;5;28;01mif\u001b[39;00m \u001b[38;5;28mself\u001b[39m\u001b[38;5;241m.\u001b[39mbinary:\n\u001b[0;32m   1333\u001b[0m     X\u001b[38;5;241m.\u001b[39mdata\u001b[38;5;241m.\u001b[39mfill(\u001b[38;5;241m1\u001b[39m)\n",
      "File \u001b[1;32m~\\AppData\\Roaming\\Python\\Python39\\site-packages\\sklearn\\feature_extraction\\text.py:1201\u001b[0m, in \u001b[0;36mCountVectorizer._count_vocab\u001b[1;34m(self, raw_documents, fixed_vocab)\u001b[0m\n\u001b[0;32m   1199\u001b[0m \u001b[38;5;28;01mfor\u001b[39;00m doc \u001b[38;5;129;01min\u001b[39;00m raw_documents:\n\u001b[0;32m   1200\u001b[0m     feature_counter \u001b[38;5;241m=\u001b[39m {}\n\u001b[1;32m-> 1201\u001b[0m     \u001b[38;5;28;01mfor\u001b[39;00m feature \u001b[38;5;129;01min\u001b[39;00m \u001b[43manalyze\u001b[49m\u001b[43m(\u001b[49m\u001b[43mdoc\u001b[49m\u001b[43m)\u001b[49m:\n\u001b[0;32m   1202\u001b[0m         \u001b[38;5;28;01mtry\u001b[39;00m:\n\u001b[0;32m   1203\u001b[0m             feature_idx \u001b[38;5;241m=\u001b[39m vocabulary[feature]\n",
      "File \u001b[1;32m~\\AppData\\Roaming\\Python\\Python39\\site-packages\\sklearn\\feature_extraction\\text.py:113\u001b[0m, in \u001b[0;36m_analyze\u001b[1;34m(doc, analyzer, tokenizer, ngrams, preprocessor, decoder, stop_words)\u001b[0m\n\u001b[0;32m    111\u001b[0m \u001b[38;5;28;01melse\u001b[39;00m:\n\u001b[0;32m    112\u001b[0m     \u001b[38;5;28;01mif\u001b[39;00m preprocessor \u001b[38;5;129;01mis\u001b[39;00m \u001b[38;5;129;01mnot\u001b[39;00m \u001b[38;5;28;01mNone\u001b[39;00m:\n\u001b[1;32m--> 113\u001b[0m         doc \u001b[38;5;241m=\u001b[39m \u001b[43mpreprocessor\u001b[49m\u001b[43m(\u001b[49m\u001b[43mdoc\u001b[49m\u001b[43m)\u001b[49m\n\u001b[0;32m    114\u001b[0m     \u001b[38;5;28;01mif\u001b[39;00m tokenizer \u001b[38;5;129;01mis\u001b[39;00m \u001b[38;5;129;01mnot\u001b[39;00m \u001b[38;5;28;01mNone\u001b[39;00m:\n\u001b[0;32m    115\u001b[0m         doc \u001b[38;5;241m=\u001b[39m tokenizer(doc)\n",
      "File \u001b[1;32m~\\AppData\\Roaming\\Python\\Python39\\site-packages\\sklearn\\feature_extraction\\text.py:71\u001b[0m, in \u001b[0;36m_preprocess\u001b[1;34m(doc, accent_function, lower)\u001b[0m\n\u001b[0;32m     52\u001b[0m \u001b[38;5;124;03m\"\"\"Chain together an optional series of text preprocessing steps to\u001b[39;00m\n\u001b[0;32m     53\u001b[0m \u001b[38;5;124;03mapply to a document.\u001b[39;00m\n\u001b[0;32m     54\u001b[0m \n\u001b[1;32m   (...)\u001b[0m\n\u001b[0;32m     68\u001b[0m \u001b[38;5;124;03m    preprocessed string\u001b[39;00m\n\u001b[0;32m     69\u001b[0m \u001b[38;5;124;03m\"\"\"\u001b[39;00m\n\u001b[0;32m     70\u001b[0m \u001b[38;5;28;01mif\u001b[39;00m lower:\n\u001b[1;32m---> 71\u001b[0m     doc \u001b[38;5;241m=\u001b[39m \u001b[43mdoc\u001b[49m\u001b[38;5;241;43m.\u001b[39;49m\u001b[43mlower\u001b[49m()\n\u001b[0;32m     72\u001b[0m \u001b[38;5;28;01mif\u001b[39;00m accent_function \u001b[38;5;129;01mis\u001b[39;00m \u001b[38;5;129;01mnot\u001b[39;00m \u001b[38;5;28;01mNone\u001b[39;00m:\n\u001b[0;32m     73\u001b[0m     doc \u001b[38;5;241m=\u001b[39m accent_function(doc)\n",
      "\u001b[1;31mAttributeError\u001b[0m: 'list' object has no attribute 'lower'"
     ]
    }
   ],
   "source": [
    "#CountVectorizer:\n",
    "from sklearn.feature_extraction.text import CountVectorizer\n",
    "# list of text documents\n",
    "text=['Child undernutrition is a major public health problem.' \n",
    "      'One third of all undernourished children globally reside in Sub-Saharan Africa (SSA).'\n",
    "      'The factors that predispose a child to undernutrition are multisectoral.'\n",
    "      'To yield a sustainable improvement in child nutrition in SSA, a holistic multi-strategy community-based approach is needed.']\n",
    "# create the transform\n",
    "vectorizer = CountVectorizer()\n",
    "# tokenize and build vocab\n",
    "vectorizer.fit(x_data)\n",
    "# summarize\n",
    "print(\"vocabulary:{}\\n\".format(vectorizer.vocabulary_))\n",
    "# encode document\n",
    "vector = vectorizer.fit_transform(x_data)\n",
    "# summarize encoded vector\n",
    "print(\"vector size:{}\\n\".format(vector.shape))\n",
    "print(type(vector),\"\\n\")\n",
    "print(\"vector:\\n{}\".format(vector.toarray()))"
   ]
  },
  {
   "cell_type": "code",
   "execution_count": 150,
   "metadata": {},
   "outputs": [],
   "source": [
    "vector= vector.toarray()"
   ]
  },
  {
   "cell_type": "code",
   "execution_count": 171,
   "metadata": {},
   "outputs": [
    {
     "data": {
      "text/plain": [
       "array([[1, 1, 1, 1, 1, 3, 1, 1, 1, 1, 1, 1, 1, 3, 2, 1, 1, 1, 1, 1, 1, 1,\n",
       "        1, 1, 1, 1, 1, 2, 1, 1, 1, 1, 1, 1, 2, 1, 2, 1]], dtype=int64)"
      ]
     },
     "execution_count": 171,
     "metadata": {},
     "output_type": "execute_result"
    }
   ],
   "source": [
    "vector"
   ]
  },
  {
   "cell_type": "code",
   "execution_count": 172,
   "metadata": {},
   "outputs": [],
   "source": [
    "## 문제(5) : x_one_hot과 y_data 텐서로 변환 : 둘 다 같은 형식의 텐서로 변환하면 될까?? (FloatTensor, LongTesor 중 맞는 것은?)\n",
    "X = torch.FloatTensor(vector)\n",
    "Y = torch.LongTensor(y_data)"
   ]
  },
  {
   "cell_type": "code",
   "execution_count": 173,
   "metadata": {},
   "outputs": [
    {
     "name": "stdout",
     "output_type": "stream",
     "text": [
      "훈련 데이터의 크기 : torch.Size([1, 38])\n",
      "레이블의 크기 : torch.Size([319, 15])\n"
     ]
    }
   ],
   "source": [
    "\n",
    "##8. 크기 확인\n",
    "print('훈련 데이터의 크기 : {}'.format(X.shape))\n",
    "print('레이블의 크기 : {}'.format(Y.shape))"
   ]
  },
  {
   "cell_type": "code",
   "execution_count": null,
   "metadata": {},
   "outputs": [],
   "source": []
  }
 ],
 "metadata": {
  "accelerator": "GPU",
  "colab": {
   "provenance": []
  },
  "gpuClass": "standard",
  "kernelspec": {
   "display_name": "Python 3 (ipykernel)",
   "language": "python",
   "name": "python3"
  },
  "language_info": {
   "codemirror_mode": {
    "name": "ipython",
    "version": 3
   },
   "file_extension": ".py",
   "mimetype": "text/x-python",
   "name": "python",
   "nbconvert_exporter": "python",
   "pygments_lexer": "ipython3",
   "version": "3.9.12"
  }
 },
 "nbformat": 4,
 "nbformat_minor": 1
}
