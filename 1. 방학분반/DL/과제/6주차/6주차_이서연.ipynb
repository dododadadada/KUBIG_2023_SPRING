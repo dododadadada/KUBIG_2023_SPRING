{
  "nbformat": 4,
  "nbformat_minor": 0,
  "metadata": {
    "colab": {
      "provenance": []
    },
    "kernelspec": {
      "name": "python3",
      "display_name": "Python 3"
    },
    "language_info": {
      "name": "python"
    },
    "gpuClass": "standard"
  },
  "cells": [
    {
      "cell_type": "code",
      "execution_count": 1,
      "metadata": {
        "id": "nmQ5F7UAeKB_"
      },
      "outputs": [],
      "source": [
        "import numpy as np\n",
        "import torch\n",
        "import torch.nn as nn\n",
        "import torch.optim as optim"
      ]
    },
    {
      "cell_type": "markdown",
      "source": [
        "1. set의 특징 : 중복 허용 x, 순서가 없다 -> 인덱싱으로 값을 얻을 수 없다(딕셔너리와 유사): 리스트나 튜플로 변환 후 인덱싱으로 접근\n",
        "\n",
        "https://blogofth-lee.tistory.com/269 참고"
      ],
      "metadata": {
        "id": "cEhwU6mt64xH"
      }
    },
    {
      "cell_type": "markdown",
      "source": [
        "## Task1\n",
        "\n",
        "빈 칸을 채워주세요!\n",
        "\n",
        "단계별 output이 github 파일에는 남아있으니 그 output과 동일한 형태인지 확인하면서 진행해주시면 됩니다~"
      ],
      "metadata": {
        "id": "Sgxd6SxmeVcP"
      }
    },
    {
      "cell_type": "code",
      "source": [
        "#1. 생성할 문장 데이터\n",
        "sentence = (\"Brick walls are there for a reason and you must not think \"\n",
        "            \"that the brick walls aren't there to keep us out, but rather \"\n",
        "            \"in this way that the brick walls are there to show us how badly we want things.\")"
      ],
      "metadata": {
        "id": "NDvUeC8BoUb6"
      },
      "execution_count": 2,
      "outputs": []
    },
    {
      "cell_type": "code",
      "source": [
        "#2. 문자 집합 만들기\n",
        "world_set = list(set(sentence))\n",
        "\n",
        "## 문제(1): 각 문자에 정수 인코딩 (공백도 하나의 원소로 포함)\n",
        "vocab = {c: i for i,c in enumerate(world_set)}"
      ],
      "metadata": {
        "id": "b9lkrKyZf8ie"
      },
      "execution_count": 3,
      "outputs": []
    },
    {
      "cell_type": "code",
      "source": [
        "print(world_set)"
      ],
      "metadata": {
        "colab": {
          "base_uri": "https://localhost:8080/"
        },
        "id": "qkmi_NpG2nQ0",
        "outputId": "35cfd549-3317-4c35-eb22-34dd8920552e"
      },
      "execution_count": 4,
      "outputs": [
        {
          "output_type": "stream",
          "name": "stdout",
          "text": [
            "['.', 'a', 'm', 'y', ',', 'f', 's', 't', ' ', 'k', 'l', 'n', 'r', 'i', 'h', 'b', 'p', 'u', 'c', 'o', \"'\", 'g', 'e', 'w', 'd', 'B']\n"
          ]
        }
      ]
    },
    {
      "cell_type": "code",
      "source": [
        "print(vocab)"
      ],
      "metadata": {
        "colab": {
          "base_uri": "https://localhost:8080/"
        },
        "id": "F_0we5Y-gYDq",
        "outputId": "1bf52782-901c-415a-a6b3-ba358ed86810"
      },
      "execution_count": 5,
      "outputs": [
        {
          "output_type": "stream",
          "name": "stdout",
          "text": [
            "{'.': 0, 'a': 1, 'm': 2, 'y': 3, ',': 4, 'f': 5, 's': 6, 't': 7, ' ': 8, 'k': 9, 'l': 10, 'n': 11, 'r': 12, 'i': 13, 'h': 14, 'b': 15, 'p': 16, 'u': 17, 'c': 18, 'o': 19, \"'\": 20, 'g': 21, 'e': 22, 'w': 23, 'd': 24, 'B': 25}\n"
          ]
        }
      ]
    },
    {
      "cell_type": "code",
      "source": [
        "#3. 문자 집합 크기 확인\n",
        "\n",
        "vocab_size = len(vocab)\n",
        "print('문자 집합 크기 : {}'.format(vocab_size))"
      ],
      "metadata": {
        "colab": {
          "base_uri": "https://localhost:8080/"
        },
        "id": "TpKupU6lgpfT",
        "outputId": "3b9d8627-f674-447e-9d0c-af0263c844ce"
      },
      "execution_count": 6,
      "outputs": [
        {
          "output_type": "stream",
          "name": "stdout",
          "text": [
            "문자 집합 크기 : 26\n"
          ]
        }
      ]
    },
    {
      "cell_type": "code",
      "source": [
        "#4. 하이퍼 파라미터 설정(자유롭게 수정해보세요!)\n",
        "\n",
        "hidden_size = vocab_size # 같아야 하는 것 확인!\n",
        "sequence_length = 10  # 너무 길거나 너무 짧게 잡으면 안됩니다!\n",
        "learning_rate = 0.01"
      ],
      "metadata": {
        "id": "wFDZJHSMg9In"
      },
      "execution_count": 7,
      "outputs": []
    },
    {
      "cell_type": "code",
      "source": [
        "#5. seqence 길이 단위 자르기\n",
        "\n",
        "# 데이터 구성을 위한 리스트\n",
        "x_data = []\n",
        "y_data = []\n",
        "\n",
        "## 문제(2): 반복문 내에서의 인덱싱을 사용하여 sequence_length 값 단위로 샘플을 잘라 데이터 만들기, y_str은 x_str은 한 칸씩 쉬프트된 sequnce\n",
        "## 아래 결과 코드를 보면 x와 y의 관계가 한칸 차이임을 알 수 있다.\n",
        "for i in range(0, len(sentence) - sequence_length):\n",
        "  x_str = sentence[i:i+sequence_length]\n",
        "  y_str = sentence[i+1:i+sequence_length+1]\n",
        "  print(i, x_str, \"->\", y_str)\n",
        "\n",
        "  # x_str과 y_str이 문자집합에 해당하는 인덱스를 각각 x_data, y_data에 append\n",
        "  x_data.append([vocab[c] for c in x_str])\n",
        "  y_data.append([vocab[d] for d in y_str])"
      ],
      "metadata": {
        "colab": {
          "base_uri": "https://localhost:8080/"
        },
        "id": "RbDcmJmghN7V",
        "outputId": "ed67a910-ab7c-45f3-ae11-82fc0a338d50"
      },
      "execution_count": 8,
      "outputs": [
        {
          "output_type": "stream",
          "name": "stdout",
          "text": [
            "0 Brick wall -> rick walls\n",
            "1 rick walls -> ick walls \n",
            "2 ick walls  -> ck walls a\n",
            "3 ck walls a -> k walls ar\n",
            "4 k walls ar ->  walls are\n",
            "5  walls are -> walls are \n",
            "6 walls are  -> alls are t\n",
            "7 alls are t -> lls are th\n",
            "8 lls are th -> ls are the\n",
            "9 ls are the -> s are ther\n",
            "10 s are ther ->  are there\n",
            "11  are there -> are there \n",
            "12 are there  -> re there f\n",
            "13 re there f -> e there fo\n",
            "14 e there fo ->  there for\n",
            "15  there for -> there for \n",
            "16 there for  -> here for a\n",
            "17 here for a -> ere for a \n",
            "18 ere for a  -> re for a r\n",
            "19 re for a r -> e for a re\n",
            "20 e for a re ->  for a rea\n",
            "21  for a rea -> for a reas\n",
            "22 for a reas -> or a reaso\n",
            "23 or a reaso -> r a reason\n",
            "24 r a reason ->  a reason \n",
            "25  a reason  -> a reason a\n",
            "26 a reason a ->  reason an\n",
            "27  reason an -> reason and\n",
            "28 reason and -> eason and \n",
            "29 eason and  -> ason and y\n",
            "30 ason and y -> son and yo\n",
            "31 son and yo -> on and you\n",
            "32 on and you -> n and you \n",
            "33 n and you  ->  and you m\n",
            "34  and you m -> and you mu\n",
            "35 and you mu -> nd you mus\n",
            "36 nd you mus -> d you must\n",
            "37 d you must ->  you must \n",
            "38  you must  -> you must n\n",
            "39 you must n -> ou must no\n",
            "40 ou must no -> u must not\n",
            "41 u must not ->  must not \n",
            "42  must not  -> must not t\n",
            "43 must not t -> ust not th\n",
            "44 ust not th -> st not thi\n",
            "45 st not thi -> t not thin\n",
            "46 t not thin ->  not think\n",
            "47  not think -> not think \n",
            "48 not think  -> ot think t\n",
            "49 ot think t -> t think th\n",
            "50 t think th ->  think tha\n",
            "51  think tha -> think that\n",
            "52 think that -> hink that \n",
            "53 hink that  -> ink that t\n",
            "54 ink that t -> nk that th\n",
            "55 nk that th -> k that the\n",
            "56 k that the ->  that the \n",
            "57  that the  -> that the b\n",
            "58 that the b -> hat the br\n",
            "59 hat the br -> at the bri\n",
            "60 at the bri -> t the bric\n",
            "61 t the bric ->  the brick\n",
            "62  the brick -> the brick \n",
            "63 the brick  -> he brick w\n",
            "64 he brick w -> e brick wa\n",
            "65 e brick wa ->  brick wal\n",
            "66  brick wal -> brick wall\n",
            "67 brick wall -> rick walls\n",
            "68 rick walls -> ick walls \n",
            "69 ick walls  -> ck walls a\n",
            "70 ck walls a -> k walls ar\n",
            "71 k walls ar ->  walls are\n",
            "72  walls are -> walls aren\n",
            "73 walls aren -> alls aren'\n",
            "74 alls aren' -> lls aren't\n",
            "75 lls aren't -> ls aren't \n",
            "76 ls aren't  -> s aren't t\n",
            "77 s aren't t ->  aren't th\n",
            "78  aren't th -> aren't the\n",
            "79 aren't the -> ren't ther\n",
            "80 ren't ther -> en't there\n",
            "81 en't there -> n't there \n",
            "82 n't there  -> 't there t\n",
            "83 't there t -> t there to\n",
            "84 t there to ->  there to \n",
            "85  there to  -> there to k\n",
            "86 there to k -> here to ke\n",
            "87 here to ke -> ere to kee\n",
            "88 ere to kee -> re to keep\n",
            "89 re to keep -> e to keep \n",
            "90 e to keep  ->  to keep u\n",
            "91  to keep u -> to keep us\n",
            "92 to keep us -> o keep us \n",
            "93 o keep us  ->  keep us o\n",
            "94  keep us o -> keep us ou\n",
            "95 keep us ou -> eep us out\n",
            "96 eep us out -> ep us out,\n",
            "97 ep us out, -> p us out, \n",
            "98 p us out,  ->  us out, b\n",
            "99  us out, b -> us out, bu\n",
            "100 us out, bu -> s out, but\n",
            "101 s out, but ->  out, but \n",
            "102  out, but  -> out, but r\n",
            "103 out, but r -> ut, but ra\n",
            "104 ut, but ra -> t, but rat\n",
            "105 t, but rat -> , but rath\n",
            "106 , but rath ->  but rathe\n",
            "107  but rathe -> but rather\n",
            "108 but rather -> ut rather \n",
            "109 ut rather  -> t rather i\n",
            "110 t rather i ->  rather in\n",
            "111  rather in -> rather in \n",
            "112 rather in  -> ather in t\n",
            "113 ather in t -> ther in th\n",
            "114 ther in th -> her in thi\n",
            "115 her in thi -> er in this\n",
            "116 er in this -> r in this \n",
            "117 r in this  ->  in this w\n",
            "118  in this w -> in this wa\n",
            "119 in this wa -> n this way\n",
            "120 n this way ->  this way \n",
            "121  this way  -> this way t\n",
            "122 this way t -> his way th\n",
            "123 his way th -> is way tha\n",
            "124 is way tha -> s way that\n",
            "125 s way that ->  way that \n",
            "126  way that  -> way that t\n",
            "127 way that t -> ay that th\n",
            "128 ay that th -> y that the\n",
            "129 y that the ->  that the \n",
            "130  that the  -> that the b\n",
            "131 that the b -> hat the br\n",
            "132 hat the br -> at the bri\n",
            "133 at the bri -> t the bric\n",
            "134 t the bric ->  the brick\n",
            "135  the brick -> the brick \n",
            "136 the brick  -> he brick w\n",
            "137 he brick w -> e brick wa\n",
            "138 e brick wa ->  brick wal\n",
            "139  brick wal -> brick wall\n",
            "140 brick wall -> rick walls\n",
            "141 rick walls -> ick walls \n",
            "142 ick walls  -> ck walls a\n",
            "143 ck walls a -> k walls ar\n",
            "144 k walls ar ->  walls are\n",
            "145  walls are -> walls are \n",
            "146 walls are  -> alls are t\n",
            "147 alls are t -> lls are th\n",
            "148 lls are th -> ls are the\n",
            "149 ls are the -> s are ther\n",
            "150 s are ther ->  are there\n",
            "151  are there -> are there \n",
            "152 are there  -> re there t\n",
            "153 re there t -> e there to\n",
            "154 e there to ->  there to \n",
            "155  there to  -> there to s\n",
            "156 there to s -> here to sh\n",
            "157 here to sh -> ere to sho\n",
            "158 ere to sho -> re to show\n",
            "159 re to show -> e to show \n",
            "160 e to show  ->  to show u\n",
            "161  to show u -> to show us\n",
            "162 to show us -> o show us \n",
            "163 o show us  ->  show us h\n",
            "164  show us h -> show us ho\n",
            "165 show us ho -> how us how\n",
            "166 how us how -> ow us how \n",
            "167 ow us how  -> w us how b\n",
            "168 w us how b ->  us how ba\n",
            "169  us how ba -> us how bad\n",
            "170 us how bad -> s how badl\n",
            "171 s how badl ->  how badly\n",
            "172  how badly -> how badly \n",
            "173 how badly  -> ow badly w\n",
            "174 ow badly w -> w badly we\n",
            "175 w badly we ->  badly we \n",
            "176  badly we  -> badly we w\n",
            "177 badly we w -> adly we wa\n",
            "178 adly we wa -> dly we wan\n",
            "179 dly we wan -> ly we want\n",
            "180 ly we want -> y we want \n",
            "181 y we want  ->  we want t\n",
            "182  we want t -> we want th\n",
            "183 we want th -> e want thi\n",
            "184 e want thi ->  want thin\n",
            "185  want thin -> want thing\n",
            "186 want thing -> ant things\n",
            "187 ant things -> nt things.\n"
          ]
        }
      ]
    },
    {
      "cell_type": "code",
      "source": [
        "# 출력해서 한 칸씩 쉬프트된 것 확인하기!\n",
        "\n",
        "print(x_data[0])\n",
        "print(y_data[0])"
      ],
      "metadata": {
        "colab": {
          "base_uri": "https://localhost:8080/"
        },
        "id": "XVFlILiOixdc",
        "outputId": "eaf7bd62-725d-41fa-fb2a-d7cd38165ac7"
      },
      "execution_count": 9,
      "outputs": [
        {
          "output_type": "stream",
          "name": "stdout",
          "text": [
            "[25, 12, 13, 18, 9, 8, 23, 1, 10, 10]\n",
            "[12, 13, 18, 9, 8, 23, 1, 10, 10, 6]\n"
          ]
        }
      ]
    },
    {
      "cell_type": "code",
      "source": [
        "##6. 입력 시퀀스에 대해 원핫인코딩 수행\n",
        "\n",
        "## 문제(4) : x_data를 원핫인코딩 > numpy의 eye를 쓸 수 있지 않을까?\n",
        "x_one_hot = [np.eye(vocab_size)[x] for x in x_data]\n",
        "\n",
        "##7. 입력 데이터, 레이블데이터 텐서로 변환\n",
        "\n",
        "## 문제(5) : x_one_hot과 y_data 텐서로 변환 : 둘 다 같은 형식의 텐서로 변환하면 될까?? (FloatTensor, LongTesor 중 맞는 것은?)\n",
        "X = torch.FloatTensor(x_one_hot)\n",
        "Y = torch.LongTensor(y_data)"
      ],
      "metadata": {
        "id": "5lPes1dvjlNb",
        "colab": {
          "base_uri": "https://localhost:8080/"
        },
        "outputId": "280b5aa2-3acf-4193-eb13-2f486f013d6c"
      },
      "execution_count": 10,
      "outputs": [
        {
          "output_type": "stream",
          "name": "stderr",
          "text": [
            "<ipython-input-10-a1581d86cfe7>:9: UserWarning: Creating a tensor from a list of numpy.ndarrays is extremely slow. Please consider converting the list to a single numpy.ndarray with numpy.array() before converting to a tensor. (Triggered internally at ../torch/csrc/utils/tensor_new.cpp:230.)\n",
            "  X = torch.FloatTensor(x_one_hot)\n"
          ]
        }
      ]
    },
    {
      "cell_type": "code",
      "source": [
        "##8. 크기 확인\n",
        "print('훈련 데이터의 크기 : {}'.format(X.shape))\n",
        "print('레이블의 크기 : {}'.format(Y.shape))"
      ],
      "metadata": {
        "colab": {
          "base_uri": "https://localhost:8080/"
        },
        "id": "lMZzZlaymMk8",
        "outputId": "7acdffe7-e947-4660-9093-1f9cd43231e7"
      },
      "execution_count": 11,
      "outputs": [
        {
          "output_type": "stream",
          "name": "stdout",
          "text": [
            "훈련 데이터의 크기 : torch.Size([188, 10, 26])\n",
            "레이블의 크기 : torch.Size([188, 10])\n"
          ]
        }
      ]
    },
    {
      "cell_type": "code",
      "source": [
        "##9.원핫인코딩 결과 샘플 확인하기\n",
        "print(X[0])"
      ],
      "metadata": {
        "colab": {
          "base_uri": "https://localhost:8080/"
        },
        "id": "knx1DE_AmSFB",
        "outputId": "c7cae79e-87e4-4a2a-ddb9-7aacd32f8479"
      },
      "execution_count": 12,
      "outputs": [
        {
          "output_type": "stream",
          "name": "stdout",
          "text": [
            "tensor([[0., 0., 0., 0., 0., 0., 0., 0., 0., 0., 0., 0., 0., 0., 0., 0., 0., 0.,\n",
            "         0., 0., 0., 0., 0., 0., 0., 1.],\n",
            "        [0., 0., 0., 0., 0., 0., 0., 0., 0., 0., 0., 0., 1., 0., 0., 0., 0., 0.,\n",
            "         0., 0., 0., 0., 0., 0., 0., 0.],\n",
            "        [0., 0., 0., 0., 0., 0., 0., 0., 0., 0., 0., 0., 0., 1., 0., 0., 0., 0.,\n",
            "         0., 0., 0., 0., 0., 0., 0., 0.],\n",
            "        [0., 0., 0., 0., 0., 0., 0., 0., 0., 0., 0., 0., 0., 0., 0., 0., 0., 0.,\n",
            "         1., 0., 0., 0., 0., 0., 0., 0.],\n",
            "        [0., 0., 0., 0., 0., 0., 0., 0., 0., 1., 0., 0., 0., 0., 0., 0., 0., 0.,\n",
            "         0., 0., 0., 0., 0., 0., 0., 0.],\n",
            "        [0., 0., 0., 0., 0., 0., 0., 0., 1., 0., 0., 0., 0., 0., 0., 0., 0., 0.,\n",
            "         0., 0., 0., 0., 0., 0., 0., 0.],\n",
            "        [0., 0., 0., 0., 0., 0., 0., 0., 0., 0., 0., 0., 0., 0., 0., 0., 0., 0.,\n",
            "         0., 0., 0., 0., 0., 1., 0., 0.],\n",
            "        [0., 1., 0., 0., 0., 0., 0., 0., 0., 0., 0., 0., 0., 0., 0., 0., 0., 0.,\n",
            "         0., 0., 0., 0., 0., 0., 0., 0.],\n",
            "        [0., 0., 0., 0., 0., 0., 0., 0., 0., 0., 1., 0., 0., 0., 0., 0., 0., 0.,\n",
            "         0., 0., 0., 0., 0., 0., 0., 0.],\n",
            "        [0., 0., 0., 0., 0., 0., 0., 0., 0., 0., 1., 0., 0., 0., 0., 0., 0., 0.,\n",
            "         0., 0., 0., 0., 0., 0., 0., 0.]])\n"
          ]
        }
      ]
    },
    {
      "cell_type": "code",
      "source": [
        "##10. 레이블 데이터 샘플 확인하기\n",
        "print(Y[0])"
      ],
      "metadata": {
        "colab": {
          "base_uri": "https://localhost:8080/"
        },
        "id": "6pWDiH1SmYT_",
        "outputId": "470e91bf-c2b8-4ca1-a372-c09858c3a500"
      },
      "execution_count": 13,
      "outputs": [
        {
          "output_type": "stream",
          "name": "stdout",
          "text": [
            "tensor([12, 13, 18,  9,  8, 23,  1, 10, 10,  6])\n"
          ]
        }
      ]
    },
    {
      "cell_type": "code",
      "source": [
        "##11. RNN 모델 구현\n",
        "\n",
        "##문제(6) : 기본 pytorch 인자 넣기 연습 + forward 채우기\n",
        "### 조건 : rnn layer 2개 쌓기 + 마지막은 fc layer\n",
        "### batch_first 설정 필요할까? (유튜브 강의 참고)\n",
        "\n",
        "class Net(torch.nn.Module):\n",
        "  def __init__(self, input_dim, hidden_dim, layers):\n",
        "    super(Net, self).__init__()\n",
        "    self.rnn = torch.nn.RNN(input_size=input_dim,hidden_size=hidden_dim,batch_first=True)\n",
        "    self.fc = torch.nn.Linear(hidden_dim,hidden_dim,bias=True)\n",
        "  \n",
        "  def forward(self, x):\n",
        "    x,_status = self.rnn(x)\n",
        "    x=self.fc(x)\n",
        "    return x"
      ],
      "metadata": {
        "id": "-Ww22xu8mfUc"
      },
      "execution_count": 14,
      "outputs": []
    },
    {
      "cell_type": "code",
      "source": [
        "net = Net(vocab_size, hidden_size, 2)"
      ],
      "metadata": {
        "id": "No2GRvTpnLBl"
      },
      "execution_count": 15,
      "outputs": []
    },
    {
      "cell_type": "code",
      "source": [
        "##12. loss function\n",
        "criterion = torch.nn.CrossEntropyLoss()\n",
        "\n",
        "##13. optimizer\n",
        "optimizer = optim.Adam(net.parameters(), learning_rate)"
      ],
      "metadata": {
        "id": "9-zuJLeUnQLB"
      },
      "execution_count": 16,
      "outputs": []
    },
    {
      "cell_type": "code",
      "source": [
        "##14. 출력 크기 점검\n",
        "outputs = net(X)\n",
        "print(outputs.shape)"
      ],
      "metadata": {
        "colab": {
          "base_uri": "https://localhost:8080/"
        },
        "id": "z-RxRaiHnh9U",
        "outputId": "64ef0080-24ab-4ed8-8fe3-4fd70453513c"
      },
      "execution_count": 17,
      "outputs": [
        {
          "output_type": "stream",
          "name": "stdout",
          "text": [
            "torch.Size([188, 10, 26])\n"
          ]
        }
      ]
    },
    {
      "cell_type": "code",
      "source": [
        "##15. Training 시작\n",
        "\n",
        "for i in range(100):\n",
        "    optimizer.zero_grad()\n",
        "    outputs = net(X)\n",
        "    ##문제(7) : outputs, Y 형태 그대로 넣으면 안되죠. view 함수를 이용해 loss값을 계산해봅시다.\n",
        "    loss = criterion(outputs.view(-1, vocab_size), Y.view(-1))\n",
        "    loss.backward()\n",
        "    optimizer.step()\n",
        "\n",
        "    #16. 예측결과 확인\n",
        "    results = outputs.argmax(dim=2)\n",
        "    predict_str = \"\"\n",
        "    for j, result in enumerate(results):\n",
        "        if j == 0: # 처음에는 예측 결과를 전부 가져오기\n",
        "            predict_str += ''.join([world_set[t] for t in result])\n",
        "        else: # 그 다음에는 마지막 글자만 반복 추가\n",
        "            predict_str += world_set[result[-1]]\n",
        "\n",
        "    print(predict_str)"
      ],
      "metadata": {
        "colab": {
          "base_uri": "https://localhost:8080/"
        },
        "id": "uxxrxCd2nwoo",
        "outputId": "d4daa80d-5caa-4c2c-ed3a-98ef107a2e09"
      },
      "execution_count": 18,
      "outputs": [
        {
          "output_type": "stream",
          "name": "stdout",
          "text": [
            "e'iiiiiieiiiiiiiii'iiiiiiiiiiiieiiiii'ii'iiiiiiii'iiiiiiiiiiieiii'iiiiiiiiieiiiiiiiiiiii'iiiiiii'iiiiiiiiiiiiiiiiiei'iiiiiiiiiiiiiiiiieiii'iiiiiiiiieiiiiiiiii'iiiiiiiieiiiiiieiiiieiiiiiiiiiiiiiii'e\n",
            "e'eeeereeeeeeereeeeireeeieeeieeeeeeeeee eeieeeeeeeeeeeeeeeeeeeeeeeerieeeereeeeeeereeeeeeeireeeeeeeeeeeieeeieeeeeieeeeieeeeeeeeireeeeeeeeeeeerieeeereeeeeeereeeeireeeeeeeeeeeeeerereee eueereeeeeeeeee\n",
            "eeeeeereeeeetereeerereeeeeteereeeeeteee eeeeeeeeeeeeeeeeeeeeeeeeerereeeeereeeeetereeeeeerereeeeeereeeeeeee ereeeeeeereeeeeeeeeere eeeeeeeerereeeeereeeeetereeerereeeeeeeeeeeeeerertee ereereeeeeeeeee\n",
            "eeeeeereeeeetereterereteeeteerteeeeteee t e eeeeeeeeteeeeeeeteeterere eeereeeeetereeeeterereteteereeteeeee erte eteereeeeeteeeere eeeteeterere eeereeeeetereterereteteee eteeterertte treereeeeteeeee\n",
            "ee eeertt  eterttererete tttertt  ttett t t e tttettte  eetete terere teertt  eterettttereretetter ttett t t tt etetrett tte  ert ttete terere teertt  eterttereretettet ttette trtt  tt ttt ttte   e\n",
            "ee t tttt  tte tttr  ttt tttt ttt tt tt t t   tttttttt  ttttttttertte t tttt  tte  tttttre tt tt   tt tt t t tttttttrett ttt  ttt tttttttertte t tttt  tte tttr  tt tttt tt ttt tttt  tt ttt ttte   t\n",
            " e t ttt   tt  ttt   tt  ttt  t   tt tt t t   tt  tttt  ttttttttt tt  t ttt   tt   ttttt   tt tt   t  tt t t  tttttt  t  ttt  ttt tttttttt tt  t ttt   tt  ttt   tt tttt t  tt  t tt  tt ttt tttt    \n",
            " e    a    tt  ttt   tt   tt  t   tt t  t t        ttt    ttt  tt t      a    tt      tt   tt t       t    t       t     ttt  t   t tt  tt t      a    tt  ttt   tt t t     tt    tt  t  t     tt    \n",
            "                                                                                                                                                                                      t              \n",
            "                                                                                                                                                                                                     \n",
            "                                                                                                                                                                                                     \n",
            "                                                                                                                                                                                                     \n",
            "                                                                                                                                                                                                     \n",
            "                                                                                                                                                                                                     \n",
            "                                                                                                                                                                                                     \n",
            "                                                                                                                                                                                                     \n",
            "                he e                                he    he        e                       h                              e        e        e              he e  h                             e    \n",
            " e    h      e the e ehe                            he    her  h   he e eh      e     he e ehe             t       e e    he       he   he  he e eh      e the e ehe                  t        he    \n",
            " e    he   the there ehe the          t    h       the e ehere he the e ehe   the     he e ehe e   t  t    t    h  e e e the      there he the e ehe   the there ehe  o     to        th  h    he    \n",
            " e t the   the there ehe the          t t the h    the e there herthe e ehe   the     here ehe e   t  t    t    h  ere e the   a  there herthe e ehe   the there ehe to     to        th  h    he e  \n",
            " e t the   the there eoe the      the t t the h    the e there herthe e the   the     here ehe     th th   th  th  ere e the   a  there herthe e the   the there ehe to     to    t   th th   the e  \n",
            " e t the   the there toe the  t   the t t the ht   the   ther  herthe e the   the t   here the     th th   th  th  ere t the  th  ther  herthe e the   the there the te   h to   ht   th th   the    \n",
            " e t the   the the e toe the  t   the t t  h  hth  the   ther  he the k the   the t  the e the h   th th   th  th  e e t the  thl ther  he the k the   the the e the he   h th   ht   th th   the    \n",
            " e t the   the the e toe  he  t   the t t  h  hth  the   the   he the k thl   the   hthe e the h   th th   th  th  e e h the  thl ther  he the k thl   the the e the he   h th   ht   th th   the    \n",
            " e k thl   the the e to   he  t   th  t t  h  hth  the   the   he the k thl   the   hthe e the h   th th   th  th    e h  he  thl ther  he the k thl   the the e the he   h th   at   th th   the    \n",
            " e k tall  the the e to   he  t   th  t t  h  hth  the   the   he the k tall  the   hthe e the h   th th   th  th    e h  he  tal ther  he the k tall  the the e the he   h th   atl  ta ta   the    \n",
            " e k tall  tae the e to   ae  t   th    t  h  hth  the   the   he tre k tall  tae   hthe e the h   th th   ta  th    e h  hes  al ther  he tre k tall  tae the e the her  h ta   arl  ta ta   the    \n",
            " e k tall  tae the e to   ae  t   ta    t  h  hth  the   ther  he tre k tall  tae   hthe e the     th th   ta   h    e h  hen  al ther  he tre k tall  tae the e the her  h ta   aal  ta ta   the    \n",
            " e k tall  tae there to   at  t   ta    t  h  hthe thes  ther  he tre k tall  tae   hthe e thet    th th   ta   an   e h then  al ther  he tre k tall  tae there thether  h ta   aal  ta ta   thes   \n",
            " e k tall  tae there to   at  t   ta    t  h  hth  thes  ther  hertre k tall  tae   hthe e thet    th th   ta   an  re n then  al ther  hertre k tall  tae there thether  h ta   aal  ta tan  thes   \n",
            " e k tall  tae there to   at  t   ta    t  u  hth  thes  ther  hertre k tall  tae   hthere theth   th th   ta  tan ere n then  al ther  hertre k tall  tae there thether  h ta   arls ta tan  thes   \n",
            " enk tall  tae there to   at  t   ta  t t  u  hth  then  ther  hertre k tall  tae   hthere th th   th th   ta  tan ere n then tal ther  hertre k tall  tae there thether  h tar  arls ta tan  thes   \n",
            "renk tall  tae there to   ate t   ta  t t  u  hth  then  ther  hertre k tanl  tae    there th th   th th   ta  tanhere n then tal ther  hertre k tanl  tae there th ther  a tar  arls ta tan  then   \n",
            "renk talls are there to  tate t   ta  t t tu  hth  then  ther  hertreck tanls are t  there th ta   th th   ta  tanhere n then tal ther  hertreck tanls are there th ther ta tar tarls ta tan  then   \n",
            "renk talls are there to  tate t   ta  t t tu  hth  then  ther  hertreck talls are t  there th ta   th th h ta  tanhere n then tal ther thertreck talls are there th ther ts tar tanls ta tan  then   \n",
            "renk talls are there tot tate t   ta  t t tu  hth  then  ther thertreck talls are t  there th ta   ts th h ta  tanhere n then tal ther thertreck talls are there th ther rs ta  tanls ta tan  then   \n",
            "reck talls are there tot tate t   ta  t u tus hth  then  ther thertreck talls are ta there th ta   ts th h ta  tanhere n then tal ther thertreck talls are there th thet rs tat tanls ta tal  thenk  \n",
            "reck talls are there tot tate t   ant tou tus hth  then  thet thertreck talls are ta there th ta   ts th h tan tanhere n then tal ther thertreck talls are there th thet rs tat tanls ta tal  thenk  \n",
            "reck talls are there tot tate t   ant tou tus hth  then  thet thertreck talls are ta there th ta   us ah h tan tanhere n then aal thet thertreck talls are there th thet rs aat tanls ta tal  thenk  \n",
            "reck talls are the e tot rate t   ant tou tus hto  then  thet thertreck talls are t  there thtth   us au   tan tanhere n then aal thet thertreck talls are the e thtthet rs aat tarls tartal  thenk  \n",
            "reck talls are there tot rate t   ant tou tus hto  then  thet thertreck talls are t  there thtth   us au   tan tanhere n then aal thet thertreck talls are there thtthet rs aot tarls tartal  thenk  \n",
            "reck talls are there tou rate t   ant tou tus hto  then  thet thertreck talls are t  there thtth r us au   tan tanhere n then aal thet thertreck talls are there thtthet rs aot tarls tartal  thenk  \n",
            "reck talls are there tou rare t   anr tou tus hto  then  thet thertreck talls are t  there tht h r us au   tan tanhere n then aal thet thertreck talls are there tht het rs aot tarls tartal  thenk  \n",
            "reck talls are there tou rare t   anr tou kus hto  then  thet thertreck talls are t  there thtth r us au   tan tanhere n then aal thet thertreck talls are there thtthet rs aot tarls tartal  thenk  \n",
            "reck talls are there tou rnre t   and tou kus hto  then  thet thertreck talls are t  there thtth r us au   tan tanhere n then aal thet thertreck talls are there thttheu rs aot tarls tartal  thenk  \n",
            "reck talls are there tou rnre t   and tou kus hto  then  thet thertreck talls are t  there thtth r us au   tun tanhere n then aal thet thertreck talls are there thttheu ts aot tarls tartal  thenk  \n",
            "reck talls are there tou rnre t   and tou kus hto  thenk thet thertreck talls are t  there th th r us au   tun tanhere n then aal thet thertreck talls are there th theu ts aot tarls wartall thenk  \n",
            "reck talls are there tou rnre t   and tou kus hto  thenk thet thertreck talls are t  there th th r us au   tun tanhere n then aal thet thertreck talls are there th thau ws aot tarls wartall thenks \n",
            "reck talls are there tou rnre t   and tou kus hto  thenk thet thertreck talls are t  there th te r us au   tun tanhere n then aal thet thertreck talls are there th thaw ws aot tarls wartall thenks \n",
            "reck talls are there tou rnre to  and tou kus hto  thenk thet therbreck talls are t  there th te r us au   tut tanhere n then aal thet therbreck talls are there th thaw ws aot tarls wartall thenks \n",
            "reck talls are there tor rnre ton and tou kus hto  thenk thet therbreck walls are t  there th te r us au   tut tanhere n then tal thet therbreck walls are there th thaw ws aot tarls wartall thenks \n",
            "reck walls are there tor rnre ton and tou kus htot thenk thet therbrick walls are t  there th te r us au   tut tanhere n then tal thet therbrick walls are there th thaw ws aot tarls wartall thenks \n",
            "reck walls are there tor rnre ton and tou kus htot thenk thet therbrick walls are t  there th te r us ou   trt tanhere n then wal whet therbrick walls are there th thaw ws oot tarls wartall thenks \n",
            "reck walls are there tor rnre ton and tou kus htot thenk thet therbrick walls are t  there th te r us ou   trt tathere n then wal whet therbrick walls are there th thaw us oot uarls wartall thenks \n",
            "reck walls are there tor rnre ton and tou kus htot thenk thet therbrick walls are tt there th te r us ou , trt tathere n then wal whet therbrick walls are there th thaw us oot uadls ra tall thenks \n",
            "reck walls are there tor rnre ton tnd tou kus htot thenk thet therbrick walls are tt there th te r us out, but tathere n then wal whet therbrick walls are there th thaw us oow uadls ra tall thenks \n",
            "reck walls are there tor rnre ton tnd tou kus htot thenk whet therbrick walls are tt there th ke r us out, but tathere n then wal whet therbrick walls are there th khaw us oow uadls ra tall thenks \n",
            "reck walls are there tor rnre ton and tou mus htot thenk whet therbrick walls are tt there th ke r us out, but tathere n then wal whet therbrick walls are there th khaw us oow uadls re tall thenks \n",
            "reck walls are there tor rnre ton and tou mus htot thenk whet therbrick walls are tt there th keer us out, but tathere n then wal whet therbrick walls are there th khaw us oow uadls re tall thenks \n",
            "rick walls are there tor rnre ton and tou mus  not thenk whet therbrick walls are tt there th keer us out, but tathere n thes wal whet therbrick walls are there th khaw us oow uadly re tanl thenks \n",
            "rick walls are there tor rnre ton and tou must not thenk whet therbrick walls are tt there th keer us out, but tathere n thes wal what therbrick walls are there th khow us oow uadly re tanl thenks \n",
            "rick walls are there tor anre ton and tou must not thenk whet therbrick walls are tt there th kee  us out, but tatherean thes wal what therbrick walls are there th khow us oow uadly re tanl thenks \n",
            "rick walls are there tor anre ton and tou must not thenk whet therbrick walls are tt there th kee  us out, but tatherean thes wal that the brick walls are there th khow us oow uadly re tanl thenks,\n",
            "rick walls are there tor anre ton and tou must not thenk whet the brick walls are tt there th kee  us out, but tatherean thes wal that the brick walls are there th khow us oow uadly re tanl thenks,\n",
            "rick walls are there tor anre ton and tou must not thenk whet the brick walls are tt there th kee  us out, but tatherean thes wal that the brick walls are there th khow us oow uadly we tanl thenks,\n",
            "rick walls are there tor anre ton and tou must not thenk whet the brick walls are tt there th kee  us out, but tatherean thes wal that the brick walls are there th khow us oow uadly we tanl thenks,\n",
            "rick walls are there tor anre ton and tou must not thenk whet the brick walls are tt there th kee  us out, but tatherean thes wal that the brick walls are there th khow us oow uadly we tanl thenks,\n",
            "rick walls are there tor anreaton and tou must not thenk whet the brick walls are tt there th kee  us out, but tatherean thes wal that the brick walls are there th khow us oow uadly we tand thenks,\n",
            "rick walls are there tor anreaton and tou must not thenk whet the brick walls are tt there th kee  us out, but tatherean this wal that the brick walls are there th khow us oow uadly we tand thenks,\n",
            "rick walls are there tor anreaton and tou must not thenk whet the brick walls are tt there th kee  us out, but tatherean this wal that the brick walls are there th khow us how uadly we tand thenks,\n",
            "rick walls are there tor a reaton and tou must not thenk whet the brick walls are tt there th kee  us out, but ratherean this wal that the brick walls are there th khow us how uadly we tand thenks,\n",
            "rick walls are there tor a reaton and tou must not thenk whet the brick walls are tt there th keep us out, but ratherean this wal that the brick walls are there th khow us how uadly we tand thenks,\n",
            "rick walls are there tor a reaton and tou must not thenk whet the brick walls are tt there th keep us out, but ratherean this wal that the brick walls are there th khow us how uadly we tand thenks,\n",
            "rick walls are there tor a reaton and tou must not thenk whet the brick walls are 't there th keep us out, but ratherean this wal that the brick walls are there th khow us how uadly we tand thenks,\n",
            "rick walls are there tor a reaton and you must not thenk whet the brick walls are 't there th keep us out, but ratherean this wal that the brick walls are there th khow us how uadly we tand thenks,\n",
            "rick walls are there tor a reaton and you bust not thenk whet the brick walls are 't there th keep us out, but ratherean this wal that the brick walls are there th khow us how uadly we tand thenks,\n",
            "rick walls are there tor a reaton and you must not thenk whet the brick walls are 't there to keep us out, but ratherean this wal that the brick walls are there th khow us how uadly we tant thinks,\n",
            "rick walls are there tor a reaton and you must not thenk what the brick walls are 't there to keep us out, but ratherean this wal that the brick walls are there th khow us how badly we tant thinks,\n",
            "rick walls are there tor a reaton and you must not thenk what the brick walls are 't there to keep us out, but ratherean this wal that the brick walls are there th khow us how badly we tant thinks,\n",
            "rick walls are there tor a reaton and you must not thenk what the brick walls are 't there to keep us out, but ratherean this wal that the brick walls are there th khow us how badly we tant thinks,\n",
            "rick walls are there tor a reaton and you must not thenk that the brick walls are 't there to keep us out, but ratherean this wal that the brick walls are there th khow us how badly we tant thinks,\n",
            "rick walls are there tor a reaton and you must not thenk that the brick walls are 't there to keep us out, but ratherean this wal that the brick walls are there th khow us how badly we tant thinks,\n",
            "rick walls are there tor a reaton and you must not thenk that the brick walls are 't there to keep us out, but ratherean this wal that the brick walls are there th khow us how badly we tant thinks,\n",
            "rick walls are there tor a reaton and you must not thenk that the brick walls are 't there to keep us out, but ratherean this wal that the brick walls are there th khow us how badly we tant thinks,\n",
            "rick walls are there tor a reaton and you must not thenk that the brick walls are 't there to keep us out, but ratherean this wal that the brick walls are there to khow us how badly we tant thinks,\n",
            "rick walls are there tor a reaton and you must not thenk that the brick walls are 't there to keep us out, but ratherean this wal that the brick walls are there to khow us how badly we tant thinks,\n",
            "rick walls are there tor a reason and you must not thenk that the brick walls are 't there to keep us out, but ratherean this wal that the brick walls are there to khow us how badly we tant thinks,\n",
            "rick walls are there tor a reason and you must not think that the brick walls are 't there to keep us out, but ratherean this wal that the brick walls are there to khow us how badly we want thinks,\n",
            "rick walls are there tor a reason and you must not think that the brick walls are 't there to keep us out, but ratherean this wal that the brick walls are there to khow us how badly we want thinks,\n",
            "rick walls are there tor a reason and you must not think that the brick walls are 't there to keep us out, but ratherein this way that the brick walls are there to khow us how badly we want thinks,\n",
            "rick walls are there tor a reason and you must not think that the brick walls are 't there to keep us out, but ratherein this way that the brick walls are there to khow us how badly we want thinks,\n",
            "rick walls are there tor a reason and you must not think that the brick walls are 't there to keep us out, but ratherein this way that the brick walls are there to khow us how badly we want thinks,\n",
            "rick walls are there tor a reason and you must not think that the brick walls are 't there to keep us out, but ratherein this way that the brick walls are there to khow us how badly we want thinks,\n",
            "rick walls are there tor a reason and you must not think that the brick walls are 't there to keep us out, but ratherein this way that the brick walls are there to khow us how badly we want thinks,\n",
            "rick walls are there tor a reason and you must not think that the brick walls are 't there to keep us out, but rather in this way that the brick walls are there to khow us how badly we want thinks,\n",
            "rick walls are there tor a reason and you must not think that the brick walls are 't there to keep us out, but rather in this way that the brick walls are there to khow us how badly we want thinks,\n",
            "rick walls are there tor a reason and you must not think that the brick walls are 't there to keep us out, but rather in this way that the brick walls are there to khow us how badly we want thinks,\n",
            "rick walls are there tor a reason and you must not think that the brick walls are 't there to keep us out, but rather in this way that the brick walls are there to khow us how badly we want thinks,\n",
            "rick walls are there tor a reason and you must not think that the brick walls are 't there to keep us out, but rather in this way that the brick walls are there to khow us how badly we want thinks,\n",
            "rick walls are there tor a reason and you must not think that the brick walls are 't there to keep us out, but rather in this way that the brick walls are there to khow us how badly we want thinks,\n"
          ]
        }
      ]
    },
    {
      "cell_type": "code",
      "source": [
        "predict_str"
      ],
      "metadata": {
        "colab": {
          "base_uri": "https://localhost:8080/",
          "height": 54
        },
        "id": "8qUkbiw2t0Il",
        "outputId": "85dbe23c-447d-4bba-cce8-8fe357db576b"
      },
      "execution_count": 19,
      "outputs": [
        {
          "output_type": "execute_result",
          "data": {
            "text/plain": [
              "\"rick walls are there tor a reason and you must not think that the brick walls are 't there to keep us out, but rather in this way that the brick walls are there to khow us how badly we want thinks,\""
            ],
            "application/vnd.google.colaboratory.intrinsic+json": {
              "type": "string"
            }
          },
          "metadata": {},
          "execution_count": 19
        }
      ]
    },
    {
      "cell_type": "markdown",
      "source": [
        "결과가 어떤가요?? 마지막 에폭의 문장이 그럴싸한가요?"
      ],
      "metadata": {
        "id": "PkIzDTdyvTHz"
      }
    },
    {
      "cell_type": "markdown",
      "source": [
        "## Task2\n",
        "\n",
        "위 sentence는 제가 임의로 생성한 문장들입니다.\n",
        "\n",
        "마음에 드시는 문구 가져오셔서 문장이 어떻게 생성되는지 확인해보세요! \n",
        "\n",
        "영어가 아닌 한국어로 시도해보는 것도 좋겠죠? \n",
        "\n",
        "수정이 많이 필요(토큰화 등) 할 수 있으나 한번 시도해보시는 것 권장드립니다 :)\n",
        "\n",
        "위 베이스라인은 어디든 수정하셔도 좋고 조금 더 자연스러운 문장이 나올 수 있게 다양한 시도를 해보세요!\n",
        "\n",
        "조건 : 문장 3개 이상, 연결성이 있는 문장을 \" \" 으로 구분하여 ( )에 넣기\n",
        "\n",
        "https://sputnik-kr.tistory.com/239 참조"
      ],
      "metadata": {
        "id": "kN1zL8Dpvane"
      }
    },
    {
      "cell_type": "code",
      "source": [
        "#형태소 분석을 위한 konlpy를 설치\n",
        "!pip install konlpy"
      ],
      "metadata": {
        "colab": {
          "base_uri": "https://localhost:8080/"
        },
        "id": "ByrPfHH09LMQ",
        "outputId": "ed5bd44b-6aa0-48cb-aa38-979258b05cdf"
      },
      "execution_count": 47,
      "outputs": [
        {
          "output_type": "stream",
          "name": "stdout",
          "text": [
            "Looking in indexes: https://pypi.org/simple, https://us-python.pkg.dev/colab-wheels/public/simple/\n",
            "Requirement already satisfied: konlpy in /usr/local/lib/python3.8/dist-packages (0.6.0)\n",
            "Requirement already satisfied: lxml>=4.1.0 in /usr/local/lib/python3.8/dist-packages (from konlpy) (4.9.2)\n",
            "Requirement already satisfied: numpy>=1.6 in /usr/local/lib/python3.8/dist-packages (from konlpy) (1.21.6)\n",
            "Requirement already satisfied: JPype1>=0.7.0 in /usr/local/lib/python3.8/dist-packages (from konlpy) (1.4.1)\n",
            "Requirement already satisfied: packaging in /usr/local/lib/python3.8/dist-packages (from JPype1>=0.7.0->konlpy) (23.0)\n"
          ]
        }
      ]
    },
    {
      "cell_type": "code",
      "source": [
        "sentence = (\"오늘 아침 새로운 원두가 회사에 들어왔다.\"\n",
        "            \"새 원두로 내린 커피는 향이 진했고 맛있어 보였다. 그러나\"\n",
        "            \"나는 커피를 잘 못 마시는 사람이라서 한 입만 먹었다.\")\n",
        "    "
      ],
      "metadata": {
        "id": "IKp-lKrjvXR9"
      },
      "execution_count": 36,
      "outputs": []
    },
    {
      "cell_type": "code",
      "source": [
        "#한국어 형태소 분석기로 문장 토큰화 \n",
        "from konlpy.tag import *\n",
        "okt = Okt()  \n",
        "token = okt.morphs(''.join(sentence))  \n",
        "print(token)"
      ],
      "metadata": {
        "colab": {
          "base_uri": "https://localhost:8080/"
        },
        "id": "2IXvISZY9PHa",
        "outputId": "aca0f6f1-d17f-4305-8799-1502c0a2c448"
      },
      "execution_count": 55,
      "outputs": [
        {
          "output_type": "stream",
          "name": "stdout",
          "text": [
            "['오늘', '아침', '새로운', '원두', '가', '회사', '에', '들어왔다', '.', '새', '원두', '로', '내린', '커피', '는', '향', '이', '진했고', '맛있어', '보였다', '.', '그러나나는', '커피', '를', '잘', '못', '마시는', '사람', '이라서', '한', '입', '만', '먹었다', '.']\n"
          ]
        }
      ]
    },
    {
      "cell_type": "code",
      "source": [
        "vocab = {c: i for i,c in enumerate(token)}\n",
        "print(vocab)"
      ],
      "metadata": {
        "colab": {
          "base_uri": "https://localhost:8080/"
        },
        "id": "OVf0XuuI9PVN",
        "outputId": "8334ca53-0ce2-4227-9bf4-b2d1772b7933"
      },
      "execution_count": 66,
      "outputs": [
        {
          "output_type": "stream",
          "name": "stdout",
          "text": [
            "{'오늘': 0, '아침': 1, '새로운': 2, '원두': 10, '가': 4, '회사': 5, '에': 6, '들어왔다': 7, '.': 33, '새': 9, '로': 11, '내린': 12, '커피': 22, '는': 14, '향': 15, '이': 16, '진했고': 17, '맛있어': 18, '보였다': 19, '그러나나는': 21, '를': 23, '잘': 24, '못': 25, '마시는': 26, '사람': 27, '이라서': 28, '한': 29, '입': 30, '만': 31, '먹었다': 32}\n"
          ]
        }
      ]
    },
    {
      "cell_type": "code",
      "source": [
        "#3. 문자 집합 크기 확인\n",
        "\n",
        "vocab_size = len(vocab)\n",
        "print('문자 집합 크기 : {}'.format(vocab_size))"
      ],
      "metadata": {
        "colab": {
          "base_uri": "https://localhost:8080/"
        },
        "id": "wGcSwYlc-qgk",
        "outputId": "c36c4923-633a-4a69-b383-cc1b2002d1af"
      },
      "execution_count": 58,
      "outputs": [
        {
          "output_type": "stream",
          "name": "stdout",
          "text": [
            "문자 집합 크기 : 30\n"
          ]
        }
      ]
    },
    {
      "cell_type": "code",
      "source": [
        "def one_hot_encoding(word, vocab):\n",
        "  one_hot_vector = [0]*(len(vocab))\n",
        "  index = vocab[word]\n",
        "  one_hot_vector[index] = 1\n",
        "  return one_hot_vector"
      ],
      "metadata": {
        "id": "9FqjmKD1rAg5"
      },
      "execution_count": 59,
      "outputs": []
    },
    {
      "cell_type": "code",
      "source": [
        "one_hot_encoding(\"커피\", vocab)"
      ],
      "metadata": {
        "colab": {
          "base_uri": "https://localhost:8080/"
        },
        "id": "3e9xluDRrNMr",
        "outputId": "42ed5110-5fea-461b-9d46-e8784f539756"
      },
      "execution_count": 64,
      "outputs": [
        {
          "output_type": "execute_result",
          "data": {
            "text/plain": [
              "[0,\n",
              " 0,\n",
              " 0,\n",
              " 0,\n",
              " 0,\n",
              " 0,\n",
              " 0,\n",
              " 0,\n",
              " 0,\n",
              " 0,\n",
              " 0,\n",
              " 0,\n",
              " 0,\n",
              " 0,\n",
              " 0,\n",
              " 0,\n",
              " 0,\n",
              " 0,\n",
              " 0,\n",
              " 0,\n",
              " 0,\n",
              " 0,\n",
              " 0,\n",
              " 1,\n",
              " 0,\n",
              " 0,\n",
              " 0,\n",
              " 0,\n",
              " 0,\n",
              " 0]"
            ]
          },
          "metadata": {},
          "execution_count": 64
        }
      ]
    },
    {
      "cell_type": "markdown",
      "source": [
        "한글 인코딩 실패함.-> 영어로 진행..!"
      ],
      "metadata": {
        "id": "zNe6nOnZyUXm"
      }
    },
    {
      "cell_type": "markdown",
      "source": [],
      "metadata": {
        "id": "TuUsr54kohhj"
      }
    },
    {
      "cell_type": "code",
      "source": [
        "#1. 생성할 문장 데이터\n",
        "sentence = (\"You can do anything if you want to\"\n",
        "            \"do and never give up even though you meet a difficulty, and if so\"\n",
        "            \"you will eventually reach to your final goal.\")"
      ],
      "metadata": {
        "id": "1toni3uIyd7I"
      },
      "execution_count": 70,
      "outputs": []
    },
    {
      "cell_type": "code",
      "source": [
        "#2. 문자 집합 만들기\n",
        "world_set = list(set(sentence))\n",
        "\n",
        "## 문제(1): 각 문자에 정수 인코딩 (공백도 하나의 원소로 포함)\n",
        "vocab = {c: i for i,c in enumerate(world_set)}"
      ],
      "metadata": {
        "id": "ElknIs1gzyGC"
      },
      "execution_count": 71,
      "outputs": []
    },
    {
      "cell_type": "code",
      "source": [
        "print(world_set)"
      ],
      "metadata": {
        "colab": {
          "base_uri": "https://localhost:8080/"
        },
        "id": "Kdkt8mdCzzoq",
        "outputId": "f3a81fd0-df6e-4e55-9258-4526445cfc9f"
      },
      "execution_count": 72,
      "outputs": [
        {
          "output_type": "stream",
          "name": "stdout",
          "text": [
            "['.', 'a', 'm', 'y', ',', 'f', 's', 't', ' ', 'v', 'l', 'n', 'r', 'i', 'Y', 'h', 'p', 'u', 'c', 'o', 'g', 'e', 'w', 'd']\n"
          ]
        }
      ]
    },
    {
      "cell_type": "code",
      "source": [
        "print(vocab)"
      ],
      "metadata": {
        "colab": {
          "base_uri": "https://localhost:8080/"
        },
        "id": "g8oA_Jqlz1Kg",
        "outputId": "6398f6a6-01ba-4e2a-9a04-ad51b7a86dda"
      },
      "execution_count": 73,
      "outputs": [
        {
          "output_type": "stream",
          "name": "stdout",
          "text": [
            "{'.': 0, 'a': 1, 'm': 2, 'y': 3, ',': 4, 'f': 5, 's': 6, 't': 7, ' ': 8, 'v': 9, 'l': 10, 'n': 11, 'r': 12, 'i': 13, 'Y': 14, 'h': 15, 'p': 16, 'u': 17, 'c': 18, 'o': 19, 'g': 20, 'e': 21, 'w': 22, 'd': 23}\n"
          ]
        }
      ]
    },
    {
      "cell_type": "code",
      "source": [
        "#3. 문자 집합 크기 확인\n",
        "\n",
        "vocab_size = len(vocab)\n",
        "print('문자 집합 크기 : {}'.format(vocab_size))"
      ],
      "metadata": {
        "colab": {
          "base_uri": "https://localhost:8080/"
        },
        "id": "c7Ja8-ZJz2ou",
        "outputId": "daaec608-1bef-4314-d882-b98210425dd8"
      },
      "execution_count": 74,
      "outputs": [
        {
          "output_type": "stream",
          "name": "stdout",
          "text": [
            "문자 집합 크기 : 24\n"
          ]
        }
      ]
    },
    {
      "cell_type": "code",
      "source": [
        "#4. 하이퍼 파라미터 설정(자유롭게 수정해보세요!)\n",
        "\n",
        "hidden_size = vocab_size # 같아야 하는 것 확인!\n",
        "sequence_length = 15  # 너무 길거나 너무 짧게 잡으면 안됩니다!\n",
        "learning_rate = 0.01"
      ],
      "metadata": {
        "id": "rucF10m2-u5P"
      },
      "execution_count": 76,
      "outputs": []
    },
    {
      "cell_type": "code",
      "source": [
        "#5. seqence 길이 단위 자르기\n",
        "\n",
        "# 데이터 구성을 위한 리스트\n",
        "x_data = []\n",
        "y_data = []\n",
        "\n",
        "## 문제(2): 반복문 내에서의 인덱싱을 사용하여 sequence_length 값 단위로 샘플을 잘라 데이터 만들기, y_str은 x_str은 한 칸씩 쉬프트된 sequnce\n",
        "## 아래 결과 코드를 보면 x와 y의 관계가 한칸 차이임을 알 수 있다.\n",
        "for i in range(0, len(sentence) - sequence_length):\n",
        "  x_str = sentence[i:i+sequence_length]\n",
        "  y_str = sentence[i+1:i+sequence_length+1]\n",
        "  print(i, x_str, \"->\", y_str)\n",
        "\n",
        "  # x_str과 y_str이 문자집합에 해당하는 인덱스를 각각 x_data, y_data에 append\n",
        "  x_data.append([vocab[c] for c in x_str])\n",
        "  y_data.append([vocab[d] for d in y_str])"
      ],
      "metadata": {
        "colab": {
          "base_uri": "https://localhost:8080/"
        },
        "id": "r40kCPKp-2RM",
        "outputId": "bd7c3cb0-50ba-47c7-8648-48b9b45b5334"
      },
      "execution_count": 77,
      "outputs": [
        {
          "output_type": "stream",
          "name": "stdout",
          "text": [
            "0 You can do anyt -> ou can do anyth\n",
            "1 ou can do anyth -> u can do anythi\n",
            "2 u can do anythi ->  can do anythin\n",
            "3  can do anythin -> can do anything\n",
            "4 can do anything -> an do anything \n",
            "5 an do anything  -> n do anything i\n",
            "6 n do anything i ->  do anything if\n",
            "7  do anything if -> do anything if \n",
            "8 do anything if  -> o anything if y\n",
            "9 o anything if y ->  anything if yo\n",
            "10  anything if yo -> anything if you\n",
            "11 anything if you -> nything if you \n",
            "12 nything if you  -> ything if you w\n",
            "13 ything if you w -> thing if you wa\n",
            "14 thing if you wa -> hing if you wan\n",
            "15 hing if you wan -> ing if you want\n",
            "16 ing if you want -> ng if you want \n",
            "17 ng if you want  -> g if you want t\n",
            "18 g if you want t ->  if you want to\n",
            "19  if you want to -> if you want tod\n",
            "20 if you want tod -> f you want todo\n",
            "21 f you want todo ->  you want todo \n",
            "22  you want todo  -> you want todo a\n",
            "23 you want todo a -> ou want todo an\n",
            "24 ou want todo an -> u want todo and\n",
            "25 u want todo and ->  want todo and \n",
            "26  want todo and  -> want todo and n\n",
            "27 want todo and n -> ant todo and ne\n",
            "28 ant todo and ne -> nt todo and nev\n",
            "29 nt todo and nev -> t todo and neve\n",
            "30 t todo and neve ->  todo and never\n",
            "31  todo and never -> todo and never \n",
            "32 todo and never  -> odo and never g\n",
            "33 odo and never g -> do and never gi\n",
            "34 do and never gi -> o and never giv\n",
            "35 o and never giv ->  and never give\n",
            "36  and never give -> and never give \n",
            "37 and never give  -> nd never give u\n",
            "38 nd never give u -> d never give up\n",
            "39 d never give up ->  never give up \n",
            "40  never give up  -> never give up e\n",
            "41 never give up e -> ever give up ev\n",
            "42 ever give up ev -> ver give up eve\n",
            "43 ver give up eve -> er give up even\n",
            "44 er give up even -> r give up even \n",
            "45 r give up even  ->  give up even t\n",
            "46  give up even t -> give up even th\n",
            "47 give up even th -> ive up even tho\n",
            "48 ive up even tho -> ve up even thou\n",
            "49 ve up even thou -> e up even thoug\n",
            "50 e up even thoug ->  up even though\n",
            "51  up even though -> up even though \n",
            "52 up even though  -> p even though y\n",
            "53 p even though y ->  even though yo\n",
            "54  even though yo -> even though you\n",
            "55 even though you -> ven though you \n",
            "56 ven though you  -> en though you m\n",
            "57 en though you m -> n though you me\n",
            "58 n though you me ->  though you mee\n",
            "59  though you mee -> though you meet\n",
            "60 though you meet -> hough you meet \n",
            "61 hough you meet  -> ough you meet a\n",
            "62 ough you meet a -> ugh you meet a \n",
            "63 ugh you meet a  -> gh you meet a d\n",
            "64 gh you meet a d -> h you meet a di\n",
            "65 h you meet a di ->  you meet a dif\n",
            "66  you meet a dif -> you meet a diff\n",
            "67 you meet a diff -> ou meet a diffi\n",
            "68 ou meet a diffi -> u meet a diffic\n",
            "69 u meet a diffic ->  meet a difficu\n",
            "70  meet a difficu -> meet a difficul\n",
            "71 meet a difficul -> eet a difficult\n",
            "72 eet a difficult -> et a difficulty\n",
            "73 et a difficulty -> t a difficulty,\n",
            "74 t a difficulty, ->  a difficulty, \n",
            "75  a difficulty,  -> a difficulty, a\n",
            "76 a difficulty, a ->  difficulty, an\n",
            "77  difficulty, an -> difficulty, and\n",
            "78 difficulty, and -> ifficulty, and \n",
            "79 ifficulty, and  -> fficulty, and i\n",
            "80 fficulty, and i -> ficulty, and if\n",
            "81 ficulty, and if -> iculty, and if \n",
            "82 iculty, and if  -> culty, and if s\n",
            "83 culty, and if s -> ulty, and if so\n",
            "84 ulty, and if so -> lty, and if soy\n",
            "85 lty, and if soy -> ty, and if soyo\n",
            "86 ty, and if soyo -> y, and if soyou\n",
            "87 y, and if soyou -> , and if soyou \n",
            "88 , and if soyou  ->  and if soyou w\n",
            "89  and if soyou w -> and if soyou wi\n",
            "90 and if soyou wi -> nd if soyou wil\n",
            "91 nd if soyou wil -> d if soyou will\n",
            "92 d if soyou will ->  if soyou will \n",
            "93  if soyou will  -> if soyou will e\n",
            "94 if soyou will e -> f soyou will ev\n",
            "95 f soyou will ev ->  soyou will eve\n",
            "96  soyou will eve -> soyou will even\n",
            "97 soyou will even -> oyou will event\n",
            "98 oyou will event -> you will eventu\n",
            "99 you will eventu -> ou will eventua\n",
            "100 ou will eventua -> u will eventual\n",
            "101 u will eventual ->  will eventuall\n",
            "102  will eventuall -> will eventually\n",
            "103 will eventually -> ill eventually \n",
            "104 ill eventually  -> ll eventually r\n",
            "105 ll eventually r -> l eventually re\n",
            "106 l eventually re ->  eventually rea\n",
            "107  eventually rea -> eventually reac\n",
            "108 eventually reac -> ventually reach\n",
            "109 ventually reach -> entually reach \n",
            "110 entually reach  -> ntually reach t\n",
            "111 ntually reach t -> tually reach to\n",
            "112 tually reach to -> ually reach to \n",
            "113 ually reach to  -> ally reach to y\n",
            "114 ally reach to y -> lly reach to yo\n",
            "115 lly reach to yo -> ly reach to you\n",
            "116 ly reach to you -> y reach to your\n",
            "117 y reach to your ->  reach to your \n",
            "118  reach to your  -> reach to your f\n",
            "119 reach to your f -> each to your fi\n",
            "120 each to your fi -> ach to your fin\n",
            "121 ach to your fin -> ch to your fina\n",
            "122 ch to your fina -> h to your final\n",
            "123 h to your final ->  to your final \n",
            "124  to your final  -> to your final g\n",
            "125 to your final g -> o your final go\n",
            "126 o your final go ->  your final goa\n",
            "127  your final goa -> your final goal\n",
            "128 your final goal -> our final goal.\n"
          ]
        }
      ]
    },
    {
      "cell_type": "code",
      "source": [
        "# 출력해서 한 칸씩 쉬프트된 것 확인하기!\n",
        "\n",
        "print(x_data[0])\n",
        "print(y_data[0])"
      ],
      "metadata": {
        "colab": {
          "base_uri": "https://localhost:8080/"
        },
        "id": "moOyTcdlz8GM",
        "outputId": "12e21544-d395-4d0d-e6d2-694b085a8e87"
      },
      "execution_count": 78,
      "outputs": [
        {
          "output_type": "stream",
          "name": "stdout",
          "text": [
            "[14, 19, 17, 8, 18, 1, 11, 8, 23, 19, 8, 1, 11, 3, 7]\n",
            "[19, 17, 8, 18, 1, 11, 8, 23, 19, 8, 1, 11, 3, 7, 15]\n"
          ]
        }
      ]
    },
    {
      "cell_type": "code",
      "source": [
        "##6. 입력 시퀀스에 대해 원핫인코딩 수행\n",
        "\n",
        "## 문제(4) : x_data를 원핫인코딩 > numpy의 eye를 쓸 수 있지 않을까?\n",
        "x_one_hot = [np.eye(vocab_size)[x] for x in x_data]\n",
        "\n",
        "##7. 입력 데이터, 레이블데이터 텐서로 변환\n",
        "\n",
        "## 문제(5) : x_one_hot과 y_data 텐서로 변환 : 둘 다 같은 형식의 텐서로 변환하면 될까?? (FloatTensor, LongTesor 중 맞는 것은?)\n",
        "X = torch.FloatTensor(x_one_hot)\n",
        "Y = torch.LongTensor(y_data)"
      ],
      "metadata": {
        "id": "S_3Cnss-z_-8"
      },
      "execution_count": 79,
      "outputs": []
    },
    {
      "cell_type": "code",
      "source": [
        "##8. 크기 확인\n",
        "print('훈련 데이터의 크기 : {}'.format(X.shape))\n",
        "print('레이블의 크기 : {}'.format(Y.shape))"
      ],
      "metadata": {
        "colab": {
          "base_uri": "https://localhost:8080/"
        },
        "id": "MaF4KIPO0CVL",
        "outputId": "e816e049-8ec3-4376-ff32-f5fcc86a0699"
      },
      "execution_count": 80,
      "outputs": [
        {
          "output_type": "stream",
          "name": "stdout",
          "text": [
            "훈련 데이터의 크기 : torch.Size([129, 15, 24])\n",
            "레이블의 크기 : torch.Size([129, 15])\n"
          ]
        }
      ]
    },
    {
      "cell_type": "code",
      "source": [
        "##9.원핫인코딩 결과 샘플 확인하기\n",
        "print(X[0])"
      ],
      "metadata": {
        "colab": {
          "base_uri": "https://localhost:8080/"
        },
        "id": "is2pfh7S0FNE",
        "outputId": "620dca9a-2e45-4883-c109-34a36a31b089"
      },
      "execution_count": 81,
      "outputs": [
        {
          "output_type": "stream",
          "name": "stdout",
          "text": [
            "tensor([[0., 0., 0., 0., 0., 0., 0., 0., 0., 0., 0., 0., 0., 0., 1., 0., 0., 0.,\n",
            "         0., 0., 0., 0., 0., 0.],\n",
            "        [0., 0., 0., 0., 0., 0., 0., 0., 0., 0., 0., 0., 0., 0., 0., 0., 0., 0.,\n",
            "         0., 1., 0., 0., 0., 0.],\n",
            "        [0., 0., 0., 0., 0., 0., 0., 0., 0., 0., 0., 0., 0., 0., 0., 0., 0., 1.,\n",
            "         0., 0., 0., 0., 0., 0.],\n",
            "        [0., 0., 0., 0., 0., 0., 0., 0., 1., 0., 0., 0., 0., 0., 0., 0., 0., 0.,\n",
            "         0., 0., 0., 0., 0., 0.],\n",
            "        [0., 0., 0., 0., 0., 0., 0., 0., 0., 0., 0., 0., 0., 0., 0., 0., 0., 0.,\n",
            "         1., 0., 0., 0., 0., 0.],\n",
            "        [0., 1., 0., 0., 0., 0., 0., 0., 0., 0., 0., 0., 0., 0., 0., 0., 0., 0.,\n",
            "         0., 0., 0., 0., 0., 0.],\n",
            "        [0., 0., 0., 0., 0., 0., 0., 0., 0., 0., 0., 1., 0., 0., 0., 0., 0., 0.,\n",
            "         0., 0., 0., 0., 0., 0.],\n",
            "        [0., 0., 0., 0., 0., 0., 0., 0., 1., 0., 0., 0., 0., 0., 0., 0., 0., 0.,\n",
            "         0., 0., 0., 0., 0., 0.],\n",
            "        [0., 0., 0., 0., 0., 0., 0., 0., 0., 0., 0., 0., 0., 0., 0., 0., 0., 0.,\n",
            "         0., 0., 0., 0., 0., 1.],\n",
            "        [0., 0., 0., 0., 0., 0., 0., 0., 0., 0., 0., 0., 0., 0., 0., 0., 0., 0.,\n",
            "         0., 1., 0., 0., 0., 0.],\n",
            "        [0., 0., 0., 0., 0., 0., 0., 0., 1., 0., 0., 0., 0., 0., 0., 0., 0., 0.,\n",
            "         0., 0., 0., 0., 0., 0.],\n",
            "        [0., 1., 0., 0., 0., 0., 0., 0., 0., 0., 0., 0., 0., 0., 0., 0., 0., 0.,\n",
            "         0., 0., 0., 0., 0., 0.],\n",
            "        [0., 0., 0., 0., 0., 0., 0., 0., 0., 0., 0., 1., 0., 0., 0., 0., 0., 0.,\n",
            "         0., 0., 0., 0., 0., 0.],\n",
            "        [0., 0., 0., 1., 0., 0., 0., 0., 0., 0., 0., 0., 0., 0., 0., 0., 0., 0.,\n",
            "         0., 0., 0., 0., 0., 0.],\n",
            "        [0., 0., 0., 0., 0., 0., 0., 1., 0., 0., 0., 0., 0., 0., 0., 0., 0., 0.,\n",
            "         0., 0., 0., 0., 0., 0.]])\n"
          ]
        }
      ]
    },
    {
      "cell_type": "code",
      "source": [
        "##10. 레이블 데이터 샘플 확인하기\n",
        "print(Y[0])"
      ],
      "metadata": {
        "colab": {
          "base_uri": "https://localhost:8080/"
        },
        "id": "rlXl-HE-0Gx2",
        "outputId": "1d87d612-36f5-41a2-d758-930d8ca6eaf8"
      },
      "execution_count": 82,
      "outputs": [
        {
          "output_type": "stream",
          "name": "stdout",
          "text": [
            "tensor([19, 17,  8, 18,  1, 11,  8, 23, 19,  8,  1, 11,  3,  7, 15])\n"
          ]
        }
      ]
    },
    {
      "cell_type": "code",
      "source": [
        "##11. RNN 모델 구현\n",
        "\n",
        "##문제(6) : 기본 pytorch 인자 넣기 연습 + forward 채우기\n",
        "### 조건 : rnn layer 2개 쌓기 + 마지막은 fc layer\n",
        "### batch_first 설정 필요할까? (유튜브 강의 참고)\n",
        "\n",
        "class Net(torch.nn.Module):\n",
        "  def __init__(self, input_dim, hidden_dim, layers):\n",
        "    super(Net, self).__init__()\n",
        "    self.rnn = torch.nn.RNN(input_size=input_dim,hidden_size=hidden_dim,batch_first=True)\n",
        "    self.fc = torch.nn.Linear(hidden_dim,hidden_dim,bias=True)\n",
        "  \n",
        "  def forward(self, x):\n",
        "    x,_status = self.rnn(x)\n",
        "    x=self.fc(x)\n",
        "    return x"
      ],
      "metadata": {
        "id": "GagahOtm0I6L"
      },
      "execution_count": 83,
      "outputs": []
    },
    {
      "cell_type": "code",
      "source": [
        "net = Net(vocab_size, hidden_size, 2)"
      ],
      "metadata": {
        "id": "L6CCtxTB0K96"
      },
      "execution_count": 84,
      "outputs": []
    },
    {
      "cell_type": "code",
      "source": [
        "##12. loss function\n",
        "criterion = torch.nn.CrossEntropyLoss()\n",
        "\n",
        "##13. optimizer\n",
        "optimizer = optim.Adam(net.parameters(), learning_rate)"
      ],
      "metadata": {
        "id": "BIMZEhje0M9q"
      },
      "execution_count": 85,
      "outputs": []
    },
    {
      "cell_type": "code",
      "source": [
        "##14. 출력 크기 점검\n",
        "outputs = net(X)\n",
        "print(outputs.shape)"
      ],
      "metadata": {
        "colab": {
          "base_uri": "https://localhost:8080/"
        },
        "id": "q0BxlSM40OJd",
        "outputId": "a52fd8f2-01f7-49e3-b272-cda85206c5b6"
      },
      "execution_count": 86,
      "outputs": [
        {
          "output_type": "stream",
          "name": "stdout",
          "text": [
            "torch.Size([129, 15, 24])\n"
          ]
        }
      ]
    },
    {
      "cell_type": "code",
      "source": [
        "##15. Training 시작\n",
        "\n",
        "for i in range(100):\n",
        "    optimizer.zero_grad()\n",
        "    outputs = net(X)\n",
        "    ##문제(7) : outputs, Y 형태 그대로 넣으면 안되죠. view 함수를 이용해 loss값을 계산해봅시다.\n",
        "    loss = criterion(outputs.view(-1, vocab_size), Y.view(-1))\n",
        "    loss.backward()\n",
        "    optimizer.step()\n",
        "\n",
        "    #16. 예측결과 확인\n",
        "    results = outputs.argmax(dim=2)\n",
        "    predict_str = \"\"\n",
        "    for j, result in enumerate(results):\n",
        "        if j == 0: # 처음에는 예측 결과를 전부 가져오기\n",
        "            predict_str += ''.join([world_set[t] for t in result])\n",
        "        else: # 그 다음에는 마지막 글자만 반복 추가\n",
        "            predict_str += world_set[result[-1]]\n",
        "\n",
        "    print(predict_str)"
      ],
      "metadata": {
        "colab": {
          "base_uri": "https://localhost:8080/"
        },
        "id": "vPvnje9m0QK3",
        "outputId": "3ca2d856-faf2-41cf-d116-862f2b322017"
      },
      "execution_count": 87,
      "outputs": [
        {
          "output_type": "stream",
          "name": "stdout",
          "text": [
            "ftetetetetttetfttettt tttetttetteteettettetetetttfttetrtttetettetetttetertttttet ttettettttette tetteetttrrtttteeetrrttetteetettteett tetrttttr\n",
            "t ete e e  tetette  t tt ettte  e e  tet e  te  t ttet   te et  te t ete tett et  t tt ttttet e te teette   t te et  tte t e e tt et   et    e \n",
            "t  t                   t  tt                         t                te                              tt          t    e           t           \n",
            "                                                                                                                                               \n",
            "                                                                                                                                               \n",
            "                                                                                                                                               \n",
            "                                                                                                                                               \n",
            "                                                                                                                                               \n",
            "                                                                                                                                               \n",
            "                                                                                                                                               \n",
            "                                                                                                                                               \n",
            "                                                                       e                                                                       \n",
            "                           e                                           e                               e                                       \n",
            "    e               e      e         e   e                             e                      e        e     e         e                       \n",
            "    en              e      en   e    e   e              e              e    e                 e        e    ee         e                       \n",
            "    en     n    n   e     ten   e    e   e              e             ten   e             n   e       ten   oe    n    e     e                 \n",
            "   ten     n   en   e     ten   e    en  e e    n       e         no  ten   en            n   e       ten   oe    n    enn   e                 \n",
            "   ten     n   en   e     ten  ae    en  e e   en       e    e   eno  ten   en    f       n   e       ten   oe    n    enn   e                 \n",
            "   ten     n   en   e     ten  ae    en  e e   en   e   e    e   eeo  ten   en    f       n   e       ten   oe    nn   enn   e                 \n",
            "   ten     n   en   e to  ten   en   ed  e e   en   e  oe    e    eo  tenn  en    fe      n   e       oen   oe    nn   enn   en     e n        \n",
            "   ten     nd  en   f to  ten   e    ed  e e   inn     oe    e    eo  tenn  en    fe      nd  e to    oen   oe    nn   enn   en     e n        \n",
            "o  ten    and  en   f to  ten   e    ed  e e   inn     oe    e    eo   enn  en    fe     and  f to    aen   oe    nn   enn   e      een        \n",
            "o  ten    and   n   f to  ten   e    ed  e e   ife     oe    e    ao   ent  en    fe     and  f to    aen   oe    nl   enn   e      een        \n",
            "o  ten    aod   n   f to  ten   e    od  e e   ife     ee    e    ao  tent  od    fe     and  f to    aed   oe    nd   enn   e to   fen        \n",
            "o  ten    aod   n   f to  tent  ed   od  e e   ife    aee   oe   iao  tent  od    fe     and  f to    aed   oe    nd   enny  e to   fen      n \n",
            "o  aent   aod   n   f to  tent aed   od  e e   ife    aee   oed  iao  tent  od    fel    and  f to    aed   oen   nd   enny  e to   fen    i n \n",
            "o  aent   and  in  if to  tent aod   od  e e   ife t  aee   ood  iaou went  nd    fel    and  f to    aed   oel   nd   enny  e to   ffn    i n \n",
            "o  went   and  in  if tou went aod   od  e e   ife t  aoe   ood  iaou went  nd    fel    and  f to    aed   oel   nd   enny  e to   fin    iul \n",
            "o  went   and  ine if tou went aod  aod  e ey  ife t  aoe   ood  iaou went and    fel  o and  f to    wed   oen   nd   enny  o to   ainl   iul \n",
            "o  went   and  ine if tou went aod  aod  eney  ife t  aoey  ood  iaou went and  f fel  o and  f tou u wen   oen   nd  aenny  o to   ainl   iunl\n",
            "o  went   and hine if tou went aod  aod  enen  ive t  aoen  ood  iyou went and  f fel  o and  f tou u wen   oen   nd  aenny  o tou  ainl   iunl\n",
            "ou went   and hine if tou went aod  aod  enen  ive t  aoen  oou  iyou wentuand  f feltyo and  f tou u wen   oen   nd  aenny  o tou  ainl   iunl\n",
            "ou wentt  and hone if tou went aod  aod  enen give t  aoen  oou  iyou wentuand  f feltyo and  f tou u wen   oen   nd  aenny  o tou  find   iunl\n",
            "ou wentt  and hone if tou went aod  aod  enen give t  even  oou  eyou wentuand  f feltyo and  f tou u wen   oent and  aenny  o tou  find    unl\n",
            "ou wentt  and hone if tou went aod  aod  enen gine te even toou  eyou wentuand  f feltyo and  f aou u wenl  oent and  aenny  o tou  findl g unl\n",
            "ou wentt  and hone if tou went aod  and  enen gine te eventtooug eyou wentuand  f feltyo and  f aou u wenl  oent and  aenny  o tou  findl g unl\n",
            "ou wentt  and hone if tou went aod  and  enen gine te eventtooug eyou wentuand  f feltyo and  f aouou wenl  vent and  aenny  o you  findl g unl\n",
            "ou wentt  and hong if tou went aod  and  enen gine te eventteoug eyou wentuand  fifeltyo and  f aouou wenl  vent and  aennu  o you  findl g unl\n",
            "ou wentt  and hong if you went aod  and  enen gine te eventteoug iyou wentuand  ficeltyo and  f aouou wenl  vent and  aennu  o  ou  findl g unl\n",
            "ou wentt  and hong if you went aod  and  enen gine te eventteoug iyou wentuand  ficlltyo and  f aouou wenl  vent and  aennu  o  ou  findl g unl\n",
            "ou wentt  and hong if you went aod  and  enen gine te eventteoug iyou wentuand  ficlltyo and  f aouou wenl  vent andy aennu  o  ou  findl    nl\n",
            "ou wentt  and hong if you went aod  and  enen gine te eventteoug iyou wentuand  ficlltyo and  f aouou wenl  ventuandy aennu to  ou  findl g  nl\n",
            "ou wentt  and hong if you went aod  and eenen gine tg eventteoughiyou wentuand  ficultyo and  f yoyou wenl  ventuandy aennu to  ou  findl g  nl\n",
            "ou wentt  and hong if you went aod  and eeven gine tg even teoughiyou wentuand  ficultyo and  f yoyou winl  ventuandy aeanu to  ou  findl g unl\n",
            "ou wentt  and hong if you went aod  and eeven gine tg even teoughiyou wentuand  ficultyo and  f yoyou winl  ventuandy aeanu to  ou  findl g unl\n",
            "ou wentt  and hong if you went aod  and  even gine tg even teoughiyou wentuand fficultyo and  f yoyou winl  ventuandy aeanu to  ou  findl g unl\n",
            "ou weltt  andthong if you went aod  and  even gine tg even teoughiyou weetuand fficultyo and  f yoyou winl  ventuandy aeanu to  ou  findl g unl\n",
            "ou weltt  andthong if you went aod  and teven gine tg even teoughiyou weetuand fficultyo and if soyou winl  ventuanly reanu to  ou  findl g unl\n",
            "ou weltt  andthong if you went aod  and teven gine tg even thoughiyou weet and fficultyo and if soyou winl  ventuanly reanu to  ou  findl g unl\n",
            "ou weltt  andthong if you went aod  and ieven gine tg eventthoughiyou weet and fficultyo and if soyou winl  ventuanly realu to you  findl g unl\n",
            "ou weltt  andthong if you went aod  and ieven gine tg eventthoughiyou weet and fficultyo and if soyou winl  ventuanly realu to you  findl g unl\n",
            "ou weltt  andthong if you went aod  and ieven gine tg eventthoughiyou weet and fficultyo and if soyou will  ventuanly realu to you  findl g unl\n",
            "ou wentto andthing if you went aod  and ieven give tg eventthough you weet and fficulty, and if soyou will  ventuanly reacu to you  findl g unl\n",
            "ou wentto andthong if you went aod  and ieven give tg eventthough you weet and fficulty, and if soyou will  ventuanly reacu to you  findl g unl\n",
            "ou wentto andthong if you went aodo and ieven give tg even though you weet and fficulty, and if soyou will eventually reacu to you  findl g dnl\n",
            "ou wentto anythong if you went aodo and ieven give tg even though you weet and fficulty, and if soyou will eventually reach to you  findl g dnl\n",
            "ou wentto anythong if you went aodo and iever give tg even though you weet and fficulty, and if soyou will eventually reach to you  findl g dnl\n",
            "ou wentto anythong if you went aodo and iever give tg even though you weet and fficulty, and if soyou will eventually reach to you  final gidll\n",
            "ou wentto anythong if you went todo and iever give tg even though you weet and fficulty, and if soyou will eventually reach to you  final gidll\n",
            "ou wentto anything if you went todo and iever give tg even though you weet and fficulty, and if soyou will eventually reach to you  final gidll\n",
            "ou wentto anything if you went todo and iever give tg even though you weet and fficulty, and if soyou will eventually reach to you  final gidll\n",
            "ou wentto anything if you went todo and iever give tg even though you weet and fficulty, and if soyou will eventually reach to you  final gidll\n",
            "ou wentto anything if you want todo and iever give ug even though you weet and fficulty, and if soyou will eventually reach to you  final gidll\n",
            "ou wentto anything if you want todo and iever give up even though you weet andofficulty, and if soyou will eventually reach to you  final gidll\n",
            "ou wentto anything if you want todo and iever give up even though you weet andofficulty, and if soyou will eventually reach to you  final gidll\n",
            "ou wentto anything if you want todo and iever give up even though you weet andofficulty, and if soyou will eventually reach to your final gidll\n",
            "ou wentto anything if you want todo and iever give up even though you weet andofficulty, and if soyou will eventually reach to your final gidll\n",
            "ou wentto anything if you want todo and iever give up even though you weet andofficulty, and if soyou will eventually reach to your final gidll\n",
            "ou wentto anything if you want todo and iever give up even though you weet andofficulty, and if soyou will eventually reach to your final gidll\n",
            "ou wentto anything if you want todo and iever give up even though you weet andofficulty, and if soyou will eventually reach to your final gidll\n",
            "ou wentto anything if you want todo and never give up even though you weet andofficulty, and if soyou will eventually reach to your final gidll\n",
            "ou wentto anything if you want todo and never give up even though you weet andofficulty, and if soyou will eventually reach to your final gidll\n",
            "ou wentto anything if you want todo and never give up even though you weet a dofficulty, and if soyou will eventually reach to your final gidll\n",
            "ou wentto anything if you want todo and never give up even though you weet a dofficulty, and if soyou will eventually reach to your final gidll\n",
            "ou wentto anything if you want todo and never give up even though you weet a dofficulty, and if soyou will eventually reach to your final gidll\n",
            "ou wentdo anything if you want todo and never give up even though you weet a difficulty, and if soyou will eventually reach to your final gidll\n",
            "ou wentdo anything if you want todo and never give up even though you weet a difficulty, and if soyou will eventually reach to your final gidll\n",
            "ou wantdo anything if you want todo and never give up even though you weet a difficulty, and if soyou will eventually reach to your final gidll\n",
            "ou wantdo anything if you want todo and never give up even though you weet a difficulty, and if soyou will eventually reach to your final gidll\n",
            "ou wantdo anything if you want todo and never give up even though you weet a difficulty, and if soyou will eventually reach to your final gidll\n",
            "ou wantdo anything if you want todo and never give up even though you weet a difficulty, and if soyou will eventually reach to your final gidll\n",
            "ou wantdo anything if you want todo and never give up even though you weet a difficulty, and if soyou will eventually reach to your final gidll\n",
            "ou wantdo anything if you want todo and never give up even though you weet a difficulty, and if soyou will eventually reach to your final giall\n",
            "ou wantdo anything if you want todo and never give up even though you weet a difficulty, and if soyou will eventually reach to your final giall\n",
            "ou wantdo anything if you want todo and never give up even though you weet a difficulty, and if soyou will eventually reach to your final giall\n",
            "ou wantdo anything if you want todo and never give up even though you weet a difficulty, and if soyou will eventually reach to your final giall\n",
            "ou wantdo anything if you want todo and never give up even though you meet a difficulty, and if soyou will eventually reach to your final giall\n",
            "ou wantdo anything if you want todo and never give up even though you meet a difficulty, and if soyou will eventually reach to your final giall\n",
            "ou wantdo anything if you want todo and never give up even though you meet a difficulty, and if soyou will eventually reach to your final giall\n",
            "ou wantdo anything if you want todo and never give up even though you meet a difficulty, and if soyou will eventually reach to your final giall\n",
            "ou wantdo anything if you want todo and never give up even though you meet a difficulty, and if soyou will eventually reach to your final giall\n",
            "ou wantdo anything if you want todo and never give up even though you meet a difficulty, and if soyou will eventually reach to your final giall\n",
            "ou wantdo anything if you want todo and never give up even though you meet a difficulty, and if soyou will eventually reach to your final giall\n",
            "ou wantdo anything if you want todo and never give up even though you meet a difficulty, and if soyou will eventually reach to your final giall\n",
            "ou wantdo anything if you want todo and never give up even though you meet a difficulty, and if soyou will eventually reach to your final giall\n",
            "ou wantdo anything if you want todo and never give up even though you meet a difficulty, and if soyou will eventually reach to your final giall\n",
            "ou wantdo anything if you want todo and never give up even though you meet a difficulty, and if soyou will eventually reach to your final giall\n",
            "ou wantdo anything if you want todo and never give up even though you meet a difficulty, and if soyou will eventually reach to your final giall\n",
            "ou wantdo anything if you want todo and never give up even though you meet a difficulty, and if soyou will eventually reach to your final giall\n",
            "ou wantdo anything if you want todo and never give up even though you meet a difficulty, and if soyou will eventually reach to your final giall\n"
          ]
        }
      ]
    },
    {
      "cell_type": "code",
      "source": [
        "predict_str"
      ],
      "metadata": {
        "colab": {
          "base_uri": "https://localhost:8080/",
          "height": 35
        },
        "id": "pO6xwPn80TfR",
        "outputId": "527e100c-43c3-46a8-efbb-2cbc566bd199"
      },
      "execution_count": 88,
      "outputs": [
        {
          "output_type": "execute_result",
          "data": {
            "text/plain": [
              "'ou wantdo anything if you want todo and never give up even though you meet a difficulty, and if soyou will eventually reach to your final giall'"
            ],
            "application/vnd.google.colaboratory.intrinsic+json": {
              "type": "string"
            }
          },
          "metadata": {},
          "execution_count": 88
        }
      ]
    }
  ]
}